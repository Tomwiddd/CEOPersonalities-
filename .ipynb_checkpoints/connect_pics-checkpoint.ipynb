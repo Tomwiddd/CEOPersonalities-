{
 "cells": [
  {
   "cell_type": "code",
   "execution_count": 1,
   "id": "6839d1cf-ded7-4c97-8bca-7dd06781475c",
   "metadata": {},
   "outputs": [
    {
     "ename": "ModuleNotFoundError",
     "evalue": "No module named 'pandas'",
     "output_type": "error",
     "traceback": [
      "\u001b[31m---------------------------------------------------------------------------\u001b[39m",
      "\u001b[31mModuleNotFoundError\u001b[39m                       Traceback (most recent call last)",
      "\u001b[36mCell\u001b[39m\u001b[36m \u001b[39m\u001b[32mIn[1]\u001b[39m\u001b[32m, line 2\u001b[39m\n\u001b[32m      1\u001b[39m \u001b[38;5;28;01mimport\u001b[39;00m\u001b[38;5;250m \u001b[39m\u001b[34;01mos\u001b[39;00m\n\u001b[32m----> \u001b[39m\u001b[32m2\u001b[39m \u001b[38;5;28;01mimport\u001b[39;00m\u001b[38;5;250m \u001b[39m\u001b[34;01mpandas\u001b[39;00m\u001b[38;5;250m \u001b[39m\u001b[38;5;28;01mas\u001b[39;00m\u001b[38;5;250m \u001b[39m\u001b[34;01mpd\u001b[39;00m\n\u001b[32m      4\u001b[39m \u001b[38;5;66;03m# Load and clean DataFrame\u001b[39;00m\n\u001b[32m      5\u001b[39m ceo_df = pd.read_csv(\u001b[33m\"\u001b[39m\u001b[33mceo_face_analysis.csv\u001b[39m\u001b[33m\"\u001b[39m)\n",
      "\u001b[31mModuleNotFoundError\u001b[39m: No module named 'pandas'"
     ]
    }
   ],
   "source": [
    "import os\n",
    "import pandas as pd\n",
    "\n",
    "# Load and clean DataFrame\n",
    "ceo_df = pd.read_csv(\"ceo_face_analysis.csv\")\n",
    "ceo_df.columns = ceo_df.columns.str.strip()\n",
    "\n",
    "# Generate the image path regardless of whether the file exists\n",
    "def generate_image_path(row):\n",
    "    ceo = row['CEO'].strip()\n",
    "    year = str(row['Year']).strip()\n",
    "    return f\"modified_pictures/{ceo}/{year}.jpg\"\n",
    "\n",
    "# Apply and save\n",
    "ceo_df['Image Path'] = ceo_df.apply(generate_image_path, axis=1)\n",
    "ceo_df.to_csv(\"output_yearly.csv\", index=False)"
   ]
  }
 ],
 "metadata": {
  "kernelspec": {
   "display_name": "Python 3 (ipykernel)",
   "language": "python",
   "name": "python3"
  },
  "language_info": {
   "codemirror_mode": {
    "name": "ipython",
    "version": 3
   },
   "file_extension": ".py",
   "mimetype": "text/x-python",
   "name": "python",
   "nbconvert_exporter": "python",
   "pygments_lexer": "ipython3",
   "version": "3.13.3"
  }
 },
 "nbformat": 4,
 "nbformat_minor": 5
}
