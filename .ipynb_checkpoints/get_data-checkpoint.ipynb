{
 "cells": [
  {
   "cell_type": "code",
   "execution_count": 16,
   "id": "e9f3da13-468c-4360-b1f8-631e5ce593cc",
   "metadata": {},
   "outputs": [
    {
     "name": "stdout",
     "output_type": "stream",
     "text": [
      "File saved to data/SP500_IT_Sector_Companies.csv\n"
     ]
    }
   ],
   "source": [
    "import pandas as pd\n",
    "\n",
    "companies = [\n",
    "    \"Apple Inc. (AAPL)\", \"Microsoft Corporation (MSFT)\", \"NVIDIA Corporation (NVDA)\", \"Broadcom Inc. (AVGO)\",\n",
    "    \"Adobe Inc. (ADBE)\", \"Cisco Systems, Inc. (CSCO)\", \"Oracle Corporation (ORCL)\", \"Salesforce, Inc. (CRM)\",\n",
    "    \"Intel Corporation (INTC)\", \"Texas Instruments Inc. (TXN)\", \"Qualcomm Incorporated (QCOM)\",\n",
    "    \"International Business Machines Corporation (IBM)\", \"PayPal Holdings, Inc. (PYPL)\", \"ServiceNow, Inc. (NOW)\",\n",
    "    \"Intuit Inc. (INTU)\", \"Advanced Micro Devices, Inc. (AMD)\", \"HP Inc. (HPQ)\", \"Micron Technology, Inc. (MU)\",\n",
    "    \"Analog Devices, Inc. (ADI)\", \"Lam Research Corporation (LRCX)\", \"Applied Materials, Inc. (AMAT)\",\n",
    "    \"KLA Corporation (KLAC)\", \"Marvell Technology, Inc. (MRVL)\", \"Cadence Design Systems, Inc. (CDNS)\",\n",
    "    \"Synopsys, Inc. (SNPS)\", \"Fortinet, Inc. (FTNT)\", \"F5, Inc. (FFIV)\", \"Arista Networks, Inc. (ANET)\",\n",
    "    \"Motorola Solutions, Inc. (MSI)\", \"Western Digital Corporation (WDC)\", \"Seagate Technology Holdings PLC (STX)\",\n",
    "    \"Xilinx, Inc. (XLNX)\", \"NortonLifeLock Inc. (NLOK)\", \"Akamai Technologies, Inc. (AKAM)\", \"VeriSign, Inc. (VRSN)\",\n",
    "    \"Keysight Technologies, Inc. (KEYS)\", \"Gartner, Inc. (IT)\", \"EPAM Systems, Inc. (EPAM)\",\n",
    "    \"Jack Henry & Associates, Inc. (JKHY)\", \"CDW Corporation (CDW)\", \"ANSYS, Inc. (ANSS)\",\n",
    "    \"Amphenol Corporation (APH)\", \"ON Semiconductor Corporation (ON)\", \"Microchip Technology Incorporated (MCHP)\",\n",
    "    \"Skyworks Solutions, Inc. (SWKS)\", \"Monolithic Power Systems, Inc. (MPWR)\", \"Enphase Energy, Inc. (ENPH)\",\n",
    "    \"SolarEdge Technologies, Inc. (SEDG)\", \"Coherent Corp. (COHR)\", \"Teradyne, Inc. (TER)\",\n",
    "    \"Zebra Technologies Corporation (ZBRA)\", \"Trimble Inc. (TRMB)\", \"Tyler Technologies, Inc. (TYL)\",\n",
    "    \"Cognizant Technology Solutions Corporation (CTSH)\", \"DXC Technology Company (DXC)\", \"Leidos Holdings, Inc. (LDOS)\",\n",
    "    \"Science Applications International Corporation (SAIC)\", \"Lumen Technologies, Inc. (LUMN)\",\n",
    "    \"Corning Incorporated (GLW)\", \"NetApp, Inc. (NTAP)\", \"Citrix Systems, Inc. (CTXS)\",\n",
    "    \"Juniper Networks, Inc. (JNPR)\", \"CommScope Holding Company, Inc. (COMM)\", \"Ciena Corporation (CIEN)\",\n",
    "    \"Aruba Networks, Inc. (ARUN)\", \"Palo Alto Networks, Inc. (PANW)\", \"Check Point Software Technologies Ltd. (CHKP)\",\n",
    "    \"VMware, Inc. (VMW)\"\n",
    "]\n",
    "\n",
    "\n",
    "df = pd.DataFrame(companies, columns=[\"Company\"])\n",
    "\n",
    "# Save to the repo's folder\n",
    "file_path = \"data/SP500_IT_Sector_Companies.csv\"  # or whatever your folder is\n",
    "df.to_csv(file_path, index=False)\n",
    "\n",
    "print(f\"File saved to {file_path}\")"
   ]
  }
 ],
 "metadata": {
  "kernelspec": {
   "display_name": "Python [conda env:base] *",
   "language": "python",
   "name": "conda-base-py"
  },
  "language_info": {
   "codemirror_mode": {
    "name": "ipython",
    "version": 3
   },
   "file_extension": ".py",
   "mimetype": "text/x-python",
   "name": "python",
   "nbconvert_exporter": "python",
   "pygments_lexer": "ipython3",
   "version": "3.12.7"
  }
 },
 "nbformat": 4,
 "nbformat_minor": 5
}
