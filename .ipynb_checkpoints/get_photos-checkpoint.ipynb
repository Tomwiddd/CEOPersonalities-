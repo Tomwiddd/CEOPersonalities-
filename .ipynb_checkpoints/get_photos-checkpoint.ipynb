{
 "cells": [
  {
   "cell_type": "code",
   "execution_count": 1,
   "id": "94ec0f66-399e-4e9b-8192-ae8484afa370",
   "metadata": {},
   "outputs": [],
   "source": [
    "import os\n",
    "import pandas as pd\n",
    "from selenium import webdriver\n",
    "from selenium.webdriver.chrome.options import Options\n",
    "from selenium.webdriver.common.by import By\n",
    "from selenium.webdriver.support.ui import WebDriverWait\n",
    "from selenium.webdriver.support import expected_conditions as EC\n",
    "from selenium.webdriver.common.action_chains import ActionChains\n",
    "import urllib.parse\n",
    "from urllib.parse import quote\n",
    "import requests\n",
    "import re\n",
    "import time\n",
    "import mimetypes\n",
    "import tqdm"
   ]
  },
  {
   "cell_type": "code",
   "execution_count": 2,
   "id": "9ed0cf1a-a75a-4e69-9498-c1e124a7aa26",
   "metadata": {},
   "outputs": [],
   "source": [
    "# Load the CEO data\n",
    "df = pd.read_csv(\"ceo_data.csv\")\n",
    "df = df[df['Company'] != 'DXC Technology Company']\n",
    "df.to_csv(\"ceo_data.csv\", index=False)"
   ]
  },
  {
   "cell_type": "code",
   "execution_count": 3,
   "id": "9009349f-631d-4274-b3c0-1fc59cc08d23",
   "metadata": {},
   "outputs": [],
   "source": [
    "base_url = \"https://www.google.com/search?q={query}&tbm=isch&tbs=cdr:1,cd_min:{start_date},cd_max:{end_date}\""
   ]
  },
  {
   "cell_type": "code",
   "execution_count": 4,
   "id": "ab3b0f9e-d703-4dd7-9188-54e51ac0c649",
   "metadata": {},
   "outputs": [],
   "source": [
    "# Generate URLs for each CEO\n",
    "search_urls = []\n",
    "for _, row in df.iterrows():\n",
    "    name = row[\"CEO\"]\n",
    "    firm = row[\"Company\"]\n",
    "    start_year = row[\"Year\"]\n",
    "    current_year = 2019  # Set this to the present year or desired end year\n",
    "    \n",
    "    for year in range(start_year, current_year + 1):\n",
    "        query = quote(f\"{name} {firm}\")  # Encode the search query\n",
    "        url = base_url.format(query=query, start_date=f\"1/1/{year}\", end_date=f\"12/31/{year}\")\n",
    "        search_urls.append((name, year, url))\n",
    "        break"
   ]
  },
  {
   "cell_type": "code",
   "execution_count": 5,
   "id": "9dbb8cd1-c01c-4822-9105-9588e5e1a303",
   "metadata": {},
   "outputs": [
    {
     "name": "stdout",
     "output_type": "stream",
     "text": [
      "Search URLs saved to ceo_image_search_urls.csv\n"
     ]
    }
   ],
   "source": [
    "# Save the URLs to a CSV file\n",
    "output_filename = \"ceo_image_search_urls.csv\"\n",
    "search_df = pd.DataFrame(search_urls, columns=[\"Name\", \"Year\", \"Search_URL\"])\n",
    "search_df\n",
    "search_df.to_csv(output_filename, index=False)\n",
    "\n",
    "print(f\"Search URLs saved to {output_filename}\")"
   ]
  },
  {
   "cell_type": "code",
   "execution_count": null,
   "id": "3e00355a-fa00-4687-bfbc-4f11dbc09a65",
   "metadata": {},
   "outputs": [],
   "source": []
  },
  {
   "cell_type": "code",
   "execution_count": 6,
   "id": "a7c034de-9b7d-472d-ab7d-221aa2008ab3",
   "metadata": {
    "scrolled": true
   },
   "outputs": [
    {
     "name": "stderr",
     "output_type": "stream",
     "text": [
      "Scraping:   0%|                                         | 0/130 [00:00<?, ?it/s]"
     ]
    },
    {
     "name": "stdout",
     "output_type": "stream",
     "text": [
      "https://www.google.com/search?q=John%20Jumper%20Leidos%20Holdings%2C%20Inc.&tbm=isch&tbs=cdr:1,cd_min:1/1/2010,cd_max:12/31/2010\n",
      "John Jumper 2010\n",
      "hover start\n",
      "hover done\n",
      "Found 66 potential image elements\n"
     ]
    },
    {
     "name": "stderr",
     "output_type": "stream",
     "text": [
      "Scraping:   1%|▎                                | 1/130 [00:08<19:20,  9.00s/it]"
     ]
    },
    {
     "name": "stdout",
     "output_type": "stream",
     "text": [
      "element 0 has url https://techinquiry.org/logos/general_services_administration.svg\n",
      "element 1 has url https://techinquiry.org/logos/defense_human_resources_activity.png\n",
      "element 2 has url https://www.dnequipment.com/store/pc/catalog/Fred%20Cain%20AC-R45S.jpg\n",
      "element 3 has url http://athpod.com/wp-content/uploads/2019/11/Chloe-Scott-Eli.jpg\n",
      "https://www.google.com/search?q=John%20Jumper%20Leidos%20Holdings%2C%20Inc.&tbm=isch&tbs=cdr:1,cd_min:1/1/2011,cd_max:12/31/2011\n",
      "John Jumper 2011\n",
      "hover start\n",
      "hover done\n",
      "Found 100 potential image elements\n"
     ]
    },
    {
     "name": "stderr",
     "output_type": "stream",
     "text": [
      "Scraping:   2%|▌                                | 2/130 [00:17<18:24,  8.63s/it]"
     ]
    },
    {
     "name": "stdout",
     "output_type": "stream",
     "text": [
      "element 0 has url https://arc-anglerfish-washpost-prod-washpost.s3.amazonaws.com/public/X5P5AXSFZQI6JNBXDJZWQICIAQ\n",
      "element 1 has url https://cdn.kscope.io/4cafdb236efada5012535abdb6170229-g229902g02b91.jpg\n",
      "element 2 has url https://techinquiry.org/logos/defense_technical_information_center.svg\n",
      "element 3 has url https://techinquiry.org/logos/united_states_air_force_special_operations_command.svg\n",
      "https://www.google.com/search?q=John%20Jumper%20Leidos%20Holdings%2C%20Inc.&tbm=isch&tbs=cdr:1,cd_min:1/1/2012,cd_max:12/31/2012\n",
      "John Jumper 2012\n",
      "hover start\n",
      "hover done\n",
      "Found 100 potential image elements\n"
     ]
    },
    {
     "name": "stderr",
     "output_type": "stream",
     "text": [
      "Scraping:   2%|▊                                | 3/130 [00:26<18:20,  8.67s/it]"
     ]
    },
    {
     "name": "stdout",
     "output_type": "stream",
     "text": [
      "element 0 has url http://www.seminolenation-indianterritory.org/images/negro-abraham.jpg\n",
      "element 1 has url https://www.slate.com/content/dam/slideshows/sports/fivering_circus/2012/07/25/would-you-like-an-irish-american-athlete-with-that-cigarette/jcr%3Acontent/slideshow/9/images%252Fslides%252Firish_10.JPG\n",
      "element 2 has url https://techinquiry.org/logos/mit_lincoln_laboratory.png\n",
      "element 3 has url https://horsesinthesouth.com/wp-content/uploads/2012/11/Rudder007982.jpg\n",
      "https://www.google.com/search?q=John%20Jumper%20Leidos%20Holdings%2C%20Inc.&tbm=isch&tbs=cdr:1,cd_min:1/1/2013,cd_max:12/31/2013\n",
      "John Jumper 2013\n",
      "hover start\n",
      "hover done\n",
      "Found 100 potential image elements\n"
     ]
    },
    {
     "name": "stderr",
     "output_type": "stream",
     "text": [
      "Scraping:   3%|█                                | 4/130 [00:34<18:03,  8.60s/it]"
     ]
    },
    {
     "name": "stdout",
     "output_type": "stream",
     "text": [
      "element 0 has url https://s.wsj.net/public/resources/images/MK-CG172_SAICBT_D_20130910174355.jpg\n",
      "element 1 has url https://www.sec.gov/Archives/edgar/data/1571123/000119312513355621/g491894g64j87.jpg\n",
      "element 2 has url https://www.sec.gov/Archives/edgar/data/1336920/000119312513174327/g516258gra01.jpg\n",
      "element 3 has url https://www.sec.gov/Archives/edgar/data/1336920/000119312513143974/g516258image002.jpg\n",
      "https://www.google.com/search?q=Roger%20Krone%20Leidos%20Holdings%2C%20Inc.&tbm=isch&tbs=cdr:1,cd_min:1/1/2014,cd_max:12/31/2014\n",
      "Roger Krone 2014\n",
      "hover start\n",
      "hover done\n",
      "Found 100 potential image elements\n"
     ]
    },
    {
     "name": "stderr",
     "output_type": "stream",
     "text": [
      "Scraping:   4%|█▎                               | 5/130 [00:43<17:51,  8.57s/it]"
     ]
    },
    {
     "name": "stdout",
     "output_type": "stream",
     "text": [
      "element 0 has url https://geospatialmedia.s3.amazonaws.com/wp-content/uploads/2018/05/Leidos-Holdings-Logo.jpg\n",
      "element 1 has url https://media.bizj.us/view/img/1620571/bae-systems-rosslyn*xx600-338-0-31.jpg\n",
      "element 2 has url http://media.bizj.us/view/img/3357141/ripkenstadium-aberdeen*1200xx800-450-0-75.jpg\n",
      "element 3 has url http://media.bizj.us/view/img/3944021/stock-chart.jpg\n",
      "https://www.google.com/search?q=Roger%20Krone%20Leidos%20Holdings%2C%20Inc.&tbm=isch&tbs=cdr:1,cd_min:1/1/2015,cd_max:12/31/2015\n",
      "Roger Krone 2015\n",
      "hover start\n",
      "hover done\n",
      "Found 100 potential image elements\n"
     ]
    },
    {
     "name": "stderr",
     "output_type": "stream",
     "text": [
      "Scraping:   5%|█▌                               | 6/130 [00:51<17:48,  8.62s/it]"
     ]
    },
    {
     "name": "stdout",
     "output_type": "stream",
     "text": [
      "element 0 has url https://arc-anglerfish-washpost-prod-washpost.s3.amazonaws.com/public/35DLZCSF2AI6JND46WEJ4BQ6L4\n",
      "element 1 has url https://www.sec.gov/Archives/edgar/data/353394/000133692016000076/logoa02.jpg\n",
      "element 2 has url https://arc-anglerfish-washpost-prod-washpost.s3.amazonaws.com/public/KYYVE7SFZQI6JNBXDJZWQICIAQ\n",
      "element 3 has url https://bbi-strapi.s3.us-east-2.amazonaws.com/archived/biomassmagazine/posts/web/2015/05/Power_14320755859983_largethumb.jpg\n",
      "https://www.google.com/search?q=Roger%20Krone%20Leidos%20Holdings%2C%20Inc.&tbm=isch&tbs=cdr:1,cd_min:1/1/2016,cd_max:12/31/2016\n",
      "Roger Krone 2016\n",
      "hover start\n",
      "hover done\n",
      "Found 86 potential image elements\n"
     ]
    },
    {
     "name": "stderr",
     "output_type": "stream",
     "text": [
      "Scraping:   5%|█▊                               | 7/130 [00:59<17:21,  8.47s/it]"
     ]
    },
    {
     "name": "stdout",
     "output_type": "stream",
     "text": [
      "element 0 has url http://media.bizj.us/view/img/3098841/krone*1200xx4023-2265-0-31.jpg\n",
      "element 1 has url https://www.sec.gov/Archives/edgar/data/1336920/000119312516666564/g236371tx002.jpg\n",
      "element 2 has url https://www.sec.gov/Archives/edgar/data/1336920/000119312516437722/g92386ex99_2s4g1.jpg\n",
      "element 3 has url https://www.sec.gov/Archives/edgar/data/1336920/000119312516496987/g152154425as10g1.jpg\n",
      "https://www.google.com/search?q=Roger%20Krone%20Leidos%20Holdings%2C%20Inc.&tbm=isch&tbs=cdr:1,cd_min:1/1/2017,cd_max:12/31/2017\n",
      "Roger Krone 2017\n",
      "hover start\n",
      "hover done\n",
      "Found 100 potential image elements\n"
     ]
    },
    {
     "name": "stderr",
     "output_type": "stream",
     "text": [
      "Scraping:   6%|██                               | 8/130 [01:08<17:10,  8.45s/it]"
     ]
    },
    {
     "name": "stdout",
     "output_type": "stream",
     "text": [
      "element 0 has url https://www.borgwarner.com/images/default-source/news-media/press-release-hi-res/rogerkrone_high-res.jpg?sfvrsn=4e9ac03c_8\n",
      "element 1 has url https://media.bizj.us/view/img/10293353/kroneroger0930201615-cx.jpg\n",
      "element 2 has url https://media.bizj.us/view/img/10293325/kroneroger0930201601-cx*1200xx4928-2772-0-254.jpg\n",
      "element 3 has url http://media.bizj.us/view/img/534621/priorjerry0611201301-cx*xx2832-2832-712-0.jpg\n",
      "https://www.google.com/search?q=Roger%20Krone%20Leidos%20Holdings%2C%20Inc.&tbm=isch&tbs=cdr:1,cd_min:1/1/2018,cd_max:12/31/2018\n",
      "Roger Krone 2018\n",
      "hover start\n",
      "hover done\n",
      "Found 100 potential image elements\n"
     ]
    },
    {
     "name": "stderr",
     "output_type": "stream",
     "text": [
      "Scraping:   7%|██▎                              | 9/130 [01:16<17:07,  8.49s/it]"
     ]
    },
    {
     "name": "stdout",
     "output_type": "stream",
     "text": [
      "element 0 has url https://media.licdn.com/dms/image/v2/C4E03AQH5FyV_h4OKqg/profile-displayphoto-shrink_200_200/profile-displayphoto-shrink_200_200/0/1517500597691?e=2147483647&v=beta&t=q0J-9OEn1jy8UzizgTY66CAc_5qDVMyjEohVdEA-K8s\n",
      "element 1 has url https://www.leidos.com//sites/g/files/zoouby166/files/styles/crop_profile_card_image/public/profile-card/2018-06/IMAGE-282x351-krone-bio-headshot.jpg?h=5894422c&itok=PrsQ2ZpD\n",
      "element 2 has url https://media.bizj.us/view/img/3098841/krone*120xx3600-2700-212-0.jpg\n",
      "element 3 has url x-raw-image:///1049664c40d1a4b7febdb7fb6132f0c31cbc0520e055c0eaf67b41a2b978b726\n",
      "https://www.google.com/search?q=Roger%20Krone%20Leidos%20Holdings%2C%20Inc.&tbm=isch&tbs=cdr:1,cd_min:1/1/2019,cd_max:12/31/2019\n",
      "Roger Krone 2019\n",
      "hover start\n",
      "hover done\n",
      "Found 100 potential image elements\n"
     ]
    },
    {
     "name": "stderr",
     "output_type": "stream",
     "text": [
      "Scraping:   8%|██▍                             | 10/130 [01:25<16:53,  8.45s/it]"
     ]
    },
    {
     "name": "stdout",
     "output_type": "stream",
     "text": [
      "element 0 has url https://www.theladders.com/wp-content/uploads/Roger_Krone_Leidos.jpg\n",
      "element 1 has url https://washingtonexec.com/wp-content/uploads/2019/06/Krone-800x534.jpg\n",
      "element 2 has url https://wjla.com/resources/media/f5834e2a-e6eb-43f1-90a1-7e175f641b84-medium16x9_CEORogerKronewithJohnHindman.jpg?1574882120136\n",
      "element 3 has url https://i.ytimg.com/vi/7j39GZ3nhQQ/hqdefault.jpg\n",
      "https://www.google.com/search?q=Walt%20Havenstein%20Science%20Applications%20International%20Corporation&tbm=isch&tbs=cdr:1,cd_min:1/1/2010,cd_max:12/31/2010\n",
      "Walt Havenstein 2010\n",
      "hover start\n",
      "hover done\n",
      "Found 32 potential image elements\n"
     ]
    },
    {
     "name": "stderr",
     "output_type": "stream",
     "text": [
      "Scraping:   8%|██▋                             | 11/130 [01:33<16:44,  8.44s/it]"
     ]
    },
    {
     "name": "stdout",
     "output_type": "stream",
     "text": [
      "element 0 has url https://news.vt.edu/content/dam/news_vt_edu/articles/2010/12/images/120610-pamplin-saic.jpg\n",
      "element 1 has url https://www.govpartners.com/images/upload/image/SBA%20Data.jpg\n",
      "element 2 has url https://nap.nationalacademies.org/books/0309024404/gifmid/201.gif\n",
      "element 3 has url https://nap.nationalacademies.org/books/0309024404/gifmid/208.gif\n",
      "https://www.google.com/search?q=Walt%20Havenstein%20Science%20Applications%20International%20Corporation&tbm=isch&tbs=cdr:1,cd_min:1/1/2011,cd_max:12/31/2011\n",
      "Walt Havenstein 2011\n",
      "hover start\n",
      "hover done\n",
      "Found 32 potential image elements\n"
     ]
    },
    {
     "name": "stderr",
     "output_type": "stream",
     "text": [
      "Scraping:   9%|██▉                             | 12/130 [01:42<16:31,  8.40s/it]"
     ]
    },
    {
     "name": "stdout",
     "output_type": "stream",
     "text": [
      "element 0 has url https://www.firstinspires.org/sites/default/files/uploads/about/leadership/havenstein.gif\n",
      "element 1 has url http://www.ece.umd.edu/Images/google_seminar_series_sm.gif\n",
      "element 2 has url http://media.al.com/breaking/photo/9894450-large.jpg\n",
      "element 3 has url https://www.washingtonian.com/wp-content/uploads/2012/03/tech-titans-600.jpg\n",
      "https://www.google.com/search?q=Walt%20Havenstein%20Science%20Applications%20International%20Corporation&tbm=isch&tbs=cdr:1,cd_min:1/1/2012,cd_max:12/31/2012\n",
      "Walt Havenstein 2012\n",
      "hover start\n",
      "hover done\n",
      "Found 25 potential image elements\n"
     ]
    },
    {
     "name": "stderr",
     "output_type": "stream",
     "text": [
      "Scraping:  10%|███▏                            | 13/130 [01:50<16:19,  8.37s/it]"
     ]
    },
    {
     "name": "stdout",
     "output_type": "stream",
     "text": [
      "element 0 has url https://www.sec.gov/Archives/edgar/data/353394/000119312512133697/g272046g08j15.jpg\n",
      "element 1 has url https://upload.wikimedia.org/wikipedia/commons/2/21/Anthony_C._Zinni_speech_following_Operation_Desert_Fox.jpg\n",
      "element 2 has url http://govpartners.com/images/upload/Image_03_Save_Results.png\n",
      "element 3 has url https://m.media-amazon.com/images/M/MV5BYzNlNmRlZDItYzA5Mi00NmRiLWExMzAtZjYwNDIxNjZkMWEzXkEyXkFqcGc@._V1_.jpg\n",
      "https://www.google.com/search?q=Anthony%20Moraco%20Science%20Applications%20International%20Corporation&tbm=isch&tbs=cdr:1,cd_min:1/1/2013,cd_max:12/31/2013\n",
      "Anthony Moraco 2013\n",
      "hover start\n",
      "hover done\n",
      "Found 28 potential image elements\n"
     ]
    },
    {
     "name": "stderr",
     "output_type": "stream",
     "text": [
      "Scraping:  11%|███▍                            | 14/130 [01:58<16:05,  8.33s/it]"
     ]
    },
    {
     "name": "stdout",
     "output_type": "stream",
     "text": [
      "element 0 has url https://i.ytimg.com/vi/G26dAzeb6Kc/maxresdefault.jpg\n",
      "element 1 has url x-raw-image:///febab90e79d53f7f907d7fcea1b45359ce8ca27e7fabace2a5d6fd73f38459b7\n",
      "element 2 has url https://www.sec.gov/Archives/edgar/data/353394/000119312513127240/g451558g76u85.jpg\n",
      "element 3 has url https://www.sec.gov/Archives/edgar/data/1571123/000119312513355621/g491894g64j87.jpg\n",
      "https://www.google.com/search?q=Anthony%20Moraco%20Science%20Applications%20International%20Corporation&tbm=isch&tbs=cdr:1,cd_min:1/1/2014,cd_max:12/31/2014\n",
      "Anthony Moraco 2014\n",
      "hover start\n",
      "hover done\n",
      "Found 23 potential image elements\n"
     ]
    },
    {
     "name": "stderr",
     "output_type": "stream",
     "text": [
      "Scraping:  12%|███▋                            | 15/130 [02:07<16:03,  8.38s/it]"
     ]
    },
    {
     "name": "stdout",
     "output_type": "stream",
     "text": [
      "element 0 has url https://media.zenfs.com/en/simply_wall_st__316/261e9e1ed5c7b6a885534a102307a50b\n",
      "element 1 has url http://media.bizj.us/view/img/3944021/stock-chart.jpg\n",
      "element 2 has url https://www.law.com/image/EM/CC/Veteran-Article-201510151236.jpg\n",
      "element 3 has url http://media.bizj.us/view/img/3944011/bottom-line.jpg\n",
      "https://www.google.com/search?q=Anthony%20Moraco%20Science%20Applications%20International%20Corporation&tbm=isch&tbs=cdr:1,cd_min:1/1/2015,cd_max:12/31/2015\n",
      "Anthony Moraco 2015\n",
      "hover start\n",
      "hover done\n",
      "Found 20 potential image elements\n"
     ]
    },
    {
     "name": "stderr",
     "output_type": "stream",
     "text": [
      "Scraping:  12%|███▉                            | 16/130 [02:15<15:59,  8.42s/it]"
     ]
    },
    {
     "name": "stdout",
     "output_type": "stream",
     "text": [
      "element 0 has url https://mms.businesswire.com/media/20151006006928/en/486932/4/SAIC_logo_RI_RGB-lg.jpg\n",
      "element 1 has url https://mms.businesswire.com/media/20151006006928/en/489470/5/Steve_Mahon_Headshot-01-12new.jpg\n",
      "element 2 has url https://arc-anglerfish-washpost-prod-washpost.s3.amazonaws.com/public/35DLZCSF2AI6JND46WEJ4BQ6L4\n",
      "element 3 has url http://media.al.com/business_impact/photo/15811028-mmmain.jpg\n",
      "https://www.google.com/search?q=Anthony%20Moraco%20Science%20Applications%20International%20Corporation&tbm=isch&tbs=cdr:1,cd_min:1/1/2016,cd_max:12/31/2016\n",
      "Anthony Moraco 2016\n",
      "hover start\n",
      "hover done\n",
      "Found 64 potential image elements\n"
     ]
    },
    {
     "name": "stderr",
     "output_type": "stream",
     "text": [
      "Scraping:  13%|████▏                           | 17/130 [02:24<15:59,  8.49s/it]"
     ]
    },
    {
     "name": "stdout",
     "output_type": "stream",
     "text": [
      "element 0 has url https://media.bizj.us/view/img/3944001/moracotony08-cx*1200xx4008-2250-0-0.jpg\n",
      "element 1 has url http://media.bizj.us/view/img/1825761/moracotony01272014*1200xx4196-2360-0-0.jpg\n",
      "element 2 has url https://govconwire.com/wp-content/uploads/2016/11/Charles_Mathis.jpg\n",
      "element 3 has url http://media.bizj.us/view/img/1936011/new-new-aitorojill.jpg\n",
      "https://www.google.com/search?q=Anthony%20Moraco%20Science%20Applications%20International%20Corporation&tbm=isch&tbs=cdr:1,cd_min:1/1/2017,cd_max:12/31/2017\n",
      "Anthony Moraco 2017\n",
      "hover start\n",
      "hover done\n",
      "Found 50 potential image elements\n"
     ]
    },
    {
     "name": "stderr",
     "output_type": "stream",
     "text": [
      "Scraping:  14%|████▍                           | 18/130 [02:32<15:47,  8.46s/it]"
     ]
    },
    {
     "name": "stdout",
     "output_type": "stream",
     "text": [
      "element 0 has url https://breakingdefense.com/wp-content/uploads/sites/3/2019/01/tony_moraco_high_res.jpg\n",
      "element 1 has url https://media.bizj.us/view/img/1825761/moracotony01272014*xx2360-2360-918-0.jpg\n",
      "element 2 has url http://media.bizj.us/view/img/4598561/moracotony08-cx*xx2632-2632-688-0.jpg\n",
      "element 3 has url https://www.tntech.edu/assets/newsphotos/Event_SAIC_GovVisit_22MAY17_00032%20copy.jpg\n",
      "https://www.google.com/search?q=Anthony%20Moraco%20Science%20Applications%20International%20Corporation&tbm=isch&tbs=cdr:1,cd_min:1/1/2018,cd_max:12/31/2018\n",
      "Anthony Moraco 2018\n",
      "hover start\n",
      "hover done\n",
      "Found 100 potential image elements\n"
     ]
    },
    {
     "name": "stderr",
     "output_type": "stream",
     "text": [
      "Scraping:  15%|████▋                           | 19/130 [02:41<15:49,  8.55s/it]"
     ]
    },
    {
     "name": "stdout",
     "output_type": "stream",
     "text": [
      "element 0 has url https://mms.businesswire.com/media/20190311005843/en/616516/4/SAIC_RI_logo_R_RGB-lg.jpg\n",
      "element 1 has url https://www.defensedaily.com/wp-content/uploads/2014/04/rsz_tony_moraco.jpg\n",
      "element 2 has url https://cloudfront-us-east-1.images.arcpublishing.com/archetype/2TNKNQJJVFDF5FRYEPK22B4CLU.jpg\n",
      "element 3 has url https://wtop.com/wp-content/uploads/2018/09/SAIC_Reston_Headquarters_03.jpg\n",
      "https://www.google.com/search?q=Nazzic%20Keene%20Science%20Applications%20International%20Corporation&tbm=isch&tbs=cdr:1,cd_min:1/1/2019,cd_max:12/31/2019\n",
      "Nazzic Keene 2019\n",
      "hover start\n",
      "hover done\n",
      "Found 100 potential image elements\n"
     ]
    },
    {
     "name": "stderr",
     "output_type": "stream",
     "text": [
      "Scraping:  15%|████▉                           | 20/130 [02:50<15:44,  8.58s/it]"
     ]
    },
    {
     "name": "stdout",
     "output_type": "stream",
     "text": [
      "element 0 has url https://www.hstoday.us/wp-content/uploads/2021/11/SAIC_Nazzic_Keene_CEO.jpg\n",
      "element 1 has url https://wtop.com/wp-content/uploads/2019/03/0312_saic_moraco_keene.jpg\n",
      "element 2 has url https://mms.businesswire.com/media/20190801005441/en/736194/22/SAIC_Nazzic_Keene_CEO.jpg\n",
      "element 3 has url https://govconwire.com/wp-content/uploads/2019/02/2019-wash100-Nazzic-Keene.png\n",
      "https://www.google.com/search?q=Glen%20F.%20Post%20III%20Lumen%20Technologies%2C%20Inc.&tbm=isch&tbs=cdr:1,cd_min:1/1/2010,cd_max:12/31/2010\n",
      "Glen F. Post III 2010\n",
      "hover start\n",
      "hover done\n",
      "Found 100 potential image elements\n"
     ]
    },
    {
     "name": "stderr",
     "output_type": "stream",
     "text": [
      "Scraping:  16%|█████▏                          | 21/130 [02:59<15:55,  8.77s/it]"
     ]
    },
    {
     "name": "stdout",
     "output_type": "stream",
     "text": [
      "element 0 has url https://www.sec.gov/Archives/edgar/data/1333822/000104746910010268/g467548.jpg\n",
      "element 1 has url https://www.ahajournals.org/cms/10.1161/01.CIR.91.12.2948/asset/c8d3ce2c-9c7f-4d92-a050-9f685b5135d4/assets/graphic/hc1051383003.jpeg\n",
      "element 2 has url https://www.ahajournals.org/cms/10.1161/CIRCRESAHA.108.184044/asset/47bf04de-48ef-466d-88ce-1622b780a2c2/assets/graphic/15ff1.jpeg\n",
      "element 3 has url https://www.ahajournals.org/cms/10.1161/01.ATV.19.9.2154/asset/e68660dd-20e3-48c4-ba87-4e6e576447b8/assets/graphic/hq0890977006.jpeg\n",
      "https://www.google.com/search?q=Glen%20F.%20Post%20III%20Lumen%20Technologies%2C%20Inc.&tbm=isch&tbs=cdr:1,cd_min:1/1/2011,cd_max:12/31/2011\n",
      "Glen F. Post III 2011\n",
      "hover start\n",
      "hover done\n",
      "Found 100 potential image elements\n"
     ]
    },
    {
     "name": "stderr",
     "output_type": "stream",
     "text": [
      "Scraping:  17%|█████▍                          | 22/130 [03:08<15:54,  8.84s/it]"
     ]
    },
    {
     "name": "stdout",
     "output_type": "stream",
     "text": [
      "element 0 has url https://www.ahajournals.org/cms/10.1161/CIRCULATIONAHA.104.492678/asset/571aa1cc-e25e-45e3-912d-3072b7a44e60/assets/graphic/17ff8.jpeg\n",
      "element 1 has url https://www.sec.gov/Archives/edgar/data/1388311/000114420411015893/chart1.jpg\n",
      "element 2 has url https://www.pnnl.gov/science/images/highlights/computing/Tumeo_A.jpg\n",
      "element 3 has url https://www.ahajournals.org/cms/10.1161/CIRCEP.109.882472/asset/79beea5e-c303-4c02-a685-0e99933305fa/assets/graphic/18ff3.jpeg\n",
      "https://www.google.com/search?q=Glen%20F.%20Post%20III%20Lumen%20Technologies%2C%20Inc.&tbm=isch&tbs=cdr:1,cd_min:1/1/2012,cd_max:12/31/2012\n",
      "Glen F. Post III 2012\n",
      "hover start\n",
      "hover done\n",
      "Found 100 potential image elements\n"
     ]
    },
    {
     "name": "stderr",
     "output_type": "stream",
     "text": [
      "Scraping:  18%|█████▋                          | 23/130 [03:17<15:58,  8.96s/it]"
     ]
    },
    {
     "name": "stdout",
     "output_type": "stream",
     "text": [
      "element 0 has url https://ars.els-cdn.com/content/image/1-s2.0-S1467803912000163-gr8.jpg\n",
      "element 1 has url https://www.ahajournals.org/cms/10.1161/CIRCEP.109.882472/asset/dcf918aa-2f72-48c4-aca7-e1a27b5e2a9e/assets/graphic/18ff7.jpeg\n",
      "element 2 has url https://ars.els-cdn.com/content/image/1-s2.0-S1467803912000163-gr5.jpg\n",
      "element 3 has url https://ars.els-cdn.com/content/image/1-s2.0-S1567133X07000476-gr4.jpg\n",
      "https://www.google.com/search?q=Glen%20F.%20Post%20III%20Lumen%20Technologies%2C%20Inc.&tbm=isch&tbs=cdr:1,cd_min:1/1/2013,cd_max:12/31/2013\n",
      "Glen F. Post III 2013\n",
      "hover start\n",
      "hover done\n",
      "Found 100 potential image elements\n"
     ]
    },
    {
     "name": "stderr",
     "output_type": "stream",
     "text": [
      "Scraping:  18%|█████▉                          | 24/130 [03:26<15:53,  8.99s/it]"
     ]
    },
    {
     "name": "stdout",
     "output_type": "stream",
     "text": [
      "element 0 has url https://henryehooper.blog/wp-content/uploads/2013/05/big-v-1.jpg\n",
      "element 1 has url https://www.cell.com/cms/asset/1fac0704-7479-4970-8d91-b65efb110dc0/fx1.jpg\n",
      "element 2 has url https://www.frontiersin.org/files/Articles/46115/fnins-07-00182-HTML/image_m/fnins-07-00182-g001.jpg\n",
      "element 3 has url https://www.ahajournals.org/cms/10.1161/CIRCULATIONAHA.113.004228/asset/dead15a4-ec82-494f-aa1c-cdaec094cd74/assets/graphic/1897fig02.jpeg\n",
      "https://www.google.com/search?q=Glen%20F.%20Post%20III%20Lumen%20Technologies%2C%20Inc.&tbm=isch&tbs=cdr:1,cd_min:1/1/2014,cd_max:12/31/2014\n",
      "Glen F. Post III 2014\n",
      "hover start\n",
      "hover done\n",
      "Found 100 potential image elements\n"
     ]
    },
    {
     "name": "stderr",
     "output_type": "stream",
     "text": [
      "Scraping:  19%|██████▏                         | 25/130 [03:35<15:50,  9.05s/it]"
     ]
    },
    {
     "name": "stdout",
     "output_type": "stream",
     "text": [
      "element 0 has url https://www.e-ce.org/upload/thumbnails/ce-46-515-g005.jpg\n",
      "element 1 has url https://www.e-ce.org/upload/thumbnails/ce-46-515-g003.jpg\n",
      "element 2 has url https://www.e-ce.org/upload/thumbnails/ce-46-515-g004.jpg\n",
      "element 3 has url https://www.sec.gov/Archives/edgar/data/1111406/000119312514450891/g815446g31f21.jpg\n",
      "https://www.google.com/search?q=Glen%20F.%20Post%20III%20Lumen%20Technologies%2C%20Inc.&tbm=isch&tbs=cdr:1,cd_min:1/1/2015,cd_max:12/31/2015\n",
      "Glen F. Post III 2015\n",
      "hover start\n",
      "hover done\n",
      "Found 100 potential image elements\n"
     ]
    },
    {
     "name": "stderr",
     "output_type": "stream",
     "text": [
      "Scraping:  20%|██████▍                         | 26/130 [03:45<15:56,  9.20s/it]"
     ]
    },
    {
     "name": "stdout",
     "output_type": "stream",
     "text": [
      "element 0 has url https://www.giejournal.org/cms/10.1016/S0016-5107(97)70266-9/asset/877aa577-a6d4-4f1a-a8b9-e19bf4985d21/main.assets/gr2b_lrg.jpg\n",
      "element 1 has url https://www.e-ce.org/upload/thumbnails/ce-46-7-g001.jpg\n",
      "element 2 has url https://f6publishing.blob.core.windows.net/ec3cdad7-61d9-44a8-9acc-8a3629f61dda/WJG-20-8130-g003.jpg\n",
      "element 3 has url https://www.techvir.com/cms/10.1053/j.tvir.2014.08.009/asset/64310a44-9f38-427f-b180-805cfc44dc02/main.assets/gr6_lrg.jpg\n",
      "https://www.google.com/search?q=Glen%20F.%20Post%20III%20Lumen%20Technologies%2C%20Inc.&tbm=isch&tbs=cdr:1,cd_min:1/1/2016,cd_max:12/31/2016\n",
      "Glen F. Post III 2016\n",
      "hover start\n",
      "hover done\n",
      "Found 100 potential image elements\n"
     ]
    },
    {
     "name": "stderr",
     "output_type": "stream",
     "text": [
      "Scraping:  21%|██████▋                         | 27/130 [03:54<15:44,  9.17s/it]"
     ]
    },
    {
     "name": "stdout",
     "output_type": "stream",
     "text": [
      "element 0 has url https://news.lumen.com/image/CenturyLink%2BFiber%2BTechnician_thmb.jpg\n",
      "element 1 has url https://news.lumen.com/image/Data%2BCenter%2BCooling1_thmb.jpg\n",
      "element 2 has url https://news.lumen.com/image/Green%2BRoof%2B-%2BTCE_thmb.jpg\n",
      "element 3 has url https://news.lumen.com/image/TopTenWesGibson-Blog-550x380_thmb.jpg\n",
      "https://www.google.com/search?q=Glen%20F.%20Post%20III%20Lumen%20Technologies%2C%20Inc.&tbm=isch&tbs=cdr:1,cd_min:1/1/2017,cd_max:12/31/2017\n",
      "Glen F. Post III 2017\n",
      "hover start\n",
      "hover done\n",
      "Found 100 potential image elements\n"
     ]
    },
    {
     "name": "stderr",
     "output_type": "stream",
     "text": [
      "Scraping:  22%|██████▉                         | 28/130 [04:03<15:27,  9.09s/it]"
     ]
    },
    {
     "name": "stdout",
     "output_type": "stream",
     "text": [
      "element 0 has url http://photos.prnewswire.com/prnh/20111012/DA84336\n",
      "element 1 has url https://news.lumen.com/download/Post_Glen_2016.jpg\n",
      "element 2 has url https://news.lumen.com/download/Storey_Jeff_2017.jpg\n",
      "element 3 has url https://news.lumen.com/image/006_thmb.jpg\n",
      "https://www.google.com/search?q=Jeff%20Storey%20Lumen%20Technologies%2C%20Inc.&tbm=isch&tbs=cdr:1,cd_min:1/1/2018,cd_max:12/31/2018\n",
      "Jeff Storey 2018\n",
      "hover start\n",
      "hover done\n",
      "Found 100 potential image elements\n"
     ]
    },
    {
     "name": "stderr",
     "output_type": "stream",
     "text": [
      "Scraping:  22%|███████▏                        | 29/130 [04:11<15:05,  8.96s/it]"
     ]
    },
    {
     "name": "stdout",
     "output_type": "stream",
     "text": [
      "element 0 has url https://media.licdn.com/dms/image/v2/C4E03AQFfnQFS6u7EqQ/profile-displayphoto-shrink_200_200/profile-displayphoto-shrink_200_200/0/1527782936861?e=2147483647&v=beta&t=OJqUNXGzwJLeOAoePEoxFVUKMJUABqMEdI58tfKz9w0\n",
      "element 1 has url https://media.bizj.us/view/img/10809787/5astorey-jeff5*1200xx2288-1287-199-0.jpg\n",
      "element 2 has url https://images.contactout.com/profiles/c69ab5aae61221b2c5bc87dac766ddb7\n",
      "element 3 has url https://files.cyberriskalliance.com/wp-content/uploads/2023/08/jeff-storey-centuryLink-1.png\n",
      "https://www.google.com/search?q=Jeff%20Storey%20Lumen%20Technologies%2C%20Inc.&tbm=isch&tbs=cdr:1,cd_min:1/1/2019,cd_max:12/31/2019\n",
      "Jeff Storey 2019\n",
      "hover start\n",
      "hover done\n",
      "Found 100 potential image elements\n"
     ]
    },
    {
     "name": "stderr",
     "output_type": "stream",
     "text": [
      "Scraping:  23%|███████▍                        | 30/130 [04:21<15:00,  9.00s/it]"
     ]
    },
    {
     "name": "stdout",
     "output_type": "stream",
     "text": [
      "element 0 has url https://news.lumen.com/file.php/182803/Graphic_Jeff+Storey+Press+Conference_MV_4.1.19-large.png?thumbnail=asset\n",
      "element 1 has url https://res.cloudinary.com/jamefiles/image/fetch/w_320,h_212,c_fill/http://www.poandpo.com/s0413/jeff_k_storey.jpg\n",
      "element 2 has url https://media.licdn.com/dms/image/v2/C4E22AQGC0joKE1isKQ/feedshare-shrink_2048_1536/feedshare-shrink_2048_1536/0/1574257588884?e=2147483647&v=beta&t=VqMLoBcKDOpKXp0WYNX2Jw5QbG3gSrhe6xt8cOUf5Es\n",
      "element 3 has url https://i.ytimg.com/vi/uYegXXnwoko/hqdefault.jpg\n",
      "https://www.google.com/search?q=Wendell%20P.%20Weeks%20Corning%20Incorporated&tbm=isch&tbs=cdr:1,cd_min:1/1/2010,cd_max:12/31/2010\n",
      "Wendell P. Weeks 2010\n",
      "hover start\n",
      "hover done\n",
      "Found 100 potential image elements\n"
     ]
    },
    {
     "name": "stderr",
     "output_type": "stream",
     "text": [
      "Scraping:  24%|███████▋                        | 31/130 [04:29<14:39,  8.88s/it]"
     ]
    },
    {
     "name": "stdout",
     "output_type": "stream",
     "text": [
      "element 0 has url https://www.sec.gov/Archives/edgar/data/24741/000091205701511988/g101464.jpg\n",
      "element 1 has url https://www.sec.gov/Archives/edgar/data/24741/000119312510056283/g56431pc_001.jpg\n",
      "element 2 has url https://www.sec.gov/Archives/edgar/data/24741/000119312512111012/g285045g07d11.jpg\n",
      "element 3 has url https://www.sec.gov/Archives/edgar/data/24741/000119312512111012/g285045g01a12.jpg\n",
      "https://www.google.com/search?q=Wendell%20P.%20Weeks%20Corning%20Incorporated&tbm=isch&tbs=cdr:1,cd_min:1/1/2011,cd_max:12/31/2011\n",
      "Wendell P. Weeks 2011\n",
      "hover start\n",
      "hover done\n",
      "Found 100 potential image elements\n"
     ]
    },
    {
     "name": "stderr",
     "output_type": "stream",
     "text": [
      "Scraping:  25%|███████▉                        | 32/130 [04:38<14:21,  8.79s/it]"
     ]
    },
    {
     "name": "stdout",
     "output_type": "stream",
     "text": [
      "element 0 has url https://obamawhitehouse.archives.gov/sites/default/files/other/sotubox-weeks.jpg\n",
      "element 1 has url https://www.sec.gov/Archives/edgar/data/24741/000091205701503245/g592398.jpg\n",
      "element 2 has url https://www.sec.gov/Archives/edgar/data/24741/000091205701511988/g690145.jpg\n",
      "element 3 has url https://www.sec.gov/Archives/edgar/data/24741/000091205701511988/g437584.jpg\n",
      "https://www.google.com/search?q=Wendell%20P.%20Weeks%20Corning%20Incorporated&tbm=isch&tbs=cdr:1,cd_min:1/1/2012,cd_max:12/31/2012\n",
      "Wendell P. Weeks 2012\n",
      "hover start\n",
      "hover done\n",
      "Found 100 potential image elements\n"
     ]
    },
    {
     "name": "stderr",
     "output_type": "stream",
     "text": [
      "Scraping:  25%|████████                        | 33/130 [04:46<14:07,  8.74s/it]"
     ]
    },
    {
     "name": "stdout",
     "output_type": "stream",
     "text": [
      "element 0 has url https://mylehigh.lehigh.edu/s/1127/images/editor/headshots/weeks_wendell_clr_2009cropped_200px.jpg\n",
      "element 1 has url https://archive.triblive.com/wp-content/uploads/2019/07/VICorning2080812jpg.jpg\n",
      "element 2 has url https://kg.diffbot.com/image/api/get?fetch=yes&url=g%3Cj7P0St%7D9u.LnOv%7BI%7C%40g7.pBYINs%3Ff%7CGZ7jr-tGZhWf%3DK%2FOvy%5Bp%3CSKbs8i%7CEyNzBa%3DXu%3Bj%3APcJIzEyJWVRx%3D022e%7E%5E%2FG%3FjYS%3CHh3HGj%5Dy.%7DIY\n",
      "element 3 has url https://www.glassonline.com/wp-content/uploads/2019/02/20121213123403_corning.jpg\n",
      "https://www.google.com/search?q=Wendell%20P.%20Weeks%20Corning%20Incorporated&tbm=isch&tbs=cdr:1,cd_min:1/1/2013,cd_max:12/31/2013\n",
      "Wendell P. Weeks 2013\n",
      "hover start\n",
      "hover done\n",
      "Found 100 potential image elements\n"
     ]
    },
    {
     "name": "stderr",
     "output_type": "stream",
     "text": [
      "Scraping:  26%|████████▎                       | 34/130 [04:55<13:57,  8.72s/it]"
     ]
    },
    {
     "name": "stdout",
     "output_type": "stream",
     "text": [
      "element 0 has url https://www.sec.gov/Archives/edgar/data/24741/000130817913000056/picture_wpweeks.jpg\n",
      "element 1 has url https://www.strategy-business.com/media/image/00192_thumb2_220x244_2.jpg\n",
      "element 2 has url https://www.sec.gov/Archives/edgar/data/24741/000130817913000056/graphic_p01i01.jpg\n",
      "element 3 has url https://www.sec.gov/Archives/edgar/data/24741/000130817913000056/graphic_p64i01.jpg\n",
      "https://www.google.com/search?q=Wendell%20P.%20Weeks%20Corning%20Incorporated&tbm=isch&tbs=cdr:1,cd_min:1/1/2014,cd_max:12/31/2014\n",
      "Wendell P. Weeks 2014\n",
      "hover start\n",
      "hover done\n",
      "Found 100 potential image elements\n"
     ]
    },
    {
     "name": "stderr",
     "output_type": "stream",
     "text": [
      "Scraping:  27%|████████▌                       | 35/130 [05:04<13:43,  8.67s/it]"
     ]
    },
    {
     "name": "stdout",
     "output_type": "stream",
     "text": [
      "element 0 has url https://www.alumni.hbs.edu/PublishingImages/awards/Weeks_2014_288width.jpg\n",
      "element 1 has url https://news.cornell.edu/sites/chronicle.cornell/files/Weeks11-26a.jpg\n",
      "element 2 has url https://www.glassonline.com/wp-content/uploads/2019/02/20141105032423_WendellWeeks.jpg\n",
      "element 3 has url http://www.hbs.edu/news/PublishingImages/photos/SYP-8523_release.jpg\n",
      "https://www.google.com/search?q=Wendell%20P.%20Weeks%20Corning%20Incorporated&tbm=isch&tbs=cdr:1,cd_min:1/1/2015,cd_max:12/31/2015\n",
      "Wendell P. Weeks 2015\n",
      "hover start\n",
      "hover done\n",
      "Found 100 potential image elements\n"
     ]
    },
    {
     "name": "stderr",
     "output_type": "stream",
     "text": [
      "Scraping:  28%|████████▊                       | 36/130 [05:12<13:35,  8.68s/it]"
     ]
    },
    {
     "name": "stdout",
     "output_type": "stream",
     "text": [
      "element 0 has url https://i.ytimg.com/vi/VNipqlBGTOQ/maxresdefault.jpg\n",
      "element 1 has url https://www.corning.com/content/dam/corning/media/worldwide/global/images/news/Image%20Bank/Downloads/Wendell_Weeks_2013_Portrait_D81_1762.jpg\n",
      "element 2 has url x-raw-image:///dab0cb1e975b3035f3798f1db16fea86b0cb4ae6b372864b81b3e996d57212bd\n",
      "element 3 has url https://www.corning.com/content/dam/corning/media/worldwide/global/images/3A_ArtsandCulture_BCA101.jpg\n",
      "https://www.google.com/search?q=Wendell%20P.%20Weeks%20Corning%20Incorporated&tbm=isch&tbs=cdr:1,cd_min:1/1/2016,cd_max:12/31/2016\n",
      "Wendell P. Weeks 2016\n",
      "hover start\n",
      "hover done\n",
      "Found 100 potential image elements\n"
     ]
    },
    {
     "name": "stderr",
     "output_type": "stream",
     "text": [
      "Scraping:  28%|█████████                       | 37/130 [05:21<13:31,  8.73s/it]"
     ]
    },
    {
     "name": "stdout",
     "output_type": "stream",
     "text": [
      "element 0 has url https://i.ytimg.com/vi/VNipqlBGTOQ/sddefault.jpg\n",
      "element 1 has url https://img.theepochtimes.com/assets/uploads/2016/02/04/AP_615213507146.jpg\n",
      "element 2 has url https://www.corning.com/media/worldwide/Innovation/images/3A_AFR_Academia_award.jpg/jcr:content/renditions/tablet_308.jpg\n",
      "element 3 has url https://www.sec.gov/Archives/edgar/data/24741/000120677416004903/corning_def14a1x1x1.jpg\n",
      "https://www.google.com/search?q=Wendell%20P.%20Weeks%20Corning%20Incorporated&tbm=isch&tbs=cdr:1,cd_min:1/1/2017,cd_max:12/31/2017\n",
      "Wendell P. Weeks 2017\n",
      "hover start\n",
      "hover done\n",
      "Found 100 potential image elements\n"
     ]
    },
    {
     "name": "stderr",
     "output_type": "stream",
     "text": [
      "Scraping:  29%|█████████▎                      | 38/130 [05:30<13:22,  8.72s/it]"
     ]
    },
    {
     "name": "stdout",
     "output_type": "stream",
     "text": [
      "element 0 has url https://news.lehigh.edu/sites/news/files/media/Feature_WendellWeeks_Corning_CEO_LehighBusiness.jpg\n",
      "element 1 has url https://news.lehigh.edu/sites/news/files/media/Weeks_Main_photo.jpg\n",
      "element 2 has url https://news.lehigh.edu/sites/news/files/media/Student_photo_for_story.jpg\n",
      "element 3 has url http://media-s3-us-east-1.ceros.com/business-insider/images/2017/08/16/8e37e86c0dc71de167468631e72344f3/wendell-weeks.png\n",
      "https://www.google.com/search?q=Wendell%20P.%20Weeks%20Corning%20Incorporated&tbm=isch&tbs=cdr:1,cd_min:1/1/2018,cd_max:12/31/2018\n",
      "Wendell P. Weeks 2018\n",
      "hover start\n",
      "hover done\n",
      "Found 100 potential image elements\n"
     ]
    },
    {
     "name": "stderr",
     "output_type": "stream",
     "text": [
      "Scraping:  30%|█████████▌                      | 39/130 [05:39<13:15,  8.74s/it]"
     ]
    },
    {
     "name": "stdout",
     "output_type": "stream",
     "text": [
      "element 0 has url https://s203.q4cdn.com/212458750/files/images/board/Weeks.jpg\n",
      "element 1 has url https://d1hbpr09pwz0sk.cloudfront.net/profile_pic/wendell-weeks-f4cb19cc.jpg\n",
      "element 2 has url https://i.ytimg.com/vi/VNipqlBGTOQ/hq720.jpg?sqp=-oaymwEhCK4FEIIDSFryq4qpAxMIARUAAAAAGAElAADIQj0AgKJD&rs=AOn4CLCJXrGITfPrOBMtbxVTcilGeQg9qw\n",
      "element 3 has url https://cdn.theorg.com/2bef8345-a1b8-4ab8-9f89-74acc63b8e7d_thumb.jpg\n",
      "https://www.google.com/search?q=Wendell%20P.%20Weeks%20Corning%20Incorporated&tbm=isch&tbs=cdr:1,cd_min:1/1/2019,cd_max:12/31/2019\n",
      "Wendell P. Weeks 2019\n",
      "hover start\n",
      "hover done\n",
      "Found 100 potential image elements\n"
     ]
    },
    {
     "name": "stderr",
     "output_type": "stream",
     "text": [
      "Scraping:  31%|█████████▊                      | 40/130 [05:47<13:05,  8.73s/it]"
     ]
    },
    {
     "name": "stdout",
     "output_type": "stream",
     "text": [
      "element 0 has url https://s2.q4cdn.com/299287126/files/images/board/Weeks.jpg\n",
      "element 1 has url https://cdn.theorg.com/2bef8345-a1b8-4ab8-9f89-74acc63b8e7d_medium.jpg\n",
      "element 2 has url https://i.insider.com/59721884c50c29be088b5ab2?width=600&format=jpeg&auto=webp\n",
      "element 3 has url https://www.corning.com/media/worldwide/global/images/Wendell%20Weeks%202018%20Portrait.jpg/jcr:content/renditions/tablet_308.jpg\n",
      "https://www.google.com/search?q=Tom%20Georgens%20NetApp%2C%20Inc.&tbm=isch&tbs=cdr:1,cd_min:1/1/2010,cd_max:12/31/2010\n",
      "Tom Georgens 2010\n",
      "hover start\n",
      "hover done\n",
      "Found 99 potential image elements\n"
     ]
    },
    {
     "name": "stderr",
     "output_type": "stream",
     "text": [
      "Scraping:  32%|██████████                      | 41/130 [05:56<12:49,  8.64s/it]"
     ]
    },
    {
     "name": "stdout",
     "output_type": "stream",
     "text": [
      "element 0 has url https://www.zdnet.com/a/img/2014/10/04/33a0d030-4bb8-11e4-b6a0-d4ae52e95e57/netapp052610a.jpg\n",
      "element 1 has url http://k5zd.com/wp-content/uploads/2013/09/closing_party.jpg\n",
      "element 2 has url http://wikibon.org/w/images/0/00/Storage_Valuation_Chart.jpg\n",
      "element 3 has url https://s.wsj.net/public/resources/images/OB-HW509_cisco0_G_20100316200519.jpg\n",
      "https://www.google.com/search?q=Tom%20Georgens%20NetApp%2C%20Inc.&tbm=isch&tbs=cdr:1,cd_min:1/1/2011,cd_max:12/31/2011\n",
      "Tom Georgens 2011\n",
      "hover start\n",
      "hover done\n",
      "Found 100 potential image elements\n"
     ]
    },
    {
     "name": "stderr",
     "output_type": "stream",
     "text": [
      "Scraping:  32%|██████████▎                     | 42/130 [06:04<12:38,  8.62s/it]"
     ]
    },
    {
     "name": "stdout",
     "output_type": "stream",
     "text": [
      "element 0 has url https://www.silicon.co.uk/wp-content/uploads/2011/03/NetApp-logo.jpg\n",
      "element 1 has url https://cdn.mos.cms.futurecdn.net/P5HCrfLoSqn5kWSnvBxLNV.jpg\n",
      "element 2 has url https://www.storagenewsletter.com/wp-content/uploads/old/icono8/netapp_fas2240_01.jpg\n",
      "element 3 has url https://ntptest.typepad.com/.a/6a00d8341ca27e53ef0154343e55c8970c-800wi\n",
      "https://www.google.com/search?q=Tom%20Georgens%20NetApp%2C%20Inc.&tbm=isch&tbs=cdr:1,cd_min:1/1/2012,cd_max:12/31/2012\n",
      "Tom Georgens 2012\n",
      "hover start\n",
      "hover done\n",
      "Found 100 potential image elements\n"
     ]
    },
    {
     "name": "stderr",
     "output_type": "stream",
     "text": [
      "Scraping:  33%|██████████▌                     | 43/130 [06:13<12:33,  8.66s/it]"
     ]
    },
    {
     "name": "stdout",
     "output_type": "stream",
     "text": [
      "element 0 has url https://i.ytimg.com/vi/Vvyroa199xA/hqdefault.jpg\n",
      "element 1 has url https://regmedia.co.uk/2012/11/02/open_door.jpg\n",
      "element 2 has url https://regmedia.co.uk/2012/09/04/netapp.jpg\n",
      "element 3 has url https://www.silicon.co.uk/wp-content/uploads/2011/03/engenio-logo.jpg\n",
      "https://www.google.com/search?q=Tom%20Georgens%20NetApp%2C%20Inc.&tbm=isch&tbs=cdr:1,cd_min:1/1/2013,cd_max:12/31/2013\n",
      "Tom Georgens 2013\n",
      "hover start\n",
      "hover done\n",
      "Found 100 potential image elements\n"
     ]
    },
    {
     "name": "stderr",
     "output_type": "stream",
     "text": [
      "Scraping:  34%|██████████▊                     | 44/130 [06:22<12:26,  8.68s/it]"
     ]
    },
    {
     "name": "stdout",
     "output_type": "stream",
     "text": [
      "element 0 has url http://b-i.forbesimg.com/siliconangle/files/2013/12/tomg.jpeg\n",
      "element 1 has url https://www.storagenewsletter.com/wp-content/uploads/old/0icono12/netapp_georgens.jpg\n",
      "element 2 has url https://i.ytimg.com/vi/B3gWT-5pIUM/sddefault.jpg\n",
      "element 3 has url https://i.ytimg.com/vi/-l6idQEaSAA/mqdefault.jpg\n",
      "https://www.google.com/search?q=Tom%20Georgens%20NetApp%2C%20Inc.&tbm=isch&tbs=cdr:1,cd_min:1/1/2014,cd_max:12/31/2014\n",
      "Tom Georgens 2014\n",
      "hover start\n",
      "hover done\n",
      "Found 99 potential image elements\n"
     ]
    },
    {
     "name": "stderr",
     "output_type": "stream",
     "text": [
      "Scraping:  35%|███████████                     | 45/130 [06:31<12:24,  8.76s/it]"
     ]
    },
    {
     "name": "stdout",
     "output_type": "stream",
     "text": [
      "element 0 has url https://divcomplatformstaging.s3.amazonaws.com/geoweek.divcomstaging.com/images/a7872d8da71cfe4332701002831a3511.jpg\n",
      "element 1 has url https://i.ytimg.com/vi/Vvyroa199xA/sddefault.jpg\n",
      "element 2 has url http://www.wrtc2014.org/wp-content/uploads/2014/04/W2SC.jpg\n",
      "element 3 has url https://wrtc2014.org/wp-content/uploads/2014/06/W2SC-2.jpg\n",
      "https://www.google.com/search?q=Tom%20Georgens%20NetApp%2C%20Inc.&tbm=isch&tbs=cdr:1,cd_min:1/1/2015,cd_max:12/31/2015\n",
      "Tom Georgens 2015\n",
      "hover start\n",
      "hover done\n",
      "Found 100 potential image elements\n"
     ]
    },
    {
     "name": "stderr",
     "output_type": "stream",
     "text": [
      "Scraping:  35%|███████████▎                    | 46/130 [06:39<12:11,  8.71s/it]"
     ]
    },
    {
     "name": "stdout",
     "output_type": "stream",
     "text": [
      "element 0 has url https://archive-images.prod.global.a201836.reutersmedia.net/2015/06/01/LYNXMPEB501EZ.JPG\n",
      "element 1 has url https://res.cloudinary.com/people-matters/image/upload/w_624,h_351,c_scale,q_80/v1431145271/1431145269.jpg\n",
      "element 2 has url https://s.wsj.net/public/resources/images/BT-AC201_DIGITS_G_20150601223454.jpg\n",
      "element 3 has url https://regmedia.co.uk/2015/02/23/folder_redundant_drawers.jpg\n",
      "https://www.google.com/search?q=George%20Kurian%20NetApp%2C%20Inc.&tbm=isch&tbs=cdr:1,cd_min:1/1/2016,cd_max:12/31/2016\n",
      "George Kurian 2016\n",
      "hover start\n",
      "hover done\n",
      "Found 100 potential image elements\n"
     ]
    },
    {
     "name": "stderr",
     "output_type": "stream",
     "text": [
      "Scraping:  36%|███████████▌                    | 47/130 [06:48<12:06,  8.76s/it]"
     ]
    },
    {
     "name": "stdout",
     "output_type": "stream",
     "text": [
      "element 0 has url https://assets.eweek.com/uploads/2020/10/GeorgeKurian.290x195_1.jpg\n",
      "element 1 has url https://regmedia.co.uk/2016/07/06/george_kurian.jpg\n",
      "element 2 has url https://media.bizj.us/view/img/8040282/netapp-ceo-george-kurian*660xx480-270-0-0.jpg\n",
      "element 3 has url https://www.siliconindia.com/magazine/pics/EDOI736916905.jpeg\n",
      "https://www.google.com/search?q=George%20Kurian%20NetApp%2C%20Inc.&tbm=isch&tbs=cdr:1,cd_min:1/1/2017,cd_max:12/31/2017\n",
      "George Kurian 2017\n",
      "hover start\n",
      "hover done\n",
      "Found 100 potential image elements\n"
     ]
    },
    {
     "name": "stderr",
     "output_type": "stream",
     "text": [
      "Scraping:  37%|███████████▊                    | 48/130 [06:57<11:56,  8.74s/it]"
     ]
    },
    {
     "name": "stdout",
     "output_type": "stream",
     "text": [
      "element 0 has url https://www.digitalcreed.in/wp-content/uploads/2017/11/George-Kurian-300x225.jpg\n",
      "element 1 has url https://d15shllkswkct0.cloudfront.net/wp-content/blogs.dir/1/files/2018/05/George-Kurian-NetApp.jpg\n",
      "element 2 has url https://www.nasdaq.com/sites/acquia.prod/files/image/db0bece4bcd3ffc80878ca51df8435801398a5b3_stock-traders_large.jpg\n",
      "element 3 has url https://www.sec.gov/Archives/edgar/data/1002047/000119312517244241/g420710g53e52.jpg\n",
      "https://www.google.com/search?q=George%20Kurian%20NetApp%2C%20Inc.&tbm=isch&tbs=cdr:1,cd_min:1/1/2018,cd_max:12/31/2018\n",
      "George Kurian 2018\n",
      "hover start\n",
      "hover done\n",
      "Found 100 potential image elements\n"
     ]
    },
    {
     "name": "stderr",
     "output_type": "stream",
     "text": [
      "Scraping:  38%|████████████                    | 49/130 [07:06<11:56,  8.85s/it]"
     ]
    },
    {
     "name": "stdout",
     "output_type": "stream",
     "text": [
      "element 0 has url https://i.ytimg.com/vi/dHUDkMwneZs/maxresdefault.jpg\n",
      "element 1 has url https://files.cyberriskalliance.com/wp-content/uploads/2023/08/george-kurian-1.jpg\n",
      "element 2 has url https://media.licdn.com/dms/image/v2/C5603AQG6kHoQ6NpfQw/profile-displayphoto-shrink_200_200/profile-displayphoto-shrink_200_200/0/1517653915217?e=2147483647&v=beta&t=DHH2YE4WmZZ6owcrI5KObcRgM9dIrYsV3QAffp-s_6w\n",
      "element 3 has url https://media.licdn.com/dms/image/v2/C4E12AQEu01TzN3RmQQ/article-cover_image-shrink_720_1280/article-cover_image-shrink_720_1280/0/1531590792509?e=2147483647&v=beta&t=05B6mFApT5KdhN36ezf0f34lvu1BuudZweveVPpkp8g\n",
      "https://www.google.com/search?q=George%20Kurian%20NetApp%2C%20Inc.&tbm=isch&tbs=cdr:1,cd_min:1/1/2019,cd_max:12/31/2019\n",
      "George Kurian 2019\n",
      "hover start\n",
      "hover done\n",
      "Found 100 potential image elements\n"
     ]
    },
    {
     "name": "stderr",
     "output_type": "stream",
     "text": [
      "Scraping:  38%|████████████▎                   | 50/130 [07:15<11:53,  8.92s/it]"
     ]
    },
    {
     "name": "stdout",
     "output_type": "stream",
     "text": [
      "element 0 has url https://d15shllkswkct0.cloudfront.net/wp-content/blogs.dir/1/files/2019/04/GKurian.jpg\n",
      "element 1 has url https://i.insider.com/5d54954acd97844af4118025?width=1099&format=jpeg\n",
      "element 2 has url https://i.ytimg.com/vi/L_REdDje3Gs/maxresdefault.jpg\n",
      "element 3 has url https://i.insider.com/5d7c01c12e22af1c33382a36?width=1200&format=jpeg\n",
      "https://www.google.com/search?q=Mark%20Templeton%20Citrix%20Systems%2C%20Inc.&tbm=isch&tbs=cdr:1,cd_min:1/1/2010,cd_max:12/31/2010\n",
      "Mark Templeton 2010\n",
      "hover start\n",
      "hover done\n",
      "Found 100 potential image elements\n"
     ]
    },
    {
     "name": "stderr",
     "output_type": "stream",
     "text": [
      "Scraping:  39%|████████████▌                   | 51/130 [07:24<11:42,  8.89s/it]"
     ]
    },
    {
     "name": "stdout",
     "output_type": "stream",
     "text": [
      "element 0 has url https://www.siliconrepublic.com/wp-content/uploads/2014/12/200410/3896marktempleton.jpg\n",
      "element 1 has url https://www.chiefexecutive.net/media/MediaManager/magazines/2010-ceo-wealth-3.jpg\n",
      "element 2 has url https://www.chiefexecutive.net/media/MediaManager/magazines/2010-ceo-wealth-1.jpg\n",
      "element 3 has url https://www.chiefexecutive.net/media/MediaManager/magazines/ranking-ceo-wealth-1.gif\n",
      "https://www.google.com/search?q=Mark%20Templeton%20Citrix%20Systems%2C%20Inc.&tbm=isch&tbs=cdr:1,cd_min:1/1/2011,cd_max:12/31/2011\n",
      "Mark Templeton 2011\n",
      "hover start\n",
      "hover done\n",
      "Found 100 potential image elements\n"
     ]
    },
    {
     "name": "stderr",
     "output_type": "stream",
     "text": [
      "Scraping:  40%|████████████▊                   | 52/130 [07:33<11:26,  8.81s/it]"
     ]
    },
    {
     "name": "stdout",
     "output_type": "stream",
     "text": [
      "element 0 has url https://www.tmurgent.com/TmBlog/wp-content/uploads/2011/X/Mark.jpg\n",
      "element 1 has url https://www.silicon.co.uk/wp-content/uploads/library-extension/citrix-desktop-virtualisation.jpg\n",
      "element 2 has url https://upload.wikimedia.org/wikipedia/en/thumb/6/65/Citrix_Headquarters_1991_to_1997.jpg/640px-Citrix_Headquarters_1991_to_1997.jpg\n",
      "element 3 has url https://wraltechwire.com/wp-content/uploads/2017/11/sharefile_new_logo-249x121.jpg\n",
      "https://www.google.com/search?q=Mark%20Templeton%20Citrix%20Systems%2C%20Inc.&tbm=isch&tbs=cdr:1,cd_min:1/1/2012,cd_max:12/31/2012\n",
      "Mark Templeton 2012\n",
      "hover start\n",
      "hover done\n",
      "Found 100 potential image elements\n"
     ]
    },
    {
     "name": "stderr",
     "output_type": "stream",
     "text": [
      "Scraping:  41%|█████████████                   | 53/130 [07:41<11:13,  8.74s/it]"
     ]
    },
    {
     "name": "stdout",
     "output_type": "stream",
     "text": [
      "element 0 has url https://i.ytimg.com/vi/Vj5EOc96b9c/hqdefault.jpg\n",
      "element 1 has url https://i.ytimg.com/vi/6IgmJXmOaVw/mqdefault.jpg\n",
      "element 2 has url https://i.ytimg.com/vi/Vj5EOc96b9c/mqdefault.jpg\n",
      "element 3 has url https://infochachkie.com/wp-content/uploads/2013/01/image001.png\n",
      "https://www.google.com/search?q=Mark%20Templeton%20Citrix%20Systems%2C%20Inc.&tbm=isch&tbs=cdr:1,cd_min:1/1/2013,cd_max:12/31/2013\n",
      "Mark Templeton 2013\n",
      "hover start\n",
      "hover done\n",
      "Found 98 potential image elements\n"
     ]
    },
    {
     "name": "stderr",
     "output_type": "stream",
     "text": [
      "Scraping:  42%|█████████████▎                  | 54/130 [07:50<11:04,  8.75s/it]"
     ]
    },
    {
     "name": "stdout",
     "output_type": "stream",
     "text": [
      "element 0 has url https://i.ytimg.com/vi/Vj5EOc96b9c/sddefault.jpg\n",
      "element 1 has url https://www.digitalnewsasia.com/sites/default/files/images/digital%20economy/Mark%20Templeton%20CEO%20Citrix%20at%20Synergy%202013.jpg\n",
      "element 2 has url https://i.ytimg.com/vi/6IgmJXmOaVw/maxresdefault.jpg\n",
      "element 3 has url https://virtualizationreview.com/articles/2011/05/01/~/media/ECG/virtualizationreview/Images/2011/05/templeton_mark.ashx\n",
      "https://www.google.com/search?q=Mark%20Templeton%20Citrix%20Systems%2C%20Inc.&tbm=isch&tbs=cdr:1,cd_min:1/1/2014,cd_max:12/31/2014\n",
      "Mark Templeton 2014\n",
      "hover start\n",
      "hover done\n",
      "Found 100 potential image elements\n"
     ]
    },
    {
     "name": "stderr",
     "output_type": "stream",
     "text": [
      "Scraping:  42%|█████████████▌                  | 55/130 [07:58<10:51,  8.69s/it]"
     ]
    },
    {
     "name": "stdout",
     "output_type": "stream",
     "text": [
      "element 0 has url https://virtualizationreview.com/-/media/ECG/VirtualizationReview/Images/introimages2014/templetonreturns.jpg\n",
      "element 1 has url https://www.workspot.com/wp-content/uploads/2018/03/Mark-Templeton-PR-photo.jpg\n",
      "element 2 has url http://www.techsmart.co.za/data/ckuploads/2014-05-26/Citrix%20CEO%2C%20Mark%20Templeton%20Inline2.jpg\n",
      "element 3 has url https://japan.zdnet.com/storage/2014/05/08/b9d77cc6f3aa4ed25126cd996c17359b/140507_citrix_1.jpg\n",
      "https://www.google.com/search?q=Mark%20Templeton%20Citrix%20Systems%2C%20Inc.&tbm=isch&tbs=cdr:1,cd_min:1/1/2015,cd_max:12/31/2015\n",
      "Mark Templeton 2015\n",
      "hover start\n",
      "hover done\n",
      "Found 100 potential image elements\n"
     ]
    },
    {
     "name": "stderr",
     "output_type": "stream",
     "text": [
      "Scraping:  43%|█████████████▊                  | 56/130 [08:07<10:44,  8.70s/it]"
     ]
    },
    {
     "name": "stdout",
     "output_type": "stream",
     "text": [
      "element 0 has url https://s.wsj.net/public/resources/images/BN-JP455_0728CI_M_20150728173214.jpg\n",
      "element 1 has url https://static01.nyt.com/images/2012/09/23/business/23-CORNER/23-CORNER-superJumbo.jpg\n",
      "element 2 has url http://www.itnewsafrica.com/wp-content/uploads/2015/05/Citrix-CEO-Mark-Templeton.jpg\n",
      "element 3 has url https://mms.businesswire.com/media/20150112006574/en/448719/4/Carlos-Sartorius-019-483x360.jpg\n",
      "https://www.google.com/search?q=Kirill%20Tatarinov%20Citrix%20Systems%2C%20Inc.&tbm=isch&tbs=cdr:1,cd_min:1/1/2016,cd_max:12/31/2016\n",
      "Kirill Tatarinov 2016\n",
      "hover start\n",
      "hover done\n",
      "Found 74 potential image elements\n"
     ]
    },
    {
     "name": "stderr",
     "output_type": "stream",
     "text": [
      "Scraping:  44%|██████████████                  | 57/130 [08:16<10:31,  8.65s/it]"
     ]
    },
    {
     "name": "stdout",
     "output_type": "stream",
     "text": [
      "element 0 has url https://upload.wikimedia.org/wikipedia/commons/7/7c/Kirill_Tatarinov.png\n",
      "element 1 has url https://techcrunch.com/wp-content/uploads/2017/02/citrix-ceo-kirill-tatarinov.jpg\n",
      "element 2 has url https://i.ytimg.com/vi/ndWQJgwZNP4/maxresdefault.jpg\n",
      "element 3 has url https://fortune.com/img-assets/wp-content/uploads/2014/06/162273680.jpg\n",
      "https://www.google.com/search?q=David%20J.%20Henshall%20Citrix%20Systems%2C%20Inc.&tbm=isch&tbs=cdr:1,cd_min:1/1/2017,cd_max:12/31/2017\n",
      "David J. Henshall 2017\n",
      "hover start\n",
      "hover done\n",
      "Found 47 potential image elements\n"
     ]
    },
    {
     "name": "stderr",
     "output_type": "stream",
     "text": [
      "Scraping:  45%|██████████████▎                 | 58/130 [08:24<10:21,  8.64s/it]"
     ]
    },
    {
     "name": "stdout",
     "output_type": "stream",
     "text": [
      "element 0 has url https://www.intelligenttechchannels.com/wp-content/uploads/sites/7/2017/07/DavidHenshall_500px.jpg\n",
      "element 1 has url https://pbs.twimg.com/profile_images/887055881531256834/XljSwdnD_200x200.jpg\n",
      "element 2 has url https://media.bizj.us/view/img/5304711/john-brock-media-photo*xx1200-675-0-207.jpg\n",
      "element 3 has url https://gecnewswire.com/wp-content/uploads/2017/09/Mark-J-Ferrer.jpg\n",
      "https://www.google.com/search?q=David%20J.%20Henshall%20Citrix%20Systems%2C%20Inc.&tbm=isch&tbs=cdr:1,cd_min:1/1/2018,cd_max:12/31/2018\n",
      "David J. Henshall 2018\n",
      "hover start\n",
      "hover done\n",
      "Found 80 potential image elements\n"
     ]
    },
    {
     "name": "stderr",
     "output_type": "stream",
     "text": [
      "Scraping:  45%|██████████████▌                 | 59/130 [08:33<10:12,  8.62s/it]"
     ]
    },
    {
     "name": "stdout",
     "output_type": "stream",
     "text": [
      "element 0 has url https://media.bizj.us/view/img/10797132/screen-shot-2018-02-20-at-13643-pm*1200xx1144-644-0-123.png\n",
      "element 1 has url https://cdn.ttgtmedia.com/rms/onlineImages/henshall_david.jpg\n",
      "element 2 has url https://media.bizj.us/view/img/11152329/2018011601dsc5346ededhr*xx5394-3034-0-283.jpg\n",
      "element 3 has url https://media.bizj.us/view/img/11142442/zignavisualzignavisualfar2225*xx2998-1686-0-157.jpg\n",
      "https://www.google.com/search?q=David%20J.%20Henshall%20Citrix%20Systems%2C%20Inc.&tbm=isch&tbs=cdr:1,cd_min:1/1/2019,cd_max:12/31/2019\n",
      "David J. Henshall 2019\n",
      "hover start\n",
      "hover done\n",
      "Found 91 potential image elements\n"
     ]
    },
    {
     "name": "stderr",
     "output_type": "stream",
     "text": [
      "Scraping:  46%|██████████████▊                 | 60/130 [08:42<10:03,  8.63s/it]"
     ]
    },
    {
     "name": "stdout",
     "output_type": "stream",
     "text": [
      "element 0 has url https://media.licdn.com/dms/image/v2/C4E03AQG0mHogbJT-KQ/profile-displayphoto-shrink_200_200/profile-displayphoto-shrink_200_200/0/1566858365145?e=2147483647&v=beta&t=aipBr9Ht_5Gmn2sBlGbDt89uRM34fvn3FsV_-qeZIDo\n",
      "element 1 has url https://www.sec.gov/Archives/edgar/data/877890/000119312519118580/g672199g18e12.jpg\n",
      "element 2 has url https://www.sec.gov/Archives/edgar/data/877890/000119312519118580/g672199page001.jpg\n",
      "element 3 has url https://www.sec.gov/Archives/edgar/data/877890/000119312519118580/g672199g37o82.jpg\n",
      "https://www.google.com/search?q=Kevin%20Johnson%20Juniper%20Networks%2C%20Inc.&tbm=isch&tbs=cdr:1,cd_min:1/1/2010,cd_max:12/31/2010\n",
      "Kevin Johnson 2010\n",
      "hover start\n",
      "hover done\n",
      "Found 100 potential image elements\n"
     ]
    },
    {
     "name": "stderr",
     "output_type": "stream",
     "text": [
      "Scraping:  47%|███████████████                 | 61/130 [08:51<10:04,  8.76s/it]"
     ]
    },
    {
     "name": "stdout",
     "output_type": "stream",
     "text": [
      "element 0 has url http://siliconangle.com/files/2010/04/image_thumb29.png\n",
      "element 1 has url https://www.sec.gov/Archives/edgar/data/1043604/000095012310018160/f54104f5410400.gif\n",
      "element 2 has url https://i2.cdn.turner.com/money/galleries/2010/fortune/1010/gallery.fast_risers_under_40.fortune/images/jeffrey_sanders.jpg\n",
      "element 3 has url https://s.wsj.net/public/resources/images/OB-HW509_cisco0_G_20100316200519.jpg\n",
      "https://www.google.com/search?q=Kevin%20Johnson%20Juniper%20Networks%2C%20Inc.&tbm=isch&tbs=cdr:1,cd_min:1/1/2011,cd_max:12/31/2011\n",
      "Kevin Johnson 2011\n",
      "hover start\n",
      "hover done\n",
      "Found 100 potential image elements\n"
     ]
    },
    {
     "name": "stderr",
     "output_type": "stream",
     "text": [
      "Scraping:  48%|███████████████▎                | 62/130 [08:59<09:56,  8.77s/it]"
     ]
    },
    {
     "name": "stdout",
     "output_type": "stream",
     "text": [
      "element 0 has url https://assets.mobileworldlive.com/wp-content/uploads/2011/03/16131103/MWW-03_Juniper_INT.jpg\n",
      "element 1 has url https://www.silicon.co.uk/wp-content/uploads/2010/12/Altor-Juniper-.jpg\n",
      "element 2 has url https://www.zdnet.com/a/img/2014/10/04/80828ead-4bb4-11e4-b6a0-d4ae52e95e57/jnpr022311c.png\n",
      "element 3 has url http://images.forbes.com/media/2011/02/01/0201_junipernetworks-kevin-johnson_400x400.jpg\n",
      "https://www.google.com/search?q=Kevin%20Johnson%20Juniper%20Networks%2C%20Inc.&tbm=isch&tbs=cdr:1,cd_min:1/1/2012,cd_max:12/31/2012\n",
      "Kevin Johnson 2012\n",
      "hover start\n",
      "hover done\n",
      "Found 100 potential image elements\n"
     ]
    },
    {
     "name": "stderr",
     "output_type": "stream",
     "text": [
      "Scraping:  48%|███████████████▌                | 63/130 [09:08<09:48,  8.78s/it]"
     ]
    },
    {
     "name": "stdout",
     "output_type": "stream",
     "text": [
      "element 0 has url https://i.ytimg.com/vi/USXCVNwfS1M/hqdefault.jpg\n",
      "element 1 has url https://assets.mobileworldlive.com/wp-content/uploads/2012/05/16131149/MWL_Frontline_Juniper.jpg\n",
      "element 2 has url https://i.ytimg.com/vi/pvKvLJ6IJy0/hqdefault.jpg\n",
      "element 3 has url https://www.digitalnewsasia.com/sites/default/files/images/digital%20economy/Data%20Center%20illustration1.jpg\n",
      "https://www.google.com/search?q=Shaygan%20Kheradpir%20Juniper%20Networks%2C%20Inc.&tbm=isch&tbs=cdr:1,cd_min:1/1/2013,cd_max:12/31/2013\n",
      "Shaygan Kheradpir 2013\n",
      "hover start\n",
      "hover done\n",
      "Found 35 potential image elements\n"
     ]
    },
    {
     "name": "stderr",
     "output_type": "stream",
     "text": [
      "Scraping:  49%|███████████████▊                | 64/130 [09:17<09:32,  8.67s/it]"
     ]
    },
    {
     "name": "stdout",
     "output_type": "stream",
     "text": [
      "element 0 has url http://www.shaygankheradpir.com/images/pic.jpg\n",
      "element 1 has url https://www.silicon.co.uk/wp-content/uploads/2013/11/shaygan2.jpg\n",
      "element 2 has url http://www.shaygankheradpir.com/images/sliders/layerslider/plane_1.png\n",
      "element 3 has url http://img.youtube.com/vi/MOa9xjiEk54/maxresdefault.jpg\n",
      "https://www.google.com/search?q=Rami%20Rahim%20Juniper%20Networks%2C%20Inc.&tbm=isch&tbs=cdr:1,cd_min:1/1/2014,cd_max:12/31/2014\n",
      "Rami Rahim 2014\n",
      "hover start\n",
      "hover done\n",
      "Found 100 potential image elements\n"
     ]
    },
    {
     "name": "stderr",
     "output_type": "stream",
     "text": [
      "Scraping:  50%|████████████████                | 65/130 [09:25<09:26,  8.71s/it]"
     ]
    },
    {
     "name": "stdout",
     "output_type": "stream",
     "text": [
      "element 0 has url https://eu-images.contentstack.com/v3/assets/blt10e444bce2d36aa8/blt9686dd9f07e04063/65265f248cae6a90cd16395b/rami-rahim-juniper-networks_0.jpg\n",
      "element 1 has url https://s.wsj.net/public/resources/images/BN-FM219_1110JU_J_20141110201834.jpg\n",
      "element 2 has url https://i.ytimg.com/vi/pwBuxCKLzZw/mqdefault.jpg\n",
      "element 3 has url http://www.ece.utoronto.ca/wp-content/uploads/2014/02/BizSkule-Cloud600.jpg\n",
      "https://www.google.com/search?q=Rami%20Rahim%20Juniper%20Networks%2C%20Inc.&tbm=isch&tbs=cdr:1,cd_min:1/1/2015,cd_max:12/31/2015\n",
      "Rami Rahim 2015\n",
      "hover start\n",
      "hover done\n",
      "Found 100 potential image elements\n"
     ]
    },
    {
     "name": "stderr",
     "output_type": "stream",
     "text": [
      "Scraping:  51%|████████████████▏               | 66/130 [09:34<09:18,  8.73s/it]"
     ]
    },
    {
     "name": "stdout",
     "output_type": "stream",
     "text": [
      "element 0 has url https://pbs.twimg.com/profile_images/620351509906132992/_0Ln2nk__400x400.jpg\n",
      "element 1 has url https://www.digitalnewsasia.com/sites/default/files/images/digital%20economy/Rami%20Rahim%20CEO%20of%20Juniper%20alternate%20pix.png\n",
      "element 2 has url https://infotechlead.com/wp-content/uploads/2014/11/Juniper-Networks-CEO-Rami-Rahim.jpg\n",
      "element 3 has url https://i.ytimg.com/vi/sSQDg9g0YIs/maxresdefault.jpg\n",
      "https://www.google.com/search?q=Rami%20Rahim%20Juniper%20Networks%2C%20Inc.&tbm=isch&tbs=cdr:1,cd_min:1/1/2016,cd_max:12/31/2016\n",
      "Rami Rahim 2016\n",
      "hover start\n",
      "hover done\n",
      "Found 100 potential image elements\n"
     ]
    },
    {
     "name": "stderr",
     "output_type": "stream",
     "text": [
      "Scraping:  52%|████████████████▍               | 67/130 [09:43<09:09,  8.72s/it]"
     ]
    },
    {
     "name": "stdout",
     "output_type": "stream",
     "text": [
      "element 0 has url https://fortune.com/img-assets/wp-content/uploads/2016/12/20151218_rami_rahim_0074_print-jpg.jpeg\n",
      "element 1 has url https://s.hdnux.com/photos/53/11/67/11312582/6/rawImage.jpg\n",
      "element 2 has url https://funden2.s3.us-west-1.amazonaws.com/50739/ozllnsuit3hvohb8fpjr.png\n",
      "element 3 has url https://i.ytimg.com/vi/qUmuV98Y3Y4/hqdefault.jpg\n",
      "https://www.google.com/search?q=Rami%20Rahim%20Juniper%20Networks%2C%20Inc.&tbm=isch&tbs=cdr:1,cd_min:1/1/2017,cd_max:12/31/2017\n",
      "Rami Rahim 2017\n",
      "hover start\n",
      "hover done\n",
      "Found 100 potential image elements\n"
     ]
    },
    {
     "name": "stderr",
     "output_type": "stream",
     "text": [
      "Scraping:  52%|████████████████▋               | 68/130 [09:52<08:59,  8.70s/it]"
     ]
    },
    {
     "name": "stdout",
     "output_type": "stream",
     "text": [
      "element 0 has url https://www.arabianbusiness.com/wp-content/uploads/sites/3/cloud/2021/09/14/qAwUOU7I-rami-rahim.jpg\n",
      "element 1 has url https://i.ytimg.com/vi/qUmuV98Y3Y4/sddefault.jpg\n",
      "element 2 has url https://pbs.twimg.com/media/DQ3SlkuUIAABykv.jpg\n",
      "element 3 has url https://gecnewswire.com/wp-content/uploads/2017/07/rami-rahim.jpg\n",
      "https://www.google.com/search?q=Rami%20Rahim%20Juniper%20Networks%2C%20Inc.&tbm=isch&tbs=cdr:1,cd_min:1/1/2018,cd_max:12/31/2018\n",
      "Rami Rahim 2018\n",
      "hover start\n",
      "hover done\n",
      "Found 100 potential image elements\n"
     ]
    },
    {
     "name": "stderr",
     "output_type": "stream",
     "text": [
      "Scraping:  53%|████████████████▉               | 69/130 [10:00<08:51,  8.71s/it]"
     ]
    },
    {
     "name": "stdout",
     "output_type": "stream",
     "text": [
      "element 0 has url https://s.wsj.net/public/resources/images/ON-CK399_Junipe_G_20180201113807.jpg\n",
      "element 1 has url https://content.techgig.com/img/65978417/Master.jpg?resizemode=4&width=400\n",
      "element 2 has url https://interactive.wired.com/www-wired-com__brandlab__2017__11__rami-rahim-juniper-ceo/WIRED_Juniper_Rami_Rahim_PQ1_Desktop_2.jpg\n",
      "element 3 has url https://etimg.etb2bimg.com/photo/55933358.cms\n",
      "https://www.google.com/search?q=Rami%20Rahim%20Juniper%20Networks%2C%20Inc.&tbm=isch&tbs=cdr:1,cd_min:1/1/2019,cd_max:12/31/2019\n",
      "Rami Rahim 2019\n",
      "hover start\n",
      "hover done\n",
      "Found 100 potential image elements\n"
     ]
    },
    {
     "name": "stderr",
     "output_type": "stream",
     "text": [
      "Scraping:  54%|█████████████████▏              | 70/130 [10:09<08:42,  8.71s/it]"
     ]
    },
    {
     "name": "stdout",
     "output_type": "stream",
     "text": [
      "element 0 has url https://media.datacenterdynamics.com/media/images/Rami8_HR.original.jpg\n",
      "element 1 has url https://media.bizj.us/view/img/11246933/20190312ramirahimbhs003*1200xx3900-2194-0-203.jpg\n",
      "element 2 has url https://etimg.etb2bimg.com/photo/68708196.cms\n",
      "element 3 has url https://assets.mobileworldlive.com/wp-content/uploads/2019/02/16121733/Rami.png\n",
      "https://www.google.com/search?q=Eddie%20Edwards%20CommScope%20Holding%20Company%2C%20Inc.&tbm=isch&tbs=cdr:1,cd_min:1/1/2010,cd_max:12/31/2010\n",
      "Eddie Edwards 2010\n",
      "hover start\n",
      "hover done\n",
      "Found 100 potential image elements\n"
     ]
    },
    {
     "name": "stderr",
     "output_type": "stream",
     "text": [
      "Scraping:  55%|█████████████████▍              | 71/130 [10:18<08:38,  8.79s/it]"
     ]
    },
    {
     "name": "stdout",
     "output_type": "stream",
     "text": [
      "element 0 has url https://www.sec.gov/Archives/edgar/data/914209/000092881605001517/x6x1.jpg\n",
      "element 1 has url https://i2.cdn.turner.com/money/2010/08/03/pf/new_force_wall_street.fortune/altman_schlosstein.top.jpg\n",
      "element 2 has url https://www.sec.gov/Archives/edgar/data/89089/000008908921000026/sci_goldpreview1.jpg\n",
      "element 3 has url https://blogs.lib.unc.edu/morton/wp-content/uploads/sites/7/2010/11/P081_NTBS4_003188.jpg\n",
      "https://www.google.com/search?q=Eddie%20Edwards%20CommScope%20Holding%20Company%2C%20Inc.&tbm=isch&tbs=cdr:1,cd_min:1/1/2011,cd_max:12/31/2011\n",
      "Eddie Edwards 2011\n",
      "hover start\n",
      "hover done\n",
      "Found 65 potential image elements\n"
     ]
    },
    {
     "name": "stderr",
     "output_type": "stream",
     "text": [
      "Scraping:  55%|█████████████████▋              | 72/130 [10:27<08:25,  8.72s/it]"
     ]
    },
    {
     "name": "stdout",
     "output_type": "stream",
     "text": [
      "element 0 has url https://mms.businesswire.com/media/20160922005790/en/266398/5/2011_Commscope_Logo_new.jpg\n",
      "element 1 has url https://wirelessestimator.com/wifi/images/uploads/CommScope-Carlyle2.jpg\n",
      "element 2 has url https://wirelessestimator.com/wifi/images/uploads/Orion_Logistics.jpg\n",
      "element 3 has url https://wirelessestimator.com/wifi/images/uploads/Crown-American1.jpg\n",
      "https://www.google.com/search?q=Eddie%20Edwards%20CommScope%20Holding%20Company%2C%20Inc.&tbm=isch&tbs=cdr:1,cd_min:1/1/2012,cd_max:12/31/2012\n",
      "Eddie Edwards 2012\n",
      "hover start\n",
      "hover done\n",
      "Found 100 potential image elements\n"
     ]
    },
    {
     "name": "stderr",
     "output_type": "stream",
     "text": [
      "Scraping:  56%|█████████████████▉              | 73/130 [10:35<08:18,  8.75s/it]"
     ]
    },
    {
     "name": "stdout",
     "output_type": "stream",
     "text": [
      "element 0 has url https://ise.ncsu.edu/wp-content/uploads/2015/12/vb-lougee-lll-small.jpg\n",
      "element 1 has url https://ise.ncsu.edu/wp-content/uploads/2015/12/thomas-laundon-small.jpg\n",
      "element 2 has url https://ise.ncsu.edu/wp-content/uploads/2015/12/john-usher-small.jpg\n",
      "element 3 has url https://ise.ncsu.edu/wp-content/uploads/2015/12/edgar-woolard-small.jpg\n",
      "https://www.google.com/search?q=Eddie%20Edwards%20CommScope%20Holding%20Company%2C%20Inc.&tbm=isch&tbs=cdr:1,cd_min:1/1/2013,cd_max:12/31/2013\n",
      "Eddie Edwards 2013\n",
      "hover start\n",
      "hover done\n",
      "Found 100 potential image elements\n"
     ]
    },
    {
     "name": "stderr",
     "output_type": "stream",
     "text": [
      "Scraping:  57%|██████████████████▏             | 74/130 [10:44<08:06,  8.69s/it]"
     ]
    },
    {
     "name": "stdout",
     "output_type": "stream",
     "text": [
      "element 0 has url https://www.sec.gov/Archives/edgar/data/1517228/000119312513413516/g561490ifc.jpg\n",
      "element 1 has url https://www.sec.gov/Archives/edgar/data/1517228/000119312513317314/g561490g90z02.jpg\n",
      "element 2 has url https://www.sec.gov/Archives/edgar/data/1517228/000119312513317314/g561490g96v12.jpg\n",
      "element 3 has url https://www.sec.gov/Archives/edgar/data/1517228/000119312514093980/g677786g77d40.jpg\n",
      "https://www.google.com/search?q=Eddie%20Edwards%20CommScope%20Holding%20Company%2C%20Inc.&tbm=isch&tbs=cdr:1,cd_min:1/1/2014,cd_max:12/31/2014\n",
      "Eddie Edwards 2014\n",
      "hover start\n",
      "hover done\n",
      "Found 100 potential image elements\n"
     ]
    },
    {
     "name": "stderr",
     "output_type": "stream",
     "text": [
      "Scraping:  58%|██████████████████▍             | 75/130 [10:52<07:56,  8.66s/it]"
     ]
    },
    {
     "name": "stdout",
     "output_type": "stream",
     "text": [
      "element 0 has url https://bloximages.newyork1.vip.townnews.com/hickoryrecord.com/content/tncms/assets/v3/editorial/6/54/6546a33e-0123-5430-8078-c7f634106a69/50d33ceee31ad.image.jpg\n",
      "element 1 has url x-raw-image:///9579026e78c1ed8dfff0841526cfb1cab6e2372f3adaec08580993f2ce746aea\n",
      "element 2 has url x-raw-image:///5f4198d21051ea1b7a255b4dab1d18a95cc932db4e74d56ab83c1bbf563b9d6e\n",
      "element 3 has url https://www.sec.gov/Archives/edgar/data/1517228/000119312514060685/g658818tx_pg038.jpg\n",
      "https://www.google.com/search?q=Eddie%20Edwards%20CommScope%20Holding%20Company%2C%20Inc.&tbm=isch&tbs=cdr:1,cd_min:1/1/2015,cd_max:12/31/2015\n",
      "Eddie Edwards 2015\n",
      "hover start\n",
      "hover done\n",
      "Found 89 potential image elements\n"
     ]
    },
    {
     "name": "stderr",
     "output_type": "stream",
     "text": [
      "Scraping:  58%|██████████████████▋             | 76/130 [11:01<07:47,  8.66s/it]"
     ]
    },
    {
     "name": "stdout",
     "output_type": "stream",
     "text": [
      "element 0 has url http://mms.businesswire.com/media/20150327005022/en/458824/4/Edwards_E_medium.jpg\n",
      "element 1 has url https://nmcdn.io/e186d21f8c7946a19faed23c3da2f0da/d57b984d93fe494cb804b07f164151b3/files/news/eddie-edwards-commscope-750xx3000-1688-0-154.jpg\n",
      "element 2 has url http://mms.businesswire.com/media/20150901005367/en/483415/4/FDH4000_ISO_DoorOpenR.jpg\n",
      "element 3 has url https://www.sec.gov/Archives/edgar/data/1517228/000119312514093980/g677786g88b63.jpg\n",
      "https://www.google.com/search?q=Eddie%20Edwards%20CommScope%20Holding%20Company%2C%20Inc.&tbm=isch&tbs=cdr:1,cd_min:1/1/2016,cd_max:12/31/2016\n",
      "Eddie Edwards 2016\n",
      "hover start\n",
      "hover done\n",
      "Found 100 potential image elements\n"
     ]
    },
    {
     "name": "stderr",
     "output_type": "stream",
     "text": [
      "Scraping:  59%|██████████████████▉             | 77/130 [11:10<07:38,  8.66s/it]"
     ]
    },
    {
     "name": "stdout",
     "output_type": "stream",
     "text": [
      "element 0 has url http://mms.businesswire.com/media/20160922005790/en/546043/4/EE_Carlyle_Award.jpg\n",
      "element 1 has url https://media.bizj.us/view/img/1802951/eddie-edwards-commscope*xx3000-1688-0-154.jpg\n",
      "element 2 has url https://media.bizj.us/view/img/1588361/commscope-hq-new-logo*1200xx2061-1159-0-147.jpg\n",
      "element 3 has url https://www.sec.gov/Archives/edgar/data/1517228/000119312516468563/g46883g45b38.jpg\n",
      "https://www.google.com/search?q=Eddie%20Edwards%20CommScope%20Holding%20Company%2C%20Inc.&tbm=isch&tbs=cdr:1,cd_min:1/1/2017,cd_max:12/31/2017\n",
      "Eddie Edwards 2017\n",
      "hover start\n",
      "hover done\n",
      "Found 100 potential image elements\n"
     ]
    },
    {
     "name": "stderr",
     "output_type": "stream",
     "text": [
      "Scraping:  60%|███████████████████▏            | 78/130 [11:18<07:30,  8.66s/it]"
     ]
    },
    {
     "name": "stdout",
     "output_type": "stream",
     "text": [
      "element 0 has url https://mms.businesswire.com/media/20201001005399/en/668274/5/CommScope_positive_RGB.jpg?download=1\n",
      "element 1 has url https://upload.wikimedia.org/wikipedia/commons/6/6e/CommScope_Corporate_Headquarters.jpg\n",
      "element 2 has url https://mms.businesswire.com/media/20250312419346/en/811674/21/CommScope_positive_RGB.jpg\n",
      "element 3 has url http://mms.businesswire.com/media/20171023006289/en/620193/4/CommScope_Catawba_Plant_Sign_%28002%29.jpg\n",
      "https://www.google.com/search?q=Eddie%20Edwards%20CommScope%20Holding%20Company%2C%20Inc.&tbm=isch&tbs=cdr:1,cd_min:1/1/2018,cd_max:12/31/2018\n",
      "Eddie Edwards 2018\n",
      "hover start\n",
      "hover done\n",
      "Found 100 potential image elements\n"
     ]
    },
    {
     "name": "stderr",
     "output_type": "stream",
     "text": [
      "Scraping:  61%|███████████████████▍            | 79/130 [11:27<07:21,  8.65s/it]"
     ]
    },
    {
     "name": "stdout",
     "output_type": "stream",
     "text": [
      "element 0 has url https://mms.businesswire.com/media/20180328005111/en/648503/4/Alex_Pease_photo_3-23-18.jpg\n",
      "element 1 has url https://mms.businesswire.com/media/20181108005272/en/689221/4/Shaping_Social_1080x1080.jpg\n",
      "element 2 has url https://www.sec.gov/Archives/edgar/data/1645494/000114420418058431/slide_01.jpg\n",
      "element 3 has url https://deps.ua/images/news/market_news/2018/11/66697.jpg\n",
      "https://www.google.com/search?q=Eddie%20Edwards%20CommScope%20Holding%20Company%2C%20Inc.&tbm=isch&tbs=cdr:1,cd_min:1/1/2019,cd_max:12/31/2019\n",
      "Eddie Edwards 2019\n",
      "hover start\n",
      "hover done\n",
      "Found 100 potential image elements\n"
     ]
    },
    {
     "name": "stderr",
     "output_type": "stream",
     "text": [
      "Scraping:  62%|███████████████████▋            | 80/130 [11:36<07:12,  8.65s/it]"
     ]
    },
    {
     "name": "stdout",
     "output_type": "stream",
     "text": [
      "element 0 has url https://www.commscope.com/globalassets/digizuite/5923-edwards-e-c-ektron.jpg/small\n",
      "element 1 has url https://mms.businesswire.com/media/20190215005333/en/706026/4/LI_Bruce_Morgan_PR_2-15-19.jpg\n",
      "element 2 has url https://i.ytimg.com/vi/5feKpGgqMww/maxresdefault.jpg\n",
      "element 3 has url https://mms.businesswire.com/media/20191203005692/en/668274/22/CommScope_positive_RGB.jpg\n",
      "https://www.google.com/search?q=Gary%20Smith%20Ciena%20Corporation&tbm=isch&tbs=cdr:1,cd_min:1/1/2010,cd_max:12/31/2010\n",
      "Gary Smith 2010\n",
      "hover start\n",
      "hover done\n",
      "Found 56 potential image elements\n"
     ]
    },
    {
     "name": "stderr",
     "output_type": "stream",
     "text": [
      "Scraping:  62%|███████████████████▉            | 81/130 [11:44<07:02,  8.62s/it]"
     ]
    },
    {
     "name": "stdout",
     "output_type": "stream",
     "text": [
      "element 0 has url https://www.sec.gov/Archives/edgar/data/936395/000095013303001274/w85345aw85345z0005.gif\n",
      "element 1 has url https://www.sec.gov/Archives/edgar/data/936395/000095013303001274/w85345aw85345z0025.gif\n",
      "element 2 has url https://www.sec.gov/Archives/edgar/data/936395/000095013303001274/w85345aw85345z0023.gif\n",
      "element 3 has url https://www.sec.gov/Archives/edgar/data/936395/000095013303001274/w85345aw85345z0002.gif\n",
      "https://www.google.com/search?q=Gary%20Smith%20Ciena%20Corporation&tbm=isch&tbs=cdr:1,cd_min:1/1/2011,cd_max:12/31/2011\n",
      "Gary Smith 2011\n",
      "hover start\n",
      "hover done\n",
      "Found 100 potential image elements\n"
     ]
    },
    {
     "name": "stderr",
     "output_type": "stream",
     "text": [
      "Scraping:  63%|████████████████████▏           | 82/130 [11:53<06:52,  8.59s/it]"
     ]
    },
    {
     "name": "stdout",
     "output_type": "stream",
     "text": [
      "element 0 has url https://www.sec.gov/Archives/edgar/data/936395/000095012311003486/w81222w8122202.gif\n",
      "element 1 has url https://www.sec.gov/Archives/edgar/data/936395/000095012311003486/w81222w8122203.gif\n",
      "element 2 has url http://media.marketwire.com/attachments/201107/554_newlogo.jpg\n",
      "element 3 has url https://s.wsj.net/public/resources/images/HC-GJ804_Finch_20070408210129.gif\n",
      "https://www.google.com/search?q=Gary%20Smith%20Ciena%20Corporation&tbm=isch&tbs=cdr:1,cd_min:1/1/2012,cd_max:12/31/2012\n",
      "Gary Smith 2012\n",
      "hover start\n",
      "hover done\n",
      "Found 100 potential image elements\n"
     ]
    },
    {
     "name": "stderr",
     "output_type": "stream",
     "text": [
      "Scraping:  64%|████████████████████▍           | 83/130 [12:01<06:44,  8.60s/it]"
     ]
    },
    {
     "name": "stdout",
     "output_type": "stream",
     "text": [
      "element 0 has url https://s.wsj.net/public/resources/images/ciena05172001212935.gif\n",
      "element 1 has url https://cdn.rttnews.com/articleimages/ustopstories/2012/december/ciena-121312.jpg\n",
      "element 2 has url https://www.sec.gov/Archives/edgar/data/1046026/000093677203000442/esh_aggressive-growth.jpg\n",
      "element 3 has url https://www.sec.gov/Archives/edgar/data/936395/000093639512000075/stockchart10kfy12.jpg\n",
      "https://www.google.com/search?q=Gary%20Smith%20Ciena%20Corporation&tbm=isch&tbs=cdr:1,cd_min:1/1/2013,cd_max:12/31/2013\n",
      "Gary Smith 2013\n",
      "hover start\n",
      "hover done\n",
      "Found 100 potential image elements\n"
     ]
    },
    {
     "name": "stderr",
     "output_type": "stream",
     "text": [
      "Scraping:  65%|████████████████████▋           | 84/130 [12:10<06:34,  8.57s/it]"
     ]
    },
    {
     "name": "stdout",
     "output_type": "stream",
     "text": [
      "element 0 has url https://upload.wikimedia.org/wikipedia/commons/6/62/Gary_Smith%2C_Ciena_CEO.jpg\n",
      "element 1 has url https://s.wsj.net/public/resources/images/PJ-BO906_WORKOU_G_20130617154545.jpg\n",
      "element 2 has url https://s.wsj.net/public/resources/images/PJ-BO909_WORKOU_G_20130617154743.jpg\n",
      "element 3 has url https://s.wsj.net/public/resources/images/PJ-BO907_WORKOU_G_20130617154615.jpg\n",
      "https://www.google.com/search?q=Gary%20Smith%20Ciena%20Corporation&tbm=isch&tbs=cdr:1,cd_min:1/1/2014,cd_max:12/31/2014\n",
      "Gary Smith 2014\n",
      "hover start\n",
      "hover done\n",
      "Found 100 potential image elements\n"
     ]
    },
    {
     "name": "stderr",
     "output_type": "stream",
     "text": [
      "Scraping:  65%|████████████████████▉           | 85/130 [12:18<06:25,  8.56s/it]"
     ]
    },
    {
     "name": "stdout",
     "output_type": "stream",
     "text": [
      "element 0 has url https://www.ciena.com/__data/assets/image/0013/41215/prx-gary-smith-signature-2002.jpg\n",
      "element 1 has url https://i.ytimg.com/vi/zvyhYjH-iFM/maxresdefault.jpg\n",
      "element 2 has url https://i.ytimg.com/vi/_DRzeZ9BV-4/sddefault.jpg\n",
      "element 3 has url https://cdn-news.warriortrading.com/wp-content/uploads/2018/12/19175522/Ciena-Corp.jpg\n",
      "https://www.google.com/search?q=Gary%20Smith%20Ciena%20Corporation&tbm=isch&tbs=cdr:1,cd_min:1/1/2015,cd_max:12/31/2015\n",
      "Gary Smith 2015\n",
      "hover start\n",
      "hover done\n",
      "Found 100 potential image elements\n"
     ]
    },
    {
     "name": "stderr",
     "output_type": "stream",
     "text": [
      "Scraping:  66%|█████████████████████▏          | 86/130 [12:27<06:19,  8.62s/it]"
     ]
    },
    {
     "name": "stdout",
     "output_type": "stream",
     "text": [
      "element 0 has url https://static01.nyt.com/images/2012/06/10/business/10-BOSS/10-BOSS-superJumbo.jpg\n",
      "element 1 has url https://s.wsj.net/public/resources/images/PJ-BO906_WORKOU_P_20130617154545.jpg\n",
      "element 2 has url https://s.wsj.net/public/resources/images/PJ-BO907_WORKOU_P_20130617154615.jpg\n",
      "element 3 has url http://media.corporate-ir.net/media_files/IROL/99/99134/ar/images/garysmith-960px.jpg\n",
      "https://www.google.com/search?q=Gary%20Smith%20Ciena%20Corporation&tbm=isch&tbs=cdr:1,cd_min:1/1/2016,cd_max:12/31/2016\n",
      "Gary Smith 2016\n",
      "hover start\n",
      "hover done\n",
      "Found 100 potential image elements\n"
     ]
    },
    {
     "name": "stderr",
     "output_type": "stream",
     "text": [
      "Scraping:  67%|█████████████████████▍          | 87/130 [12:36<06:09,  8.60s/it]"
     ]
    },
    {
     "name": "stdout",
     "output_type": "stream",
     "text": [
      "element 0 has url http://media.bizj.us/view/img/3682651/smith-gary2*1200xx1600-899-0-0.jpg\n",
      "element 1 has url https://pbs.twimg.com/media/CpbsrajWgAEqvfA.jpg\n",
      "element 2 has url https://i.ytimg.com/vi/w_pLugtU9eE/maxresdefault.jpg\n",
      "element 3 has url https://www.sematec-co.com/uploads/Article/gary-smith-ceo-of-broadbandand-telecommunications-company-ciena.jpg\n",
      "https://www.google.com/search?q=Gary%20Smith%20Ciena%20Corporation&tbm=isch&tbs=cdr:1,cd_min:1/1/2017,cd_max:12/31/2017\n",
      "Gary Smith 2017\n",
      "hover start\n",
      "hover done\n",
      "Found 100 potential image elements\n"
     ]
    },
    {
     "name": "stderr",
     "output_type": "stream",
     "text": [
      "Scraping:  68%|█████████████████████▋          | 88/130 [12:44<06:02,  8.62s/it]"
     ]
    },
    {
     "name": "stdout",
     "output_type": "stream",
     "text": [
      "element 0 has url https://www.ciena.com/__data/assets/image/0014/24242/Smith-Gary-20141.jpg\n",
      "element 1 has url https://www.ciena.com/__data/assets/image/0018/24408/Young-Gary-Steve2.jpg\n",
      "element 2 has url https://s.wsj.net/public/resources/images/BN-UZ621_201709_P_20170907150319.jpg\n",
      "element 3 has url https://i.ytimg.com/vi/_zhgXzajsBI/maxresdefault.jpg\n",
      "https://www.google.com/search?q=Gary%20Smith%20Ciena%20Corporation&tbm=isch&tbs=cdr:1,cd_min:1/1/2018,cd_max:12/31/2018\n",
      "Gary Smith 2018\n",
      "hover start\n",
      "hover done\n",
      "Found 100 potential image elements\n"
     ]
    },
    {
     "name": "stderr",
     "output_type": "stream",
     "text": [
      "Scraping:  68%|█████████████████████▉          | 89/130 [12:53<05:51,  8.57s/it]"
     ]
    },
    {
     "name": "stdout",
     "output_type": "stream",
     "text": [
      "element 0 has url https://upload.wikimedia.org/wikipedia/commons/thumb/6/62/Gary_Smith%2C_Ciena_CEO.jpg/250px-Gary_Smith%2C_Ciena_CEO.jpg\n",
      "element 1 has url https://media.bizj.us/view/img/8576772/smithgary20143*1200xx2048-1152-0-106.jpg\n",
      "element 2 has url https://s.wsj.net/public/resources/images/PJ-BO906_WORKOU_F_20130617154545.jpg\n",
      "element 3 has url https://d2gjqh9j26unp0.cloudfront.net/profilepic/8d9a6850bd15f6e6fa29a60142329f72\n",
      "https://www.google.com/search?q=Gary%20Smith%20Ciena%20Corporation&tbm=isch&tbs=cdr:1,cd_min:1/1/2019,cd_max:12/31/2019\n",
      "Gary Smith 2019\n",
      "hover start\n",
      "hover done\n",
      "Found 100 potential image elements\n"
     ]
    },
    {
     "name": "stderr",
     "output_type": "stream",
     "text": [
      "Scraping:  69%|██████████████████████▏         | 90/130 [13:02<05:44,  8.61s/it]"
     ]
    },
    {
     "name": "stdout",
     "output_type": "stream",
     "text": [
      "element 0 has url https://www.ciena.com/__data/assets/image/0014/24323/GarySmith_Hero2.jpg\n",
      "element 1 has url https://www.ciena.com/__data/assets/image/0026/34784/Cienas-Gary-Smith-named-a-top-CEO-insights-image-blog.jpg\n",
      "element 2 has url https://i.ytimg.com/vi/wiYT-VN9XkU/hqdefault.jpg\n",
      "element 3 has url https://www.ciena.com/__data/assets/image/0014/29201/Managed-Wave-Services-Evolution.jpg\n",
      "https://www.google.com/search?q=Dominic%20Orr%20Aruba%20Networks%2C%20Inc.&tbm=isch&tbs=cdr:1,cd_min:1/1/2010,cd_max:12/31/2010\n",
      "Dominic Orr 2010\n",
      "hover start\n",
      "hover done\n",
      "Found 34 potential image elements\n"
     ]
    },
    {
     "name": "stderr",
     "output_type": "stream",
     "text": [
      "Scraping:  70%|██████████████████████▍         | 91/130 [13:10<05:33,  8.56s/it]"
     ]
    },
    {
     "name": "stdout",
     "output_type": "stream",
     "text": [
      "element 0 has url https://www.siliconrepublic.com/wp-content/uploads/2014/12/201106/aruba-networks-office.jpg\n",
      "element 1 has url http://media.marketwire.com/attachments/201002/2174_Unitylogo.jpg\n",
      "element 2 has url https://ecdn5.wn.com/pd/55/28/b92d85f1c47935a8d8ac232c4919_medium.jpg\n",
      "element 3 has url https://www.gutenberg.org/cache/epub/34047/images/img288a.jpg\n",
      "https://www.google.com/search?q=Dominic%20Orr%20Aruba%20Networks%2C%20Inc.&tbm=isch&tbs=cdr:1,cd_min:1/1/2011,cd_max:12/31/2011\n",
      "Dominic Orr 2011\n",
      "hover start\n",
      "hover done\n",
      "Found 100 potential image elements\n"
     ]
    },
    {
     "name": "stderr",
     "output_type": "stream",
     "text": [
      "Scraping:  71%|██████████████████████▋         | 92/130 [13:19<05:26,  8.58s/it]"
     ]
    },
    {
     "name": "stdout",
     "output_type": "stream",
     "text": [
      "element 0 has url https://i.dailymail.co.uk/i/pix/2011/05/23/article-1390071-0C39E50F00000578-114_233x243.jpg\n",
      "element 1 has url https://i.dailymail.co.uk/i/pix/2011/05/23/article-1390071-0C1442E200000578-990_468x286.jpg\n",
      "element 2 has url https://www.channelbiz.co.uk/wp-content/uploads/2012/05/meg-HP.jpg\n",
      "element 3 has url https://www.insearchoftech.com/wp-content/uploads/2011/03/cropped-Banner-Final.jpg\n",
      "https://www.google.com/search?q=Dominic%20Orr%20Aruba%20Networks%2C%20Inc.&tbm=isch&tbs=cdr:1,cd_min:1/1/2012,cd_max:12/31/2012\n",
      "Dominic Orr 2012\n",
      "hover start\n",
      "hover done\n",
      "Found 65 potential image elements\n"
     ]
    },
    {
     "name": "stderr",
     "output_type": "stream",
     "text": [
      "Scraping:  72%|██████████████████████▉         | 93/130 [13:27<05:18,  8.61s/it]"
     ]
    },
    {
     "name": "stdout",
     "output_type": "stream",
     "text": [
      "element 0 has url https://mms.businesswire.com/media/20130822006046/en/210558/21/Aruba_Networks_newLogo.jpg\n",
      "element 1 has url https://www.azernews.az/media/pictures/hp-logo-0405203.jpg\n",
      "element 2 has url https://allthingsd.com/files/2012/04/JOB3.jpg\n",
      "element 3 has url https://www.sec.gov/Archives/edgar/data/1173752/000119312512420534/g372477g27v90.jpg\n",
      "https://www.google.com/search?q=Dominic%20Orr%20Aruba%20Networks%2C%20Inc.&tbm=isch&tbs=cdr:1,cd_min:1/1/2013,cd_max:12/31/2013\n",
      "Dominic Orr 2013\n",
      "hover start\n",
      "hover done\n",
      "Found 100 potential image elements\n"
     ]
    },
    {
     "name": "stderr",
     "output_type": "stream",
     "text": [
      "Scraping:  72%|███████████████████████▏        | 94/130 [13:36<05:10,  8.62s/it]"
     ]
    },
    {
     "name": "stdout",
     "output_type": "stream",
     "text": [
      "element 0 has url https://i.ytimg.com/vi/cTL0szSMx8Q/hqdefault.jpg\n",
      "element 1 has url https://regmedia.co.uk/2013/11/26/hp.jpg\n",
      "element 2 has url https://www.cnet.com/a/img/hub/2013/12/17/ce0b240f-67d7-11e3-a665-14feb5ca9861/whitman-1-72.jpg\n",
      "element 3 has url https://www.digitalnewsasia.com/sites/default/files/images/digital%20economy/BYOD%20Office.jpg\n",
      "https://www.google.com/search?q=Dominic%20Orr%20Aruba%20Networks%2C%20Inc.&tbm=isch&tbs=cdr:1,cd_min:1/1/2014,cd_max:12/31/2014\n",
      "Dominic Orr 2014\n",
      "hover start\n",
      "hover done\n",
      "Found 100 potential image elements\n"
     ]
    },
    {
     "name": "stderr",
     "output_type": "stream",
     "text": [
      "Scraping:  73%|███████████████████████▍        | 95/130 [13:45<05:03,  8.68s/it]"
     ]
    },
    {
     "name": "stdout",
     "output_type": "stream",
     "text": [
      "element 0 has url https://i.ytimg.com/vi/Laj7xHsk1pw/mqdefault.jpg\n",
      "element 1 has url https://www.silicon.co.uk/wp-content/uploads/2015/10/Aruba-Networks-Equipment1.jpg\n",
      "element 2 has url https://mms.businesswire.com/media/20140522006359/en/408343/21/ARUBA_logo.jpg\n",
      "element 3 has url https://www.sec.gov/Archives/edgar/data/1173752/000144530514004427/noticepdfpreviewcleanpdf001.jpg\n",
      "https://www.google.com/search?q=Dominic%20Orr%20Aruba%20Networks%2C%20Inc.&tbm=isch&tbs=cdr:1,cd_min:1/1/2015,cd_max:12/31/2015\n",
      "Dominic Orr 2015\n",
      "hover start\n",
      "hover done\n",
      "Found 100 potential image elements\n"
     ]
    },
    {
     "name": "stderr",
     "output_type": "stream",
     "text": [
      "Scraping:  74%|███████████████████████▋        | 96/130 [13:53<04:52,  8.60s/it]"
     ]
    },
    {
     "name": "stdout",
     "output_type": "stream",
     "text": [
      "element 0 has url https://d15shllkswkct0.cloudfront.net/wp-content/blogs.dir/1/files/2015/03/Aruba-Networks-Founder-Dominic-Orr.jpg\n",
      "element 1 has url https://i.ytimg.com/vi/IfcxLEvJqZ0/sddefault.jpg\n",
      "element 2 has url https://i.ytimg.com/vi/vlE67zCZUhI/sddefault.jpg\n",
      "element 3 has url https://i.ytimg.com/vi/xE-8hpb5hjA/hqdefault.jpg\n",
      "https://www.google.com/search?q=Part%20of%20HPE%20Aruba%20Networks%2C%20Inc.&tbm=isch&tbs=cdr:1,cd_min:1/1/2016,cd_max:12/31/2016\n",
      "Part of HPE 2016\n",
      "hover start\n",
      "hover done\n",
      "Found 100 potential image elements\n"
     ]
    },
    {
     "name": "stderr",
     "output_type": "stream",
     "text": [
      "Scraping:  75%|███████████████████████▉        | 97/130 [14:02<04:45,  8.65s/it]"
     ]
    },
    {
     "name": "stdout",
     "output_type": "stream",
     "text": [
      "element 0 has url https://mms.businesswire.com/media/20160912005242/en/543660/5/figure_2.0_090916_mfp-soa.jpg\n",
      "element 1 has url https://www.securewirelessworks.com/images/Access-Points/AP-300/AP-300-Series.png\n",
      "element 2 has url https://mms.businesswire.com/media/20160412005465/en/518703/5/2398061_hpe_aruba_r_pos_rgb.jpg\n",
      "element 3 has url https://cdn.cs.1worldsync.com/49/cb/49cbd97f-5a6c-4cf2-bc70-4e243045ebba.jpg\n",
      "https://www.google.com/search?q=Part%20of%20HPE%20Aruba%20Networks%2C%20Inc.&tbm=isch&tbs=cdr:1,cd_min:1/1/2017,cd_max:12/31/2017\n",
      "Part of HPE 2017\n",
      "hover start\n",
      "hover done\n",
      "Found 100 potential image elements\n"
     ]
    },
    {
     "name": "stderr",
     "output_type": "stream",
     "text": [
      "Scraping:  75%|████████████████████████        | 98/130 [14:11<04:38,  8.72s/it]"
     ]
    },
    {
     "name": "stdout",
     "output_type": "stream",
     "text": [
      "element 0 has url https://positronaccess.com/wp-content/uploads/2024/02/Aruba_Networks_logo.png\n",
      "element 1 has url https://i.ytimg.com/vi/7M7-xpNrBr4/maxresdefault.jpg\n",
      "element 2 has url https://giganetworks.com/wp-content/uploads/logo-aruba-networks-hpe-bg.png\n",
      "element 3 has url https://gestaltit.com/wp-content/uploads/2017/10/Varnum-NFDx-5.png\n",
      "https://www.google.com/search?q=Part%20of%20HPE%20Aruba%20Networks%2C%20Inc.&tbm=isch&tbs=cdr:1,cd_min:1/1/2018,cd_max:12/31/2018\n",
      "Part of HPE 2018\n",
      "hover start\n",
      "hover done\n",
      "Found 100 potential image elements\n"
     ]
    },
    {
     "name": "stderr",
     "output_type": "stream",
     "text": [
      "Scraping:  76%|████████████████████████▎       | 99/130 [14:20<04:31,  8.74s/it]"
     ]
    },
    {
     "name": "stdout",
     "output_type": "stream",
     "text": [
      "element 0 has url https://mms.businesswire.com/media/20230109005733/en/794909/22/hpe_aruba_r_pos_rgb.jpg\n",
      "element 1 has url https://cdn2.hubspot.net/hubfs/172457/HP%20/Introducing.png\n",
      "element 2 has url https://www.khipu-networks.com/wp-content/uploads/aruba.png\n",
      "element 3 has url https://info.hummingbirdnetworks.com/hs-fs/hub/172457/hub_generated/resized/eddb484d-039e-4653-91db-091051a3f147.png\n",
      "https://www.google.com/search?q=Part%20of%20HPE%20Aruba%20Networks%2C%20Inc.&tbm=isch&tbs=cdr:1,cd_min:1/1/2019,cd_max:12/31/2019\n",
      "Part of HPE 2019\n",
      "hover start\n",
      "hover done\n",
      "Found 100 potential image elements\n"
     ]
    },
    {
     "name": "stderr",
     "output_type": "stream",
     "text": [
      "Scraping:  77%|███████████████████████▊       | 100/130 [14:29<04:23,  8.80s/it]"
     ]
    },
    {
     "name": "stdout",
     "output_type": "stream",
     "text": [
      "element 0 has url https://mms.businesswire.com/media/20160912005258/en/495231/22/hpe_aruba_r_pos_rgb.jpg\n",
      "element 1 has url https://cdn.mos.cms.futurecdn.net/tfrxC2pqBWSn5B992GtYNV.jpg\n",
      "element 2 has url https://hypertecsp.com/wp-content/uploads/hpe_aruba_r_wht_rev_rgb.png\n",
      "element 3 has url https://mms.businesswire.com/media/20250113132479/en/837173/22/hpe_pri_grn_pos_rgb.jpg\n",
      "https://www.google.com/search?q=Lane%20Bess%20Palo%20Alto%20Networks%2C%20Inc.&tbm=isch&tbs=cdr:1,cd_min:1/1/2010,cd_max:12/31/2010\n",
      "Lane Bess 2010\n",
      "hover start\n",
      "hover done\n",
      "Found 100 potential image elements\n"
     ]
    },
    {
     "name": "stderr",
     "output_type": "stream",
     "text": [
      "Scraping:  78%|████████████████████████       | 101/130 [14:37<04:15,  8.80s/it]"
     ]
    },
    {
     "name": "stdout",
     "output_type": "stream",
     "text": [
      "element 0 has url https://d15shllkswkct0.cloudfront.net/wp-content/blogs.dir/1/files/2013/05/bibles-blueprints-6.jpg\n",
      "element 1 has url https://images.hgmsites.net/lrg/tesla_100325166_l.jpg\n",
      "element 2 has url http://www.jma.com/The_History_of_the_PIX_Firewall/NTI_files/Media/1995-10-10_09-23-46/thumb.jpg\n",
      "element 3 has url https://images.hgmsites.net/lrg/star-wars-speeder-bike-spotted-on-the-streets-of-palo-alto_100318297_l.jpg\n",
      "https://www.google.com/search?q=Mark%20McLaughlin%20Palo%20Alto%20Networks%2C%20Inc.&tbm=isch&tbs=cdr:1,cd_min:1/1/2011,cd_max:12/31/2011\n",
      "Mark McLaughlin 2011\n",
      "hover start\n",
      "hover done\n",
      "Found 100 potential image elements\n"
     ]
    },
    {
     "name": "stderr",
     "output_type": "stream",
     "text": [
      "Scraping:  78%|████████████████████████▎      | 102/130 [14:46<04:06,  8.79s/it]"
     ]
    },
    {
     "name": "stdout",
     "output_type": "stream",
     "text": [
      "element 0 has url https://venturebeat.com/wp-content/uploads/2011/08/mark_mclaughlin_300px.jpg\n",
      "element 1 has url https://s.wsj.net/public/resources/images/MK-BN971_Stepba_G_20110731205400.jpg\n",
      "element 2 has url https://s.wsj.net/public/resources/images/MK-BN959A_STEPB_G_20110731182408.jpg\n",
      "element 3 has url https://allthingsd.com/files/2011/08/asheem_chandna_bio-380x285.png\n",
      "https://www.google.com/search?q=Mark%20McLaughlin%20Palo%20Alto%20Networks%2C%20Inc.&tbm=isch&tbs=cdr:1,cd_min:1/1/2012,cd_max:12/31/2012\n",
      "Mark McLaughlin 2012\n",
      "hover start\n",
      "hover done\n",
      "Found 100 potential image elements\n"
     ]
    },
    {
     "name": "stderr",
     "output_type": "stream",
     "text": [
      "Scraping:  79%|████████████████████████▌      | 103/130 [14:55<03:57,  8.79s/it]"
     ]
    },
    {
     "name": "stdout",
     "output_type": "stream",
     "text": [
      "element 0 has url https://i.ytimg.com/vi/o3PeI5k7qow/hqdefault.jpg\n",
      "element 1 has url https://www.sec.gov/Archives/edgar/data/1327567/000119312512153764/g318373g77w94.jpg\n",
      "element 2 has url https://www.sec.gov/Archives/edgar/data/1327567/000119312512153764/g318373g24h89.jpg\n",
      "element 3 has url https://www.sec.gov/Archives/edgar/data/1327567/000119312512153764/g318373g31h41.jpg\n",
      "https://www.google.com/search?q=Mark%20McLaughlin%20Palo%20Alto%20Networks%2C%20Inc.&tbm=isch&tbs=cdr:1,cd_min:1/1/2013,cd_max:12/31/2013\n",
      "Mark McLaughlin 2013\n",
      "hover start\n",
      "hover done\n",
      "Found 100 potential image elements\n"
     ]
    },
    {
     "name": "stderr",
     "output_type": "stream",
     "text": [
      "Scraping:  80%|████████████████████████▊      | 104/130 [15:04<03:49,  8.81s/it]"
     ]
    },
    {
     "name": "stdout",
     "output_type": "stream",
     "text": [
      "element 0 has url https://i.ytimg.com/vi/cidiE2QWEeE/maxresdefault.jpg\n",
      "element 1 has url https://www.sec.gov/Archives/edgar/data/1327567/000119312513418640/g613190pc_pg001.jpg\n",
      "element 2 has url https://www.insidermonkey.com/blog/wp-content/uploads/2013/04/palo_alto_networks__use.jpg\n",
      "element 3 has url https://www.sec.gov/Archives/edgar/data/1327567/000119312513418640/g613190pc_pg002.jpg\n",
      "https://www.google.com/search?q=Mark%20McLaughlin%20Palo%20Alto%20Networks%2C%20Inc.&tbm=isch&tbs=cdr:1,cd_min:1/1/2014,cd_max:12/31/2014\n",
      "Mark McLaughlin 2014\n",
      "hover start\n",
      "hover done\n",
      "Found 100 potential image elements\n"
     ]
    },
    {
     "name": "stderr",
     "output_type": "stream",
     "text": [
      "Scraping:  81%|█████████████████████████      | 105/130 [15:13<03:40,  8.84s/it]"
     ]
    },
    {
     "name": "stdout",
     "output_type": "stream",
     "text": [
      "element 0 has url https://i.ytimg.com/vi/1SExW_Erpz0/sddefault.jpg\n",
      "element 1 has url https://i.ytimg.com/vi/2id10kvSdxU/hqdefault.jpg\n",
      "element 2 has url https://130e178e8f8ba617604b-8aedd782b7d22cfe0d1146da69a52436.ssl.cf1.rackcdn.com/palo-alto-networks-to-acquire-cyvera-imageFile-9-a-6665.jpg\n",
      "element 3 has url https://i.ytimg.com/vi/pY54riZDMuU/hqdefault.jpg\n",
      "https://www.google.com/search?q=Mark%20McLaughlin%20Palo%20Alto%20Networks%2C%20Inc.&tbm=isch&tbs=cdr:1,cd_min:1/1/2015,cd_max:12/31/2015\n",
      "Mark McLaughlin 2015\n",
      "hover start\n",
      "hover done\n",
      "Found 99 potential image elements\n"
     ]
    },
    {
     "name": "stderr",
     "output_type": "stream",
     "text": [
      "Scraping:  82%|█████████████████████████▎     | 106/130 [15:22<03:34,  8.94s/it]"
     ]
    },
    {
     "name": "stdout",
     "output_type": "stream",
     "text": [
      "element 0 has url https://i.ytimg.com/vi/hHiRb8t2hLM/hqdefault.jpg\n",
      "element 1 has url https://s.wsj.net/public/resources/images/MK-BN971_Stepba_E_20110731205400.jpg\n",
      "element 2 has url https://s.wsj.net/public/resources/images/BN-HR198_0331pa_J_20150331134805.jpg\n",
      "element 3 has url https://i.ytimg.com/vi/Ycw4WAA0-eg/hqdefault.jpg\n",
      "https://www.google.com/search?q=Mark%20McLaughlin%20Palo%20Alto%20Networks%2C%20Inc.&tbm=isch&tbs=cdr:1,cd_min:1/1/2016,cd_max:12/31/2016\n",
      "Mark McLaughlin 2016\n",
      "hover start\n",
      "hover done\n",
      "Found 100 potential image elements\n"
     ]
    },
    {
     "name": "stderr",
     "output_type": "stream",
     "text": [
      "Scraping:  82%|█████████████████████████▌     | 107/130 [15:30<03:22,  8.82s/it]"
     ]
    },
    {
     "name": "stdout",
     "output_type": "stream",
     "text": [
      "element 0 has url https://pbs.twimg.com/profile_images/760878622227898368/HIAPKS0l_400x400.jpg\n",
      "element 1 has url https://fortune.com/img-assets/wp-content/uploads/2016/03/gettyimages-170789382.jpg\n",
      "element 2 has url https://i.ytimg.com/vi/aRLp6xNVgUk/hqdefault.jpg\n",
      "element 3 has url http://media.bizj.us/view/img/9336142/mclaughlinmarkzuknir033016pv-2*1200xx4256-2394-0-219.jpg\n",
      "https://www.google.com/search?q=Mark%20McLaughlin%20Palo%20Alto%20Networks%2C%20Inc.&tbm=isch&tbs=cdr:1,cd_min:1/1/2017,cd_max:12/31/2017\n",
      "Mark McLaughlin 2017\n",
      "hover start\n",
      "hover done\n",
      "Found 100 potential image elements\n"
     ]
    },
    {
     "name": "stderr",
     "output_type": "stream",
     "text": [
      "Scraping:  83%|█████████████████████████▊     | 108/130 [15:39<03:12,  8.76s/it]"
     ]
    },
    {
     "name": "stdout",
     "output_type": "stream",
     "text": [
      "element 0 has url https://www.arabianbusiness.com/wp-content/uploads/sites/3/cloud/2021/09/15/bNGuFg1a-mark_mclaughlin.jpg\n",
      "element 1 has url https://www.thesoftwarereport.com/wp-content/uploads/2018/05/103363411-20160204-2-2020-5.1910x1000.jpg\n",
      "element 2 has url https://i.ytimg.com/vi/aRHphaT5e64/hqdefault.jpg\n",
      "element 3 has url https://media.bizj.us/view/img/10061246/mark-mclaughlin-palo-alto-networks-bloomberg*1200xx3000-1688-0-157.jpg\n",
      "https://www.google.com/search?q=Nikesh%20Arora%20Palo%20Alto%20Networks%2C%20Inc.&tbm=isch&tbs=cdr:1,cd_min:1/1/2018,cd_max:12/31/2018\n",
      "Nikesh Arora 2018\n",
      "hover start\n",
      "hover done\n",
      "Found 100 potential image elements\n"
     ]
    },
    {
     "name": "stderr",
     "output_type": "stream",
     "text": [
      "Scraping:  84%|█████████████████████████▉     | 109/130 [15:48<03:04,  8.77s/it]"
     ]
    },
    {
     "name": "stdout",
     "output_type": "stream",
     "text": [
      "element 0 has url https://media.licdn.com/dms/image/v2/C4E03AQGyeHbT3e8aaA/profile-displayphoto-shrink_200_200/profile-displayphoto-shrink_200_200/0/1516219953351?e=2147483647&v=beta&t=g0zkk2Tali_PW9aqtmJFz750aHsq_pdGGEroLIaVvsc\n",
      "element 1 has url https://media.bizj.us/view/img/10929024/nikesharoracropped*1024xx2945-1657-0-148.jpg\n",
      "element 2 has url https://www.equilar.com/images/blog/387/blog-6-25-paloaltonetwork-new-ceo-800x400.jpg\n",
      "element 3 has url https://media.bizj.us/view/img/10937455/screen-shot-2018-06-11-at-62353-am*1200xx1618-910-0-65.png\n",
      "https://www.google.com/search?q=Nikesh%20Arora%20Palo%20Alto%20Networks%2C%20Inc.&tbm=isch&tbs=cdr:1,cd_min:1/1/2019,cd_max:12/31/2019\n",
      "Nikesh Arora 2019\n",
      "hover start\n",
      "hover done\n",
      "Found 100 potential image elements\n"
     ]
    },
    {
     "name": "stderr",
     "output_type": "stream",
     "text": [
      "Scraping:  85%|██████████████████████████▏    | 110/130 [15:57<02:55,  8.76s/it]"
     ]
    },
    {
     "name": "stdout",
     "output_type": "stream",
     "text": [
      "element 0 has url https://pbs.twimg.com/profile_images/1126425669/twitter_400x400.jpg\n",
      "element 1 has url https://www.rsaconference.com/-/media/project/rsac/rsac-website/expert-images/2021/04/05/02/23/nikesh-arora.jpg?rev=b17c9a8b0d08463983c55fc663a3f317\n",
      "element 2 has url https://res.cloudinary.com/jamefiles/image/fetch/w_320,h_212,c_fill/http://www.histerius.com/hs0618/nikesh_arora.jpg\n",
      "element 3 has url https://img.etimg.com/thumb/width-600,height-450,msid-64468338,imgsize-109692/nikesh-arora-gets-128-million-to-lead-palo-alto-networks.jpg\n",
      "https://www.google.com/search?q=Gil%20Shwed%20Check%20Point%20Software%20Technologies%20Ltd.&tbm=isch&tbs=cdr:1,cd_min:1/1/2010,cd_max:12/31/2010\n",
      "Gil Shwed 2010\n",
      "hover start\n",
      "hover done\n",
      "Found 7 potential image elements\n"
     ]
    },
    {
     "name": "stderr",
     "output_type": "stream",
     "text": [
      "Scraping:  85%|██████████████████████████▍    | 111/130 [16:05<02:43,  8.60s/it]"
     ]
    },
    {
     "name": "stdout",
     "output_type": "stream",
     "text": [
      "element 0 has url https://kr.aving.net/news/photo/200803/75536_196971_1638.jpg\n",
      "element 1 has url https://de-academic.com/pictures/dewiki/67/Check_Point_logo.svg\n",
      "element 2 has url https://madan.org.il/sites/default/files/archive/3888184cover_6.jpg\n",
      "element 3 has url https://twozuzim.wordpress.com/wp-content/uploads/2012/03/invest599.jpg\n",
      "https://www.google.com/search?q=Gil%20Shwed%20Check%20Point%20Software%20Technologies%20Ltd.&tbm=isch&tbs=cdr:1,cd_min:1/1/2011,cd_max:12/31/2011\n",
      "Gil Shwed 2011\n",
      "hover start\n",
      "hover done\n",
      "Found 14 potential image elements\n"
     ]
    },
    {
     "name": "stderr",
     "output_type": "stream",
     "text": [
      "Scraping:  86%|██████████████████████████▋    | 112/130 [16:13<02:33,  8.51s/it]"
     ]
    },
    {
     "name": "stdout",
     "output_type": "stream",
     "text": [
      "element 0 has url https://images.globes.co.il/Images/NewGlobes/big_image/2011/Shwed1[6].jpg\n",
      "element 1 has url https://japan.zdnet.com/storage/2011/11/29/67e0fd926af2817c207cdc321db2a9fe/111129_checkpoint01_200x150.jpg\n",
      "element 2 has url https://static.comunicae.com/photos/notas/1023476/Amnon-print2.jpg\n",
      "element 3 has url https://images.globes.co.il/Images/NewGlobes/big_image/2011/h13_tedib.jpg\n",
      "https://www.google.com/search?q=Gil%20Shwed%20Check%20Point%20Software%20Technologies%20Ltd.&tbm=isch&tbs=cdr:1,cd_min:1/1/2012,cd_max:12/31/2012\n",
      "Gil Shwed 2012\n",
      "hover start\n",
      "hover done\n",
      "Found 53 potential image elements\n"
     ]
    },
    {
     "name": "stderr",
     "output_type": "stream",
     "text": [
      "Scraping:  87%|██████████████████████████▉    | 113/130 [16:22<02:25,  8.54s/it]"
     ]
    },
    {
     "name": "stdout",
     "output_type": "stream",
     "text": [
      "element 0 has url https://ars.els-cdn.com/content/image/1-s2.0-S1754454811700407-fx1.jpg\n",
      "element 1 has url https://i.ytimg.com/vi/olkYJukCVNk/hqdefault.jpg\n",
      "element 2 has url https://ei.marketwatch.com/Multimedia/2012/01/20/Photos/ME/MW-AP009_Check__20120120080600_ME.jpg?uuid=8d0520a6-4367-11e1-bcaf-002128040cf6\n",
      "element 3 has url https://ars.els-cdn.com/content/image/1-s2.0-S1754454811700407-fx3.jpg\n",
      "https://www.google.com/search?q=Gil%20Shwed%20Check%20Point%20Software%20Technologies%20Ltd.&tbm=isch&tbs=cdr:1,cd_min:1/1/2013,cd_max:12/31/2013\n",
      "Gil Shwed 2013\n",
      "hover start\n",
      "hover done\n",
      "Found 74 potential image elements\n"
     ]
    },
    {
     "name": "stderr",
     "output_type": "stream",
     "text": [
      "Scraping:  88%|███████████████████████████▏   | 114/130 [16:30<02:12,  8.31s/it]"
     ]
    },
    {
     "name": "stdout",
     "output_type": "stream",
     "text": [
      "element 0 has url https://images.globes.co.il/Images/NewGlobes/big_image/2013/e14_w4_BIG.jpg\n",
      "element 1 has url https://prabook.com/web/show-photo.jpg?id=18250\n",
      "element 2 has url https://pic1.calcalist.co.il/PicServer2/20122005/361116/CAL029135_l.jpg\n",
      "element 3 has url https://i.ytimg.com/vi/N6_Yf2HMRLc/maxresdefault.jpg\n",
      "https://www.google.com/search?q=Gil%20Shwed%20Check%20Point%20Software%20Technologies%20Ltd.&tbm=isch&tbs=cdr:1,cd_min:1/1/2014,cd_max:12/31/2014\n",
      "Gil Shwed 2014\n",
      "hover start\n",
      "hover done\n",
      "Found 39 potential image elements\n"
     ]
    },
    {
     "name": "stderr",
     "output_type": "stream",
     "text": [
      "Scraping:  88%|███████████████████████████▍   | 115/130 [16:37<02:02,  8.17s/it]"
     ]
    },
    {
     "name": "stdout",
     "output_type": "stream",
     "text": [
      "element 0 has url https://pic1.calcalist.co.il/PicServer2/20122005/376839/CAL0193004_l.jpg\n",
      "element 1 has url https://images.globes.co.il/Images/NewGlobes/big_image/2014/1329538-575.jpg\n",
      "element 2 has url https://www.companieshistory.com/wp-content/uploads/2013/06/Check-Point-Software.png\n",
      "element 3 has url https://images.globes.co.il/Images/NewGlobes/big_image/2014/c26_2-575.20141218T154020.jpg\n",
      "https://www.google.com/search?q=Gil%20Shwed%20Check%20Point%20Software%20Technologies%20Ltd.&tbm=isch&tbs=cdr:1,cd_min:1/1/2015,cd_max:12/31/2015\n",
      "Gil Shwed 2015\n",
      "hover start\n",
      "hover done\n",
      "Found 78 potential image elements\n"
     ]
    },
    {
     "name": "stderr",
     "output_type": "stream",
     "text": [
      "Scraping:  89%|███████████████████████████▋   | 116/130 [16:46<01:55,  8.24s/it]"
     ]
    },
    {
     "name": "stdout",
     "output_type": "stream",
     "text": [
      "element 0 has url https://pic1.calcalist.co.il/PicServer2/20122005/494084/CAL0267248.jpg_L.jpg\n",
      "element 1 has url https://images.globes.co.il/images/NewGlobes/big_image_800/2015/5-800.2015909T095227.jpg\n",
      "element 2 has url https://pic1.calcalist.co.il/PicServer2/20122005/545070/3_lm.jpg\n",
      "element 3 has url https://www.checkpoint.com/wp-content/uploads/gil-schwed-120x162.jpg\n",
      "https://www.google.com/search?q=Gil%20Shwed%20Check%20Point%20Software%20Technologies%20Ltd.&tbm=isch&tbs=cdr:1,cd_min:1/1/2016,cd_max:12/31/2016\n",
      "Gil Shwed 2016\n",
      "hover start\n",
      "hover done\n",
      "Found 100 potential image elements\n"
     ]
    },
    {
     "name": "stderr",
     "output_type": "stream",
     "text": [
      "Scraping:  90%|███████████████████████████▉   | 117/130 [16:54<01:48,  8.33s/it]"
     ]
    },
    {
     "name": "stdout",
     "output_type": "stream",
     "text": [
      "element 0 has url https://s.wsj.net/public/resources/images/BN-JB581_CHECKP_GR_20150624051243.jpg\n",
      "element 1 has url https://i.ytimg.com/vi/N6_Yf2HMRLc/sddefault.jpg\n",
      "element 2 has url https://www.thesoftwarereport.com/wp-content/uploads/2018/01/checkpoint.jpg\n",
      "element 3 has url https://pic1.calcalist.co.il/PicServer3/2016/04/05/597508/3_lm.jpg\n",
      "https://www.google.com/search?q=Gil%20Shwed%20Check%20Point%20Software%20Technologies%20Ltd.&tbm=isch&tbs=cdr:1,cd_min:1/1/2017,cd_max:12/31/2017\n",
      "Gil Shwed 2017\n",
      "hover start\n",
      "hover done\n",
      "Found 100 potential image elements\n"
     ]
    },
    {
     "name": "stderr",
     "output_type": "stream",
     "text": [
      "Scraping:  91%|████████████████████████████▏  | 118/130 [17:03<01:40,  8.40s/it]"
     ]
    },
    {
     "name": "stdout",
     "output_type": "stream",
     "text": [
      "element 0 has url https://static-cdn.toi-media.com/www/uploads/2017/02/Gil-Shwed-Gilad-kavalerchik-cropped.jpg\n",
      "element 1 has url http://thesiliconreview.com/story_image_upload/us/thesiliconreview-gil-shwed-ceo-check-point-software-technologies-ltd-17.jpg\n",
      "element 2 has url https://www.enterprisesecuritymag.com/company_logos/n24j3.IMAGE.jpg\n",
      "element 3 has url https://blog.checkpoint.com/wp-content/uploads/2017/09/Quora_Blog.jpg\n",
      "https://www.google.com/search?q=Gil%20Shwed%20Check%20Point%20Software%20Technologies%20Ltd.&tbm=isch&tbs=cdr:1,cd_min:1/1/2018,cd_max:12/31/2018\n",
      "Gil Shwed 2018\n",
      "hover start\n",
      "hover done\n",
      "Found 100 potential image elements\n"
     ]
    },
    {
     "name": "stderr",
     "output_type": "stream",
     "text": [
      "Scraping:  92%|████████████████████████████▍  | 119/130 [17:11<01:32,  8.43s/it]"
     ]
    },
    {
     "name": "stdout",
     "output_type": "stream",
     "text": [
      "element 0 has url https://images.globes.co.il/images/NewGlobes/big_image_800/2018/Glbi19-800px.jpg\n",
      "element 1 has url https://images.globes.co.il/images/NewGlobes/big_image_800/2018/Glbi17-800px.jpg\n",
      "element 2 has url https://blog.checkpoint.com/wp-content/uploads/2018/12/Blog-2.jpg\n",
      "element 3 has url https://cdn.theorg.com/997ac5c6-269d-4efd-a29a-1d7c1b74cd65_thumb.jpg\n",
      "https://www.google.com/search?q=Gil%20Shwed%20Check%20Point%20Software%20Technologies%20Ltd.&tbm=isch&tbs=cdr:1,cd_min:1/1/2019,cd_max:12/31/2019\n",
      "Gil Shwed 2019\n",
      "hover start\n",
      "hover done\n",
      "Found 99 potential image elements\n"
     ]
    },
    {
     "name": "stderr",
     "output_type": "stream",
     "text": [
      "Scraping:  92%|████████████████████████████▌  | 120/130 [17:20<01:24,  8.45s/it]"
     ]
    },
    {
     "name": "stdout",
     "output_type": "stream",
     "text": [
      "element 0 has url https://i.ytimg.com/vi/GEJq72I2LDQ/maxresdefault.jpg\n",
      "element 1 has url https://www.sourcesecurity.com/img/people/gill-300x300.jpg\n",
      "element 2 has url https://www.ncnonline.net/wp-content/uploads/2023/03/Gil-Shwed.jpeg\n",
      "element 3 has url https://images.globes.co.il/images/NewGlobes/big_image_800/2019/dffdg800x392.2019110T141234.jpg\n",
      "https://www.google.com/search?q=Paul%20Maritz%20VMware%2C%20Inc.&tbm=isch&tbs=cdr:1,cd_min:1/1/2010,cd_max:12/31/2010\n",
      "Paul Maritz 2010\n",
      "hover start\n",
      "hover done\n",
      "Found 100 potential image elements\n"
     ]
    },
    {
     "name": "stderr",
     "output_type": "stream",
     "text": [
      "Scraping:  93%|████████████████████████████▊  | 121/130 [17:28<01:16,  8.46s/it]"
     ]
    },
    {
     "name": "stdout",
     "output_type": "stream",
     "text": [
      "element 0 has url https://cdn.geekwire.com/wp-content/uploads/2011/08/paulmaritz170.jpg\n",
      "element 1 has url https://betanews.com/wp-content/uploads/2012/07/gelsinger.jpeg\n",
      "element 2 has url https://i.ytimg.com/vi/rA5dg9XYseI/hqdefault.jpg\n",
      "element 3 has url https://media.wired.com/photos/5932ce38b44176024420efaf/master/w_2560%2Cc_limit/3DS_PLayton_02ss02_E31-e1276989279999.png\n",
      "https://www.google.com/search?q=Paul%20Maritz%20VMware%2C%20Inc.&tbm=isch&tbs=cdr:1,cd_min:1/1/2011,cd_max:12/31/2011\n",
      "Paul Maritz 2011\n",
      "hover start\n",
      "hover done\n",
      "Found 100 potential image elements\n"
     ]
    },
    {
     "name": "stderr",
     "output_type": "stream",
     "text": [
      "Scraping:  94%|█████████████████████████████  | 122/130 [17:37<01:08,  8.56s/it]"
     ]
    },
    {
     "name": "stdout",
     "output_type": "stream",
     "text": [
      "element 0 has url https://betanews.com/wp-content/uploads/2012/07/paul_maritz_200x200.png\n",
      "element 1 has url https://cdn.geekwire.com/wp-content/uploads/2017/04/paul_maritz-300x175.jpg\n",
      "element 2 has url https://cdn.geekwire.com/wp-content/uploads/2011/05/steveherrod.jpg\n",
      "element 3 has url https://imonkey-blog.imgix.net/blog/wp-content/uploads/2012/07/vmware.jpg\n",
      "https://www.google.com/search?q=Pat%20Gelsinger%20VMware%2C%20Inc.&tbm=isch&tbs=cdr:1,cd_min:1/1/2012,cd_max:12/31/2012\n",
      "Pat Gelsinger 2012\n",
      "hover start\n",
      "hover done\n",
      "Found 100 potential image elements\n"
     ]
    },
    {
     "name": "stderr",
     "output_type": "stream",
     "text": [
      "Scraping:  95%|█████████████████████████████▎ | 123/130 [17:46<00:59,  8.57s/it]"
     ]
    },
    {
     "name": "stdout",
     "output_type": "stream",
     "text": [
      "element 0 has url https://s.wsj.net/public/resources/images/MK-BV781_VIMWAR_G_20120717180955.jpg\n",
      "element 1 has url https://japan.zdnet.com/storage/2012/11/05/d7a52aabce4cbfb5e4059b468d96173e/121105pat-gelsinger01.jpg\n",
      "element 2 has url https://dol.ismcdn.jp/mwimgs/5/0/250/img_50ed21b584720b9df76969b8af0eb81c66285.jpg\n",
      "element 3 has url https://techcrunch.com/wp-content/uploads/2012/07/maritz_paul_vmware_370.jpeg\n",
      "https://www.google.com/search?q=Pat%20Gelsinger%20VMware%2C%20Inc.&tbm=isch&tbs=cdr:1,cd_min:1/1/2013,cd_max:12/31/2013\n",
      "Pat Gelsinger 2013\n",
      "hover start\n",
      "hover done\n",
      "Found 100 potential image elements\n"
     ]
    },
    {
     "name": "stderr",
     "output_type": "stream",
     "text": [
      "Scraping:  95%|█████████████████████████████▌ | 124/130 [17:54<00:51,  8.58s/it]"
     ]
    },
    {
     "name": "stdout",
     "output_type": "stream",
     "text": [
      "element 0 has url https://findinggodinsiliconvalley.com/wp-content/uploads/2013/08/Gelsinger_informal6-257x300.jpg?w=144\n",
      "element 1 has url https://i.ytimg.com/vi/We40H_Blz1E/maxresdefault.jpg\n",
      "element 2 has url https://www.israeldefense.co.il/sites/default/files/idf%281%29_0.jpg\n",
      "element 3 has url http://wikibon.com/wp-content/uploads/500px-EMCFederation.png\n",
      "https://www.google.com/search?q=Pat%20Gelsinger%20VMware%2C%20Inc.&tbm=isch&tbs=cdr:1,cd_min:1/1/2014,cd_max:12/31/2014\n",
      "Pat Gelsinger 2014\n",
      "hover start\n",
      "hover done\n",
      "Found 100 potential image elements\n"
     ]
    },
    {
     "name": "stderr",
     "output_type": "stream",
     "text": [
      "Scraping:  96%|█████████████████████████████▊ | 125/130 [18:02<00:41,  8.34s/it]"
     ]
    },
    {
     "name": "stdout",
     "output_type": "stream",
     "text": [
      "element 0 has url https://s.wsj.net/public/resources/images/MK-BV781_VIMWAR_P_20120717180955.jpg\n",
      "element 1 has url https://s.wsj.net/public/resources/images/BN-BJ216_0204_c_P_20140204172022.jpg\n",
      "element 2 has url https://s.wsj.net/public/resources/images/MK-CN681_VMWARE_G_20140708190348.jpg\n",
      "element 3 has url https://i.ytimg.com/vi/5rNACtXUf1I/maxresdefault.jpg\n",
      "https://www.google.com/search?q=Pat%20Gelsinger%20VMware%2C%20Inc.&tbm=isch&tbs=cdr:1,cd_min:1/1/2015,cd_max:12/31/2015\n",
      "Pat Gelsinger 2015\n",
      "hover start\n",
      "hover done\n",
      "Found 100 potential image elements\n"
     ]
    },
    {
     "name": "stderr",
     "output_type": "stream",
     "text": [
      "Scraping:  97%|██████████████████████████████ | 126/130 [18:10<00:32,  8.17s/it]"
     ]
    },
    {
     "name": "stdout",
     "output_type": "stream",
     "text": [
      "element 0 has url https://virtualizationreview.com/-/media/ECG/VirtualizationReview/Images/introimages2014/0815vrmF1QA.jpg\n",
      "element 1 has url https://d15shllkswkct0.cloudfront.net/wp-content/blogs.dir/1/files/2015/05/Pat-Gelsinger-at-EMC-World-2015.jpg\n",
      "element 2 has url https://i.ytimg.com/vi/p06PEYSS7Ww/mqdefault.jpg\n",
      "element 3 has url https://s.wsj.net/public/resources/images/BN-KT038_VMWARE_M_20151013171148.jpg\n",
      "https://www.google.com/search?q=Pat%20Gelsinger%20VMware%2C%20Inc.&tbm=isch&tbs=cdr:1,cd_min:1/1/2016,cd_max:12/31/2016\n",
      "Pat Gelsinger 2016\n",
      "hover start\n",
      "hover done\n",
      "Found 100 potential image elements\n"
     ]
    },
    {
     "name": "stderr",
     "output_type": "stream",
     "text": [
      "Scraping:  98%|██████████████████████████████▎| 127/130 [18:19<00:24,  8.32s/it]"
     ]
    },
    {
     "name": "stdout",
     "output_type": "stream",
     "text": [
      "element 0 has url https://images.squarespace-cdn.com/content/v1/59605e61b8a79bc707f41adb/1506453814663-DAH848M75CRVTG4PIU8U/pat.jpg\n",
      "element 1 has url https://i.ytimg.com/vi/KnrQy5Atk_I/sddefault.jpg\n",
      "element 2 has url https://d15shllkswkct0.cloudfront.net/wp-content/blogs.dir/1/files/2016/08/pat-gelsinger-vmworld.jpg\n",
      "element 3 has url https://s.wsj.net/public/resources/images/CI-AA024_GELSIN_GR_20140207165643.jpg\n",
      "https://www.google.com/search?q=Pat%20Gelsinger%20VMware%2C%20Inc.&tbm=isch&tbs=cdr:1,cd_min:1/1/2017,cd_max:12/31/2017\n",
      "Pat Gelsinger 2017\n",
      "hover start\n",
      "hover done\n",
      "Found 100 potential image elements\n"
     ]
    },
    {
     "name": "stderr",
     "output_type": "stream",
     "text": [
      "Scraping:  98%|██████████████████████████████▌| 128/130 [18:27<00:16,  8.43s/it]"
     ]
    },
    {
     "name": "stdout",
     "output_type": "stream",
     "text": [
      "element 0 has url https://virtualizationreview.com/-/media/ECG/VirtualizationReview/Images/IntroImages2017/0717vrcm_F1Gelsinger.jpg\n",
      "element 1 has url https://images.livemint.com/rf/Image-621x414/LiveMint/Period2/2017/10/28/Photos/Processed/PatGelsinger-klJB--621x414@LiveMint.JPG\n",
      "element 2 has url https://media.bizj.us/view/img/10692410/gelsingerpat101217tj-10-web*1200xx1280-720-0-67.jpg\n",
      "element 3 has url https://i.ytimg.com/vi/1S8pdLe8JCQ/sddefault.jpg\n",
      "https://www.google.com/search?q=Pat%20Gelsinger%20VMware%2C%20Inc.&tbm=isch&tbs=cdr:1,cd_min:1/1/2018,cd_max:12/31/2018\n",
      "Pat Gelsinger 2018\n",
      "hover start\n",
      "hover done\n",
      "Found 100 potential image elements\n"
     ]
    },
    {
     "name": "stderr",
     "output_type": "stream",
     "text": [
      "Scraping:  99%|██████████████████████████████▊| 129/130 [18:36<00:08,  8.48s/it]"
     ]
    },
    {
     "name": "stdout",
     "output_type": "stream",
     "text": [
      "element 0 has url https://i.ytimg.com/vi/M_JedN8ww18/sddefault.jpg\n",
      "element 1 has url https://i.ytimg.com/vi/FdIrbyMGvmw/mqdefault.jpg\n",
      "element 2 has url https://s.wsj.net/public/resources/images/BN-DP279_0708vm_F_20140708155248.jpg\n",
      "element 3 has url https://media.licdn.com/dms/image/v2/C4D03AQH_I7i1ET1yzA/profile-displayphoto-shrink_200_200/profile-displayphoto-shrink_200_200/0/1516256266518?e=2147483647&v=beta&t=_KiNHCY6hzreVwetL3kYYLr8gcckUo98Hkzxis0CTlk\n",
      "https://www.google.com/search?q=Pat%20Gelsinger%20VMware%2C%20Inc.&tbm=isch&tbs=cdr:1,cd_min:1/1/2019,cd_max:12/31/2019\n",
      "Pat Gelsinger 2019\n",
      "hover start\n",
      "hover done\n",
      "Found 100 potential image elements\n"
     ]
    },
    {
     "name": "stderr",
     "output_type": "stream",
     "text": [
      "Scraping: 100%|███████████████████████████████| 130/130 [18:44<00:00,  8.65s/it]"
     ]
    },
    {
     "name": "stdout",
     "output_type": "stream",
     "text": [
      "element 0 has url https://i.insider.com/58bfd8e5dd08950d488b4a1a?width=799&format=jpeg\n",
      "element 1 has url https://i.insider.com/5646139511231441008b4e55?width=933&format=jpeg\n",
      "element 2 has url https://i.ytimg.com/vi/H2oonkOZkzY/maxresdefault.jpg\n",
      "element 3 has url https://i.ytimg.com/vi/ieBwAUq9N-0/maxresdefault.jpg\n"
     ]
    },
    {
     "name": "stderr",
     "output_type": "stream",
     "text": [
      "\n"
     ]
    }
   ],
   "source": [
    "## STEP 2: RUN GOOGLE IMAGE SEARCHES TO COLLECT PICTURE LINKS + ARTICLES THEY ARE IN\n",
    "\n",
    "class GoogleImageScraper:\n",
    "    def __init__(self):\n",
    "        chrome_options = Options()\n",
    "        # chrome_options.add_argument('--headless')\n",
    "        self.driver = webdriver.Chrome(options=chrome_options)\n",
    "        \n",
    "    def hover_batch(self, elements, batch_size=5, delay=0.5):\n",
    "        actions = ActionChains(self.driver)\n",
    "        for i in range(0, len(elements), batch_size):\n",
    "            batch = elements[i:i + batch_size]\n",
    "            for el in batch:\n",
    "                actions.move_to_element(el)\n",
    "            actions.perform()\n",
    "            time.sleep(delay)\n",
    "                            \n",
    "    def scrape_images(self, name, year, search_url, max_links=30):\n",
    "        save_dir = os.path.join('pictures', name, str(year))\n",
    "        os.makedirs(save_dir, exist_ok=True)\n",
    "        \n",
    "        try:\n",
    "            self.driver.get(search_url)\n",
    "            time.sleep(2)\n",
    "            print(search_url)\n",
    "            print(name, year)\n",
    "            \n",
    "            # Wait for search div and image elements\n",
    "            search_div = WebDriverWait(self.driver, 10).until(\n",
    "                EC.presence_of_element_located((By.ID, \"search\"))\n",
    "            )\n",
    "            time.sleep(2)\n",
    "\n",
    "            print('hover start')        \n",
    "            image_divs = search_div.find_elements(By.CSS_SELECTOR, 'div[jsname=\"qQjpJ\"]')\n",
    "            image_divs = image_divs[:max_links]  \n",
    "            self.hover_batch(image_divs, batch_size=5, delay=0.5)\n",
    "            print('hover done')        \n",
    "               \n",
    "            elements = WebDriverWait(search_div, 10).until(\n",
    "                EC.presence_of_all_elements_located((By.CSS_SELECTOR, 'div[jsname=\"qQjpJ\"] h3 a'))\n",
    "            )\n",
    "            print(f\"Found {len(elements)} potential image elements\")\n",
    "            time.sleep(2)\n",
    "\n",
    "            image_urls = []\n",
    "            for i, element in enumerate(elements):\n",
    "                href = element.get_attribute('href')\n",
    "                if href:\n",
    "                    match = re.search(r'imgurl=([^&]+)', href)\n",
    "                    match_story =  re.search(r'imgrefurl=([^&]+)', href)\n",
    "                    if match and match_story:\n",
    "                        image_url = urllib.parse.unquote(match.group(1))\n",
    "                        story_url = urllib.parse.unquote(match_story.group(1))\n",
    "                        print(f'element {i} has url {image_url}')                                                \n",
    "                        image_urls.append([image_url, story_url])\n",
    "                        if len(image_urls) >= max_links:\n",
    "                            break\n",
    "            \n",
    "            # save image urls to csv\n",
    "            image_urls_df = pd.DataFrame(image_urls, columns=['image_url', 'story_url'])\n",
    "            image_urls_df.to_csv(os.path.join(save_dir, 'image_urls.csv'), index=False)            \n",
    "\n",
    "        except Exception as e:\n",
    "            print(f\"Error processing {name} for year {year}: {e}\")\n",
    "                \n",
    "    def close(self):\n",
    "        self.driver.quit()\n",
    "\n",
    "# Collect image articles/picture file links via selenium:\n",
    "\n",
    "search_df = pd.read_csv(\"ceo_image_search_urls.csv\").iloc[540:]\n",
    "\n",
    "# test_df = search_df.sample(5) # run the search on subset \n",
    "# test_df\n",
    "\n",
    "scraper = GoogleImageScraper()\n",
    "for _, row in tqdm.tqdm(search_df.iterrows(), total=len(search_df), desc=\"Scraping\"):\n",
    "\n",
    "    try:\n",
    "        files = os.listdir(f'pictures/{row[\"Name\"]}/{row[\"Year\"]}/')\n",
    "    except:\n",
    "        files = []\n",
    "        \n",
    "    if len([f for f in files if f.endswith('png') or f.endswith('jpg') or f.endswith('jpeg')]) >0:\n",
    "        print('Skipping ',row['Name'], row['Year'])\n",
    "        continue\n",
    "    \n",
    "    scraper.scrape_images(\n",
    "        name=row[\"Name\"],\n",
    "        year=row[\"Year\"],\n",
    "        search_url=row[\"Search_URL\"],\n",
    "        max_links=4\n",
    "    )\n",
    "scraper.close()    "
   ]
  },
  {
   "cell_type": "code",
   "execution_count": 8,
   "id": "bb46cd8b-ed82-40a4-8462-776faff4d803",
   "metadata": {
    "scrolled": true
   },
   "outputs": [
    {
     "name": "stderr",
     "output_type": "stream",
     "text": [
      "0it [00:00, ?it/s]"
     ]
    },
    {
     "name": "stdout",
     "output_type": "stream",
     "text": [
      "Skipping Steve Jobs (2010) - images already exist\n",
      "Skipping Tim Cook (2011) - images already exist\n",
      "Skipping Tim Cook (2012) - images already exist\n",
      "Skipping Tim Cook (2013) - images already exist\n",
      "Skipping Tim Cook (2014) - images already exist\n",
      "Skipping Tim Cook (2015) - images already exist\n",
      "Skipping Tim Cook (2016) - images already exist\n",
      "Skipping Tim Cook (2017) - images already exist\n",
      "Skipping Tim Cook (2018) - images already exist\n",
      "Skipping Tim Cook (2019) - images already exist\n",
      "Skipping Steve Ballmer (2010) - images already exist\n",
      "Skipping Steve Ballmer (2011) - images already exist\n",
      "Skipping Steve Ballmer (2012) - images already exist\n",
      "Skipping Steve Ballmer (2013) - images already exist\n",
      "Skipping Satya Nadella (2014) - images already exist\n",
      "Skipping Satya Nadella (2015) - images already exist\n",
      "Skipping Satya Nadella (2016) - images already exist\n",
      "Skipping Satya Nadella (2017) - images already exist\n",
      "Skipping Satya Nadella (2018) - images already exist\n",
      "Skipping Satya Nadella (2019) - images already exist\n",
      "Skipping Jensen Huang (2010) - images already exist\n",
      "Skipping Jensen Huang (2011) - images already exist\n",
      "Skipping Jensen Huang (2012) - images already exist\n",
      "Skipping Jensen Huang (2013) - images already exist\n",
      "Skipping Jensen Huang (2014) - images already exist\n",
      "Skipping Jensen Huang (2015) - images already exist\n",
      "Skipping Jensen Huang (2016) - images already exist\n",
      "Skipping Jensen Huang (2017) - images already exist\n",
      "Skipping Jensen Huang (2018) - images already exist\n",
      "Skipping Jensen Huang (2019) - images already exist\n",
      "Downloading 4 images\n",
      "Downloaded pic1.svg\n"
     ]
    },
    {
     "name": "stderr",
     "output_type": "stream",
     "text": [
      "31it [00:00, 111.11it/s]"
     ]
    },
    {
     "name": "stdout",
     "output_type": "stream",
     "text": [
      "Skipping Scott A. McGregor (2011) - images already exist\n",
      "Skipping Scott A. McGregor (2012) - images already exist\n",
      "Skipping Scott A. McGregor (2013) - images already exist\n",
      "Skipping Scott A. McGregor (2014) - images already exist\n",
      "Skipping Scott A. McGregor (2015) - images already exist\n",
      "Skipping Hock Tan (2016) - images already exist\n",
      "Skipping Hock Tan (2017) - images already exist\n",
      "Skipping Hock Tan (2018) - images already exist\n",
      "Skipping Hock Tan (2019) - images already exist\n",
      "Skipping Shantanu Narayen (2010) - images already exist\n",
      "Skipping Shantanu Narayen (2011) - images already exist\n",
      "Skipping Shantanu Narayen (2012) - images already exist\n",
      "Skipping Shantanu Narayen (2013) - images already exist\n",
      "Skipping Shantanu Narayen (2014) - images already exist\n",
      "Skipping Shantanu Narayen (2015) - images already exist\n",
      "Skipping Shantanu Narayen (2016) - images already exist\n",
      "Skipping Shantanu Narayen (2017) - images already exist\n",
      "Skipping Shantanu Narayen (2018) - images already exist\n",
      "Skipping Shantanu Narayen (2019) - images already exist\n",
      "Skipping John T. Chambers (2010) - images already exist\n",
      "Skipping John T. Chambers (2011) - images already exist\n",
      "Skipping John T. Chambers (2012) - images already exist\n",
      "Skipping John T. Chambers (2013) - images already exist\n",
      "Skipping John T. Chambers (2014) - images already exist\n",
      "Skipping Chuck Robbins (2015) - images already exist\n",
      "Skipping Chuck Robbins (2016) - images already exist\n",
      "Skipping Chuck Robbins (2017) - images already exist\n",
      "Skipping Chuck Robbins (2018) - images already exist\n",
      "Skipping Chuck Robbins (2019) - images already exist\n",
      "Skipping Larry Ellison (2010) - images already exist\n",
      "Skipping Larry Ellison (2011) - images already exist\n",
      "Skipping Larry Ellison (2012) - images already exist\n",
      "Skipping Larry Ellison (2013) - images already exist\n",
      "Skipping Safra Catz & Mark Hurd (2014) - images already exist\n",
      "Skipping Safra Catz & Mark Hurd (2015) - images already exist\n",
      "Skipping Safra Catz & Mark Hurd (2016) - images already exist\n",
      "Skipping Safra Catz & Mark Hurd (2017) - images already exist\n",
      "Skipping Safra Catz & Mark Hurd (2018) - images already exist\n",
      "Skipping Safra Catz & Mark Hurd (2019) - images already exist\n",
      "Skipping Marc Benioff (2010) - images already exist\n",
      "Skipping Marc Benioff (2011) - images already exist\n",
      "Skipping Marc Benioff (2012) - images already exist\n",
      "Skipping Marc Benioff (2013) - images already exist\n",
      "Skipping Marc Benioff (2014) - images already exist\n",
      "Skipping Marc Benioff (2015) - images already exist\n",
      "Skipping Marc Benioff (2016) - images already exist\n",
      "Skipping Marc Benioff (2017) - images already exist\n",
      "Skipping Marc Benioff (2018) - images already exist\n",
      "Skipping Marc Benioff (2019) - images already exist\n",
      "Skipping Paul Otellini (2010) - images already exist\n",
      "Skipping Paul Otellini (2011) - images already exist\n",
      "Skipping Paul Otellini (2012) - images already exist\n",
      "Skipping Brian Krzanich (2013) - images already exist\n",
      "Skipping Brian Krzanich (2014) - images already exist\n",
      "Skipping Brian Krzanich (2015) - images already exist\n",
      "Skipping Brian Krzanich (2016) - images already exist\n",
      "Skipping Brian Krzanich (2017) - images already exist\n",
      "Skipping Bob Swan (2018) - images already exist\n",
      "Skipping Bob Swan (2019) - images already exist\n",
      "Skipping Richard K. Templeton (2010) - images already exist\n",
      "Skipping Richard K. Templeton (2011) - images already exist\n",
      "Skipping Richard K. Templeton (2012) - images already exist\n",
      "Skipping Richard K. Templeton (2013) - images already exist\n",
      "Skipping Richard K. Templeton (2014) - images already exist\n",
      "Skipping Richard K. Templeton (2015) - images already exist\n",
      "Skipping Richard K. Templeton (2016) - images already exist\n",
      "Skipping Richard K. Templeton (2017) - images already exist\n",
      "Skipping Brian Crutcher (2018) - images already exist\n",
      "Skipping Brian Crutcher (2019) - images already exist\n",
      "Skipping Paul E. Jacobs (2010) - images already exist\n",
      "Skipping Paul E. Jacobs (2011) - images already exist\n",
      "Skipping Paul E. Jacobs (2012) - images already exist\n",
      "Skipping Paul E. Jacobs (2013) - images already exist\n",
      "Skipping Steve Mollenkopf (2014) - images already exist\n",
      "Downloading 4 images\n",
      "Error downloading image 0: ('Connection aborted.', ConnectionResetError(54, 'Connection reset by peer'))\n"
     ]
    },
    {
     "name": "stderr",
     "output_type": "stream",
     "text": [
      "106it [00:01, 75.49it/s]"
     ]
    },
    {
     "name": "stdout",
     "output_type": "stream",
     "text": [
      "Skipping Steve Mollenkopf (2016) - images already exist\n",
      "Skipping Steve Mollenkopf (2017) - images already exist\n",
      "Skipping Steve Mollenkopf (2018) - images already exist\n",
      "Skipping Steve Mollenkopf (2019) - images already exist\n",
      "Skipping Samuel J. Palmisano (2010) - images already exist\n",
      "Skipping Samuel J. Palmisano (2011) - images already exist\n",
      "Skipping Virginia Rometty (2012) - images already exist\n",
      "Skipping Virginia Rometty (2013) - images already exist\n",
      "Skipping Virginia Rometty (2014) - images already exist\n",
      "Skipping Virginia Rometty (2015) - images already exist\n",
      "Skipping Virginia Rometty (2016) - images already exist\n",
      "Skipping Virginia Rometty (2017) - images already exist\n",
      "Skipping Virginia Rometty (2018) - images already exist\n",
      "Skipping Virginia Rometty (2019) - images already exist\n",
      "Skipping John Donahoe (under eBay) (2010) - images already exist\n",
      "Skipping John Donahoe (under eBay) (2011) - images already exist\n",
      "Skipping John Donahoe (under eBay) (2012) - images already exist\n",
      "Skipping John Donahoe (under eBay) (2013) - images already exist\n",
      "Skipping John Donahoe (under eBay) (2014) - images already exist\n",
      "Skipping Dan Schulman (2015) - images already exist\n",
      "Skipping Dan Schulman (2016) - images already exist\n",
      "Skipping Dan Schulman (2017) - images already exist\n",
      "Skipping Dan Schulman (2018) - images already exist\n",
      "Skipping Dan Schulman (2019) - images already exist\n",
      "Skipping Fred Luddy (2010) - images already exist\n",
      "Skipping Fred Luddy (2011) - images already exist\n",
      "Skipping Frank Slootman (2012) - images already exist\n",
      "Skipping Frank Slootman (2013) - images already exist\n",
      "Skipping Frank Slootman (2014) - images already exist\n",
      "Skipping Frank Slootman (2015) - images already exist\n",
      "Skipping Frank Slootman (2016) - images already exist\n",
      "Skipping John Donahoe (2017) - images already exist\n",
      "Skipping John Donahoe (2018) - images already exist\n",
      "Skipping John Donahoe (2019) - images already exist\n",
      "Skipping Brad Smith (2010) - images already exist\n",
      "Skipping Brad Smith (2011) - images already exist\n",
      "Skipping Brad Smith (2012) - images already exist\n",
      "Skipping Brad Smith (2013) - images already exist\n",
      "Skipping Brad Smith (2014) - images already exist\n",
      "Skipping Brad Smith (2015) - images already exist\n",
      "Skipping Brad Smith (2016) - images already exist\n",
      "Skipping Brad Smith (2017) - images already exist\n",
      "Skipping Brad Smith (2018) - images already exist\n",
      "Skipping Sasan Goodarzi (2019) - images already exist\n",
      "Skipping Dirk Meyer (2010) - images already exist\n",
      "Skipping Thomas Seifert (interim) (2011) - images already exist\n",
      "Skipping Rory Read (2012) - images already exist\n",
      "Skipping Rory Read (2013) - images already exist\n",
      "Skipping Lisa Su (2014) - images already exist\n",
      "Skipping Lisa Su (2015) - images already exist\n",
      "Skipping Lisa Su (2016) - images already exist\n",
      "Skipping Lisa Su (2017) - images already exist\n",
      "Skipping Lisa Su (2018) - images already exist\n",
      "Skipping Lisa Su (2019) - images already exist\n",
      "Skipping Mark Hurd (2010) - images already exist\n",
      "Skipping Leo Apotheker (2011) - images already exist\n",
      "Skipping Meg Whitman (2012) - images already exist\n",
      "Skipping Meg Whitman (2013) - images already exist\n",
      "Skipping Meg Whitman (2014) - images already exist\n",
      "Skipping Dion Weisler (2015) - images already exist\n",
      "Skipping Dion Weisler (2016) - images already exist\n",
      "Skipping Dion Weisler (2017) - images already exist\n",
      "Skipping Dion Weisler (2018) - images already exist\n",
      "Skipping Enrique Lores (2019) - images already exist\n",
      "Skipping Steve Appleton (2010) - images already exist\n",
      "Skipping Steve Appleton (2011) - images already exist\n",
      "Skipping Mark Durcan (2012) - images already exist\n",
      "Skipping Mark Durcan (2013) - images already exist\n",
      "Skipping Mark Durcan (2014) - images already exist\n",
      "Skipping Mark Durcan (2015) - images already exist\n",
      "Skipping Mark Durcan (2016) - images already exist\n",
      "Skipping Sanjay Mehrotra (2017) - images already exist\n",
      "Skipping Sanjay Mehrotra (2018) - images already exist\n",
      "Skipping Sanjay Mehrotra (2019) - images already exist\n",
      "Skipping Jerald Fishman (2010) - images already exist\n",
      "Skipping Jerald Fishman (2011) - images already exist\n",
      "Skipping Jerald Fishman (2012) - images already exist\n",
      "Skipping Vincent Roche (2013) - images already exist\n",
      "Skipping Vincent Roche (2014) - images already exist\n",
      "Skipping Vincent Roche (2015) - images already exist\n",
      "Skipping Vincent Roche (2016) - images already exist\n",
      "Skipping Vincent Roche (2017) - images already exist\n",
      "Skipping Vincent Roche (2018) - images already exist\n",
      "Skipping Vincent Roche (2019) - images already exist\n",
      "Skipping Stephen G. Newberry (2010) - images already exist\n",
      "Skipping Stephen G. Newberry (2011) - images already exist\n",
      "Downloading 4 images\n"
     ]
    },
    {
     "name": "stderr",
     "output_type": "stream",
     "text": [
      "193it [00:01, 127.11it/s]"
     ]
    },
    {
     "name": "stdout",
     "output_type": "stream",
     "text": [
      "Downloading 4 images\n",
      "Error downloading image 2: No connection adapters were found for 'x-raw-image:///5c487e614cabf7d69a60c3684f87aad26bf2b750ca4f5272c3fa59383fad333f'\n"
     ]
    },
    {
     "name": "stderr",
     "output_type": "stream",
     "text": [
      "211it [00:01, 117.68it/s]"
     ]
    },
    {
     "name": "stdout",
     "output_type": "stream",
     "text": [
      "Skipping Martin Anstice (2014) - images already exist\n",
      "Skipping Martin Anstice (2015) - images already exist\n",
      "Skipping Martin Anstice (2016) - images already exist\n",
      "Skipping Martin Anstice (2017) - images already exist\n",
      "Skipping Martin Anstice (2018) - images already exist\n",
      "Skipping Tim Archer (2019) - images already exist\n",
      "Skipping Michael R. Splinter (2010) - images already exist\n",
      "Skipping Michael R. Splinter (2011) - images already exist\n",
      "Skipping Michael R. Splinter (2012) - images already exist\n",
      "Skipping Gary E. Dickerson (2013) - images already exist\n",
      "Skipping Gary E. Dickerson (2014) - images already exist\n",
      "Skipping Gary E. Dickerson (2015) - images already exist\n",
      "Skipping Gary E. Dickerson (2016) - images already exist\n",
      "Skipping Gary E. Dickerson (2017) - images already exist\n",
      "Skipping Gary E. Dickerson (2018) - images already exist\n",
      "Skipping Gary E. Dickerson (2019) - images already exist\n",
      "Skipping Rick Wallace (2010) - images already exist\n",
      "Skipping Rick Wallace (2011) - images already exist\n",
      "Skipping Rick Wallace (2012) - images already exist\n",
      "Skipping Rick Wallace (2013) - images already exist\n",
      "Skipping Rick Wallace (2014) - images already exist\n",
      "Skipping Rick Wallace (2015) - images already exist\n",
      "Skipping Rick Wallace (2016) - images already exist\n",
      "Skipping Rick Wallace (2017) - images already exist\n",
      "Skipping Rick Wallace (2018) - images already exist\n",
      "Skipping Rick Wallace (2019) - images already exist\n",
      "Skipping Sehat Sutardja (2010) - images already exist\n",
      "Skipping Sehat Sutardja (2011) - images already exist\n",
      "Skipping Sehat Sutardja (2012) - images already exist\n",
      "Skipping Sehat Sutardja (2013) - images already exist\n",
      "Skipping Sehat Sutardja (2014) - images already exist\n",
      "Skipping Sehat Sutardja (2015) - images already exist\n",
      "Skipping Matthew J. Murphy (2016) - images already exist\n",
      "Skipping Matthew J. Murphy (2017) - images already exist\n",
      "Skipping Matthew J. Murphy (2018) - images already exist\n",
      "Skipping Matthew J. Murphy (2019) - images already exist\n",
      "Skipping Lip-Bu Tan (2010) - images already exist\n",
      "Skipping Lip-Bu Tan (2011) - images already exist\n",
      "Skipping Lip-Bu Tan (2012) - images already exist\n",
      "Skipping Lip-Bu Tan (2013) - images already exist\n",
      "Skipping Lip-Bu Tan (2014) - images already exist\n",
      "Skipping Lip-Bu Tan (2015) - images already exist\n",
      "Skipping Lip-Bu Tan (2016) - images already exist\n",
      "Skipping Lip-Bu Tan (2017) - images already exist\n",
      "Skipping Lip-Bu Tan (2018) - images already exist\n",
      "Skipping Lip-Bu Tan (2019) - images already exist\n",
      "Skipping Aart de Geus (2010) - images already exist\n",
      "Skipping Aart de Geus (2011) - images already exist\n",
      "Skipping Aart de Geus (2012) - images already exist\n",
      "Skipping Aart de Geus (2013) - images already exist\n",
      "Skipping Aart de Geus (2014) - images already exist\n",
      "Skipping Aart de Geus (2015) - images already exist\n",
      "Skipping Aart de Geus (2016) - images already exist\n",
      "Skipping Aart de Geus (2017) - images already exist\n",
      "Skipping Aart de Geus (2018) - images already exist\n",
      "Skipping Aart de Geus (2019) - images already exist\n",
      "Skipping Ken Xie (2010) - images already exist\n",
      "Skipping Ken Xie (2011) - images already exist\n",
      "Skipping Ken Xie (2012) - images already exist\n",
      "Skipping Ken Xie (2013) - images already exist\n",
      "Skipping Ken Xie (2014) - images already exist\n",
      "Skipping Ken Xie (2015) - images already exist\n",
      "Skipping Ken Xie (2016) - images already exist\n",
      "Skipping Ken Xie (2017) - images already exist\n",
      "Skipping Ken Xie (2018) - images already exist\n",
      "Skipping Ken Xie (2019) - images already exist\n",
      "Skipping John McAdam (2010) - images already exist\n",
      "Skipping John McAdam (2011) - images already exist\n",
      "Skipping John McAdam (2012) - images already exist\n",
      "Skipping John McAdam (2013) - images already exist\n",
      "Skipping John McAdam (2014) - images already exist\n",
      "Skipping John McAdam (2015) - images already exist\n",
      "Skipping John McAdam (2016) - images already exist\n",
      "Skipping François Locoh-Donou (2017) - images already exist\n",
      "Skipping François Locoh-Donou (2018) - images already exist\n",
      "Skipping François Locoh-Donou (2019) - images already exist\n",
      "Skipping Jayshree Ullal (2010) - images already exist\n",
      "Skipping Jayshree Ullal (2011) - images already exist\n",
      "Skipping Jayshree Ullal (2012) - images already exist\n",
      "Skipping Jayshree Ullal (2013) - images already exist\n",
      "Skipping Jayshree Ullal (2014) - images already exist\n",
      "Skipping Jayshree Ullal (2015) - images already exist\n",
      "Skipping Jayshree Ullal (2016) - images already exist\n",
      "Skipping Jayshree Ullal (2017) - images already exist\n",
      "Skipping Jayshree Ullal (2018) - images already exist\n",
      "Skipping Jayshree Ullal (2019) - images already exist\n",
      "Skipping Greg Brown (2010) - images already exist\n",
      "Skipping Greg Brown (2011) - images already exist\n",
      "Skipping Greg Brown (2012) - images already exist\n",
      "Skipping Greg Brown (2013) - images already exist\n",
      "Skipping Greg Brown (2014) - images already exist\n",
      "Skipping Greg Brown (2015) - images already exist\n",
      "Skipping Greg Brown (2016) - images already exist\n",
      "Skipping Greg Brown (2017) - images already exist\n",
      "Downloading 4 images\n"
     ]
    },
    {
     "name": "stderr",
     "output_type": "stream",
     "text": [
      "364it [00:02, 206.48it/s]"
     ]
    },
    {
     "name": "stdout",
     "output_type": "stream",
     "text": [
      "Skipping Greg Brown (2019) - images already exist\n",
      "Skipping John Coyne (2010) - images already exist\n",
      "Skipping John Coyne (2011) - images already exist\n",
      "Skipping Stephen Milligan (2012) - images already exist\n",
      "Skipping Stephen Milligan (2013) - images already exist\n",
      "Skipping Stephen Milligan (2014) - images already exist\n",
      "Skipping Stephen Milligan (2015) - images already exist\n",
      "Skipping Stephen Milligan (2016) - images already exist\n",
      "Skipping Stephen Milligan (2017) - images already exist\n",
      "Skipping Stephen Milligan (2018) - images already exist\n",
      "Skipping Stephen Milligan (2019) - images already exist\n",
      "Skipping Stephen J. Luczo (2010) - images already exist\n",
      "Skipping Stephen J. Luczo (2011) - images already exist\n",
      "Skipping Stephen J. Luczo (2012) - images already exist\n",
      "Skipping Stephen J. Luczo (2013) - images already exist\n",
      "Skipping Stephen J. Luczo (2014) - images already exist\n",
      "Skipping Stephen J. Luczo (2015) - images already exist\n",
      "Skipping Stephen J. Luczo (2016) - images already exist\n",
      "Skipping Stephen J. Luczo (2017) - images already exist\n",
      "Skipping David Mosley (2018) - images already exist\n",
      "Skipping David Mosley (2019) - images already exist\n",
      "Skipping Moshe Gavrielov (2010) - images already exist\n",
      "Skipping Moshe Gavrielov (2011) - images already exist\n",
      "Skipping Moshe Gavrielov (2012) - images already exist\n",
      "Skipping Moshe Gavrielov (2013) - images already exist\n",
      "Skipping Moshe Gavrielov (2014) - images already exist\n",
      "Skipping Moshe Gavrielov (2015) - images already exist\n",
      "Skipping Moshe Gavrielov (2016) - images already exist\n",
      "Skipping Victor Peng (2017) - images already exist\n",
      "Skipping Victor Peng (2018) - images already exist\n",
      "Skipping Victor Peng (2019) - images already exist\n",
      "Skipping Enrique Salem (2010) - image_urls.csv not found\n",
      "Skipping Enrique Salem (2011) - images already exist\n",
      "Skipping Steve Bennett (2012) - images already exist\n",
      "Skipping Steve Bennett (2013) - images already exist\n",
      "Skipping Michael A. Brown (2014) - images already exist\n",
      "Skipping Michael A. Brown (2015) - images already exist\n",
      "Skipping Greg Clark (2016) - images already exist\n",
      "Skipping Greg Clark (2017) - images already exist\n",
      "Skipping Greg Clark (2018) - images already exist\n",
      "Skipping Richard Hill (interim) (2019) - images already exist\n",
      "Skipping Paul Sagan (2010) - images already exist\n",
      "Skipping Paul Sagan (2011) - images already exist\n",
      "Skipping Paul Sagan (2012) - images already exist\n",
      "Skipping Tom Leighton (2013) - images already exist\n",
      "Skipping Tom Leighton (2014) - images already exist\n",
      "Skipping Tom Leighton (2015) - images already exist\n",
      "Skipping Tom Leighton (2016) - images already exist\n",
      "Skipping Tom Leighton (2017) - images already exist\n",
      "Skipping Tom Leighton (2018) - images already exist\n",
      "Skipping Tom Leighton (2019) - images already exist\n",
      "Skipping Jim Bidzos (2010) - images already exist\n",
      "Skipping Jim Bidzos (2011) - images already exist\n",
      "Skipping Jim Bidzos (2012) - images already exist\n",
      "Skipping Jim Bidzos (2013) - images already exist\n",
      "Skipping Jim Bidzos (2014) - images already exist\n",
      "Skipping Jim Bidzos (2015) - images already exist\n",
      "Skipping Jim Bidzos (2016) - images already exist\n",
      "Skipping Jim Bidzos (2017) - images already exist\n",
      "Skipping Jim Bidzos (2018) - images already exist\n",
      "Skipping Jim Bidzos (2019) - images already exist\n",
      "Skipping N/A (part of Agilent) (2010) - images already exist\n",
      "Skipping N/A (part of Agilent) (2011) - images already exist\n",
      "Skipping N/A (part of Agilent) (2012) - images already exist\n",
      "Skipping N/A (part of Agilent) (2013) - images already exist\n",
      "Skipping Ron Nersesian (2014) - images already exist\n",
      "Skipping Ron Nersesian (2015) - images already exist\n",
      "Skipping Ron Nersesian (2016) - images already exist\n",
      "Skipping Ron Nersesian (2017) - images already exist\n",
      "Skipping Ron Nersesian (2018) - images already exist\n",
      "Skipping Ron Nersesian (2019) - images already exist\n",
      "Skipping Gene Hall (2010) - images already exist\n",
      "Skipping Gene Hall (2011) - images already exist\n",
      "Skipping Gene Hall (2012) - images already exist\n",
      "Downloading 4 images\n",
      "Error downloading image 3: No connection adapters were found for 'x-raw-image:///692e1f60b7c9121c1a4481397d00014d48100d988639230032b7751fecff5992'\n",
      "Skipping Gene Hall (2014) - images already exist\n",
      "Skipping Gene Hall (2015) - images already exist\n",
      "Skipping Gene Hall (2016) - images already exist\n",
      "Skipping Gene Hall (2017) - images already exist\n",
      "Skipping Gene Hall (2018) - images already exist\n",
      "Skipping Gene Hall (2019) - images already exist\n",
      "Skipping Arkadiy Dobkin (2010) - images already exist\n",
      "Skipping Arkadiy Dobkin (2011) - images already exist\n",
      "Skipping Arkadiy Dobkin (2012) - images already exist\n",
      "Skipping Arkadiy Dobkin (2013) - images already exist\n",
      "Skipping Arkadiy Dobkin (2014) - images already exist\n",
      "Skipping Arkadiy Dobkin (2015) - images already exist\n",
      "Skipping Arkadiy Dobkin (2016) - images already exist\n",
      "Skipping Arkadiy Dobkin (2017) - images already exist\n",
      "Skipping Arkadiy Dobkin (2018) - images already exist\n",
      "Skipping Arkadiy Dobkin (2019) - images already exist\n",
      "Skipping Jack Prim (2010) - images already exist\n",
      "Skipping Jack Prim (2011) - images already exist\n",
      "Skipping Jack Prim (2012) - images already exist\n",
      "Skipping Jack Prim (2013) - images already exist\n",
      "Skipping Jack Prim (2014) - images already exist\n",
      "Skipping Jack Prim (2015) - images already exist\n",
      "Skipping Jack Prim (2016) - images already exist\n",
      "Skipping David Foss (2017) - images already exist\n",
      "Skipping David Foss (2018) - images already exist\n",
      "Skipping David Foss (2019) - images already exist\n",
      "Skipping John A. Edwardson (2010) - images already exist\n",
      "Skipping John A. Edwardson (2011) - images already exist\n",
      "Skipping John A. Edwardson (2012) - images already exist\n",
      "Skipping Thomas E. Richards (2013) - images already exist\n",
      "Skipping Thomas E. Richards (2014) - images already exist\n",
      "Skipping Thomas E. Richards (2015) - images already exist\n",
      "Skipping Thomas E. Richards (2016) - images already exist\n",
      "Skipping Christine A. Leahy (2017) - images already exist\n",
      "Skipping Christine A. Leahy (2018) - images already exist\n",
      "Skipping Christine A. Leahy (2019) - images already exist\n",
      "Downloading 4 images\n"
     ]
    },
    {
     "name": "stderr",
     "output_type": "stream",
     "text": [
      "364it [00:15, 206.48it/s]"
     ]
    },
    {
     "name": "stdout",
     "output_type": "stream",
     "text": [
      "Error downloading image 0: HTTPConnectionPool(host='www.edacafe.com', port=80): Max retries exceeded with url: /common/tinymce_image/get_image.php?image_id=4533 (Caused by ConnectTimeoutError(<urllib3.connection.HTTPConnection object at 0x14bfa2750>, 'Connection to www.edacafe.com timed out. (connect timeout=30)'))\n",
      "Error downloading image 1: HTTPConnectionPool(host='www.edacafe.com', port=80): Max retries exceeded with url: /common/tinymce_image/get_image.php?image_id=4529 (Caused by ConnectTimeoutError(<urllib3.connection.HTTPConnection object at 0x14bfa26c0>, 'Connection to www.edacafe.com timed out. (connect timeout=30)'))\n",
      "Error downloading image 2: HTTPConnectionPool(host='www.edacafe.com', port=80): Max retries exceeded with url: /common/tinymce_image/get_image.php?image_id=4531 (Caused by ConnectTimeoutError(<urllib3.connection.HTTPConnection object at 0x14bfeecf0>, 'Connection to www.edacafe.com timed out. (connect timeout=30)'))\n"
     ]
    },
    {
     "name": "stderr",
     "output_type": "stream",
     "text": [
      "401it [02:02,  1.42it/s] "
     ]
    },
    {
     "name": "stdout",
     "output_type": "stream",
     "text": [
      "Error downloading image 3: HTTPConnectionPool(host='www.edacafe.com', port=80): Max retries exceeded with url: /common/tinymce_image/get_image.php?image_id=4527 (Caused by ConnectTimeoutError(<urllib3.connection.HTTPConnection object at 0x14bfa2390>, 'Connection to www.edacafe.com timed out. (connect timeout=30)'))\n",
      "Skipping James Cashman (2011) - images already exist\n",
      "Skipping James Cashman (2012) - images already exist\n",
      "Downloading 4 images\n"
     ]
    },
    {
     "name": "stderr",
     "output_type": "stream",
     "text": [
      "422it [02:02,  1.75it/s]"
     ]
    },
    {
     "name": "stdout",
     "output_type": "stream",
     "text": [
      "Skipping James Cashman (2014) - images already exist\n",
      "Skipping James Cashman (2015) - images already exist\n",
      "Skipping Ajei Gopal (2016) - images already exist\n",
      "Skipping Ajei Gopal (2017) - images already exist\n",
      "Skipping Ajei Gopal (2018) - images already exist\n",
      "Skipping Ajei Gopal (2019) - images already exist\n",
      "Downloading 4 images\n",
      "Downloaded pic2.html\n",
      "Downloaded pic3.html\n",
      "Downloaded pic4.html\n",
      "Skipping Martin H. Loeffler (2011) - images already exist\n",
      "Skipping R. Adam Norwitt (2012) - images already exist\n",
      "Skipping R. Adam Norwitt (2013) - images already exist\n",
      "Skipping R. Adam Norwitt (2014) - images already exist\n",
      "Skipping R. Adam Norwitt (2015) - images already exist\n",
      "Skipping R. Adam Norwitt (2016) - images already exist\n",
      "Skipping R. Adam Norwitt (2017) - images already exist\n",
      "Skipping R. Adam Norwitt (2018) - images already exist\n",
      "Skipping R. Adam Norwitt (2019) - images already exist\n",
      "Skipping Keith D. Jackson (2010) - images already exist\n",
      "Skipping Keith D. Jackson (2011) - images already exist\n",
      "Skipping Keith D. Jackson (2012) - images already exist\n",
      "Skipping Keith D. Jackson (2013) - images already exist\n",
      "Skipping Keith D. Jackson (2014) - images already exist\n",
      "Skipping Keith D. Jackson (2015) - images already exist\n",
      "Skipping Keith D. Jackson (2016) - images already exist\n",
      "Skipping Keith D. Jackson (2017) - images already exist\n",
      "Skipping Keith D. Jackson (2018) - images already exist\n",
      "Skipping Keith D. Jackson (2019) - images already exist\n",
      "Skipping Steve Sanghi (2010) - images already exist\n",
      "Skipping Steve Sanghi (2011) - images already exist\n",
      "Skipping Steve Sanghi (2012) - images already exist\n",
      "Skipping Steve Sanghi (2013) - images already exist\n",
      "Skipping Steve Sanghi (2014) - images already exist\n",
      "Skipping Steve Sanghi (2015) - images already exist\n",
      "Skipping Steve Sanghi (2016) - images already exist\n",
      "Skipping Steve Sanghi (2017) - images already exist\n",
      "Skipping Steve Sanghi (2018) - images already exist\n",
      "Skipping Steve Sanghi (2019) - images already exist\n",
      "Downloading 4 images\n"
     ]
    },
    {
     "name": "stderr",
     "output_type": "stream",
     "text": [
      "441it [02:03,  2.18it/s]"
     ]
    },
    {
     "name": "stdout",
     "output_type": "stream",
     "text": [
      "Downloading 4 images\n"
     ]
    },
    {
     "name": "stderr",
     "output_type": "stream",
     "text": [
      "441it [02:15,  2.18it/s]"
     ]
    },
    {
     "name": "stdout",
     "output_type": "stream",
     "text": [
      "Error downloading image 0: HTTPSConnectionPool(host='mms.businesswire.com', port=443): Read timed out. (read timeout=30)\n"
     ]
    },
    {
     "name": "stderr",
     "output_type": "stream",
     "text": [
      "442it [02:33,  1.09it/s]"
     ]
    },
    {
     "name": "stdout",
     "output_type": "stream",
     "text": [
      "Skipping David J. Aldrich (2012) - images already exist\n",
      "Downloading 4 images\n"
     ]
    },
    {
     "name": "stderr",
     "output_type": "stream",
     "text": [
      "444it [02:33,  1.13it/s]"
     ]
    },
    {
     "name": "stdout",
     "output_type": "stream",
     "text": [
      "Skipping David J. Aldrich (2014) - images already exist\n",
      "Skipping David J. Aldrich (2015) - images already exist\n",
      "Skipping David J. Aldrich (2016) - images already exist\n",
      "Skipping David J. Aldrich (2017) - images already exist\n",
      "Skipping Liam Griffin (2018) - images already exist\n",
      "Skipping Liam Griffin (2019) - images already exist\n",
      "Skipping Michael Hsing (2010) - images already exist\n",
      "Downloading 4 images\n"
     ]
    },
    {
     "name": "stderr",
     "output_type": "stream",
     "text": [
      "453it [02:34,  1.43it/s]"
     ]
    },
    {
     "name": "stdout",
     "output_type": "stream",
     "text": [
      "Skipping Michael Hsing (2012) - images already exist\n",
      "Downloading 4 images\n",
      "Error downloading image 0: No connection adapters were found for 'x-raw-image:///1c6d415114e4be46983088a7621d6e38010360cdaaa1a77b1b53872c2bc2d44c'\n",
      "Error downloading image 2: No connection adapters were found for 'x-raw-image:///afc66fca0ecd1064f658dd9e9f544f8213d80af31783447f2d01987d4ca89568'\n",
      "Error downloading image 3: No connection adapters were found for 'x-raw-image:///a538322624459f053ac7fbe4ed40d1b6759b554960fb76c9966c1e15ec2838f6'\n",
      "Skipping Michael Hsing (2014) - images already exist\n",
      "Skipping Michael Hsing (2015) - images already exist\n",
      "Skipping Michael Hsing (2016) - images already exist\n",
      "Skipping Michael Hsing (2017) - images already exist\n",
      "Skipping Michael Hsing (2018) - images already exist\n",
      "Skipping Michael Hsing (2019) - images already exist\n",
      "Skipping Paul Nahi (2010) - images already exist\n",
      "Downloading 4 images\n"
     ]
    },
    {
     "name": "stderr",
     "output_type": "stream",
     "text": [
      "462it [02:34,  1.83it/s]"
     ]
    },
    {
     "name": "stdout",
     "output_type": "stream",
     "text": [
      "Skipping Paul Nahi (2012) - images already exist\n",
      "Downloading 4 images\n",
      "Error downloading image 0: No connection adapters were found for 'x-raw-image:///f5922c90df2106499043d89566fe1471a0326990445889f14e74dcb4b6d877d5'\n"
     ]
    },
    {
     "name": "stderr",
     "output_type": "stream",
     "text": [
      "462it [02:45,  1.83it/s]"
     ]
    },
    {
     "name": "stdout",
     "output_type": "stream",
     "text": [
      "Error downloading image 1: HTTPSConnectionPool(host='mms.businesswire.com', port=443): Read timed out. (read timeout=30)\n",
      "Error downloading image 2: HTTPSConnectionPool(host='mms.businesswire.com', port=443): Read timed out. (read timeout=30)\n"
     ]
    },
    {
     "name": "stderr",
     "output_type": "stream",
     "text": [
      "464it [03:52,  3.20s/it]"
     ]
    },
    {
     "name": "stdout",
     "output_type": "stream",
     "text": [
      "Error downloading image 3: ('Connection aborted.', RemoteDisconnected('Remote end closed connection without response'))\n",
      "Skipping Paul Nahi (2014) - images already exist\n",
      "Downloading 4 images\n"
     ]
    },
    {
     "name": "stderr",
     "output_type": "stream",
     "text": [
      "466it [03:53,  2.93s/it]"
     ]
    },
    {
     "name": "stdout",
     "output_type": "stream",
     "text": [
      "Skipping Paul Nahi (2016) - images already exist\n",
      "Skipping Paul Nahi (2017) - images already exist\n",
      "Skipping Badri Kothandaraman (2018) - images already exist\n",
      "Skipping Badri Kothandaraman (2019) - images already exist\n",
      "Skipping Guy Sella (2010) - images already exist\n",
      "Skipping Guy Sella (2011) - images already exist\n",
      "Skipping Guy Sella (2012) - images already exist\n",
      "Skipping Guy Sella (2013) - images already exist\n",
      "Skipping Guy Sella (2014) - images already exist\n",
      "Skipping Guy Sella (2015) - images already exist\n",
      "Skipping Guy Sella (2016) - images already exist\n",
      "Skipping Guy Sella (2017) - images already exist\n",
      "Skipping Guy Sella (2018) - images already exist\n",
      "Skipping Zvi Lando (2019) - images already exist\n",
      "Skipping John Ambroseo (2010) - images already exist\n",
      "Skipping John Ambroseo (2011) - images already exist\n",
      "Skipping John Ambroseo (2012) - images already exist\n",
      "Skipping John Ambroseo (2013) - images already exist\n",
      "Skipping John Ambroseo (2014) - images already exist\n",
      "Skipping John Ambroseo (2015) - images already exist\n",
      "Skipping John Ambroseo (2016) - images already exist\n",
      "Skipping John Ambroseo (2017) - images already exist\n",
      "Skipping John Ambroseo (2018) - images already exist\n",
      "Skipping John Ambroseo (2019) - images already exist\n",
      "Downloading 4 images\n"
     ]
    },
    {
     "name": "stderr",
     "output_type": "stream",
     "text": [
      "491it [03:53,  1.13s/it]"
     ]
    },
    {
     "name": "stdout",
     "output_type": "stream",
     "text": [
      "Skipping Michael A. Bradley (2011) - images already exist\n",
      "Skipping Michael A. Bradley (2012) - images already exist\n",
      "Skipping Mark E. Jagiela (2013) - images already exist\n",
      "Skipping Mark E. Jagiela (2014) - images already exist\n",
      "Skipping Mark E. Jagiela (2015) - images already exist\n",
      "Skipping Mark E. Jagiela (2016) - images already exist\n",
      "Skipping Mark E. Jagiela (2017) - images already exist\n",
      "Skipping Mark E. Jagiela (2018) - images already exist\n",
      "Skipping Mark E. Jagiela (2019) - images already exist\n",
      "Skipping Anders Gustafsson (2010) - images already exist\n",
      "Skipping Anders Gustafsson (2011) - images already exist\n",
      "Skipping Anders Gustafsson (2012) - images already exist\n",
      "Skipping Anders Gustafsson (2013) - images already exist\n",
      "Skipping Anders Gustafsson (2014) - images already exist\n",
      "Skipping Anders Gustafsson (2015) - images already exist\n",
      "Skipping Anders Gustafsson (2016) - images already exist\n",
      "Skipping Anders Gustafsson (2017) - images already exist\n",
      "Skipping Anders Gustafsson (2018) - images already exist\n",
      "Skipping Anders Gustafsson (2019) - images already exist\n",
      "Skipping Steven W. Berglund (2010) - images already exist\n",
      "Skipping Steven W. Berglund (2011) - images already exist\n",
      "Skipping Steven W. Berglund (2012) - images already exist\n",
      "Skipping Steven W. Berglund (2013) - images already exist\n",
      "Skipping Steven W. Berglund (2014) - images already exist\n",
      "Skipping Steven W. Berglund (2015) - images already exist\n",
      "Skipping Steven W. Berglund (2016) - images already exist\n",
      "Skipping Steven W. Berglund (2017) - images already exist\n",
      "Skipping Steven W. Berglund (2018) - images already exist\n",
      "Skipping Steven W. Berglund (2019) - images already exist\n",
      "Skipping John S. Marr Jr. (2010) - images already exist\n",
      "Skipping John S. Marr Jr. (2011) - images already exist\n",
      "Skipping John S. Marr Jr. (2012) - images already exist\n",
      "Skipping John S. Marr Jr. (2013) - images already exist\n",
      "Skipping John S. Marr Jr. (2014) - images already exist\n",
      "Skipping John S. Marr Jr. (2015) - images already exist\n",
      "Skipping John S. Marr Jr. (2016) - images already exist\n",
      "Skipping John S. Marr Jr. (2017) - images already exist\n",
      "Skipping John S. Marr Jr. (2018) - images already exist\n",
      "Skipping Lynn Moore Jr. (2019) - images already exist\n",
      "Skipping Francisco D’Souza (2010) - images already exist\n",
      "Skipping Francisco D’Souza (2011) - images already exist\n",
      "Skipping Francisco D’Souza (2012) - images already exist\n",
      "Skipping Francisco D’Souza (2013) - images already exist\n",
      "Skipping Francisco D’Souza (2014) - images already exist\n",
      "Skipping Francisco D’Souza (2015) - images already exist\n",
      "Skipping Francisco D’Souza (2016) - images already exist\n",
      "Skipping Francisco D’Souza (2017) - images already exist\n",
      "Skipping Francisco D’Souza (2018) - images already exist\n",
      "Skipping Brian Humphries (2019) - images already exist\n",
      "Skipping John Jumper (2010) - images already exist\n",
      "Skipping John Jumper (2011) - images already exist\n",
      "Skipping John Jumper (2012) - images already exist\n",
      "Skipping John Jumper (2013) - images already exist\n",
      "Skipping Roger Krone (2014) - images already exist\n",
      "Skipping Roger Krone (2015) - images already exist\n",
      "Skipping Roger Krone (2016) - images already exist\n",
      "Skipping Roger Krone (2017) - images already exist\n",
      "Skipping Roger Krone (2018) - images already exist\n",
      "Skipping Roger Krone (2019) - images already exist\n",
      "Skipping Walt Havenstein (2010) - images already exist\n",
      "Skipping Walt Havenstein (2011) - images already exist\n",
      "Skipping Walt Havenstein (2012) - images already exist\n",
      "Skipping Anthony Moraco (2013) - images already exist\n",
      "Skipping Anthony Moraco (2014) - images already exist\n",
      "Skipping Anthony Moraco (2015) - images already exist\n",
      "Skipping Anthony Moraco (2016) - images already exist\n",
      "Skipping Anthony Moraco (2017) - images already exist\n",
      "Skipping Anthony Moraco (2018) - images already exist\n",
      "Skipping Nazzic Keene (2019) - images already exist\n",
      "Downloading 4 images\n"
     ]
    },
    {
     "name": "stderr",
     "output_type": "stream",
     "text": [
      "561it [03:53,  3.03it/s]"
     ]
    },
    {
     "name": "stdout",
     "output_type": "stream",
     "text": [
      "Skipping Glen F. Post III (2011) - images already exist\n",
      "Skipping Glen F. Post III (2012) - images already exist\n",
      "Skipping Glen F. Post III (2013) - images already exist\n",
      "Skipping Glen F. Post III (2014) - images already exist\n",
      "Skipping Glen F. Post III (2015) - images already exist\n",
      "Skipping Glen F. Post III (2016) - images already exist\n",
      "Skipping Glen F. Post III (2017) - images already exist\n",
      "Skipping Jeff Storey (2018) - images already exist\n",
      "Skipping Jeff Storey (2019) - images already exist\n",
      "Downloading 4 images\n"
     ]
    },
    {
     "name": "stderr",
     "output_type": "stream",
     "text": [
      "574it [03:53,  3.56it/s]"
     ]
    },
    {
     "name": "stdout",
     "output_type": "stream",
     "text": [
      "Skipping Wendell P. Weeks (2011) - images already exist\n",
      "Skipping Wendell P. Weeks (2012) - images already exist\n",
      "Skipping Wendell P. Weeks (2013) - images already exist\n",
      "Skipping Wendell P. Weeks (2014) - images already exist\n",
      "Skipping Wendell P. Weeks (2015) - images already exist\n",
      "Skipping Wendell P. Weeks (2016) - images already exist\n",
      "Skipping Wendell P. Weeks (2017) - images already exist\n",
      "Skipping Wendell P. Weeks (2018) - images already exist\n",
      "Skipping Wendell P. Weeks (2019) - images already exist\n",
      "Skipping Tom Georgens (2010) - images already exist\n",
      "Skipping Tom Georgens (2011) - images already exist\n",
      "Skipping Tom Georgens (2012) - images already exist\n",
      "Skipping Tom Georgens (2013) - images already exist\n",
      "Skipping Tom Georgens (2014) - images already exist\n",
      "Skipping Tom Georgens (2015) - images already exist\n",
      "Skipping George Kurian (2016) - images already exist\n",
      "Skipping George Kurian (2017) - images already exist\n",
      "Skipping George Kurian (2018) - images already exist\n",
      "Skipping George Kurian (2019) - images already exist\n",
      "Skipping Mark Templeton (2010) - images already exist\n",
      "Skipping Mark Templeton (2011) - images already exist\n",
      "Skipping Mark Templeton (2012) - images already exist\n",
      "Skipping Mark Templeton (2013) - images already exist\n",
      "Skipping Mark Templeton (2014) - images already exist\n",
      "Skipping Mark Templeton (2015) - images already exist\n",
      "Skipping Kirill Tatarinov (2016) - images already exist\n",
      "Skipping David J. Henshall (2017) - images already exist\n",
      "Skipping David J. Henshall (2018) - images already exist\n",
      "Skipping David J. Henshall (2019) - images already exist\n",
      "Skipping Kevin Johnson (2010) - images already exist\n",
      "Skipping Kevin Johnson (2011) - images already exist\n",
      "Skipping Kevin Johnson (2012) - images already exist\n",
      "Skipping Shaygan Kheradpir (2013) - images already exist\n",
      "Skipping Rami Rahim (2014) - images already exist\n",
      "Skipping Rami Rahim (2015) - images already exist\n",
      "Skipping Rami Rahim (2016) - images already exist\n",
      "Skipping Rami Rahim (2017) - images already exist\n",
      "Skipping Rami Rahim (2018) - images already exist\n",
      "Skipping Rami Rahim (2019) - images already exist\n",
      "Skipping Eddie Edwards (2010) - images already exist\n",
      "Skipping Eddie Edwards (2011) - images already exist\n",
      "Skipping Eddie Edwards (2012) - images already exist\n",
      "Downloading 4 images\n"
     ]
    },
    {
     "name": "stderr",
     "output_type": "stream",
     "text": [
      "614it [03:54,  5.93it/s]"
     ]
    },
    {
     "name": "stdout",
     "output_type": "stream",
     "text": [
      "Skipping Eddie Edwards (2014) - images already exist\n",
      "Skipping Eddie Edwards (2015) - images already exist\n",
      "Skipping Eddie Edwards (2016) - images already exist\n",
      "Skipping Eddie Edwards (2017) - images already exist\n",
      "Downloading 4 images\n"
     ]
    },
    {
     "name": "stderr",
     "output_type": "stream",
     "text": [
      "614it [04:05,  5.93it/s]"
     ]
    },
    {
     "name": "stdout",
     "output_type": "stream",
     "text": [
      "Error downloading image 0: HTTPSConnectionPool(host='mms.businesswire.com', port=443): Read timed out. (read timeout=30)\n",
      "Error downloading image 1: HTTPSConnectionPool(host='mms.businesswire.com', port=443): Read timed out. (read timeout=30)\n"
     ]
    },
    {
     "name": "stderr",
     "output_type": "stream",
     "text": [
      "619it [04:54,  1.01it/s]"
     ]
    },
    {
     "name": "stdout",
     "output_type": "stream",
     "text": [
      "Skipping Eddie Edwards (2019) - images already exist\n",
      "Downloading 4 images\n"
     ]
    },
    {
     "name": "stderr",
     "output_type": "stream",
     "text": [
      "621it [04:55,  1.05it/s]"
     ]
    },
    {
     "name": "stdout",
     "output_type": "stream",
     "text": [
      "Skipping Gary Smith (2011) - images already exist\n",
      "Downloading 4 images\n",
      "Downloaded pic1.gif\n"
     ]
    },
    {
     "name": "stderr",
     "output_type": "stream",
     "text": [
      "670it [04:55,  2.27it/s]"
     ]
    },
    {
     "name": "stdout",
     "output_type": "stream",
     "text": [
      "Skipping Gary Smith (2013) - images already exist\n",
      "Skipping Gary Smith (2014) - images already exist\n",
      "Skipping Gary Smith (2015) - images already exist\n",
      "Skipping Gary Smith (2016) - images already exist\n",
      "Skipping Gary Smith (2017) - images already exist\n",
      "Skipping Gary Smith (2018) - images already exist\n",
      "Skipping Gary Smith (2019) - images already exist\n",
      "Skipping Dominic Orr (2010) - images already exist\n",
      "Skipping Dominic Orr (2011) - images already exist\n",
      "Skipping Dominic Orr (2012) - images already exist\n",
      "Skipping Dominic Orr (2013) - images already exist\n",
      "Skipping Dominic Orr (2014) - images already exist\n",
      "Skipping Dominic Orr (2015) - images already exist\n",
      "Skipping Part of HPE (2016) - images already exist\n",
      "Skipping Part of HPE (2017) - images already exist\n",
      "Skipping Part of HPE (2018) - images already exist\n",
      "Skipping Part of HPE (2019) - images already exist\n",
      "Skipping Lane Bess (2010) - images already exist\n",
      "Skipping Mark McLaughlin (2011) - images already exist\n",
      "Skipping Mark McLaughlin (2012) - images already exist\n",
      "Skipping Mark McLaughlin (2013) - images already exist\n",
      "Skipping Mark McLaughlin (2014) - images already exist\n",
      "Skipping Mark McLaughlin (2015) - images already exist\n",
      "Skipping Mark McLaughlin (2016) - images already exist\n",
      "Skipping Mark McLaughlin (2017) - images already exist\n",
      "Skipping Nikesh Arora (2018) - images already exist\n",
      "Skipping Nikesh Arora (2019) - images already exist\n",
      "Skipping Gil Shwed (2010) - images already exist\n",
      "Skipping Gil Shwed (2011) - images already exist\n",
      "Skipping Gil Shwed (2012) - images already exist\n",
      "Skipping Gil Shwed (2013) - images already exist\n",
      "Skipping Gil Shwed (2014) - images already exist\n",
      "Skipping Gil Shwed (2015) - images already exist\n",
      "Skipping Gil Shwed (2016) - images already exist\n",
      "Skipping Gil Shwed (2017) - images already exist\n",
      "Skipping Gil Shwed (2018) - images already exist\n",
      "Skipping Gil Shwed (2019) - images already exist\n",
      "Skipping Paul Maritz (2010) - images already exist\n",
      "Skipping Paul Maritz (2011) - images already exist\n",
      "Skipping Pat Gelsinger (2012) - images already exist\n",
      "Skipping Pat Gelsinger (2013) - images already exist\n",
      "Skipping Pat Gelsinger (2014) - images already exist\n",
      "Skipping Pat Gelsinger (2015) - images already exist\n",
      "Skipping Pat Gelsinger (2016) - images already exist\n",
      "Skipping Pat Gelsinger (2017) - images already exist\n",
      "Skipping Pat Gelsinger (2018) - images already exist\n",
      "Skipping Pat Gelsinger (2019) - images already exist\n"
     ]
    },
    {
     "name": "stderr",
     "output_type": "stream",
     "text": [
      "\n"
     ]
    }
   ],
   "source": [
    "import os\n",
    "import mimetypes\n",
    "import requests\n",
    "import pandas as pd\n",
    "import tqdm\n",
    "\n",
    "search_df = pd.read_csv(\"ceo_image_search_urls.csv\")\n",
    "\n",
    "def download_images(image_urls, save_dir, limit=10):\n",
    "    def get_file_extension(content_type):\n",
    "        \"\"\"Get file extension from content type\"\"\"\n",
    "        extension = mimetypes.guess_extension(content_type)\n",
    "        if extension:\n",
    "            return extension\n",
    "        # Fallback extensions\n",
    "        extension_map = {\n",
    "            'image/jpeg': '.jpg',\n",
    "            'image/png': '.png',\n",
    "            'image/webp': '.webp'\n",
    "        }\n",
    "        return extension_map.get(content_type, '.jpg')\n",
    "\n",
    "    image_urls = image_urls[:limit]\n",
    "    headers = {\n",
    "        'User-Agent': 'Mozilla/5.0 (Windows NT 10.0; Win64; x64) Chrome/91.0.4472.124'\n",
    "    }\n",
    "\n",
    "    print(f\"Downloading {len(image_urls)} images\")\n",
    "    for i, url in enumerate(image_urls):\n",
    "        try:\n",
    "            img_response = requests.get(url, headers=headers, timeout=30)\n",
    "            if img_response.status_code == 200:\n",
    "                content_type = img_response.headers.get('content-type', 'image/jpeg')\n",
    "                extension = get_file_extension(content_type)\n",
    "                filename = f'pic{i+1}{extension}'\n",
    "                filepath = os.path.join(save_dir, filename)\n",
    "                with open(filepath, 'wb') as f:\n",
    "                    f.write(img_response.content)\n",
    "                print(f\"Downloaded {filename}\")\n",
    "        except Exception as e:\n",
    "            print(f\"Error downloading image {i}: {e}\")\n",
    "\n",
    "for _, row in tqdm.tqdm(search_df.iterrows()):\n",
    "    name = row['Name']\n",
    "    year = str(row[\"Year\"])\n",
    "    save_dir = os.path.join('pictures', name, year)\n",
    "\n",
    "    # Skip if images already exist\n",
    "    if os.path.exists(save_dir):\n",
    "        image_files = [f for f in os.listdir(save_dir) if f.lower().endswith(('.jpg', '.jpeg', '.png', '.webp'))]\n",
    "        if image_files:\n",
    "            print(f\"Skipping {name} ({year}) - images already exist\")\n",
    "            continue\n",
    "\n",
    "    csv_path = os.path.join(save_dir, 'image_urls.csv')\n",
    "    \n",
    "    # Skip if the CSV file does not exist\n",
    "    if not os.path.exists(csv_path):\n",
    "        print(f\"Skipping {name} ({year}) - image_urls.csv not found\")\n",
    "        continue\n",
    "\n",
    "    image_urls_df = pd.read_csv(csv_path)\n",
    "    image_urls = image_urls_df['image_url'].tolist()\n",
    "    download_images(image_urls, save_dir, limit=15)\n"
   ]
  },
  {
   "cell_type": "code",
   "execution_count": null,
   "id": "d9eb3c6f-680c-493e-b3b4-81368dad77e9",
   "metadata": {},
   "outputs": [],
   "source": []
  }
 ],
 "metadata": {
  "kernelspec": {
   "display_name": "Python 3 (ipykernel)",
   "language": "python",
   "name": "python3"
  },
  "language_info": {
   "codemirror_mode": {
    "name": "ipython",
    "version": 3
   },
   "file_extension": ".py",
   "mimetype": "text/x-python",
   "name": "python",
   "nbconvert_exporter": "python",
   "pygments_lexer": "ipython3",
   "version": "3.12.7"
  }
 },
 "nbformat": 4,
 "nbformat_minor": 5
}
