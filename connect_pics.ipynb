{
 "cells": [
  {
   "cell_type": "code",
   "execution_count": 2,
   "id": "6839d1cf-ded7-4c97-8bca-7dd06781475c",
   "metadata": {},
   "outputs": [],
   "source": [
    "import os\n",
    "import pandas as pd\n",
    "\n",
    "# Load and clean DataFrame\n",
    "ceo_df = pd.read_csv(\"outputs/output_yearly.csv\")\n",
    "\n",
    "# Generate the image path regardless of whether the file exists\n",
    "def generate_image_path(row):\n",
    "    ceo = row['CEO']\n",
    "    year = str(row['Year'])\n",
    "    return f\"matched_pictures/{ceo}/{year}.*\"\n",
    "\n",
    "# Apply and save\n",
    "ceo_df['Image Path'] = ceo_df.apply(generate_image_path, axis=1)\n",
    "ceo_df.to_csv(\"outputs/output_yearlywfilepath.csv\", index=False)"
   ]
  },
  {
   "cell_type": "code",
   "execution_count": 14,
   "id": "1fc494cf-ceec-4a3d-b7f5-60bff700a0df",
   "metadata": {},
   "outputs": [
    {
     "ename": "SyntaxError",
     "evalue": "positional argument follows keyword argument (3001272326.py, line 19)",
     "output_type": "error",
     "traceback": [
      "\u001b[0;36m  Cell \u001b[0;32mIn[14], line 19\u001b[0;36m\u001b[0m\n\u001b[0;31m    generate_image_path(row=ceo_df['CEO']=='Arkadiy Dobkin', ceo_df['Year']==2010)\u001b[0m\n\u001b[0m                                                                                 ^\u001b[0m\n\u001b[0;31mSyntaxError\u001b[0m\u001b[0;31m:\u001b[0m positional argument follows keyword argument\n"
     ]
    }
   ],
   "source": [
    "import os\n",
    "import pandas as pd\n",
    "import glob\n",
    "\n",
    "# Load and clean DataFrame\n",
    "ceo_df = pd.read_csv(\"outputs/output_yearly.csv\")\n",
    "\n",
    "# Dynamically find image file path with correct extension\n",
    "def generate_image_path(row):\n",
    "    ceo = row['CEO']\n",
    "    year = str(row['Year'])\n",
    "    search_path = f\"matched_pictures/{ceo}/{year}.*\"  # Any file extension\n",
    "    matches = glob.glob(search_path)\n",
    "    if matches:\n",
    "        return matches[0]  # Return the first match\n",
    "    else:\n",
    "        return None  # Or a placeholder string like \"not_found\"\n",
    "\n",
    "generate_image_path(row=ceo_df['CEO']=='Arkadiy Dobkin', ceo_df['Year']==2010)\n",
    "\n",
    "\n",
    "# Apply and save\n",
    "ceo_df['Image Path'] = ceo_df.apply(generate_image_path, axis=1)\n",
    "ceo_df.to_csv(\"outputs/output_yearlywfilepath.csv\", index=False)\n"
   ]
  },
  {
   "cell_type": "code",
   "execution_count": null,
   "id": "72b90cb6-9aca-47bc-9e85-88f05ca3731f",
   "metadata": {},
   "outputs": [],
   "source": []
  }
 ],
 "metadata": {
  "kernelspec": {
   "display_name": "Python 3 (ipykernel)",
   "language": "python",
   "name": "python3"
  },
  "language_info": {
   "codemirror_mode": {
    "name": "ipython",
    "version": 3
   },
   "file_extension": ".py",
   "mimetype": "text/x-python",
   "name": "python",
   "nbconvert_exporter": "python",
   "pygments_lexer": "ipython3",
   "version": "3.12.7"
  }
 },
 "nbformat": 4,
 "nbformat_minor": 5
}
