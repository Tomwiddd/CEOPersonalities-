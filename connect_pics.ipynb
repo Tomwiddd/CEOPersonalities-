{
 "cells": [
  {
   "cell_type": "code",
   "execution_count": 6,
   "id": "6839d1cf-ded7-4c97-8bca-7dd06781475c",
   "metadata": {},
   "outputs": [],
   "source": [
    "import os\n",
    "import pandas as pd\n",
    "\n",
    "# Load and clean DataFrame\n",
    "ceo_df = pd.read_csv(\"ceo_face_analysis.csv\")\n",
    "ceo_df.columns = ceo_df.columns.str.strip()\n",
    "\n",
    "# Define name cleaning function (edit this to match folder structure exactly)\n",
    "def clean_ceo_name(name):\n",
    "    return name.strip().replace(\" \", \"_\").lower()\n",
    "\n",
    "# Generate the image path regardless of whether the file exists\n",
    "def generate_image_path(row):\n",
    "    ceo = clean_ceo_name(row['CEO'])\n",
    "    year = str(row['Year']).strip()\n",
    "    return f\"modified_pictures/{ceo}/{year}.jpg\"\n",
    "\n",
    "# Apply and save\n",
    "ceo_df['Image Path'] = ceo_df.apply(generate_image_path, axis=1)\n",
    "ceo_df.to_csv(\"ceo_face_analysis_with_paths.csv\", index=False)\n"
   ]
  }
 ],
 "metadata": {
  "kernelspec": {
   "display_name": "Python [conda env:base] *",
   "language": "python",
   "name": "conda-base-py"
  },
  "language_info": {
   "codemirror_mode": {
    "name": "ipython",
    "version": 3
   },
   "file_extension": ".py",
   "mimetype": "text/x-python",
   "name": "python",
   "nbconvert_exporter": "python",
   "pygments_lexer": "ipython3",
   "version": "3.12.7"
  }
 },
 "nbformat": 4,
 "nbformat_minor": 5
}
