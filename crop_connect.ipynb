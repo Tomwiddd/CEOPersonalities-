{
 "cells": [
  {
   "cell_type": "code",
   "execution_count": 31,
   "id": "9019a8cd-5e6e-409a-a4e8-8be7d99bedd9",
   "metadata": {},
   "outputs": [],
   "source": [
    "def output_matched_face(input_f,validated_f,output_f):\n",
    "    import face_recognition\n",
    "    from PIL import Image\n",
    "    import os\n",
    "\n",
    "    # Step 1: Load the validated image and encode the face\n",
    "    validated_image = face_recognition.load_image_file(validated_f)\n",
    "    validated_encodings = face_recognition.face_encodings(validated_image)\n",
    "\n",
    "    if not validated_encodings:\n",
    "        raise Exception(\"No face found in the validated image.\")\n",
    "\n",
    "    validated_encoding = validated_encodings[0]\n",
    "\n",
    "    # Step 2: Load the second image (which might contain multiple faces)\n",
    "    image_to_search = face_recognition.load_image_file(input_f)\n",
    "    face_locations = face_recognition.face_locations(image_to_search)\n",
    "    face_encodings = face_recognition.face_encodings(image_to_search, face_locations)\n",
    "    image_height, image_width, _ = image_to_search.shape\n",
    "\n",
    "    # Step 3: Output the face of the matched person\n",
    "    # Add a margin around the person, or if only one person is detected, use the whole image\n",
    "\n",
    "    def adjust_face_location(top, right, bottom, left, image_height, image_width, margin=0.2):\n",
    "        \n",
    "        width = right - left\n",
    "        height = bottom - top\n",
    "\n",
    "        new_top = max(0, top - int(height * margin))\n",
    "        new_right = min(image_width, right + int(width * margin))\n",
    "        new_bottom = min(image_height, bottom + int(height * margin))\n",
    "        new_left = max(0, left - int(width * margin))\n",
    "\n",
    "        return new_top, new_right, new_bottom, new_left\n",
    "\n",
    "    for (top, right, bottom, left), face_encoding in zip(face_locations, face_encodings):\n",
    "        match = face_recognition.compare_faces([validated_encoding], face_encoding)\n",
    "        if match[0]:\n",
    "            \n",
    "            # adjust the picture to just that person\n",
    "            top, right, bottom, left = adjust_face_location(top, right, bottom, left, image_height, image_width)\n",
    "            if len(face_locations) == 1:\n",
    "                # but use whole picture if only one person is detected\n",
    "                top, right, bottom, left = (0, image_width, image_height, 0)\n",
    "\n",
    "            pil_image = Image.fromarray(image_to_search)\n",
    "            face_image = pil_image.crop((left, top, right, bottom))\n",
    "            \n",
    "            os.makedirs(os.path.dirname(output_f), exist_ok=True)            \n",
    "            face_image.save(output_f)\n",
    "            break\n",
    "    else:\n",
    "        print(f\"No matching face for {input_f}\")"
   ]
  },
  {
   "cell_type": "code",
   "execution_count": 32,
   "id": "34f54dbe-3487-4044-bdcb-d721cd06155b",
   "metadata": {},
   "outputs": [
    {
     "name": "stdout",
     "output_type": "stream",
     "text": [
      "Missing validated picture for Steve Jobs\n"
     ]
    }
   ],
   "source": [
    "import pandas as pd\n",
    "import os\n",
    "import glob\n",
    "import re\n",
    "csv_filename = \"ceo_data.csv\"  # Change this to your actual file path\n",
    "ceo_df = pd.read_csv(csv_filename)\n",
    "\n",
    "for _, row in ceo_df[:1].iterrows():\n",
    "    ceo = row[\"CEO\"]\n",
    "\n",
    "    validated_f = f\"verified photos/{ceo}.jpg\"\n",
    "    if not os.path.exists(validated_f):\n",
    "        print(f\"Missing validated picture for {ceo}\")\n",
    "        continue\n",
    "\n",
    "    pictures_files = glob.glob(f\"pictures/{ceo}/*/*\") \n",
    "    pictures_files = [f for f in pictures_files if os.path.isfile(f)]\n",
    "    pictures_files = [f for f in pictures_files if not '.csv' in f]\n",
    "\n",
    "    for f in pictures_files:\n",
    "        year = f.split('\\\\')[-2]\n",
    "        f_name = f.split('\\\\')[-1]\n",
    "        print(year)\n",
    "        # if this year obj is actually a year, proceed\n",
    "        if re.match(r'^\\d{4}$', year):\n",
    "            output_f = f\"matched_pictures/{ceo}/{year}/{f_name}\"\n",
    "            output_matched_face(f,validated_f,output_f)"
   ]
  }
 ],
 "metadata": {
  "kernelspec": {
   "display_name": "Python [conda env:base] *",
   "language": "python",
   "name": "conda-base-py"
  },
  "language_info": {
   "codemirror_mode": {
    "name": "ipython",
    "version": 3
   },
   "file_extension": ".py",
   "mimetype": "text/x-python",
   "name": "python",
   "nbconvert_exporter": "python",
   "pygments_lexer": "ipython3",
   "version": "3.12.7"
  }
 },
 "nbformat": 4,
 "nbformat_minor": 5
}
