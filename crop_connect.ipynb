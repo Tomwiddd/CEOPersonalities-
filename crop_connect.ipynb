{
 "cells": [
  {
   "cell_type": "code",
   "execution_count": 1,
   "id": "9f00a6fd-85de-45fc-a9f3-3fc2c7fb0714",
   "metadata": {},
   "outputs": [
    {
     "name": "stdout",
     "output_type": "stream",
     "text": [
      "Retrieving notices: done\n",
      "\n",
      "EnvironmentFileNotFound: '/Users/mayazucker/Desktop/FIN377/CEOPersonalities-/environment.yml' file not found\n",
      "\n",
      "\n",
      "Note: you may need to restart the kernel to use updated packages.\n"
     ]
    }
   ],
   "source": [
    "conda env create -f environment.yml"
   ]
  },
  {
   "cell_type": "code",
   "execution_count": 3,
   "id": "0dff8202-671a-41ec-b659-258f7c0410ee",
   "metadata": {},
   "outputs": [
    {
     "name": "stdout",
     "output_type": "stream",
     "text": [
      "no change     /Applications/anaconda3/condabin/conda\n",
      "no change     /Applications/anaconda3/bin/conda\n",
      "no change     /Applications/anaconda3/bin/conda-env\n",
      "no change     /Applications/anaconda3/bin/activate\n",
      "no change     /Applications/anaconda3/bin/deactivate\n",
      "no change     /Applications/anaconda3/etc/profile.d/conda.sh\n",
      "no change     /Applications/anaconda3/etc/fish/conf.d/conda.fish\n",
      "no change     /Applications/anaconda3/shell/condabin/Conda.psm1\n",
      "modified      /Applications/anaconda3/shell/condabin/conda-hook.ps1\n",
      "no change     /Applications/anaconda3/lib/python3.12/site-packages/xontrib/conda.xsh\n",
      "no change     /Applications/anaconda3/etc/profile.d/conda.csh\n",
      "no change     /Users/mayazucker/.bash_profile\n",
      "\n",
      "==> For changes to take effect, close and re-open your current shell. <==\n",
      "\n",
      "\n",
      "Note: you may need to restart the kernel to use updated packages.\n"
     ]
    }
   ],
   "source": [
    "conda init"
   ]
  },
  {
   "cell_type": "code",
   "execution_count": 4,
   "id": "a28aac7a-76b6-4249-a400-f76763bb43c3",
   "metadata": {},
   "outputs": [
    {
     "name": "stdout",
     "output_type": "stream",
     "text": [
      "\n",
      "CondaError: Run 'conda init' before 'conda activate'\n",
      "\n",
      "\n",
      "Note: you may need to restart the kernel to use updated packages.\n"
     ]
    }
   ],
   "source": [
    "conda activate face_recognition_env"
   ]
  },
  {
   "cell_type": "code",
   "execution_count": 1,
   "id": "9019a8cd-5e6e-409a-a4e8-8be7d99bedd9",
   "metadata": {},
   "outputs": [],
   "source": [
    "def output_matched_face(input_f,validated_f,output_f):\n",
    "    import face_recognition\n",
    "    from PIL import Image\n",
    "    import os"
   ]
  },
  {
   "cell_type": "code",
   "execution_count": 2,
   "id": "eb89adda-b572-4754-9f10-867767ca159f",
   "metadata": {},
   "outputs": [
    {
     "ename": "NameError",
     "evalue": "name 'face_recognition' is not defined",
     "output_type": "error",
     "traceback": [
      "\u001b[0;31m---------------------------------------------------------------------------\u001b[0m",
      "\u001b[0;31mNameError\u001b[0m                                 Traceback (most recent call last)",
      "Cell \u001b[0;32mIn[2], line 2\u001b[0m\n\u001b[1;32m      1\u001b[0m \u001b[38;5;66;03m# Step 1: Load the validated image and encode the face\u001b[39;00m\n\u001b[0;32m----> 2\u001b[0m validated_image \u001b[38;5;241m=\u001b[39m face_recognition\u001b[38;5;241m.\u001b[39mload_image_file(validated_f)\n\u001b[1;32m      3\u001b[0m validated_encodings \u001b[38;5;241m=\u001b[39m face_recognition\u001b[38;5;241m.\u001b[39mface_encodings(validated_image)\n\u001b[1;32m      5\u001b[0m \u001b[38;5;28;01mif\u001b[39;00m \u001b[38;5;129;01mnot\u001b[39;00m validated_encodings:\n",
      "\u001b[0;31mNameError\u001b[0m: name 'face_recognition' is not defined"
     ]
    }
   ],
   "source": [
    "    # Step 1: Load the validated image and encode the face\n",
    "    validated_image = face_recognition.load_image_file(validated_f)\n",
    "    validated_encodings = face_recognition.face_encodings(validated_image)\n",
    "\n",
    "    if not validated_encodings:\n",
    "        raise Exception(\"No face found in the validated image.\")\n",
    "\n",
    "    validated_encoding = validated_encodings[0]"
   ]
  }
 ],
 "metadata": {
  "kernelspec": {
   "display_name": "Python [conda env:base] *",
   "language": "python",
   "name": "conda-base-py"
  },
  "language_info": {
   "codemirror_mode": {
    "name": "ipython",
    "version": 3
   },
   "file_extension": ".py",
   "mimetype": "text/x-python",
   "name": "python",
   "nbconvert_exporter": "python",
   "pygments_lexer": "ipython3",
   "version": "3.12.7"
  }
 },
 "nbformat": 4,
 "nbformat_minor": 5
}
