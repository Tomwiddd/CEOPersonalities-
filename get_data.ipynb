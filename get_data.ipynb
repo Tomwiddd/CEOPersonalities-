{
 "cells": [
  {
   "cell_type": "markdown",
   "id": "07b01d13-a0c9-4151-9a42-5f063b0529fd",
   "metadata": {},
   "source": [
    "## This file gets data"
   ]
  },
  {
   "cell_type": "markdown",
   "id": "f9b00dae-2301-48e3-a3da-9710eed1d655",
   "metadata": {},
   "source": [
    "### Filter S&P500 List on Tech Firms"
   ]
  },
  {
   "cell_type": "code",
   "execution_count": null,
   "id": "202ee4ec-cd5a-4a8a-b836-89152aa173e9",
   "metadata": {},
   "outputs": [],
   "source": []
  }
 ],
 "metadata": {
  "kernelspec": {
   "display_name": "Python 3 (ipykernel)",
   "language": "python",
   "name": "python3"
  },
  "language_info": {
   "codemirror_mode": {
    "name": "ipython",
    "version": 3
   },
   "file_extension": ".py",
   "mimetype": "text/x-python",
   "name": "python",
   "nbconvert_exporter": "python",
   "pygments_lexer": "ipython3",
   "version": "3.12.7"
  }
 },
 "nbformat": 4,
 "nbformat_minor": 5
}
