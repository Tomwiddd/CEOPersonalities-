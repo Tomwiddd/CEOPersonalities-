{
 "cells": [
  {
   "cell_type": "code",
   "execution_count": 8,
   "id": "94ec0f66-399e-4e9b-8192-ae8484afa370",
   "metadata": {},
   "outputs": [],
   "source": [
    "import os\n",
    "import pandas as pd\n",
    "from selenium import webdriver\n",
    "from selenium.webdriver.chrome.options import Options\n",
    "from selenium.webdriver.common.by import By\n",
    "from selenium.webdriver.support.ui import WebDriverWait\n",
    "from selenium.webdriver.support import expected_conditions as EC\n",
    "from selenium.webdriver.common.action_chains import ActionChains\n",
    "import urllib.parse\n",
    "from urllib.parse import quote\n",
    "import requests\n",
    "import re\n",
    "import time\n",
    "import mimetypes\n",
    "import tqdm"
   ]
  },
  {
   "cell_type": "code",
   "execution_count": 10,
   "id": "9ed0cf1a-a75a-4e69-9498-c1e124a7aa26",
   "metadata": {},
   "outputs": [],
   "source": [
    "# Load the CEO data\n",
    "df = pd.read_csv(\"ceo_data.csv\")\n",
    "df = df[df['Company'] != 'DXC Technology Company']\n",
    "df.to_csv(\"ceo_data.csv\", index=False)"
   ]
  },
  {
   "cell_type": "code",
   "execution_count": 12,
   "id": "9009349f-631d-4274-b3c0-1fc59cc08d23",
   "metadata": {},
   "outputs": [],
   "source": [
    "base_url = \"https://www.google.com/search?q={query}&tbm=isch&tbs=cdr:1,cd_min:{start_date},cd_max:{end_date}\""
   ]
  },
  {
   "cell_type": "code",
   "execution_count": 13,
   "id": "ab3b0f9e-d703-4dd7-9188-54e51ac0c649",
   "metadata": {},
   "outputs": [],
   "source": [
    "# Generate URLs for each CEO\n",
    "search_urls = []\n",
    "for _, row in df.iterrows():\n",
    "    name = row[\"CEO\"]\n",
    "    firm = row[\"Company\"]\n",
    "    start_year = row[\"Year\"]\n",
    "    current_year = 2019  # Set this to the present year or desired end year\n",
    "    \n",
    "    for year in range(start_year, current_year + 1):\n",
    "        query = quote(f\"{name} {firm}\")  # Encode the search query\n",
    "        url = base_url.format(query=query, start_date=f\"1/1/{year}\", end_date=f\"12/31/{year}\")\n",
    "        search_urls.append((name, year, url))\n",
    "        break"
   ]
  },
  {
   "cell_type": "code",
   "execution_count": 14,
   "id": "9dbb8cd1-c01c-4822-9105-9588e5e1a303",
   "metadata": {},
   "outputs": [
    {
     "name": "stdout",
     "output_type": "stream",
     "text": [
      "Search URLs saved to ceo_image_search_urls.csv\n"
     ]
    }
   ],
   "source": [
    "# Save the URLs to a CSV file\n",
    "output_filename = \"ceo_image_search_urls.csv\"\n",
    "search_df = pd.DataFrame(search_urls, columns=[\"Name\", \"Year\", \"Search_URL\"])\n",
    "search_df\n",
    "search_df.to_csv(output_filename, index=False)\n",
    "\n",
    "print(f\"Search URLs saved to {output_filename}\")"
   ]
  },
  {
   "cell_type": "code",
   "execution_count": 24,
   "id": "a7c034de-9b7d-472d-ab7d-221aa2008ab3",
   "metadata": {
    "scrolled": true
   },
   "outputs": [
    {
     "name": "stderr",
     "output_type": "stream",
     "text": [
      "Scraping:   0%|                                         | 0/130 [00:00<?, ?it/s]"
     ]
    },
    {
     "name": "stdout",
     "output_type": "stream",
     "text": [
      "https://www.google.com/search?q=John%20Jumper%20Leidos%20Holdings%2C%20Inc.&tbm=isch&tbs=cdr:1,cd_min:1/1/2010,cd_max:12/31/2010\n",
      "John Jumper 2010\n",
      "hover start\n",
      "hover done\n",
      "Found 64 potential image elements\n"
     ]
    },
    {
     "name": "stderr",
     "output_type": "stream",
     "text": [
      "Scraping:   1%|▏                              | 1/130 [00:39<1:25:50, 39.92s/it]"
     ]
    },
    {
     "name": "stdout",
     "output_type": "stream",
     "text": [
      "element 0 has url https://techinquiry.org/logos/general_services_administration.svg\n",
      "element 1 has url https://techinquiry.org/logos/defense_human_resources_activity.png\n",
      "element 2 has url https://www.dnequipment.com/store/pc/catalog/Fred%20Cain%20AC-R45S.jpg\n",
      "element 3 has url http://athpod.com/wp-content/uploads/2019/11/Chloe-Scott-Eli.jpg\n",
      "https://www.google.com/search?q=John%20Jumper%20Leidos%20Holdings%2C%20Inc.&tbm=isch&tbs=cdr:1,cd_min:1/1/2011,cd_max:12/31/2011\n",
      "John Jumper 2011\n",
      "hover start\n",
      "hover done\n",
      "Found 100 potential image elements\n"
     ]
    },
    {
     "name": "stderr",
     "output_type": "stream",
     "text": [
      "Scraping:   2%|▍                              | 2/130 [01:21<1:27:11, 40.87s/it]"
     ]
    },
    {
     "name": "stdout",
     "output_type": "stream",
     "text": [
      "element 0 has url https://arc-anglerfish-washpost-prod-washpost.s3.amazonaws.com/public/X5P5AXSFZQI6JNBXDJZWQICIAQ\n",
      "element 1 has url https://cdn.kscope.io/4cafdb236efada5012535abdb6170229-g229902g02b91.jpg\n",
      "element 2 has url https://techinquiry.org/logos/defense_technical_information_center.svg\n",
      "element 3 has url https://techinquiry.org/logos/united_states_air_force_special_operations_command.svg\n",
      "https://www.google.com/search?q=John%20Jumper%20Leidos%20Holdings%2C%20Inc.&tbm=isch&tbs=cdr:1,cd_min:1/1/2012,cd_max:12/31/2012\n",
      "John Jumper 2012\n",
      "hover start\n",
      "hover done\n",
      "Found 100 potential image elements\n"
     ]
    },
    {
     "name": "stderr",
     "output_type": "stream",
     "text": [
      "Scraping:   2%|▋                              | 3/130 [01:59<1:24:04, 39.72s/it]"
     ]
    },
    {
     "name": "stdout",
     "output_type": "stream",
     "text": [
      "element 0 has url http://www.seminolenation-indianterritory.org/images/negro-abraham.jpg\n",
      "element 1 has url https://www.slate.com/content/dam/slideshows/sports/fivering_circus/2012/07/25/would-you-like-an-irish-american-athlete-with-that-cigarette/jcr%3Acontent/slideshow/9/images%252Fslides%252Firish_10.JPG\n",
      "element 2 has url https://techinquiry.org/logos/mit_lincoln_laboratory.png\n",
      "element 3 has url https://horsesinthesouth.com/wp-content/uploads/2012/11/Rudder007982.jpg\n",
      "https://www.google.com/search?q=John%20Jumper%20Leidos%20Holdings%2C%20Inc.&tbm=isch&tbs=cdr:1,cd_min:1/1/2013,cd_max:12/31/2013\n",
      "John Jumper 2013\n",
      "hover start\n",
      "hover done\n",
      "Found 100 potential image elements\n"
     ]
    },
    {
     "name": "stderr",
     "output_type": "stream",
     "text": [
      "Scraping:   3%|▉                              | 4/130 [02:36<1:20:50, 38.49s/it]"
     ]
    },
    {
     "name": "stdout",
     "output_type": "stream",
     "text": [
      "element 0 has url https://s.wsj.net/public/resources/images/MK-CG172_SAICBT_D_20130910174355.jpg\n",
      "element 1 has url https://www.sec.gov/Archives/edgar/data/1571123/000119312513355621/g491894g64j87.jpg\n",
      "element 2 has url https://www.sec.gov/Archives/edgar/data/1336920/000119312513174327/g516258gra01.jpg\n",
      "element 3 has url https://www.sec.gov/Archives/edgar/data/1336920/000119312513143974/g516258image002.jpg\n",
      "https://www.google.com/search?q=Roger%20Krone%20Leidos%20Holdings%2C%20Inc.&tbm=isch&tbs=cdr:1,cd_min:1/1/2014,cd_max:12/31/2014\n",
      "Roger Krone 2014\n",
      "hover start\n",
      "hover done\n",
      "Found 100 potential image elements\n"
     ]
    },
    {
     "name": "stderr",
     "output_type": "stream",
     "text": [
      "Scraping:   4%|█▏                             | 5/130 [03:12<1:18:39, 37.76s/it]"
     ]
    },
    {
     "name": "stdout",
     "output_type": "stream",
     "text": [
      "element 0 has url https://geospatialmedia.s3.amazonaws.com/wp-content/uploads/2018/05/Leidos-Holdings-Logo.jpg\n",
      "element 1 has url https://media.bizj.us/view/img/1620571/bae-systems-rosslyn*xx600-338-0-31.jpg\n",
      "element 2 has url http://media.bizj.us/view/img/3357141/ripkenstadium-aberdeen*1200xx800-450-0-75.jpg\n",
      "element 3 has url http://media.bizj.us/view/img/3944021/stock-chart.jpg\n",
      "https://www.google.com/search?q=Roger%20Krone%20Leidos%20Holdings%2C%20Inc.&tbm=isch&tbs=cdr:1,cd_min:1/1/2015,cd_max:12/31/2015\n",
      "Roger Krone 2015\n",
      "hover start\n",
      "hover done\n",
      "Found 100 potential image elements\n"
     ]
    },
    {
     "name": "stderr",
     "output_type": "stream",
     "text": [
      "Scraping:   5%|█▍                             | 6/130 [03:49<1:17:22, 37.44s/it]"
     ]
    },
    {
     "name": "stdout",
     "output_type": "stream",
     "text": [
      "element 0 has url https://arc-anglerfish-washpost-prod-washpost.s3.amazonaws.com/public/35DLZCSF2AI6JND46WEJ4BQ6L4\n",
      "element 1 has url https://www.sec.gov/Archives/edgar/data/353394/000133692016000076/logoa02.jpg\n",
      "element 2 has url https://arc-anglerfish-washpost-prod-washpost.s3.amazonaws.com/public/KYYVE7SFZQI6JNBXDJZWQICIAQ\n",
      "element 3 has url https://bbi-strapi.s3.us-east-2.amazonaws.com/archived/biomassmagazine/posts/web/2015/05/Power_14320755859983_largethumb.jpg\n",
      "https://www.google.com/search?q=Roger%20Krone%20Leidos%20Holdings%2C%20Inc.&tbm=isch&tbs=cdr:1,cd_min:1/1/2016,cd_max:12/31/2016\n",
      "Roger Krone 2016\n",
      "hover start\n",
      "hover done\n",
      "Found 86 potential image elements\n"
     ]
    },
    {
     "name": "stderr",
     "output_type": "stream",
     "text": [
      "Scraping:   5%|█▋                             | 7/130 [04:23<1:14:22, 36.28s/it]"
     ]
    },
    {
     "name": "stdout",
     "output_type": "stream",
     "text": [
      "element 0 has url http://media.bizj.us/view/img/3098841/krone*1200xx4023-2265-0-31.jpg\n",
      "element 1 has url https://www.sec.gov/Archives/edgar/data/1336920/000119312516666564/g236371tx002.jpg\n",
      "element 2 has url https://www.sec.gov/Archives/edgar/data/1336920/000119312516437722/g92386ex99_2s4g1.jpg\n",
      "element 3 has url https://www.sec.gov/Archives/edgar/data/1336920/000119312516496987/g152154425as10g1.jpg\n",
      "https://www.google.com/search?q=Roger%20Krone%20Leidos%20Holdings%2C%20Inc.&tbm=isch&tbs=cdr:1,cd_min:1/1/2017,cd_max:12/31/2017\n",
      "Roger Krone 2017\n",
      "hover start\n"
     ]
    },
    {
     "name": "stderr",
     "output_type": "stream",
     "text": [
      "Scraping:   5%|█▋                             | 7/130 [04:51<1:25:20, 41.63s/it]\n"
     ]
    },
    {
     "ename": "KeyboardInterrupt",
     "evalue": "",
     "output_type": "error",
     "traceback": [
      "\u001b[0;31m---------------------------------------------------------------------------\u001b[0m",
      "\u001b[0;31mKeyboardInterrupt\u001b[0m                         Traceback (most recent call last)",
      "Cell \u001b[0;32mIn[24], line 89\u001b[0m\n\u001b[1;32m     86\u001b[0m         \u001b[38;5;28mprint\u001b[39m(\u001b[38;5;124m'\u001b[39m\u001b[38;5;124mSkipping \u001b[39m\u001b[38;5;124m'\u001b[39m,row[\u001b[38;5;124m'\u001b[39m\u001b[38;5;124mName\u001b[39m\u001b[38;5;124m'\u001b[39m], row[\u001b[38;5;124m'\u001b[39m\u001b[38;5;124mYear\u001b[39m\u001b[38;5;124m'\u001b[39m])\n\u001b[1;32m     87\u001b[0m         \u001b[38;5;28;01mcontinue\u001b[39;00m\n\u001b[0;32m---> 89\u001b[0m     scraper\u001b[38;5;241m.\u001b[39mscrape_images(\n\u001b[1;32m     90\u001b[0m         name\u001b[38;5;241m=\u001b[39mrow[\u001b[38;5;124m\"\u001b[39m\u001b[38;5;124mName\u001b[39m\u001b[38;5;124m\"\u001b[39m],\n\u001b[1;32m     91\u001b[0m         year\u001b[38;5;241m=\u001b[39mrow[\u001b[38;5;124m\"\u001b[39m\u001b[38;5;124mYear\u001b[39m\u001b[38;5;124m\"\u001b[39m],\n\u001b[1;32m     92\u001b[0m         search_url\u001b[38;5;241m=\u001b[39mrow[\u001b[38;5;124m\"\u001b[39m\u001b[38;5;124mSearch_URL\u001b[39m\u001b[38;5;124m\"\u001b[39m],\n\u001b[1;32m     93\u001b[0m         max_links\u001b[38;5;241m=\u001b[39m\u001b[38;5;241m4\u001b[39m\n\u001b[1;32m     94\u001b[0m     )\n\u001b[1;32m     95\u001b[0m scraper\u001b[38;5;241m.\u001b[39mclose()\n",
      "Cell \u001b[0;32mIn[24], line 37\u001b[0m, in \u001b[0;36mGoogleImageScraper.scrape_images\u001b[0;34m(self, name, year, search_url, max_links)\u001b[0m\n\u001b[1;32m     35\u001b[0m image_divs \u001b[38;5;241m=\u001b[39m search_div\u001b[38;5;241m.\u001b[39mfind_elements(By\u001b[38;5;241m.\u001b[39mCSS_SELECTOR, \u001b[38;5;124m'\u001b[39m\u001b[38;5;124mdiv[jsname=\u001b[39m\u001b[38;5;124m\"\u001b[39m\u001b[38;5;124mqQjpJ\u001b[39m\u001b[38;5;124m\"\u001b[39m\u001b[38;5;124m]\u001b[39m\u001b[38;5;124m'\u001b[39m)\n\u001b[1;32m     36\u001b[0m image_divs \u001b[38;5;241m=\u001b[39m image_divs[:max_links]  \n\u001b[0;32m---> 37\u001b[0m \u001b[38;5;28mself\u001b[39m\u001b[38;5;241m.\u001b[39mhover_batch(image_divs, batch_size\u001b[38;5;241m=\u001b[39m\u001b[38;5;241m5\u001b[39m, delay\u001b[38;5;241m=\u001b[39m\u001b[38;5;241m0.5\u001b[39m)\n\u001b[1;32m     38\u001b[0m \u001b[38;5;28mprint\u001b[39m(\u001b[38;5;124m'\u001b[39m\u001b[38;5;124mhover done\u001b[39m\u001b[38;5;124m'\u001b[39m)        \n\u001b[1;32m     40\u001b[0m elements \u001b[38;5;241m=\u001b[39m WebDriverWait(search_div, \u001b[38;5;241m10\u001b[39m)\u001b[38;5;241m.\u001b[39muntil(\n\u001b[1;32m     41\u001b[0m     EC\u001b[38;5;241m.\u001b[39mpresence_of_all_elements_located((By\u001b[38;5;241m.\u001b[39mCSS_SELECTOR, \u001b[38;5;124m'\u001b[39m\u001b[38;5;124mdiv[jsname=\u001b[39m\u001b[38;5;124m\"\u001b[39m\u001b[38;5;124mqQjpJ\u001b[39m\u001b[38;5;124m\"\u001b[39m\u001b[38;5;124m] h3 a\u001b[39m\u001b[38;5;124m'\u001b[39m))\n\u001b[1;32m     42\u001b[0m )\n",
      "Cell \u001b[0;32mIn[24], line 15\u001b[0m, in \u001b[0;36mGoogleImageScraper.hover_batch\u001b[0;34m(self, elements, batch_size, delay)\u001b[0m\n\u001b[1;32m     13\u001b[0m \u001b[38;5;28;01mfor\u001b[39;00m el \u001b[38;5;129;01min\u001b[39;00m batch:\n\u001b[1;32m     14\u001b[0m     actions\u001b[38;5;241m.\u001b[39mmove_to_element(el)\n\u001b[0;32m---> 15\u001b[0m actions\u001b[38;5;241m.\u001b[39mperform()\n\u001b[1;32m     16\u001b[0m time\u001b[38;5;241m.\u001b[39msleep(delay)\n",
      "File \u001b[0;32m/Applications/anaconda3/lib/python3.12/site-packages/selenium/webdriver/common/action_chains.py:94\u001b[0m, in \u001b[0;36mActionChains.perform\u001b[0;34m(self)\u001b[0m\n\u001b[1;32m     92\u001b[0m \u001b[38;5;28;01mdef\u001b[39;00m \u001b[38;5;21mperform\u001b[39m(\u001b[38;5;28mself\u001b[39m) \u001b[38;5;241m-\u001b[39m\u001b[38;5;241m>\u001b[39m \u001b[38;5;28;01mNone\u001b[39;00m:\n\u001b[1;32m     93\u001b[0m \u001b[38;5;250m    \u001b[39m\u001b[38;5;124;03m\"\"\"Performs all stored actions.\"\"\"\u001b[39;00m\n\u001b[0;32m---> 94\u001b[0m     \u001b[38;5;28mself\u001b[39m\u001b[38;5;241m.\u001b[39mw3c_actions\u001b[38;5;241m.\u001b[39mperform()\n",
      "File \u001b[0;32m/Applications/anaconda3/lib/python3.12/site-packages/selenium/webdriver/common/actions/action_builder.py:170\u001b[0m, in \u001b[0;36mActionBuilder.perform\u001b[0;34m(self)\u001b[0m\n\u001b[1;32m    168\u001b[0m         enc[\u001b[38;5;124m\"\u001b[39m\u001b[38;5;124mactions\u001b[39m\u001b[38;5;124m\"\u001b[39m]\u001b[38;5;241m.\u001b[39mappend(encoded)\n\u001b[1;32m    169\u001b[0m         device\u001b[38;5;241m.\u001b[39mactions \u001b[38;5;241m=\u001b[39m []\n\u001b[0;32m--> 170\u001b[0m \u001b[38;5;28mself\u001b[39m\u001b[38;5;241m.\u001b[39mdriver\u001b[38;5;241m.\u001b[39mexecute(Command\u001b[38;5;241m.\u001b[39mW3C_ACTIONS, enc)\n",
      "File \u001b[0;32m/Applications/anaconda3/lib/python3.12/site-packages/selenium/webdriver/remote/webdriver.py:427\u001b[0m, in \u001b[0;36mWebDriver.execute\u001b[0;34m(self, driver_command, params)\u001b[0m\n\u001b[1;32m    424\u001b[0m     \u001b[38;5;28;01melif\u001b[39;00m \u001b[38;5;124m\"\u001b[39m\u001b[38;5;124msessionId\u001b[39m\u001b[38;5;124m\"\u001b[39m \u001b[38;5;129;01mnot\u001b[39;00m \u001b[38;5;129;01min\u001b[39;00m params:\n\u001b[1;32m    425\u001b[0m         params[\u001b[38;5;124m\"\u001b[39m\u001b[38;5;124msessionId\u001b[39m\u001b[38;5;124m\"\u001b[39m] \u001b[38;5;241m=\u001b[39m \u001b[38;5;28mself\u001b[39m\u001b[38;5;241m.\u001b[39msession_id\n\u001b[0;32m--> 427\u001b[0m response \u001b[38;5;241m=\u001b[39m \u001b[38;5;28mself\u001b[39m\u001b[38;5;241m.\u001b[39mcommand_executor\u001b[38;5;241m.\u001b[39mexecute(driver_command, params)\n\u001b[1;32m    428\u001b[0m \u001b[38;5;28;01mif\u001b[39;00m response:\n\u001b[1;32m    429\u001b[0m     \u001b[38;5;28mself\u001b[39m\u001b[38;5;241m.\u001b[39merror_handler\u001b[38;5;241m.\u001b[39mcheck_response(response)\n",
      "File \u001b[0;32m/Applications/anaconda3/lib/python3.12/site-packages/selenium/webdriver/remote/remote_connection.py:404\u001b[0m, in \u001b[0;36mRemoteConnection.execute\u001b[0;34m(self, command, params)\u001b[0m\n\u001b[1;32m    402\u001b[0m trimmed \u001b[38;5;241m=\u001b[39m \u001b[38;5;28mself\u001b[39m\u001b[38;5;241m.\u001b[39m_trim_large_entries(params)\n\u001b[1;32m    403\u001b[0m LOGGER\u001b[38;5;241m.\u001b[39mdebug(\u001b[38;5;124m\"\u001b[39m\u001b[38;5;132;01m%s\u001b[39;00m\u001b[38;5;124m \u001b[39m\u001b[38;5;132;01m%s\u001b[39;00m\u001b[38;5;124m \u001b[39m\u001b[38;5;132;01m%s\u001b[39;00m\u001b[38;5;124m\"\u001b[39m, command_info[\u001b[38;5;241m0\u001b[39m], url, \u001b[38;5;28mstr\u001b[39m(trimmed))\n\u001b[0;32m--> 404\u001b[0m \u001b[38;5;28;01mreturn\u001b[39;00m \u001b[38;5;28mself\u001b[39m\u001b[38;5;241m.\u001b[39m_request(command_info[\u001b[38;5;241m0\u001b[39m], url, body\u001b[38;5;241m=\u001b[39mdata)\n",
      "File \u001b[0;32m/Applications/anaconda3/lib/python3.12/site-packages/selenium/webdriver/remote/remote_connection.py:428\u001b[0m, in \u001b[0;36mRemoteConnection._request\u001b[0;34m(self, method, url, body)\u001b[0m\n\u001b[1;32m    425\u001b[0m     body \u001b[38;5;241m=\u001b[39m \u001b[38;5;28;01mNone\u001b[39;00m\n\u001b[1;32m    427\u001b[0m \u001b[38;5;28;01mif\u001b[39;00m \u001b[38;5;28mself\u001b[39m\u001b[38;5;241m.\u001b[39m_client_config\u001b[38;5;241m.\u001b[39mkeep_alive:\n\u001b[0;32m--> 428\u001b[0m     response \u001b[38;5;241m=\u001b[39m \u001b[38;5;28mself\u001b[39m\u001b[38;5;241m.\u001b[39m_conn\u001b[38;5;241m.\u001b[39mrequest(method, url, body\u001b[38;5;241m=\u001b[39mbody, headers\u001b[38;5;241m=\u001b[39mheaders, timeout\u001b[38;5;241m=\u001b[39m\u001b[38;5;28mself\u001b[39m\u001b[38;5;241m.\u001b[39m_client_config\u001b[38;5;241m.\u001b[39mtimeout)\n\u001b[1;32m    429\u001b[0m     statuscode \u001b[38;5;241m=\u001b[39m response\u001b[38;5;241m.\u001b[39mstatus\n\u001b[1;32m    430\u001b[0m \u001b[38;5;28;01melse\u001b[39;00m:\n",
      "File \u001b[0;32m/Applications/anaconda3/lib/python3.12/site-packages/urllib3/request.py:81\u001b[0m, in \u001b[0;36mRequestMethods.request\u001b[0;34m(self, method, url, fields, headers, **urlopen_kw)\u001b[0m\n\u001b[1;32m     77\u001b[0m     \u001b[38;5;28;01mreturn\u001b[39;00m \u001b[38;5;28mself\u001b[39m\u001b[38;5;241m.\u001b[39mrequest_encode_url(\n\u001b[1;32m     78\u001b[0m         method, url, fields\u001b[38;5;241m=\u001b[39mfields, headers\u001b[38;5;241m=\u001b[39mheaders, \u001b[38;5;241m*\u001b[39m\u001b[38;5;241m*\u001b[39murlopen_kw\n\u001b[1;32m     79\u001b[0m     )\n\u001b[1;32m     80\u001b[0m \u001b[38;5;28;01melse\u001b[39;00m:\n\u001b[0;32m---> 81\u001b[0m     \u001b[38;5;28;01mreturn\u001b[39;00m \u001b[38;5;28mself\u001b[39m\u001b[38;5;241m.\u001b[39mrequest_encode_body(\n\u001b[1;32m     82\u001b[0m         method, url, fields\u001b[38;5;241m=\u001b[39mfields, headers\u001b[38;5;241m=\u001b[39mheaders, \u001b[38;5;241m*\u001b[39m\u001b[38;5;241m*\u001b[39murlopen_kw\n\u001b[1;32m     83\u001b[0m     )\n",
      "File \u001b[0;32m/Applications/anaconda3/lib/python3.12/site-packages/urllib3/request.py:173\u001b[0m, in \u001b[0;36mRequestMethods.request_encode_body\u001b[0;34m(self, method, url, fields, headers, encode_multipart, multipart_boundary, **urlopen_kw)\u001b[0m\n\u001b[1;32m    170\u001b[0m extra_kw[\u001b[38;5;124m\"\u001b[39m\u001b[38;5;124mheaders\u001b[39m\u001b[38;5;124m\"\u001b[39m]\u001b[38;5;241m.\u001b[39mupdate(headers)\n\u001b[1;32m    171\u001b[0m extra_kw\u001b[38;5;241m.\u001b[39mupdate(urlopen_kw)\n\u001b[0;32m--> 173\u001b[0m \u001b[38;5;28;01mreturn\u001b[39;00m \u001b[38;5;28mself\u001b[39m\u001b[38;5;241m.\u001b[39murlopen(method, url, \u001b[38;5;241m*\u001b[39m\u001b[38;5;241m*\u001b[39mextra_kw)\n",
      "File \u001b[0;32m/Applications/anaconda3/lib/python3.12/site-packages/urllib3/poolmanager.py:376\u001b[0m, in \u001b[0;36mPoolManager.urlopen\u001b[0;34m(self, method, url, redirect, **kw)\u001b[0m\n\u001b[1;32m    374\u001b[0m     response \u001b[38;5;241m=\u001b[39m conn\u001b[38;5;241m.\u001b[39murlopen(method, url, \u001b[38;5;241m*\u001b[39m\u001b[38;5;241m*\u001b[39mkw)\n\u001b[1;32m    375\u001b[0m \u001b[38;5;28;01melse\u001b[39;00m:\n\u001b[0;32m--> 376\u001b[0m     response \u001b[38;5;241m=\u001b[39m conn\u001b[38;5;241m.\u001b[39murlopen(method, u\u001b[38;5;241m.\u001b[39mrequest_uri, \u001b[38;5;241m*\u001b[39m\u001b[38;5;241m*\u001b[39mkw)\n\u001b[1;32m    378\u001b[0m redirect_location \u001b[38;5;241m=\u001b[39m redirect \u001b[38;5;129;01mand\u001b[39;00m response\u001b[38;5;241m.\u001b[39mget_redirect_location()\n\u001b[1;32m    379\u001b[0m \u001b[38;5;28;01mif\u001b[39;00m \u001b[38;5;129;01mnot\u001b[39;00m redirect_location:\n",
      "File \u001b[0;32m/Applications/anaconda3/lib/python3.12/site-packages/urllib3/connectionpool.py:716\u001b[0m, in \u001b[0;36mHTTPConnectionPool.urlopen\u001b[0;34m(self, method, url, body, headers, retries, redirect, assert_same_host, timeout, pool_timeout, release_conn, chunked, body_pos, **response_kw)\u001b[0m\n\u001b[1;32m    713\u001b[0m     \u001b[38;5;28mself\u001b[39m\u001b[38;5;241m.\u001b[39m_prepare_proxy(conn)\n\u001b[1;32m    715\u001b[0m \u001b[38;5;66;03m# Make the request on the httplib connection object.\u001b[39;00m\n\u001b[0;32m--> 716\u001b[0m httplib_response \u001b[38;5;241m=\u001b[39m \u001b[38;5;28mself\u001b[39m\u001b[38;5;241m.\u001b[39m_make_request(\n\u001b[1;32m    717\u001b[0m     conn,\n\u001b[1;32m    718\u001b[0m     method,\n\u001b[1;32m    719\u001b[0m     url,\n\u001b[1;32m    720\u001b[0m     timeout\u001b[38;5;241m=\u001b[39mtimeout_obj,\n\u001b[1;32m    721\u001b[0m     body\u001b[38;5;241m=\u001b[39mbody,\n\u001b[1;32m    722\u001b[0m     headers\u001b[38;5;241m=\u001b[39mheaders,\n\u001b[1;32m    723\u001b[0m     chunked\u001b[38;5;241m=\u001b[39mchunked,\n\u001b[1;32m    724\u001b[0m )\n\u001b[1;32m    726\u001b[0m \u001b[38;5;66;03m# If we're going to release the connection in ``finally:``, then\u001b[39;00m\n\u001b[1;32m    727\u001b[0m \u001b[38;5;66;03m# the response doesn't need to know about the connection. Otherwise\u001b[39;00m\n\u001b[1;32m    728\u001b[0m \u001b[38;5;66;03m# it will also try to release it and we'll have a double-release\u001b[39;00m\n\u001b[1;32m    729\u001b[0m \u001b[38;5;66;03m# mess.\u001b[39;00m\n\u001b[1;32m    730\u001b[0m response_conn \u001b[38;5;241m=\u001b[39m conn \u001b[38;5;28;01mif\u001b[39;00m \u001b[38;5;129;01mnot\u001b[39;00m release_conn \u001b[38;5;28;01melse\u001b[39;00m \u001b[38;5;28;01mNone\u001b[39;00m\n",
      "File \u001b[0;32m/Applications/anaconda3/lib/python3.12/site-packages/urllib3/connectionpool.py:468\u001b[0m, in \u001b[0;36mHTTPConnectionPool._make_request\u001b[0;34m(self, conn, method, url, timeout, chunked, **httplib_request_kw)\u001b[0m\n\u001b[1;32m    463\u001b[0m             httplib_response \u001b[38;5;241m=\u001b[39m conn\u001b[38;5;241m.\u001b[39mgetresponse()\n\u001b[1;32m    464\u001b[0m         \u001b[38;5;28;01mexcept\u001b[39;00m \u001b[38;5;167;01mBaseException\u001b[39;00m \u001b[38;5;28;01mas\u001b[39;00m e:\n\u001b[1;32m    465\u001b[0m             \u001b[38;5;66;03m# Remove the TypeError from the exception chain in\u001b[39;00m\n\u001b[1;32m    466\u001b[0m             \u001b[38;5;66;03m# Python 3 (including for exceptions like SystemExit).\u001b[39;00m\n\u001b[1;32m    467\u001b[0m             \u001b[38;5;66;03m# Otherwise it looks like a bug in the code.\u001b[39;00m\n\u001b[0;32m--> 468\u001b[0m             six\u001b[38;5;241m.\u001b[39mraise_from(e, \u001b[38;5;28;01mNone\u001b[39;00m)\n\u001b[1;32m    469\u001b[0m \u001b[38;5;28;01mexcept\u001b[39;00m (SocketTimeout, BaseSSLError, SocketError) \u001b[38;5;28;01mas\u001b[39;00m e:\n\u001b[1;32m    470\u001b[0m     \u001b[38;5;28mself\u001b[39m\u001b[38;5;241m.\u001b[39m_raise_timeout(err\u001b[38;5;241m=\u001b[39me, url\u001b[38;5;241m=\u001b[39murl, timeout_value\u001b[38;5;241m=\u001b[39mread_timeout)\n",
      "File \u001b[0;32m<string>:3\u001b[0m, in \u001b[0;36mraise_from\u001b[0;34m(value, from_value)\u001b[0m\n",
      "File \u001b[0;32m/Applications/anaconda3/lib/python3.12/site-packages/urllib3/connectionpool.py:463\u001b[0m, in \u001b[0;36mHTTPConnectionPool._make_request\u001b[0;34m(self, conn, method, url, timeout, chunked, **httplib_request_kw)\u001b[0m\n\u001b[1;32m    460\u001b[0m \u001b[38;5;28;01mexcept\u001b[39;00m \u001b[38;5;167;01mTypeError\u001b[39;00m:\n\u001b[1;32m    461\u001b[0m     \u001b[38;5;66;03m# Python 3\u001b[39;00m\n\u001b[1;32m    462\u001b[0m     \u001b[38;5;28;01mtry\u001b[39;00m:\n\u001b[0;32m--> 463\u001b[0m         httplib_response \u001b[38;5;241m=\u001b[39m conn\u001b[38;5;241m.\u001b[39mgetresponse()\n\u001b[1;32m    464\u001b[0m     \u001b[38;5;28;01mexcept\u001b[39;00m \u001b[38;5;167;01mBaseException\u001b[39;00m \u001b[38;5;28;01mas\u001b[39;00m e:\n\u001b[1;32m    465\u001b[0m         \u001b[38;5;66;03m# Remove the TypeError from the exception chain in\u001b[39;00m\n\u001b[1;32m    466\u001b[0m         \u001b[38;5;66;03m# Python 3 (including for exceptions like SystemExit).\u001b[39;00m\n\u001b[1;32m    467\u001b[0m         \u001b[38;5;66;03m# Otherwise it looks like a bug in the code.\u001b[39;00m\n\u001b[1;32m    468\u001b[0m         six\u001b[38;5;241m.\u001b[39mraise_from(e, \u001b[38;5;28;01mNone\u001b[39;00m)\n",
      "File \u001b[0;32m/Applications/anaconda3/lib/python3.12/http/client.py:1428\u001b[0m, in \u001b[0;36mHTTPConnection.getresponse\u001b[0;34m(self)\u001b[0m\n\u001b[1;32m   1426\u001b[0m \u001b[38;5;28;01mtry\u001b[39;00m:\n\u001b[1;32m   1427\u001b[0m     \u001b[38;5;28;01mtry\u001b[39;00m:\n\u001b[0;32m-> 1428\u001b[0m         response\u001b[38;5;241m.\u001b[39mbegin()\n\u001b[1;32m   1429\u001b[0m     \u001b[38;5;28;01mexcept\u001b[39;00m \u001b[38;5;167;01mConnectionError\u001b[39;00m:\n\u001b[1;32m   1430\u001b[0m         \u001b[38;5;28mself\u001b[39m\u001b[38;5;241m.\u001b[39mclose()\n",
      "File \u001b[0;32m/Applications/anaconda3/lib/python3.12/http/client.py:331\u001b[0m, in \u001b[0;36mHTTPResponse.begin\u001b[0;34m(self)\u001b[0m\n\u001b[1;32m    329\u001b[0m \u001b[38;5;66;03m# read until we get a non-100 response\u001b[39;00m\n\u001b[1;32m    330\u001b[0m \u001b[38;5;28;01mwhile\u001b[39;00m \u001b[38;5;28;01mTrue\u001b[39;00m:\n\u001b[0;32m--> 331\u001b[0m     version, status, reason \u001b[38;5;241m=\u001b[39m \u001b[38;5;28mself\u001b[39m\u001b[38;5;241m.\u001b[39m_read_status()\n\u001b[1;32m    332\u001b[0m     \u001b[38;5;28;01mif\u001b[39;00m status \u001b[38;5;241m!=\u001b[39m CONTINUE:\n\u001b[1;32m    333\u001b[0m         \u001b[38;5;28;01mbreak\u001b[39;00m\n",
      "File \u001b[0;32m/Applications/anaconda3/lib/python3.12/http/client.py:292\u001b[0m, in \u001b[0;36mHTTPResponse._read_status\u001b[0;34m(self)\u001b[0m\n\u001b[1;32m    291\u001b[0m \u001b[38;5;28;01mdef\u001b[39;00m \u001b[38;5;21m_read_status\u001b[39m(\u001b[38;5;28mself\u001b[39m):\n\u001b[0;32m--> 292\u001b[0m     line \u001b[38;5;241m=\u001b[39m \u001b[38;5;28mstr\u001b[39m(\u001b[38;5;28mself\u001b[39m\u001b[38;5;241m.\u001b[39mfp\u001b[38;5;241m.\u001b[39mreadline(_MAXLINE \u001b[38;5;241m+\u001b[39m \u001b[38;5;241m1\u001b[39m), \u001b[38;5;124m\"\u001b[39m\u001b[38;5;124miso-8859-1\u001b[39m\u001b[38;5;124m\"\u001b[39m)\n\u001b[1;32m    293\u001b[0m     \u001b[38;5;28;01mif\u001b[39;00m \u001b[38;5;28mlen\u001b[39m(line) \u001b[38;5;241m>\u001b[39m _MAXLINE:\n\u001b[1;32m    294\u001b[0m         \u001b[38;5;28;01mraise\u001b[39;00m LineTooLong(\u001b[38;5;124m\"\u001b[39m\u001b[38;5;124mstatus line\u001b[39m\u001b[38;5;124m\"\u001b[39m)\n",
      "File \u001b[0;32m/Applications/anaconda3/lib/python3.12/socket.py:720\u001b[0m, in \u001b[0;36mSocketIO.readinto\u001b[0;34m(self, b)\u001b[0m\n\u001b[1;32m    718\u001b[0m \u001b[38;5;28;01mwhile\u001b[39;00m \u001b[38;5;28;01mTrue\u001b[39;00m:\n\u001b[1;32m    719\u001b[0m     \u001b[38;5;28;01mtry\u001b[39;00m:\n\u001b[0;32m--> 720\u001b[0m         \u001b[38;5;28;01mreturn\u001b[39;00m \u001b[38;5;28mself\u001b[39m\u001b[38;5;241m.\u001b[39m_sock\u001b[38;5;241m.\u001b[39mrecv_into(b)\n\u001b[1;32m    721\u001b[0m     \u001b[38;5;28;01mexcept\u001b[39;00m timeout:\n\u001b[1;32m    722\u001b[0m         \u001b[38;5;28mself\u001b[39m\u001b[38;5;241m.\u001b[39m_timeout_occurred \u001b[38;5;241m=\u001b[39m \u001b[38;5;28;01mTrue\u001b[39;00m\n",
      "\u001b[0;31mKeyboardInterrupt\u001b[0m: "
     ]
    }
   ],
   "source": [
    "## STEP 2: RUN GOOGLE IMAGE SEARCHES TO COLLECT PICTURE LINKS + ARTICLES THEY ARE IN\n",
    "\n",
    "class GoogleImageScraper:\n",
    "    def __init__(self):\n",
    "        chrome_options = Options()\n",
    "        # chrome_options.add_argument('--headless')\n",
    "        self.driver = webdriver.Chrome(options=chrome_options)\n",
    "        \n",
    "    def hover_batch(self, elements, batch_size=5, delay=0.5):\n",
    "        actions = ActionChains(self.driver)\n",
    "        for i in range(0, len(elements), batch_size):\n",
    "            batch = elements[i:i + batch_size]\n",
    "            for el in batch:\n",
    "                actions.move_to_element(el)\n",
    "            actions.perform()\n",
    "            time.sleep(delay)\n",
    "                            \n",
    "    def scrape_images(self, name, year, search_url, max_links=30):\n",
    "        save_dir = os.path.join('pictures', name, str(year))\n",
    "        os.makedirs(save_dir, exist_ok=True)\n",
    "        \n",
    "        try:\n",
    "            self.driver.get(search_url)\n",
    "            time.sleep(2)\n",
    "            print(search_url)\n",
    "            print(name, year)\n",
    "            \n",
    "            # Wait for search div and image elements\n",
    "            search_div = WebDriverWait(self.driver, 10).until(\n",
    "                EC.presence_of_element_located((By.ID, \"search\"))\n",
    "            )\n",
    "            time.sleep(2)\n",
    "\n",
    "            print('hover start')        \n",
    "            image_divs = search_div.find_elements(By.CSS_SELECTOR, 'div[jsname=\"qQjpJ\"]')\n",
    "            image_divs = image_divs[:max_links]  \n",
    "            self.hover_batch(image_divs, batch_size=5, delay=0.5)\n",
    "            print('hover done')        \n",
    "               \n",
    "            elements = WebDriverWait(search_div, 10).until(\n",
    "                EC.presence_of_all_elements_located((By.CSS_SELECTOR, 'div[jsname=\"qQjpJ\"] h3 a'))\n",
    "            )\n",
    "            print(f\"Found {len(elements)} potential image elements\")\n",
    "            time.sleep(2)\n",
    "\n",
    "            image_urls = []\n",
    "            for i, element in enumerate(elements):\n",
    "                href = element.get_attribute('href')\n",
    "                if href:\n",
    "                    match = re.search(r'imgurl=([^&]+)', href)\n",
    "                    match_story =  re.search(r'imgrefurl=([^&]+)', href)\n",
    "                    if match and match_story:\n",
    "                        image_url = urllib.parse.unquote(match.group(1))\n",
    "                        story_url = urllib.parse.unquote(match_story.group(1))\n",
    "                        print(f'element {i} has url {image_url}')                                                \n",
    "                        image_urls.append([image_url, story_url])\n",
    "                        if len(image_urls) >= max_links:\n",
    "                            break\n",
    "            \n",
    "            # save image urls to csv\n",
    "            image_urls_df = pd.DataFrame(image_urls, columns=['image_url', 'story_url'])\n",
    "            image_urls_df.to_csv(os.path.join(save_dir, 'image_urls.csv'), index=False)            \n",
    "\n",
    "        except Exception as e:\n",
    "            print(f\"Error processing {name} for year {year}: {e}\")\n",
    "                \n",
    "    def close(self):\n",
    "        self.driver.quit()\n",
    "\n",
    "# Collect image articles/picture file links via selenium:\n",
    "\n",
    "search_df = pd.read_csv(\"ceo_image_search_urls.csv\").iloc[540:]\n",
    "\n",
    "# test_df = search_df.sample(5) # run the search on subset \n",
    "# test_df\n",
    "\n",
    "scraper = GoogleImageScraper()\n",
    "for _, row in tqdm.tqdm(search_df.iterrows(), total=len(search_df), desc=\"Scraping\"):\n",
    "\n",
    "    try:\n",
    "        files = os.listdir(f'pictures/{row[\"Name\"]}/{row[\"Year\"]}/')\n",
    "    except:\n",
    "        files = []\n",
    "        \n",
    "    if len([f for f in files if f.endswith('png') or f.endswith('jpg') or f.endswith('jpeg')]) >0:\n",
    "        print('Skipping ',row['Name'], row['Year'])\n",
    "        continue\n",
    "    \n",
    "    scraper.scrape_images(\n",
    "        name=row[\"Name\"],\n",
    "        year=row[\"Year\"],\n",
    "        search_url=row[\"Search_URL\"],\n",
    "        max_links=4\n",
    "    )\n",
    "scraper.close()    "
   ]
  },
  {
   "cell_type": "code",
   "execution_count": null,
   "id": "838c7efa-9d99-4663-b6ba-a753f0c55370",
   "metadata": {},
   "outputs": [],
   "source": []
  },
  {
   "cell_type": "code",
   "execution_count": 7,
   "id": "bb46cd8b-ed82-40a4-8462-776faff4d803",
   "metadata": {
    "scrolled": true
   },
   "outputs": [
    {
     "name": "stderr",
     "output_type": "stream",
     "text": [
      "0it [00:00, ?it/s]"
     ]
    },
    {
     "name": "stdout",
     "output_type": "stream",
     "text": [
      "Skipping Steve Jobs (2010) - images already exist\n",
      "Skipping Tim Cook (2011) - images already exist\n",
      "Skipping Tim Cook (2012) - images already exist\n",
      "Skipping Tim Cook (2013) - images already exist\n",
      "Skipping Tim Cook (2014) - images already exist\n",
      "Skipping Tim Cook (2015) - images already exist\n",
      "Skipping Tim Cook (2016) - images already exist\n",
      "Skipping Tim Cook (2017) - images already exist\n",
      "Skipping Tim Cook (2018) - images already exist\n",
      "Skipping Tim Cook (2019) - images already exist\n",
      "Skipping Steve Ballmer (2010) - images already exist\n",
      "Skipping Steve Ballmer (2011) - images already exist\n",
      "Skipping Steve Ballmer (2012) - images already exist\n",
      "Skipping Steve Ballmer (2013) - images already exist\n",
      "Skipping Satya Nadella (2014) - images already exist\n",
      "Skipping Satya Nadella (2015) - images already exist\n",
      "Skipping Satya Nadella (2016) - images already exist\n",
      "Skipping Satya Nadella (2017) - images already exist\n",
      "Skipping Satya Nadella (2018) - images already exist\n",
      "Skipping Satya Nadella (2019) - images already exist\n",
      "Skipping Jensen Huang (2010) - images already exist\n",
      "Skipping Jensen Huang (2011) - images already exist\n",
      "Skipping Jensen Huang (2012) - images already exist\n",
      "Skipping Jensen Huang (2013) - images already exist\n",
      "Skipping Jensen Huang (2014) - images already exist\n",
      "Skipping Jensen Huang (2015) - images already exist\n",
      "Skipping Jensen Huang (2016) - images already exist\n",
      "Skipping Jensen Huang (2017) - images already exist\n",
      "Skipping Jensen Huang (2018) - images already exist\n",
      "Skipping Jensen Huang (2019) - images already exist\n",
      "Downloading 4 images\n",
      "Downloaded pic1.svg\n"
     ]
    },
    {
     "name": "stderr",
     "output_type": "stream",
     "text": [
      "31it [00:00, 56.79it/s]"
     ]
    },
    {
     "name": "stdout",
     "output_type": "stream",
     "text": [
      "Skipping Scott A. McGregor (2011) - images already exist\n",
      "Skipping Scott A. McGregor (2012) - images already exist\n",
      "Skipping Scott A. McGregor (2013) - images already exist\n",
      "Skipping Scott A. McGregor (2014) - images already exist\n",
      "Skipping Scott A. McGregor (2015) - images already exist\n",
      "Skipping Hock Tan (2016) - images already exist\n",
      "Skipping Hock Tan (2017) - images already exist\n",
      "Skipping Hock Tan (2018) - images already exist\n",
      "Skipping Hock Tan (2019) - images already exist\n",
      "Skipping Shantanu Narayen (2010) - images already exist\n",
      "Skipping Shantanu Narayen (2011) - images already exist\n",
      "Skipping Shantanu Narayen (2012) - images already exist\n",
      "Skipping Shantanu Narayen (2013) - images already exist\n",
      "Skipping Shantanu Narayen (2014) - images already exist\n",
      "Skipping Shantanu Narayen (2015) - images already exist\n",
      "Skipping Shantanu Narayen (2016) - images already exist\n",
      "Skipping Shantanu Narayen (2017) - images already exist\n",
      "Skipping Shantanu Narayen (2018) - images already exist\n",
      "Skipping Shantanu Narayen (2019) - images already exist\n",
      "Skipping John T. Chambers (2010) - images already exist\n",
      "Skipping John T. Chambers (2011) - images already exist\n",
      "Skipping John T. Chambers (2012) - images already exist\n",
      "Skipping John T. Chambers (2013) - images already exist\n",
      "Skipping John T. Chambers (2014) - images already exist\n",
      "Skipping Chuck Robbins (2015) - images already exist\n",
      "Skipping Chuck Robbins (2016) - images already exist\n",
      "Skipping Chuck Robbins (2017) - images already exist\n",
      "Skipping Chuck Robbins (2018) - images already exist\n",
      "Skipping Chuck Robbins (2019) - images already exist\n",
      "Skipping Larry Ellison (2010) - images already exist\n",
      "Skipping Larry Ellison (2011) - images already exist\n",
      "Skipping Larry Ellison (2012) - images already exist\n",
      "Skipping Larry Ellison (2013) - images already exist\n",
      "Skipping Safra Catz & Mark Hurd (2014) - images already exist\n",
      "Skipping Safra Catz & Mark Hurd (2015) - images already exist\n",
      "Skipping Safra Catz & Mark Hurd (2016) - images already exist\n",
      "Skipping Safra Catz & Mark Hurd (2017) - images already exist\n",
      "Skipping Safra Catz & Mark Hurd (2018) - images already exist\n",
      "Skipping Safra Catz & Mark Hurd (2019) - images already exist\n",
      "Skipping Marc Benioff (2010) - images already exist\n",
      "Skipping Marc Benioff (2011) - images already exist\n",
      "Skipping Marc Benioff (2012) - images already exist\n",
      "Skipping Marc Benioff (2013) - images already exist\n",
      "Skipping Marc Benioff (2014) - images already exist\n",
      "Skipping Marc Benioff (2015) - images already exist\n",
      "Skipping Marc Benioff (2016) - images already exist\n",
      "Skipping Marc Benioff (2017) - images already exist\n",
      "Skipping Marc Benioff (2018) - images already exist\n",
      "Skipping Marc Benioff (2019) - images already exist\n",
      "Skipping Paul Otellini (2010) - images already exist\n",
      "Skipping Paul Otellini (2011) - images already exist\n",
      "Skipping Paul Otellini (2012) - images already exist\n",
      "Skipping Brian Krzanich (2013) - images already exist\n",
      "Skipping Brian Krzanich (2014) - images already exist\n",
      "Skipping Brian Krzanich (2015) - images already exist\n",
      "Skipping Brian Krzanich (2016) - images already exist\n",
      "Skipping Brian Krzanich (2017) - images already exist\n",
      "Skipping Bob Swan (2018) - images already exist\n",
      "Skipping Bob Swan (2019) - images already exist\n",
      "Skipping Richard K. Templeton (2010) - images already exist\n",
      "Skipping Richard K. Templeton (2011) - images already exist\n",
      "Skipping Richard K. Templeton (2012) - images already exist\n",
      "Skipping Richard K. Templeton (2013) - images already exist\n",
      "Skipping Richard K. Templeton (2014) - images already exist\n",
      "Skipping Richard K. Templeton (2015) - images already exist\n",
      "Skipping Richard K. Templeton (2016) - images already exist\n",
      "Skipping Richard K. Templeton (2017) - images already exist\n",
      "Skipping Brian Crutcher (2018) - images already exist\n",
      "Skipping Brian Crutcher (2019) - images already exist\n",
      "Skipping Paul E. Jacobs (2010) - images already exist\n",
      "Skipping Paul E. Jacobs (2011) - images already exist\n",
      "Skipping Paul E. Jacobs (2012) - images already exist\n",
      "Skipping Paul E. Jacobs (2013) - images already exist\n",
      "Skipping Steve Mollenkopf (2014) - images already exist\n",
      "Downloading 4 images\n",
      "Error downloading image 0: ('Connection aborted.', ConnectionResetError(54, 'Connection reset by peer'))\n"
     ]
    },
    {
     "name": "stderr",
     "output_type": "stream",
     "text": [
      "106it [00:02, 51.22it/s]"
     ]
    },
    {
     "name": "stdout",
     "output_type": "stream",
     "text": [
      "Skipping Steve Mollenkopf (2016) - images already exist\n",
      "Skipping Steve Mollenkopf (2017) - images already exist\n",
      "Skipping Steve Mollenkopf (2018) - images already exist\n",
      "Skipping Steve Mollenkopf (2019) - images already exist\n",
      "Skipping Samuel J. Palmisano (2010) - images already exist\n",
      "Skipping Samuel J. Palmisano (2011) - images already exist\n",
      "Skipping Virginia Rometty (2012) - images already exist\n",
      "Skipping Virginia Rometty (2013) - images already exist\n",
      "Skipping Virginia Rometty (2014) - images already exist\n",
      "Skipping Virginia Rometty (2015) - images already exist\n",
      "Skipping Virginia Rometty (2016) - images already exist\n",
      "Skipping Virginia Rometty (2017) - images already exist\n",
      "Skipping Virginia Rometty (2018) - images already exist\n",
      "Skipping Virginia Rometty (2019) - images already exist\n",
      "Skipping John Donahoe (under eBay) (2010) - images already exist\n",
      "Skipping John Donahoe (under eBay) (2011) - images already exist\n",
      "Skipping John Donahoe (under eBay) (2012) - images already exist\n",
      "Skipping John Donahoe (under eBay) (2013) - images already exist\n",
      "Skipping John Donahoe (under eBay) (2014) - images already exist\n",
      "Skipping Dan Schulman (2015) - images already exist\n",
      "Skipping Dan Schulman (2016) - images already exist\n",
      "Skipping Dan Schulman (2017) - images already exist\n",
      "Skipping Dan Schulman (2018) - images already exist\n",
      "Skipping Dan Schulman (2019) - images already exist\n",
      "Skipping Fred Luddy (2010) - images already exist\n",
      "Skipping Fred Luddy (2011) - images already exist\n",
      "Skipping Frank Slootman (2012) - images already exist\n",
      "Skipping Frank Slootman (2013) - images already exist\n",
      "Skipping Frank Slootman (2014) - images already exist\n",
      "Skipping Frank Slootman (2015) - images already exist\n",
      "Skipping Frank Slootman (2016) - images already exist\n",
      "Skipping John Donahoe (2017) - images already exist\n",
      "Skipping John Donahoe (2018) - images already exist\n",
      "Skipping John Donahoe (2019) - images already exist\n",
      "Skipping Brad Smith (2010) - images already exist\n",
      "Skipping Brad Smith (2011) - images already exist\n",
      "Skipping Brad Smith (2012) - images already exist\n",
      "Skipping Brad Smith (2013) - images already exist\n",
      "Skipping Brad Smith (2014) - images already exist\n",
      "Skipping Brad Smith (2015) - images already exist\n",
      "Skipping Brad Smith (2016) - images already exist\n",
      "Skipping Brad Smith (2017) - images already exist\n",
      "Skipping Brad Smith (2018) - images already exist\n",
      "Skipping Sasan Goodarzi (2019) - images already exist\n",
      "Skipping Dirk Meyer (2010) - images already exist\n",
      "Skipping Thomas Seifert (interim) (2011) - images already exist\n",
      "Skipping Rory Read (2012) - images already exist\n",
      "Skipping Rory Read (2013) - images already exist\n",
      "Skipping Lisa Su (2014) - images already exist\n",
      "Skipping Lisa Su (2015) - images already exist\n",
      "Skipping Lisa Su (2016) - images already exist\n",
      "Skipping Lisa Su (2017) - images already exist\n",
      "Skipping Lisa Su (2018) - images already exist\n",
      "Skipping Lisa Su (2019) - images already exist\n",
      "Skipping Mark Hurd (2010) - images already exist\n",
      "Skipping Leo Apotheker (2011) - images already exist\n",
      "Skipping Meg Whitman (2012) - images already exist\n",
      "Skipping Meg Whitman (2013) - images already exist\n",
      "Skipping Meg Whitman (2014) - images already exist\n",
      "Skipping Dion Weisler (2015) - images already exist\n",
      "Skipping Dion Weisler (2016) - images already exist\n",
      "Skipping Dion Weisler (2017) - images already exist\n",
      "Skipping Dion Weisler (2018) - images already exist\n",
      "Skipping Enrique Lores (2019) - images already exist\n",
      "Skipping Steve Appleton (2010) - images already exist\n",
      "Skipping Steve Appleton (2011) - images already exist\n",
      "Skipping Mark Durcan (2012) - images already exist\n",
      "Skipping Mark Durcan (2013) - images already exist\n",
      "Skipping Mark Durcan (2014) - images already exist\n",
      "Skipping Mark Durcan (2015) - images already exist\n",
      "Skipping Mark Durcan (2016) - images already exist\n",
      "Skipping Sanjay Mehrotra (2017) - images already exist\n",
      "Skipping Sanjay Mehrotra (2018) - images already exist\n",
      "Skipping Sanjay Mehrotra (2019) - images already exist\n",
      "Skipping Jerald Fishman (2010) - images already exist\n",
      "Skipping Jerald Fishman (2011) - images already exist\n",
      "Skipping Jerald Fishman (2012) - images already exist\n",
      "Skipping Vincent Roche (2013) - images already exist\n",
      "Skipping Vincent Roche (2014) - images already exist\n",
      "Skipping Vincent Roche (2015) - images already exist\n",
      "Skipping Vincent Roche (2016) - images already exist\n",
      "Skipping Vincent Roche (2017) - images already exist\n",
      "Skipping Vincent Roche (2018) - images already exist\n",
      "Skipping Vincent Roche (2019) - images already exist\n",
      "Skipping Stephen G. Newberry (2010) - images already exist\n",
      "Skipping Stephen G. Newberry (2011) - images already exist\n",
      "Downloading 4 images\n"
     ]
    },
    {
     "name": "stderr",
     "output_type": "stream",
     "text": [
      "193it [00:03, 65.65it/s]"
     ]
    },
    {
     "name": "stdout",
     "output_type": "stream",
     "text": [
      "Downloading 4 images\n",
      "Error downloading image 2: No connection adapters were found for 'x-raw-image:///5c487e614cabf7d69a60c3684f87aad26bf2b750ca4f5272c3fa59383fad333f'\n"
     ]
    },
    {
     "name": "stderr",
     "output_type": "stream",
     "text": [
      "200it [00:03, 59.54it/s]"
     ]
    },
    {
     "name": "stdout",
     "output_type": "stream",
     "text": [
      "Skipping Martin Anstice (2014) - images already exist\n",
      "Skipping Martin Anstice (2015) - images already exist\n",
      "Skipping Martin Anstice (2016) - images already exist\n",
      "Skipping Martin Anstice (2017) - images already exist\n",
      "Skipping Martin Anstice (2018) - images already exist\n",
      "Skipping Tim Archer (2019) - images already exist\n",
      "Skipping Michael R. Splinter (2010) - images already exist\n",
      "Skipping Michael R. Splinter (2011) - images already exist\n",
      "Skipping Michael R. Splinter (2012) - images already exist\n",
      "Skipping Gary E. Dickerson (2013) - images already exist\n",
      "Skipping Gary E. Dickerson (2014) - images already exist\n",
      "Skipping Gary E. Dickerson (2015) - images already exist\n",
      "Skipping Gary E. Dickerson (2016) - images already exist\n",
      "Skipping Gary E. Dickerson (2017) - images already exist\n",
      "Skipping Gary E. Dickerson (2018) - images already exist\n",
      "Skipping Gary E. Dickerson (2019) - images already exist\n",
      "Skipping Rick Wallace (2010) - images already exist\n",
      "Skipping Rick Wallace (2011) - images already exist\n",
      "Skipping Rick Wallace (2012) - images already exist\n",
      "Skipping Rick Wallace (2013) - images already exist\n",
      "Skipping Rick Wallace (2014) - images already exist\n",
      "Skipping Rick Wallace (2015) - images already exist\n",
      "Skipping Rick Wallace (2016) - images already exist\n",
      "Skipping Rick Wallace (2017) - images already exist\n",
      "Skipping Rick Wallace (2018) - images already exist\n",
      "Skipping Rick Wallace (2019) - images already exist\n",
      "Skipping Sehat Sutardja (2010) - images already exist\n",
      "Skipping Sehat Sutardja (2011) - images already exist\n",
      "Skipping Sehat Sutardja (2012) - images already exist\n",
      "Skipping Sehat Sutardja (2013) - images already exist\n",
      "Skipping Sehat Sutardja (2014) - images already exist\n",
      "Skipping Sehat Sutardja (2015) - images already exist\n",
      "Skipping Matthew J. Murphy (2016) - images already exist\n",
      "Skipping Matthew J. Murphy (2017) - images already exist\n",
      "Skipping Matthew J. Murphy (2018) - images already exist\n",
      "Skipping Matthew J. Murphy (2019) - images already exist\n",
      "Skipping Lip-Bu Tan (2010) - images already exist\n",
      "Skipping Lip-Bu Tan (2011) - images already exist\n",
      "Skipping Lip-Bu Tan (2012) - images already exist\n",
      "Skipping Lip-Bu Tan (2013) - images already exist\n",
      "Skipping Lip-Bu Tan (2014) - images already exist\n",
      "Skipping Lip-Bu Tan (2015) - images already exist\n",
      "Skipping Lip-Bu Tan (2016) - images already exist\n",
      "Skipping Lip-Bu Tan (2017) - images already exist\n",
      "Skipping Lip-Bu Tan (2018) - images already exist\n",
      "Skipping Lip-Bu Tan (2019) - images already exist\n",
      "Skipping Aart de Geus (2010) - images already exist\n",
      "Skipping Aart de Geus (2011) - images already exist\n",
      "Skipping Aart de Geus (2012) - images already exist\n",
      "Skipping Aart de Geus (2013) - images already exist\n",
      "Skipping Aart de Geus (2014) - images already exist\n",
      "Skipping Aart de Geus (2015) - images already exist\n",
      "Skipping Aart de Geus (2016) - images already exist\n",
      "Skipping Aart de Geus (2017) - images already exist\n",
      "Skipping Aart de Geus (2018) - images already exist\n",
      "Skipping Aart de Geus (2019) - images already exist\n",
      "Skipping Ken Xie (2010) - images already exist\n",
      "Skipping Ken Xie (2011) - images already exist\n",
      "Skipping Ken Xie (2012) - images already exist\n",
      "Skipping Ken Xie (2013) - images already exist\n",
      "Skipping Ken Xie (2014) - images already exist\n",
      "Skipping Ken Xie (2015) - images already exist\n",
      "Skipping Ken Xie (2016) - images already exist\n",
      "Skipping Ken Xie (2017) - images already exist\n",
      "Skipping Ken Xie (2018) - images already exist\n",
      "Skipping Ken Xie (2019) - images already exist\n",
      "Skipping John McAdam (2010) - images already exist\n",
      "Skipping John McAdam (2011) - images already exist\n",
      "Skipping John McAdam (2012) - images already exist\n",
      "Skipping John McAdam (2013) - images already exist\n",
      "Skipping John McAdam (2014) - images already exist\n",
      "Skipping John McAdam (2015) - images already exist\n",
      "Skipping John McAdam (2016) - images already exist\n",
      "Skipping François Locoh-Donou (2017) - images already exist\n",
      "Skipping François Locoh-Donou (2018) - images already exist\n",
      "Skipping François Locoh-Donou (2019) - images already exist\n",
      "Skipping Jayshree Ullal (2010) - images already exist\n",
      "Skipping Jayshree Ullal (2011) - images already exist\n",
      "Skipping Jayshree Ullal (2012) - images already exist\n",
      "Skipping Jayshree Ullal (2013) - images already exist\n",
      "Skipping Jayshree Ullal (2014) - images already exist\n",
      "Skipping Jayshree Ullal (2015) - images already exist\n",
      "Skipping Jayshree Ullal (2016) - images already exist\n",
      "Skipping Jayshree Ullal (2017) - images already exist\n",
      "Skipping Jayshree Ullal (2018) - images already exist\n",
      "Skipping Jayshree Ullal (2019) - images already exist\n",
      "Skipping Greg Brown (2010) - images already exist\n",
      "Skipping Greg Brown (2011) - images already exist\n",
      "Skipping Greg Brown (2012) - images already exist\n",
      "Skipping Greg Brown (2013) - images already exist\n",
      "Skipping Greg Brown (2014) - images already exist\n",
      "Skipping Greg Brown (2015) - images already exist\n",
      "Skipping Greg Brown (2016) - images already exist\n",
      "Skipping Greg Brown (2017) - images already exist\n",
      "Downloading 4 images\n"
     ]
    },
    {
     "name": "stderr",
     "output_type": "stream",
     "text": [
      "289it [00:03, 102.55it/s]"
     ]
    },
    {
     "name": "stdout",
     "output_type": "stream",
     "text": [
      "Skipping Greg Brown (2019) - images already exist\n",
      "Skipping John Coyne (2010) - images already exist\n",
      "Skipping John Coyne (2011) - images already exist\n",
      "Skipping Stephen Milligan (2012) - images already exist\n",
      "Skipping Stephen Milligan (2013) - images already exist\n",
      "Skipping Stephen Milligan (2014) - images already exist\n",
      "Skipping Stephen Milligan (2015) - images already exist\n",
      "Skipping Stephen Milligan (2016) - images already exist\n",
      "Skipping Stephen Milligan (2017) - images already exist\n",
      "Skipping Stephen Milligan (2018) - images already exist\n",
      "Skipping Stephen Milligan (2019) - images already exist\n",
      "Skipping Stephen J. Luczo (2010) - images already exist\n",
      "Skipping Stephen J. Luczo (2011) - images already exist\n",
      "Skipping Stephen J. Luczo (2012) - images already exist\n",
      "Skipping Stephen J. Luczo (2013) - images already exist\n",
      "Skipping Stephen J. Luczo (2014) - images already exist\n",
      "Skipping Stephen J. Luczo (2015) - images already exist\n",
      "Skipping Stephen J. Luczo (2016) - images already exist\n",
      "Skipping Stephen J. Luczo (2017) - images already exist\n",
      "Skipping David Mosley (2018) - images already exist\n",
      "Skipping David Mosley (2019) - images already exist\n",
      "Skipping Moshe Gavrielov (2010) - images already exist\n",
      "Skipping Moshe Gavrielov (2011) - images already exist\n",
      "Skipping Moshe Gavrielov (2012) - images already exist\n",
      "Skipping Moshe Gavrielov (2013) - images already exist\n",
      "Skipping Moshe Gavrielov (2014) - images already exist\n",
      "Skipping Moshe Gavrielov (2015) - images already exist\n",
      "Skipping Moshe Gavrielov (2016) - images already exist\n",
      "Skipping Victor Peng (2017) - images already exist\n",
      "Skipping Victor Peng (2018) - images already exist\n",
      "Skipping Victor Peng (2019) - images already exist\n",
      "Skipping Enrique Salem (2010) - image_urls.csv not found\n",
      "Downloading 1 images\n"
     ]
    },
    {
     "name": "stderr",
     "output_type": "stream",
     "text": [
      "322it [00:03, 104.23it/s]"
     ]
    },
    {
     "name": "stdout",
     "output_type": "stream",
     "text": [
      "Downloaded pic1.jpg\n",
      "Downloading 4 images\n",
      "Downloaded pic1.jpg\n",
      "Downloaded pic2.jpg\n",
      "Downloaded pic3.jpg\n",
      "Downloaded pic4.jpg\n",
      "Downloading 4 images\n",
      "Downloaded pic1.jpg\n",
      "Error downloading image 1: No connection adapters were found for 'x-raw-image:///c0151362e508d64c9be77f7500fc9b4e58677d79f2642a828d488d7e0a19c59b'\n",
      "Error downloading image 2: No connection adapters were found for 'x-raw-image:///4991e1581d68949e1268e5c57a100c0f1071d4ffcacc1b7e4f2b91a4db305a5a'\n",
      "Error downloading image 3: No connection adapters were found for 'x-raw-image:///0c9ae2b14b78a4a2ebe546454d2bdabc2c11f63b6f14f11feebf4756ee692290'\n",
      "Downloading 4 images\n",
      "Downloaded pic1.jpg\n",
      "Downloaded pic2.jpg\n",
      "Downloaded pic3.jpg\n",
      "Downloaded pic4.jpg\n",
      "Downloading 4 images\n",
      "Downloaded pic1.jpg\n",
      "Downloading 4 images\n",
      "Downloaded pic1.jpg\n",
      "Downloaded pic2.jpg\n",
      "Downloaded pic3.jpg\n",
      "Downloaded pic4.jpg\n",
      "Downloading 4 images\n",
      "Downloaded pic1.jpg\n",
      "Downloaded pic2.jpg\n",
      "Downloaded pic3.jpg\n",
      "Downloaded pic4.png\n",
      "Downloading 4 images\n",
      "Downloaded pic1.jpg\n",
      "Downloaded pic2.jpg\n",
      "Downloaded pic3.jpg\n",
      "Downloaded pic4.jpg\n",
      "Downloading 4 images\n"
     ]
    },
    {
     "name": "stderr",
     "output_type": "stream",
     "text": [
      "322it [00:20, 104.23it/s]"
     ]
    },
    {
     "name": "stdout",
     "output_type": "stream",
     "text": [
      "Error downloading image 0: HTTPSConnectionPool(host='mms.businesswire.com', port=443): Read timed out. (read timeout=30)\n",
      "Downloaded pic2.jpg\n"
     ]
    },
    {
     "name": "stderr",
     "output_type": "stream",
     "text": [
      "330it [00:43,  2.83it/s] "
     ]
    },
    {
     "name": "stdout",
     "output_type": "stream",
     "text": [
      "Downloaded pic4.jpg\n",
      "Downloading 4 images\n",
      "Downloaded pic1.jpg\n",
      "Downloaded pic2.jpg\n",
      "Downloaded pic3.jpg\n"
     ]
    },
    {
     "name": "stderr",
     "output_type": "stream",
     "text": [
      "331it [00:45,  2.69it/s]"
     ]
    },
    {
     "name": "stdout",
     "output_type": "stream",
     "text": [
      "Downloaded pic4.jpg\n",
      "Downloading 4 images\n",
      "Downloaded pic1.jpg\n",
      "Downloaded pic2.jpg\n",
      "Downloaded pic3.jpg\n",
      "Downloaded pic4.jpg\n",
      "Downloading 4 images\n",
      "Downloaded pic1.jpg\n",
      "Downloaded pic2.jpg\n",
      "Downloaded pic3.jpg\n",
      "Downloaded pic4.jpg\n",
      "Downloading 4 images\n",
      "Downloaded pic1.jpg\n",
      "Downloaded pic2.jpg\n",
      "Downloaded pic3.jpg\n",
      "Downloaded pic4.jpg\n",
      "Downloading 4 images\n",
      "Downloaded pic1.jpg\n",
      "Downloaded pic2.jpg\n",
      "Downloaded pic3.jpg\n",
      "Downloaded pic4.jpg\n",
      "Downloading 4 images\n"
     ]
    },
    {
     "name": "stderr",
     "output_type": "stream",
     "text": [
      "331it [01:00,  2.69it/s]"
     ]
    },
    {
     "name": "stdout",
     "output_type": "stream",
     "text": [
      "Error downloading image 0: HTTPSConnectionPool(host='www.ir.akamai.com', port=443): Read timed out. (read timeout=30)\n",
      "Downloaded pic2.jpg\n"
     ]
    },
    {
     "name": "stderr",
     "output_type": "stream",
     "text": [
      "336it [01:20,  1.08it/s]"
     ]
    },
    {
     "name": "stdout",
     "output_type": "stream",
     "text": [
      "Downloaded pic3.jpg\n",
      "Downloading 4 images\n",
      "Downloaded pic1.jpg\n",
      "Downloaded pic2.jpg\n"
     ]
    },
    {
     "name": "stderr",
     "output_type": "stream",
     "text": [
      "337it [01:23,  1.03it/s]"
     ]
    },
    {
     "name": "stdout",
     "output_type": "stream",
     "text": [
      "Downloaded pic3.jpg\n",
      "Downloaded pic4.jpg\n",
      "Downloading 4 images\n",
      "Downloaded pic1.jpg\n",
      "Downloaded pic2.jpg\n",
      "Downloaded pic3.jpg\n",
      "Downloaded pic4.jpg\n",
      "Downloading 4 images\n",
      "Downloaded pic2.jpg\n",
      "Downloaded pic3.jpg\n",
      "Downloaded pic4.jpg\n",
      "Downloading 4 images\n",
      "Downloaded pic1.jpg\n",
      "Downloaded pic2.jpg\n",
      "Downloaded pic3.jpg\n",
      "Downloaded pic4.jpg\n",
      "Downloading 4 images\n",
      "Downloaded pic1.jpg\n",
      "Downloaded pic2.jpg\n",
      "Downloaded pic3.jpg\n",
      "Downloading 4 images\n",
      "Downloaded pic1.jpg\n",
      "Downloaded pic2.jpg\n",
      "Downloaded pic3.jpg\n",
      "Downloaded pic4.jpg\n",
      "Downloading 4 images\n"
     ]
    },
    {
     "name": "stderr",
     "output_type": "stream",
     "text": [
      "337it [01:40,  1.03it/s]"
     ]
    },
    {
     "name": "stdout",
     "output_type": "stream",
     "text": [
      "Error downloading image 0: HTTPSConnectionPool(host='investor.verisign.com', port=443): Read timed out. (read timeout=30)\n",
      "Downloaded pic2.jpg\n",
      "Downloaded pic3.jpg\n"
     ]
    },
    {
     "name": "stderr",
     "output_type": "stream",
     "text": [
      "343it [02:03,  1.88s/it]"
     ]
    },
    {
     "name": "stdout",
     "output_type": "stream",
     "text": [
      "Downloaded pic4.png\n",
      "Downloading 4 images\n",
      "Downloaded pic1.jpg\n",
      "Downloaded pic2.jpg\n"
     ]
    },
    {
     "name": "stderr",
     "output_type": "stream",
     "text": [
      "344it [02:05,  1.87s/it]"
     ]
    },
    {
     "name": "stdout",
     "output_type": "stream",
     "text": [
      "Downloaded pic3.jpg\n",
      "Downloading 4 images\n",
      "Downloaded pic1.jpg\n",
      "Downloaded pic2.jpg\n",
      "Downloaded pic4.jpg\n",
      "Downloading 4 images\n",
      "Downloaded pic4.jpg\n",
      "Downloading 4 images\n",
      "Downloaded pic1.jpg\n",
      "Downloaded pic2.png\n",
      "Downloaded pic3.jpg\n",
      "Downloading 4 images\n",
      "Downloaded pic2.jpg\n",
      "Downloaded pic3.png\n",
      "Downloaded pic4.jpg\n",
      "Downloading 4 images\n",
      "Downloaded pic1.png\n",
      "Downloaded pic2.bin\n",
      "Downloaded pic3.bin\n"
     ]
    },
    {
     "name": "stderr",
     "output_type": "stream",
     "text": [
      "349it [02:11,  1.74s/it]"
     ]
    },
    {
     "name": "stdout",
     "output_type": "stream",
     "text": [
      "Downloaded pic4.bin\n",
      "Downloading 4 images\n",
      "Downloaded pic1.png\n",
      "Downloaded pic4.bin\n",
      "Downloading 4 images\n",
      "Downloaded pic1.jpg\n",
      "Downloaded pic2.jpg\n",
      "Downloaded pic3.jpg\n",
      "Downloaded pic4.jpg\n",
      "Downloading 4 images\n",
      "Downloaded pic1.jpg\n",
      "Downloaded pic2.jpg\n",
      "Downloaded pic3.jpg\n"
     ]
    },
    {
     "name": "stderr",
     "output_type": "stream",
     "text": [
      "352it [02:19,  1.89s/it]"
     ]
    },
    {
     "name": "stdout",
     "output_type": "stream",
     "text": [
      "Downloaded pic4.jpg\n",
      "Downloading 4 images\n",
      "Downloaded pic1.jpg\n",
      "Downloaded pic2.jpg\n",
      "Downloaded pic3.jpg\n",
      "Downloaded pic4.jpg\n",
      "Downloading 4 images\n",
      "Error downloading image 0: No connection adapters were found for 'x-raw-image:///78ef07619694a8c14d99d8f0291a4793b68955814c5148e858007099b022ca20'\n",
      "Downloaded pic2.jpg\n",
      "Downloaded pic3.jpg\n",
      "Downloaded pic4.jpg\n",
      "Downloading 4 images\n",
      "Downloaded pic1.jpg\n"
     ]
    },
    {
     "name": "stderr",
     "output_type": "stream",
     "text": [
      "352it [02:30,  1.89s/it]"
     ]
    },
    {
     "name": "stdout",
     "output_type": "stream",
     "text": [
      "Error downloading image 1: ('Connection aborted.', RemoteDisconnected('Remote end closed connection without response'))\n",
      "Downloaded pic3.jpg\n"
     ]
    },
    {
     "name": "stderr",
     "output_type": "stream",
     "text": [
      "355it [02:45,  3.09s/it]"
     ]
    },
    {
     "name": "stdout",
     "output_type": "stream",
     "text": [
      "Downloaded pic4.jpg\n",
      "Downloading 4 images\n",
      "Downloaded pic1.jpg\n",
      "Error downloading image 1: HTTPSConnectionPool(host='mms.businesswire.com', port=443): Read timed out. (read timeout=30)\n"
     ]
    },
    {
     "name": "stderr",
     "output_type": "stream",
     "text": [
      "356it [03:16,  5.28s/it]"
     ]
    },
    {
     "name": "stdout",
     "output_type": "stream",
     "text": [
      "Downloaded pic4.jpg\n",
      "Downloading 4 images\n",
      "Downloaded pic1.jpg\n",
      "Downloaded pic2.jpg\n",
      "Downloaded pic3.jpg\n"
     ]
    },
    {
     "name": "stderr",
     "output_type": "stream",
     "text": [
      "357it [03:48,  8.04s/it]"
     ]
    },
    {
     "name": "stdout",
     "output_type": "stream",
     "text": [
      "Error downloading image 3: HTTPSConnectionPool(host='mms.businesswire.com', port=443): Read timed out. (read timeout=30)\n",
      "Downloading 4 images\n",
      "Downloaded pic1.jpg\n",
      "Downloaded pic2.jpg\n",
      "Downloaded pic3.jpg\n"
     ]
    },
    {
     "name": "stderr",
     "output_type": "stream",
     "text": [
      "358it [03:52,  7.44s/it]"
     ]
    },
    {
     "name": "stdout",
     "output_type": "stream",
     "text": [
      "Downloaded pic4.jpg\n",
      "Downloading 4 images\n",
      "Downloaded pic1.jpg\n"
     ]
    },
    {
     "name": "stderr",
     "output_type": "stream",
     "text": [
      "358it [04:10,  7.44s/it]"
     ]
    },
    {
     "name": "stdout",
     "output_type": "stream",
     "text": [
      "Error downloading image 1: HTTPSConnectionPool(host='mms.businesswire.com', port=443): Read timed out. (read timeout=30)\n",
      "Downloaded pic3.jpg\n"
     ]
    },
    {
     "name": "stderr",
     "output_type": "stream",
     "text": [
      "359it [04:52, 15.52s/it]"
     ]
    },
    {
     "name": "stdout",
     "output_type": "stream",
     "text": [
      "Error downloading image 3: HTTPSConnectionPool(host='mms.businesswire.com', port=443): Read timed out. (read timeout=30)\n",
      "Downloading 4 images\n",
      "Downloaded pic1.jpg\n",
      "Downloaded pic2.jpg\n"
     ]
    },
    {
     "name": "stderr",
     "output_type": "stream",
     "text": [
      "360it [04:53, 12.96s/it]"
     ]
    },
    {
     "name": "stdout",
     "output_type": "stream",
     "text": [
      "Downloaded pic4.jpg\n",
      "Downloading 4 images\n",
      "Downloaded pic1.jpg\n",
      "Downloaded pic2.jpg\n",
      "Downloaded pic3.jpg\n",
      "Downloaded pic4.jpg\n",
      "Downloading 4 images\n",
      "Downloaded pic1.jpg\n",
      "Downloaded pic2.jpg\n",
      "Downloaded pic3.jpg\n"
     ]
    },
    {
     "name": "stderr",
     "output_type": "stream",
     "text": [
      "362it [04:56,  9.04s/it]"
     ]
    },
    {
     "name": "stdout",
     "output_type": "stream",
     "text": [
      "Downloaded pic4.jpg\n",
      "Downloading 4 images\n",
      "Downloaded pic2.jpg\n",
      "Downloaded pic3.jpg\n"
     ]
    },
    {
     "name": "stderr",
     "output_type": "stream",
     "text": [
      "364it [04:57,  5.84s/it]"
     ]
    },
    {
     "name": "stdout",
     "output_type": "stream",
     "text": [
      "Downloaded pic4.jpg\n",
      "Downloading 4 images\n",
      "Error downloading image 3: No connection adapters were found for 'x-raw-image:///692e1f60b7c9121c1a4481397d00014d48100d988639230032b7751fecff5992'\n",
      "Downloading 4 images\n",
      "Downloaded pic1.jpg\n",
      "Error downloading image 1: No connection adapters were found for 'x-raw-image:///8639a23a1c6c90275df86e77b03cf9fed87547c9b3e9f812b1f871f1781fe55e'\n"
     ]
    },
    {
     "name": "stderr",
     "output_type": "stream",
     "text": [
      "365it [04:57,  4.52s/it]"
     ]
    },
    {
     "name": "stdout",
     "output_type": "stream",
     "text": [
      "Downloaded pic3.png\n",
      "Error downloading image 3: No connection adapters were found for 'x-raw-image:///2e8ba1d38dbcca5d7cef131e16353cb5cc252ae3adb41024b8d3c88b2ba01750'\n",
      "Downloading 4 images\n",
      "Downloaded pic1.png\n",
      "Downloaded pic2.jpg\n"
     ]
    },
    {
     "name": "stderr",
     "output_type": "stream",
     "text": [
      "366it [04:58,  3.67s/it]"
     ]
    },
    {
     "name": "stdout",
     "output_type": "stream",
     "text": [
      "Downloaded pic3.jpg\n",
      "Downloaded pic4.jpg\n",
      "Downloading 4 images\n",
      "Downloaded pic2.jpg\n"
     ]
    },
    {
     "name": "stderr",
     "output_type": "stream",
     "text": [
      "367it [04:59,  2.92s/it]"
     ]
    },
    {
     "name": "stdout",
     "output_type": "stream",
     "text": [
      "Downloaded pic4.jpg\n",
      "Downloading 4 images\n",
      "Downloaded pic1.jpg\n",
      "Downloaded pic2.jpg\n"
     ]
    },
    {
     "name": "stderr",
     "output_type": "stream",
     "text": [
      "368it [05:00,  2.43s/it]"
     ]
    },
    {
     "name": "stdout",
     "output_type": "stream",
     "text": [
      "Downloaded pic3.jpg\n",
      "Downloaded pic4.jpg\n",
      "Downloading 4 images\n",
      "Downloaded pic1.jpg\n"
     ]
    },
    {
     "name": "stderr",
     "output_type": "stream",
     "text": [
      "369it [05:02,  2.09s/it]"
     ]
    },
    {
     "name": "stdout",
     "output_type": "stream",
     "text": [
      "Downloaded pic2.jpg\n",
      "Downloading 4 images\n",
      "Downloaded pic1.jpg\n",
      "Downloaded pic2.jpg\n"
     ]
    },
    {
     "name": "stderr",
     "output_type": "stream",
     "text": [
      "370it [05:02,  1.74s/it]"
     ]
    },
    {
     "name": "stdout",
     "output_type": "stream",
     "text": [
      "Downloaded pic3.png\n",
      "Downloaded pic4.jpg\n",
      "Downloading 4 images\n",
      "Downloaded pic1.jpg\n",
      "Downloaded pic2.jpg\n",
      "Downloaded pic3.jpg\n"
     ]
    },
    {
     "name": "stderr",
     "output_type": "stream",
     "text": [
      "371it [05:06,  2.37s/it]"
     ]
    },
    {
     "name": "stdout",
     "output_type": "stream",
     "text": [
      "Downloaded pic4.jpg\n",
      "Downloading 4 images\n",
      "Downloaded pic1.jpg\n",
      "Downloaded pic2.jpg\n",
      "Downloaded pic3.jpg\n"
     ]
    },
    {
     "name": "stderr",
     "output_type": "stream",
     "text": [
      "372it [05:08,  2.03s/it]"
     ]
    },
    {
     "name": "stdout",
     "output_type": "stream",
     "text": [
      "Downloaded pic4.jpg\n",
      "Downloading 4 images\n",
      "Downloaded pic1.jpg\n",
      "Downloaded pic2.jpg\n"
     ]
    },
    {
     "name": "stderr",
     "output_type": "stream",
     "text": [
      "373it [05:08,  1.70s/it]"
     ]
    },
    {
     "name": "stdout",
     "output_type": "stream",
     "text": [
      "Downloaded pic3.jpg\n",
      "Downloaded pic4.jpg\n",
      "Downloading 4 images\n",
      "Downloaded pic1.jpg\n",
      "Downloaded pic2.jpg\n",
      "Downloaded pic3.jpg\n"
     ]
    },
    {
     "name": "stderr",
     "output_type": "stream",
     "text": [
      "374it [05:13,  2.54s/it]"
     ]
    },
    {
     "name": "stdout",
     "output_type": "stream",
     "text": [
      "Downloaded pic4.png\n",
      "Downloading 4 images\n",
      "Downloaded pic1.jpg\n",
      "Downloaded pic2.jpg\n"
     ]
    },
    {
     "name": "stderr",
     "output_type": "stream",
     "text": [
      "375it [05:17,  3.08s/it]"
     ]
    },
    {
     "name": "stdout",
     "output_type": "stream",
     "text": [
      "Downloaded pic4.jpg\n",
      "Downloading 4 images\n",
      "Downloaded pic1.svg\n",
      "Downloaded pic2.jpg\n"
     ]
    },
    {
     "name": "stderr",
     "output_type": "stream",
     "text": [
      "376it [05:18,  2.37s/it]"
     ]
    },
    {
     "name": "stdout",
     "output_type": "stream",
     "text": [
      "Downloaded pic4.jpg\n",
      "Downloading 4 images\n",
      "Downloaded pic1.jpg\n",
      "Downloaded pic2.jpg\n",
      "Downloaded pic3.jpg\n"
     ]
    },
    {
     "name": "stderr",
     "output_type": "stream",
     "text": [
      "377it [05:20,  2.27s/it]"
     ]
    },
    {
     "name": "stdout",
     "output_type": "stream",
     "text": [
      "Downloaded pic4.jpg\n",
      "Downloading 4 images\n",
      "Downloaded pic1.jpg\n",
      "Downloaded pic2.jpg\n",
      "Downloaded pic3.jpg\n"
     ]
    },
    {
     "name": "stderr",
     "output_type": "stream",
     "text": [
      "378it [05:21,  1.94s/it]"
     ]
    },
    {
     "name": "stdout",
     "output_type": "stream",
     "text": [
      "Downloaded pic4.jpg\n",
      "Downloading 4 images\n",
      "Downloaded pic1.jpg\n",
      "Downloaded pic2.jpg\n"
     ]
    },
    {
     "name": "stderr",
     "output_type": "stream",
     "text": [
      "379it [05:22,  1.73s/it]"
     ]
    },
    {
     "name": "stdout",
     "output_type": "stream",
     "text": [
      "Downloaded pic3.jpg\n",
      "Downloaded pic4.jpg\n",
      "Downloading 4 images\n",
      "Downloaded pic1.jpg\n",
      "Downloaded pic2.jpg\n"
     ]
    },
    {
     "name": "stderr",
     "output_type": "stream",
     "text": [
      "380it [05:23,  1.39s/it]"
     ]
    },
    {
     "name": "stdout",
     "output_type": "stream",
     "text": [
      "Downloaded pic3.jpg\n",
      "Downloaded pic4.jpg\n",
      "Downloading 4 images\n"
     ]
    },
    {
     "name": "stderr",
     "output_type": "stream",
     "text": [
      "381it [05:24,  1.16s/it]"
     ]
    },
    {
     "name": "stdout",
     "output_type": "stream",
     "text": [
      "Downloaded pic2.jpg\n",
      "Downloading 4 images\n",
      "Downloaded pic1.jpg\n",
      "Downloaded pic2.jpg\n",
      "Downloaded pic3.jpg\n"
     ]
    },
    {
     "name": "stderr",
     "output_type": "stream",
     "text": [
      "382it [05:25,  1.08s/it]"
     ]
    },
    {
     "name": "stdout",
     "output_type": "stream",
     "text": [
      "Downloaded pic4.jpg\n",
      "Downloading 4 images\n",
      "Error downloading image 0: No connection adapters were found for 'x-raw-image:///a83a0f8b7addb9d97143242526d56511f12e82c482953a52197bb42d02100ba0'\n",
      "Downloaded pic2.jpg\n",
      "Downloaded pic3.jpg\n"
     ]
    },
    {
     "name": "stderr",
     "output_type": "stream",
     "text": [
      "383it [05:26,  1.05s/it]"
     ]
    },
    {
     "name": "stdout",
     "output_type": "stream",
     "text": [
      "Downloaded pic4.jpg\n",
      "Downloading 4 images\n",
      "Error downloading image 0: No connection adapters were found for 'x-raw-image:///aac8e3e37423d77b44c14b1a75010b51ccdcd876a8d8e80e610976e7e98f694f'\n",
      "Error downloading image 1: No connection adapters were found for 'x-raw-image:///8525ec65bee854e7e9f1360bb5d6e22324dca32347776bcc1eed421f068be5b4'\n"
     ]
    },
    {
     "name": "stderr",
     "output_type": "stream",
     "text": [
      "384it [05:56,  9.79s/it]"
     ]
    },
    {
     "name": "stdout",
     "output_type": "stream",
     "text": [
      "Error downloading image 2: HTTPSConnectionPool(host='mms.businesswire.com', port=443): Read timed out. (read timeout=30)\n",
      "Downloaded pic4.jpg\n",
      "Downloading 4 images\n",
      "Downloaded pic1.gif\n"
     ]
    },
    {
     "name": "stderr",
     "output_type": "stream",
     "text": [
      "385it [05:57,  7.14s/it]"
     ]
    },
    {
     "name": "stdout",
     "output_type": "stream",
     "text": [
      "Downloaded pic4.jpg\n",
      "Downloading 4 images\n",
      "Downloaded pic1.jpg\n",
      "Downloaded pic2.jpg\n"
     ]
    },
    {
     "name": "stderr",
     "output_type": "stream",
     "text": [
      "386it [05:59,  5.65s/it]"
     ]
    },
    {
     "name": "stdout",
     "output_type": "stream",
     "text": [
      "Downloaded pic4.jpg\n",
      "Downloading 4 images\n",
      "Downloaded pic1.png\n",
      "Downloaded pic2.jpg\n",
      "Downloaded pic3.jpg\n"
     ]
    },
    {
     "name": "stderr",
     "output_type": "stream",
     "text": [
      "387it [06:00,  4.32s/it]"
     ]
    },
    {
     "name": "stdout",
     "output_type": "stream",
     "text": [
      "Downloaded pic4.jpg\n",
      "Downloading 4 images\n",
      "Downloaded pic1.jpg\n",
      "Downloaded pic2.jpg\n",
      "Downloaded pic3.jpg\n"
     ]
    },
    {
     "name": "stderr",
     "output_type": "stream",
     "text": [
      "388it [06:02,  3.63s/it]"
     ]
    },
    {
     "name": "stdout",
     "output_type": "stream",
     "text": [
      "Downloaded pic4.jpg\n",
      "Downloading 4 images\n",
      "Downloaded pic1.jpg\n",
      "Downloaded pic2.jpg\n",
      "Downloaded pic3.jpg\n"
     ]
    },
    {
     "name": "stderr",
     "output_type": "stream",
     "text": [
      "389it [06:04,  3.05s/it]"
     ]
    },
    {
     "name": "stdout",
     "output_type": "stream",
     "text": [
      "Downloaded pic4.jpg\n",
      "Downloading 4 images\n",
      "Downloaded pic1.jpg\n",
      "Downloaded pic2.jpg\n",
      "Downloaded pic3.jpg\n"
     ]
    },
    {
     "name": "stderr",
     "output_type": "stream",
     "text": [
      "390it [06:05,  2.58s/it]"
     ]
    },
    {
     "name": "stdout",
     "output_type": "stream",
     "text": [
      "Downloaded pic4.jpg\n",
      "Downloading 4 images\n",
      "Downloaded pic2.jpg\n"
     ]
    },
    {
     "name": "stderr",
     "output_type": "stream",
     "text": [
      "391it [06:07,  2.19s/it]"
     ]
    },
    {
     "name": "stdout",
     "output_type": "stream",
     "text": [
      "Downloaded pic4.jpg\n",
      "Downloading 4 images\n",
      "Downloaded pic1.jpg\n"
     ]
    },
    {
     "name": "stderr",
     "output_type": "stream",
     "text": [
      "392it [06:07,  1.77s/it]"
     ]
    },
    {
     "name": "stdout",
     "output_type": "stream",
     "text": [
      "Downloaded pic3.svg\n",
      "Downloading 4 images\n"
     ]
    },
    {
     "name": "stderr",
     "output_type": "stream",
     "text": [
      "393it [06:08,  1.48s/it]"
     ]
    },
    {
     "name": "stdout",
     "output_type": "stream",
     "text": [
      "Downloaded pic4.jpg\n",
      "Downloading 4 images\n",
      "Downloaded pic1.jpg\n",
      "Downloaded pic2.jpg\n"
     ]
    },
    {
     "name": "stderr",
     "output_type": "stream",
     "text": [
      "394it [06:10,  1.65s/it]"
     ]
    },
    {
     "name": "stdout",
     "output_type": "stream",
     "text": [
      "Downloaded pic4.jpg\n",
      "Downloading 4 images\n",
      "Downloaded pic1.jpg\n",
      "Downloaded pic2.jpg\n"
     ]
    },
    {
     "name": "stderr",
     "output_type": "stream",
     "text": [
      "395it [06:12,  1.56s/it]"
     ]
    },
    {
     "name": "stdout",
     "output_type": "stream",
     "text": [
      "Downloading 4 images\n",
      "Downloaded pic1.jpg\n",
      "Downloaded pic3.jpg\n"
     ]
    },
    {
     "name": "stderr",
     "output_type": "stream",
     "text": [
      "396it [06:13,  1.42s/it]"
     ]
    },
    {
     "name": "stdout",
     "output_type": "stream",
     "text": [
      "Downloaded pic4.png\n",
      "Downloading 4 images\n",
      "Downloaded pic1.jpg\n",
      "Downloaded pic2.png\n",
      "Error downloading image 2: No connection adapters were found for 'x-raw-image:///380eb8733226da378f6e36d026201b0f4587c2ee7e1cd015a9bf5633b5c4b584'\n"
     ]
    },
    {
     "name": "stderr",
     "output_type": "stream",
     "text": [
      "397it [06:13,  1.15s/it]"
     ]
    },
    {
     "name": "stdout",
     "output_type": "stream",
     "text": [
      "Downloading 4 images\n",
      "Downloaded pic1.jpg\n",
      "Error downloading image 1: HTTPSConnectionPool(host='mms.businesswire.com', port=443): Read timed out. (read timeout=30)\n"
     ]
    },
    {
     "name": "stderr",
     "output_type": "stream",
     "text": [
      "398it [06:44, 10.07s/it]"
     ]
    },
    {
     "name": "stdout",
     "output_type": "stream",
     "text": [
      "Downloaded pic3.jpg\n",
      "Downloading 4 images\n",
      "Downloaded pic1.jpg\n"
     ]
    },
    {
     "name": "stderr",
     "output_type": "stream",
     "text": [
      "399it [06:45,  7.28s/it]"
     ]
    },
    {
     "name": "stdout",
     "output_type": "stream",
     "text": [
      "Downloaded pic3.jpg\n",
      "Downloaded pic4.bin\n",
      "Downloading 4 images\n",
      "Downloaded pic1.bin\n",
      "Downloaded pic3.png\n"
     ]
    },
    {
     "name": "stderr",
     "output_type": "stream",
     "text": [
      "400it [06:46,  5.45s/it]"
     ]
    },
    {
     "name": "stdout",
     "output_type": "stream",
     "text": [
      "Downloaded pic4.jpg\n",
      "Downloading 4 images\n",
      "Error downloading image 0: HTTPConnectionPool(host='www.edacafe.com', port=80): Max retries exceeded with url: /common/tinymce_image/get_image.php?image_id=4533 (Caused by ConnectTimeoutError(<urllib3.connection.HTTPConnection object at 0x166b24f20>, 'Connection to www.edacafe.com timed out. (connect timeout=30)'))\n",
      "Error downloading image 1: HTTPConnectionPool(host='www.edacafe.com', port=80): Max retries exceeded with url: /common/tinymce_image/get_image.php?image_id=4529 (Caused by ConnectTimeoutError(<urllib3.connection.HTTPConnection object at 0x166b26090>, 'Connection to www.edacafe.com timed out. (connect timeout=30)'))\n",
      "Error downloading image 2: HTTPConnectionPool(host='www.edacafe.com', port=80): Max retries exceeded with url: /common/tinymce_image/get_image.php?image_id=4531 (Caused by ConnectTimeoutError(<urllib3.connection.HTTPConnection object at 0x166b25220>, 'Connection to www.edacafe.com timed out. (connect timeout=30)'))\n"
     ]
    },
    {
     "name": "stderr",
     "output_type": "stream",
     "text": [
      "401it [08:46, 39.87s/it]"
     ]
    },
    {
     "name": "stdout",
     "output_type": "stream",
     "text": [
      "Error downloading image 3: HTTPConnectionPool(host='www.edacafe.com', port=80): Max retries exceeded with url: /common/tinymce_image/get_image.php?image_id=4527 (Caused by ConnectTimeoutError(<urllib3.connection.HTTPConnection object at 0x166b25d30>, 'Connection to www.edacafe.com timed out. (connect timeout=30)'))\n",
      "Downloading 4 images\n",
      "Downloaded pic1.jpg\n",
      "Downloaded pic2.jpg\n",
      "Downloaded pic3.jpg\n"
     ]
    },
    {
     "name": "stderr",
     "output_type": "stream",
     "text": [
      "402it [08:49, 28.83s/it]"
     ]
    },
    {
     "name": "stdout",
     "output_type": "stream",
     "text": [
      "Downloaded pic4.jpg\n",
      "Downloading 4 images\n",
      "Downloaded pic1.jpg\n",
      "Downloaded pic2.png\n"
     ]
    },
    {
     "name": "stderr",
     "output_type": "stream",
     "text": [
      "403it [08:51, 20.56s/it]"
     ]
    },
    {
     "name": "stdout",
     "output_type": "stream",
     "text": [
      "Downloaded pic3.jpg\n",
      "Downloaded pic4.jpg\n",
      "Downloading 4 images\n"
     ]
    },
    {
     "name": "stderr",
     "output_type": "stream",
     "text": [
      "404it [08:51, 14.49s/it]"
     ]
    },
    {
     "name": "stdout",
     "output_type": "stream",
     "text": [
      "Downloading 4 images\n",
      "Downloaded pic1.jpg\n",
      "Downloaded pic2.png\n"
     ]
    },
    {
     "name": "stderr",
     "output_type": "stream",
     "text": [
      "405it [08:58, 12.14s/it]"
     ]
    },
    {
     "name": "stdout",
     "output_type": "stream",
     "text": [
      "Downloaded pic4.jpg\n",
      "Downloading 4 images\n",
      "Downloaded pic1.jpg\n",
      "Downloaded pic2.jpg\n",
      "Downloaded pic3.jpg\n"
     ]
    },
    {
     "name": "stderr",
     "output_type": "stream",
     "text": [
      "406it [08:59,  9.02s/it]"
     ]
    },
    {
     "name": "stdout",
     "output_type": "stream",
     "text": [
      "Downloaded pic4.jpg\n",
      "Downloading 4 images\n",
      "Downloaded pic1.jpg\n",
      "Downloaded pic2.jpg\n",
      "Downloaded pic3.jpg\n"
     ]
    },
    {
     "name": "stderr",
     "output_type": "stream",
     "text": [
      "407it [09:02,  7.02s/it]"
     ]
    },
    {
     "name": "stdout",
     "output_type": "stream",
     "text": [
      "Downloaded pic4.jpg\n",
      "Downloading 4 images\n",
      "Downloaded pic1.jpg\n",
      "Downloaded pic2.gif\n",
      "Downloaded pic3.jpg\n"
     ]
    },
    {
     "name": "stderr",
     "output_type": "stream",
     "text": [
      "408it [09:03,  5.34s/it]"
     ]
    },
    {
     "name": "stdout",
     "output_type": "stream",
     "text": [
      "Downloaded pic4.jpg\n",
      "Downloading 4 images\n",
      "Downloaded pic1.jpg\n",
      "Downloaded pic2.jpg\n",
      "Downloaded pic3.jpg\n"
     ]
    },
    {
     "name": "stderr",
     "output_type": "stream",
     "text": [
      "409it [09:05,  4.21s/it]"
     ]
    },
    {
     "name": "stdout",
     "output_type": "stream",
     "text": [
      "Downloaded pic4.jpg\n",
      "Downloading 4 images\n",
      "Downloaded pic1.png\n",
      "Downloaded pic2.jpg\n"
     ]
    },
    {
     "name": "stderr",
     "output_type": "stream",
     "text": [
      "410it [09:06,  3.22s/it]"
     ]
    },
    {
     "name": "stdout",
     "output_type": "stream",
     "text": [
      "Downloaded pic3.jpg\n",
      "Downloaded pic4.jpg\n",
      "Downloading 4 images\n",
      "Downloaded pic2.html\n",
      "Downloaded pic3.html\n"
     ]
    },
    {
     "name": "stderr",
     "output_type": "stream",
     "text": [
      "411it [09:06,  2.31s/it]"
     ]
    },
    {
     "name": "stdout",
     "output_type": "stream",
     "text": [
      "Downloaded pic4.html\n",
      "Downloading 4 images\n",
      "Downloaded pic1.html\n",
      "Downloaded pic2.jpg\n"
     ]
    },
    {
     "name": "stderr",
     "output_type": "stream",
     "text": [
      "412it [09:07,  1.91s/it]"
     ]
    },
    {
     "name": "stdout",
     "output_type": "stream",
     "text": [
      "Downloaded pic4.jpg\n",
      "Downloading 4 images\n",
      "Error downloading image 0: HTTPSConnectionPool(host='mms.businesswire.com', port=443): Read timed out. (read timeout=30)\n",
      "Downloaded pic2.jpg\n"
     ]
    },
    {
     "name": "stderr",
     "output_type": "stream",
     "text": [
      "413it [09:37, 10.56s/it]"
     ]
    },
    {
     "name": "stdout",
     "output_type": "stream",
     "text": [
      "Downloaded pic4.jpg\n",
      "Downloading 4 images\n",
      "Error downloading image 0: ('Connection aborted.', RemoteDisconnected('Remote end closed connection without response'))\n",
      "Downloaded pic2.jpg\n"
     ]
    },
    {
     "name": "stderr",
     "output_type": "stream",
     "text": [
      "414it [10:08, 16.54s/it]"
     ]
    },
    {
     "name": "stdout",
     "output_type": "stream",
     "text": [
      "Error downloading image 2: HTTPSConnectionPool(host='mms.businesswire.com', port=443): Read timed out. (read timeout=30)\n",
      "Downloading 4 images\n",
      "Downloaded pic1.jpg\n",
      "Downloaded pic2.jpg\n",
      "Downloaded pic3.jpg\n"
     ]
    },
    {
     "name": "stderr",
     "output_type": "stream",
     "text": [
      "415it [10:09, 11.96s/it]"
     ]
    },
    {
     "name": "stdout",
     "output_type": "stream",
     "text": [
      "Downloaded pic4.gif\n",
      "Downloading 4 images\n",
      "Downloaded pic1.png\n"
     ]
    },
    {
     "name": "stderr",
     "output_type": "stream",
     "text": [
      "416it [10:10,  8.53s/it]"
     ]
    },
    {
     "name": "stdout",
     "output_type": "stream",
     "text": [
      "Downloaded pic3.jpg\n",
      "Downloading 4 images\n",
      "Error downloading image 0: HTTPSConnectionPool(host='mms.businesswire.com', port=443): Read timed out. (read timeout=30)\n",
      "Downloaded pic2.jpg\n"
     ]
    },
    {
     "name": "stderr",
     "output_type": "stream",
     "text": [
      "417it [10:41, 15.23s/it]"
     ]
    },
    {
     "name": "stdout",
     "output_type": "stream",
     "text": [
      "Downloaded pic4.png\n",
      "Downloading 4 images\n",
      "Error downloading image 0: HTTPSConnectionPool(host='mms.businesswire.com', port=443): Read timed out. (read timeout=30)\n",
      "Downloaded pic2.jpg\n"
     ]
    },
    {
     "name": "stderr",
     "output_type": "stream",
     "text": [
      "418it [11:41, 28.76s/it]"
     ]
    },
    {
     "name": "stdout",
     "output_type": "stream",
     "text": [
      "Error downloading image 2: HTTPSConnectionPool(host='mms.businesswire.com', port=443): Read timed out. (read timeout=30)\n",
      "Downloaded pic4.jpg\n",
      "Downloading 4 images\n",
      "Downloaded pic1.jpg\n",
      "Error downloading image 1: No connection adapters were found for 'x-raw-image:///c9b32fbaa38e257da401f8a773c1f7b9864643ae9a4ffb978ccfd20f6d791b57'\n"
     ]
    },
    {
     "name": "stderr",
     "output_type": "stream",
     "text": [
      "419it [11:41, 20.24s/it]"
     ]
    },
    {
     "name": "stdout",
     "output_type": "stream",
     "text": [
      "Downloaded pic3.jpg\n",
      "Downloading 4 images\n",
      "Downloaded pic1.jpg\n",
      "Downloaded pic2.jpg\n"
     ]
    },
    {
     "name": "stderr",
     "output_type": "stream",
     "text": [
      "420it [11:42, 14.50s/it]"
     ]
    },
    {
     "name": "stdout",
     "output_type": "stream",
     "text": [
      "Downloaded pic3.jpg\n",
      "Downloading 4 images\n",
      "Error downloading image 0: ('Connection aborted.', RemoteDisconnected('Remote end closed connection without response'))\n",
      "Downloaded pic2.jpg\n",
      "Downloaded pic3.jpg\n"
     ]
    },
    {
     "name": "stderr",
     "output_type": "stream",
     "text": [
      "421it [12:01, 15.76s/it]"
     ]
    },
    {
     "name": "stdout",
     "output_type": "stream",
     "text": [
      "Error downloading image 3: HTTPSConnectionPool(host='www.tiburonadvisors.com', port=443): Max retries exceeded with url: /03%20-%20Web%20Site%20Images/CEO%20Summits/Keith_Banks.jpg (Caused by SSLError(SSLCertVerificationError(1, '[SSL: CERTIFICATE_VERIFY_FAILED] certificate verify failed: unable to get local issuer certificate (_ssl.c:1000)')))\n",
      "Downloading 4 images\n",
      "Downloaded pic1.jpg\n",
      "Downloaded pic2.jpg\n",
      "Downloaded pic3.jpg\n"
     ]
    },
    {
     "name": "stderr",
     "output_type": "stream",
     "text": [
      "422it [12:02, 11.42s/it]"
     ]
    },
    {
     "name": "stdout",
     "output_type": "stream",
     "text": [
      "Downloading 4 images\n",
      "Downloaded pic1.jpg\n",
      "Downloaded pic2.jpg\n",
      "Downloaded pic3.jpg\n"
     ]
    },
    {
     "name": "stderr",
     "output_type": "stream",
     "text": [
      "423it [12:03,  8.13s/it]"
     ]
    },
    {
     "name": "stdout",
     "output_type": "stream",
     "text": [
      "Downloaded pic4.jpg\n",
      "Downloading 4 images\n",
      "Downloaded pic1.jpg\n",
      "Downloaded pic2.png\n",
      "Downloaded pic3.jpg\n"
     ]
    },
    {
     "name": "stderr",
     "output_type": "stream",
     "text": [
      "424it [12:04,  5.98s/it]"
     ]
    },
    {
     "name": "stdout",
     "output_type": "stream",
     "text": [
      "Downloaded pic4.jpg\n",
      "Downloading 4 images\n",
      "Downloaded pic1.jpg\n",
      "Downloaded pic2.jpg\n",
      "Downloaded pic3.jpg\n"
     ]
    },
    {
     "name": "stderr",
     "output_type": "stream",
     "text": [
      "425it [12:05,  4.55s/it]"
     ]
    },
    {
     "name": "stdout",
     "output_type": "stream",
     "text": [
      "Downloaded pic4.jpg\n",
      "Downloading 4 images\n",
      "Error downloading image 0: HTTPSConnectionPool(host='mms.businesswire.com', port=443): Read timed out. (read timeout=30)\n",
      "Downloaded pic2.jpg\n"
     ]
    },
    {
     "name": "stderr",
     "output_type": "stream",
     "text": [
      "426it [12:37, 12.83s/it]"
     ]
    },
    {
     "name": "stdout",
     "output_type": "stream",
     "text": [
      "Downloaded pic3.jpg\n",
      "Downloaded pic4.jpg\n",
      "Downloading 4 images\n",
      "Downloaded pic1.jpg\n",
      "Downloaded pic2.jpg\n",
      "Downloaded pic3.jpg\n"
     ]
    },
    {
     "name": "stderr",
     "output_type": "stream",
     "text": [
      "427it [12:43, 10.71s/it]"
     ]
    },
    {
     "name": "stdout",
     "output_type": "stream",
     "text": [
      "Downloaded pic4.jpg\n",
      "Downloading 4 images\n",
      "Downloaded pic1.jpg\n"
     ]
    },
    {
     "name": "stderr",
     "output_type": "stream",
     "text": [
      "428it [12:45,  8.03s/it]"
     ]
    },
    {
     "name": "stdout",
     "output_type": "stream",
     "text": [
      "Downloaded pic3.jpg\n",
      "Downloading 4 images\n",
      "Downloaded pic1.jpg\n"
     ]
    },
    {
     "name": "stderr",
     "output_type": "stream",
     "text": [
      "429it [12:46,  5.99s/it]"
     ]
    },
    {
     "name": "stdout",
     "output_type": "stream",
     "text": [
      "Downloaded pic2.jpg\n",
      "Downloaded pic3.jpg\n",
      "Downloading 4 images\n",
      "Downloaded pic1.jpg\n",
      "Downloaded pic2.jpg\n"
     ]
    },
    {
     "name": "stderr",
     "output_type": "stream",
     "text": [
      "430it [12:47,  4.41s/it]"
     ]
    },
    {
     "name": "stdout",
     "output_type": "stream",
     "text": [
      "Downloaded pic3.jpg\n",
      "Downloaded pic4.jpg\n",
      "Downloading 4 images\n",
      "Downloaded pic1.jpg\n",
      "Downloaded pic2.jpg\n"
     ]
    },
    {
     "name": "stderr",
     "output_type": "stream",
     "text": [
      "431it [12:48,  3.61s/it]"
     ]
    },
    {
     "name": "stdout",
     "output_type": "stream",
     "text": [
      "Downloaded pic3.jpg\n",
      "Downloading 4 images\n",
      "Downloaded pic1.jpg\n",
      "Downloaded pic2.jpg\n",
      "Downloaded pic3.svg\n"
     ]
    },
    {
     "name": "stderr",
     "output_type": "stream",
     "text": [
      "432it [12:49,  2.85s/it]"
     ]
    },
    {
     "name": "stdout",
     "output_type": "stream",
     "text": [
      "Downloaded pic4.jpg\n",
      "Downloading 4 images\n",
      "Downloaded pic1.jpg\n",
      "Downloaded pic2.jpg\n",
      "Error downloading image 2: HTTPSConnectionPool(host='mms.businesswire.com', port=443): Read timed out. (read timeout=30)\n"
     ]
    },
    {
     "name": "stderr",
     "output_type": "stream",
     "text": [
      "433it [13:20, 11.20s/it]"
     ]
    },
    {
     "name": "stdout",
     "output_type": "stream",
     "text": [
      "Downloaded pic4.jpg\n",
      "Downloading 4 images\n",
      "Downloaded pic1.jpg\n",
      "Downloaded pic2.jpg\n",
      "Error downloading image 2: HTTPSConnectionPool(host='www.embedded.com', port=443): Read timed out. (read timeout=30)\n"
     ]
    },
    {
     "name": "stderr",
     "output_type": "stream",
     "text": [
      "434it [13:51, 17.15s/it]"
     ]
    },
    {
     "name": "stdout",
     "output_type": "stream",
     "text": [
      "Downloaded pic4.jpg\n",
      "Downloading 4 images\n",
      "Downloaded pic1.jpg\n",
      "Error downloading image 1: No connection adapters were found for 'x-raw-image:///032949e6f696a10f1ce4c6508c5cd5ae735fb45cfe321a681fc5db4b09d3a36c'\n"
     ]
    },
    {
     "name": "stderr",
     "output_type": "stream",
     "text": [
      "435it [13:52, 12.21s/it]"
     ]
    },
    {
     "name": "stdout",
     "output_type": "stream",
     "text": [
      "Downloaded pic3.jpg\n",
      "Downloading 4 images\n",
      "Downloaded pic1.jpg\n",
      "Downloaded pic2.jpg\n",
      "Downloaded pic3.jpg\n"
     ]
    },
    {
     "name": "stderr",
     "output_type": "stream",
     "text": [
      "436it [13:53,  8.76s/it]"
     ]
    },
    {
     "name": "stdout",
     "output_type": "stream",
     "text": [
      "Downloaded pic4.jpg\n",
      "Downloading 4 images\n",
      "Downloaded pic1.jpg\n",
      "Downloaded pic2.jpg\n",
      "Downloaded pic3.jpg\n"
     ]
    },
    {
     "name": "stderr",
     "output_type": "stream",
     "text": [
      "437it [13:54,  6.58s/it]"
     ]
    },
    {
     "name": "stdout",
     "output_type": "stream",
     "text": [
      "Downloaded pic4.jpg\n",
      "Downloading 4 images\n",
      "Downloaded pic1.jpg\n",
      "Downloaded pic2.jpg\n",
      "Downloaded pic3.jpg\n"
     ]
    },
    {
     "name": "stderr",
     "output_type": "stream",
     "text": [
      "438it [13:56,  5.04s/it]"
     ]
    },
    {
     "name": "stdout",
     "output_type": "stream",
     "text": [
      "Downloaded pic4.png\n",
      "Downloading 4 images\n",
      "Downloaded pic1.jpg\n",
      "Downloaded pic2.jpg\n"
     ]
    },
    {
     "name": "stderr",
     "output_type": "stream",
     "text": [
      "439it [13:57,  3.82s/it]"
     ]
    },
    {
     "name": "stdout",
     "output_type": "stream",
     "text": [
      "Downloaded pic3.jpg\n",
      "Downloaded pic4.jpg\n",
      "Downloading 4 images\n",
      "Error downloading image 0: HTTPSConnectionPool(host='www.edn.com', port=443): Read timed out. (read timeout=30)\n",
      "Downloaded pic2.jpg\n",
      "Error downloading image 2: ('Connection aborted.', RemoteDisconnected('Remote end closed connection without response'))\n"
     ]
    },
    {
     "name": "stderr",
     "output_type": "stream",
     "text": [
      "440it [14:27, 11.94s/it]"
     ]
    },
    {
     "name": "stdout",
     "output_type": "stream",
     "text": [
      "Downloaded pic4.jpg\n",
      "Downloading 4 images\n"
     ]
    },
    {
     "name": "stderr",
     "output_type": "stream",
     "text": [
      "441it [14:28,  8.52s/it]"
     ]
    },
    {
     "name": "stdout",
     "output_type": "stream",
     "text": [
      "Downloading 4 images\n",
      "Error downloading image 0: HTTPSConnectionPool(host='mms.businesswire.com', port=443): Read timed out. (read timeout=30)\n"
     ]
    },
    {
     "name": "stderr",
     "output_type": "stream",
     "text": [
      "442it [14:58, 15.08s/it]"
     ]
    },
    {
     "name": "stdout",
     "output_type": "stream",
     "text": [
      "Downloading 4 images\n",
      "Downloaded pic1.jpg\n"
     ]
    },
    {
     "name": "stderr",
     "output_type": "stream",
     "text": [
      "443it [14:59, 10.71s/it]"
     ]
    },
    {
     "name": "stdout",
     "output_type": "stream",
     "text": [
      "Downloaded pic2.jpg\n",
      "Downloading 4 images\n"
     ]
    },
    {
     "name": "stderr",
     "output_type": "stream",
     "text": [
      "444it [14:59,  7.61s/it]"
     ]
    },
    {
     "name": "stdout",
     "output_type": "stream",
     "text": [
      "Downloading 4 images\n"
     ]
    },
    {
     "name": "stderr",
     "output_type": "stream",
     "text": [
      "445it [15:29, 14.39s/it]"
     ]
    },
    {
     "name": "stdout",
     "output_type": "stream",
     "text": [
      "Error downloading image 0: HTTPSConnectionPool(host='mms.businesswire.com', port=443): Read timed out. (read timeout=30)\n",
      "Error downloading image 1: No connection adapters were found for 'x-raw-image:///00af8c66aa14a2b615f2d568767b9582f8b91e3eb2500c02d5b5076cf8c9631d'\n",
      "Downloaded pic3.jpg\n",
      "Error downloading image 3: No connection adapters were found for 'x-raw-image:///60ac3cfd55bd99255d58f79b83ae4e7d7c361101adc777b5996dc2ec91c6e0ac'\n",
      "Downloading 4 images\n",
      "Downloaded pic1.jpg\n",
      "Downloaded pic2.jpg\n",
      "Downloaded pic3.jpg\n"
     ]
    },
    {
     "name": "stderr",
     "output_type": "stream",
     "text": [
      "446it [16:00, 19.19s/it]"
     ]
    },
    {
     "name": "stdout",
     "output_type": "stream",
     "text": [
      "Error downloading image 3: HTTPSConnectionPool(host='mms.businesswire.com', port=443): Read timed out. (read timeout=30)\n",
      "Downloading 4 images\n",
      "Downloaded pic1.jpg\n",
      "Downloaded pic2.jpg\n",
      "Downloaded pic3.jpg\n"
     ]
    },
    {
     "name": "stderr",
     "output_type": "stream",
     "text": [
      "447it [16:00, 13.63s/it]"
     ]
    },
    {
     "name": "stdout",
     "output_type": "stream",
     "text": [
      "Downloaded pic4.jpg\n",
      "Downloading 4 images\n",
      "Error downloading image 0: HTTPSConnectionPool(host='mms.businesswire.com', port=443): Read timed out. (read timeout=30)\n",
      "Downloaded pic2.jpg\n",
      "Downloaded pic3.jpg\n"
     ]
    },
    {
     "name": "stderr",
     "output_type": "stream",
     "text": [
      "448it [16:31, 18.75s/it]"
     ]
    },
    {
     "name": "stdout",
     "output_type": "stream",
     "text": [
      "Downloading 4 images\n",
      "Downloaded pic1.jpg\n",
      "Downloaded pic2.jpg\n",
      "Downloaded pic3.jpg\n"
     ]
    },
    {
     "name": "stderr",
     "output_type": "stream",
     "text": [
      "449it [16:32, 13.45s/it]"
     ]
    },
    {
     "name": "stdout",
     "output_type": "stream",
     "text": [
      "Downloaded pic4.jpg\n",
      "Downloading 4 images\n",
      "Downloaded pic1.bin\n",
      "Error downloading image 1: HTTPSConnectionPool(host='mms.businesswire.com', port=443): Read timed out. (read timeout=30)\n"
     ]
    },
    {
     "name": "stderr",
     "output_type": "stream",
     "text": [
      "450it [17:03, 18.66s/it]"
     ]
    },
    {
     "name": "stdout",
     "output_type": "stream",
     "text": [
      "Downloaded pic4.png\n",
      "Downloading 4 images\n"
     ]
    },
    {
     "name": "stderr",
     "output_type": "stream",
     "text": [
      "451it [17:04, 13.33s/it]"
     ]
    },
    {
     "name": "stdout",
     "output_type": "stream",
     "text": [
      "Downloaded pic4.jpg\n",
      "Downloading 4 images\n"
     ]
    },
    {
     "name": "stderr",
     "output_type": "stream",
     "text": [
      "452it [17:04,  9.42s/it]"
     ]
    },
    {
     "name": "stdout",
     "output_type": "stream",
     "text": [
      "Downloading 4 images\n",
      "Downloaded pic1.png\n",
      "Downloaded pic2.jpg\n"
     ]
    },
    {
     "name": "stderr",
     "output_type": "stream",
     "text": [
      "454it [17:06,  5.02s/it]"
     ]
    },
    {
     "name": "stdout",
     "output_type": "stream",
     "text": [
      "Downloaded pic4.gif\n",
      "Downloading 4 images\n",
      "Error downloading image 0: No connection adapters were found for 'x-raw-image:///1c6d415114e4be46983088a7621d6e38010360cdaaa1a77b1b53872c2bc2d44c'\n",
      "Error downloading image 2: No connection adapters were found for 'x-raw-image:///afc66fca0ecd1064f658dd9e9f544f8213d80af31783447f2d01987d4ca89568'\n",
      "Error downloading image 3: No connection adapters were found for 'x-raw-image:///a538322624459f053ac7fbe4ed40d1b6759b554960fb76c9966c1e15ec2838f6'\n",
      "Downloading 4 images\n"
     ]
    },
    {
     "name": "stderr",
     "output_type": "stream",
     "text": [
      "456it [17:07,  2.68s/it]"
     ]
    },
    {
     "name": "stdout",
     "output_type": "stream",
     "text": [
      "Downloaded pic1.jpg\n",
      "Error downloading image 1: No connection adapters were found for 'x-raw-image:///b369f48055aa17e49bbc65518a7442a5e26635881ef16e8d712db1d8e4eb1ef2'\n",
      "Error downloading image 2: No connection adapters were found for 'x-raw-image:///a8f62130dd214d7d10b85f0180de767dad76753b1ee42bd6c118d4d7a5635268'\n",
      "Error downloading image 3: No connection adapters were found for 'x-raw-image:///032d9cc583c83a1756dd08bc9d02639c2d71b36f60c13948d3b3d10089c1d308'\n",
      "Downloading 4 images\n",
      "Error downloading image 0: No connection adapters were found for 'x-raw-image:///9ea13eb9ddf5de0149fb0f0d544c30c8e94ea9b77c3fb57e840bbcbd12d7a8e7'\n",
      "Error downloading image 1: No connection adapters were found for 'x-raw-image:///f3e71cceba1225c1f94e8246e5151f05b51cdc0b3f39bfa15836403fbe95077e'\n",
      "Error downloading image 2: No connection adapters were found for 'x-raw-image:///0c69d20651316d06d8721a77feef86b54eb3dc07c43af1f4389ee9b444197c8a'\n",
      "Downloaded pic4.jpg\n",
      "Downloading 4 images\n",
      "Downloaded pic1.png\n"
     ]
    },
    {
     "name": "stderr",
     "output_type": "stream",
     "text": [
      "457it [17:09,  2.45s/it]"
     ]
    },
    {
     "name": "stdout",
     "output_type": "stream",
     "text": [
      "Downloaded pic2.png\n",
      "Error downloading image 3: No connection adapters were found for 'x-raw-image:///f18a5332b92000522bcb2d4ca1020d0e2d9733de79b2d9ca8021a6d094df00ee'\n",
      "Downloading 4 images\n",
      "Downloaded pic1.png\n",
      "Downloaded pic2.jpg\n",
      "Downloaded pic3.png\n"
     ]
    },
    {
     "name": "stderr",
     "output_type": "stream",
     "text": [
      "458it [17:12,  2.55s/it]"
     ]
    },
    {
     "name": "stdout",
     "output_type": "stream",
     "text": [
      "Downloaded pic4.jpg\n",
      "Downloading 4 images\n",
      "Downloaded pic1.png\n",
      "Downloaded pic2.png\n",
      "Downloaded pic3.png\n"
     ]
    },
    {
     "name": "stderr",
     "output_type": "stream",
     "text": [
      "459it [17:14,  2.50s/it]"
     ]
    },
    {
     "name": "stdout",
     "output_type": "stream",
     "text": [
      "Downloaded pic4.png\n",
      "Downloading 4 images\n",
      "Downloaded pic1.jpg\n",
      "Downloaded pic2.png\n"
     ]
    },
    {
     "name": "stderr",
     "output_type": "stream",
     "text": [
      "460it [17:16,  2.24s/it]"
     ]
    },
    {
     "name": "stdout",
     "output_type": "stream",
     "text": [
      "Downloaded pic3.jpg\n",
      "Downloaded pic4.bin\n",
      "Downloading 4 images\n",
      "Downloaded pic1.jpg\n",
      "Downloaded pic2.jpg\n",
      "Downloaded pic3.jpg\n"
     ]
    },
    {
     "name": "stderr",
     "output_type": "stream",
     "text": [
      "461it [17:17,  1.96s/it]"
     ]
    },
    {
     "name": "stdout",
     "output_type": "stream",
     "text": [
      "Downloaded pic4.jpg\n",
      "Downloading 4 images\n"
     ]
    },
    {
     "name": "stderr",
     "output_type": "stream",
     "text": [
      "462it [17:18,  1.49s/it]"
     ]
    },
    {
     "name": "stdout",
     "output_type": "stream",
     "text": [
      "Downloading 4 images\n",
      "Downloaded pic1.jpg\n"
     ]
    },
    {
     "name": "stderr",
     "output_type": "stream",
     "text": [
      "463it [17:19,  1.35s/it]"
     ]
    },
    {
     "name": "stdout",
     "output_type": "stream",
     "text": [
      "Downloaded pic3.jpg\n",
      "Downloading 4 images\n",
      "Error downloading image 0: No connection adapters were found for 'x-raw-image:///f5922c90df2106499043d89566fe1471a0326990445889f14e74dcb4b6d877d5'\n",
      "Error downloading image 1: HTTPSConnectionPool(host='mms.businesswire.com', port=443): Read timed out. (read timeout=30)\n",
      "Error downloading image 2: HTTPSConnectionPool(host='mms.businesswire.com', port=443): Read timed out. (read timeout=30)\n"
     ]
    },
    {
     "name": "stderr",
     "output_type": "stream",
     "text": [
      "464it [18:37, 24.48s/it]"
     ]
    },
    {
     "name": "stdout",
     "output_type": "stream",
     "text": [
      "Error downloading image 3: ('Connection aborted.', RemoteDisconnected('Remote end closed connection without response'))\n",
      "Downloading 4 images\n",
      "Error downloading image 0: HTTPSConnectionPool(host='mms.businesswire.com', port=443): Read timed out. (read timeout=30)\n",
      "Downloaded pic2.jpg\n",
      "Downloaded pic3.jpg\n"
     ]
    },
    {
     "name": "stderr",
     "output_type": "stream",
     "text": [
      "465it [19:09, 26.78s/it]"
     ]
    },
    {
     "name": "stdout",
     "output_type": "stream",
     "text": [
      "Downloaded pic4.jpg\n",
      "Downloading 4 images\n"
     ]
    },
    {
     "name": "stderr",
     "output_type": "stream",
     "text": [
      "466it [19:10, 19.15s/it]"
     ]
    },
    {
     "name": "stdout",
     "output_type": "stream",
     "text": [
      "Downloading 4 images\n"
     ]
    },
    {
     "name": "stderr",
     "output_type": "stream",
     "text": [
      "467it [19:11, 13.54s/it]"
     ]
    },
    {
     "name": "stdout",
     "output_type": "stream",
     "text": [
      "Downloaded pic3.jpg\n",
      "Downloading 4 images\n",
      "Downloaded pic1.jpg\n",
      "Downloaded pic2.jpg\n",
      "Downloaded pic3.jpg\n"
     ]
    },
    {
     "name": "stderr",
     "output_type": "stream",
     "text": [
      "468it [19:12,  9.71s/it]"
     ]
    },
    {
     "name": "stdout",
     "output_type": "stream",
     "text": [
      "Downloading 4 images\n",
      "Downloaded pic1.bin\n",
      "Downloaded pic2.jpg\n",
      "Downloaded pic3.bin\n"
     ]
    },
    {
     "name": "stderr",
     "output_type": "stream",
     "text": [
      "469it [19:14,  7.57s/it]"
     ]
    },
    {
     "name": "stdout",
     "output_type": "stream",
     "text": [
      "Downloaded pic4.jpg\n",
      "Downloading 4 images\n",
      "Error downloading image 0: ('Connection aborted.', RemoteDisconnected('Remote end closed connection without response'))\n",
      "Downloaded pic2.jpg\n",
      "Downloaded pic3.jpg\n"
     ]
    },
    {
     "name": "stderr",
     "output_type": "stream",
     "text": [
      "470it [19:15,  5.66s/it]"
     ]
    },
    {
     "name": "stdout",
     "output_type": "stream",
     "text": [
      "Downloaded pic4.bin\n",
      "Downloading 4 images\n",
      "Downloaded pic1.jpg\n",
      "Downloaded pic2.jpg\n",
      "Downloaded pic3.jpg\n"
     ]
    },
    {
     "name": "stderr",
     "output_type": "stream",
     "text": [
      "471it [19:16,  4.16s/it]"
     ]
    },
    {
     "name": "stdout",
     "output_type": "stream",
     "text": [
      "Downloaded pic4.jpg\n",
      "Downloading 4 images\n",
      "Downloaded pic1.jpg\n",
      "Downloaded pic2.png\n",
      "Downloaded pic3.jpg\n"
     ]
    },
    {
     "name": "stderr",
     "output_type": "stream",
     "text": [
      "472it [19:18,  3.55s/it]"
     ]
    },
    {
     "name": "stdout",
     "output_type": "stream",
     "text": [
      "Downloaded pic4.jpg\n",
      "Downloading 4 images\n",
      "Downloaded pic1.jpg\n",
      "Downloaded pic2.jpg\n"
     ]
    },
    {
     "name": "stderr",
     "output_type": "stream",
     "text": [
      "473it [19:19,  2.81s/it]"
     ]
    },
    {
     "name": "stdout",
     "output_type": "stream",
     "text": [
      "Downloaded pic3.jpg\n",
      "Downloaded pic4.jpg\n",
      "Downloading 4 images\n",
      "Downloaded pic1.jpg\n",
      "Downloaded pic2.jpg\n",
      "Downloaded pic3.png\n"
     ]
    },
    {
     "name": "stderr",
     "output_type": "stream",
     "text": [
      "474it [19:22,  2.73s/it]"
     ]
    },
    {
     "name": "stdout",
     "output_type": "stream",
     "text": [
      "Downloaded pic4.jpg\n",
      "Downloading 4 images\n",
      "Downloaded pic1.jpg\n",
      "Downloaded pic2.jpg\n"
     ]
    },
    {
     "name": "stderr",
     "output_type": "stream",
     "text": [
      "475it [19:23,  2.36s/it]"
     ]
    },
    {
     "name": "stdout",
     "output_type": "stream",
     "text": [
      "Downloaded pic4.png\n",
      "Downloading 4 images\n",
      "Downloaded pic1.jpg\n",
      "Downloaded pic2.jpg\n",
      "Downloaded pic3.jpg\n"
     ]
    },
    {
     "name": "stderr",
     "output_type": "stream",
     "text": [
      "476it [19:24,  1.94s/it]"
     ]
    },
    {
     "name": "stdout",
     "output_type": "stream",
     "text": [
      "Downloaded pic4.png\n",
      "Downloading 4 images\n",
      "Downloaded pic1.jpg\n",
      "Downloaded pic2.jpg\n",
      "Downloaded pic3.jpg\n"
     ]
    },
    {
     "name": "stderr",
     "output_type": "stream",
     "text": [
      "477it [19:25,  1.55s/it]"
     ]
    },
    {
     "name": "stdout",
     "output_type": "stream",
     "text": [
      "Downloaded pic4.jpg\n",
      "Downloading 4 images\n",
      "Downloaded pic1.jpg\n",
      "Downloaded pic2.jpg\n",
      "Downloaded pic3.jpg\n"
     ]
    },
    {
     "name": "stderr",
     "output_type": "stream",
     "text": [
      "478it [19:45,  7.13s/it]"
     ]
    },
    {
     "name": "stdout",
     "output_type": "stream",
     "text": [
      "Error downloading image 3: ('Connection aborted.', RemoteDisconnected('Remote end closed connection without response'))\n",
      "Downloading 4 images\n",
      "Error downloading image 0: ('Connection aborted.', RemoteDisconnected('Remote end closed connection without response'))\n",
      "Downloaded pic2.jpg\n",
      "Downloaded pic3.jpg\n"
     ]
    },
    {
     "name": "stderr",
     "output_type": "stream",
     "text": [
      "479it [20:04, 10.68s/it]"
     ]
    },
    {
     "name": "stdout",
     "output_type": "stream",
     "text": [
      "Downloaded pic4.bin\n",
      "Downloading 4 images\n",
      "Downloaded pic1.png\n",
      "Downloaded pic2.jpg\n",
      "Downloaded pic3.png\n"
     ]
    },
    {
     "name": "stderr",
     "output_type": "stream",
     "text": [
      "480it [20:06,  8.09s/it]"
     ]
    },
    {
     "name": "stdout",
     "output_type": "stream",
     "text": [
      "Downloaded pic4.jpg\n",
      "Downloading 4 images\n",
      "Downloaded pic3.jpg\n"
     ]
    },
    {
     "name": "stderr",
     "output_type": "stream",
     "text": [
      "481it [20:07,  6.00s/it]"
     ]
    },
    {
     "name": "stdout",
     "output_type": "stream",
     "text": [
      "Downloaded pic4.jpg\n",
      "Downloading 4 images\n",
      "Downloaded pic1.jpg\n",
      "Downloaded pic2.jpg\n",
      "Downloaded pic3.jpg\n"
     ]
    },
    {
     "name": "stderr",
     "output_type": "stream",
     "text": [
      "482it [20:09,  4.84s/it]"
     ]
    },
    {
     "name": "stdout",
     "output_type": "stream",
     "text": [
      "Downloaded pic4.jpg\n",
      "Downloading 4 images\n",
      "Downloaded pic1.jpg\n",
      "Downloaded pic2.jpg\n",
      "Downloaded pic3.jpg\n"
     ]
    },
    {
     "name": "stderr",
     "output_type": "stream",
     "text": [
      "484it [20:12,  2.86s/it]"
     ]
    },
    {
     "name": "stdout",
     "output_type": "stream",
     "text": [
      "Downloaded pic4.jpg\n",
      "Downloading 4 images\n",
      "Error downloading image 0: No connection adapters were found for 'x-raw-image:///9f912297b58ba170c18ef2c059d5d1e0b19fd446e2301969b6892dc890af1cab'\n",
      "Downloaded pic2.jpg\n",
      "Error downloading image 2: No connection adapters were found for 'x-raw-image:///5ba43ba214b548b57eafc9b82e4f9b9cf927a2a0af848ecee816910caf0b1f89'\n",
      "Error downloading image 3: No connection adapters were found for 'x-raw-image:///beb47aece777e29694873ee2b9a363abac82aaabfab2e0dd8fb7caa4c23de56d'\n",
      "Downloading 4 images\n",
      "Downloaded pic1.jpg\n",
      "Downloaded pic2.jpg\n",
      "Downloaded pic3.jpg\n"
     ]
    },
    {
     "name": "stderr",
     "output_type": "stream",
     "text": [
      "485it [20:13,  2.48s/it]"
     ]
    },
    {
     "name": "stdout",
     "output_type": "stream",
     "text": [
      "Downloaded pic4.jpg\n",
      "Downloading 4 images\n",
      "Downloaded pic1.jpg\n"
     ]
    },
    {
     "name": "stderr",
     "output_type": "stream",
     "text": [
      "486it [20:14,  2.06s/it]"
     ]
    },
    {
     "name": "stdout",
     "output_type": "stream",
     "text": [
      "Downloaded pic3.png\n",
      "Downloaded pic4.png\n",
      "Downloading 4 images\n",
      "Downloaded pic1.jpg\n",
      "Downloaded pic2.png\n",
      "Downloaded pic3.gif\n"
     ]
    },
    {
     "name": "stderr",
     "output_type": "stream",
     "text": [
      "487it [20:17,  2.38s/it]"
     ]
    },
    {
     "name": "stdout",
     "output_type": "stream",
     "text": [
      "Downloaded pic4.png\n",
      "Downloading 4 images\n",
      "Downloaded pic1.gif\n",
      "Downloaded pic2.jpg\n",
      "Downloaded pic3.jpg\n"
     ]
    },
    {
     "name": "stderr",
     "output_type": "stream",
     "text": [
      "488it [20:19,  2.13s/it]"
     ]
    },
    {
     "name": "stdout",
     "output_type": "stream",
     "text": [
      "Downloaded pic4.jpg\n",
      "Downloading 4 images\n",
      "Downloaded pic1.jpg\n"
     ]
    },
    {
     "name": "stderr",
     "output_type": "stream",
     "text": [
      "489it [20:20,  1.65s/it]"
     ]
    },
    {
     "name": "stdout",
     "output_type": "stream",
     "text": [
      "Downloaded pic2.jpg\n",
      "Downloaded pic3.png\n",
      "Downloaded pic4.jpg\n",
      "Downloading 4 images\n",
      "Downloaded pic1.jpg\n",
      "Downloaded pic2.jpg\n",
      "Downloaded pic3.jpg\n"
     ]
    },
    {
     "name": "stderr",
     "output_type": "stream",
     "text": [
      "490it [20:21,  1.74s/it]"
     ]
    },
    {
     "name": "stdout",
     "output_type": "stream",
     "text": [
      "Downloaded pic4.jpg\n",
      "Downloading 4 images\n"
     ]
    },
    {
     "name": "stderr",
     "output_type": "stream",
     "text": [
      "491it [20:22,  1.32s/it]"
     ]
    },
    {
     "name": "stdout",
     "output_type": "stream",
     "text": [
      "Downloading 4 images\n",
      "Downloaded pic1.jpg\n"
     ]
    },
    {
     "name": "stderr",
     "output_type": "stream",
     "text": [
      "492it [20:22,  1.04s/it]"
     ]
    },
    {
     "name": "stdout",
     "output_type": "stream",
     "text": [
      "Downloading 4 images\n",
      "Downloaded pic1.jpg\n"
     ]
    },
    {
     "name": "stderr",
     "output_type": "stream",
     "text": [
      "493it [20:23,  1.15it/s]"
     ]
    },
    {
     "name": "stdout",
     "output_type": "stream",
     "text": [
      "Downloaded pic3.jpg\n",
      "Downloading 4 images\n"
     ]
    },
    {
     "name": "stderr",
     "output_type": "stream",
     "text": [
      "494it [20:23,  1.26it/s]"
     ]
    },
    {
     "name": "stdout",
     "output_type": "stream",
     "text": [
      "Downloaded pic4.jpg\n",
      "Downloading 2 images\n",
      "Downloaded pic1.jpg\n"
     ]
    },
    {
     "name": "stderr",
     "output_type": "stream",
     "text": [
      "495it [20:27,  1.58s/it]"
     ]
    },
    {
     "name": "stdout",
     "output_type": "stream",
     "text": [
      "Downloaded pic2.jpg\n",
      "Downloading 4 images\n",
      "Downloaded pic1.jpg\n",
      "Downloaded pic2.jpg\n"
     ]
    },
    {
     "name": "stderr",
     "output_type": "stream",
     "text": [
      "496it [20:29,  1.83s/it]"
     ]
    },
    {
     "name": "stdout",
     "output_type": "stream",
     "text": [
      "Downloaded pic3.jpg\n",
      "Error downloading image 3: No connection adapters were found for 'x-raw-image:///7e4169924477dfb9dcf08078e23317630a2810d1c198f2732b494f1a339da0c1'\n",
      "Downloading 4 images\n",
      "Downloaded pic1.jpg\n",
      "Downloaded pic2.jpg\n"
     ]
    },
    {
     "name": "stderr",
     "output_type": "stream",
     "text": [
      "497it [20:30,  1.69s/it]"
     ]
    },
    {
     "name": "stdout",
     "output_type": "stream",
     "text": [
      "Downloaded pic3.jpg\n",
      "Downloading 4 images\n",
      "Downloaded pic1.jpg\n"
     ]
    },
    {
     "name": "stderr",
     "output_type": "stream",
     "text": [
      "498it [20:31,  1.33s/it]"
     ]
    },
    {
     "name": "stdout",
     "output_type": "stream",
     "text": [
      "Downloaded pic3.jpg\n",
      "Downloaded pic4.jpg\n",
      "Downloading 4 images\n",
      "Downloaded pic1.jpg\n",
      "Downloaded pic3.jpg\n"
     ]
    },
    {
     "name": "stderr",
     "output_type": "stream",
     "text": [
      "499it [20:33,  1.45s/it]"
     ]
    },
    {
     "name": "stdout",
     "output_type": "stream",
     "text": [
      "Downloaded pic4.jpg\n",
      "Downloading 4 images\n",
      "Downloaded pic1.png\n"
     ]
    },
    {
     "name": "stderr",
     "output_type": "stream",
     "text": [
      "500it [20:34,  1.41s/it]"
     ]
    },
    {
     "name": "stdout",
     "output_type": "stream",
     "text": [
      "Downloaded pic4.jpg\n",
      "Downloading 4 images\n",
      "Downloaded pic1.png\n",
      "Downloaded pic2.jpg\n",
      "Downloaded pic3.jpg\n"
     ]
    },
    {
     "name": "stderr",
     "output_type": "stream",
     "text": [
      "501it [20:39,  2.55s/it]"
     ]
    },
    {
     "name": "stdout",
     "output_type": "stream",
     "text": [
      "Downloaded pic4.jpg\n",
      "Downloading 4 images\n",
      "Downloaded pic1.jpg\n",
      "Downloaded pic2.jpg\n"
     ]
    },
    {
     "name": "stderr",
     "output_type": "stream",
     "text": [
      "502it [20:41,  2.30s/it]"
     ]
    },
    {
     "name": "stdout",
     "output_type": "stream",
     "text": [
      "Downloaded pic3.jpg\n",
      "Downloading 4 images\n",
      "Downloaded pic3.jpg\n"
     ]
    },
    {
     "name": "stderr",
     "output_type": "stream",
     "text": [
      "503it [20:42,  1.87s/it]"
     ]
    },
    {
     "name": "stdout",
     "output_type": "stream",
     "text": [
      "Downloaded pic4.jpg\n",
      "Downloading 4 images\n",
      "Downloaded pic1.jpg\n",
      "Error downloading image 1: No connection adapters were found for 'x-raw-image:///e3f62f1630c2400beffa35edee1c3d79cdb8d1e7787eecfa6efc79c81e98781b'\n",
      "Error downloading image 2: No connection adapters were found for 'x-raw-image:///b1407ee89e0321bf9e523b8a5ee2e299391f9353599d57b1a2bce982ec370f9f'\n"
     ]
    },
    {
     "name": "stderr",
     "output_type": "stream",
     "text": [
      "504it [20:42,  1.45s/it]"
     ]
    },
    {
     "name": "stdout",
     "output_type": "stream",
     "text": [
      "Downloaded pic4.jpg\n",
      "Downloading 4 images\n",
      "Downloaded pic1.jpg\n",
      "Downloaded pic2.jpg\n"
     ]
    },
    {
     "name": "stderr",
     "output_type": "stream",
     "text": [
      "505it [20:44,  1.60s/it]"
     ]
    },
    {
     "name": "stdout",
     "output_type": "stream",
     "text": [
      "Downloaded pic3.jpg\n",
      "Downloaded pic4.jpg\n",
      "Downloading 4 images\n",
      "Downloaded pic1.jpg\n",
      "Downloaded pic2.jpg\n"
     ]
    },
    {
     "name": "stderr",
     "output_type": "stream",
     "text": [
      "506it [20:46,  1.51s/it]"
     ]
    },
    {
     "name": "stdout",
     "output_type": "stream",
     "text": [
      "Downloaded pic3.jpg\n",
      "Downloading 4 images\n",
      "Downloaded pic1.jpg\n",
      "Downloaded pic2.jpg\n"
     ]
    },
    {
     "name": "stderr",
     "output_type": "stream",
     "text": [
      "507it [20:47,  1.45s/it]"
     ]
    },
    {
     "name": "stdout",
     "output_type": "stream",
     "text": [
      "Downloaded pic4.jpg\n",
      "Downloading 4 images\n",
      "Downloaded pic2.jpg\n"
     ]
    },
    {
     "name": "stderr",
     "output_type": "stream",
     "text": [
      "508it [20:48,  1.29s/it]"
     ]
    },
    {
     "name": "stdout",
     "output_type": "stream",
     "text": [
      "Downloaded pic3.jpg\n",
      "Downloaded pic4.jpg\n",
      "Downloading 4 images\n",
      "Downloaded pic1.jpg\n"
     ]
    },
    {
     "name": "stderr",
     "output_type": "stream",
     "text": [
      "509it [20:48,  1.12s/it]"
     ]
    },
    {
     "name": "stdout",
     "output_type": "stream",
     "text": [
      "Downloaded pic3.jpg\n",
      "Downloaded pic4.jpg\n",
      "Downloading 4 images\n",
      "Downloaded pic1.jpg\n",
      "Downloaded pic3.jpg\n"
     ]
    },
    {
     "name": "stderr",
     "output_type": "stream",
     "text": [
      "510it [20:52,  1.77s/it]"
     ]
    },
    {
     "name": "stdout",
     "output_type": "stream",
     "text": [
      "Downloaded pic4.jpg\n",
      "Downloading 4 images\n",
      "Downloaded pic1.jpg\n",
      "Downloaded pic2.gif\n"
     ]
    },
    {
     "name": "stderr",
     "output_type": "stream",
     "text": [
      "511it [20:53,  1.68s/it]"
     ]
    },
    {
     "name": "stdout",
     "output_type": "stream",
     "text": [
      "Downloaded pic3.jpg\n",
      "Downloaded pic4.jpg\n",
      "Downloading 4 images\n",
      "Downloaded pic1.jpg\n"
     ]
    },
    {
     "name": "stderr",
     "output_type": "stream",
     "text": [
      "512it [20:54,  1.31s/it]"
     ]
    },
    {
     "name": "stdout",
     "output_type": "stream",
     "text": [
      "Downloaded pic4.jpg\n",
      "Downloading 4 images\n",
      "Downloaded pic1.jpg\n",
      "Downloaded pic2.jpg\n",
      "Downloaded pic3.jpg\n"
     ]
    },
    {
     "name": "stderr",
     "output_type": "stream",
     "text": [
      "513it [20:56,  1.69s/it]"
     ]
    },
    {
     "name": "stdout",
     "output_type": "stream",
     "text": [
      "Downloaded pic4.jpg\n",
      "Downloading 4 images\n",
      "Downloaded pic1.jpg\n",
      "Downloaded pic2.jpg\n",
      "Downloaded pic3.jpg\n"
     ]
    },
    {
     "name": "stderr",
     "output_type": "stream",
     "text": [
      "514it [20:57,  1.53s/it]"
     ]
    },
    {
     "name": "stdout",
     "output_type": "stream",
     "text": [
      "Downloaded pic4.jpg\n",
      "Downloading 4 images\n",
      "Downloaded pic1.jpg\n",
      "Downloaded pic2.jpg\n",
      "Downloaded pic3.jpg\n"
     ]
    },
    {
     "name": "stderr",
     "output_type": "stream",
     "text": [
      "515it [20:58,  1.30s/it]"
     ]
    },
    {
     "name": "stdout",
     "output_type": "stream",
     "text": [
      "Downloaded pic4.jpg\n",
      "Downloading 4 images\n",
      "Downloaded pic1.gif\n",
      "Downloaded pic2.jpg\n",
      "Downloaded pic3.jpg\n"
     ]
    },
    {
     "name": "stderr",
     "output_type": "stream",
     "text": [
      "516it [20:59,  1.19s/it]"
     ]
    },
    {
     "name": "stdout",
     "output_type": "stream",
     "text": [
      "Downloaded pic4.jpg\n",
      "Downloading 4 images\n",
      "Downloaded pic1.jpg\n",
      "Downloaded pic2.jpg\n",
      "Downloaded pic3.jpg\n"
     ]
    },
    {
     "name": "stderr",
     "output_type": "stream",
     "text": [
      "517it [21:00,  1.07s/it]"
     ]
    },
    {
     "name": "stdout",
     "output_type": "stream",
     "text": [
      "Downloaded pic4.jpg\n",
      "Downloading 4 images\n",
      "Downloaded pic1.gif\n",
      "Downloaded pic2.jpg\n",
      "Downloaded pic3.jpg\n"
     ]
    },
    {
     "name": "stderr",
     "output_type": "stream",
     "text": [
      "518it [21:02,  1.25s/it]"
     ]
    },
    {
     "name": "stdout",
     "output_type": "stream",
     "text": [
      "Downloaded pic4.jpg\n",
      "Downloading 4 images\n",
      "Downloaded pic1.jpg\n",
      "Downloaded pic2.jpg\n",
      "Downloaded pic3.jpg\n"
     ]
    },
    {
     "name": "stderr",
     "output_type": "stream",
     "text": [
      "519it [21:07,  2.37s/it]"
     ]
    },
    {
     "name": "stdout",
     "output_type": "stream",
     "text": [
      "Downloaded pic4.jpg\n",
      "Downloading 4 images\n",
      "Downloaded pic1.jpg\n",
      "Downloaded pic2.jpg\n",
      "Downloaded pic3.jpg\n"
     ]
    },
    {
     "name": "stderr",
     "output_type": "stream",
     "text": [
      "520it [21:25,  7.18s/it]"
     ]
    },
    {
     "name": "stdout",
     "output_type": "stream",
     "text": [
      "Downloaded pic4.jpg\n",
      "Downloading 4 images\n",
      "Downloaded pic1.jpg\n",
      "Downloaded pic2.gif\n",
      "Downloaded pic3.jpg\n"
     ]
    },
    {
     "name": "stderr",
     "output_type": "stream",
     "text": [
      "521it [21:26,  5.25s/it]"
     ]
    },
    {
     "name": "stdout",
     "output_type": "stream",
     "text": [
      "Downloaded pic4.jpg\n",
      "Downloading 4 images\n",
      "Downloaded pic1.jpg\n",
      "Downloaded pic2.jpg\n",
      "Downloaded pic3.jpg\n"
     ]
    },
    {
     "name": "stderr",
     "output_type": "stream",
     "text": [
      "522it [21:28,  4.25s/it]"
     ]
    },
    {
     "name": "stdout",
     "output_type": "stream",
     "text": [
      "Downloaded pic4.jpg\n",
      "Downloading 4 images\n",
      "Downloaded pic1.jpg\n",
      "Downloaded pic2.jpg\n"
     ]
    },
    {
     "name": "stderr",
     "output_type": "stream",
     "text": [
      "523it [21:29,  3.39s/it]"
     ]
    },
    {
     "name": "stdout",
     "output_type": "stream",
     "text": [
      "Downloaded pic3.jpg\n",
      "Downloaded pic4.jpg\n",
      "Downloading 4 images\n",
      "Downloaded pic1.jpg\n",
      "Error downloading image 1: HTTPSConnectionPool(host='mms.businesswire.com', port=443): Read timed out. (read timeout=30)\n"
     ]
    },
    {
     "name": "stderr",
     "output_type": "stream",
     "text": [
      "524it [22:00, 11.74s/it]"
     ]
    },
    {
     "name": "stdout",
     "output_type": "stream",
     "text": [
      "Downloaded pic3.jpg\n",
      "Downloaded pic4.jpg\n",
      "Downloading 4 images\n",
      "Error downloading image 0: HTTPSConnectionPool(host='mms.businesswire.com', port=443): Read timed out. (read timeout=30)\n",
      "Downloaded pic2.jpg\n",
      "Downloaded pic3.jpg\n"
     ]
    },
    {
     "name": "stderr",
     "output_type": "stream",
     "text": [
      "525it [22:31, 17.53s/it]"
     ]
    },
    {
     "name": "stdout",
     "output_type": "stream",
     "text": [
      "Downloaded pic4.jpg\n",
      "Downloading 4 images\n",
      "Error downloading image 0: HTTPSConnectionPool(host='mms.businesswire.com', port=443): Read timed out. (read timeout=30)\n",
      "Downloaded pic3.jpg\n"
     ]
    },
    {
     "name": "stderr",
     "output_type": "stream",
     "text": [
      "526it [23:02, 21.52s/it]"
     ]
    },
    {
     "name": "stdout",
     "output_type": "stream",
     "text": [
      "Downloaded pic4.jpg\n",
      "Downloading 4 images\n",
      "Downloaded pic1.jpg\n",
      "Downloaded pic2.jpg\n",
      "Downloaded pic3.jpg\n"
     ]
    },
    {
     "name": "stderr",
     "output_type": "stream",
     "text": [
      "527it [23:04, 15.58s/it]"
     ]
    },
    {
     "name": "stdout",
     "output_type": "stream",
     "text": [
      "Downloaded pic4.jpg\n",
      "Downloading 4 images\n",
      "Downloaded pic1.png\n",
      "Downloaded pic2.jpg\n",
      "Downloaded pic3.jpg\n"
     ]
    },
    {
     "name": "stderr",
     "output_type": "stream",
     "text": [
      "528it [23:05, 11.22s/it]"
     ]
    },
    {
     "name": "stdout",
     "output_type": "stream",
     "text": [
      "Downloaded pic4.jpg\n",
      "Downloading 4 images\n"
     ]
    },
    {
     "name": "stderr",
     "output_type": "stream",
     "text": [
      "529it [23:05,  7.99s/it]"
     ]
    },
    {
     "name": "stdout",
     "output_type": "stream",
     "text": [
      "Downloaded pic1.jpg\n",
      "Downloading 4 images\n",
      "Downloaded pic1.jpg\n",
      "Downloaded pic2.jpg\n",
      "Downloaded pic3.jpg\n"
     ]
    },
    {
     "name": "stderr",
     "output_type": "stream",
     "text": [
      "530it [23:06,  5.78s/it]"
     ]
    },
    {
     "name": "stdout",
     "output_type": "stream",
     "text": [
      "Downloaded pic4.png\n",
      "Downloading 4 images\n",
      "Downloaded pic1.jpg\n",
      "Downloaded pic2.jpg\n",
      "Downloaded pic3.jpg\n"
     ]
    },
    {
     "name": "stderr",
     "output_type": "stream",
     "text": [
      "531it [23:08,  4.69s/it]"
     ]
    },
    {
     "name": "stdout",
     "output_type": "stream",
     "text": [
      "Downloaded pic4.jpg\n",
      "Downloading 4 images\n",
      "Downloaded pic1.jpg\n",
      "Downloaded pic2.jpg\n",
      "Downloaded pic3.jpg\n"
     ]
    },
    {
     "name": "stderr",
     "output_type": "stream",
     "text": [
      "532it [23:13,  4.80s/it]"
     ]
    },
    {
     "name": "stdout",
     "output_type": "stream",
     "text": [
      "Downloaded pic4.jpg\n",
      "Downloading 4 images\n",
      "Downloaded pic1.jpg\n",
      "Downloaded pic2.jpg\n",
      "Downloaded pic3.jpg\n"
     ]
    },
    {
     "name": "stderr",
     "output_type": "stream",
     "text": [
      "533it [23:15,  3.81s/it]"
     ]
    },
    {
     "name": "stdout",
     "output_type": "stream",
     "text": [
      "Downloaded pic4.jpg\n",
      "Downloading 4 images\n",
      "Downloaded pic1.jpg\n",
      "Downloaded pic2.jpg\n",
      "Downloaded pic3.jpg\n"
     ]
    },
    {
     "name": "stderr",
     "output_type": "stream",
     "text": [
      "534it [23:18,  3.58s/it]"
     ]
    },
    {
     "name": "stdout",
     "output_type": "stream",
     "text": [
      "Downloaded pic4.jpg\n",
      "Downloading 4 images\n",
      "Downloaded pic1.jpg\n",
      "Downloaded pic2.jpg\n",
      "Downloaded pic3.jpg\n"
     ]
    },
    {
     "name": "stderr",
     "output_type": "stream",
     "text": [
      "535it [23:19,  3.02s/it]"
     ]
    },
    {
     "name": "stdout",
     "output_type": "stream",
     "text": [
      "Downloaded pic4.jpg\n",
      "Downloading 4 images\n",
      "Downloaded pic1.jpg\n",
      "Downloaded pic2.jpg\n"
     ]
    },
    {
     "name": "stderr",
     "output_type": "stream",
     "text": [
      "536it [23:24,  3.50s/it]"
     ]
    },
    {
     "name": "stdout",
     "output_type": "stream",
     "text": [
      "Downloaded pic3.jpg\n",
      "Downloaded pic4.jpg\n",
      "Downloading 4 images\n",
      "Downloaded pic1.jpg\n",
      "Downloaded pic2.jpg\n",
      "Downloaded pic3.jpg\n"
     ]
    },
    {
     "name": "stderr",
     "output_type": "stream",
     "text": [
      "537it [23:32,  4.87s/it]"
     ]
    },
    {
     "name": "stdout",
     "output_type": "stream",
     "text": [
      "Downloaded pic4.jpg\n",
      "Downloading 4 images\n",
      "Downloaded pic1.jpg\n",
      "Downloaded pic2.jpg\n",
      "Downloaded pic3.jpg\n"
     ]
    },
    {
     "name": "stderr",
     "output_type": "stream",
     "text": [
      "538it [23:37,  4.98s/it]"
     ]
    },
    {
     "name": "stdout",
     "output_type": "stream",
     "text": [
      "Downloaded pic4.jpg\n",
      "Downloading 4 images\n",
      "Downloaded pic1.jpg\n",
      "Downloaded pic2.jpg\n",
      "Downloaded pic3.jpg\n"
     ]
    },
    {
     "name": "stderr",
     "output_type": "stream",
     "text": [
      "539it [23:39,  4.11s/it]"
     ]
    },
    {
     "name": "stdout",
     "output_type": "stream",
     "text": [
      "Downloaded pic4.jpg\n",
      "Downloading 4 images\n",
      "Downloaded pic1.jpg\n",
      "Downloaded pic2.jpg\n"
     ]
    },
    {
     "name": "stderr",
     "output_type": "stream",
     "text": [
      "540it [23:40,  2.63s/it]"
     ]
    },
    {
     "name": "stdout",
     "output_type": "stream",
     "text": [
      "Downloaded pic3.jpg\n",
      "Downloaded pic4.jpg\n"
     ]
    },
    {
     "name": "stderr",
     "output_type": "stream",
     "text": [
      "\n"
     ]
    },
    {
     "ename": "TypeError",
     "evalue": "join() argument must be str, bytes, or os.PathLike object, not 'float'",
     "output_type": "error",
     "traceback": [
      "\u001b[0;31m---------------------------------------------------------------------------\u001b[0m",
      "\u001b[0;31mTypeError\u001b[0m                                 Traceback (most recent call last)",
      "Cell \u001b[0;32mIn[7], line 44\u001b[0m\n\u001b[1;32m     42\u001b[0m name \u001b[38;5;241m=\u001b[39m row[\u001b[38;5;124m'\u001b[39m\u001b[38;5;124mName\u001b[39m\u001b[38;5;124m'\u001b[39m]\n\u001b[1;32m     43\u001b[0m year \u001b[38;5;241m=\u001b[39m \u001b[38;5;28mstr\u001b[39m(row[\u001b[38;5;124m\"\u001b[39m\u001b[38;5;124mYear\u001b[39m\u001b[38;5;124m\"\u001b[39m])\n\u001b[0;32m---> 44\u001b[0m save_dir \u001b[38;5;241m=\u001b[39m os\u001b[38;5;241m.\u001b[39mpath\u001b[38;5;241m.\u001b[39mjoin(\u001b[38;5;124m'\u001b[39m\u001b[38;5;124mpictures\u001b[39m\u001b[38;5;124m'\u001b[39m, name, year)\n\u001b[1;32m     46\u001b[0m \u001b[38;5;66;03m# Skip if images already exist\u001b[39;00m\n\u001b[1;32m     47\u001b[0m \u001b[38;5;28;01mif\u001b[39;00m os\u001b[38;5;241m.\u001b[39mpath\u001b[38;5;241m.\u001b[39mexists(save_dir):\n",
      "File \u001b[0;32m/Applications/anaconda3/lib/python3.12/posixpath.py:90\u001b[0m, in \u001b[0;36mjoin\u001b[0;34m(a, *p)\u001b[0m\n\u001b[1;32m     88\u001b[0m             path \u001b[38;5;241m+\u001b[39m\u001b[38;5;241m=\u001b[39m sep \u001b[38;5;241m+\u001b[39m b\n\u001b[1;32m     89\u001b[0m \u001b[38;5;28;01mexcept\u001b[39;00m (\u001b[38;5;167;01mTypeError\u001b[39;00m, \u001b[38;5;167;01mAttributeError\u001b[39;00m, \u001b[38;5;167;01mBytesWarning\u001b[39;00m):\n\u001b[0;32m---> 90\u001b[0m     genericpath\u001b[38;5;241m.\u001b[39m_check_arg_types(\u001b[38;5;124m'\u001b[39m\u001b[38;5;124mjoin\u001b[39m\u001b[38;5;124m'\u001b[39m, a, \u001b[38;5;241m*\u001b[39mp)\n\u001b[1;32m     91\u001b[0m     \u001b[38;5;28;01mraise\u001b[39;00m\n\u001b[1;32m     92\u001b[0m \u001b[38;5;28;01mreturn\u001b[39;00m path\n",
      "File \u001b[0;32m/Applications/anaconda3/lib/python3.12/genericpath.py:164\u001b[0m, in \u001b[0;36m_check_arg_types\u001b[0;34m(funcname, *args)\u001b[0m\n\u001b[1;32m    162\u001b[0m         hasbytes \u001b[38;5;241m=\u001b[39m \u001b[38;5;28;01mTrue\u001b[39;00m\n\u001b[1;32m    163\u001b[0m     \u001b[38;5;28;01melse\u001b[39;00m:\n\u001b[0;32m--> 164\u001b[0m         \u001b[38;5;28;01mraise\u001b[39;00m \u001b[38;5;167;01mTypeError\u001b[39;00m(\u001b[38;5;124mf\u001b[39m\u001b[38;5;124m'\u001b[39m\u001b[38;5;132;01m{\u001b[39;00mfuncname\u001b[38;5;132;01m}\u001b[39;00m\u001b[38;5;124m() argument must be str, bytes, or \u001b[39m\u001b[38;5;124m'\u001b[39m\n\u001b[1;32m    165\u001b[0m                         \u001b[38;5;124mf\u001b[39m\u001b[38;5;124m'\u001b[39m\u001b[38;5;124mos.PathLike object, not \u001b[39m\u001b[38;5;132;01m{\u001b[39;00ms\u001b[38;5;241m.\u001b[39m\u001b[38;5;18m__class__\u001b[39m\u001b[38;5;241m.\u001b[39m\u001b[38;5;18m__name__\u001b[39m\u001b[38;5;132;01m!r}\u001b[39;00m\u001b[38;5;124m'\u001b[39m) \u001b[38;5;28;01mfrom\u001b[39;00m \u001b[38;5;28;01mNone\u001b[39;00m\n\u001b[1;32m    166\u001b[0m \u001b[38;5;28;01mif\u001b[39;00m hasstr \u001b[38;5;129;01mand\u001b[39;00m hasbytes:\n\u001b[1;32m    167\u001b[0m     \u001b[38;5;28;01mraise\u001b[39;00m \u001b[38;5;167;01mTypeError\u001b[39;00m(\u001b[38;5;124m\"\u001b[39m\u001b[38;5;124mCan\u001b[39m\u001b[38;5;124m'\u001b[39m\u001b[38;5;124mt mix strings and bytes in path components\u001b[39m\u001b[38;5;124m\"\u001b[39m) \u001b[38;5;28;01mfrom\u001b[39;00m \u001b[38;5;28;01mNone\u001b[39;00m\n",
      "\u001b[0;31mTypeError\u001b[0m: join() argument must be str, bytes, or os.PathLike object, not 'float'"
     ]
    }
   ],
   "source": [
    "import os\n",
    "import mimetypes\n",
    "import requests\n",
    "import pandas as pd\n",
    "import tqdm\n",
    "\n",
    "def download_images(image_urls, save_dir, limit=10):\n",
    "    def get_file_extension(content_type):\n",
    "        \"\"\"Get file extension from content type\"\"\"\n",
    "        extension = mimetypes.guess_extension(content_type)\n",
    "        if extension:\n",
    "            return extension\n",
    "        # Fallback extensions\n",
    "        extension_map = {\n",
    "            'image/jpeg': '.jpg',\n",
    "            'image/png': '.png',\n",
    "            'image/webp': '.webp'\n",
    "        }\n",
    "        return extension_map.get(content_type, '.jpg')\n",
    "\n",
    "    image_urls = image_urls[:limit]\n",
    "    headers = {\n",
    "        'User-Agent': 'Mozilla/5.0 (Windows NT 10.0; Win64; x64) Chrome/91.0.4472.124'\n",
    "    }\n",
    "\n",
    "    print(f\"Downloading {len(image_urls)} images\")\n",
    "    for i, url in enumerate(image_urls):\n",
    "        try:\n",
    "            img_response = requests.get(url, headers=headers, timeout=30)\n",
    "            if img_response.status_code == 200:\n",
    "                content_type = img_response.headers.get('content-type', 'image/jpeg')\n",
    "                extension = get_file_extension(content_type)\n",
    "                filename = f'pic{i+1}{extension}'\n",
    "                filepath = os.path.join(save_dir, filename)\n",
    "                with open(filepath, 'wb') as f:\n",
    "                    f.write(img_response.content)\n",
    "                print(f\"Downloaded {filename}\")\n",
    "        except Exception as e:\n",
    "            print(f\"Error downloading image {i}: {e}\")\n",
    "\n",
    "for _, row in tqdm.tqdm(search_df.iterrows()):\n",
    "    name = row['Name']\n",
    "    year = str(row[\"Year\"])\n",
    "    save_dir = os.path.join('pictures', name, year)\n",
    "\n",
    "    # Skip if images already exist\n",
    "    if os.path.exists(save_dir):\n",
    "        image_files = [f for f in os.listdir(save_dir) if f.lower().endswith(('.jpg', '.jpeg', '.png', '.webp'))]\n",
    "        if image_files:\n",
    "            print(f\"Skipping {name} ({year}) - images already exist\")\n",
    "            continue\n",
    "\n",
    "    csv_path = os.path.join(save_dir, 'image_urls.csv')\n",
    "    \n",
    "    # Skip if the CSV file does not exist\n",
    "    if not os.path.exists(csv_path):\n",
    "        print(f\"Skipping {name} ({year}) - image_urls.csv not found\")\n",
    "        continue\n",
    "\n",
    "    image_urls_df = pd.read_csv(csv_path)\n",
    "    image_urls = image_urls_df['image_url'].tolist()\n",
    "    download_images(image_urls, save_dir, limit=15)\n"
   ]
  },
  {
   "cell_type": "code",
   "execution_count": null,
   "id": "3e00355a-fa00-4687-bfbc-4f11dbc09a65",
   "metadata": {},
   "outputs": [],
   "source": []
  }
 ],
 "metadata": {
  "kernelspec": {
   "display_name": "Python [conda env:base] *",
   "language": "python",
   "name": "conda-base-py"
  },
  "language_info": {
   "codemirror_mode": {
    "name": "ipython",
    "version": 3
   },
   "file_extension": ".py",
   "mimetype": "text/x-python",
   "name": "python",
   "nbconvert_exporter": "python",
   "pygments_lexer": "ipython3",
   "version": "3.12.7"
  }
 },
 "nbformat": 4,
 "nbformat_minor": 5
}
