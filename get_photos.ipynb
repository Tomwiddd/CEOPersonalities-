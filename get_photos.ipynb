{
 "cells": [
  {
   "cell_type": "code",
   "execution_count": 1,
   "id": "94ec0f66-399e-4e9b-8192-ae8484afa370",
   "metadata": {},
   "outputs": [],
   "source": [
    "import os\n",
    "import pandas as pd\n",
    "from selenium import webdriver\n",
    "from selenium.webdriver.chrome.options import Options\n",
    "from selenium.webdriver.common.by import By\n",
    "from selenium.webdriver.support.ui import WebDriverWait\n",
    "from selenium.webdriver.support import expected_conditions as EC\n",
    "from selenium.webdriver.common.action_chains import ActionChains\n",
    "import urllib.parse\n",
    "from urllib.parse import quote\n",
    "import requests\n",
    "import re\n",
    "import time\n",
    "import mimetypes\n",
    "import tqdm"
   ]
  },
  {
   "cell_type": "code",
   "execution_count": 2,
   "id": "9ed0cf1a-a75a-4e69-9498-c1e124a7aa26",
   "metadata": {},
   "outputs": [],
   "source": [
    "# Load the CEO data\n",
    "ceo_data = \"ceo_data.csv\"\n",
    "df = pd.read_csv(ceo_data)"
   ]
  },
  {
   "cell_type": "code",
   "execution_count": 3,
   "id": "9009349f-631d-4274-b3c0-1fc59cc08d23",
   "metadata": {},
   "outputs": [],
   "source": [
    "base_url = \"https://www.google.com/search?q={query}&tbm=isch&tbs=cdr:1,cd_min:{start_date},cd_max:{end_date}\""
   ]
  },
  {
   "cell_type": "code",
   "execution_count": 4,
   "id": "ab3b0f9e-d703-4dd7-9188-54e51ac0c649",
   "metadata": {},
   "outputs": [],
   "source": [
    "# Generate URLs for each CEO\n",
    "search_urls = []\n",
    "for _, row in df.iterrows():\n",
    "    name = row[\"CEO\"]\n",
    "    firm = row[\"Company\"]\n",
    "    start_year = row[\"Year\"]\n",
    "    current_year = 2019  # Set this to the present year or desired end year\n",
    "    \n",
    "    for year in range(start_year, current_year + 1):\n",
    "        query = quote(f\"{name} {firm}\")  # Encode the search query\n",
    "        url = base_url.format(query=query, start_date=f\"1/1/{year}\", end_date=f\"12/31/{year}\")\n",
    "        search_urls.append((name, year, url))\n",
    "        break"
   ]
  },
  {
   "cell_type": "code",
   "execution_count": 5,
   "id": "9dbb8cd1-c01c-4822-9105-9588e5e1a303",
   "metadata": {},
   "outputs": [
    {
     "name": "stdout",
     "output_type": "stream",
     "text": [
      "Search URLs saved to ceo_image_search_urls.csv\n"
     ]
    }
   ],
   "source": [
    "# Save the URLs to a CSV file\n",
    "output_filename = \"ceo_image_search_urls.csv\"\n",
    "search_df = pd.DataFrame(search_urls, columns=[\"Name\", \"Year\", \"Search_URL\"])\n",
    "search_df\n",
    "search_df.to_csv(output_filename, index=False)\n",
    "\n",
    "print(f\"Search URLs saved to {output_filename}\")"
   ]
  },
  {
   "cell_type": "code",
   "execution_count": 6,
   "id": "a7c034de-9b7d-472d-ab7d-221aa2008ab3",
   "metadata": {
    "scrolled": true
   },
   "outputs": [
    {
     "name": "stderr",
     "output_type": "stream",
     "text": [
      "Scraping:   0%|                                         | 0/680 [00:00<?, ?it/s]"
     ]
    },
    {
     "name": "stdout",
     "output_type": "stream",
     "text": [
      "https://www.google.com/search?q=Steve%20Jobs%20Apple%20Inc.&tbm=isch&tbs=cdr:1,cd_min:1/1/2010,cd_max:12/31/2010\n",
      "Steve Jobs 2010\n",
      "hover start\n",
      "hover done\n",
      "Found 100 potential image elements\n"
     ]
    },
    {
     "name": "stderr",
     "output_type": "stream",
     "text": [
      "Scraping:   0%|                               | 1/680 [00:10<2:01:59, 10.78s/it]"
     ]
    },
    {
     "name": "stdout",
     "output_type": "stream",
     "text": [
      "element 0 has url https://upload.wikimedia.org/wikipedia/commons/b/b9/Steve_Jobs_Headshot_2010-CROP.jpg\n",
      "element 1 has url https://upload.wikimedia.org/wikipedia/commons/thumb/c/c9/Steve_Jobs_with_the_Apple_iPad_no_logo.jpg/250px-Steve_Jobs_with_the_Apple_iPad_no_logo.jpg\n",
      "element 2 has url https://ei.marketwatch.com/Multimedia/2010/12/07/Photos/MG/MW-AH569_apple9_20101207120715_MG.jpg?uuid=7bd181f6-0224-11e0-b254-00212804637c\n",
      "element 3 has url https://entrepreneurmail.wordpress.com/wp-content/uploads/2012/10/jobs-and-apple-logo.jpg?w=640\n",
      "https://www.google.com/search?q=Tim%20Cook%20Apple%20Inc.&tbm=isch&tbs=cdr:1,cd_min:1/1/2011,cd_max:12/31/2011\n",
      "Tim Cook 2011\n",
      "hover start\n",
      "hover done\n",
      "Found 100 potential image elements\n"
     ]
    },
    {
     "name": "stderr",
     "output_type": "stream",
     "text": [
      "Scraping:   0%|                               | 2/680 [00:19<1:50:31,  9.78s/it]"
     ]
    },
    {
     "name": "stdout",
     "output_type": "stream",
     "text": [
      "element 0 has url https://cdn.macstories.net/002/25788_Header.png\n",
      "element 1 has url https://static.wikia.nocookie.net/ipod/images/8/84/Cook_hero20110204.png/revision/latest?cb=20210413165540\n",
      "element 2 has url https://s.wsj.net/public/resources/images/OB-LW875_timcoo_D_20110117095159.jpg\n",
      "element 3 has url https://cdn.mos.cms.futurecdn.net/QWJJU6AbCEtDsnTiSBRUYU.png\n",
      "https://www.google.com/search?q=Tim%20Cook%20Apple%20Inc.&tbm=isch&tbs=cdr:1,cd_min:1/1/2012,cd_max:12/31/2012\n",
      "Tim Cook 2012\n",
      "hover start\n",
      "hover done\n",
      "Found 100 potential image elements\n"
     ]
    },
    {
     "name": "stderr",
     "output_type": "stream",
     "text": [
      "Scraping:   0%|▏                              | 3/680 [00:28<1:46:46,  9.46s/it]"
     ]
    },
    {
     "name": "stdout",
     "output_type": "stream",
     "text": [
      "element 0 has url http://media.al.com/live/photo/tim-cook-apple-ceo-smilesjpg-74f7e4f169212585.jpg\n",
      "element 1 has url https://scx2.b-cdn.net/gfx/news/hires/2012/3-appleceotimc.jpg\n",
      "element 2 has url https://www.gaytimes.com/wp-content/uploads/2015/09/TIM_COOK_2161982b.jpg\n",
      "element 3 has url https://www.everythingsupplychain.com/wp-content/uploads/2016/09/Tim-Cook.jpg\n",
      "https://www.google.com/search?q=Tim%20Cook%20Apple%20Inc.&tbm=isch&tbs=cdr:1,cd_min:1/1/2013,cd_max:12/31/2013\n",
      "Tim Cook 2013\n",
      "hover start\n",
      "hover done\n",
      "Found 100 potential image elements\n"
     ]
    },
    {
     "name": "stderr",
     "output_type": "stream",
     "text": [
      "Scraping:   1%|▏                              | 4/680 [00:38<1:44:53,  9.31s/it]"
     ]
    },
    {
     "name": "stdout",
     "output_type": "stream",
     "text": [
      "element 0 has url https://api.time.com/wp-content/uploads/2014/03/rtx13ged.jpg\n",
      "element 1 has url https://news.macgasm.net/wp-content/uploads/2012/09/Tim-Cook.jpg\n",
      "element 2 has url https://cdn.mos.cms.futurecdn.net/FbM8rvjqLCabreLq77vq7N.jpg\n",
      "element 3 has url https://a.scpr.org/61203_404abead844ed5474b4040b56b7993c4_original.jpg\n",
      "https://www.google.com/search?q=Tim%20Cook%20Apple%20Inc.&tbm=isch&tbs=cdr:1,cd_min:1/1/2014,cd_max:12/31/2014\n",
      "Tim Cook 2014\n",
      "hover start\n",
      "hover done\n",
      "Found 100 potential image elements\n"
     ]
    },
    {
     "name": "stderr",
     "output_type": "stream",
     "text": [
      "Scraping:   1%|▏                              | 5/680 [00:47<1:43:41,  9.22s/it]"
     ]
    },
    {
     "name": "stdout",
     "output_type": "stream",
     "text": [
      "element 0 has url https://fortune.com/img-assets/wp-content/uploads/2015/05/apple-watch-iphone-smart-leashing.jpg\n",
      "element 1 has url https://static01.nyt.com/images/2014/06/15/technology/15cook/15cook-superJumbo.jpg\n",
      "element 2 has url https://ktla.com/wp-content/uploads/sites/4/2014/10/455925782.jpg\n",
      "element 3 has url https://s.wsj.net/public/resources/images/RV-AM880_APPLE_G_20140228222932.jpg\n",
      "Skipping  Tim Cook 2015\n",
      "https://www.google.com/search?q=Tim%20Cook%20Apple%20Inc.&tbm=isch&tbs=cdr:1,cd_min:1/1/2016,cd_max:12/31/2016\n",
      "Tim Cook 2016\n",
      "hover start\n",
      "hover done\n",
      "Found 100 potential image elements\n"
     ]
    },
    {
     "name": "stderr",
     "output_type": "stream",
     "text": [
      "Scraping:   1%|▎                              | 7/680 [00:56<1:17:19,  6.89s/it]"
     ]
    },
    {
     "name": "stdout",
     "output_type": "stream",
     "text": [
      "element 0 has url https://vulcanpost.com/wp-content/uploads/2016/08/apple-event-sept9-2015-tim-cook-2480.jpg\n",
      "element 1 has url https://photos5.appleinsider.com/archive/gallery/17432-14956-15915-12478-9826_01_0153-l-l.jpg\n",
      "element 2 has url https://s.wsj.net/public/resources/images/BN-DO711_cook07_GR_20140707150432.jpg\n",
      "element 3 has url https://fortune.com/img-assets/wp-content/uploads/2015/12/cooke-1280.jpg?w=1440&q=75\n",
      "https://www.google.com/search?q=Tim%20Cook%20Apple%20Inc.&tbm=isch&tbs=cdr:1,cd_min:1/1/2017,cd_max:12/31/2017\n",
      "Tim Cook 2017\n",
      "hover start\n",
      "hover done\n",
      "Found 100 potential image elements\n"
     ]
    },
    {
     "name": "stderr",
     "output_type": "stream",
     "text": [
      "Scraping:   1%|▎                              | 8/680 [01:05<1:23:55,  7.49s/it]"
     ]
    },
    {
     "name": "stdout",
     "output_type": "stream",
     "text": [
      "element 0 has url https://www.apple.com/leadership/images/bio/tim-cook_image.png.og.png?1745445845122\n",
      "element 1 has url https://s.wsj.net/public/resources/images/BN-RN071_2RXqH_OR_20170106083045.jpg\n",
      "element 2 has url https://s.wsj.net/public/resources/images/BN-WL705_3jTPa_OR_20171206065022.jpg\n",
      "element 3 has url https://s3.amazonaws.com/thetech-production/images/web_photos/web/8004_cook_hero.png?1481183432\n",
      "https://www.google.com/search?q=Tim%20Cook%20Apple%20Inc.&tbm=isch&tbs=cdr:1,cd_min:1/1/2018,cd_max:12/31/2018\n",
      "Tim Cook 2018\n",
      "hover start\n",
      "hover done\n",
      "Found 100 potential image elements\n"
     ]
    },
    {
     "name": "stderr",
     "output_type": "stream",
     "text": [
      "Scraping:   1%|▍                              | 9/680 [01:14<1:28:03,  7.87s/it]"
     ]
    },
    {
     "name": "stdout",
     "output_type": "stream",
     "text": [
      "element 0 has url https://cdn.wccftech.com/wp-content/uploads/2023/11/Apple-CEO.jpg\n",
      "element 1 has url https://s2.q4cdn.com/470004039/files/images/executive_profiles/tim_cook.png\n",
      "element 2 has url https://s.marketwatch.com/public/resources/images/MW-GC918_cook_c_ZG_20180201193127.jpg\n",
      "element 3 has url https://corporate-executives.com/wp-content/uploads/2013/07/tim-cook.jpg\n",
      "https://www.google.com/search?q=Tim%20Cook%20Apple%20Inc.&tbm=isch&tbs=cdr:1,cd_min:1/1/2019,cd_max:12/31/2019\n",
      "Tim Cook 2019\n",
      "hover start\n",
      "hover done\n",
      "Found 100 potential image elements\n"
     ]
    },
    {
     "name": "stderr",
     "output_type": "stream",
     "text": [
      "Scraping:   1%|▍                             | 10/680 [01:23<1:32:26,  8.28s/it]"
     ]
    },
    {
     "name": "stdout",
     "output_type": "stream",
     "text": [
      "element 0 has url https://api.time.com/wp-content/uploads/2019/04/time-100-tim-cook-nancy-gibbs-20.jpg\n",
      "element 1 has url https://i.insider.com/5d66aa0c21214c50483a55f0?width=1200&format=jpeg\n",
      "element 2 has url https://s.abcnews.com/images/Business/tim-cook-interview-04-exclusive-bug-abc-jc-191120_hpMain_16x9_1600.jpg\n",
      "element 3 has url https://www.theladders.com/wp-content/uploads/tim-cook-190920.jpg\n",
      "https://www.google.com/search?q=Steve%20Ballmer%20Microsoft%20Corporation&tbm=isch&tbs=cdr:1,cd_min:1/1/2010,cd_max:12/31/2010\n",
      "Steve Ballmer 2010\n",
      "hover start\n",
      "hover done\n",
      "Found 100 potential image elements\n"
     ]
    },
    {
     "name": "stderr",
     "output_type": "stream",
     "text": [
      "Scraping:   2%|▍                             | 11/680 [01:32<1:34:06,  8.44s/it]"
     ]
    },
    {
     "name": "stdout",
     "output_type": "stream",
     "text": [
      "element 0 has url https://upload.wikimedia.org/wikipedia/commons/5/54/Steve_ballmer_2007_outdoors2-2.jpg\n",
      "element 1 has url https://s3.amazonaws.com/images.seroundtable.com/Steve-Ballmer-1377519391.jpg\n",
      "element 2 has url https://cdn.arstechnica.net/wp-content/uploads/2010/11/ballmer-pdc-2010.jpg\n",
      "element 3 has url https://cdn.mos.cms.futurecdn.net/zYJ2aUTH3MYFXLx5wJu55e.jpg\n",
      "https://www.google.com/search?q=Steve%20Ballmer%20Microsoft%20Corporation&tbm=isch&tbs=cdr:1,cd_min:1/1/2011,cd_max:12/31/2011\n",
      "Steve Ballmer 2011\n",
      "hover start\n",
      "hover done\n",
      "Found 100 potential image elements\n"
     ]
    },
    {
     "name": "stderr",
     "output_type": "stream",
     "text": [
      "Scraping:   2%|▌                             | 12/680 [01:41<1:34:52,  8.52s/it]"
     ]
    },
    {
     "name": "stdout",
     "output_type": "stream",
     "text": [
      "element 0 has url https://i.ytimg.com/vi/p6TVTjYRrZU/hqdefault.jpg\n",
      "element 1 has url https://assets.hardwarezone.com/images/Ballmer.jpg\n",
      "element 2 has url https://upload.wikimedia.org/wikipedia/commons/thumb/1/10/Steve_Ballmer_-_MIX_2008.jpg/640px-Steve_Ballmer_-_MIX_2008.jpg\n",
      "element 3 has url https://vir.com.vn/stores/news_dataimages/hung/112010/07/08/afp_711ms.gif\n",
      "https://www.google.com/search?q=Steve%20Ballmer%20Microsoft%20Corporation&tbm=isch&tbs=cdr:1,cd_min:1/1/2012,cd_max:12/31/2012\n",
      "Steve Ballmer 2012\n",
      "hover start\n",
      "hover done\n",
      "Found 100 potential image elements\n"
     ]
    },
    {
     "name": "stderr",
     "output_type": "stream",
     "text": [
      "Scraping:   2%|▌                             | 13/680 [01:50<1:35:30,  8.59s/it]"
     ]
    },
    {
     "name": "stdout",
     "output_type": "stream",
     "text": [
      "element 0 has url https://www.zdnet.com/a/img/2014/10/05/388927df-4ce2-11e4-b6a0-d4ae52e95e57/steveballmercreditcnet.png\n",
      "element 1 has url https://npr.brightspotcdn.com/legacy/sites/kplu/files/201201/Steve_Ballmer.jpg\n",
      "element 2 has url https://upload.wikimedia.org/wikipedia/commons/thumb/1/10/Steve_Ballmer_-_MIX_2008.jpg/250px-Steve_Ballmer_-_MIX_2008.jpg\n",
      "element 3 has url http://media4.s-nbcnews.com/i/streams/2012/October/121009/1C4221139-2012-10-09t222227z_2_cbre8981q2s00_rtroptp_3_htc-windows.jpg\n",
      "https://www.google.com/search?q=Steve%20Ballmer%20Microsoft%20Corporation&tbm=isch&tbs=cdr:1,cd_min:1/1/2013,cd_max:12/31/2013\n",
      "Steve Ballmer 2013\n",
      "hover start\n",
      "hover done\n",
      "Found 100 potential image elements\n"
     ]
    },
    {
     "name": "stderr",
     "output_type": "stream",
     "text": [
      "Scraping:   2%|▌                             | 14/680 [01:59<1:36:55,  8.73s/it]"
     ]
    },
    {
     "name": "stdout",
     "output_type": "stream",
     "text": [
      "element 0 has url https://eu-images.contentstack.com/v3/assets/blt8eb3cdfc1fce5194/blte2a7f2f0cb987c02/66212eeb179a0c916495d0d1/ballmer_web.jpg\n",
      "element 1 has url https://cdn.mos.cms.futurecdn.net/Ditk23bYLgwy7e8enG9jnk.jpg\n",
      "element 2 has url https://images.livemint.com/rf/Image-621x414/LiveMint/Period1/2013/08/26/Photos/SteveBallmer_4C_--621x414.jpg\n",
      "element 3 has url https://archive-images.prod.global.a201836.reutersmedia.net/2013/08/23/CBRE97M11RC00.JPG\n",
      "https://www.google.com/search?q=Satya%20Nadella%20Microsoft%20Corporation&tbm=isch&tbs=cdr:1,cd_min:1/1/2014,cd_max:12/31/2014\n",
      "Satya Nadella 2014\n",
      "hover start\n",
      "hover done\n",
      "Found 100 potential image elements\n"
     ]
    },
    {
     "name": "stderr",
     "output_type": "stream",
     "text": [
      "Scraping:   2%|▋                             | 15/680 [02:07<1:37:11,  8.77s/it]"
     ]
    },
    {
     "name": "stdout",
     "output_type": "stream",
     "text": [
      "element 0 has url https://s.abcnews.com/images/Business/ht_microsoft_kab_140204_16x9_992.jpg?w=384\n",
      "element 1 has url https://www.thesoftwarereport.com/wp-content/uploads/2017/11/Satya-Nadella-post-image.jpg\n",
      "element 2 has url https://upload.wikimedia.org/wikipedia/commons/6/6c/Satya_Nadella.jpg\n",
      "element 3 has url https://static01.nyt.com/images/2014/02/20/business/20CORNER/20CORNER-superJumbo-v2.jpg\n",
      "https://www.google.com/search?q=Satya%20Nadella%20Microsoft%20Corporation&tbm=isch&tbs=cdr:1,cd_min:1/1/2015,cd_max:12/31/2015\n",
      "Satya Nadella 2015\n",
      "hover start\n",
      "hover done\n",
      "Found 100 potential image elements\n"
     ]
    },
    {
     "name": "stderr",
     "output_type": "stream",
     "text": [
      "Scraping:   2%|▋                             | 16/680 [02:16<1:37:31,  8.81s/it]"
     ]
    },
    {
     "name": "stdout",
     "output_type": "stream",
     "text": [
      "element 0 has url https://www.yosuccess.com/wp-content/uploads/2015/11/microsoft.jpg\n",
      "element 1 has url https://pub-c2c1d9230f0b4abb9b0d2d95e06fd4ef.r2.dev/sites/427/2014/02/20140205_01_1000x734.jpg\n",
      "element 2 has url https://s.wsj.net/public/resources/images/BN-KQ404_1006ms_M_20151006154334.jpg\n",
      "element 3 has url https://cdn.geekwire.com/wp-content/uploads/2014/09/satya-nadella.jpg\n",
      "https://www.google.com/search?q=Satya%20Nadella%20Microsoft%20Corporation&tbm=isch&tbs=cdr:1,cd_min:1/1/2016,cd_max:12/31/2016\n",
      "Satya Nadella 2016\n",
      "hover start\n",
      "hover done\n",
      "Found 100 potential image elements\n"
     ]
    },
    {
     "name": "stderr",
     "output_type": "stream",
     "text": [
      "Scraping:   2%|▊                             | 17/680 [02:25<1:37:28,  8.82s/it]"
     ]
    },
    {
     "name": "stdout",
     "output_type": "stream",
     "text": [
      "element 0 has url https://cdn.geekwire.com/wp-content/uploads/2020/08/20160404_Envision_93.jpg\n",
      "element 1 has url https://cdn.geekwire.com/wp-content/uploads/2016/06/160628-satya.jpg\n",
      "element 2 has url https://fortune.com/img-assets/wp-content/uploads/2016/11/satya-nadella-2016-gettyimages-618305174.jpg\n",
      "element 3 has url https://s.wsj.net/public/resources/images/EM-BD582_NADELL_GR_20150204202402.jpg\n",
      "https://www.google.com/search?q=Satya%20Nadella%20Microsoft%20Corporation&tbm=isch&tbs=cdr:1,cd_min:1/1/2017,cd_max:12/31/2017\n",
      "Satya Nadella 2017\n",
      "hover start\n",
      "hover done\n",
      "Found 100 potential image elements\n"
     ]
    },
    {
     "name": "stderr",
     "output_type": "stream",
     "text": [
      "Scraping:   3%|▊                             | 18/680 [02:34<1:37:31,  8.84s/it]"
     ]
    },
    {
     "name": "stdout",
     "output_type": "stream",
     "text": [
      "element 0 has url https://news.microsoft.com/wp-content/uploads/2017/09/MS-Exec-Nadella-Satya-2017-08-31-8.jpg\n",
      "element 1 has url https://news.microsoft.com/wp-content/uploads/2017/09/MS-Exec-Nadella-Satya-2017-08-31-22-2.jpg\n",
      "element 2 has url https://api.time.com/wp-content/uploads/2020/06/MS-Exec-Nadella-Satya-2017-08-31-8-2-1.jpg\n",
      "element 3 has url https://api.time.com/wp-content/uploads/2014/10/satya-nadella-microsoft1.jpg?quality=85\n",
      "https://www.google.com/search?q=Satya%20Nadella%20Microsoft%20Corporation&tbm=isch&tbs=cdr:1,cd_min:1/1/2018,cd_max:12/31/2018\n",
      "Satya Nadella 2018\n",
      "hover start\n",
      "hover done\n",
      "Found 100 potential image elements\n"
     ]
    },
    {
     "name": "stderr",
     "output_type": "stream",
     "text": [
      "Scraping:   3%|▊                             | 19/680 [02:43<1:37:52,  8.88s/it]"
     ]
    },
    {
     "name": "stdout",
     "output_type": "stream",
     "text": [
      "element 0 has url https://img.caixin.com/2018-11-24/1543035822545341.jpg\n",
      "element 1 has url https://media.licdn.com/dms/image/v2/C4D12AQFhRy5msR_IdA/article-cover_image-shrink_600_2000/article-cover_image-shrink_600_2000/0/1520954909539?e=2147483647&v=beta&t=23B7uuJ2TcUI2Jx2kI5SxvxHDdJfSJC0hyEZ-mZ00dw\n",
      "element 2 has url https://www.marketplace.org/wp-content/uploads/2017/09/GettyImages-626761454.jpg\n",
      "element 3 has url https://compote.slate.com/images/16508407-b538-4876-a55f-a09983c1adde.jpg\n",
      "https://www.google.com/search?q=Satya%20Nadella%20Microsoft%20Corporation&tbm=isch&tbs=cdr:1,cd_min:1/1/2019,cd_max:12/31/2019\n",
      "Satya Nadella 2019\n",
      "hover start\n",
      "hover done\n",
      "Found 100 potential image elements\n"
     ]
    },
    {
     "name": "stderr",
     "output_type": "stream",
     "text": [
      "Scraping:   3%|▉                             | 20/680 [02:52<1:36:59,  8.82s/it]"
     ]
    },
    {
     "name": "stdout",
     "output_type": "stream",
     "text": [
      "element 0 has url https://www.thesoftwarereport.com/wp-content/uploads/2020/03/Microsoft.jpg\n",
      "element 1 has url https://cdn.geekwire.com/wp-content/uploads/2019/05/20190506_Microsoft_Build_55-630x420.jpg\n",
      "element 2 has url https://www.investors.com/wp-content/uploads/2019/01/LSMAIN-satya-011119-AP.jpg\n",
      "element 3 has url https://www.theladders.com/wp-content/uploads/satya-nadella-microsoft-ceo.jpg\n",
      "https://www.google.com/search?q=Jensen%20Huang%20NVIDIA%20Corporation&tbm=isch&tbs=cdr:1,cd_min:1/1/2010,cd_max:12/31/2010\n",
      "Jensen Huang 2010\n",
      "hover start\n",
      "hover done\n",
      "Found 100 potential image elements\n"
     ]
    },
    {
     "name": "stderr",
     "output_type": "stream",
     "text": [
      "Scraping:   3%|▉                             | 21/680 [03:01<1:37:24,  8.87s/it]"
     ]
    },
    {
     "name": "stdout",
     "output_type": "stream",
     "text": [
      "element 0 has url https://vizworld.com/wp-content/uploads/2010/08/nvidia_huang.top_.jpg\n",
      "element 1 has url https://semiwiki.com/wp-content/uploads/2019/06/img_5d045d38283c6.jpg\n",
      "element 2 has url https://pcper.com/wp-content/uploads/2012/02/3072-nvidia-ceo-tattoo.jpg\n",
      "element 3 has url https://i.ytimg.com/vi/BR8Qs31Frxw/hqdefault.jpg\n",
      "https://www.google.com/search?q=Jensen%20Huang%20NVIDIA%20Corporation&tbm=isch&tbs=cdr:1,cd_min:1/1/2011,cd_max:12/31/2011\n",
      "Jensen Huang 2011\n",
      "hover start\n",
      "hover done\n",
      "Found 100 potential image elements\n"
     ]
    },
    {
     "name": "stderr",
     "output_type": "stream",
     "text": [
      "Scraping:   3%|▉                             | 22/680 [03:10<1:37:50,  8.92s/it]"
     ]
    },
    {
     "name": "stdout",
     "output_type": "stream",
     "text": [
      "element 0 has url https://nvidianews.nvidia.com/_gallery/get_file/?file_id=5449df35f6091d4c6e0000a8\n",
      "element 1 has url https://i.ytimg.com/vi/FM2otr3jKJk/hqdefault.jpg\n",
      "element 2 has url https://www.hpcwire.com/wp-content/uploads/2013/12/huang-120x160.jpg\n",
      "element 3 has url https://nvidianews.nvidia.com/_gallery/get_file/?file_id=5449e059f6091d4c6e0000ba\n",
      "https://www.google.com/search?q=Jensen%20Huang%20NVIDIA%20Corporation&tbm=isch&tbs=cdr:1,cd_min:1/1/2012,cd_max:12/31/2012\n",
      "Jensen Huang 2012\n",
      "hover start\n",
      "hover done\n",
      "Found 100 potential image elements\n"
     ]
    },
    {
     "name": "stderr",
     "output_type": "stream",
     "text": [
      "Scraping:   3%|█                             | 23/680 [03:19<1:38:31,  9.00s/it]"
     ]
    },
    {
     "name": "stdout",
     "output_type": "stream",
     "text": [
      "element 0 has url https://media.npr.org/assets/img/2012/02/20/nvidia-huang-ap090108021362-8030d24fd73d03783bf844aaf6be8af4b319c499.jpg\n",
      "element 1 has url https://m.wsj.net/video/20110109/010711atdhuang/010711atdhuang_640x360.jpg\n",
      "element 2 has url https://i.ytimg.com/vi/Xn1EsFe7snQ/mqdefault.jpg\n",
      "element 3 has url https://i.ytimg.com/vi/XmlyGgH3Xnw/mqdefault.jpg\n",
      "https://www.google.com/search?q=Jensen%20Huang%20NVIDIA%20Corporation&tbm=isch&tbs=cdr:1,cd_min:1/1/2013,cd_max:12/31/2013\n",
      "Jensen Huang 2013\n",
      "hover start\n",
      "hover done\n",
      "Found 99 potential image elements\n"
     ]
    },
    {
     "name": "stderr",
     "output_type": "stream",
     "text": [
      "Scraping:   4%|█                             | 24/680 [03:28<1:37:47,  8.94s/it]"
     ]
    },
    {
     "name": "stdout",
     "output_type": "stream",
     "text": [
      "element 0 has url https://www.eetimes.com/wp-content/uploads/media-1073950-huang.gif\n",
      "element 1 has url https://i.ytimg.com/vi/yU3GUHDf0mk/hqdefault.jpg\n",
      "element 2 has url https://i.ytimg.com/vi/45YGqwT7OeI/hqdefault.jpg\n",
      "element 3 has url https://i.ytimg.com/vi/OpKI2Wwkxpo/maxresdefault.jpg\n",
      "https://www.google.com/search?q=Jensen%20Huang%20NVIDIA%20Corporation&tbm=isch&tbs=cdr:1,cd_min:1/1/2014,cd_max:12/31/2014\n",
      "Jensen Huang 2014\n",
      "hover start\n",
      "hover done\n",
      "Found 100 potential image elements\n"
     ]
    },
    {
     "name": "stderr",
     "output_type": "stream",
     "text": [
      "Scraping:   4%|█                             | 25/680 [03:37<1:37:17,  8.91s/it]"
     ]
    },
    {
     "name": "stdout",
     "output_type": "stream",
     "text": [
      "element 0 has url https://www.nvidia.com/content/dam/en-zz/Solutions/about-nvidia/management-team/jensen-huang.jpg\n",
      "element 1 has url http://www.kitguru.net/wp-content/uploads/2015/02/nvidia_geforce_gtx_titan_z_huang.png\n",
      "element 2 has url https://i.ytimg.com/vi/yU3GUHDf0mk/mqdefault.jpg\n",
      "element 3 has url https://www.nvidia.com/content/dam/en-zz/zh_tw/newsroom/JHH-headshot_s.jpg\n",
      "https://www.google.com/search?q=Jensen%20Huang%20NVIDIA%20Corporation&tbm=isch&tbs=cdr:1,cd_min:1/1/2015,cd_max:12/31/2015\n",
      "Jensen Huang 2015\n",
      "hover start\n",
      "hover done\n",
      "Found 99 potential image elements\n"
     ]
    },
    {
     "name": "stderr",
     "output_type": "stream",
     "text": [
      "Scraping:   4%|█▏                            | 26/680 [03:45<1:36:51,  8.89s/it]"
     ]
    },
    {
     "name": "stdout",
     "output_type": "stream",
     "text": [
      "element 0 has url https://images.anandtech.com/reviews/video/insidegraphics/jenhsuntopten.jpg\n",
      "element 1 has url https://blogs.nvidia.co.jp/wp-content/uploads/sites/11/2015/10/jen-hsun-huang-harvard-business-review_jp.jpg\n",
      "element 2 has url https://www.insidermonkey.com/blog/wp-content/uploads/2015/03/NVDA_Shield_Grid.png\n",
      "element 3 has url https://m.wsj.net/video/20150417/142015kimwongidea/142015kimwongidea_512x288.jpg\n",
      "https://www.google.com/search?q=Jensen%20Huang%20NVIDIA%20Corporation&tbm=isch&tbs=cdr:1,cd_min:1/1/2016,cd_max:12/31/2016\n",
      "Jensen Huang 2016\n",
      "hover start\n",
      "hover done\n",
      "Found 100 potential image elements\n"
     ]
    },
    {
     "name": "stderr",
     "output_type": "stream",
     "text": [
      "Scraping:   4%|█▏                            | 27/680 [03:55<1:37:56,  9.00s/it]"
     ]
    },
    {
     "name": "stdout",
     "output_type": "stream",
     "text": [
      "element 0 has url https://www.nvidia.com/content/dam/en-zz/Solutions/about-nvidia/board-of-directors/jensen-huang.jpg\n",
      "element 1 has url https://xtb.scdn5.secure.raxcdn.com/postContentImage/0102/92/a24ef0a7-e414-4dbf-a06e-48f3660bdbea/nvidia-1.jpg\n",
      "element 2 has url https://fortune.com/img-assets/wp-content/uploads/2016/03/art03-15_a.jpg\n",
      "element 3 has url https://devdiscourse.blob.core.windows.net/devnews/10_03_2021_14_17_14_0277837.jpg\n",
      "https://www.google.com/search?q=Jensen%20Huang%20NVIDIA%20Corporation&tbm=isch&tbs=cdr:1,cd_min:1/1/2017,cd_max:12/31/2017\n",
      "Jensen Huang 2017\n",
      "hover start\n",
      "hover done\n",
      "Found 100 potential image elements\n"
     ]
    },
    {
     "name": "stderr",
     "output_type": "stream",
     "text": [
      "Scraping:   4%|█▏                            | 28/680 [04:04<1:37:27,  8.97s/it]"
     ]
    },
    {
     "name": "stdout",
     "output_type": "stream",
     "text": [
      "element 0 has url https://s.marketwatch.com/public/resources/images/MW-FD034_nvidia_ZG_20170103213924.jpg\n",
      "element 1 has url https://pic1.calcalist.co.il/PicServer3/2017/05/10/724414/24_l.jpg\n",
      "element 2 has url https://stvp.stanford.edu/wp-content/uploads/sites/3/2017/10/0_axpku748-2.jpg\n",
      "element 3 has url https://d1lss44hh2trtw.cloudfront.net/assets/editorial/2018/08/who-is-jensen-haung-nvidia-ceo-co-founder.jpg\n",
      "https://www.google.com/search?q=Jensen%20Huang%20NVIDIA%20Corporation&tbm=isch&tbs=cdr:1,cd_min:1/1/2018,cd_max:12/31/2018\n",
      "Jensen Huang 2018\n",
      "hover start\n",
      "hover done\n",
      "Found 100 potential image elements\n"
     ]
    },
    {
     "name": "stderr",
     "output_type": "stream",
     "text": [
      "Scraping:   4%|█▎                            | 29/680 [04:12<1:36:37,  8.91s/it]"
     ]
    },
    {
     "name": "stdout",
     "output_type": "stream",
     "text": [
      "element 0 has url https://stvp.stanford.edu/wp-content/uploads/sites/3/2018/09/Huang_Jensen_eCorner_Contributor_Cropped.jpg\n",
      "element 1 has url https://s.wsj.net/public/resources/images/ON-CK634_Nvidia_M_20180209100217.jpg\n",
      "element 2 has url https://cdn.mos.cms.futurecdn.net/UhqwyvNRp86wRWMUYuzDNj.jpg\n",
      "element 3 has url https://s.wsj.net/public/resources/images/BN-WW751_Nvidia_G_20180108090514.jpg\n",
      "https://www.google.com/search?q=Jensen%20Huang%20NVIDIA%20Corporation&tbm=isch&tbs=cdr:1,cd_min:1/1/2019,cd_max:12/31/2019\n",
      "Jensen Huang 2019\n",
      "hover start\n",
      "hover done\n",
      "Found 100 potential image elements\n"
     ]
    },
    {
     "name": "stderr",
     "output_type": "stream",
     "text": [
      "Scraping:   4%|█▎                            | 30/680 [04:22<1:37:22,  8.99s/it]"
     ]
    },
    {
     "name": "stdout",
     "output_type": "stream",
     "text": [
      "element 0 has url https://nvidianews.nvidia.com/_gallery/get_file/?file_id=5c5886162cfac2725782744f\n",
      "element 1 has url https://s3.amazonaws.com/cms.ipressroom.com/219/files/201902/5c584663ed6ae54702e2cc5f_4ea4efc3-3488-41ab-8fed-efd7a2bc7b3/4ea4efc3-3488-41ab-8fed-efd7a2bc7b3_9fba1682-a064-45ec-a989-b7b3a591f476-prv.jpg\n",
      "element 2 has url https://nvidianews.nvidia.com/_gallery/get_file/?file_id=5c584663ed6ae54702e2cc5f\n",
      "element 3 has url https://resource.globenewswire.com/media/4ea4efc3-3488-41ab-8fed-efd7a2bc7b3b/medium/nvidia-gtc-2019.jpg\n",
      "https://www.google.com/search?q=Scott%20A.%20McGregor%20Broadcom%20Inc.&tbm=isch&tbs=cdr:1,cd_min:1/1/2010,cd_max:12/31/2010\n",
      "Scott A. McGregor 2010\n",
      "hover start\n",
      "hover done\n",
      "Found 100 potential image elements\n"
     ]
    },
    {
     "name": "stderr",
     "output_type": "stream",
     "text": [
      "Scraping:   5%|█▎                            | 31/680 [04:30<1:36:25,  8.91s/it]"
     ]
    },
    {
     "name": "stdout",
     "output_type": "stream",
     "text": [
      "element 0 has url https://upload.wikimedia.org/wikipedia/commons/4/47/Broadcom_logo_%281991-2016%29.svg\n",
      "element 1 has url https://www.sec.gov/Archives/edgar/data/1054374/000095012310031519/a55016a5501607.gif\n",
      "element 2 has url https://www.sec.gov/Archives/edgar/data/1054374/000095012310031519/a55016a5501601.gif\n",
      "element 3 has url https://www.sec.gov/Archives/edgar/data/1054374/000095012310031519/a55016a5501604.gif\n",
      "https://www.google.com/search?q=Scott%20A.%20McGregor%20Broadcom%20Inc.&tbm=isch&tbs=cdr:1,cd_min:1/1/2011,cd_max:12/31/2011\n",
      "Scott A. McGregor 2011\n",
      "hover start\n",
      "hover done\n",
      "Found 25 potential image elements\n"
     ]
    },
    {
     "name": "stderr",
     "output_type": "stream",
     "text": [
      "Scraping:   5%|█▍                            | 32/680 [04:39<1:35:13,  8.82s/it]"
     ]
    },
    {
     "name": "stdout",
     "output_type": "stream",
     "text": [
      "element 0 has url https://www.sec.gov/Archives/edgar/data/1135711/000095012311083854/v60106a60105z0061.gif\n",
      "element 1 has url https://upload.wikimedia.org/wikipedia/commons/thumb/b/b7/Broadcomheadquarters.jpg/250px-Broadcomheadquarters.jpg\n",
      "element 2 has url https://www.sec.gov/Archives/edgar/data/1135711/000095012311083854/v60106a60105z0036.gif\n",
      "element 3 has url https://www.sec.gov/Archives/edgar/data/1135711/000095012311083854/v60106a60105z0037.gif\n",
      "https://www.google.com/search?q=Scott%20A.%20McGregor%20Broadcom%20Inc.&tbm=isch&tbs=cdr:1,cd_min:1/1/2012,cd_max:12/31/2012\n",
      "Scott A. McGregor 2012\n",
      "hover start\n",
      "hover done\n",
      "Found 100 potential image elements\n"
     ]
    },
    {
     "name": "stderr",
     "output_type": "stream",
     "text": [
      "Scraping:   5%|█▍                            | 33/680 [04:48<1:35:01,  8.81s/it]"
     ]
    },
    {
     "name": "stdout",
     "output_type": "stream",
     "text": [
      "element 0 has url https://i.ytimg.com/vi/3kSozkSDriI/hqdefault.jpg\n",
      "element 1 has url https://m.wsj.net/video/20110912/091211yossivardi/091211yossivardi_1280x720.jpg\n",
      "element 2 has url https://www.sec.gov/Archives/edgar/data/1135711/000119312511276443/g239215g36h77.jpg\n",
      "element 3 has url https://www.sec.gov/Archives/edgar/data/1649338/000119312515329920/g949371g61i37.jpg\n",
      "https://www.google.com/search?q=Scott%20A.%20McGregor%20Broadcom%20Inc.&tbm=isch&tbs=cdr:1,cd_min:1/1/2013,cd_max:12/31/2013\n",
      "Scott A. McGregor 2013\n",
      "hover start\n",
      "hover done\n",
      "Found 100 potential image elements\n"
     ]
    },
    {
     "name": "stderr",
     "output_type": "stream",
     "text": [
      "Scraping:   5%|█▌                            | 34/680 [04:56<1:34:49,  8.81s/it]"
     ]
    },
    {
     "name": "stdout",
     "output_type": "stream",
     "text": [
      "element 0 has url https://i.ytimg.com/vi/3kSozkSDriI/maxresdefault.jpg\n",
      "element 1 has url https://www.snexplores.org/wp-content/uploads/2019/11/society_opener_broadcom-2013.jpg\n",
      "element 2 has url https://materials.proxyvote.com/Approved/111320/20130318/NPS_160637/html/index003.jpeg\n",
      "element 3 has url https://i.ytimg.com/vi/twDfSogk1Tg/maxresdefault.jpg\n",
      "https://www.google.com/search?q=Scott%20A.%20McGregor%20Broadcom%20Inc.&tbm=isch&tbs=cdr:1,cd_min:1/1/2014,cd_max:12/31/2014\n",
      "Scott A. McGregor 2014\n",
      "hover start\n",
      "hover done\n",
      "Found 100 potential image elements\n"
     ]
    },
    {
     "name": "stderr",
     "output_type": "stream",
     "text": [
      "Scraping:   5%|█▌                            | 35/680 [05:05<1:34:36,  8.80s/it]"
     ]
    },
    {
     "name": "stdout",
     "output_type": "stream",
     "text": [
      "element 0 has url https://upload.wikimedia.org/wikipedia/commons/0/0e/Scott_A._McGregor_2012.jpg\n",
      "element 1 has url https://static01.nyt.com/images/2014/09/27/technology/27bits/27bits-articleInline.jpg\n",
      "element 2 has url https://static01.nyt.com/images/2014/09/27/technology/27bits/27bits-videoSixteenByNine600.jpg\n",
      "element 3 has url https://i.ytimg.com/vi/3kSozkSDriI/sddefault.jpg\n",
      "https://www.google.com/search?q=Scott%20A.%20McGregor%20Broadcom%20Inc.&tbm=isch&tbs=cdr:1,cd_min:1/1/2015,cd_max:12/31/2015\n",
      "Scott A. McGregor 2015\n",
      "hover start\n",
      "hover done\n",
      "Found 100 potential image elements\n"
     ]
    },
    {
     "name": "stderr",
     "output_type": "stream",
     "text": [
      "Scraping:   5%|█▌                            | 36/680 [05:14<1:34:46,  8.83s/it]"
     ]
    },
    {
     "name": "stdout",
     "output_type": "stream",
     "text": [
      "element 0 has url https://www.eetimes.com/wp-content/uploads/images-eetimes-2015-01-1325250-mcgregor-366.png\n",
      "element 1 has url https://s.wsj.net/public/resources/images/P1-BT842_BROADC_M_20150527195702.jpg\n",
      "element 2 has url https://xtech.nikkei.com/dm/article/MAG/20150707/426705/zu1.JPG\n",
      "element 3 has url https://assets.bwbx.io/images/users/iqjWHBFdfxIU/iFSQTrKdreFI/v237/-1x-1.jpg\n",
      "https://www.google.com/search?q=Hock%20Tan%20Broadcom%20Inc.&tbm=isch&tbs=cdr:1,cd_min:1/1/2016,cd_max:12/31/2016\n",
      "Hock Tan 2016\n",
      "hover start\n",
      "hover done\n",
      "Found 100 potential image elements\n"
     ]
    },
    {
     "name": "stderr",
     "output_type": "stream",
     "text": [
      "Scraping:   5%|█▋                            | 37/680 [05:23<1:35:36,  8.92s/it]"
     ]
    },
    {
     "name": "stdout",
     "output_type": "stream",
     "text": [
      "element 0 has url https://s.wsj.net/public/resources/images/BN-IQ631_avagoj_GR_20150528195539.jpg\n",
      "element 1 has url http://www.vanillaplus.com/wp-content/uploads/2016/11/CL-HockTan.jpg\n",
      "element 2 has url https://pbs.twimg.com/profile_images/784468765027110912/tavuddvl_400x400.jpg\n",
      "element 3 has url https://image4.owler.com/ceo/hock-e-_tan_owler_20160223_101150_original.jpg\n",
      "https://www.google.com/search?q=Hock%20Tan%20Broadcom%20Inc.&tbm=isch&tbs=cdr:1,cd_min:1/1/2017,cd_max:12/31/2017\n",
      "Hock Tan 2017\n",
      "hover start\n",
      "hover done\n",
      "Found 100 potential image elements\n"
     ]
    },
    {
     "name": "stderr",
     "output_type": "stream",
     "text": [
      "Scraping:   6%|█▋                            | 38/680 [05:32<1:34:43,  8.85s/it]"
     ]
    },
    {
     "name": "stdout",
     "output_type": "stream",
     "text": [
      "element 0 has url https://fortune.com/img-assets/wp-content/uploads/2017/11/gettyimages-869435532.jpg\n",
      "element 1 has url https://news.mit.edu/sites/default/files/images/201702/Tan-Yang-MIT-McGovern-Autism-Research-Center.jpg.jpeg\n",
      "element 2 has url https://assets.nst.com.my/images/articles/broad_03_1509719055.jpg\n",
      "element 3 has url https://www.eetimes.com/wp-content/uploads/2017/11/HockTan2.jpg\n",
      "https://www.google.com/search?q=Hock%20Tan%20Broadcom%20Inc.&tbm=isch&tbs=cdr:1,cd_min:1/1/2018,cd_max:12/31/2018\n",
      "Hock Tan 2018\n",
      "hover start\n",
      "hover done\n",
      "Found 100 potential image elements\n"
     ]
    },
    {
     "name": "stderr",
     "output_type": "stream",
     "text": [
      "Scraping:   6%|█▋                            | 39/680 [05:41<1:34:25,  8.84s/it]"
     ]
    },
    {
     "name": "stdout",
     "output_type": "stream",
     "text": [
      "element 0 has url https://s.wsj.net/public/resources/images/BN-XD811_HOCKTA_M_20180124173515.jpg\n",
      "element 1 has url https://s.wsj.net/public/resources/images/ON-CP342_Broadc_D_20180712105640.jpg\n",
      "element 2 has url https://archive-images.prod.global.a201836.reutersmedia.net/2018/07/12/LYNXMPEE6B1HY.JPG\n",
      "element 3 has url https://s.wsj.net/public/resources/images/BN-XK969_HockTa_G_20180212095900.jpg\n",
      "https://www.google.com/search?q=Hock%20Tan%20Broadcom%20Inc.&tbm=isch&tbs=cdr:1,cd_min:1/1/2019,cd_max:12/31/2019\n",
      "Hock Tan 2019\n",
      "hover start\n",
      "hover done\n",
      "Found 100 potential image elements\n"
     ]
    },
    {
     "name": "stderr",
     "output_type": "stream",
     "text": [
      "Scraping:   6%|█▊                            | 40/680 [05:50<1:34:54,  8.90s/it]"
     ]
    },
    {
     "name": "stdout",
     "output_type": "stream",
     "text": [
      "element 0 has url https://i0.wp.com/eetimes.com/wp-content/uploads/Hock-Tan-Broadcom-w-cap.jpg?w=640&ssl=1\n",
      "element 1 has url https://static01.nyt.com/images/2018/03/07/business/07BROADCOM1/merlin_133783392_70ca3842-2c76-4e78-a573-6025b0593b4f-superJumbo.jpg\n",
      "element 2 has url https://i0.wp.com/eetimes.com/wp-content/uploads/Trump_Hock_Tan400_1509680809.jpg?w=640&ssl=1\n",
      "element 3 has url https://apicms.thestar.com.my/uploads/images/2019/08/09/203131.jpg\n",
      "https://www.google.com/search?q=Shantanu%20Narayen%20Adobe%20Inc.&tbm=isch&tbs=cdr:1,cd_min:1/1/2010,cd_max:12/31/2010\n",
      "Shantanu Narayen 2010\n",
      "hover start\n",
      "hover done\n",
      "Found 100 potential image elements\n"
     ]
    },
    {
     "name": "stderr",
     "output_type": "stream",
     "text": [
      "Scraping:   6%|█▊                            | 41/680 [05:58<1:34:08,  8.84s/it]"
     ]
    },
    {
     "name": "stdout",
     "output_type": "stream",
     "text": [
      "element 0 has url https://www.nab.org/documents/newsRoom/photos/Shantanu_Narayen_hi.jpg\n",
      "element 1 has url https://www.telegraph.co.uk/multimedia/archive/01696/adobe_1696669c.jpg\n",
      "element 2 has url https://149359564.v2.pressablecdn.com/wp-content/uploads/2010/08/100816_narayen.jpg\n",
      "element 3 has url https://venturebeat.com/wp-content/uploads/2010/08/shantanunarayen1.jpg\n",
      "https://www.google.com/search?q=Shantanu%20Narayen%20Adobe%20Inc.&tbm=isch&tbs=cdr:1,cd_min:1/1/2011,cd_max:12/31/2011\n",
      "Shantanu Narayen 2011\n",
      "hover start\n",
      "hover done\n",
      "Found 99 potential image elements\n"
     ]
    },
    {
     "name": "stderr",
     "output_type": "stream",
     "text": [
      "Scraping:   6%|█▊                            | 42/680 [06:07<1:33:32,  8.80s/it]"
     ]
    },
    {
     "name": "stdout",
     "output_type": "stream",
     "text": [
      "element 0 has url https://corporate-executives.com/wp-content/uploads/2016/02/Shantanu-Narayen.jpg\n",
      "element 1 has url https://akm-img-a-in.tosshub.com/businesstoday/images/story/201103/shantanu-narayen-adobe_325_031111010754.jpg\n",
      "element 2 has url https://www.cultofmac.com/wp-content/uploads/2010/08/Shantanu-Adobe-CEO.jpg\n",
      "element 3 has url https://upload.wikimedia.org/wikipedia/commons/7/7b/Adobe_CEO_Shantanu_Narayen.jpg\n",
      "https://www.google.com/search?q=Shantanu%20Narayen%20Adobe%20Inc.&tbm=isch&tbs=cdr:1,cd_min:1/1/2012,cd_max:12/31/2012\n",
      "Shantanu Narayen 2012\n",
      "hover start\n",
      "hover done\n",
      "Found 99 potential image elements\n"
     ]
    },
    {
     "name": "stderr",
     "output_type": "stream",
     "text": [
      "Scraping:   6%|█▉                            | 43/680 [06:16<1:33:39,  8.82s/it]"
     ]
    },
    {
     "name": "stdout",
     "output_type": "stream",
     "text": [
      "element 0 has url https://static.wikia.nocookie.net/adobe/images/9/97/Shantanu_Narayen_photo_2012.jpg/revision/latest?cb=20191108224617\n",
      "element 1 has url https://m.wsj.net/video/20121024/102312viewpointswestfull1/102312viewpointswestfull1_512x288.jpg\n",
      "element 2 has url https://upload.wikimedia.org/wikipedia/commons/thumb/7/7b/Adobe_CEO_Shantanu_Narayen.jpg/220px-Adobe_CEO_Shantanu_Narayen.jpg\n",
      "element 3 has url https://i.ytimg.com/vi/z091ANUH4Fw/hqdefault.jpg\n",
      "https://www.google.com/search?q=Shantanu%20Narayen%20Adobe%20Inc.&tbm=isch&tbs=cdr:1,cd_min:1/1/2013,cd_max:12/31/2013\n",
      "Shantanu Narayen 2013\n",
      "hover start\n",
      "hover done\n",
      "Found 99 potential image elements\n"
     ]
    },
    {
     "name": "stderr",
     "output_type": "stream",
     "text": [
      "Scraping:   6%|█▉                            | 44/680 [06:25<1:33:02,  8.78s/it]"
     ]
    },
    {
     "name": "stdout",
     "output_type": "stream",
     "text": [
      "element 0 has url https://obamawhitehouse.archives.gov/sites/default/files/image/shantanu-narayen.jpg\n",
      "element 1 has url http://m.wsj.net/video/20130222/022113binter_narayen5/022113binter_narayen5_1280x720.jpg\n",
      "element 2 has url https://lookaside.fbsbx.com/lookaside/crawler/media/?media_id=261270330674154\n",
      "element 3 has url https://s.wsj.net/public/resources/images/BA-BC734_ceospt_KS_20130824014540.jpg\n",
      "https://www.google.com/search?q=Shantanu%20Narayen%20Adobe%20Inc.&tbm=isch&tbs=cdr:1,cd_min:1/1/2014,cd_max:12/31/2014\n",
      "Shantanu Narayen 2014\n",
      "hover start\n",
      "hover done\n",
      "Found 100 potential image elements\n"
     ]
    },
    {
     "name": "stderr",
     "output_type": "stream",
     "text": [
      "Scraping:   7%|█▉                            | 45/680 [06:33<1:32:48,  8.77s/it]"
     ]
    },
    {
     "name": "stdout",
     "output_type": "stream",
     "text": [
      "element 0 has url https://upload.wikimedia.org/wikipedia/commons/thumb/7/7b/Adobe_CEO_Shantanu_Narayen.jpg/1200px-Adobe_CEO_Shantanu_Narayen.jpg\n",
      "element 1 has url https://s.hdnux.com/photos/10/71/77/2334687/10/rawImage.jpg\n",
      "element 2 has url https://mms.businesswire.com/media/20141006006708/en/435347/5/AdobeMAX2014.jpg\n",
      "element 3 has url https://fortune.com/img-assets/wp-content/uploads/2014/06/143309391.jpg\n",
      "https://www.google.com/search?q=Shantanu%20Narayen%20Adobe%20Inc.&tbm=isch&tbs=cdr:1,cd_min:1/1/2015,cd_max:12/31/2015\n",
      "Shantanu Narayen 2015\n",
      "hover start\n",
      "hover done\n",
      "Found 100 potential image elements\n"
     ]
    },
    {
     "name": "stderr",
     "output_type": "stream",
     "text": [
      "Scraping:   7%|██                            | 46/680 [06:43<1:33:28,  8.85s/it]"
     ]
    },
    {
     "name": "stdout",
     "output_type": "stream",
     "text": [
      "element 0 has url https://blogs.perficient.com/digitaltransformation/files/2015/08/AdobeBoss-600x399.jpg\n",
      "element 1 has url https://images.successstory.com/adminimg/image_uploads/content_images/Adobe-CEO-Shantanu.jpg\n",
      "element 2 has url https://images.successstory.com/adminimg/image_uploads/content_images/Adobe-Executives-at-the-Adobe-Digital-Marketing-Summit.jpg\n",
      "element 3 has url https://dirigeants-entreprise.com/images/t5316-800-800-50.jpg\n",
      "https://www.google.com/search?q=Shantanu%20Narayen%20Adobe%20Inc.&tbm=isch&tbs=cdr:1,cd_min:1/1/2016,cd_max:12/31/2016\n",
      "Shantanu Narayen 2016\n",
      "hover start\n",
      "hover done\n",
      "Found 100 potential image elements\n"
     ]
    },
    {
     "name": "stderr",
     "output_type": "stream",
     "text": [
      "Scraping:   7%|██                            | 47/680 [06:51<1:33:27,  8.86s/it]"
     ]
    },
    {
     "name": "stdout",
     "output_type": "stream",
     "text": [
      "element 0 has url https://upload.wikimedia.org/wikipedia/commons/0/01/Shantanu_Narayen_-_the_CEO_of_Adobe_Inc.jpg\n",
      "element 1 has url https://i.ytimg.com/vi/W8lljPtxqL8/hqdefault.jpg\n",
      "element 2 has url https://bsmedia.business-standard.com/_media/bs/img/article/2016-05/11/full/1462910607-2077.jpg\n",
      "element 3 has url https://nrinewstoday.com/wp-content/uploads/2016/08/Shantanu-Narayen.jpg\n",
      "https://www.google.com/search?q=Shantanu%20Narayen%20Adobe%20Inc.&tbm=isch&tbs=cdr:1,cd_min:1/1/2017,cd_max:12/31/2017\n",
      "Shantanu Narayen 2017\n",
      "hover start\n",
      "hover done\n",
      "Found 100 potential image elements\n"
     ]
    },
    {
     "name": "stderr",
     "output_type": "stream",
     "text": [
      "Scraping:   7%|██                            | 48/680 [07:00<1:33:20,  8.86s/it]"
     ]
    },
    {
     "name": "stdout",
     "output_type": "stream",
     "text": [
      "element 0 has url https://finchannel.com/wp-content/uploads/2017/02/tech_02AdobeBoss.jpg\n",
      "element 1 has url https://www.investors.com/wp-content/uploads/2016/12/ITbioShantanu-240x300.png\n",
      "element 2 has url https://www.investors.com/wp-content/uploads/2016/12/ITBIO-adobe-123016-AP.jpg\n",
      "element 3 has url https://lookaside.fbsbx.com/lookaside/crawler/media/?media_id=10155245884386687\n",
      "https://www.google.com/search?q=Shantanu%20Narayen%20Adobe%20Inc.&tbm=isch&tbs=cdr:1,cd_min:1/1/2018,cd_max:12/31/2018\n",
      "Shantanu Narayen 2018\n",
      "hover start\n",
      "hover done\n",
      "Found 100 potential image elements\n"
     ]
    },
    {
     "name": "stderr",
     "output_type": "stream",
     "text": [
      "Scraping:   7%|██▏                           | 49/680 [07:09<1:33:32,  8.89s/it]"
     ]
    },
    {
     "name": "stdout",
     "output_type": "stream",
     "text": [
      "element 0 has url https://upload.wikimedia.org/wikipedia/commons/thumb/0/01/Shantanu_Narayen_-_the_CEO_of_Adobe_Inc.jpg/1200px-Shantanu_Narayen_-_the_CEO_of_Adobe_Inc.jpg\n",
      "element 1 has url https://www.thesoftwarereport.com/wp-content/uploads/2019/08/adobe-ceo.jpg\n",
      "element 2 has url https://m.economictimes.com/thumb/msid-65718049,width-1200,height-900,resizemode-4,imgsize-508616/shan.jpg\n",
      "element 3 has url https://americanbazaaronline.com/wp-content/uploads/2017/07/Shantanu-Narayen.jpg\n",
      "https://www.google.com/search?q=Shantanu%20Narayen%20Adobe%20Inc.&tbm=isch&tbs=cdr:1,cd_min:1/1/2019,cd_max:12/31/2019\n",
      "Shantanu Narayen 2019\n",
      "hover start\n",
      "hover done\n",
      "Found 100 potential image elements\n"
     ]
    },
    {
     "name": "stderr",
     "output_type": "stream",
     "text": [
      "Scraping:   7%|██▏                           | 50/680 [07:18<1:33:09,  8.87s/it]"
     ]
    },
    {
     "name": "stdout",
     "output_type": "stream",
     "text": [
      "element 0 has url https://www.adobe.com/content/dam/cc/en/leaders/images/Shantanu-450x650.jpg.img.jpg\n",
      "element 1 has url https://americanbazaaronline.com/wp-content/uploads/2017/07/Shantanu-Narayen-e1559510588181.jpg\n",
      "element 2 has url https://i.ytimg.com/vi/tvZ6vKKGPRY/sddefault.jpg\n",
      "element 3 has url https://www.siliconindia.com/news/newsimages/7AsUY2ki.jpg\n",
      "https://www.google.com/search?q=John%20T.%20Chambers%20Cisco%20Systems%2C%20Inc.&tbm=isch&tbs=cdr:1,cd_min:1/1/2010,cd_max:12/31/2010\n",
      "John T. Chambers 2010\n",
      "hover start\n",
      "hover done\n",
      "Found 100 potential image elements\n"
     ]
    },
    {
     "name": "stderr",
     "output_type": "stream",
     "text": [
      "Scraping:   8%|██▎                           | 51/680 [07:27<1:32:54,  8.86s/it]"
     ]
    },
    {
     "name": "stdout",
     "output_type": "stream",
     "text": [
      "element 0 has url https://upload.wikimedia.org/wikipedia/commons/d/d0/John_T._Chambers_-_World_Economic_Forum_Annual_Meeting_Davos_2010.jpg\n",
      "element 1 has url https://akm-img-a-in.tosshub.com/sites/media2/conclave/conclave/images/stories/kicker_image_250210_021629_john_chambers170.jpg\n",
      "element 2 has url https://s.wsj.net/public/resources/images/Chambers_John-EZ50104172001211758.gif\n",
      "element 3 has url https://s.wsj.net/public/resources/images/OB-JN862_CISCO0_G_20100811203059.jpg\n",
      "https://www.google.com/search?q=John%20T.%20Chambers%20Cisco%20Systems%2C%20Inc.&tbm=isch&tbs=cdr:1,cd_min:1/1/2011,cd_max:12/31/2011\n",
      "John T. Chambers 2011\n",
      "hover start\n",
      "hover done\n",
      "Found 100 potential image elements\n"
     ]
    },
    {
     "name": "stderr",
     "output_type": "stream",
     "text": [
      "Scraping:   8%|██▎                           | 52/680 [07:36<1:33:03,  8.89s/it]"
     ]
    },
    {
     "name": "stdout",
     "output_type": "stream",
     "text": [
      "element 0 has url https://fi.edu/sites/default/files/2018-01/Laureate_OldSite_JohnChambers.jpg\n",
      "element 1 has url http://wvutoday-archive.wvu.edu/resources/1/1299525158_md.jpg\n",
      "element 2 has url https://eu-images.contentstack.com/v3/assets/blt10e444bce2d36aa8/blt06898ebc8e600d5b/65269206a8b0bfeca2331117/john-chambers_0.jpg\n",
      "element 3 has url https://static.foxbusiness.com/foxbusiness.com/content/uploads/2018/02/John-Chambers-CEO-Cisco-Systems-2.jpg\n",
      "https://www.google.com/search?q=John%20T.%20Chambers%20Cisco%20Systems%2C%20Inc.&tbm=isch&tbs=cdr:1,cd_min:1/1/2012,cd_max:12/31/2012\n",
      "John T. Chambers 2012\n",
      "hover start\n",
      "hover done\n",
      "Found 100 potential image elements\n"
     ]
    },
    {
     "name": "stderr",
     "output_type": "stream",
     "text": [
      "Scraping:   8%|██▎                           | 53/680 [07:45<1:32:50,  8.88s/it]"
     ]
    },
    {
     "name": "stdout",
     "output_type": "stream",
     "text": [
      "element 0 has url https://static01.nyt.com/images/2012/12/07/business/Cisco/Cisco-articleInline.jpg\n",
      "element 1 has url https://allthingsd.com/files/2012/02/john_chambers_d5.png\n",
      "element 2 has url https://thesaigontimes.vn/Uploads/Articles/69598/b0a35_tbvtsg_1_2012_42_1.jpg\n",
      "element 3 has url https://i.ytimg.com/vi/WXPMdaOC3kk/mqdefault.jpg\n",
      "https://www.google.com/search?q=John%20T.%20Chambers%20Cisco%20Systems%2C%20Inc.&tbm=isch&tbs=cdr:1,cd_min:1/1/2013,cd_max:12/31/2013\n",
      "John T. Chambers 2013\n",
      "hover start\n",
      "hover done\n",
      "Found 100 potential image elements\n"
     ]
    },
    {
     "name": "stderr",
     "output_type": "stream",
     "text": [
      "Scraping:   8%|██▍                           | 54/680 [07:54<1:32:25,  8.86s/it]"
     ]
    },
    {
     "name": "stdout",
     "output_type": "stream",
     "text": [
      "element 0 has url https://upload.wikimedia.org/wikipedia/commons/9/94/John_T._Chambers_World_Economic_Forum_2013.jpg\n",
      "element 1 has url https://twimgs.com/nojitter/ehk/15july/chambers.jpg\n",
      "element 2 has url https://static01.nyt.com/images/2013/05/21/technology/21bits-chambers/21bits-chambers-articleInline-v2.jpg\n",
      "element 3 has url https://storage.googleapis.com/blogs-images-new/ciscoblogs/1/Screen-Shot-2013-08-12-at-4.22.02-PM.png\n",
      "https://www.google.com/search?q=John%20T.%20Chambers%20Cisco%20Systems%2C%20Inc.&tbm=isch&tbs=cdr:1,cd_min:1/1/2014,cd_max:12/31/2014\n",
      "John T. Chambers 2014\n",
      "hover start\n",
      "hover done\n",
      "Found 100 potential image elements\n"
     ]
    },
    {
     "name": "stderr",
     "output_type": "stream",
     "text": [
      "Scraping:   8%|██▍                           | 55/680 [08:03<1:33:01,  8.93s/it]"
     ]
    },
    {
     "name": "stdout",
     "output_type": "stream",
     "text": [
      "element 0 has url https://s.wsj.net/public/resources/images/RV-AO073_WOLFE__GS_20140807133821.jpg\n",
      "element 1 has url https://fortune.com/img-assets/wp-content/uploads/2014/09/14659481541_836a8912c0_k.jpg\n",
      "element 2 has url https://imageio.forbes.com/blogs-images/robertpearl/files/2014/08/670px-john_chambers_world_economic_forum_2007.jpg?format=jpg&height=600&width=1200&fit=bounds\n",
      "element 3 has url https://s11217.pcdn.co/wp-content/uploads/2014/05/chambers.jpg\n",
      "https://www.google.com/search?q=Chuck%20Robbins%20Cisco%20Systems%2C%20Inc.&tbm=isch&tbs=cdr:1,cd_min:1/1/2015,cd_max:12/31/2015\n",
      "Chuck Robbins 2015\n",
      "hover start\n",
      "hover done\n",
      "Found 100 potential image elements\n"
     ]
    },
    {
     "name": "stderr",
     "output_type": "stream",
     "text": [
      "Scraping:   8%|██▍                           | 56/680 [08:12<1:32:46,  8.92s/it]"
     ]
    },
    {
     "name": "stdout",
     "output_type": "stream",
     "text": [
      "element 0 has url https://fortune.com/img-assets/wp-content/uploads/2015/05/ap500856814980.jpg\n",
      "element 1 has url https://s.wsj.net/public/resources/images/BN-IF741_Robbin_G_20150504115145.jpg\n",
      "element 2 has url https://fortune.com/img-assets/wp-content/uploads/2015/05/chuck-robbins-lg.png\n",
      "element 3 has url https://s.marketwatch.com/public/resources/images/MW-DV664_ciscoc_ZH_20151002151521.jpg\n",
      "https://www.google.com/search?q=Chuck%20Robbins%20Cisco%20Systems%2C%20Inc.&tbm=isch&tbs=cdr:1,cd_min:1/1/2016,cd_max:12/31/2016\n",
      "Chuck Robbins 2016\n",
      "hover start\n",
      "hover done\n",
      "Found 100 potential image elements\n"
     ]
    },
    {
     "name": "stderr",
     "output_type": "stream",
     "text": [
      "Scraping:   8%|██▌                           | 57/680 [08:20<1:32:26,  8.90s/it]"
     ]
    },
    {
     "name": "stdout",
     "output_type": "stream",
     "text": [
      "element 0 has url https://www.thesoftwarereport.com/wp-content/uploads/2018/05/104166357-GettyImages-519247456.jpg\n",
      "element 1 has url https://s.wsj.net/public/resources/images/ON-BX123_CiscoS_DV_20161116185756.jpg\n",
      "element 2 has url https://s.wsj.net/public/resources/images/BN-IF741_Robbin_GR_20150504115145.jpg\n",
      "element 3 has url https://s.wsj.net/public/resources/images/ON-BX123_CiscoS_D_20161116185756.jpg\n",
      "https://www.google.com/search?q=Chuck%20Robbins%20Cisco%20Systems%2C%20Inc.&tbm=isch&tbs=cdr:1,cd_min:1/1/2017,cd_max:12/31/2017\n",
      "Chuck Robbins 2017\n",
      "hover start\n",
      "hover done\n",
      "Found 100 potential image elements\n"
     ]
    },
    {
     "name": "stderr",
     "output_type": "stream",
     "text": [
      "Scraping:   9%|██▌                           | 58/680 [08:30<1:32:57,  8.97s/it]"
     ]
    },
    {
     "name": "stdout",
     "output_type": "stream",
     "text": [
      "element 0 has url https://s.marketwatch.com/public/resources/images/MW-FJ830_robbin_ZH_20170405175039.jpg\n",
      "element 1 has url https://s.wsj.net/public/resources/images/BN-SV380_BLACKR_M_20170405155658.jpg\n",
      "element 2 has url https://assets.bwbx.io/images/users/iqjWHBFdfxIU/i7_Ga3SHg91I/v244/-1x-1.jpg\n",
      "element 3 has url https://media.bizj.us/view/img/10507994/unknown-4*1200xx4032-2268-0-378.jpg\n",
      "https://www.google.com/search?q=Chuck%20Robbins%20Cisco%20Systems%2C%20Inc.&tbm=isch&tbs=cdr:1,cd_min:1/1/2018,cd_max:12/31/2018\n",
      "Chuck Robbins 2018\n",
      "hover start\n",
      "hover done\n",
      "Found 100 potential image elements\n"
     ]
    },
    {
     "name": "stderr",
     "output_type": "stream",
     "text": [
      "Scraping:   9%|██▌                           | 59/680 [08:39<1:33:35,  9.04s/it]"
     ]
    },
    {
     "name": "stdout",
     "output_type": "stream",
     "text": [
      "element 0 has url https://newsroom.cisco.com/c/dam/r/newsroom/en/us/assets/executives/chuck-robbins/Chuck_Robbins_HiRes2.jpg\n",
      "element 1 has url https://upload.wikimedia.org/wikipedia/commons/5/59/Charles_H._Robbins.jpg\n",
      "element 2 has url https://s24.q4cdn.com/856567660/files/images/board/Chuck_Robbins1.png\n",
      "element 3 has url https://static01.nyt.com/images/2018/07/11/business/11CISCO/merlin_141071640_e645d53b-c148-423c-9168-da9531c49f1b-superJumbo.jpg\n",
      "https://www.google.com/search?q=Chuck%20Robbins%20Cisco%20Systems%2C%20Inc.&tbm=isch&tbs=cdr:1,cd_min:1/1/2019,cd_max:12/31/2019\n",
      "Chuck Robbins 2019\n",
      "hover start\n",
      "hover done\n",
      "Found 100 potential image elements\n"
     ]
    },
    {
     "name": "stderr",
     "output_type": "stream",
     "text": [
      "Scraping:   9%|██▋                           | 60/680 [08:48<1:32:56,  8.99s/it]"
     ]
    },
    {
     "name": "stdout",
     "output_type": "stream",
     "text": [
      "element 0 has url https://storage.googleapis.com/blogs-images-new/ciscoblogs/1/2022/06/chuck_robbins_portrait_thumb_400w.jpg\n",
      "element 1 has url https://s.marketwatch.com/public/resources/images/MW-HK349_cisco__ZH_20190524202926.jpg\n",
      "element 2 has url https://www.thestreet.com/.image/ar_16:9%2Cc_fill%2Ccs_srgb%2Cg_faces:center%2Cq_auto:good%2Cw_768/MTY4NjUwMzQ3OTQwNDIzMzAz/why-cisco-ceo-chuck-robbins-isnt-worried-about-the-companys-latest-earnings.png\n",
      "element 3 has url https://s.marketwatch.com/public/resources/images/MW-HJ673_CiscoC_ZG_20190515182635.jpg\n",
      "https://www.google.com/search?q=Larry%20Ellison%20Oracle%20Corporation&tbm=isch&tbs=cdr:1,cd_min:1/1/2010,cd_max:12/31/2010\n",
      "Larry Ellison 2010\n",
      "hover start\n",
      "hover done\n",
      "Found 100 potential image elements\n"
     ]
    },
    {
     "name": "stderr",
     "output_type": "stream",
     "text": [
      "Scraping:   9%|██▋                           | 61/680 [08:56<1:32:13,  8.94s/it]"
     ]
    },
    {
     "name": "stdout",
     "output_type": "stream",
     "text": [
      "element 0 has url https://upload.wikimedia.org/wikipedia/commons/6/6c/Larry_Ellison_CEO_of_Oracle_Corporation.JPG\n",
      "element 1 has url https://s.wsj.net/public/resources/images/MK-BA807_ORACLE_G_20100126180913.jpg\n",
      "element 2 has url https://s.wsj.net/public/resources/images/OB-JJ371_0726el_G_20100726175457.jpg\n",
      "element 3 has url https://scx2.b-cdn.net/gfx/news/hires/oracleceoabo.jpg\n",
      "https://www.google.com/search?q=Larry%20Ellison%20Oracle%20Corporation&tbm=isch&tbs=cdr:1,cd_min:1/1/2011,cd_max:12/31/2011\n",
      "Larry Ellison 2011\n",
      "hover start\n",
      "hover done\n",
      "Found 100 potential image elements\n"
     ]
    },
    {
     "name": "stderr",
     "output_type": "stream",
     "text": [
      "Scraping:   9%|██▋                           | 62/680 [09:05<1:31:32,  8.89s/it]"
     ]
    },
    {
     "name": "stdout",
     "output_type": "stream",
     "text": [
      "element 0 has url https://upload.wikimedia.org/wikipedia/commons/d/d9/Larry_Ellison_on_stage.jpg\n",
      "element 1 has url https://i2.cdn.turner.com/money/galleries/2011/news/1103/gallery.executive_stock_sales/images/larry_ellison.gi.jpg\n",
      "element 2 has url https://techcrunch.com/wp-content/uploads/2011/10/larry-ellison-openworld-2011-oracle-370x229.jpg\n",
      "element 3 has url https://static.wikia.nocookie.net/marvelcinematicuniverse/images/c/cc/Larry_Ellison.jpg/revision/latest?cb=20150921213928\n",
      "https://www.google.com/search?q=Larry%20Ellison%20Oracle%20Corporation&tbm=isch&tbs=cdr:1,cd_min:1/1/2012,cd_max:12/31/2012\n",
      "Larry Ellison 2012\n",
      "hover start\n",
      "hover done\n",
      "Found 100 potential image elements\n"
     ]
    },
    {
     "name": "stderr",
     "output_type": "stream",
     "text": [
      "Scraping:   9%|██▊                           | 63/680 [09:14<1:31:29,  8.90s/it]"
     ]
    },
    {
     "name": "stdout",
     "output_type": "stream",
     "text": [
      "element 0 has url https://cdn.ndtv.com/tech/gadget/image/larry-ellison.jpg\n",
      "element 1 has url https://i.dawn.com/2012/10/oracle-afp-670-x-350.jpg\n",
      "element 2 has url http://www.famous-entrepreneurs.com/images/larry-ellison.jpg\n",
      "element 3 has url https://static.wikia.nocookie.net/fsulis3267/images/6/62/Larry.jpg/revision/latest?cb=20120920115444\n",
      "https://www.google.com/search?q=Larry%20Ellison%20Oracle%20Corporation&tbm=isch&tbs=cdr:1,cd_min:1/1/2013,cd_max:12/31/2013\n",
      "Larry Ellison 2013\n",
      "hover start\n",
      "hover done\n",
      "Found 100 potential image elements\n"
     ]
    },
    {
     "name": "stderr",
     "output_type": "stream",
     "text": [
      "Scraping:   9%|██▊                           | 64/680 [09:23<1:31:20,  8.90s/it]"
     ]
    },
    {
     "name": "stdout",
     "output_type": "stream",
     "text": [
      "element 0 has url https://www.hollywoodreporter.com/wp-content/uploads/2013/08/larry_ellison_a_p.jpg\n",
      "element 1 has url https://cdn.mos.cms.futurecdn.net/JUUr5773tPkufDAhBresn9.jpg\n",
      "element 2 has url https://archive-images.prod.global.a201836.reutersmedia.net/2013/08/13/CBRE97C13GE00.JPG\n",
      "element 3 has url https://themagnumgroup.net/Blog/wp-content/uploads/2013/11/larry-ellison.jpg\n",
      "https://www.google.com/search?q=Safra%20Catz%20%26%20Mark%20Hurd%20Oracle%20Corporation&tbm=isch&tbs=cdr:1,cd_min:1/1/2014,cd_max:12/31/2014\n",
      "Safra Catz & Mark Hurd 2014\n",
      "hover start\n",
      "hover done\n",
      "Found 100 potential image elements\n"
     ]
    },
    {
     "name": "stderr",
     "output_type": "stream",
     "text": [
      "Scraping:  10%|██▊                           | 65/680 [09:32<1:31:18,  8.91s/it]"
     ]
    },
    {
     "name": "stdout",
     "output_type": "stream",
     "text": [
      "element 0 has url https://m.wsj.net/video/20140919/091914lunchoracle/091914lunchoracle_640x360.jpg\n",
      "element 1 has url https://www.domain-b.com/companies/companies_o/Oracle/images/lawrence_safra_and_mark_domain-b.jpg\n",
      "element 2 has url https://s.hdnux.com/photos/32/31/22/6919351/4/rawImage.jpg\n",
      "element 3 has url https://regmedia.co.uk/2014/12/17/hurd_n_catz.jpg\n",
      "https://www.google.com/search?q=Safra%20Catz%20%26%20Mark%20Hurd%20Oracle%20Corporation&tbm=isch&tbs=cdr:1,cd_min:1/1/2015,cd_max:12/31/2015\n",
      "Safra Catz & Mark Hurd 2015\n",
      "hover start\n",
      "hover done\n",
      "Found 100 potential image elements\n"
     ]
    },
    {
     "name": "stderr",
     "output_type": "stream",
     "text": [
      "Scraping:  10%|██▉                           | 66/680 [09:41<1:31:29,  8.94s/it]"
     ]
    },
    {
     "name": "stdout",
     "output_type": "stream",
     "text": [
      "element 0 has url https://m.wsj.net/video/20140919/091914lunchoracle/091914lunchoracle_512x288.jpg\n",
      "element 1 has url https://fortune.com/img-assets/wp-content/uploads/2014/12/456307824.jpg\n",
      "element 2 has url https://s.hdnux.com/photos/36/11/42/7903423/5/rawImage.jpg\n",
      "element 3 has url http://g.foolcdn.com/editorial/images/168369/c82-safra-2413247_large.jpg\n",
      "https://www.google.com/search?q=Safra%20Catz%20%26%20Mark%20Hurd%20Oracle%20Corporation&tbm=isch&tbs=cdr:1,cd_min:1/1/2016,cd_max:12/31/2016\n",
      "Safra Catz & Mark Hurd 2016\n",
      "hover start\n",
      "hover done\n",
      "Found 99 potential image elements\n"
     ]
    },
    {
     "name": "stderr",
     "output_type": "stream",
     "text": [
      "Scraping:  10%|██▉                           | 67/680 [09:50<1:30:57,  8.90s/it]"
     ]
    },
    {
     "name": "stdout",
     "output_type": "stream",
     "text": [
      "element 0 has url https://www.thesoftwarereport.com/wp-content/uploads/2019/07/safra-catz.jpg\n",
      "element 1 has url https://www.mercurynews.com/wp-content/uploads/2016/09/20160516__oracle-catz-05171.jpg?w=525\n",
      "element 2 has url http://cdn2.hauteliving.com/wp-content/uploads/2014/11/safra-catz_mark-hurd1.jpg\n",
      "element 3 has url http://media.bizj.us/view/img/3030611/safra-catz-oracle-cfo*1200xx3978-2238-0-390.jpg\n",
      "https://www.google.com/search?q=Safra%20Catz%20%26%20Mark%20Hurd%20Oracle%20Corporation&tbm=isch&tbs=cdr:1,cd_min:1/1/2017,cd_max:12/31/2017\n",
      "Safra Catz & Mark Hurd 2017\n",
      "hover start\n",
      "hover done\n",
      "Found 100 potential image elements\n"
     ]
    },
    {
     "name": "stderr",
     "output_type": "stream",
     "text": [
      "Scraping:  10%|███                           | 68/680 [09:59<1:31:04,  8.93s/it]"
     ]
    },
    {
     "name": "stdout",
     "output_type": "stream",
     "text": [
      "element 0 has url https://lookaside.fbsbx.com/lookaside/crawler/media/?media_id=10155469682658766\n",
      "element 1 has url http://ceos-profiles.github.io/ceo/images/Safra_Catz2.jpg\n",
      "element 2 has url https://fortune.com/img-assets/wp-content/uploads/2017/10/gettyimages-494272894.jpg\n",
      "element 3 has url https://akm-img-a-in.tosshub.com/indiatoday/images/story/201409/safracatz_htjg_650_092214030106.jpg\n",
      "https://www.google.com/search?q=Safra%20Catz%20%26%20Mark%20Hurd%20Oracle%20Corporation&tbm=isch&tbs=cdr:1,cd_min:1/1/2018,cd_max:12/31/2018\n",
      "Safra Catz & Mark Hurd 2018\n",
      "hover start\n",
      "hover done\n",
      "Found 100 potential image elements\n"
     ]
    },
    {
     "name": "stderr",
     "output_type": "stream",
     "text": [
      "Scraping:  10%|███                           | 69/680 [10:07<1:30:19,  8.87s/it]"
     ]
    },
    {
     "name": "stdout",
     "output_type": "stream",
     "text": [
      "element 0 has url https://www.techcentral.ie/wp-content/uploads/2015/05/Mark_Hurd_Oracle.jpg\n",
      "element 1 has url https://www.investors.com/wp-content/uploads/2016/06/IT18_catz_062116_newscom.jpg\n",
      "element 2 has url https://media.datacenterdynamics.com/media/images/mark-hurd-oracle.width-358.jpg\n",
      "element 3 has url https://www.ceotodaymagazine.com/wp-content/uploads/2018/02/Safra-Catz-attr-Hartmann-Studios.jpg\n",
      "https://www.google.com/search?q=Safra%20Catz%20%26%20Mark%20Hurd%20Oracle%20Corporation&tbm=isch&tbs=cdr:1,cd_min:1/1/2019,cd_max:12/31/2019\n",
      "Safra Catz & Mark Hurd 2019\n",
      "hover start\n",
      "hover done\n",
      "Found 100 potential image elements\n"
     ]
    },
    {
     "name": "stderr",
     "output_type": "stream",
     "text": [
      "Scraping:  10%|███                           | 70/680 [10:16<1:29:58,  8.85s/it]"
     ]
    },
    {
     "name": "stdout",
     "output_type": "stream",
     "text": [
      "element 0 has url https://i.insider.com/56e9935e910584145c8b69c4?width=1200&format=jpeg\n",
      "element 1 has url https://www.thesoftwarereport.com/wp-content/uploads/2019/10/mark-hurd.jpeg\n",
      "element 2 has url https://media.datacenterdynamics.com/media/images/Mark_Hurd_w_Larry_Ellison.width-358.jpg\n",
      "element 3 has url https://i.insider.com/5727668552bcd025008c02b8?width=1200&format=jpeg\n",
      "https://www.google.com/search?q=Marc%20Benioff%20Salesforce%2C%20Inc.&tbm=isch&tbs=cdr:1,cd_min:1/1/2010,cd_max:12/31/2010\n",
      "Marc Benioff 2010\n",
      "hover start\n",
      "hover done\n",
      "Found 100 potential image elements\n"
     ]
    },
    {
     "name": "stderr",
     "output_type": "stream",
     "text": [
      "Scraping:  10%|███▏                          | 71/680 [10:25<1:29:39,  8.83s/it]"
     ]
    },
    {
     "name": "stdout",
     "output_type": "stream",
     "text": [
      "element 0 has url https://media.wiley.com/product_data/coverImage300/63/04705211/0470521163.jpg\n",
      "element 1 has url https://techcrunch.com/wp-content/uploads/2010/02/benioff1.jpg\n",
      "element 2 has url https://s.wsj.net/public/resources/images/SF-AA370_Beniof_F_20100616130713.jpg\n",
      "element 3 has url https://i2.cdn.turner.com/money/galleries/2011/technology/1102/gallery.tech_philanthropy/images/marc_benioff.jpg\n",
      "https://www.google.com/search?q=Marc%20Benioff%20Salesforce%2C%20Inc.&tbm=isch&tbs=cdr:1,cd_min:1/1/2011,cd_max:12/31/2011\n",
      "Marc Benioff 2011\n",
      "hover start\n",
      "hover done\n",
      "Found 100 potential image elements\n"
     ]
    },
    {
     "name": "stderr",
     "output_type": "stream",
     "text": [
      "Scraping:  11%|███▏                          | 72/680 [10:34<1:29:14,  8.81s/it]"
     ]
    },
    {
     "name": "stdout",
     "output_type": "stream",
     "text": [
      "element 0 has url https://i.ytimg.com/vi/MN7-OADUkPw/hqdefault.jpg\n",
      "element 1 has url https://cdn.mos.cms.futurecdn.net/uRdvGQm8YaeXxdCgNSSD5W.jpg\n",
      "element 2 has url https://s.wsj.net/public/resources/images/Benioff_Marc-GC72806232004192024.gif\n",
      "element 3 has url https://ei.marketwatch.com/Multimedia/2011/10/05/Photos/ME/MW-AN143_beniof_20111005120445_ME.jpg?uuid=ce806fd6-ef6b-11e0-9cd6-002128040cf6\n",
      "https://www.google.com/search?q=Marc%20Benioff%20Salesforce%2C%20Inc.&tbm=isch&tbs=cdr:1,cd_min:1/1/2012,cd_max:12/31/2012\n",
      "Marc Benioff 2012\n",
      "hover start\n",
      "hover done\n",
      "Found 100 potential image elements\n"
     ]
    },
    {
     "name": "stderr",
     "output_type": "stream",
     "text": [
      "Scraping:  11%|███▏                          | 73/680 [10:43<1:28:45,  8.77s/it]"
     ]
    },
    {
     "name": "stdout",
     "output_type": "stream",
     "text": [
      "element 0 has url https://s.wsj.net/public/resources/images/Benioff_Marc-GC72806292003223446.gif\n",
      "element 1 has url https://www.starternoise.com/wp-content/uploads/2017/03/marc-benioff.jpg\n",
      "element 2 has url https://s.wsj.net/public/resources/images/BA-AY225_bst_ce_G_20120324004202.jpg\n",
      "element 3 has url https://www.salesforceben.com/wp-content/uploads/2016/11/7019184225_1103e6cc6a_b.jpg\n",
      "https://www.google.com/search?q=Marc%20Benioff%20Salesforce%2C%20Inc.&tbm=isch&tbs=cdr:1,cd_min:1/1/2013,cd_max:12/31/2013\n",
      "Marc Benioff 2013\n",
      "hover start\n",
      "hover done\n",
      "Found 100 potential image elements\n"
     ]
    },
    {
     "name": "stderr",
     "output_type": "stream",
     "text": [
      "Scraping:  11%|███▎                          | 74/680 [10:51<1:29:09,  8.83s/it]"
     ]
    },
    {
     "name": "stdout",
     "output_type": "stream",
     "text": [
      "element 0 has url https://bmmagazine.co.uk/wp-content/uploads/2018/01/130906111314-marc-benioff-salesforce-620xa.jpg\n",
      "element 1 has url https://s.wsj.net/public/resources/images/OB-XS186_beniof_G_20130604101023.jpg\n",
      "element 2 has url https://cdn.trendhunterstatic.com/phpthumbnails/194/194561/194561_1_468.jpeg\n",
      "element 3 has url https://techcrunch.com/wp-content/uploads/2013/09/benioff.jpg\n",
      "https://www.google.com/search?q=Marc%20Benioff%20Salesforce%2C%20Inc.&tbm=isch&tbs=cdr:1,cd_min:1/1/2014,cd_max:12/31/2014\n",
      "Marc Benioff 2014\n",
      "hover start\n",
      "hover done\n",
      "Found 100 potential image elements\n"
     ]
    },
    {
     "name": "stderr",
     "output_type": "stream",
     "text": [
      "Scraping:  11%|███▎                          | 75/680 [11:01<1:29:39,  8.89s/it]"
     ]
    },
    {
     "name": "stdout",
     "output_type": "stream",
     "text": [
      "element 0 has url https://s.wsj.net/public/resources/images/BN-BA762_0109_c_G_20140109125042.jpg\n",
      "element 1 has url https://s.wsj.net/public/resources/images/BN-FT403_1126be_M_20141126200715.jpg\n",
      "element 2 has url https://eu-images.contentstack.com/v3/assets/blt69509c9116440be8/blt15b8edee6ea0bfb8/64cb36134020f2dea244de6b/Marc-Benioff.jpg\n",
      "element 3 has url https://upload.wikimedia.org/wikipedia/commons/0/00/Marc_Benioff_2013.jpg\n",
      "https://www.google.com/search?q=Marc%20Benioff%20Salesforce%2C%20Inc.&tbm=isch&tbs=cdr:1,cd_min:1/1/2015,cd_max:12/31/2015\n",
      "Marc Benioff 2015\n",
      "hover start\n",
      "hover done\n",
      "Found 100 potential image elements\n"
     ]
    },
    {
     "name": "stderr",
     "output_type": "stream",
     "text": [
      "Scraping:  11%|███▎                          | 76/680 [11:10<1:29:49,  8.92s/it]"
     ]
    },
    {
     "name": "stdout",
     "output_type": "stream",
     "text": [
      "element 0 has url https://ww2.kqed.org/app/uploads/sites/10/2015/03/457215846.jpg\n",
      "element 1 has url https://ide.mit.edu/wp-content/uploads/2016/05/markbenioff.jpg\n",
      "element 2 has url https://s.hdnux.com/photos/25/35/57/5626843/12/rawImage.jpg\n",
      "element 3 has url https://m.wsj.net/video/20151020/102015benioff/102015benioff_640x360.jpg\n",
      "https://www.google.com/search?q=Marc%20Benioff%20Salesforce%2C%20Inc.&tbm=isch&tbs=cdr:1,cd_min:1/1/2016,cd_max:12/31/2016\n",
      "Marc Benioff 2016\n",
      "hover start\n",
      "hover done\n",
      "Found 100 potential image elements\n"
     ]
    },
    {
     "name": "stderr",
     "output_type": "stream",
     "text": [
      "Scraping:  11%|███▍                          | 77/680 [11:18<1:29:40,  8.92s/it]"
     ]
    },
    {
     "name": "stdout",
     "output_type": "stream",
     "text": [
      "element 0 has url https://s.wsj.net/public/resources/images/BN-NT440_0427be_M_20160427181219.jpg\n",
      "element 1 has url https://s.wsj.net/public/resources/images/BN-NT440_0427be_GR_20160427181219.jpg\n",
      "element 2 has url http://www.salesforce.com/content/dam/blogs/us/Aug2016/forbes2016quote.png\n",
      "element 3 has url https://s.wsj.net/public/resources/images/BN-NT440_0427be_J_20160427181219.jpg\n",
      "https://www.google.com/search?q=Marc%20Benioff%20Salesforce%2C%20Inc.&tbm=isch&tbs=cdr:1,cd_min:1/1/2017,cd_max:12/31/2017\n",
      "Marc Benioff 2017\n",
      "hover start\n",
      "hover done\n",
      "Found 100 potential image elements\n"
     ]
    },
    {
     "name": "stderr",
     "output_type": "stream",
     "text": [
      "Scraping:  11%|███▍                          | 78/680 [11:28<1:30:11,  8.99s/it]"
     ]
    },
    {
     "name": "stdout",
     "output_type": "stream",
     "text": [
      "element 0 has url https://s.wsj.net/public/resources/images/BN-NM734_SALESF_M_20160411202740.jpg\n",
      "element 1 has url https://s.marketwatch.com/public/resources/images/MW-FY906_CRM_11_ZH_20171122140435.jpg\n",
      "element 2 has url https://s.wsj.net/public/resources/images/BN-NT440_0427be_HD_20160427181219.jpg\n",
      "element 3 has url https://s.wsj.net/public/resources/images/BN-KI613_0916_c_M_20150916222558.jpg\n",
      "https://www.google.com/search?q=Marc%20Benioff%20Salesforce%2C%20Inc.&tbm=isch&tbs=cdr:1,cd_min:1/1/2018,cd_max:12/31/2018\n",
      "Marc Benioff 2018\n",
      "hover start\n",
      "hover done\n",
      "Found 100 potential image elements\n"
     ]
    },
    {
     "name": "stderr",
     "output_type": "stream",
     "text": [
      "Scraping:  12%|███▍                          | 79/680 [11:37<1:29:50,  8.97s/it]"
     ]
    },
    {
     "name": "stdout",
     "output_type": "stream",
     "text": [
      "element 0 has url https://www.salesforce.com/news/wp-content/uploads/sites/3/2020/08/boi.png\n",
      "element 1 has url https://www.salesforce.com/news/wp-content/uploads/sites/3/2020/08/benof.jpg\n",
      "element 2 has url https://static01.nyt.com/images/2018/06/17/business/18caltoday-benioff/18caltoday-benioff-superJumbo-v2.jpg\n",
      "element 3 has url https://static01.nyt.com/images/2018/09/17/business/17time1/17time1-superJumbo.jpg\n",
      "https://www.google.com/search?q=Marc%20Benioff%20Salesforce%2C%20Inc.&tbm=isch&tbs=cdr:1,cd_min:1/1/2019,cd_max:12/31/2019\n",
      "Marc Benioff 2019\n",
      "hover start\n",
      "hover done\n",
      "Found 100 potential image elements\n"
     ]
    },
    {
     "name": "stderr",
     "output_type": "stream",
     "text": [
      "Scraping:  12%|███▌                          | 80/680 [11:45<1:29:26,  8.94s/it]"
     ]
    },
    {
     "name": "stdout",
     "output_type": "stream",
     "text": [
      "element 0 has url https://s.marketwatch.com/public/resources/images/MW-HI694_MarcBe_ZH_20190502095630.jpg\n",
      "element 1 has url https://s.marketwatch.com/public/resources/images/MW-HR315_Beniof_ZG_20190914132521.jpg\n",
      "element 2 has url https://i.insider.com/55f88f89bd86ef12008ba8c1?width=800&format=jpeg&auto=webp\n",
      "element 3 has url https://techcrunch.com/wp-content/uploads/2019/10/Marc-Benioff-DSC03546.jpg\n",
      "https://www.google.com/search?q=Paul%20Otellini%20Intel%20Corporation&tbm=isch&tbs=cdr:1,cd_min:1/1/2010,cd_max:12/31/2010\n",
      "Paul Otellini 2010\n",
      "hover start\n",
      "hover done\n",
      "Found 100 potential image elements\n"
     ]
    },
    {
     "name": "stderr",
     "output_type": "stream",
     "text": [
      "Scraping:  12%|███▌                          | 81/680 [11:54<1:28:55,  8.91s/it]"
     ]
    },
    {
     "name": "stdout",
     "output_type": "stream",
     "text": [
      "element 0 has url https://i2.cdn.turner.com/money/2010/09/14/technology/intel_otellini_interview/paul_otellini_0913.top.jpg\n",
      "element 1 has url http://media.oregonlive.com/business_impact/photo/potellini-1jpg-d874eb5395c8b443_small.jpg\n",
      "element 2 has url http://s3.amazonaws.com/files.technologyreview.com/p/pub/legacy/0510-q%26ax220.jpg\n",
      "element 3 has url http://media.oregonlive.com/siliconforest/photo/8941518-large.jpg\n",
      "https://www.google.com/search?q=Paul%20Otellini%20Intel%20Corporation&tbm=isch&tbs=cdr:1,cd_min:1/1/2011,cd_max:12/31/2011\n",
      "Paul Otellini 2011\n",
      "hover start\n",
      "hover done\n",
      "Found 100 potential image elements\n"
     ]
    },
    {
     "name": "stderr",
     "output_type": "stream",
     "text": [
      "Scraping:  12%|███▌                          | 82/680 [12:03<1:28:29,  8.88s/it]"
     ]
    },
    {
     "name": "stdout",
     "output_type": "stream",
     "text": [
      "element 0 has url https://obamawhitehouse.archives.gov/sites/default/files/microsites/support-images/jobs-potellini.jpg\n",
      "element 1 has url https://i2.cdn.turner.com/money/galleries/2011/technology/1105/gallery.tech_ceo_hot_seat/images/paul-otellini.gi.jpg\n",
      "element 2 has url https://chrisbanescu.com/wp-content/uploads/2011/03/Otellini_Paul_01_240px.jpg\n",
      "element 3 has url http://s3-origin-images.politico.com/news/110217_otellineli1_522.jpg\n",
      "https://www.google.com/search?q=Paul%20Otellini%20Intel%20Corporation&tbm=isch&tbs=cdr:1,cd_min:1/1/2012,cd_max:12/31/2012\n",
      "Paul Otellini 2012\n",
      "hover start\n",
      "hover done\n",
      "Found 100 potential image elements\n"
     ]
    },
    {
     "name": "stderr",
     "output_type": "stream",
     "text": [
      "Scraping:  12%|███▋                          | 83/680 [12:12<1:28:00,  8.84s/it]"
     ]
    },
    {
     "name": "stdout",
     "output_type": "stream",
     "text": [
      "element 0 has url https://f001.backblazeb2.com/file/BIT-Magazine-Images/image-76367-2012-11-20.jpg\n",
      "element 1 has url https://scx2.b-cdn.net/gfx/news/hires/2012/intelceopaul.jpg\n",
      "element 2 has url https://allthingsd.com/files/2012/10/intel_otellini.png\n",
      "element 3 has url https://static.squarespace.com/static/5350121ee4b073dfbc7b67e4/535014d2e4b0aaf6bc8ed2d3/535014e0e4b0aaf6bc8f0a17/1353334484777/1000w/intel-ceo-paul-otellini-to-step-down-in-may.jpeg\n",
      "https://www.google.com/search?q=Brian%20Krzanich%20Intel%20Corporation&tbm=isch&tbs=cdr:1,cd_min:1/1/2013,cd_max:12/31/2013\n",
      "Brian Krzanich 2013\n",
      "hover start\n",
      "hover done\n",
      "Found 100 potential image elements\n"
     ]
    },
    {
     "name": "stderr",
     "output_type": "stream",
     "text": [
      "Scraping:  12%|███▋                          | 84/680 [12:21<1:27:37,  8.82s/it]"
     ]
    },
    {
     "name": "stdout",
     "output_type": "stream",
     "text": [
      "element 0 has url https://corporate-executives.com/wp-content/uploads/2015/10/Intel-CEO-Brian-Krzanich-delivers-his-keynote-Mobilizing-Intel-at-the-Intel-Developer-Forum-in-San-Francisco..jpg\n",
      "element 1 has url https://cdn.wccftech.com/wp-content/uploads/2018/01/Intel-CEO.jpg\n",
      "element 2 has url https://cdn.mos.cms.futurecdn.net/SKrKBeHeNikusSS7ig7pGn.jpg\n",
      "element 3 has url https://static.foxbusiness.com/foxbusiness.com/content/uploads/2018/02/2013-05-21T162846Z_1_CBRE94K19S600_3_INTEL-KRZANICH.jpg\n",
      "https://www.google.com/search?q=Brian%20Krzanich%20Intel%20Corporation&tbm=isch&tbs=cdr:1,cd_min:1/1/2014,cd_max:12/31/2014\n",
      "Brian Krzanich 2014\n",
      "hover start\n",
      "hover done\n",
      "Found 100 potential image elements\n"
     ]
    },
    {
     "name": "stderr",
     "output_type": "stream",
     "text": [
      "Scraping:  12%|███▊                          | 85/680 [12:29<1:27:26,  8.82s/it]"
     ]
    },
    {
     "name": "stdout",
     "output_type": "stream",
     "text": [
      "element 0 has url https://mms.businesswire.com/media/20141022005901/en/437649/5/SUPA1676.jpg\n",
      "element 1 has url https://media.bizj.us/view/img/2028521/krzanichkeynote05*1200xx1200-675-0-63.png\n",
      "element 2 has url https://upload.wikimedia.org/wikipedia/commons/0/08/Brian_Krzanich%2C_Intel_Chief_Executive_Officer.jpg\n",
      "element 3 has url https://pbs.twimg.com/profile_images/420211120960335872/x5SdNvXB_400x400.jpeg\n",
      "https://www.google.com/search?q=Brian%20Krzanich%20Intel%20Corporation&tbm=isch&tbs=cdr:1,cd_min:1/1/2015,cd_max:12/31/2015\n",
      "Brian Krzanich 2015\n",
      "hover start\n",
      "hover done\n",
      "Found 100 potential image elements\n"
     ]
    },
    {
     "name": "stderr",
     "output_type": "stream",
     "text": [
      "Scraping:  13%|███▊                          | 86/680 [12:38<1:27:52,  8.88s/it]"
     ]
    },
    {
     "name": "stdout",
     "output_type": "stream",
     "text": [
      "element 0 has url https://s.wsj.net/public/resources/images/BN-HQ561_0330ci_G_20150330080003.jpg\n",
      "element 1 has url https://i.ytimg.com/vi/x6a3tKOwN7A/maxresdefault.jpg\n",
      "element 2 has url https://mms.businesswire.com/media/20150106006877/en/447878/5/Brian_Krzanich_holds_the_Intel_Curie_button_sized_prototype.jpg\n",
      "element 3 has url https://www.on-sitemag.com/wp-content/uploads/2016/01/Brian-M.-Krzanich-CEO-Intel-Corporation.jpg\n",
      "https://www.google.com/search?q=Brian%20Krzanich%20Intel%20Corporation&tbm=isch&tbs=cdr:1,cd_min:1/1/2016,cd_max:12/31/2016\n",
      "Brian Krzanich 2016\n",
      "hover start\n",
      "hover done\n",
      "Found 100 potential image elements\n"
     ]
    },
    {
     "name": "stderr",
     "output_type": "stream",
     "text": [
      "Scraping:  13%|███▊                          | 87/680 [12:47<1:27:49,  8.89s/it]"
     ]
    },
    {
     "name": "stdout",
     "output_type": "stream",
     "text": [
      "element 0 has url https://d15shllkswkct0.cloudfront.net/wp-content/blogs.dir/1/files/2018/11/krzanich1-idf16.jpg\n",
      "element 1 has url https://www.silicon.co.uk/wp-content/uploads/2013/05/brian-krzanich_1-600x561.jpg\n",
      "element 2 has url https://s.wsj.net/public/resources/images/BN-NS721_0426in_M_20160426151656.jpg\n",
      "element 3 has url https://www.techspot.com/images2/news/bigimage/2018/06/2018-06-21-image-10.jpg\n",
      "https://www.google.com/search?q=Brian%20Krzanich%20Intel%20Corporation&tbm=isch&tbs=cdr:1,cd_min:1/1/2017,cd_max:12/31/2017\n",
      "Brian Krzanich 2017\n",
      "hover start\n",
      "hover done\n",
      "Found 100 potential image elements\n"
     ]
    },
    {
     "name": "stderr",
     "output_type": "stream",
     "text": [
      "Scraping:  13%|███▉                          | 88/680 [12:56<1:28:19,  8.95s/it]"
     ]
    },
    {
     "name": "stdout",
     "output_type": "stream",
     "text": [
      "element 0 has url https://upload.wikimedia.org/wikipedia/commons/0/08/Brian_Krzanich.jpg\n",
      "element 1 has url https://www.pioneeringminds.com/wp-content/uploads/2017/10/Brian-Krzanich--e1508776158899.jpg\n",
      "element 2 has url https://corporate-executives.com/wp-content/uploads/2015/10/Intel-CEO-Brian-Krzanich-delivers-his-keynote-Mobilizing-Intel-at-the-Intel-Developer-Forum-in-San-Francisco.-620x350.jpg\n",
      "element 3 has url https://s.marketwatch.com/public/resources/images/MW-FE472_intel0_ZH_20170125203729.jpg\n",
      "https://www.google.com/search?q=Bob%20Swan%20Intel%20Corporation&tbm=isch&tbs=cdr:1,cd_min:1/1/2018,cd_max:12/31/2018\n",
      "Bob Swan 2018\n",
      "hover start\n",
      "hover done\n",
      "Found 100 potential image elements\n"
     ]
    },
    {
     "name": "stderr",
     "output_type": "stream",
     "text": [
      "Scraping:  13%|███▉                          | 89/680 [13:05<1:28:16,  8.96s/it]"
     ]
    },
    {
     "name": "stdout",
     "output_type": "stream",
     "text": [
      "element 0 has url https://s.wsj.net/public/resources/images/BN-XG837_IntelC_G_20180201114541.jpg\n",
      "element 1 has url https://s.wsj.net/public/resources/images/ON-CK401_IntelC_DV_20180201114701.jpg\n",
      "element 2 has url https://techcrunch.com/wp-content/uploads/2018/06/Bob-Swan-intel.jpg\n",
      "element 3 has url https://media.licdn.com/dms/image/v2/C4E03AQGz2NiW0-CSlA/profile-displayphoto-shrink_200_200/profile-displayphoto-shrink_200_200/0/1517749361768?e=2147483647&v=beta&t=-FRLp8v9uzpdo9BiSYNZzIPqVjf_yloizSGLjzrYnxA\n",
      "https://www.google.com/search?q=Bob%20Swan%20Intel%20Corporation&tbm=isch&tbs=cdr:1,cd_min:1/1/2019,cd_max:12/31/2019\n",
      "Bob Swan 2019\n",
      "hover start\n",
      "hover done\n",
      "Found 100 potential image elements\n"
     ]
    },
    {
     "name": "stderr",
     "output_type": "stream",
     "text": [
      "Scraping:  13%|███▉                          | 90/680 [13:14<1:27:54,  8.94s/it]"
     ]
    },
    {
     "name": "stdout",
     "output_type": "stream",
     "text": [
      "element 0 has url https://mms.businesswire.com/media/20190131005489/en/703368/4/Intel-Bob-Swan.jpg\n",
      "element 1 has url https://mms.businesswire.com/media/20190131005489/en/703368/22/Intel-Bob-Swan.jpg\n",
      "element 2 has url https://s.marketwatch.com/public/resources/images/MW-HD096_IntelC_ZH_20190131152836.jpg\n",
      "element 3 has url https://static01.nyt.com/images/2019/02/01/business/01chips/merlin_150019299_fbbbde01-9004-4e39-9eaf-a6006cbc6a93-superJumbo.jpg\n",
      "https://www.google.com/search?q=Richard%20K.%20Templeton%20Texas%20Instruments%20Inc.&tbm=isch&tbs=cdr:1,cd_min:1/1/2010,cd_max:12/31/2010\n",
      "Richard K. Templeton 2010\n",
      "hover start\n",
      "hover done\n",
      "Found 100 potential image elements\n"
     ]
    },
    {
     "name": "stderr",
     "output_type": "stream",
     "text": [
      "Scraping:  13%|████                          | 91/680 [13:24<1:29:20,  9.10s/it]"
     ]
    },
    {
     "name": "stdout",
     "output_type": "stream",
     "text": [
      "element 0 has url https://upload.wikimedia.org/wikipedia/commons/3/39/Texas_Instruments_TX486SLC.jpg\n",
      "element 1 has url https://cdn.kr.aving.net/news/photo/200801/70972_188605_1132.jpg\n",
      "element 2 has url https://www.equilar.com/images/nyt/200_2015/scangos.jpg\n",
      "element 3 has url https://www.sec.gov/Archives/edgar/data/1475922/000119312510075332/g59788ifc.jpg\n",
      "https://www.google.com/search?q=Richard%20K.%20Templeton%20Texas%20Instruments%20Inc.&tbm=isch&tbs=cdr:1,cd_min:1/1/2011,cd_max:12/31/2011\n",
      "Richard K. Templeton 2011\n",
      "hover start\n",
      "hover done\n",
      "Found 100 potential image elements\n"
     ]
    },
    {
     "name": "stderr",
     "output_type": "stream",
     "text": [
      "Scraping:  14%|████                          | 92/680 [13:33<1:29:08,  9.10s/it]"
     ]
    },
    {
     "name": "stdout",
     "output_type": "stream",
     "text": [
      "element 0 has url https://www.equilar.com/images/nyt/200_2015/dolan.jpg\n",
      "element 1 has url https://www.equilar.com/images/nyt/200_2015/gorman.jpg\n",
      "element 2 has url https://www.equilar.com/images/nyt/200_2015/leavitt.jpg\n",
      "element 3 has url https://www.equilar.com/images/nyt/200_2015/ells.jpg\n",
      "https://www.google.com/search?q=Richard%20K.%20Templeton%20Texas%20Instruments%20Inc.&tbm=isch&tbs=cdr:1,cd_min:1/1/2012,cd_max:12/31/2012\n",
      "Richard K. Templeton 2012\n",
      "hover start\n",
      "hover done\n",
      "Found 100 potential image elements\n"
     ]
    },
    {
     "name": "stderr",
     "output_type": "stream",
     "text": [
      "Scraping:  14%|████                          | 93/680 [13:42<1:29:17,  9.13s/it]"
     ]
    },
    {
     "name": "stdout",
     "output_type": "stream",
     "text": [
      "element 0 has url https://i.ytimg.com/vi/if_kpkhs0HU/hqdefault.jpg\n",
      "element 1 has url https://s.wsj.net/public/resources/images/MK-BU953_LINE_G_20120612194102.jpg\n",
      "element 2 has url https://i.ytimg.com/vi/llKvV8_T95M/hqdefault.jpg\n",
      "element 3 has url https://www.sec.gov/Archives/edgar/data/97476/000120677412000948/texasins_def14a2x11x1.jpg\n",
      "https://www.google.com/search?q=Richard%20K.%20Templeton%20Texas%20Instruments%20Inc.&tbm=isch&tbs=cdr:1,cd_min:1/1/2013,cd_max:12/31/2013\n",
      "Richard K. Templeton 2013\n",
      "hover start\n",
      "hover done\n",
      "Found 100 potential image elements\n"
     ]
    },
    {
     "name": "stderr",
     "output_type": "stream",
     "text": [
      "Scraping:  14%|████▏                         | 94/680 [13:51<1:29:08,  9.13s/it]"
     ]
    },
    {
     "name": "stdout",
     "output_type": "stream",
     "text": [
      "element 0 has url https://upload.wikimedia.org/wikipedia/commons/2/2e/TI_signboard_Dallas.png\n",
      "element 1 has url https://www.sec.gov/Archives/edgar/data/1126328/000104746913004156/g439041.jpg\n",
      "element 2 has url https://upload.wikimedia.org/wikipedia/commons/e/ee/North_Campus_Gate1.jpg\n",
      "element 3 has url http://www.asee-prism.org/wp-content/uploads/2013/09/Galloway.jpg\n",
      "https://www.google.com/search?q=Richard%20K.%20Templeton%20Texas%20Instruments%20Inc.&tbm=isch&tbs=cdr:1,cd_min:1/1/2014,cd_max:12/31/2014\n",
      "Richard K. Templeton 2014\n",
      "hover start\n",
      "hover done\n",
      "Found 100 potential image elements\n"
     ]
    },
    {
     "name": "stderr",
     "output_type": "stream",
     "text": [
      "Scraping:  14%|████▏                         | 95/680 [14:00<1:28:28,  9.07s/it]"
     ]
    },
    {
     "name": "stdout",
     "output_type": "stream",
     "text": [
      "element 0 has url https://i.ytimg.com/vi/64bYBzE2sjI/sddefault.jpg\n",
      "element 1 has url https://www.smu.edu/news/archives/2014/~/media/4E4ECBB5EE6C44429FA48731F91FC65B.ashx?h=304&&w=426\n",
      "element 2 has url https://i.ytimg.com/vi/RDv_wznavjg/mqdefault.jpg\n",
      "element 3 has url https://www.sec.gov/Archives/edgar/data/808450/000080845014000091/keyes.jpg\n",
      "https://www.google.com/search?q=Richard%20K.%20Templeton%20Texas%20Instruments%20Inc.&tbm=isch&tbs=cdr:1,cd_min:1/1/2015,cd_max:12/31/2015\n",
      "Richard K. Templeton 2015\n",
      "hover start\n",
      "hover done\n",
      "Found 100 potential image elements\n"
     ]
    },
    {
     "name": "stderr",
     "output_type": "stream",
     "text": [
      "Scraping:  14%|████▏                         | 96/680 [14:09<1:28:10,  9.06s/it]"
     ]
    },
    {
     "name": "stdout",
     "output_type": "stream",
     "text": [
      "element 0 has url https://investor.ti.com/static-files/da828ff3-322a-4a49-9ae7-9d7a1f8e0ba1\n",
      "element 1 has url https://investor.ti.com/static-files/636ce316-d12c-4ce9-ae83-0cd2ceec241a\n",
      "element 2 has url https://static01.nyt.com/images/2015/02/12/technology/12bits-chambers/12bits-chambers-facebookJumbo.jpg\n",
      "element 3 has url https://utdglembagl16insingaporeandmalaysia.files.wordpress.com/2015/06/2015-06-08-22-10-03.jpg\n",
      "https://www.google.com/search?q=Richard%20K.%20Templeton%20Texas%20Instruments%20Inc.&tbm=isch&tbs=cdr:1,cd_min:1/1/2016,cd_max:12/31/2016\n",
      "Richard K. Templeton 2016\n",
      "hover start\n",
      "hover done\n",
      "Found 100 potential image elements\n"
     ]
    },
    {
     "name": "stderr",
     "output_type": "stream",
     "text": [
      "Scraping:  14%|████▎                         | 97/680 [14:18<1:28:14,  9.08s/it]"
     ]
    },
    {
     "name": "stdout",
     "output_type": "stream",
     "text": [
      "element 0 has url https://engineering.tamu.edu/news/2016/_news-images/unspecified.jpg\n",
      "element 1 has url https://www.sec.gov/Archives/edgar/data/97476/000119312516497866/g117862vote_pg1.jpg\n",
      "element 2 has url https://news.utdallas.edu/news-2024/files/2021/03/Fountains-Plaza-1000-2016-10.jpg\n",
      "element 3 has url https://enerjazz.com/track/assets/images/p1040077-1400x860-11.jpg\n",
      "https://www.google.com/search?q=Richard%20K.%20Templeton%20Texas%20Instruments%20Inc.&tbm=isch&tbs=cdr:1,cd_min:1/1/2017,cd_max:12/31/2017\n",
      "Richard K. Templeton 2017\n",
      "hover start\n",
      "hover done\n",
      "Found 100 potential image elements\n"
     ]
    },
    {
     "name": "stderr",
     "output_type": "stream",
     "text": [
      "Scraping:  14%|████▎                         | 98/680 [14:28<1:29:51,  9.26s/it]"
     ]
    },
    {
     "name": "stdout",
     "output_type": "stream",
     "text": [
      "element 0 has url https://investor.ti.com/static-files/8dd643ac-5b68-4550-b0fd-95c4af29b4d6\n",
      "element 1 has url https://investor.ti.com/static-files/785dceee-2d68-43fd-8f7e-66a2ea855d2b\n",
      "element 2 has url https://i.ytimg.com/vi/-ZnKRlCEv_o/maxresdefault.jpg\n",
      "element 3 has url https://i.ytimg.com/vi/wVsAir5fDbs/sddefault.jpg\n",
      "https://www.google.com/search?q=Brian%20Crutcher%20Texas%20Instruments%20Inc.&tbm=isch&tbs=cdr:1,cd_min:1/1/2018,cd_max:12/31/2018\n",
      "Brian Crutcher 2018\n",
      "hover start\n",
      "hover done\n",
      "Found 100 potential image elements\n"
     ]
    },
    {
     "name": "stderr",
     "output_type": "stream",
     "text": [
      "Scraping:  15%|████▎                         | 99/680 [14:37<1:29:12,  9.21s/it]"
     ]
    },
    {
     "name": "stdout",
     "output_type": "stream",
     "text": [
      "element 0 has url https://www.automotivepurchasingandsupplychain.com/wp-content/uploads/2023/02/briancrutchertexas.jpg\n",
      "element 1 has url https://cdn.houstonpublicmedia.org/wp-content/uploads/2018/07/18083402/1531863051-texasinstruments_011918.jpg\n",
      "element 2 has url https://i.dailymail.co.uk/i/newpix/2018/07/18/15/4E609D5400000578-0-image-a-2_1531925616758.jpg\n",
      "element 3 has url https://news4sanantonio.com/resources/media/1f2d9977-09ba-477d-a103-81852c07a4b9-large16x9_BrianCrutcher.png?1531869056268\n",
      "https://www.google.com/search?q=Brian%20Crutcher%20Texas%20Instruments%20Inc.&tbm=isch&tbs=cdr:1,cd_min:1/1/2019,cd_max:12/31/2019\n",
      "Brian Crutcher 2019\n",
      "hover start\n",
      "hover done\n",
      "Found 100 potential image elements\n"
     ]
    },
    {
     "name": "stderr",
     "output_type": "stream",
     "text": [
      "Scraping:  15%|████▎                        | 100/680 [14:46<1:27:59,  9.10s/it]"
     ]
    },
    {
     "name": "stdout",
     "output_type": "stream",
     "text": [
      "element 0 has url https://dallasnews.imgix.net/1531863051-texasinstruments_011918.jpg\n",
      "element 1 has url https://static.foxbusiness.com/foxbusiness.com/content/uploads/2018/07/Brian-Crutcher.jpg\n",
      "element 2 has url https://res.cloudinary.com/people-matters/image/upload/fl_immutable_cache,w_624,h_351,q_auto,f_auto/v1531973185/1531973130.jpg\n",
      "element 3 has url https://res.cloudinary.com/jamefiles/image/fetch/w_320,h_212,c_fill/http://www.histerius.com/hs0718/brian_crutcher.jpg\n",
      "https://www.google.com/search?q=Paul%20E.%20Jacobs%20Qualcomm%20Incorporated&tbm=isch&tbs=cdr:1,cd_min:1/1/2010,cd_max:12/31/2010\n",
      "Paul E. Jacobs 2010\n",
      "hover start\n",
      "hover done\n",
      "Found 100 potential image elements\n"
     ]
    },
    {
     "name": "stderr",
     "output_type": "stream",
     "text": [
      "Scraping:  15%|████▎                        | 101/680 [14:55<1:27:41,  9.09s/it]"
     ]
    },
    {
     "name": "stdout",
     "output_type": "stream",
     "text": [
      "element 0 has url https://upload.wikimedia.org/wikipedia/commons/7/7c/Paul_E._Jacobs_-_World_Economic_Forum_Annual_Meeting_Davos_2010.jpg\n",
      "element 1 has url https://www.sec.gov/Archives/edgar/data/804328/000095012310002000/a54709a5470905.gif\n",
      "element 2 has url https://www.sec.gov/Archives/edgar/data/804328/000095012310002000/a54709a5470903.gif\n",
      "element 3 has url https://i2.cdn.turner.com/money/.element/img/1.0/sections/mag/fortune/fortune500/2010/bestcos_aflac.tout.jpg\n",
      "https://www.google.com/search?q=Paul%20E.%20Jacobs%20Qualcomm%20Incorporated&tbm=isch&tbs=cdr:1,cd_min:1/1/2011,cd_max:12/31/2011\n",
      "Paul E. Jacobs 2011\n",
      "hover start\n",
      "hover done\n",
      "Found 100 potential image elements\n"
     ]
    },
    {
     "name": "stderr",
     "output_type": "stream",
     "text": [
      "Scraping:  15%|████▎                        | 102/680 [15:04<1:26:53,  9.02s/it]"
     ]
    },
    {
     "name": "stdout",
     "output_type": "stream",
     "text": [
      "element 0 has url https://lazure2.wordpress.com/wp-content/uploads/2011/11/clip_image001_thumb1.jpg?w=450&h=324\n",
      "element 1 has url http://soeadm.ucsd.edu/uploads/JSOETools/News/2011/IrwinJacobs2008_web.jpg\n",
      "element 2 has url https://www.wipo.int/export/sites/www/pressroom/images/pr_2011_687.gif\n",
      "element 3 has url https://www.sec.gov/Archives/edgar/data/804328/000095012311003687/a57961dea5796108.gif\n",
      "https://www.google.com/search?q=Paul%20E.%20Jacobs%20Qualcomm%20Incorporated&tbm=isch&tbs=cdr:1,cd_min:1/1/2012,cd_max:12/31/2012\n",
      "Paul E. Jacobs 2012\n",
      "hover start\n",
      "hover done\n",
      "Found 100 potential image elements\n"
     ]
    },
    {
     "name": "stderr",
     "output_type": "stream",
     "text": [
      "Scraping:  15%|████▍                        | 103/680 [15:13<1:26:44,  9.02s/it]"
     ]
    },
    {
     "name": "stdout",
     "output_type": "stream",
     "text": [
      "element 0 has url https://www.fonearena.com/iqindia2012/speakers/paul-jacobs.jpg\n",
      "element 1 has url https://i.ytimg.com/vi/cLrjgJu8BOE/mqdefault.jpg\n",
      "element 2 has url http://9to5mac.com/wp-content/uploads/sites/6/2012/03/glassdoor.png\n",
      "element 3 has url https://www.sec.gov/Archives/edgar/data/804328/000119312512015474/g271234g14a90.jpg\n",
      "https://www.google.com/search?q=Paul%20E.%20Jacobs%20Qualcomm%20Incorporated&tbm=isch&tbs=cdr:1,cd_min:1/1/2013,cd_max:12/31/2013\n",
      "Paul E. Jacobs 2013\n",
      "hover start\n",
      "hover done\n",
      "Found 100 potential image elements\n"
     ]
    },
    {
     "name": "stderr",
     "output_type": "stream",
     "text": [
      "Scraping:  15%|████▍                        | 104/680 [15:22<1:26:53,  9.05s/it]"
     ]
    },
    {
     "name": "stdout",
     "output_type": "stream",
     "text": [
      "element 0 has url https://i.ytimg.com/vi/vQoAOwTaEkw/maxresdefault.jpg\n",
      "element 1 has url https://i.ytimg.com/vi/RQjFrfBB5Y8/maxresdefault.jpg\n",
      "element 2 has url https://i.ytimg.com/vi/h_yjlEJG0vQ/hqdefault.jpg\n",
      "element 3 has url http://corecommunique.com/wp-content/uploads/2012/11/qualicomm1.jpg\n",
      "https://www.google.com/search?q=Steve%20Mollenkopf%20Qualcomm%20Incorporated&tbm=isch&tbs=cdr:1,cd_min:1/1/2014,cd_max:12/31/2014\n",
      "Steve Mollenkopf 2014\n",
      "hover start\n",
      "hover done\n",
      "Found 100 potential image elements\n"
     ]
    },
    {
     "name": "stderr",
     "output_type": "stream",
     "text": [
      "Scraping:  15%|████▍                        | 105/680 [15:31<1:25:45,  8.95s/it]"
     ]
    },
    {
     "name": "stdout",
     "output_type": "stream",
     "text": [
      "element 0 has url https://eecsnews.engin.umich.edu/wp-content/uploads/sites/2/2018/06/spotlight-mollenkopf-qualcomm-featured.jpg\n",
      "element 1 has url https://i.ytimg.com/vi/kYkz8sWZ0_I/mqdefault.jpg\n",
      "element 2 has url https://s.wsj.net/public/resources/images/BA-BF557A_CEO_F_G_20140711172122.jpg\n",
      "element 3 has url https://cdn.kipost.net/news/photo/old2/mollenkopf_steve_129_19-326x490.jpg\n",
      "https://www.google.com/search?q=Steve%20Mollenkopf%20Qualcomm%20Incorporated&tbm=isch&tbs=cdr:1,cd_min:1/1/2015,cd_max:12/31/2015\n",
      "Steve Mollenkopf 2015\n",
      "hover start\n",
      "hover done\n",
      "Found 99 potential image elements\n"
     ]
    },
    {
     "name": "stderr",
     "output_type": "stream",
     "text": [
      "Scraping:  16%|████▌                        | 106/680 [15:39<1:25:06,  8.90s/it]"
     ]
    },
    {
     "name": "stdout",
     "output_type": "stream",
     "text": [
      "element 0 has url http://images.mofcom.gov.cn/liuhaiquan2/201509/20150911141005356.jpg\n",
      "element 1 has url https://ece.engin.umich.edu/wp-content/uploads/sites/2/2018/05/alums-semiconductor-list-featured.jpg\n",
      "element 2 has url https://www.sec.gov/Archives/edgar/data/804328/000123445217000017/mollenkopfsignaturea01.jpg\n",
      "element 3 has url https://ece.engin.umich.edu/wp-content/uploads/sites/4/2019/09/mollenkopf_steve_thumb_0604.jpg\n",
      "https://www.google.com/search?q=Steve%20Mollenkopf%20Qualcomm%20Incorporated&tbm=isch&tbs=cdr:1,cd_min:1/1/2016,cd_max:12/31/2016\n",
      "Steve Mollenkopf 2016\n",
      "hover start\n",
      "hover done\n",
      "Found 100 potential image elements\n"
     ]
    },
    {
     "name": "stderr",
     "output_type": "stream",
     "text": [
      "Scraping:  16%|████▌                        | 107/680 [15:48<1:25:17,  8.93s/it]"
     ]
    },
    {
     "name": "stdout",
     "output_type": "stream",
     "text": [
      "element 0 has url https://kg.diffbot.com/image/api/get?fetch=yes&url=g%3Cj7P0St%7B6u.%5DyIn%7E.qNb%3D%5C%2FBR3Wfya6%40_%3Bj%3C%5D%3BVr%3Ai5JkBixGtGYrTl6f_CY%3FY%5En%5C6We%3Ad5.N2J\n",
      "element 1 has url https://moneyinc.com/wp-content/uploads/2016/12/479833760.jpg\n",
      "element 2 has url https://www.sec.gov/Archives/edgar/data/804328/000123445216000341/mollenkopf113originala01.jpg\n",
      "element 3 has url https://i.ytimg.com/vi/uaBvJlHevAQ/sddefault.jpg\n",
      "https://www.google.com/search?q=Steve%20Mollenkopf%20Qualcomm%20Incorporated&tbm=isch&tbs=cdr:1,cd_min:1/1/2017,cd_max:12/31/2017\n",
      "Steve Mollenkopf 2017\n",
      "hover start\n",
      "hover done\n",
      "Found 100 potential image elements\n"
     ]
    },
    {
     "name": "stderr",
     "output_type": "stream",
     "text": [
      "Scraping:  16%|████▌                        | 108/680 [15:57<1:25:02,  8.92s/it]"
     ]
    },
    {
     "name": "stdout",
     "output_type": "stream",
     "text": [
      "element 0 has url https://eecsnews.engin.umich.edu/wp-content/uploads/sites/2/2017/07/mollenkopf.jpg\n",
      "element 1 has url https://i2.wp.com/timesofsandiego.com/wp-content/uploads/2014/03/mollenkopf-qualcomm-ceo.jpg?fit=644%2C364\n",
      "element 2 has url https://www.economicclub.org/sites/default/files/styles/discussion_highlight_photos/public/event-photo/RR03.jpg?h=399ea74b&itok=sL5EaPml\n",
      "element 3 has url https://i.ytimg.com/vi/_0RelSdrKy0/maxresdefault.jpg\n",
      "https://www.google.com/search?q=Steve%20Mollenkopf%20Qualcomm%20Incorporated&tbm=isch&tbs=cdr:1,cd_min:1/1/2018,cd_max:12/31/2018\n",
      "Steve Mollenkopf 2018\n",
      "hover start\n",
      "hover done\n",
      "Found 100 potential image elements\n"
     ]
    },
    {
     "name": "stderr",
     "output_type": "stream",
     "text": [
      "Scraping:  16%|████▋                        | 109/680 [16:06<1:24:26,  8.87s/it]"
     ]
    },
    {
     "name": "stdout",
     "output_type": "stream",
     "text": [
      "element 0 has url https://media.licdn.com/dms/image/C5103AQEar2QgWtXTnw/profile-displayphoto-shrink_200_200/0/1517509204857?e=2147483647&v=beta&t=iSAr8p35kJ0652OkOVXq8ndnwbazYnOjZG_iRVOCGOo\n",
      "element 1 has url https://i.ytimg.com/vi/kYkz8sWZ0_I/maxresdefault.jpg\n",
      "element 2 has url https://moneyinc.com/wp-content/uploads/2018/11/Steven-Mollenkopf.jpg\n",
      "element 3 has url https://ece.engin.umich.edu/wp-content/uploads/sites/2/2018/07/Mollenkopf-leadership-feature.jpg-2.png\n",
      "https://www.google.com/search?q=Steve%20Mollenkopf%20Qualcomm%20Incorporated&tbm=isch&tbs=cdr:1,cd_min:1/1/2019,cd_max:12/31/2019\n",
      "Steve Mollenkopf 2019\n",
      "hover start\n",
      "hover done\n",
      "Found 100 potential image elements\n"
     ]
    },
    {
     "name": "stderr",
     "output_type": "stream",
     "text": [
      "Scraping:  16%|████▋                        | 110/680 [16:15<1:23:48,  8.82s/it]"
     ]
    },
    {
     "name": "stdout",
     "output_type": "stream",
     "text": [
      "element 0 has url https://i.ytimg.com/vi/EZN9dQE_1Nk/sddefault.jpg\n",
      "element 1 has url https://i.ytimg.com/vi/tQwqO7qAUtQ/maxresdefault.jpg\n",
      "element 2 has url https://images.comparably.com/competitors/google-ceo-vs-qualcomm-incorporated-ceo\n",
      "element 3 has url https://www.sec.gov/Archives/edgar/data/804328/000120523319000009/mollenkopfpicture.jpg\n",
      "https://www.google.com/search?q=Samuel%20J.%20Palmisano%20International%20Business%20Machines%20Corporation&tbm=isch&tbs=cdr:1,cd_min:1/1/2010,cd_max:12/31/2010\n",
      "Samuel J. Palmisano 2010\n",
      "hover start\n",
      "hover done\n",
      "Found 100 potential image elements\n"
     ]
    },
    {
     "name": "stderr",
     "output_type": "stream",
     "text": [
      "Scraping:  16%|████▋                        | 111/680 [16:24<1:24:03,  8.86s/it]"
     ]
    },
    {
     "name": "stdout",
     "output_type": "stream",
     "text": [
      "element 0 has url https://s.wsj.net/public/resources/images/MK-BG028_IBM_G_20100914171415.jpg\n",
      "element 1 has url https://s.wsj.net/public/resources/images/Palmisano_Samuel-ER94305202001231028.gif\n",
      "element 2 has url https://s.wsj.net/public/resources/images/OB-HU137_0308pa_D_20100308165715.jpg\n",
      "element 3 has url https://s.wsj.net/public/resources/images/GerstnerJr_Louis05172001174931.gif\n",
      "https://www.google.com/search?q=Samuel%20J.%20Palmisano%20International%20Business%20Machines%20Corporation&tbm=isch&tbs=cdr:1,cd_min:1/1/2011,cd_max:12/31/2011\n",
      "Samuel J. Palmisano 2011\n",
      "hover start\n",
      "hover done\n",
      "Found 100 potential image elements\n"
     ]
    },
    {
     "name": "stderr",
     "output_type": "stream",
     "text": [
      "Scraping:  16%|████▊                        | 112/680 [16:33<1:23:57,  8.87s/it]"
     ]
    },
    {
     "name": "stdout",
     "output_type": "stream",
     "text": [
      "element 0 has url https://static01.nyt.com/images/2012/01/01/business/SBNUNBOX/SBNUNBOX-articleLarge.jpg\n",
      "element 1 has url https://s.wsj.net/public/resources/images/MK-BM709_IBM_1_G_20110612172752.jpg\n",
      "element 2 has url http://images.forbes.com/media/2011/06/08/0608_samuel-palmisano_400x400.jpg\n",
      "element 3 has url https://s.wsj.net/public/resources/images/Palmisano_Samuel-ER9411272001220536.gif\n",
      "https://www.google.com/search?q=Virginia%20Rometty%20International%20Business%20Machines%20Corporation&tbm=isch&tbs=cdr:1,cd_min:1/1/2012,cd_max:12/31/2012\n",
      "Virginia Rometty 2012\n",
      "hover start\n",
      "hover done\n",
      "Found 99 potential image elements\n"
     ]
    },
    {
     "name": "stderr",
     "output_type": "stream",
     "text": [
      "Scraping:  17%|████▊                        | 113/680 [16:42<1:24:02,  8.89s/it]"
     ]
    },
    {
     "name": "stdout",
     "output_type": "stream",
     "text": [
      "element 0 has url https://m.wsj.net/video/20120406/040612hubamibmmasters/040612hubamibmmasters_1280x720.jpg\n",
      "element 1 has url https://s.wsj.net/public/resources/images/MK-BT417_IBM_DV_20120405184629.jpg\n",
      "element 2 has url https://m.wsj.net/video/20111025/102511ibm/102511ibm_1280x720.jpg\n",
      "element 3 has url https://s.wsj.net/public/resources/images/MK-BT417_IBM_D_20120405184629.jpg\n",
      "https://www.google.com/search?q=Virginia%20Rometty%20International%20Business%20Machines%20Corporation&tbm=isch&tbs=cdr:1,cd_min:1/1/2013,cd_max:12/31/2013\n",
      "Virginia Rometty 2013\n",
      "hover start\n",
      "hover done\n",
      "Found 100 potential image elements\n"
     ]
    },
    {
     "name": "stderr",
     "output_type": "stream",
     "text": [
      "Scraping:  17%|████▊                        | 114/680 [16:51<1:24:04,  8.91s/it]"
     ]
    },
    {
     "name": "stdout",
     "output_type": "stream",
     "text": [
      "element 0 has url https://s.wsj.net/public/resources/images/MK-CC694_IBMART_DV_20130424135504.jpg\n",
      "element 1 has url https://www.livemint.com/rf/Image-621x414/LiveMint/Period1/2013/08/06/Photos/virginia_rometty--621x414.JPG\n",
      "element 2 has url https://s.wsj.net/public/resources/images/MK-CH146_IBM_G_20131017202714.jpg\n",
      "element 3 has url https://s.wsj.net/public/resources/images/MK-CC694_IBMART_F_20130424135504.jpg\n",
      "https://www.google.com/search?q=Virginia%20Rometty%20International%20Business%20Machines%20Corporation&tbm=isch&tbs=cdr:1,cd_min:1/1/2014,cd_max:12/31/2014\n",
      "Virginia Rometty 2014\n",
      "hover start\n",
      "hover done\n",
      "Found 100 potential image elements\n"
     ]
    },
    {
     "name": "stderr",
     "output_type": "stream",
     "text": [
      "Scraping:  17%|████▉                        | 115/680 [16:59<1:23:37,  8.88s/it]"
     ]
    },
    {
     "name": "stdout",
     "output_type": "stream",
     "text": [
      "element 0 has url https://static01.nyt.com/images/2014/05/12/business/12bits-rometty/12bits-rometty-videoSixteenByNine600-v2.jpg\n",
      "element 1 has url http://www.whoswho.com/system/files/styles/landscape/private/landscape/Virginia-Rometty-2012-l.png.JPG?itok=QgWpsKeN\n",
      "element 2 has url https://static01.nyt.com/images/2014/05/12/business/12bits-rometty/12bits-rometty-tmagArticle-v2.jpg\n",
      "element 3 has url https://s.wsj.net/public/resources/images/BN-BA068_watson_G_20140107202254.jpg\n",
      "https://www.google.com/search?q=Virginia%20Rometty%20International%20Business%20Machines%20Corporation&tbm=isch&tbs=cdr:1,cd_min:1/1/2015,cd_max:12/31/2015\n",
      "Virginia Rometty 2015\n",
      "hover start\n",
      "hover done\n",
      "Found 100 potential image elements\n"
     ]
    },
    {
     "name": "stderr",
     "output_type": "stream",
     "text": [
      "Scraping:  17%|████▉                        | 116/680 [17:08<1:23:11,  8.85s/it]"
     ]
    },
    {
     "name": "stdout",
     "output_type": "stream",
     "text": [
      "element 0 has url https://s.wsj.net/public/resources/images/TE-AB417_ROMETT_M_20151020222110.jpg\n",
      "element 1 has url https://s.wsj.net/public/resources/images/MK-CS176_B1SKY2_P_20150120185313.jpg\n",
      "element 2 has url https://s.wsj.net/public/resources/images/BN-BA068_watson_P_20140107202254.jpg\n",
      "element 3 has url https://fortune.com/img-assets/wp-content/uploads/2014/09/rom06_11.jpg\n",
      "https://www.google.com/search?q=Virginia%20Rometty%20International%20Business%20Machines%20Corporation&tbm=isch&tbs=cdr:1,cd_min:1/1/2016,cd_max:12/31/2016\n",
      "Virginia Rometty 2016\n",
      "hover start\n",
      "hover done\n",
      "Found 100 potential image elements\n"
     ]
    },
    {
     "name": "stderr",
     "output_type": "stream",
     "text": [
      "Scraping:  17%|████▉                        | 117/680 [17:17<1:23:09,  8.86s/it]"
     ]
    },
    {
     "name": "stdout",
     "output_type": "stream",
     "text": [
      "element 0 has url https://s.wsj.net/public/resources/images/BN-MI442_2qyW6_M_20160128171228.jpg\n",
      "element 1 has url https://www.bloomberg.com/features/2016-ginni-rometty-interview-issue/img/3316P_FEATURE_MAIN_ROMETTI_01.jpg\n",
      "element 2 has url https://fortune.com/img-assets/wp-content/uploads/2017/01/503695338.jpg\n",
      "element 3 has url https://s.wsj.net/public/resources/images/TE-AB417_ROMETT_GR_20151020222110.jpg\n",
      "https://www.google.com/search?q=Virginia%20Rometty%20International%20Business%20Machines%20Corporation&tbm=isch&tbs=cdr:1,cd_min:1/1/2017,cd_max:12/31/2017\n",
      "Virginia Rometty 2017\n",
      "hover start\n",
      "hover done\n",
      "Found 100 potential image elements\n"
     ]
    },
    {
     "name": "stderr",
     "output_type": "stream",
     "text": [
      "Scraping:  17%|█████                        | 118/680 [17:26<1:23:13,  8.89s/it]"
     ]
    },
    {
     "name": "stdout",
     "output_type": "stream",
     "text": [
      "element 0 has url https://s.wsj.net/public/resources/images/BN-MI442_2qyW6_TOPPER_20160128171228.jpg\n",
      "element 1 has url https://s.wsj.net/public/resources/images/BA-BP907_IBM_Cr_B620_20171116134126.jpg\n",
      "element 2 has url https://s.marketwatch.com/public/resources/images/MW-FM187_romett_ZH_20170509212226.jpg\n",
      "element 3 has url https://fortune.com/img-assets/wp-content/uploads/2016/08/ginni-rometty-ibm.jpg\n",
      "https://www.google.com/search?q=Virginia%20Rometty%20International%20Business%20Machines%20Corporation&tbm=isch&tbs=cdr:1,cd_min:1/1/2018,cd_max:12/31/2018\n",
      "Virginia Rometty 2018\n",
      "hover start\n",
      "hover done\n",
      "Found 100 potential image elements\n"
     ]
    },
    {
     "name": "stderr",
     "output_type": "stream",
     "text": [
      "Scraping:  18%|█████                        | 119/680 [17:35<1:23:05,  8.89s/it]"
     ]
    },
    {
     "name": "stdout",
     "output_type": "stream",
     "text": [
      "element 0 has url https://s3-prod.crainsnewyork.com/styles/width_375/s3/Virginia%20Romettyq.png\n",
      "element 1 has url https://i.ytimg.com/vi/CPNSlX6f6WY/maxresdefault.jpg\n",
      "element 2 has url https://s.wsj.net/public/resources/images/MK-CS176_B1SKY2_M_20150120185313.jpg\n",
      "element 3 has url https://s.wsj.net/public/resources/images/DS-AA010_ROMETT_M_20180104000110.jpg\n",
      "https://www.google.com/search?q=Virginia%20Rometty%20International%20Business%20Machines%20Corporation&tbm=isch&tbs=cdr:1,cd_min:1/1/2019,cd_max:12/31/2019\n",
      "Virginia Rometty 2019\n",
      "hover start\n",
      "hover done\n",
      "Found 100 potential image elements\n"
     ]
    },
    {
     "name": "stderr",
     "output_type": "stream",
     "text": [
      "Scraping:  18%|█████                        | 120/680 [17:44<1:23:23,  8.94s/it]"
     ]
    },
    {
     "name": "stdout",
     "output_type": "stream",
     "text": [
      "element 0 has url https://img.etimg.com/thumb/msid-68320646,width-640,height-480,imgsize-831606,resizemode-4/virginia-marie-ginni-rometty-ceo-ibm.jpg\n",
      "element 1 has url https://media.datacenterdynamics.com/media/images/IBM-CEO.original.jpg\n",
      "element 2 has url https://business360.fortefoundation.org/wp-content/uploads/2011/10/Ginni-Rometty.jpg\n",
      "element 3 has url https://gradiant.org/wp-content/uploads/2019/05/Ginni_Romety_cabecera_en.jpg\n",
      "https://www.google.com/search?q=John%20Donahoe%20%28under%20eBay%29%20PayPal%20Holdings%2C%20Inc.&tbm=isch&tbs=cdr:1,cd_min:1/1/2010,cd_max:12/31/2010\n",
      "John Donahoe (under eBay) 2010\n",
      "hover start\n",
      "hover done\n",
      "Found 100 potential image elements\n"
     ]
    },
    {
     "name": "stderr",
     "output_type": "stream",
     "text": [
      "Scraping:  18%|█████▏                       | 121/680 [17:53<1:23:06,  8.92s/it]"
     ]
    },
    {
     "name": "stdout",
     "output_type": "stream",
     "text": [
      "element 0 has url https://s.wsj.net/public/resources/images/MK-BF916_CEBAY_DV_20100909175823.jpg\n",
      "element 1 has url https://s.marketwatch.com/public/resources/images/MW-AE530_donaho_MD_20100505142110.jpg\n",
      "element 2 has url https://scx2.b-cdn.net/gfx/news/hires/paypalmaking.jpg\n",
      "element 3 has url https://www.paymentscardsandmobile.com/wp-content/uploads/2013/09/paypal-mobile-payments.png\n",
      "https://www.google.com/search?q=John%20Donahoe%20%28under%20eBay%29%20PayPal%20Holdings%2C%20Inc.&tbm=isch&tbs=cdr:1,cd_min:1/1/2011,cd_max:12/31/2011\n",
      "John Donahoe (under eBay) 2011\n",
      "hover start\n",
      "hover done\n",
      "Found 100 potential image elements\n"
     ]
    },
    {
     "name": "stderr",
     "output_type": "stream",
     "text": [
      "Scraping:  18%|█████▏                       | 122/680 [18:02<1:22:57,  8.92s/it]"
     ]
    },
    {
     "name": "stdout",
     "output_type": "stream",
     "text": [
      "element 0 has url https://allthingsd.com/files/2011/06/atdebaypaypal.jpg\n",
      "element 1 has url https://www.mrweb.com/drnoimg/drn13365.jpg\n",
      "element 2 has url https://allthingsd.com/files/2011/09/PayPal_mobilepayments-380x264.png\n",
      "element 3 has url https://i2.cdn.turner.com/money/2011/02/11/technology/thebuzz/chart_ws_stock_ebayinc.top.png\n",
      "https://www.google.com/search?q=John%20Donahoe%20%28under%20eBay%29%20PayPal%20Holdings%2C%20Inc.&tbm=isch&tbs=cdr:1,cd_min:1/1/2012,cd_max:12/31/2012\n",
      "John Donahoe (under eBay) 2012\n",
      "hover start\n",
      "hover done\n",
      "Found 100 potential image elements\n"
     ]
    },
    {
     "name": "stderr",
     "output_type": "stream",
     "text": [
      "Scraping:  18%|█████▏                       | 123/680 [18:11<1:23:00,  8.94s/it]"
     ]
    },
    {
     "name": "stdout",
     "output_type": "stream",
     "text": [
      "element 0 has url https://allthingsd.com/files/2012/01/887638139_2v9nZ-L-640x427.png\n",
      "element 1 has url https://www.irishamerica.com/wp-content/uploads/2011/12/25_DONAHOE_John.jpg\n",
      "element 2 has url https://allthingsd.com/files/2012/07/donahoe_ebay.png\n",
      "element 3 has url https://images.globes.co.il/Images/NewGlobes/big_image/2012/IMG_2296[6.jpg\n",
      "https://www.google.com/search?q=John%20Donahoe%20%28under%20eBay%29%20PayPal%20Holdings%2C%20Inc.&tbm=isch&tbs=cdr:1,cd_min:1/1/2013,cd_max:12/31/2013\n",
      "John Donahoe (under eBay) 2013\n",
      "hover start\n",
      "hover done\n",
      "Found 100 potential image elements\n"
     ]
    },
    {
     "name": "stderr",
     "output_type": "stream",
     "text": [
      "Scraping:  18%|█████▎                       | 124/680 [18:20<1:23:09,  8.97s/it]"
     ]
    },
    {
     "name": "stdout",
     "output_type": "stream",
     "text": [
      "element 0 has url https://cdn.geekwire.com/wp-content/uploads/2017/04/donahue.jpg\n",
      "element 1 has url https://techcrunch.com/wp-content/uploads/2013/04/167724968_ba_5151_9956c61a84682bc8ec6049e1e805d407.jpg\n",
      "element 2 has url https://techcrunch.com/wp-content/uploads/2013/03/john-donahoe.jpg\n",
      "element 3 has url https://thedailytexan.com/wp-content/uploads/2013/10/2013-10-25_Ebay_Shweta.Gulati22770.jpg\n",
      "https://www.google.com/search?q=John%20Donahoe%20%28under%20eBay%29%20PayPal%20Holdings%2C%20Inc.&tbm=isch&tbs=cdr:1,cd_min:1/1/2014,cd_max:12/31/2014\n",
      "John Donahoe (under eBay) 2014\n",
      "hover start\n",
      "hover done\n",
      "Found 100 potential image elements\n"
     ]
    },
    {
     "name": "stderr",
     "output_type": "stream",
     "text": [
      "Scraping:  18%|█████▎                       | 125/680 [18:29<1:23:00,  8.97s/it]"
     ]
    },
    {
     "name": "stdout",
     "output_type": "stream",
     "text": [
      "element 0 has url https://cdn.geekwire.com/wp-content/uploads/2017/04/donahue-219x300.jpg\n",
      "element 1 has url https://cdn.geekwire.com/wp-content/uploads/2017/04/donahoe-300x212.jpg\n",
      "element 2 has url https://static.ebayinc.com/static/assets/Uploads/Stories/Articles/Imported/JDstage_inc_0.jpg\n",
      "element 3 has url https://www.ebayinc.com/assets/Uploads/Stories/Articles/Imported/3608_612652.jpg\n",
      "https://www.google.com/search?q=Dan%20Schulman%20PayPal%20Holdings%2C%20Inc.&tbm=isch&tbs=cdr:1,cd_min:1/1/2015,cd_max:12/31/2015\n",
      "Dan Schulman 2015\n",
      "hover start\n",
      "hover done\n",
      "Found 100 potential image elements\n"
     ]
    },
    {
     "name": "stderr",
     "output_type": "stream",
     "text": [
      "Scraping:  19%|█████▎                       | 126/680 [18:38<1:23:33,  9.05s/it]"
     ]
    },
    {
     "name": "stdout",
     "output_type": "stream",
     "text": [
      "element 0 has url https://upload.wikimedia.org/wikipedia/commons/5/5d/Dan_Schulman.jpg\n",
      "element 1 has url https://justcapital.com/wp-content/uploads/2024/09/dan-schulman.jpg\n",
      "element 2 has url https://www.pymnts.com/wp-content/uploads/2015/03/PayPal-1.jpg\n",
      "element 3 has url https://assets.bwbx.io/images/users/iqjWHBFdfxIU/iQ_EmmC2i0vw/v176/-1x-1.jpg\n",
      "https://www.google.com/search?q=Dan%20Schulman%20PayPal%20Holdings%2C%20Inc.&tbm=isch&tbs=cdr:1,cd_min:1/1/2016,cd_max:12/31/2016\n",
      "Dan Schulman 2016\n",
      "hover start\n",
      "hover done\n",
      "Found 100 potential image elements\n"
     ]
    },
    {
     "name": "stderr",
     "output_type": "stream",
     "text": [
      "Scraping:  19%|█████▍                       | 127/680 [18:47<1:22:53,  8.99s/it]"
     ]
    },
    {
     "name": "stdout",
     "output_type": "stream",
     "text": [
      "element 0 has url https://v6r2p5t5.delivery.rocketcdn.me/wp-content/uploads/2017/08/dan-schulman1.jpg\n",
      "element 1 has url https://hbr.org/resources/images/article_assets/2016/11/R1612A_Pickens.png\n",
      "element 2 has url https://cdn.geekwire.com/wp-content/uploads/2016/04/20160404_envision_keynote_030-2.jpg\n",
      "element 3 has url https://s.wsj.net/public/resources/images/BN-NK223_0405nc_M_20160405120407.jpg\n",
      "https://www.google.com/search?q=Dan%20Schulman%20PayPal%20Holdings%2C%20Inc.&tbm=isch&tbs=cdr:1,cd_min:1/1/2017,cd_max:12/31/2017\n",
      "Dan Schulman 2017\n",
      "hover start\n",
      "hover done\n",
      "Found 99 potential image elements\n"
     ]
    },
    {
     "name": "stderr",
     "output_type": "stream",
     "text": [
      "Scraping:  19%|█████▍                       | 128/680 [18:56<1:22:37,  8.98s/it]"
     ]
    },
    {
     "name": "stdout",
     "output_type": "stream",
     "text": [
      "element 0 has url https://www.ecommercebytes.com/ec/wp-content/uploads/2017/08/PayPal_Dan_Schulman.jpg\n",
      "element 1 has url https://i.ytimg.com/vi/xLIkw-WA2po/maxresdefault.jpg\n",
      "element 2 has url http://s.wsj.net/public/resources/images/BN-TR160_WORKOU_IM_20170531152247.jpg\n",
      "element 3 has url https://cdn.wccftech.com/wp-content/uploads/2018/07/DanSchulman-e1432235403617.png\n",
      "https://www.google.com/search?q=Dan%20Schulman%20PayPal%20Holdings%2C%20Inc.&tbm=isch&tbs=cdr:1,cd_min:1/1/2018,cd_max:12/31/2018\n",
      "Dan Schulman 2018\n",
      "hover start\n",
      "hover done\n",
      "Found 100 potential image elements\n"
     ]
    },
    {
     "name": "stderr",
     "output_type": "stream",
     "text": [
      "Scraping:  19%|█████▌                       | 129/680 [19:05<1:22:32,  8.99s/it]"
     ]
    },
    {
     "name": "stdout",
     "output_type": "stream",
     "text": [
      "element 0 has url https://static01.nyt.com/images/2018/07/29/business/29CORNER/29CORNER-superJumbo.jpg\n",
      "element 1 has url https://static01.nyt.com/images/2018/07/29/business/29CORNER/29CORNER-videoSixteenByNineJumbo1600.jpg\n",
      "element 2 has url https://lookaside.fbsbx.com/lookaside/crawler/media/?media_id=100044575413268\n",
      "element 3 has url https://s.wsj.net/public/resources/images/DS-AA016_SCHULM_M_20180104000853.jpg\n",
      "https://www.google.com/search?q=Dan%20Schulman%20PayPal%20Holdings%2C%20Inc.&tbm=isch&tbs=cdr:1,cd_min:1/1/2019,cd_max:12/31/2019\n",
      "Dan Schulman 2019\n",
      "hover start\n",
      "hover done\n",
      "Found 100 potential image elements\n"
     ]
    },
    {
     "name": "stderr",
     "output_type": "stream",
     "text": [
      "Scraping:  19%|█████▌                       | 130/680 [19:14<1:21:52,  8.93s/it]"
     ]
    },
    {
     "name": "stdout",
     "output_type": "stream",
     "text": [
      "element 0 has url https://media.licdn.com/dms/image/v2/C4E03AQF4ufQG5nd_4w/profile-displayphoto-shrink_200_200/profile-displayphoto-shrink_200_200/0/1562089602034?e=2147483647&v=beta&t=GALWoP98T14_GtUg5Cde9O59EpH87WAmgLYIaFTlZQM\n",
      "element 1 has url https://static.ebayinc.com/static/assets/Uploads/Stories/Articles/_resampled/FillWzc1OCwzNzld/dan-schulman.jpg?fs=49e73ac0db60f8d0\n",
      "element 2 has url https://arizent.brightspotcdn.com/0f/a7/ed9df21847bebf1e4eb60bf849ed/schulman-dan-paypal-bl-030818a.jpg\n",
      "element 3 has url https://www.moaf.org/about/people/schulman_dan/_res/id=Picture\n",
      "https://www.google.com/search?q=Fred%20Luddy%20ServiceNow%2C%20Inc.&tbm=isch&tbs=cdr:1,cd_min:1/1/2010,cd_max:12/31/2010\n",
      "Fred Luddy 2010\n",
      "hover start\n",
      "hover done\n",
      "Found 3 potential image elements\n"
     ]
    },
    {
     "name": "stderr",
     "output_type": "stream",
     "text": [
      "Scraping:  19%|█████▌                       | 131/680 [19:22<1:19:36,  8.70s/it]"
     ]
    },
    {
     "name": "stdout",
     "output_type": "stream",
     "text": [
      "element 0 has url https://www.zdnet.com/a/img/2014/10/04/5dae104f-4b9a-11e4-b6a0-d4ae52e95e57/workday-way.jpg\n",
      "element 1 has url https://bambooinnovator.com/wp-content/uploads/2013/05/billwatterson.jpg?w=584\n",
      "element 2 has url https://d1hbpr09pwz0sk.cloudfront.net/profile_pic/james-schafer-18e9bb44.jpg\n",
      "https://www.google.com/search?q=Fred%20Luddy%20ServiceNow%2C%20Inc.&tbm=isch&tbs=cdr:1,cd_min:1/1/2011,cd_max:12/31/2011\n",
      "Fred Luddy 2011\n",
      "hover start\n",
      "hover done\n",
      "Found 57 potential image elements\n"
     ]
    },
    {
     "name": "stderr",
     "output_type": "stream",
     "text": [
      "Scraping:  19%|█████▋                       | 132/680 [19:31<1:19:38,  8.72s/it]"
     ]
    },
    {
     "name": "stdout",
     "output_type": "stream",
     "text": [
      "element 0 has url https://allthingsd.com/files/2011/10/frank_slootman-feature-380x285.png\n",
      "element 1 has url https://d1hbpr09pwz0sk.cloudfront.net/profile_pic/ava-fredericks-38f02da6.jpg\n",
      "element 2 has url https://thisiswhatgoodlookslike.files.wordpress.com/2011/09/cropped-wgdll.jpg\n",
      "element 3 has url https://bambooinnovator.com/wp-content/uploads/2013/08/7294111_121592638235.jpg?w=584\n",
      "https://www.google.com/search?q=Frank%20Slootman%20ServiceNow%2C%20Inc.&tbm=isch&tbs=cdr:1,cd_min:1/1/2012,cd_max:12/31/2012\n",
      "Frank Slootman 2012\n",
      "hover start\n",
      "hover done\n",
      "Found 18 potential image elements\n"
     ]
    },
    {
     "name": "stderr",
     "output_type": "stream",
     "text": [
      "Scraping:  20%|█████▋                       | 133/680 [19:39<1:18:48,  8.64s/it]"
     ]
    },
    {
     "name": "stdout",
     "output_type": "stream",
     "text": [
      "element 0 has url https://cdn.iphoneincanada.ca/wp-content/uploads/2012/07/servicenow-120629.jpg\n",
      "element 1 has url https://s.wsj.net/public/resources/images/OB-SA494_Duffie_G_20120301204243.jpg\n",
      "element 2 has url https://www.sec.gov/Archives/edgar/data/1373715/000119312512472196/g403955ifc.jpg\n",
      "element 3 has url https://thisiswhatgoodlookslike.com/wp-content/uploads/2012/06/itsmfusa.png\n",
      "https://www.google.com/search?q=Frank%20Slootman%20ServiceNow%2C%20Inc.&tbm=isch&tbs=cdr:1,cd_min:1/1/2013,cd_max:12/31/2013\n",
      "Frank Slootman 2013\n",
      "hover start\n",
      "hover done\n",
      "Found 59 potential image elements\n"
     ]
    },
    {
     "name": "stderr",
     "output_type": "stream",
     "text": [
      "Scraping:  20%|█████▋                       | 134/680 [19:48<1:18:26,  8.62s/it]"
     ]
    },
    {
     "name": "stdout",
     "output_type": "stream",
     "text": [
      "element 0 has url https://i.ytimg.com/vi/LHTQcKKNYQA/maxresdefault.jpg\n",
      "element 1 has url https://knowledgedev.service-now.com/k13/Frank-Slootman.jpgx\n",
      "element 2 has url https://i.ytimg.com/vi/xZ1HU44usjc/hqdefault.jpg\n",
      "element 3 has url https://i.ytimg.com/vi/-MiRSG116pk/maxresdefault.jpg\n",
      "https://www.google.com/search?q=Frank%20Slootman%20ServiceNow%2C%20Inc.&tbm=isch&tbs=cdr:1,cd_min:1/1/2014,cd_max:12/31/2014\n",
      "Frank Slootman 2014\n",
      "hover start\n",
      "hover done\n",
      "Found 70 potential image elements\n"
     ]
    },
    {
     "name": "stderr",
     "output_type": "stream",
     "text": [
      "Scraping:  20%|█████▊                       | 135/680 [19:56<1:18:11,  8.61s/it]"
     ]
    },
    {
     "name": "stdout",
     "output_type": "stream",
     "text": [
      "element 0 has url https://diginomica.com/sites/default/files/images/2014-04/frank-slootman.jpg\n",
      "element 1 has url https://i.ytimg.com/vi/ikxK9FF49ec/maxresdefault.jpg\n",
      "element 2 has url https://diginomica.com/sites/default/files/images/2015-01/servicenow.jpeg\n",
      "element 3 has url https://i.ytimg.com/vi/P41FklWqxZ4/sddefault.jpg\n",
      "https://www.google.com/search?q=Frank%20Slootman%20ServiceNow%2C%20Inc.&tbm=isch&tbs=cdr:1,cd_min:1/1/2015,cd_max:12/31/2015\n",
      "Frank Slootman 2015\n",
      "hover start\n",
      "hover done\n",
      "Found 91 potential image elements\n"
     ]
    },
    {
     "name": "stderr",
     "output_type": "stream",
     "text": [
      "Scraping:  20%|█████▊                       | 136/680 [20:05<1:18:02,  8.61s/it]"
     ]
    },
    {
     "name": "stdout",
     "output_type": "stream",
     "text": [
      "element 0 has url https://fortune.com/img-assets/wp-content/uploads/2015/01/hs-frank-slootman-new.jpg\n",
      "element 1 has url http://siliconangle.com/files/2015/04/Frank-Slootman-ServiceNow-CEO-Knowledge15-theCUBE-2015.jpg\n",
      "element 2 has url https://i.ytimg.com/vi/wEGYb1hZP_w/maxresdefault.jpg\n",
      "element 3 has url https://photos5.appleinsider.com/archive/servicenow-120629.jpg\n",
      "https://www.google.com/search?q=Frank%20Slootman%20ServiceNow%2C%20Inc.&tbm=isch&tbs=cdr:1,cd_min:1/1/2016,cd_max:12/31/2016\n",
      "Frank Slootman 2016\n",
      "hover start\n",
      "hover done\n",
      "Found 100 potential image elements\n"
     ]
    },
    {
     "name": "stderr",
     "output_type": "stream",
     "text": [
      "Scraping:  20%|█████▊                       | 137/680 [20:13<1:18:20,  8.66s/it]"
     ]
    },
    {
     "name": "stdout",
     "output_type": "stream",
     "text": [
      "element 0 has url https://i.ytimg.com/vi/SOUt-SFvzsY/maxresdefault.jpg\n",
      "element 1 has url https://d15shllkswkct0.cloudfront.net/wp-content/blogs.dir/1/files/2015/04/Frank-Slootman.jpg\n",
      "element 2 has url https://mtsprout.nl/wp-content/uploads/2002/01/fe4210273e5902aaf0a454c79722bb26-1354198761.jpg\n",
      "element 3 has url https://i.ytimg.com/vi/wEGYb1hZP_w/sddefault.jpg\n",
      "https://www.google.com/search?q=John%20Donahoe%20ServiceNow%2C%20Inc.&tbm=isch&tbs=cdr:1,cd_min:1/1/2017,cd_max:12/31/2017\n",
      "John Donahoe 2017\n",
      "hover start\n",
      "hover done\n",
      "Found 100 potential image elements\n"
     ]
    },
    {
     "name": "stderr",
     "output_type": "stream",
     "text": [
      "Scraping:  20%|█████▉                       | 138/680 [20:22<1:18:38,  8.71s/it]"
     ]
    },
    {
     "name": "stdout",
     "output_type": "stream",
     "text": [
      "element 0 has url https://i.ytimg.com/vi/3PBCw702eX4/sddefault.jpg\n",
      "element 1 has url https://i.ytimg.com/vi/gBa3eiAmKgA/maxresdefault.jpg\n",
      "element 2 has url https://i.ytimg.com/vi/zAb47SHrYwg/hqdefault.jpg\n",
      "element 3 has url https://esemanal.mx/revista/wp-content/uploads/2017/03/ServiceNow-John-Donahoe-Presidente-y-CEO.jpg\n",
      "https://www.google.com/search?q=John%20Donahoe%20ServiceNow%2C%20Inc.&tbm=isch&tbs=cdr:1,cd_min:1/1/2018,cd_max:12/31/2018\n",
      "John Donahoe 2018\n",
      "hover start\n",
      "hover done\n",
      "Found 100 potential image elements\n"
     ]
    },
    {
     "name": "stderr",
     "output_type": "stream",
     "text": [
      "Scraping:  20%|█████▉                       | 139/680 [20:31<1:18:50,  8.74s/it]"
     ]
    },
    {
     "name": "stdout",
     "output_type": "stream",
     "text": [
      "element 0 has url https://d15shllkswkct0.cloudfront.net/wp-content/blogs.dir/1/files/2018/05/IMG_9020.jpg\n",
      "element 1 has url https://files.cyberriskalliance.com/wp-content/uploads/2023/08/servicenow-ceo-john-donahoe-1.jpg\n",
      "element 2 has url https://files.cyberriskalliance.com/wp-content/uploads/2023/08/john-donahoe-1.jpg\n",
      "element 3 has url https://i.forbesimg.com/2018/5/21/John-Donahoe-CEO-horizontal.jpg\n",
      "https://www.google.com/search?q=John%20Donahoe%20ServiceNow%2C%20Inc.&tbm=isch&tbs=cdr:1,cd_min:1/1/2019,cd_max:12/31/2019\n",
      "John Donahoe 2019\n",
      "hover start\n",
      "hover done\n",
      "Found 100 potential image elements\n"
     ]
    },
    {
     "name": "stderr",
     "output_type": "stream",
     "text": [
      "Scraping:  21%|█████▉                       | 140/680 [20:40<1:19:01,  8.78s/it]"
     ]
    },
    {
     "name": "stdout",
     "output_type": "stream",
     "text": [
      "element 0 has url https://i.insider.com/5cf5b6a311e20525040e9d25?width=1200&format=jpeg\n",
      "element 1 has url https://media.bizj.us/view/img/11501345/markparkerandjohndonahoefinaloctober2019*1200xx5663-3185-0-196.jpg\n",
      "element 2 has url https://upload.wikimedia.org/wikipedia/commons/8/84/JohnDonahoe.jpg\n",
      "element 3 has url https://i.ytimg.com/vi/TZ2tgWPDk1o/hq720.jpg?sqp=-oaymwEhCK4FEIIDSFryq4qpAxMIARUAAAAAGAElAADIQj0AgKJD&rs=AOn4CLBel2zuq72DB80jrapsOcty7G33hg\n",
      "https://www.google.com/search?q=Brad%20Smith%20Intuit%20Inc.&tbm=isch&tbs=cdr:1,cd_min:1/1/2010,cd_max:12/31/2010\n",
      "Brad Smith 2010\n",
      "hover start\n",
      "hover done\n",
      "Found 100 potential image elements\n"
     ]
    },
    {
     "name": "stderr",
     "output_type": "stream",
     "text": [
      "Scraping:  21%|██████                       | 141/680 [20:49<1:19:09,  8.81s/it]"
     ]
    },
    {
     "name": "stdout",
     "output_type": "stream",
     "text": [
      "element 0 has url https://mms.businesswire.com/media/20151027005715/en/169638/4/intuit_logo.jpg\n",
      "element 1 has url http://www.venturenashville.com/files/image/BradSmith.jpg\n",
      "element 2 has url http://cpa-connecticut.com/blog/wp-content/uploads/2010/06/Bill-and-Carole-picture.jpg\n",
      "element 3 has url https://www.raywang.org/sites/default/files/imported-featured-images/tatarinov_print.jpg\n",
      "https://www.google.com/search?q=Brad%20Smith%20Intuit%20Inc.&tbm=isch&tbs=cdr:1,cd_min:1/1/2011,cd_max:12/31/2011\n",
      "Brad Smith 2011\n",
      "hover start\n",
      "hover done\n",
      "Found 100 potential image elements\n"
     ]
    },
    {
     "name": "stderr",
     "output_type": "stream",
     "text": [
      "Scraping:  21%|██████                       | 142/680 [20:58<1:19:07,  8.82s/it]"
     ]
    },
    {
     "name": "stdout",
     "output_type": "stream",
     "text": [
      "element 0 has url http://uploads.webflow.com/5260210b08c665df07000057/526ed426c385a0376f000087_feature-212-scott-cook-pop_7215.jpg\n",
      "element 1 has url https://s.wsj.net/public/resources/images/MK-BQ745_INTUIT_G_20111130192507.jpg\n",
      "element 2 has url https://cdn.geekwire.com/wp-content/uploads/2011/05/MSFT_Bellevue_store511_web.jpg\n",
      "element 3 has url https://www.raywang.org/sites/default/files/imported-featured-images/Steve-Miranda1.jpg\n",
      "https://www.google.com/search?q=Brad%20Smith%20Intuit%20Inc.&tbm=isch&tbs=cdr:1,cd_min:1/1/2012,cd_max:12/31/2012\n",
      "Brad Smith 2012\n",
      "hover start\n",
      "hover done\n",
      "Found 100 potential image elements\n"
     ]
    },
    {
     "name": "stderr",
     "output_type": "stream",
     "text": [
      "Scraping:  21%|██████                       | 143/680 [21:06<1:18:34,  8.78s/it]"
     ]
    },
    {
     "name": "stdout",
     "output_type": "stream",
     "text": [
      "element 0 has url https://www.thesoftwarereport.com/wp-content/uploads/2018/01/brad-smith-intuit.jpg\n",
      "element 1 has url https://mediaassets.fox17online.com/tribune-network/tribwxmi-files-wordpress/2014/03/smith-brad-intuit-ceo-bloomberg.jpg\n",
      "element 2 has url https://wvmetronews.com/wp-content/uploads/2015/09/Brad-Smith-1.jpg\n",
      "element 3 has url https://mms.businesswire.com/media/20151027005715/en/169638/5/intuit_logo.jpg\n",
      "https://www.google.com/search?q=Brad%20Smith%20Intuit%20Inc.&tbm=isch&tbs=cdr:1,cd_min:1/1/2013,cd_max:12/31/2013\n",
      "Brad Smith 2013\n",
      "hover start\n",
      "hover done\n",
      "Found 100 potential image elements\n"
     ]
    },
    {
     "name": "stderr",
     "output_type": "stream",
     "text": [
      "Scraping:  21%|██████▏                      | 144/680 [21:16<1:19:38,  8.91s/it]"
     ]
    },
    {
     "name": "stdout",
     "output_type": "stream",
     "text": [
      "element 0 has url https://i.ytimg.com/vi/EFWG51nGmGA/sddefault.jpg\n",
      "element 1 has url https://i.ytimg.com/vi/MYy1sW3k_00/maxresdefault.jpg\n",
      "element 2 has url https://i.ytimg.com/vi/uYxdsGCtNFE/maxresdefault.jpg\n",
      "element 3 has url https://i.ytimg.com/vi/aINehxO50ww/sddefault.jpg\n",
      "https://www.google.com/search?q=Brad%20Smith%20Intuit%20Inc.&tbm=isch&tbs=cdr:1,cd_min:1/1/2014,cd_max:12/31/2014\n",
      "Brad Smith 2014\n",
      "hover start\n",
      "hover done\n",
      "Found 100 potential image elements\n"
     ]
    },
    {
     "name": "stderr",
     "output_type": "stream",
     "text": [
      "Scraping:  21%|██████▏                      | 145/680 [21:25<1:19:23,  8.90s/it]"
     ]
    },
    {
     "name": "stdout",
     "output_type": "stream",
     "text": [
      "element 0 has url https://hbr.org/resources/images/article_assets/2014/12/R1501A_SMITH.jpg\n",
      "element 1 has url https://s.abcnews.com/images/Business/HT_brad_smith_jt_141104_16x9_992.jpg\n",
      "element 2 has url https://i.ytimg.com/vi/GCgOiutEZWQ/sddefault.jpg\n",
      "element 3 has url https://lookaside.fbsbx.com/lookaside/crawler/media/?media_id=10152116803271482\n",
      "https://www.google.com/search?q=Brad%20Smith%20Intuit%20Inc.&tbm=isch&tbs=cdr:1,cd_min:1/1/2015,cd_max:12/31/2015\n",
      "Brad Smith 2015\n",
      "hover start\n",
      "hover done\n",
      "Found 100 potential image elements\n"
     ]
    },
    {
     "name": "stderr",
     "output_type": "stream",
     "text": [
      "Scraping:  21%|██████▏                      | 146/680 [21:33<1:19:02,  8.88s/it]"
     ]
    },
    {
     "name": "stdout",
     "output_type": "stream",
     "text": [
      "element 0 has url https://hopeglobalforums.org/wp-content/uploads/2014/10/Smith.jpg\n",
      "element 1 has url https://fortune.com/img-assets/wp-content/uploads/2014/06/wgl07_1.jpg\n",
      "element 2 has url https://mms.businesswire.com/media/20151027005715/en/493137/4/eve102-2_pp.jpg\n",
      "element 3 has url https://www.intuit.com/content/dam/intuit/intuitcom/executive_profiles/high_resolution_image/brad_smith_new.jpg\n",
      "https://www.google.com/search?q=Brad%20Smith%20Intuit%20Inc.&tbm=isch&tbs=cdr:1,cd_min:1/1/2016,cd_max:12/31/2016\n",
      "Brad Smith 2016\n",
      "hover start\n",
      "hover done\n",
      "Found 100 potential image elements\n"
     ]
    },
    {
     "name": "stderr",
     "output_type": "stream",
     "text": [
      "Scraping:  22%|██████▎                      | 147/680 [21:42<1:19:01,  8.90s/it]"
     ]
    },
    {
     "name": "stdout",
     "output_type": "stream",
     "text": [
      "element 0 has url https://www.bloomberg.com/features/2016-how-did-i-get-here/img/0816_ETC_BACKPAGE_01.jpg\n",
      "element 1 has url https://www.bloomberg.com/features/2016-how-did-i-get-here/img/smith.png\n",
      "element 2 has url https://qsavings.biz/wp-content/uploads/2016/01/Brad-Smith.jpg\n",
      "element 3 has url https://www.bloomberg.com/features/2016-how-did-i-get-here/img/0816_ETC_BACKPAGE_04.jpg\n",
      "https://www.google.com/search?q=Brad%20Smith%20Intuit%20Inc.&tbm=isch&tbs=cdr:1,cd_min:1/1/2017,cd_max:12/31/2017\n",
      "Brad Smith 2017\n",
      "hover start\n",
      "hover done\n",
      "Found 100 potential image elements\n"
     ]
    },
    {
     "name": "stderr",
     "output_type": "stream",
     "text": [
      "Scraping:  22%|██████▎                      | 148/680 [21:51<1:18:40,  8.87s/it]"
     ]
    },
    {
     "name": "stdout",
     "output_type": "stream",
     "text": [
      "element 0 has url https://www.leanblog.org/wp-content/uploads/2014/07/brad-smith-150x150.png\n",
      "element 1 has url https://media.bizj.us/view/img/10472871/4-salesforce-tower-marc-benioff*xx2003-2003-499-0.jpg\n",
      "element 2 has url https://media.bizj.us/view/img/10459570/intuit-12-071217.jpg\n",
      "element 3 has url https://www.leanblog.org/wp-content/uploads/2014/07/IMG_0045-540x267.jpg\n",
      "https://www.google.com/search?q=Brad%20Smith%20Intuit%20Inc.&tbm=isch&tbs=cdr:1,cd_min:1/1/2018,cd_max:12/31/2018\n",
      "Brad Smith 2018\n",
      "hover start\n",
      "hover done\n",
      "Found 100 potential image elements\n"
     ]
    },
    {
     "name": "stderr",
     "output_type": "stream",
     "text": [
      "Scraping:  22%|██████▎                      | 149/680 [21:59<1:15:33,  8.54s/it]"
     ]
    },
    {
     "name": "stdout",
     "output_type": "stream",
     "text": [
      "element 0 has url https://www.crosslead.com/wp-content/uploads/2018/07/Brad_Smith_Crosslead.png\n",
      "element 1 has url https://www.boldbusiness.com/wp-content/uploads/2019/11/brad-smith-of-intuit-cartoon.jpg\n",
      "element 2 has url https://media.bizj.us/view/img/10216564/quickbook-connect-10-102516*xx3218-3218-805-0.jpg\n",
      "element 3 has url https://alchetron.com/cdn/brad-d-smith-c6088277-97f5-4e0e-a097-60ad0488221-resize-750.jpg\n",
      "https://www.google.com/search?q=Sasan%20Goodarzi%20Intuit%20Inc.&tbm=isch&tbs=cdr:1,cd_min:1/1/2019,cd_max:12/31/2019\n",
      "Sasan Goodarzi 2019\n",
      "hover start\n",
      "hover done\n",
      "Found 100 potential image elements\n"
     ]
    },
    {
     "name": "stderr",
     "output_type": "stream",
     "text": [
      "Scraping:  22%|██████▍                      | 150/680 [22:08<1:16:04,  8.61s/it]"
     ]
    },
    {
     "name": "stdout",
     "output_type": "stream",
     "text": [
      "element 0 has url https://thefinancialtechnologyreport.com/wp-content/uploads/2019/09/sasan-goodarzi.jpg\n",
      "element 1 has url https://i.insider.com/5d2fa2092516e96359031b91?width=1200&format=jpeg\n",
      "element 2 has url https://i.ytimg.com/vi/xt_jHh-phAs/maxresdefault.jpg\n",
      "element 3 has url https://www.accountingweb.co.uk/sites/default/files/sasan_goodarzi.jpg\n",
      "https://www.google.com/search?q=Dirk%20Meyer%20Advanced%20Micro%20Devices%2C%20Inc.&tbm=isch&tbs=cdr:1,cd_min:1/1/2010,cd_max:12/31/2010\n",
      "Dirk Meyer 2010\n",
      "hover start\n",
      "hover done\n",
      "Found 100 potential image elements\n"
     ]
    },
    {
     "name": "stderr",
     "output_type": "stream",
     "text": [
      "Scraping:  22%|██████▍                      | 151/680 [22:17<1:16:41,  8.70s/it]"
     ]
    },
    {
     "name": "stdout",
     "output_type": "stream",
     "text": [
      "element 0 has url http://media4.s-nbcnews.com/i/MSNBC/Components/Photo/_new/090513-intel-chips-hmed-535a.jpg\n",
      "element 1 has url https://www.silicon.co.uk/wp-content/uploads/library-extension/amdearnings234.jpg\n",
      "element 2 has url https://upload.wikimedia.org/wikipedia/jv/8/81/Logo-amd.png\n",
      "element 3 has url https://m.wsj.net/video/20101019/101910digits/101910digits_640x360.jpg\n",
      "https://www.google.com/search?q=Thomas%20Seifert%20%28interim%29%20Advanced%20Micro%20Devices%2C%20Inc.&tbm=isch&tbs=cdr:1,cd_min:1/1/2011,cd_max:12/31/2011\n",
      "Thomas Seifert (interim) 2011\n",
      "hover start\n",
      "hover done\n",
      "Found 100 potential image elements\n"
     ]
    },
    {
     "name": "stderr",
     "output_type": "stream",
     "text": [
      "Scraping:  22%|██████▍                      | 152/680 [22:26<1:18:09,  8.88s/it]"
     ]
    },
    {
     "name": "stdout",
     "output_type": "stream",
     "text": [
      "element 0 has url http://media.cleveland.com/business_impact/photo/rory-readjpg-2a999cebb846aaf8.jpg\n",
      "element 1 has url https://scx2.b-cdn.net/gfx/news/2011/admhasappoin.jpg\n",
      "element 2 has url https://scx2.b-cdn.net/gfx/news/hires/amdsceoresig.jpg\n",
      "element 3 has url https://s.wsj.net/public/resources/images/OB-LS923_amd011_G_20110110171047.jpg\n",
      "https://www.google.com/search?q=Rory%20Read%20Advanced%20Micro%20Devices%2C%20Inc.&tbm=isch&tbs=cdr:1,cd_min:1/1/2012,cd_max:12/31/2012\n",
      "Rory Read 2012\n",
      "hover start\n",
      "hover done\n",
      "Found 100 potential image elements\n"
     ]
    },
    {
     "name": "stderr",
     "output_type": "stream",
     "text": [
      "Scraping:  22%|██████▌                      | 153/680 [22:35<1:19:16,  9.03s/it]"
     ]
    },
    {
     "name": "stdout",
     "output_type": "stream",
     "text": [
      "element 0 has url https://venturebeat.com/wp-content/uploads/2012/02/read-copy-big.jpg\n",
      "element 1 has url https://ei.marketwatch.com/Multimedia/2012/03/09/Photos/MC/MW-AQ174_read_r_20120309173624_MC.jpg?uuid=5dcb3922-6a38-11e1-8125-002128040cf6\n",
      "element 2 has url https://geektech.ie/wp-content/uploads/2014/10/Dr-Lisa-Su-AMD-KitGuru-Computex-2012.jpg\n",
      "element 3 has url https://venturebeat.com/wp-content/uploads/2012/01/amd-ceo.jpg\n",
      "https://www.google.com/search?q=Rory%20Read%20Advanced%20Micro%20Devices%2C%20Inc.&tbm=isch&tbs=cdr:1,cd_min:1/1/2013,cd_max:12/31/2013\n",
      "Rory Read 2013\n",
      "hover start\n",
      "hover done\n",
      "Found 100 potential image elements\n"
     ]
    },
    {
     "name": "stderr",
     "output_type": "stream",
     "text": [
      "Scraping:  23%|██████▌                      | 154/680 [22:44<1:18:34,  8.96s/it]"
     ]
    },
    {
     "name": "stdout",
     "output_type": "stream",
     "text": [
      "element 0 has url https://www.hartwickalumni.org/s/158/images/editor/wall_of_fame/read__rory.JPG\n",
      "element 1 has url http://media.marketwire.com/attachments/201410/80313_LisaSuHeadshot.jpg\n",
      "element 2 has url http://bsmedia.business-standard.com/_media/bs/img/article/2013-08/02/full/1375383387-4326.jpg\n",
      "element 3 has url https://venturebeat.com/wp-content/uploads/2013/01/amd-cfo.jpg\n",
      "https://www.google.com/search?q=Lisa%20Su%20Advanced%20Micro%20Devices%2C%20Inc.&tbm=isch&tbs=cdr:1,cd_min:1/1/2014,cd_max:12/31/2014\n",
      "Lisa Su 2014\n",
      "hover start\n",
      "hover done\n",
      "Found 100 potential image elements\n"
     ]
    },
    {
     "name": "stderr",
     "output_type": "stream",
     "text": [
      "Scraping:  23%|██████▌                      | 155/680 [22:53<1:18:38,  8.99s/it]"
     ]
    },
    {
     "name": "stdout",
     "output_type": "stream",
     "text": [
      "element 0 has url https://s.wsj.net/public/resources/images/BN-EX608_lisa10_P_20141008194710.jpg\n",
      "element 1 has url https://i.ytimg.com/vi/bmrqPJigiVc/hqdefault.jpg\n",
      "element 2 has url https://news-cdn.softpedia.com/images/fitted/620x348/AMD-Gets-New-Senior-Vice-President-and-General-Manager.jpg\n",
      "element 3 has url https://images.anandtech.com/doci/8606/AMD_Org_Chart.jpg\n",
      "https://www.google.com/search?q=Lisa%20Su%20Advanced%20Micro%20Devices%2C%20Inc.&tbm=isch&tbs=cdr:1,cd_min:1/1/2015,cd_max:12/31/2015\n",
      "Lisa Su 2015\n",
      "hover start\n",
      "hover done\n",
      "Found 100 potential image elements\n"
     ]
    },
    {
     "name": "stderr",
     "output_type": "stream",
     "text": [
      "Scraping:  23%|██████▋                      | 156/680 [23:02<1:18:18,  8.97s/it]"
     ]
    },
    {
     "name": "stdout",
     "output_type": "stream",
     "text": [
      "element 0 has url https://upload.wikimedia.org/wikipedia/commons/6/60/AMD_CEO_Lisa_Su_20150603.jpg\n",
      "element 1 has url https://media.bizj.us/view/img/3994591/screen-shot-2014-10-09-at-72005-am.png\n",
      "element 2 has url https://i.ytimg.com/vi/m7BKW-HkXrQ/maxresdefault.jpg\n",
      "element 3 has url https://i.ytimg.com/vi/ipCht_aOW9o/mqdefault.jpg\n",
      "https://www.google.com/search?q=Lisa%20Su%20Advanced%20Micro%20Devices%2C%20Inc.&tbm=isch&tbs=cdr:1,cd_min:1/1/2016,cd_max:12/31/2016\n",
      "Lisa Su 2016\n",
      "hover start\n",
      "hover done\n",
      "Found 100 potential image elements\n"
     ]
    },
    {
     "name": "stderr",
     "output_type": "stream",
     "text": [
      "Scraping:  23%|██████▋                      | 157/680 [23:11<1:18:38,  9.02s/it]"
     ]
    },
    {
     "name": "stdout",
     "output_type": "stream",
     "text": [
      "element 0 has url http://media.bizj.us/view/img/3997651/lisa-su-formal-high-res*1200xx2100-1181-0-160.jpg\n",
      "element 1 has url https://media.bizj.us/view/img/3995621/lisa-su-casual-high-res*400xx1500-1500-0-38.jpg\n",
      "element 2 has url https://moorinsightsstrategy.com/wp-content/uploads/2016/11/28923134360_ec145a1192_k.jpg\n",
      "element 3 has url https://ei.marketwatch.com/Multimedia/2014/10/08/Photos/ZQ/MW-CV966_su_lis_20141008183202_ZQ.jpg?uuid=5ea19572-4f3b-11e4-979d-b1d0892f06a2\n",
      "https://www.google.com/search?q=Lisa%20Su%20Advanced%20Micro%20Devices%2C%20Inc.&tbm=isch&tbs=cdr:1,cd_min:1/1/2017,cd_max:12/31/2017\n",
      "Lisa Su 2017\n",
      "hover start\n",
      "hover done\n",
      "Found 100 potential image elements\n"
     ]
    },
    {
     "name": "stderr",
     "output_type": "stream",
     "text": [
      "Scraping:  23%|██████▋                      | 158/680 [23:20<1:18:04,  8.97s/it]"
     ]
    },
    {
     "name": "stdout",
     "output_type": "stream",
     "text": [
      "element 0 has url https://news.mit.edu/sites/default/files/images/201702/Lisa-Su-AMD-MIT-00.jpg\n",
      "element 1 has url https://s.wsj.net/public/resources/images/BA-BN339_AMD_F1_KS_20170203200532.jpg\n",
      "element 2 has url http://media.bizj.us/view/img/3997651/lisa-su-formal-high-res*800xx2100-1181-0-9.jpg\n",
      "element 3 has url https://s.marketwatch.com/public/resources/images/MW-FG387_LisaSu_ZH_20170222163121.jpg\n",
      "https://www.google.com/search?q=Lisa%20Su%20Advanced%20Micro%20Devices%2C%20Inc.&tbm=isch&tbs=cdr:1,cd_min:1/1/2018,cd_max:12/31/2018\n",
      "Lisa Su 2018\n",
      "hover start\n",
      "hover done\n",
      "Found 100 potential image elements\n"
     ]
    },
    {
     "name": "stderr",
     "output_type": "stream",
     "text": [
      "Scraping:  23%|██████▊                      | 159/680 [23:28<1:14:59,  8.64s/it]"
     ]
    },
    {
     "name": "stdout",
     "output_type": "stream",
     "text": [
      "element 0 has url https://mms.businesswire.com/media/20181112005519/en/689901/5/Lisa_Su_sq._crop_1200px.jpg\n",
      "element 1 has url https://s.wsj.net/public/resources/images/B3-AF385_LisaSu_G_20180426135259.jpg\n",
      "element 2 has url https://static01.nyt.com/images/2017/05/21/business/21corner/21corner-videoSixteenByNineJumbo1600.jpg\n",
      "element 3 has url https://s.marketwatch.com/public/resources/images/MW-GH645_su_lis_ZH_20180419112704.jpg\n",
      "https://www.google.com/search?q=Lisa%20Su%20Advanced%20Micro%20Devices%2C%20Inc.&tbm=isch&tbs=cdr:1,cd_min:1/1/2019,cd_max:12/31/2019\n",
      "Lisa Su 2019\n",
      "hover start\n",
      "hover done\n",
      "Found 100 potential image elements\n"
     ]
    },
    {
     "name": "stderr",
     "output_type": "stream",
     "text": [
      "Scraping:  24%|██████▊                      | 160/680 [23:37<1:15:34,  8.72s/it]"
     ]
    },
    {
     "name": "stdout",
     "output_type": "stream",
     "text": [
      "element 0 has url https://s.marketwatch.com/public/resources/images/MW-HB687_amd010_ZH_20190109173749.jpg\n",
      "element 1 has url https://static01.nyt.com/images/2017/05/21/business/21corner/21corner-superJumbo.jpg\n",
      "element 2 has url https://media.bizj.us/view/img/11280109/su-lisa-printlisasu201804180133*1200xx5221-2937-0-273.jpg\n",
      "element 3 has url https://i.ytimg.com/vi/4OAT5h1c1l4/hq720.jpg?sqp=-oaymwEhCK4FEIIDSFryq4qpAxMIARUAAAAAGAElAADIQj0AgKJD&rs=AOn4CLDLjyb9Vc4qRxwIuM6T__HC14IVZA\n",
      "https://www.google.com/search?q=Mark%20Hurd%20HP%20Inc.&tbm=isch&tbs=cdr:1,cd_min:1/1/2010,cd_max:12/31/2010\n",
      "Mark Hurd 2010\n",
      "hover start\n",
      "hover done\n",
      "Found 100 potential image elements\n"
     ]
    },
    {
     "name": "stderr",
     "output_type": "stream",
     "text": [
      "Scraping:  24%|██████▊                      | 161/680 [23:46<1:15:57,  8.78s/it]"
     ]
    },
    {
     "name": "stdout",
     "output_type": "stream",
     "text": [
      "element 0 has url https://s.wsj.net/public/resources/images/OB-JM648_0806hu_G_20100806162313.jpg\n",
      "element 1 has url https://s.wsj.net/public/resources/images/OB-JM708_0806hu_NS_20100806173852.jpg\n",
      "element 2 has url https://scx2.b-cdn.net/gfx/news/hires/disgracedhpc.jpg\n",
      "element 3 has url https://images.fastcompany.com/image/upload/imgs-fc-com/hurdplayboy.jpg\n",
      "https://www.google.com/search?q=Leo%20Apotheker%20HP%20Inc.&tbm=isch&tbs=cdr:1,cd_min:1/1/2011,cd_max:12/31/2011\n",
      "Leo Apotheker 2011\n",
      "hover start\n",
      "hover done\n",
      "Found 100 potential image elements\n"
     ]
    },
    {
     "name": "stderr",
     "output_type": "stream",
     "text": [
      "Scraping:  24%|██████▉                      | 162/680 [23:55<1:15:53,  8.79s/it]"
     ]
    },
    {
     "name": "stdout",
     "output_type": "stream",
     "text": [
      "element 0 has url https://s.wsj.net/public/resources/images/MK-BK535_HPSTRA_G_20110313182152.jpg\n",
      "element 1 has url https://allthingsd.com/files/2011/09/leo_apotheker_by_RickSmolan-380x285.png\n",
      "element 2 has url http://media.syracuse.com/news/photo/2011/09/10096342-large.jpg\n",
      "element 3 has url https://images.techhive.com/images/idge/imported/article/ctw/2011/08/19/leo-apotheker-200-100377833-orig.jpg?auto=webp&quality=85,70\n",
      "https://www.google.com/search?q=Meg%20Whitman%20HP%20Inc.&tbm=isch&tbs=cdr:1,cd_min:1/1/2012,cd_max:12/31/2012\n",
      "Meg Whitman 2012\n",
      "hover start\n",
      "hover done\n",
      "Found 100 potential image elements\n"
     ]
    },
    {
     "name": "stderr",
     "output_type": "stream",
     "text": [
      "Scraping:  24%|██████▉                      | 163/680 [24:03<1:15:43,  8.79s/it]"
     ]
    },
    {
     "name": "stdout",
     "output_type": "stream",
     "text": [
      "element 0 has url https://d15shllkswkct0.cloudfront.net/wp-content/blogs.dir/1/files/2015/06/Meg-Whitman-Global-Influencer-Summit_0.jpg\n",
      "element 1 has url https://s.wsj.net/public/resources/images/MK-BU780_WHITMA_G_20120605174558.jpg\n",
      "element 2 has url http://media.oregonlive.com/business_impact/photo/11653154-large.jpg\n",
      "element 3 has url https://m.wsj.net/video/20110922/092211meanstreethp/092211meanstreethp_1280x720.jpg\n",
      "https://www.google.com/search?q=Meg%20Whitman%20HP%20Inc.&tbm=isch&tbs=cdr:1,cd_min:1/1/2013,cd_max:12/31/2013\n",
      "Meg Whitman 2013\n",
      "hover start\n",
      "hover done\n",
      "Found 100 potential image elements\n"
     ]
    },
    {
     "name": "stderr",
     "output_type": "stream",
     "text": [
      "Scraping:  24%|██████▉                      | 164/680 [24:12<1:15:41,  8.80s/it]"
     ]
    },
    {
     "name": "stdout",
     "output_type": "stream",
     "text": [
      "element 0 has url http://media1.s-nbcnews.com/i/streams/2013/January/130113/1B5513579-121211-meg-whitman-hmed.jpg\n",
      "element 1 has url https://swalanyeti.co.ke/storage/uploads/2021/12/IMG-20211209114931.jpeg\n",
      "element 2 has url https://media2.malaymail.com/uploads/articles/hewlett_HP_2610.JPG\n",
      "element 3 has url https://ei.marketwatch.com/Multimedia/2013/10/09/Photos/MP/MW-BM806_whitma_20131009121206_MP.jpg?uuid=97fc132c-30fd-11e3-afcc-00212803fad6\n",
      "https://www.google.com/search?q=Meg%20Whitman%20HP%20Inc.&tbm=isch&tbs=cdr:1,cd_min:1/1/2014,cd_max:12/31/2014\n",
      "Meg Whitman 2014\n",
      "hover start\n",
      "hover done\n",
      "Found 100 potential image elements\n"
     ]
    },
    {
     "name": "stderr",
     "output_type": "stream",
     "text": [
      "Scraping:  24%|███████                      | 165/680 [24:21<1:15:09,  8.76s/it]"
     ]
    },
    {
     "name": "stdout",
     "output_type": "stream",
     "text": [
      "element 0 has url https://static01.nyt.com/images/2014/10/07/business/WHITMAN/WHITMAN-superJumbo.jpg\n",
      "element 1 has url https://eu-images.contentstack.com/v3/assets/blt69509c9116440be8/bltc2bbf1a05433db4b/64cb29c3ffe2e03b4dbc3377/Meg-Whitman.jpg\n",
      "element 2 has url https://eu-images.contentstack.com/v3/assets/blt8eb3cdfc1fce5194/blt8726e1d75e3a8945/66210cbb902bdb563c7799fb/Meg-Whitman-hp.jpg\n",
      "element 3 has url https://s.wsj.net/public/resources/images/P1-BR519_HP_G_20141005174252.jpg\n",
      "https://www.google.com/search?q=Dion%20Weisler%20HP%20Inc.&tbm=isch&tbs=cdr:1,cd_min:1/1/2015,cd_max:12/31/2015\n",
      "Dion Weisler 2015\n",
      "hover start\n",
      "hover done\n",
      "Found 100 potential image elements\n"
     ]
    },
    {
     "name": "stderr",
     "output_type": "stream",
     "text": [
      "Scraping:  24%|███████                      | 166/680 [24:30<1:14:57,  8.75s/it]"
     ]
    },
    {
     "name": "stdout",
     "output_type": "stream",
     "text": [
      "element 0 has url https://fortune.com/img-assets/wp-content/uploads/2014/10/hp-dion-weisler-crop1.png\n",
      "element 1 has url http://blogs-images.forbes.com/georgeanders/files/2015/10/dion-weisler_1200x675.jpg\n",
      "element 2 has url https://lookaside.fbsbx.com/lookaside/crawler/media/?media_id=10152490002018937\n",
      "element 3 has url https://assets.bwbx.io/images/users/iqjWHBFdfxIU/iL5YzqrIqeaI/v238/-1x-1.jpg\n",
      "https://www.google.com/search?q=Dion%20Weisler%20HP%20Inc.&tbm=isch&tbs=cdr:1,cd_min:1/1/2016,cd_max:12/31/2016\n",
      "Dion Weisler 2016\n",
      "hover start\n",
      "hover done\n",
      "Found 98 potential image elements\n"
     ]
    },
    {
     "name": "stderr",
     "output_type": "stream",
     "text": [
      "Scraping:  25%|███████                      | 167/680 [24:37<1:12:15,  8.45s/it]"
     ]
    },
    {
     "name": "stdout",
     "output_type": "stream",
     "text": [
      "element 0 has url http://media.bizj.us/view/img/3959571/dion-weislerhewlett-packard*400xx1200-1200-0-0.jpg\n",
      "element 1 has url https://fortune.com/img-assets/wp-content/uploads/2016/03/hp-dion.jpg\n",
      "element 2 has url https://fortune.com/img-assets/wp-content/uploads/2016/07/dion-weisler.jpg\n",
      "element 3 has url https://s.wsj.net/public/resources/images/BN-OB076_0517hp_M_20160517010346.jpg\n",
      "https://www.google.com/search?q=Dion%20Weisler%20HP%20Inc.&tbm=isch&tbs=cdr:1,cd_min:1/1/2017,cd_max:12/31/2017\n",
      "Dion Weisler 2017\n",
      "hover start\n",
      "hover done\n",
      "Found 100 potential image elements\n"
     ]
    },
    {
     "name": "stderr",
     "output_type": "stream",
     "text": [
      "Scraping:  25%|███████▏                     | 168/680 [24:46<1:12:49,  8.53s/it]"
     ]
    },
    {
     "name": "stdout",
     "output_type": "stream",
     "text": [
      "element 0 has url http://blogs-images.forbes.com/peterhigh/files/2015/06/dion-weisler-v2.jpg\n",
      "element 1 has url https://s.wsj.net/public/resources/images/ON-CH575_HPWeis_G_20171013100518.jpg\n",
      "element 2 has url http://mms.businesswire.com/media/20170301005757/en/572827/4/Dion_Weisler.jpg\n",
      "element 3 has url https://www.pioneeringminds.com/wp-content/uploads/2017/12/HP-Inc.-CEO-Printing-Profits-Mad-Money-CNBC.jpeg\n",
      "https://www.google.com/search?q=Dion%20Weisler%20HP%20Inc.&tbm=isch&tbs=cdr:1,cd_min:1/1/2018,cd_max:12/31/2018\n",
      "Dion Weisler 2018\n",
      "hover start\n",
      "hover done\n",
      "Found 99 potential image elements\n"
     ]
    },
    {
     "name": "stderr",
     "output_type": "stream",
     "text": [
      "Scraping:  25%|███████▏                     | 169/680 [24:55<1:13:37,  8.64s/it]"
     ]
    },
    {
     "name": "stdout",
     "output_type": "stream",
     "text": [
      "element 0 has url https://image.cnbcfm.com/api/v1/image/104502551-IMG_0297-Dion-_Weisler.jpg?v=1496267911\n",
      "element 1 has url https://fortune.com/img-assets/wp-content/uploads/2018/06/weisler_still.jpg\n",
      "element 2 has url https://media.licdn.com/dms/image/v2/C4E03AQEYx8GqhDr3_A/profile-displayphoto-shrink_200_200/profile-displayphoto-shrink_200_200/0/1516307204978?e=2147483647&v=beta&t=XzNOD9e1fi03FyQIA34XjLyJTQ5n8QOjQnZ2hg36oEQ\n",
      "element 3 has url https://i.ytimg.com/vi/gflXN37gecw/maxresdefault.jpg\n",
      "https://www.google.com/search?q=Enrique%20Lores%20HP%20Inc.&tbm=isch&tbs=cdr:1,cd_min:1/1/2019,cd_max:12/31/2019\n",
      "Enrique Lores 2019\n",
      "hover start\n",
      "hover done\n",
      "Found 100 potential image elements\n"
     ]
    },
    {
     "name": "stderr",
     "output_type": "stream",
     "text": [
      "Scraping:  25%|███████▎                     | 170/680 [25:04<1:13:58,  8.70s/it]"
     ]
    },
    {
     "name": "stdout",
     "output_type": "stream",
     "text": [
      "element 0 has url https://2ccb6e56.delivery.rocketcdn.me/wp-content/uploads/2019/08/Enrique-Lores-HP-CEO.jpg\n",
      "element 1 has url https://www.opi.net/wp-content/uploads/2019/09/Enrique-Lores-2019-648.jpg\n",
      "element 2 has url https://cdn.analyticsvidhya.com/wp-content/uploads/2023/06/Enrique-Lores-3.jpg\n",
      "element 3 has url https://res.cloudinary.com/people-matters/image/upload/q_auto,f_auto/v1566517573/1566517572.jpg\n",
      "https://www.google.com/search?q=Steve%20Appleton%20Micron%20Technology%2C%20Inc.&tbm=isch&tbs=cdr:1,cd_min:1/1/2010,cd_max:12/31/2010\n",
      "Steve Appleton 2010\n",
      "hover start\n",
      "hover done\n",
      "Found 100 potential image elements\n"
     ]
    },
    {
     "name": "stderr",
     "output_type": "stream",
     "text": [
      "Scraping:  25%|███████▎                     | 171/680 [25:13<1:14:30,  8.78s/it]"
     ]
    },
    {
     "name": "stdout",
     "output_type": "stream",
     "text": [
      "element 0 has url https://www.astroman.com.pl/img/magazyn/664/s/M__Steven_R_Appleton___Micron.jpg\n",
      "element 1 has url https://www.astroman.com.pl/img/magazyn/664/o/M__Boise_Facility.jpg\n",
      "element 2 has url https://www.astroman.com.pl/img/magazyn/664/o/M__RLDRAM.jpg\n",
      "element 3 has url https://www.astroman.com.pl/img/magazyn/664/o/M__Nishiwaki_japan.jpg\n",
      "https://www.google.com/search?q=Steve%20Appleton%20Micron%20Technology%2C%20Inc.&tbm=isch&tbs=cdr:1,cd_min:1/1/2011,cd_max:12/31/2011\n",
      "Steve Appleton 2011\n",
      "hover start\n",
      "hover done\n",
      "Found 99 potential image elements\n"
     ]
    },
    {
     "name": "stderr",
     "output_type": "stream",
     "text": [
      "Scraping:  25%|███████▎                     | 172/680 [25:21<1:14:09,  8.76s/it]"
     ]
    },
    {
     "name": "stdout",
     "output_type": "stream",
     "text": [
      "element 0 has url http://stateimpact.npr.org/idaho/files/2012/02/SteveAppleton_Micron.jpg\n",
      "element 1 has url https://bloximages.chicago2.vip.townnews.com/idahopress.com/content/tncms/assets/v3/editorial/6/9e/69efd9eb-d247-533f-9e8a-d9e78f99599d/69efd9eb-d247-533f-9e8a-d9e78f99599d.image.jpg\n",
      "element 2 has url https://bloximages.chicago2.vip.townnews.com/idahopress.com/content/tncms/assets/v3/editorial/9/f0/9f0d6e14-cfe0-5f83-9c04-7539da42d84d/9f0d6e14-cfe0-5f83-9c04-7539da42d84d.image.jpg\n",
      "element 3 has url http://stateimpact.npr.org/idaho/files/2012/02/MarkDurcan_micron.jpg\n",
      "https://www.google.com/search?q=Mark%20Durcan%20Micron%20Technology%2C%20Inc.&tbm=isch&tbs=cdr:1,cd_min:1/1/2012,cd_max:12/31/2012\n",
      "Mark Durcan 2012\n",
      "hover start\n",
      "hover done\n",
      "Found 100 potential image elements\n"
     ]
    },
    {
     "name": "stderr",
     "output_type": "stream",
     "text": [
      "Scraping:  25%|███████▍                     | 173/680 [25:30<1:13:42,  8.72s/it]"
     ]
    },
    {
     "name": "stdout",
     "output_type": "stream",
     "text": [
      "element 0 has url https://venturebeat.com/wp-content/uploads/2012/02/mark-durcan.jpg\n",
      "element 1 has url https://www.silicon.co.uk/wp-content/uploads/2012/02/markdurcanmicronlarge.jpg\n",
      "element 2 has url https://www.techspot.com/images/teaser/steve%20appleton%20mark%20durcan.jpg\n",
      "element 3 has url https://archive-images.prod.global.a201836.reutersmedia.net/2012/02/05/BTRE8121HI300.JPG\n",
      "https://www.google.com/search?q=Mark%20Durcan%20Micron%20Technology%2C%20Inc.&tbm=isch&tbs=cdr:1,cd_min:1/1/2013,cd_max:12/31/2013\n",
      "Mark Durcan 2013\n",
      "hover start\n",
      "hover done\n",
      "Found 100 potential image elements\n"
     ]
    },
    {
     "name": "stderr",
     "output_type": "stream",
     "text": [
      "Scraping:  26%|███████▍                     | 174/680 [25:39<1:13:51,  8.76s/it]"
     ]
    },
    {
     "name": "stdout",
     "output_type": "stream",
     "text": [
      "element 0 has url https://xtech.nikkei.com/dm/article/NEWS/20130208/264911/thumb_230_mark.jpg\n",
      "element 1 has url https://news.mynavi.jp/techplus/article/20130801-elpida/images/001.jpg\n",
      "element 2 has url http://content.ktvb.com/photo/2014/06/27/micron-logo_7275341_ver1.0.jpg\n",
      "element 3 has url https://epsnews.com/wp-content/uploads/2013/12/Micron-Office-300-x-200.jpg\n",
      "https://www.google.com/search?q=Mark%20Durcan%20Micron%20Technology%2C%20Inc.&tbm=isch&tbs=cdr:1,cd_min:1/1/2014,cd_max:12/31/2014\n",
      "Mark Durcan 2014\n",
      "hover start\n",
      "hover done\n",
      "Found 79 potential image elements\n"
     ]
    },
    {
     "name": "stderr",
     "output_type": "stream",
     "text": [
      "Scraping:  26%|███████▍                     | 175/680 [25:48<1:13:19,  8.71s/it]"
     ]
    },
    {
     "name": "stdout",
     "output_type": "stream",
     "text": [
      "element 0 has url https://nikkeiforum.com/ngmf2014en/img/speakers/p07_Durcan.jpg\n",
      "element 1 has url https://s.wsj.net/public/resources/images/AI-CK768_BTA_MI_G_20140914182343.jpg\n",
      "element 2 has url https://s.wsj.net/public/resources/images/BA-BG160_Jack_p_GV_20141002180118.jpg\n",
      "element 3 has url https://images.anandtech.com/doci/11100/thumb_durcan.jpg\n",
      "https://www.google.com/search?q=Mark%20Durcan%20Micron%20Technology%2C%20Inc.&tbm=isch&tbs=cdr:1,cd_min:1/1/2015,cd_max:12/31/2015\n",
      "Mark Durcan 2015\n",
      "hover start\n",
      "hover done\n",
      "Found 100 potential image elements\n"
     ]
    },
    {
     "name": "stderr",
     "output_type": "stream",
     "text": [
      "Scraping:  26%|███████▌                     | 176/680 [25:56<1:13:10,  8.71s/it]"
     ]
    },
    {
     "name": "stdout",
     "output_type": "stream",
     "text": [
      "element 0 has url https://idahobusinessreview.com/files/2015/10/Mark-Durcan-Resized1.jpg\n",
      "element 1 has url https://www.hiroshima-u.ac.jp/system/files/12527/0778.jpg\n",
      "element 2 has url https://s.wsj.net/public/resources/images/ON-BN219_Micron_G_20151009205821.jpg\n",
      "element 3 has url https://i.ytimg.com/vi/VFg-Wcs5VZ4/maxresdefault.jpg\n",
      "https://www.google.com/search?q=Mark%20Durcan%20Micron%20Technology%2C%20Inc.&tbm=isch&tbs=cdr:1,cd_min:1/1/2016,cd_max:12/31/2016\n",
      "Mark Durcan 2016\n",
      "hover start\n",
      "hover done\n",
      "Found 99 potential image elements\n"
     ]
    },
    {
     "name": "stderr",
     "output_type": "stream",
     "text": [
      "Scraping:  26%|███████▌                     | 177/680 [26:05<1:13:28,  8.76s/it]"
     ]
    },
    {
     "name": "stdout",
     "output_type": "stream",
     "text": [
      "element 0 has url https://s.wsj.net/public/resources/images/ON-BY312_Micron_DV_20161221181741.jpg\n",
      "element 1 has url https://www.taipeitimes.com/images/2016/12/13/P11-161213-337.jpg\n",
      "element 2 has url http://content.ktvb.com/photo/2015/01/22/635575533009378685-Mark-Durcan-KTVB_2134650_ver1.0.JPG\n",
      "element 3 has url https://s.wsj.net/public/resources/images/AI-CK768_BTA_MI_GR_20140914182343.jpg\n",
      "https://www.google.com/search?q=Sanjay%20Mehrotra%20Micron%20Technology%2C%20Inc.&tbm=isch&tbs=cdr:1,cd_min:1/1/2017,cd_max:12/31/2017\n",
      "Sanjay Mehrotra 2017\n",
      "hover start\n",
      "hover done\n",
      "Found 100 potential image elements\n"
     ]
    },
    {
     "name": "stderr",
     "output_type": "stream",
     "text": [
      "Scraping:  26%|███████▌                     | 178/680 [26:14<1:13:12,  8.75s/it]"
     ]
    },
    {
     "name": "stdout",
     "output_type": "stream",
     "text": [
      "element 0 has url https://images.anandtech.com/doci/11305/high_res_mehrotra.jpg\n",
      "element 1 has url https://images.livemint.com/rf/Image-621x414/LiveMint/Period2/2017/04/28/Photos/Processed/sanjaymehrotra-kI9--621x414@LiveMint.jpg\n",
      "element 2 has url https://s.marketwatch.com/public/resources/images/MW-GA527_Micron_ZH_20171219210154.jpg\n",
      "element 3 has url https://idahobusinessreview.com/files/2017/04/Sanjay-Mehrotra-1.jpg\n",
      "https://www.google.com/search?q=Sanjay%20Mehrotra%20Micron%20Technology%2C%20Inc.&tbm=isch&tbs=cdr:1,cd_min:1/1/2018,cd_max:12/31/2018\n",
      "Sanjay Mehrotra 2018\n",
      "hover start\n",
      "hover done\n",
      "Found 100 potential image elements\n"
     ]
    },
    {
     "name": "stderr",
     "output_type": "stream",
     "text": [
      "Scraping:  26%|███████▋                     | 179/680 [26:23<1:12:55,  8.73s/it]"
     ]
    },
    {
     "name": "stdout",
     "output_type": "stream",
     "text": [
      "element 0 has url https://en.svjp.org/wp-content/uploads/2018/07/Sanjay_Mehrotra-1.jpg\n",
      "element 1 has url https://s.wsj.net/public/resources/images/B3-AN067_Micron_G_20180521205903.jpg\n",
      "element 2 has url https://media.datacenterdynamics.com/media/images/250_x_250_mehrotra.original.jpg\n",
      "element 3 has url https://assets.thehansindia.com/hansindia-bucket/1253_Mehrotra.jpg\n",
      "https://www.google.com/search?q=Sanjay%20Mehrotra%20Micron%20Technology%2C%20Inc.&tbm=isch&tbs=cdr:1,cd_min:1/1/2019,cd_max:12/31/2019\n",
      "Sanjay Mehrotra 2019\n",
      "hover start\n",
      "hover done\n",
      "Found 100 potential image elements\n"
     ]
    },
    {
     "name": "stderr",
     "output_type": "stream",
     "text": [
      "Scraping:  26%|███████▋                     | 180/680 [26:32<1:13:43,  8.85s/it]"
     ]
    },
    {
     "name": "stdout",
     "output_type": "stream",
     "text": [
      "element 0 has url https://s.marketwatch.com/public/resources/images/MW-HG077_micron_ZH_20190320205607.jpg\n",
      "element 1 has url https://i.ytimg.com/vi/OPW6gArLLV8/maxresdefault.jpg\n",
      "element 2 has url https://www.idahostatesman.com/news/business/gq0s74/picture182905186/alternates/LANDSCAPE_1140/1105%20Micron%20CEO%2001%20arms%20folded\n",
      "element 3 has url https://media.ktvb.com/assets/KTVB/images/434520892/434520892_750x422.jpg\n",
      "https://www.google.com/search?q=Jerald%20Fishman%20Analog%20Devices%2C%20Inc.&tbm=isch&tbs=cdr:1,cd_min:1/1/2010,cd_max:12/31/2010\n",
      "Jerald Fishman 2010\n",
      "hover start\n",
      "hover done\n",
      "Found 100 potential image elements\n"
     ]
    },
    {
     "name": "stderr",
     "output_type": "stream",
     "text": [
      "Scraping:  27%|███████▋                     | 181/680 [26:41<1:14:09,  8.92s/it]"
     ]
    },
    {
     "name": "stdout",
     "output_type": "stream",
     "text": [
      "element 0 has url https://www.sec.gov/Archives/edgar/data/6281/000095013505000334/b53204dfb5320403.gif\n",
      "element 1 has url https://www.jneurosci.org/content/jneuro/25/3/539/F5.large.jpg\n",
      "element 2 has url https://www.nichd.nih.gov/sites/default/files/publications/pubs/acute/PublishingImages/p34_4.gif\n",
      "element 3 has url https://www.nichd.nih.gov/sites/default/files/publications/pubs/acute/PublishingImages/p31_5.gif\n",
      "https://www.google.com/search?q=Jerald%20Fishman%20Analog%20Devices%2C%20Inc.&tbm=isch&tbs=cdr:1,cd_min:1/1/2011,cd_max:12/31/2011\n",
      "Jerald Fishman 2011\n",
      "hover start\n",
      "hover done\n",
      "Found 100 potential image elements\n"
     ]
    },
    {
     "name": "stderr",
     "output_type": "stream",
     "text": [
      "Scraping:  27%|███████▊                     | 182/680 [26:50<1:13:53,  8.90s/it]"
     ]
    },
    {
     "name": "stdout",
     "output_type": "stream",
     "text": [
      "element 0 has url https://www.siliconrepublic.com/wp-content/uploads/2014/12/201107/analog.jpg\n",
      "element 1 has url http://www.getfilings.com/sec-filings/110330/ANALOG-DEVICES-INC_8-K/b83580b83580z0040.gif\n",
      "element 2 has url http://www.getfilings.com/sec-filings/110330/ANALOG-DEVICES-INC_8-K/b83580b83580z0035.gif\n",
      "element 3 has url http://www.getfilings.com/sec-filings/110330/ANALOG-DEVICES-INC_8-K/b83580b83580z0068.gif\n",
      "https://www.google.com/search?q=Jerald%20Fishman%20Analog%20Devices%2C%20Inc.&tbm=isch&tbs=cdr:1,cd_min:1/1/2012,cd_max:12/31/2012\n",
      "Jerald Fishman 2012\n",
      "hover start\n",
      "hover done\n",
      "Found 100 potential image elements\n"
     ]
    },
    {
     "name": "stderr",
     "output_type": "stream",
     "text": [
      "Scraping:  27%|███████▊                     | 183/680 [26:58<1:13:27,  8.87s/it]"
     ]
    },
    {
     "name": "stdout",
     "output_type": "stream",
     "text": [
      "element 0 has url http://www.poandpo.com/s0912/jerald_g_fishman.jpg\n",
      "element 1 has url https://www.techtaffy.com/wp-content/uploads/2012/01/robertYung_analogDevices.jpg\n",
      "element 2 has url https://www.sec.gov/Archives/edgar/data/6281/000000628112000010/adicompstockperfgraph.jpg\n",
      "element 3 has url https://hbr.org/resources/images/article_assets/hbr/9309/93505_B.gif\n",
      "https://www.google.com/search?q=Vincent%20Roche%20Analog%20Devices%2C%20Inc.&tbm=isch&tbs=cdr:1,cd_min:1/1/2013,cd_max:12/31/2013\n",
      "Vincent Roche 2013\n",
      "hover start\n",
      "hover done\n",
      "Found 100 potential image elements\n"
     ]
    },
    {
     "name": "stderr",
     "output_type": "stream",
     "text": [
      "Scraping:  27%|███████▊                     | 184/680 [27:07<1:13:07,  8.85s/it]"
     ]
    },
    {
     "name": "stdout",
     "output_type": "stream",
     "text": [
      "element 0 has url https://www.ncnonline.net/wp-content/uploads/2023/05/Vincent-Roche-CEO-and-Chair-ADI.jpg\n",
      "element 1 has url http://www.electronicspecifier.com/cms/images/old/pr40848a1.jpg\n",
      "element 2 has url http://www.poandpo.com/s0513/vincent_roche.jpg\n",
      "element 3 has url https://arc-anglerfish-arc2-prod-bostonglobe.s3.amazonaws.com/public/LII5NEEYX4I6FEVRXFKA7ZMQEE.jpg\n",
      "https://www.google.com/search?q=Vincent%20Roche%20Analog%20Devices%2C%20Inc.&tbm=isch&tbs=cdr:1,cd_min:1/1/2014,cd_max:12/31/2014\n",
      "Vincent Roche 2014\n",
      "hover start\n",
      "hover done\n",
      "Found 99 potential image elements\n"
     ]
    },
    {
     "name": "stderr",
     "output_type": "stream",
     "text": [
      "Scraping:  27%|███████▉                     | 185/680 [27:16<1:13:27,  8.90s/it]"
     ]
    },
    {
     "name": "stdout",
     "output_type": "stream",
     "text": [
      "element 0 has url x-raw-image:///7b848adbb052f27092ae2a089ee7515e0c0d9557900f7f49396f9002df19a7af\n",
      "element 1 has url https://media.bizj.us/view/img/1989461/analogvincentroche304.jpg\n",
      "element 2 has url https://www.perceptive-ic.com/uploads/caiji/202209Thursday/A22507342169_0.jpg\n",
      "element 3 has url https://www.perceptive-ic.com/uploads/caiji/202209Saturday/A224260050870_0.jpg\n",
      "https://www.google.com/search?q=Vincent%20Roche%20Analog%20Devices%2C%20Inc.&tbm=isch&tbs=cdr:1,cd_min:1/1/2015,cd_max:12/31/2015\n",
      "Vincent Roche 2015\n",
      "hover start\n",
      "hover done\n",
      "Found 99 potential image elements\n"
     ]
    },
    {
     "name": "stderr",
     "output_type": "stream",
     "text": [
      "Scraping:  27%|███████▉                     | 186/680 [27:25<1:14:13,  9.01s/it]"
     ]
    },
    {
     "name": "stdout",
     "output_type": "stream",
     "text": [
      "element 0 has url https://pbs.twimg.com/media/CGf3W1uXIAAipRv.jpg\n",
      "element 1 has url https://pbs.twimg.com/media/CPYf1sEWwAAZphv.jpg\n",
      "element 2 has url https://www.bisinfotech.com/wp-content/uploads/2015/10/Analog-Device.jpg\n",
      "element 3 has url https://images.contentful.com/3mjq8gxwl7y6/7CeJ8xBIkgcccAE86sEkKQ/fdd61fecda84d44f88d1ece542fa47d4/ADI-Vincent_Roche_2016-1.jpg\n",
      "https://www.google.com/search?q=Vincent%20Roche%20Analog%20Devices%2C%20Inc.&tbm=isch&tbs=cdr:1,cd_min:1/1/2016,cd_max:12/31/2016\n",
      "Vincent Roche 2016\n",
      "hover start\n",
      "hover done\n",
      "Found 100 potential image elements\n"
     ]
    },
    {
     "name": "stderr",
     "output_type": "stream",
     "text": [
      "Scraping:  28%|███████▉                     | 187/680 [27:35<1:14:15,  9.04s/it]"
     ]
    },
    {
     "name": "stdout",
     "output_type": "stream",
     "text": [
      "element 0 has url https://media.glassdoor.com/people/sqll/49/analog-devices-ceo1481731839949.png\n",
      "element 1 has url https://upload.wikimedia.org/wikipedia/commons/8/86/Analog_Devices_Logo.svg\n",
      "element 2 has url https://photos.prnasia.com/prnvar/20160204/0861601111\n",
      "element 3 has url https://s.wsj.net/public/resources/images/MW-ES516_analog_ZH_20160726164745.jpg\n",
      "https://www.google.com/search?q=Vincent%20Roche%20Analog%20Devices%2C%20Inc.&tbm=isch&tbs=cdr:1,cd_min:1/1/2017,cd_max:12/31/2017\n",
      "Vincent Roche 2017\n",
      "hover start\n",
      "hover done\n",
      "Found 100 potential image elements\n"
     ]
    },
    {
     "name": "stderr",
     "output_type": "stream",
     "text": [
      "Scraping:  28%|████████                     | 188/680 [27:44<1:13:53,  9.01s/it]"
     ]
    },
    {
     "name": "stdout",
     "output_type": "stream",
     "text": [
      "element 0 has url https://s.wsj.net/public/resources/images/BN-TR247_201705_G_20170531165931.jpg\n",
      "element 1 has url https://pbs.twimg.com/media/C3GAd0ZXgAAY5FD.jpg\n",
      "element 2 has url https://pbs.twimg.com/media/C5D9d1mXUAA0VnK.jpg\n",
      "element 3 has url https://i.ytimg.com/vi/81y3E45YcEs/hqdefault.jpg\n",
      "https://www.google.com/search?q=Vincent%20Roche%20Analog%20Devices%2C%20Inc.&tbm=isch&tbs=cdr:1,cd_min:1/1/2018,cd_max:12/31/2018\n",
      "Vincent Roche 2018\n",
      "hover start\n",
      "hover done\n",
      "Found 100 potential image elements\n"
     ]
    },
    {
     "name": "stderr",
     "output_type": "stream",
     "text": [
      "Scraping:  28%|████████                     | 189/680 [27:52<1:13:31,  8.98s/it]"
     ]
    },
    {
     "name": "stdout",
     "output_type": "stream",
     "text": [
      "element 0 has url https://www.analog.com/~/media/images/videoimages/en/auto/video-still-3680124167001.jpg?la=en\n",
      "element 1 has url https://www.koreaittimes.com/news/thumbnail/201305/28229_11389_0111_v150.jpg\n",
      "element 2 has url https://www.newelectronics.co.uk/media/v31o5syk/roche.jpg\n",
      "element 3 has url https://photos.prnasia.com/prnvar/20181205/2318126-1\n",
      "https://www.google.com/search?q=Vincent%20Roche%20Analog%20Devices%2C%20Inc.&tbm=isch&tbs=cdr:1,cd_min:1/1/2019,cd_max:12/31/2019\n",
      "Vincent Roche 2019\n",
      "hover start\n",
      "hover done\n",
      "Found 100 potential image elements\n"
     ]
    },
    {
     "name": "stderr",
     "output_type": "stream",
     "text": [
      "Scraping:  28%|████████                     | 190/680 [28:01<1:13:08,  8.96s/it]"
     ]
    },
    {
     "name": "stdout",
     "output_type": "stream",
     "text": [
      "element 0 has url https://www.analog.com/en/_/media/analog/en/landing-pages/executive-spotlights/vincent-roche-photo.jpg?rev=4e82ffc4aa654540acb7c09e5e385207&sc_lang=en&w=960\n",
      "element 1 has url https://eepower.com/uploads/thumbnails/27714__.jpg\n",
      "element 2 has url https://res.cloudinary.com/jamefiles/image/fetch/w_320,h_212,c_fill/http://www.poandpo.com/s0513/vincent_roche.jpg\n",
      "element 3 has url https://i.ytimg.com/vi/KdVJYp7ijqs/hqdefault.jpg\n",
      "https://www.google.com/search?q=Stephen%20G.%20Newberry%20Lam%20Research%20Corporation&tbm=isch&tbs=cdr:1,cd_min:1/1/2010,cd_max:12/31/2010\n",
      "Stephen G. Newberry 2010\n",
      "hover start\n",
      "hover done\n",
      "Found 100 potential image elements\n"
     ]
    },
    {
     "name": "stderr",
     "output_type": "stream",
     "text": [
      "Scraping:  28%|████████▏                    | 191/680 [28:10<1:13:22,  9.00s/it]"
     ]
    },
    {
     "name": "stdout",
     "output_type": "stream",
     "text": [
      "element 0 has url https://www.sec.gov/Archives/edgar/data/707549/000119312509182356/g36306g65j76.jpg\n",
      "element 1 has url https://www.sec.gov/Archives/edgar/data/1047127/000095015309000274/p14552dep1455216.gif\n",
      "element 2 has url https://www.sec.gov/Archives/edgar/data/1047127/000095015309000274/p14552dep1455217.gif\n",
      "element 3 has url https://www.commercialmls.com/Media/Agent/6905.jpg\n",
      "https://www.google.com/search?q=Stephen%20G.%20Newberry%20Lam%20Research%20Corporation&tbm=isch&tbs=cdr:1,cd_min:1/1/2011,cd_max:12/31/2011\n",
      "Stephen G. Newberry 2011\n",
      "hover start\n",
      "hover done\n",
      "Found 100 potential image elements\n"
     ]
    },
    {
     "name": "stderr",
     "output_type": "stream",
     "text": [
      "Scraping:  28%|████████▏                    | 192/680 [28:19<1:12:43,  8.94s/it]"
     ]
    },
    {
     "name": "stdout",
     "output_type": "stream",
     "text": [
      "element 0 has url https://www.sec.gov/Archives/edgar/data/707549/000119312511227691/g198964g58a23.jpg\n",
      "element 1 has url https://upload.wikimedia.org/wikipedia/commons/a/ac/Lam_Research_logo.svg\n",
      "element 2 has url https://leadershipinstitute.permanente.net/leadershipinstitute/wp-content/Cimy_User_Extra_Fields/S257529//0809117_photoweb.jpg\n",
      "element 3 has url https://aeworldmap.com/wp-content/uploads/2018/11/exeter.jpg\n",
      "https://www.google.com/search?q=Martin%20Anstice%20Lam%20Research%20Corporation&tbm=isch&tbs=cdr:1,cd_min:1/1/2012,cd_max:12/31/2012\n",
      "Martin Anstice 2012\n",
      "hover start\n",
      "hover done\n",
      "Found 32 potential image elements\n"
     ]
    },
    {
     "name": "stderr",
     "output_type": "stream",
     "text": [
      "Scraping:  28%|████████▏                    | 193/680 [28:28<1:11:50,  8.85s/it]"
     ]
    },
    {
     "name": "stdout",
     "output_type": "stream",
     "text": [
      "element 0 has url https://www.sec.gov/Archives/edgar/data/836106/000119312511342566/g271886ex99_7s3gbgd.jpg\n",
      "element 1 has url https://www.sec.gov/Archives/edgar/data/836106/000119312511342566/g271886ex99_7s11gbgd.jpg\n",
      "element 2 has url https://www.sec.gov/Archives/edgar/data/707549/000119312512399920/g411532g08x49.jpg\n",
      "element 3 has url https://www.sec.gov/Archives/edgar/data/836106/000119312511342566/g271886ex99_7s1gbgd.jpg\n",
      "https://www.google.com/search?q=Martin%20Anstice%20Lam%20Research%20Corporation&tbm=isch&tbs=cdr:1,cd_min:1/1/2013,cd_max:12/31/2013\n",
      "Martin Anstice 2013\n",
      "hover start\n",
      "hover done\n",
      "Found 39 potential image elements\n"
     ]
    },
    {
     "name": "stderr",
     "output_type": "stream",
     "text": [
      "Scraping:  29%|████████▎                    | 194/680 [28:36<1:11:05,  8.78s/it]"
     ]
    },
    {
     "name": "stdout",
     "output_type": "stream",
     "text": [
      "element 0 has url https://www.sec.gov/Archives/edgar/data/707549/000119312513376328/g596410img1.jpg\n",
      "element 1 has url https://www.sec.gov/Archives/edgar/data/707549/000119312513348269/g556924g44m88.jpg\n",
      "element 2 has url x-raw-image:///5c487e614cabf7d69a60c3684f87aad26bf2b750ca4f5272c3fa59383fad333f\n",
      "element 3 has url https://www.sec.gov/Archives/edgar/data/707549/000119312513376328/g596410g25a36.jpg\n",
      "https://www.google.com/search?q=Martin%20Anstice%20Lam%20Research%20Corporation&tbm=isch&tbs=cdr:1,cd_min:1/1/2014,cd_max:12/31/2014\n",
      "Martin Anstice 2014\n",
      "hover start\n",
      "hover done\n",
      "Found 72 potential image elements\n"
     ]
    },
    {
     "name": "stderr",
     "output_type": "stream",
     "text": [
      "Scraping:  29%|████████▎                    | 195/680 [28:45<1:10:38,  8.74s/it]"
     ]
    },
    {
     "name": "stdout",
     "output_type": "stream",
     "text": [
      "element 0 has url https://i.ytimg.com/vi/DgYnDVx_to0/hqdefault.jpg\n",
      "element 1 has url https://s.wsj.net/public/resources/images/BA-BG014_Hough__GV_20140911181344.jpg\n",
      "element 2 has url https://s.wsj.net/public/resources/images/BA-BG014_Hough__G_20140911181344.jpg\n",
      "element 3 has url https://www.sec.gov/Archives/edgar/data/707549/000119312514321759/g741932g29d11.jpg\n",
      "https://www.google.com/search?q=Martin%20Anstice%20Lam%20Research%20Corporation&tbm=isch&tbs=cdr:1,cd_min:1/1/2015,cd_max:12/31/2015\n",
      "Martin Anstice 2015\n",
      "hover start\n",
      "hover done\n",
      "Found 100 potential image elements\n"
     ]
    },
    {
     "name": "stderr",
     "output_type": "stream",
     "text": [
      "Scraping:  29%|████████▎                    | 196/680 [28:54<1:10:37,  8.76s/it]"
     ]
    },
    {
     "name": "stdout",
     "output_type": "stream",
     "text": [
      "element 0 has url http://media.bizj.us/view/img/7381242/lamresearchmartinanstice*1200xx648-365-0-6.jpg\n",
      "element 1 has url https://i.ytimg.com/vi/DgYnDVx_to0/sddefault.jpg\n",
      "element 2 has url https://i.ytimg.com/vi/wHKQMzsj-Sc/mqdefault.jpg\n",
      "element 3 has url https://www.sec.gov/Archives/edgar/data/319201/000119312515349507/g156541.jpg\n",
      "https://www.google.com/search?q=Martin%20Anstice%20Lam%20Research%20Corporation&tbm=isch&tbs=cdr:1,cd_min:1/1/2016,cd_max:12/31/2016\n",
      "Martin Anstice 2016\n",
      "hover start\n",
      "hover done\n",
      "Found 100 potential image elements\n"
     ]
    },
    {
     "name": "stderr",
     "output_type": "stream",
     "text": [
      "Scraping:  29%|████████▍                    | 197/680 [29:03<1:10:32,  8.76s/it]"
     ]
    },
    {
     "name": "stdout",
     "output_type": "stream",
     "text": [
      "element 0 has url http://www.semiconchina.org/Semicon_China_Manager/upload/img/speaker/1474599554740.jpg\n",
      "element 1 has url https://image.itmedia.co.jp/ee/articles/1610/11/mm161011_lam.jpg\n",
      "element 2 has url https://newsroom.lamresearch.com/image/Lam_Research_Rick_Gottscho_NAE_election.jpg\n",
      "element 3 has url https://newsroom.lamresearch.com/image/Lam_Thesis_Awards_06.13.16.jpg\n",
      "https://www.google.com/search?q=Martin%20Anstice%20Lam%20Research%20Corporation&tbm=isch&tbs=cdr:1,cd_min:1/1/2017,cd_max:12/31/2017\n",
      "Martin Anstice 2017\n",
      "hover start\n",
      "hover done\n",
      "Found 100 potential image elements\n"
     ]
    },
    {
     "name": "stderr",
     "output_type": "stream",
     "text": [
      "Scraping:  29%|████████▍                    | 198/680 [29:12<1:10:32,  8.78s/it]"
     ]
    },
    {
     "name": "stdout",
     "output_type": "stream",
     "text": [
      "element 0 has url https://lookaside.fbsbx.com/lookaside/crawler/media/?media_id=822566497915245\n",
      "element 1 has url https://lookaside.fbsbx.com/lookaside/crawler/media/?media_id=729340333904529\n",
      "element 2 has url https://english.president.gov.tw/File/Image/1ee0a541-846b-4a03-8e68-86e36443af8d\n",
      "element 3 has url https://lookaside.fbsbx.com/lookaside/crawler/media/?media_id=822566467915248\n",
      "https://www.google.com/search?q=Martin%20Anstice%20Lam%20Research%20Corporation&tbm=isch&tbs=cdr:1,cd_min:1/1/2018,cd_max:12/31/2018\n",
      "Martin Anstice 2018\n",
      "hover start\n",
      "hover done\n",
      "Found 98 potential image elements\n"
     ]
    },
    {
     "name": "stderr",
     "output_type": "stream",
     "text": [
      "Scraping:  29%|████████▍                    | 199/680 [29:20<1:09:59,  8.73s/it]"
     ]
    },
    {
     "name": "stdout",
     "output_type": "stream",
     "text": [
      "element 0 has url https://lookaside.fbsbx.com/lookaside/crawler/media/?media_id=1045682595603633\n",
      "element 1 has url https://s.marketwatch.com/public/resources/images/MW-GZ768_lamres_ZH_20181205170723.jpg\n",
      "element 2 has url https://media.bizj.us/view/img/11157128/gettyimages-471359830*1200xx3000-1688-0-156.jpg\n",
      "element 3 has url https://s.marketwatch.com/public/resources/images/MW-GZ768_lamres_ZT_20181205170723.jpg\n",
      "https://www.google.com/search?q=Tim%20Archer%20Lam%20Research%20Corporation&tbm=isch&tbs=cdr:1,cd_min:1/1/2019,cd_max:12/31/2019\n",
      "Tim Archer 2019\n",
      "hover start\n",
      "hover done\n",
      "Found 100 potential image elements\n"
     ]
    },
    {
     "name": "stderr",
     "output_type": "stream",
     "text": [
      "Scraping:  29%|████████▌                    | 200/680 [29:29<1:10:10,  8.77s/it]"
     ]
    },
    {
     "name": "stdout",
     "output_type": "stream",
     "text": [
      "element 0 has url https://www.semiconchina.org/Semicon_China_Manager/upload/img/speaker/1600684339368.jpg\n",
      "element 1 has url https://newsroom.lamresearch.com/image/Lam_SChina_sq_04.15.19.jpg\n",
      "element 2 has url https://cdn.hackernoon.com/images/RoifOyeHnPelQUu5SKamxiCm4py1-px036d7.jpeg\n",
      "element 3 has url https://d1hbpr09pwz0sk.cloudfront.net/profile_pic/tim-archer-4017f18d\n",
      "https://www.google.com/search?q=Michael%20R.%20Splinter%20Applied%20Materials%2C%20Inc.&tbm=isch&tbs=cdr:1,cd_min:1/1/2010,cd_max:12/31/2010\n",
      "Michael R. Splinter 2010\n",
      "hover start\n",
      "hover done\n",
      "Found 100 potential image elements\n"
     ]
    },
    {
     "name": "stderr",
     "output_type": "stream",
     "text": [
      "Scraping:  30%|████████▌                    | 201/680 [29:38<1:11:25,  8.95s/it]"
     ]
    },
    {
     "name": "stdout",
     "output_type": "stream",
     "text": [
      "element 0 has url https://english.president.gov.tw/File/Image/d66b8358-d198-4c7a-96df-e4fc1863f56e\n",
      "element 1 has url https://s.wsj.net/public/resources/images/applied_morgan04302003175911.jpg\n",
      "element 2 has url http://www.betasights.net/wordpress/wp-content/uploads/2010/07/amat_sunfab_cartoon.jpg\n",
      "element 3 has url http://www.thisiscarpentry.com/wp-content/uploads/2010/10/getts-7_1.jpg\n",
      "https://www.google.com/search?q=Michael%20R.%20Splinter%20Applied%20Materials%2C%20Inc.&tbm=isch&tbs=cdr:1,cd_min:1/1/2011,cd_max:12/31/2011\n",
      "Michael R. Splinter 2011\n",
      "hover start\n",
      "hover done\n",
      "Found 99 potential image elements\n"
     ]
    },
    {
     "name": "stderr",
     "output_type": "stream",
     "text": [
      "Scraping:  30%|████████▌                    | 202/680 [29:47<1:10:56,  8.91s/it]"
     ]
    },
    {
     "name": "stdout",
     "output_type": "stream",
     "text": [
      "element 0 has url https://s.wsj.net/public/resources/images/applied_splinter04302003175911.jpg\n",
      "element 1 has url https://www.sec.gov/Archives/edgar/data/6951/000119312511016069/g134925pc1.jpg\n",
      "element 2 has url https://www.sec.gov/Archives/edgar/data/6951/000119312511016069/g134925pc2.jpg\n",
      "element 3 has url https://storage.googleapis.com/blogs-images-new/ciscoblogs/1/2022/07/ScottGerber.jpg\n",
      "https://www.google.com/search?q=Michael%20R.%20Splinter%20Applied%20Materials%2C%20Inc.&tbm=isch&tbs=cdr:1,cd_min:1/1/2012,cd_max:12/31/2012\n",
      "Michael R. Splinter 2012\n",
      "hover start\n",
      "hover done\n",
      "Found 100 potential image elements\n"
     ]
    },
    {
     "name": "stderr",
     "output_type": "stream",
     "text": [
      "Scraping:  30%|████████▋                    | 203/680 [29:56<1:10:38,  8.88s/it]"
     ]
    },
    {
     "name": "stdout",
     "output_type": "stream",
     "text": [
      "element 0 has url https://img.technews.tw/wp-content/uploads/2020/06/30082150/Michael-Splinter-Applied-Materials.jpg\n",
      "element 1 has url https://www.sec.gov/Archives/edgar/data/6951/000000695112000018/stockinfo.jpg\n",
      "element 2 has url http://www.wishner.com/images/BarryWishnerGreetsCEOs.jpg\n",
      "element 3 has url https://www.bu.edu/files/2012/07/v_7110791657_15257a9a20_h.jpg\n",
      "https://www.google.com/search?q=Gary%20E.%20Dickerson%20Applied%20Materials%2C%20Inc.&tbm=isch&tbs=cdr:1,cd_min:1/1/2013,cd_max:12/31/2013\n",
      "Gary E. Dickerson 2013\n",
      "hover start\n",
      "hover done\n",
      "Found 100 potential image elements\n"
     ]
    },
    {
     "name": "stderr",
     "output_type": "stream",
     "text": [
      "Scraping:  30%|████████▋                    | 204/680 [30:05<1:10:21,  8.87s/it]"
     ]
    },
    {
     "name": "stdout",
     "output_type": "stream",
     "text": [
      "element 0 has url https://static01.nyt.com/images/2013/09/25/business/dbpix-tokyo/dbpix-tokyo-superJumbo.jpg\n",
      "element 1 has url https://static01.nyt.com/images/2013/09/25/business/dbpix-applied-materials/dbpix-applied-materials-tmagArticle.jpg\n",
      "element 2 has url https://pbs.twimg.com/media/BRvGhgWCQAABEAl.jpg\n",
      "element 3 has url https://static01.nyt.com/images/2013/10/09/business/TAXES/TAXES-tmagArticle.jpg\n",
      "https://www.google.com/search?q=Gary%20E.%20Dickerson%20Applied%20Materials%2C%20Inc.&tbm=isch&tbs=cdr:1,cd_min:1/1/2014,cd_max:12/31/2014\n",
      "Gary E. Dickerson 2014\n",
      "hover start\n",
      "hover done\n",
      "Found 99 potential image elements\n"
     ]
    },
    {
     "name": "stderr",
     "output_type": "stream",
     "text": [
      "Scraping:  30%|████████▋                    | 205/680 [30:14<1:10:33,  8.91s/it]"
     ]
    },
    {
     "name": "stdout",
     "output_type": "stream",
     "text": [
      "element 0 has url https://f001.backblazeb2.com/file/BIT-Magazine-Images/image-94407-2014-07-08.jpg\n",
      "element 1 has url https://images.squarespace-cdn.com/content/v1/52d7b15be4b0bd82f382963c/1392908715854-LE57LSWK55O5CD7BKYRM/image-asset.jpeg\n",
      "element 2 has url https://www.sec.gov/Archives/edgar/data/6951/000000695114000037/graph.jpg\n",
      "element 3 has url https://www.sec.gov/Archives/edgar/data/1596089/000119312514060774/g658761g97n10.jpg\n",
      "https://www.google.com/search?q=Gary%20E.%20Dickerson%20Applied%20Materials%2C%20Inc.&tbm=isch&tbs=cdr:1,cd_min:1/1/2015,cd_max:12/31/2015\n",
      "Gary E. Dickerson 2015\n",
      "hover start\n",
      "hover done\n",
      "Found 100 potential image elements\n"
     ]
    },
    {
     "name": "stderr",
     "output_type": "stream",
     "text": [
      "Scraping:  30%|████████▊                    | 206/680 [30:23<1:10:36,  8.94s/it]"
     ]
    },
    {
     "name": "stdout",
     "output_type": "stream",
     "text": [
      "element 0 has url https://media.glassdoor.com/people/sqll/1139/applied-materials-gary-dickerson.png\n",
      "element 1 has url https://static01.nyt.com/images/2015/04/28/business/28SEMICONDUCTOR/28SEMICONDUCTOR-facebookJumbo.jpg\n",
      "element 2 has url https://kg.diffbot.com/image/api/get?fetch=yes&url=g%3Cj7P0St%7D9u.LnOv%7BI%7C%40g7.pBYINs%3Ff%7CGZ7jr-tGZhWf%3DK%2FOvy%5Bp%3CSKbs8i%7CEyNzC%5D%3B%60v6i5Tc%3ADZ6ar%3Dc4Y65%5D%3FH%5EKssM.C_o\n",
      "element 3 has url https://www.sec.gov/Archives/edgar/data/6951/000000695115000034/graph_fy15.jpg\n",
      "https://www.google.com/search?q=Gary%20E.%20Dickerson%20Applied%20Materials%2C%20Inc.&tbm=isch&tbs=cdr:1,cd_min:1/1/2016,cd_max:12/31/2016\n",
      "Gary E. Dickerson 2016\n",
      "hover start\n",
      "hover done\n",
      "Found 100 potential image elements\n"
     ]
    },
    {
     "name": "stderr",
     "output_type": "stream",
     "text": [
      "Scraping:  30%|████████▊                    | 207/680 [30:32<1:10:10,  8.90s/it]"
     ]
    },
    {
     "name": "stdout",
     "output_type": "stream",
     "text": [
      "element 0 has url https://fortune.com/img-assets/wp-content/uploads/2016/05/gettyimages-181729593.jpg\n",
      "element 1 has url https://msc.berkeley.edu/assets/images/posts/AMATvisit2014.jpg\n",
      "element 2 has url https://displaydaily.com/wp-content/uploads/2016/03/appliedmaterials.png\n",
      "element 3 has url https://www.pulitzer.org/cms/sites/default/files/pridebollingermider.jpg\n",
      "https://www.google.com/search?q=Gary%20E.%20Dickerson%20Applied%20Materials%2C%20Inc.&tbm=isch&tbs=cdr:1,cd_min:1/1/2017,cd_max:12/31/2017\n",
      "Gary E. Dickerson 2017\n",
      "hover start\n",
      "hover done\n",
      "Found 100 potential image elements\n"
     ]
    },
    {
     "name": "stderr",
     "output_type": "stream",
     "text": [
      "Scraping:  31%|████████▊                    | 208/680 [30:41<1:09:58,  8.90s/it]"
     ]
    },
    {
     "name": "stdout",
     "output_type": "stream",
     "text": [
      "element 0 has url https://image.taiwantoday.tw/images/content/img20170815153046371.jpg\n",
      "element 1 has url https://www.telugutimes.net/wp-content/uploads/public/news/news1802.jpg\n",
      "element 2 has url https://s.wsj.net/public/resources/images/BN-VI236_201709_P_20170928111555.jpg\n",
      "element 3 has url https://www.sec.gov/Archives/edgar/data/6951/000119312517019905/g324932g22u95.jpg\n",
      "https://www.google.com/search?q=Gary%20E.%20Dickerson%20Applied%20Materials%2C%20Inc.&tbm=isch&tbs=cdr:1,cd_min:1/1/2018,cd_max:12/31/2018\n",
      "Gary E. Dickerson 2018\n",
      "hover start\n",
      "hover done\n",
      "Found 99 potential image elements\n"
     ]
    },
    {
     "name": "stderr",
     "output_type": "stream",
     "text": [
      "Scraping:  31%|████████▉                    | 209/680 [30:50<1:09:58,  8.91s/it]"
     ]
    },
    {
     "name": "stdout",
     "output_type": "stream",
     "text": [
      "element 0 has url https://media.bizj.us/view/img/867141/amat-ceo.jpg\n",
      "element 1 has url https://static01.nyt.com/images/2015/04/28/business/28SEMICONDUCTOR/28SEMICONDUCTOR-superJumbo.jpg\n",
      "element 2 has url https://alchetron.com/cdn/gary-e-dickerson-5c365e7f-0a29-4248-96ae-90bdb057ee8-resize-750.jpg\n",
      "element 3 has url https://static.toiimg.com/thumb/resizemode-4,msid-61343978,width-1200,height-900/61343978.jpg\n",
      "https://www.google.com/search?q=Gary%20E.%20Dickerson%20Applied%20Materials%2C%20Inc.&tbm=isch&tbs=cdr:1,cd_min:1/1/2019,cd_max:12/31/2019\n",
      "Gary E. Dickerson 2019\n",
      "hover start\n",
      "hover done\n",
      "Found 100 potential image elements\n"
     ]
    },
    {
     "name": "stderr",
     "output_type": "stream",
     "text": [
      "Scraping:  31%|████████▉                    | 210/680 [30:58<1:09:55,  8.93s/it]"
     ]
    },
    {
     "name": "stdout",
     "output_type": "stream",
     "text": [
      "element 0 has url http://moneyinc.com/wp-content/uploads/2019/01/Gary-Dickerson-750x393.jpg\n",
      "element 1 has url https://image.taiwantoday.tw/images/content/img20190612145654669.jpg\n",
      "element 2 has url https://image.taiwantoday.tw/images/content/img20190606140218618.jpg\n",
      "element 3 has url https://cryptoid.com.br/wp-content/uploads/2019/07/2019-aidf-gary-dickerson.jpg\n",
      "https://www.google.com/search?q=Rick%20Wallace%20KLA%20Corporation&tbm=isch&tbs=cdr:1,cd_min:1/1/2010,cd_max:12/31/2010\n",
      "Rick Wallace 2010\n",
      "hover start\n",
      "hover done\n",
      "Found 68 potential image elements\n"
     ]
    },
    {
     "name": "stderr",
     "output_type": "stream",
     "text": [
      "Scraping:  31%|████████▉                    | 211/680 [31:07<1:09:16,  8.86s/it]"
     ]
    },
    {
     "name": "stdout",
     "output_type": "stream",
     "text": [
      "element 0 has url https://www.laradio.com/schultzed30.jpg\n",
      "element 1 has url http://www.laradio.com/newsite/muselafullstage.jpg\n",
      "element 2 has url https://www.laradio.com/sandellclayton10.jpg\n",
      "element 3 has url http://www.laradio.com/bryangary009head.jpg\n",
      "https://www.google.com/search?q=Rick%20Wallace%20KLA%20Corporation&tbm=isch&tbs=cdr:1,cd_min:1/1/2011,cd_max:12/31/2011\n",
      "Rick Wallace 2011\n",
      "hover start\n",
      "hover done\n",
      "Found 97 potential image elements\n"
     ]
    },
    {
     "name": "stderr",
     "output_type": "stream",
     "text": [
      "Scraping:  31%|█████████                    | 212/680 [31:16<1:08:48,  8.82s/it]"
     ]
    },
    {
     "name": "stdout",
     "output_type": "stream",
     "text": [
      "element 0 has url https://www.scu.edu/media/school-of-engineering/photos/centennial/stories/alumni-profiles/Wallace_1.jpg\n",
      "element 1 has url https://pic1.calcalist.co.il/PicServer2/20122005/73577/YE0882715_l.jpg\n",
      "element 2 has url http://blogs.sjsu.edu/today/files/2011/06/SJSU2-11Engnrng039_students-1.jpg\n",
      "element 3 has url https://247wallst.com/wp-content/uploads/2012/10/money_us_bens.jpg\n",
      "https://www.google.com/search?q=Rick%20Wallace%20KLA%20Corporation&tbm=isch&tbs=cdr:1,cd_min:1/1/2012,cd_max:12/31/2012\n",
      "Rick Wallace 2012\n",
      "hover start\n",
      "hover done\n",
      "Found 100 potential image elements\n"
     ]
    },
    {
     "name": "stderr",
     "output_type": "stream",
     "text": [
      "Scraping:  31%|█████████                    | 213/680 [31:25<1:08:27,  8.79s/it]"
     ]
    },
    {
     "name": "stdout",
     "output_type": "stream",
     "text": [
      "element 0 has url https://www.digitimes.com/images/2006/07/11/1323_b.jpg\n",
      "element 1 has url https://i.ytimg.com/vi/rUUmeTTRXiI/mqdefault.jpg\n",
      "element 2 has url https://kg.diffbot.com/image/api/get?fetch=yes&url=g%3Cj7P0St%7D9u.LnOv%7BI%7C%40g7.pBYINs%3Ff%7CGZ7jr-tGZhWf%3DK%2FOvy%5Bp%3CSKbs8i%7CEyNzC%5E9%60o6m5Lc%3CEl7U%2FIu8%60%7B%3Dm2k%60JcBE.C_o\n",
      "element 3 has url https://cdn.rttnews.com/articleimages/ustopstories/2012/october/klatencor-102512.jpg\n",
      "https://www.google.com/search?q=Rick%20Wallace%20KLA%20Corporation&tbm=isch&tbs=cdr:1,cd_min:1/1/2013,cd_max:12/31/2013\n",
      "Rick Wallace 2013\n",
      "hover start\n",
      "hover done\n",
      "Found 100 potential image elements\n"
     ]
    },
    {
     "name": "stderr",
     "output_type": "stream",
     "text": [
      "Scraping:  31%|█████████▏                   | 214/680 [31:32<1:05:51,  8.48s/it]"
     ]
    },
    {
     "name": "stdout",
     "output_type": "stream",
     "text": [
      "element 0 has url https://ece.engin.umich.edu/wp-content/uploads/sites/4/2019/09/rutenbar.png\n",
      "element 1 has url https://i.ytimg.com/vi/16WgY2q9FWU/hqdefault.jpg\n",
      "element 2 has url https://ece.engin.umich.edu/wp-content/uploads/sites/4/2022/09/Mitchell-Rohde-Headshot.png\n",
      "element 3 has url https://ece.engin.umich.edu/wp-content/uploads/sites/4/2019/09/Tim_Howes.jpg\n",
      "https://www.google.com/search?q=Rick%20Wallace%20KLA%20Corporation&tbm=isch&tbs=cdr:1,cd_min:1/1/2014,cd_max:12/31/2014\n",
      "Rick Wallace 2014\n",
      "hover start\n",
      "hover done\n",
      "Found 100 potential image elements\n"
     ]
    },
    {
     "name": "stderr",
     "output_type": "stream",
     "text": [
      "Scraping:  32%|█████████▏                   | 215/680 [31:41<1:06:51,  8.63s/it]"
     ]
    },
    {
     "name": "stdout",
     "output_type": "stream",
     "text": [
      "element 0 has url http://p.ledinside.com/led/2014-05/1400834463_51815.JPG\n",
      "element 1 has url http://p.ledinside.com/led/2014-05/1400841500_11380.JPG\n",
      "element 2 has url https://cdn-news.warriortrading.com/wp-content/uploads/2015/10/19183505/kla-tencor-logo.png\n",
      "element 3 has url https://optics.org/objects/news/thumb/5/1/35/cognexwafer.jpg\n",
      "https://www.google.com/search?q=Rick%20Wallace%20KLA%20Corporation&tbm=isch&tbs=cdr:1,cd_min:1/1/2015,cd_max:12/31/2015\n",
      "Rick Wallace 2015\n",
      "hover start\n",
      "hover done\n",
      "Found 100 potential image elements\n"
     ]
    },
    {
     "name": "stderr",
     "output_type": "stream",
     "text": [
      "Scraping:  32%|█████████▏                   | 216/680 [31:50<1:07:02,  8.67s/it]"
     ]
    },
    {
     "name": "stdout",
     "output_type": "stream",
     "text": [
      "element 0 has url https://i.ytimg.com/vi/PuVG3sg66e8/mqdefault.jpg\n",
      "element 1 has url https://i.ytimg.com/vi/FfYnNqFi1eA/sddefault.jpg\n",
      "element 2 has url https://i.ytimg.com/vi/w5cHeZN_t7I/sddefault.jpg\n",
      "element 3 has url http://media.bizj.us/view/img/7381242/lamresearchmartinanstice*1200xx648-365-0-6.jpg\n",
      "https://www.google.com/search?q=Rick%20Wallace%20KLA%20Corporation&tbm=isch&tbs=cdr:1,cd_min:1/1/2016,cd_max:12/31/2016\n",
      "Rick Wallace 2016\n",
      "hover start\n",
      "hover done\n",
      "Found 100 potential image elements\n"
     ]
    },
    {
     "name": "stderr",
     "output_type": "stream",
     "text": [
      "Scraping:  32%|█████████▎                   | 217/680 [31:59<1:07:40,  8.77s/it]"
     ]
    },
    {
     "name": "stdout",
     "output_type": "stream",
     "text": [
      "element 0 has url https://www.scu.edu/media/school-of-engineering/photos/alumni/wallace-196x196.jpg\n",
      "element 1 has url http://media.bizj.us/view/img/1941781/brownstevenef8496.jpg\n",
      "element 2 has url https://pic1.calcalist.co.il/PicServer2/20122005/583959/CAL0316600_l.jpg\n",
      "element 3 has url https://images.avvo.com/avvo/ugc/images/gallery/normalized/303512_1482522834.jpg\n",
      "https://www.google.com/search?q=Rick%20Wallace%20KLA%20Corporation&tbm=isch&tbs=cdr:1,cd_min:1/1/2017,cd_max:12/31/2017\n",
      "Rick Wallace 2017\n",
      "hover start\n",
      "hover done\n",
      "Found 100 potential image elements\n"
     ]
    },
    {
     "name": "stderr",
     "output_type": "stream",
     "text": [
      "Scraping:  32%|█████████▎                   | 218/680 [32:08<1:07:12,  8.73s/it]"
     ]
    },
    {
     "name": "stdout",
     "output_type": "stream",
     "text": [
      "element 0 has url https://eecsnews.engin.umich.edu/wp-content/uploads/sites/2/2012/09/Wallace_Rick_casual.jpg\n",
      "element 1 has url https://eecsnews.engin.umich.edu/wp-content/uploads/sites/2/2012/09/Wallace_Rick-Nasdaq.jpg\n",
      "element 2 has url https://stvp.stanford.edu/wp-content/uploads/sites/3/2017/10/0_a1s3vyi7-5.jpg\n",
      "element 3 has url https://www.chiphistory.org/chc_upload/icon/7/1507072772/med_1507072772.jpg\n",
      "https://www.google.com/search?q=Rick%20Wallace%20KLA%20Corporation&tbm=isch&tbs=cdr:1,cd_min:1/1/2018,cd_max:12/31/2018\n",
      "Rick Wallace 2018\n",
      "hover start\n",
      "hover done\n",
      "Found 100 potential image elements\n"
     ]
    },
    {
     "name": "stderr",
     "output_type": "stream",
     "text": [
      "Scraping:  32%|█████████▎                   | 219/680 [32:17<1:07:08,  8.74s/it]"
     ]
    },
    {
     "name": "stdout",
     "output_type": "stream",
     "text": [
      "element 0 has url https://www.fpdchina.org/FPD_China_Manager/upload/img/speaker/1600752690470.jpg\n",
      "element 1 has url https://i.ytimg.com/vi/PuVG3sg66e8/maxresdefault.jpg\n",
      "element 2 has url https://www.chiphistory.org/chc_upload/content_inline_files/images/hall_of_fame/wallace_2018.png\n",
      "element 3 has url https://ece.engin.umich.edu/wp-content/uploads/sites/2/2018/05/wallace-scholarship-2016-1-e1526154186279.jpg\n",
      "https://www.google.com/search?q=Rick%20Wallace%20KLA%20Corporation&tbm=isch&tbs=cdr:1,cd_min:1/1/2019,cd_max:12/31/2019\n",
      "Rick Wallace 2019\n",
      "hover start\n",
      "hover done\n",
      "Found 100 potential image elements\n"
     ]
    },
    {
     "name": "stderr",
     "output_type": "stream",
     "text": [
      "Scraping:  32%|█████████▍                   | 220/680 [32:25<1:07:31,  8.81s/it]"
     ]
    },
    {
     "name": "stdout",
     "output_type": "stream",
     "text": [
      "element 0 has url https://www.kla.com/wp-content/themes/kla-wp/assets/images/rick_home.png\n",
      "element 1 has url https://ece.engin.umich.edu/wp-content/uploads/sites/2/2019/06/kla-featured.jpg\n",
      "element 2 has url https://ece.engin.umich.edu/wp-content/uploads/sites/2/2019/06/kla3-content.jpg\n",
      "element 3 has url https://www.edn.com/wp-content/uploads/media-1105696-rickwallacekla103x96.jpg\n",
      "https://www.google.com/search?q=Sehat%20Sutardja%20Marvell%20Technology%2C%20Inc.&tbm=isch&tbs=cdr:1,cd_min:1/1/2010,cd_max:12/31/2010\n",
      "Sehat Sutardja 2010\n",
      "hover start\n",
      "hover done\n",
      "Found 57 potential image elements\n"
     ]
    },
    {
     "name": "stderr",
     "output_type": "stream",
     "text": [
      "Scraping:  32%|█████████▍                   | 221/680 [32:34<1:06:48,  8.73s/it]"
     ]
    },
    {
     "name": "stdout",
     "output_type": "stream",
     "text": [
      "element 0 has url https://assets.rbl.ms/25563597/origin.jpg\n",
      "element 1 has url http://text.goldsea.com/images/5101.jpg\n",
      "element 2 has url https://assets.rbl.ms/25563596/origin.jpg\n",
      "element 3 has url http://text.goldsea.com/images/5100.jpg\n",
      "https://www.google.com/search?q=Sehat%20Sutardja%20Marvell%20Technology%2C%20Inc.&tbm=isch&tbs=cdr:1,cd_min:1/1/2011,cd_max:12/31/2011\n",
      "Sehat Sutardja 2011\n",
      "hover start\n",
      "hover done\n",
      "Found 59 potential image elements\n"
     ]
    },
    {
     "name": "stderr",
     "output_type": "stream",
     "text": [
      "Scraping:  33%|█████████▍                   | 222/680 [32:43<1:06:22,  8.70s/it]"
     ]
    },
    {
     "name": "stdout",
     "output_type": "stream",
     "text": [
      "element 0 has url https://static01.nyt.com/images/2011/04/13/business/dbpix-sutardja-marvell-technology/dbpix-sutardja-marvell-technology-articleInline-v2.jpg\n",
      "element 1 has url https://assets.pubpub.org/0s3w0kop/61634307093082.jpg\n",
      "element 2 has url https://upload.wikimedia.org/wikipedia/commons/thumb/a/a8/Park_Azorim_023.jpg/640px-Park_Azorim_023.jpg\n",
      "element 3 has url https://i.ytimg.com/vi/SPd_lj3-Ko0/hqdefault.jpg\n",
      "https://www.google.com/search?q=Sehat%20Sutardja%20Marvell%20Technology%2C%20Inc.&tbm=isch&tbs=cdr:1,cd_min:1/1/2012,cd_max:12/31/2012\n",
      "Sehat Sutardja 2012\n",
      "hover start\n",
      "hover done\n",
      "Found 100 potential image elements\n"
     ]
    },
    {
     "name": "stderr",
     "output_type": "stream",
     "text": [
      "Scraping:  33%|█████████▌                   | 223/680 [32:51<1:06:30,  8.73s/it]"
     ]
    },
    {
     "name": "stdout",
     "output_type": "stream",
     "text": [
      "element 0 has url https://upload.wikimedia.org/wikipedia/commons/thumb/f/fd/Sehat_Sutardja_-_World_Economic_Forum_on_East_Asia_2011.jpg/500px-Sehat_Sutardja_-_World_Economic_Forum_on_East_Asia_2011.jpg\n",
      "element 1 has url https://i.ytimg.com/vi/G5dATKvnrJM/mqdefault.jpg\n",
      "element 2 has url https://www.sec.gov/Archives/edgar/data/1058057/000119312512234699/g344555g18r63.jpg\n",
      "element 3 has url https://images.fastcompany.com/image/upload/imgs-fc-com/inline-innovation-agent-Weili-Dai,-Empress-of-Semiconductors-a.jpg\n",
      "https://www.google.com/search?q=Sehat%20Sutardja%20Marvell%20Technology%2C%20Inc.&tbm=isch&tbs=cdr:1,cd_min:1/1/2013,cd_max:12/31/2013\n",
      "Sehat Sutardja 2013\n",
      "hover start\n",
      "hover done\n",
      "Found 100 potential image elements\n"
     ]
    },
    {
     "name": "stderr",
     "output_type": "stream",
     "text": [
      "Scraping:  33%|█████████▌                   | 224/680 [32:59<1:04:21,  8.47s/it]"
     ]
    },
    {
     "name": "stdout",
     "output_type": "stream",
     "text": [
      "element 0 has url https://i.ytimg.com/vi/ktRCKWcpPoM/maxresdefault.jpg\n",
      "element 1 has url https://i.ytimg.com/vi/xz1oJodFldA/hqdefault.jpg\n",
      "element 2 has url https://cdn.rttnews.com/articleimages/ustopstories/2013/february/marvelltechnology-mrvl-022113.jpg\n",
      "element 3 has url https://itb.ac.id/files/112/20150924/1443105567.jpg\n",
      "https://www.google.com/search?q=Sehat%20Sutardja%20Marvell%20Technology%2C%20Inc.&tbm=isch&tbs=cdr:1,cd_min:1/1/2014,cd_max:12/31/2014\n",
      "Sehat Sutardja 2014\n",
      "hover start\n",
      "hover done\n",
      "Found 81 potential image elements\n"
     ]
    },
    {
     "name": "stderr",
     "output_type": "stream",
     "text": [
      "Scraping:  33%|█████████▌                   | 225/680 [33:08<1:04:50,  8.55s/it]"
     ]
    },
    {
     "name": "stdout",
     "output_type": "stream",
     "text": [
      "element 0 has url https://i.ytimg.com/vi/SyoqVr0gOSE/maxresdefault.jpg\n",
      "element 1 has url https://i.ytimg.com/vi/Lcq-zJ-sC_M/hqdefault.jpg\n",
      "element 2 has url https://s.hdnux.com/photos/06/73/47/1817083/20/rawImage.jpg\n",
      "element 3 has url https://engineering.berkeley.edu/wp-content/uploads/files/images/magazine/2012-spring/hats-family.jpg\n",
      "https://www.google.com/search?q=Sehat%20Sutardja%20Marvell%20Technology%2C%20Inc.&tbm=isch&tbs=cdr:1,cd_min:1/1/2015,cd_max:12/31/2015\n",
      "Sehat Sutardja 2015\n",
      "hover start\n",
      "hover done\n",
      "Found 100 potential image elements\n"
     ]
    },
    {
     "name": "stderr",
     "output_type": "stream",
     "text": [
      "Scraping:  33%|█████████▋                   | 226/680 [33:17<1:05:49,  8.70s/it]"
     ]
    },
    {
     "name": "stdout",
     "output_type": "stream",
     "text": [
      "element 0 has url https://www.eetimes.com/wp-content/uploads/images-eetimes-2015-03-1326017-marvell-ceo-366.png\n",
      "element 1 has url x-raw-image:///9acf24bd30668067e81e92eafc94f0c96f90c26930d337c479ff6442bfb4fb65\n",
      "element 2 has url https://upload.wikimedia.org/wikipedia/commons/thumb/f/fd/Sehat_Sutardja_-_World_Economic_Forum_on_East_Asia_2011.jpg/640px-Sehat_Sutardja_-_World_Economic_Forum_on_East_Asia_2011.jpg\n",
      "element 3 has url https://upload.wikimedia.org/wikipedia/commons/a/ab/FINAL_FT5A3798.jpg\n",
      "https://www.google.com/search?q=Matthew%20J.%20Murphy%20Marvell%20Technology%2C%20Inc.&tbm=isch&tbs=cdr:1,cd_min:1/1/2016,cd_max:12/31/2016\n",
      "Matthew J. Murphy 2016\n",
      "hover start\n",
      "hover done\n",
      "Found 100 potential image elements\n"
     ]
    },
    {
     "name": "stderr",
     "output_type": "stream",
     "text": [
      "Scraping:  33%|█████████▋                   | 227/680 [33:26<1:05:31,  8.68s/it]"
     ]
    },
    {
     "name": "stdout",
     "output_type": "stream",
     "text": [
      "element 0 has url http://www.storagenewsletter.com/wp-content/uploads/2016/06/MarvellMurphy.jpg\n",
      "element 1 has url https://s.wsj.net/public/resources/images/BN-NT030_0427ma_GR_20160427100800.jpg\n",
      "element 2 has url https://eodhistoricaldata.com//img/logos/US/MRVL.png\n",
      "element 3 has url https://www.sec.gov/Archives/edgar/data/1058057/000119312516653778/g164959g26z41.jpg\n",
      "https://www.google.com/search?q=Matthew%20J.%20Murphy%20Marvell%20Technology%2C%20Inc.&tbm=isch&tbs=cdr:1,cd_min:1/1/2017,cd_max:12/31/2017\n",
      "Matthew J. Murphy 2017\n",
      "hover start\n",
      "hover done\n",
      "Found 100 potential image elements\n"
     ]
    },
    {
     "name": "stderr",
     "output_type": "stream",
     "text": [
      "Scraping:  34%|█████████▋                   | 228/680 [33:35<1:05:49,  8.74s/it]"
     ]
    },
    {
     "name": "stdout",
     "output_type": "stream",
     "text": [
      "element 0 has url https://s.wsj.net/public/resources/images/BN-NT030_0427ma_TOP_20160427100800.jpg\n",
      "element 1 has url https://assets.bwbx.io/images/users/iqjWHBFdfxIU/iX8X8l9wK9WA/v243/-1x-1.jpg\n",
      "element 2 has url https://themalaysianreserve.com/wp-content/uploads/2017/11/p20s3_Marvel.jpg\n",
      "element 3 has url https://www.nasdaq.com/sites/acquia.prod/files/image/db0bece4bcd3ffc80878ca51df8435801398a5b3_stock-traders_large.jpg\n",
      "https://www.google.com/search?q=Matthew%20J.%20Murphy%20Marvell%20Technology%2C%20Inc.&tbm=isch&tbs=cdr:1,cd_min:1/1/2018,cd_max:12/31/2018\n",
      "Matthew J. Murphy 2018\n",
      "hover start\n",
      "hover done\n",
      "Found 100 potential image elements\n"
     ]
    },
    {
     "name": "stderr",
     "output_type": "stream",
     "text": [
      "Scraping:  34%|█████████▊                   | 229/680 [33:43<1:05:44,  8.75s/it]"
     ]
    },
    {
     "name": "stdout",
     "output_type": "stream",
     "text": [
      "element 0 has url https://media.licdn.com/dms/image/v2/C4D03AQFDt_VsDYbOSg/profile-displayphoto-shrink_200_200/profile-displayphoto-shrink_200_200/0/1516266537549?e=2147483647&v=beta&t=Q_nYe0ciFhYoNYI0-IxJN4RbYs9Tljhzmmua9bYVuwU\n",
      "element 1 has url https://media.licdn.com/dms/image/v2/C5603AQGu70v3TGpg0g/profile-displayphoto-shrink_200_200/profile-displayphoto-shrink_200_200/0/1517600728515?e=2147483647&v=beta&t=rD1vWTvO9O_PPclZk_O0z5Dxqzu1NXnnymPPZuKq3Uk\n",
      "element 2 has url https://media.licdn.com/dms/image/v2/C4E03AQHbAlj_Rn-jsA/profile-displayphoto-shrink_200_200/profile-displayphoto-shrink_200_200/0/1516346981656?e=2147483647&v=beta&t=vJhEo01IA46jBfLY_4lhT3pwnQKwMCeMwmGIln6ELyA\n",
      "element 3 has url https://media.licdn.com/dms/image/v2/C4D03AQHosmjP_Uvkow/profile-displayphoto-shrink_200_200/profile-displayphoto-shrink_200_200/0/1517067055450?e=2147483647&v=beta&t=XpbvA5KvcZ6RgYyL-5ANYH8F2EjMGsxneQXDgLWqjtY\n",
      "https://www.google.com/search?q=Matthew%20J.%20Murphy%20Marvell%20Technology%2C%20Inc.&tbm=isch&tbs=cdr:1,cd_min:1/1/2019,cd_max:12/31/2019\n",
      "Matthew J. Murphy 2019\n",
      "hover start\n",
      "hover done\n",
      "Found 100 potential image elements\n"
     ]
    },
    {
     "name": "stderr",
     "output_type": "stream",
     "text": [
      "Scraping:  34%|█████████▊                   | 230/680 [33:52<1:04:48,  8.64s/it]"
     ]
    },
    {
     "name": "stdout",
     "output_type": "stream",
     "text": [
      "element 0 has url https://storage.googleapis.com/iex/api/logos/MRVL.png\n",
      "element 1 has url https://storage.googleapis.com/iex/api/logos/ADI.png\n",
      "element 2 has url https://www.nasdaq.com/sites/acquia.prod/files/styles/720x400/public/image/5a49db43372c88310de88c9c57ac4ee92f92c095_finance10.jpg?1743861470979875951\n",
      "element 3 has url https://www.sec.gov/Archives/edgar/data/1058057/000119312519149399/g713236img001.jpg\n",
      "https://www.google.com/search?q=Lip-Bu%20Tan%20Cadence%20Design%20Systems%2C%20Inc.&tbm=isch&tbs=cdr:1,cd_min:1/1/2010,cd_max:12/31/2010\n",
      "Lip-Bu Tan 2010\n",
      "hover start\n",
      "hover done\n",
      "Found 100 potential image elements\n"
     ]
    },
    {
     "name": "stderr",
     "output_type": "stream",
     "text": [
      "Scraping:  34%|█████████▊                   | 231/680 [34:01<1:05:32,  8.76s/it]"
     ]
    },
    {
     "name": "stdout",
     "output_type": "stream",
     "text": [
      "element 0 has url https://community.cadence.com/CSSharedFiles/blogs/di/Bob_Dwyer/bruggeman.jpg\n",
      "element 1 has url https://www.techdesignforums.com/legacy_images/dec2009/images/eda0912_numetrics2_opt.jpg\n",
      "element 2 has url https://www.techdesignforums.com/legacy_images/dec2009/images/eda0912_numetrics1_opt.jpg\n",
      "element 3 has url https://semiwiki.com/wp-content/uploads/2019/06/img_5d0459cec1523.jpg\n",
      "https://www.google.com/search?q=Lip-Bu%20Tan%20Cadence%20Design%20Systems%2C%20Inc.&tbm=isch&tbs=cdr:1,cd_min:1/1/2011,cd_max:12/31/2011\n",
      "Lip-Bu Tan 2011\n",
      "hover start\n",
      "hover done\n",
      "Found 100 potential image elements\n"
     ]
    },
    {
     "name": "stderr",
     "output_type": "stream",
     "text": [
      "Scraping:  34%|█████████▉                   | 232/680 [34:10<1:05:31,  8.78s/it]"
     ]
    },
    {
     "name": "stdout",
     "output_type": "stream",
     "text": [
      "element 0 has url https://media.zenfs.com/en/us.finance.gurufocus/e8704a7ed0d8dd12db9d51eb08801526\n",
      "element 1 has url https://kg.diffbot.com/image/api/get?fetch=yes&url=g%3Cj7P0St%7D9u.LnOv%7BI%7C%40g7.pBYINs%3Ff%7CGZ7jr-tGZhWf%3DK%2FOvy%5Bp%3CSKbs8i%7CEyNzBa%3DXu8d%3BOcEI%5DFSw%60VUwkP%7E0cb%3C%5CC%3Bi%5Bwlf%3BVfJI1H.%7DIY\n",
      "element 2 has url https://www.sec.gov/Archives/edgar/data/813672/000095012311029707/f58683def5868302.gif\n",
      "element 3 has url https://www.sec.gov/Archives/edgar/data/813672/000095012311029707/f58683def5868303.gif\n",
      "https://www.google.com/search?q=Lip-Bu%20Tan%20Cadence%20Design%20Systems%2C%20Inc.&tbm=isch&tbs=cdr:1,cd_min:1/1/2012,cd_max:12/31/2012\n",
      "Lip-Bu Tan 2012\n",
      "hover start\n",
      "hover done\n",
      "Found 100 potential image elements\n"
     ]
    },
    {
     "name": "stderr",
     "output_type": "stream",
     "text": [
      "Scraping:  34%|█████████▉                   | 233/680 [34:18<1:04:55,  8.72s/it]"
     ]
    },
    {
     "name": "stdout",
     "output_type": "stream",
     "text": [
      "element 0 has url https://semiwiki.com/wp-content/uploads/2019/06/img_5d044c615795d.jpg\n",
      "element 1 has url https://i.ytimg.com/vi/CdbtorHM2-s/mqdefault.jpg\n",
      "element 2 has url https://i.ytimg.com/vi/02MxdLXkWeo/hqdefault.jpg\n",
      "element 3 has url https://semiwiki.com/wp-content/uploads/2019/06/img_5d044c9f2126e.jpg\n",
      "https://www.google.com/search?q=Lip-Bu%20Tan%20Cadence%20Design%20Systems%2C%20Inc.&tbm=isch&tbs=cdr:1,cd_min:1/1/2013,cd_max:12/31/2013\n",
      "Lip-Bu Tan 2013\n",
      "hover start\n",
      "hover done\n",
      "Found 100 potential image elements\n"
     ]
    },
    {
     "name": "stderr",
     "output_type": "stream",
     "text": [
      "Scraping:  34%|█████████▉                   | 234/680 [34:27<1:03:52,  8.59s/it]"
     ]
    },
    {
     "name": "stdout",
     "output_type": "stream",
     "text": [
      "element 0 has url https://static.electronicsweekly.com/wp-content/uploads/sites/16/2013/05/CDN_Live-015.jpg\n",
      "element 1 has url https://i.ytimg.com/vi/CdbtorHM2-s/maxresdefault.jpg\n",
      "element 2 has url https://i.ytimg.com/vi/afnuqtxbPjc/mqdefault.jpg\n",
      "element 3 has url https://russianelectronics.ru/wp-content/uploads/2013/03/tan.jpg\n",
      "https://www.google.com/search?q=Lip-Bu%20Tan%20Cadence%20Design%20Systems%2C%20Inc.&tbm=isch&tbs=cdr:1,cd_min:1/1/2014,cd_max:12/31/2014\n",
      "Lip-Bu Tan 2014\n",
      "hover start\n",
      "hover done\n",
      "Found 100 potential image elements\n"
     ]
    },
    {
     "name": "stderr",
     "output_type": "stream",
     "text": [
      "Scraping:  35%|██████████                   | 235/680 [34:35<1:03:23,  8.55s/it]"
     ]
    },
    {
     "name": "stdout",
     "output_type": "stream",
     "text": [
      "element 0 has url http://semiengineering.com/wp-content/uploads/2016/06/Lip-Bu-Tan.jpg\n",
      "element 1 has url https://i.ytimg.com/vi/afnuqtxbPjc/sddefault.jpg\n",
      "element 2 has url https://www.silicon.co.uk/wp-content/uploads/2014/10/VMware-Pat-Gelsinger.jpg\n",
      "element 3 has url https://i.ytimg.com/vi/9-tjY-DG5-0/sddefault.jpg\n",
      "https://www.google.com/search?q=Lip-Bu%20Tan%20Cadence%20Design%20Systems%2C%20Inc.&tbm=isch&tbs=cdr:1,cd_min:1/1/2015,cd_max:12/31/2015\n",
      "Lip-Bu Tan 2015\n",
      "hover start\n",
      "hover done\n",
      "Found 100 potential image elements\n"
     ]
    },
    {
     "name": "stderr",
     "output_type": "stream",
     "text": [
      "Scraping:  35%|██████████                   | 236/680 [34:43<1:03:11,  8.54s/it]"
     ]
    },
    {
     "name": "stdout",
     "output_type": "stream",
     "text": [
      "element 0 has url https://electronics360.globalspec.com/images/assets/104/5104/150310_lip_bu_tan_752.jpg\n",
      "element 1 has url https://i.ytimg.com/vi/02MxdLXkWeo/sddefault.jpg\n",
      "element 2 has url https://www.cadence.com/content/dam/cadence-www/global/en_US/diagrams/company/culture/one-cadence-one-team.png\n",
      "element 3 has url https://i.ytimg.com/vi/wRnak0pTnSc/sddefault.jpg\n",
      "https://www.google.com/search?q=Lip-Bu%20Tan%20Cadence%20Design%20Systems%2C%20Inc.&tbm=isch&tbs=cdr:1,cd_min:1/1/2016,cd_max:12/31/2016\n",
      "Lip-Bu Tan 2016\n",
      "hover start\n",
      "hover done\n",
      "Found 100 potential image elements\n"
     ]
    },
    {
     "name": "stderr",
     "output_type": "stream",
     "text": [
      "Scraping:  35%|██████████                   | 237/680 [34:52<1:03:15,  8.57s/it]"
     ]
    },
    {
     "name": "stdout",
     "output_type": "stream",
     "text": [
      "element 0 has url https://i.ytimg.com/vi/QPOv2YnjBzE/maxresdefault.jpg\n",
      "element 1 has url https://community.cadence.com/cfs-file/__key/communityserver-blogs-components-weblogfiles/00-00-00-01-06/Screen-Shot-2016_2D00_12_2D00_12-at-1.44.07-PM.jpg\n",
      "element 2 has url https://mms.businesswire.com/media/20161027006320/en/552254/5/GSA-2016-AWD-MorrisChangWinner-forEmail-v2.jpg\n",
      "element 3 has url https://community.cadence.com/cfs-file/__key/communityserver-blogs-components-weblogfiles/00-00-00-01-06/IMG_5F00_2650.jpg\n",
      "https://www.google.com/search?q=Lip-Bu%20Tan%20Cadence%20Design%20Systems%2C%20Inc.&tbm=isch&tbs=cdr:1,cd_min:1/1/2017,cd_max:12/31/2017\n",
      "Lip-Bu Tan 2017\n",
      "hover start\n",
      "hover done\n",
      "Found 100 potential image elements\n"
     ]
    },
    {
     "name": "stderr",
     "output_type": "stream",
     "text": [
      "Scraping:  35%|██████████▏                  | 238/680 [35:01<1:02:56,  8.54s/it]"
     ]
    },
    {
     "name": "stdout",
     "output_type": "stream",
     "text": [
      "element 0 has url https://www.cadence.com/content/dam/cadence-www/global/en_US/images/site-images/highlights/lip-bu-tan-gsa-award-video.jpg/_jcr_content/renditions/original\n",
      "element 1 has url https://www.cadence.com/content/dam/cadence-www/global/en_US/images/site-images/highlights/lip-bu-tan-gsa-acceptance-speech-video.jpg/_jcr_content/renditions/original\n",
      "element 2 has url https://www.financialexpress.com/wp-content/uploads/2017/10/inter.jpg\n",
      "element 3 has url https://community.cadence.com/cfs-file/__key/communityserver-blogs-components-weblogfiles/00-00-00-01-06/lbt-_2D00_-1-_2800_1_2900_.jpg\n",
      "https://www.google.com/search?q=Lip-Bu%20Tan%20Cadence%20Design%20Systems%2C%20Inc.&tbm=isch&tbs=cdr:1,cd_min:1/1/2018,cd_max:12/31/2018\n",
      "Lip-Bu Tan 2018\n",
      "hover start\n",
      "hover done\n",
      "Found 100 potential image elements\n"
     ]
    },
    {
     "name": "stderr",
     "output_type": "stream",
     "text": [
      "Scraping:  35%|██████████▏                  | 239/680 [35:09<1:02:33,  8.51s/it]"
     ]
    },
    {
     "name": "stdout",
     "output_type": "stream",
     "text": [
      "element 0 has url https://static-cdn.toi-media.com/www/uploads/2017/11/cadence-cropped.jpg\n",
      "element 1 has url https://community.cadence.com/resized-image/__size/1040x0/__key/communityserver-blogs-components-weblogfiles/00-00-00-01-06/lbt6.jpg\n",
      "element 2 has url https://community.cadence.com/resized-image/__size/280x0/__key/communityserver-blogs-components-weblogfiles/00-00-00-01-06/lbtc.jpg\n",
      "element 3 has url https://community.cadence.com/resized-image/__size/280x0/__key/communityserver-blogs-components-weblogfiles/00-00-00-01-06/lbtd.jpg\n",
      "https://www.google.com/search?q=Lip-Bu%20Tan%20Cadence%20Design%20Systems%2C%20Inc.&tbm=isch&tbs=cdr:1,cd_min:1/1/2019,cd_max:12/31/2019\n",
      "Lip-Bu Tan 2019\n",
      "hover start\n",
      "hover done\n",
      "Found 100 potential image elements\n"
     ]
    },
    {
     "name": "stderr",
     "output_type": "stream",
     "text": [
      "Scraping:  35%|██████████▏                  | 240/680 [35:17<1:02:13,  8.49s/it]"
     ]
    },
    {
     "name": "stdout",
     "output_type": "stream",
     "text": [
      "element 0 has url https://www.semiconchina.org/Semicon_China_Manager/upload/img/speaker/1600684493497.jpg\n",
      "element 1 has url https://media.licdn.com/dms/image/v2/C4E03AQFiwUhLsUuCXQ/profile-displayphoto-shrink_200_200/profile-displayphoto-shrink_200_200/0/1551701585708?e=2147483647&v=beta&t=XfHA5lHDqP-tVxjiAAf6_JqS63M3IryB4y0qPWkQCmE\n",
      "element 2 has url https://www.ece.cmu.edu/_media/news-images/2019/11/endowed-professorships-900x600.jpg\n",
      "element 3 has url https://i0.wp.com/semiengineering.com/wp-content/uploads/2016/06/Lip-Bu-Tan.jpg\n",
      "https://www.google.com/search?q=Aart%20de%20Geus%20Synopsys%2C%20Inc.&tbm=isch&tbs=cdr:1,cd_min:1/1/2010,cd_max:12/31/2010\n",
      "Aart de Geus 2010\n",
      "hover start\n",
      "hover done\n",
      "Found 41 potential image elements\n"
     ]
    },
    {
     "name": "stderr",
     "output_type": "stream",
     "text": [
      "Scraping:  35%|██████████▎                  | 241/680 [35:46<1:46:22, 14.54s/it]"
     ]
    },
    {
     "name": "stdout",
     "output_type": "stream",
     "text": [
      "element 0 has url https://pradeepchakraborty.wordpress.com/wp-content/uploads/2010/06/aart-synopsys.jpg\n",
      "element 1 has url https://www.edn.com/wp-content/uploads/media-1140977-273901-eda-market-share.gif\n",
      "element 2 has url https://www.edn.com/wp-content/uploads/media-1140979-273606-eda-software-growth.gif\n",
      "element 3 has url https://semiwiki.com/wp-content/uploads/2019/06/img_5d044f324e589.jpg\n",
      "https://www.google.com/search?q=Aart%20de%20Geus%20Synopsys%2C%20Inc.&tbm=isch&tbs=cdr:1,cd_min:1/1/2011,cd_max:12/31/2011\n",
      "Aart de Geus 2011\n",
      "hover start\n",
      "hover done\n",
      "Found 66 potential image elements\n"
     ]
    },
    {
     "name": "stderr",
     "output_type": "stream",
     "text": [
      "Scraping:  36%|██████████▎                  | 242/680 [36:14<2:16:17, 18.67s/it]"
     ]
    },
    {
     "name": "stdout",
     "output_type": "stream",
     "text": [
      "element 0 has url https://semiwiki.com/wp-content/uploads/2019/06/img_5d044f3124bf1.jpg\n",
      "element 1 has url https://xtech.nikkei.com/dm/article/INTERVIEW/20110619/192705/thumb_230_synopsys.jpg\n",
      "element 2 has url https://news.am/img/news/05/99/67/default.jpg\n",
      "element 3 has url https://www.startup-book.com/wp-content/uploads/2011/04/europeans-in-sv1.jpg\n",
      "https://www.google.com/search?q=Aart%20de%20Geus%20Synopsys%2C%20Inc.&tbm=isch&tbs=cdr:1,cd_min:1/1/2012,cd_max:12/31/2012\n",
      "Aart de Geus 2012\n",
      "hover start\n",
      "hover done\n",
      "Found 100 potential image elements\n"
     ]
    },
    {
     "name": "stderr",
     "output_type": "stream",
     "text": [
      "Scraping:  36%|██████████▎                  | 243/680 [36:43<2:37:41, 21.65s/it]"
     ]
    },
    {
     "name": "stdout",
     "output_type": "stream",
     "text": [
      "element 0 has url https://semiwiki.com/wp-content/uploads/2019/06/img_5d044f3184d8d.jpg\n",
      "element 1 has url https://semiwiki.com/wp-content/uploads/2019/06/img_5d0451419e178.jpg\n",
      "element 2 has url https://www.dac.com/portals/0/Images/Archive/Moments/reception_1.jpg\n",
      "element 3 has url https://i.ytimg.com/vi/oa0er-V_Gbs/mqdefault.jpg\n",
      "https://www.google.com/search?q=Aart%20de%20Geus%20Synopsys%2C%20Inc.&tbm=isch&tbs=cdr:1,cd_min:1/1/2013,cd_max:12/31/2013\n",
      "Aart de Geus 2013\n",
      "hover start\n",
      "hover done\n",
      "Found 100 potential image elements\n"
     ]
    },
    {
     "name": "stderr",
     "output_type": "stream",
     "text": [
      "Scraping:  36%|██████████▍                  | 244/680 [37:12<2:53:41, 23.90s/it]"
     ]
    },
    {
     "name": "stdout",
     "output_type": "stream",
     "text": [
      "element 0 has url http://techtime.news/wp-content/uploads/sites/2/2013/01/SYNOPSYS_CEO.jpg\n",
      "element 1 has url https://i.ytimg.com/vi/I6lfKor0fWw/maxresdefault.jpg\n",
      "element 2 has url https://www.design-reuse.com/news_img2/homepage32318/art.jpg\n",
      "element 3 has url https://semiwiki.com/wp-content/uploads/2019/06/img_5d044cdb12aec.jpg\n",
      "https://www.google.com/search?q=Aart%20de%20Geus%20Synopsys%2C%20Inc.&tbm=isch&tbs=cdr:1,cd_min:1/1/2014,cd_max:12/31/2014\n",
      "Aart de Geus 2014\n",
      "hover start\n",
      "hover done\n",
      "Found 100 potential image elements\n"
     ]
    },
    {
     "name": "stderr",
     "output_type": "stream",
     "text": [
      "Scraping:  36%|██████████▍                  | 245/680 [37:42<3:05:35, 25.60s/it]"
     ]
    },
    {
     "name": "stdout",
     "output_type": "stream",
     "text": [
      "element 0 has url https://www.itctestweek.org/wp-content/uploads/2019/10/Aart-de-Geus-07-2014-2.jpg\n",
      "element 1 has url https://i.ytimg.com/vi/I6lfKor0fWw/sddefault.jpg\n",
      "element 2 has url https://www.yourtechstory.com/wp-content/uploads/2021/06/sunnyvale-ca-office.jpg\n",
      "element 3 has url https://www.techdesignforums.com/wp-content/uploads/2014/03/John-Chilton.jpg\n",
      "https://www.google.com/search?q=Aart%20de%20Geus%20Synopsys%2C%20Inc.&tbm=isch&tbs=cdr:1,cd_min:1/1/2015,cd_max:12/31/2015\n",
      "Aart de Geus 2015\n",
      "hover start\n",
      "hover done\n",
      "Found 100 potential image elements\n"
     ]
    },
    {
     "name": "stderr",
     "output_type": "stream",
     "text": [
      "Scraping:  36%|██████████▍                  | 246/680 [38:11<3:12:15, 26.58s/it]"
     ]
    },
    {
     "name": "stdout",
     "output_type": "stream",
     "text": [
      "element 0 has url https://jointventure.org/images/stories/degeus_sovedit.png\n",
      "element 1 has url https://ethw.org/w/images/thumb/8/83/De_Geus.jpg/300px-De_Geus.jpg\n",
      "element 2 has url https://i.ytimg.com/vi/x8pt_A2a5Q8/sddefault.jpg\n",
      "element 3 has url https://i.ytimg.com/vi/aMptYWbAIKg/hqdefault.jpg\n",
      "https://www.google.com/search?q=Aart%20de%20Geus%20Synopsys%2C%20Inc.&tbm=isch&tbs=cdr:1,cd_min:1/1/2016,cd_max:12/31/2016\n",
      "Aart de Geus 2016\n",
      "hover start\n",
      "hover done\n",
      "Found 100 potential image elements\n"
     ]
    },
    {
     "name": "stderr",
     "output_type": "stream",
     "text": [
      "Scraping:  36%|██████████▌                  | 247/680 [38:40<3:17:37, 27.39s/it]"
     ]
    },
    {
     "name": "stdout",
     "output_type": "stream",
     "text": [
      "element 0 has url https://www.ithistory.org/sites/default/files/honor-roll/Aart%20de%20Geus.jpg\n",
      "element 1 has url http://semiengineering.com/wp-content/uploads/2016/07/4R1A5020.jpg\n",
      "element 2 has url https://i.ytimg.com/vi/aMptYWbAIKg/mqdefault.jpg\n",
      "element 3 has url https://www.synopsys.com/content/dam/synopsys/company/about/bio-images/aart-de-geus1200x1600.jpg.imgw.560.336.jpg\n",
      "https://www.google.com/search?q=Aart%20de%20Geus%20Synopsys%2C%20Inc.&tbm=isch&tbs=cdr:1,cd_min:1/1/2017,cd_max:12/31/2017\n",
      "Aart de Geus 2017\n",
      "hover start\n",
      "hover done\n",
      "Found 100 potential image elements\n"
     ]
    },
    {
     "name": "stderr",
     "output_type": "stream",
     "text": [
      "Scraping:  36%|██████████▌                  | 248/680 [39:09<3:20:41, 27.87s/it]"
     ]
    },
    {
     "name": "stdout",
     "output_type": "stream",
     "text": [
      "element 0 has url https://www.chiphistory.org/chc_upload/icon/7/1503346507/med_1503346507.jpg\n",
      "element 1 has url https://semiengineering.com/wp-content/uploads/2015/03/Aart-DeGeus-255x300.jpg\n",
      "element 2 has url https://techtime.news/wp-content/uploads/sites/2/2017/03/SYNOPSYS-CEO.jpg\n",
      "element 3 has url https://semiwiki.com/wp-content/uploads/2019/06/img_5d0458566b0a8.jpg\n",
      "https://www.google.com/search?q=Aart%20de%20Geus%20Synopsys%2C%20Inc.&tbm=isch&tbs=cdr:1,cd_min:1/1/2018,cd_max:12/31/2018\n",
      "Aart de Geus 2018\n",
      "hover start\n",
      "hover done\n",
      "Found 100 potential image elements\n"
     ]
    },
    {
     "name": "stderr",
     "output_type": "stream",
     "text": [
      "Scraping:  37%|██████████▌                  | 249/680 [39:38<3:22:37, 28.21s/it]"
     ]
    },
    {
     "name": "stdout",
     "output_type": "stream",
     "text": [
      "element 0 has url https://semiwiki.com/wp-content/uploads/2018/03/22009-caption.jpg\n",
      "element 1 has url https://i.ytimg.com/vi/x8pt_A2a5Q8/maxresdefault.jpg\n",
      "element 2 has url https://static.toiimg.com/thumb/msid-65069692,width-400,resizemode-4/65069692.jpg\n",
      "element 3 has url https://images.globes.co.il/images/NewGlobes/big_image_800/2018/74AB5C34F71372016F1770A5A0BF4419_800x392.20180430T161341.jpg\n",
      "https://www.google.com/search?q=Aart%20de%20Geus%20Synopsys%2C%20Inc.&tbm=isch&tbs=cdr:1,cd_min:1/1/2019,cd_max:12/31/2019\n",
      "Aart de Geus 2019\n",
      "hover start\n",
      "hover done\n",
      "Found 100 potential image elements\n"
     ]
    },
    {
     "name": "stderr",
     "output_type": "stream",
     "text": [
      "Scraping:  37%|██████████▋                  | 250/680 [40:07<3:23:27, 28.39s/it]"
     ]
    },
    {
     "name": "stdout",
     "output_type": "stream",
     "text": [
      "element 0 has url https://www.eetimes.com/wp-content/uploads/media-1312758-190717-degeus-800-min.png\n",
      "element 1 has url https://i0.wp.com/semiengineering.com/wp-content/uploads/2015/03/Aart-DeGeus.jpg?ssl=1\n",
      "element 2 has url https://www.edn.com/wp-content/uploads/media-1140974-274031-ceoopen.jpg\n",
      "element 3 has url https://www.chiphistory.org/chc_upload/content_inline_files/images/hall_of_fame/Aart_de_Geus.png\n",
      "https://www.google.com/search?q=Ken%20Xie%20Fortinet%2C%20Inc.&tbm=isch&tbs=cdr:1,cd_min:1/1/2010,cd_max:12/31/2010\n",
      "Ken Xie 2010\n",
      "hover start\n",
      "hover done\n",
      "Found 100 potential image elements\n"
     ]
    },
    {
     "name": "stderr",
     "output_type": "stream",
     "text": [
      "Scraping:  37%|██████████▋                  | 251/680 [40:36<3:24:27, 28.59s/it]"
     ]
    },
    {
     "name": "stdout",
     "output_type": "stream",
     "text": [
      "element 0 has url https://committee100.typepad.com/.a/6a00e5520895f58833017ee8f709b3970d-pi\n",
      "element 1 has url https://www.udshk.com/images/Fortinetapac2010.png\n",
      "element 2 has url https://www.udshk.com/images/photo/Fortinet-2008.jpg\n",
      "element 3 has url https://www.mabi.cz/wp-content/uploads/fortinet_crw38316_web.jpg\n",
      "https://www.google.com/search?q=Ken%20Xie%20Fortinet%2C%20Inc.&tbm=isch&tbs=cdr:1,cd_min:1/1/2011,cd_max:12/31/2011\n",
      "Ken Xie 2011\n",
      "hover start\n",
      "hover done\n",
      "Found 25 potential image elements\n"
     ]
    },
    {
     "name": "stderr",
     "output_type": "stream",
     "text": [
      "Scraping:  37%|██████████▋                  | 252/680 [41:04<3:23:29, 28.53s/it]"
     ]
    },
    {
     "name": "stdout",
     "output_type": "stream",
     "text": [
      "element 0 has url http://text.goldsea.com/images/8775.jpg\n",
      "element 1 has url https://www.sec.gov/Archives/edgar/data/1262039/000126203916000070/fortinetlogoa11.jpg\n",
      "element 2 has url http://idilpr.com.tr/wp-content/uploads/2014/06/FG-50B_Lt.png\n",
      "element 3 has url https://cdn.pressebox.de/a/4c3e78850c9d5e75/attachments/0419994.attachment/filename/111027_Foto+Kooperationsvereinbarung_Trustedshops_VSV.jpg\n",
      "https://www.google.com/search?q=Ken%20Xie%20Fortinet%2C%20Inc.&tbm=isch&tbs=cdr:1,cd_min:1/1/2012,cd_max:12/31/2012\n",
      "Ken Xie 2012\n",
      "hover start\n",
      "hover done\n",
      "Found 100 potential image elements\n"
     ]
    },
    {
     "name": "stderr",
     "output_type": "stream",
     "text": [
      "Scraping:  37%|██████████▊                  | 253/680 [41:33<3:23:08, 28.54s/it]"
     ]
    },
    {
     "name": "stdout",
     "output_type": "stream",
     "text": [
      "element 0 has url https://www.congress.gov/img/member/b000083_200.jpg\n",
      "element 1 has url http://i4.ytimg.com/vi/WLphTQ17O44/mqdefault.jpg\n",
      "element 2 has url https://www.layer7solutions.com/images/products/fortinet-threats-and-remedies.gif\n",
      "element 3 has url https://www.oberberg.net/wp-content/uploads/2014/12/Fortinet_Konzept-Schaubild.jpg\n",
      "https://www.google.com/search?q=Ken%20Xie%20Fortinet%2C%20Inc.&tbm=isch&tbs=cdr:1,cd_min:1/1/2013,cd_max:12/31/2013\n",
      "Ken Xie 2013\n",
      "hover start\n",
      "hover done\n",
      "Found 100 potential image elements\n"
     ]
    },
    {
     "name": "stderr",
     "output_type": "stream",
     "text": [
      "Scraping:  37%|██████████▊                  | 254/680 [42:01<3:22:48, 28.56s/it]"
     ]
    },
    {
     "name": "stdout",
     "output_type": "stream",
     "text": [
      "element 0 has url https://assets.bizjournals.com/story_image/525641.jpg?v=1\n",
      "element 1 has url https://bbcwyse.com/portal/wp-content/uploads/2013/04/Fortinet_logo.jpg\n",
      "element 2 has url http://www.sholy.com.cn/images/pic/peter_brant.png\n",
      "element 3 has url http://www.sholy.com.cn/images/pic/michelle_spolver.jpg\n",
      "https://www.google.com/search?q=Ken%20Xie%20Fortinet%2C%20Inc.&tbm=isch&tbs=cdr:1,cd_min:1/1/2014,cd_max:12/31/2014\n",
      "Ken Xie 2014\n",
      "hover start\n",
      "hover done\n",
      "Found 100 potential image elements\n"
     ]
    },
    {
     "name": "stderr",
     "output_type": "stream",
     "text": [
      "Scraping:  38%|██████████▉                  | 255/680 [42:28<3:17:28, 27.88s/it]"
     ]
    },
    {
     "name": "stdout",
     "output_type": "stream",
     "text": [
      "element 0 has url https://chiefit.me/wp-content/uploads/2014/07/Fortinet-Logo-sml.jpg\n",
      "element 1 has url https://www.congress.gov/img/member/d000018_200.jpg\n",
      "element 2 has url https://www.congress.gov/img/member/s000890_200.jpg\n",
      "element 3 has url https://www.congress.gov/img/member/c000877_200.jpg\n",
      "https://www.google.com/search?q=Ken%20Xie%20Fortinet%2C%20Inc.&tbm=isch&tbs=cdr:1,cd_min:1/1/2015,cd_max:12/31/2015\n",
      "Ken Xie 2015\n",
      "hover start\n",
      "hover done\n",
      "Found 52 potential image elements\n"
     ]
    },
    {
     "name": "stderr",
     "output_type": "stream",
     "text": [
      "Scraping:  38%|██████████▉                  | 256/680 [42:36<2:35:38, 22.02s/it]"
     ]
    },
    {
     "name": "stdout",
     "output_type": "stream",
     "text": [
      "element 0 has url https://www.itvoice.in/wp-content/uploads/2015/02/ken_xie_fortinet1-1.jpg\n",
      "element 1 has url x-raw-image:///6974d148648a7ea5744786a8ec81cde42b72dd8bf459a4cf658ae23ff69cbe48\n",
      "element 2 has url https://media.bizj.us/view/img/208381/kenxiefortinetl.jpg\n",
      "element 3 has url https://images.globes.co.il/images/NewGlobes/big_image_800/2015/roy-800.jpg\n",
      "https://www.google.com/search?q=Ken%20Xie%20Fortinet%2C%20Inc.&tbm=isch&tbs=cdr:1,cd_min:1/1/2016,cd_max:12/31/2016\n",
      "Ken Xie 2016\n",
      "hover start\n",
      "hover done\n",
      "Found 100 potential image elements\n"
     ]
    },
    {
     "name": "stderr",
     "output_type": "stream",
     "text": [
      "Scraping:  38%|██████████▉                  | 257/680 [42:44<2:06:12, 17.90s/it]"
     ]
    },
    {
     "name": "stdout",
     "output_type": "stream",
     "text": [
      "element 0 has url https://www.ec-mea.com/wp-content/uploads/2015/11/fortinet18.jpg\n",
      "element 1 has url https://www.yourtechstory.com/wp-content/uploads/2019/11/fortinet-finds-more-ssh-backdoors-showcase_image-5-a-8826.jpg\n",
      "element 2 has url https://media.nationthailand.com/images/news/2016/01/13/30276799/ori_30276799-01.jpg\n",
      "element 3 has url https://haycanal.com/uploads/noticias/8768/1.jpg\n",
      "https://www.google.com/search?q=Ken%20Xie%20Fortinet%2C%20Inc.&tbm=isch&tbs=cdr:1,cd_min:1/1/2017,cd_max:12/31/2017\n",
      "Ken Xie 2017\n",
      "hover start\n",
      "hover done\n",
      "Found 100 potential image elements\n"
     ]
    },
    {
     "name": "stderr",
     "output_type": "stream",
     "text": [
      "Scraping:  38%|███████████                  | 258/680 [42:53<1:46:18, 15.12s/it]"
     ]
    },
    {
     "name": "stdout",
     "output_type": "stream",
     "text": [
      "element 0 has url https://i.ytimg.com/vi/dI_Ae-euB88/maxresdefault.jpg\n",
      "element 1 has url https://lookaside.fbsbx.com/lookaside/crawler/media/?media_id=10154646694415143\n",
      "element 2 has url https://files.cyberriskalliance.com/wp-content/uploads/2023/08/fortinet_ken_xie_app.jpg\n",
      "element 3 has url https://www.nasdaq.com/sites/acquia.prod/files/image/db0bece4bcd3ffc80878ca51df8435801398a5b3_stock-traders_large.jpg\n",
      "https://www.google.com/search?q=Ken%20Xie%20Fortinet%2C%20Inc.&tbm=isch&tbs=cdr:1,cd_min:1/1/2018,cd_max:12/31/2018\n",
      "Ken Xie 2018\n",
      "hover start\n",
      "hover done\n",
      "Found 100 potential image elements\n"
     ]
    },
    {
     "name": "stderr",
     "output_type": "stream",
     "text": [
      "Scraping:  38%|███████████                  | 259/680 [43:01<1:32:10, 13.14s/it]"
     ]
    },
    {
     "name": "stdout",
     "output_type": "stream",
     "text": [
      "element 0 has url https://pbs.twimg.com/profile_images/1052676448220139522/EyDVkLnQ_400x400.jpg\n",
      "element 1 has url https://d15shllkswkct0.cloudfront.net/wp-content/blogs.dir/1/files/2018/02/Xie.jpg\n",
      "element 2 has url https://www.committee100.org/wp-content/uploads/2023/05/138.-XieKen.jpg\n",
      "element 3 has url https://i.ytimg.com/vi/cDweIFItJjc/sddefault.jpg\n",
      "https://www.google.com/search?q=Ken%20Xie%20Fortinet%2C%20Inc.&tbm=isch&tbs=cdr:1,cd_min:1/1/2019,cd_max:12/31/2019\n",
      "Ken Xie 2019\n",
      "hover start\n",
      "hover done\n",
      "Found 100 potential image elements\n"
     ]
    },
    {
     "name": "stderr",
     "output_type": "stream",
     "text": [
      "Scraping:  38%|███████████                  | 260/680 [43:10<1:21:45, 11.68s/it]"
     ]
    },
    {
     "name": "stdout",
     "output_type": "stream",
     "text": [
      "element 0 has url https://www.fortinet.com/content/dam/fortinet/images/management/Ken%20Image.jpg\n",
      "element 1 has url https://i.ytimg.com/vi/_pNlGywXZAA/hqdefault.jpg\n",
      "element 2 has url https://d15shllkswkct0.cloudfront.net/wp-content/blogs.dir/1/files/2019/04/Ken-Xie-Fortinet-Acellerate-2019.jpg\n",
      "element 3 has url https://d1hbpr09pwz0sk.cloudfront.net/profile_pic/ken-xie-923214d3\n",
      "https://www.google.com/search?q=John%20McAdam%20F5%2C%20Inc.&tbm=isch&tbs=cdr:1,cd_min:1/1/2010,cd_max:12/31/2010\n",
      "John McAdam 2010\n",
      "hover start\n",
      "hover done\n",
      "Found 100 potential image elements\n"
     ]
    },
    {
     "name": "stderr",
     "output_type": "stream",
     "text": [
      "Scraping:  38%|███████████▏                 | 261/680 [43:18<1:15:23, 10.80s/it]"
     ]
    },
    {
     "name": "stdout",
     "output_type": "stream",
     "text": [
      "element 0 has url https://www.sec.gov/Archives/edgar/data/1048695/000089102004000078/v95914v9591400.gif\n",
      "element 1 has url https://www.sec.gov/Archives/edgar/data/1048695/000089102002000020/v78331v7833101.gif\n",
      "element 2 has url https://www.sec.gov/Archives/edgar/data/1048695/000095012310108100/v56719v5671901.gif\n",
      "element 3 has url https://storage.googleapis.com/blogs-images-new/ciscoblogs/1/2022/07/garykinghorn.jpg\n",
      "https://www.google.com/search?q=John%20McAdam%20F5%2C%20Inc.&tbm=isch&tbs=cdr:1,cd_min:1/1/2011,cd_max:12/31/2011\n",
      "John McAdam 2011\n",
      "hover start\n",
      "hover done\n",
      "Found 67 potential image elements\n"
     ]
    },
    {
     "name": "stderr",
     "output_type": "stream",
     "text": [
      "Scraping:  39%|███████████▏                 | 262/680 [43:27<1:10:16, 10.09s/it]"
     ]
    },
    {
     "name": "stdout",
     "output_type": "stream",
     "text": [
      "element 0 has url https://cdn.geekwire.com/wp-content/uploads/2011/12/mcadam.jpg\n",
      "element 1 has url https://cdn.geekwire.com/wp-content/uploads/2011/12/McAdamTechCenter_cmykmain1.jpg\n",
      "element 2 has url https://prabook.com/web/show-photo.jpg?id=17834\n",
      "element 3 has url https://cdn.geekwire.com/wp-content/uploads/2011/10/rivelo22.jpg\n",
      "https://www.google.com/search?q=John%20McAdam%20F5%2C%20Inc.&tbm=isch&tbs=cdr:1,cd_min:1/1/2012,cd_max:12/31/2012\n",
      "John McAdam 2012\n",
      "hover start\n",
      "hover done\n",
      "Found 100 potential image elements\n"
     ]
    },
    {
     "name": "stderr",
     "output_type": "stream",
     "text": [
      "Scraping:  39%|███████████▏                 | 263/680 [43:35<1:06:50,  9.62s/it]"
     ]
    },
    {
     "name": "stdout",
     "output_type": "stream",
     "text": [
      "element 0 has url https://cdn.geekwire.com/wp-content/uploads/2017/04/mcadam600.jpg\n",
      "element 1 has url https://www.silicon.co.uk/wp-content/uploads/2014/08/John-McAdam-CEO-F5.jpg\n",
      "element 2 has url https://cdn.geekwire.com/wp-content/uploads/2017/04/mcadam200.jpg\n",
      "element 3 has url https://cdn.geekwire.com/wp-content/uploads/2012/02/f5.jpg\n",
      "https://www.google.com/search?q=John%20McAdam%20F5%2C%20Inc.&tbm=isch&tbs=cdr:1,cd_min:1/1/2013,cd_max:12/31/2013\n",
      "John McAdam 2013\n",
      "hover start\n",
      "hover done\n",
      "Found 100 potential image elements\n"
     ]
    },
    {
     "name": "stderr",
     "output_type": "stream",
     "text": [
      "Scraping:  39%|███████████▎                 | 264/680 [43:44<1:05:09,  9.40s/it]"
     ]
    },
    {
     "name": "stdout",
     "output_type": "stream",
     "text": [
      "element 0 has url https://cdn.geekwire.com/wp-content/uploads/2017/04/singh-steve44.jpg\n",
      "element 1 has url https://cdn.geekwire.com/wp-content/uploads/2017/04/f5-designcenter.jpg\n",
      "element 2 has url https://www.sec.gov/Archives/edgar/data/1048695/000119312513019399/g444856g33n22.jpg\n",
      "element 3 has url https://i.ytimg.com/vi/7qepeU4dM-g/mqdefault.jpg\n",
      "https://www.google.com/search?q=John%20McAdam%20F5%2C%20Inc.&tbm=isch&tbs=cdr:1,cd_min:1/1/2014,cd_max:12/31/2014\n",
      "John McAdam 2014\n",
      "hover start\n",
      "hover done\n",
      "Found 100 potential image elements\n"
     ]
    },
    {
     "name": "stderr",
     "output_type": "stream",
     "text": [
      "Scraping:  39%|███████████▎                 | 265/680 [43:52<1:01:48,  8.94s/it]"
     ]
    },
    {
     "name": "stdout",
     "output_type": "stream",
     "text": [
      "element 0 has url https://cdn.geekwire.com/wp-content/uploads/2017/04/mcadam600-300x168.jpg\n",
      "element 1 has url https://cdn.geekwire.com/wp-content/uploads/2017/04/singh-steve111-263x300.jpg\n",
      "element 2 has url https://i.ytimg.com/vi/K7DP1tU1Fds/mqdefault.jpg\n",
      "element 3 has url https://www.gla.ac.uk/media/Media_302807_smxx.jpg\n",
      "https://www.google.com/search?q=John%20McAdam%20F5%2C%20Inc.&tbm=isch&tbs=cdr:1,cd_min:1/1/2015,cd_max:12/31/2015\n",
      "John McAdam 2015\n",
      "hover start\n",
      "hover done\n",
      "Found 100 potential image elements\n"
     ]
    },
    {
     "name": "stderr",
     "output_type": "stream",
     "text": [
      "Scraping:  39%|███████████▎                 | 266/680 [44:01<1:01:04,  8.85s/it]"
     ]
    },
    {
     "name": "stdout",
     "output_type": "stream",
     "text": [
      "element 0 has url https://cdn.geekwire.com/wp-content/uploads/2014/06/140605geekwire.jpg\n",
      "element 1 has url https://i.ytimg.com/vi/amPNRbKpTF4/mqdefault.jpg\n",
      "element 2 has url https://i.ytimg.com/vi/K7DP1tU1Fds/sddefault.jpg\n",
      "element 3 has url https://cdn.geekwire.com/wp-content/uploads/2015/04/management-team-rivelo3.png\n",
      "https://www.google.com/search?q=John%20McAdam%20F5%2C%20Inc.&tbm=isch&tbs=cdr:1,cd_min:1/1/2016,cd_max:12/31/2016\n",
      "John McAdam 2016\n",
      "hover start\n",
      "hover done\n",
      "Found 100 potential image elements\n"
     ]
    },
    {
     "name": "stderr",
     "output_type": "stream",
     "text": [
      "Scraping:  39%|████████████▏                  | 267/680 [44:09<59:55,  8.70s/it]"
     ]
    },
    {
     "name": "stdout",
     "output_type": "stream",
     "text": [
      "element 0 has url http://media.bizj.us/view/img/1617651/eoy-john-mcadam-01c*1200xx5312-2988-0-230.jpg\n",
      "element 1 has url http://media.bizj.us/view/img/1643851/eoy-john-mcadam-02-office-sunset*1200xx1000-563-0-52.jpg\n",
      "element 2 has url https://i.ytimg.com/vi/Sj5z0LL84lI/maxresdefault.jpg\n",
      "element 3 has url https://media.bizj.us/view/img/1617621/eoy-john-mcadam-01a.jpg\n",
      "https://www.google.com/search?q=Fran%C3%A7ois%20Locoh-Donou%20F5%2C%20Inc.&tbm=isch&tbs=cdr:1,cd_min:1/1/2017,cd_max:12/31/2017\n",
      "François Locoh-Donou 2017\n",
      "hover start\n",
      "hover done\n",
      "Found 100 potential image elements\n"
     ]
    },
    {
     "name": "stderr",
     "output_type": "stream",
     "text": [
      "Scraping:  39%|████████████▏                  | 268/680 [44:17<57:50,  8.42s/it]"
     ]
    },
    {
     "name": "stdout",
     "output_type": "stream",
     "text": [
      "element 0 has url https://cdn.geekwire.com/wp-content/uploads/2017/08/067a1d_b0da18ec15ff4fa3b07c1574c555b6dc.jpg\n",
      "element 1 has url https://cdn.geekwire.com/wp-content/uploads/2017/01/Francois-Locoh-Donou-hi-res-e1491242256892.jpg\n",
      "element 2 has url https://cdn.geekwire.com/wp-content/uploads/2017/08/067a1d_b0da18ec15ff4fa3b07c1574c555b6dc-630x503.jpg\n",
      "element 3 has url https://media.bizj.us/view/img/6896852/coo-donou*1200xx1873-1056-1109-195.jpg\n",
      "https://www.google.com/search?q=Fran%C3%A7ois%20Locoh-Donou%20F5%2C%20Inc.&tbm=isch&tbs=cdr:1,cd_min:1/1/2018,cd_max:12/31/2018\n",
      "François Locoh-Donou 2018\n",
      "hover start\n",
      "hover done\n",
      "Found 100 potential image elements\n"
     ]
    },
    {
     "name": "stderr",
     "output_type": "stream",
     "text": [
      "Scraping:  40%|████████████▎                  | 269/680 [44:26<58:26,  8.53s/it]"
     ]
    },
    {
     "name": "stdout",
     "output_type": "stream",
     "text": [
      "element 0 has url https://www.f5.com/content/dam/f5-com/page-assets-en/home-en/company/news/articles/Fran%C3%A7oisLocohDonou.jpg\n",
      "element 1 has url https://s.wsj.net/public/resources/images/BN-XU703_F5CEOL_G_20180309180309.jpg\n",
      "element 2 has url https://cdn.geekwire.com/wp-content/uploads/2018/09/DSC05627.jpg\n",
      "element 3 has url https://cdn.geekwire.com/wp-content/uploads/2018/03/DXxt_T8VMAAw-KG.jpg-large-630x420.jpg\n",
      "https://www.google.com/search?q=Fran%C3%A7ois%20Locoh-Donou%20F5%2C%20Inc.&tbm=isch&tbs=cdr:1,cd_min:1/1/2019,cd_max:12/31/2019\n",
      "François Locoh-Donou 2019\n",
      "hover start\n",
      "hover done\n",
      "Found 100 potential image elements\n"
     ]
    },
    {
     "name": "stderr",
     "output_type": "stream",
     "text": [
      "Scraping:  40%|████████████▎                  | 270/680 [44:34<57:16,  8.38s/it]"
     ]
    },
    {
     "name": "stdout",
     "output_type": "stream",
     "text": [
      "element 0 has url https://i.insider.com/5d48bfe7100a2410a832b596?width=1200&format=jpeg\n",
      "element 1 has url https://i.ytimg.com/vi/AWJwZefAEwk/maxresdefault.jpg\n",
      "element 2 has url https://www.intelligenttechchannels.com/wp-content/uploads/sites/7/2019/05/WEB.png\n",
      "element 3 has url https://media.licdn.com/dms/image/v2/C4D03AQEl-1QZ4s1orQ/profile-displayphoto-shrink_200_200/profile-displayphoto-shrink_200_200/0/1550028176606?e=2147483647&v=beta&t=pQ8T7_3VQgxCxBqLjnjc0P8bhUubZZ-i_MQDmjHxO_U\n",
      "https://www.google.com/search?q=Jayshree%20Ullal%20Arista%20Networks%2C%20Inc.&tbm=isch&tbs=cdr:1,cd_min:1/1/2010,cd_max:12/31/2010\n",
      "Jayshree Ullal 2010\n",
      "hover start\n",
      "hover done\n",
      "Found 20 potential image elements\n"
     ]
    },
    {
     "name": "stderr",
     "output_type": "stream",
     "text": [
      "Scraping:  40%|███████████▌                 | 271/680 [45:03<1:39:02, 14.53s/it]"
     ]
    },
    {
     "name": "stdout",
     "output_type": "stream",
     "text": [
      "element 0 has url https://i.ytimg.com/vi/s38RzGokAg0/hqdefault.jpg\n",
      "element 1 has url https://static01.nyt.com/images/2010/04/20/technology/20techblogs/20techblogs-custom2.jpg\n",
      "element 2 has url https://eu-images.contentstack.com/v3/assets/blt8eb3cdfc1fce5194/blt60ecd1af6d389f79/664b38347dc43f297fa3402e/arista-7500.jpg\n",
      "element 3 has url http://s.wsj.net/public/resources/images/OB-IE950_andy04_D_20100418234313.jpg\n",
      "https://www.google.com/search?q=Jayshree%20Ullal%20Arista%20Networks%2C%20Inc.&tbm=isch&tbs=cdr:1,cd_min:1/1/2011,cd_max:12/31/2011\n",
      "Jayshree Ullal 2011\n",
      "hover start\n",
      "hover done\n",
      "Found 22 potential image elements\n"
     ]
    },
    {
     "name": "stderr",
     "output_type": "stream",
     "text": [
      "Scraping:  40%|███████████▌                 | 272/680 [45:31<2:07:56, 18.81s/it]"
     ]
    },
    {
     "name": "stdout",
     "output_type": "stream",
     "text": [
      "element 0 has url https://i.ytimg.com/vi/mGv7bLSmTdE/hqdefault.jpg\n",
      "element 1 has url https://static.foxbusiness.com/foxbusiness.com/content/uploads/2018/02/John-Chambers-CEO-Cisco-Systems-2.jpg\n",
      "element 2 has url http://static.oprah.com/images/200104/omag/200104-omag-learn-from-men-600x411.jpg\n",
      "element 3 has url https://www.theyouth.in/wp-content/uploads/2018/12/10-indu-jain-100811.jpg\n",
      "https://www.google.com/search?q=Jayshree%20Ullal%20Arista%20Networks%2C%20Inc.&tbm=isch&tbs=cdr:1,cd_min:1/1/2012,cd_max:12/31/2012\n",
      "Jayshree Ullal 2012\n",
      "hover start\n",
      "hover done\n",
      "Found 57 potential image elements\n"
     ]
    },
    {
     "name": "stderr",
     "output_type": "stream",
     "text": [
      "Scraping:  40%|███████████▋                 | 273/680 [46:00<2:27:46, 21.79s/it]"
     ]
    },
    {
     "name": "stdout",
     "output_type": "stream",
     "text": [
      "element 0 has url https://i.ytimg.com/vi/0cj-uQ-xgX8/mqdefault.jpg\n",
      "element 1 has url https://i.ytimg.com/vi/mGv7bLSmTdE/mqdefault.jpg\n",
      "element 2 has url https://i.ytimg.com/vi/C0Vyp6x2Rik/hqdefault.jpg\n",
      "element 3 has url https://i.ytimg.com/vi/s38RzGokAg0/mqdefault.jpg\n",
      "https://www.google.com/search?q=Jayshree%20Ullal%20Arista%20Networks%2C%20Inc.&tbm=isch&tbs=cdr:1,cd_min:1/1/2013,cd_max:12/31/2013\n",
      "Jayshree Ullal 2013\n",
      "hover start\n",
      "hover done\n",
      "Found 59 potential image elements\n"
     ]
    },
    {
     "name": "stderr",
     "output_type": "stream",
     "text": [
      "Scraping:  40%|███████████▋                 | 274/680 [46:29<2:41:43, 23.90s/it]"
     ]
    },
    {
     "name": "stdout",
     "output_type": "stream",
     "text": [
      "element 0 has url https://34.216.52.208/wp-content/uploads/2013/06/Jayshree-Ullal.jpg\n",
      "element 1 has url https://i.ytimg.com/vi/0cj-uQ-xgX8/maxresdefault.jpg\n",
      "element 2 has url https://i.ytimg.com/vi/C0Vyp6x2Rik/sddefault.jpg\n",
      "element 3 has url https://eu-images.contentstack.com/v3/assets/blt8eb3cdfc1fce5194/blt9d83be0179d34314/662123363205e9bb7ab8abef/Intel-Arista-Networks.jpg\n",
      "https://www.google.com/search?q=Jayshree%20Ullal%20Arista%20Networks%2C%20Inc.&tbm=isch&tbs=cdr:1,cd_min:1/1/2014,cd_max:12/31/2014\n",
      "Jayshree Ullal 2014\n",
      "hover start\n",
      "hover done\n",
      "Found 100 potential image elements\n"
     ]
    },
    {
     "name": "stderr",
     "output_type": "stream",
     "text": [
      "Scraping:  40%|███████████▋                 | 275/680 [46:48<2:30:38, 22.32s/it]"
     ]
    },
    {
     "name": "stdout",
     "output_type": "stream",
     "text": [
      "element 0 has url http://americanbazaaronline.com/wp-content/uploads/2014/06/image12.jpg\n",
      "element 1 has url https://i.ytimg.com/vi/0cj-uQ-xgX8/sddefault.jpg\n",
      "element 2 has url http://media.bizj.us/view/img/2641881/jayshree-ullal600xx135-202-57-0*320xx135-202-0-0.jpg\n",
      "element 3 has url https://www.businessinsider.in/photo/47477164/Arista-Networks-Jayshree-Ullal-988760.jpg\n",
      "https://www.google.com/search?q=Jayshree%20Ullal%20Arista%20Networks%2C%20Inc.&tbm=isch&tbs=cdr:1,cd_min:1/1/2015,cd_max:12/31/2015\n",
      "Jayshree Ullal 2015\n",
      "hover start\n",
      "hover done\n",
      "Found 100 potential image elements\n"
     ]
    },
    {
     "name": "stderr",
     "output_type": "stream",
     "text": [
      "Scraping:  41%|███████████▊                 | 276/680 [47:11<2:33:18, 22.77s/it]"
     ]
    },
    {
     "name": "stdout",
     "output_type": "stream",
     "text": [
      "element 0 has url https://i.ytimg.com/vi/jlqrKkqa_T0/sddefault.jpg\n",
      "element 1 has url https://insidertrades.com/media/2028push_Jayshree%20Ullal%201.jpg\n",
      "element 2 has url http://americanbazaaronline.com/wp-content/uploads/2015/11/2015-Overall-Bechtolsheim-Ullal-e1447937011554.jpg\n",
      "element 3 has url https://www.theindianpanorama.news/wp-content/uploads/2015/11/Arista-Networks.jpg\n",
      "https://www.google.com/search?q=Jayshree%20Ullal%20Arista%20Networks%2C%20Inc.&tbm=isch&tbs=cdr:1,cd_min:1/1/2016,cd_max:12/31/2016\n",
      "Jayshree Ullal 2016\n",
      "hover start\n",
      "hover done\n",
      "Found 100 potential image elements\n"
     ]
    },
    {
     "name": "stderr",
     "output_type": "stream",
     "text": [
      "Scraping:  41%|███████████▊                 | 277/680 [47:41<2:45:51, 24.69s/it]"
     ]
    },
    {
     "name": "stdout",
     "output_type": "stream",
     "text": [
      "element 0 has url https://s21.q4cdn.com/861911615/files/images/BoD/JU_Awards.png\n",
      "element 1 has url https://www.scu.edu/media/school-of-engineering/photos/alumni/JayshreeUllal-760x760.jpg\n",
      "element 2 has url http://www.coastaldigest.com/images/stories/pictures/June2016/june02/arista.jpg\n",
      "element 3 has url https://s.wsj.net/public/resources/images/ON-BT150_Arista_G_20160708224459.jpg\n",
      "https://www.google.com/search?q=Jayshree%20Ullal%20Arista%20Networks%2C%20Inc.&tbm=isch&tbs=cdr:1,cd_min:1/1/2017,cd_max:12/31/2017\n",
      "Jayshree Ullal 2017\n",
      "hover start\n",
      "hover done\n",
      "Found 100 potential image elements\n"
     ]
    },
    {
     "name": "stderr",
     "output_type": "stream",
     "text": [
      "Scraping:  41%|███████████▊                 | 278/680 [48:10<2:54:16, 26.01s/it]"
     ]
    },
    {
     "name": "stdout",
     "output_type": "stream",
     "text": [
      "element 0 has url https://upload.wikimedia.org/wikipedia/commons/9/9b/Jayshree_Ullal_Arista_CEO.jpg\n",
      "element 1 has url https://media.bizj.us/view/img/10578040/arista-ullal-1-050817*1200xx4996-2810-0-261.jpg\n",
      "element 2 has url https://eu-images.contentstack.com/v3/assets/blt10e444bce2d36aa8/blte77d14d71656773d/65265d423ad4f4a8492af702/jayshree-ullal-arista_0.jpg\n",
      "element 3 has url https://media.bizj.us/view/img/10477904/arista-ullal-3-050817*1200xx5406-3041-0-282.jpg\n",
      "https://www.google.com/search?q=Jayshree%20Ullal%20Arista%20Networks%2C%20Inc.&tbm=isch&tbs=cdr:1,cd_min:1/1/2018,cd_max:12/31/2018\n",
      "Jayshree Ullal 2018\n",
      "hover start\n",
      "hover done\n",
      "Found 100 potential image elements\n"
     ]
    },
    {
     "name": "stderr",
     "output_type": "stream",
     "text": [
      "Scraping:  41%|███████████▉                 | 279/680 [48:39<3:01:08, 27.10s/it]"
     ]
    },
    {
     "name": "stdout",
     "output_type": "stream",
     "text": [
      "element 0 has url https://upload.wikimedia.org/wikipedia/commons/thumb/9/9b/Jayshree_Ullal_Arista_CEO.jpg/250px-Jayshree_Ullal_Arista_CEO.jpg\n",
      "element 1 has url https://media.bizj.us/view/img/10578040/arista-ullal-1-050817.jpg\n",
      "element 2 has url https://s.wsj.net/public/resources/images/ON-CK865_Jayshr_M_20180216113245.jpg\n",
      "element 3 has url https://s.wsj.net/public/resources/images/ON-CN444_Feat_A_B620_20180511103853.jpg\n",
      "https://www.google.com/search?q=Jayshree%20Ullal%20Arista%20Networks%2C%20Inc.&tbm=isch&tbs=cdr:1,cd_min:1/1/2019,cd_max:12/31/2019\n",
      "Jayshree Ullal 2019\n",
      "hover start\n",
      "hover done\n",
      "Found 100 potential image elements\n"
     ]
    },
    {
     "name": "stderr",
     "output_type": "stream",
     "text": [
      "Scraping:  41%|███████████▉                 | 280/680 [49:09<3:04:58, 27.75s/it]"
     ]
    },
    {
     "name": "stdout",
     "output_type": "stream",
     "text": [
      "element 0 has url https://i.insider.com/5487a2886da8111d2411aaf4?width=1200&format=jpeg\n",
      "element 1 has url http://www.thinklink.in/files/blog/26072019115331471941543.png\n",
      "element 2 has url https://i.ytimg.com/vi/KcoL-9CkPHc/maxresdefault.jpg\n",
      "element 3 has url https://siliconeer.com/current/wp-content/uploads/2019/04/divAnnouncing-Grand-Keynote-Speaker-Jayshree-Ullal-President-CEO-Arista-Networksdiv-400x400.jpg\n",
      "https://www.google.com/search?q=Greg%20Brown%20Motorola%20Solutions%2C%20Inc.&tbm=isch&tbs=cdr:1,cd_min:1/1/2010,cd_max:12/31/2010\n",
      "Greg Brown 2010\n",
      "hover start\n",
      "hover done\n",
      "Found 100 potential image elements\n"
     ]
    },
    {
     "name": "stderr",
     "output_type": "stream",
     "text": [
      "Scraping:  41%|███████████▉                 | 281/680 [49:38<3:07:21, 28.17s/it]"
     ]
    },
    {
     "name": "stdout",
     "output_type": "stream",
     "text": [
      "element 0 has url https://psc-legacy.apcointl.org/wp-content/uploads/2010/12/brown_hi-res.jpg\n",
      "element 1 has url https://www.rutgers.edu/sites/default/files/legacy-inline/2010/Apr/rutgers-university-a-20100401--Brown%20G%20-%20HDA.JPG\n",
      "element 2 has url https://www.astroman.com.pl/img/magazyn/764/o/Rajeev_Suri_1.jpg\n",
      "element 3 has url http://www.gsmdome.com/wp-content/uploads/2010/12/motorola-split.jpg\n",
      "https://www.google.com/search?q=Greg%20Brown%20Motorola%20Solutions%2C%20Inc.&tbm=isch&tbs=cdr:1,cd_min:1/1/2011,cd_max:12/31/2011\n",
      "Greg Brown 2011\n",
      "hover start\n",
      "hover done\n",
      "Found 100 potential image elements\n"
     ]
    },
    {
     "name": "stderr",
     "output_type": "stream",
     "text": [
      "Scraping:  41%|████████████                 | 282/680 [50:07<3:09:56, 28.64s/it]"
     ]
    },
    {
     "name": "stdout",
     "output_type": "stream",
     "text": [
      "element 0 has url https://www.motorolasolutions.com/content/dam/msi/images/en-xw/static_files/greg-brown-th.jpg\n",
      "element 1 has url https://s.wsj.net/public/resources/images/OB-OJ544_Motoro_G_20110617172839.jpg\n",
      "element 2 has url https://s.wsj.net/public/resources/images/MK-BI854_MOTOSP_G_20110103184912.jpg\n",
      "element 3 has url https://s.wsj.net/public/resources/images/OB-OJ544_Motoro_F_20110617172839.jpg\n",
      "https://www.google.com/search?q=Greg%20Brown%20Motorola%20Solutions%2C%20Inc.&tbm=isch&tbs=cdr:1,cd_min:1/1/2012,cd_max:12/31/2012\n",
      "Greg Brown 2012\n",
      "hover start\n",
      "hover done\n",
      "Found 100 potential image elements\n"
     ]
    },
    {
     "name": "stderr",
     "output_type": "stream",
     "text": [
      "Scraping:  42%|████████████                 | 283/680 [50:36<3:09:57, 28.71s/it]"
     ]
    },
    {
     "name": "stdout",
     "output_type": "stream",
     "text": [
      "element 0 has url https://www.rutgers.edu/sites/default/files/legacy-inline/2012/Oct/greg-brown-chair-and-20120327--Greg%20Brown%20commence%202012.jpg\n",
      "element 1 has url http://www.theborneopost.com/newsimages/2012/11/000000528076.jpg\n",
      "element 2 has url https://www.theborneopost.com/newsimages/2012/11/B3334.jpg\n",
      "element 3 has url https://www.sec.gov/Archives/edgar/data/68505/000119312512109574/g306982brown.jpg\n",
      "https://www.google.com/search?q=Greg%20Brown%20Motorola%20Solutions%2C%20Inc.&tbm=isch&tbs=cdr:1,cd_min:1/1/2013,cd_max:12/31/2013\n",
      "Greg Brown 2013\n",
      "hover start\n",
      "hover done\n",
      "Found 100 potential image elements\n"
     ]
    },
    {
     "name": "stderr",
     "output_type": "stream",
     "text": [
      "Scraping:  42%|████████████                 | 284/680 [50:56<2:51:10, 25.94s/it]"
     ]
    },
    {
     "name": "stdout",
     "output_type": "stream",
     "text": [
      "element 0 has url https://old-news.rutgers.edu/sites/medrel/files/inline-img/Greg%20Brown%20Photo250.jpg\n",
      "element 1 has url https://www.sec.gov/Archives/edgar/data/68505/000119312513111188/g485278brown.jpg\n",
      "element 2 has url https://s.wsj.net/public/resources/images/NA-BW846_GOODLA_G_20130616171109.jpg\n",
      "element 3 has url https://s.wsj.net/public/resources/images/BN-ES294_0925mo_D_20140925100448.jpg\n",
      "https://www.google.com/search?q=Greg%20Brown%20Motorola%20Solutions%2C%20Inc.&tbm=isch&tbs=cdr:1,cd_min:1/1/2014,cd_max:12/31/2014\n",
      "Greg Brown 2014\n",
      "hover start\n",
      "hover done\n",
      "Found 100 potential image elements\n"
     ]
    },
    {
     "name": "stderr",
     "output_type": "stream",
     "text": [
      "Scraping:  42%|████████████▏                | 285/680 [51:05<2:17:18, 20.86s/it]"
     ]
    },
    {
     "name": "stdout",
     "output_type": "stream",
     "text": [
      "element 0 has url https://www.chronicle.co.zw/wp-content/uploads/sites/3/2014/04/Greg-Brown.jpg\n",
      "element 1 has url https://static01.nyt.com/images/2014/04/16/business/dbpix-motorola-CEO/dbpix-motorola-CEO-articleInline.jpg\n",
      "element 2 has url https://static01.nyt.com/images/2014/04/15/business/dbpix-motorola2/dbpix-motorola2-articleInline.jpg\n",
      "element 3 has url https://s.wsj.net/public/resources/images/BN-ES294_0925mo_J_20140925100448.jpg\n",
      "https://www.google.com/search?q=Greg%20Brown%20Motorola%20Solutions%2C%20Inc.&tbm=isch&tbs=cdr:1,cd_min:1/1/2015,cd_max:12/31/2015\n",
      "Greg Brown 2015\n",
      "hover start\n",
      "hover done\n",
      "Found 100 potential image elements\n"
     ]
    },
    {
     "name": "stderr",
     "output_type": "stream",
     "text": [
      "Scraping:  42%|████████████▏                | 286/680 [51:14<1:53:44, 17.32s/it]"
     ]
    },
    {
     "name": "stdout",
     "output_type": "stream",
     "text": [
      "element 0 has url https://assets.bwbx.io/images/users/iqjWHBFdfxIU/iQtkKiuV29gg/v172/-1x-1.jpg\n",
      "element 1 has url https://themanufacturer-cdn-1.s3.eu-west-2.amazonaws.com/wp-content/uploads/2013/10/14115243/Motorola-Solutions-Chairman-CEO-Greg-Brown-on-Communication1.png\n",
      "element 2 has url http://media.nj.com/rutgers_football/photo/13939299-mmmain.jpg\n",
      "element 3 has url https://archive-images.prod.global.a201836.reutersmedia.net/2015/02/06/LYNXMPEB1512Y.JPG\n",
      "https://www.google.com/search?q=Greg%20Brown%20Motorola%20Solutions%2C%20Inc.&tbm=isch&tbs=cdr:1,cd_min:1/1/2016,cd_max:12/31/2016\n",
      "Greg Brown 2016\n",
      "hover start\n",
      "hover done\n",
      "Found 100 potential image elements\n"
     ]
    },
    {
     "name": "stderr",
     "output_type": "stream",
     "text": [
      "Scraping:  42%|████████████▏                | 287/680 [51:22<1:36:17, 14.70s/it]"
     ]
    },
    {
     "name": "stdout",
     "output_type": "stream",
     "text": [
      "element 0 has url https://static-cdn.toi-media.com/www/uploads/2016/04/PM-Netanyahu-Greg-Brown-copy.jpg\n",
      "element 1 has url https://images.successstory.com/adminimg/image_uploads/content_images/greg-brown_1461242286.jpg\n",
      "element 2 has url https://mms.businesswire.com/media/20241107798701/en/532387/4/MSI-Vertical.jpg\n",
      "element 3 has url https://s.wsj.net/public/resources/images/BN-JS378_0805mo_GR_20150805061637.jpg\n",
      "https://www.google.com/search?q=Greg%20Brown%20Motorola%20Solutions%2C%20Inc.&tbm=isch&tbs=cdr:1,cd_min:1/1/2017,cd_max:12/31/2017\n",
      "Greg Brown 2017\n",
      "hover start\n",
      "hover done\n",
      "Found 100 potential image elements\n"
     ]
    },
    {
     "name": "stderr",
     "output_type": "stream",
     "text": [
      "Scraping:  42%|████████████▎                | 288/680 [51:31<1:24:42, 12.97s/it]"
     ]
    },
    {
     "name": "stdout",
     "output_type": "stream",
     "text": [
      "element 0 has url https://www.sdmmag.com/ext/resources/images/2021/06/motorola-solutions-logo.jpg?1628879375\n",
      "element 1 has url https://pbs.twimg.com/media/CgA2sK5WwAYcTAC.jpg\n",
      "element 2 has url https://s3.amazonaws.com/cms.ipressroom.com/84/files/20165/577165312cfac2500f4c7944_GettyImages_73970377/GettyImages_73970377_c0317b61-4256-4c0f-8c6b-254258ad713e-prv.jpg\n",
      "element 3 has url https://blogger.googleusercontent.com/img/b/R29vZ2xl/AVvXsEjMAQrBkJY2AU5Sb4mtwJoPF77zxy_Mfe5Lu9NP-HiOdm7Z07mW_ia37b0Am01VSzppgPupWdNEc2XfLg5yv7zQTvlmcPRC4R3Hqv2D1igxYuQUSHXeUgrxqJoj__9Mw3kRR4SGh22dUfTW/s1600/Sin+t%25C3%25ADtulo.png\n",
      "https://www.google.com/search?q=Greg%20Brown%20Motorola%20Solutions%2C%20Inc.&tbm=isch&tbs=cdr:1,cd_min:1/1/2018,cd_max:12/31/2018\n",
      "Greg Brown 2018\n",
      "hover start\n",
      "hover done\n",
      "Found 100 potential image elements\n"
     ]
    },
    {
     "name": "stderr",
     "output_type": "stream",
     "text": [
      "Scraping:  42%|████████████▎                | 289/680 [51:41<1:17:52, 11.95s/it]"
     ]
    },
    {
     "name": "stdout",
     "output_type": "stream",
     "text": [
      "element 0 has url https://s3-rd-prod.chicagobusiness.com/s3fs-public/styles/800x600/public/BLOGS11-140929787-AR.jpeg\n",
      "element 1 has url https://s3-rd-prod.chicagobusiness.com/s3fs-public/styles/800x600/public/NEWS08-121219784-AR.jpeg\n",
      "element 2 has url https://s3-rd-prod.chicagobusiness.com/s3fs-public/styles/800x600/public/BLOGS10-150409837-AR.jpeg\n",
      "element 3 has url https://s3-rd-prod.chicagobusiness.com/s3fs-public/styles/800x600/public/BLOGS03-120519992-AR.jpeg\n",
      "https://www.google.com/search?q=Greg%20Brown%20Motorola%20Solutions%2C%20Inc.&tbm=isch&tbs=cdr:1,cd_min:1/1/2019,cd_max:12/31/2019\n",
      "Greg Brown 2019\n",
      "hover start\n",
      "hover done\n",
      "Found 100 potential image elements\n"
     ]
    },
    {
     "name": "stderr",
     "output_type": "stream",
     "text": [
      "Scraping:  43%|████████████▎                | 290/680 [51:50<1:11:13, 10.96s/it]"
     ]
    },
    {
     "name": "stdout",
     "output_type": "stream",
     "text": [
      "element 0 has url https://s3-rd-prod.chicagobusiness.com/styles/800x600/s3/Greg_Brown_2016_0.jpg?h=56d0a55f\n",
      "element 1 has url https://s3-rd-prod.chicagobusiness.com/s3fs-public/styles/800x600/public/brightcove/videos/images/posters/717773684_692208800001_CBT-Brightcove-Still-640x360.jpg\n",
      "element 2 has url https://eu-images.contentstack.com/v3/assets/blt6feb61a0e5161fff/blt48b032aa0d301339/6720d8c66f6f023845b0215b/Motorola-Solutions1-900x600_(2).jpg\n",
      "element 3 has url https://www.securityinformed.com/img/news/612/motorola-vaas-920x533.jpg\n",
      "https://www.google.com/search?q=John%20Coyne%20Western%20Digital%20Corporation&tbm=isch&tbs=cdr:1,cd_min:1/1/2010,cd_max:12/31/2010\n",
      "John Coyne 2010\n",
      "hover start\n",
      "hover done\n",
      "Found 100 potential image elements\n"
     ]
    },
    {
     "name": "stderr",
     "output_type": "stream",
     "text": [
      "Scraping:  43%|████████████▍                | 291/680 [52:19<1:47:46, 16.62s/it]"
     ]
    },
    {
     "name": "stdout",
     "output_type": "stream",
     "text": [
      "element 0 has url https://www.ocregister.com/wp-content/uploads/migration/kpj/kpjdor-02shakeellg.jpg?w=640\n",
      "element 1 has url https://news-cdn.softpedia.com/images/news2/HDD-Crisis-Was-Fake-Seagate-and-Western-Digital-Post-Big-Profits-2.jpg\n",
      "element 2 has url https://www.siliconrepublic.com/wp-content/uploads/2014/12/201103/storage.jpg\n",
      "element 3 has url http://images.bjorn3d.com/Material/revimages/storage/WD_Velociraptor/Raptor_Box.jpg\n",
      "https://www.google.com/search?q=John%20Coyne%20Western%20Digital%20Corporation&tbm=isch&tbs=cdr:1,cd_min:1/1/2011,cd_max:12/31/2011\n",
      "John Coyne 2011\n",
      "hover start\n",
      "hover done\n",
      "Found 100 potential image elements\n"
     ]
    },
    {
     "name": "stderr",
     "output_type": "stream",
     "text": [
      "Scraping:  43%|████████████▍                | 292/680 [52:49<2:13:16, 20.61s/it]"
     ]
    },
    {
     "name": "stdout",
     "output_type": "stream",
     "text": [
      "element 0 has url https://hothardware.com/newsimages/Item16471/wd-headquarters.jpg\n",
      "element 1 has url https://www.sdmmag.com/ext/resources/archives/s/sd/sdm/sdm-/sdm-newswire-graphic-feature2.jpg?1447097724\n",
      "element 2 has url https://images.bit-tech.net/news_images/2009/03/western-digital-buys-ssd-entry/featured_double.jpg\n",
      "element 3 has url https://venturebeat.com/wp-content/uploads/2011/11/wd-flood.jpg\n",
      "https://www.google.com/search?q=Stephen%20Milligan%20Western%20Digital%20Corporation&tbm=isch&tbs=cdr:1,cd_min:1/1/2012,cd_max:12/31/2012\n",
      "Stephen Milligan 2012\n",
      "hover start\n",
      "hover done\n",
      "Found 100 potential image elements\n"
     ]
    },
    {
     "name": "stderr",
     "output_type": "stream",
     "text": [
      "Scraping:  43%|████████████▍                | 293/680 [53:19<2:31:02, 23.42s/it]"
     ]
    },
    {
     "name": "stdout",
     "output_type": "stream",
     "text": [
      "element 0 has url https://news-cdn.softpedia.com/images/news2/New-Western-Digital-Chief-Will-be-Former-Hitachi-Leader-2.jpg\n",
      "element 1 has url https://regmedia.co.uk/2012/09/10/steve_milligan.jpg\n",
      "element 2 has url http://www.poandpo.com/s0912/steve_milligan.jpg\n",
      "element 3 has url https://regmedia.co.uk/2012/09/10/john_coyne.jpg\n",
      "https://www.google.com/search?q=Stephen%20Milligan%20Western%20Digital%20Corporation&tbm=isch&tbs=cdr:1,cd_min:1/1/2013,cd_max:12/31/2013\n",
      "Stephen Milligan 2013\n",
      "hover start\n",
      "hover done\n",
      "Found 100 potential image elements\n"
     ]
    },
    {
     "name": "stderr",
     "output_type": "stream",
     "text": [
      "Scraping:  43%|████████████▌                | 294/680 [53:49<2:42:57, 25.33s/it]"
     ]
    },
    {
     "name": "stdout",
     "output_type": "stream",
     "text": [
      "element 0 has url https://www.techspot.com/images2/news/bigimage/2013/2013-03-13-image-9.jpg\n",
      "element 1 has url https://assets.hardwarezone.com/img/2013/06/Ultrastar_SSD800_5163d325937e4_600W.jpg\n",
      "element 2 has url https://4.img-dpreview.com/files/p/E~TS520x0~articles/5146519452/Sandisk.jpeg\n",
      "element 3 has url https://cdn.mos.cms.futurecdn.net/kRXRFE6kt6smVMaTXyymaD.jpg\n",
      "https://www.google.com/search?q=Stephen%20Milligan%20Western%20Digital%20Corporation&tbm=isch&tbs=cdr:1,cd_min:1/1/2014,cd_max:12/31/2014\n",
      "Stephen Milligan 2014\n",
      "hover start\n",
      "hover done\n",
      "Found 100 potential image elements\n"
     ]
    },
    {
     "name": "stderr",
     "output_type": "stream",
     "text": [
      "Scraping:  43%|████████████▌                | 295/680 [54:19<2:51:02, 26.66s/it]"
     ]
    },
    {
     "name": "stdout",
     "output_type": "stream",
     "text": [
      "element 0 has url https://news-cdn.softpedia.com/images/fitted/620x348/New-Western-Digital-Chief-Will-be-Former-Hitachi-Leader.jpg\n",
      "element 1 has url https://www.sourcesecurity.com/img/people/WD-Darrin-Bulik-300.jpg\n",
      "element 2 has url https://www.sourcesecurity.com/img/people/Western-Digital-Khwaja-Saifuddin-300.jpg\n",
      "element 3 has url https://www.legitreviews.com/wp-content/uploads/2013/08/WD-LOGO.jpg\n",
      "https://www.google.com/search?q=Stephen%20Milligan%20Western%20Digital%20Corporation&tbm=isch&tbs=cdr:1,cd_min:1/1/2015,cd_max:12/31/2015\n",
      "Stephen Milligan 2015\n",
      "hover start\n",
      "hover done\n",
      "Found 100 potential image elements\n"
     ]
    },
    {
     "name": "stderr",
     "output_type": "stream",
     "text": [
      "Scraping:  44%|████████████▌                | 296/680 [54:49<2:56:34, 27.59s/it]"
     ]
    },
    {
     "name": "stdout",
     "output_type": "stream",
     "text": [
      "element 0 has url https://i.ytimg.com/vi/QiTcFpnzTRE/maxresdefault.jpg\n",
      "element 1 has url https://www.sourcesecurity.com/img/people/Martin-Jefferson-WD-300_28.jpg\n",
      "element 2 has url https://2ccb6e56.delivery.rocketcdn.me/wp-content/uploads/2015/11/WD-and-SanDisk-Logos.jpg\n",
      "element 3 has url https://s.wsj.net/public/resources/images/BN-KO258_WDIGIT_J_20150930125451.jpg\n",
      "https://www.google.com/search?q=Stephen%20Milligan%20Western%20Digital%20Corporation&tbm=isch&tbs=cdr:1,cd_min:1/1/2016,cd_max:12/31/2016\n",
      "Stephen Milligan 2016\n",
      "hover start\n",
      "hover done\n",
      "Found 100 potential image elements\n"
     ]
    },
    {
     "name": "stderr",
     "output_type": "stream",
     "text": [
      "Scraping:  44%|████████████▋                | 297/680 [55:18<3:00:19, 28.25s/it]"
     ]
    },
    {
     "name": "stdout",
     "output_type": "stream",
     "text": [
      "element 0 has url https://companies.naukri.com/sandisk-jobs/wp-content/uploads/sites/388/2016/06/Milligan.jpg\n",
      "element 1 has url https://moneyinc.com/wp-content/uploads/2016/12/479833760.jpg\n",
      "element 2 has url https://www.streetinsider.com/images/secattach/20160225/11359244_g61782ex99_1s20g1.jpg\n",
      "element 3 has url https://thelifestyleavenue.com/wp-content/uploads/2016/05/WD-Logo-Colored.png\n",
      "https://www.google.com/search?q=Stephen%20Milligan%20Western%20Digital%20Corporation&tbm=isch&tbs=cdr:1,cd_min:1/1/2017,cd_max:12/31/2017\n",
      "Stephen Milligan 2017\n",
      "hover start\n",
      "hover done\n",
      "Found 100 potential image elements\n"
     ]
    },
    {
     "name": "stderr",
     "output_type": "stream",
     "text": [
      "Scraping:  44%|████████████▋                | 298/680 [55:48<3:02:30, 28.67s/it]"
     ]
    },
    {
     "name": "stdout",
     "output_type": "stream",
     "text": [
      "element 0 has url https://upload.wikimedia.org/wikipedia/en/e/e4/Stephen_Milligan_1992.png\n",
      "element 1 has url https://www.telecomreviewasia.com/images/stories/2017/07/western-digital-ceo-to-meet-japanese-government-in-attempt-to-resolve-dispute-with-toshiba-article.jpg\n",
      "element 2 has url https://i.ytimg.com/vi/6iEOGxF7gLk/maxresdefault.jpg\n",
      "element 3 has url https://www.gulf-times.com/uploads/imported_images/Upload/Slider/62017152159314286844820.jpg\n",
      "https://www.google.com/search?q=Stephen%20Milligan%20Western%20Digital%20Corporation&tbm=isch&tbs=cdr:1,cd_min:1/1/2018,cd_max:12/31/2018\n",
      "Stephen Milligan 2018\n",
      "hover start\n",
      "hover done\n",
      "Found 100 potential image elements\n"
     ]
    },
    {
     "name": "stderr",
     "output_type": "stream",
     "text": [
      "Scraping:  44%|████████████▊                | 299/680 [56:18<3:03:46, 28.94s/it]"
     ]
    },
    {
     "name": "stdout",
     "output_type": "stream",
     "text": [
      "element 0 has url https://mma.prnewswire.com/media/797830/S_Milligan_Headshot_FINAL_9_4_15.jpg\n",
      "element 1 has url https://media.licdn.com/dms/image/v2/C4D03AQH_G-IIKICakg/profile-displayphoto-shrink_200_200/profile-displayphoto-shrink_200_200/0/1516494186660?e=2147483647&v=beta&t=WCw04c7zTYjV3tSUy-dAXEagGbSYFhk-vl6LTuqwfRw\n",
      "element 2 has url https://www.storagenewsletter.com/wp-content/uploads/2018/12/Autodesk-Milligan.jpg\n",
      "element 3 has url https://cms-image-bucket-production-ap-northeast-1-a7d2.s3.ap-northeast-1.amazonaws.com/images/8/7/0/8/10528078-6-eng-GB/20171108_TMB_Steve-Milligan-Western-Digital-at-the-Nikkei-Global-Management-Forum.jpg\n",
      "https://www.google.com/search?q=Stephen%20Milligan%20Western%20Digital%20Corporation&tbm=isch&tbs=cdr:1,cd_min:1/1/2019,cd_max:12/31/2019\n",
      "Stephen Milligan 2019\n",
      "hover start\n",
      "hover done\n",
      "Found 100 potential image elements\n"
     ]
    },
    {
     "name": "stderr",
     "output_type": "stream",
     "text": [
      "Scraping:  44%|████████████▊                | 300/680 [56:47<3:04:19, 29.10s/it]"
     ]
    },
    {
     "name": "stdout",
     "output_type": "stream",
     "text": [
      "element 0 has url https://blocksandfiles.com/wp-content/uploads/2019/11/steve-milligan-western-digital.jpg.thumb_.1280.1280.jpg\n",
      "element 1 has url https://media.bizj.us/view/img/11191041/gettyimages-871556916*1200xx4000-2250-0-209.jpg\n",
      "element 2 has url https://d15shllkswkct0.cloudfront.net/wp-content/blogs.dir/1/files/2019/10/8977655421_414cc3220a_k.jpg\n",
      "element 3 has url https://res.cloudinary.com/jamefiles/image/fetch/w_320,h_212,c_fill/http://www.poandpo.com/s0912/steve_milligan.jpg\n",
      "https://www.google.com/search?q=Stephen%20J.%20Luczo%20Seagate%20Technology%20Holdings%20PLC&tbm=isch&tbs=cdr:1,cd_min:1/1/2010,cd_max:12/31/2010\n",
      "Stephen J. Luczo 2010\n",
      "hover start\n",
      "hover done\n",
      "Found 8 potential image elements\n"
     ]
    },
    {
     "name": "stderr",
     "output_type": "stream",
     "text": [
      "Scraping:  44%|████████████▊                | 301/680 [57:16<3:02:46, 28.94s/it]"
     ]
    },
    {
     "name": "stdout",
     "output_type": "stream",
     "text": [
      "element 0 has url https://www.sec.gov/Archives/edgar/data/1137789/000104746910001799/g194563.jpg\n",
      "element 1 has url https://www.sec.gov/Archives/edgar/data/1137789/000104746910001799/g27812bei001.gif\n",
      "element 2 has url https://www.sec.gov/Archives/edgar/data/1137789/000104746910001799/g27812bei002.gif\n",
      "element 3 has url https://www.siliconrepublic.com/wp-content/uploads/2014/12/201402/gates-bill.jpg\n",
      "https://www.google.com/search?q=Stephen%20J.%20Luczo%20Seagate%20Technology%20Holdings%20PLC&tbm=isch&tbs=cdr:1,cd_min:1/1/2011,cd_max:12/31/2011\n",
      "Stephen J. Luczo 2011\n",
      "hover start\n",
      "hover done\n",
      "Found 6 potential image elements\n"
     ]
    },
    {
     "name": "stderr",
     "output_type": "stream",
     "text": [
      "Scraping:  44%|████████████▉                | 302/680 [57:44<3:01:25, 28.80s/it]"
     ]
    },
    {
     "name": "stdout",
     "output_type": "stream",
     "text": [
      "element 0 has url https://upload.wikimedia.org/wikipedia/commons/thumb/2/25/Seagatetechnologyheadquarters.jpg/640px-Seagatetechnologyheadquarters.jpg\n",
      "element 1 has url https://www.sec.gov/Archives/edgar/data/1137789/000104746911008222/g409811.jpg\n",
      "element 2 has url https://www.sec.gov/Archives/edgar/data/1137789/000104746911008222/g840137.jpg\n",
      "element 3 has url https://upload.wikimedia.org/wikipedia/commons/thumb/8/8d/Paul_otellini.JPG/250px-Paul_otellini.JPG\n",
      "https://www.google.com/search?q=Stephen%20J.%20Luczo%20Seagate%20Technology%20Holdings%20PLC&tbm=isch&tbs=cdr:1,cd_min:1/1/2012,cd_max:12/31/2012\n",
      "Stephen J. Luczo 2012\n",
      "hover start\n",
      "hover done\n",
      "Found 26 potential image elements\n"
     ]
    },
    {
     "name": "stderr",
     "output_type": "stream",
     "text": [
      "Scraping:  45%|████████████▉                | 303/680 [58:13<3:00:55, 28.79s/it]"
     ]
    },
    {
     "name": "stdout",
     "output_type": "stream",
     "text": [
      "element 0 has url https://cdn.geekwire.com/wp-content/uploads/2017/04/luczo.png\n",
      "element 1 has url https://www.sec.gov/Archives/edgar/data/1137789/000104746914007344/g936922.jpg\n",
      "element 2 has url https://www.sec.gov/Archives/edgar/data/1137789/000104746912008791/g188524.jpg\n",
      "element 3 has url https://www.sec.gov/Archives/edgar/data/789019/000119312512418708/g375562img1.jpg\n",
      "https://www.google.com/search?q=Stephen%20J.%20Luczo%20Seagate%20Technology%20Holdings%20PLC&tbm=isch&tbs=cdr:1,cd_min:1/1/2013,cd_max:12/31/2013\n",
      "Stephen J. Luczo 2013\n",
      "hover start\n",
      "hover done\n",
      "Found 61 potential image elements\n"
     ]
    },
    {
     "name": "stderr",
     "output_type": "stream",
     "text": [
      "Scraping:  45%|████████████▉                | 304/680 [58:42<3:00:46, 28.85s/it]"
     ]
    },
    {
     "name": "stdout",
     "output_type": "stream",
     "text": [
      "element 0 has url https://upload.wikimedia.org/wikipedia/commons/f/fe/Portrait_of_Stephen_J._Luczo_from_acrofan.jpg\n",
      "element 1 has url https://upload.wikimedia.org/wikipedia/commons/thumb/a/a6/Seagate_Technology_Headquarters_Cupertino.jpg/640px-Seagate_Technology_Headquarters_Cupertino.jpg\n",
      "element 2 has url https://www.sec.gov/Archives/edgar/data/1137789/000104746913000587/g863635.jpg\n",
      "element 3 has url https://www.sec.gov/Archives/edgar/data/1137789/000104746913008992/g959519.jpg\n",
      "https://www.google.com/search?q=Stephen%20J.%20Luczo%20Seagate%20Technology%20Holdings%20PLC&tbm=isch&tbs=cdr:1,cd_min:1/1/2014,cd_max:12/31/2014\n",
      "Stephen J. Luczo 2014\n",
      "hover start\n",
      "hover done\n",
      "Found 65 potential image elements\n"
     ]
    },
    {
     "name": "stderr",
     "output_type": "stream",
     "text": [
      "Scraping:  45%|█████████████                | 305/680 [59:11<3:00:09, 28.82s/it]"
     ]
    },
    {
     "name": "stdout",
     "output_type": "stream",
     "text": [
      "element 0 has url https://upload.wikimedia.org/wikipedia/commons/thumb/f/fe/Portrait_of_Stephen_J._Luczo_from_acrofan.jpg/250px-Portrait_of_Stephen_J._Luczo_from_acrofan.jpg\n",
      "element 1 has url https://www.sec.gov/Archives/edgar/data/1137789/000104746915007173/g697553.jpg\n",
      "element 2 has url https://techcrunch.com/wp-content/uploads/2014/02/gates-bill.jpg\n",
      "element 3 has url https://www.sec.gov/Archives/edgar/data/1137789/000104746915007173/g434380.jpg\n",
      "https://www.google.com/search?q=Stephen%20J.%20Luczo%20Seagate%20Technology%20Holdings%20PLC&tbm=isch&tbs=cdr:1,cd_min:1/1/2015,cd_max:12/31/2015\n",
      "Stephen J. Luczo 2015\n",
      "hover start\n",
      "hover done\n",
      "Found 45 potential image elements\n"
     ]
    },
    {
     "name": "stderr",
     "output_type": "stream",
     "text": [
      "Scraping:  45%|█████████████                | 306/680 [59:40<3:00:04, 28.89s/it]"
     ]
    },
    {
     "name": "stdout",
     "output_type": "stream",
     "text": [
      "element 0 has url https://www.sec.gov/Archives/edgar/data/1137789/000104746915007173/g489040.jpg\n",
      "element 1 has url https://techcrunch.com/wp-content/uploads/2014/02/gates-bill.jpg?w=1024\n",
      "element 2 has url https://www.sec.gov/Archives/edgar/data/1137789/000104746915007173/g1004150.jpg\n",
      "element 3 has url https://pub-c2c1d9230f0b4abb9b0d2d95e06fd4ef.r2.dev/sites/427/2014/02/20140205_01_1000x734.jpg\n",
      "https://www.google.com/search?q=Stephen%20J.%20Luczo%20Seagate%20Technology%20Holdings%20PLC&tbm=isch&tbs=cdr:1,cd_min:1/1/2016,cd_max:12/31/2016\n",
      "Stephen J. Luczo 2016\n",
      "hover start\n",
      "hover done\n",
      "Found 63 potential image elements\n"
     ]
    },
    {
     "name": "stderr",
     "output_type": "stream",
     "text": [
      "Scraping:  45%|████████████▏              | 307/680 [1:00:09<2:59:55, 28.94s/it]"
     ]
    },
    {
     "name": "stdout",
     "output_type": "stream",
     "text": [
      "element 0 has url https://mms.businesswire.com/media/20211111005287/en/446470/4/seagate2015_2c_horizontal_pos.jpg\n",
      "element 1 has url https://d15shllkswkct0.cloudfront.net/wp-content/blogs.dir/1/files/2014/11/Seagate-CEO-Stephen-J-Luczo.jpg\n",
      "element 2 has url https://mms.businesswire.com/media/20211111005287/en/446470/21/seagate2015_2c_horizontal_pos.jpg\n",
      "element 3 has url https://www.sec.gov/Archives/edgar/data/1137789/000104746916014732/g209802.jpg\n",
      "https://www.google.com/search?q=Stephen%20J.%20Luczo%20Seagate%20Technology%20Holdings%20PLC&tbm=isch&tbs=cdr:1,cd_min:1/1/2017,cd_max:12/31/2017\n",
      "Stephen J. Luczo 2017\n",
      "hover start\n",
      "hover done\n",
      "Found 61 potential image elements\n"
     ]
    },
    {
     "name": "stderr",
     "output_type": "stream",
     "text": [
      "Scraping:  45%|████████████▏              | 308/680 [1:00:38<2:59:54, 29.02s/it]"
     ]
    },
    {
     "name": "stdout",
     "output_type": "stream",
     "text": [
      "element 0 has url https://s.marketwatch.com/public/resources/images/MW-FW040_luczo__ZG_20171011083531.jpg\n",
      "element 1 has url https://bridgebudapest.org/wp-content/uploads/2019/08/stephen-j-luczo.jpg\n",
      "element 2 has url https://media.bizj.us/view/img/10549930/123930128*xx2592-2592-648-0.jpg\n",
      "element 3 has url https://ei.marketwatch.com/Multimedia/2017/10/10/Photos/NS/MW-FW001_STX_20171010132801_NS.png?uuid=5df22d06-ade0-11e7-956c-9c8e992d421e\n",
      "https://www.google.com/search?q=David%20Mosley%20Seagate%20Technology%20Holdings%20PLC&tbm=isch&tbs=cdr:1,cd_min:1/1/2018,cd_max:12/31/2018\n",
      "David Mosley 2018\n",
      "hover start\n",
      "hover done\n",
      "Found 100 potential image elements\n"
     ]
    },
    {
     "name": "stderr",
     "output_type": "stream",
     "text": [
      "Scraping:  45%|████████████▎              | 309/680 [1:01:07<2:59:38, 29.05s/it]"
     ]
    },
    {
     "name": "stdout",
     "output_type": "stream",
     "text": [
      "element 0 has url https://media.licdn.com/dms/image/v2/C4E03AQF0Fx8_sngc_Q/profile-displayphoto-shrink_200_200/profile-displayphoto-shrink_200_200/0/1520456545454?e=2147483647&v=beta&t=qU65rke0GQ-yqbsfVQHGwDJLUG7OSSAJTVksE2N6pGs\n",
      "element 1 has url https://d1hbpr09pwz0sk.cloudfront.net/profile_pic/david-mosley-bae90713\n",
      "element 2 has url https://d2gjqh9j26unp0.cloudfront.net/profilepic/2411f6ef96244b837de08160df22aa7c\n",
      "element 3 has url https://mms.businesswire.com/media/20180730005189/en/446470/22/seagate2015_2c_horizontal_pos.jpg\n",
      "https://www.google.com/search?q=David%20Mosley%20Seagate%20Technology%20Holdings%20PLC&tbm=isch&tbs=cdr:1,cd_min:1/1/2019,cd_max:12/31/2019\n",
      "David Mosley 2019\n",
      "hover start\n",
      "hover done\n",
      "Found 100 potential image elements\n"
     ]
    },
    {
     "name": "stderr",
     "output_type": "stream",
     "text": [
      "Scraping:  46%|████████████▎              | 310/680 [1:01:36<2:59:26, 29.10s/it]"
     ]
    },
    {
     "name": "stdout",
     "output_type": "stream",
     "text": [
      "element 0 has url https://www.seagate.com/content/dam/seagate/migrated-assets/www-content/about/_shared/images/exec-team-dave-mosley-color-1000x1250.jpg\n",
      "element 1 has url https://d2gjqh9j26unp0.cloudfront.net/profilepic/f447433fd13810057afbe1602ee51ca7\n",
      "element 2 has url https://i.ytimg.com/vi/5dHGeyCImlI/hqdefault.jpg\n",
      "element 3 has url https://ichef.bbci.co.uk/news/976/cpsprodpb/15658/production/_106604678_parkway-4577.jpg\n",
      "https://www.google.com/search?q=Moshe%20Gavrielov%20Xilinx%2C%20Inc.&tbm=isch&tbs=cdr:1,cd_min:1/1/2010,cd_max:12/31/2010\n",
      "Moshe Gavrielov 2010\n",
      "hover start\n",
      "hover done\n",
      "Found 1 potential image elements\n"
     ]
    },
    {
     "name": "stderr",
     "output_type": "stream",
     "text": [
      "Scraping:  46%|████████████▎              | 311/680 [1:01:49<2:28:44, 24.19s/it]"
     ]
    },
    {
     "name": "stdout",
     "output_type": "stream",
     "text": [
      "element 0 has url https://upload.wikimedia.org/wikipedia/commons/d/d9/XilinxInc-lobby.jpg\n",
      "https://www.google.com/search?q=Moshe%20Gavrielov%20Xilinx%2C%20Inc.&tbm=isch&tbs=cdr:1,cd_min:1/1/2011,cd_max:12/31/2011\n",
      "Moshe Gavrielov 2011\n",
      "hover start\n",
      "hover done\n",
      "Found 22 potential image elements\n"
     ]
    },
    {
     "name": "stderr",
     "output_type": "stream",
     "text": [
      "Scraping:  46%|████████████▍              | 312/680 [1:02:18<2:37:11, 25.63s/it]"
     ]
    },
    {
     "name": "stdout",
     "output_type": "stream",
     "text": [
      "element 0 has url https://i.ytimg.com/vi/wNDgZVm5aDg/hqdefault.jpg\n",
      "element 1 has url https://xtech.nikkei.com/dm/article/NEWS/20111025/199713/thumb_230_fig2.jpg\n",
      "element 2 has url https://eda360insider.wordpress.com/wp-content/uploads/2011/06/xilinx-virtex-7-tile-illustration.jpg\n",
      "element 3 has url https://www.design-reuse.com/news_img/20110120_2.gif\n",
      "https://www.google.com/search?q=Moshe%20Gavrielov%20Xilinx%2C%20Inc.&tbm=isch&tbs=cdr:1,cd_min:1/1/2012,cd_max:12/31/2012\n",
      "Moshe Gavrielov 2012\n",
      "hover start\n",
      "hover done\n",
      "Found 19 potential image elements\n"
     ]
    },
    {
     "name": "stderr",
     "output_type": "stream",
     "text": [
      "Scraping:  46%|████████████▍              | 313/680 [1:02:47<2:42:20, 26.54s/it]"
     ]
    },
    {
     "name": "stdout",
     "output_type": "stream",
     "text": [
      "element 0 has url https://i.ytimg.com/vi/wNDgZVm5aDg/mqdefault.jpg\n",
      "element 1 has url https://news.mynavi.jp/techplus/article/20120222-zynq-7020/images/000.jpg\n",
      "element 2 has url https://cdn.kipost.net/news/photo/old2/graph_updated-624x490.jpg\n",
      "element 3 has url https://cdn.kipost.net/news/photo/old2/generation_straight1-666x490.jpg\n",
      "https://www.google.com/search?q=Moshe%20Gavrielov%20Xilinx%2C%20Inc.&tbm=isch&tbs=cdr:1,cd_min:1/1/2013,cd_max:12/31/2013\n",
      "Moshe Gavrielov 2013\n",
      "hover start\n",
      "hover done\n",
      "Found 100 potential image elements\n"
     ]
    },
    {
     "name": "stderr",
     "output_type": "stream",
     "text": [
      "Scraping:  46%|████████████▍              | 314/680 [1:03:16<2:46:54, 27.36s/it]"
     ]
    },
    {
     "name": "stdout",
     "output_type": "stream",
     "text": [
      "element 0 has url https://cdn.kipost.net/news/photo/old2/Xilinx-TSMC.jpg\n",
      "element 1 has url https://semiwiki.com/wp-content/uploads/2019/06/img_5d044cdb12aec.jpg\n",
      "element 2 has url https://www.design-reuse.com/news_img/20130718_1.gif\n",
      "element 3 has url x-raw-image:///3fb34350f7066257c2ebf8fe2aad8b5c79f18291f61afe223a89fd7d7ff795c4\n",
      "https://www.google.com/search?q=Moshe%20Gavrielov%20Xilinx%2C%20Inc.&tbm=isch&tbs=cdr:1,cd_min:1/1/2014,cd_max:12/31/2014\n",
      "Moshe Gavrielov 2014\n",
      "hover start\n",
      "hover done\n",
      "Found 86 potential image elements\n"
     ]
    },
    {
     "name": "stderr",
     "output_type": "stream",
     "text": [
      "Scraping:  46%|████████████▌              | 315/680 [1:03:45<2:49:40, 27.89s/it]"
     ]
    },
    {
     "name": "stdout",
     "output_type": "stream",
     "text": [
      "element 0 has url https://static.foxbusiness.com/foxbusiness.com/content/uploads/2017/11/longview3_large-8d864ce179d54510VgnVCM100000d7c1a8c0____.png\n",
      "element 1 has url https://media.ycharts.com/charts/90bd36a75da10b1bfa919fdd32df3fd3.png\n",
      "element 2 has url https://i.ytimg.com/vi/a2tgl7SRmw0/mqdefault.jpg\n",
      "element 3 has url x-raw-image:///4fb11f10ae6b232523629c74c082a37cebffd35064d097d22c25eaabf0ddc31e\n",
      "https://www.google.com/search?q=Moshe%20Gavrielov%20Xilinx%2C%20Inc.&tbm=isch&tbs=cdr:1,cd_min:1/1/2015,cd_max:12/31/2015\n",
      "Moshe Gavrielov 2015\n",
      "hover start\n",
      "hover done\n",
      "Found 83 potential image elements\n"
     ]
    },
    {
     "name": "stderr",
     "output_type": "stream",
     "text": [
      "Scraping:  46%|████████████▌              | 316/680 [1:04:14<2:51:18, 28.24s/it]"
     ]
    },
    {
     "name": "stdout",
     "output_type": "stream",
     "text": [
      "element 0 has url https://www.nextplatform.com/wp-content/uploads/2015/10/FPGA_xilinx.jpg\n",
      "element 1 has url https://www.eetimes.com/wp-content/uploads/images-eetimes-2015-10-1328017-xilinx-feature.png\n",
      "element 2 has url https://thehinduimages.com/admin/images/pimages/p7dbb6e0.jpg\n",
      "element 3 has url http://www.semi-union.com/uploads/allimg/150624/1-1506241639220-L.jpg\n",
      "https://www.google.com/search?q=Moshe%20Gavrielov%20Xilinx%2C%20Inc.&tbm=isch&tbs=cdr:1,cd_min:1/1/2016,cd_max:12/31/2016\n",
      "Moshe Gavrielov 2016\n",
      "hover start\n",
      "hover done\n",
      "Found 100 potential image elements\n"
     ]
    },
    {
     "name": "stderr",
     "output_type": "stream",
     "text": [
      "Scraping:  47%|████████████▌              | 317/680 [1:04:43<2:52:30, 28.51s/it]"
     ]
    },
    {
     "name": "stdout",
     "output_type": "stream",
     "text": [
      "element 0 has url https://www.sec.gov/Archives/edgar/data/743988/000074398816000067/proxycardp1.jpg\n",
      "element 1 has url https://www.sec.gov/Archives/edgar/data/743988/000074398816000067/fy16aipcharta01.jpg\n",
      "element 2 has url https://blogger.googleusercontent.com/img/b/R29vZ2xl/AVvXsEiU18d2P4zDQiGTubuBOhqgnHbcouu5kyb8_TABcv7r-xsb5mHfeSoHWzafb-QNeQzvlaCQwM2GYPJk1AmCVPMgcM9JcNm9F9UJE-Ks-67KmpGxb9VTnMv2C5p73RBcqAUbVKMfiTrb7AQ/w1200-h630-p-k-no-nu/Xilinx.jpg\n",
      "element 3 has url https://www.sec.gov/Archives/edgar/data/743988/000074398816000067/fy16compcomponentsa01.jpg\n",
      "https://www.google.com/search?q=Victor%20Peng%20Xilinx%2C%20Inc.&tbm=isch&tbs=cdr:1,cd_min:1/1/2017,cd_max:12/31/2017\n",
      "Victor Peng 2017\n",
      "hover start\n",
      "hover done\n",
      "Found 100 potential image elements\n"
     ]
    },
    {
     "name": "stderr",
     "output_type": "stream",
     "text": [
      "Scraping:  47%|████████████▋              | 318/680 [1:05:12<2:53:16, 28.72s/it]"
     ]
    },
    {
     "name": "stdout",
     "output_type": "stream",
     "text": [
      "element 0 has url https://ml.globenewswire.com/Resource/Download/443d82a7-09a7-4ecd-a1b6-6884351a2b14?size=3\n",
      "element 1 has url https://ml.globenewswire.com/Resource/Download/9782a337-07ac-424b-9c5a-f9cde47d8d55?size=2\n",
      "element 2 has url https://www.eletimes.com/wp-content/uploads/2018/03/Logo_-coverimage-blog.jpg\n",
      "element 3 has url https://i.ytimg.com/vi/ih5caeD06ms/sddefault.jpg\n",
      "https://www.google.com/search?q=Victor%20Peng%20Xilinx%2C%20Inc.&tbm=isch&tbs=cdr:1,cd_min:1/1/2018,cd_max:12/31/2018\n",
      "Victor Peng 2018\n",
      "hover start\n",
      "hover done\n",
      "Found 100 potential image elements\n"
     ]
    },
    {
     "name": "stderr",
     "output_type": "stream",
     "text": [
      "Scraping:  47%|████████████▋              | 319/680 [1:05:42<2:54:16, 28.96s/it]"
     ]
    },
    {
     "name": "stdout",
     "output_type": "stream",
     "text": [
      "element 0 has url https://upload.wikimedia.org/wikipedia/commons/5/54/Peng_Victor-Wikipedia.jpg\n",
      "element 1 has url https://mma.prnewswire.com/media/624779/Xilinx_Victor_Peng_CEO.jpg?p=facebook\n",
      "element 2 has url https://static.designandreuse.com/news_img18/20180105_1.jpg\n",
      "element 3 has url https://www.eetimes.com/wp-content/uploads/media-1301847-victor-peng-400.png\n",
      "https://www.google.com/search?q=Victor%20Peng%20Xilinx%2C%20Inc.&tbm=isch&tbs=cdr:1,cd_min:1/1/2019,cd_max:12/31/2019\n",
      "Victor Peng 2019\n",
      "hover start\n",
      "hover done\n",
      "Found 100 potential image elements\n"
     ]
    },
    {
     "name": "stderr",
     "output_type": "stream",
     "text": [
      "Scraping:  47%|████████████▋              | 320/680 [1:06:11<2:53:53, 28.98s/it]"
     ]
    },
    {
     "name": "stdout",
     "output_type": "stream",
     "text": [
      "element 0 has url https://lookaside.fbsbx.com/lookaside/crawler/media/?media_id=10162103882075344\n",
      "element 1 has url https://www.eetimes.com/wp-content/uploads/media-1314082-victorpeng-200.jpg\n",
      "element 2 has url https://www.thestreet.com/.image/ar_16:9%2Cc_fill%2Ccs_srgb%2Cg_faces:center%2Cq_auto:good%2Cw_768/MTY3NTM5MzU5NjMyOTkyMTQy/xilinxs-new-ceo-tells-thestreet-about-his-firms-data-center-and-ma-strategy.png\n",
      "element 3 has url https://docs.avnet.com/asia/marcomm/eDMs/AMD/Xilinx/Xilinx201804/images/340x180.jpg\n",
      "https://www.google.com/search?q=Enrique%20Salem%20NortonLifeLock%20Inc.&tbm=isch&tbs=cdr:1,cd_min:1/1/2010,cd_max:12/31/2010\n",
      "Enrique Salem 2010\n",
      "hover start\n",
      "hover done\n"
     ]
    },
    {
     "name": "stderr",
     "output_type": "stream",
     "text": [
      "Scraping:  47%|████████████▋              | 321/680 [1:06:26<2:28:32, 24.82s/it]"
     ]
    },
    {
     "name": "stdout",
     "output_type": "stream",
     "text": [
      "Error processing Enrique Salem for year 2010: Message: \n",
      "\n",
      "https://www.google.com/search?q=Enrique%20Salem%20NortonLifeLock%20Inc.&tbm=isch&tbs=cdr:1,cd_min:1/1/2011,cd_max:12/31/2011\n",
      "Enrique Salem 2011\n",
      "hover start\n",
      "hover done\n",
      "Found 1 potential image elements\n"
     ]
    },
    {
     "name": "stderr",
     "output_type": "stream",
     "text": [
      "Scraping:  47%|████████████▊              | 322/680 [1:06:39<2:06:11, 21.15s/it]"
     ]
    },
    {
     "name": "stdout",
     "output_type": "stream",
     "text": [
      "element 0 has url http://pbrmarkettools.com/wp-content/uploads/2017/06/Stop-Lights-Stuart-Miles-ID-10055064.jpg\n",
      "https://www.google.com/search?q=Steve%20Bennett%20NortonLifeLock%20Inc.&tbm=isch&tbs=cdr:1,cd_min:1/1/2012,cd_max:12/31/2012\n",
      "Steve Bennett 2012\n",
      "hover start\n",
      "hover done\n",
      "Found 7 potential image elements\n"
     ]
    },
    {
     "name": "stderr",
     "output_type": "stream",
     "text": [
      "Scraping:  48%|████████████▊              | 323/680 [1:07:08<2:19:38, 23.47s/it]"
     ]
    },
    {
     "name": "stdout",
     "output_type": "stream",
     "text": [
      "element 0 has url https://upload.wikimedia.org/wikipedia/commons/thumb/d/db/PLM12_24_Competition_Porsche.jpg/640px-PLM12_24_Competition_Porsche.jpg\n",
      "element 1 has url https://p3-sdbk2-media.byteimg.com/tos-cn-i-xv4ileqgde/e845b8ce4f284bbb9782e9314405baa5~tplv-xv4ileqgde-image.image\n",
      "element 2 has url http://pbrmarkettools.com/wp-content/uploads/2017/06/Panic-Calm-Stuart-Miles-ID-10088148.jpg\n",
      "element 3 has url http://pbrmarkettools.com/wp-content/uploads/2014/02/ID-10059666-Valentine-Heart-Gift-Grant-Cochrane.jpg\n",
      "https://www.google.com/search?q=Steve%20Bennett%20NortonLifeLock%20Inc.&tbm=isch&tbs=cdr:1,cd_min:1/1/2013,cd_max:12/31/2013\n",
      "Steve Bennett 2013\n",
      "hover start\n",
      "hover done\n",
      "Found 11 potential image elements\n"
     ]
    },
    {
     "name": "stderr",
     "output_type": "stream",
     "text": [
      "Scraping:  48%|████████████▊              | 324/680 [1:07:37<2:29:07, 25.13s/it]"
     ]
    },
    {
     "name": "stdout",
     "output_type": "stream",
     "text": [
      "element 0 has url https://upload.wikimedia.org/wikipedia/commons/thumb/d/d2/Symantec_Headquarters_Mountain_View.jpg/640px-Symantec_Headquarters_Mountain_View.jpg\n",
      "element 1 has url x-raw-image:///c0151362e508d64c9be77f7500fc9b4e58677d79f2642a828d488d7e0a19c59b\n",
      "element 2 has url x-raw-image:///4991e1581d68949e1268e5c57a100c0f1071d4ffcacc1b7e4f2b91a4db305a5a\n",
      "element 3 has url x-raw-image:///0c9ae2b14b78a4a2ebe546454d2bdabc2c11f63b6f14f11feebf4756ee692290\n",
      "https://www.google.com/search?q=Michael%20A.%20Brown%20NortonLifeLock%20Inc.&tbm=isch&tbs=cdr:1,cd_min:1/1/2014,cd_max:12/31/2014\n",
      "Michael A. Brown 2014\n",
      "hover start\n",
      "hover done\n",
      "Found 67 potential image elements\n"
     ]
    },
    {
     "name": "stderr",
     "output_type": "stream",
     "text": [
      "Scraping:  48%|████████████▉              | 325/680 [1:08:06<2:35:33, 26.29s/it]"
     ]
    },
    {
     "name": "stdout",
     "output_type": "stream",
     "text": [
      "element 0 has url https://upload.wikimedia.org/wikipedia/commons/thumb/d/d2/Symantec_Headquarters_Mountain_View.jpg/250px-Symantec_Headquarters_Mountain_View.jpg\n",
      "element 1 has url https://content.lessonplanet.com/resources/thumbnails/292153/large/cgrmlwnvbnzlcnqymdeymtexni0xndawnc1mewl6am4uanbn.jpg?1414487072\n",
      "element 2 has url https://content.lessonplanet.com/resources/thumbnails/118094/large/cgrmlwnvbnzlcnqymdezmdmyos04mtgyltfjaxplmjyuanbn.jpg?1414219107\n",
      "element 3 has url https://content.lessonplanet.com/resources/thumbnails/321872/large/bwluav9tywdpy2symde0mduwny0zmtk4ltm3yxzwdc5qcgc.jpg?1399501432\n",
      "https://www.google.com/search?q=Michael%20A.%20Brown%20NortonLifeLock%20Inc.&tbm=isch&tbs=cdr:1,cd_min:1/1/2015,cd_max:12/31/2015\n",
      "Michael A. Brown 2015\n",
      "hover start\n",
      "hover done\n",
      "Found 46 potential image elements\n"
     ]
    },
    {
     "name": "stderr",
     "output_type": "stream",
     "text": [
      "Scraping:  48%|████████████▉              | 326/680 [1:08:35<2:40:20, 27.18s/it]"
     ]
    },
    {
     "name": "stdout",
     "output_type": "stream",
     "text": [
      "element 0 has url https://thekeyexecutives.com/wp-content/uploads/2021/01/34.-Don-Edwards.jpg\n",
      "element 1 has url https://www.sec.gov/Archives/edgar/data/1070235/000107023521000043/image_11a.jpg\n",
      "element 2 has url https://www.sec.gov/Archives/edgar/data/1070235/000107023521000043/image_91a.jpg\n",
      "element 3 has url https://www.sec.gov/Archives/edgar/data/225322/000137949120002732/fipro_logo.jpg\n",
      "https://www.google.com/search?q=Greg%20Clark%20NortonLifeLock%20Inc.&tbm=isch&tbs=cdr:1,cd_min:1/1/2016,cd_max:12/31/2016\n",
      "Greg Clark 2016\n",
      "hover start\n",
      "hover done\n",
      "Found 8 potential image elements\n"
     ]
    },
    {
     "name": "stderr",
     "output_type": "stream",
     "text": [
      "Scraping:  48%|████████████▉              | 327/680 [1:09:04<2:42:54, 27.69s/it]"
     ]
    },
    {
     "name": "stdout",
     "output_type": "stream",
     "text": [
      "element 0 has url https://130e178e8f8ba617604b-8aedd782b7d22cfe0d1146da69a52436.ssl.cf1.rackcdn.com/symantec-to-acquire-lifelock-for-23-billion-showcase_image-5-a-9553.jpg\n",
      "element 1 has url https://kg.diffbot.com/image/api/get?fetch=yes&url=g%3Cj7P0St%7D9u.LnOv%7BI%7C%40g7.pBYINs%3Ff%7CGZ7jr-tGZhWf%3DK%2FOvy%5Bp%3CSKbs8i%7CEyNzC%5E8_q%3Eg7Rc1W%7ExttEq9UuA%600MpGkBK.C_o\n",
      "element 2 has url https://files.cyberriskalliance.com/wp-content/uploads/2023/08/symantec-headquarters-building-1.jpg\n",
      "element 3 has url https://i.ytimg.com/vi/briF2S7aV1k/mqdefault.jpg\n",
      "https://www.google.com/search?q=Greg%20Clark%20NortonLifeLock%20Inc.&tbm=isch&tbs=cdr:1,cd_min:1/1/2017,cd_max:12/31/2017\n",
      "Greg Clark 2017\n",
      "hover start\n",
      "hover done\n",
      "Found 22 potential image elements\n"
     ]
    },
    {
     "name": "stderr",
     "output_type": "stream",
     "text": [
      "Scraping:  48%|█████████████              | 328/680 [1:09:33<2:44:29, 28.04s/it]"
     ]
    },
    {
     "name": "stdout",
     "output_type": "stream",
     "text": [
      "element 0 has url https://www.baincapital.com/technology/img/case-studies/David-Humphrey.jpg\n",
      "element 1 has url https://media.bizj.us/view/img/10678041/forescout-ceo-michael-dicesare*xx960-540-0-50.jpg\n",
      "element 2 has url https://upload.wikimedia.org/wikipedia/commons/thumb/d/d2/Symantec_Headquarters_Mountain_View.jpg/1200px-Symantec_Headquarters_Mountain_View.jpg\n",
      "element 3 has url https://kg.diffbot.com/image/api/get?fetch=yes&url=g%3Cj7P0St%7D9u.LnOv%7BI%7C%40g7.pBYINs%3Ff%7CGZ7jr-tGZhWf%3DK%2FOvy%5Bp%3CSKbs8i%7CEyNzC%5D%3F%5Eq9g7SczOn6%60%7D%3BjUZi0h%3FFub%60uG.I%5Do\n",
      "https://www.google.com/search?q=Greg%20Clark%20NortonLifeLock%20Inc.&tbm=isch&tbs=cdr:1,cd_min:1/1/2018,cd_max:12/31/2018\n",
      "Greg Clark 2018\n",
      "hover start\n",
      "hover done\n",
      "Found 100 potential image elements\n"
     ]
    },
    {
     "name": "stderr",
     "output_type": "stream",
     "text": [
      "Scraping:  48%|█████████████              | 329/680 [1:10:02<2:45:43, 28.33s/it]"
     ]
    },
    {
     "name": "stdout",
     "output_type": "stream",
     "text": [
      "element 0 has url https://pbs.twimg.com/media/DpPhT20XgAAJIwS.jpg\n",
      "element 1 has url http://media.foxbusiness.com/BrightCove/854081161001/201905/1587/854081161001_6042678664001_6042680678001-vs.jpg\n",
      "element 2 has url https://pbs.twimg.com/media/Dppj-BRU4AAfYsB.jpg\n",
      "element 3 has url https://pbs.twimg.com/media/DrgrojrU4AAx8gV.jpg\n",
      "https://www.google.com/search?q=Richard%20Hill%20%28interim%29%20NortonLifeLock%20Inc.&tbm=isch&tbs=cdr:1,cd_min:1/1/2019,cd_max:12/31/2019\n",
      "Richard Hill (interim) 2019\n",
      "hover start\n",
      "hover done\n",
      "Found 100 potential image elements\n"
     ]
    },
    {
     "name": "stderr",
     "output_type": "stream",
     "text": [
      "Scraping:  49%|█████████████              | 330/680 [1:10:31<2:46:49, 28.60s/it]"
     ]
    },
    {
     "name": "stdout",
     "output_type": "stream",
     "text": [
      "element 0 has url https://mms.businesswire.com/media/20191107006091/en/755338/22/NortonLifeLock-Horizontal-Light.jpg\n",
      "element 1 has url https://130e178e8f8ba617604b-8aedd782b7d22cfe0d1146da69a52436.ssl.cf1.rackcdn.com/goodbye-symantec-for-consumers-hello-nortonlifelock-showcase_image-10-a-13350.jpg\n",
      "element 2 has url https://www.sec.gov/Archives/edgar/data/849399/000104746919006153/g882428.jpg\n",
      "element 3 has url https://upload.wikimedia.org/wikipedia/commons/c/c5/NortonLifeLock_Inc_HQ_111519.jpg\n",
      "https://www.google.com/search?q=Paul%20Sagan%20Akamai%20Technologies%2C%20Inc.&tbm=isch&tbs=cdr:1,cd_min:1/1/2010,cd_max:12/31/2010\n",
      "Paul Sagan 2010\n",
      "hover start\n",
      "hover done\n",
      "Found 100 potential image elements\n"
     ]
    },
    {
     "name": "stderr",
     "output_type": "stream",
     "text": [
      "Scraping:  49%|█████████████▏             | 331/680 [1:11:00<2:47:37, 28.82s/it]"
     ]
    },
    {
     "name": "stdout",
     "output_type": "stream",
     "text": [
      "element 0 has url https://s3.amazonaws.com/files.technologyreview.com/p/pub/legacy/0111-q%26a_x582_cropt.jpg\n",
      "element 1 has url http://bestbuy.pbworks.com/f/1268720514/Akamai%20EdgeServer.JPG\n",
      "element 2 has url http://www.videonuze.com/editor/assets/comScore%20March%202010v1.jpg\n",
      "element 3 has url https://www.dwdl.de/images/1271345586.jpg\n",
      "https://www.google.com/search?q=Paul%20Sagan%20Akamai%20Technologies%2C%20Inc.&tbm=isch&tbs=cdr:1,cd_min:1/1/2011,cd_max:12/31/2011\n",
      "Paul Sagan 2011\n",
      "hover start\n",
      "hover done\n",
      "Found 100 potential image elements\n"
     ]
    },
    {
     "name": "stderr",
     "output_type": "stream",
     "text": [
      "Scraping:  49%|█████████████▏             | 332/680 [1:11:29<2:47:36, 28.90s/it]"
     ]
    },
    {
     "name": "stdout",
     "output_type": "stream",
     "text": [
      "element 0 has url https://tbkconsult.com/wp-content/uploads/2011/12/Paul-Sagan.jpg\n",
      "element 1 has url https://i.ytimg.com/vi/Vvv5wkQb4lc/hqdefault.jpg\n",
      "element 2 has url https://tbkconsult.com/wp-content/uploads/2011/12/Cotendo-to-Akamai.jpg\n",
      "element 3 has url https://venturebeat.com/wp-content/uploads/2011/12/akamai-cotendo.jpg\n",
      "https://www.google.com/search?q=Paul%20Sagan%20Akamai%20Technologies%2C%20Inc.&tbm=isch&tbs=cdr:1,cd_min:1/1/2012,cd_max:12/31/2012\n",
      "Paul Sagan 2012\n",
      "hover start\n",
      "hover done\n",
      "Found 57 potential image elements\n"
     ]
    },
    {
     "name": "stderr",
     "output_type": "stream",
     "text": [
      "Scraping:  49%|█████████████▏             | 333/680 [1:11:58<2:47:15, 28.92s/it]"
     ]
    },
    {
     "name": "stdout",
     "output_type": "stream",
     "text": [
      "element 0 has url https://upload.wikimedia.org/wikipedia/commons/b/b4/Paul_Sagan.jpg\n",
      "element 1 has url https://static01.nyt.com/images/2012/07/31/business/Sorkin/Sorkin-articleInline.jpg\n",
      "element 2 has url https://wp.technologyreview.com/wp-content/uploads/2012/12/akamai.new_.ceox299-2.jpg\n",
      "element 3 has url https://media.idownloadblog.com/wp-content/uploads/2012/07/Tim-Cook-and-Akamai-CEO-Paul-Sagan.jpg\n",
      "https://www.google.com/search?q=Tom%20Leighton%20Akamai%20Technologies%2C%20Inc.&tbm=isch&tbs=cdr:1,cd_min:1/1/2013,cd_max:12/31/2013\n",
      "Tom Leighton 2013\n",
      "hover start\n",
      "hover done\n",
      "Found 100 potential image elements\n"
     ]
    },
    {
     "name": "stderr",
     "output_type": "stream",
     "text": [
      "Scraping:  49%|█████████████▎             | 334/680 [1:12:27<2:46:58, 28.96s/it]"
     ]
    },
    {
     "name": "stdout",
     "output_type": "stream",
     "text": [
      "element 0 has url https://toc.csail.mit.edu/sites/default/files/styles/profile_pic/public/avatars/picture-23-1360097363.jpg?itok=jEywJQEF\n",
      "element 1 has url https://news.mit.edu/sites/default/files/images/inline/newsofficeimages/leighton-560.jpg\n",
      "element 2 has url https://i.ytimg.com/vi/jMOvvQdTBbs/maxresdefault.jpg\n",
      "element 3 has url https://masschallenge.org/wp-content/uploads/2018/04/36228-362281a334072c0fef38ff885f0b8ec20f16adr.tomleightonmasschallengelaunch.jpg\n",
      "https://www.google.com/search?q=Tom%20Leighton%20Akamai%20Technologies%2C%20Inc.&tbm=isch&tbs=cdr:1,cd_min:1/1/2014,cd_max:12/31/2014\n",
      "Tom Leighton 2014\n",
      "hover start\n",
      "hover done\n",
      "Found 100 potential image elements\n"
     ]
    },
    {
     "name": "stderr",
     "output_type": "stream",
     "text": [
      "Scraping:  49%|█████████████▎             | 335/680 [1:12:56<2:46:36, 28.98s/it]"
     ]
    },
    {
     "name": "stdout",
     "output_type": "stream",
     "text": [
      "element 0 has url https://i.ytimg.com/vi/Fd4T2TikdNY/maxresdefault.jpg\n",
      "element 1 has url https://www.workingnation.com/wp-content/uploads/2018/06/dr-tom-leighton-ceo-in-the-nocc.jpg\n",
      "element 2 has url https://s.wsj.net/public/resources/images/ON-BD575_Akamai_G_20140201043225.jpg\n",
      "element 3 has url https://s.wsj.net/public/resources/images/BA-BE052_Akamai_G_20140131235709.jpg\n",
      "https://www.google.com/search?q=Tom%20Leighton%20Akamai%20Technologies%2C%20Inc.&tbm=isch&tbs=cdr:1,cd_min:1/1/2015,cd_max:12/31/2015\n",
      "Tom Leighton 2015\n",
      "hover start\n",
      "hover done\n",
      "Found 100 potential image elements\n"
     ]
    },
    {
     "name": "stderr",
     "output_type": "stream",
     "text": [
      "Scraping:  49%|█████████████▎             | 336/680 [1:13:07<2:13:51, 23.35s/it]"
     ]
    },
    {
     "name": "stdout",
     "output_type": "stream",
     "text": [
      "element 0 has url https://www.ir.akamai.com/system/files-encrypted/nasdaq_kms/inline-images/investor-summit-tom-video_0.jpg\n",
      "element 1 has url https://tbkconsult.com/wp-content/uploads/2015/04/Tom-Leighton-150x150.jpg\n",
      "element 2 has url https://www.societyforscience.org/wp-content/uploads/2019/08/akamai2.jpg\n",
      "element 3 has url https://media.glassdoor.com/people/sqll/9219/akamai-tom-leighton.png\n",
      "https://www.google.com/search?q=Tom%20Leighton%20Akamai%20Technologies%2C%20Inc.&tbm=isch&tbs=cdr:1,cd_min:1/1/2016,cd_max:12/31/2016\n",
      "Tom Leighton 2016\n",
      "hover start\n",
      "hover done\n",
      "Found 100 potential image elements\n"
     ]
    },
    {
     "name": "stderr",
     "output_type": "stream",
     "text": [
      "Scraping:  50%|█████████████▍             | 337/680 [1:13:16<1:49:31, 19.16s/it]"
     ]
    },
    {
     "name": "stdout",
     "output_type": "stream",
     "text": [
      "element 0 has url https://arc-anglerfish-arc2-prod-bostonglobe.s3.amazonaws.com/public/LODELRTWY4I6NPSIWGBDQNC224.jpg\n",
      "element 1 has url https://images.livemint.com/rf/Image-621x414/LiveMint/Period2/2016/08/26/Photos/Processed/tom-k6nC--621x414@LiveMint.JPG\n",
      "element 2 has url https://media.bizj.us/view/img/5240471/0320otbleightontom09*1200xx1652-931-39-0.jpg\n",
      "element 3 has url https://i.ytimg.com/vi/gWJW4TAquCI/mqdefault.jpg\n",
      "https://www.google.com/search?q=Tom%20Leighton%20Akamai%20Technologies%2C%20Inc.&tbm=isch&tbs=cdr:1,cd_min:1/1/2017,cd_max:12/31/2017\n",
      "Tom Leighton 2017\n",
      "hover start\n",
      "hover done\n",
      "Found 100 potential image elements\n"
     ]
    },
    {
     "name": "stderr",
     "output_type": "stream",
     "text": [
      "Scraping:  50%|█████████████▍             | 338/680 [1:13:25<1:31:39, 16.08s/it]"
     ]
    },
    {
     "name": "stdout",
     "output_type": "stream",
     "text": [
      "element 0 has url https://upload.wikimedia.org/wikipedia/commons/thumb/e/ee/Tom_Leighton%2C_CEO%2C_Akamai.jpg/1200px-Tom_Leighton%2C_CEO%2C_Akamai.jpg\n",
      "element 1 has url https://s.wsj.net/public/resources/images/ON-CC732_Akamai_D_20170503113856.jpg\n",
      "element 2 has url https://startmit-2018.mit.edu/wp-content/uploads/Leighton_Tom-300x275.jpg\n",
      "element 3 has url https://www.optionstheedge.com/sites/default/files/field/featured-image/2017/peo_tom_14_hh_edited.jpg\n",
      "https://www.google.com/search?q=Tom%20Leighton%20Akamai%20Technologies%2C%20Inc.&tbm=isch&tbs=cdr:1,cd_min:1/1/2018,cd_max:12/31/2018\n",
      "Tom Leighton 2018\n",
      "hover start\n",
      "hover done\n",
      "Found 100 potential image elements\n"
     ]
    },
    {
     "name": "stderr",
     "output_type": "stream",
     "text": [
      "Scraping:  50%|█████████████▍             | 339/680 [1:13:34<1:19:10, 13.93s/it]"
     ]
    },
    {
     "name": "stdout",
     "output_type": "stream",
     "text": [
      "element 0 has url https://minghsiehece.usc.edu/wp-content/uploads/2016/09/Tom-Leighton.jpg\n",
      "element 1 has url https://news.mit.edu/sites/default/files/images/201803/tom-leighton-mit-mathematics-A1.jpg\n",
      "element 2 has url https://marconisociety.org/wp-content/uploads/2020/10/Leighton_video.jpg\n",
      "element 3 has url https://assets.bwbx.io/images/users/iqjWHBFdfxIU/iyEX_6ODV6ZU/v191/-1x-1.jpg\n",
      "https://www.google.com/search?q=Tom%20Leighton%20Akamai%20Technologies%2C%20Inc.&tbm=isch&tbs=cdr:1,cd_min:1/1/2019,cd_max:12/31/2019\n",
      "Tom Leighton 2019\n",
      "hover start\n",
      "hover done\n",
      "Found 100 potential image elements\n"
     ]
    },
    {
     "name": "stderr",
     "output_type": "stream",
     "text": [
      "Scraping:  50%|█████████████▌             | 340/680 [1:13:43<1:10:35, 12.46s/it]"
     ]
    },
    {
     "name": "stdout",
     "output_type": "stream",
     "text": [
      "element 0 has url https://static01.nyt.com/images/2014/05/23/business/23CORNER/23CORNER-superJumbo-v2.jpg\n",
      "element 1 has url https://marconisociety.org/wp-content/uploads/2020/09/TomLeighton_250x250.jpg\n",
      "element 2 has url https://wp.technologyreview.com/wp-content/uploads/2019/08/071019mit-portraits00831.r1-8.jpg\n",
      "element 3 has url https://variety.com/wp-content/uploads/2019/11/tom-leighton-akamai-logo.jpg\n",
      "https://www.google.com/search?q=Jim%20Bidzos%20VeriSign%2C%20Inc.&tbm=isch&tbs=cdr:1,cd_min:1/1/2010,cd_max:12/31/2010\n",
      "Jim Bidzos 2010\n",
      "hover start\n",
      "hover done\n",
      "Found 16 potential image elements\n"
     ]
    },
    {
     "name": "stderr",
     "output_type": "stream",
     "text": [
      "Scraping:  50%|█████████████▌             | 341/680 [1:13:51<1:02:44, 11.10s/it]"
     ]
    },
    {
     "name": "stdout",
     "output_type": "stream",
     "text": [
      "element 0 has url https://img.youtube.com/vi/Sve18dfUKkw/0.jpg\n",
      "element 1 has url https://upload.wikimedia.org/wikipedia/commons/thumb/d/db/Verisignheadquarters.jpg/250px-Verisignheadquarters.jpg\n",
      "element 2 has url https://www.ellines.com/wp-content/uploads/2015/10/Argyros1.jpg\n",
      "element 3 has url https://www.sec.gov/Archives/edgar/data/1014473/000119312510083464/g52972g53z80.jpg\n",
      "https://www.google.com/search?q=Jim%20Bidzos%20VeriSign%2C%20Inc.&tbm=isch&tbs=cdr:1,cd_min:1/1/2011,cd_max:12/31/2011\n",
      "Jim Bidzos 2011\n",
      "hover start\n",
      "hover done\n",
      "Found 16 potential image elements\n"
     ]
    },
    {
     "name": "stderr",
     "output_type": "stream",
     "text": [
      "Scraping:  50%|██████████████▌              | 342/680 [1:13:59<58:12, 10.33s/it]"
     ]
    },
    {
     "name": "stdout",
     "output_type": "stream",
     "text": [
      "element 0 has url https://img.youtube.com/vi/uFrEDCZZuEo/0.jpg\n",
      "element 1 has url https://www.programmez.com/images/actus/rsa-award.jpg\n",
      "element 2 has url https://upload.wikimedia.org/wikipedia/commons/thumb/d/db/Verisignheadquarters.jpg/320px-Verisignheadquarters.jpg\n",
      "element 3 has url https://www.ellines.com/wp-content/uploads/2016/11/Roy-Vagelos1.jpg\n",
      "https://www.google.com/search?q=Jim%20Bidzos%20VeriSign%2C%20Inc.&tbm=isch&tbs=cdr:1,cd_min:1/1/2012,cd_max:12/31/2012\n",
      "Jim Bidzos 2012\n",
      "hover start\n",
      "hover done\n",
      "Found 25 potential image elements\n"
     ]
    },
    {
     "name": "stderr",
     "output_type": "stream",
     "text": [
      "Scraping:  50%|██████████████▋              | 343/680 [1:14:08<54:52,  9.77s/it]"
     ]
    },
    {
     "name": "stdout",
     "output_type": "stream",
     "text": [
      "element 0 has url https://investor.verisign.com/system/files-encrypted/styles/large/encrypt/nasdaq_kms/people/7215/01/10/11-43-55/Bidzos.jpg?itok=PG46aRCe\n",
      "element 1 has url https://www.ellines.com/wp-content/uploads/2017/04/bidjos-b.jpg\n",
      "element 2 has url https://i.ytimg.com/vi/dTfXplfPrK4/hqdefault.jpg\n",
      "element 3 has url https://www.insidertrades.com/logos/verisign-inc-logo.png\n",
      "https://www.google.com/search?q=Jim%20Bidzos%20VeriSign%2C%20Inc.&tbm=isch&tbs=cdr:1,cd_min:1/1/2013,cd_max:12/31/2013\n",
      "Jim Bidzos 2013\n",
      "hover start\n",
      "hover done\n",
      "Found 43 potential image elements\n"
     ]
    },
    {
     "name": "stderr",
     "output_type": "stream",
     "text": [
      "Scraping:  51%|██████████████▋              | 344/680 [1:14:16<52:57,  9.46s/it]"
     ]
    },
    {
     "name": "stdout",
     "output_type": "stream",
     "text": [
      "element 0 has url https://www.siliconindia.com/news/newsimages/special/rk3Z5nQi.jpeg\n",
      "element 1 has url https://www.ellines.com/wp-content/uploads/2017/04/bidzos.jpg\n",
      "element 2 has url https://www.siliconindia.com/news/newsimages/special/Orf9pxCq.jpeg\n",
      "element 3 has url https://www.sec.gov/Archives/edgar/data/1014473/000101447313000018/proxycard1.jpg\n",
      "https://www.google.com/search?q=Jim%20Bidzos%20VeriSign%2C%20Inc.&tbm=isch&tbs=cdr:1,cd_min:1/1/2014,cd_max:12/31/2014\n",
      "Jim Bidzos 2014\n",
      "hover start\n",
      "hover done\n",
      "Found 26 potential image elements\n"
     ]
    },
    {
     "name": "stderr",
     "output_type": "stream",
     "text": [
      "Scraping:  51%|██████████████▋              | 345/680 [1:14:25<51:13,  9.17s/it]"
     ]
    },
    {
     "name": "stdout",
     "output_type": "stream",
     "text": [
      "element 0 has url https://www.ellines.com/wp-content/uploads/2017/04/James-Bidzos3.jpg\n",
      "element 1 has url https://kg.diffbot.com/image/api/get?fetch=yes&url=g%3Cj7P0St%7D9u.LnOv%7BI%7C%40g7.pBYINs%3Ff%7CGZ7jr-tGZhWf%3DK%2FOvy%5Bp%3CSKbs8i%7CEyNzCX7Xm7i%3ALc9Zlx%5D5XiHvyT%5E5cnGit%3E.C_o\n",
      "element 2 has url https://media.glassdoor.com/people/sql/7492/verisign-d-james-bidzos.png\n",
      "element 3 has url https://s.hdnux.com/photos/10/21/56/2169733/6/rawImage.jpg\n",
      "https://www.google.com/search?q=Jim%20Bidzos%20VeriSign%2C%20Inc.&tbm=isch&tbs=cdr:1,cd_min:1/1/2015,cd_max:12/31/2015\n",
      "Jim Bidzos 2015\n",
      "hover start\n",
      "hover done\n",
      "Found 39 potential image elements\n"
     ]
    },
    {
     "name": "stderr",
     "output_type": "stream",
     "text": [
      "Scraping:  51%|██████████████▊              | 346/680 [1:14:34<50:15,  9.03s/it]"
     ]
    },
    {
     "name": "stdout",
     "output_type": "stream",
     "text": [
      "element 0 has url https://media.glassdoor.com/people/sqll/7492/verisign-d-james-bidzos.png\n",
      "element 1 has url https://www.sec.gov/Archives/edgar/data/1014473/000101447321000026/vrsnlogoverticalhiresa18.jpg\n",
      "element 2 has url https://www.sec.gov/Archives/edgar/data/1014473/000101447315000039/proxycard2015page1.jpg\n",
      "element 3 has url https://domainnamewire.com/wp-content/com-button-sm.jpg\n",
      "https://www.google.com/search?q=Jim%20Bidzos%20VeriSign%2C%20Inc.&tbm=isch&tbs=cdr:1,cd_min:1/1/2016,cd_max:12/31/2016\n",
      "Jim Bidzos 2016\n",
      "hover start\n",
      "hover done\n",
      "Found 68 potential image elements\n"
     ]
    },
    {
     "name": "stderr",
     "output_type": "stream",
     "text": [
      "Scraping:  51%|██████████████▊              | 347/680 [1:14:42<49:38,  8.94s/it]"
     ]
    },
    {
     "name": "stdout",
     "output_type": "stream",
     "text": [
      "element 0 has url https://www.ellines.com/wp-content/uploads/2017/04/James-Bidzos2.jpg\n",
      "element 1 has url https://prestonevents.com/wp-content/uploads/2016/02/verisign-300x300.png\n",
      "element 2 has url https://conservancy.umn.edu/server/api/core/bitstreams/2b5909e2-89d0-4752-b1f7-f0717f8b0685/content\n",
      "element 3 has url https://www.sec.gov/Archives/edgar/data/1014473/000101447316000102/proxycard2016page1a02.jpg\n",
      "https://www.google.com/search?q=Jim%20Bidzos%20VeriSign%2C%20Inc.&tbm=isch&tbs=cdr:1,cd_min:1/1/2017,cd_max:12/31/2017\n",
      "Jim Bidzos 2017\n",
      "hover start\n",
      "hover done\n",
      "Found 100 potential image elements\n"
     ]
    },
    {
     "name": "stderr",
     "output_type": "stream",
     "text": [
      "Scraping:  51%|██████████████▊              | 348/680 [1:14:51<48:58,  8.85s/it]"
     ]
    },
    {
     "name": "stdout",
     "output_type": "stream",
     "text": [
      "element 0 has url https://cybersecuritysummit.com/wp-content/uploads/2014/08/verisign.png\n",
      "element 1 has url https://upload.wikimedia.org/wikipedia/commons/thumb/d/db/Verisignheadquarters.jpg/1200px-Verisignheadquarters.jpg\n",
      "element 2 has url https://eodhistoricaldata.com//img/logos/US/VRSN.png\n",
      "element 3 has url https://www.noobpreneur.com/wp-content/uploads/2017/03/dot-web-legal-investigation.jpg\n",
      "https://www.google.com/search?q=Jim%20Bidzos%20VeriSign%2C%20Inc.&tbm=isch&tbs=cdr:1,cd_min:1/1/2018,cd_max:12/31/2018\n",
      "Jim Bidzos 2018\n",
      "hover start\n",
      "hover done\n",
      "Found 94 potential image elements\n"
     ]
    },
    {
     "name": "stderr",
     "output_type": "stream",
     "text": [
      "Scraping:  51%|██████████████▉              | 349/680 [1:14:59<47:02,  8.53s/it]"
     ]
    },
    {
     "name": "stdout",
     "output_type": "stream",
     "text": [
      "element 0 has url https://www.ellines.com/wp-content/uploads/2017/04/Jim-Bidzos.png\n",
      "element 1 has url https://cdn.theorg.com/91a590bb-af9e-4403-9f59-bdd0fb81778a_medium.jpg\n",
      "element 2 has url https://cdn.theorg.com/14d917cd-47b8-45e4-95b4-6b232f90ed5e_thumb.jpg\n",
      "element 3 has url https://d2gjqh9j26unp0.cloudfront.net/profilepic/5c55a24e14086d452cb412510099c947\n",
      "https://www.google.com/search?q=Jim%20Bidzos%20VeriSign%2C%20Inc.&tbm=isch&tbs=cdr:1,cd_min:1/1/2019,cd_max:12/31/2019\n",
      "Jim Bidzos 2019\n",
      "hover start\n",
      "hover done\n",
      "Found 100 potential image elements\n"
     ]
    },
    {
     "name": "stderr",
     "output_type": "stream",
     "text": [
      "Scraping:  51%|█████████████▉             | 350/680 [1:15:28<1:21:01, 14.73s/it]"
     ]
    },
    {
     "name": "stdout",
     "output_type": "stream",
     "text": [
      "element 0 has url https://www.companieshistory.com/wp-content/uploads/2014/05/VeriSign.png\n",
      "element 1 has url https://www.sec.gov/Archives/edgar/data/1014473/000101447319000009/cardfor2019proxysta01.jpg\n",
      "element 2 has url https://www.sec.gov/Archives/edgar/data/1014473/000101447319000009/cardfor2019proxyst.jpg\n",
      "element 3 has url https://cdn.theorg.com/0dd11eb4-0bdf-475e-a165-2056196b0994_thumb.jpg\n",
      "https://www.google.com/search?q=N/A%20%28part%20of%20Agilent%29%20Keysight%20Technologies%2C%20Inc.&tbm=isch&tbs=cdr:1,cd_min:1/1/2010,cd_max:12/31/2010\n",
      "N/A (part of Agilent) 2010\n",
      "hover start\n",
      "hover done\n",
      "Found 100 potential image elements\n"
     ]
    },
    {
     "name": "stderr",
     "output_type": "stream",
     "text": [
      "Scraping:  52%|█████████████▉             | 351/680 [1:15:57<1:44:52, 19.13s/it]"
     ]
    },
    {
     "name": "stdout",
     "output_type": "stream",
     "text": [
      "element 0 has url https://about.keysight.com/en/newsroom/imagelibrary/library/67GHz_PNA-X_images/image002_low.jpg\n",
      "element 1 has url https://about.keysight.com/en/newsroom/imagelibrary/library/PXA_images/image003_high.jpg\n",
      "element 2 has url https://about.keysight.com/en/newsroom/imagelibrary/library/67GHz_PNA-X_images/image001_high.jpg\n",
      "element 3 has url https://www.tehencom.com/Companies/Agilent/E5061B/Agilent_E5061B_large.jpg\n",
      "https://www.google.com/search?q=N/A%20%28part%20of%20Agilent%29%20Keysight%20Technologies%2C%20Inc.&tbm=isch&tbs=cdr:1,cd_min:1/1/2011,cd_max:12/31/2011\n",
      "N/A (part of Agilent) 2011\n",
      "hover start\n",
      "hover done\n",
      "Found 100 potential image elements\n"
     ]
    },
    {
     "name": "stderr",
     "output_type": "stream",
     "text": [
      "Scraping:  52%|█████████████▉             | 352/680 [1:16:27<2:01:19, 22.19s/it]"
     ]
    },
    {
     "name": "stdout",
     "output_type": "stream",
     "text": [
      "element 0 has url https://www.amabileelectronictest.com/images/unit_images/aet_img_2219.jpg\n",
      "element 1 has url https://about.keysight.com/en/newsroom/imagelibrary/library/67GHz_NVNA_images/image001_low.jpg\n",
      "element 2 has url https://about.keysight.com/en/newsroom/imagelibrary/library/B2900A_images/image001_low.jpg\n",
      "element 3 has url https://www.sglabs.it/public/SgLabs_HP_8751A_1.JPG\n",
      "https://www.google.com/search?q=N/A%20%28part%20of%20Agilent%29%20Keysight%20Technologies%2C%20Inc.&tbm=isch&tbs=cdr:1,cd_min:1/1/2012,cd_max:12/31/2012\n",
      "N/A (part of Agilent) 2012\n",
      "hover start\n",
      "hover done\n",
      "Found 100 potential image elements\n"
     ]
    },
    {
     "name": "stderr",
     "output_type": "stream",
     "text": [
      "Scraping:  52%|██████████████             | 353/680 [1:16:56<2:12:27, 24.31s/it]"
     ]
    },
    {
     "name": "stdout",
     "output_type": "stream",
     "text": [
      "element 0 has url https://docs.alltest.net/inventory/Alltest-Agilent-Keysight-E8358A-22850.jpg\n",
      "element 1 has url https://about.keysight.com/en/newsroom/imagelibrary/library/86108B_images/image003_high.jpg\n",
      "element 2 has url https://about.keysight.com/en/newsroom/imagelibrary/library/86108B_images/image002_high.jpg\n",
      "element 3 has url https://accusrc.com/uploads/images/img5046.jpg\n",
      "https://www.google.com/search?q=N/A%20%28part%20of%20Agilent%29%20Keysight%20Technologies%2C%20Inc.&tbm=isch&tbs=cdr:1,cd_min:1/1/2013,cd_max:12/31/2013\n",
      "N/A (part of Agilent) 2013\n",
      "hover start\n",
      "hover done\n",
      "Found 99 potential image elements\n"
     ]
    },
    {
     "name": "stderr",
     "output_type": "stream",
     "text": [
      "Scraping:  52%|██████████████             | 354/680 [1:17:26<2:21:04, 25.96s/it]"
     ]
    },
    {
     "name": "stdout",
     "output_type": "stream",
     "text": [
      "element 0 has url x-raw-image:///78ef07619694a8c14d99d8f0291a4793b68955814c5148e858007099b022ca20\n",
      "element 1 has url https://docs.alltest.net/inventory/Alltest-Agilent-Keysight-N5230C-16859.jpg\n",
      "element 2 has url https://testworld.com/wp-content/uploads/Keysight-Agilent-N5244A-Network-Analyzer-for-Millimeter-Wave-Antenna-Test.jpg\n",
      "element 3 has url https://docs.alltest.net/inventory/Alltest-Agilent-Keysight-4396A-21536.jpg\n",
      "https://www.google.com/search?q=Ron%20Nersesian%20Keysight%20Technologies%2C%20Inc.&tbm=isch&tbs=cdr:1,cd_min:1/1/2014,cd_max:12/31/2014\n",
      "Ron Nersesian 2014\n",
      "hover start\n",
      "hover done\n",
      "Found 100 potential image elements\n"
     ]
    },
    {
     "name": "stderr",
     "output_type": "stream",
     "text": [
      "Scraping:  52%|██████████████             | 355/680 [1:17:55<2:25:39, 26.89s/it]"
     ]
    },
    {
     "name": "stdout",
     "output_type": "stream",
     "text": [
      "element 0 has url https://assets.mobileworldlive.com/wp-content/uploads/2015/06/16130501/Big-Ron.jpg\n",
      "element 1 has url https://mms.businesswire.com/media/20140107005547/en/397923/5/EMco_Technologies_Logo_Tagline.jpg\n",
      "element 2 has url https://www.powersystemsdesign.com/images/articles/1399559749-Jay%20Alexander%20copy.jpg\n",
      "element 3 has url https://www.electronicsforyou.biz/wp-content/uploads/2014/02/agilent-keysight-technologies.jpg\n",
      "https://www.google.com/search?q=Ron%20Nersesian%20Keysight%20Technologies%2C%20Inc.&tbm=isch&tbs=cdr:1,cd_min:1/1/2015,cd_max:12/31/2015\n",
      "Ron Nersesian 2015\n",
      "hover start\n",
      "hover done\n",
      "Found 99 potential image elements\n"
     ]
    },
    {
     "name": "stderr",
     "output_type": "stream",
     "text": [
      "Scraping:  52%|██████████████▏            | 356/680 [1:18:24<2:28:59, 27.59s/it]"
     ]
    },
    {
     "name": "stdout",
     "output_type": "stream",
     "text": [
      "element 0 has url https://incompliancemag.com/wp-content/uploads/2023/12/home-2534830-HERO1-img-1.jpg\n",
      "element 1 has url https://mms.businesswire.com/media/20191213005276/en/761843/4/Keysight_Signature_Pref_Color.jpg\n",
      "element 2 has url https://www.sec.gov/Archives/edgar/data/1601046/000104746915000650/g28683bci002.gif\n",
      "element 3 has url https://about.keysight.com/images/wkd_500.jpg\n",
      "https://www.google.com/search?q=Ron%20Nersesian%20Keysight%20Technologies%2C%20Inc.&tbm=isch&tbs=cdr:1,cd_min:1/1/2016,cd_max:12/31/2016\n",
      "Ron Nersesian 2016\n",
      "hover start\n",
      "hover done\n",
      "Found 100 potential image elements\n"
     ]
    },
    {
     "name": "stderr",
     "output_type": "stream",
     "text": [
      "Scraping:  52%|██████████████▏            | 357/680 [1:18:53<2:31:13, 28.09s/it]"
     ]
    },
    {
     "name": "stdout",
     "output_type": "stream",
     "text": [
      "element 0 has url https://dehayf5mhw1h7.cloudfront.net/wp-content/uploads/sites/1436/2020/06/19094231/BeyTheBoardrm_500-2016.jpg\n",
      "element 1 has url https://image.itmedia.co.jp/ee/articles/1608/09/mm160808_key3.jpg\n",
      "element 2 has url https://about.keysight.com/en/newsroom/imagelibrary/library/spreadtrum-mou_images/image001_low.jpg\n",
      "element 3 has url https://mms.businesswire.com/media/20191213005276/en/761843/5/Keysight_Signature_Pref_Color.jpg\n",
      "https://www.google.com/search?q=Ron%20Nersesian%20Keysight%20Technologies%2C%20Inc.&tbm=isch&tbs=cdr:1,cd_min:1/1/2017,cd_max:12/31/2017\n",
      "Ron Nersesian 2017\n",
      "hover start\n",
      "hover done\n",
      "Found 83 potential image elements\n"
     ]
    },
    {
     "name": "stderr",
     "output_type": "stream",
     "text": [
      "Scraping:  53%|██████████████▏            | 358/680 [1:19:22<2:32:05, 28.34s/it]"
     ]
    },
    {
     "name": "stdout",
     "output_type": "stream",
     "text": [
      "element 0 has url https://s.hdnux.com/photos/66/34/51/14273140/6/rawImage.jpg\n",
      "element 1 has url https://about.keysight.com/en/newsroom/pr/2018/jay-alexander.jpg\n",
      "element 2 has url https://s.hdnux.com/photos/66/52/33/14329575/4/rawImage.jpg\n",
      "element 3 has url https://xtech.nikkei.com/dm/atcl/feature/15/122200045/071200051/keysight-d.jpg\n",
      "https://www.google.com/search?q=Ron%20Nersesian%20Keysight%20Technologies%2C%20Inc.&tbm=isch&tbs=cdr:1,cd_min:1/1/2018,cd_max:12/31/2018\n",
      "Ron Nersesian 2018\n",
      "hover start\n",
      "hover done\n",
      "Found 100 potential image elements\n"
     ]
    },
    {
     "name": "stderr",
     "output_type": "stream",
     "text": [
      "Scraping:  53%|██████████████▎            | 359/680 [1:19:51<2:32:58, 28.59s/it]"
     ]
    },
    {
     "name": "stdout",
     "output_type": "stream",
     "text": [
      "element 0 has url https://pbs.twimg.com/media/DfMbz_JWkAcSUXD.jpg\n",
      "element 1 has url https://mms.businesswire.com/media/20181010005942/en/683767/4/Ron_N_Tree_NB_Cropped.jpg\n",
      "element 2 has url https://insidertrades.com/media/2038insider_ronnersesian.jpg\n",
      "element 3 has url https://mms.businesswire.com/media/20191101005058/en/753679/22/Keysight_Signature_Pref_Color.jpg\n",
      "https://www.google.com/search?q=Ron%20Nersesian%20Keysight%20Technologies%2C%20Inc.&tbm=isch&tbs=cdr:1,cd_min:1/1/2019,cd_max:12/31/2019\n",
      "Ron Nersesian 2019\n",
      "hover start\n",
      "hover done\n",
      "Found 100 potential image elements\n"
     ]
    },
    {
     "name": "stderr",
     "output_type": "stream",
     "text": [
      "Scraping:  53%|██████████████▎            | 360/680 [1:20:20<2:33:15, 28.74s/it]"
     ]
    },
    {
     "name": "stdout",
     "output_type": "stream",
     "text": [
      "element 0 has url https://i.ytimg.com/vi/LgfLDS4uE4o/maxresdefault.jpg\n",
      "element 1 has url https://i.ytimg.com/vi/-Hc_vw1cmQc/hq720.jpg?sqp=-oaymwEhCK4FEIIDSFryq4qpAxMIARUAAAAAGAElAADIQj0AgKJD&rs=AOn4CLBWqkDabqE5bwsmTz110nnBJhckNA\n",
      "element 2 has url https://profilemagazine.com/wp-content/uploads/2019/03/Ron-Nersesian-Keysight-Technologies-thumbnail.jpg\n",
      "element 3 has url https://i.ytimg.com/vi/XuFjq2Po_Kc/maxresdefault.jpg\n",
      "https://www.google.com/search?q=Gene%20Hall%20Gartner%2C%20Inc.&tbm=isch&tbs=cdr:1,cd_min:1/1/2010,cd_max:12/31/2010\n",
      "Gene Hall 2010\n",
      "hover start\n",
      "hover done\n",
      "Found 100 potential image elements\n"
     ]
    },
    {
     "name": "stderr",
     "output_type": "stream",
     "text": [
      "Scraping:  53%|██████████████▎            | 361/680 [1:20:50<2:33:54, 28.95s/it]"
     ]
    },
    {
     "name": "stdout",
     "output_type": "stream",
     "text": [
      "element 0 has url https://www.lakelandcollege.edu/wp-content/laker-images/dv/alu/DAS/2008%20DAS/Larry%20Norton.jpg\n",
      "element 1 has url https://www.lakelandcollege.edu/wp-content/laker-images/dv/alu/DAS/2008%20DAS/LarryBlackerby.jpg\n",
      "element 2 has url https://www.lakelandcollege.edu/wp-content/laker-images/dv/alu/DAS/2009%20DAS/Jesse,%20Donald.jpg\n",
      "element 3 has url https://www.ntxe-news.com/artman/uploads/acfeb28babb495p.jpg\n",
      "https://www.google.com/search?q=Gene%20Hall%20Gartner%2C%20Inc.&tbm=isch&tbs=cdr:1,cd_min:1/1/2011,cd_max:12/31/2011\n",
      "Gene Hall 2011\n",
      "hover start\n",
      "hover done\n",
      "Found 100 potential image elements\n"
     ]
    },
    {
     "name": "stderr",
     "output_type": "stream",
     "text": [
      "Scraping:  53%|██████████████▎            | 362/680 [1:21:19<2:33:46, 29.01s/it]"
     ]
    },
    {
     "name": "stdout",
     "output_type": "stream",
     "text": [
      "element 0 has url https://www.mrweb.com/drnoimg/drn14704.jpg\n",
      "element 1 has url https://upload.wikimedia.org/wikipedia/commons/0/02/Gartner_headquarters_cropped.jpg\n",
      "element 2 has url https://timeline.it.umich.edu/sites/default/files/1964_MERITStanfordEricson.jpg\n",
      "element 3 has url http://www6.etc.cmu.edu/wp-content/uploads/2013/08/KevinAuYoung.jpg\n",
      "https://www.google.com/search?q=Gene%20Hall%20Gartner%2C%20Inc.&tbm=isch&tbs=cdr:1,cd_min:1/1/2012,cd_max:12/31/2012\n",
      "Gene Hall 2012\n",
      "hover start\n",
      "hover done\n",
      "Found 100 potential image elements\n"
     ]
    },
    {
     "name": "stderr",
     "output_type": "stream",
     "text": [
      "Scraping:  53%|██████████████▍            | 363/680 [1:21:49<2:33:56, 29.14s/it]"
     ]
    },
    {
     "name": "stdout",
     "output_type": "stream",
     "text": [
      "element 0 has url http://mikejwalker.typepad.com/.a/6a011279700eb728a4017c341574e1970b-pi\n",
      "element 1 has url https://ars.els-cdn.com/content/image/1-s2.0-S0092867412010616-fx1.jpg\n",
      "element 2 has url https://www.lakelandcollege.edu/wp-content/laker-images/dv/alu/DAS/2011%20DAS/Thomas-Grunloh.jpg\n",
      "element 3 has url https://ars.els-cdn.com/content/image/1-s2.0-S1534580709003402-gr1.jpg\n",
      "https://www.google.com/search?q=Gene%20Hall%20Gartner%2C%20Inc.&tbm=isch&tbs=cdr:1,cd_min:1/1/2013,cd_max:12/31/2013\n",
      "Gene Hall 2013\n",
      "hover start\n",
      "hover done\n",
      "Found 100 potential image elements\n"
     ]
    },
    {
     "name": "stderr",
     "output_type": "stream",
     "text": [
      "Scraping:  54%|██████████████▍            | 364/680 [1:22:18<2:33:31, 29.15s/it]"
     ]
    },
    {
     "name": "stdout",
     "output_type": "stream",
     "text": [
      "element 0 has url https://www.sec.gov/Archives/edgar/data/749251/000093041313000806/image_001.jpg\n",
      "element 1 has url https://www.sec.gov/Archives/edgar/data/749251/000093041313000806/image_004.jpg\n",
      "element 2 has url https://www.sec.gov/Archives/edgar/data/749251/000093041313000806/image_042.jpg\n",
      "element 3 has url x-raw-image:///692e1f60b7c9121c1a4481397d00014d48100d988639230032b7751fecff5992\n",
      "https://www.google.com/search?q=Gene%20Hall%20Gartner%2C%20Inc.&tbm=isch&tbs=cdr:1,cd_min:1/1/2014,cd_max:12/31/2014\n",
      "Gene Hall 2014\n",
      "hover start\n",
      "hover done\n",
      "Found 100 potential image elements\n"
     ]
    },
    {
     "name": "stderr",
     "output_type": "stream",
     "text": [
      "Scraping:  54%|██████████████▍            | 365/680 [1:22:47<2:33:55, 29.32s/it]"
     ]
    },
    {
     "name": "stdout",
     "output_type": "stream",
     "text": [
      "element 0 has url https://pbs.twimg.com/media/BzREnYxIUAAjEJ2.jpg:large\n",
      "element 1 has url x-raw-image:///8639a23a1c6c90275df86e77b03cf9fed87547c9b3e9f812b1f871f1781fe55e\n",
      "element 2 has url https://g.foolcdn.com/editorial/images/429192/ceb-stock-logo.png\n",
      "element 3 has url x-raw-image:///2e8ba1d38dbcca5d7cef131e16353cb5cc252ae3adb41024b8d3c88b2ba01750\n",
      "https://www.google.com/search?q=Gene%20Hall%20Gartner%2C%20Inc.&tbm=isch&tbs=cdr:1,cd_min:1/1/2015,cd_max:12/31/2015\n",
      "Gene Hall 2015\n",
      "hover start\n",
      "hover done\n",
      "Found 100 potential image elements\n"
     ]
    },
    {
     "name": "stderr",
     "output_type": "stream",
     "text": [
      "Scraping:  54%|██████████████▌            | 366/680 [1:23:17<2:34:19, 29.49s/it]"
     ]
    },
    {
     "name": "stdout",
     "output_type": "stream",
     "text": [
      "element 0 has url https://www.spencerstuart.com/-/media/__headers/headers-old-pdf-header-images/leading-in-a-cloud-computing-world_header_01oct2012.png\n",
      "element 1 has url https://pbs.twimg.com/media/BzRB6CZIMAAdCAJ.jpg:large\n",
      "element 2 has url https://s.hdnux.com/photos/42/01/00/8917015/4/rawImage.jpg\n",
      "element 3 has url https://archive.naplesnews.com/Services/image.ashx?domain=www.naplesnews.com&file=0108_nclo_sm_gartner_1_3678305_ver1.0_640_480.jpg&resize=\n",
      "https://www.google.com/search?q=Gene%20Hall%20Gartner%2C%20Inc.&tbm=isch&tbs=cdr:1,cd_min:1/1/2016,cd_max:12/31/2016\n",
      "Gene Hall 2016\n",
      "hover start\n",
      "hover done\n",
      "Found 100 potential image elements\n"
     ]
    },
    {
     "name": "stderr",
     "output_type": "stream",
     "text": [
      "Scraping:  54%|██████████████▌            | 367/680 [1:23:27<2:02:35, 23.50s/it]"
     ]
    },
    {
     "name": "stdout",
     "output_type": "stream",
     "text": [
      "element 0 has url https://www.sec.gov/Archives/edgar/data/749251/000093041316005419/image_004.jpg\n",
      "element 1 has url https://s.wsj.net/public/resources/images/BN-QA638_0928_c_G_20160928162901.jpg\n",
      "element 2 has url https://www.sec.gov/Archives/edgar/data/749251/000093041316005419/image_003.jpg\n",
      "element 3 has url https://s.hdnux.com/photos/56/24/03/12140764/14/rawImage.jpg\n",
      "https://www.google.com/search?q=Gene%20Hall%20Gartner%2C%20Inc.&tbm=isch&tbs=cdr:1,cd_min:1/1/2017,cd_max:12/31/2017\n",
      "Gene Hall 2017\n",
      "hover start\n",
      "hover done\n",
      "Found 100 potential image elements\n"
     ]
    },
    {
     "name": "stderr",
     "output_type": "stream",
     "text": [
      "Scraping:  54%|██████████████▌            | 368/680 [1:23:36<1:39:30, 19.14s/it]"
     ]
    },
    {
     "name": "stdout",
     "output_type": "stream",
     "text": [
      "element 0 has url https://s.wsj.net/public/resources/images/BN-RN065_0106_c_P_20170106074910.jpg\n",
      "element 1 has url https://www.research-live.com/img/boardroom_crop.jpg\n",
      "element 2 has url https://kg.diffbot.com/image/api/get?fetch=yes&url=g%3Cj7P0St%7D9u.LnOv%7BI%7C%40g7.pBYINs%3Ff%7CGZ7jr-tGZhWf%3DK%2FOvy%5Bp%3CSKbs8i%7CEyNzC%5D%3C%5Ct9j8QcxTo%7Dat%40f0Xi5mGlkIp7%3B.C_o\n",
      "element 3 has url https://dallasnews.imgix.net/1512686026-NB_27waterstreetLD05.jpg\n",
      "https://www.google.com/search?q=Gene%20Hall%20Gartner%2C%20Inc.&tbm=isch&tbs=cdr:1,cd_min:1/1/2018,cd_max:12/31/2018\n",
      "Gene Hall 2018\n",
      "hover start\n",
      "hover done\n",
      "Found 100 potential image elements\n"
     ]
    },
    {
     "name": "stderr",
     "output_type": "stream",
     "text": [
      "Scraping:  54%|██████████████▋            | 369/680 [1:23:45<1:23:06, 16.03s/it]"
     ]
    },
    {
     "name": "stdout",
     "output_type": "stream",
     "text": [
      "element 0 has url https://media.licdn.com/dms/image/v2/C4D03AQG13OLdsY2NXg/profile-displayphoto-shrink_200_200/profile-displayphoto-shrink_200_200/0/1516239039874?e=2147483647&v=beta&t=sVj9tJDWPJRp_xa49rxs5u_IQ65KBIJGeYew8ofnSAM\n",
      "element 1 has url https://www.research-live.com/img/gartner-peter-sondergaard_crop.jpeg\n",
      "element 2 has url https://www.sec.gov/Archives/edgar/data/749251/000093041318000517/image_003.jpg\n",
      "element 3 has url https://www.cbia.com/wp-content/uploads/2018/09/gartner.jpg\n",
      "https://www.google.com/search?q=Gene%20Hall%20Gartner%2C%20Inc.&tbm=isch&tbs=cdr:1,cd_min:1/1/2019,cd_max:12/31/2019\n",
      "Gene Hall 2019\n",
      "hover start\n",
      "hover done\n",
      "Found 100 potential image elements\n"
     ]
    },
    {
     "name": "stderr",
     "output_type": "stream",
     "text": [
      "Scraping:  54%|██████████████▋            | 370/680 [1:23:54<1:11:54, 13.92s/it]"
     ]
    },
    {
     "name": "stdout",
     "output_type": "stream",
     "text": [
      "element 0 has url https://i.ytimg.com/vi/yJmDEoxlBxE/maxresdefault.jpg\n",
      "element 1 has url http://www.streetinsider.com/images/secattach/20190214/15129504_g697994ex99_1s3g1.jpg\n",
      "element 2 has url http://thumbor-prod-us-east-1.photo.aws.arc.pub/6vK6PTZMYH35hIAtnpptiGlQuj4=/arc-anglerfish-arc2-prod-dmn/public/Q6M2LMAVX757VFLR3BVFORTLQY.png\n",
      "element 3 has url https://media.licdn.com/dms/image/v2/C4D03AQGvKyoqrkBJCg/profile-displayphoto-shrink_200_200/profile-displayphoto-shrink_200_200/0/1554754808174?e=2147483647&v=beta&t=z1MlfMIxBMD9V6hV0lA563qJT71UZOM88QCQt3gmJbY\n",
      "https://www.google.com/search?q=Arkadiy%20Dobkin%20EPAM%20Systems%2C%20Inc.&tbm=isch&tbs=cdr:1,cd_min:1/1/2010,cd_max:12/31/2010\n",
      "Arkadiy Dobkin 2010\n",
      "hover start\n",
      "hover done\n",
      "Found 11 potential image elements\n"
     ]
    },
    {
     "name": "stderr",
     "output_type": "stream",
     "text": [
      "Scraping:  55%|██████████████▋            | 371/680 [1:24:02<1:03:20, 12.30s/it]"
     ]
    },
    {
     "name": "stdout",
     "output_type": "stream",
     "text": [
      "element 0 has url https://kg.diffbot.com/image/api/get?fetch=yes&url=g%3Cj7P0St0DnBJf.x0KwLZrUn.%5B%3CR0Aa4Hh%3B%5Bv738ZqOr7U%3FcvBR%3ErO%3EVd%7BJ%7CMf9g3%3D.A%5Dm\n",
      "element 1 has url http://www.barynya.com/barynya/images/2010/nj/RussianFestival2010_Russian8.5x11.jpg\n",
      "element 2 has url http://www.barynya.com/barynya/images/2010/toronto/old_mill_inn.jpg\n",
      "element 3 has url http://barynya.com/barynya/images/2010/cuyahoga_falls,oh_concert_poster.jpg\n",
      "https://www.google.com/search?q=Arkadiy%20Dobkin%20EPAM%20Systems%2C%20Inc.&tbm=isch&tbs=cdr:1,cd_min:1/1/2011,cd_max:12/31/2011\n",
      "Arkadiy Dobkin 2011\n",
      "hover start\n",
      "hover done\n",
      "Found 7 potential image elements\n"
     ]
    },
    {
     "name": "stderr",
     "output_type": "stream",
     "text": [
      "Scraping:  55%|███████████████▊             | 372/680 [1:24:11<57:20, 11.17s/it]"
     ]
    },
    {
     "name": "stdout",
     "output_type": "stream",
     "text": [
      "element 0 has url http://microsites.globalservicesmedia.com/_grfx/uploads/image/luxoft_logo.jpg\n",
      "element 1 has url http://microsites.globalservicesmedia.com/_grfx/headers/6.jpg\n",
      "element 2 has url http://www.russian365.com/hongkong/images/05_sm.jpg\n",
      "element 3 has url http://www.cossack.us/images/2011/nj_nets_january_19/16_band.jpg\n",
      "https://www.google.com/search?q=Arkadiy%20Dobkin%20EPAM%20Systems%2C%20Inc.&tbm=isch&tbs=cdr:1,cd_min:1/1/2012,cd_max:12/31/2012\n",
      "Arkadiy Dobkin 2012\n",
      "hover start\n",
      "hover done\n",
      "Found 5 potential image elements\n"
     ]
    },
    {
     "name": "stderr",
     "output_type": "stream",
     "text": [
      "Scraping:  55%|███████████████▉             | 373/680 [1:24:19<52:35, 10.28s/it]"
     ]
    },
    {
     "name": "stdout",
     "output_type": "stream",
     "text": [
      "element 0 has url http://media.philly.com/images/122012_empathylab_600.jpg\n",
      "element 1 has url https://prabook.com/web/show-photo.jpg?id=28671\n",
      "element 2 has url https://i.ytimg.com/vi/WoZAfPkU5E8/mqdefault.jpg\n",
      "element 3 has url https://i.ytimg.com/vi/llKvV8_T95M/hqdefault.jpg\n",
      "https://www.google.com/search?q=Arkadiy%20Dobkin%20EPAM%20Systems%2C%20Inc.&tbm=isch&tbs=cdr:1,cd_min:1/1/2013,cd_max:12/31/2013\n",
      "Arkadiy Dobkin 2013\n",
      "hover start\n",
      "hover done\n",
      "Found 17 potential image elements\n"
     ]
    },
    {
     "name": "stderr",
     "output_type": "stream",
     "text": [
      "Scraping:  55%|███████████████▉             | 374/680 [1:24:27<49:48,  9.77s/it]"
     ]
    },
    {
     "name": "stdout",
     "output_type": "stream",
     "text": [
      "element 0 has url https://i.ytimg.com/vi/64HcfGiZXQQ/hqdefault.jpg\n",
      "element 1 has url https://www.livemint.com/rf/Image-621x414/LiveMint/Period1/2013/09/18/Photos/services_india--621x414.JPG\n",
      "element 2 has url http://i.gzn.jp/img/2013/09/17/ex-soviet-challenge-india/dobkin.jpg\n",
      "element 3 has url http://i.gzn.jp/img/2013/09/17/ex-soviet-challenge-india/cap-article_m.png\n",
      "https://www.google.com/search?q=Arkadiy%20Dobkin%20EPAM%20Systems%2C%20Inc.&tbm=isch&tbs=cdr:1,cd_min:1/1/2014,cd_max:12/31/2014\n",
      "Arkadiy Dobkin 2014\n",
      "hover start\n",
      "hover done\n",
      "Found 22 potential image elements\n"
     ]
    },
    {
     "name": "stderr",
     "output_type": "stream",
     "text": [
      "Scraping:  55%|███████████████▉             | 375/680 [1:24:36<47:24,  9.33s/it]"
     ]
    },
    {
     "name": "stdout",
     "output_type": "stream",
     "text": [
      "element 0 has url https://diversityglobal.com/images/others/dg77201465841563.jpg\n",
      "element 1 has url https://www.prolificnorth.co.uk/wp-content/uploads/2014/11/1415007637128_0.jpg\n",
      "element 2 has url https://www.sec.gov/Archives/edgar/data/1352010/000135201014000007/image00002.jpg\n",
      "element 3 has url http://happyfarm.com.ua/images/doc/b/d/bdf3274-for-slider-1.jpg\n",
      "https://www.google.com/search?q=Arkadiy%20Dobkin%20EPAM%20Systems%2C%20Inc.&tbm=isch&tbs=cdr:1,cd_min:1/1/2015,cd_max:12/31/2015\n",
      "Arkadiy Dobkin 2015\n",
      "hover start\n",
      "hover done\n",
      "Found 24 potential image elements\n"
     ]
    },
    {
     "name": "stderr",
     "output_type": "stream",
     "text": [
      "Scraping:  55%|████████████████             | 376/680 [1:24:44<46:25,  9.16s/it]"
     ]
    },
    {
     "name": "stdout",
     "output_type": "stream",
     "text": [
      "element 0 has url https://upload.wikimedia.org/wikipedia/commons/7/72/Effective_Programming_for_America_logo.svg\n",
      "element 1 has url http://media.philly.com/images/20121220_inq_phillydeal20-a.JPG\n",
      "element 2 has url https://www.sec.gov/Archives/edgar/data/1352010/000135201015000006/chart1a02.jpg\n",
      "element 3 has url https://s3-us-west-1.amazonaws.com/companies.comparably.com/42292/7077_elaina-shekhter-chief-marketing-officer-senior-vp-epam-systems-inc.jpg?lastUpdate=Fri%20May%2015%202020%2001%3A05%3A23%20GMT+0000%20%28Coordinated%20Universal%20Time%29\n",
      "https://www.google.com/search?q=Arkadiy%20Dobkin%20EPAM%20Systems%2C%20Inc.&tbm=isch&tbs=cdr:1,cd_min:1/1/2016,cd_max:12/31/2016\n",
      "Arkadiy Dobkin 2016\n",
      "hover start\n",
      "hover done\n",
      "Found 40 potential image elements\n"
     ]
    },
    {
     "name": "stderr",
     "output_type": "stream",
     "text": [
      "Scraping:  55%|████████████████             | 377/680 [1:24:53<45:17,  8.97s/it]"
     ]
    },
    {
     "name": "stdout",
     "output_type": "stream",
     "text": [
      "element 0 has url https://d39raawggeifpx.cloudfront.net/styles/16_9_desktop/s3/articleimages/0516_Belarus_bnePeople_EPAM_Dobkin_Arkadiy_CEO_president%20Cropped.jpg\n",
      "element 1 has url https://images.successstory.com/adminimg/image_uploads/content_images/epam-systems-founder-arkadiy-dobkin_1477976160.jpg\n",
      "element 2 has url https://pmi-p-001.sitecorecontenthub.cloud/api/public/content/1b6c52cb443347a78ec997d1f1dd884d?v=7cf0dc9a\n",
      "element 3 has url https://images.successstory.com/adminimg/image_uploads/content_images/epam-systems-operations_1477976237.jpg\n",
      "https://www.google.com/search?q=Arkadiy%20Dobkin%20EPAM%20Systems%2C%20Inc.&tbm=isch&tbs=cdr:1,cd_min:1/1/2017,cd_max:12/31/2017\n",
      "Arkadiy Dobkin 2017\n",
      "hover start\n",
      "hover done\n",
      "Found 36 potential image elements\n"
     ]
    },
    {
     "name": "stderr",
     "output_type": "stream",
     "text": [
      "Scraping:  56%|███████████████            | 378/680 [1:25:21<1:14:34, 14.82s/it]"
     ]
    },
    {
     "name": "stdout",
     "output_type": "stream",
     "text": [
      "element 0 has url https://pbs.twimg.com/media/CysNZW3WIAAYT5I?format=jpg&name=large\n",
      "element 1 has url https://pbs.twimg.com/media/CysMykTWgAASQyc.jpg\n",
      "element 2 has url https://pbs.twimg.com/media/C4PTZQ6WQAAxs4W.jpg:large\n",
      "element 3 has url https://media.bizj.us/view/img/10250742/arkadiy-dobkin*120xx3520-2640-220-0.jpg\n",
      "https://www.google.com/search?q=Arkadiy%20Dobkin%20EPAM%20Systems%2C%20Inc.&tbm=isch&tbs=cdr:1,cd_min:1/1/2018,cd_max:12/31/2018\n",
      "Arkadiy Dobkin 2018\n",
      "hover start\n",
      "hover done\n",
      "Found 100 potential image elements\n"
     ]
    },
    {
     "name": "stderr",
     "output_type": "stream",
     "text": [
      "Scraping:  56%|███████████████            | 379/680 [1:25:50<1:35:21, 19.01s/it]"
     ]
    },
    {
     "name": "stdout",
     "output_type": "stream",
     "text": [
      "element 0 has url https://media.licdn.com/dms/image/v2/C4D03AQEZyXhe532xgQ/profile-displayphoto-shrink_200_200/profile-displayphoto-shrink_200_200/0/1516244009030?e=2147483647&v=beta&t=A4kLiNaoOdsxaFEy7yHdr9qaXybPSITfzvDBqch3nLU\n",
      "element 1 has url https://arc-anglerfish-arc2-prod-pmn.s3.amazonaws.com/public/C44IBBMI7NERLGVZSOFBYFA25I.jpg\n",
      "element 2 has url https://www.epam.com//content/dam/epam/company/leadership/260x260/Arkadiy_Dobkin_260x260.jpg\n",
      "element 3 has url https://lookaside.fbsbx.com/lookaside/crawler/media/?media_id=700663456761273\n",
      "https://www.google.com/search?q=Arkadiy%20Dobkin%20EPAM%20Systems%2C%20Inc.&tbm=isch&tbs=cdr:1,cd_min:1/1/2019,cd_max:12/31/2019\n",
      "Arkadiy Dobkin 2019\n",
      "hover start\n",
      "hover done\n",
      "Found 100 potential image elements\n"
     ]
    },
    {
     "name": "stderr",
     "output_type": "stream",
     "text": [
      "Scraping:  56%|███████████████            | 380/680 [1:26:19<1:50:11, 22.04s/it]"
     ]
    },
    {
     "name": "stdout",
     "output_type": "stream",
     "text": [
      "element 0 has url https://media.licdn.com/dms/image/v2/C5603AQH2t3l5bdPtrA/profile-displayphoto-shrink_200_200/profile-displayphoto-shrink_200_200/0/1530219897067?e=2147483647&v=beta&t=rL9omvYc2b3dYDf-wSVh6rMGq5Tn2zsbS80XQ57SImE\n",
      "element 1 has url https://media.bizj.us/view/img/10250742/arkadiy-dobkin*1200xx3960-2228-0-206.jpg\n",
      "element 2 has url https://prabook.com/web/show-photo-icon.jpg?id=28684&width=77&cache=false\n",
      "element 3 has url https://pbs.twimg.com/media/EE92zWPWwAARwDc.jpg\n",
      "https://www.google.com/search?q=Jack%20Prim%20Jack%20Henry%20%26%20Associates%2C%20Inc.&tbm=isch&tbs=cdr:1,cd_min:1/1/2010,cd_max:12/31/2010\n",
      "Jack Prim 2010\n",
      "hover start\n",
      "hover done\n",
      "Found 100 potential image elements\n"
     ]
    },
    {
     "name": "stderr",
     "output_type": "stream",
     "text": [
      "Scraping:  56%|███████████████▏           | 381/680 [1:26:49<2:00:53, 24.26s/it]"
     ]
    },
    {
     "name": "stdout",
     "output_type": "stream",
     "text": [
      "element 0 has url https://www.sec.gov/Archives/edgar/data/1136893/000095012309068763/g21457g21457z0260.gif\n",
      "element 1 has url https://historicalnovelsociety.org/wp-content/uploads/2018/10/jacks-island-norman-jorgensen.jpg\n",
      "element 2 has url https://www.sec.gov/Archives/edgar/data/1136893/000095012309068763/g21457g21457z0241.gif\n",
      "element 3 has url https://www.sec.gov/Archives/edgar/data/1136893/000095012309068763/g21457g21457z0236.gif\n",
      "https://www.google.com/search?q=Jack%20Prim%20Jack%20Henry%20%26%20Associates%2C%20Inc.&tbm=isch&tbs=cdr:1,cd_min:1/1/2011,cd_max:12/31/2011\n",
      "Jack Prim 2011\n",
      "hover start\n",
      "hover done\n",
      "Found 100 potential image elements\n"
     ]
    },
    {
     "name": "stderr",
     "output_type": "stream",
     "text": [
      "Scraping:  56%|███████████████▏           | 382/680 [1:27:18<2:07:54, 25.75s/it]"
     ]
    },
    {
     "name": "stdout",
     "output_type": "stream",
     "text": [
      "element 0 has url https://s3.amazonaws.com/gmscom/master/media-common/product/ZP2_med.jpg\n",
      "element 1 has url https://journalofprolotherapy.com/images/authors/author_jack_henry.jpg\n",
      "element 2 has url https://upload.wikimedia.org/wikipedia/commons/2/2d/Jack_London_young.jpg\n",
      "element 3 has url https://www.ijpc.org/uploads/images/Star%20Is%20Born%20Jack%20Carson%202.jpg\n",
      "https://www.google.com/search?q=Jack%20Prim%20Jack%20Henry%20%26%20Associates%2C%20Inc.&tbm=isch&tbs=cdr:1,cd_min:1/1/2012,cd_max:12/31/2012\n",
      "Jack Prim 2012\n",
      "hover start\n",
      "hover done\n",
      "Found 100 potential image elements\n"
     ]
    },
    {
     "name": "stderr",
     "output_type": "stream",
     "text": [
      "Scraping:  56%|███████████████▏           | 383/680 [1:27:47<2:12:41, 26.81s/it]"
     ]
    },
    {
     "name": "stdout",
     "output_type": "stream",
     "text": [
      "element 0 has url x-raw-image:///a83a0f8b7addb9d97143242526d56511f12e82c482953a52197bb42d02100ba0\n",
      "element 1 has url https://scopophiliamovieblog.com/wp-content/uploads/2015/10/shock-waves-3.jpg?w=584\n",
      "element 2 has url https://www.johnhackneyagency.com/wp-content/uploads/sites/69/2016/05/Full-Logo-600-dpi.jpg\n",
      "element 3 has url https://vickielester.files.wordpress.com/2012/09/billy-wilder-jack-lemmon.jpg?w=474&h=597\n",
      "https://www.google.com/search?q=Jack%20Prim%20Jack%20Henry%20%26%20Associates%2C%20Inc.&tbm=isch&tbs=cdr:1,cd_min:1/1/2013,cd_max:12/31/2013\n",
      "Jack Prim 2013\n",
      "hover start\n",
      "hover done\n",
      "Found 100 potential image elements\n"
     ]
    },
    {
     "name": "stderr",
     "output_type": "stream",
     "text": [
      "Scraping:  56%|███████████████▏           | 384/680 [1:28:17<2:16:53, 27.75s/it]"
     ]
    },
    {
     "name": "stdout",
     "output_type": "stream",
     "text": [
      "element 0 has url x-raw-image:///aac8e3e37423d77b44c14b1a75010b51ccdcd876a8d8e80e610976e7e98f694f\n",
      "element 1 has url x-raw-image:///8525ec65bee854e7e9f1360bb5d6e22324dca32347776bcc1eed421f068be5b4\n",
      "element 2 has url https://mms.businesswire.com/media/20130611006584/en/372435/5/NOOK_Beanstalk_07.jpg\n",
      "element 3 has url https://lookaside.fbsbx.com/lookaside/crawler/media/?media_id=516060785078816\n",
      "https://www.google.com/search?q=Jack%20Prim%20Jack%20Henry%20%26%20Associates%2C%20Inc.&tbm=isch&tbs=cdr:1,cd_min:1/1/2014,cd_max:12/31/2014\n",
      "Jack Prim 2014\n",
      "hover start\n",
      "hover done\n",
      "Found 100 potential image elements\n"
     ]
    },
    {
     "name": "stderr",
     "output_type": "stream",
     "text": [
      "Scraping:  57%|███████████████▎           | 385/680 [1:28:47<2:19:11, 28.31s/it]"
     ]
    },
    {
     "name": "stdout",
     "output_type": "stream",
     "text": [
      "element 0 has url https://www.ftpartners.com/assets/images/tombstones/lrg_jackhenry.gif\n",
      "element 1 has url https://media.glassdoor.com/l/14/f4/5c/bd/cubes-at-alpharetta-office.jpg?signature=c50cd395c8a45cd753e4a4de7f682cec78cb48485d109837494ce73dc526b0ea\n",
      "element 2 has url https://media.glassdoor.com/l/2c/23/8c/72/break-room-at-alpharetta-office.jpg?signature=56a2927a610e04d05b23c0acd320317d152888f1f4b33477e10068faa3cad4e0\n",
      "element 3 has url https://cartoonresearch.com/wp-content/uploads/2014/08/jack-us-poster-lrg.jpg\n",
      "https://www.google.com/search?q=Jack%20Prim%20Jack%20Henry%20%26%20Associates%2C%20Inc.&tbm=isch&tbs=cdr:1,cd_min:1/1/2015,cd_max:12/31/2015\n",
      "Jack Prim 2015\n",
      "hover start\n",
      "hover done\n",
      "Found 100 potential image elements\n"
     ]
    },
    {
     "name": "stderr",
     "output_type": "stream",
     "text": [
      "Scraping:  57%|███████████████▎           | 386/680 [1:29:16<2:19:55, 28.55s/it]"
     ]
    },
    {
     "name": "stdout",
     "output_type": "stream",
     "text": [
      "element 0 has url http://www.ingrams.com/wp-content/uploads/2015/02/Jack-Prim.jpg\n",
      "element 1 has url https://pbs.twimg.com/profile_images/618829130369339393/5FzVj0rx_400x400.jpg\n",
      "element 2 has url https://www.sec.gov/Archives/edgar/data/779152/000077915215000056/jkhy-201563_chartx36683.jpg\n",
      "element 3 has url http://www.ingrams.com/wp-content/uploads/2015/02/Doug-Crews.jpg\n",
      "https://www.google.com/search?q=Jack%20Prim%20Jack%20Henry%20%26%20Associates%2C%20Inc.&tbm=isch&tbs=cdr:1,cd_min:1/1/2016,cd_max:12/31/2016\n",
      "Jack Prim 2016\n",
      "hover start\n",
      "hover done\n",
      "Found 100 potential image elements\n"
     ]
    },
    {
     "name": "stderr",
     "output_type": "stream",
     "text": [
      "Scraping:  57%|███████████████▎           | 387/680 [1:29:45<2:20:51, 28.85s/it]"
     ]
    },
    {
     "name": "stdout",
     "output_type": "stream",
     "text": [
      "element 0 has url https://nyba.com/images/ImageLibrary/ServiceMemberLogos/jackhenry.png\n",
      "element 1 has url https://i.ytimg.com/vi/DBdv2ocOX-A/hqdefault.jpg\n",
      "element 2 has url https://img.youtube.com/vi/zC0sV-IHAos/mqdefault.jpg\n",
      "element 3 has url http://dmn.merlinone.net/THUMBS2016/TDIR85168/AX173_624D_9.JPG\n",
      "https://www.google.com/search?q=David%20Foss%20Jack%20Henry%20%26%20Associates%2C%20Inc.&tbm=isch&tbs=cdr:1,cd_min:1/1/2017,cd_max:12/31/2017\n",
      "David Foss 2017\n",
      "hover start\n",
      "hover done\n",
      "Found 100 potential image elements\n"
     ]
    },
    {
     "name": "stderr",
     "output_type": "stream",
     "text": [
      "Scraping:  57%|███████████████▍           | 388/680 [1:30:15<2:20:45, 28.92s/it]"
     ]
    },
    {
     "name": "stdout",
     "output_type": "stream",
     "text": [
      "element 0 has url https://sbj.net/uploads/original/20170807-132330-115718.jpg\n",
      "element 1 has url https://sbj.net/uploads/original/20170807-143456-73372.jpg\n",
      "element 2 has url https://sbj.net/uploads/original/20170807-144654-72979.jpg\n",
      "element 3 has url https://sbj.net/uploads/original/20170807-135449-109054.jpg\n",
      "https://www.google.com/search?q=David%20Foss%20Jack%20Henry%20%26%20Associates%2C%20Inc.&tbm=isch&tbs=cdr:1,cd_min:1/1/2018,cd_max:12/31/2018\n",
      "David Foss 2018\n",
      "hover start\n",
      "hover done\n",
      "Found 100 potential image elements\n"
     ]
    },
    {
     "name": "stderr",
     "output_type": "stream",
     "text": [
      "Scraping:  57%|███████████████▍           | 389/680 [1:30:44<2:20:58, 29.07s/it]"
     ]
    },
    {
     "name": "stdout",
     "output_type": "stream",
     "text": [
      "element 0 has url https://sbj.net/uploads/original/1507133172_61b5.jpg\n",
      "element 1 has url https://sbj.net/uploads/thumbnail/20170807-144654-72979.jpg\n",
      "element 2 has url https://sbj.net/uploads/thumbnail/20170807-143456-73372.jpg\n",
      "element 3 has url https://sbj.net/uploads/thumbnail/20170807-132330-115718.jpg\n",
      "https://www.google.com/search?q=David%20Foss%20Jack%20Henry%20%26%20Associates%2C%20Inc.&tbm=isch&tbs=cdr:1,cd_min:1/1/2019,cd_max:12/31/2019\n",
      "David Foss 2019\n",
      "hover start\n",
      "hover done\n",
      "Found 100 potential image elements\n"
     ]
    },
    {
     "name": "stderr",
     "output_type": "stream",
     "text": [
      "Scraping:  57%|███████████████▍           | 390/680 [1:31:14<2:21:09, 29.21s/it]"
     ]
    },
    {
     "name": "stdout",
     "output_type": "stream",
     "text": [
      "element 0 has url https://images.squarespace-cdn.com/content/v1/5812546dbe65948b8103e36d/1520186839924-4H1PP54JP1GM9Z55CQ5T/DAVID+FOSS.jpg\n",
      "element 1 has url https://sbj.net/uploads/original/20181008-115005-foss.jpg\n",
      "element 2 has url https://v6r2p5t5.delivery.rocketcdn.me/wp-content/uploads/2019/02/DavidFossJackHenry-300x300.jpg\n",
      "element 3 has url https://d1hbpr09pwz0sk.cloudfront.net/profile_pic/david-foss-24c2ee92\n",
      "https://www.google.com/search?q=John%20A.%20Edwardson%20CDW%20Corporation&tbm=isch&tbs=cdr:1,cd_min:1/1/2010,cd_max:12/31/2010\n",
      "John A. Edwardson 2010\n",
      "hover start\n",
      "hover done\n",
      "Found 11 potential image elements\n"
     ]
    },
    {
     "name": "stderr",
     "output_type": "stream",
     "text": [
      "Scraping:  57%|███████████████▌           | 391/680 [1:31:43<2:20:26, 29.16s/it]"
     ]
    },
    {
     "name": "stdout",
     "output_type": "stream",
     "text": [
      "element 0 has url https://www.sec.gov/Archives/edgar/data/1048911/000095014407007757/g08526dg0852608.gif\n",
      "element 1 has url http://www.substancenews.net/assets/images/1148096250.jpg\n",
      "element 2 has url https://www.sec.gov/Archives/edgar/data/1048911/000095014407007757/g08526dg0852605.gif\n",
      "element 3 has url http://www.substancenews.net/assets/images/373886287.jpg\n",
      "https://www.google.com/search?q=John%20A.%20Edwardson%20CDW%20Corporation&tbm=isch&tbs=cdr:1,cd_min:1/1/2011,cd_max:12/31/2011\n",
      "John A. Edwardson 2011\n",
      "hover start\n",
      "hover done\n",
      "Found 100 potential image elements\n"
     ]
    },
    {
     "name": "stderr",
     "output_type": "stream",
     "text": [
      "Scraping:  58%|███████████████▌           | 392/680 [1:32:12<2:20:15, 29.22s/it]"
     ]
    },
    {
     "name": "stdout",
     "output_type": "stream",
     "text": [
      "element 0 has url https://www.kellogg.northwestern.edu/-/media/images/news_images/2008/embagrad08-edwardson.ashx\n",
      "element 1 has url https://www.sec.gov/Archives/edgar/data/1402057/000119312510205804/g32915ex3_9pg001a.jpg\n",
      "element 2 has url https://upload.wikimedia.org/wikipedia/commons/b/be/CDW_Logo.svg\n",
      "element 3 has url https://www.sec.gov/Archives/edgar/data/1402057/000119312511310473/g198060image002.jpg\n",
      "https://www.google.com/search?q=John%20A.%20Edwardson%20CDW%20Corporation&tbm=isch&tbs=cdr:1,cd_min:1/1/2012,cd_max:12/31/2012\n",
      "John A. Edwardson 2012\n",
      "hover start\n",
      "hover done\n",
      "Found 100 potential image elements\n"
     ]
    },
    {
     "name": "stderr",
     "output_type": "stream",
     "text": [
      "Scraping:  58%|███████████████▌           | 393/680 [1:32:41<2:19:38, 29.19s/it]"
     ]
    },
    {
     "name": "stdout",
     "output_type": "stream",
     "text": [
      "element 0 has url https://www.sec.gov/Archives/edgar/data/1402057/000119312510205804/g32915ex3_9pg002.jpg\n",
      "element 1 has url https://www.sec.gov/Archives/edgar/data/1402057/000119312510205804/g32915ex3_9pg001b.jpg\n",
      "element 2 has url https://www.sec.gov/Archives/edgar/data/1137411/000113741112000153/clayjonesbw.jpg\n",
      "element 3 has url http://www.substancenews.net/assets/images2/875165766.jpg\n",
      "https://www.google.com/search?q=Thomas%20E.%20Richards%20CDW%20Corporation&tbm=isch&tbs=cdr:1,cd_min:1/1/2013,cd_max:12/31/2013\n",
      "Thomas E. Richards 2013\n",
      "hover start\n",
      "hover done\n",
      "Found 100 potential image elements\n"
     ]
    },
    {
     "name": "stderr",
     "output_type": "stream",
     "text": [
      "Scraping:  58%|███████████████▋           | 394/680 [1:33:00<2:04:58, 26.22s/it]"
     ]
    },
    {
     "name": "stdout",
     "output_type": "stream",
     "text": [
      "element 0 has url https://www.news.pitt.edu/sites/default/files/Fedele/Thomas%20Richards_0.jpg\n",
      "element 1 has url https://www.news.pitt.edu/sites/default/files/Robbi%20Luxbacher_head.jpg\n",
      "element 2 has url https://www.sec.gov/Archives/edgar/data/1402057/000119312513122411/g501911g70u31.jpg\n",
      "element 3 has url https://www.news.pitt.edu/sites/default/files/2013%20Tom%20Kurtz%20photo.JPG\n",
      "https://www.google.com/search?q=Thomas%20E.%20Richards%20CDW%20Corporation&tbm=isch&tbs=cdr:1,cd_min:1/1/2014,cd_max:12/31/2014\n",
      "Thomas E. Richards 2014\n",
      "hover start\n",
      "hover done\n",
      "Found 100 potential image elements\n"
     ]
    },
    {
     "name": "stderr",
     "output_type": "stream",
     "text": [
      "Scraping:  58%|███████████████▋           | 395/680 [1:33:09<1:39:48, 21.01s/it]"
     ]
    },
    {
     "name": "stdout",
     "output_type": "stream",
     "text": [
      "element 0 has url https://umc.edu/News/News_Articles/2014/June/images/LVAD-3.jpg\n",
      "element 1 has url https://s3.amazonaws.com/attachments.readmedia.com/files/56929/original/PASBOAchievementAwardWinnerLVCLebanonSchoolDistrict.jpg?1395146648\n",
      "element 2 has url https://eoculus-images.aiany.org/wp-content/uploads/2014/07/06.25.14_Regional-Recovery.jpg\n",
      "element 3 has url https://www.mdpi.com/sensors/sensors-14-17390/article_deploy/html/images/sensors-14-17390f5-1024.png\n",
      "https://www.google.com/search?q=Thomas%20E.%20Richards%20CDW%20Corporation&tbm=isch&tbs=cdr:1,cd_min:1/1/2015,cd_max:12/31/2015\n",
      "Thomas E. Richards 2015\n",
      "hover start\n",
      "hover done\n",
      "Found 100 potential image elements\n"
     ]
    },
    {
     "name": "stderr",
     "output_type": "stream",
     "text": [
      "Scraping:  58%|███████████████▋           | 396/680 [1:33:18<1:22:28, 17.42s/it]"
     ]
    },
    {
     "name": "stdout",
     "output_type": "stream",
     "text": [
      "element 0 has url https://ml.globenewswire.com/Resource/Download/1b013082-6c27-40d2-bdf1-2b3c7a5342e5?size=2\n",
      "element 1 has url https://www.sec.gov/Archives/edgar/data/1402057/000140205715000003/cdw-2014123_charta01a01.jpg\n",
      "element 2 has url https://venturebeat.com/wp-content/uploads/2015/05/larry-page-ev-williams-1.jpg\n",
      "element 3 has url https://venturebeat.com/wp-content/uploads/2015/06/Top-50-CEOs.-Large-Companies.-U.S.4.png\n",
      "https://www.google.com/search?q=Thomas%20E.%20Richards%20CDW%20Corporation&tbm=isch&tbs=cdr:1,cd_min:1/1/2016,cd_max:12/31/2016\n",
      "Thomas E. Richards 2016\n",
      "hover start\n",
      "hover done\n",
      "Found 100 potential image elements\n"
     ]
    },
    {
     "name": "stderr",
     "output_type": "stream",
     "text": [
      "Scraping:  58%|███████████████▊           | 397/680 [1:33:27<1:10:23, 14.92s/it]"
     ]
    },
    {
     "name": "stdout",
     "output_type": "stream",
     "text": [
      "element 0 has url https://ml.globenewswire.com/Resource/Download/1b013082-6c27-40d2-bdf1-2b3c7a5342e5\n",
      "element 1 has url https://cleverism.com/wp-content/uploads/wpjobboard/company/1067/company-logo/CDW_Logo.svg_.png\n",
      "element 2 has url x-raw-image:///380eb8733226da378f6e36d026201b0f4587c2ee7e1cd015a9bf5633b5c4b584\n",
      "element 3 has url https://www.sec.gov/Archives/edgar/data/1402057/000140205716000057/cdw-20151231_chart.jpg\n",
      "https://www.google.com/search?q=Christine%20A.%20Leahy%20CDW%20Corporation&tbm=isch&tbs=cdr:1,cd_min:1/1/2017,cd_max:12/31/2017\n",
      "Christine A. Leahy 2017\n",
      "hover start\n",
      "hover done\n",
      "Found 100 potential image elements\n"
     ]
    },
    {
     "name": "stderr",
     "output_type": "stream",
     "text": [
      "Scraping:  59%|███████████████▊           | 398/680 [1:33:36<1:01:30, 13.09s/it]"
     ]
    },
    {
     "name": "stdout",
     "output_type": "stream",
     "text": [
      "element 0 has url https://images.ctfassets.net/bxvspbo2e7cv/65gChW3rz2LMrx93TlpKW8/e04d22eac40226b3ebb75dca9b46bfd8/3__.jpg\n",
      "element 1 has url https://mms.businesswire.com/media/20171121005306/en/625850/5/2017_POYA_TechData.jpg\n",
      "element 2 has url https://images.ctfassets.net/bxvspbo2e7cv/4nsgw0K3VJArSdwZsxWkim/357d45a660e050500c9ab2c4bab0bf2f/2__.jpg\n",
      "element 3 has url https://www.sec.gov/Archives/edgar/data/1402057/000140205717000007/cdw-20161231_charta04.jpg\n",
      "https://www.google.com/search?q=Christine%20A.%20Leahy%20CDW%20Corporation&tbm=isch&tbs=cdr:1,cd_min:1/1/2018,cd_max:12/31/2018\n",
      "Christine A. Leahy 2018\n",
      "hover start\n",
      "hover done\n",
      "Found 100 potential image elements\n"
     ]
    },
    {
     "name": "stderr",
     "output_type": "stream",
     "text": [
      "Scraping:  59%|█████████████████            | 399/680 [1:33:45<55:16, 11.80s/it]"
     ]
    },
    {
     "name": "stdout",
     "output_type": "stream",
     "text": [
      "element 0 has url https://womenworthwatching.com/wp-content/uploads/ChristineLeahy.jpg\n",
      "element 1 has url https://s3-rd-prod.chicagobusiness.com/styles/800x600/s3/CDW.jpg\n",
      "element 2 has url https://moneyinc.com/wp-content/uploads/2019/01/ct-biz-cdw-names-first-female-ceo-20180918.jpg\n",
      "element 3 has url https://cdn.theorg.com/051ea2bb-4fd3-4347-ab86-457771757883_medium.jpg\n",
      "https://www.google.com/search?q=Christine%20A.%20Leahy%20CDW%20Corporation&tbm=isch&tbs=cdr:1,cd_min:1/1/2019,cd_max:12/31/2019\n",
      "Christine A. Leahy 2019\n",
      "hover start\n",
      "hover done\n",
      "Found 100 potential image elements\n"
     ]
    },
    {
     "name": "stderr",
     "output_type": "stream",
     "text": [
      "Scraping:  59%|█████████████████            | 400/680 [1:33:54<51:22, 11.01s/it]"
     ]
    },
    {
     "name": "stdout",
     "output_type": "stream",
     "text": [
      "element 0 has url https://s3-us-west-1.amazonaws.com/companies.comparably.com/407787_exec_cdw-corporation27908513561425.png\n",
      "element 1 has url https://www.sec.gov/Archives/edgar/data/1402057/000130817919000131/lcdwx4x1a.jpg\n",
      "element 2 has url https://images.comparably.com/competitors/cdw-corporation-ceo-vs-insight-ceo\n",
      "element 3 has url https://i.ytimg.com/vi/MaSe1jzX6js/hqdefault.jpg\n",
      "https://www.google.com/search?q=James%20Cashman%20ANSYS%2C%20Inc.&tbm=isch&tbs=cdr:1,cd_min:1/1/2010,cd_max:12/31/2010\n",
      "James Cashman 2010\n",
      "hover start\n",
      "hover done\n",
      "Found 98 potential image elements\n"
     ]
    },
    {
     "name": "stderr",
     "output_type": "stream",
     "text": [
      "Scraping:  59%|█████████████████            | 401/680 [1:34:03<48:01, 10.33s/it]"
     ]
    },
    {
     "name": "stdout",
     "output_type": "stream",
     "text": [
      "element 0 has url http://www.edacafe.com/common/tinymce_image/get_image.php?image_id=4533\n",
      "element 1 has url http://www.edacafe.com/common/tinymce_image/get_image.php?image_id=4529\n",
      "element 2 has url http://www.edacafe.com/common/tinymce_image/get_image.php?image_id=4531\n",
      "element 3 has url http://www.edacafe.com/common/tinymce_image/get_image.php?image_id=4527\n",
      "https://www.google.com/search?q=James%20Cashman%20ANSYS%2C%20Inc.&tbm=isch&tbs=cdr:1,cd_min:1/1/2011,cd_max:12/31/2011\n",
      "James Cashman 2011\n",
      "hover start\n",
      "hover done\n",
      "Found 100 potential image elements\n"
     ]
    },
    {
     "name": "stderr",
     "output_type": "stream",
     "text": [
      "Scraping:  59%|█████████████████▏           | 402/680 [1:34:12<45:48,  9.89s/it]"
     ]
    },
    {
     "name": "stdout",
     "output_type": "stream",
     "text": [
      "element 0 has url https://tbkconsult.com/wp-content/uploads/2011/08/Apache-to-Ansys.jpg\n",
      "element 1 has url https://sapr.ru/archive/sg/2011/2/12/v3.jpg\n",
      "element 2 has url https://sapr.ru/archive/sg/2011/2/12/IMGP5532-2.jpg\n",
      "element 3 has url https://sapr.ru/archive/sg/2011/2/12/v2.jpg\n",
      "https://www.google.com/search?q=James%20Cashman%20ANSYS%2C%20Inc.&tbm=isch&tbs=cdr:1,cd_min:1/1/2012,cd_max:12/31/2012\n",
      "James Cashman 2012\n",
      "hover start\n",
      "hover done\n",
      "Found 100 potential image elements\n"
     ]
    },
    {
     "name": "stderr",
     "output_type": "stream",
     "text": [
      "Scraping:  59%|█████████████████▏           | 403/680 [1:34:20<44:06,  9.55s/it]"
     ]
    },
    {
     "name": "stdout",
     "output_type": "stream",
     "text": [
      "element 0 has url https://www.digitalengineering247.com/de/img/multiphysics-highlights-ansys-14-5-release_1.jpg\n",
      "element 1 has url https://gfxspeak.com/wp-content/uploads/2012/11/ANSYS-3Q12-Geo-Pie.png\n",
      "element 2 has url https://www.digitalengineering247.com/de/img/multiphysics-highlights-ansys-14-5-release_4.jpg\n",
      "element 3 has url https://gfxspeak.com/wp-content/uploads/2012/05/ANSYS_Headquarters-e1343943715454.jpg\n",
      "https://www.google.com/search?q=James%20Cashman%20ANSYS%2C%20Inc.&tbm=isch&tbs=cdr:1,cd_min:1/1/2013,cd_max:12/31/2013\n",
      "James Cashman 2013\n",
      "hover start\n",
      "hover done\n",
      "Found 100 potential image elements\n"
     ]
    },
    {
     "name": "stderr",
     "output_type": "stream",
     "text": [
      "Scraping:  59%|█████████████████▏           | 404/680 [1:34:29<42:59,  9.34s/it]"
     ]
    },
    {
     "name": "stdout",
     "output_type": "stream",
     "text": [
      "element 0 has url https://www.sec.gov/Archives/edgar/data/1013462/000119312513146092/g517821pc5.jpg\n",
      "element 1 has url https://www.sec.gov/Archives/edgar/data/1013462/000119312513146092/g517821pc1.jpg\n",
      "element 2 has url https://www.sec.gov/Archives/edgar/data/1013462/000119312513146092/g517821pc7.jpg\n",
      "element 3 has url https://www.sec.gov/Archives/edgar/data/1013462/000119312513146092/g517821tx_pg3a.jpg\n",
      "https://www.google.com/search?q=James%20Cashman%20ANSYS%2C%20Inc.&tbm=isch&tbs=cdr:1,cd_min:1/1/2014,cd_max:12/31/2014\n",
      "James Cashman 2014\n",
      "hover start\n",
      "hover done\n",
      "Found 100 potential image elements\n"
     ]
    },
    {
     "name": "stderr",
     "output_type": "stream",
     "text": [
      "Scraping:  60%|█████████████████▎           | 405/680 [1:34:38<41:52,  9.14s/it]"
     ]
    },
    {
     "name": "stdout",
     "output_type": "stream",
     "text": [
      "element 0 has url http://media.bizj.us/view/img/4533701/jim-cashman*1200xx450-253-0-97.jpg\n",
      "element 1 has url https://www.ishn.com/ext/resources/Vendor_News/Vendor-News-3/Cashman.png\n",
      "element 2 has url https://i0.wp.com/www10.mcadcafe.com/blogs/jeffrowe/files/2016/08/ANSYS_logo.png\n",
      "element 3 has url https://mfgtechupdate.com/wp-content/uploads/2014/11/ANSYS-800x500_c.jpg\n",
      "https://www.google.com/search?q=James%20Cashman%20ANSYS%2C%20Inc.&tbm=isch&tbs=cdr:1,cd_min:1/1/2015,cd_max:12/31/2015\n",
      "James Cashman 2015\n",
      "hover start\n",
      "hover done\n",
      "Found 100 potential image elements\n"
     ]
    },
    {
     "name": "stderr",
     "output_type": "stream",
     "text": [
      "Scraping:  60%|█████████████████▎           | 406/680 [1:34:47<41:30,  9.09s/it]"
     ]
    },
    {
     "name": "stdout",
     "output_type": "stream",
     "text": [
      "element 0 has url https://www.aerospacemanufacturinganddesign.com/FileUploads/image/ansys-newmerical-620x.jpg\n",
      "element 1 has url https://www.digitalengineering247.com/images/article/ANSYS_wireless_620.jpg\n",
      "element 2 has url https://www.digitalengineering247.com/article/wp-content/uploads/2015/02/ANSYS_FSI_620.jpg\n",
      "element 3 has url https://www.digitalengineering247.com/article/wp-content/uploads/2015/02/ANSYS_automotive_300.jpg\n",
      "https://www.google.com/search?q=Ajei%20Gopal%20ANSYS%2C%20Inc.&tbm=isch&tbs=cdr:1,cd_min:1/1/2016,cd_max:12/31/2016\n",
      "Ajei Gopal 2016\n",
      "hover start\n",
      "hover done\n",
      "Found 64 potential image elements\n"
     ]
    },
    {
     "name": "stderr",
     "output_type": "stream",
     "text": [
      "Scraping:  60%|█████████████████▎           | 407/680 [1:34:56<40:54,  8.99s/it]"
     ]
    },
    {
     "name": "stdout",
     "output_type": "stream",
     "text": [
      "element 0 has url https://images.indianexpress.com/2016/08/ajei-gopal-480.jpg\n",
      "element 1 has url https://media.assettype.com/bloombergquint%2Fimport%2Fajei-gopal-ansys-650-400_650x400_51472549821.jpg?w=1200&auto=format%2Ccompress&ogImage=true\n",
      "element 2 has url https://www.theindianpanorama.news/wp-content/uploads/2016/09/AjeiGopal.jpeg\n",
      "element 3 has url http://indusbusinessjournal.com/wp-content/uploads/2016/08/Ajei-S.-Gopal-NDTV.jpg\n",
      "https://www.google.com/search?q=Ajei%20Gopal%20ANSYS%2C%20Inc.&tbm=isch&tbs=cdr:1,cd_min:1/1/2017,cd_max:12/31/2017\n",
      "Ajei Gopal 2017\n",
      "hover start\n",
      "hover done\n",
      "Found 94 potential image elements\n"
     ]
    },
    {
     "name": "stderr",
     "output_type": "stream",
     "text": [
      "Scraping:  60%|█████████████████▍           | 408/680 [1:35:05<40:41,  8.97s/it]"
     ]
    },
    {
     "name": "stdout",
     "output_type": "stream",
     "text": [
      "element 0 has url https://www.digitalengineering247.com/images/virtual-desktop/ANSYS-CEO-Ajei-Gopal-headshot.jpg\n",
      "element 1 has url https://static.toiimg.com/thumb/msid-53924220,imgsize-259418,width-400,resizemode-4/53924220.jpg\n",
      "element 2 has url https://res.cloudinary.com/engineering-com/image/upload/w_350,c_limit,q_auto,f_auto/M_M_jk62bd.jpg\n",
      "element 3 has url https://www.theindianpanorama.news/wp-content/uploads/2017/04/Vivek-Murthy.jpg\n",
      "https://www.google.com/search?q=Ajei%20Gopal%20ANSYS%2C%20Inc.&tbm=isch&tbs=cdr:1,cd_min:1/1/2018,cd_max:12/31/2018\n",
      "Ajei Gopal 2018\n",
      "hover start\n",
      "hover done\n",
      "Found 100 potential image elements\n"
     ]
    },
    {
     "name": "stderr",
     "output_type": "stream",
     "text": [
      "Scraping:  60%|█████████████████▍           | 409/680 [1:35:13<40:08,  8.89s/it]"
     ]
    },
    {
     "name": "stdout",
     "output_type": "stream",
     "text": [
      "element 0 has url https://media.licdn.com/dms/image/v2/C4E03AQEM3clE_4Asuw/profile-displayphoto-shrink_200_200/profile-displayphoto-shrink_200_200/0/1516195618588?e=2147483647&v=beta&t=6O2yqsj7q6SM7JgDdtpsJLY8zTOTMeDsLlZZvofqP-Y\n",
      "element 1 has url https://m.economictimes.com/thumb/msid-53941446,width-1200,height-900,resizemode-4,imgsize-20474/indian-origin-ajei-gopal-named-ceo-of-us-firm-ansys.jpg\n",
      "element 2 has url https://static.toiimg.com/thumb/msid-53923233,width-400,resizemode-4/53923233.jpg\n",
      "element 3 has url https://indianewengland.com/wp-content/uploads/2016/08/Ajei-S.-Gopal-NDTV.jpg\n",
      "https://www.google.com/search?q=Ajei%20Gopal%20ANSYS%2C%20Inc.&tbm=isch&tbs=cdr:1,cd_min:1/1/2019,cd_max:12/31/2019\n",
      "Ajei Gopal 2019\n",
      "hover start\n",
      "hover done\n",
      "Found 100 potential image elements\n"
     ]
    },
    {
     "name": "stderr",
     "output_type": "stream",
     "text": [
      "Scraping:  60%|█████████████████▍           | 410/680 [1:35:22<39:46,  8.84s/it]"
     ]
    },
    {
     "name": "stdout",
     "output_type": "stream",
     "text": [
      "element 0 has url https://s3.amazonaws.com/cco-avatars/9b4b6d23-8be3-4749-aa9a-5ab9b234204-1572274118344-7308.png\n",
      "element 1 has url https://i.ytimg.com/vi/VbUdg0GhHrU/sddefault.jpg\n",
      "element 2 has url https://i.ytimg.com/vi/q_GeSQRgmUY/maxresdefault.jpg\n",
      "element 3 has url https://media.licdn.com/dms/image/v2/C4E03AQFdK7PuEgqnCw/profile-displayphoto-shrink_200_200/profile-displayphoto-shrink_200_200/0/1568679147275?e=2147483647&v=beta&t=1CxAZZdDANByEsoZ8c2MzWcloU0z0VVV1gpyjOc3Zf0\n",
      "https://www.google.com/search?q=Martin%20H.%20Loeffler%20Amphenol%20Corporation&tbm=isch&tbs=cdr:1,cd_min:1/1/2010,cd_max:12/31/2010\n",
      "Martin H. Loeffler 2010\n",
      "hover start\n",
      "hover done\n",
      "Found 100 potential image elements\n"
     ]
    },
    {
     "name": "stderr",
     "output_type": "stream",
     "text": [
      "Scraping:  60%|█████████████████▌           | 411/680 [1:35:31<40:00,  8.93s/it]"
     ]
    },
    {
     "name": "stdout",
     "output_type": "stream",
     "text": [
      "element 0 has url https://www.sec.gov/Archives/edgar/data/820313/000104746903013922/g585800.jpg\n",
      "element 1 has url http://julius_lee.tripod.com/sitebuildercontent/sitebuilderpictures/.pond/dsc_8660enh.jpg.w560h375.jpg\n",
      "element 2 has url http://julius_lee.tripod.com/sitebuildercontent/sitebuilderpictures/.pond/dsc_8675enh.jpg.w560h375.jpg\n",
      "element 3 has url http://julius_lee.tripod.com/sitebuildercontent/sitebuilderpictures/.pond/dsc_8697enh.jpg.w560h375.jpg\n",
      "https://www.google.com/search?q=Martin%20H.%20Loeffler%20Amphenol%20Corporation&tbm=isch&tbs=cdr:1,cd_min:1/1/2011,cd_max:12/31/2011\n",
      "Martin H. Loeffler 2011\n",
      "hover start\n",
      "hover done\n",
      "Found 100 potential image elements\n"
     ]
    },
    {
     "name": "stderr",
     "output_type": "stream",
     "text": [
      "Scraping:  61%|█████████████████▌           | 412/680 [1:35:40<39:55,  8.94s/it]"
     ]
    },
    {
     "name": "stdout",
     "output_type": "stream",
     "text": [
      "element 0 has url http://julius_lee.tripod.com/sitebuildercontent/sitebuilderpictures/dsc_0182.jpg\n",
      "element 1 has url https://omegagammadeltafraternity.com/wp-content/uploads/2016/08/DAmato.jpg\n",
      "element 2 has url https://paladium.nfshost.com/gw/111gs/00g/NewYorkStateGasolineLoc2011A_8d27666r.jpg\n",
      "element 3 has url https://www.2manitowoc.com/schnettlerfrankmathfam.jpg\n",
      "https://www.google.com/search?q=R.%20Adam%20Norwitt%20Amphenol%20Corporation&tbm=isch&tbs=cdr:1,cd_min:1/1/2012,cd_max:12/31/2012\n",
      "R. Adam Norwitt 2012\n",
      "hover start\n",
      "hover done\n",
      "Found 100 potential image elements\n"
     ]
    },
    {
     "name": "stderr",
     "output_type": "stream",
     "text": [
      "Scraping:  61%|█████████████████▌           | 413/680 [1:35:49<39:49,  8.95s/it]"
     ]
    },
    {
     "name": "stdout",
     "output_type": "stream",
     "text": [
      "element 0 has url https://mms.businesswire.com/media/20160601006988/en/526663/4/Mouser-PrimaryHorizontal.jpg\n",
      "element 1 has url https://upload.wikimedia.org/wikipedia/commons/thumb/c/c5/Centronics.jpg/250px-Centronics.jpg\n",
      "element 2 has url https://www.sec.gov/Archives/edgar/data/820313/000110465912012448/g10441bci001.jpg\n",
      "element 3 has url https://i.ytimg.com/vi/uB7jdjsFErM/mqdefault.jpg\n",
      "https://www.google.com/search?q=R.%20Adam%20Norwitt%20Amphenol%20Corporation&tbm=isch&tbs=cdr:1,cd_min:1/1/2013,cd_max:12/31/2013\n",
      "R. Adam Norwitt 2013\n",
      "hover start\n",
      "hover done\n",
      "Found 100 potential image elements\n"
     ]
    },
    {
     "name": "stderr",
     "output_type": "stream",
     "text": [
      "Scraping:  61%|█████████████████▋           | 414/680 [1:35:58<39:34,  8.93s/it]"
     ]
    },
    {
     "name": "stdout",
     "output_type": "stream",
     "text": [
      "element 0 has url https://www.eetimes.com/wp-content/uploads/2013/09/Richard-Norwitt-Amphenol.jpg\n",
      "element 1 has url https://i.ytimg.com/vi/5jwG1ZiZV7s/hqdefault.jpg\n",
      "element 2 has url https://mms.businesswire.com/media/20201209005523/en/365835/21/aph-logo_%28PMS_300_Blue%29.jpg\n",
      "element 3 has url https://www.sec.gov/Archives/edgar/data/820313/000104746913005040/g16692bci002.gif\n",
      "https://www.google.com/search?q=R.%20Adam%20Norwitt%20Amphenol%20Corporation&tbm=isch&tbs=cdr:1,cd_min:1/1/2014,cd_max:12/31/2014\n",
      "R. Adam Norwitt 2014\n",
      "hover start\n",
      "hover done\n",
      "Found 100 potential image elements\n"
     ]
    },
    {
     "name": "stderr",
     "output_type": "stream",
     "text": [
      "Scraping:  61%|█████████████████▋           | 415/680 [1:36:07<39:13,  8.88s/it]"
     ]
    },
    {
     "name": "stdout",
     "output_type": "stream",
     "text": [
      "element 0 has url https://eetimes.com/wp-content/uploads/2013/09/Richard-Norwitt-Amphenol-150x150.jpg\n",
      "element 1 has url http://pbs.twimg.com/profile_images/479982301955117056/hVoWX6_k.jpeg\n",
      "element 2 has url https://www.companieshistory.com/wp-content/uploads/2013/06/Amphenol.jpg\n",
      "element 3 has url https://connectorsupplier.com/wp-content/uploads/NewsBriefs-300x300.gif\n",
      "https://www.google.com/search?q=R.%20Adam%20Norwitt%20Amphenol%20Corporation&tbm=isch&tbs=cdr:1,cd_min:1/1/2015,cd_max:12/31/2015\n",
      "R. Adam Norwitt 2015\n",
      "hover start\n",
      "hover done\n",
      "Found 100 potential image elements\n"
     ]
    },
    {
     "name": "stderr",
     "output_type": "stream",
     "text": [
      "Scraping:  61%|█████████████████▋           | 416/680 [1:36:16<39:15,  8.92s/it]"
     ]
    },
    {
     "name": "stdout",
     "output_type": "stream",
     "text": [
      "element 0 has url https://www.peigenesis.com/images/content/news/aph2009large.png\n",
      "element 1 has url https://www.sec.gov/Archives/edgar/data/820313/000104746915003671/g86412bgi001.gif\n",
      "element 2 has url https://aijourn.com/wp-content/uploads/2025/04/aph-logo_PMS_300_Blue.jpg\n",
      "element 3 has url https://www.sec.gov/Archives/edgar/data/820313/000104746915003671/g86412bgi002.gif\n",
      "https://www.google.com/search?q=R.%20Adam%20Norwitt%20Amphenol%20Corporation&tbm=isch&tbs=cdr:1,cd_min:1/1/2016,cd_max:12/31/2016\n",
      "R. Adam Norwitt 2016\n",
      "hover start\n",
      "hover done\n",
      "Found 100 potential image elements\n"
     ]
    },
    {
     "name": "stderr",
     "output_type": "stream",
     "text": [
      "Scraping:  61%|█████████████████▊           | 417/680 [1:36:25<39:01,  8.90s/it]"
     ]
    },
    {
     "name": "stdout",
     "output_type": "stream",
     "text": [
      "element 0 has url https://mms.businesswire.com/media/20160601006988/en/527991/4/Hi%E2%80%93Res-amph125.jpg\n",
      "element 1 has url http://pbs.twimg.com/profile_images/772589960411111424/kbyVFT6w.jpg\n",
      "element 2 has url https://www.designworldonline.com/wp-content/uploads/2016/01/800px-Amphenol_Logo.jpg\n",
      "element 3 has url https://eodhistoricaldata.com//img/logos/US/aph.png\n",
      "https://www.google.com/search?q=R.%20Adam%20Norwitt%20Amphenol%20Corporation&tbm=isch&tbs=cdr:1,cd_min:1/1/2017,cd_max:12/31/2017\n",
      "R. Adam Norwitt 2017\n",
      "hover start\n",
      "hover done\n",
      "Found 45 potential image elements\n"
     ]
    },
    {
     "name": "stderr",
     "output_type": "stream",
     "text": [
      "Scraping:  61%|█████████████████▊           | 418/680 [1:36:33<37:31,  8.59s/it]"
     ]
    },
    {
     "name": "stdout",
     "output_type": "stream",
     "text": [
      "element 0 has url https://mms.businesswire.com/media/20170927005136/en/614971/5/Norwitt_Amelio.jpg\n",
      "element 1 has url http://pbs.twimg.com/profile_images/877873209240059904/9R2HQ_1d.jpg\n",
      "element 2 has url https://mms.businesswire.com/media/20170927005136/en/592775/5/Avnet_logo_tagline_rgb.jpg\n",
      "element 3 has url https://lookaside.fbsbx.com/lookaside/crawler/media/?media_id=100063778351397\n",
      "https://www.google.com/search?q=R.%20Adam%20Norwitt%20Amphenol%20Corporation&tbm=isch&tbs=cdr:1,cd_min:1/1/2018,cd_max:12/31/2018\n",
      "R. Adam Norwitt 2018\n",
      "hover start\n",
      "hover done\n",
      "Found 100 potential image elements\n"
     ]
    },
    {
     "name": "stderr",
     "output_type": "stream",
     "text": [
      "Scraping:  62%|█████████████████▊           | 419/680 [1:36:42<38:02,  8.75s/it]"
     ]
    },
    {
     "name": "stdout",
     "output_type": "stream",
     "text": [
      "element 0 has url https://media.licdn.com/dms/image/v2/C4D03AQGzIARogk6ccA/profile-displayphoto-shrink_200_200/profile-displayphoto-shrink_200_200/0/1516853229303?e=2147483647&v=beta&t=btA5YOJJxX2InsSfOJqQqYBJ1-dVnfisJI96dqYDL_g\n",
      "element 1 has url x-raw-image:///c9b32fbaa38e257da401f8a773c1f7b9864643ae9a4ffb978ccfd20f6d791b57\n",
      "element 2 has url https://moneyinc.com/wp-content/uploads/2020/04/Nick-Romito.jpg\n",
      "element 3 has url https://www.sec.gov/Archives/edgar/data/820313/000104746918002785/g28172bgi001.gif\n",
      "https://www.google.com/search?q=R.%20Adam%20Norwitt%20Amphenol%20Corporation&tbm=isch&tbs=cdr:1,cd_min:1/1/2019,cd_max:12/31/2019\n",
      "R. Adam Norwitt 2019\n",
      "hover start\n",
      "hover done\n",
      "Found 100 potential image elements\n"
     ]
    },
    {
     "name": "stderr",
     "output_type": "stream",
     "text": [
      "Scraping:  62%|█████████████████▉           | 420/680 [1:36:51<38:04,  8.79s/it]"
     ]
    },
    {
     "name": "stdout",
     "output_type": "stream",
     "text": [
      "element 0 has url https://s.hdnux.com/photos/01/03/57/66/17759631/4/rawImage.jpg\n",
      "element 1 has url https://media.licdn.com/dms/image/v2/C5603AQEvbA5MtOo4pw/profile-displayphoto-shrink_200_200/profile-displayphoto-shrink_200_200/0/1571434432336?e=2147483647&v=beta&t=Y_CMLzCbJsTlprln_W7Ht8WTbpOdbig_4_IuDvOEZEQ\n",
      "element 2 has url https://www.theleadersglobe.com/wp-content/uploads/2019/08/Richard-Adam-Norwitt-President-CEO-Director-Amphenol-Corporation.jpg\n",
      "element 3 has url https://www.sec.gov/Archives/edgar/data/820313/000104746919002292/g24642bci001.gif\n",
      "https://www.google.com/search?q=Keith%20D.%20Jackson%20ON%20Semiconductor%20Corporation&tbm=isch&tbs=cdr:1,cd_min:1/1/2010,cd_max:12/31/2010\n",
      "Keith D. Jackson 2010\n",
      "hover start\n",
      "hover done\n",
      "Found 100 potential image elements\n"
     ]
    },
    {
     "name": "stderr",
     "output_type": "stream",
     "text": [
      "Scraping:  62%|████████████████▋          | 421/680 [1:37:20<1:04:57, 15.05s/it]"
     ]
    },
    {
     "name": "stdout",
     "output_type": "stream",
     "text": [
      "element 0 has url https://mms.businesswire.com/media/20200904005161/en/224031/4/ONVert-3DShadow-Sm.jpg\n",
      "element 1 has url https://ogden_images.s3.amazonaws.com/www.kusports.com/images/2010/08/10144321/Langfordsuit.jpg\n",
      "element 2 has url https://bloximages.chicago2.vip.townnews.com/billingsgazette.com/content/tncms/assets/v3/editorial/5/7e/57e6e646-e452-11de-a069-001cc4c03286/57e6e646-e452-11de-a069-001cc4c03286.image.jpg\n",
      "element 3 has url https://www.tiburonadvisors.com/03%20-%20Web%20Site%20Images/CEO%20Summits/Keith_Banks.jpg\n",
      "https://www.google.com/search?q=Keith%20D.%20Jackson%20ON%20Semiconductor%20Corporation&tbm=isch&tbs=cdr:1,cd_min:1/1/2011,cd_max:12/31/2011\n",
      "Keith D. Jackson 2011\n",
      "hover start\n",
      "hover done\n",
      "Found 100 potential image elements\n"
     ]
    },
    {
     "name": "stderr",
     "output_type": "stream",
     "text": [
      "Scraping:  62%|████████████████▊          | 422/680 [1:37:50<1:24:02, 19.54s/it]"
     ]
    },
    {
     "name": "stdout",
     "output_type": "stream",
     "text": [
      "element 0 has url https://bloximages.chicago2.vip.townnews.com/gazettetimes.com/content/tncms/assets/v3/editorial/d/93/d93f80e2-9e03-11e0-8211-001cc4c002e0/4e03ec92c6791.image.jpg\n",
      "element 1 has url http://www.californiaconversations.com/images/2011Summer/art02-photo003.jpg\n",
      "element 2 has url http://www.thelightindarkness.com/news/wp-content/uploads/2011/02/Bruce-JacksonSoundCheck2.jpg\n",
      "element 3 has url https://baker-swan.com/wp-content/uploads/2021/01/3681130_orig.jpg\n",
      "https://www.google.com/search?q=Keith%20D.%20Jackson%20ON%20Semiconductor%20Corporation&tbm=isch&tbs=cdr:1,cd_min:1/1/2012,cd_max:12/31/2012\n",
      "Keith D. Jackson 2012\n",
      "hover start\n",
      "hover done\n",
      "Found 100 potential image elements\n"
     ]
    },
    {
     "name": "stderr",
     "output_type": "stream",
     "text": [
      "Scraping:  62%|████████████████▊          | 423/680 [1:38:10<1:24:23, 19.70s/it]"
     ]
    },
    {
     "name": "stdout",
     "output_type": "stream",
     "text": [
      "element 0 has url http://media.corporate-ir.net/media_files/irol/11/118532/reports/fcs_ar00/p17-1.jpg\n",
      "element 1 has url http://media.corporate-ir.net/media_files/irol/11/118532/reports/fcs_ar00/p18-1.jpg\n",
      "element 2 has url http://media.corporate-ir.net/media_files/irol/11/118532/reports/fcs_ar00/p18-7.jpg\n",
      "element 3 has url http://media.corporate-ir.net/media_files/irol/11/118532/reports/fcs_ar00/p18-3.jpg\n",
      "https://www.google.com/search?q=Keith%20D.%20Jackson%20ON%20Semiconductor%20Corporation&tbm=isch&tbs=cdr:1,cd_min:1/1/2013,cd_max:12/31/2013\n",
      "Keith D. Jackson 2013\n",
      "hover start\n",
      "hover done\n",
      "Found 100 potential image elements\n"
     ]
    },
    {
     "name": "stderr",
     "output_type": "stream",
     "text": [
      "Scraping:  62%|████████████████▊          | 424/680 [1:38:20<1:11:12, 16.69s/it]"
     ]
    },
    {
     "name": "stdout",
     "output_type": "stream",
     "text": [
      "element 0 has url https://farm9.staticflickr.com/8122/8704262649_9e11125d28_o.jpg\n",
      "element 1 has url https://farm9.staticflickr.com/8401/8704174555_d219bb821a_o.png\n",
      "element 2 has url https://bloximages.newyork1.vip.townnews.com/tulsaworld.com/content/tncms/assets/v3/editorial/d/4c/d4c514be-9a3d-5c45-8ed9-a5753419e784/5249dfd56962d.image.jpg\n",
      "element 3 has url https://upload.wikimedia.org/wikipedia/commons/thumb/d/dd/Keith_Jardine_-_UFC_100_Fan_Expo_-_Mandalay_Bay_Casino%2C_Las_Vegas_%28crop%29.jpg/250px-Keith_Jardine_-_UFC_100_Fan_Expo_-_Mandalay_Bay_Casino%2C_Las_Vegas_%28crop%29.jpg\n",
      "https://www.google.com/search?q=Keith%20D.%20Jackson%20ON%20Semiconductor%20Corporation&tbm=isch&tbs=cdr:1,cd_min:1/1/2014,cd_max:12/31/2014\n",
      "Keith D. Jackson 2014\n",
      "hover start\n",
      "hover done\n",
      "Found 100 potential image elements\n"
     ]
    },
    {
     "name": "stderr",
     "output_type": "stream",
     "text": [
      "Scraping:  62%|████████████████▉          | 425/680 [1:38:30<1:01:54, 14.57s/it]"
     ]
    },
    {
     "name": "stdout",
     "output_type": "stream",
     "text": [
      "element 0 has url https://images.guns.com/wordpress/2014/03/sen-leland-yee-runs-of-sec-of-state.jpg\n",
      "element 1 has url https://upload.wikimedia.org/wikipedia/commons/thumb/d/dd/Keith_Jardine_-_UFC_100_Fan_Expo_-_Mandalay_Bay_Casino%2C_Las_Vegas_%28crop%29.jpg/220px-Keith_Jardine_-_UFC_100_Fan_Expo_-_Mandalay_Bay_Casino%2C_Las_Vegas_%28crop%29.jpg\n",
      "element 2 has url https://churchwithoutboundaries.wordpress.com/wp-content/uploads/2012/07/1ef25-dillon252cjaden252candjack.jpg\n",
      "element 3 has url https://cs3m.mst.edu/media/research/cs3m/images/memberprofiles/yinfa1.jpg\n",
      "https://www.google.com/search?q=Keith%20D.%20Jackson%20ON%20Semiconductor%20Corporation&tbm=isch&tbs=cdr:1,cd_min:1/1/2015,cd_max:12/31/2015\n",
      "Keith D. Jackson 2015\n",
      "hover start\n",
      "hover done\n",
      "Found 100 potential image elements\n"
     ]
    },
    {
     "name": "stderr",
     "output_type": "stream",
     "text": [
      "Scraping:  63%|██████████████████▏          | 426/680 [1:38:39<55:43, 13.16s/it]"
     ]
    },
    {
     "name": "stdout",
     "output_type": "stream",
     "text": [
      "element 0 has url https://mms.businesswire.com/media/20170806005013/en/224031/21/ONVert-3DShadow-Sm.jpg\n",
      "element 1 has url https://www.eecs.psu.edu/webappl/fs-photos/TNJ1.jpg\n",
      "element 2 has url https://www.pressherald.com/wp-content/uploads/sites/4/2015/11/752911_60851-20151118_Fairchild_02.jpg\n",
      "element 3 has url https://www.azquotes.com/picture-quotes/quote-semi-automatic-weapons-are-not-just-about-gun-control-they-re-about-national-security-jesse-jackson-86-79-63.jpg\n",
      "https://www.google.com/search?q=Keith%20D.%20Jackson%20ON%20Semiconductor%20Corporation&tbm=isch&tbs=cdr:1,cd_min:1/1/2016,cd_max:12/31/2016\n",
      "Keith D. Jackson 2016\n",
      "hover start\n",
      "hover done\n",
      "Found 100 potential image elements\n"
     ]
    },
    {
     "name": "stderr",
     "output_type": "stream",
     "text": [
      "Scraping:  63%|██████████████████▏          | 427/680 [1:38:49<51:02, 12.10s/it]"
     ]
    },
    {
     "name": "stdout",
     "output_type": "stream",
     "text": [
      "element 0 has url https://theoldtvnewscoach.wordpress.com/wp-content/uploads/2018/01/keith-jackson-5.jpg?w=800\n",
      "element 1 has url https://images.squarespace-cdn.com/content/v1/56a1735169492e98c1c88acb/1472244651668-YFWIBK9RWRPVBOSAUI85/anderson-web.jpg\n",
      "element 2 has url https://www.journal-isms.com/wp-content/uploads/2017/05/Ebony-team.jpg\n",
      "element 3 has url https://i1.go-optic.com/w900%7Ch600%7Cf/MO_Keith_gold.jpg\n",
      "https://www.google.com/search?q=Keith%20D.%20Jackson%20ON%20Semiconductor%20Corporation&tbm=isch&tbs=cdr:1,cd_min:1/1/2017,cd_max:12/31/2017\n",
      "Keith D. Jackson 2017\n",
      "hover start\n",
      "hover done\n",
      "Found 100 potential image elements\n"
     ]
    },
    {
     "name": "stderr",
     "output_type": "stream",
     "text": [
      "Scraping:  63%|██████████████████▎          | 428/680 [1:38:58<47:21, 11.27s/it]"
     ]
    },
    {
     "name": "stdout",
     "output_type": "stream",
     "text": [
      "element 0 has url https://www.siliconindia.com/images/simag_images/uploaded_images/embed_image/w70j2sushil-Im.jpg\n",
      "element 1 has url https://www.shutterstock.com/shutterstock/photos/177992231/display_1500/stock-photo-los-angeles-feb-keith-urban-jennifer-lopez-harry-connick-jr-ryan-seacrest-randy-jackson-177992231.jpg\n",
      "element 2 has url https://www.siliconindia.com/images/simag_images/uploaded_images/mag_cover/lwauksi%20semiconductor.jpg\n",
      "element 3 has url https://www.shutterstock.com/shutterstock/photos/124127833/display_1500/stock-photo-pasadena-ca-jan-keith-urban-randy-jackson-attends-the-fox-tv-tca-winter-press-tour-at-124127833.jpg\n",
      "https://www.google.com/search?q=Keith%20D.%20Jackson%20ON%20Semiconductor%20Corporation&tbm=isch&tbs=cdr:1,cd_min:1/1/2018,cd_max:12/31/2018\n",
      "Keith D. Jackson 2018\n",
      "hover start\n",
      "hover done\n",
      "Found 100 potential image elements\n"
     ]
    },
    {
     "name": "stderr",
     "output_type": "stream",
     "text": [
      "Scraping:  63%|██████████████████▎          | 429/680 [1:39:07<44:11, 10.56s/it]"
     ]
    },
    {
     "name": "stdout",
     "output_type": "stream",
     "text": [
      "element 0 has url https://www.digitimes.com/newsshow/20180412PR201_files/2_r.jpg\n",
      "element 1 has url https://www.siliconindia.com/images/simag_images/uploaded_images/company_logos/mgsl5.Sudersan-Im.jpg\n",
      "element 2 has url https://i.dailymail.co.uk/i/pix/2018/01/13/18/481C0F2100000578-5266263-The_ABC_Sports_broadcaster_spent_more_than_50_years_from_1952_gi-a-14_1515866959290.jpg\n",
      "element 3 has url https://www.shutterstock.com/shutterstock/photos/177992258/display_1500/stock-photo-los-angeles-feb-keith-urban-jennifer-lopez-harry-connick-jr-ryan-seacrest-randy-jackson-177992258.jpg\n",
      "https://www.google.com/search?q=Keith%20D.%20Jackson%20ON%20Semiconductor%20Corporation&tbm=isch&tbs=cdr:1,cd_min:1/1/2019,cd_max:12/31/2019\n",
      "Keith D. Jackson 2019\n",
      "hover start\n",
      "hover done\n",
      "Found 100 potential image elements\n"
     ]
    },
    {
     "name": "stderr",
     "output_type": "stream",
     "text": [
      "Scraping:  63%|██████████████████▎          | 430/680 [1:39:16<42:06, 10.11s/it]"
     ]
    },
    {
     "name": "stdout",
     "output_type": "stream",
     "text": [
      "element 0 has url https://www.semiconductors.org/wp-content/uploads/2019/11/Jackson-Keith-2016-Outside-683x1024.jpg\n",
      "element 1 has url https://i0.wp.com/eetimes.com/wp-content/uploads/Keith_Jackson.jpg?w=640&ssl=1\n",
      "element 2 has url https://lookaside.fbsbx.com/lookaside/crawler/media/?media_id=100040187301608\n",
      "element 3 has url https://media.licdn.com/dms/image/v2/C4E03AQG2rzGzTG5CkQ/profile-displayphoto-shrink_200_200/profile-displayphoto-shrink_200_200/0/1561780286772?e=2147483647&v=beta&t=XGhI2UIdLQvpEIG1ifB4WUWh3FL_SLN-OYMugvJrZsk\n",
      "https://www.google.com/search?q=Steve%20Sanghi%20Microchip%20Technology%20Incorporated&tbm=isch&tbs=cdr:1,cd_min:1/1/2010,cd_max:12/31/2010\n",
      "Steve Sanghi 2010\n",
      "hover start\n",
      "hover done\n",
      "Found 13 potential image elements\n"
     ]
    },
    {
     "name": "stderr",
     "output_type": "stream",
     "text": [
      "Scraping:  63%|██████████████████▍          | 431/680 [1:39:25<39:47,  9.59s/it]"
     ]
    },
    {
     "name": "stdout",
     "output_type": "stream",
     "text": [
      "element 0 has url https://s.wsj.net/public/resources/images/AK-AJ890_MICROC_G_20100309103030.jpg\n",
      "element 1 has url http://www.cntronics.com/editorfiles/20100309094003_3820.jpg\n",
      "element 2 has url http://www.cntronics.com/editorfiles/20100309093941_8839.jpg\n",
      "element 3 has url https://cdn.rttnews.com/articleimages/ustopstories/2010/august/microchiptechnology-mchp-080510.jpg\n",
      "https://www.google.com/search?q=Steve%20Sanghi%20Microchip%20Technology%20Incorporated&tbm=isch&tbs=cdr:1,cd_min:1/1/2011,cd_max:12/31/2011\n",
      "Steve Sanghi 2011\n",
      "hover start\n",
      "hover done\n",
      "Found 22 potential image elements\n"
     ]
    },
    {
     "name": "stderr",
     "output_type": "stream",
     "text": [
      "Scraping:  64%|██████████████████▍          | 432/680 [1:39:34<38:43,  9.37s/it]"
     ]
    },
    {
     "name": "stdout",
     "output_type": "stream",
     "text": [
      "element 0 has url https://www.firstinspires.org/sites/default/files/uploads/about/leadership/sanghi.jpg\n",
      "element 1 has url https://media.wiley.com/product_data/coverImage300/31/04708299/0470829931.jpg\n",
      "element 2 has url https://upload.wikimedia.org/wikipedia/commons/c/ca/Microchip-Logo.svg\n",
      "element 3 has url https://csimarket.com/news/img_numbers/semiconductors/9.jpg\n",
      "https://www.google.com/search?q=Steve%20Sanghi%20Microchip%20Technology%20Incorporated&tbm=isch&tbs=cdr:1,cd_min:1/1/2012,cd_max:12/31/2012\n",
      "Steve Sanghi 2012\n",
      "hover start\n",
      "hover done\n",
      "Found 100 potential image elements\n"
     ]
    },
    {
     "name": "stderr",
     "output_type": "stream",
     "text": [
      "Scraping:  64%|██████████████████▍          | 433/680 [1:39:43<38:25,  9.33s/it]"
     ]
    },
    {
     "name": "stdout",
     "output_type": "stream",
     "text": [
      "element 0 has url http://i3.ytimg.com/vi/rr6AQt6xSmU/mqdefault.jpg\n",
      "element 1 has url https://i.ytimg.com/vi/QuKXGnpBd-U/mqdefault.jpg\n",
      "element 2 has url https://mms.businesswire.com/media/20130516006202/en/300015/21/MICV4C.jpg\n",
      "element 3 has url https://i0.wp.com/cdn.makezine.com/uploads/2006/11/fjitnecc8meukikv6y.large.jpg?resize=498%2C664&ssl=1\n",
      "https://www.google.com/search?q=Steve%20Sanghi%20Microchip%20Technology%20Incorporated&tbm=isch&tbs=cdr:1,cd_min:1/1/2013,cd_max:12/31/2013\n",
      "Steve Sanghi 2013\n",
      "hover start\n",
      "hover done\n",
      "Found 100 potential image elements\n"
     ]
    },
    {
     "name": "stderr",
     "output_type": "stream",
     "text": [
      "Scraping:  64%|██████████████████▌          | 434/680 [1:39:52<37:37,  9.18s/it]"
     ]
    },
    {
     "name": "stdout",
     "output_type": "stream",
     "text": [
      "element 0 has url https://media.bizj.us/view/img/922571/sanghi-nasdaq-22008.jpg\n",
      "element 1 has url https://assets.bizjournals.com/story_image/226696.jpg?v=1\n",
      "element 2 has url https://www.embedded.com/wp-content/uploads/sites/2/media-1182303-stevesanghi320.jpg\n",
      "element 3 has url https://www.siliconindia.com/magazine/pics/HNMY175793364.jpeg\n",
      "https://www.google.com/search?q=Steve%20Sanghi%20Microchip%20Technology%20Incorporated&tbm=isch&tbs=cdr:1,cd_min:1/1/2014,cd_max:12/31/2014\n",
      "Steve Sanghi 2014\n",
      "hover start\n",
      "hover done\n",
      "Found 80 potential image elements\n"
     ]
    },
    {
     "name": "stderr",
     "output_type": "stream",
     "text": [
      "Scraping:  64%|██████████████████▌          | 435/680 [1:40:00<36:50,  9.02s/it]"
     ]
    },
    {
     "name": "stdout",
     "output_type": "stream",
     "text": [
      "element 0 has url http://media.bizj.us/view/img/922571/sanghi-nasdaq-22008*1200xx720-405-0-38.jpg\n",
      "element 1 has url x-raw-image:///032949e6f696a10f1ce4c6508c5cd5ae735fb45cfe321a681fc5db4b09d3a36c\n",
      "element 2 has url https://s.wsj.net/public/resources/images/BN-EY689_1010ch_G_20141010180416.jpg\n",
      "element 3 has url https://media.glassdoor.com/l/da/01/9e/f3/steve-sanghi-ceo.jpg?signature=c5418203333cd6a97b6f6e1273e5fccf69c1789d44e441946839787de5c940df\n",
      "https://www.google.com/search?q=Steve%20Sanghi%20Microchip%20Technology%20Incorporated&tbm=isch&tbs=cdr:1,cd_min:1/1/2015,cd_max:12/31/2015\n",
      "Steve Sanghi 2015\n",
      "hover start\n",
      "hover done\n",
      "Found 92 potential image elements\n"
     ]
    },
    {
     "name": "stderr",
     "output_type": "stream",
     "text": [
      "Scraping:  64%|██████████████████▌          | 436/680 [1:40:09<36:32,  8.99s/it]"
     ]
    },
    {
     "name": "stdout",
     "output_type": "stream",
     "text": [
      "element 0 has url https://lookaside.fbsbx.com/lookaside/crawler/media/?media_id=10153269437051742\n",
      "element 1 has url https://www.twst.com/wp-content/uploads/2015/09/MED25383-300x300.jpg\n",
      "element 2 has url https://s.wsj.net/public/resources/images/BN-EY689_1010ch_E_20141010180416.jpg\n",
      "element 3 has url https://cdn.prod.website-files.com/5f120050718cc338004649c3/5f4dc6742a37bb97028228e8_2.jpg\n",
      "https://www.google.com/search?q=Steve%20Sanghi%20Microchip%20Technology%20Incorporated&tbm=isch&tbs=cdr:1,cd_min:1/1/2016,cd_max:12/31/2016\n",
      "Steve Sanghi 2016\n",
      "hover start\n",
      "hover done\n",
      "Found 100 potential image elements\n"
     ]
    },
    {
     "name": "stderr",
     "output_type": "stream",
     "text": [
      "Scraping:  64%|██████████████████▋          | 437/680 [1:40:19<36:47,  9.08s/it]"
     ]
    },
    {
     "name": "stdout",
     "output_type": "stream",
     "text": [
      "element 0 has url https://ml.globenewswire.com/Resource/Download/443d82a7-09a7-4ecd-a1b6-6884351a2b14\n",
      "element 1 has url http://media.bizj.us/view/img/4292451/page16sanghisteve*400xx2592-2592-0-162.jpg\n",
      "element 2 has url https://media.gannett-cdn.com/arizonarepublic/brightcove/29901534001/201607/3443/29901534001_5022152805001_4733787036001-vs.jpg?pubId=29901534001&width=660&height=371&format=pjpg&auto=webp\n",
      "element 3 has url https://slideplayer.com/10215625/34/images/slide_1.jpg\n",
      "https://www.google.com/search?q=Steve%20Sanghi%20Microchip%20Technology%20Incorporated&tbm=isch&tbs=cdr:1,cd_min:1/1/2017,cd_max:12/31/2017\n",
      "Steve Sanghi 2017\n",
      "hover start\n",
      "hover done\n",
      "Found 100 potential image elements\n"
     ]
    },
    {
     "name": "stderr",
     "output_type": "stream",
     "text": [
      "Scraping:  64%|██████████████████▋          | 438/680 [1:40:27<36:19,  9.00s/it]"
     ]
    },
    {
     "name": "stdout",
     "output_type": "stream",
     "text": [
      "element 0 has url https://media.bizj.us/view/img/8886692/page05sanghisteve*xx1208-1208-44-0.jpg\n",
      "element 1 has url https://directory-cdn.anymailfinder.com/1659befa-c212-4bf1-87f4-66b64164156e\n",
      "element 2 has url https://media.bizj.us/view/img/10741354/mummy-mountain-estate-livingroom3-v3*1200xx1024-576-0-54.jpg\n",
      "element 3 has url https://kg.diffbot.com/image/api/get?fetch=yes&url=g%3Cj7P0St%7D9u.LnOv%7BI%7C%40g7.pBYINs%3Ff%7CGZ7jr-tGZhWf%3DK%2FOvy%5Bp%3CSKbs8i%7CEyNzCa%3FZp9j%3ELc8%5B2tru%5C%5C7XhR22N4ReEA.I%5Do\n",
      "https://www.google.com/search?q=Steve%20Sanghi%20Microchip%20Technology%20Incorporated&tbm=isch&tbs=cdr:1,cd_min:1/1/2018,cd_max:12/31/2018\n",
      "Steve Sanghi 2018\n",
      "hover start\n",
      "hover done\n",
      "Found 100 potential image elements\n"
     ]
    },
    {
     "name": "stderr",
     "output_type": "stream",
     "text": [
      "Scraping:  65%|██████████████████▋          | 439/680 [1:40:36<35:48,  8.91s/it]"
     ]
    },
    {
     "name": "stdout",
     "output_type": "stream",
     "text": [
      "element 0 has url https://media.bizj.us/view/img/10746960/sanghisteve13*1200xx5184-2916-0-270.jpg\n",
      "element 1 has url https://media.bizj.us/view/img/11036769/sanghisteve08*1200xx5184-2916-0-270.jpg\n",
      "element 2 has url https://media.bizj.us/view/img/10746954/sanghisteve07*1200xx5184-2916-0-270.jpg\n",
      "element 3 has url https://lookaside.fbsbx.com/lookaside/crawler/media/?media_id=10154095574171742\n",
      "https://www.google.com/search?q=Steve%20Sanghi%20Microchip%20Technology%20Incorporated&tbm=isch&tbs=cdr:1,cd_min:1/1/2019,cd_max:12/31/2019\n",
      "Steve Sanghi 2019\n",
      "hover start\n",
      "hover done\n",
      "Found 100 potential image elements\n"
     ]
    },
    {
     "name": "stderr",
     "output_type": "stream",
     "text": [
      "Scraping:  65%|██████████████████▊          | 440/680 [1:40:45<35:48,  8.95s/it]"
     ]
    },
    {
     "name": "stdout",
     "output_type": "stream",
     "text": [
      "element 0 has url https://www.edn.com/wp-content/uploads/contenteetimes-images-edn-events-esc-ace-sanghi-stem-mentor.jpg\n",
      "element 1 has url https://media.bizj.us/view/img/10746957/sanghisteve12.jpg\n",
      "element 2 has url https://www.embedded.com/wp-content/uploads/sites/2/media-1286785-microchipceophp4e1bab13f3787-290x249.jpg\n",
      "element 3 has url https://s.marketwatch.com/public/resources/images/MW-HD445_Sanghi_ZH_20190206122838.jpg\n",
      "https://www.google.com/search?q=David%20J.%20Aldrich%20Skyworks%20Solutions%2C%20Inc.&tbm=isch&tbs=cdr:1,cd_min:1/1/2010,cd_max:12/31/2010\n",
      "David J. Aldrich 2010\n",
      "hover start\n",
      "hover done\n",
      "Found 17 potential image elements\n"
     ]
    },
    {
     "name": "stderr",
     "output_type": "stream",
     "text": [
      "Scraping:  65%|██████████████████▊          | 441/680 [1:40:54<35:02,  8.80s/it]"
     ]
    },
    {
     "name": "stdout",
     "output_type": "stream",
     "text": [
      "element 0 has url https://www.sec.gov/Archives/edgar/data/913142/000095012309006111/c48695dc4869527.jpg\n",
      "element 1 has url https://www.sec.gov/Archives/edgar/data/913142/000095012310032684/c55373c5537314.gif\n",
      "element 2 has url https://www.sec.gov/Archives/edgar/data/913142/000095012310032684/c55373c5537316.gif\n",
      "element 3 has url https://www.sec.gov/Archives/edgar/data/913142/000095012309006111/c48695dc4869523.jpg\n",
      "https://www.google.com/search?q=David%20J.%20Aldrich%20Skyworks%20Solutions%2C%20Inc.&tbm=isch&tbs=cdr:1,cd_min:1/1/2011,cd_max:12/31/2011\n",
      "David J. Aldrich 2011\n",
      "hover start\n",
      "hover done\n",
      "Found 17 potential image elements\n"
     ]
    },
    {
     "name": "stderr",
     "output_type": "stream",
     "text": [
      "Scraping:  65%|██████████████████▊          | 442/680 [1:41:01<33:39,  8.49s/it]"
     ]
    },
    {
     "name": "stdout",
     "output_type": "stream",
     "text": [
      "element 0 has url https://mms.businesswire.com/media/20140731005146/en/240057/5/SkyworksLogo_small.jpg\n",
      "element 1 has url https://www.sec.gov/Archives/edgar/data/4127/000104746911003377/g86403bgi001.gif\n",
      "element 2 has url https://www.sec.gov/Archives/edgar/data/4127/000104746911003377/g86403bgi002.gif\n",
      "element 3 has url https://www.sec.gov/Archives/edgar/data/4127/000104746911003377/g961823.jpg\n",
      "https://www.google.com/search?q=David%20J.%20Aldrich%20Skyworks%20Solutions%2C%20Inc.&tbm=isch&tbs=cdr:1,cd_min:1/1/2012,cd_max:12/31/2012\n",
      "David J. Aldrich 2012\n",
      "hover start\n",
      "hover done\n",
      "Found 32 potential image elements\n"
     ]
    },
    {
     "name": "stderr",
     "output_type": "stream",
     "text": [
      "Scraping:  65%|██████████████████▉          | 443/680 [1:41:10<33:39,  8.52s/it]"
     ]
    },
    {
     "name": "stdout",
     "output_type": "stream",
     "text": [
      "element 0 has url https://www.microwavejournal.com/ext/resources/images/Newsletters/2012/MWFlashImages/SkyOne-Image.jpg\n",
      "element 1 has url https://www.microwavejournal.com/ext/resources/images/Newsletters/2012/MWFlashImages/Skyworks_AAT1274.jpg\n",
      "element 2 has url https://www.sec.gov/Archives/edgar/data/4127/000000412713000014/swks.jpg\n",
      "element 3 has url https://www.sec.gov/Archives/edgar/data/913142/000119312513154065/g466081david.jpg\n",
      "https://www.google.com/search?q=David%20J.%20Aldrich%20Skyworks%20Solutions%2C%20Inc.&tbm=isch&tbs=cdr:1,cd_min:1/1/2013,cd_max:12/31/2013\n",
      "David J. Aldrich 2013\n",
      "hover start\n",
      "hover done\n",
      "Found 74 potential image elements\n"
     ]
    },
    {
     "name": "stderr",
     "output_type": "stream",
     "text": [
      "Scraping:  65%|██████████████████▉          | 444/680 [1:41:19<33:56,  8.63s/it]"
     ]
    },
    {
     "name": "stdout",
     "output_type": "stream",
     "text": [
      "element 0 has url https://www.sec.gov/Archives/edgar/data/4127/000104746913003593/g87343bci001.gif\n",
      "element 1 has url https://www.sec.gov/Archives/edgar/data/4127/000000412713000014/orgchart.jpg\n",
      "element 2 has url https://www.sec.gov/Archives/edgar/data/4127/000104746913003593/g87343bei001.gif\n",
      "element 3 has url https://www.sec.gov/Archives/edgar/data/4127/000104746913003593/g921080.jpg\n",
      "https://www.google.com/search?q=David%20J.%20Aldrich%20Skyworks%20Solutions%2C%20Inc.&tbm=isch&tbs=cdr:1,cd_min:1/1/2014,cd_max:12/31/2014\n",
      "David J. Aldrich 2014\n",
      "hover start\n",
      "hover done\n",
      "Found 56 potential image elements\n"
     ]
    },
    {
     "name": "stderr",
     "output_type": "stream",
     "text": [
      "Scraping:  65%|██████████████████▉          | 445/680 [1:41:28<33:54,  8.66s/it]"
     ]
    },
    {
     "name": "stdout",
     "output_type": "stream",
     "text": [
      "element 0 has url https://mms.businesswire.com/media/20140731005146/en/426134/4/SkyworksPicture-Lobby1.jpg\n",
      "element 1 has url x-raw-image:///00af8c66aa14a2b615f2d568767b9582f8b91e3eb2500c02d5b5076cf8c9631d\n",
      "element 2 has url https://www.microwavejournal.com/ext/resources/images/Newsletters/2014/MW-Flash/SKYWORKS-diode250.jpg\n",
      "element 3 has url x-raw-image:///60ac3cfd55bd99255d58f79b83ae4e7d7c361101adc777b5996dc2ec91c6e0ac\n",
      "https://www.google.com/search?q=David%20J.%20Aldrich%20Skyworks%20Solutions%2C%20Inc.&tbm=isch&tbs=cdr:1,cd_min:1/1/2015,cd_max:12/31/2015\n",
      "David J. Aldrich 2015\n",
      "hover start\n",
      "hover done\n",
      "Found 47 potential image elements\n"
     ]
    },
    {
     "name": "stderr",
     "output_type": "stream",
     "text": [
      "Scraping:  66%|███████████████████          | 446/680 [1:41:36<33:48,  8.67s/it]"
     ]
    },
    {
     "name": "stdout",
     "output_type": "stream",
     "text": [
      "element 0 has url https://www.microwavejournal.com/ext/resources/BuyersGuideImg/2015/Skyworks/SKY65713-11_SKY65715-81.jpg\n",
      "element 1 has url https://www.microwavejournal.com/ext/resources/BuyersGuideImg/2015/Skyworks/SKY82896.jpg\n",
      "element 2 has url https://www.microwavejournal.com/ext/resources/images/Newsletters/Microwave-Flash-2015-A/ISOlink_skyworks13316.jpg\n",
      "element 3 has url https://mms.businesswire.com/media/20151005006797/en/489516/5/PMC_Logo.jpg\n",
      "https://www.google.com/search?q=David%20J.%20Aldrich%20Skyworks%20Solutions%2C%20Inc.&tbm=isch&tbs=cdr:1,cd_min:1/1/2016,cd_max:12/31/2016\n",
      "David J. Aldrich 2016\n",
      "hover start\n",
      "hover done\n",
      "Found 55 potential image elements\n"
     ]
    },
    {
     "name": "stderr",
     "output_type": "stream",
     "text": [
      "Scraping:  66%|███████████████████          | 447/680 [1:41:45<33:50,  8.71s/it]"
     ]
    },
    {
     "name": "stdout",
     "output_type": "stream",
     "text": [
      "element 0 has url https://www.microwavejournal.com/ext/resources/images/Newsletters/Micrwoave-Flash-2016-A/skyworks-aldrich-_griffin.jpg\n",
      "element 1 has url https://cdn.everythingrf.com/live/liam_k_griffen.jpg\n",
      "element 2 has url https://www.microwavejournal.com/ext/resources/BuyersGuideImg/2016/Skyworks/SKY13547-490LF_SKY13548-385LF.jpg\n",
      "element 3 has url https://www.microwavejournal.com/ext/resources/BuyersGuideImg/2016/Skyworks/WLCSP_16B_1-956x1-906x065Angle.jpg\n",
      "https://www.google.com/search?q=David%20J.%20Aldrich%20Skyworks%20Solutions%2C%20Inc.&tbm=isch&tbs=cdr:1,cd_min:1/1/2017,cd_max:12/31/2017\n",
      "David J. Aldrich 2017\n",
      "hover start\n",
      "hover done\n",
      "Found 58 potential image elements\n"
     ]
    },
    {
     "name": "stderr",
     "output_type": "stream",
     "text": [
      "Scraping:  66%|███████████████████          | 448/680 [1:41:54<33:36,  8.69s/it]"
     ]
    },
    {
     "name": "stdout",
     "output_type": "stream",
     "text": [
      "element 0 has url https://mms.businesswire.com/media/20140731005146/en/240057/4/SkyworksLogo_small.jpg\n",
      "element 1 has url https://ml.globenewswire.com/Resource/Download/26d717cd-b8cc-4601-815f-ef1b369099c8?size=2\n",
      "element 2 has url https://www.microwavejournal.com/ext/resources/images/Newsletters/Microwave_Flash-2016-D/skyworksNext-Generation-SkyOne.jpg\n",
      "element 3 has url https://www.sec.gov/Archives/edgar/data/4127/000104746917002308/g119184.jpg\n",
      "https://www.google.com/search?q=Liam%20Griffin%20Skyworks%20Solutions%2C%20Inc.&tbm=isch&tbs=cdr:1,cd_min:1/1/2018,cd_max:12/31/2018\n",
      "Liam Griffin 2018\n",
      "hover start\n",
      "hover done\n",
      "Found 100 potential image elements\n"
     ]
    },
    {
     "name": "stderr",
     "output_type": "stream",
     "text": [
      "Scraping:  66%|███████████████████▏         | 449/680 [1:42:02<33:30,  8.71s/it]"
     ]
    },
    {
     "name": "stdout",
     "output_type": "stream",
     "text": [
      "element 0 has url https://media.licdn.com/dms/image/v2/C5603AQHXrNdkBqd4_A/profile-displayphoto-shrink_200_200/profile-displayphoto-shrink_200_200/0/1517965568162?e=2147483647&v=beta&t=9tV9Yoeg8w0RXHHJHAJ8sClhyZzI9tdcujiDGNC-8KQ\n",
      "element 1 has url https://www.e-sharoshi.com/wp-content/uploads/2018/05/Liam-Griffin_cropped.jpg\n",
      "element 2 has url https://www.mpdigest.com/wp-content/uploads/2017/12/Liam-ColorBG-Sm-Web-253x189.jpg\n",
      "element 3 has url https://media.bizj.us/view/img/9612992/skyworks*xx4500-3375-0-41.jpg\n",
      "https://www.google.com/search?q=Liam%20Griffin%20Skyworks%20Solutions%2C%20Inc.&tbm=isch&tbs=cdr:1,cd_min:1/1/2019,cd_max:12/31/2019\n",
      "Liam Griffin 2019\n",
      "hover start\n",
      "hover done\n",
      "Found 100 potential image elements\n"
     ]
    },
    {
     "name": "stderr",
     "output_type": "stream",
     "text": [
      "Scraping:  66%|███████████████████▏         | 450/680 [1:42:11<33:30,  8.74s/it]"
     ]
    },
    {
     "name": "stdout",
     "output_type": "stream",
     "text": [
      "element 0 has url https://d2gjqh9j26unp0.cloudfront.net/profilepic/87d8508bb07481a83b8705b372ef6798\n",
      "element 1 has url https://mms.businesswire.com/media/20250205535165/en/706583/22/SkyworksLogo_295C.jpg\n",
      "element 2 has url https://www.sec.gov/Archives/edgar/data/935494/000119312519093489/g626623g19g25_color.jpg\n",
      "element 3 has url https://www.thestreet.com/.image/ar_16:9%2Cc_fill%2Ccs_srgb%2Cg_faces:center%2Cq_auto:good%2Cw_768/MTY3NTM5MzU3NzQxODg0ODA3/6-chipmakers-poised-to-benefit-from-the-internet-of-things-massive-growth.png\n",
      "https://www.google.com/search?q=Michael%20Hsing%20Monolithic%20Power%20Systems%2C%20Inc.&tbm=isch&tbs=cdr:1,cd_min:1/1/2010,cd_max:12/31/2010\n",
      "Michael Hsing 2010\n",
      "hover start\n",
      "hover done\n",
      "Found 100 potential image elements\n"
     ]
    },
    {
     "name": "stderr",
     "output_type": "stream",
     "text": [
      "Scraping:  66%|███████████████████▏         | 451/680 [1:42:20<33:32,  8.79s/it]"
     ]
    },
    {
     "name": "stdout",
     "output_type": "stream",
     "text": [
      "element 0 has url https://www.sec.gov/Archives/edgar/data/1280452/000119312504198739/g52301ifc.jpg\n",
      "element 1 has url https://www.sec.gov/Archives/edgar/data/1280452/000119312504198739/g52301bc.jpg\n",
      "element 2 has url https://www.sec.gov/Archives/edgar/data/1213018/000095012311026956/b81234a3b8123401.gif\n",
      "element 3 has url https://cds.ismrm.org/protected/10MProceedings/Content/images/welcome.jpg\n",
      "https://www.google.com/search?q=Michael%20Hsing%20Monolithic%20Power%20Systems%2C%20Inc.&tbm=isch&tbs=cdr:1,cd_min:1/1/2011,cd_max:12/31/2011\n",
      "Michael Hsing 2011\n",
      "hover start\n",
      "hover done\n",
      "Found 19 potential image elements\n"
     ]
    },
    {
     "name": "stderr",
     "output_type": "stream",
     "text": [
      "Scraping:  66%|███████████████████▎         | 452/680 [1:42:29<33:05,  8.71s/it]"
     ]
    },
    {
     "name": "stdout",
     "output_type": "stream",
     "text": [
      "element 0 has url https://www.sec.gov/Archives/edgar/data/1280452/000143774911001307/ea10.jpg\n",
      "element 1 has url https://www.sec.gov/Archives/edgar/data/1280452/000143774911001307/ea1.jpg\n",
      "element 2 has url https://www.sec.gov/Archives/edgar/data/1280452/000143774911001307/ea2.jpg\n",
      "element 3 has url https://www.sec.gov/Archives/edgar/data/1280452/000143774911001307/ea9.jpg\n",
      "https://www.google.com/search?q=Michael%20Hsing%20Monolithic%20Power%20Systems%2C%20Inc.&tbm=isch&tbs=cdr:1,cd_min:1/1/2012,cd_max:12/31/2012\n",
      "Michael Hsing 2012\n",
      "hover start\n",
      "hover done\n",
      "Found 100 potential image elements\n"
     ]
    },
    {
     "name": "stderr",
     "output_type": "stream",
     "text": [
      "Scraping:  67%|███████████████████▎         | 453/680 [1:42:38<33:17,  8.80s/it]"
     ]
    },
    {
     "name": "stdout",
     "output_type": "stream",
     "text": [
      "element 0 has url https://cdn.prod.website-files.com/65439ac73203b83ceadfcc1d/6554a09f5759a1d707f77666_PRI%20Sig%20White.png\n",
      "element 1 has url https://www.edal.com.hk/wp-content/uploads/2021/06/17.jpg\n",
      "element 2 has url https://www.sec.gov/Archives/edgar/data/1016073/000119312518068510/g494768logo_01statpro.jpg\n",
      "element 3 has url https://lazure2.wordpress.com/wp-content/uploads/2012/11/21.gif?w=584\n",
      "https://www.google.com/search?q=Michael%20Hsing%20Monolithic%20Power%20Systems%2C%20Inc.&tbm=isch&tbs=cdr:1,cd_min:1/1/2013,cd_max:12/31/2013\n",
      "Michael Hsing 2013\n",
      "hover start\n",
      "hover done\n",
      "Found 100 potential image elements\n"
     ]
    },
    {
     "name": "stderr",
     "output_type": "stream",
     "text": [
      "Scraping:  67%|███████████████████▎         | 454/680 [1:42:47<33:55,  9.01s/it]"
     ]
    },
    {
     "name": "stdout",
     "output_type": "stream",
     "text": [
      "element 0 has url x-raw-image:///1c6d415114e4be46983088a7621d6e38010360cdaaa1a77b1b53872c2bc2d44c\n",
      "element 1 has url https://www.sec.gov/Archives/edgar/data/1280452/000143774913002333/image.jpg\n",
      "element 2 has url x-raw-image:///afc66fca0ecd1064f658dd9e9f544f8213d80af31783447f2d01987d4ca89568\n",
      "element 3 has url x-raw-image:///a538322624459f053ac7fbe4ed40d1b6759b554960fb76c9966c1e15ec2838f6\n",
      "https://www.google.com/search?q=Michael%20Hsing%20Monolithic%20Power%20Systems%2C%20Inc.&tbm=isch&tbs=cdr:1,cd_min:1/1/2014,cd_max:12/31/2014\n",
      "Michael Hsing 2014\n",
      "hover start\n",
      "hover done\n",
      "Found 100 potential image elements\n"
     ]
    },
    {
     "name": "stderr",
     "output_type": "stream",
     "text": [
      "Scraping:  67%|███████████████████▍         | 455/680 [1:42:56<33:25,  8.91s/it]"
     ]
    },
    {
     "name": "stdout",
     "output_type": "stream",
     "text": [
      "element 0 has url http://www.trading4living.de/t4l_wp_/wp-content/uploads/2014/01/Chip-Computer-Technologie-570x172_c.jpg\n",
      "element 1 has url x-raw-image:///b369f48055aa17e49bbc65518a7442a5e26635881ef16e8d712db1d8e4eb1ef2\n",
      "element 2 has url x-raw-image:///a8f62130dd214d7d10b85f0180de767dad76753b1ee42bd6c118d4d7a5635268\n",
      "element 3 has url x-raw-image:///032d9cc583c83a1756dd08bc9d02639c2d71b36f60c13948d3b3d10089c1d308\n",
      "https://www.google.com/search?q=Michael%20Hsing%20Monolithic%20Power%20Systems%2C%20Inc.&tbm=isch&tbs=cdr:1,cd_min:1/1/2015,cd_max:12/31/2015\n",
      "Michael Hsing 2015\n",
      "hover start\n",
      "hover done\n",
      "Found 100 potential image elements\n"
     ]
    },
    {
     "name": "stderr",
     "output_type": "stream",
     "text": [
      "Scraping:  67%|███████████████████▍         | 456/680 [1:43:05<33:34,  8.99s/it]"
     ]
    },
    {
     "name": "stdout",
     "output_type": "stream",
     "text": [
      "element 0 has url x-raw-image:///9ea13eb9ddf5de0149fb0f0d544c30c8e94ea9b77c3fb57e840bbcbd12d7a8e7\n",
      "element 1 has url x-raw-image:///f3e71cceba1225c1f94e8246e5151f05b51cdc0b3f39bfa15836403fbe95077e\n",
      "element 2 has url x-raw-image:///0c69d20651316d06d8721a77feef86b54eb3dc07c43af1f4389ee9b444197c8a\n",
      "element 3 has url https://imonkey-blog.imgix.net/blog/wp-content/uploads/2016/02/09120502/shutterstock_145160464.jpg\n",
      "https://www.google.com/search?q=Michael%20Hsing%20Monolithic%20Power%20Systems%2C%20Inc.&tbm=isch&tbs=cdr:1,cd_min:1/1/2016,cd_max:12/31/2016\n",
      "Michael Hsing 2016\n",
      "hover start\n",
      "hover done\n",
      "Found 99 potential image elements\n"
     ]
    },
    {
     "name": "stderr",
     "output_type": "stream",
     "text": [
      "Scraping:  67%|███████████████████▍         | 457/680 [1:43:14<33:32,  9.02s/it]"
     ]
    },
    {
     "name": "stdout",
     "output_type": "stream",
     "text": [
      "element 0 has url https://eodhistoricaldata.com//img/logos/US/MPwr.png\n",
      "element 1 has url https://www.edal.com.hk/wp-content/uploads/2021/11/Macronix-logo.png\n",
      "element 2 has url https://www.sec.gov/Archives/edgar/data/1280452/000143774916026344/a1.jpg\n",
      "element 3 has url x-raw-image:///f18a5332b92000522bcb2d4ca1020d0e2d9733de79b2d9ca8021a6d094df00ee\n",
      "https://www.google.com/search?q=Michael%20Hsing%20Monolithic%20Power%20Systems%2C%20Inc.&tbm=isch&tbs=cdr:1,cd_min:1/1/2017,cd_max:12/31/2017\n",
      "Michael Hsing 2017\n",
      "hover start\n",
      "hover done\n",
      "Found 100 potential image elements\n"
     ]
    },
    {
     "name": "stderr",
     "output_type": "stream",
     "text": [
      "Scraping:  67%|███████████████████▌         | 458/680 [1:43:23<33:22,  9.02s/it]"
     ]
    },
    {
     "name": "stdout",
     "output_type": "stream",
     "text": [
      "element 0 has url https://image4.owler.com/ceo/Craig_Waldenmaier_owler_20161227_214234_original.png\n",
      "element 1 has url https://image4.owler.com/ceo/Tunc_Doluca_owler_20170829_202033_original.jpg\n",
      "element 2 has url https://www.semiw.com/images/companyimg/506.png\n",
      "element 3 has url https://www.amity.edu/spin2020/images/invited_talk/Michael_Vorl%C3%A4nder.jpg\n",
      "https://www.google.com/search?q=Michael%20Hsing%20Monolithic%20Power%20Systems%2C%20Inc.&tbm=isch&tbs=cdr:1,cd_min:1/1/2018,cd_max:12/31/2018\n",
      "Michael Hsing 2018\n",
      "hover start\n",
      "hover done\n",
      "Found 100 potential image elements\n"
     ]
    },
    {
     "name": "stderr",
     "output_type": "stream",
     "text": [
      "Scraping:  68%|███████████████████▌         | 459/680 [1:43:32<33:06,  8.99s/it]"
     ]
    },
    {
     "name": "stdout",
     "output_type": "stream",
     "text": [
      "element 0 has url https://media.monolithicpower.com/wysiwyg/about-mps-banner.png\n",
      "element 1 has url https://ml.globenewswire.com/Resource/Download/90312dc5-2616-4bcb-8502-4249847b1b7b\n",
      "element 2 has url https://media.monolithicpower.com/wysiwyg/map.png\n",
      "element 3 has url https://blog.kakaocdn.net/dn/dOoj6F/btsHmyarPg6/mbkKi2qjJw8FvOl4tf9JR1/img.png\n",
      "https://www.google.com/search?q=Michael%20Hsing%20Monolithic%20Power%20Systems%2C%20Inc.&tbm=isch&tbs=cdr:1,cd_min:1/1/2019,cd_max:12/31/2019\n",
      "Michael Hsing 2019\n",
      "hover start\n",
      "hover done\n",
      "Found 100 potential image elements\n"
     ]
    },
    {
     "name": "stderr",
     "output_type": "stream",
     "text": [
      "Scraping:  68%|███████████████████▌         | 460/680 [1:43:41<33:04,  9.02s/it]"
     ]
    },
    {
     "name": "stdout",
     "output_type": "stream",
     "text": [
      "element 0 has url https://cdn.i-scmp.com/sites/default/files/2015/07/07/dr_monolithic_-_michael_hsing_50901627.jpg\n",
      "element 1 has url https://media.monolithicpower.com/wysiwyg/our-values-board.png\n",
      "element 2 has url https://i.ytimg.com/vi/UpjPDh98tsU/maxresdefault.jpg\n",
      "element 3 has url https://cdn.theorg.com/042abb5e-5beb-4086-b967-cda38dfc5e39_thumb.jpg\n",
      "https://www.google.com/search?q=Paul%20Nahi%20Enphase%20Energy%2C%20Inc.&tbm=isch&tbs=cdr:1,cd_min:1/1/2010,cd_max:12/31/2010\n",
      "Paul Nahi 2010\n",
      "hover start\n",
      "hover done\n",
      "Found 18 potential image elements\n"
     ]
    },
    {
     "name": "stderr",
     "output_type": "stream",
     "text": [
      "Scraping:  68%|███████████████████▋         | 461/680 [1:43:50<32:35,  8.93s/it]"
     ]
    },
    {
     "name": "stdout",
     "output_type": "stream",
     "text": [
      "element 0 has url https://images.fastcompany.com/image/upload/imgs-fc-com/Environ_72.5.jpg\n",
      "element 1 has url http://images.forbes.com/media/2010/10/20/1020_limo-fertig-brillant_400x400.jpg\n",
      "element 2 has url http://images.forbes.com/media/2010/10/20/1020_anschutz_400x400.jpg\n",
      "element 3 has url https://eyreinternational.wordpress.com/wp-content/uploads/2013/01/220px-ban_ki-moon_1-2.jpg\n",
      "https://www.google.com/search?q=Paul%20Nahi%20Enphase%20Energy%2C%20Inc.&tbm=isch&tbs=cdr:1,cd_min:1/1/2011,cd_max:12/31/2011\n",
      "Paul Nahi 2011\n",
      "hover start\n",
      "hover done\n",
      "Found 50 potential image elements\n"
     ]
    },
    {
     "name": "stderr",
     "output_type": "stream",
     "text": [
      "Scraping:  68%|███████████████████▋         | 462/680 [1:43:58<32:04,  8.83s/it]"
     ]
    },
    {
     "name": "stdout",
     "output_type": "stream",
     "text": [
      "element 0 has url https://www.sec.gov/Archives/edgar/data/1463101/000119312511165822/g195596g36z74.jpg\n",
      "element 1 has url https://www.sec.gov/Archives/edgar/data/1463101/000119312511165822/g195596g14w87.jpg\n",
      "element 2 has url https://www.sec.gov/Archives/edgar/data/1463101/000119312511165822/g195596g80o12.jpg\n",
      "element 3 has url https://www.sec.gov/Archives/edgar/data/1463101/000119312511165822/g195596g41d62.jpg\n",
      "https://www.google.com/search?q=Paul%20Nahi%20Enphase%20Energy%2C%20Inc.&tbm=isch&tbs=cdr:1,cd_min:1/1/2012,cd_max:12/31/2012\n",
      "Paul Nahi 2012\n",
      "hover start\n",
      "hover done\n",
      "Found 82 potential image elements\n"
     ]
    },
    {
     "name": "stderr",
     "output_type": "stream",
     "text": [
      "Scraping:  68%|███████████████████▋         | 463/680 [1:44:07<31:43,  8.77s/it]"
     ]
    },
    {
     "name": "stdout",
     "output_type": "stream",
     "text": [
      "element 0 has url https://solarbuildermag.com/wp-content/uploads/2012/11/enphase_logo.jpg\n",
      "element 1 has url https://www.sec.gov/Archives/edgar/data/1463101/000119312512141313/g195596ifc_pg001.jpg\n",
      "element 2 has url https://i.mkt.lu/cont/51006/280/240/energia-solar.jpg\n",
      "element 3 has url https://www.sec.gov/Archives/edgar/data/1463101/000119312512141313/g195596g59b31.jpg\n",
      "https://www.google.com/search?q=Paul%20Nahi%20Enphase%20Energy%2C%20Inc.&tbm=isch&tbs=cdr:1,cd_min:1/1/2013,cd_max:12/31/2013\n",
      "Paul Nahi 2013\n",
      "hover start\n",
      "hover done\n",
      "Found 100 potential image elements\n"
     ]
    },
    {
     "name": "stderr",
     "output_type": "stream",
     "text": [
      "Scraping:  68%|███████████████████▊         | 464/680 [1:44:16<31:31,  8.76s/it]"
     ]
    },
    {
     "name": "stdout",
     "output_type": "stream",
     "text": [
      "element 0 has url x-raw-image:///f5922c90df2106499043d89566fe1471a0326990445889f14e74dcb4b6d877d5\n",
      "element 1 has url http://mms.businesswire.com/media/20130709006290/en/375458/4/Enphase_Energy_M250.jpg\n",
      "element 2 has url https://mms.businesswire.com/media/20140114005571/en/318573/5/Corporate_Logo.jpg\n",
      "element 3 has url http://mms.businesswire.com/media/20130530006065/en/370950/4/1940_North_Temple.jpg\n",
      "https://www.google.com/search?q=Paul%20Nahi%20Enphase%20Energy%2C%20Inc.&tbm=isch&tbs=cdr:1,cd_min:1/1/2014,cd_max:12/31/2014\n",
      "Paul Nahi 2014\n",
      "hover start\n",
      "hover done\n",
      "Found 100 potential image elements\n"
     ]
    },
    {
     "name": "stderr",
     "output_type": "stream",
     "text": [
      "Scraping:  68%|███████████████████▊         | 465/680 [1:44:25<31:30,  8.80s/it]"
     ]
    },
    {
     "name": "stdout",
     "output_type": "stream",
     "text": [
      "element 0 has url http://mms.businesswire.com/media/20140114005571/en/399055/4/m215_HERO_marketing_FINAL_noshadow.jpg\n",
      "element 1 has url https://project.nikkeibp.co.jp/ms/article/COLUMN/20141028/385521/kw20141029jm02.jpg\n",
      "element 2 has url https://proxy.imagearchive.com/db8/db87acd499483a7a6971045299851df7.jpg\n",
      "element 3 has url https://www.northstatesolarenergy.com/WebsitePictures/2014_08_28_BearRepublic_5D3_8724.jpg\n",
      "https://www.google.com/search?q=Paul%20Nahi%20Enphase%20Energy%2C%20Inc.&tbm=isch&tbs=cdr:1,cd_min:1/1/2015,cd_max:12/31/2015\n",
      "Paul Nahi 2015\n",
      "hover start\n",
      "hover done\n",
      "Found 40 potential image elements\n"
     ]
    },
    {
     "name": "stderr",
     "output_type": "stream",
     "text": [
      "Scraping:  69%|███████████████████▊         | 466/680 [1:44:33<31:19,  8.78s/it]"
     ]
    },
    {
     "name": "stdout",
     "output_type": "stream",
     "text": [
      "element 0 has url https://www.sec.gov/Archives/edgar/data/1463101/000119312515379792/g51941img_page04.jpg\n",
      "element 1 has url https://www.sec.gov/Archives/edgar/data/1463101/000119312515379792/g51941img_page03.jpg\n",
      "element 2 has url https://www.sec.gov/Archives/edgar/data/1463101/000119312515379792/g51941img_page01.jpg\n",
      "element 3 has url https://www.sec.gov/Archives/edgar/data/1463101/000119312515379792/g51941img_page02.jpg\n",
      "https://www.google.com/search?q=Paul%20Nahi%20Enphase%20Energy%2C%20Inc.&tbm=isch&tbs=cdr:1,cd_min:1/1/2016,cd_max:12/31/2016\n",
      "Paul Nahi 2016\n",
      "hover start\n",
      "hover done\n",
      "Found 100 potential image elements\n"
     ]
    },
    {
     "name": "stderr",
     "output_type": "stream",
     "text": [
      "Scraping:  69%|███████████████████▉         | 467/680 [1:44:42<31:27,  8.86s/it]"
     ]
    },
    {
     "name": "stdout",
     "output_type": "stream",
     "text": [
      "element 0 has url https://www.pv-magazine.com/wp-content/uploads/2017/06/enphase_offices_web.jpg\n",
      "element 1 has url https://www.pv-magazine.com/wp-content/uploads/2017/06/enphase_offices_web-280x280.jpg\n",
      "element 2 has url https://img.saurenergy.com/2016/11/Enphase-Energy.jpg\n",
      "element 3 has url https://onestepoffthegrid.com.au/wp-content/uploads/2015/09/Battery-Banner_Short_hero-ORANGE-WEB-e1441763889545-1.jpg\n",
      "https://www.google.com/search?q=Paul%20Nahi%20Enphase%20Energy%2C%20Inc.&tbm=isch&tbs=cdr:1,cd_min:1/1/2017,cd_max:12/31/2017\n",
      "Paul Nahi 2017\n",
      "hover start\n",
      "hover done\n",
      "Found 100 potential image elements\n"
     ]
    },
    {
     "name": "stderr",
     "output_type": "stream",
     "text": [
      "Scraping:  69%|███████████████████▉         | 468/680 [1:44:51<31:17,  8.86s/it]"
     ]
    },
    {
     "name": "stdout",
     "output_type": "stream",
     "text": [
      "element 0 has url https://solarindustrymag.com/wp-content/uploads/2019/06/badri-headshot-487x487.jpg\n",
      "element 1 has url https://i.ytimg.com/vi/r0nnBOXl9vE/mqdefault.jpg\n",
      "element 2 has url https://ars.els-cdn.com/content/image/1-s2.0-S1755008415300223-fx1.jpg\n",
      "element 3 has url https://www.pv-magazine.com/wp-content/uploads/2017/01/2017-01-12-10_07_06-2017-01-12-09_46_11-enphase-micro-inverter-on-custom-mounting-system_900.jpg-and.png\n",
      "https://www.google.com/search?q=Badri%20Kothandaraman%20Enphase%20Energy%2C%20Inc.&tbm=isch&tbs=cdr:1,cd_min:1/1/2018,cd_max:12/31/2018\n",
      "Badri Kothandaraman 2018\n",
      "hover start\n",
      "hover done\n",
      "Found 100 potential image elements\n"
     ]
    },
    {
     "name": "stderr",
     "output_type": "stream",
     "text": [
      "Scraping:  69%|████████████████████         | 469/680 [1:45:00<30:58,  8.81s/it]"
     ]
    },
    {
     "name": "stdout",
     "output_type": "stream",
     "text": [
      "element 0 has url https://d2gjqh9j26unp0.cloudfront.net/profilepic/691a74a00960fe80456d0ac2434e6cad\n",
      "element 1 has url https://img.saurenergy.com/2018/06/sun-power-265x171.jpg\n",
      "element 2 has url https://cdn.theorg.com/238d6475-c068-45fe-a87e-1e8c327c9c61_medium.jpg\n",
      "element 3 has url https://climatesamurai.com/wp-content/uploads/2017/12/enphase-energy-logo-3.jpg\n",
      "https://www.google.com/search?q=Badri%20Kothandaraman%20Enphase%20Energy%2C%20Inc.&tbm=isch&tbs=cdr:1,cd_min:1/1/2019,cd_max:12/31/2019\n",
      "Badri Kothandaraman 2019\n",
      "hover start\n",
      "hover done\n",
      "Found 100 potential image elements\n"
     ]
    },
    {
     "name": "stderr",
     "output_type": "stream",
     "text": [
      "Scraping:  69%|████████████████████         | 470/680 [1:45:09<30:54,  8.83s/it]"
     ]
    },
    {
     "name": "stdout",
     "output_type": "stream",
     "text": [
      "element 0 has url https://newsroom.enphase.com/system/files-encrypted/styles/large/encrypt/nasdaq_kms/people/2019/08/02/6-42-39/BadriKothandaraman_color_final_%202019_06_04_0290%20%281%29.jpg?itok=lU7cm2mr\n",
      "element 1 has url https://i.ytimg.com/vi/r-EaIvzET2Q/mqdefault.jpg\n",
      "element 2 has url https://i.ytimg.com/vi/r-EaIvzET2Q/sddefault.jpg\n",
      "element 3 has url https://cdn.theorg.com/94a2d162-4a20-4f39-8861-c9c44f1bf3fd_thumb.jpg\n",
      "https://www.google.com/search?q=Guy%20Sella%20SolarEdge%20Technologies%2C%20Inc.&tbm=isch&tbs=cdr:1,cd_min:1/1/2010,cd_max:12/31/2010\n",
      "Guy Sella 2010\n",
      "hover start\n",
      "hover done\n",
      "Found 100 potential image elements\n"
     ]
    },
    {
     "name": "stderr",
     "output_type": "stream",
     "text": [
      "Scraping:  69%|████████████████████         | 471/680 [1:45:18<31:00,  8.90s/it]"
     ]
    },
    {
     "name": "stdout",
     "output_type": "stream",
     "text": [
      "element 0 has url https://www.greenprophet.com/wp-content/uploads/2009/11/solaredge-R1.jpg\n",
      "element 1 has url https://www.greenprophet.com/wp-content/uploads/2010/09/synagogue.jpg\n",
      "element 2 has url https://www.greenprophet.com/wp-content/uploads/2008/12/1427559268_5c87d41ddf-300x211.jpg\n",
      "element 3 has url https://www.cnet.com/a/img/hub/2010/09/30/68e96717-cc2e-11e2-9a4a-0291187b029a/5DIronMan_1.jpg\n",
      "https://www.google.com/search?q=Guy%20Sella%20SolarEdge%20Technologies%2C%20Inc.&tbm=isch&tbs=cdr:1,cd_min:1/1/2011,cd_max:12/31/2011\n",
      "Guy Sella 2011\n",
      "hover start\n",
      "hover done\n",
      "Found 4 potential image elements\n"
     ]
    },
    {
     "name": "stderr",
     "output_type": "stream",
     "text": [
      "Scraping:  69%|████████████████████▏        | 472/680 [1:45:27<30:33,  8.81s/it]"
     ]
    },
    {
     "name": "stdout",
     "output_type": "stream",
     "text": [
      "element 0 has url https://images.globes.co.il/Images/NewGlobes/big_image/2011/h00_sela3[6.jpg\n",
      "element 1 has url https://cdn-news.warriortrading.com/wp-content/uploads/2016/02/19183221/SEDG-Logo.png\n",
      "element 2 has url https://images.globes.co.il/Images/NewGlobes/big_image/2011/30513378[6.jpg\n",
      "element 3 has url https://i.ytimg.com/vi/48O9YqBitL0/0.jpg\n",
      "https://www.google.com/search?q=Guy%20Sella%20SolarEdge%20Technologies%2C%20Inc.&tbm=isch&tbs=cdr:1,cd_min:1/1/2012,cd_max:12/31/2012\n",
      "Guy Sella 2012\n",
      "hover start\n",
      "hover done\n",
      "Found 100 potential image elements\n"
     ]
    },
    {
     "name": "stderr",
     "output_type": "stream",
     "text": [
      "Scraping:  70%|████████████████████▏        | 473/680 [1:45:35<30:20,  8.80s/it]"
     ]
    },
    {
     "name": "stdout",
     "output_type": "stream",
     "text": [
      "element 0 has url http://i2.ytimg.com/vi/UrxWTGAJNf4/mqdefault.jpg\n",
      "element 1 has url https://cdn-news.warriortrading.com/wp-content/uploads/2015/11/19183443/solar-edge-logo.jpg\n",
      "element 2 has url https://i.ytimg.com/vi/WybhbXfUyrY/mqdefault.jpg\n",
      "element 3 has url https://i.ytimg.com/vi/4K21sKzCf4M/hqdefault.jpg\n",
      "https://www.google.com/search?q=Guy%20Sella%20SolarEdge%20Technologies%2C%20Inc.&tbm=isch&tbs=cdr:1,cd_min:1/1/2013,cd_max:12/31/2013\n",
      "Guy Sella 2013\n",
      "hover start\n",
      "hover done\n",
      "Found 100 potential image elements\n"
     ]
    },
    {
     "name": "stderr",
     "output_type": "stream",
     "text": [
      "Scraping:  70%|████████████████████▏        | 474/680 [1:45:44<30:09,  8.79s/it]"
     ]
    },
    {
     "name": "stdout",
     "output_type": "stream",
     "text": [
      "element 0 has url https://pic1.calcalist.co.il/PicServer2/20122005/332252/ECO129540_L.jpg\n",
      "element 1 has url https://pic1.calcalist.co.il/PicServer2/20122005/367808/AMIT-100913-22412034_l.jpg\n",
      "element 2 has url https://cdn-news.warriortrading.com/wp-content/uploads/2015/11/19183443/SolarEdge_logo.svg_.png\n",
      "element 3 has url https://www.powersystemsdesign.com/images/articles/1384946937Jo_Bild_TU_1(Medium).jpg\n",
      "https://www.google.com/search?q=Guy%20Sella%20SolarEdge%20Technologies%2C%20Inc.&tbm=isch&tbs=cdr:1,cd_min:1/1/2014,cd_max:12/31/2014\n",
      "Guy Sella 2014\n",
      "hover start\n",
      "hover done\n",
      "Found 100 potential image elements\n"
     ]
    },
    {
     "name": "stderr",
     "output_type": "stream",
     "text": [
      "Scraping:  70%|████████████████████▎        | 475/680 [1:45:53<30:12,  8.84s/it]"
     ]
    },
    {
     "name": "stdout",
     "output_type": "stream",
     "text": [
      "element 0 has url https://media.zenfs.com/en/simply_wall_st__316/806bd53887af8a7ca58363fa0452e686\n",
      "element 1 has url https://247wallst.com/wp-content/uploads/2014/09/176952591.jpg\n",
      "element 2 has url https://www.solarpowerworldonline.com/wp-content/uploads/2014/06/solaredge-300x117.jpg\n",
      "element 3 has url https://israelscienceinfo.com/wp-content/uploads/2014/03/Capture-decran-2014-03-27-a-15.38.52.png\n",
      "https://www.google.com/search?q=Guy%20Sella%20SolarEdge%20Technologies%2C%20Inc.&tbm=isch&tbs=cdr:1,cd_min:1/1/2015,cd_max:12/31/2015\n",
      "Guy Sella 2015\n",
      "hover start\n",
      "hover done\n",
      "Found 100 potential image elements\n"
     ]
    },
    {
     "name": "stderr",
     "output_type": "stream",
     "text": [
      "Scraping:  70%|████████████████████▎        | 476/680 [1:46:02<30:07,  8.86s/it]"
     ]
    },
    {
     "name": "stdout",
     "output_type": "stream",
     "text": [
      "element 0 has url https://images.globes.co.il/images/NewGlobes/big_image_800/2015/mo_032615_hires-800.jpg\n",
      "element 1 has url https://upload.wikimedia.org/wikipedia/commons/3/35/Mittelschule%2C20140312-6a.jpg\n",
      "element 2 has url https://solarbuildermag.com/wp-content/uploads/2015/07/SolarEdgeLOGO.jpg\n",
      "element 3 has url https://cleverism.com/wp-content/uploads/wpjobboard/company/283/company-logo/SolarEdge_logo.svg_.png\n",
      "https://www.google.com/search?q=Guy%20Sella%20SolarEdge%20Technologies%2C%20Inc.&tbm=isch&tbs=cdr:1,cd_min:1/1/2016,cd_max:12/31/2016\n",
      "Guy Sella 2016\n",
      "hover start\n",
      "hover done\n",
      "Found 100 potential image elements\n"
     ]
    },
    {
     "name": "stderr",
     "output_type": "stream",
     "text": [
      "Scraping:  70%|████████████████████▎        | 477/680 [1:46:11<30:09,  8.91s/it]"
     ]
    },
    {
     "name": "stdout",
     "output_type": "stream",
     "text": [
      "element 0 has url https://img.saurenergy.com/2016/03/SolarEdge.jpg\n",
      "element 1 has url https://solarbuildermag.com/wp-content/uploads/2016/03/solaredge-commercial.jpg\n",
      "element 2 has url https://img.saurenergy.com/2016/06/SolarEdge-bags-Intersolar-Award.jpg\n",
      "element 3 has url https://solarbuildermag.com/wp-content/uploads/2015/09/SolarEdge-HD-Wave.jpg\n",
      "https://www.google.com/search?q=Guy%20Sella%20SolarEdge%20Technologies%2C%20Inc.&tbm=isch&tbs=cdr:1,cd_min:1/1/2017,cd_max:12/31/2017\n",
      "Guy Sella 2017\n",
      "hover start\n",
      "hover done\n",
      "Found 100 potential image elements\n"
     ]
    },
    {
     "name": "stderr",
     "output_type": "stream",
     "text": [
      "Scraping:  70%|████████████████████▍        | 478/680 [1:46:20<30:00,  8.91s/it]"
     ]
    },
    {
     "name": "stdout",
     "output_type": "stream",
     "text": [
      "element 0 has url https://pic1.calcalist.co.il/PicServer3/2017/10/07/762260/1LM.jpg\n",
      "element 1 has url https://www.renewableenergymagazine.com/ficheroenergias/fotos/fotovoltaica/ampliada/i/intersolar_awards_2012.jpg\n",
      "element 2 has url https://i.ytimg.com/vi/yWtQHX0FCAg/maxresdefault.jpg\n",
      "element 3 has url http://mms.businesswire.com/media/20170711005652/en/598535/4/SolarEdge-Inverter-Integrated-EV-Charger.jpg\n",
      "https://www.google.com/search?q=Guy%20Sella%20SolarEdge%20Technologies%2C%20Inc.&tbm=isch&tbs=cdr:1,cd_min:1/1/2018,cd_max:12/31/2018\n",
      "Guy Sella 2018\n",
      "hover start\n",
      "hover done\n",
      "Found 100 potential image elements\n"
     ]
    },
    {
     "name": "stderr",
     "output_type": "stream",
     "text": [
      "Scraping:  70%|████████████████████▍        | 479/680 [1:46:29<29:59,  8.95s/it]"
     ]
    },
    {
     "name": "stdout",
     "output_type": "stream",
     "text": [
      "element 0 has url https://mms.businesswire.com/media/20190825005015/en/739962/5/SolarEdge_Logo-01.jpg\n",
      "element 1 has url https://images.globes.co.il/images/NewGlobes/big_image_800/2018/2CF71AA625F595EA85907BD2EAA9D607_800x392.20180215T165257.jpg\n",
      "element 2 has url https://images.globes.co.il/images/NewGlobes/big_image_800/2018/h05_solarage-800x392.2018221T153504.jpg\n",
      "element 3 has url https://d2gjqh9j26unp0.cloudfront.net/profilepic/7391696d73353d1848c3d6c0afc524b4\n",
      "https://www.google.com/search?q=Zvi%20Lando%20SolarEdge%20Technologies%2C%20Inc.&tbm=isch&tbs=cdr:1,cd_min:1/1/2019,cd_max:12/31/2019\n",
      "Zvi Lando 2019\n",
      "hover start\n",
      "hover done\n",
      "Found 100 potential image elements\n"
     ]
    },
    {
     "name": "stderr",
     "output_type": "stream",
     "text": [
      "Scraping:  71%|████████████████████▍        | 480/680 [1:46:38<29:54,  8.97s/it]"
     ]
    },
    {
     "name": "stdout",
     "output_type": "stream",
     "text": [
      "element 0 has url https://solarindustrymag.com/wp-content/uploads/2020/02/Zvi-Lando-270x307-1.png\n",
      "element 1 has url https://img.saurenergy.com/2019/01/solaredge-265x171.jpg\n",
      "element 2 has url https://solarindustrymag.com/wp-content/uploads/2019/08/Guy-Sella-270x307.png\n",
      "element 3 has url https://solarmagazine.nl/u/news/guysella841-fullscreen.jpg\n",
      "https://www.google.com/search?q=John%20Ambroseo%20Coherent%20Corp.&tbm=isch&tbs=cdr:1,cd_min:1/1/2010,cd_max:12/31/2010\n",
      "John Ambroseo 2010\n",
      "hover start\n",
      "hover done\n",
      "Found 21 potential image elements\n"
     ]
    },
    {
     "name": "stderr",
     "output_type": "stream",
     "text": [
      "Scraping:  71%|████████████████████▌        | 481/680 [1:46:47<29:28,  8.89s/it]"
     ]
    },
    {
     "name": "stdout",
     "output_type": "stream",
     "text": [
      "element 0 has url https://www.sec.gov/Archives/edgar/data/21510/000114544306000414/johnsig.jpg\n",
      "element 1 has url https://www.sec.gov/Archives/edgar/data/21510/000114544306000414/d18515chart.jpg\n",
      "element 2 has url https://optics.org/objects/news/thumb/4/1/42/Technolas_2.jpg\n",
      "element 3 has url https://aboveaverageodds.files.wordpress.com/2010/01/cropped-kansas-city-at-night-david-dunham.jpg\n",
      "https://www.google.com/search?q=John%20Ambroseo%20Coherent%20Corp.&tbm=isch&tbs=cdr:1,cd_min:1/1/2011,cd_max:12/31/2011\n",
      "John Ambroseo 2011\n",
      "hover start\n",
      "hover done\n",
      "Found 5 potential image elements\n"
     ]
    },
    {
     "name": "stderr",
     "output_type": "stream",
     "text": [
      "Scraping:  71%|████████████████████▌        | 482/680 [1:46:55<28:50,  8.74s/it]"
     ]
    },
    {
     "name": "stdout",
     "output_type": "stream",
     "text": [
      "element 0 has url https://optics.org/objects/news/thumb/3/11/1/coherentvyper.jpg\n",
      "element 1 has url https://optics.org/objects/news/thumb/2/7/28/coherentstockJuly2011.jpg\n",
      "element 2 has url https://optics.org/objects/news/thumb/2/6/14/LASERSchoen.jpg\n",
      "element 3 has url https://optics.org/objects/news/thumb/4/1/42/victusTPV.jpg\n",
      "https://www.google.com/search?q=John%20Ambroseo%20Coherent%20Corp.&tbm=isch&tbs=cdr:1,cd_min:1/1/2012,cd_max:12/31/2012\n",
      "John Ambroseo 2012\n",
      "hover start\n",
      "hover done\n",
      "Found 16 potential image elements\n"
     ]
    },
    {
     "name": "stderr",
     "output_type": "stream",
     "text": [
      "Scraping:  71%|████████████████████▌        | 483/680 [1:47:04<28:29,  8.68s/it]"
     ]
    },
    {
     "name": "stdout",
     "output_type": "stream",
     "text": [
      "element 0 has url https://optics.org/objects/news/thumb/3/4/37/COHRCham.jpg\n",
      "element 1 has url https://optics.org/objects/news/thumb/3/12/35/Lumera1.jpg\n",
      "element 2 has url https://optics.org/objects/news/thumb/3/11/1/coherentQ4orders.jpg\n",
      "element 3 has url https://optics.org/objects/news/thumb/3/12/35/schepers1.jpg\n",
      "https://www.google.com/search?q=John%20Ambroseo%20Coherent%20Corp.&tbm=isch&tbs=cdr:1,cd_min:1/1/2013,cd_max:12/31/2013\n",
      "John Ambroseo 2013\n",
      "hover start\n",
      "hover done\n",
      "Found 100 potential image elements\n"
     ]
    },
    {
     "name": "stderr",
     "output_type": "stream",
     "text": [
      "Scraping:  71%|████████████████████▋        | 484/680 [1:47:12<28:24,  8.70s/it]"
     ]
    },
    {
     "name": "stdout",
     "output_type": "stream",
     "text": [
      "element 0 has url x-raw-image:///9f912297b58ba170c18ef2c059d5d1e0b19fd446e2301969b6892dc890af1cab\n",
      "element 1 has url https://nap.nationalacademies.org/cover/13491/450\n",
      "element 2 has url x-raw-image:///5ba43ba214b548b57eafc9b82e4f9b9cf927a2a0af848ecee816910caf0b1f89\n",
      "element 3 has url x-raw-image:///beb47aece777e29694873ee2b9a363abac82aaabfab2e0dd8fb7caa4c23de56d\n",
      "https://www.google.com/search?q=John%20Ambroseo%20Coherent%20Corp.&tbm=isch&tbs=cdr:1,cd_min:1/1/2014,cd_max:12/31/2014\n",
      "John Ambroseo 2014\n",
      "hover start\n",
      "hover done\n",
      "Found 22 potential image elements\n"
     ]
    },
    {
     "name": "stderr",
     "output_type": "stream",
     "text": [
      "Scraping:  71%|████████████████████▋        | 485/680 [1:47:21<28:12,  8.68s/it]"
     ]
    },
    {
     "name": "stdout",
     "output_type": "stream",
     "text": [
      "element 0 has url https://optics.org/objects/news/thumb/5/1/41/CoherentDaytona.jpg\n",
      "element 1 has url https://optics.org/objects/news/thumb/5/4/51/coherentMay2014.jpg\n",
      "element 2 has url https://optics.org/objects/news/thumb/5/1/41/COHRstockJan2014.jpg\n",
      "element 3 has url https://fortune.com/img-assets/wp-content/uploads/2016/03/128596832.jpg\n",
      "https://www.google.com/search?q=John%20Ambroseo%20Coherent%20Corp.&tbm=isch&tbs=cdr:1,cd_min:1/1/2015,cd_max:12/31/2015\n",
      "John Ambroseo 2015\n",
      "hover start\n",
      "hover done\n",
      "Found 100 potential image elements\n"
     ]
    },
    {
     "name": "stderr",
     "output_type": "stream",
     "text": [
      "Scraping:  71%|████████████████████▋        | 486/680 [1:47:30<28:16,  8.74s/it]"
     ]
    },
    {
     "name": "stdout",
     "output_type": "stream",
     "text": [
      "element 0 has url https://s.wsj.net/public/resources/images/MK-BW343_THEGAM_P_20120808181932.jpg\n",
      "element 1 has url https://www.sec.gov/Archives/edgar/data/21510/000002151015000035/cohr2015ar5yeartotalreturn1.jpg\n",
      "element 2 has url https://static.seekingalpha.com/uploads/2014/10/30/saupload_1e47f72de362553ebcb27af52c351230.png\n",
      "element 3 has url https://static.seekingalpha.com/uploads/2014/11/1/saupload_eedca4d94d424fb7b3b7a65bb2d7d864.png\n",
      "https://www.google.com/search?q=John%20Ambroseo%20Coherent%20Corp.&tbm=isch&tbs=cdr:1,cd_min:1/1/2016,cd_max:12/31/2016\n",
      "John Ambroseo 2016\n",
      "hover start\n",
      "hover done\n",
      "Found 21 potential image elements\n"
     ]
    },
    {
     "name": "stderr",
     "output_type": "stream",
     "text": [
      "Scraping:  72%|████████████████████▊        | 487/680 [1:47:39<28:09,  8.76s/it]"
     ]
    },
    {
     "name": "stdout",
     "output_type": "stream",
     "text": [
      "element 0 has url http://img.youtube.com/vi/-yL_WC0s8Zg/0.jpg\n",
      "element 1 has url https://pic.huodongjia.com/guest/2016-09-08/1473324630.73.png\n",
      "element 2 has url https://www.photonics.com/images/Web/Articles/2016/3/18/thumbnail_58471.gif\n",
      "element 3 has url https://www.ctemag.com/sites/www.ctemag.com/files/headline_images/LaserAcquistion.png\n",
      "https://www.google.com/search?q=John%20Ambroseo%20Coherent%20Corp.&tbm=isch&tbs=cdr:1,cd_min:1/1/2017,cd_max:12/31/2017\n",
      "John Ambroseo 2017\n",
      "hover start\n",
      "hover done\n",
      "Found 35 potential image elements\n"
     ]
    },
    {
     "name": "stderr",
     "output_type": "stream",
     "text": [
      "Scraping:  72%|████████████████████▊        | 488/680 [1:47:47<27:50,  8.70s/it]"
     ]
    },
    {
     "name": "stdout",
     "output_type": "stream",
     "text": [
      "element 0 has url https://www.photonics.com/images/Web/Articles/2016/3/18/PIC_coherent.gif\n",
      "element 1 has url https://pic.huodongjia.com/guest/2017-09-09/1504928199.48.jpg\n",
      "element 2 has url https://pic.huodongjia.com/guest/2017-09-09/1504935635.3.jpg\n",
      "element 3 has url https://3dprintingindustry.com/wp-content/uploads/2017/06/ORLas-Creator-3D-metal-printer-formnext-768x1024-768x1024.jpg\n",
      "https://www.google.com/search?q=John%20Ambroseo%20Coherent%20Corp.&tbm=isch&tbs=cdr:1,cd_min:1/1/2018,cd_max:12/31/2018\n",
      "John Ambroseo 2018\n",
      "hover start\n",
      "hover done\n",
      "Found 60 potential image elements\n"
     ]
    },
    {
     "name": "stderr",
     "output_type": "stream",
     "text": [
      "Scraping:  72%|████████████████████▊        | 489/680 [1:47:56<27:29,  8.63s/it]"
     ]
    },
    {
     "name": "stdout",
     "output_type": "stream",
     "text": [
      "element 0 has url https://media.zenfs.com/en/simply_wall_st__316/a4472f11c52c35f113aeda1c180b0391\n",
      "element 1 has url https://www.investors.com/wp-content/uploads/2016/07/IT02_cohr_072816_adobe.jpeg\n",
      "element 2 has url https://3dprintingindustry.com/wp-content/uploads/2018/05/Screen-Shot-2018-05-09-at-09.47.19-1024x894.png\n",
      "element 3 has url https://3dprintingindustry.com/wp-content/uploads/2017/09/A-3D-print-of-the-classic-rook-and-double-helix-from-the-ORLAS-CREATOR.-Photo-by-Michael-Petch..jpg\n",
      "https://www.google.com/search?q=John%20Ambroseo%20Coherent%20Corp.&tbm=isch&tbs=cdr:1,cd_min:1/1/2019,cd_max:12/31/2019\n",
      "John Ambroseo 2019\n",
      "hover start\n",
      "hover done\n",
      "Found 80 potential image elements\n"
     ]
    },
    {
     "name": "stderr",
     "output_type": "stream",
     "text": [
      "Scraping:  72%|████████████████████▉        | 490/680 [1:48:05<27:32,  8.70s/it]"
     ]
    },
    {
     "name": "stdout",
     "output_type": "stream",
     "text": [
      "element 0 has url https://optics.org/objects/news/thumb/10/4/24/COHRAmbroseoApril2019.jpg\n",
      "element 1 has url https://optics.org/objects/news/thumb/10/7/50/CoherentJuly2019.jpg\n",
      "element 2 has url https://optics.org/objects/news/thumb/9/2/12/coherentFeb2018.jpg\n",
      "element 3 has url https://digital.laserfocusworld.com/laserfocusworld/201908/data/imgpages/mobile3/0050_yjfife.jpg?lm=1565597826000\n",
      "https://www.google.com/search?q=Michael%20A.%20Bradley%20Teradyne%2C%20Inc.&tbm=isch&tbs=cdr:1,cd_min:1/1/2010,cd_max:12/31/2010\n",
      "Michael A. Bradley 2010\n",
      "hover start\n",
      "hover done\n",
      "Found 74 potential image elements\n"
     ]
    },
    {
     "name": "stderr",
     "output_type": "stream",
     "text": [
      "Scraping:  72%|████████████████████▉        | 491/680 [1:48:13<27:20,  8.68s/it]"
     ]
    },
    {
     "name": "stdout",
     "output_type": "stream",
     "text": [
      "element 0 has url https://www.sec.gov/Archives/edgar/data/1046026/000093677204000112/cvr_aggressive-growth.jpg\n",
      "element 1 has url https://www.sec.gov/Archives/edgar/data/1101302/000119312505231220/g20029g73z70.jpg\n",
      "element 2 has url https://www.sec.gov/Archives/edgar/data/857114/000085711410000007/scsincsrx48x1.jpg\n",
      "element 3 has url https://www.sec.gov/Archives/edgar/data/1034633/000119312507046320/g53471g49c48.jpg\n",
      "https://www.google.com/search?q=Michael%20A.%20Bradley%20Teradyne%2C%20Inc.&tbm=isch&tbs=cdr:1,cd_min:1/1/2011,cd_max:12/31/2011\n",
      "Michael A. Bradley 2011\n",
      "hover start\n",
      "hover done\n",
      "Found 90 potential image elements\n"
     ]
    },
    {
     "name": "stderr",
     "output_type": "stream",
     "text": [
      "Scraping:  72%|████████████████████▉        | 492/680 [1:48:22<27:08,  8.66s/it]"
     ]
    },
    {
     "name": "stdout",
     "output_type": "stream",
     "text": [
      "element 0 has url https://insidertrades.com/media/2065insider_mikebradley_110x120.jpg\n",
      "element 1 has url https://www.sec.gov/Archives/edgar/data/790166/000092881607000688/seriesfundx1x1.jpg\n",
      "element 2 has url https://www.sec.gov/Archives/edgar/data/1034633/000119312511235188/g211770g83t55.jpg\n",
      "element 3 has url https://www.sec.gov/Archives/edgar/data/857114/000085711405000014/gspincsrx29x1.jpg\n",
      "https://www.google.com/search?q=Michael%20A.%20Bradley%20Teradyne%2C%20Inc.&tbm=isch&tbs=cdr:1,cd_min:1/1/2012,cd_max:12/31/2012\n",
      "Michael A. Bradley 2012\n",
      "hover start\n",
      "hover done\n",
      "Found 45 potential image elements\n"
     ]
    },
    {
     "name": "stderr",
     "output_type": "stream",
     "text": [
      "Scraping:  72%|█████████████████████        | 493/680 [1:48:30<26:55,  8.64s/it]"
     ]
    },
    {
     "name": "stdout",
     "output_type": "stream",
     "text": [
      "element 0 has url http://media.corporate-ir.net/media_files/IROL/65/65320/reports/AR2006/images/pres.jpg\n",
      "element 1 has url https://www.sec.gov/Archives/edgar/data/8858/000119312512399012/g412922g44n44.jpg\n",
      "element 2 has url https://www.microwavejournal.com/ext/resources/images/Figures/2012/Mar/3M27F2x500.jpg\n",
      "element 3 has url https://www.sec.gov/Archives/edgar/data/8858/000119312512399012/g412922g74i02.jpg\n",
      "https://www.google.com/search?q=Mark%20E.%20Jagiela%20Teradyne%2C%20Inc.&tbm=isch&tbs=cdr:1,cd_min:1/1/2013,cd_max:12/31/2013\n",
      "Mark E. Jagiela 2013\n",
      "hover start\n",
      "hover done\n",
      "Found 10 potential image elements\n"
     ]
    },
    {
     "name": "stderr",
     "output_type": "stream",
     "text": [
      "Scraping:  73%|█████████████████████        | 494/680 [1:48:39<26:51,  8.66s/it]"
     ]
    },
    {
     "name": "stdout",
     "output_type": "stream",
     "text": [
      "element 0 has url https://www.sec.gov/Archives/edgar/data/97210/000119312513087821/g440736g87u31.jpg\n",
      "element 1 has url https://www.sec.gov/Archives/edgar/data/97210/000119312513150489/g459305g18n08.jpg\n",
      "element 2 has url https://www.sec.gov/Archives/edgar/data/97210/000119312513150489/g459305g47o28.jpg\n",
      "element 3 has url https://i.ytimg.com/vi/I06tNnp64ck/mqdefault.jpg\n",
      "https://www.google.com/search?q=Mark%20E.%20Jagiela%20Teradyne%2C%20Inc.&tbm=isch&tbs=cdr:1,cd_min:1/1/2014,cd_max:12/31/2014\n",
      "Mark E. Jagiela 2014\n",
      "hover start\n",
      "hover done\n",
      "Found 2 potential image elements\n"
     ]
    },
    {
     "name": "stderr",
     "output_type": "stream",
     "text": [
      "Scraping:  73%|█████████████████████        | 495/680 [1:48:47<25:48,  8.37s/it]"
     ]
    },
    {
     "name": "stdout",
     "output_type": "stream",
     "text": [
      "element 0 has url http://robohub.org/wp-content/uploads/2016/03/pepper-robot.jpg\n",
      "element 1 has url http://svrobo.org/wp-content/uploads/2019/03/naodeanna.jpg\n",
      "https://www.google.com/search?q=Mark%20E.%20Jagiela%20Teradyne%2C%20Inc.&tbm=isch&tbs=cdr:1,cd_min:1/1/2015,cd_max:12/31/2015\n",
      "Mark E. Jagiela 2015\n",
      "hover start\n",
      "hover done\n",
      "Found 13 potential image elements\n"
     ]
    },
    {
     "name": "stderr",
     "output_type": "stream",
     "text": [
      "Scraping:  73%|█████████████████████▏       | 496/680 [1:48:55<25:52,  8.44s/it]"
     ]
    },
    {
     "name": "stdout",
     "output_type": "stream",
     "text": [
      "element 0 has url https://kg.diffbot.com/image/api/get?fetch=yes&url=g%3Cj7P0St%7D9u.LnOv%7BI%7C%40g7.pBYINs%3Ff%7CGZ7jr-tGZhWf%3DK%2FOvy%5Bp%3CSKbs8i%7CEyNzC%5C%3DXu9h%3BMc7gZ1g69%5E6ulHu%3BGfKs8c.C_o\n",
      "element 1 has url http://blog.robotiq.com/hubfs/ur3_ur5_ur10_facing_left_labels.jpg\n",
      "element 2 has url https://f.nordiskemedier.dk/26qe72i441bmfcwb.jpg\n",
      "element 3 has url x-raw-image:///7e4169924477dfb9dcf08078e23317630a2810d1c198f2732b494f1a339da0c1\n",
      "https://www.google.com/search?q=Mark%20E.%20Jagiela%20Teradyne%2C%20Inc.&tbm=isch&tbs=cdr:1,cd_min:1/1/2016,cd_max:12/31/2016\n",
      "Mark E. Jagiela 2016\n",
      "hover start\n",
      "hover done\n",
      "Found 44 potential image elements\n"
     ]
    },
    {
     "name": "stderr",
     "output_type": "stream",
     "text": [
      "Scraping:  73%|█████████████████████▏       | 497/680 [1:49:04<26:01,  8.53s/it]"
     ]
    },
    {
     "name": "stdout",
     "output_type": "stream",
     "text": [
      "element 0 has url https://kg.diffbot.com/image/api/get?fetch=yes&url=g%3Cj7P0St%7D9u.LnOv%7BI%7C%40g7.pBYINs%3Ff%7CGZ7jr-tGZhWf%3DK%2FOvy%5Bp%3CSKbs8i%7CEyNzC%5B%3AXn6j9Pcteb1ywChFSlWl%3F%5C4I%7Bx%40.C_o\n",
      "element 1 has url https://kg.diffbot.com/image/api/get?fetch=yes&url=g%3Cj7P0St%7D9u.LnOv%7BI%7C%40g7.pBYINs%3Ff%7CGZ7jr-tGZhWf%3DK%2FOvy%5Bp%3CSKbs8i%7CEy%3Cc%7BL0%3DY%7CI%7C0KvIZ4c%7DOx\n",
      "element 2 has url https://www.universal-robots.com/media/1418202/juergen-von-hollen_2_web-preview.jpg\n",
      "element 3 has url https://www.sec.gov/Archives/edgar/data/97210/000119312516484381/g126262g23c64.jpg\n",
      "https://www.google.com/search?q=Mark%20E.%20Jagiela%20Teradyne%2C%20Inc.&tbm=isch&tbs=cdr:1,cd_min:1/1/2017,cd_max:12/31/2017\n",
      "Mark E. Jagiela 2017\n",
      "hover start\n",
      "hover done\n",
      "Found 53 potential image elements\n"
     ]
    },
    {
     "name": "stderr",
     "output_type": "stream",
     "text": [
      "Scraping:  73%|█████████████████████▏       | 498/680 [1:49:13<25:54,  8.54s/it]"
     ]
    },
    {
     "name": "stdout",
     "output_type": "stream",
     "text": [
      "element 0 has url https://media.zenfs.com/en/insidermonkey.com/610a2e0fb7ea346cfdab6066669f91bf\n",
      "element 1 has url https://www.sec.gov/Archives/edgar/data/97210/000119312517064638/g274101g25n69.jpg\n",
      "element 2 has url https://www.chiphistory.org/chc_upload/icon/7/1498672390/med_1498672390.jpg\n",
      "element 3 has url https://www.chiphistory.org/chc_upload/icon/7/1499296164/med_1499296164.jpg\n",
      "https://www.google.com/search?q=Mark%20E.%20Jagiela%20Teradyne%2C%20Inc.&tbm=isch&tbs=cdr:1,cd_min:1/1/2018,cd_max:12/31/2018\n",
      "Mark E. Jagiela 2018\n",
      "hover start\n",
      "hover done\n",
      "Found 53 potential image elements\n"
     ]
    },
    {
     "name": "stderr",
     "output_type": "stream",
     "text": [
      "Scraping:  73%|█████████████████████▎       | 499/680 [1:49:21<25:56,  8.60s/it]"
     ]
    },
    {
     "name": "stdout",
     "output_type": "stream",
     "text": [
      "element 0 has url https://slideplayer.com/slide/14341548/89/images/2/They+are+vital+to+our+continued+success+and+growth..jpg\n",
      "element 1 has url https://www.therobotreport.com/wp-content/uploads/2018/04/teradyne-ur-mir-gobble.jpg\n",
      "element 2 has url https://www.jetro.go.jp/ext_images/en/invest/img/investment_environment/success_stories/teradyne/img3.jpg\n",
      "element 3 has url https://img.youtube.com/vi/bPxoBXoD8d0/mqdefault.jpg\n",
      "https://www.google.com/search?q=Mark%20E.%20Jagiela%20Teradyne%2C%20Inc.&tbm=isch&tbs=cdr:1,cd_min:1/1/2019,cd_max:12/31/2019\n",
      "Mark E. Jagiela 2019\n",
      "hover start\n",
      "hover done\n",
      "Found 64 potential image elements\n"
     ]
    },
    {
     "name": "stderr",
     "output_type": "stream",
     "text": [
      "Scraping:  74%|█████████████████████▎       | 500/680 [1:49:30<25:45,  8.59s/it]"
     ]
    },
    {
     "name": "stdout",
     "output_type": "stream",
     "text": [
      "element 0 has url https://media.zenfs.com/en/globenewswire.com/84f789ca5ee8041f7a8eafe78b37be7d\n",
      "element 1 has url https://www.sec.gov/Archives/edgar/data/97210/000119312519089583/g639437dsp056.jpg\n",
      "element 2 has url https://www.sec.gov/Archives/edgar/data/97210/000119312519089583/g639437dsp055.jpg\n",
      "element 3 has url https://automationspraxis.industrie.de/wp-content/uploads/T/e/Teradyne_Andy_Blanchard_009_9ADEF538-6E95-4AAA-B32B-CEFB37F2E804.jpg\n",
      "https://www.google.com/search?q=Anders%20Gustafsson%20Zebra%20Technologies%20Corporation&tbm=isch&tbs=cdr:1,cd_min:1/1/2010,cd_max:12/31/2010\n",
      "Anders Gustafsson 2010\n",
      "hover start\n",
      "hover done\n",
      "Found 63 potential image elements\n"
     ]
    },
    {
     "name": "stderr",
     "output_type": "stream",
     "text": [
      "Scraping:  74%|█████████████████████▎       | 501/680 [1:49:39<25:43,  8.62s/it]"
     ]
    },
    {
     "name": "stdout",
     "output_type": "stream",
     "text": [
      "element 0 has url https://asset-cdn.campaignbrief.com/wp-content/uploads/sites/4/2010/07/05004606/OldSpice.png\n",
      "element 1 has url https://asset-cdn.campaignbrief.com/wp-content/uploads/sites/2/2011/05/05051657/Lucky20Line.jpg\n",
      "element 2 has url https://www.repairfaq.org/sam/phr803ta.jpg\n",
      "element 3 has url https://cdn.pressebox.de/a/2a24a6258ee797ec/attachments/0069703.attachment/filename/Artist_Figur_RGB.jpg\n",
      "https://www.google.com/search?q=Anders%20Gustafsson%20Zebra%20Technologies%20Corporation&tbm=isch&tbs=cdr:1,cd_min:1/1/2011,cd_max:12/31/2011\n",
      "Anders Gustafsson 2011\n",
      "hover start\n",
      "hover done\n",
      "Found 55 potential image elements\n"
     ]
    },
    {
     "name": "stderr",
     "output_type": "stream",
     "text": [
      "Scraping:  74%|█████████████████████▍       | 502/680 [1:49:47<25:38,  8.64s/it]"
     ]
    },
    {
     "name": "stdout",
     "output_type": "stream",
     "text": [
      "element 0 has url https://adamhartung.com/wp-content/uploads/Inventory-Control-Device.jpg\n",
      "element 1 has url https://asset-cdn.campaignbrief.com/wp-content/uploads/sites/4/2011/05/05005708/Screen20shot202011051420at203.38.5920PM.jpg\n",
      "element 2 has url http://www.ruggedpcreview.com/images2/windows_ce_timeline.jpg\n",
      "element 3 has url https://www.sec.gov/Archives/edgar/data/67215/000144757213000018/i12388002.jpg\n",
      "https://www.google.com/search?q=Anders%20Gustafsson%20Zebra%20Technologies%20Corporation&tbm=isch&tbs=cdr:1,cd_min:1/1/2012,cd_max:12/31/2012\n",
      "Anders Gustafsson 2012\n",
      "hover start\n",
      "hover done\n",
      "Found 74 potential image elements\n"
     ]
    },
    {
     "name": "stderr",
     "output_type": "stream",
     "text": [
      "Scraping:  74%|█████████████████████▍       | 503/680 [1:49:56<25:30,  8.64s/it]"
     ]
    },
    {
     "name": "stdout",
     "output_type": "stream",
     "text": [
      "element 0 has url https://www.sec.gov/Archives/edgar/data/877212/000120677412001462/zebratech_def14a1x1x1.jpg\n",
      "element 1 has url https://www.sec.gov/Archives/edgar/data/877212/000119312510030679/g88117corresp_pg001.jpg\n",
      "element 2 has url http://retailresellernews.com/July_16_2012/brian-smith.jpg\n",
      "element 3 has url http://www.wishner.com/images/BarryWishnerGreetsCEOs.jpg\n",
      "https://www.google.com/search?q=Anders%20Gustafsson%20Zebra%20Technologies%20Corporation&tbm=isch&tbs=cdr:1,cd_min:1/1/2013,cd_max:12/31/2013\n",
      "Anders Gustafsson 2013\n",
      "hover start\n",
      "hover done\n",
      "Found 100 potential image elements\n"
     ]
    },
    {
     "name": "stderr",
     "output_type": "stream",
     "text": [
      "Scraping:  74%|█████████████████████▍       | 504/680 [1:50:05<25:31,  8.70s/it]"
     ]
    },
    {
     "name": "stdout",
     "output_type": "stream",
     "text": [
      "element 0 has url https://www.l-tron.com/wp-content/uploads/2013/11/ZebraVert.jpg\n",
      "element 1 has url x-raw-image:///e3f62f1630c2400beffa35edee1c3d79cdb8d1e7787eecfa6efc79c81e98781b\n",
      "element 2 has url x-raw-image:///b1407ee89e0321bf9e523b8a5ee2e299391f9353599d57b1a2bce982ec370f9f\n",
      "element 3 has url http://www.retailresellernews.com/images/Shopkeep_s360-220x240-1.jpg\n",
      "https://www.google.com/search?q=Anders%20Gustafsson%20Zebra%20Technologies%20Corporation&tbm=isch&tbs=cdr:1,cd_min:1/1/2014,cd_max:12/31/2014\n",
      "Anders Gustafsson 2014\n",
      "hover start\n",
      "hover done\n",
      "Found 100 potential image elements\n"
     ]
    },
    {
     "name": "stderr",
     "output_type": "stream",
     "text": [
      "Scraping:  74%|█████████████████████▌       | 505/680 [1:50:14<25:26,  8.73s/it]"
     ]
    },
    {
     "name": "stdout",
     "output_type": "stream",
     "text": [
      "element 0 has url https://www.sourcesecurity.com/img/people/anders-gustafsson-300.jpg\n",
      "element 1 has url https://s.wsj.net/public/resources/images/BN-CJ789_0415_c_G_20140415155950.jpg\n",
      "element 2 has url https://s.wsj.net/public/resources/images/BN-CJ789_0415_c_GR_20140415155950.jpg\n",
      "element 3 has url https://s.wsj.net/public/resources/images/MK-CL620_ZEBRA_BR_20140415192125.jpg\n",
      "https://www.google.com/search?q=Anders%20Gustafsson%20Zebra%20Technologies%20Corporation&tbm=isch&tbs=cdr:1,cd_min:1/1/2015,cd_max:12/31/2015\n",
      "Anders Gustafsson 2015\n",
      "hover start\n",
      "hover done\n",
      "Found 82 potential image elements\n"
     ]
    },
    {
     "name": "stderr",
     "output_type": "stream",
     "text": [
      "Scraping:  74%|█████████████████████▌       | 506/680 [1:50:22<25:13,  8.70s/it]"
     ]
    },
    {
     "name": "stdout",
     "output_type": "stream",
     "text": [
      "element 0 has url https://s.wsj.net/public/resources/images/MK-CL620_ZEBRA_E_20140415192125.jpg\n",
      "element 1 has url https://pic1.calcalist.co.il/PicServer2/20122005/510554/40_lm.jpg\n",
      "element 2 has url https://www.pulpandpapercanada.com/wp-content/uploads/2019/08/social-1200x628.jpg\n",
      "element 3 has url https://www.sec.gov/Archives/edgar/data/877212/000120677415001270/zebra_def14a1x1x1.jpg\n",
      "https://www.google.com/search?q=Anders%20Gustafsson%20Zebra%20Technologies%20Corporation&tbm=isch&tbs=cdr:1,cd_min:1/1/2016,cd_max:12/31/2016\n",
      "Anders Gustafsson 2016\n",
      "hover start\n",
      "hover done\n",
      "Found 100 potential image elements\n"
     ]
    },
    {
     "name": "stderr",
     "output_type": "stream",
     "text": [
      "Scraping:  75%|█████████████████████▌       | 507/680 [1:50:31<25:22,  8.80s/it]"
     ]
    },
    {
     "name": "stdout",
     "output_type": "stream",
     "text": [
      "element 0 has url https://s.wsj.net/public/resources/images/BN-NY631_0510ze_M_20160510111426.jpg\n",
      "element 1 has url https://s.wsj.net/public/resources/images/MK-CL620_ZEBRA_GR_20140415192125.jpg\n",
      "element 2 has url https://www.zebra.com//us/en/about-zebra/company-information/company-leadership/_jcr_content/mainpar/columncontrol_5e36/col1par/imagecomponent_5b00/image.adapt.1280.png/1448393096201.png\n",
      "element 3 has url https://s.wsj.net/public/resources/images/BN-PH814_0809ze_GR_20160809092801.jpg\n",
      "https://www.google.com/search?q=Anders%20Gustafsson%20Zebra%20Technologies%20Corporation&tbm=isch&tbs=cdr:1,cd_min:1/1/2017,cd_max:12/31/2017\n",
      "Anders Gustafsson 2017\n",
      "hover start\n",
      "hover done\n",
      "Found 100 potential image elements\n"
     ]
    },
    {
     "name": "stderr",
     "output_type": "stream",
     "text": [
      "Scraping:  75%|█████████████████████▋       | 508/680 [1:50:40<25:20,  8.84s/it]"
     ]
    },
    {
     "name": "stdout",
     "output_type": "stream",
     "text": [
      "element 0 has url https://www.zebra.com//us/en/about-zebra/company-information/company-leadership/_jcr_content/mainpar/columncontrol_249a/col1par/imagecomponent_925b/image.adapt.1280.jpg/1455813663125.jpg\n",
      "element 1 has url https://s.wsj.net/public/resources/images/BN-NY631_0510ze_TOP_20160510111426.jpg\n",
      "element 2 has url https://www.sourcesecurity.com/img/people/Mike-Maris_Zebra-Technologies--300.jpg\n",
      "element 3 has url https://www.sourcesecurity.com/img/people/mark-zucherman-300.jpg\n",
      "https://www.google.com/search?q=Anders%20Gustafsson%20Zebra%20Technologies%20Corporation&tbm=isch&tbs=cdr:1,cd_min:1/1/2018,cd_max:12/31/2018\n",
      "Anders Gustafsson 2018\n",
      "hover start\n",
      "hover done\n",
      "Found 100 potential image elements\n"
     ]
    },
    {
     "name": "stderr",
     "output_type": "stream",
     "text": [
      "Scraping:  75%|█████████████████████▋       | 509/680 [1:50:49<25:29,  8.94s/it]"
     ]
    },
    {
     "name": "stdout",
     "output_type": "stream",
     "text": [
      "element 0 has url https://s.wsj.net/public/resources/images/ON-CN315_ZebraC_D_20180508113842.jpg\n",
      "element 1 has url https://s3-rd-prod.chicagobusiness.com/styles/width_765/s3/Anders%20Gustafsson.jpg\n",
      "element 2 has url https://www.sourcesecurity.com/img/people/keith-300x300.jpg\n",
      "element 3 has url https://media.licdn.com/dms/image/v2/C4E03AQGn-kd4ZqmtbA/profile-displayphoto-shrink_200_200/profile-displayphoto-shrink_200_200/0/1516189707589?e=2147483647&v=beta&t=XcmOknMbbryY9QeeAaHEloxbiD8FRwcvYym3DFJFepM\n",
      "https://www.google.com/search?q=Anders%20Gustafsson%20Zebra%20Technologies%20Corporation&tbm=isch&tbs=cdr:1,cd_min:1/1/2019,cd_max:12/31/2019\n",
      "Anders Gustafsson 2019\n",
      "hover start\n",
      "hover done\n",
      "Found 100 potential image elements\n"
     ]
    },
    {
     "name": "stderr",
     "output_type": "stream",
     "text": [
      "Scraping:  75%|█████████████████████▊       | 510/680 [1:50:58<25:13,  8.90s/it]"
     ]
    },
    {
     "name": "stdout",
     "output_type": "stream",
     "text": [
      "element 0 has url https://i.ytimg.com/vi/7PZZcuNgi6I/maxresdefault.jpg\n",
      "element 1 has url https://www.theladders.com/wp-content/uploads/anders-gustafsson-ceo2-800x450.jpg\n",
      "element 2 has url https://www.iaasiaonline.com/wp-content/uploads/Zebra-Technologies-Celebrates-50-Years-Of-Innovating-At-The-Edge-1.jpg\n",
      "element 3 has url https://www.equipment-news.com/wp-content/uploads/2019/05/Zebra-Technologies-Celebrates-50-Years-of-Innovating-at-the-Edge-e1560491656252.jpg\n",
      "https://www.google.com/search?q=Steven%20W.%20Berglund%20Trimble%20Inc.&tbm=isch&tbs=cdr:1,cd_min:1/1/2010,cd_max:12/31/2010\n",
      "Steven W. Berglund 2010\n",
      "hover start\n",
      "hover done\n",
      "Found 27 potential image elements\n"
     ]
    },
    {
     "name": "stderr",
     "output_type": "stream",
     "text": [
      "Scraping:  75%|█████████████████████▊       | 511/680 [1:51:07<24:40,  8.76s/it]"
     ]
    },
    {
     "name": "stdout",
     "output_type": "stream",
     "text": [
      "element 0 has url https://www.constructionweekonline.in/cloud/2021/11/25/74q36EV6-Dimensions_2010_1-1.jpg\n",
      "element 1 has url https://www.constructionweekonline.com/cloud/2021/07/06/Cat-for-web_3.gif\n",
      "element 2 has url https://www.constructionweekonline.in/cloud/2021/11/25/sPEIUhEk-runway_1_6-1.jpg\n",
      "element 3 has url https://m.media-amazon.com/images/M/MV5BMzc3MjYxNzg2N15BMl5BanBnXkFtZTcwNzQyMTkwNA@@._V1_.jpg\n",
      "https://www.google.com/search?q=Steven%20W.%20Berglund%20Trimble%20Inc.&tbm=isch&tbs=cdr:1,cd_min:1/1/2011,cd_max:12/31/2011\n",
      "Steven W. Berglund 2011\n",
      "hover start\n",
      "hover done\n",
      "Found 39 potential image elements\n"
     ]
    },
    {
     "name": "stderr",
     "output_type": "stream",
     "text": [
      "Scraping:  75%|█████████████████████▊       | 512/680 [1:51:15<24:23,  8.71s/it]"
     ]
    },
    {
     "name": "stdout",
     "output_type": "stream",
     "text": [
      "element 0 has url https://static.dezeen.com/uploads/2011/07/dezeen_8-Spruce-Street-by-Frank-Gehry_top3.jpg\n",
      "element 1 has url https://www.sec.gov/Archives/edgar/data/864749/000119312511071216/g148907g43g37.jpg\n",
      "element 2 has url https://www.sec.gov/Archives/edgar/data/864749/000119312511071216/g148907g96l80.jpg\n",
      "element 3 has url https://m.media-amazon.com/images/M/MV5BMTY4MTUxMjQ5OV5BMl5BanBnXkFtZTcwNTUyMzg5Ng@@._V1_.jpg\n",
      "https://www.google.com/search?q=Steven%20W.%20Berglund%20Trimble%20Inc.&tbm=isch&tbs=cdr:1,cd_min:1/1/2012,cd_max:12/31/2012\n",
      "Steven W. Berglund 2012\n",
      "hover start\n",
      "hover done\n",
      "Found 72 potential image elements\n"
     ]
    },
    {
     "name": "stderr",
     "output_type": "stream",
     "text": [
      "Scraping:  75%|█████████████████████▉       | 513/680 [1:51:24<24:18,  8.73s/it]"
     ]
    },
    {
     "name": "stdout",
     "output_type": "stream",
     "text": [
      "element 0 has url https://geospatialmedia.s3.amazonaws.com/wp-content/uploads/2017/08/Trimble_VideoHome-1_0.jpg\n",
      "element 1 has url https://insidegnss.com/wp-content/uploads/2018/01/Trimble%20logo.jpg\n",
      "element 2 has url https://www.geospatialworld.net/wp-content/uploads/images/magazines/gw-may12-50_8.jpg\n",
      "element 3 has url https://i.ytimg.com/vi/4R49OWIMvbY/mqdefault.jpg\n",
      "https://www.google.com/search?q=Steven%20W.%20Berglund%20Trimble%20Inc.&tbm=isch&tbs=cdr:1,cd_min:1/1/2013,cd_max:12/31/2013\n",
      "Steven W. Berglund 2013\n",
      "hover start\n",
      "hover done\n",
      "Found 100 potential image elements\n"
     ]
    },
    {
     "name": "stderr",
     "output_type": "stream",
     "text": [
      "Scraping:  76%|█████████████████████▉       | 514/680 [1:51:33<24:08,  8.73s/it]"
     ]
    },
    {
     "name": "stdout",
     "output_type": "stream",
     "text": [
      "element 0 has url https://s.wsj.net/public/resources/images/BA-BC006A_Trimb_KS_20130525012143.jpg\n",
      "element 1 has url https://s.wsj.net/public/resources/images/BA-BC005A_Trimb_G_20130525012039.jpg\n",
      "element 2 has url https://www.enr.com/images/2013/06/Trimble%20office%20Teamsite.jpg\n",
      "element 3 has url https://geospatialmedia.s3.amazonaws.com/wp-content/uploads/2017/10/Trimble-wbsite-10.jpg\n",
      "https://www.google.com/search?q=Steven%20W.%20Berglund%20Trimble%20Inc.&tbm=isch&tbs=cdr:1,cd_min:1/1/2014,cd_max:12/31/2014\n",
      "Steven W. Berglund 2014\n",
      "hover start\n",
      "hover done\n",
      "Found 100 potential image elements\n"
     ]
    },
    {
     "name": "stderr",
     "output_type": "stream",
     "text": [
      "Scraping:  76%|█████████████████████▉       | 515/680 [1:51:42<24:43,  8.99s/it]"
     ]
    },
    {
     "name": "stdout",
     "output_type": "stream",
     "text": [
      "element 0 has url https://geospatialmedia.s3.amazonaws.com/wp-content/uploads/2016/04/Trimble-Dimensions-2014.jpg\n",
      "element 1 has url https://static.dezeen.com/uploads/2014/09/dezeen_frank_gehry_468.jpg\n",
      "element 2 has url https://www.enr.com/images2/2014/09/ENR_090814_TrimbleGT_BIM.jpg\n",
      "element 3 has url https://www.on-sitemag.com/wp-content/uploads/2016/12/productbody-trimblecontractor.jpg\n",
      "https://www.google.com/search?q=Steven%20W.%20Berglund%20Trimble%20Inc.&tbm=isch&tbs=cdr:1,cd_min:1/1/2015,cd_max:12/31/2015\n",
      "Steven W. Berglund 2015\n",
      "hover start\n",
      "hover done\n",
      "Found 100 potential image elements\n"
     ]
    },
    {
     "name": "stderr",
     "output_type": "stream",
     "text": [
      "Scraping:  76%|██████████████████████       | 516/680 [1:51:51<24:34,  8.99s/it]"
     ]
    },
    {
     "name": "stdout",
     "output_type": "stream",
     "text": [
      "element 0 has url https://www.constructionweekonline.com/cloud/2021/07/06/Steven-Berglund-Trimble.gif\n",
      "element 1 has url https://images.adsttc.com/media/images/540e/a4ac/c07a/808f/0a00/0164/large_jpg/2047827427_e2b59eb060_o.jpg?1410245789\n",
      "element 2 has url https://media.baumpub.com/files/slides/locale_image/full/0139/34592_en_d0167_8254_trimble-logo.jpg\n",
      "element 3 has url https://www.gpsworld.com/wp-content/uploads/2015/12/ZHA_BeijingNewAirport-1-W.jpg\n",
      "https://www.google.com/search?q=Steven%20W.%20Berglund%20Trimble%20Inc.&tbm=isch&tbs=cdr:1,cd_min:1/1/2016,cd_max:12/31/2016\n",
      "Steven W. Berglund 2016\n",
      "hover start\n",
      "hover done\n",
      "Found 100 potential image elements\n"
     ]
    },
    {
     "name": "stderr",
     "output_type": "stream",
     "text": [
      "Scraping:  76%|██████████████████████       | 517/680 [1:52:15<36:28, 13.42s/it]"
     ]
    },
    {
     "name": "stdout",
     "output_type": "stream",
     "text": [
      "element 0 has url https://geospatialmedia.s3.amazonaws.com/wp-content/uploads/2016/04/StevenWBerglund-Trimble.jpg\n",
      "element 1 has url https://www.precisionfarmingdealer.com/ext/resources/images/news-posts/2016/03-Mar/Steven-Berglund.jpg\n",
      "element 2 has url https://geospatialmedia.s3.amazonaws.com/wp-content/uploads/2018/10/Sandra-McQuillian.jpg\n",
      "element 3 has url http://trenchlesstechnology.com/wp-content/uploads/2016/11/Mike-Haberman-AEM.jpg\n",
      "https://www.google.com/search?q=Steven%20W.%20Berglund%20Trimble%20Inc.&tbm=isch&tbs=cdr:1,cd_min:1/1/2017,cd_max:12/31/2017\n",
      "Steven W. Berglund 2017\n",
      "hover start\n",
      "hover done\n",
      "Found 100 potential image elements\n"
     ]
    },
    {
     "name": "stderr",
     "output_type": "stream",
     "text": [
      "Scraping:  76%|██████████████████████       | 518/680 [1:52:44<49:03, 18.17s/it]"
     ]
    },
    {
     "name": "stdout",
     "output_type": "stream",
     "text": [
      "element 0 has url https://meconstructionnews.com/wp-content/uploads/2015/03/trimble53.gif\n",
      "element 1 has url https://geospatialmedia.s3.amazonaws.com/wp-content/uploads/2016/06/Trimble-300x113.jpg\n",
      "element 2 has url https://compactequip.com/wp-content/uploads/2017/10/2017-08-16_Trimble-Phase-2_EastCourt-620x412.jpg\n",
      "element 3 has url https://www.world-architects.com/images/CmsPage/53/89/98/540ee7ae92e0436ebcb659b30ab5c125/540ee7ae92e0436ebcb659b30ab5c125.f5fb7444.jpg\n",
      "https://www.google.com/search?q=Steven%20W.%20Berglund%20Trimble%20Inc.&tbm=isch&tbs=cdr:1,cd_min:1/1/2018,cd_max:12/31/2018\n",
      "Steven W. Berglund 2018\n",
      "hover start\n",
      "hover done\n",
      "Found 100 potential image elements\n"
     ]
    },
    {
     "name": "stderr",
     "output_type": "stream",
     "text": [
      "Scraping:  76%|██████████████████████▏      | 519/680 [1:52:54<41:58, 15.64s/it]"
     ]
    },
    {
     "name": "stdout",
     "output_type": "stream",
     "text": [
      "element 0 has url https://i.ytimg.com/vi/ZrWcs9OesHA/hqdefault.jpg\n",
      "element 1 has url https://www.cioapplications.com/uploaded_images/magazine_img/6fqcy13.jpg\n",
      "element 2 has url https://kg.diffbot.com/image/api/get?fetch=yes&url=g%3Cj7P0St%7D9u.LnOv%7BI%7C%40g7.pBYINs%3Ff%7CGZ7jr-tGZhWf%3DK%2FOvy%5Bp%3CSKbs8i%7CEyF%5E%7DJ%2FY%60%7Ei%7B%3C%5CwIq9W5%5B%5B\n",
      "element 3 has url https://www.pmmag.com/ext/resources/PM/2018/05-2018/Trimble-logo.jpg?1524667578\n",
      "https://www.google.com/search?q=Steven%20W.%20Berglund%20Trimble%20Inc.&tbm=isch&tbs=cdr:1,cd_min:1/1/2019,cd_max:12/31/2019\n",
      "Steven W. Berglund 2019\n",
      "hover start\n",
      "hover done\n",
      "Found 100 potential image elements\n"
     ]
    },
    {
     "name": "stderr",
     "output_type": "stream",
     "text": [
      "Scraping:  76%|██████████████████████▏      | 520/680 [1:53:03<36:12, 13.58s/it]"
     ]
    },
    {
     "name": "stdout",
     "output_type": "stream",
     "text": [
      "element 0 has url https://www.cioapplications.com/company_logos/kzsxm.Steven-W.-Berglund230.jpg\n",
      "element 1 has url https://geospatialworld.net/wp-content/uploads/2019/10/1559_robert-g-painter-cfo-senior-vp-trimble-inc.jpg\n",
      "element 2 has url https://media.licdn.com/dms/image/v2/C5612AQFadMTWg0Hr9g/article-cover_image-shrink_600_2000/article-cover_image-shrink_600_2000/0/1572471904295?e=2147483647&v=beta&t=HhN5cP4tHqHtAbavkQEaVk757YwWr6SZNjCWmxL_Z4I\n",
      "element 3 has url https://www.cioapplications.com/uploaded_images/magazine_img/qzjd6cioapplications300x400forsety.jpg\n",
      "https://www.google.com/search?q=John%20S.%20Marr%20Jr.%20Tyler%20Technologies%2C%20Inc.&tbm=isch&tbs=cdr:1,cd_min:1/1/2010,cd_max:12/31/2010\n",
      "John S. Marr Jr. 2010\n",
      "hover start\n",
      "hover done\n",
      "Found 100 potential image elements\n"
     ]
    },
    {
     "name": "stderr",
     "output_type": "stream",
     "text": [
      "Scraping:  77%|██████████████████████▏      | 521/680 [1:53:12<32:18, 12.19s/it]"
     ]
    },
    {
     "name": "stdout",
     "output_type": "stream",
     "text": [
      "element 0 has url https://i.ytimg.com/vi/PJ4sH7_1w_Q/0.jpg\n",
      "element 1 has url https://nap.nationalacademies.org/books/POD243/gifmid/300.gif\n",
      "element 2 has url http://www.appleson.com/photo2/Steve%20Landisberg%20and%20PA%201988pat61.jpg\n",
      "element 3 has url https://ijustreadaboutthat.com/wp-content/uploads/2011/01/portlandia.jpg\n",
      "https://www.google.com/search?q=John%20S.%20Marr%20Jr.%20Tyler%20Technologies%2C%20Inc.&tbm=isch&tbs=cdr:1,cd_min:1/1/2011,cd_max:12/31/2011\n",
      "John S. Marr Jr. 2011\n",
      "hover start\n",
      "hover done\n",
      "Found 100 potential image elements\n"
     ]
    },
    {
     "name": "stderr",
     "output_type": "stream",
     "text": [
      "Scraping:  77%|██████████████████████▎      | 522/680 [1:53:21<29:38, 11.26s/it]"
     ]
    },
    {
     "name": "stdout",
     "output_type": "stream",
     "text": [
      "element 0 has url https://www.albion.edu/wp-content/uploads/2021/10/john_ferris_270.jpg\n",
      "element 1 has url http://ga67b.atspace.com/hejmem041108-7.jpg\n",
      "element 2 has url https://static.tools.ibm.com/ibm/techxchange24/att/1612846121699001WshB/attprofile/640x800AJBT_1724634930930001FDex.jpg\n",
      "element 3 has url https://tricitiessports.com/2011-FCA-AllStarGame-Dec17-AG-02.jpg\n",
      "https://www.google.com/search?q=John%20S.%20Marr%20Jr.%20Tyler%20Technologies%2C%20Inc.&tbm=isch&tbs=cdr:1,cd_min:1/1/2012,cd_max:12/31/2012\n",
      "John S. Marr Jr. 2012\n",
      "hover start\n",
      "hover done\n",
      "Found 100 potential image elements\n"
     ]
    },
    {
     "name": "stderr",
     "output_type": "stream",
     "text": [
      "Scraping:  77%|██████████████████████▎      | 523/680 [1:53:30<27:56, 10.68s/it]"
     ]
    },
    {
     "name": "stdout",
     "output_type": "stream",
     "text": [
      "element 0 has url https://assets.dmagstatic.com/wp-content/uploads/2012/07/TylerTechnology_Creek-View-5x3-300dpiss.jpg\n",
      "element 1 has url https://goodmorninggloucester.com/wp-content/uploads/2012/06/aran-patrican-friendship-skate-organizers-2012_thumb.jpg?w=640\n",
      "element 2 has url https://texashistory.unt.edu/ark:/67531/metapth113814/m1/596/med_res_d/\n",
      "element 3 has url https://i.ytimg.com/vi/QmDUwlseN4M/mqdefault.jpg\n",
      "https://www.google.com/search?q=John%20S.%20Marr%20Jr.%20Tyler%20Technologies%2C%20Inc.&tbm=isch&tbs=cdr:1,cd_min:1/1/2013,cd_max:12/31/2013\n",
      "John S. Marr Jr. 2013\n",
      "hover start\n",
      "hover done\n",
      "Found 100 potential image elements\n"
     ]
    },
    {
     "name": "stderr",
     "output_type": "stream",
     "text": [
      "Scraping:  77%|██████████████████████▎      | 524/680 [1:53:39<26:25, 10.17s/it]"
     ]
    },
    {
     "name": "stdout",
     "output_type": "stream",
     "text": [
      "element 0 has url https://siteselection.com/media/KDCTylerTechnologies-20130807-124808.jpg\n",
      "element 1 has url https://mms.businesswire.com/media/20130514005246/en/369021/5/Brian-Miller---JLD.jpg\n",
      "element 2 has url https://dallasnews.imgix.net/tylerhq.jpg\n",
      "element 3 has url https://nbbd.com/parrishmedical/1308-WhichHospital.jpg\n",
      "https://www.google.com/search?q=John%20S.%20Marr%20Jr.%20Tyler%20Technologies%2C%20Inc.&tbm=isch&tbs=cdr:1,cd_min:1/1/2014,cd_max:12/31/2014\n",
      "John S. Marr Jr. 2014\n",
      "hover start\n",
      "hover done\n",
      "Found 100 potential image elements\n"
     ]
    },
    {
     "name": "stderr",
     "output_type": "stream",
     "text": [
      "Scraping:  77%|██████████████████████▍      | 525/680 [1:53:48<25:26,  9.85s/it]"
     ]
    },
    {
     "name": "stdout",
     "output_type": "stream",
     "text": [
      "element 0 has url https://mms.businesswire.com/media/20140422005397/en/412391/5/Connect-2014.jpg\n",
      "element 1 has url https://i.ytimg.com/vi/vVCwUyiRAxA/sddefault.jpg\n",
      "element 2 has url https://assets.dmagstatic.com/wp-content/uploads/media/4/CEO-compensation-in-North-Texas.jpg\n",
      "element 3 has url https://thenewvinylvillain.com/wp-content/uploads/2019/01/hqdefault.jpg\n",
      "https://www.google.com/search?q=John%20S.%20Marr%20Jr.%20Tyler%20Technologies%2C%20Inc.&tbm=isch&tbs=cdr:1,cd_min:1/1/2015,cd_max:12/31/2015\n",
      "John S. Marr Jr. 2015\n",
      "hover start\n",
      "hover done\n",
      "Found 100 potential image elements\n"
     ]
    },
    {
     "name": "stderr",
     "output_type": "stream",
     "text": [
      "Scraping:  77%|██████████████████████▍      | 526/680 [1:53:58<24:57,  9.73s/it]"
     ]
    },
    {
     "name": "stdout",
     "output_type": "stream",
     "text": [
      "element 0 has url https://mms.businesswire.com/media/20150520005172/en/468662/5/Connect_2015_resize.jpg\n",
      "element 1 has url https://www.sec.gov/Archives/edgar/data/860731/000086073117000010/a2017proxystmtv124image1a01.jpg\n",
      "element 2 has url https://www.outreach.com/Events/performerimages//John_fuller/John_fuller01_l.jpg\n",
      "element 3 has url https://assets.dmagstatic.com/wp-content/uploads/media/4/CEO-compensation.jpg\n",
      "https://www.google.com/search?q=John%20S.%20Marr%20Jr.%20Tyler%20Technologies%2C%20Inc.&tbm=isch&tbs=cdr:1,cd_min:1/1/2016,cd_max:12/31/2016\n",
      "John S. Marr Jr. 2016\n",
      "hover start\n",
      "hover done\n",
      "Found 100 potential image elements\n"
     ]
    },
    {
     "name": "stderr",
     "output_type": "stream",
     "text": [
      "Scraping:  78%|██████████████████████▍      | 527/680 [1:54:07<24:32,  9.62s/it]"
     ]
    },
    {
     "name": "stdout",
     "output_type": "stream",
     "text": [
      "element 0 has url https://s.wsj.net/public/resources/images/BA-BK913_TylerT_M_20160421163222.jpg\n",
      "element 1 has url https://s.wsj.net/public/resources/images/BA-BK913_TylerT_D_20160421163222.jpg\n",
      "element 2 has url https://slideplayer.com/14/4277664/big_thumb.jpg\n",
      "element 3 has url https://slideplayer.com/14/4247572/big_thumb.jpg\n",
      "https://www.google.com/search?q=John%20S.%20Marr%20Jr.%20Tyler%20Technologies%2C%20Inc.&tbm=isch&tbs=cdr:1,cd_min:1/1/2017,cd_max:12/31/2017\n",
      "John S. Marr Jr. 2017\n",
      "hover start\n",
      "hover done\n",
      "Found 100 potential image elements\n"
     ]
    },
    {
     "name": "stderr",
     "output_type": "stream",
     "text": [
      "Scraping:  78%|██████████████████████▌      | 528/680 [1:54:16<24:05,  9.51s/it]"
     ]
    },
    {
     "name": "stdout",
     "output_type": "stream",
     "text": [
      "element 0 has url https://www.marrandersonfamilyfoundation.org/wp-content/uploads/2017/03/logo_large.png\n",
      "element 1 has url https://assets.dmagstatic.com/wp-content/uploads/2016/09/holding_own_compensation_chart.jpg\n",
      "element 2 has url https://assets.dmagstatic.com/wp-content/uploads/2016/09/dceo_1006_cover.jpg\n",
      "element 3 has url https://assets.dmagstatic.com/wp-content/uploads/2017/09/median-total-compensation-1024x683.jpg\n",
      "https://www.google.com/search?q=John%20S.%20Marr%20Jr.%20Tyler%20Technologies%2C%20Inc.&tbm=isch&tbs=cdr:1,cd_min:1/1/2018,cd_max:12/31/2018\n",
      "John S. Marr Jr. 2018\n",
      "hover start\n",
      "hover done\n",
      "Found 100 potential image elements\n"
     ]
    },
    {
     "name": "stderr",
     "output_type": "stream",
     "text": [
      "Scraping:  78%|██████████████████████▌      | 529/680 [1:54:26<23:36,  9.38s/it]"
     ]
    },
    {
     "name": "stdout",
     "output_type": "stream",
     "text": [
      "element 0 has url https://key-people-turbo-engine.production.craft.co/photos/178505/normal_c40aebd13cc4d958d1e13bf5024f11ac.jpg\n",
      "element 1 has url https://www.sec.gov/Archives/edgar/data/860731/000086073118000021/a991pressrelease51018_image1.jpg\n",
      "element 2 has url https://www.sec.gov/Archives/edgar/data/860731/000086073117000010/tyl2017proxyform001.jpg\n",
      "element 3 has url https://www.sec.gov/Archives/edgar/data/860731/000086073117000010/tyl2017proxyform002.jpg\n",
      "https://www.google.com/search?q=Lynn%20Moore%20Jr.%20Tyler%20Technologies%2C%20Inc.&tbm=isch&tbs=cdr:1,cd_min:1/1/2019,cd_max:12/31/2019\n",
      "Lynn Moore Jr. 2019\n",
      "hover start\n",
      "hover done\n",
      "Found 100 potential image elements\n"
     ]
    },
    {
     "name": "stderr",
     "output_type": "stream",
     "text": [
      "Scraping:  78%|██████████████████████▌      | 530/680 [1:54:34<23:07,  9.25s/it]"
     ]
    },
    {
     "name": "stdout",
     "output_type": "stream",
     "text": [
      "element 0 has url https://assets.dmagstatic.com/wp-content/uploads/2019/07/Lynn_Moore_CEO_Tyler_Technologies_horizontal.jpg\n",
      "element 1 has url https://media.bizj.us/view/img/11441785/moorelynn-jd53837*1200xx3710-2087-0-388.jpg\n",
      "element 2 has url https://media.licdn.com/dms/image/v2/C5603AQGX_oZHItvHCw/profile-displayphoto-shrink_200_200/profile-displayphoto-shrink_200_200/0/1555079276251?e=2147483647&v=beta&t=u2jRYiQy6RPSf1YgdGN9qPJHGRn5LHBMDlgQe0yEKuo\n",
      "element 3 has url https://s202.q4cdn.com/975210061/files/design/tyler-logo.png\n",
      "https://www.google.com/search?q=Francisco%20D%E2%80%99Souza%20Cognizant%20Technology%20Solutions%20Corporation&tbm=isch&tbs=cdr:1,cd_min:1/1/2010,cd_max:12/31/2010\n",
      "Francisco D’Souza 2010\n",
      "hover start\n",
      "hover done\n",
      "Found 76 potential image elements\n"
     ]
    },
    {
     "name": "stderr",
     "output_type": "stream",
     "text": [
      "Scraping:  78%|██████████████████████▋      | 531/680 [1:54:43<22:36,  9.10s/it]"
     ]
    },
    {
     "name": "stdout",
     "output_type": "stream",
     "text": [
      "element 0 has url https://analyticsindiamag.com/wp-content/uploads/2019/02/mior3Xijbefsi.jpg\n",
      "element 1 has url https://www.cmu.edu/cmtoday/media/25678/cmt_v7n2_fe3_globe.jpg\n",
      "element 2 has url https://www.forbesindia.com/media/images/2010/Jan/img_19142_cognizant.jpg\n",
      "element 3 has url https://userscontent2.emaze.com/images/6573c554-318c-44d2-adc7-bef03d169e18/8b0ab2fe-17df-4274-923a-41df9576dcd2.jpg\n",
      "https://www.google.com/search?q=Francisco%20D%E2%80%99Souza%20Cognizant%20Technology%20Solutions%20Corporation&tbm=isch&tbs=cdr:1,cd_min:1/1/2011,cd_max:12/31/2011\n",
      "Francisco D’Souza 2011\n",
      "hover start\n",
      "hover done\n",
      "Found 100 potential image elements\n"
     ]
    },
    {
     "name": "stderr",
     "output_type": "stream",
     "text": [
      "Scraping:  78%|██████████████████████▋      | 532/680 [1:54:52<22:09,  8.99s/it]"
     ]
    },
    {
     "name": "stdout",
     "output_type": "stream",
     "text": [
      "element 0 has url http://www.horsesforsources.com/wp-content/uploads/2011/03/3.14.08-FDSouza-AR07-200x300.jpg\n",
      "element 1 has url https://akm-img-a-in.tosshub.com/businesstoday/images/story/201110/franciscodsouza325_101011025734_101111114658.jpg\n",
      "element 2 has url https://akm-img-a-in.tosshub.com/businesstoday/images/story/201104/franciscodsouza325_040911121430.jpg\n",
      "element 3 has url https://akm-img-a-in.tosshub.com/sites/btmt/images/stories//October2011/franscisodsouzaillustration_101011031910.jpg\n",
      "https://www.google.com/search?q=Francisco%20D%E2%80%99Souza%20Cognizant%20Technology%20Solutions%20Corporation&tbm=isch&tbs=cdr:1,cd_min:1/1/2012,cd_max:12/31/2012\n",
      "Francisco D’Souza 2012\n",
      "hover start\n",
      "hover done\n",
      "Found 100 potential image elements\n"
     ]
    },
    {
     "name": "stderr",
     "output_type": "stream",
     "text": [
      "Scraping:  78%|██████████████████████▋      | 533/680 [1:55:01<21:51,  8.92s/it]"
     ]
    },
    {
     "name": "stdout",
     "output_type": "stream",
     "text": [
      "element 0 has url https://news.cognizant.com/image/Francisco_CEOCognizant_GE_Feb15_2013-medium.jpg\n",
      "element 1 has url https://news.cognizant.com/image/Francisco-D%27Souza_BW_Feb2012-medium.jpg\n",
      "element 2 has url https://www.cmu.edu/homepage/images/2012/dsouza_201x201.jpg\n",
      "element 3 has url https://news.cognizant.com/image/Frank_DQ_Final_Pic-large.jpg\n",
      "https://www.google.com/search?q=Francisco%20D%E2%80%99Souza%20Cognizant%20Technology%20Solutions%20Corporation&tbm=isch&tbs=cdr:1,cd_min:1/1/2013,cd_max:12/31/2013\n",
      "Francisco D’Souza 2013\n",
      "hover start\n",
      "hover done\n",
      "Found 100 potential image elements\n"
     ]
    },
    {
     "name": "stderr",
     "output_type": "stream",
     "text": [
      "Scraping:  79%|██████████████████████▊      | 534/680 [1:55:09<21:29,  8.83s/it]"
     ]
    },
    {
     "name": "stdout",
     "output_type": "stream",
     "text": [
      "element 0 has url https://www.livemint.com/rf/Image-621x414/LiveMint/Period1/2013/03/21/Photos/Cognizant_Frank_2--621x414.jpg\n",
      "element 1 has url https://news.cognizant.com/image/Frank_IBD_Dec_2013-large.jpg\n",
      "element 2 has url https://news.cognizant.com/image/ForbesCover_Francisco_Dsouza-large.jpg\n",
      "element 3 has url https://news.cognizant.com/image/Frank_STEM_Connector_100CEO_Final_2-large.jpg\n",
      "https://www.google.com/search?q=Francisco%20D%E2%80%99Souza%20Cognizant%20Technology%20Solutions%20Corporation&tbm=isch&tbs=cdr:1,cd_min:1/1/2014,cd_max:12/31/2014\n",
      "Francisco D’Souza 2014\n",
      "hover start\n",
      "hover done\n",
      "Found 100 potential image elements\n"
     ]
    },
    {
     "name": "stderr",
     "output_type": "stream",
     "text": [
      "Scraping:  79%|██████████████████████▊      | 535/680 [1:55:19<22:05,  9.14s/it]"
     ]
    },
    {
     "name": "stdout",
     "output_type": "stream",
     "text": [
      "element 0 has url https://news.cognizant.com/image/Francisco_D%27Souza_Trizetto_1.jpg\n",
      "element 1 has url https://i.ytimg.com/vi/axp-GJ95LuM/maxresdefault.jpg\n",
      "element 2 has url https://lookaside.fbsbx.com/lookaside/crawler/media/?media_id=10152118203057147\n",
      "element 3 has url https://news.cognizant.com/image/MintAsia_final_Mar2014.jpg\n",
      "https://www.google.com/search?q=Francisco%20D%E2%80%99Souza%20Cognizant%20Technology%20Solutions%20Corporation&tbm=isch&tbs=cdr:1,cd_min:1/1/2015,cd_max:12/31/2015\n",
      "Francisco D’Souza 2015\n",
      "hover start\n",
      "hover done\n",
      "Found 100 potential image elements\n"
     ]
    },
    {
     "name": "stderr",
     "output_type": "stream",
     "text": [
      "Scraping:  79%|██████████████████████▊      | 536/680 [1:55:28<21:45,  9.06s/it]"
     ]
    },
    {
     "name": "stdout",
     "output_type": "stream",
     "text": [
      "element 0 has url https://news.cognizant.com/image/FRANK_FORTUNE_2015.jpg\n",
      "element 1 has url https://news.cognizant.com/image/Francisco_DSouza_Embed_Final.jpg\n",
      "element 2 has url https://images.livemint.com/rf/Image-621x414/LiveMint/Period2/2017/05/06/Photos/Processed/cog-kjbG--621x414@LiveMint.jpg\n",
      "element 3 has url https://userscontent2.emaze.com/images/6573c554-318c-44d2-adc7-bef03d169e18/6bf3d6b9-31ad-4ffc-bb8c-78f381d062c6.jpg\n",
      "https://www.google.com/search?q=Francisco%20D%E2%80%99Souza%20Cognizant%20Technology%20Solutions%20Corporation&tbm=isch&tbs=cdr:1,cd_min:1/1/2016,cd_max:12/31/2016\n",
      "Francisco D’Souza 2016\n",
      "hover start\n",
      "hover done\n",
      "Found 100 potential image elements\n"
     ]
    },
    {
     "name": "stderr",
     "output_type": "stream",
     "text": [
      "Scraping:  79%|██████████████████████▉      | 537/680 [1:55:37<21:22,  8.97s/it]"
     ]
    },
    {
     "name": "stdout",
     "output_type": "stream",
     "text": [
      "element 0 has url https://njtechweekly.com/media/cache/photos/Cognizant_Francisco_DSouza_2_imageDetailSize.jpg\n",
      "element 1 has url https://www.businessmarshall.com/img/post/6001b2a28035a.jpg\n",
      "element 2 has url https://userscontent2.emaze.com/images/6573c554-318c-44d2-adc7-bef03d169e18/9b23465c-268c-4797-ac7d-f17ea8f7bc3b.jpg\n",
      "element 3 has url https://data1.ibtimes.co.in/en/full/660728/cognizant-chennai.jpg\n",
      "https://www.google.com/search?q=Francisco%20D%E2%80%99Souza%20Cognizant%20Technology%20Solutions%20Corporation&tbm=isch&tbs=cdr:1,cd_min:1/1/2017,cd_max:12/31/2017\n",
      "Francisco D’Souza 2017\n",
      "hover start\n",
      "hover done\n",
      "Found 100 potential image elements\n"
     ]
    },
    {
     "name": "stderr",
     "output_type": "stream",
     "text": [
      "Scraping:  79%|██████████████████████▉      | 538/680 [1:55:46<21:20,  9.02s/it]"
     ]
    },
    {
     "name": "stdout",
     "output_type": "stream",
     "text": [
      "element 0 has url https://s.wsj.net/public/resources/images/ON-CH437_dsouza_G_20171006203747.jpg\n",
      "element 1 has url https://bsmedia.business-standard.com/_media/bs/img/article/2017-04/21/full/1492782548-2136.jpg\n",
      "element 2 has url https://i.ytimg.com/vi/jiW3ZD4r-Xw/maxresdefault.jpg\n",
      "element 3 has url https://images.deccanchronicle.com/dc-Cover-k1qpj58iu8br5eee8nmilhlgh0-20170422110000.Medi.jpeg\n",
      "https://www.google.com/search?q=Francisco%20D%E2%80%99Souza%20Cognizant%20Technology%20Solutions%20Corporation&tbm=isch&tbs=cdr:1,cd_min:1/1/2018,cd_max:12/31/2018\n",
      "Francisco D’Souza 2018\n",
      "hover start\n",
      "hover done\n",
      "Found 100 potential image elements\n"
     ]
    },
    {
     "name": "stderr",
     "output_type": "stream",
     "text": [
      "Scraping:  79%|██████████████████████▉      | 539/680 [1:55:55<21:09,  9.00s/it]"
     ]
    },
    {
     "name": "stdout",
     "output_type": "stream",
     "text": [
      "element 0 has url https://www.ilctr.org/wp-content/uploads/2017/07/Francisco-DSouza-preferred-photo-680x1024.jpg\n",
      "element 1 has url https://www.cmu.edu/cmtoday/media/25677/cmt_v7n2_fe3_francisco-dsouza.jpg\n",
      "element 2 has url https://www.enterpriseitworld.com/wp-content/uploads/2018/06/Cognizant.jpg\n",
      "element 3 has url https://analyticsindiamag.com/wp-content/uploads/2019/02/photo-1_750xx1280-721-0-15.jpg\n",
      "https://www.google.com/search?q=Brian%20Humphries%20Cognizant%20Technology%20Solutions%20Corporation&tbm=isch&tbs=cdr:1,cd_min:1/1/2019,cd_max:12/31/2019\n",
      "Brian Humphries 2019\n",
      "hover start\n",
      "hover done\n",
      "Found 100 potential image elements\n"
     ]
    },
    {
     "name": "stderr",
     "output_type": "stream",
     "text": [
      "Scraping:  79%|███████████████████████      | 540/680 [1:56:04<30:05, 12.90s/it]"
     ]
    },
    {
     "name": "stdout",
     "output_type": "stream",
     "text": [
      "element 0 has url https://upload.wikimedia.org/wikipedia/commons/b/b1/Brian_Humphries%2C_CEO%2C_Cognizant.jpg\n",
      "element 1 has url https://www.theconsultingreport.com/wp-content/uploads/2019/11/brian-humphries.jpg\n",
      "element 2 has url https://news.cognizant.com/image/Humphries_Brian_107-medium.jpg\n",
      "element 3 has url https://mma.prnewswire.com/media/818337/Cognizant_Brian_Humphries.jpg?p=facebook\n"
     ]
    },
    {
     "name": "stderr",
     "output_type": "stream",
     "text": [
      "\n"
     ]
    },
    {
     "ename": "TypeError",
     "evalue": "join() argument must be str, bytes, or os.PathLike object, not 'float'",
     "output_type": "error",
     "traceback": [
      "\u001b[0;31m---------------------------------------------------------------------------\u001b[0m",
      "\u001b[0;31mTypeError\u001b[0m                                 Traceback (most recent call last)",
      "Cell \u001b[0;32mIn[6], line 89\u001b[0m\n\u001b[1;32m     86\u001b[0m         \u001b[38;5;28mprint\u001b[39m(\u001b[38;5;124m'\u001b[39m\u001b[38;5;124mSkipping \u001b[39m\u001b[38;5;124m'\u001b[39m,row[\u001b[38;5;124m'\u001b[39m\u001b[38;5;124mName\u001b[39m\u001b[38;5;124m'\u001b[39m], row[\u001b[38;5;124m'\u001b[39m\u001b[38;5;124mYear\u001b[39m\u001b[38;5;124m'\u001b[39m])\n\u001b[1;32m     87\u001b[0m         \u001b[38;5;28;01mcontinue\u001b[39;00m\n\u001b[0;32m---> 89\u001b[0m     scraper\u001b[38;5;241m.\u001b[39mscrape_images(\n\u001b[1;32m     90\u001b[0m         name\u001b[38;5;241m=\u001b[39mrow[\u001b[38;5;124m\"\u001b[39m\u001b[38;5;124mName\u001b[39m\u001b[38;5;124m\"\u001b[39m],\n\u001b[1;32m     91\u001b[0m         year\u001b[38;5;241m=\u001b[39mrow[\u001b[38;5;124m\"\u001b[39m\u001b[38;5;124mYear\u001b[39m\u001b[38;5;124m\"\u001b[39m],\n\u001b[1;32m     92\u001b[0m         search_url\u001b[38;5;241m=\u001b[39mrow[\u001b[38;5;124m\"\u001b[39m\u001b[38;5;124mSearch_URL\u001b[39m\u001b[38;5;124m\"\u001b[39m],\n\u001b[1;32m     93\u001b[0m         max_links\u001b[38;5;241m=\u001b[39m\u001b[38;5;241m4\u001b[39m\n\u001b[1;32m     94\u001b[0m     )\n\u001b[1;32m     95\u001b[0m scraper\u001b[38;5;241m.\u001b[39mclose()\n",
      "Cell \u001b[0;32mIn[6], line 19\u001b[0m, in \u001b[0;36mGoogleImageScraper.scrape_images\u001b[0;34m(self, name, year, search_url, max_links)\u001b[0m\n\u001b[1;32m     18\u001b[0m \u001b[38;5;28;01mdef\u001b[39;00m \u001b[38;5;21mscrape_images\u001b[39m(\u001b[38;5;28mself\u001b[39m, name, year, search_url, max_links\u001b[38;5;241m=\u001b[39m\u001b[38;5;241m30\u001b[39m):\n\u001b[0;32m---> 19\u001b[0m     save_dir \u001b[38;5;241m=\u001b[39m os\u001b[38;5;241m.\u001b[39mpath\u001b[38;5;241m.\u001b[39mjoin(\u001b[38;5;124m'\u001b[39m\u001b[38;5;124mpictures\u001b[39m\u001b[38;5;124m'\u001b[39m, name, \u001b[38;5;28mstr\u001b[39m(year))\n\u001b[1;32m     20\u001b[0m     os\u001b[38;5;241m.\u001b[39mmakedirs(save_dir, exist_ok\u001b[38;5;241m=\u001b[39m\u001b[38;5;28;01mTrue\u001b[39;00m)\n\u001b[1;32m     22\u001b[0m     \u001b[38;5;28;01mtry\u001b[39;00m:\n",
      "File \u001b[0;32m/opt/anaconda3/lib/python3.12/posixpath.py:90\u001b[0m, in \u001b[0;36mjoin\u001b[0;34m(a, *p)\u001b[0m\n\u001b[1;32m     88\u001b[0m             path \u001b[38;5;241m+\u001b[39m\u001b[38;5;241m=\u001b[39m sep \u001b[38;5;241m+\u001b[39m b\n\u001b[1;32m     89\u001b[0m \u001b[38;5;28;01mexcept\u001b[39;00m (\u001b[38;5;167;01mTypeError\u001b[39;00m, \u001b[38;5;167;01mAttributeError\u001b[39;00m, \u001b[38;5;167;01mBytesWarning\u001b[39;00m):\n\u001b[0;32m---> 90\u001b[0m     genericpath\u001b[38;5;241m.\u001b[39m_check_arg_types(\u001b[38;5;124m'\u001b[39m\u001b[38;5;124mjoin\u001b[39m\u001b[38;5;124m'\u001b[39m, a, \u001b[38;5;241m*\u001b[39mp)\n\u001b[1;32m     91\u001b[0m     \u001b[38;5;28;01mraise\u001b[39;00m\n\u001b[1;32m     92\u001b[0m \u001b[38;5;28;01mreturn\u001b[39;00m path\n",
      "File \u001b[0;32m/opt/anaconda3/lib/python3.12/genericpath.py:164\u001b[0m, in \u001b[0;36m_check_arg_types\u001b[0;34m(funcname, *args)\u001b[0m\n\u001b[1;32m    162\u001b[0m         hasbytes \u001b[38;5;241m=\u001b[39m \u001b[38;5;28;01mTrue\u001b[39;00m\n\u001b[1;32m    163\u001b[0m     \u001b[38;5;28;01melse\u001b[39;00m:\n\u001b[0;32m--> 164\u001b[0m         \u001b[38;5;28;01mraise\u001b[39;00m \u001b[38;5;167;01mTypeError\u001b[39;00m(\u001b[38;5;124mf\u001b[39m\u001b[38;5;124m'\u001b[39m\u001b[38;5;132;01m{\u001b[39;00mfuncname\u001b[38;5;132;01m}\u001b[39;00m\u001b[38;5;124m() argument must be str, bytes, or \u001b[39m\u001b[38;5;124m'\u001b[39m\n\u001b[1;32m    165\u001b[0m                         \u001b[38;5;124mf\u001b[39m\u001b[38;5;124m'\u001b[39m\u001b[38;5;124mos.PathLike object, not \u001b[39m\u001b[38;5;132;01m{\u001b[39;00ms\u001b[38;5;241m.\u001b[39m\u001b[38;5;18m__class__\u001b[39m\u001b[38;5;241m.\u001b[39m\u001b[38;5;18m__name__\u001b[39m\u001b[38;5;132;01m!r}\u001b[39;00m\u001b[38;5;124m'\u001b[39m) \u001b[38;5;28;01mfrom\u001b[39;00m \u001b[38;5;28;01mNone\u001b[39;00m\n\u001b[1;32m    166\u001b[0m \u001b[38;5;28;01mif\u001b[39;00m hasstr \u001b[38;5;129;01mand\u001b[39;00m hasbytes:\n\u001b[1;32m    167\u001b[0m     \u001b[38;5;28;01mraise\u001b[39;00m \u001b[38;5;167;01mTypeError\u001b[39;00m(\u001b[38;5;124m\"\u001b[39m\u001b[38;5;124mCan\u001b[39m\u001b[38;5;124m'\u001b[39m\u001b[38;5;124mt mix strings and bytes in path components\u001b[39m\u001b[38;5;124m\"\u001b[39m) \u001b[38;5;28;01mfrom\u001b[39;00m \u001b[38;5;28;01mNone\u001b[39;00m\n",
      "\u001b[0;31mTypeError\u001b[0m: join() argument must be str, bytes, or os.PathLike object, not 'float'"
     ]
    }
   ],
   "source": [
    "## STEP 2: RUN GOOGLE IMAGE SEARCHES TO COLLECT PICTURE LINKS + ARTICLES THEY ARE IN\n",
    "\n",
    "class GoogleImageScraper:\n",
    "    def __init__(self):\n",
    "        chrome_options = Options()\n",
    "        # chrome_options.add_argument('--headless')\n",
    "        self.driver = webdriver.Chrome(options=chrome_options)\n",
    "        \n",
    "    def hover_batch(self, elements, batch_size=5, delay=0.5):\n",
    "        actions = ActionChains(self.driver)\n",
    "        for i in range(0, len(elements), batch_size):\n",
    "            batch = elements[i:i + batch_size]\n",
    "            for el in batch:\n",
    "                actions.move_to_element(el)\n",
    "            actions.perform()\n",
    "            time.sleep(delay)\n",
    "                            \n",
    "    def scrape_images(self, name, year, search_url, max_links=30):\n",
    "        save_dir = os.path.join('pictures', name, str(year))\n",
    "        os.makedirs(save_dir, exist_ok=True)\n",
    "        \n",
    "        try:\n",
    "            self.driver.get(search_url)\n",
    "            time.sleep(2)\n",
    "            print(search_url)\n",
    "            print(name, year)\n",
    "            \n",
    "            # Wait for search div and image elements\n",
    "            search_div = WebDriverWait(self.driver, 10).until(\n",
    "                EC.presence_of_element_located((By.ID, \"search\"))\n",
    "            )\n",
    "            time.sleep(2)\n",
    "\n",
    "            print('hover start')        \n",
    "            image_divs = search_div.find_elements(By.CSS_SELECTOR, 'div[jsname=\"qQjpJ\"]')\n",
    "            image_divs = image_divs[:max_links]  \n",
    "            self.hover_batch(image_divs, batch_size=5, delay=0.5)\n",
    "            print('hover done')        \n",
    "               \n",
    "            elements = WebDriverWait(search_div, 10).until(\n",
    "                EC.presence_of_all_elements_located((By.CSS_SELECTOR, 'div[jsname=\"qQjpJ\"] h3 a'))\n",
    "            )\n",
    "            print(f\"Found {len(elements)} potential image elements\")\n",
    "            time.sleep(2)\n",
    "\n",
    "            image_urls = []\n",
    "            for i, element in enumerate(elements):\n",
    "                href = element.get_attribute('href')\n",
    "                if href:\n",
    "                    match = re.search(r'imgurl=([^&]+)', href)\n",
    "                    match_story =  re.search(r'imgrefurl=([^&]+)', href)\n",
    "                    if match and match_story:\n",
    "                        image_url = urllib.parse.unquote(match.group(1))\n",
    "                        story_url = urllib.parse.unquote(match_story.group(1))\n",
    "                        print(f'element {i} has url {image_url}')                                                \n",
    "                        image_urls.append([image_url, story_url])\n",
    "                        if len(image_urls) >= max_links:\n",
    "                            break\n",
    "            \n",
    "            # save image urls to csv\n",
    "            image_urls_df = pd.DataFrame(image_urls, columns=['image_url', 'story_url'])\n",
    "            image_urls_df.to_csv(os.path.join(save_dir, 'image_urls.csv'), index=False)            \n",
    "\n",
    "        except Exception as e:\n",
    "            print(f\"Error processing {name} for year {year}: {e}\")\n",
    "                \n",
    "    def close(self):\n",
    "        self.driver.quit()\n",
    "\n",
    "# Collect image articles/picture file links via selenium:\n",
    "\n",
    "search_df = pd.read_csv(\"ceo_image_search_urls.csv\")\n",
    "\n",
    "# test_df = search_df.sample(5) # run the search on subset \n",
    "# test_df\n",
    "\n",
    "scraper = GoogleImageScraper()\n",
    "for _, row in tqdm.tqdm(search_df.iterrows(), total=len(search_df), desc=\"Scraping\"):\n",
    "\n",
    "    try:\n",
    "        files = os.listdir(f'pictures/{row[\"Name\"]}/{row[\"Year\"]}/')\n",
    "    except:\n",
    "        files = []\n",
    "        \n",
    "    if len([f for f in files if f.endswith('png') or f.endswith('jpg') or f.endswith('jpeg')]) >0:\n",
    "        print('Skipping ',row['Name'], row['Year'])\n",
    "        continue\n",
    "    \n",
    "    scraper.scrape_images(\n",
    "        name=row[\"Name\"],\n",
    "        year=row[\"Year\"],\n",
    "        search_url=row[\"Search_URL\"],\n",
    "        max_links=4\n",
    "    )\n",
    "scraper.close()    "
   ]
  },
  {
   "cell_type": "code",
   "execution_count": null,
   "id": "838c7efa-9d99-4663-b6ba-a753f0c55370",
   "metadata": {},
   "outputs": [],
   "source": []
  },
  {
   "cell_type": "code",
   "execution_count": 10,
   "id": "bb46cd8b-ed82-40a4-8462-776faff4d803",
   "metadata": {
    "scrolled": true
   },
   "outputs": [
    {
     "name": "stderr",
     "output_type": "stream",
     "text": [
      "0it [00:00, ?it/s]"
     ]
    },
    {
     "name": "stdout",
     "output_type": "stream",
     "text": [
      "Steve Jobs\n",
      "Downloading 4 images\n",
      "Downloaded pic1.jpg\n",
      "Downloaded pic2.jpg\n",
      "Downloaded pic3.jpg\n"
     ]
    },
    {
     "name": "stderr",
     "output_type": "stream",
     "text": [
      "1it [00:00,  1.46it/s]"
     ]
    },
    {
     "name": "stdout",
     "output_type": "stream",
     "text": [
      "Downloaded pic4.jpg\n",
      "Tim Cook\n",
      "Downloading 4 images\n",
      "Downloaded pic1.png\n",
      "Downloaded pic2.png\n"
     ]
    },
    {
     "name": "stderr",
     "output_type": "stream",
     "text": [
      "2it [00:01,  1.41it/s]"
     ]
    },
    {
     "name": "stdout",
     "output_type": "stream",
     "text": [
      "Downloaded pic3.jpg\n",
      "Downloaded pic4.png\n",
      "Tim Cook\n",
      "Downloading 4 images\n",
      "Downloaded pic1.jpg\n",
      "Downloaded pic2.jpg\n",
      "Downloaded pic3.jpg\n"
     ]
    },
    {
     "name": "stderr",
     "output_type": "stream",
     "text": [
      "3it [00:02,  1.04s/it]"
     ]
    },
    {
     "name": "stdout",
     "output_type": "stream",
     "text": [
      "Downloaded pic4.jpg\n",
      "Tim Cook\n",
      "Downloading 4 images\n",
      "Downloaded pic1.jpg\n",
      "Downloaded pic2.jpg\n",
      "Downloaded pic3.jpg\n"
     ]
    },
    {
     "name": "stderr",
     "output_type": "stream",
     "text": [
      "4it [00:03,  1.05it/s]"
     ]
    },
    {
     "name": "stdout",
     "output_type": "stream",
     "text": [
      "Downloaded pic4.jpg\n",
      "Tim Cook\n",
      "Downloading 4 images\n",
      "Downloaded pic1.jpg\n",
      "Downloaded pic2.jpg\n"
     ]
    },
    {
     "name": "stderr",
     "output_type": "stream",
     "text": [
      "5it [00:22,  7.36s/it]"
     ]
    },
    {
     "name": "stdout",
     "output_type": "stream",
     "text": [
      "Downloaded pic3.jpg\n",
      "Downloaded pic4.jpg\n",
      "Tim Cook\n",
      "Downloading 15 images\n",
      "Downloaded pic1.jpg\n",
      "Downloaded pic2.jpg\n",
      "Downloaded pic3.jpg\n",
      "Downloaded pic4.jpg\n",
      "Downloaded pic5.jpg\n",
      "Downloaded pic6.jpg\n",
      "Downloaded pic7.jpg\n",
      "Downloaded pic9.jpg\n",
      "Downloaded pic10.jpg\n",
      "Downloaded pic11.png\n",
      "Downloaded pic12.jpg\n",
      "Downloaded pic13.jpg\n",
      "Downloaded pic14.jpg\n"
     ]
    },
    {
     "name": "stderr",
     "output_type": "stream",
     "text": [
      "6it [00:26,  6.28s/it]"
     ]
    },
    {
     "name": "stdout",
     "output_type": "stream",
     "text": [
      "Downloaded pic15.jpg\n",
      "Tim Cook\n",
      "Downloading 4 images\n",
      "Downloaded pic1.jpg\n",
      "Downloaded pic2.jpg\n"
     ]
    },
    {
     "name": "stderr",
     "output_type": "stream",
     "text": [
      "7it [00:27,  4.59s/it]"
     ]
    },
    {
     "name": "stdout",
     "output_type": "stream",
     "text": [
      "Downloaded pic3.jpg\n",
      "Downloaded pic4.webp\n",
      "Tim Cook\n",
      "Downloading 4 images\n",
      "Downloaded pic1.png\n",
      "Downloaded pic2.jpg\n",
      "Downloaded pic3.jpg\n"
     ]
    },
    {
     "name": "stderr",
     "output_type": "stream",
     "text": [
      "8it [00:29,  3.69s/it]"
     ]
    },
    {
     "name": "stdout",
     "output_type": "stream",
     "text": [
      "Downloaded pic4.png\n",
      "Tim Cook\n",
      "Downloading 4 images\n",
      "Downloaded pic1.jpg\n",
      "Downloaded pic2.png\n",
      "Downloaded pic3.jpg\n"
     ]
    },
    {
     "name": "stderr",
     "output_type": "stream",
     "text": [
      "9it [00:30,  2.91s/it]"
     ]
    },
    {
     "name": "stdout",
     "output_type": "stream",
     "text": [
      "Downloaded pic4.jpg\n",
      "Tim Cook\n",
      "Downloading 4 images\n",
      "Downloaded pic1.jpg\n",
      "Downloaded pic2.jpg\n"
     ]
    },
    {
     "name": "stderr",
     "output_type": "stream",
     "text": [
      "10it [00:31,  2.25s/it]"
     ]
    },
    {
     "name": "stdout",
     "output_type": "stream",
     "text": [
      "Downloaded pic3.jpg\n",
      "Steve Ballmer\n",
      "Downloading 4 images\n",
      "Downloaded pic1.jpg\n",
      "Downloaded pic2.jpg\n"
     ]
    },
    {
     "name": "stderr",
     "output_type": "stream",
     "text": [
      "11it [00:31,  1.74s/it]"
     ]
    },
    {
     "name": "stdout",
     "output_type": "stream",
     "text": [
      "Downloaded pic3.jpg\n",
      "Downloaded pic4.jpg\n",
      "Steve Ballmer\n",
      "Downloading 4 images\n",
      "Downloaded pic1.jpg\n",
      "Downloaded pic2.jpg\n",
      "Downloaded pic3.jpg\n"
     ]
    },
    {
     "name": "stderr",
     "output_type": "stream",
     "text": [
      "12it [00:34,  2.01s/it]"
     ]
    },
    {
     "name": "stdout",
     "output_type": "stream",
     "text": [
      "Downloaded pic4.gif\n",
      "Steve Ballmer\n",
      "Downloading 4 images\n",
      "Downloaded pic1.png\n",
      "Downloaded pic2.jpg\n",
      "Downloaded pic3.jpg\n"
     ]
    },
    {
     "name": "stderr",
     "output_type": "stream",
     "text": [
      "13it [00:35,  1.76s/it]"
     ]
    },
    {
     "name": "stdout",
     "output_type": "stream",
     "text": [
      "Downloaded pic4.jpg\n",
      "Steve Ballmer\n",
      "Downloading 4 images\n",
      "Downloaded pic1.jpg\n",
      "Downloaded pic2.jpg\n"
     ]
    },
    {
     "name": "stderr",
     "output_type": "stream",
     "text": [
      "14it [00:36,  1.46s/it]"
     ]
    },
    {
     "name": "stdout",
     "output_type": "stream",
     "text": [
      "Downloaded pic3.jpg\n",
      "Downloaded pic4.jpg\n",
      "Satya Nadella\n",
      "Downloading 4 images\n",
      "Downloaded pic1.jpg\n",
      "Downloaded pic2.jpg\n"
     ]
    },
    {
     "name": "stderr",
     "output_type": "stream",
     "text": [
      "15it [00:37,  1.21s/it]"
     ]
    },
    {
     "name": "stdout",
     "output_type": "stream",
     "text": [
      "Downloaded pic3.jpg\n",
      "Downloaded pic4.jpg\n",
      "Satya Nadella\n",
      "Downloading 4 images\n",
      "Downloaded pic1.jpg\n",
      "Downloaded pic2.jpg\n",
      "Downloaded pic3.jpg\n"
     ]
    },
    {
     "name": "stderr",
     "output_type": "stream",
     "text": [
      "16it [00:38,  1.23s/it]"
     ]
    },
    {
     "name": "stdout",
     "output_type": "stream",
     "text": [
      "Downloaded pic4.jpg\n",
      "Satya Nadella\n",
      "Downloading 4 images\n",
      "Downloaded pic1.jpg\n",
      "Downloaded pic2.jpg\n",
      "Downloaded pic3.jpg\n"
     ]
    },
    {
     "name": "stderr",
     "output_type": "stream",
     "text": [
      "17it [00:39,  1.12s/it]"
     ]
    },
    {
     "name": "stdout",
     "output_type": "stream",
     "text": [
      "Downloaded pic4.jpg\n",
      "Satya Nadella\n",
      "Downloading 4 images\n",
      "Downloaded pic3.jpg\n"
     ]
    },
    {
     "name": "stderr",
     "output_type": "stream",
     "text": [
      "18it [00:40,  1.11s/it]"
     ]
    },
    {
     "name": "stdout",
     "output_type": "stream",
     "text": [
      "Downloaded pic4.jpg\n",
      "Satya Nadella\n",
      "Downloading 4 images\n",
      "Downloaded pic1.jpg\n",
      "Downloaded pic2.jpg\n"
     ]
    },
    {
     "name": "stderr",
     "output_type": "stream",
     "text": [
      "19it [00:42,  1.28s/it]"
     ]
    },
    {
     "name": "stdout",
     "output_type": "stream",
     "text": [
      "Downloaded pic3.jpg\n",
      "Downloaded pic4.jpg\n",
      "Satya Nadella\n",
      "Downloading 4 images\n",
      "Downloaded pic1.jpg\n",
      "Downloaded pic2.jpg\n"
     ]
    },
    {
     "name": "stderr",
     "output_type": "stream",
     "text": [
      "20it [00:42,  1.01s/it]"
     ]
    },
    {
     "name": "stdout",
     "output_type": "stream",
     "text": [
      "Downloaded pic3.jpg\n",
      "Jensen Huang\n",
      "Downloading 4 images\n",
      "Downloaded pic1.jpg\n"
     ]
    },
    {
     "name": "stderr",
     "output_type": "stream",
     "text": [
      "21it [00:43,  1.12it/s]"
     ]
    },
    {
     "name": "stdout",
     "output_type": "stream",
     "text": [
      "Downloaded pic2.jpg\n",
      "Downloaded pic3.jpg\n",
      "Downloaded pic4.jpg\n",
      "Jensen Huang\n",
      "Downloading 4 images\n",
      "Downloaded pic1.jpg\n",
      "Downloaded pic2.jpg\n",
      "Downloaded pic3.jpg\n"
     ]
    },
    {
     "name": "stderr",
     "output_type": "stream",
     "text": [
      "22it [00:44,  1.04it/s]"
     ]
    },
    {
     "name": "stdout",
     "output_type": "stream",
     "text": [
      "Downloaded pic4.jpg\n",
      "Jensen Huang\n",
      "Downloading 4 images\n",
      "Downloaded pic1.jpg\n",
      "Downloaded pic2.jpg\n",
      "Downloaded pic3.jpg\n"
     ]
    },
    {
     "name": "stderr",
     "output_type": "stream",
     "text": [
      "23it [00:44,  1.16it/s]"
     ]
    },
    {
     "name": "stdout",
     "output_type": "stream",
     "text": [
      "Downloaded pic4.jpg\n",
      "Jensen Huang\n",
      "Downloading 4 images\n",
      "Error downloading image 0: HTTPSConnectionPool(host='www.eetimes.com', port=443): Read timed out. (read timeout=30)\n",
      "Downloaded pic2.jpg\n",
      "Downloaded pic3.jpg\n"
     ]
    },
    {
     "name": "stderr",
     "output_type": "stream",
     "text": [
      "24it [01:15,  9.84s/it]"
     ]
    },
    {
     "name": "stdout",
     "output_type": "stream",
     "text": [
      "Downloaded pic4.jpg\n",
      "Jensen Huang\n",
      "Downloading 4 images\n",
      "Downloaded pic1.jpg\n",
      "Downloaded pic2.png\n",
      "Downloaded pic3.jpg\n"
     ]
    },
    {
     "name": "stderr",
     "output_type": "stream",
     "text": [
      "25it [01:17,  7.33s/it]"
     ]
    },
    {
     "name": "stdout",
     "output_type": "stream",
     "text": [
      "Downloaded pic4.jpg\n",
      "Jensen Huang\n",
      "Downloading 4 images\n",
      "Downloaded pic1.jpg\n",
      "Downloaded pic2.jpg\n"
     ]
    },
    {
     "name": "stderr",
     "output_type": "stream",
     "text": [
      "26it [01:18,  5.54s/it]"
     ]
    },
    {
     "name": "stdout",
     "output_type": "stream",
     "text": [
      "Downloaded pic3.png\n",
      "Downloaded pic4.jpg\n",
      "Jensen Huang\n",
      "Downloading 4 images\n",
      "Downloaded pic1.jpg\n",
      "Downloaded pic2.jpg\n",
      "Downloaded pic3.jpg\n"
     ]
    },
    {
     "name": "stderr",
     "output_type": "stream",
     "text": [
      "27it [01:20,  4.50s/it]"
     ]
    },
    {
     "name": "stdout",
     "output_type": "stream",
     "text": [
      "Downloaded pic4.bin\n",
      "Jensen Huang\n",
      "Downloading 4 images\n",
      "Downloaded pic1.jpg\n",
      "Downloaded pic2.jpg\n"
     ]
    },
    {
     "name": "stderr",
     "output_type": "stream",
     "text": [
      "28it [01:21,  3.54s/it]"
     ]
    },
    {
     "name": "stdout",
     "output_type": "stream",
     "text": [
      "Downloaded pic3.jpg\n",
      "Downloaded pic4.jpg\n",
      "Jensen Huang\n",
      "Downloading 4 images\n",
      "Downloaded pic1.jpg\n",
      "Downloaded pic2.jpg\n"
     ]
    },
    {
     "name": "stderr",
     "output_type": "stream",
     "text": [
      "29it [01:22,  2.79s/it]"
     ]
    },
    {
     "name": "stdout",
     "output_type": "stream",
     "text": [
      "Downloaded pic3.jpg\n",
      "Downloaded pic4.jpg\n",
      "Jensen Huang\n",
      "Downloading 4 images\n",
      "Downloaded pic1.png\n",
      "Downloaded pic2.jpg\n",
      "Downloaded pic3.bin\n"
     ]
    },
    {
     "name": "stderr",
     "output_type": "stream",
     "text": [
      "30it [01:23,  2.24s/it]"
     ]
    },
    {
     "name": "stdout",
     "output_type": "stream",
     "text": [
      "Downloaded pic4.jpg\n",
      "Scott A. McGregor\n",
      "Downloading 4 images\n",
      "Downloaded pic1.svg\n"
     ]
    },
    {
     "name": "stderr",
     "output_type": "stream",
     "text": [
      "31it [01:24,  1.65s/it]"
     ]
    },
    {
     "name": "stdout",
     "output_type": "stream",
     "text": [
      "Scott A. McGregor\n",
      "Downloading 4 images\n",
      "Downloaded pic2.jpg\n"
     ]
    },
    {
     "name": "stderr",
     "output_type": "stream",
     "text": [
      "32it [01:24,  1.27s/it]"
     ]
    },
    {
     "name": "stdout",
     "output_type": "stream",
     "text": [
      "Scott A. McGregor\n",
      "Downloading 4 images\n",
      "Downloaded pic1.jpg\n",
      "Downloaded pic2.jpg\n"
     ]
    },
    {
     "name": "stderr",
     "output_type": "stream",
     "text": [
      "33it [01:25,  1.16s/it]"
     ]
    },
    {
     "name": "stdout",
     "output_type": "stream",
     "text": [
      "Scott A. McGregor\n",
      "Downloading 4 images\n",
      "Downloaded pic1.jpg\n",
      "Downloaded pic2.jpg\n",
      "Downloaded pic3.jpg\n"
     ]
    },
    {
     "name": "stderr",
     "output_type": "stream",
     "text": [
      "34it [01:26,  1.12s/it]"
     ]
    },
    {
     "name": "stdout",
     "output_type": "stream",
     "text": [
      "Downloaded pic4.jpg\n",
      "Scott A. McGregor\n",
      "Downloading 4 images\n",
      "Downloaded pic1.jpg\n",
      "Downloaded pic2.jpg\n",
      "Downloaded pic3.jpg\n"
     ]
    },
    {
     "name": "stderr",
     "output_type": "stream",
     "text": [
      "35it [01:27,  1.11s/it]"
     ]
    },
    {
     "name": "stdout",
     "output_type": "stream",
     "text": [
      "Downloaded pic4.jpg\n",
      "Scott A. McGregor\n",
      "Downloading 4 images\n",
      "Error downloading image 0: HTTPSConnectionPool(host='www.eetimes.com', port=443): Read timed out. (read timeout=30)\n",
      "Downloaded pic2.jpg\n"
     ]
    },
    {
     "name": "stderr",
     "output_type": "stream",
     "text": [
      "36it [01:59, 10.30s/it]"
     ]
    },
    {
     "name": "stdout",
     "output_type": "stream",
     "text": [
      "Downloaded pic3.jpg\n",
      "Downloaded pic4.jpg\n",
      "Hock Tan\n",
      "Downloading 4 images\n",
      "Downloaded pic1.jpg\n",
      "Downloaded pic2.jpg\n",
      "Downloaded pic3.jpg\n"
     ]
    },
    {
     "name": "stderr",
     "output_type": "stream",
     "text": [
      "37it [02:01,  7.79s/it]"
     ]
    },
    {
     "name": "stdout",
     "output_type": "stream",
     "text": [
      "Downloaded pic4.jpg\n",
      "Hock Tan\n",
      "Downloading 4 images\n",
      "Downloaded pic1.webp\n",
      "Downloaded pic2.jpg\n",
      "Downloaded pic3.jpg\n"
     ]
    },
    {
     "name": "stderr",
     "output_type": "stream",
     "text": [
      "38it [02:32, 14.92s/it]"
     ]
    },
    {
     "name": "stdout",
     "output_type": "stream",
     "text": [
      "Error downloading image 3: HTTPSConnectionPool(host='www.eetimes.com', port=443): Read timed out. (read timeout=30)\n",
      "Hock Tan\n",
      "Downloading 4 images\n",
      "Downloaded pic1.jpg\n",
      "Downloaded pic2.jpg\n",
      "Downloaded pic3.jpg\n"
     ]
    },
    {
     "name": "stderr",
     "output_type": "stream",
     "text": [
      "39it [02:33, 10.72s/it]"
     ]
    },
    {
     "name": "stdout",
     "output_type": "stream",
     "text": [
      "Downloaded pic4.jpg\n",
      "Hock Tan\n",
      "Downloading 4 images\n",
      "Downloaded pic1.jpg\n",
      "Downloaded pic2.jpg\n",
      "Downloaded pic3.jpg\n"
     ]
    },
    {
     "name": "stderr",
     "output_type": "stream",
     "text": [
      "40it [02:35,  7.95s/it]"
     ]
    },
    {
     "name": "stdout",
     "output_type": "stream",
     "text": [
      "Downloaded pic4.jpg\n",
      "Shantanu Narayen\n",
      "Downloading 4 images\n",
      "Downloaded pic1.jpg\n",
      "Downloaded pic3.jpg\n"
     ]
    },
    {
     "name": "stderr",
     "output_type": "stream",
     "text": [
      "41it [02:36,  5.85s/it]"
     ]
    },
    {
     "name": "stdout",
     "output_type": "stream",
     "text": [
      "Downloaded pic4.jpg\n",
      "Shantanu Narayen\n",
      "Downloading 4 images\n",
      "Downloaded pic1.jpg\n",
      "Downloaded pic2.jpg\n",
      "Downloaded pic3.jpg\n"
     ]
    },
    {
     "name": "stderr",
     "output_type": "stream",
     "text": [
      "42it [02:38,  4.81s/it]"
     ]
    },
    {
     "name": "stdout",
     "output_type": "stream",
     "text": [
      "Downloaded pic4.jpg\n",
      "Shantanu Narayen\n",
      "Downloading 4 images\n",
      "Downloaded pic1.jpg\n"
     ]
    },
    {
     "name": "stderr",
     "output_type": "stream",
     "text": [
      "43it [02:38,  3.50s/it]"
     ]
    },
    {
     "name": "stdout",
     "output_type": "stream",
     "text": [
      "Downloaded pic2.jpg\n",
      "Downloaded pic3.jpg\n",
      "Downloaded pic4.jpg\n",
      "Shantanu Narayen\n",
      "Downloading 4 images\n",
      "Downloaded pic1.jpg\n",
      "Downloaded pic2.jpg\n",
      "Downloaded pic3.jpg\n"
     ]
    },
    {
     "name": "stderr",
     "output_type": "stream",
     "text": [
      "44it [02:39,  2.67s/it]"
     ]
    },
    {
     "name": "stdout",
     "output_type": "stream",
     "text": [
      "Downloaded pic4.jpg\n",
      "Shantanu Narayen\n",
      "Downloading 4 images\n",
      "Downloaded pic1.jpg\n",
      "Downloaded pic2.jpg\n",
      "Error downloading image 2: ('Connection aborted.', RemoteDisconnected('Remote end closed connection without response'))\n"
     ]
    },
    {
     "name": "stderr",
     "output_type": "stream",
     "text": [
      "45it [02:58,  7.56s/it]"
     ]
    },
    {
     "name": "stdout",
     "output_type": "stream",
     "text": [
      "Downloaded pic4.jpg\n",
      "Shantanu Narayen\n",
      "Downloading 4 images\n",
      "Downloaded pic1.jpg\n",
      "Downloaded pic2.jpg\n",
      "Downloaded pic3.jpg\n"
     ]
    },
    {
     "name": "stderr",
     "output_type": "stream",
     "text": [
      "46it [03:03,  6.71s/it]"
     ]
    },
    {
     "name": "stdout",
     "output_type": "stream",
     "text": [
      "Downloaded pic4.jpg\n",
      "Shantanu Narayen\n",
      "Downloading 4 images\n",
      "Downloaded pic1.jpg\n",
      "Downloaded pic2.jpg\n",
      "Downloaded pic3.jpg\n"
     ]
    },
    {
     "name": "stderr",
     "output_type": "stream",
     "text": [
      "47it [03:06,  5.49s/it]"
     ]
    },
    {
     "name": "stdout",
     "output_type": "stream",
     "text": [
      "Downloaded pic4.jpg\n",
      "Shantanu Narayen\n",
      "Downloading 4 images\n",
      "Downloaded pic1.jpg\n",
      "Downloaded pic2.png\n"
     ]
    },
    {
     "name": "stderr",
     "output_type": "stream",
     "text": [
      "48it [03:06,  4.03s/it]"
     ]
    },
    {
     "name": "stdout",
     "output_type": "stream",
     "text": [
      "Downloaded pic3.jpg\n",
      "Downloaded pic4.jpg\n",
      "Shantanu Narayen\n",
      "Downloading 4 images\n",
      "Downloaded pic1.jpg\n",
      "Downloaded pic2.jpg\n",
      "Downloaded pic3.jpg\n"
     ]
    },
    {
     "name": "stderr",
     "output_type": "stream",
     "text": [
      "49it [03:07,  3.13s/it]"
     ]
    },
    {
     "name": "stdout",
     "output_type": "stream",
     "text": [
      "Downloaded pic4.jpg\n",
      "Shantanu Narayen\n",
      "Downloading 4 images\n",
      "Error downloading image 0: HTTPSConnectionPool(host='www.adobe.com', port=443): Read timed out. (read timeout=30)\n",
      "Downloaded pic2.jpg\n",
      "Downloaded pic3.jpg\n"
     ]
    },
    {
     "name": "stderr",
     "output_type": "stream",
     "text": [
      "50it [03:38, 11.59s/it]"
     ]
    },
    {
     "name": "stdout",
     "output_type": "stream",
     "text": [
      "Downloaded pic4.jpg\n",
      "John T. Chambers\n",
      "Downloading 4 images\n",
      "Downloaded pic1.jpg\n",
      "Downloaded pic2.jpg\n",
      "Downloaded pic3.gif\n"
     ]
    },
    {
     "name": "stderr",
     "output_type": "stream",
     "text": [
      "51it [03:40,  8.68s/it]"
     ]
    },
    {
     "name": "stdout",
     "output_type": "stream",
     "text": [
      "Downloaded pic4.jpg\n",
      "John T. Chambers\n",
      "Downloading 4 images\n",
      "Downloaded pic1.jpg\n",
      "Downloaded pic2.jpg\n",
      "Downloaded pic3.jpg\n"
     ]
    },
    {
     "name": "stderr",
     "output_type": "stream",
     "text": [
      "52it [03:41,  6.37s/it]"
     ]
    },
    {
     "name": "stdout",
     "output_type": "stream",
     "text": [
      "Downloaded pic4.jpg\n",
      "John T. Chambers\n",
      "Downloading 4 images\n",
      "Downloaded pic1.jpg\n",
      "Downloaded pic2.png\n"
     ]
    },
    {
     "name": "stderr",
     "output_type": "stream",
     "text": [
      "53it [03:44,  5.28s/it]"
     ]
    },
    {
     "name": "stdout",
     "output_type": "stream",
     "text": [
      "Downloaded pic3.jpg\n",
      "Downloaded pic4.jpg\n",
      "John T. Chambers\n",
      "Downloading 4 images\n",
      "Downloaded pic1.jpg\n",
      "Downloaded pic2.jpg\n",
      "Downloaded pic3.jpg\n"
     ]
    },
    {
     "name": "stderr",
     "output_type": "stream",
     "text": [
      "54it [03:45,  3.92s/it]"
     ]
    },
    {
     "name": "stdout",
     "output_type": "stream",
     "text": [
      "Downloaded pic4.png\n",
      "John T. Chambers\n",
      "Downloading 4 images\n",
      "Downloaded pic1.jpg\n",
      "Downloaded pic2.jpg\n"
     ]
    },
    {
     "name": "stderr",
     "output_type": "stream",
     "text": [
      "55it [03:46,  3.02s/it]"
     ]
    },
    {
     "name": "stdout",
     "output_type": "stream",
     "text": [
      "Downloaded pic3.jpg\n",
      "Downloaded pic4.jpg\n",
      "Chuck Robbins\n",
      "Downloading 4 images\n",
      "Downloaded pic1.jpg\n",
      "Downloaded pic2.jpg\n",
      "Downloaded pic3.png\n"
     ]
    },
    {
     "name": "stderr",
     "output_type": "stream",
     "text": [
      "56it [03:47,  2.44s/it]"
     ]
    },
    {
     "name": "stdout",
     "output_type": "stream",
     "text": [
      "Downloaded pic4.jpg\n",
      "Chuck Robbins\n",
      "Downloading 4 images\n",
      "Downloaded pic1.jpg\n",
      "Downloaded pic2.jpg\n"
     ]
    },
    {
     "name": "stderr",
     "output_type": "stream",
     "text": [
      "57it [03:48,  1.97s/it]"
     ]
    },
    {
     "name": "stdout",
     "output_type": "stream",
     "text": [
      "Downloaded pic3.jpg\n",
      "Downloaded pic4.jpg\n",
      "Chuck Robbins\n",
      "Downloading 4 images\n",
      "Downloaded pic1.jpg\n",
      "Downloaded pic2.jpg\n"
     ]
    },
    {
     "name": "stderr",
     "output_type": "stream",
     "text": [
      "58it [03:49,  1.86s/it]"
     ]
    },
    {
     "name": "stdout",
     "output_type": "stream",
     "text": [
      "Downloaded pic3.jpg\n",
      "Downloaded pic4.jpg\n",
      "Chuck Robbins\n",
      "Downloading 4 images\n",
      "Downloaded pic1.jpg\n",
      "Downloaded pic2.jpg\n",
      "Downloaded pic3.png\n"
     ]
    },
    {
     "name": "stderr",
     "output_type": "stream",
     "text": [
      "59it [03:51,  1.69s/it]"
     ]
    },
    {
     "name": "stdout",
     "output_type": "stream",
     "text": [
      "Downloaded pic4.jpg\n",
      "Chuck Robbins\n",
      "Downloading 4 images\n",
      "Downloaded pic1.jpg\n",
      "Downloaded pic2.jpg\n",
      "Downloaded pic3.png\n"
     ]
    },
    {
     "name": "stderr",
     "output_type": "stream",
     "text": [
      "60it [03:51,  1.43s/it]"
     ]
    },
    {
     "name": "stdout",
     "output_type": "stream",
     "text": [
      "Downloaded pic4.jpg\n",
      "Larry Ellison\n",
      "Downloading 4 images\n",
      "Downloaded pic1.jpg\n",
      "Downloaded pic2.jpg\n",
      "Downloaded pic3.jpg\n"
     ]
    },
    {
     "name": "stderr",
     "output_type": "stream",
     "text": [
      "61it [03:53,  1.33s/it]"
     ]
    },
    {
     "name": "stdout",
     "output_type": "stream",
     "text": [
      "Downloaded pic4.jpg\n",
      "Larry Ellison\n",
      "Downloading 4 images\n",
      "Downloaded pic1.jpg\n",
      "Downloaded pic2.jpg\n"
     ]
    },
    {
     "name": "stderr",
     "output_type": "stream",
     "text": [
      "62it [03:54,  1.23s/it]"
     ]
    },
    {
     "name": "stdout",
     "output_type": "stream",
     "text": [
      "Downloaded pic3.jpg\n",
      "Downloaded pic4.jpg\n",
      "Larry Ellison\n",
      "Downloading 4 images\n",
      "Downloaded pic1.jpg\n",
      "Downloaded pic2.jpg\n",
      "Downloaded pic3.jpg\n"
     ]
    },
    {
     "name": "stderr",
     "output_type": "stream",
     "text": [
      "63it [03:55,  1.24s/it]"
     ]
    },
    {
     "name": "stdout",
     "output_type": "stream",
     "text": [
      "Downloaded pic4.jpg\n",
      "Larry Ellison\n",
      "Downloading 4 images\n",
      "Downloaded pic1.jpg\n",
      "Downloaded pic2.jpg\n",
      "Downloaded pic3.jpg\n"
     ]
    },
    {
     "name": "stderr",
     "output_type": "stream",
     "text": [
      "64it [03:56,  1.13s/it]"
     ]
    },
    {
     "name": "stdout",
     "output_type": "stream",
     "text": [
      "Downloaded pic4.jpg\n",
      "Safra Catz & Mark Hurd\n",
      "Downloading 4 images\n",
      "Downloaded pic1.jpg\n",
      "Downloaded pic2.jpg\n"
     ]
    },
    {
     "name": "stderr",
     "output_type": "stream",
     "text": [
      "65it [03:58,  1.40s/it]"
     ]
    },
    {
     "name": "stdout",
     "output_type": "stream",
     "text": [
      "Downloaded pic3.jpg\n",
      "Downloaded pic4.jpg\n",
      "Safra Catz & Mark Hurd\n",
      "Downloading 4 images\n",
      "Downloaded pic1.jpg\n",
      "Downloaded pic2.jpg\n"
     ]
    },
    {
     "name": "stderr",
     "output_type": "stream",
     "text": [
      "66it [03:59,  1.33s/it]"
     ]
    },
    {
     "name": "stdout",
     "output_type": "stream",
     "text": [
      "Downloaded pic3.jpg\n",
      "Safra Catz & Mark Hurd\n",
      "Downloading 4 images\n",
      "Downloaded pic1.jpg\n",
      "Downloaded pic2.jpg\n",
      "Downloaded pic3.jpg\n"
     ]
    },
    {
     "name": "stderr",
     "output_type": "stream",
     "text": [
      "67it [04:00,  1.18s/it]"
     ]
    },
    {
     "name": "stdout",
     "output_type": "stream",
     "text": [
      "Downloaded pic4.jpg\n",
      "Safra Catz & Mark Hurd\n",
      "Downloading 4 images\n",
      "Downloaded pic1.jpg\n",
      "Downloaded pic2.jpg\n",
      "Downloaded pic3.jpg\n"
     ]
    },
    {
     "name": "stderr",
     "output_type": "stream",
     "text": [
      "68it [04:02,  1.50s/it]"
     ]
    },
    {
     "name": "stdout",
     "output_type": "stream",
     "text": [
      "Downloaded pic4.jpg\n",
      "Safra Catz & Mark Hurd\n",
      "Downloading 4 images\n",
      "Downloaded pic2.jpg\n",
      "Downloaded pic3.jpg\n"
     ]
    },
    {
     "name": "stderr",
     "output_type": "stream",
     "text": [
      "69it [04:04,  1.55s/it]"
     ]
    },
    {
     "name": "stdout",
     "output_type": "stream",
     "text": [
      "Downloaded pic4.jpg\n",
      "Safra Catz & Mark Hurd\n",
      "Downloading 4 images\n",
      "Downloaded pic1.jpg\n",
      "Downloaded pic2.jpg\n"
     ]
    },
    {
     "name": "stderr",
     "output_type": "stream",
     "text": [
      "70it [04:05,  1.43s/it]"
     ]
    },
    {
     "name": "stdout",
     "output_type": "stream",
     "text": [
      "Downloaded pic3.jpg\n",
      "Downloaded pic4.jpg\n",
      "Marc Benioff\n",
      "Downloading 4 images\n",
      "Downloaded pic1.jpg\n",
      "Downloaded pic2.jpg\n"
     ]
    },
    {
     "name": "stderr",
     "output_type": "stream",
     "text": [
      "71it [04:06,  1.28s/it]"
     ]
    },
    {
     "name": "stdout",
     "output_type": "stream",
     "text": [
      "Downloaded pic3.jpg\n",
      "Downloaded pic4.jpg\n",
      "Marc Benioff\n",
      "Downloading 4 images\n",
      "Downloaded pic1.jpg\n",
      "Downloaded pic2.jpg\n"
     ]
    },
    {
     "name": "stderr",
     "output_type": "stream",
     "text": [
      "72it [04:07,  1.18s/it]"
     ]
    },
    {
     "name": "stdout",
     "output_type": "stream",
     "text": [
      "Downloaded pic3.gif\n",
      "Downloaded pic4.jpg\n",
      "Marc Benioff\n",
      "Downloading 4 images\n",
      "Downloaded pic1.gif\n",
      "Downloaded pic2.jpg\n"
     ]
    },
    {
     "name": "stderr",
     "output_type": "stream",
     "text": [
      "73it [04:07,  1.07s/it]"
     ]
    },
    {
     "name": "stdout",
     "output_type": "stream",
     "text": [
      "Downloaded pic3.jpg\n",
      "Downloaded pic4.jpg\n",
      "Marc Benioff\n",
      "Downloading 4 images\n",
      "Downloaded pic1.jpg\n",
      "Downloaded pic2.jpg\n",
      "Downloaded pic3.jpg\n"
     ]
    },
    {
     "name": "stderr",
     "output_type": "stream",
     "text": [
      "74it [04:09,  1.21s/it]"
     ]
    },
    {
     "name": "stdout",
     "output_type": "stream",
     "text": [
      "Downloaded pic4.jpg\n",
      "Marc Benioff\n",
      "Downloading 4 images\n",
      "Downloaded pic1.jpg\n",
      "Downloaded pic2.jpg\n",
      "Downloaded pic3.jpg\n"
     ]
    },
    {
     "name": "stderr",
     "output_type": "stream",
     "text": [
      "75it [04:10,  1.14s/it]"
     ]
    },
    {
     "name": "stdout",
     "output_type": "stream",
     "text": [
      "Downloaded pic4.jpg\n",
      "Marc Benioff\n",
      "Downloading 4 images\n",
      "Downloaded pic1.jpg\n",
      "Downloaded pic2.jpg\n"
     ]
    },
    {
     "name": "stderr",
     "output_type": "stream",
     "text": [
      "76it [04:11,  1.09s/it]"
     ]
    },
    {
     "name": "stdout",
     "output_type": "stream",
     "text": [
      "Downloaded pic3.jpg\n",
      "Downloaded pic4.jpg\n",
      "Marc Benioff\n",
      "Downloading 4 images\n",
      "Downloaded pic1.jpg\n",
      "Downloaded pic2.jpg\n",
      "Downloaded pic3.png\n"
     ]
    },
    {
     "name": "stderr",
     "output_type": "stream",
     "text": [
      "77it [04:12,  1.17s/it]"
     ]
    },
    {
     "name": "stdout",
     "output_type": "stream",
     "text": [
      "Downloaded pic4.jpg\n",
      "Marc Benioff\n",
      "Downloading 4 images\n",
      "Downloaded pic1.jpg\n",
      "Downloaded pic2.jpg\n",
      "Downloaded pic3.jpg\n"
     ]
    },
    {
     "name": "stderr",
     "output_type": "stream",
     "text": [
      "78it [04:13,  1.16s/it]"
     ]
    },
    {
     "name": "stdout",
     "output_type": "stream",
     "text": [
      "Downloaded pic4.jpg\n",
      "Marc Benioff\n",
      "Downloading 4 images\n",
      "Downloaded pic1.png\n"
     ]
    },
    {
     "name": "stderr",
     "output_type": "stream",
     "text": [
      "79it [04:14,  1.07s/it]"
     ]
    },
    {
     "name": "stdout",
     "output_type": "stream",
     "text": [
      "Downloaded pic2.jpg\n",
      "Downloaded pic3.jpg\n",
      "Downloaded pic4.jpg\n",
      "Marc Benioff\n",
      "Downloading 4 images\n",
      "Downloaded pic1.jpg\n",
      "Downloaded pic2.jpg\n",
      "Downloaded pic3.jpg\n"
     ]
    },
    {
     "name": "stderr",
     "output_type": "stream",
     "text": [
      "80it [04:15,  1.07s/it]"
     ]
    },
    {
     "name": "stdout",
     "output_type": "stream",
     "text": [
      "Downloaded pic4.jpg\n",
      "Paul Otellini\n",
      "Downloading 4 images\n",
      "Downloaded pic1.jpg\n",
      "Downloaded pic2.jpg\n",
      "Downloaded pic3.jpg\n"
     ]
    },
    {
     "name": "stderr",
     "output_type": "stream",
     "text": [
      "81it [04:16,  1.07it/s]"
     ]
    },
    {
     "name": "stdout",
     "output_type": "stream",
     "text": [
      "Downloaded pic4.jpg\n",
      "Paul Otellini\n",
      "Downloading 4 images\n",
      "Downloaded pic1.jpg\n",
      "Downloaded pic2.jpg\n"
     ]
    },
    {
     "name": "stderr",
     "output_type": "stream",
     "text": [
      "82it [04:17,  1.15it/s]"
     ]
    },
    {
     "name": "stdout",
     "output_type": "stream",
     "text": [
      "Downloaded pic3.jpg\n",
      "Downloaded pic4.jpg\n",
      "Paul Otellini\n",
      "Downloading 4 images\n",
      "Downloaded pic1.jpg\n",
      "Downloaded pic2.jpg\n",
      "Downloaded pic3.png\n"
     ]
    },
    {
     "name": "stderr",
     "output_type": "stream",
     "text": [
      "83it [04:19,  1.16s/it]"
     ]
    },
    {
     "name": "stdout",
     "output_type": "stream",
     "text": [
      "Downloaded pic4.jpg\n",
      "Brian Krzanich\n",
      "Downloading 4 images\n",
      "Downloaded pic1.jpg\n",
      "Downloaded pic2.jpg\n",
      "Downloaded pic3.jpg\n"
     ]
    },
    {
     "name": "stderr",
     "output_type": "stream",
     "text": [
      "84it [04:20,  1.27s/it]"
     ]
    },
    {
     "name": "stdout",
     "output_type": "stream",
     "text": [
      "Downloaded pic4.jpg\n",
      "Brian Krzanich\n",
      "Downloading 4 images\n",
      "Error downloading image 0: HTTPSConnectionPool(host='mms.businesswire.com', port=443): Read timed out. (read timeout=30)\n",
      "Downloaded pic2.png\n"
     ]
    },
    {
     "name": "stderr",
     "output_type": "stream",
     "text": [
      "85it [04:51, 10.03s/it]"
     ]
    },
    {
     "name": "stdout",
     "output_type": "stream",
     "text": [
      "Downloaded pic3.jpg\n",
      "Downloaded pic4.jpg\n",
      "Brian Krzanich\n",
      "Downloading 4 images\n",
      "Downloaded pic1.jpg\n",
      "Downloaded pic2.jpg\n",
      "Error downloading image 2: ('Connection aborted.', RemoteDisconnected('Remote end closed connection without response'))\n"
     ]
    },
    {
     "name": "stderr",
     "output_type": "stream",
     "text": [
      "86it [05:09, 12.70s/it]"
     ]
    },
    {
     "name": "stdout",
     "output_type": "stream",
     "text": [
      "Downloaded pic4.jpg\n",
      "Brian Krzanich\n",
      "Downloading 4 images\n",
      "Downloaded pic1.jpg\n",
      "Downloaded pic2.jpg\n",
      "Downloaded pic3.jpg\n"
     ]
    },
    {
     "name": "stderr",
     "output_type": "stream",
     "text": [
      "87it [05:11,  9.43s/it]"
     ]
    },
    {
     "name": "stdout",
     "output_type": "stream",
     "text": [
      "Downloaded pic4.jpg\n",
      "Brian Krzanich\n",
      "Downloading 4 images\n",
      "Downloaded pic1.jpg\n",
      "Downloaded pic2.jpg\n",
      "Downloaded pic3.jpg\n"
     ]
    },
    {
     "name": "stderr",
     "output_type": "stream",
     "text": [
      "88it [05:12,  6.93s/it]"
     ]
    },
    {
     "name": "stdout",
     "output_type": "stream",
     "text": [
      "Downloaded pic4.jpg\n",
      "Bob Swan\n",
      "Downloading 4 images\n",
      "Downloaded pic1.jpg\n",
      "Downloaded pic2.jpg\n",
      "Downloaded pic3.jpg\n"
     ]
    },
    {
     "name": "stderr",
     "output_type": "stream",
     "text": [
      "89it [05:13,  5.06s/it]"
     ]
    },
    {
     "name": "stdout",
     "output_type": "stream",
     "text": [
      "Downloaded pic4.jpg\n",
      "Bob Swan\n",
      "Downloading 4 images\n",
      "Error downloading image 0: HTTPSConnectionPool(host='mms.businesswire.com', port=443): Read timed out. (read timeout=30)\n",
      "Error downloading image 1: HTTPSConnectionPool(host='mms.businesswire.com', port=443): Read timed out. (read timeout=30)\n",
      "Downloaded pic3.jpg\n"
     ]
    },
    {
     "name": "stderr",
     "output_type": "stream",
     "text": [
      "90it [06:14, 21.80s/it]"
     ]
    },
    {
     "name": "stdout",
     "output_type": "stream",
     "text": [
      "Downloaded pic4.jpg\n",
      "Richard K. Templeton\n",
      "Downloading 4 images\n",
      "Downloaded pic1.jpg\n",
      "Downloaded pic2.jpg\n"
     ]
    },
    {
     "name": "stderr",
     "output_type": "stream",
     "text": [
      "91it [06:20, 17.16s/it]"
     ]
    },
    {
     "name": "stdout",
     "output_type": "stream",
     "text": [
      "Downloaded pic3.jpg\n",
      "Richard K. Templeton\n",
      "Downloading 4 images\n",
      "Downloaded pic1.jpg\n",
      "Downloaded pic2.jpg\n",
      "Downloaded pic3.jpg\n"
     ]
    },
    {
     "name": "stderr",
     "output_type": "stream",
     "text": [
      "92it [06:21, 12.35s/it]"
     ]
    },
    {
     "name": "stdout",
     "output_type": "stream",
     "text": [
      "Downloaded pic4.jpg\n",
      "Richard K. Templeton\n",
      "Downloading 4 images\n",
      "Downloaded pic1.jpg\n",
      "Downloaded pic2.jpg\n"
     ]
    },
    {
     "name": "stderr",
     "output_type": "stream",
     "text": [
      "93it [06:22,  8.87s/it]"
     ]
    },
    {
     "name": "stdout",
     "output_type": "stream",
     "text": [
      "Downloaded pic3.jpg\n",
      "Richard K. Templeton\n",
      "Downloading 4 images\n",
      "Downloaded pic1.png\n",
      "Downloaded pic3.jpg\n"
     ]
    },
    {
     "name": "stderr",
     "output_type": "stream",
     "text": [
      "94it [06:24,  6.63s/it]"
     ]
    },
    {
     "name": "stdout",
     "output_type": "stream",
     "text": [
      "Downloaded pic4.jpg\n",
      "Richard K. Templeton\n",
      "Downloading 4 images\n",
      "Downloaded pic1.jpg\n",
      "Downloaded pic2.jpg\n",
      "Downloaded pic3.jpg\n"
     ]
    },
    {
     "name": "stderr",
     "output_type": "stream",
     "text": [
      "95it [06:25,  5.19s/it]"
     ]
    },
    {
     "name": "stdout",
     "output_type": "stream",
     "text": [
      "Richard K. Templeton\n",
      "Downloading 4 images\n",
      "Downloaded pic1.jpg\n",
      "Downloaded pic2.jpg\n",
      "Downloaded pic3.jpg\n"
     ]
    },
    {
     "name": "stderr",
     "output_type": "stream",
     "text": [
      "96it [06:27,  4.23s/it]"
     ]
    },
    {
     "name": "stdout",
     "output_type": "stream",
     "text": [
      "Downloaded pic4.jpg\n",
      "Richard K. Templeton\n",
      "Downloading 4 images\n",
      "Downloaded pic1.jpg\n",
      "Downloaded pic3.jpg\n"
     ]
    },
    {
     "name": "stderr",
     "output_type": "stream",
     "text": [
      "97it [06:29,  3.36s/it]"
     ]
    },
    {
     "name": "stdout",
     "output_type": "stream",
     "text": [
      "Downloaded pic4.jpg\n",
      "Richard K. Templeton\n",
      "Downloading 4 images\n",
      "Downloaded pic1.jpg\n",
      "Downloaded pic2.jpg\n"
     ]
    },
    {
     "name": "stderr",
     "output_type": "stream",
     "text": [
      "98it [06:30,  2.75s/it]"
     ]
    },
    {
     "name": "stdout",
     "output_type": "stream",
     "text": [
      "Downloaded pic3.jpg\n",
      "Downloaded pic4.jpg\n",
      "Brian Crutcher\n",
      "Downloading 4 images\n",
      "Downloaded pic1.jpg\n",
      "Downloaded pic2.jpg\n",
      "Downloaded pic3.jpg\n"
     ]
    },
    {
     "name": "stderr",
     "output_type": "stream",
     "text": [
      "99it [06:32,  2.48s/it]"
     ]
    },
    {
     "name": "stdout",
     "output_type": "stream",
     "text": [
      "Downloaded pic4.png\n",
      "Brian Crutcher\n",
      "Downloading 4 images\n",
      "Downloaded pic1.jpg\n",
      "Downloaded pic2.jpg\n",
      "Downloaded pic3.jpg\n"
     ]
    },
    {
     "name": "stderr",
     "output_type": "stream",
     "text": [
      "100it [06:33,  2.04s/it]"
     ]
    },
    {
     "name": "stdout",
     "output_type": "stream",
     "text": [
      "Downloaded pic4.jpg\n",
      "Paul E. Jacobs\n",
      "Downloading 4 images\n",
      "Downloaded pic1.jpg\n"
     ]
    },
    {
     "name": "stderr",
     "output_type": "stream",
     "text": [
      "101it [06:33,  1.61s/it]"
     ]
    },
    {
     "name": "stdout",
     "output_type": "stream",
     "text": [
      "Downloaded pic4.jpg\n",
      "Paul E. Jacobs\n",
      "Downloading 4 images\n",
      "Downloaded pic1.jpg\n",
      "Downloaded pic2.jpg\n"
     ]
    },
    {
     "name": "stderr",
     "output_type": "stream",
     "text": [
      "102it [06:35,  1.53s/it]"
     ]
    },
    {
     "name": "stdout",
     "output_type": "stream",
     "text": [
      "Downloaded pic3.gif\n",
      "Paul E. Jacobs\n",
      "Downloading 4 images\n",
      "Downloaded pic1.jpg\n",
      "Downloaded pic2.jpg\n"
     ]
    },
    {
     "name": "stderr",
     "output_type": "stream",
     "text": [
      "103it [06:36,  1.33s/it]"
     ]
    },
    {
     "name": "stdout",
     "output_type": "stream",
     "text": [
      "Downloaded pic3.png\n",
      "Paul E. Jacobs\n",
      "Downloading 4 images\n",
      "Downloaded pic1.jpg\n",
      "Downloaded pic2.jpg\n",
      "Downloaded pic3.jpg\n"
     ]
    },
    {
     "name": "stderr",
     "output_type": "stream",
     "text": [
      "104it [06:37,  1.39s/it]"
     ]
    },
    {
     "name": "stdout",
     "output_type": "stream",
     "text": [
      "Downloaded pic4.jpg\n",
      "Steve Mollenkopf\n",
      "Downloading 4 images\n",
      "Downloaded pic2.jpg\n",
      "Downloaded pic3.jpg\n"
     ]
    },
    {
     "name": "stderr",
     "output_type": "stream",
     "text": [
      "105it [06:39,  1.59s/it]"
     ]
    },
    {
     "name": "stdout",
     "output_type": "stream",
     "text": [
      "Downloaded pic4.jpg\n",
      "Steve Mollenkopf\n",
      "Downloading 4 images\n",
      "Error downloading image 0: ('Connection aborted.', ConnectionResetError(54, 'Connection reset by peer'))\n"
     ]
    },
    {
     "name": "stderr",
     "output_type": "stream",
     "text": [
      "106it [06:41,  1.59s/it]"
     ]
    },
    {
     "name": "stdout",
     "output_type": "stream",
     "text": [
      "Steve Mollenkopf\n",
      "Downloading 4 images\n",
      "Downloaded pic1.jpg\n",
      "Downloaded pic2.jpg\n"
     ]
    },
    {
     "name": "stderr",
     "output_type": "stream",
     "text": [
      "107it [06:42,  1.50s/it]"
     ]
    },
    {
     "name": "stdout",
     "output_type": "stream",
     "text": [
      "Downloaded pic4.jpg\n",
      "Steve Mollenkopf\n",
      "Downloading 4 images\n",
      "Downloaded pic2.jpg\n",
      "Downloaded pic3.jpg\n"
     ]
    },
    {
     "name": "stderr",
     "output_type": "stream",
     "text": [
      "108it [06:43,  1.34s/it]"
     ]
    },
    {
     "name": "stdout",
     "output_type": "stream",
     "text": [
      "Downloaded pic4.jpg\n",
      "Steve Mollenkopf\n",
      "Downloading 4 images\n",
      "Downloaded pic1.jpg\n"
     ]
    },
    {
     "name": "stderr",
     "output_type": "stream",
     "text": [
      "109it [06:44,  1.08s/it]"
     ]
    },
    {
     "name": "stdout",
     "output_type": "stream",
     "text": [
      "Downloaded pic2.jpg\n",
      "Downloaded pic3.jpg\n",
      "Steve Mollenkopf\n",
      "Downloading 4 images\n",
      "Downloaded pic1.jpg\n",
      "Downloaded pic2.jpg\n"
     ]
    },
    {
     "name": "stderr",
     "output_type": "stream",
     "text": [
      "110it [06:45,  1.06s/it]"
     ]
    },
    {
     "name": "stdout",
     "output_type": "stream",
     "text": [
      "Downloaded pic3.png\n",
      "Samuel J. Palmisano\n",
      "Downloading 4 images\n",
      "Downloaded pic1.jpg\n",
      "Downloaded pic2.gif\n",
      "Downloaded pic3.jpg\n"
     ]
    },
    {
     "name": "stderr",
     "output_type": "stream",
     "text": [
      "111it [06:46,  1.03s/it]"
     ]
    },
    {
     "name": "stdout",
     "output_type": "stream",
     "text": [
      "Downloaded pic4.gif\n",
      "Samuel J. Palmisano\n",
      "Downloading 4 images\n",
      "Downloaded pic1.jpg\n",
      "Downloaded pic2.jpg\n",
      "Downloaded pic3.jpg\n"
     ]
    },
    {
     "name": "stderr",
     "output_type": "stream",
     "text": [
      "112it [06:47,  1.02s/it]"
     ]
    },
    {
     "name": "stdout",
     "output_type": "stream",
     "text": [
      "Downloaded pic4.gif\n",
      "Virginia Rometty\n",
      "Downloading 4 images\n",
      "Downloaded pic1.jpg\n",
      "Downloaded pic2.jpg\n"
     ]
    },
    {
     "name": "stderr",
     "output_type": "stream",
     "text": [
      "113it [06:48,  1.00it/s]"
     ]
    },
    {
     "name": "stdout",
     "output_type": "stream",
     "text": [
      "Downloaded pic3.jpg\n",
      "Downloaded pic4.jpg\n",
      "Virginia Rometty\n",
      "Downloading 4 images\n",
      "Downloaded pic1.jpg\n",
      "Downloaded pic2.jpg\n",
      "Downloaded pic3.jpg\n"
     ]
    },
    {
     "name": "stderr",
     "output_type": "stream",
     "text": [
      "114it [06:50,  1.35s/it]"
     ]
    },
    {
     "name": "stdout",
     "output_type": "stream",
     "text": [
      "Downloaded pic4.jpg\n",
      "Virginia Rometty\n",
      "Downloading 4 images\n",
      "Downloaded pic1.jpg\n",
      "Downloaded pic2.jpg\n",
      "Downloaded pic3.jpg\n"
     ]
    },
    {
     "name": "stderr",
     "output_type": "stream",
     "text": [
      "115it [06:51,  1.34s/it]"
     ]
    },
    {
     "name": "stdout",
     "output_type": "stream",
     "text": [
      "Downloaded pic4.jpg\n",
      "Virginia Rometty\n",
      "Downloading 4 images\n",
      "Downloaded pic1.jpg\n",
      "Downloaded pic2.jpg\n",
      "Downloaded pic3.jpg\n"
     ]
    },
    {
     "name": "stderr",
     "output_type": "stream",
     "text": [
      "116it [06:52,  1.25s/it]"
     ]
    },
    {
     "name": "stdout",
     "output_type": "stream",
     "text": [
      "Downloaded pic4.jpg\n",
      "Virginia Rometty\n",
      "Downloading 4 images\n",
      "Downloaded pic1.jpg\n",
      "Downloaded pic2.jpg\n",
      "Downloaded pic3.jpg\n"
     ]
    },
    {
     "name": "stderr",
     "output_type": "stream",
     "text": [
      "117it [06:53,  1.20s/it]"
     ]
    },
    {
     "name": "stdout",
     "output_type": "stream",
     "text": [
      "Downloaded pic4.jpg\n",
      "Virginia Rometty\n",
      "Downloading 4 images\n",
      "Downloaded pic1.jpg\n",
      "Downloaded pic2.jpg\n",
      "Downloaded pic3.jpg\n"
     ]
    },
    {
     "name": "stderr",
     "output_type": "stream",
     "text": [
      "118it [06:54,  1.10s/it]"
     ]
    },
    {
     "name": "stdout",
     "output_type": "stream",
     "text": [
      "Downloaded pic4.jpg\n",
      "Virginia Rometty\n",
      "Downloading 4 images\n",
      "Downloaded pic2.jpg\n",
      "Downloaded pic3.jpg\n"
     ]
    },
    {
     "name": "stderr",
     "output_type": "stream",
     "text": [
      "119it [06:55,  1.11s/it]"
     ]
    },
    {
     "name": "stdout",
     "output_type": "stream",
     "text": [
      "Downloaded pic4.jpg\n",
      "Virginia Rometty\n",
      "Downloading 4 images\n",
      "Downloaded pic1.jpg\n",
      "Downloaded pic2.jpg\n",
      "Downloaded pic3.jpg\n"
     ]
    },
    {
     "name": "stderr",
     "output_type": "stream",
     "text": [
      "120it [06:57,  1.40s/it]"
     ]
    },
    {
     "name": "stdout",
     "output_type": "stream",
     "text": [
      "Downloaded pic4.jpg\n",
      "John Donahoe (under eBay)\n",
      "Downloading 4 images\n",
      "Downloaded pic1.jpg\n",
      "Downloaded pic2.jpg\n",
      "Downloaded pic3.jpg\n"
     ]
    },
    {
     "name": "stderr",
     "output_type": "stream",
     "text": [
      "121it [06:59,  1.40s/it]"
     ]
    },
    {
     "name": "stdout",
     "output_type": "stream",
     "text": [
      "Downloaded pic4.png\n",
      "John Donahoe (under eBay)\n",
      "Downloading 4 images\n",
      "Downloaded pic1.jpg\n",
      "Downloaded pic2.jpg\n"
     ]
    },
    {
     "name": "stderr",
     "output_type": "stream",
     "text": [
      "122it [07:00,  1.36s/it]"
     ]
    },
    {
     "name": "stdout",
     "output_type": "stream",
     "text": [
      "Downloaded pic3.png\n",
      "Downloaded pic4.jpg\n",
      "John Donahoe (under eBay)\n",
      "Downloading 4 images\n",
      "Downloaded pic1.png\n",
      "Downloaded pic2.jpg\n",
      "Downloaded pic3.png\n"
     ]
    },
    {
     "name": "stderr",
     "output_type": "stream",
     "text": [
      "123it [07:01,  1.36s/it]"
     ]
    },
    {
     "name": "stdout",
     "output_type": "stream",
     "text": [
      "Downloaded pic4.jpg\n",
      "John Donahoe (under eBay)\n",
      "Downloading 4 images\n",
      "Downloaded pic1.jpg\n",
      "Downloaded pic2.jpg\n",
      "Downloaded pic3.jpg\n"
     ]
    },
    {
     "name": "stderr",
     "output_type": "stream",
     "text": [
      "124it [07:02,  1.26s/it]"
     ]
    },
    {
     "name": "stdout",
     "output_type": "stream",
     "text": [
      "Downloaded pic4.jpg\n",
      "John Donahoe (under eBay)\n",
      "Downloading 4 images\n",
      "Downloaded pic1.jpg\n",
      "Downloaded pic2.jpg\n",
      "Downloaded pic3.jpg\n"
     ]
    },
    {
     "name": "stderr",
     "output_type": "stream",
     "text": [
      "125it [07:04,  1.27s/it]"
     ]
    },
    {
     "name": "stdout",
     "output_type": "stream",
     "text": [
      "Downloaded pic4.jpg\n",
      "Dan Schulman\n",
      "Downloading 4 images\n",
      "Downloaded pic1.jpg\n",
      "Downloaded pic2.jpg\n"
     ]
    },
    {
     "name": "stderr",
     "output_type": "stream",
     "text": [
      "126it [07:05,  1.43s/it]"
     ]
    },
    {
     "name": "stdout",
     "output_type": "stream",
     "text": [
      "Downloaded pic3.jpg\n",
      "Downloaded pic4.jpg\n",
      "Dan Schulman\n",
      "Downloading 4 images\n",
      "Downloaded pic1.jpg\n",
      "Downloaded pic2.jpg\n",
      "Downloaded pic3.jpg\n"
     ]
    },
    {
     "name": "stderr",
     "output_type": "stream",
     "text": [
      "127it [07:07,  1.44s/it]"
     ]
    },
    {
     "name": "stdout",
     "output_type": "stream",
     "text": [
      "Downloaded pic4.jpg\n",
      "Dan Schulman\n",
      "Downloading 4 images\n",
      "Downloaded pic1.jpg\n",
      "Downloaded pic2.jpg\n",
      "Downloaded pic3.jpg\n"
     ]
    },
    {
     "name": "stderr",
     "output_type": "stream",
     "text": [
      "128it [07:09,  1.54s/it]"
     ]
    },
    {
     "name": "stdout",
     "output_type": "stream",
     "text": [
      "Downloaded pic4.png\n",
      "Dan Schulman\n",
      "Downloading 4 images\n",
      "Downloaded pic1.jpg\n",
      "Downloaded pic2.jpg\n",
      "Downloaded pic3.jpg\n"
     ]
    },
    {
     "name": "stderr",
     "output_type": "stream",
     "text": [
      "129it [07:09,  1.35s/it]"
     ]
    },
    {
     "name": "stdout",
     "output_type": "stream",
     "text": [
      "Downloaded pic4.jpg\n",
      "Dan Schulman\n",
      "Downloading 4 images\n",
      "Downloaded pic1.jpg\n",
      "Downloaded pic2.jpg\n",
      "Downloaded pic3.jpg\n"
     ]
    },
    {
     "name": "stderr",
     "output_type": "stream",
     "text": [
      "130it [07:11,  1.26s/it]"
     ]
    },
    {
     "name": "stdout",
     "output_type": "stream",
     "text": [
      "Downloaded pic4.jpg\n",
      "Fred Luddy\n",
      "Downloading 3 images\n",
      "Downloaded pic1.jpg\n",
      "Downloaded pic2.jpg\n"
     ]
    },
    {
     "name": "stderr",
     "output_type": "stream",
     "text": [
      "131it [07:11,  1.15s/it]"
     ]
    },
    {
     "name": "stdout",
     "output_type": "stream",
     "text": [
      "Downloaded pic3.jpg\n",
      "Fred Luddy\n",
      "Downloading 4 images\n",
      "Downloaded pic1.png\n",
      "Downloaded pic2.jpg\n",
      "Downloaded pic3.jpg\n"
     ]
    },
    {
     "name": "stderr",
     "output_type": "stream",
     "text": [
      "132it [07:13,  1.18s/it]"
     ]
    },
    {
     "name": "stdout",
     "output_type": "stream",
     "text": [
      "Downloaded pic4.jpg\n",
      "Frank Slootman\n",
      "Downloading 4 images\n",
      "Downloaded pic1.jpg\n",
      "Downloaded pic2.jpg\n"
     ]
    },
    {
     "name": "stderr",
     "output_type": "stream",
     "text": [
      "133it [07:14,  1.15s/it]"
     ]
    },
    {
     "name": "stdout",
     "output_type": "stream",
     "text": [
      "Downloaded pic4.png\n",
      "Frank Slootman\n",
      "Downloading 4 images\n",
      "Downloaded pic1.jpg\n",
      "Downloaded pic2.jpg\n",
      "Downloaded pic3.jpg\n"
     ]
    },
    {
     "name": "stderr",
     "output_type": "stream",
     "text": [
      "134it [07:15,  1.17s/it]"
     ]
    },
    {
     "name": "stdout",
     "output_type": "stream",
     "text": [
      "Downloaded pic4.jpg\n",
      "Frank Slootman\n",
      "Downloading 4 images\n",
      "Downloaded pic1.jpg\n",
      "Downloaded pic2.jpg\n",
      "Downloaded pic3.jpg\n"
     ]
    },
    {
     "name": "stderr",
     "output_type": "stream",
     "text": [
      "135it [07:16,  1.12s/it]"
     ]
    },
    {
     "name": "stdout",
     "output_type": "stream",
     "text": [
      "Downloaded pic4.jpg\n",
      "Frank Slootman\n",
      "Downloading 4 images\n",
      "Downloaded pic1.jpg\n",
      "Downloaded pic2.jpg\n"
     ]
    },
    {
     "name": "stderr",
     "output_type": "stream",
     "text": [
      "136it [07:17,  1.15s/it]"
     ]
    },
    {
     "name": "stdout",
     "output_type": "stream",
     "text": [
      "Downloaded pic3.jpg\n",
      "Downloaded pic4.jpg\n",
      "Frank Slootman\n",
      "Downloading 4 images\n",
      "Downloaded pic1.jpg\n",
      "Downloaded pic2.jpg\n",
      "Downloaded pic3.jpg\n"
     ]
    },
    {
     "name": "stderr",
     "output_type": "stream",
     "text": [
      "137it [07:19,  1.37s/it]"
     ]
    },
    {
     "name": "stdout",
     "output_type": "stream",
     "text": [
      "Downloaded pic4.jpg\n",
      "John Donahoe\n",
      "Downloading 4 images\n",
      "Downloaded pic1.jpg\n",
      "Downloaded pic2.jpg\n"
     ]
    },
    {
     "name": "stderr",
     "output_type": "stream",
     "text": [
      "138it [07:20,  1.31s/it]"
     ]
    },
    {
     "name": "stdout",
     "output_type": "stream",
     "text": [
      "Downloaded pic3.jpg\n",
      "Downloaded pic4.jpg\n",
      "John Donahoe\n",
      "Downloading 4 images\n",
      "Downloaded pic1.jpg\n",
      "Downloaded pic2.jpg\n",
      "Downloaded pic3.jpg\n"
     ]
    },
    {
     "name": "stderr",
     "output_type": "stream",
     "text": [
      "139it [07:21,  1.21s/it]"
     ]
    },
    {
     "name": "stdout",
     "output_type": "stream",
     "text": [
      "Downloaded pic4.jpg\n",
      "John Donahoe\n",
      "Downloading 4 images\n",
      "Downloaded pic1.jpg\n",
      "Downloaded pic2.jpg\n",
      "Downloaded pic3.jpg\n"
     ]
    },
    {
     "name": "stderr",
     "output_type": "stream",
     "text": [
      "140it [07:22,  1.06s/it]"
     ]
    },
    {
     "name": "stdout",
     "output_type": "stream",
     "text": [
      "Downloaded pic4.jpg\n",
      "Brad Smith\n",
      "Downloading 4 images\n",
      "Error downloading image 0: HTTPSConnectionPool(host='mms.businesswire.com', port=443): Read timed out. (read timeout=30)\n",
      "Downloaded pic2.jpg\n",
      "Downloaded pic3.jpg\n"
     ]
    },
    {
     "name": "stderr",
     "output_type": "stream",
     "text": [
      "141it [07:53,  9.92s/it]"
     ]
    },
    {
     "name": "stdout",
     "output_type": "stream",
     "text": [
      "Downloaded pic4.jpg\n",
      "Brad Smith\n",
      "Downloading 4 images\n",
      "Downloaded pic1.jpg\n",
      "Downloaded pic2.jpg\n",
      "Downloaded pic3.jpg\n"
     ]
    },
    {
     "name": "stderr",
     "output_type": "stream",
     "text": [
      "142it [07:54,  7.24s/it]"
     ]
    },
    {
     "name": "stdout",
     "output_type": "stream",
     "text": [
      "Downloaded pic4.jpg\n",
      "Brad Smith\n",
      "Downloading 4 images\n",
      "Downloaded pic1.jpg\n",
      "Downloaded pic2.jpg\n",
      "Downloaded pic3.jpg\n"
     ]
    },
    {
     "name": "stderr",
     "output_type": "stream",
     "text": [
      "143it [08:24, 14.24s/it]"
     ]
    },
    {
     "name": "stdout",
     "output_type": "stream",
     "text": [
      "Error downloading image 3: HTTPSConnectionPool(host='mms.businesswire.com', port=443): Read timed out. (read timeout=30)\n",
      "Brad Smith\n",
      "Downloading 4 images\n",
      "Downloaded pic1.jpg\n",
      "Downloaded pic2.jpg\n",
      "Downloaded pic3.jpg\n"
     ]
    },
    {
     "name": "stderr",
     "output_type": "stream",
     "text": [
      "144it [08:26, 10.39s/it]"
     ]
    },
    {
     "name": "stdout",
     "output_type": "stream",
     "text": [
      "Downloaded pic4.jpg\n",
      "Brad Smith\n",
      "Downloading 4 images\n",
      "Downloaded pic1.jpg\n",
      "Downloaded pic2.jpg\n"
     ]
    },
    {
     "name": "stderr",
     "output_type": "stream",
     "text": [
      "145it [08:26,  7.51s/it]"
     ]
    },
    {
     "name": "stdout",
     "output_type": "stream",
     "text": [
      "Downloaded pic3.jpg\n",
      "Downloaded pic4.jpg\n",
      "Brad Smith\n",
      "Downloading 4 images\n",
      "Downloaded pic1.jpg\n",
      "Downloaded pic2.jpg\n",
      "Error downloading image 2: ('Connection aborted.', RemoteDisconnected('Remote end closed connection without response'))\n"
     ]
    },
    {
     "name": "stderr",
     "output_type": "stream",
     "text": [
      "146it [08:45, 11.00s/it]"
     ]
    },
    {
     "name": "stdout",
     "output_type": "stream",
     "text": [
      "Downloaded pic4.jpg\n",
      "Brad Smith\n",
      "Downloading 4 images\n",
      "Downloaded pic1.jpg\n",
      "Downloaded pic2.png\n"
     ]
    },
    {
     "name": "stderr",
     "output_type": "stream",
     "text": [
      "147it [08:46,  7.97s/it]"
     ]
    },
    {
     "name": "stdout",
     "output_type": "stream",
     "text": [
      "Downloaded pic3.jpg\n",
      "Downloaded pic4.jpg\n",
      "Brad Smith\n",
      "Downloading 4 images\n",
      "Downloaded pic2.jpg\n"
     ]
    },
    {
     "name": "stderr",
     "output_type": "stream",
     "text": [
      "148it [08:47,  5.84s/it]"
     ]
    },
    {
     "name": "stdout",
     "output_type": "stream",
     "text": [
      "Downloaded pic3.jpg\n",
      "Brad Smith\n",
      "Downloading 4 images\n",
      "Downloaded pic1.png\n",
      "Downloaded pic2.jpg\n",
      "Downloaded pic3.jpg\n"
     ]
    },
    {
     "name": "stderr",
     "output_type": "stream",
     "text": [
      "149it [08:49,  4.63s/it]"
     ]
    },
    {
     "name": "stdout",
     "output_type": "stream",
     "text": [
      "Downloaded pic4.jpg\n",
      "Sasan Goodarzi\n",
      "Downloading 4 images\n",
      "Downloaded pic1.jpg\n",
      "Downloaded pic2.jpg\n",
      "Downloaded pic3.jpg\n"
     ]
    },
    {
     "name": "stderr",
     "output_type": "stream",
     "text": [
      "150it [08:51,  3.78s/it]"
     ]
    },
    {
     "name": "stdout",
     "output_type": "stream",
     "text": [
      "Downloaded pic4.jpg\n",
      "Dirk Meyer\n",
      "Downloading 4 images\n",
      "Downloaded pic1.jpg\n",
      "Downloaded pic2.jpg\n",
      "Downloaded pic3.png\n"
     ]
    },
    {
     "name": "stderr",
     "output_type": "stream",
     "text": [
      "151it [08:52,  2.99s/it]"
     ]
    },
    {
     "name": "stdout",
     "output_type": "stream",
     "text": [
      "Downloaded pic4.jpg\n",
      "Thomas Seifert (interim)\n",
      "Downloading 4 images\n",
      "Downloaded pic1.jpg\n",
      "Downloaded pic2.jpg\n"
     ]
    },
    {
     "name": "stderr",
     "output_type": "stream",
     "text": [
      "152it [08:53,  2.32s/it]"
     ]
    },
    {
     "name": "stdout",
     "output_type": "stream",
     "text": [
      "Downloaded pic3.jpg\n",
      "Downloaded pic4.jpg\n",
      "Rory Read\n",
      "Downloading 4 images\n",
      "Downloaded pic1.jpg\n",
      "Downloaded pic2.jpg\n"
     ]
    },
    {
     "name": "stderr",
     "output_type": "stream",
     "text": [
      "153it [08:54,  1.88s/it]"
     ]
    },
    {
     "name": "stdout",
     "output_type": "stream",
     "text": [
      "Error downloading image 2: HTTPSConnectionPool(host='geektech.ie', port=443): Max retries exceeded with url: /wp-content/uploads/2014/10/Dr-Lisa-Su-AMD-KitGuru-Computex-2012.jpg (Caused by SSLError(SSLCertVerificationError(1, '[SSL: CERTIFICATE_VERIFY_FAILED] certificate verify failed: certificate has expired (_ssl.c:1000)')))\n",
      "Downloaded pic4.jpg\n",
      "Rory Read\n",
      "Downloading 4 images\n",
      "Downloaded pic2.jpg\n"
     ]
    },
    {
     "name": "stderr",
     "output_type": "stream",
     "text": [
      "154it [08:55,  1.84s/it]"
     ]
    },
    {
     "name": "stdout",
     "output_type": "stream",
     "text": [
      "Downloaded pic3.jpg\n",
      "Downloaded pic4.jpg\n",
      "Lisa Su\n",
      "Downloading 4 images\n",
      "Downloaded pic1.jpg\n",
      "Downloaded pic2.jpg\n",
      "Downloaded pic3.jpg\n"
     ]
    },
    {
     "name": "stderr",
     "output_type": "stream",
     "text": [
      "155it [08:56,  1.57s/it]"
     ]
    },
    {
     "name": "stdout",
     "output_type": "stream",
     "text": [
      "Downloaded pic4.jpg\n",
      "Lisa Su\n",
      "Downloading 4 images\n",
      "Downloaded pic1.jpg\n",
      "Downloaded pic2.png\n",
      "Downloaded pic3.jpg\n"
     ]
    },
    {
     "name": "stderr",
     "output_type": "stream",
     "text": [
      "156it [08:58,  1.51s/it]"
     ]
    },
    {
     "name": "stdout",
     "output_type": "stream",
     "text": [
      "Downloaded pic4.jpg\n",
      "Lisa Su\n",
      "Downloading 4 images\n",
      "Downloaded pic1.jpg\n",
      "Downloaded pic2.jpg\n"
     ]
    },
    {
     "name": "stderr",
     "output_type": "stream",
     "text": [
      "157it [08:59,  1.37s/it]"
     ]
    },
    {
     "name": "stdout",
     "output_type": "stream",
     "text": [
      "Downloaded pic3.jpg\n",
      "Downloaded pic4.jpg\n",
      "Lisa Su\n",
      "Downloading 4 images\n",
      "Downloaded pic1.jpg\n",
      "Downloaded pic2.jpg\n",
      "Downloaded pic3.jpg\n"
     ]
    },
    {
     "name": "stderr",
     "output_type": "stream",
     "text": [
      "158it [08:59,  1.16s/it]"
     ]
    },
    {
     "name": "stdout",
     "output_type": "stream",
     "text": [
      "Downloaded pic4.jpg\n",
      "Lisa Su\n",
      "Downloading 4 images\n",
      "Error downloading image 0: ('Connection aborted.', RemoteDisconnected('Remote end closed connection without response'))\n",
      "Downloaded pic2.jpg\n",
      "Downloaded pic3.jpg\n"
     ]
    },
    {
     "name": "stderr",
     "output_type": "stream",
     "text": [
      "159it [09:18,  6.51s/it]"
     ]
    },
    {
     "name": "stdout",
     "output_type": "stream",
     "text": [
      "Downloaded pic4.jpg\n",
      "Lisa Su\n",
      "Downloading 4 images\n",
      "Downloaded pic1.jpg\n",
      "Downloaded pic2.jpg\n",
      "Downloaded pic3.jpg\n"
     ]
    },
    {
     "name": "stderr",
     "output_type": "stream",
     "text": [
      "160it [09:19,  4.78s/it]"
     ]
    },
    {
     "name": "stdout",
     "output_type": "stream",
     "text": [
      "Downloaded pic4.jpg\n",
      "Mark Hurd\n",
      "Downloading 4 images\n",
      "Downloaded pic1.jpg\n",
      "Downloaded pic2.jpg\n",
      "Downloaded pic3.jpg\n"
     ]
    },
    {
     "name": "stderr",
     "output_type": "stream",
     "text": [
      "161it [09:20,  3.55s/it]"
     ]
    },
    {
     "name": "stdout",
     "output_type": "stream",
     "text": [
      "Downloaded pic4.jpg\n",
      "Leo Apotheker\n",
      "Downloading 4 images\n",
      "Downloaded pic1.jpg\n",
      "Downloaded pic2.png\n",
      "Downloaded pic3.jpg\n"
     ]
    },
    {
     "name": "stderr",
     "output_type": "stream",
     "text": [
      "162it [09:21,  2.74s/it]"
     ]
    },
    {
     "name": "stdout",
     "output_type": "stream",
     "text": [
      "Downloaded pic4.jpg\n",
      "Meg Whitman\n",
      "Downloading 4 images\n",
      "Downloaded pic1.jpg\n",
      "Downloaded pic2.jpg\n",
      "Downloaded pic3.jpg\n"
     ]
    },
    {
     "name": "stderr",
     "output_type": "stream",
     "text": [
      "163it [09:22,  2.36s/it]"
     ]
    },
    {
     "name": "stdout",
     "output_type": "stream",
     "text": [
      "Downloaded pic4.jpg\n",
      "Meg Whitman\n",
      "Downloading 4 images\n",
      "Downloaded pic1.jpg\n",
      "Downloaded pic2.jpg\n",
      "Downloaded pic3.jpg\n"
     ]
    },
    {
     "name": "stderr",
     "output_type": "stream",
     "text": [
      "164it [09:25,  2.65s/it]"
     ]
    },
    {
     "name": "stdout",
     "output_type": "stream",
     "text": [
      "Downloaded pic4.jpg\n",
      "Meg Whitman\n",
      "Downloading 4 images\n",
      "Downloaded pic1.jpg\n",
      "Downloaded pic2.jpg\n",
      "Downloaded pic3.jpg\n"
     ]
    },
    {
     "name": "stderr",
     "output_type": "stream",
     "text": [
      "165it [09:26,  2.17s/it]"
     ]
    },
    {
     "name": "stdout",
     "output_type": "stream",
     "text": [
      "Downloaded pic4.jpg\n",
      "Dion Weisler\n",
      "Downloading 4 images\n",
      "Downloaded pic1.png\n",
      "Error downloading image 1: HTTPSConnectionPool(host='damapi.forbes.com', port=443): Max retries exceeded with url: /dam/georgeanders/files/2015/10/dion-weisler_1200x675.jpg (Caused by ConnectTimeoutError(<urllib3.connection.HTTPSConnection object at 0x148eac140>, 'Connection to damapi.forbes.com timed out. (connect timeout=30)'))\n",
      "Downloaded pic3.jpg\n"
     ]
    },
    {
     "name": "stderr",
     "output_type": "stream",
     "text": [
      "166it [09:58, 11.12s/it]"
     ]
    },
    {
     "name": "stdout",
     "output_type": "stream",
     "text": [
      "Downloaded pic4.jpg\n",
      "Dion Weisler\n",
      "Downloading 4 images\n",
      "Downloaded pic1.jpg\n",
      "Downloaded pic2.jpg\n",
      "Downloaded pic3.jpg\n"
     ]
    },
    {
     "name": "stderr",
     "output_type": "stream",
     "text": [
      "167it [10:00,  8.14s/it]"
     ]
    },
    {
     "name": "stdout",
     "output_type": "stream",
     "text": [
      "Downloaded pic4.jpg\n",
      "Dion Weisler\n",
      "Downloading 4 images\n",
      "Error downloading image 0: HTTPSConnectionPool(host='damapi.forbes.com', port=443): Max retries exceeded with url: /dam/peterhigh/files/2015/06/dion-weisler-v2.jpg (Caused by ConnectTimeoutError(<urllib3.connection.HTTPSConnection object at 0x148d31820>, 'Connection to damapi.forbes.com timed out. (connect timeout=30)'))\n",
      "Downloaded pic2.jpg\n"
     ]
    },
    {
     "name": "stderr",
     "output_type": "stream",
     "text": [
      "168it [11:00, 23.81s/it]"
     ]
    },
    {
     "name": "stdout",
     "output_type": "stream",
     "text": [
      "Error downloading image 2: HTTPSConnectionPool(host='mms.businesswire.com', port=443): Read timed out. (read timeout=30)\n",
      "Downloaded pic4.jpg\n",
      "Dion Weisler\n",
      "Downloading 4 images\n",
      "Downloaded pic1.jpg\n",
      "Downloaded pic2.jpg\n",
      "Downloaded pic3.jpg\n"
     ]
    },
    {
     "name": "stderr",
     "output_type": "stream",
     "text": [
      "169it [11:01, 16.94s/it]"
     ]
    },
    {
     "name": "stdout",
     "output_type": "stream",
     "text": [
      "Downloaded pic4.jpg\n",
      "Enrique Lores\n",
      "Downloading 4 images\n",
      "Downloaded pic1.jpg\n",
      "Downloaded pic2.jpg\n",
      "Downloaded pic3.jpg\n"
     ]
    },
    {
     "name": "stderr",
     "output_type": "stream",
     "text": [
      "170it [11:04, 12.70s/it]"
     ]
    },
    {
     "name": "stdout",
     "output_type": "stream",
     "text": [
      "Downloaded pic4.jpg\n",
      "Steve Appleton\n",
      "Downloading 4 images\n",
      "Downloaded pic1.jpg\n",
      "Downloaded pic2.jpg\n",
      "Downloaded pic3.jpg\n"
     ]
    },
    {
     "name": "stderr",
     "output_type": "stream",
     "text": [
      "171it [11:06,  9.70s/it]"
     ]
    },
    {
     "name": "stdout",
     "output_type": "stream",
     "text": [
      "Downloaded pic4.jpg\n",
      "Steve Appleton\n",
      "Downloading 4 images\n",
      "Downloaded pic1.jpg\n",
      "Downloaded pic2.jpg\n",
      "Downloaded pic3.jpg\n"
     ]
    },
    {
     "name": "stderr",
     "output_type": "stream",
     "text": [
      "172it [11:07,  6.98s/it]"
     ]
    },
    {
     "name": "stdout",
     "output_type": "stream",
     "text": [
      "Downloaded pic4.jpg\n",
      "Mark Durcan\n",
      "Downloading 4 images\n",
      "Downloaded pic1.jpg\n",
      "Downloaded pic2.jpg\n",
      "Downloaded pic3.jpg\n"
     ]
    },
    {
     "name": "stderr",
     "output_type": "stream",
     "text": [
      "173it [11:08,  5.22s/it]"
     ]
    },
    {
     "name": "stdout",
     "output_type": "stream",
     "text": [
      "Downloaded pic4.jpg\n",
      "Mark Durcan\n",
      "Downloading 4 images\n",
      "Downloaded pic1.jpg\n",
      "Downloaded pic2.jpg\n",
      "Downloaded pic3.jpg\n"
     ]
    },
    {
     "name": "stderr",
     "output_type": "stream",
     "text": [
      "174it [11:41, 13.57s/it]"
     ]
    },
    {
     "name": "stdout",
     "output_type": "stream",
     "text": [
      "Error downloading image 3: HTTPSConnectionPool(host='www.eetimes.com', port=443): Read timed out. (read timeout=30)\n",
      "Mark Durcan\n",
      "Downloading 4 images\n",
      "Downloaded pic1.jpg\n",
      "Downloaded pic2.jpg\n",
      "Downloaded pic3.jpg\n"
     ]
    },
    {
     "name": "stderr",
     "output_type": "stream",
     "text": [
      "175it [11:43,  9.99s/it]"
     ]
    },
    {
     "name": "stdout",
     "output_type": "stream",
     "text": [
      "Downloaded pic4.jpg\n",
      "Mark Durcan\n",
      "Downloading 4 images\n",
      "Downloaded pic2.jpg\n",
      "Downloaded pic3.jpg\n"
     ]
    },
    {
     "name": "stderr",
     "output_type": "stream",
     "text": [
      "176it [11:45,  7.51s/it]"
     ]
    },
    {
     "name": "stdout",
     "output_type": "stream",
     "text": [
      "Downloaded pic4.jpg\n",
      "Mark Durcan\n",
      "Downloading 4 images\n",
      "Downloaded pic1.jpg\n",
      "Downloaded pic2.jpg\n",
      "Downloaded pic3.jpg\n"
     ]
    },
    {
     "name": "stderr",
     "output_type": "stream",
     "text": [
      "177it [11:46,  5.78s/it]"
     ]
    },
    {
     "name": "stdout",
     "output_type": "stream",
     "text": [
      "Downloaded pic4.jpg\n",
      "Sanjay Mehrotra\n",
      "Downloading 4 images\n",
      "Downloaded pic1.jpg\n",
      "Downloaded pic2.jpg\n"
     ]
    },
    {
     "name": "stderr",
     "output_type": "stream",
     "text": [
      "178it [11:49,  4.96s/it]"
     ]
    },
    {
     "name": "stdout",
     "output_type": "stream",
     "text": [
      "Downloaded pic3.jpg\n",
      "Sanjay Mehrotra\n",
      "Downloading 4 images\n",
      "Downloaded pic1.jpg\n",
      "Downloaded pic2.jpg\n",
      "Downloaded pic3.jpg\n"
     ]
    },
    {
     "name": "stderr",
     "output_type": "stream",
     "text": [
      "179it [11:51,  4.09s/it]"
     ]
    },
    {
     "name": "stdout",
     "output_type": "stream",
     "text": [
      "Downloaded pic4.jpg\n",
      "Sanjay Mehrotra\n",
      "Downloading 4 images\n",
      "Downloaded pic1.jpg\n",
      "Downloaded pic2.jpg\n",
      "Error downloading image 2: HTTPSConnectionPool(host='www.idahostatesman.com', port=443): Read timed out. (read timeout=30)\n"
     ]
    },
    {
     "name": "stderr",
     "output_type": "stream",
     "text": [
      "180it [12:22, 12.18s/it]"
     ]
    },
    {
     "name": "stdout",
     "output_type": "stream",
     "text": [
      "Downloaded pic4.jpg\n",
      "Jerald Fishman\n",
      "Downloading 4 images\n",
      "Downloaded pic2.jpg\n",
      "Downloaded pic3.gif\n"
     ]
    },
    {
     "name": "stderr",
     "output_type": "stream",
     "text": [
      "181it [12:24,  9.00s/it]"
     ]
    },
    {
     "name": "stdout",
     "output_type": "stream",
     "text": [
      "Downloaded pic4.gif\n",
      "Jerald Fishman\n",
      "Downloading 4 images\n",
      "Downloaded pic1.jpg\n",
      "Downloaded pic2.gif\n",
      "Downloaded pic3.gif\n"
     ]
    },
    {
     "name": "stderr",
     "output_type": "stream",
     "text": [
      "182it [12:25,  6.70s/it]"
     ]
    },
    {
     "name": "stdout",
     "output_type": "stream",
     "text": [
      "Downloaded pic4.gif\n",
      "Jerald Fishman\n",
      "Downloading 4 images\n",
      "Downloaded pic1.jpg\n"
     ]
    },
    {
     "name": "stderr",
     "output_type": "stream",
     "text": [
      "183it [12:27,  5.28s/it]"
     ]
    },
    {
     "name": "stdout",
     "output_type": "stream",
     "text": [
      "Downloaded pic2.jpg\n",
      "Downloaded pic4.gif\n",
      "Vincent Roche\n",
      "Downloading 4 images\n",
      "Downloaded pic1.jpg\n",
      "Downloaded pic2.jpg\n",
      "Downloaded pic3.jpg\n"
     ]
    },
    {
     "name": "stderr",
     "output_type": "stream",
     "text": [
      "184it [12:30,  4.41s/it]"
     ]
    },
    {
     "name": "stdout",
     "output_type": "stream",
     "text": [
      "Downloaded pic4.jpg\n",
      "Vincent Roche\n",
      "Downloading 4 images\n",
      "Error downloading image 0: No connection adapters were found for 'x-raw-image:///7b848adbb052f27092ae2a089ee7515e0c0d9557900f7f49396f9002df19a7af'\n",
      "Downloaded pic2.jpg\n",
      "Downloaded pic3.jpg\n"
     ]
    },
    {
     "name": "stderr",
     "output_type": "stream",
     "text": [
      "185it [12:30,  3.31s/it]"
     ]
    },
    {
     "name": "stdout",
     "output_type": "stream",
     "text": [
      "Downloaded pic4.jpg\n",
      "Vincent Roche\n",
      "Downloading 4 images\n",
      "Downloaded pic1.jpg\n",
      "Downloaded pic2.jpg\n",
      "Downloaded pic3.jpg\n"
     ]
    },
    {
     "name": "stderr",
     "output_type": "stream",
     "text": [
      "186it [12:31,  2.56s/it]"
     ]
    },
    {
     "name": "stdout",
     "output_type": "stream",
     "text": [
      "Downloaded pic4.jpg\n",
      "Vincent Roche\n",
      "Downloading 4 images\n",
      "Downloaded pic2.svg\n",
      "Downloaded pic3.jpg\n"
     ]
    },
    {
     "name": "stderr",
     "output_type": "stream",
     "text": [
      "187it [12:34,  2.47s/it]"
     ]
    },
    {
     "name": "stdout",
     "output_type": "stream",
     "text": [
      "Downloaded pic4.jpg\n",
      "Vincent Roche\n",
      "Downloading 4 images\n",
      "Downloaded pic1.jpg\n",
      "Downloaded pic2.jpg\n"
     ]
    },
    {
     "name": "stderr",
     "output_type": "stream",
     "text": [
      "188it [12:35,  2.09s/it]"
     ]
    },
    {
     "name": "stdout",
     "output_type": "stream",
     "text": [
      "Downloaded pic3.jpg\n",
      "Downloaded pic4.jpg\n",
      "Vincent Roche\n",
      "Downloading 4 images\n",
      "Downloaded pic1.jpg\n",
      "Downloaded pic2.jpg\n",
      "Downloaded pic3.jpg\n"
     ]
    },
    {
     "name": "stderr",
     "output_type": "stream",
     "text": [
      "189it [12:39,  2.65s/it]"
     ]
    },
    {
     "name": "stdout",
     "output_type": "stream",
     "text": [
      "Downloaded pic4.jpg\n",
      "Vincent Roche\n",
      "Downloading 4 images\n",
      "Downloaded pic1.jpg\n",
      "Downloaded pic2.jpg\n",
      "Downloaded pic3.jpg\n"
     ]
    },
    {
     "name": "stderr",
     "output_type": "stream",
     "text": [
      "190it [12:40,  2.15s/it]"
     ]
    },
    {
     "name": "stdout",
     "output_type": "stream",
     "text": [
      "Downloaded pic4.jpg\n",
      "Stephen G. Newberry\n",
      "Downloading 4 images\n"
     ]
    },
    {
     "name": "stderr",
     "output_type": "stream",
     "text": [
      "191it [12:40,  1.69s/it]"
     ]
    },
    {
     "name": "stdout",
     "output_type": "stream",
     "text": [
      "Downloaded pic4.jpg\n",
      "Stephen G. Newberry\n",
      "Downloading 4 images\n",
      "Downloaded pic2.svg\n",
      "Downloaded pic3.jpg\n"
     ]
    },
    {
     "name": "stderr",
     "output_type": "stream",
     "text": [
      "192it [12:42,  1.67s/it]"
     ]
    },
    {
     "name": "stdout",
     "output_type": "stream",
     "text": [
      "Downloaded pic4.jpg\n",
      "Martin Anstice\n",
      "Downloading 4 images\n"
     ]
    },
    {
     "name": "stderr",
     "output_type": "stream",
     "text": [
      "194it [12:42,  1.08it/s]"
     ]
    },
    {
     "name": "stdout",
     "output_type": "stream",
     "text": [
      "Martin Anstice\n",
      "Downloading 4 images\n",
      "Error downloading image 2: No connection adapters were found for 'x-raw-image:///5c487e614cabf7d69a60c3684f87aad26bf2b750ca4f5272c3fa59383fad333f'\n",
      "Martin Anstice\n",
      "Downloading 4 images\n",
      "Downloaded pic1.jpg\n",
      "Downloaded pic2.jpg\n"
     ]
    },
    {
     "name": "stderr",
     "output_type": "stream",
     "text": [
      "195it [12:43,  1.08it/s]"
     ]
    },
    {
     "name": "stdout",
     "output_type": "stream",
     "text": [
      "Downloaded pic3.jpg\n",
      "Martin Anstice\n",
      "Downloading 4 images\n",
      "Downloaded pic1.jpg\n",
      "Downloaded pic2.jpg\n"
     ]
    },
    {
     "name": "stderr",
     "output_type": "stream",
     "text": [
      "196it [12:44,  1.07it/s]"
     ]
    },
    {
     "name": "stdout",
     "output_type": "stream",
     "text": [
      "Downloaded pic3.jpg\n",
      "Martin Anstice\n",
      "Downloading 4 images\n",
      "Downloaded pic1.jpg\n",
      "Downloaded pic2.jpg\n",
      "Downloaded pic3.jpg\n"
     ]
    },
    {
     "name": "stderr",
     "output_type": "stream",
     "text": [
      "197it [12:48,  1.72s/it]"
     ]
    },
    {
     "name": "stdout",
     "output_type": "stream",
     "text": [
      "Downloaded pic4.jpg\n",
      "Martin Anstice\n",
      "Downloading 4 images\n",
      "Downloaded pic1.jpg\n",
      "Downloaded pic2.jpg\n"
     ]
    },
    {
     "name": "stderr",
     "output_type": "stream",
     "text": [
      "198it [12:50,  1.96s/it]"
     ]
    },
    {
     "name": "stdout",
     "output_type": "stream",
     "text": [
      "Downloaded pic3.jpg\n",
      "Downloaded pic4.jpg\n",
      "Martin Anstice\n",
      "Downloading 4 images\n",
      "Downloaded pic1.jpg\n"
     ]
    },
    {
     "name": "stderr",
     "output_type": "stream",
     "text": [
      "199it [12:51,  1.46s/it]"
     ]
    },
    {
     "name": "stdout",
     "output_type": "stream",
     "text": [
      "Downloaded pic2.jpg\n",
      "Downloaded pic3.jpg\n",
      "Downloaded pic4.jpg\n",
      "Tim Archer\n",
      "Downloading 4 images\n",
      "Downloaded pic1.jpg\n",
      "Downloaded pic2.jpg\n"
     ]
    },
    {
     "name": "stderr",
     "output_type": "stream",
     "text": [
      "200it [13:06,  5.52s/it]"
     ]
    },
    {
     "name": "stdout",
     "output_type": "stream",
     "text": [
      "Downloaded pic3.jpg\n",
      "Downloaded pic4.jpg\n",
      "Michael R. Splinter\n",
      "Downloading 4 images\n",
      "Downloaded pic1.jpg\n",
      "Downloaded pic2.jpg\n",
      "Downloaded pic3.jpg\n"
     ]
    },
    {
     "name": "stderr",
     "output_type": "stream",
     "text": [
      "201it [13:08,  4.44s/it]"
     ]
    },
    {
     "name": "stdout",
     "output_type": "stream",
     "text": [
      "Downloaded pic4.jpg\n",
      "Michael R. Splinter\n",
      "Downloading 4 images\n",
      "Downloaded pic1.jpg\n"
     ]
    },
    {
     "name": "stderr",
     "output_type": "stream",
     "text": [
      "202it [13:08,  3.37s/it]"
     ]
    },
    {
     "name": "stdout",
     "output_type": "stream",
     "text": [
      "Downloaded pic4.jpg\n",
      "Michael R. Splinter\n",
      "Downloading 4 images\n",
      "Downloaded pic1.jpg\n",
      "Downloaded pic3.jpg\n"
     ]
    },
    {
     "name": "stderr",
     "output_type": "stream",
     "text": [
      "203it [13:10,  2.88s/it]"
     ]
    },
    {
     "name": "stdout",
     "output_type": "stream",
     "text": [
      "Downloaded pic4.jpg\n",
      "Gary E. Dickerson\n",
      "Downloading 4 images\n",
      "Downloaded pic1.jpg\n",
      "Downloaded pic2.jpg\n"
     ]
    },
    {
     "name": "stderr",
     "output_type": "stream",
     "text": [
      "204it [13:10,  2.11s/it]"
     ]
    },
    {
     "name": "stdout",
     "output_type": "stream",
     "text": [
      "Downloaded pic3.jpg\n",
      "Downloaded pic4.jpg\n",
      "Gary E. Dickerson\n",
      "Downloading 4 images\n",
      "Downloaded pic1.jpg\n",
      "Downloaded pic2.jpg\n"
     ]
    },
    {
     "name": "stderr",
     "output_type": "stream",
     "text": [
      "205it [13:11,  1.70s/it]"
     ]
    },
    {
     "name": "stdout",
     "output_type": "stream",
     "text": [
      "Gary E. Dickerson\n",
      "Downloading 4 images\n",
      "Downloaded pic2.jpg\n"
     ]
    },
    {
     "name": "stderr",
     "output_type": "stream",
     "text": [
      "206it [13:12,  1.33s/it]"
     ]
    },
    {
     "name": "stdout",
     "output_type": "stream",
     "text": [
      "Downloaded pic3.jpg\n",
      "Gary E. Dickerson\n",
      "Downloading 4 images\n",
      "Downloaded pic1.jpg\n",
      "Downloaded pic2.jpg\n",
      "Downloaded pic3.png\n"
     ]
    },
    {
     "name": "stderr",
     "output_type": "stream",
     "text": [
      "207it [13:13,  1.43s/it]"
     ]
    },
    {
     "name": "stdout",
     "output_type": "stream",
     "text": [
      "Downloaded pic4.jpg\n",
      "Gary E. Dickerson\n",
      "Downloading 4 images\n",
      "Downloaded pic1.jpg\n",
      "Downloaded pic2.jpg\n"
     ]
    },
    {
     "name": "stderr",
     "output_type": "stream",
     "text": [
      "208it [13:16,  1.66s/it]"
     ]
    },
    {
     "name": "stdout",
     "output_type": "stream",
     "text": [
      "Downloaded pic3.jpg\n",
      "Gary E. Dickerson\n",
      "Downloading 4 images\n",
      "Downloaded pic1.jpg\n",
      "Downloaded pic2.jpg\n",
      "Downloaded pic3.jpg\n"
     ]
    },
    {
     "name": "stderr",
     "output_type": "stream",
     "text": [
      "209it [13:17,  1.64s/it]"
     ]
    },
    {
     "name": "stdout",
     "output_type": "stream",
     "text": [
      "Downloaded pic4.jpg\n",
      "Gary E. Dickerson\n",
      "Downloading 4 images\n",
      "Downloaded pic1.jpg\n",
      "Downloaded pic2.jpg\n",
      "Downloaded pic3.jpg\n"
     ]
    },
    {
     "name": "stderr",
     "output_type": "stream",
     "text": [
      "210it [13:19,  1.61s/it]"
     ]
    },
    {
     "name": "stdout",
     "output_type": "stream",
     "text": [
      "Downloaded pic4.jpg\n",
      "Rick Wallace\n",
      "Downloading 4 images\n",
      "Downloaded pic1.jpg\n",
      "Downloaded pic2.jpg\n",
      "Downloaded pic3.jpg\n"
     ]
    },
    {
     "name": "stderr",
     "output_type": "stream",
     "text": [
      "211it [13:21,  1.76s/it]"
     ]
    },
    {
     "name": "stdout",
     "output_type": "stream",
     "text": [
      "Downloaded pic4.jpg\n",
      "Rick Wallace\n",
      "Downloading 4 images\n",
      "Downloaded pic1.jpg\n",
      "Downloaded pic2.jpg\n"
     ]
    },
    {
     "name": "stderr",
     "output_type": "stream",
     "text": [
      "212it [13:23,  2.00s/it]"
     ]
    },
    {
     "name": "stdout",
     "output_type": "stream",
     "text": [
      "Downloaded pic3.jpg\n",
      "Downloaded pic4.jpg\n",
      "Rick Wallace\n",
      "Downloading 4 images\n",
      "Downloaded pic1.jpg\n",
      "Downloaded pic2.jpg\n"
     ]
    },
    {
     "name": "stderr",
     "output_type": "stream",
     "text": [
      "213it [13:25,  1.87s/it]"
     ]
    },
    {
     "name": "stdout",
     "output_type": "stream",
     "text": [
      "Downloaded pic3.jpg\n",
      "Rick Wallace\n",
      "Downloading 4 images\n"
     ]
    },
    {
     "name": "stderr",
     "output_type": "stream",
     "text": [
      "214it [13:26,  1.50s/it]"
     ]
    },
    {
     "name": "stdout",
     "output_type": "stream",
     "text": [
      "Downloaded pic2.jpg\n",
      "Rick Wallace\n",
      "Downloading 4 images\n",
      "Downloaded pic1.jpg\n",
      "Downloaded pic2.jpg\n",
      "Downloaded pic3.png\n"
     ]
    },
    {
     "name": "stderr",
     "output_type": "stream",
     "text": [
      "215it [13:28,  1.92s/it]"
     ]
    },
    {
     "name": "stdout",
     "output_type": "stream",
     "text": [
      "Downloaded pic4.jpg\n",
      "Rick Wallace\n",
      "Downloading 4 images\n",
      "Downloaded pic1.jpg\n",
      "Downloaded pic2.jpg\n"
     ]
    },
    {
     "name": "stderr",
     "output_type": "stream",
     "text": [
      "216it [13:29,  1.60s/it]"
     ]
    },
    {
     "name": "stdout",
     "output_type": "stream",
     "text": [
      "Downloaded pic3.jpg\n",
      "Downloaded pic4.jpg\n",
      "Rick Wallace\n",
      "Downloading 4 images\n",
      "Downloaded pic1.jpg\n",
      "Downloaded pic2.jpg\n",
      "Downloaded pic3.jpg\n"
     ]
    },
    {
     "name": "stderr",
     "output_type": "stream",
     "text": [
      "217it [13:31,  1.57s/it]"
     ]
    },
    {
     "name": "stdout",
     "output_type": "stream",
     "text": [
      "Downloaded pic4.jpg\n",
      "Rick Wallace\n",
      "Downloading 4 images\n",
      "Downloaded pic1.jpg\n",
      "Downloaded pic3.jpg\n"
     ]
    },
    {
     "name": "stderr",
     "output_type": "stream",
     "text": [
      "218it [13:32,  1.42s/it]"
     ]
    },
    {
     "name": "stdout",
     "output_type": "stream",
     "text": [
      "Downloaded pic4.jpg\n",
      "Rick Wallace\n",
      "Downloading 4 images\n",
      "Downloaded pic1.jpg\n",
      "Downloaded pic2.jpg\n",
      "Downloaded pic3.png\n"
     ]
    },
    {
     "name": "stderr",
     "output_type": "stream",
     "text": [
      "219it [13:37,  2.53s/it]"
     ]
    },
    {
     "name": "stdout",
     "output_type": "stream",
     "text": [
      "Rick Wallace\n",
      "Downloading 4 images\n",
      "Downloaded pic1.png\n"
     ]
    },
    {
     "name": "stderr",
     "output_type": "stream",
     "text": [
      "220it [14:08, 10.96s/it]"
     ]
    },
    {
     "name": "stdout",
     "output_type": "stream",
     "text": [
      "Error downloading image 3: HTTPSConnectionPool(host='www.edn.com', port=443): Read timed out. (read timeout=30)\n",
      "Sehat Sutardja\n",
      "Downloading 4 images\n",
      "Downloaded pic1.jpg\n",
      "Downloaded pic2.jpg\n"
     ]
    },
    {
     "name": "stderr",
     "output_type": "stream",
     "text": [
      "221it [14:08,  7.93s/it]"
     ]
    },
    {
     "name": "stdout",
     "output_type": "stream",
     "text": [
      "Downloaded pic3.jpg\n",
      "Downloaded pic4.jpg\n",
      "Sehat Sutardja\n",
      "Downloading 4 images\n",
      "Downloaded pic1.jpg\n",
      "Downloaded pic2.jpg\n",
      "Downloaded pic3.jpg\n"
     ]
    },
    {
     "name": "stderr",
     "output_type": "stream",
     "text": [
      "222it [14:09,  5.77s/it]"
     ]
    },
    {
     "name": "stdout",
     "output_type": "stream",
     "text": [
      "Downloaded pic4.jpg\n",
      "Sehat Sutardja\n",
      "Downloading 4 images\n",
      "Downloaded pic1.jpg\n",
      "Downloaded pic2.jpg\n"
     ]
    },
    {
     "name": "stderr",
     "output_type": "stream",
     "text": [
      "223it [14:10,  4.28s/it]"
     ]
    },
    {
     "name": "stdout",
     "output_type": "stream",
     "text": [
      "Downloaded pic4.jpg\n",
      "Sehat Sutardja\n",
      "Downloading 4 images\n",
      "Downloaded pic1.jpg\n",
      "Downloaded pic2.jpg\n"
     ]
    },
    {
     "name": "stderr",
     "output_type": "stream",
     "text": [
      "224it [14:13,  4.00s/it]"
     ]
    },
    {
     "name": "stdout",
     "output_type": "stream",
     "text": [
      "Downloaded pic4.jpg\n",
      "Sehat Sutardja\n",
      "Downloading 4 images\n",
      "Downloaded pic1.jpg\n",
      "Downloaded pic2.jpg\n",
      "Downloaded pic3.jpg\n"
     ]
    },
    {
     "name": "stderr",
     "output_type": "stream",
     "text": [
      "225it [14:15,  3.20s/it]"
     ]
    },
    {
     "name": "stdout",
     "output_type": "stream",
     "text": [
      "Sehat Sutardja\n",
      "Downloading 4 images\n",
      "Error downloading image 0: HTTPSConnectionPool(host='www.eetimes.com', port=443): Read timed out. (read timeout=30)\n",
      "Error downloading image 1: No connection adapters were found for 'x-raw-image:///9acf24bd30668067e81e92eafc94f0c96f90c26930d337c479ff6442bfb4fb65'\n",
      "Downloaded pic3.jpg\n"
     ]
    },
    {
     "name": "stderr",
     "output_type": "stream",
     "text": [
      "226it [14:46, 11.51s/it]"
     ]
    },
    {
     "name": "stdout",
     "output_type": "stream",
     "text": [
      "Downloaded pic4.jpg\n",
      "Matthew J. Murphy\n",
      "Downloading 4 images\n",
      "Downloaded pic1.jpg\n",
      "Downloaded pic2.jpg\n",
      "Downloaded pic3.png\n"
     ]
    },
    {
     "name": "stderr",
     "output_type": "stream",
     "text": [
      "227it [14:47,  8.53s/it]"
     ]
    },
    {
     "name": "stdout",
     "output_type": "stream",
     "text": [
      "Matthew J. Murphy\n",
      "Downloading 4 images\n",
      "Downloaded pic1.jpg\n",
      "Downloaded pic2.jpg\n"
     ]
    },
    {
     "name": "stderr",
     "output_type": "stream",
     "text": [
      "228it [14:48,  6.14s/it]"
     ]
    },
    {
     "name": "stdout",
     "output_type": "stream",
     "text": [
      "Downloaded pic4.jpg\n",
      "Matthew J. Murphy\n",
      "Downloading 4 images\n",
      "Downloaded pic1.jpg\n",
      "Downloaded pic2.jpg\n",
      "Downloaded pic3.jpg\n"
     ]
    },
    {
     "name": "stderr",
     "output_type": "stream",
     "text": [
      "229it [14:48,  4.36s/it]"
     ]
    },
    {
     "name": "stdout",
     "output_type": "stream",
     "text": [
      "Downloaded pic4.jpg\n",
      "Matthew J. Murphy\n",
      "Downloading 4 images\n",
      "Downloaded pic1.png\n"
     ]
    },
    {
     "name": "stderr",
     "output_type": "stream",
     "text": [
      "230it [14:48,  3.18s/it]"
     ]
    },
    {
     "name": "stdout",
     "output_type": "stream",
     "text": [
      "Downloaded pic2.png\n",
      "Downloaded pic3.jpg\n",
      "Lip-Bu Tan\n",
      "Downloading 4 images\n",
      "Error downloading image 0: HTTPSConnectionPool(host='community.cadence.com', port=443): Read timed out. (read timeout=30)\n",
      "Downloaded pic2.jpg\n",
      "Downloaded pic3.jpg\n"
     ]
    },
    {
     "name": "stderr",
     "output_type": "stream",
     "text": [
      "231it [15:20, 11.65s/it]"
     ]
    },
    {
     "name": "stdout",
     "output_type": "stream",
     "text": [
      "Downloaded pic4.jpg\n",
      "Lip-Bu Tan\n",
      "Downloading 4 images\n",
      "Downloaded pic1.jpg\n"
     ]
    },
    {
     "name": "stderr",
     "output_type": "stream",
     "text": [
      "232it [15:20,  8.34s/it]"
     ]
    },
    {
     "name": "stdout",
     "output_type": "stream",
     "text": [
      "Downloaded pic2.jpg\n",
      "Lip-Bu Tan\n",
      "Downloading 4 images\n",
      "Downloaded pic1.jpg\n",
      "Downloaded pic2.jpg\n"
     ]
    },
    {
     "name": "stderr",
     "output_type": "stream",
     "text": [
      "233it [15:21,  6.08s/it]"
     ]
    },
    {
     "name": "stdout",
     "output_type": "stream",
     "text": [
      "Downloaded pic3.jpg\n",
      "Downloaded pic4.jpg\n",
      "Lip-Bu Tan\n",
      "Downloading 4 images\n",
      "Downloaded pic1.jpg\n",
      "Downloaded pic2.jpg\n",
      "Downloaded pic3.jpg\n"
     ]
    },
    {
     "name": "stderr",
     "output_type": "stream",
     "text": [
      "234it [15:23,  4.85s/it]"
     ]
    },
    {
     "name": "stdout",
     "output_type": "stream",
     "text": [
      "Downloaded pic4.jpg\n",
      "Lip-Bu Tan\n",
      "Downloading 4 images\n",
      "Downloaded pic1.jpg\n",
      "Downloaded pic2.jpg\n"
     ]
    },
    {
     "name": "stderr",
     "output_type": "stream",
     "text": [
      "235it [15:24,  3.76s/it]"
     ]
    },
    {
     "name": "stdout",
     "output_type": "stream",
     "text": [
      "Downloaded pic3.jpg\n",
      "Downloaded pic4.jpg\n",
      "Lip-Bu Tan\n",
      "Downloading 4 images\n",
      "Downloaded pic1.jpg\n",
      "Downloaded pic2.jpg\n"
     ]
    },
    {
     "name": "stderr",
     "output_type": "stream",
     "text": [
      "236it [15:25,  2.96s/it]"
     ]
    },
    {
     "name": "stdout",
     "output_type": "stream",
     "text": [
      "Downloaded pic4.jpg\n",
      "Lip-Bu Tan\n",
      "Downloading 4 images\n",
      "Downloaded pic1.jpg\n",
      "Error downloading image 1: HTTPSConnectionPool(host='community.cadence.com', port=443): Read timed out. (read timeout=30)\n",
      "Error downloading image 2: HTTPSConnectionPool(host='mms.businesswire.com', port=443): Read timed out. (read timeout=30)\n"
     ]
    },
    {
     "name": "stderr",
     "output_type": "stream",
     "text": [
      "237it [16:34, 22.50s/it]"
     ]
    },
    {
     "name": "stdout",
     "output_type": "stream",
     "text": [
      "Downloaded pic4.jpg\n",
      "Lip-Bu Tan\n",
      "Downloading 4 images\n",
      "Downloaded pic3.webp\n"
     ]
    },
    {
     "name": "stderr",
     "output_type": "stream",
     "text": [
      "238it [16:40, 17.74s/it]"
     ]
    },
    {
     "name": "stdout",
     "output_type": "stream",
     "text": [
      "Downloaded pic4.jpg\n",
      "Lip-Bu Tan\n",
      "Downloading 4 images\n",
      "Downloaded pic1.jpg\n",
      "Downloaded pic2.jpg\n"
     ]
    },
    {
     "name": "stderr",
     "output_type": "stream",
     "text": [
      "239it [16:46, 14.18s/it]"
     ]
    },
    {
     "name": "stdout",
     "output_type": "stream",
     "text": [
      "Lip-Bu Tan\n",
      "Downloading 4 images\n",
      "Downloaded pic1.jpg\n",
      "Downloaded pic2.jpg\n",
      "Downloaded pic3.jpg\n"
     ]
    },
    {
     "name": "stderr",
     "output_type": "stream",
     "text": [
      "240it [16:51, 11.30s/it]"
     ]
    },
    {
     "name": "stdout",
     "output_type": "stream",
     "text": [
      "Downloaded pic4.jpg\n",
      "Aart de Geus\n",
      "Downloading 4 images\n",
      "Downloaded pic1.jpg\n",
      "Error downloading image 1: ('Connection aborted.', RemoteDisconnected('Remote end closed connection without response'))\n",
      "Error downloading image 2: HTTPSConnectionPool(host='www.edn.com', port=443): Read timed out. (read timeout=30)\n"
     ]
    },
    {
     "name": "stderr",
     "output_type": "stream",
     "text": [
      "241it [17:21, 17.14s/it]"
     ]
    },
    {
     "name": "stdout",
     "output_type": "stream",
     "text": [
      "Downloaded pic4.jpg\n",
      "Aart de Geus\n",
      "Downloading 4 images\n",
      "Downloaded pic1.jpg\n",
      "Downloaded pic2.jpg\n",
      "Downloaded pic3.jpg\n"
     ]
    },
    {
     "name": "stderr",
     "output_type": "stream",
     "text": [
      "242it [17:24, 12.64s/it]"
     ]
    },
    {
     "name": "stdout",
     "output_type": "stream",
     "text": [
      "Downloaded pic4.jpg\n",
      "Aart de Geus\n",
      "Downloading 4 images\n",
      "Downloaded pic1.jpg\n",
      "Downloaded pic2.jpg\n",
      "Downloaded pic3.jpg\n"
     ]
    },
    {
     "name": "stderr",
     "output_type": "stream",
     "text": [
      "243it [17:25,  9.40s/it]"
     ]
    },
    {
     "name": "stdout",
     "output_type": "stream",
     "text": [
      "Downloaded pic4.jpg\n",
      "Aart de Geus\n",
      "Downloading 4 images\n",
      "Downloaded pic1.jpg\n",
      "Downloaded pic2.jpg\n",
      "Downloaded pic3.jpg\n"
     ]
    },
    {
     "name": "stderr",
     "output_type": "stream",
     "text": [
      "244it [17:27,  7.01s/it]"
     ]
    },
    {
     "name": "stdout",
     "output_type": "stream",
     "text": [
      "Downloaded pic4.jpg\n",
      "Aart de Geus\n",
      "Downloading 4 images\n",
      "Downloaded pic2.jpg\n",
      "Downloaded pic3.jpg\n"
     ]
    },
    {
     "name": "stderr",
     "output_type": "stream",
     "text": [
      "245it [17:29,  5.46s/it]"
     ]
    },
    {
     "name": "stdout",
     "output_type": "stream",
     "text": [
      "Downloaded pic4.jpg\n",
      "Aart de Geus\n",
      "Downloading 4 images\n",
      "Downloaded pic1.png\n",
      "Downloaded pic2.jpg\n",
      "Downloaded pic3.jpg\n"
     ]
    },
    {
     "name": "stderr",
     "output_type": "stream",
     "text": [
      "246it [17:30,  4.20s/it]"
     ]
    },
    {
     "name": "stdout",
     "output_type": "stream",
     "text": [
      "Downloaded pic4.jpg\n",
      "Aart de Geus\n",
      "Downloading 4 images\n",
      "Downloaded pic1.jpg\n",
      "Downloaded pic2.jpg\n",
      "Downloaded pic3.jpg\n"
     ]
    },
    {
     "name": "stderr",
     "output_type": "stream",
     "text": [
      "247it [17:31,  3.27s/it]"
     ]
    },
    {
     "name": "stdout",
     "output_type": "stream",
     "text": [
      "Downloaded pic4.jpg\n",
      "Aart de Geus\n",
      "Downloading 4 images\n",
      "Downloaded pic1.jpg\n",
      "Downloaded pic2.jpg\n",
      "Downloaded pic3.jpg\n"
     ]
    },
    {
     "name": "stderr",
     "output_type": "stream",
     "text": [
      "248it [17:32,  2.58s/it]"
     ]
    },
    {
     "name": "stdout",
     "output_type": "stream",
     "text": [
      "Downloaded pic4.jpg\n",
      "Aart de Geus\n",
      "Downloading 4 images\n",
      "Downloaded pic1.jpg\n",
      "Downloaded pic2.jpg\n",
      "Downloaded pic3.jpg\n"
     ]
    },
    {
     "name": "stderr",
     "output_type": "stream",
     "text": [
      "249it [17:34,  2.30s/it]"
     ]
    },
    {
     "name": "stdout",
     "output_type": "stream",
     "text": [
      "Downloaded pic4.jpg\n",
      "Aart de Geus\n",
      "Downloading 4 images\n",
      "Error downloading image 0: HTTPSConnectionPool(host='www.eetimes.com', port=443): Read timed out. (read timeout=30)\n",
      "Downloaded pic2.jpg\n",
      "Error downloading image 2: ('Connection aborted.', RemoteDisconnected('Remote end closed connection without response'))\n"
     ]
    },
    {
     "name": "stderr",
     "output_type": "stream",
     "text": [
      "250it [18:05, 10.93s/it]"
     ]
    },
    {
     "name": "stdout",
     "output_type": "stream",
     "text": [
      "Downloaded pic4.png\n",
      "Ken Xie\n",
      "Downloading 4 images\n",
      "Downloaded pic2.png\n",
      "Downloaded pic3.jpg\n"
     ]
    },
    {
     "name": "stderr",
     "output_type": "stream",
     "text": [
      "251it [18:09,  8.91s/it]"
     ]
    },
    {
     "name": "stdout",
     "output_type": "stream",
     "text": [
      "Downloaded pic4.jpg\n",
      "Ken Xie\n",
      "Downloading 4 images\n",
      "Downloaded pic1.jpg\n",
      "Downloaded pic3.png\n"
     ]
    },
    {
     "name": "stderr",
     "output_type": "stream",
     "text": [
      "252it [18:15,  8.13s/it]"
     ]
    },
    {
     "name": "stdout",
     "output_type": "stream",
     "text": [
      "Downloaded pic4.jpg\n",
      "Ken Xie\n",
      "Downloading 4 images\n",
      "Downloaded pic1.jpg\n",
      "Downloaded pic2.jpg\n",
      "Downloaded pic3.gif\n"
     ]
    },
    {
     "name": "stderr",
     "output_type": "stream",
     "text": [
      "253it [18:18,  6.43s/it]"
     ]
    },
    {
     "name": "stdout",
     "output_type": "stream",
     "text": [
      "Downloaded pic4.jpg\n",
      "Ken Xie\n",
      "Downloading 4 images\n",
      "Downloaded pic1.jpg\n",
      "Downloaded pic2.jpg\n",
      "Downloaded pic3.png\n"
     ]
    },
    {
     "name": "stderr",
     "output_type": "stream",
     "text": [
      "254it [18:20,  5.09s/it]"
     ]
    },
    {
     "name": "stdout",
     "output_type": "stream",
     "text": [
      "Downloaded pic4.jpg\n",
      "Ken Xie\n",
      "Downloading 4 images\n",
      "Downloaded pic1.jpg\n",
      "Downloaded pic2.jpg\n",
      "Downloaded pic3.jpg\n"
     ]
    },
    {
     "name": "stderr",
     "output_type": "stream",
     "text": [
      "255it [18:21,  3.92s/it]"
     ]
    },
    {
     "name": "stdout",
     "output_type": "stream",
     "text": [
      "Downloaded pic4.jpg\n",
      "Ken Xie\n",
      "Downloading 4 images\n",
      "Downloaded pic1.jpg\n",
      "Error downloading image 1: No connection adapters were found for 'x-raw-image:///6974d148648a7ea5744786a8ec81cde42b72dd8bf459a4cf658ae23ff69cbe48'\n",
      "Downloaded pic3.jpg\n"
     ]
    },
    {
     "name": "stderr",
     "output_type": "stream",
     "text": [
      "256it [18:21,  2.93s/it]"
     ]
    },
    {
     "name": "stdout",
     "output_type": "stream",
     "text": [
      "Downloaded pic4.jpg\n",
      "Ken Xie\n",
      "Downloading 4 images\n",
      "Downloaded pic1.jpg\n",
      "Downloaded pic2.jpg\n",
      "Downloaded pic3.jpg\n"
     ]
    },
    {
     "name": "stderr",
     "output_type": "stream",
     "text": [
      "257it [18:26,  3.50s/it]"
     ]
    },
    {
     "name": "stdout",
     "output_type": "stream",
     "text": [
      "Downloaded pic4.jpg\n",
      "Ken Xie\n",
      "Downloading 4 images\n",
      "Downloaded pic1.jpg\n",
      "Downloaded pic2.jpg\n"
     ]
    },
    {
     "name": "stderr",
     "output_type": "stream",
     "text": [
      "258it [18:27,  2.64s/it]"
     ]
    },
    {
     "name": "stdout",
     "output_type": "stream",
     "text": [
      "Downloaded pic3.jpg\n",
      "Downloaded pic4.jpg\n",
      "Ken Xie\n",
      "Downloading 4 images\n",
      "Downloaded pic1.jpg\n",
      "Downloaded pic2.jpg\n",
      "Downloaded pic3.jpg\n"
     ]
    },
    {
     "name": "stderr",
     "output_type": "stream",
     "text": [
      "259it [18:28,  2.17s/it]"
     ]
    },
    {
     "name": "stdout",
     "output_type": "stream",
     "text": [
      "Downloaded pic4.jpg\n",
      "Ken Xie\n",
      "Downloading 4 images\n",
      "Downloaded pic1.jpg\n",
      "Downloaded pic2.jpg\n",
      "Downloaded pic3.jpg\n"
     ]
    },
    {
     "name": "stderr",
     "output_type": "stream",
     "text": [
      "260it [18:30,  2.03s/it]"
     ]
    },
    {
     "name": "stdout",
     "output_type": "stream",
     "text": [
      "Downloaded pic4.jpg\n",
      "John McAdam\n",
      "Downloading 4 images\n"
     ]
    },
    {
     "name": "stderr",
     "output_type": "stream",
     "text": [
      "261it [18:30,  1.59s/it]"
     ]
    },
    {
     "name": "stdout",
     "output_type": "stream",
     "text": [
      "Downloaded pic4.jpg\n",
      "John McAdam\n",
      "Downloading 4 images\n",
      "Downloaded pic1.jpg\n",
      "Downloaded pic2.jpg\n",
      "Downloaded pic3.jpg\n"
     ]
    },
    {
     "name": "stderr",
     "output_type": "stream",
     "text": [
      "262it [18:31,  1.46s/it]"
     ]
    },
    {
     "name": "stdout",
     "output_type": "stream",
     "text": [
      "Downloaded pic4.jpg\n",
      "John McAdam\n",
      "Downloading 4 images\n",
      "Downloaded pic1.jpg\n",
      "Downloaded pic2.jpg\n",
      "Downloaded pic3.jpg\n"
     ]
    },
    {
     "name": "stderr",
     "output_type": "stream",
     "text": [
      "263it [18:33,  1.44s/it]"
     ]
    },
    {
     "name": "stdout",
     "output_type": "stream",
     "text": [
      "Downloaded pic4.jpg\n",
      "John McAdam\n",
      "Downloading 4 images\n",
      "Downloaded pic1.jpg\n",
      "Downloaded pic2.jpg\n"
     ]
    },
    {
     "name": "stderr",
     "output_type": "stream",
     "text": [
      "264it [18:34,  1.24s/it]"
     ]
    },
    {
     "name": "stdout",
     "output_type": "stream",
     "text": [
      "Downloaded pic4.jpg\n",
      "John McAdam\n",
      "Downloading 4 images\n",
      "Downloaded pic1.jpg\n",
      "Downloaded pic2.jpg\n",
      "Downloaded pic3.jpg\n"
     ]
    },
    {
     "name": "stderr",
     "output_type": "stream",
     "text": [
      "265it [18:35,  1.24s/it]"
     ]
    },
    {
     "name": "stdout",
     "output_type": "stream",
     "text": [
      "Downloaded pic4.jpg\n",
      "John McAdam\n",
      "Downloading 4 images\n",
      "Downloaded pic1.jpg\n",
      "Downloaded pic2.jpg\n",
      "Downloaded pic3.jpg\n"
     ]
    },
    {
     "name": "stderr",
     "output_type": "stream",
     "text": [
      "266it [18:36,  1.23s/it]"
     ]
    },
    {
     "name": "stdout",
     "output_type": "stream",
     "text": [
      "Downloaded pic4.png\n",
      "John McAdam\n",
      "Downloading 4 images\n",
      "Downloaded pic1.jpg\n",
      "Downloaded pic2.jpg\n",
      "Downloaded pic3.jpg\n"
     ]
    },
    {
     "name": "stderr",
     "output_type": "stream",
     "text": [
      "267it [18:38,  1.32s/it]"
     ]
    },
    {
     "name": "stdout",
     "output_type": "stream",
     "text": [
      "Downloaded pic4.jpg\n",
      "François Locoh-Donou\n",
      "Downloading 4 images\n",
      "Downloaded pic1.jpg\n",
      "Downloaded pic2.jpg\n",
      "Downloaded pic3.jpg\n"
     ]
    },
    {
     "name": "stderr",
     "output_type": "stream",
     "text": [
      "268it [18:39,  1.29s/it]"
     ]
    },
    {
     "name": "stdout",
     "output_type": "stream",
     "text": [
      "Downloaded pic4.jpg\n",
      "François Locoh-Donou\n",
      "Downloading 4 images\n",
      "Downloaded pic1.jpg\n",
      "Downloaded pic2.jpg\n",
      "Downloaded pic3.jpg\n"
     ]
    },
    {
     "name": "stderr",
     "output_type": "stream",
     "text": [
      "269it [18:41,  1.43s/it]"
     ]
    },
    {
     "name": "stdout",
     "output_type": "stream",
     "text": [
      "Downloaded pic4.jpg\n",
      "François Locoh-Donou\n",
      "Downloading 4 images\n",
      "Downloaded pic1.jpg\n",
      "Downloaded pic2.jpg\n"
     ]
    },
    {
     "name": "stderr",
     "output_type": "stream",
     "text": [
      "270it [18:43,  1.76s/it]"
     ]
    },
    {
     "name": "stdout",
     "output_type": "stream",
     "text": [
      "Downloaded pic3.png\n",
      "Downloaded pic4.jpg\n",
      "Jayshree Ullal\n",
      "Downloading 4 images\n",
      "Downloaded pic1.jpg\n",
      "Downloaded pic2.jpg\n"
     ]
    },
    {
     "name": "stderr",
     "output_type": "stream",
     "text": [
      "271it [18:44,  1.46s/it]"
     ]
    },
    {
     "name": "stdout",
     "output_type": "stream",
     "text": [
      "Downloaded pic3.jpg\n",
      "Downloaded pic4.jpg\n",
      "Jayshree Ullal\n",
      "Downloading 4 images\n",
      "Downloaded pic1.jpg\n",
      "Downloaded pic2.jpg\n"
     ]
    },
    {
     "name": "stderr",
     "output_type": "stream",
     "text": [
      "272it [18:45,  1.38s/it]"
     ]
    },
    {
     "name": "stdout",
     "output_type": "stream",
     "text": [
      "Downloaded pic4.jpg\n",
      "Jayshree Ullal\n",
      "Downloading 4 images\n",
      "Downloaded pic1.jpg\n",
      "Downloaded pic2.jpg\n",
      "Downloaded pic3.jpg\n"
     ]
    },
    {
     "name": "stderr",
     "output_type": "stream",
     "text": [
      "273it [18:46,  1.34s/it]"
     ]
    },
    {
     "name": "stdout",
     "output_type": "stream",
     "text": [
      "Downloaded pic4.jpg\n",
      "Jayshree Ullal\n",
      "Downloading 4 images\n",
      "Error downloading image 0: HTTPSConnectionPool(host='34.216.52.208', port=443): Max retries exceeded with url: /wp-content/uploads/2013/06/Jayshree-Ullal.jpg (Caused by SSLError(SSLCertVerificationError(1, '[SSL: CERTIFICATE_VERIFY_FAILED] certificate verify failed: self-signed certificate (_ssl.c:1000)')))\n",
      "Downloaded pic2.jpg\n",
      "Downloaded pic3.jpg\n"
     ]
    },
    {
     "name": "stderr",
     "output_type": "stream",
     "text": [
      "274it [18:47,  1.21s/it]"
     ]
    },
    {
     "name": "stdout",
     "output_type": "stream",
     "text": [
      "Downloaded pic4.jpg\n",
      "Jayshree Ullal\n",
      "Downloading 4 images\n",
      "Downloaded pic1.jpg\n",
      "Downloaded pic2.jpg\n",
      "Downloaded pic3.jpg\n"
     ]
    },
    {
     "name": "stderr",
     "output_type": "stream",
     "text": [
      "275it [18:49,  1.32s/it]"
     ]
    },
    {
     "name": "stdout",
     "output_type": "stream",
     "text": [
      "Downloaded pic4.webp\n",
      "Jayshree Ullal\n",
      "Downloading 4 images\n",
      "Downloaded pic1.jpg\n",
      "Downloaded pic2.jpg\n"
     ]
    },
    {
     "name": "stderr",
     "output_type": "stream",
     "text": [
      "276it [18:50,  1.25s/it]"
     ]
    },
    {
     "name": "stdout",
     "output_type": "stream",
     "text": [
      "Downloaded pic3.jpg\n",
      "Downloaded pic4.jpg\n",
      "Jayshree Ullal\n",
      "Downloading 4 images\n",
      "Downloaded pic1.png\n",
      "Downloaded pic2.jpg\n",
      "Downloaded pic3.jpg\n"
     ]
    },
    {
     "name": "stderr",
     "output_type": "stream",
     "text": [
      "277it [18:51,  1.36s/it]"
     ]
    },
    {
     "name": "stdout",
     "output_type": "stream",
     "text": [
      "Downloaded pic4.jpg\n",
      "Jayshree Ullal\n",
      "Downloading 4 images\n",
      "Downloaded pic1.jpg\n",
      "Downloaded pic2.jpg\n",
      "Downloaded pic3.jpg\n"
     ]
    },
    {
     "name": "stderr",
     "output_type": "stream",
     "text": [
      "278it [18:53,  1.29s/it]"
     ]
    },
    {
     "name": "stdout",
     "output_type": "stream",
     "text": [
      "Downloaded pic4.jpg\n",
      "Jayshree Ullal\n",
      "Downloading 4 images\n",
      "Downloaded pic1.jpg\n",
      "Downloaded pic2.jpg\n"
     ]
    },
    {
     "name": "stderr",
     "output_type": "stream",
     "text": [
      "279it [18:53,  1.16s/it]"
     ]
    },
    {
     "name": "stdout",
     "output_type": "stream",
     "text": [
      "Downloaded pic3.jpg\n",
      "Downloaded pic4.jpg\n",
      "Jayshree Ullal\n",
      "Downloading 4 images\n",
      "Downloaded pic1.jpg\n",
      "Downloaded pic2.png\n",
      "Downloaded pic3.jpg\n"
     ]
    },
    {
     "name": "stderr",
     "output_type": "stream",
     "text": [
      "280it [18:58,  2.22s/it]"
     ]
    },
    {
     "name": "stdout",
     "output_type": "stream",
     "text": [
      "Downloaded pic4.jpg\n",
      "Greg Brown\n",
      "Downloading 4 images\n",
      "Downloaded pic1.jpg\n",
      "Downloaded pic2.jpg\n",
      "Downloaded pic3.jpg\n"
     ]
    },
    {
     "name": "stderr",
     "output_type": "stream",
     "text": [
      "281it [18:59,  1.91s/it]"
     ]
    },
    {
     "name": "stdout",
     "output_type": "stream",
     "text": [
      "Downloaded pic4.jpg\n",
      "Greg Brown\n",
      "Downloading 4 images\n",
      "Downloaded pic1.jpg\n",
      "Downloaded pic2.jpg\n",
      "Downloaded pic3.jpg\n"
     ]
    },
    {
     "name": "stderr",
     "output_type": "stream",
     "text": [
      "282it [19:00,  1.57s/it]"
     ]
    },
    {
     "name": "stdout",
     "output_type": "stream",
     "text": [
      "Downloaded pic4.jpg\n",
      "Greg Brown\n",
      "Downloading 4 images\n",
      "Downloaded pic1.jpg\n",
      "Downloaded pic2.jpg\n"
     ]
    },
    {
     "name": "stderr",
     "output_type": "stream",
     "text": [
      "283it [19:03,  1.83s/it]"
     ]
    },
    {
     "name": "stdout",
     "output_type": "stream",
     "text": [
      "Downloaded pic3.jpg\n",
      "Greg Brown\n",
      "Downloading 4 images\n",
      "Downloaded pic1.jpg\n"
     ]
    },
    {
     "name": "stderr",
     "output_type": "stream",
     "text": [
      "284it [19:03,  1.46s/it]"
     ]
    },
    {
     "name": "stdout",
     "output_type": "stream",
     "text": [
      "Downloaded pic3.jpg\n",
      "Downloaded pic4.jpg\n",
      "Greg Brown\n",
      "Downloading 4 images\n",
      "Downloaded pic2.jpg\n",
      "Downloaded pic3.jpg\n"
     ]
    },
    {
     "name": "stderr",
     "output_type": "stream",
     "text": [
      "285it [19:07,  2.10s/it]"
     ]
    },
    {
     "name": "stdout",
     "output_type": "stream",
     "text": [
      "Downloaded pic4.jpg\n",
      "Greg Brown\n",
      "Downloading 4 images\n",
      "Downloaded pic1.jpg\n",
      "Downloaded pic2.png\n",
      "Downloaded pic3.jpg\n"
     ]
    },
    {
     "name": "stderr",
     "output_type": "stream",
     "text": [
      "286it [19:08,  1.87s/it]"
     ]
    },
    {
     "name": "stdout",
     "output_type": "stream",
     "text": [
      "Downloaded pic4.jpg\n",
      "Greg Brown\n",
      "Downloading 4 images\n",
      "Downloaded pic1.jpg\n",
      "Downloaded pic2.jpg\n"
     ]
    },
    {
     "name": "stderr",
     "output_type": "stream",
     "text": [
      "287it [19:28,  7.17s/it]"
     ]
    },
    {
     "name": "stdout",
     "output_type": "stream",
     "text": [
      "Error downloading image 2: ('Connection aborted.', RemoteDisconnected('Remote end closed connection without response'))\n",
      "Downloaded pic4.jpg\n",
      "Greg Brown\n",
      "Downloading 4 images\n",
      "Downloaded pic1.jpg\n",
      "Downloaded pic2.jpg\n",
      "Downloaded pic3.jpg\n"
     ]
    },
    {
     "name": "stderr",
     "output_type": "stream",
     "text": [
      "288it [19:29,  5.39s/it]"
     ]
    },
    {
     "name": "stdout",
     "output_type": "stream",
     "text": [
      "Downloaded pic4.png\n",
      "Greg Brown\n",
      "Downloading 4 images\n"
     ]
    },
    {
     "name": "stderr",
     "output_type": "stream",
     "text": [
      "289it [19:29,  3.85s/it]"
     ]
    },
    {
     "name": "stdout",
     "output_type": "stream",
     "text": [
      "Greg Brown\n",
      "Downloading 4 images\n"
     ]
    },
    {
     "name": "stderr",
     "output_type": "stream",
     "text": [
      "290it [19:30,  2.83s/it]"
     ]
    },
    {
     "name": "stdout",
     "output_type": "stream",
     "text": [
      "Downloaded pic3.jpg\n",
      "Downloaded pic4.jpg\n",
      "John Coyne\n",
      "Downloading 4 images\n",
      "Downloaded pic1.jpg\n",
      "Downloaded pic2.jpg\n",
      "Downloaded pic3.jpg\n"
     ]
    },
    {
     "name": "stderr",
     "output_type": "stream",
     "text": [
      "291it [19:31,  2.40s/it]"
     ]
    },
    {
     "name": "stdout",
     "output_type": "stream",
     "text": [
      "Downloaded pic4.jpg\n",
      "John Coyne\n",
      "Downloading 4 images\n",
      "Downloaded pic1.jpg\n",
      "Downloaded pic2.jpg\n",
      "Downloaded pic3.jpg\n"
     ]
    },
    {
     "name": "stderr",
     "output_type": "stream",
     "text": [
      "292it [19:32,  2.05s/it]"
     ]
    },
    {
     "name": "stdout",
     "output_type": "stream",
     "text": [
      "Downloaded pic4.jpg\n",
      "Stephen Milligan\n",
      "Downloading 4 images\n",
      "Downloaded pic1.jpg\n",
      "Downloaded pic2.jpg\n"
     ]
    },
    {
     "name": "stderr",
     "output_type": "stream",
     "text": [
      "293it [19:33,  1.83s/it]"
     ]
    },
    {
     "name": "stdout",
     "output_type": "stream",
     "text": [
      "Downloaded pic3.jpg\n",
      "Downloaded pic4.jpg\n",
      "Stephen Milligan\n",
      "Downloading 4 images\n",
      "Downloaded pic1.jpg\n",
      "Downloaded pic2.jpg\n",
      "Downloaded pic3.jpg\n"
     ]
    },
    {
     "name": "stderr",
     "output_type": "stream",
     "text": [
      "294it [19:35,  1.64s/it]"
     ]
    },
    {
     "name": "stdout",
     "output_type": "stream",
     "text": [
      "Downloaded pic4.jpg\n",
      "Stephen Milligan\n",
      "Downloading 4 images\n",
      "Downloaded pic1.jpg\n",
      "Downloaded pic2.jpg\n",
      "Downloaded pic3.jpg\n"
     ]
    },
    {
     "name": "stderr",
     "output_type": "stream",
     "text": [
      "295it [19:36,  1.42s/it]"
     ]
    },
    {
     "name": "stdout",
     "output_type": "stream",
     "text": [
      "Downloaded pic4.jpg\n",
      "Stephen Milligan\n",
      "Downloading 4 images\n",
      "Downloaded pic1.jpg\n",
      "Downloaded pic2.jpg\n",
      "Downloaded pic3.jpg\n"
     ]
    },
    {
     "name": "stderr",
     "output_type": "stream",
     "text": [
      "296it [19:37,  1.49s/it]"
     ]
    },
    {
     "name": "stdout",
     "output_type": "stream",
     "text": [
      "Downloaded pic4.jpg\n",
      "Stephen Milligan\n",
      "Downloading 4 images\n",
      "Downloaded pic1.jpg\n",
      "Downloaded pic2.jpg\n",
      "Downloaded pic3.jpg\n"
     ]
    },
    {
     "name": "stderr",
     "output_type": "stream",
     "text": [
      "297it [19:40,  1.90s/it]"
     ]
    },
    {
     "name": "stdout",
     "output_type": "stream",
     "text": [
      "Downloaded pic4.png\n",
      "Stephen Milligan\n",
      "Downloading 4 images\n",
      "Downloaded pic1.png\n",
      "Downloaded pic2.jpg\n",
      "Downloaded pic3.jpg\n"
     ]
    },
    {
     "name": "stderr",
     "output_type": "stream",
     "text": [
      "298it [19:41,  1.70s/it]"
     ]
    },
    {
     "name": "stdout",
     "output_type": "stream",
     "text": [
      "Downloaded pic4.jpg\n",
      "Stephen Milligan\n",
      "Downloading 4 images\n",
      "Downloaded pic1.jpg\n",
      "Downloaded pic2.jpg\n",
      "Downloaded pic3.jpg\n"
     ]
    },
    {
     "name": "stderr",
     "output_type": "stream",
     "text": [
      "299it [19:45,  2.14s/it]"
     ]
    },
    {
     "name": "stdout",
     "output_type": "stream",
     "text": [
      "Downloaded pic4.jpg\n",
      "Stephen Milligan\n",
      "Downloading 4 images\n",
      "Downloaded pic1.jpg\n",
      "Downloaded pic2.jpg\n"
     ]
    },
    {
     "name": "stderr",
     "output_type": "stream",
     "text": [
      "300it [19:46,  1.99s/it]"
     ]
    },
    {
     "name": "stdout",
     "output_type": "stream",
     "text": [
      "Downloaded pic3.jpg\n",
      "Downloaded pic4.jpg\n",
      "Stephen J. Luczo\n",
      "Downloading 4 images\n"
     ]
    },
    {
     "name": "stderr",
     "output_type": "stream",
     "text": [
      "301it [19:47,  1.64s/it]"
     ]
    },
    {
     "name": "stdout",
     "output_type": "stream",
     "text": [
      "Downloaded pic4.jpg\n",
      "Stephen J. Luczo\n",
      "Downloading 4 images\n",
      "Downloaded pic1.jpg\n"
     ]
    },
    {
     "name": "stderr",
     "output_type": "stream",
     "text": [
      "302it [19:48,  1.36s/it]"
     ]
    },
    {
     "name": "stdout",
     "output_type": "stream",
     "text": [
      "Downloaded pic4.jpg\n",
      "Stephen J. Luczo\n",
      "Downloading 4 images\n",
      "Downloaded pic1.png\n"
     ]
    },
    {
     "name": "stderr",
     "output_type": "stream",
     "text": [
      "303it [19:48,  1.04s/it]"
     ]
    },
    {
     "name": "stdout",
     "output_type": "stream",
     "text": [
      "Stephen J. Luczo\n",
      "Downloading 4 images\n",
      "Downloaded pic1.jpg\n"
     ]
    },
    {
     "name": "stderr",
     "output_type": "stream",
     "text": [
      "304it [19:48,  1.21it/s]"
     ]
    },
    {
     "name": "stdout",
     "output_type": "stream",
     "text": [
      "Downloaded pic2.jpg\n",
      "Stephen J. Luczo\n",
      "Downloading 4 images\n",
      "Downloaded pic1.jpg\n"
     ]
    },
    {
     "name": "stderr",
     "output_type": "stream",
     "text": [
      "305it [19:49,  1.32it/s]"
     ]
    },
    {
     "name": "stdout",
     "output_type": "stream",
     "text": [
      "Downloaded pic3.jpg\n",
      "Stephen J. Luczo\n",
      "Downloading 4 images\n",
      "Downloaded pic2.jpg\n"
     ]
    },
    {
     "name": "stderr",
     "output_type": "stream",
     "text": [
      "306it [19:50,  1.27it/s]"
     ]
    },
    {
     "name": "stdout",
     "output_type": "stream",
     "text": [
      "Downloaded pic4.jpg\n",
      "Stephen J. Luczo\n",
      "Downloading 4 images\n",
      "Error downloading image 0: HTTPSConnectionPool(host='mms.businesswire.com', port=443): Read timed out. (read timeout=30)\n",
      "Downloaded pic2.jpg\n"
     ]
    },
    {
     "name": "stderr",
     "output_type": "stream",
     "text": [
      "307it [20:38, 15.16s/it]"
     ]
    },
    {
     "name": "stdout",
     "output_type": "stream",
     "text": [
      "Error downloading image 2: ('Connection aborted.', RemoteDisconnected('Remote end closed connection without response'))\n",
      "Stephen J. Luczo\n",
      "Downloading 4 images\n",
      "Downloaded pic1.jpg\n",
      "Downloaded pic2.jpg\n",
      "Downloaded pic3.jpg\n"
     ]
    },
    {
     "name": "stderr",
     "output_type": "stream",
     "text": [
      "308it [20:40, 10.99s/it]"
     ]
    },
    {
     "name": "stdout",
     "output_type": "stream",
     "text": [
      "Downloaded pic4.png\n",
      "David Mosley\n",
      "Downloading 4 images\n",
      "Downloaded pic1.jpg\n",
      "Downloaded pic2.jpg\n",
      "Downloaded pic3.bin\n"
     ]
    },
    {
     "name": "stderr",
     "output_type": "stream",
     "text": [
      "309it [21:10, 16.87s/it]"
     ]
    },
    {
     "name": "stdout",
     "output_type": "stream",
     "text": [
      "Error downloading image 3: HTTPSConnectionPool(host='mms.businesswire.com', port=443): Read timed out. (read timeout=30)\n",
      "David Mosley\n",
      "Downloading 4 images\n",
      "Downloaded pic1.jpg\n",
      "Downloaded pic2.bin\n",
      "Downloaded pic3.jpg\n"
     ]
    },
    {
     "name": "stderr",
     "output_type": "stream",
     "text": [
      "310it [21:13, 12.64s/it]"
     ]
    },
    {
     "name": "stdout",
     "output_type": "stream",
     "text": [
      "Downloaded pic4.jpg\n",
      "Moshe Gavrielov\n",
      "Downloading 1 images\n",
      "Downloaded pic1.jpg\n",
      "Moshe Gavrielov\n",
      "Downloading 4 images\n",
      "Downloaded pic1.jpg\n",
      "Downloaded pic2.jpg\n",
      "Downloaded pic3.jpg\n"
     ]
    },
    {
     "name": "stderr",
     "output_type": "stream",
     "text": [
      "312it [21:15,  7.21s/it]"
     ]
    },
    {
     "name": "stdout",
     "output_type": "stream",
     "text": [
      "Downloaded pic4.gif\n",
      "Moshe Gavrielov\n",
      "Downloading 4 images\n",
      "Downloaded pic1.jpg\n",
      "Downloaded pic2.jpg\n",
      "Downloaded pic3.jpg\n"
     ]
    },
    {
     "name": "stderr",
     "output_type": "stream",
     "text": [
      "313it [21:19,  6.48s/it]"
     ]
    },
    {
     "name": "stdout",
     "output_type": "stream",
     "text": [
      "Downloaded pic4.jpg\n",
      "Moshe Gavrielov\n",
      "Downloading 4 images\n",
      "Downloaded pic1.jpg\n",
      "Downloaded pic2.jpg\n"
     ]
    },
    {
     "name": "stderr",
     "output_type": "stream",
     "text": [
      "314it [21:21,  5.32s/it]"
     ]
    },
    {
     "name": "stdout",
     "output_type": "stream",
     "text": [
      "Downloaded pic3.gif\n",
      "Error downloading image 3: No connection adapters were found for 'x-raw-image:///3fb34350f7066257c2ebf8fe2aad8b5c79f18291f61afe223a89fd7d7ff795c4'\n",
      "Moshe Gavrielov\n",
      "Downloading 4 images\n",
      "Downloaded pic1.png\n",
      "Downloaded pic2.png\n"
     ]
    },
    {
     "name": "stderr",
     "output_type": "stream",
     "text": [
      "315it [21:22,  4.07s/it]"
     ]
    },
    {
     "name": "stdout",
     "output_type": "stream",
     "text": [
      "Downloaded pic3.jpg\n",
      "Error downloading image 3: No connection adapters were found for 'x-raw-image:///4fb11f10ae6b232523629c74c082a37cebffd35064d097d22c25eaabf0ddc31e'\n",
      "Moshe Gavrielov\n",
      "Downloading 4 images\n",
      "Downloaded pic1.jpg\n",
      "Error downloading image 1: ('Connection aborted.', RemoteDisconnected('Remote end closed connection without response'))\n",
      "Downloaded pic3.jpg\n"
     ]
    },
    {
     "name": "stderr",
     "output_type": "stream",
     "text": [
      "316it [22:16, 18.12s/it]"
     ]
    },
    {
     "name": "stdout",
     "output_type": "stream",
     "text": [
      "Error downloading image 3: HTTPConnectionPool(host='www.semi-union.com', port=80): Read timed out.\n",
      "Moshe Gavrielov\n",
      "Downloading 4 images\n"
     ]
    },
    {
     "name": "stderr",
     "output_type": "stream",
     "text": [
      "317it [22:17, 13.20s/it]"
     ]
    },
    {
     "name": "stdout",
     "output_type": "stream",
     "text": [
      "Downloaded pic3.jpg\n",
      "Victor Peng\n",
      "Downloading 4 images\n",
      "Downloaded pic1.jpg\n",
      "Downloaded pic2.jpg\n"
     ]
    },
    {
     "name": "stderr",
     "output_type": "stream",
     "text": [
      "318it [22:19, 10.00s/it]"
     ]
    },
    {
     "name": "stdout",
     "output_type": "stream",
     "text": [
      "Downloaded pic3.jpg\n",
      "Downloaded pic4.jpg\n",
      "Victor Peng\n",
      "Downloading 4 images\n",
      "Downloaded pic1.jpg\n",
      "Downloaded pic2.jpg\n"
     ]
    },
    {
     "name": "stderr",
     "output_type": "stream",
     "text": [
      "319it [22:21,  7.55s/it]"
     ]
    },
    {
     "name": "stdout",
     "output_type": "stream",
     "text": [
      "Downloaded pic3.jpg\n",
      "Error downloading image 3: ('Connection aborted.', RemoteDisconnected('Remote end closed connection without response'))\n",
      "Victor Peng\n",
      "Downloading 4 images\n",
      "Downloaded pic1.jpg\n",
      "Error downloading image 1: HTTPSConnectionPool(host='www.eetimes.com', port=443): Read timed out. (read timeout=30)\n",
      "Downloaded pic3.png\n"
     ]
    },
    {
     "name": "stderr",
     "output_type": "stream",
     "text": [
      "320it [22:52,  4.29s/it]"
     ]
    },
    {
     "name": "stdout",
     "output_type": "stream",
     "text": [
      "Downloaded pic4.jpg\n",
      "Enrique Salem\n"
     ]
    },
    {
     "name": "stderr",
     "output_type": "stream",
     "text": [
      "\n"
     ]
    },
    {
     "ename": "FileNotFoundError",
     "evalue": "[Errno 2] No such file or directory: 'pictures/Enrique Salem/2010/image_urls.csv'",
     "output_type": "error",
     "traceback": [
      "\u001b[0;31m---------------------------------------------------------------------------\u001b[0m",
      "\u001b[0;31mFileNotFoundError\u001b[0m                         Traceback (most recent call last)",
      "Cell \u001b[0;32mIn[10], line 44\u001b[0m\n\u001b[1;32m     42\u001b[0m \u001b[38;5;28mprint\u001b[39m(row[\u001b[38;5;124m'\u001b[39m\u001b[38;5;124mName\u001b[39m\u001b[38;5;124m'\u001b[39m]), \u001b[38;5;28mstr\u001b[39m(row[\u001b[38;5;124m\"\u001b[39m\u001b[38;5;124mYear\u001b[39m\u001b[38;5;124m\"\u001b[39m])\n\u001b[1;32m     43\u001b[0m save_dir \u001b[38;5;241m=\u001b[39m os\u001b[38;5;241m.\u001b[39mpath\u001b[38;5;241m.\u001b[39mjoin(\u001b[38;5;124m'\u001b[39m\u001b[38;5;124mpictures\u001b[39m\u001b[38;5;124m'\u001b[39m, row[\u001b[38;5;124m'\u001b[39m\u001b[38;5;124mName\u001b[39m\u001b[38;5;124m'\u001b[39m], \u001b[38;5;28mstr\u001b[39m(row[\u001b[38;5;124m\"\u001b[39m\u001b[38;5;124mYear\u001b[39m\u001b[38;5;124m\"\u001b[39m]))\n\u001b[0;32m---> 44\u001b[0m image_urls_df \u001b[38;5;241m=\u001b[39m pd\u001b[38;5;241m.\u001b[39mread_csv(os\u001b[38;5;241m.\u001b[39mpath\u001b[38;5;241m.\u001b[39mjoin(save_dir, \u001b[38;5;124m'\u001b[39m\u001b[38;5;124mimage_urls.csv\u001b[39m\u001b[38;5;124m'\u001b[39m))\n\u001b[1;32m     45\u001b[0m image_urls \u001b[38;5;241m=\u001b[39m image_urls_df[\u001b[38;5;124m'\u001b[39m\u001b[38;5;124mimage_url\u001b[39m\u001b[38;5;124m'\u001b[39m]\u001b[38;5;241m.\u001b[39mtolist()\n\u001b[1;32m     46\u001b[0m download_images(image_urls, save_dir, limit\u001b[38;5;241m=\u001b[39m\u001b[38;5;241m15\u001b[39m)\n",
      "File \u001b[0;32m/opt/anaconda3/lib/python3.12/site-packages/pandas/io/parsers/readers.py:1026\u001b[0m, in \u001b[0;36mread_csv\u001b[0;34m(filepath_or_buffer, sep, delimiter, header, names, index_col, usecols, dtype, engine, converters, true_values, false_values, skipinitialspace, skiprows, skipfooter, nrows, na_values, keep_default_na, na_filter, verbose, skip_blank_lines, parse_dates, infer_datetime_format, keep_date_col, date_parser, date_format, dayfirst, cache_dates, iterator, chunksize, compression, thousands, decimal, lineterminator, quotechar, quoting, doublequote, escapechar, comment, encoding, encoding_errors, dialect, on_bad_lines, delim_whitespace, low_memory, memory_map, float_precision, storage_options, dtype_backend)\u001b[0m\n\u001b[1;32m   1013\u001b[0m kwds_defaults \u001b[38;5;241m=\u001b[39m _refine_defaults_read(\n\u001b[1;32m   1014\u001b[0m     dialect,\n\u001b[1;32m   1015\u001b[0m     delimiter,\n\u001b[0;32m   (...)\u001b[0m\n\u001b[1;32m   1022\u001b[0m     dtype_backend\u001b[38;5;241m=\u001b[39mdtype_backend,\n\u001b[1;32m   1023\u001b[0m )\n\u001b[1;32m   1024\u001b[0m kwds\u001b[38;5;241m.\u001b[39mupdate(kwds_defaults)\n\u001b[0;32m-> 1026\u001b[0m \u001b[38;5;28;01mreturn\u001b[39;00m _read(filepath_or_buffer, kwds)\n",
      "File \u001b[0;32m/opt/anaconda3/lib/python3.12/site-packages/pandas/io/parsers/readers.py:620\u001b[0m, in \u001b[0;36m_read\u001b[0;34m(filepath_or_buffer, kwds)\u001b[0m\n\u001b[1;32m    617\u001b[0m _validate_names(kwds\u001b[38;5;241m.\u001b[39mget(\u001b[38;5;124m\"\u001b[39m\u001b[38;5;124mnames\u001b[39m\u001b[38;5;124m\"\u001b[39m, \u001b[38;5;28;01mNone\u001b[39;00m))\n\u001b[1;32m    619\u001b[0m \u001b[38;5;66;03m# Create the parser.\u001b[39;00m\n\u001b[0;32m--> 620\u001b[0m parser \u001b[38;5;241m=\u001b[39m TextFileReader(filepath_or_buffer, \u001b[38;5;241m*\u001b[39m\u001b[38;5;241m*\u001b[39mkwds)\n\u001b[1;32m    622\u001b[0m \u001b[38;5;28;01mif\u001b[39;00m chunksize \u001b[38;5;129;01mor\u001b[39;00m iterator:\n\u001b[1;32m    623\u001b[0m     \u001b[38;5;28;01mreturn\u001b[39;00m parser\n",
      "File \u001b[0;32m/opt/anaconda3/lib/python3.12/site-packages/pandas/io/parsers/readers.py:1620\u001b[0m, in \u001b[0;36mTextFileReader.__init__\u001b[0;34m(self, f, engine, **kwds)\u001b[0m\n\u001b[1;32m   1617\u001b[0m     \u001b[38;5;28mself\u001b[39m\u001b[38;5;241m.\u001b[39moptions[\u001b[38;5;124m\"\u001b[39m\u001b[38;5;124mhas_index_names\u001b[39m\u001b[38;5;124m\"\u001b[39m] \u001b[38;5;241m=\u001b[39m kwds[\u001b[38;5;124m\"\u001b[39m\u001b[38;5;124mhas_index_names\u001b[39m\u001b[38;5;124m\"\u001b[39m]\n\u001b[1;32m   1619\u001b[0m \u001b[38;5;28mself\u001b[39m\u001b[38;5;241m.\u001b[39mhandles: IOHandles \u001b[38;5;241m|\u001b[39m \u001b[38;5;28;01mNone\u001b[39;00m \u001b[38;5;241m=\u001b[39m \u001b[38;5;28;01mNone\u001b[39;00m\n\u001b[0;32m-> 1620\u001b[0m \u001b[38;5;28mself\u001b[39m\u001b[38;5;241m.\u001b[39m_engine \u001b[38;5;241m=\u001b[39m \u001b[38;5;28mself\u001b[39m\u001b[38;5;241m.\u001b[39m_make_engine(f, \u001b[38;5;28mself\u001b[39m\u001b[38;5;241m.\u001b[39mengine)\n",
      "File \u001b[0;32m/opt/anaconda3/lib/python3.12/site-packages/pandas/io/parsers/readers.py:1880\u001b[0m, in \u001b[0;36mTextFileReader._make_engine\u001b[0;34m(self, f, engine)\u001b[0m\n\u001b[1;32m   1878\u001b[0m     \u001b[38;5;28;01mif\u001b[39;00m \u001b[38;5;124m\"\u001b[39m\u001b[38;5;124mb\u001b[39m\u001b[38;5;124m\"\u001b[39m \u001b[38;5;129;01mnot\u001b[39;00m \u001b[38;5;129;01min\u001b[39;00m mode:\n\u001b[1;32m   1879\u001b[0m         mode \u001b[38;5;241m+\u001b[39m\u001b[38;5;241m=\u001b[39m \u001b[38;5;124m\"\u001b[39m\u001b[38;5;124mb\u001b[39m\u001b[38;5;124m\"\u001b[39m\n\u001b[0;32m-> 1880\u001b[0m \u001b[38;5;28mself\u001b[39m\u001b[38;5;241m.\u001b[39mhandles \u001b[38;5;241m=\u001b[39m get_handle(\n\u001b[1;32m   1881\u001b[0m     f,\n\u001b[1;32m   1882\u001b[0m     mode,\n\u001b[1;32m   1883\u001b[0m     encoding\u001b[38;5;241m=\u001b[39m\u001b[38;5;28mself\u001b[39m\u001b[38;5;241m.\u001b[39moptions\u001b[38;5;241m.\u001b[39mget(\u001b[38;5;124m\"\u001b[39m\u001b[38;5;124mencoding\u001b[39m\u001b[38;5;124m\"\u001b[39m, \u001b[38;5;28;01mNone\u001b[39;00m),\n\u001b[1;32m   1884\u001b[0m     compression\u001b[38;5;241m=\u001b[39m\u001b[38;5;28mself\u001b[39m\u001b[38;5;241m.\u001b[39moptions\u001b[38;5;241m.\u001b[39mget(\u001b[38;5;124m\"\u001b[39m\u001b[38;5;124mcompression\u001b[39m\u001b[38;5;124m\"\u001b[39m, \u001b[38;5;28;01mNone\u001b[39;00m),\n\u001b[1;32m   1885\u001b[0m     memory_map\u001b[38;5;241m=\u001b[39m\u001b[38;5;28mself\u001b[39m\u001b[38;5;241m.\u001b[39moptions\u001b[38;5;241m.\u001b[39mget(\u001b[38;5;124m\"\u001b[39m\u001b[38;5;124mmemory_map\u001b[39m\u001b[38;5;124m\"\u001b[39m, \u001b[38;5;28;01mFalse\u001b[39;00m),\n\u001b[1;32m   1886\u001b[0m     is_text\u001b[38;5;241m=\u001b[39mis_text,\n\u001b[1;32m   1887\u001b[0m     errors\u001b[38;5;241m=\u001b[39m\u001b[38;5;28mself\u001b[39m\u001b[38;5;241m.\u001b[39moptions\u001b[38;5;241m.\u001b[39mget(\u001b[38;5;124m\"\u001b[39m\u001b[38;5;124mencoding_errors\u001b[39m\u001b[38;5;124m\"\u001b[39m, \u001b[38;5;124m\"\u001b[39m\u001b[38;5;124mstrict\u001b[39m\u001b[38;5;124m\"\u001b[39m),\n\u001b[1;32m   1888\u001b[0m     storage_options\u001b[38;5;241m=\u001b[39m\u001b[38;5;28mself\u001b[39m\u001b[38;5;241m.\u001b[39moptions\u001b[38;5;241m.\u001b[39mget(\u001b[38;5;124m\"\u001b[39m\u001b[38;5;124mstorage_options\u001b[39m\u001b[38;5;124m\"\u001b[39m, \u001b[38;5;28;01mNone\u001b[39;00m),\n\u001b[1;32m   1889\u001b[0m )\n\u001b[1;32m   1890\u001b[0m \u001b[38;5;28;01massert\u001b[39;00m \u001b[38;5;28mself\u001b[39m\u001b[38;5;241m.\u001b[39mhandles \u001b[38;5;129;01mis\u001b[39;00m \u001b[38;5;129;01mnot\u001b[39;00m \u001b[38;5;28;01mNone\u001b[39;00m\n\u001b[1;32m   1891\u001b[0m f \u001b[38;5;241m=\u001b[39m \u001b[38;5;28mself\u001b[39m\u001b[38;5;241m.\u001b[39mhandles\u001b[38;5;241m.\u001b[39mhandle\n",
      "File \u001b[0;32m/opt/anaconda3/lib/python3.12/site-packages/pandas/io/common.py:873\u001b[0m, in \u001b[0;36mget_handle\u001b[0;34m(path_or_buf, mode, encoding, compression, memory_map, is_text, errors, storage_options)\u001b[0m\n\u001b[1;32m    868\u001b[0m \u001b[38;5;28;01melif\u001b[39;00m \u001b[38;5;28misinstance\u001b[39m(handle, \u001b[38;5;28mstr\u001b[39m):\n\u001b[1;32m    869\u001b[0m     \u001b[38;5;66;03m# Check whether the filename is to be opened in binary mode.\u001b[39;00m\n\u001b[1;32m    870\u001b[0m     \u001b[38;5;66;03m# Binary mode does not support 'encoding' and 'newline'.\u001b[39;00m\n\u001b[1;32m    871\u001b[0m     \u001b[38;5;28;01mif\u001b[39;00m ioargs\u001b[38;5;241m.\u001b[39mencoding \u001b[38;5;129;01mand\u001b[39;00m \u001b[38;5;124m\"\u001b[39m\u001b[38;5;124mb\u001b[39m\u001b[38;5;124m\"\u001b[39m \u001b[38;5;129;01mnot\u001b[39;00m \u001b[38;5;129;01min\u001b[39;00m ioargs\u001b[38;5;241m.\u001b[39mmode:\n\u001b[1;32m    872\u001b[0m         \u001b[38;5;66;03m# Encoding\u001b[39;00m\n\u001b[0;32m--> 873\u001b[0m         handle \u001b[38;5;241m=\u001b[39m \u001b[38;5;28mopen\u001b[39m(\n\u001b[1;32m    874\u001b[0m             handle,\n\u001b[1;32m    875\u001b[0m             ioargs\u001b[38;5;241m.\u001b[39mmode,\n\u001b[1;32m    876\u001b[0m             encoding\u001b[38;5;241m=\u001b[39mioargs\u001b[38;5;241m.\u001b[39mencoding,\n\u001b[1;32m    877\u001b[0m             errors\u001b[38;5;241m=\u001b[39merrors,\n\u001b[1;32m    878\u001b[0m             newline\u001b[38;5;241m=\u001b[39m\u001b[38;5;124m\"\u001b[39m\u001b[38;5;124m\"\u001b[39m,\n\u001b[1;32m    879\u001b[0m         )\n\u001b[1;32m    880\u001b[0m     \u001b[38;5;28;01melse\u001b[39;00m:\n\u001b[1;32m    881\u001b[0m         \u001b[38;5;66;03m# Binary mode\u001b[39;00m\n\u001b[1;32m    882\u001b[0m         handle \u001b[38;5;241m=\u001b[39m \u001b[38;5;28mopen\u001b[39m(handle, ioargs\u001b[38;5;241m.\u001b[39mmode)\n",
      "\u001b[0;31mFileNotFoundError\u001b[0m: [Errno 2] No such file or directory: 'pictures/Enrique Salem/2010/image_urls.csv'"
     ]
    }
   ],
   "source": [
    "def download_images(image_urls, save_dir, limit=10):\n",
    "    \n",
    "    def get_file_extension(content_type):\n",
    "        \"\"\"Get file extension from content type\"\"\"\n",
    "        extension = mimetypes.guess_extension(content_type)\n",
    "        if extension:\n",
    "            return extension\n",
    "        # Fallback extensions based on common image types\n",
    "        extension_map = {\n",
    "            'image/jpeg': '.jpg',\n",
    "            'image/png': '.png',\n",
    "            #'image/gif': '.gif',\n",
    "            'image/webp': '.webp'\n",
    "        }\n",
    "        return extension_map.get(content_type, '.jpg')  # Default to .jpg if unknown\n",
    "\n",
    "    image_urls = image_urls[:limit]\n",
    "\n",
    "    headers = {\n",
    "        'User-Agent': 'Mozilla/5.0 (Windows NT 10.0; Win64; x64) Chrome/91.0.4472.124'\n",
    "    }\n",
    "    \n",
    "    print(f\"Downloading {len(image_urls)} images\")\n",
    "    for i, url in enumerate(image_urls):\n",
    "        try:\n",
    "            img_response = requests.get(url, headers=headers, timeout = 30)\n",
    "            if img_response.status_code == 200:\n",
    "                content_type = img_response.headers.get('content-type', 'image/jpeg')\n",
    "                extension = get_file_extension(content_type)\n",
    "                \n",
    "                filename = f'pic{i+1}{extension}'\n",
    "                filepath = os.path.join(save_dir, filename)\n",
    "                \n",
    "                with open(filepath, 'wb') as f:\n",
    "                    f.write(img_response.content)\n",
    "                \n",
    "                print(f\"Downloaded {filename}\")\n",
    "        except Exception as e:\n",
    "            print(f\"Error downloading image {i}: {e}\")\n",
    "\n",
    "for _, row in tqdm.tqdm(search_df.iterrows()):\n",
    "    print(row['Name']), str(row[\"Year\"])\n",
    "    save_dir = os.path.join('pictures', row['Name'], str(row[\"Year\"]))\n",
    "    image_urls_df = pd.read_csv(os.path.join(save_dir, 'image_urls.csv'))\n",
    "    image_urls = image_urls_df['image_url'].tolist()\n",
    "    download_images(image_urls, save_dir, limit=15)"
   ]
  },
  {
   "cell_type": "code",
   "execution_count": null,
   "id": "3e00355a-fa00-4687-bfbc-4f11dbc09a65",
   "metadata": {},
   "outputs": [],
   "source": []
  }
 ],
 "metadata": {
  "kernelspec": {
   "display_name": "Python [conda env:base] *",
   "language": "python",
   "name": "conda-base-py"
  },
  "language_info": {
   "codemirror_mode": {
    "name": "ipython",
    "version": 3
   },
   "file_extension": ".py",
   "mimetype": "text/x-python",
   "name": "python",
   "nbconvert_exporter": "python",
   "pygments_lexer": "ipython3",
   "version": "3.12.7"
  }
 },
 "nbformat": 4,
 "nbformat_minor": 5
}
