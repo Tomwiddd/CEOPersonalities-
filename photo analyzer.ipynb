{
 "cells": [
  {
   "cell_type": "markdown",
   "id": "33eb4726-4bed-4abd-b952-35c314423bcd",
   "metadata": {},
   "source": [
    "## Photo Analyzer Test"
   ]
  },
  {
   "cell_type": "code",
   "execution_count": 1,
   "id": "de098fb6-dff9-49fb-ba46-92faee421930",
   "metadata": {},
   "outputs": [
    {
     "name": "stderr",
     "output_type": "stream",
     "text": [
      "2025-04-30 14:19:36.369082: I tensorflow/core/platform/cpu_feature_guard.cc:210] This TensorFlow binary is optimized to use available CPU instructions in performance-critical operations.\n",
      "To enable the following instructions: AVX2 FMA, in other operations, rebuild TensorFlow with the appropriate compiler flags.\n"
     ]
    }
   ],
   "source": [
    "import pandas as pd\n",
    "import numpy as np\n",
    "from deepface import DeepFace\n",
    "import os"
   ]
  },
  {
   "cell_type": "code",
   "execution_count": 2,
   "id": "06c363b1-e656-4031-a4cb-34127cb0f745",
   "metadata": {},
   "outputs": [
    {
     "data": {
      "text/html": [
       "<div>\n",
       "<style scoped>\n",
       "    .dataframe tbody tr th:only-of-type {\n",
       "        vertical-align: middle;\n",
       "    }\n",
       "\n",
       "    .dataframe tbody tr th {\n",
       "        vertical-align: top;\n",
       "    }\n",
       "\n",
       "    .dataframe thead th {\n",
       "        text-align: right;\n",
       "    }\n",
       "</style>\n",
       "<table border=\"1\" class=\"dataframe\">\n",
       "  <thead>\n",
       "    <tr style=\"text-align: right;\">\n",
       "      <th></th>\n",
       "      <th>Company</th>\n",
       "      <th>Ticker</th>\n",
       "      <th>Year</th>\n",
       "      <th>CEO</th>\n",
       "    </tr>\n",
       "  </thead>\n",
       "  <tbody>\n",
       "    <tr>\n",
       "      <th>0</th>\n",
       "      <td>Apple Inc.</td>\n",
       "      <td>AAPL</td>\n",
       "      <td>2010</td>\n",
       "      <td>Steve Jobs</td>\n",
       "    </tr>\n",
       "    <tr>\n",
       "      <th>1</th>\n",
       "      <td>Apple Inc.</td>\n",
       "      <td>AAPL</td>\n",
       "      <td>2011</td>\n",
       "      <td>Tim Cook</td>\n",
       "    </tr>\n",
       "    <tr>\n",
       "      <th>2</th>\n",
       "      <td>Apple Inc.</td>\n",
       "      <td>AAPL</td>\n",
       "      <td>2012</td>\n",
       "      <td>Tim Cook</td>\n",
       "    </tr>\n",
       "    <tr>\n",
       "      <th>3</th>\n",
       "      <td>Apple Inc.</td>\n",
       "      <td>AAPL</td>\n",
       "      <td>2013</td>\n",
       "      <td>Tim Cook</td>\n",
       "    </tr>\n",
       "    <tr>\n",
       "      <th>4</th>\n",
       "      <td>Apple Inc.</td>\n",
       "      <td>AAPL</td>\n",
       "      <td>2014</td>\n",
       "      <td>Tim Cook</td>\n",
       "    </tr>\n",
       "    <tr>\n",
       "      <th>...</th>\n",
       "      <td>...</td>\n",
       "      <td>...</td>\n",
       "      <td>...</td>\n",
       "      <td>...</td>\n",
       "    </tr>\n",
       "    <tr>\n",
       "      <th>665</th>\n",
       "      <td>VMware, Inc.</td>\n",
       "      <td>VMW</td>\n",
       "      <td>2015</td>\n",
       "      <td>Pat Gelsinger</td>\n",
       "    </tr>\n",
       "    <tr>\n",
       "      <th>666</th>\n",
       "      <td>VMware, Inc.</td>\n",
       "      <td>VMW</td>\n",
       "      <td>2016</td>\n",
       "      <td>Pat Gelsinger</td>\n",
       "    </tr>\n",
       "    <tr>\n",
       "      <th>667</th>\n",
       "      <td>VMware, Inc.</td>\n",
       "      <td>VMW</td>\n",
       "      <td>2017</td>\n",
       "      <td>Pat Gelsinger</td>\n",
       "    </tr>\n",
       "    <tr>\n",
       "      <th>668</th>\n",
       "      <td>VMware, Inc.</td>\n",
       "      <td>VMW</td>\n",
       "      <td>2018</td>\n",
       "      <td>Pat Gelsinger</td>\n",
       "    </tr>\n",
       "    <tr>\n",
       "      <th>669</th>\n",
       "      <td>VMware, Inc.</td>\n",
       "      <td>VMW</td>\n",
       "      <td>2019</td>\n",
       "      <td>Pat Gelsinger</td>\n",
       "    </tr>\n",
       "  </tbody>\n",
       "</table>\n",
       "<p>670 rows × 4 columns</p>\n",
       "</div>"
      ],
      "text/plain": [
       "          Company Ticker  Year            CEO\n",
       "0      Apple Inc.   AAPL  2010     Steve Jobs\n",
       "1      Apple Inc.   AAPL  2011       Tim Cook\n",
       "2      Apple Inc.   AAPL  2012       Tim Cook\n",
       "3      Apple Inc.   AAPL  2013       Tim Cook\n",
       "4      Apple Inc.   AAPL  2014       Tim Cook\n",
       "..            ...    ...   ...            ...\n",
       "665  VMware, Inc.    VMW  2015  Pat Gelsinger\n",
       "666  VMware, Inc.    VMW  2016  Pat Gelsinger\n",
       "667  VMware, Inc.    VMW  2017  Pat Gelsinger\n",
       "668  VMware, Inc.    VMW  2018  Pat Gelsinger\n",
       "669  VMware, Inc.    VMW  2019  Pat Gelsinger\n",
       "\n",
       "[670 rows x 4 columns]"
      ]
     },
     "execution_count": 2,
     "metadata": {},
     "output_type": "execute_result"
    }
   ],
   "source": [
    "ceo_data = pd.read_csv('ceo_data.csv')\n",
    "\n",
    "ceo_data"
   ]
  },
  {
   "cell_type": "code",
   "execution_count": 10,
   "id": "f4afdc9c-8288-48a6-91e8-4d6e651cfe14",
   "metadata": {
    "scrolled": true
   },
   "outputs": [
    {
     "name": "stderr",
     "output_type": "stream",
     "text": [
      "0it [00:00, ?it/s]"
     ]
    },
    {
     "name": "stdout",
     "output_type": "stream",
     "text": [
      "/Users/jessecoulter/Downloads/FIN377/CEOPersonalities-/matched_pictures/Steve Jobs/2010\n"
     ]
    },
    {
     "name": "stderr",
     "output_type": "stream",
     "text": [
      "\n",
      "Finding actions:   0%|                                    | 0/4 [00:00<?, ?it/s]\u001b[A\n",
      "Action: age:   0%|                                        | 0/4 [00:00<?, ?it/s]\u001b[A\n",
      "Action: age:  25%|████████                        | 1/4 [00:00<00:01,  1.61it/s]\u001b[A\n",
      "Action: gender:  25%|███████▎                     | 1/4 [00:00<00:01,  1.61it/s]\u001b[A\n",
      "Action: gender:  50%|██████████████▌              | 2/4 [00:01<00:01,  1.67it/s]\u001b[A\n",
      "Action: race:  50%|███████████████▌               | 2/4 [00:01<00:01,  1.67it/s]\u001b[A\n",
      "Action: race:  75%|███████████████████████▎       | 3/4 [00:01<00:00,  1.66it/s]\u001b[A\n",
      "Action: emotion: 100%|████████████████████████████| 4/4 [00:01<00:00,  2.19it/s]\u001b[A\n",
      "1it [00:02,  2.11s/it]"
     ]
    },
    {
     "name": "stdout",
     "output_type": "stream",
     "text": [
      "/Users/jessecoulter/Downloads/FIN377/CEOPersonalities-/matched_pictures/Tim Cook/2011\n"
     ]
    },
    {
     "name": "stderr",
     "output_type": "stream",
     "text": [
      "\n",
      "Finding actions:   0%|                                    | 0/4 [00:00<?, ?it/s]\u001b[A\n",
      "Action: age:   0%|                                        | 0/4 [00:00<?, ?it/s]\u001b[A\n",
      "Action: age:  25%|████████                        | 1/4 [00:00<00:00,  5.04it/s]\u001b[A\n",
      "Action: gender:  25%|███████▎                     | 1/4 [00:00<00:00,  5.04it/s]\u001b[A\n",
      "Action: gender:  50%|██████████████▌              | 2/4 [00:00<00:00,  4.85it/s]\u001b[A\n",
      "Action: race:  50%|███████████████▌               | 2/4 [00:00<00:00,  4.85it/s]\u001b[A\n",
      "Action: race:  75%|███████████████████████▎       | 3/4 [00:00<00:00,  5.12it/s]\u001b[A\n",
      "Action: emotion: 100%|████████████████████████████| 4/4 [00:00<00:00,  6.57it/s]\u001b[A\n",
      "2it [00:02,  1.26s/it]"
     ]
    },
    {
     "name": "stdout",
     "output_type": "stream",
     "text": [
      "/Users/jessecoulter/Downloads/FIN377/CEOPersonalities-/matched_pictures/Tim Cook/2012\n"
     ]
    },
    {
     "name": "stderr",
     "output_type": "stream",
     "text": [
      "\n",
      "Finding actions:   0%|                                    | 0/4 [00:00<?, ?it/s]\u001b[A\n",
      "Action: age:   0%|                                        | 0/4 [00:00<?, ?it/s]\u001b[A\n",
      "Action: age:  25%|████████                        | 1/4 [00:00<00:00,  4.30it/s]\u001b[A\n",
      "Action: gender:  25%|███████▎                     | 1/4 [00:00<00:00,  4.30it/s]\u001b[A\n",
      "Action: gender:  50%|██████████████▌              | 2/4 [00:00<00:00,  4.54it/s]\u001b[A\n",
      "Action: race:  50%|███████████████▌               | 2/4 [00:00<00:00,  4.54it/s]\u001b[A\n",
      "Action: race:  75%|███████████████████████▎       | 3/4 [00:00<00:00,  4.82it/s]\u001b[A\n",
      "Action: emotion: 100%|████████████████████████████| 4/4 [00:00<00:00,  6.14it/s]\u001b[A\n",
      "3it [00:03,  1.02s/it]"
     ]
    },
    {
     "name": "stdout",
     "output_type": "stream",
     "text": [
      "/Users/jessecoulter/Downloads/FIN377/CEOPersonalities-/matched_pictures/Tim Cook/2013\n"
     ]
    },
    {
     "name": "stderr",
     "output_type": "stream",
     "text": [
      "\n",
      "Finding actions:   0%|                                    | 0/4 [00:00<?, ?it/s]\u001b[A\n",
      "Action: age:   0%|                                        | 0/4 [00:00<?, ?it/s]\u001b[A\n",
      "Action: age:  25%|████████                        | 1/4 [00:00<00:00,  6.04it/s]\u001b[A\n",
      "Action: gender:  25%|███████▎                     | 1/4 [00:00<00:00,  6.04it/s]\u001b[A\n",
      "Action: gender:  50%|██████████████▌              | 2/4 [00:00<00:00,  5.91it/s]\u001b[A\n",
      "Action: race:  50%|███████████████▌               | 2/4 [00:00<00:00,  5.91it/s]\u001b[A\n",
      "Action: race:  75%|███████████████████████▎       | 3/4 [00:00<00:00,  5.87it/s]\u001b[A\n",
      "Action: emotion: 100%|████████████████████████████| 4/4 [00:00<00:00,  7.64it/s]\u001b[A\n",
      "4it [00:04,  1.17it/s]"
     ]
    },
    {
     "name": "stdout",
     "output_type": "stream",
     "text": [
      "/Users/jessecoulter/Downloads/FIN377/CEOPersonalities-/matched_pictures/Tim Cook/2014\n"
     ]
    },
    {
     "name": "stderr",
     "output_type": "stream",
     "text": [
      "\n",
      "Finding actions:   0%|                                    | 0/4 [00:00<?, ?it/s]\u001b[A\n",
      "Action: age:   0%|                                        | 0/4 [00:00<?, ?it/s]\u001b[A\n",
      "Action: age:  25%|████████                        | 1/4 [00:00<00:00,  6.01it/s]\u001b[A\n",
      "Action: gender:  25%|███████▎                     | 1/4 [00:00<00:00,  6.01it/s]\u001b[A\n",
      "Action: gender:  50%|██████████████▌              | 2/4 [00:00<00:00,  5.23it/s]\u001b[A\n",
      "Action: race:  50%|███████████████▌               | 2/4 [00:00<00:00,  5.23it/s]\u001b[A\n",
      "Action: race:  75%|███████████████████████▎       | 3/4 [00:00<00:00,  4.94it/s]\u001b[A\n",
      "Action: emotion: 100%|████████████████████████████| 4/4 [00:00<00:00,  6.61it/s]\u001b[A\n",
      "5it [00:04,  1.26it/s]"
     ]
    },
    {
     "name": "stdout",
     "output_type": "stream",
     "text": [
      "/Users/jessecoulter/Downloads/FIN377/CEOPersonalities-/matched_pictures/Tim Cook/2015\n"
     ]
    },
    {
     "name": "stderr",
     "output_type": "stream",
     "text": [
      "\n",
      "Finding actions:   0%|                                    | 0/4 [00:00<?, ?it/s]\u001b[A\n",
      "Action: age:   0%|                                        | 0/4 [00:00<?, ?it/s]\u001b[A\n",
      "Action: age:  25%|████████                        | 1/4 [00:00<00:00,  5.80it/s]\u001b[A\n",
      "Action: gender:  25%|███████▎                     | 1/4 [00:00<00:00,  5.80it/s]\u001b[A\n",
      "Action: gender:  50%|██████████████▌              | 2/4 [00:00<00:00,  5.81it/s]\u001b[A\n",
      "Action: race:  50%|███████████████▌               | 2/4 [00:00<00:00,  5.81it/s]\u001b[A\n",
      "Action: race:  75%|███████████████████████▎       | 3/4 [00:00<00:00,  5.80it/s]\u001b[A\n",
      "Action: emotion: 100%|████████████████████████████| 4/4 [00:00<00:00,  7.54it/s]\u001b[A\n",
      "\n",
      "Finding actions:   0%|                                    | 0/4 [00:00<?, ?it/s]\u001b[A\n",
      "Action: age:   0%|                                        | 0/4 [00:00<?, ?it/s]\u001b[A\n",
      "Action: age:  25%|████████                        | 1/4 [00:00<00:00,  6.05it/s]\u001b[A\n",
      "Action: gender:  25%|███████▎                     | 1/4 [00:00<00:00,  6.05it/s]\u001b[A\n",
      "Action: gender:  50%|██████████████▌              | 2/4 [00:00<00:00,  5.99it/s]\u001b[A\n",
      "Action: race:  50%|███████████████▌               | 2/4 [00:00<00:00,  5.99it/s]\u001b[A\n",
      "Action: race:  75%|███████████████████████▎       | 3/4 [00:00<00:00,  5.98it/s]\u001b[A\n",
      "Action: emotion: 100%|████████████████████████████| 4/4 [00:00<00:00,  7.76it/s]\u001b[A\n",
      "6it [00:05,  1.10it/s]"
     ]
    },
    {
     "name": "stdout",
     "output_type": "stream",
     "text": [
      "/Users/jessecoulter/Downloads/FIN377/CEOPersonalities-/matched_pictures/Tim Cook/2016\n"
     ]
    },
    {
     "name": "stderr",
     "output_type": "stream",
     "text": [
      "\n",
      "Finding actions:   0%|                                    | 0/4 [00:00<?, ?it/s]\u001b[A\n",
      "Action: age:   0%|                                        | 0/4 [00:00<?, ?it/s]\u001b[A\n",
      "Action: age:  25%|████████                        | 1/4 [00:00<00:00,  6.11it/s]\u001b[A\n",
      "Action: gender:  25%|███████▎                     | 1/4 [00:00<00:00,  6.11it/s]\u001b[A\n",
      "Action: gender:  50%|██████████████▌              | 2/4 [00:00<00:00,  6.05it/s]\u001b[A\n",
      "Action: race:  50%|███████████████▌               | 2/4 [00:00<00:00,  6.05it/s]\u001b[A\n",
      "Action: race:  75%|███████████████████████▎       | 3/4 [00:00<00:00,  5.50it/s]\u001b[A\n",
      "Action: emotion: 100%|████████████████████████████| 4/4 [00:00<00:00,  7.32it/s]\u001b[A\n",
      "7it [00:06,  1.24it/s]"
     ]
    },
    {
     "name": "stdout",
     "output_type": "stream",
     "text": [
      "/Users/jessecoulter/Downloads/FIN377/CEOPersonalities-/matched_pictures/Tim Cook/2017\n"
     ]
    },
    {
     "name": "stderr",
     "output_type": "stream",
     "text": [
      "\n",
      "Finding actions:   0%|                                    | 0/4 [00:00<?, ?it/s]\u001b[A\n",
      "Action: age:   0%|                                        | 0/4 [00:00<?, ?it/s]\u001b[A\n",
      "Action: age:  25%|████████                        | 1/4 [00:00<00:00,  4.87it/s]\u001b[A\n",
      "Action: gender:  25%|███████▎                     | 1/4 [00:00<00:00,  4.87it/s]\u001b[A\n",
      "Action: gender:  50%|██████████████▌              | 2/4 [00:00<00:00,  5.24it/s]\u001b[A\n",
      "Action: race:  50%|███████████████▌               | 2/4 [00:00<00:00,  5.24it/s]\u001b[A\n",
      "Action: race:  75%|███████████████████████▎       | 3/4 [00:00<00:00,  5.34it/s]\u001b[A\n",
      "Action: emotion: 100%|████████████████████████████| 4/4 [00:00<00:00,  6.86it/s]\u001b[A\n",
      "8it [00:07,  1.32it/s]"
     ]
    },
    {
     "name": "stdout",
     "output_type": "stream",
     "text": [
      "/Users/jessecoulter/Downloads/FIN377/CEOPersonalities-/matched_pictures/Tim Cook/2018\n"
     ]
    },
    {
     "name": "stderr",
     "output_type": "stream",
     "text": [
      "\n",
      "Finding actions:   0%|                                    | 0/4 [00:00<?, ?it/s]\u001b[A\n",
      "Action: age:   0%|                                        | 0/4 [00:00<?, ?it/s]\u001b[A\n",
      "Action: age:  25%|████████                        | 1/4 [00:00<00:00,  4.90it/s]\u001b[A\n",
      "Action: gender:  25%|███████▎                     | 1/4 [00:00<00:00,  4.90it/s]\u001b[A\n",
      "Action: gender:  50%|██████████████▌              | 2/4 [00:00<00:00,  4.55it/s]\u001b[A\n",
      "Action: race:  50%|███████████████▌               | 2/4 [00:00<00:00,  4.55it/s]\u001b[A\n",
      "Action: race:  75%|███████████████████████▎       | 3/4 [00:00<00:00,  4.84it/s]\u001b[A\n",
      "Action: emotion: 100%|████████████████████████████| 4/4 [00:00<00:00,  6.25it/s]\u001b[A\n",
      "9it [00:07,  1.36it/s]"
     ]
    },
    {
     "name": "stdout",
     "output_type": "stream",
     "text": [
      "/Users/jessecoulter/Downloads/FIN377/CEOPersonalities-/matched_pictures/Tim Cook/2019\n"
     ]
    },
    {
     "name": "stderr",
     "output_type": "stream",
     "text": [
      "\n",
      "Finding actions:   0%|                                    | 0/4 [00:00<?, ?it/s]\u001b[A\n",
      "Action: age:   0%|                                        | 0/4 [00:00<?, ?it/s]\u001b[A\n",
      "Action: age:  25%|████████                        | 1/4 [00:00<00:00,  6.03it/s]\u001b[A\n",
      "Action: gender:  25%|███████▎                     | 1/4 [00:00<00:00,  6.03it/s]\u001b[A\n",
      "Action: gender:  50%|██████████████▌              | 2/4 [00:00<00:00,  5.89it/s]\u001b[A\n",
      "Action: race:  50%|███████████████▌               | 2/4 [00:00<00:00,  5.89it/s]\u001b[A\n",
      "Action: race:  75%|███████████████████████▎       | 3/4 [00:00<00:00,  5.84it/s]\u001b[A\n",
      "Action: emotion: 100%|████████████████████████████| 4/4 [00:00<00:00,  7.62it/s]\u001b[A\n",
      "10it [00:08,  1.43it/s]"
     ]
    },
    {
     "name": "stdout",
     "output_type": "stream",
     "text": [
      "/Users/jessecoulter/Downloads/FIN377/CEOPersonalities-/matched_pictures/Steve Ballmer/2010\n"
     ]
    },
    {
     "name": "stderr",
     "output_type": "stream",
     "text": [
      "\n",
      "Finding actions:   0%|                                    | 0/4 [00:00<?, ?it/s]\u001b[A\n",
      "Action: age:   0%|                                        | 0/4 [00:00<?, ?it/s]\u001b[A\n",
      "Action: age:  25%|████████                        | 1/4 [00:00<00:00,  6.17it/s]\u001b[A\n",
      "Action: gender:  25%|███████▎                     | 1/4 [00:00<00:00,  6.17it/s]\u001b[A\n",
      "Action: gender:  50%|██████████████▌              | 2/4 [00:00<00:00,  5.98it/s]\u001b[A\n",
      "Action: race:  50%|███████████████▌               | 2/4 [00:00<00:00,  5.98it/s]\u001b[A\n",
      "Action: race:  75%|███████████████████████▎       | 3/4 [00:00<00:00,  5.58it/s]\u001b[A\n",
      "Action: emotion: 100%|████████████████████████████| 4/4 [00:00<00:00,  7.38it/s]\u001b[A\n",
      "\n",
      "Finding actions:   0%|                                    | 0/4 [00:00<?, ?it/s]\u001b[A\n",
      "Action: age:   0%|                                        | 0/4 [00:00<?, ?it/s]\u001b[A\n",
      "Action: age:  25%|████████                        | 1/4 [00:00<00:00,  4.56it/s]\u001b[A\n",
      "Action: gender:  25%|███████▎                     | 1/4 [00:00<00:00,  4.56it/s]\u001b[A\n",
      "Action: gender:  50%|██████████████▌              | 2/4 [00:00<00:00,  4.53it/s]\u001b[A\n",
      "Action: race:  50%|███████████████▌               | 2/4 [00:00<00:00,  4.53it/s]\u001b[A\n",
      "Action: race:  75%|███████████████████████▎       | 3/4 [00:00<00:00,  5.08it/s]\u001b[A\n",
      "Action: emotion: 100%|████████████████████████████| 4/4 [00:00<00:00,  6.37it/s]\u001b[A\n",
      "11it [00:09,  1.14it/s]"
     ]
    },
    {
     "name": "stdout",
     "output_type": "stream",
     "text": [
      "/Users/jessecoulter/Downloads/FIN377/CEOPersonalities-/matched_pictures/Steve Ballmer/2011\n",
      "No image found in /Users/jessecoulter/Downloads/FIN377/CEOPersonalities-/matched_pictures/Steve Ballmer/2011\n",
      "/Users/jessecoulter/Downloads/FIN377/CEOPersonalities-/matched_pictures/Steve Ballmer/2012\n"
     ]
    },
    {
     "name": "stderr",
     "output_type": "stream",
     "text": [
      "\n",
      "Finding actions:   0%|                                    | 0/4 [00:00<?, ?it/s]\u001b[A\n",
      "Action: age:   0%|                                        | 0/4 [00:00<?, ?it/s]\u001b[A\n",
      "Action: age:  25%|████████                        | 1/4 [00:00<00:00,  4.17it/s]\u001b[A\n",
      "Action: gender:  25%|███████▎                     | 1/4 [00:00<00:00,  4.17it/s]\u001b[A\n",
      "Action: gender:  50%|██████████████▌              | 2/4 [00:00<00:00,  4.44it/s]\u001b[A\n",
      "Action: race:  50%|███████████████▌               | 2/4 [00:00<00:00,  4.44it/s]\u001b[A\n",
      "Action: race:  75%|███████████████████████▎       | 3/4 [00:00<00:00,  4.51it/s]\u001b[A\n",
      "Action: emotion: 100%|████████████████████████████| 4/4 [00:00<00:00,  5.81it/s]\u001b[A\n",
      "13it [00:10,  1.53it/s]"
     ]
    },
    {
     "name": "stdout",
     "output_type": "stream",
     "text": [
      "/Users/jessecoulter/Downloads/FIN377/CEOPersonalities-/matched_pictures/Steve Ballmer/2013\n"
     ]
    },
    {
     "name": "stderr",
     "output_type": "stream",
     "text": [
      "\n",
      "Finding actions:   0%|                                    | 0/4 [00:00<?, ?it/s]\u001b[A\n",
      "Action: age:   0%|                                        | 0/4 [00:00<?, ?it/s]\u001b[A\n",
      "Action: age:  25%|████████                        | 1/4 [00:00<00:00,  4.70it/s]\u001b[A\n",
      "Action: gender:  25%|███████▎                     | 1/4 [00:00<00:00,  4.70it/s]\u001b[A\n",
      "Action: gender:  50%|██████████████▌              | 2/4 [00:00<00:00,  4.50it/s]\u001b[A\n",
      "Action: race:  50%|███████████████▌               | 2/4 [00:00<00:00,  4.50it/s]\u001b[A\n",
      "Action: race:  75%|███████████████████████▎       | 3/4 [00:00<00:00,  4.84it/s]\u001b[A\n",
      "Action: emotion: 100%|████████████████████████████| 4/4 [00:00<00:00,  6.20it/s]\u001b[A\n",
      "14it [00:11,  1.52it/s]"
     ]
    },
    {
     "name": "stdout",
     "output_type": "stream",
     "text": [
      "/Users/jessecoulter/Downloads/FIN377/CEOPersonalities-/matched_pictures/Satya Nadella/2014\n"
     ]
    },
    {
     "name": "stderr",
     "output_type": "stream",
     "text": [
      "\n",
      "Finding actions:   0%|                                    | 0/4 [00:00<?, ?it/s]\u001b[A\n",
      "Action: age:   0%|                                        | 0/4 [00:00<?, ?it/s]\u001b[A\n",
      "Action: age:  25%|████████                        | 1/4 [00:00<00:00,  4.78it/s]\u001b[A\n",
      "Action: gender:  25%|███████▎                     | 1/4 [00:00<00:00,  4.78it/s]\u001b[A\n",
      "Action: gender:  50%|██████████████▌              | 2/4 [00:00<00:00,  4.57it/s]\u001b[A\n",
      "Action: race:  50%|███████████████▌               | 2/4 [00:00<00:00,  4.57it/s]\u001b[A\n",
      "Action: race:  75%|███████████████████████▎       | 3/4 [00:00<00:00,  4.84it/s]\u001b[A\n",
      "Action: emotion: 100%|████████████████████████████| 4/4 [00:00<00:00,  6.22it/s]\u001b[A\n",
      "15it [00:11,  1.46it/s]"
     ]
    },
    {
     "name": "stdout",
     "output_type": "stream",
     "text": [
      "/Users/jessecoulter/Downloads/FIN377/CEOPersonalities-/matched_pictures/Satya Nadella/2015\n"
     ]
    },
    {
     "name": "stderr",
     "output_type": "stream",
     "text": [
      "\n",
      "Finding actions:   0%|                                    | 0/4 [00:00<?, ?it/s]\u001b[A\n",
      "Action: age:   0%|                                        | 0/4 [00:00<?, ?it/s]\u001b[A\n",
      "Action: age:  25%|████████                        | 1/4 [00:00<00:00,  5.01it/s]\u001b[A\n",
      "Action: gender:  25%|███████▎                     | 1/4 [00:00<00:00,  5.01it/s]\u001b[A\n",
      "Action: gender:  50%|██████████████▌              | 2/4 [00:00<00:00,  5.10it/s]\u001b[A\n",
      "Action: race:  50%|███████████████▌               | 2/4 [00:00<00:00,  5.10it/s]\u001b[A\n",
      "Action: race:  75%|███████████████████████▎       | 3/4 [00:00<00:00,  4.93it/s]\u001b[A\n",
      "Action: emotion: 100%|████████████████████████████| 4/4 [00:00<00:00,  6.40it/s]\u001b[A\n",
      "16it [00:12,  1.44it/s]"
     ]
    },
    {
     "name": "stdout",
     "output_type": "stream",
     "text": [
      "/Users/jessecoulter/Downloads/FIN377/CEOPersonalities-/matched_pictures/Satya Nadella/2016\n"
     ]
    },
    {
     "name": "stderr",
     "output_type": "stream",
     "text": [
      "\n",
      "Finding actions:   0%|                                    | 0/4 [00:00<?, ?it/s]\u001b[A\n",
      "Action: age:   0%|                                        | 0/4 [00:00<?, ?it/s]\u001b[A\n",
      "Action: age:  25%|████████                        | 1/4 [00:00<00:00,  5.46it/s]\u001b[A\n",
      "Action: gender:  25%|███████▎                     | 1/4 [00:00<00:00,  5.46it/s]\u001b[A\n",
      "Action: gender:  50%|██████████████▌              | 2/4 [00:00<00:00,  5.32it/s]\u001b[A\n",
      "Action: race:  50%|███████████████▌               | 2/4 [00:00<00:00,  5.32it/s]\u001b[A\n",
      "Action: race:  75%|███████████████████████▎       | 3/4 [00:00<00:00,  5.36it/s]\u001b[A\n",
      "Action: emotion: 100%|████████████████████████████| 4/4 [00:00<00:00,  6.96it/s]\u001b[A\n",
      "\n",
      "Finding actions:   0%|                                    | 0/4 [00:00<?, ?it/s]\u001b[A\n",
      "Action: age:   0%|                                        | 0/4 [00:00<?, ?it/s]\u001b[A\n",
      "Action: age:  25%|████████                        | 1/4 [00:00<00:00,  5.08it/s]\u001b[A\n",
      "Action: gender:  25%|███████▎                     | 1/4 [00:00<00:00,  5.08it/s]\u001b[A\n",
      "Action: gender:  50%|██████████████▌              | 2/4 [00:00<00:00,  5.19it/s]\u001b[A\n",
      "Action: race:  50%|███████████████▌               | 2/4 [00:00<00:00,  5.19it/s]\u001b[A\n",
      "Action: race:  75%|███████████████████████▎       | 3/4 [00:00<00:00,  5.22it/s]\u001b[A\n",
      "Action: emotion: 100%|████████████████████████████| 4/4 [00:00<00:00,  6.73it/s]\u001b[A\n",
      "17it [00:13,  1.17it/s]"
     ]
    },
    {
     "name": "stdout",
     "output_type": "stream",
     "text": [
      "/Users/jessecoulter/Downloads/FIN377/CEOPersonalities-/matched_pictures/Satya Nadella/2017\n"
     ]
    },
    {
     "name": "stderr",
     "output_type": "stream",
     "text": [
      "\n",
      "Finding actions:   0%|                                    | 0/4 [00:00<?, ?it/s]\u001b[A\n",
      "Action: age:   0%|                                        | 0/4 [00:00<?, ?it/s]\u001b[A\n",
      "Action: age:  25%|████████                        | 1/4 [00:00<00:00,  5.05it/s]\u001b[A\n",
      "Action: gender:  25%|███████▎                     | 1/4 [00:00<00:00,  5.05it/s]\u001b[A\n",
      "Action: gender:  50%|██████████████▌              | 2/4 [00:00<00:00,  5.12it/s]\u001b[A\n",
      "Action: race:  50%|███████████████▌               | 2/4 [00:00<00:00,  5.12it/s]\u001b[A\n",
      "Action: race:  75%|███████████████████████▎       | 3/4 [00:00<00:00,  5.15it/s]\u001b[A\n",
      "Action: emotion: 100%|████████████████████████████| 4/4 [00:00<00:00,  6.66it/s]\u001b[A\n",
      "18it [00:14,  1.23it/s]"
     ]
    },
    {
     "name": "stdout",
     "output_type": "stream",
     "text": [
      "/Users/jessecoulter/Downloads/FIN377/CEOPersonalities-/matched_pictures/Satya Nadella/2018\n"
     ]
    },
    {
     "name": "stderr",
     "output_type": "stream",
     "text": [
      "\n",
      "Finding actions:   0%|                                    | 0/4 [00:00<?, ?it/s]\u001b[A\n",
      "Action: age:   0%|                                        | 0/4 [00:00<?, ?it/s]\u001b[A\n",
      "Action: age:  25%|████████                        | 1/4 [00:00<00:00,  5.35it/s]\u001b[A\n",
      "Action: gender:  25%|███████▎                     | 1/4 [00:00<00:00,  5.35it/s]\u001b[A\n",
      "Action: gender:  50%|██████████████▌              | 2/4 [00:00<00:00,  5.09it/s]\u001b[A\n",
      "Action: race:  50%|███████████████▌               | 2/4 [00:00<00:00,  5.09it/s]\u001b[A\n",
      "Action: race:  75%|███████████████████████▎       | 3/4 [00:00<00:00,  4.92it/s]\u001b[A\n",
      "Action: emotion: 100%|████████████████████████████| 4/4 [00:00<00:00,  6.48it/s]\u001b[A\n",
      "19it [00:15,  1.28it/s]"
     ]
    },
    {
     "name": "stdout",
     "output_type": "stream",
     "text": [
      "/Users/jessecoulter/Downloads/FIN377/CEOPersonalities-/matched_pictures/Satya Nadella/2019\n"
     ]
    },
    {
     "name": "stderr",
     "output_type": "stream",
     "text": [
      "\n",
      "Finding actions:   0%|                                    | 0/4 [00:00<?, ?it/s]\u001b[A\n",
      "Action: age:   0%|                                        | 0/4 [00:00<?, ?it/s]\u001b[A\n",
      "Action: age:  25%|████████                        | 1/4 [00:00<00:00,  4.76it/s]\u001b[A\n",
      "Action: gender:  25%|███████▎                     | 1/4 [00:00<00:00,  4.76it/s]\u001b[A\n",
      "Action: gender:  50%|██████████████▌              | 2/4 [00:00<00:00,  4.73it/s]\u001b[A\n",
      "Action: race:  50%|███████████████▌               | 2/4 [00:00<00:00,  4.73it/s]\u001b[A\n",
      "Action: race:  75%|███████████████████████▎       | 3/4 [00:00<00:00,  4.66it/s]\u001b[A\n",
      "Action: emotion: 100%|████████████████████████████| 4/4 [00:00<00:00,  6.09it/s]\u001b[A\n",
      "20it [00:16,  1.30it/s]"
     ]
    },
    {
     "name": "stdout",
     "output_type": "stream",
     "text": [
      "/Users/jessecoulter/Downloads/FIN377/CEOPersonalities-/matched_pictures/Jensen Huang/2010\n"
     ]
    },
    {
     "name": "stderr",
     "output_type": "stream",
     "text": [
      "\n",
      "Finding actions:   0%|                                    | 0/4 [00:00<?, ?it/s]\u001b[A\n",
      "Action: age:   0%|                                        | 0/4 [00:00<?, ?it/s]\u001b[A\n",
      "Action: age:  25%|████████                        | 1/4 [00:00<00:00,  5.03it/s]\u001b[A\n",
      "Action: gender:  25%|███████▎                     | 1/4 [00:00<00:00,  5.03it/s]\u001b[A\n",
      "Action: gender:  50%|██████████████▌              | 2/4 [00:00<00:00,  4.73it/s]\u001b[A\n",
      "Action: race:  50%|███████████████▌               | 2/4 [00:00<00:00,  4.73it/s]\u001b[A\n",
      "Action: race:  75%|███████████████████████▎       | 3/4 [00:00<00:00,  4.77it/s]\u001b[A\n",
      "Action: emotion: 100%|████████████████████████████| 4/4 [00:00<00:00,  6.22it/s]\u001b[A\n",
      "21it [00:16,  1.34it/s]"
     ]
    },
    {
     "name": "stdout",
     "output_type": "stream",
     "text": [
      "/Users/jessecoulter/Downloads/FIN377/CEOPersonalities-/matched_pictures/Jensen Huang/2011\n"
     ]
    },
    {
     "name": "stderr",
     "output_type": "stream",
     "text": [
      "\n",
      "Finding actions:   0%|                                    | 0/4 [00:00<?, ?it/s]\u001b[A\n",
      "Action: age:   0%|                                        | 0/4 [00:00<?, ?it/s]\u001b[A\n",
      "Action: age:  25%|████████                        | 1/4 [00:00<00:00,  4.59it/s]\u001b[A\n",
      "Action: gender:  25%|███████▎                     | 1/4 [00:00<00:00,  4.59it/s]\u001b[A\n",
      "Action: gender:  50%|██████████████▌              | 2/4 [00:00<00:00,  4.77it/s]\u001b[A\n",
      "Action: race:  50%|███████████████▌               | 2/4 [00:00<00:00,  4.77it/s]\u001b[A\n",
      "Action: race:  75%|███████████████████████▎       | 3/4 [00:00<00:00,  4.66it/s]\u001b[A\n",
      "Action: emotion: 100%|████████████████████████████| 4/4 [00:00<00:00,  6.07it/s]\u001b[A\n",
      "23it [00:17,  1.81it/s]"
     ]
    },
    {
     "name": "stdout",
     "output_type": "stream",
     "text": [
      "/Users/jessecoulter/Downloads/FIN377/CEOPersonalities-/matched_pictures/Jensen Huang/2012\n",
      "Error analyzing /Users/jessecoulter/Downloads/FIN377/CEOPersonalities-/matched_pictures/Jensen Huang/2012/pic1.jpg: Face could not be detected in /Users/jessecoulter/Downloads/FIN377/CEOPersonalities-/matched_pictures/Jensen Huang/2012/pic1.jpg.Please confirm that the picture is a face photo or consider to set enforce_detection param to False.\n",
      "/Users/jessecoulter/Downloads/FIN377/CEOPersonalities-/matched_pictures/Jensen Huang/2013\n"
     ]
    },
    {
     "name": "stderr",
     "output_type": "stream",
     "text": [
      "\n",
      "Finding actions:   0%|                                    | 0/4 [00:00<?, ?it/s]\u001b[A\n",
      "Action: age:   0%|                                        | 0/4 [00:00<?, ?it/s]\u001b[A\n",
      "Action: age:  25%|████████                        | 1/4 [00:00<00:00,  5.47it/s]\u001b[A\n",
      "Action: gender:  25%|███████▎                     | 1/4 [00:00<00:00,  5.47it/s]\u001b[A\n",
      "Action: gender:  50%|██████████████▌              | 2/4 [00:00<00:00,  5.49it/s]\u001b[A\n",
      "Action: race:  50%|███████████████▌               | 2/4 [00:00<00:00,  5.49it/s]\u001b[A\n",
      "Action: race:  75%|███████████████████████▎       | 3/4 [00:00<00:00,  5.33it/s]\u001b[A\n",
      "Action: emotion: 100%|████████████████████████████| 4/4 [00:00<00:00,  6.96it/s]\u001b[A\n",
      "24it [00:18,  1.75it/s]"
     ]
    },
    {
     "name": "stdout",
     "output_type": "stream",
     "text": [
      "/Users/jessecoulter/Downloads/FIN377/CEOPersonalities-/matched_pictures/Jensen Huang/2014\n"
     ]
    },
    {
     "name": "stderr",
     "output_type": "stream",
     "text": [
      "\n",
      "Finding actions:   0%|                                    | 0/4 [00:00<?, ?it/s]\u001b[A\n",
      "Action: age:   0%|                                        | 0/4 [00:00<?, ?it/s]\u001b[A\n",
      "Action: age:  25%|████████                        | 1/4 [00:00<00:00,  5.47it/s]\u001b[A\n",
      "Action: gender:  25%|███████▎                     | 1/4 [00:00<00:00,  5.47it/s]\u001b[A\n",
      "Action: gender:  50%|██████████████▌              | 2/4 [00:00<00:00,  5.34it/s]\u001b[A\n",
      "Action: race:  50%|███████████████▌               | 2/4 [00:00<00:00,  5.34it/s]\u001b[A\n",
      "Action: race:  75%|███████████████████████▎       | 3/4 [00:00<00:00,  5.35it/s]\u001b[A\n",
      "Action: emotion: 100%|████████████████████████████| 4/4 [00:00<00:00,  6.96it/s]\u001b[A\n",
      "26it [00:18,  2.28it/s]"
     ]
    },
    {
     "name": "stdout",
     "output_type": "stream",
     "text": [
      "/Users/jessecoulter/Downloads/FIN377/CEOPersonalities-/matched_pictures/Jensen Huang/2015\n",
      "Error analyzing /Users/jessecoulter/Downloads/FIN377/CEOPersonalities-/matched_pictures/Jensen Huang/2015/pic1.jpg: Face could not be detected in /Users/jessecoulter/Downloads/FIN377/CEOPersonalities-/matched_pictures/Jensen Huang/2015/pic1.jpg.Please confirm that the picture is a face photo or consider to set enforce_detection param to False.\n",
      "/Users/jessecoulter/Downloads/FIN377/CEOPersonalities-/matched_pictures/Jensen Huang/2016\n"
     ]
    },
    {
     "name": "stderr",
     "output_type": "stream",
     "text": [
      "\n",
      "Finding actions:   0%|                                    | 0/4 [00:00<?, ?it/s]\u001b[A\n",
      "Action: age:   0%|                                        | 0/4 [00:00<?, ?it/s]\u001b[A\n",
      "Action: age:  25%|████████                        | 1/4 [00:00<00:00,  5.33it/s]\u001b[A\n",
      "Action: gender:  25%|███████▎                     | 1/4 [00:00<00:00,  5.33it/s]\u001b[A\n",
      "Action: gender:  50%|██████████████▌              | 2/4 [00:00<00:00,  5.31it/s]\u001b[A\n",
      "Action: race:  50%|███████████████▌               | 2/4 [00:00<00:00,  5.31it/s]\u001b[A\n",
      "Action: race:  75%|███████████████████████▎       | 3/4 [00:00<00:00,  5.29it/s]\u001b[A\n",
      "Action: emotion: 100%|████████████████████████████| 4/4 [00:00<00:00,  6.89it/s]\u001b[A\n",
      "27it [00:19,  2.05it/s]"
     ]
    },
    {
     "name": "stdout",
     "output_type": "stream",
     "text": [
      "/Users/jessecoulter/Downloads/FIN377/CEOPersonalities-/matched_pictures/Jensen Huang/2017\n"
     ]
    },
    {
     "name": "stderr",
     "output_type": "stream",
     "text": [
      "\n",
      "Finding actions:   0%|                                    | 0/4 [00:00<?, ?it/s]\u001b[A\n",
      "Action: age:   0%|                                        | 0/4 [00:00<?, ?it/s]\u001b[A\n",
      "Action: age:  25%|████████                        | 1/4 [00:00<00:00,  4.57it/s]\u001b[A\n",
      "Action: gender:  25%|███████▎                     | 1/4 [00:00<00:00,  4.57it/s]\u001b[A\n",
      "Action: gender:  50%|██████████████▌              | 2/4 [00:00<00:00,  4.57it/s]\u001b[A\n",
      "Action: race:  50%|███████████████▌               | 2/4 [00:00<00:00,  4.57it/s]\u001b[A\n",
      "Action: race:  75%|███████████████████████▎       | 3/4 [00:00<00:00,  4.61it/s]\u001b[A\n",
      "Action: emotion: 100%|████████████████████████████| 4/4 [00:00<00:00,  5.98it/s]\u001b[A\n",
      "28it [00:20,  1.76it/s]"
     ]
    },
    {
     "name": "stdout",
     "output_type": "stream",
     "text": [
      "/Users/jessecoulter/Downloads/FIN377/CEOPersonalities-/matched_pictures/Jensen Huang/2018\n"
     ]
    },
    {
     "name": "stderr",
     "output_type": "stream",
     "text": [
      "\n",
      "Finding actions:   0%|                                    | 0/4 [00:00<?, ?it/s]\u001b[A\n",
      "Action: age:   0%|                                        | 0/4 [00:00<?, ?it/s]\u001b[A\n",
      "Action: age:  25%|████████                        | 1/4 [00:00<00:00,  4.55it/s]\u001b[A\n",
      "Action: gender:  25%|███████▎                     | 1/4 [00:00<00:00,  4.55it/s]\u001b[A\n",
      "Action: gender:  50%|██████████████▌              | 2/4 [00:00<00:00,  4.91it/s]\u001b[A\n",
      "Action: race:  50%|███████████████▌               | 2/4 [00:00<00:00,  4.91it/s]\u001b[A\n",
      "Action: race:  75%|███████████████████████▎       | 3/4 [00:00<00:00,  4.87it/s]\u001b[A\n",
      "Action: emotion: 100%|████████████████████████████| 4/4 [00:00<00:00,  6.29it/s]\u001b[A\n",
      "29it [00:21,  1.65it/s]"
     ]
    },
    {
     "name": "stdout",
     "output_type": "stream",
     "text": [
      "/Users/jessecoulter/Downloads/FIN377/CEOPersonalities-/matched_pictures/Jensen Huang/2019\n"
     ]
    },
    {
     "name": "stderr",
     "output_type": "stream",
     "text": [
      "\n",
      "Finding actions:   0%|                                    | 0/4 [00:00<?, ?it/s]\u001b[A\n",
      "Action: age:   0%|                                        | 0/4 [00:00<?, ?it/s]\u001b[A\n",
      "Action: age:  25%|████████                        | 1/4 [00:00<00:00,  4.99it/s]\u001b[A\n",
      "Action: gender:  25%|███████▎                     | 1/4 [00:00<00:00,  4.99it/s]\u001b[A\n",
      "Action: gender:  50%|██████████████▌              | 2/4 [00:00<00:00,  4.77it/s]\u001b[A\n",
      "Action: race:  50%|███████████████▌               | 2/4 [00:00<00:00,  4.77it/s]\u001b[A\n",
      "Action: race:  75%|███████████████████████▎       | 3/4 [00:00<00:00,  4.84it/s]\u001b[A\n",
      "Action: emotion: 100%|████████████████████████████| 4/4 [00:00<00:00,  6.28it/s]\u001b[A\n",
      "30it [00:21,  1.55it/s]"
     ]
    },
    {
     "name": "stdout",
     "output_type": "stream",
     "text": [
      "/Users/jessecoulter/Downloads/FIN377/CEOPersonalities-/matched_pictures/Scott A. McGregor/2010\n"
     ]
    },
    {
     "name": "stderr",
     "output_type": "stream",
     "text": [
      "\n",
      "Finding actions:   0%|                                    | 0/4 [00:00<?, ?it/s]\u001b[A\n",
      "Action: age:   0%|                                        | 0/4 [00:00<?, ?it/s]\u001b[A\n",
      "Action: age:  25%|████████                        | 1/4 [00:00<00:00,  5.07it/s]\u001b[A\n",
      "Action: gender:  25%|███████▎                     | 1/4 [00:00<00:00,  5.07it/s]\u001b[A\n",
      "Action: gender:  50%|██████████████▌              | 2/4 [00:00<00:00,  5.37it/s]\u001b[A\n",
      "Action: race:  50%|███████████████▌               | 2/4 [00:00<00:00,  5.37it/s]\u001b[A\n",
      "Action: race:  75%|███████████████████████▎       | 3/4 [00:00<00:00,  5.07it/s]\u001b[A\n",
      "Action: emotion: 100%|████████████████████████████| 4/4 [00:00<00:00,  6.63it/s]\u001b[A\n",
      "31it [00:22,  1.55it/s]"
     ]
    },
    {
     "name": "stdout",
     "output_type": "stream",
     "text": [
      "/Users/jessecoulter/Downloads/FIN377/CEOPersonalities-/matched_pictures/Scott A. McGregor/2011\n"
     ]
    },
    {
     "name": "stderr",
     "output_type": "stream",
     "text": [
      "\n",
      "Finding actions:   0%|                                    | 0/4 [00:00<?, ?it/s]\u001b[A\n",
      "Action: age:   0%|                                        | 0/4 [00:00<?, ?it/s]\u001b[A\n",
      "Action: age:  25%|████████                        | 1/4 [00:00<00:00,  5.09it/s]\u001b[A\n",
      "Action: gender:  25%|███████▎                     | 1/4 [00:00<00:00,  5.09it/s]\u001b[A\n",
      "Action: gender:  50%|██████████████▌              | 2/4 [00:00<00:00,  4.91it/s]\u001b[A\n",
      "Action: race:  50%|███████████████▌               | 2/4 [00:00<00:00,  4.91it/s]\u001b[A\n",
      "Action: race:  75%|███████████████████████▎       | 3/4 [00:00<00:00,  4.74it/s]\u001b[A\n",
      "Action: emotion: 100%|████████████████████████████| 4/4 [00:00<00:00,  6.25it/s]\u001b[A\n",
      "32it [00:23,  1.53it/s]"
     ]
    },
    {
     "name": "stdout",
     "output_type": "stream",
     "text": [
      "/Users/jessecoulter/Downloads/FIN377/CEOPersonalities-/matched_pictures/Scott A. McGregor/2012\n"
     ]
    },
    {
     "name": "stderr",
     "output_type": "stream",
     "text": [
      "\n",
      "Finding actions:   0%|                                    | 0/4 [00:00<?, ?it/s]\u001b[A\n",
      "Action: age:   0%|                                        | 0/4 [00:00<?, ?it/s]\u001b[A\n",
      "Action: age:  25%|████████                        | 1/4 [00:00<00:00,  5.26it/s]\u001b[A\n",
      "Action: gender:  25%|███████▎                     | 1/4 [00:00<00:00,  5.26it/s]\u001b[A\n",
      "Action: gender:  50%|██████████████▌              | 2/4 [00:00<00:00,  4.79it/s]\u001b[A\n",
      "Action: race:  50%|███████████████▌               | 2/4 [00:00<00:00,  4.79it/s]\u001b[A\n",
      "Action: race:  75%|███████████████████████▎       | 3/4 [00:00<00:00,  5.00it/s]\u001b[A\n",
      "Action: emotion: 100%|████████████████████████████| 4/4 [00:00<00:00,  6.50it/s]\u001b[A\n",
      "33it [00:23,  1.52it/s]"
     ]
    },
    {
     "name": "stdout",
     "output_type": "stream",
     "text": [
      "/Users/jessecoulter/Downloads/FIN377/CEOPersonalities-/matched_pictures/Scott A. McGregor/2013\n"
     ]
    },
    {
     "name": "stderr",
     "output_type": "stream",
     "text": [
      "\n",
      "Finding actions:   0%|                                    | 0/4 [00:00<?, ?it/s]\u001b[A\n",
      "Action: age:   0%|                                        | 0/4 [00:00<?, ?it/s]\u001b[A\n",
      "Action: age:  25%|████████                        | 1/4 [00:00<00:00,  5.58it/s]\u001b[A\n",
      "Action: gender:  25%|███████▎                     | 1/4 [00:00<00:00,  5.58it/s]\u001b[A\n",
      "Action: gender:  50%|██████████████▌              | 2/4 [00:00<00:00,  5.36it/s]\u001b[A\n",
      "Action: race:  50%|███████████████▌               | 2/4 [00:00<00:00,  5.36it/s]\u001b[A\n",
      "Action: race:  75%|███████████████████████▎       | 3/4 [00:00<00:00,  5.30it/s]\u001b[A\n",
      "Action: emotion: 100%|████████████████████████████| 4/4 [00:00<00:00,  6.92it/s]\u001b[A\n",
      "34it [00:24,  1.52it/s]"
     ]
    },
    {
     "name": "stdout",
     "output_type": "stream",
     "text": [
      "/Users/jessecoulter/Downloads/FIN377/CEOPersonalities-/matched_pictures/Scott A. McGregor/2014\n",
      "Error analyzing /Users/jessecoulter/Downloads/FIN377/CEOPersonalities-/matched_pictures/Scott A. McGregor/2014/pic1.jpg: Face could not be detected in /Users/jessecoulter/Downloads/FIN377/CEOPersonalities-/matched_pictures/Scott A. McGregor/2014/pic1.jpg.Please confirm that the picture is a face photo or consider to set enforce_detection param to False.\n",
      "/Users/jessecoulter/Downloads/FIN377/CEOPersonalities-/matched_pictures/Scott A. McGregor/2015\n"
     ]
    },
    {
     "name": "stderr",
     "output_type": "stream",
     "text": [
      "\n",
      "Finding actions:   0%|                                    | 0/4 [00:00<?, ?it/s]\u001b[A\n",
      "Action: age:   0%|                                        | 0/4 [00:00<?, ?it/s]\u001b[A\n",
      "Action: age:  25%|████████                        | 1/4 [00:00<00:00,  5.47it/s]\u001b[A\n",
      "Action: gender:  25%|███████▎                     | 1/4 [00:00<00:00,  5.47it/s]\u001b[A\n",
      "Action: gender:  50%|██████████████▌              | 2/4 [00:00<00:00,  5.21it/s]\u001b[A\n",
      "Action: race:  50%|███████████████▌               | 2/4 [00:00<00:00,  5.21it/s]\u001b[A\n",
      "Action: race:  75%|███████████████████████▎       | 3/4 [00:00<00:00,  5.25it/s]\u001b[A\n",
      "Action: emotion: 100%|████████████████████████████| 4/4 [00:00<00:00,  6.84it/s]\u001b[A\n",
      "36it [00:25,  1.92it/s]"
     ]
    },
    {
     "name": "stdout",
     "output_type": "stream",
     "text": [
      "/Users/jessecoulter/Downloads/FIN377/CEOPersonalities-/matched_pictures/Hock Tan/2016\n"
     ]
    },
    {
     "name": "stderr",
     "output_type": "stream",
     "text": [
      "\n",
      "Finding actions:   0%|                                    | 0/4 [00:00<?, ?it/s]\u001b[A\n",
      "Action: age:   0%|                                        | 0/4 [00:00<?, ?it/s]\u001b[A\n",
      "Action: age:  25%|████████                        | 1/4 [00:00<00:00,  5.44it/s]\u001b[A\n",
      "Action: gender:  25%|███████▎                     | 1/4 [00:00<00:00,  5.44it/s]\u001b[A\n",
      "Action: gender:  50%|██████████████▌              | 2/4 [00:00<00:00,  5.34it/s]\u001b[A\n",
      "Action: race:  50%|███████████████▌               | 2/4 [00:00<00:00,  5.34it/s]\u001b[A\n",
      "Action: race:  75%|███████████████████████▎       | 3/4 [00:00<00:00,  5.46it/s]\u001b[A\n",
      "Action: emotion: 100%|████████████████████████████| 4/4 [00:00<00:00,  7.06it/s]\u001b[A\n",
      "37it [00:25,  1.66it/s]"
     ]
    },
    {
     "name": "stdout",
     "output_type": "stream",
     "text": [
      "/Users/jessecoulter/Downloads/FIN377/CEOPersonalities-/matched_pictures/Hock Tan/2017\n"
     ]
    },
    {
     "name": "stderr",
     "output_type": "stream",
     "text": [
      "\n",
      "Finding actions:   0%|                                    | 0/4 [00:00<?, ?it/s]\u001b[A\n",
      "Action: age:   0%|                                        | 0/4 [00:00<?, ?it/s]\u001b[A\n",
      "Action: age:  25%|████████                        | 1/4 [00:00<00:00,  4.77it/s]\u001b[A\n",
      "Action: gender:  25%|███████▎                     | 1/4 [00:00<00:00,  4.77it/s]\u001b[A\n",
      "Action: gender:  50%|██████████████▌              | 2/4 [00:00<00:00,  4.71it/s]\u001b[A\n",
      "Action: race:  50%|███████████████▌               | 2/4 [00:00<00:00,  4.71it/s]\u001b[A\n",
      "Action: race:  75%|███████████████████████▎       | 3/4 [00:00<00:00,  4.76it/s]\u001b[A\n",
      "Action: emotion: 100%|████████████████████████████| 4/4 [00:00<00:00,  6.19it/s]\u001b[A\n",
      "38it [00:26,  1.56it/s]"
     ]
    },
    {
     "name": "stdout",
     "output_type": "stream",
     "text": [
      "/Users/jessecoulter/Downloads/FIN377/CEOPersonalities-/matched_pictures/Hock Tan/2018\n"
     ]
    },
    {
     "name": "stderr",
     "output_type": "stream",
     "text": [
      "\n",
      "Finding actions:   0%|                                    | 0/4 [00:00<?, ?it/s]\u001b[A\n",
      "Action: age:   0%|                                        | 0/4 [00:00<?, ?it/s]\u001b[A\n",
      "Action: age:  25%|████████                        | 1/4 [00:00<00:00,  4.74it/s]\u001b[A\n",
      "Action: gender:  25%|███████▎                     | 1/4 [00:00<00:00,  4.74it/s]\u001b[A\n",
      "Action: gender:  50%|██████████████▌              | 2/4 [00:00<00:00,  4.72it/s]\u001b[A\n",
      "Action: race:  50%|███████████████▌               | 2/4 [00:00<00:00,  4.72it/s]\u001b[A\n",
      "Action: race:  75%|███████████████████████▎       | 3/4 [00:00<00:00,  4.74it/s]\u001b[A\n",
      "Action: emotion: 100%|████████████████████████████| 4/4 [00:00<00:00,  6.17it/s]\u001b[A\n",
      "39it [00:27,  1.45it/s]"
     ]
    },
    {
     "name": "stdout",
     "output_type": "stream",
     "text": [
      "/Users/jessecoulter/Downloads/FIN377/CEOPersonalities-/matched_pictures/Hock Tan/2019\n"
     ]
    },
    {
     "name": "stderr",
     "output_type": "stream",
     "text": [
      "\n",
      "Finding actions:   0%|                                    | 0/4 [00:00<?, ?it/s]\u001b[A\n",
      "Action: age:   0%|                                        | 0/4 [00:00<?, ?it/s]\u001b[A\n",
      "Action: age:  25%|████████                        | 1/4 [00:00<00:00,  5.15it/s]\u001b[A\n",
      "Action: gender:  25%|███████▎                     | 1/4 [00:00<00:00,  5.15it/s]\u001b[A\n",
      "Action: gender:  50%|██████████████▌              | 2/4 [00:00<00:00,  4.77it/s]\u001b[A\n",
      "Action: race:  50%|███████████████▌               | 2/4 [00:00<00:00,  4.77it/s]\u001b[A\n",
      "Action: race:  75%|███████████████████████▎       | 3/4 [00:00<00:00,  4.72it/s]\u001b[A\n",
      "Action: emotion: 100%|████████████████████████████| 4/4 [00:00<00:00,  6.20it/s]\u001b[A\n",
      "40it [00:28,  1.43it/s]"
     ]
    },
    {
     "name": "stdout",
     "output_type": "stream",
     "text": [
      "/Users/jessecoulter/Downloads/FIN377/CEOPersonalities-/matched_pictures/Shantanu Narayen/2010\n"
     ]
    },
    {
     "name": "stderr",
     "output_type": "stream",
     "text": [
      "\n",
      "Finding actions:   0%|                                    | 0/4 [00:00<?, ?it/s]\u001b[A\n",
      "Action: age:   0%|                                        | 0/4 [00:00<?, ?it/s]\u001b[A\n",
      "Action: age:  25%|████████                        | 1/4 [00:00<00:00,  5.08it/s]\u001b[A\n",
      "Action: gender:  25%|███████▎                     | 1/4 [00:00<00:00,  5.08it/s]\u001b[A\n",
      "Action: gender:  50%|██████████████▌              | 2/4 [00:00<00:00,  4.41it/s]\u001b[A\n",
      "Action: race:  50%|███████████████▌               | 2/4 [00:00<00:00,  4.41it/s]\u001b[A\n",
      "Action: race:  75%|███████████████████████▎       | 3/4 [00:00<00:00,  4.76it/s]\u001b[A\n",
      "Action: emotion: 100%|████████████████████████████| 4/4 [00:00<00:00,  6.15it/s]\u001b[A\n",
      "41it [00:29,  1.26it/s]"
     ]
    },
    {
     "name": "stdout",
     "output_type": "stream",
     "text": [
      "/Users/jessecoulter/Downloads/FIN377/CEOPersonalities-/matched_pictures/Shantanu Narayen/2011\n"
     ]
    },
    {
     "name": "stderr",
     "output_type": "stream",
     "text": [
      "\n",
      "Finding actions:   0%|                                    | 0/4 [00:00<?, ?it/s]\u001b[A\n",
      "Action: age:   0%|                                        | 0/4 [00:00<?, ?it/s]\u001b[A\n",
      "Action: age:  25%|████████                        | 1/4 [00:00<00:00,  4.44it/s]\u001b[A\n",
      "Action: gender:  25%|███████▎                     | 1/4 [00:00<00:00,  4.44it/s]\u001b[A\n",
      "Action: gender:  50%|██████████████▌              | 2/4 [00:00<00:00,  4.39it/s]\u001b[A\n",
      "Action: race:  50%|███████████████▌               | 2/4 [00:00<00:00,  4.39it/s]\u001b[A\n",
      "Action: race:  75%|███████████████████████▎       | 3/4 [00:00<00:00,  4.15it/s]\u001b[A\n",
      "Action: emotion: 100%|████████████████████████████| 4/4 [00:00<00:00,  5.51it/s]\u001b[A\n",
      "42it [00:30,  1.23it/s]"
     ]
    },
    {
     "name": "stdout",
     "output_type": "stream",
     "text": [
      "/Users/jessecoulter/Downloads/FIN377/CEOPersonalities-/matched_pictures/Shantanu Narayen/2012\n"
     ]
    },
    {
     "name": "stderr",
     "output_type": "stream",
     "text": [
      "\n",
      "Finding actions:   0%|                                    | 0/4 [00:00<?, ?it/s]\u001b[A\n",
      "Action: age:   0%|                                        | 0/4 [00:00<?, ?it/s]\u001b[A\n",
      "Action: age:  25%|████████                        | 1/4 [00:00<00:00,  3.74it/s]\u001b[A\n",
      "Action: gender:  25%|███████▎                     | 1/4 [00:00<00:00,  3.74it/s]\u001b[A\n",
      "Action: gender:  50%|██████████████▌              | 2/4 [00:00<00:00,  4.21it/s]\u001b[A\n",
      "Action: race:  50%|███████████████▌               | 2/4 [00:00<00:00,  4.21it/s]\u001b[A\n",
      "Action: race:  75%|███████████████████████▎       | 3/4 [00:00<00:00,  4.34it/s]\u001b[A\n",
      "Action: emotion: 100%|████████████████████████████| 4/4 [00:00<00:00,  5.54it/s]\u001b[A\n",
      "43it [00:30,  1.26it/s]"
     ]
    },
    {
     "name": "stdout",
     "output_type": "stream",
     "text": [
      "/Users/jessecoulter/Downloads/FIN377/CEOPersonalities-/matched_pictures/Shantanu Narayen/2013\n"
     ]
    },
    {
     "name": "stderr",
     "output_type": "stream",
     "text": [
      "\n",
      "Finding actions:   0%|                                    | 0/4 [00:00<?, ?it/s]\u001b[A\n",
      "Action: age:   0%|                                        | 0/4 [00:00<?, ?it/s]\u001b[A\n",
      "Action: age:  25%|████████                        | 1/4 [00:00<00:00,  4.51it/s]\u001b[A\n",
      "Action: gender:  25%|███████▎                     | 1/4 [00:00<00:00,  4.51it/s]\u001b[A\n",
      "Action: gender:  50%|██████████████▌              | 2/4 [00:00<00:00,  4.33it/s]\u001b[A\n",
      "Action: race:  50%|███████████████▌               | 2/4 [00:00<00:00,  4.33it/s]\u001b[A\n",
      "Action: race:  75%|███████████████████████▎       | 3/4 [00:00<00:00,  4.41it/s]\u001b[A\n",
      "Action: emotion: 100%|████████████████████████████| 4/4 [00:00<00:00,  5.75it/s]\u001b[A\n",
      "44it [00:31,  1.26it/s]"
     ]
    },
    {
     "name": "stdout",
     "output_type": "stream",
     "text": [
      "/Users/jessecoulter/Downloads/FIN377/CEOPersonalities-/matched_pictures/Shantanu Narayen/2014\n"
     ]
    },
    {
     "name": "stderr",
     "output_type": "stream",
     "text": [
      "\n",
      "Finding actions:   0%|                                    | 0/4 [00:00<?, ?it/s]\u001b[A\n",
      "Action: age:   0%|                                        | 0/4 [00:00<?, ?it/s]\u001b[A\n",
      "Action: age:  25%|████████                        | 1/4 [00:00<00:00,  5.64it/s]\u001b[A\n",
      "Action: gender:  25%|███████▎                     | 1/4 [00:00<00:00,  5.64it/s]\u001b[A\n",
      "Action: gender:  50%|██████████████▌              | 2/4 [00:00<00:00,  5.37it/s]\u001b[A\n",
      "Action: race:  50%|███████████████▌               | 2/4 [00:00<00:00,  5.37it/s]\u001b[A\n",
      "Action: race:  75%|███████████████████████▎       | 3/4 [00:00<00:00,  5.25it/s]\u001b[A\n",
      "Action: emotion: 100%|████████████████████████████| 4/4 [00:00<00:00,  6.89it/s]\u001b[A\n",
      "45it [00:32,  1.20it/s]"
     ]
    },
    {
     "name": "stdout",
     "output_type": "stream",
     "text": [
      "/Users/jessecoulter/Downloads/FIN377/CEOPersonalities-/matched_pictures/Shantanu Narayen/2015\n"
     ]
    },
    {
     "name": "stderr",
     "output_type": "stream",
     "text": [
      "\n",
      "Finding actions:   0%|                                    | 0/4 [00:00<?, ?it/s]\u001b[A\n",
      "Action: age:   0%|                                        | 0/4 [00:00<?, ?it/s]\u001b[A\n",
      "Action: age:  25%|████████                        | 1/4 [00:00<00:00,  5.22it/s]\u001b[A\n",
      "Action: gender:  25%|███████▎                     | 1/4 [00:00<00:00,  5.22it/s]\u001b[A\n",
      "Action: gender:  50%|██████████████▌              | 2/4 [00:00<00:00,  4.65it/s]\u001b[A\n",
      "Action: race:  50%|███████████████▌               | 2/4 [00:00<00:00,  4.65it/s]\u001b[A\n",
      "Action: race:  75%|███████████████████████▎       | 3/4 [00:00<00:00,  4.44it/s]\u001b[A\n",
      "Action: emotion: 100%|████████████████████████████| 4/4 [00:00<00:00,  5.92it/s]\u001b[A\n",
      "46it [00:33,  1.21it/s]"
     ]
    },
    {
     "name": "stdout",
     "output_type": "stream",
     "text": [
      "/Users/jessecoulter/Downloads/FIN377/CEOPersonalities-/matched_pictures/Shantanu Narayen/2016\n"
     ]
    },
    {
     "name": "stderr",
     "output_type": "stream",
     "text": [
      "\n",
      "Finding actions:   0%|                                    | 0/4 [00:00<?, ?it/s]\u001b[A\n",
      "Action: age:   0%|                                        | 0/4 [00:00<?, ?it/s]\u001b[A\n",
      "Action: age:  25%|████████                        | 1/4 [00:00<00:00,  4.44it/s]\u001b[A\n",
      "Action: gender:  25%|███████▎                     | 1/4 [00:00<00:00,  4.44it/s]\u001b[A\n",
      "Action: gender:  50%|██████████████▌              | 2/4 [00:00<00:00,  4.57it/s]\u001b[A\n",
      "Action: race:  50%|███████████████▌               | 2/4 [00:00<00:00,  4.57it/s]\u001b[A\n",
      "Action: race:  75%|███████████████████████▎       | 3/4 [00:00<00:00,  4.92it/s]\u001b[A\n",
      "Action: emotion: 100%|████████████████████████████| 4/4 [00:00<00:00,  6.26it/s]\u001b[A\n",
      "47it [00:34,  1.24it/s]"
     ]
    },
    {
     "name": "stdout",
     "output_type": "stream",
     "text": [
      "/Users/jessecoulter/Downloads/FIN377/CEOPersonalities-/matched_pictures/Shantanu Narayen/2017\n"
     ]
    },
    {
     "name": "stderr",
     "output_type": "stream",
     "text": [
      "\n",
      "Finding actions:   0%|                                    | 0/4 [00:00<?, ?it/s]\u001b[A\n",
      "Action: age:   0%|                                        | 0/4 [00:00<?, ?it/s]\u001b[A\n",
      "Action: age:  25%|████████                        | 1/4 [00:00<00:00,  5.44it/s]\u001b[A\n",
      "Action: gender:  25%|███████▎                     | 1/4 [00:00<00:00,  5.44it/s]\u001b[A\n",
      "Action: gender:  50%|██████████████▌              | 2/4 [00:00<00:00,  5.31it/s]\u001b[A\n",
      "Action: race:  50%|███████████████▌               | 2/4 [00:00<00:00,  5.31it/s]\u001b[A\n",
      "Action: race:  75%|███████████████████████▎       | 3/4 [00:00<00:00,  5.37it/s]\u001b[A\n",
      "Action: emotion: 100%|████████████████████████████| 4/4 [00:00<00:00,  6.97it/s]\u001b[A\n",
      "48it [00:34,  1.31it/s]"
     ]
    },
    {
     "name": "stdout",
     "output_type": "stream",
     "text": [
      "/Users/jessecoulter/Downloads/FIN377/CEOPersonalities-/matched_pictures/Shantanu Narayen/2018\n"
     ]
    },
    {
     "name": "stderr",
     "output_type": "stream",
     "text": [
      "\n",
      "Finding actions:   0%|                                    | 0/4 [00:00<?, ?it/s]\u001b[A\n",
      "Action: age:   0%|                                        | 0/4 [00:00<?, ?it/s]\u001b[A\n",
      "Action: age:  25%|████████                        | 1/4 [00:00<00:00,  5.63it/s]\u001b[A\n",
      "Action: gender:  25%|███████▎                     | 1/4 [00:00<00:00,  5.63it/s]\u001b[A\n",
      "Action: gender:  50%|██████████████▌              | 2/4 [00:00<00:00,  5.56it/s]\u001b[A\n",
      "Action: race:  50%|███████████████▌               | 2/4 [00:00<00:00,  5.56it/s]\u001b[A\n",
      "Action: race:  75%|███████████████████████▎       | 3/4 [00:00<00:00,  5.52it/s]\u001b[A\n",
      "Action: emotion: 100%|████████████████████████████| 4/4 [00:00<00:00,  7.18it/s]\u001b[A\n",
      "51it [00:35,  2.19it/s]"
     ]
    },
    {
     "name": "stdout",
     "output_type": "stream",
     "text": [
      "/Users/jessecoulter/Downloads/FIN377/CEOPersonalities-/matched_pictures/Shantanu Narayen/2019\n",
      "Error analyzing /Users/jessecoulter/Downloads/FIN377/CEOPersonalities-/matched_pictures/Shantanu Narayen/2019/pic3.jpg: Face could not be detected in /Users/jessecoulter/Downloads/FIN377/CEOPersonalities-/matched_pictures/Shantanu Narayen/2019/pic3.jpg.Please confirm that the picture is a face photo or consider to set enforce_detection param to False.\n",
      "/Users/jessecoulter/Downloads/FIN377/CEOPersonalities-/matched_pictures/John T. Chambers/2010\n",
      "Error analyzing /Users/jessecoulter/Downloads/FIN377/CEOPersonalities-/matched_pictures/John T. Chambers/2010/pic1.jpg: Face could not be detected in /Users/jessecoulter/Downloads/FIN377/CEOPersonalities-/matched_pictures/John T. Chambers/2010/pic1.jpg.Please confirm that the picture is a face photo or consider to set enforce_detection param to False.\n",
      "/Users/jessecoulter/Downloads/FIN377/CEOPersonalities-/matched_pictures/John T. Chambers/2011\n"
     ]
    },
    {
     "name": "stderr",
     "output_type": "stream",
     "text": [
      "\n",
      "Finding actions:   0%|                                    | 0/4 [00:00<?, ?it/s]\u001b[A\n",
      "Action: age:   0%|                                        | 0/4 [00:00<?, ?it/s]\u001b[A\n",
      "Action: age:  25%|████████                        | 1/4 [00:00<00:00,  5.60it/s]\u001b[A\n",
      "Action: gender:  25%|███████▎                     | 1/4 [00:00<00:00,  5.60it/s]\u001b[A\n",
      "Action: gender:  50%|██████████████▌              | 2/4 [00:00<00:00,  5.49it/s]\u001b[A\n",
      "Action: race:  50%|███████████████▌               | 2/4 [00:00<00:00,  5.49it/s]\u001b[A\n",
      "Action: race:  75%|███████████████████████▎       | 3/4 [00:00<00:00,  5.47it/s]\u001b[A\n",
      "Action: emotion: 100%|████████████████████████████| 4/4 [00:00<00:00,  7.13it/s]\u001b[A\n",
      "52it [00:36,  2.04it/s]"
     ]
    },
    {
     "name": "stdout",
     "output_type": "stream",
     "text": [
      "/Users/jessecoulter/Downloads/FIN377/CEOPersonalities-/matched_pictures/John T. Chambers/2012\n"
     ]
    },
    {
     "name": "stderr",
     "output_type": "stream",
     "text": [
      "\n",
      "Finding actions:   0%|                                    | 0/4 [00:00<?, ?it/s]\u001b[A\n",
      "Action: age:   0%|                                        | 0/4 [00:00<?, ?it/s]\u001b[A\n",
      "Action: age:  25%|████████                        | 1/4 [00:00<00:00,  5.68it/s]\u001b[A\n",
      "Action: gender:  25%|███████▎                     | 1/4 [00:00<00:00,  5.68it/s]\u001b[A\n",
      "Action: gender:  50%|██████████████▌              | 2/4 [00:00<00:00,  5.68it/s]\u001b[A\n",
      "Action: race:  50%|███████████████▌               | 2/4 [00:00<00:00,  5.68it/s]\u001b[A\n",
      "Action: race:  75%|███████████████████████▎       | 3/4 [00:00<00:00,  5.59it/s]\u001b[A\n",
      "Action: emotion: 100%|████████████████████████████| 4/4 [00:00<00:00,  7.29it/s]\u001b[A\n",
      "53it [00:37,  1.96it/s]"
     ]
    },
    {
     "name": "stdout",
     "output_type": "stream",
     "text": [
      "/Users/jessecoulter/Downloads/FIN377/CEOPersonalities-/matched_pictures/John T. Chambers/2013\n"
     ]
    },
    {
     "name": "stderr",
     "output_type": "stream",
     "text": [
      "\n",
      "Finding actions:   0%|                                    | 0/4 [00:00<?, ?it/s]\u001b[A\n",
      "Action: age:   0%|                                        | 0/4 [00:00<?, ?it/s]\u001b[A\n",
      "Action: age:  25%|████████                        | 1/4 [00:00<00:00,  5.46it/s]\u001b[A\n",
      "Action: gender:  25%|███████▎                     | 1/4 [00:00<00:00,  5.46it/s]\u001b[A\n",
      "Action: gender:  50%|██████████████▌              | 2/4 [00:00<00:00,  5.51it/s]\u001b[A\n",
      "Action: race:  50%|███████████████▌               | 2/4 [00:00<00:00,  5.51it/s]\u001b[A\n",
      "Action: race:  75%|███████████████████████▎       | 3/4 [00:00<00:00,  5.53it/s]\u001b[A\n",
      "Action: emotion: 100%|████████████████████████████| 4/4 [00:00<00:00,  7.16it/s]\u001b[A\n",
      "\n",
      "Finding actions:   0%|                                    | 0/4 [00:00<?, ?it/s]\u001b[A\n",
      "Action: age:   0%|                                        | 0/4 [00:00<?, ?it/s]\u001b[A\n",
      "Action: age:  25%|████████                        | 1/4 [00:00<00:00,  5.50it/s]\u001b[A\n",
      "Action: gender:  25%|███████▎                     | 1/4 [00:00<00:00,  5.50it/s]\u001b[A\n",
      "Action: gender:  50%|██████████████▌              | 2/4 [00:00<00:00,  5.52it/s]\u001b[A\n",
      "Action: race:  50%|███████████████▌               | 2/4 [00:00<00:00,  5.52it/s]\u001b[A\n",
      "Action: race:  75%|███████████████████████▎       | 3/4 [00:00<00:00,  5.49it/s]\u001b[A\n",
      "Action: emotion: 100%|████████████████████████████| 4/4 [00:00<00:00,  7.13it/s]\u001b[A\n",
      "54it [00:38,  1.28it/s]"
     ]
    },
    {
     "name": "stdout",
     "output_type": "stream",
     "text": [
      "/Users/jessecoulter/Downloads/FIN377/CEOPersonalities-/matched_pictures/John T. Chambers/2014\n"
     ]
    },
    {
     "name": "stderr",
     "output_type": "stream",
     "text": [
      "\n",
      "Finding actions:   0%|                                    | 0/4 [00:00<?, ?it/s]\u001b[A\n",
      "Action: age:   0%|                                        | 0/4 [00:00<?, ?it/s]\u001b[A\n",
      "Action: age:  25%|████████                        | 1/4 [00:00<00:00,  5.77it/s]\u001b[A\n",
      "Action: gender:  25%|███████▎                     | 1/4 [00:00<00:00,  5.77it/s]\u001b[A\n",
      "Action: gender:  50%|██████████████▌              | 2/4 [00:00<00:00,  5.61it/s]\u001b[A\n",
      "Action: race:  50%|███████████████▌               | 2/4 [00:00<00:00,  5.61it/s]\u001b[A\n",
      "Action: race:  75%|███████████████████████▎       | 3/4 [00:00<00:00,  5.56it/s]\u001b[A\n",
      "Action: emotion: 100%|████████████████████████████| 4/4 [00:00<00:00,  7.25it/s]\u001b[A\n",
      "55it [00:39,  1.31it/s]"
     ]
    },
    {
     "name": "stdout",
     "output_type": "stream",
     "text": [
      "/Users/jessecoulter/Downloads/FIN377/CEOPersonalities-/matched_pictures/Chuck Robbins/2015\n"
     ]
    },
    {
     "name": "stderr",
     "output_type": "stream",
     "text": [
      "\n",
      "Finding actions:   0%|                                    | 0/4 [00:00<?, ?it/s]\u001b[A\n",
      "Action: age:   0%|                                        | 0/4 [00:00<?, ?it/s]\u001b[A\n",
      "Action: age:  25%|████████                        | 1/4 [00:00<00:00,  5.57it/s]\u001b[A\n",
      "Action: gender:  25%|███████▎                     | 1/4 [00:00<00:00,  5.57it/s]\u001b[A\n",
      "Action: gender:  50%|██████████████▌              | 2/4 [00:00<00:00,  5.44it/s]\u001b[A\n",
      "Action: race:  50%|███████████████▌               | 2/4 [00:00<00:00,  5.44it/s]\u001b[A\n",
      "Action: race:  75%|███████████████████████▎       | 3/4 [00:00<00:00,  5.48it/s]\u001b[A\n",
      "Action: emotion: 100%|████████████████████████████| 4/4 [00:00<00:00,  7.12it/s]\u001b[A\n",
      "56it [00:40,  1.26it/s]"
     ]
    },
    {
     "name": "stdout",
     "output_type": "stream",
     "text": [
      "/Users/jessecoulter/Downloads/FIN377/CEOPersonalities-/matched_pictures/Chuck Robbins/2016\n"
     ]
    },
    {
     "name": "stderr",
     "output_type": "stream",
     "text": [
      "\n",
      "Finding actions:   0%|                                    | 0/4 [00:00<?, ?it/s]\u001b[A\n",
      "Action: age:   0%|                                        | 0/4 [00:00<?, ?it/s]\u001b[A\n",
      "Action: age:  25%|████████                        | 1/4 [00:00<00:00,  5.62it/s]\u001b[A\n",
      "Action: gender:  25%|███████▎                     | 1/4 [00:00<00:00,  5.62it/s]\u001b[A\n",
      "Action: gender:  50%|██████████████▌              | 2/4 [00:00<00:00,  5.56it/s]\u001b[A\n",
      "Action: race:  50%|███████████████▌               | 2/4 [00:00<00:00,  5.56it/s]\u001b[A\n",
      "Action: race:  75%|███████████████████████▎       | 3/4 [00:00<00:00,  5.51it/s]\u001b[A\n",
      "Action: emotion: 100%|████████████████████████████| 4/4 [00:00<00:00,  7.18it/s]\u001b[A\n",
      "57it [00:40,  1.25it/s]"
     ]
    },
    {
     "name": "stdout",
     "output_type": "stream",
     "text": [
      "/Users/jessecoulter/Downloads/FIN377/CEOPersonalities-/matched_pictures/Chuck Robbins/2017\n"
     ]
    },
    {
     "name": "stderr",
     "output_type": "stream",
     "text": [
      "\n",
      "Finding actions:   0%|                                    | 0/4 [00:00<?, ?it/s]\u001b[A\n",
      "Action: age:   0%|                                        | 0/4 [00:00<?, ?it/s]\u001b[A\n",
      "Action: age:  25%|████████                        | 1/4 [00:00<00:00,  5.65it/s]\u001b[A\n",
      "Action: gender:  25%|███████▎                     | 1/4 [00:00<00:00,  5.65it/s]\u001b[A\n",
      "Action: gender:  50%|██████████████▌              | 2/4 [00:00<00:00,  5.62it/s]\u001b[A\n",
      "Action: race:  50%|███████████████▌               | 2/4 [00:00<00:00,  5.62it/s]\u001b[A\n",
      "Action: race:  75%|███████████████████████▎       | 3/4 [00:00<00:00,  5.59it/s]\u001b[A\n",
      "Action: emotion: 100%|████████████████████████████| 4/4 [00:00<00:00,  7.28it/s]\u001b[A\n",
      "58it [00:41,  1.33it/s]"
     ]
    },
    {
     "name": "stdout",
     "output_type": "stream",
     "text": [
      "/Users/jessecoulter/Downloads/FIN377/CEOPersonalities-/matched_pictures/Chuck Robbins/2018\n"
     ]
    },
    {
     "name": "stderr",
     "output_type": "stream",
     "text": [
      "\n",
      "Finding actions:   0%|                                    | 0/4 [00:00<?, ?it/s]\u001b[A\n",
      "Action: age:   0%|                                        | 0/4 [00:00<?, ?it/s]\u001b[A\n",
      "Action: age:  25%|████████                        | 1/4 [00:00<00:00,  5.59it/s]\u001b[A\n",
      "Action: gender:  25%|███████▎                     | 1/4 [00:00<00:00,  5.59it/s]\u001b[A\n",
      "Action: gender:  50%|██████████████▌              | 2/4 [00:00<00:00,  5.50it/s]\u001b[A\n",
      "Action: race:  50%|███████████████▌               | 2/4 [00:00<00:00,  5.50it/s]\u001b[A\n",
      "Action: race:  75%|███████████████████████▎       | 3/4 [00:00<00:00,  5.46it/s]\u001b[A\n",
      "Action: emotion: 100%|████████████████████████████| 4/4 [00:00<00:00,  7.12it/s]\u001b[A\n",
      "59it [00:42,  1.23it/s]"
     ]
    },
    {
     "name": "stdout",
     "output_type": "stream",
     "text": [
      "/Users/jessecoulter/Downloads/FIN377/CEOPersonalities-/matched_pictures/Chuck Robbins/2019\n"
     ]
    },
    {
     "name": "stderr",
     "output_type": "stream",
     "text": [
      "\n",
      "Finding actions:   0%|                                    | 0/4 [00:00<?, ?it/s]\u001b[A\n",
      "Action: age:   0%|                                        | 0/4 [00:00<?, ?it/s]\u001b[A\n",
      "Action: age:  25%|████████                        | 1/4 [00:00<00:00,  5.79it/s]\u001b[A\n",
      "Action: gender:  25%|███████▎                     | 1/4 [00:00<00:00,  5.79it/s]\u001b[A\n",
      "Action: gender:  50%|██████████████▌              | 2/4 [00:00<00:00,  5.61it/s]\u001b[A\n",
      "Action: race:  50%|███████████████▌               | 2/4 [00:00<00:00,  5.61it/s]\u001b[A\n",
      "Action: race:  75%|███████████████████████▎       | 3/4 [00:00<00:00,  5.48it/s]\u001b[A\n",
      "Action: emotion: 100%|████████████████████████████| 4/4 [00:00<00:00,  7.18it/s]\u001b[A\n",
      "60it [00:43,  1.29it/s]"
     ]
    },
    {
     "name": "stdout",
     "output_type": "stream",
     "text": [
      "/Users/jessecoulter/Downloads/FIN377/CEOPersonalities-/matched_pictures/Larry Ellison/2010\n"
     ]
    },
    {
     "name": "stderr",
     "output_type": "stream",
     "text": [
      "\n",
      "Finding actions:   0%|                                    | 0/4 [00:00<?, ?it/s]\u001b[A\n",
      "Action: age:   0%|                                        | 0/4 [00:00<?, ?it/s]\u001b[A\n",
      "Action: age:  25%|████████                        | 1/4 [00:00<00:00,  5.36it/s]\u001b[A\n",
      "Action: gender:  25%|███████▎                     | 1/4 [00:00<00:00,  5.36it/s]\u001b[A\n",
      "Action: gender:  50%|██████████████▌              | 2/4 [00:00<00:00,  5.10it/s]\u001b[A\n",
      "Action: race:  50%|███████████████▌               | 2/4 [00:00<00:00,  5.10it/s]\u001b[A\n",
      "Action: race:  75%|███████████████████████▎       | 3/4 [00:00<00:00,  5.31it/s]\u001b[A\n",
      "Action: emotion: 100%|████████████████████████████| 4/4 [00:00<00:00,  6.87it/s]\u001b[A\n",
      "61it [00:43,  1.38it/s]"
     ]
    },
    {
     "name": "stdout",
     "output_type": "stream",
     "text": [
      "/Users/jessecoulter/Downloads/FIN377/CEOPersonalities-/matched_pictures/Larry Ellison/2011\n"
     ]
    },
    {
     "name": "stderr",
     "output_type": "stream",
     "text": [
      "\n",
      "Finding actions:   0%|                                    | 0/4 [00:00<?, ?it/s]\u001b[A\n",
      "Action: age:   0%|                                        | 0/4 [00:00<?, ?it/s]\u001b[A\n",
      "Action: age:  25%|████████                        | 1/4 [00:00<00:00,  5.63it/s]\u001b[A\n",
      "Action: gender:  25%|███████▎                     | 1/4 [00:00<00:00,  5.63it/s]\u001b[A\n",
      "Action: gender:  50%|██████████████▌              | 2/4 [00:00<00:00,  5.52it/s]\u001b[A\n",
      "Action: race:  50%|███████████████▌               | 2/4 [00:00<00:00,  5.52it/s]\u001b[A\n",
      "Action: race:  75%|███████████████████████▎       | 3/4 [00:00<00:00,  5.44it/s]\u001b[A\n",
      "Action: emotion: 100%|████████████████████████████| 4/4 [00:00<00:00,  7.11it/s]\u001b[A\n",
      "62it [00:44,  1.28it/s]"
     ]
    },
    {
     "name": "stdout",
     "output_type": "stream",
     "text": [
      "/Users/jessecoulter/Downloads/FIN377/CEOPersonalities-/matched_pictures/Larry Ellison/2012\n"
     ]
    },
    {
     "name": "stderr",
     "output_type": "stream",
     "text": [
      "\n",
      "Finding actions:   0%|                                    | 0/4 [00:00<?, ?it/s]\u001b[A\n",
      "Action: age:   0%|                                        | 0/4 [00:00<?, ?it/s]\u001b[A\n",
      "Action: age:  25%|████████                        | 1/4 [00:00<00:00,  5.74it/s]\u001b[A\n",
      "Action: gender:  25%|███████▎                     | 1/4 [00:00<00:00,  5.74it/s]\u001b[A\n",
      "Action: gender:  50%|██████████████▌              | 2/4 [00:00<00:00,  5.34it/s]\u001b[A\n",
      "Action: race:  50%|███████████████▌               | 2/4 [00:00<00:00,  5.34it/s]\u001b[A\n",
      "Action: race:  75%|███████████████████████▎       | 3/4 [00:00<00:00,  5.32it/s]\u001b[A\n",
      "Action: emotion: 100%|████████████████████████████| 4/4 [00:00<00:00,  6.96it/s]\u001b[A\n",
      "63it [00:45,  1.36it/s]"
     ]
    },
    {
     "name": "stdout",
     "output_type": "stream",
     "text": [
      "/Users/jessecoulter/Downloads/FIN377/CEOPersonalities-/matched_pictures/Larry Ellison/2013\n"
     ]
    },
    {
     "name": "stderr",
     "output_type": "stream",
     "text": [
      "\n",
      "Finding actions:   0%|                                    | 0/4 [00:00<?, ?it/s]\u001b[A\n",
      "Action: age:   0%|                                        | 0/4 [00:00<?, ?it/s]\u001b[A\n",
      "Action: age:  25%|████████                        | 1/4 [00:00<00:00,  4.99it/s]\u001b[A\n",
      "Action: gender:  25%|███████▎                     | 1/4 [00:00<00:00,  4.99it/s]\u001b[A\n",
      "Action: gender:  50%|██████████████▌              | 2/4 [00:00<00:00,  5.22it/s]\u001b[A\n",
      "Action: race:  50%|███████████████▌               | 2/4 [00:00<00:00,  5.22it/s]\u001b[A\n",
      "Action: race:  75%|███████████████████████▎       | 3/4 [00:00<00:00,  5.32it/s]\u001b[A\n",
      "Action: emotion: 100%|████████████████████████████| 4/4 [00:00<00:00,  6.85it/s]\u001b[A\n",
      "64it [00:46,  1.37it/s]"
     ]
    },
    {
     "name": "stdout",
     "output_type": "stream",
     "text": [
      "/Users/jessecoulter/Downloads/FIN377/CEOPersonalities-/matched_pictures/Safra Catz & Mark Hurd/2014\n"
     ]
    },
    {
     "name": "stderr",
     "output_type": "stream",
     "text": [
      "\n",
      "Finding actions:   0%|                                    | 0/4 [00:00<?, ?it/s]\u001b[A\n",
      "Action: age:   0%|                                        | 0/4 [00:00<?, ?it/s]\u001b[A\n",
      "Action: age:  25%|████████                        | 1/4 [00:00<00:00,  5.59it/s]\u001b[A\n",
      "Action: gender:  25%|███████▎                     | 1/4 [00:00<00:00,  5.59it/s]\u001b[A\n",
      "Action: gender:  50%|██████████████▌              | 2/4 [00:00<00:00,  5.43it/s]\u001b[A\n",
      "Action: race:  50%|███████████████▌               | 2/4 [00:00<00:00,  5.43it/s]\u001b[A\n",
      "Action: race:  75%|███████████████████████▎       | 3/4 [00:00<00:00,  5.51it/s]\u001b[A\n",
      "Action: emotion: 100%|████████████████████████████| 4/4 [00:00<00:00,  7.15it/s]\u001b[A\n",
      "65it [00:46,  1.44it/s]"
     ]
    },
    {
     "name": "stdout",
     "output_type": "stream",
     "text": [
      "/Users/jessecoulter/Downloads/FIN377/CEOPersonalities-/matched_pictures/Safra Catz & Mark Hurd/2015\n"
     ]
    },
    {
     "name": "stderr",
     "output_type": "stream",
     "text": [
      "\n",
      "Finding actions:   0%|                                    | 0/4 [00:00<?, ?it/s]\u001b[A\n",
      "Action: age:   0%|                                        | 0/4 [00:00<?, ?it/s]\u001b[A\n",
      "Action: age:  25%|████████                        | 1/4 [00:00<00:00,  5.68it/s]\u001b[A\n",
      "Action: gender:  25%|███████▎                     | 1/4 [00:00<00:00,  5.68it/s]\u001b[A\n",
      "Action: gender:  50%|██████████████▌              | 2/4 [00:00<00:00,  5.53it/s]\u001b[A\n",
      "Action: race:  50%|███████████████▌               | 2/4 [00:00<00:00,  5.53it/s]\u001b[A\n",
      "Action: race:  75%|███████████████████████▎       | 3/4 [00:00<00:00,  5.49it/s]\u001b[A\n",
      "Action: emotion: 100%|████████████████████████████| 4/4 [00:00<00:00,  7.15it/s]\u001b[A\n",
      "\n",
      "Finding actions:   0%|                                    | 0/4 [00:00<?, ?it/s]\u001b[A\n",
      "Action: age:   0%|                                        | 0/4 [00:00<?, ?it/s]\u001b[A\n",
      "Action: age:  25%|████████                        | 1/4 [00:00<00:00,  5.50it/s]\u001b[A\n",
      "Action: gender:  25%|███████▎                     | 1/4 [00:00<00:00,  5.50it/s]\u001b[A\n",
      "Action: gender:  50%|██████████████▌              | 2/4 [00:00<00:00,  5.37it/s]\u001b[A\n",
      "Action: race:  50%|███████████████▌               | 2/4 [00:00<00:00,  5.37it/s]\u001b[A\n",
      "Action: race:  75%|███████████████████████▎       | 3/4 [00:00<00:00,  5.41it/s]\u001b[A\n",
      "Action: emotion: 100%|████████████████████████████| 4/4 [00:00<00:00,  7.03it/s]\u001b[A\n",
      "66it [00:47,  1.16it/s]"
     ]
    },
    {
     "name": "stdout",
     "output_type": "stream",
     "text": [
      "/Users/jessecoulter/Downloads/FIN377/CEOPersonalities-/matched_pictures/Safra Catz & Mark Hurd/2016\n"
     ]
    },
    {
     "name": "stderr",
     "output_type": "stream",
     "text": [
      "\n",
      "Finding actions:   0%|                                    | 0/4 [00:00<?, ?it/s]\u001b[A\n",
      "Action: age:   0%|                                        | 0/4 [00:00<?, ?it/s]\u001b[A\n",
      "Action: age:  25%|████████                        | 1/4 [00:00<00:00,  5.57it/s]\u001b[A\n",
      "Action: gender:  25%|███████▎                     | 1/4 [00:00<00:00,  5.57it/s]\u001b[A\n",
      "Action: gender:  50%|██████████████▌              | 2/4 [00:00<00:00,  5.50it/s]\u001b[A\n",
      "Action: race:  50%|███████████████▌               | 2/4 [00:00<00:00,  5.50it/s]\u001b[A\n",
      "Action: race:  75%|███████████████████████▎       | 3/4 [00:00<00:00,  5.49it/s]\u001b[A\n",
      "Action: emotion: 100%|████████████████████████████| 4/4 [00:00<00:00,  7.15it/s]\u001b[A\n",
      "67it [00:48,  1.27it/s]"
     ]
    },
    {
     "name": "stdout",
     "output_type": "stream",
     "text": [
      "/Users/jessecoulter/Downloads/FIN377/CEOPersonalities-/matched_pictures/Safra Catz & Mark Hurd/2017\n"
     ]
    },
    {
     "name": "stderr",
     "output_type": "stream",
     "text": [
      "\n",
      "Finding actions:   0%|                                    | 0/4 [00:00<?, ?it/s]\u001b[A\n",
      "Action: age:   0%|                                        | 0/4 [00:00<?, ?it/s]\u001b[A\n",
      "Action: age:  25%|████████                        | 1/4 [00:00<00:00,  5.50it/s]\u001b[A\n",
      "Action: gender:  25%|███████▎                     | 1/4 [00:00<00:00,  5.50it/s]\u001b[A\n",
      "Action: gender:  50%|██████████████▌              | 2/4 [00:00<00:00,  5.41it/s]\u001b[A\n",
      "Action: race:  50%|███████████████▌               | 2/4 [00:00<00:00,  5.41it/s]\u001b[A\n",
      "Action: race:  75%|███████████████████████▎       | 3/4 [00:00<00:00,  5.46it/s]\u001b[A\n",
      "Action: emotion: 100%|████████████████████████████| 4/4 [00:00<00:00,  7.08it/s]\u001b[A\n",
      "68it [00:49,  1.34it/s]"
     ]
    },
    {
     "name": "stdout",
     "output_type": "stream",
     "text": [
      "/Users/jessecoulter/Downloads/FIN377/CEOPersonalities-/matched_pictures/Safra Catz & Mark Hurd/2018\n"
     ]
    },
    {
     "name": "stderr",
     "output_type": "stream",
     "text": [
      "\n",
      "Finding actions:   0%|                                    | 0/4 [00:00<?, ?it/s]\u001b[A\n",
      "Action: age:   0%|                                        | 0/4 [00:00<?, ?it/s]\u001b[A\n",
      "Action: age:  25%|████████                        | 1/4 [00:00<00:00,  5.53it/s]\u001b[A\n",
      "Action: gender:  25%|███████▎                     | 1/4 [00:00<00:00,  5.53it/s]\u001b[A\n",
      "Action: gender:  50%|██████████████▌              | 2/4 [00:00<00:00,  5.47it/s]\u001b[A\n",
      "Action: race:  50%|███████████████▌               | 2/4 [00:00<00:00,  5.47it/s]\u001b[A\n",
      "Action: race:  75%|███████████████████████▎       | 3/4 [00:00<00:00,  5.47it/s]\u001b[A\n",
      "Action: emotion: 100%|████████████████████████████| 4/4 [00:00<00:00,  7.11it/s]\u001b[A\n",
      "69it [00:49,  1.40it/s]"
     ]
    },
    {
     "name": "stdout",
     "output_type": "stream",
     "text": [
      "/Users/jessecoulter/Downloads/FIN377/CEOPersonalities-/matched_pictures/Safra Catz & Mark Hurd/2019\n",
      "Error analyzing /Users/jessecoulter/Downloads/FIN377/CEOPersonalities-/matched_pictures/Safra Catz & Mark Hurd/2019/pic3.jpg: Face could not be detected in /Users/jessecoulter/Downloads/FIN377/CEOPersonalities-/matched_pictures/Safra Catz & Mark Hurd/2019/pic3.jpg.Please confirm that the picture is a face photo or consider to set enforce_detection param to False.\n",
      "/Users/jessecoulter/Downloads/FIN377/CEOPersonalities-/matched_pictures/Marc Benioff/2010\n"
     ]
    },
    {
     "name": "stderr",
     "output_type": "stream",
     "text": [
      "\n",
      "Finding actions:   0%|                                    | 0/4 [00:00<?, ?it/s]\u001b[A\n",
      "Action: age:   0%|                                        | 0/4 [00:00<?, ?it/s]\u001b[A\n",
      "Action: age:  25%|████████                        | 1/4 [00:00<00:00,  5.62it/s]\u001b[A\n",
      "Action: gender:  25%|███████▎                     | 1/4 [00:00<00:00,  5.62it/s]\u001b[A\n",
      "Action: gender:  50%|██████████████▌              | 2/4 [00:00<00:00,  5.54it/s]\u001b[A\n",
      "Action: race:  50%|███████████████▌               | 2/4 [00:00<00:00,  5.54it/s]\u001b[A\n",
      "Action: race:  75%|███████████████████████▎       | 3/4 [00:00<00:00,  5.52it/s]\u001b[A\n",
      "Action: emotion: 100%|████████████████████████████| 4/4 [00:00<00:00,  7.19it/s]\u001b[A\n",
      "71it [00:50,  1.90it/s]"
     ]
    },
    {
     "name": "stdout",
     "output_type": "stream",
     "text": [
      "/Users/jessecoulter/Downloads/FIN377/CEOPersonalities-/matched_pictures/Marc Benioff/2011\n"
     ]
    },
    {
     "name": "stderr",
     "output_type": "stream",
     "text": [
      "\n",
      "Finding actions:   0%|                                    | 0/4 [00:00<?, ?it/s]\u001b[A\n",
      "Action: age:   0%|                                        | 0/4 [00:00<?, ?it/s]\u001b[A\n",
      "Action: age:  25%|████████                        | 1/4 [00:00<00:00,  5.54it/s]\u001b[A\n",
      "Action: gender:  25%|███████▎                     | 1/4 [00:00<00:00,  5.54it/s]\u001b[A\n",
      "Action: gender:  50%|██████████████▌              | 2/4 [00:00<00:00,  5.47it/s]\u001b[A\n",
      "Action: race:  50%|███████████████▌               | 2/4 [00:00<00:00,  5.47it/s]\u001b[A\n",
      "Action: race:  75%|███████████████████████▎       | 3/4 [00:00<00:00,  5.39it/s]\u001b[A\n",
      "Action: emotion: 100%|████████████████████████████| 4/4 [00:00<00:00,  7.05it/s]\u001b[A\n",
      "\n",
      "Finding actions:   0%|                                    | 0/4 [00:00<?, ?it/s]\u001b[A\n",
      "Action: age:   0%|                                        | 0/4 [00:00<?, ?it/s]\u001b[A\n",
      "Action: age:  25%|████████                        | 1/4 [00:00<00:00,  5.47it/s]\u001b[A\n",
      "Action: gender:  25%|███████▎                     | 1/4 [00:00<00:00,  5.47it/s]\u001b[A\n",
      "Action: gender:  50%|██████████████▌              | 2/4 [00:00<00:00,  5.37it/s]\u001b[A\n",
      "Action: race:  50%|███████████████▌               | 2/4 [00:00<00:00,  5.37it/s]\u001b[A\n",
      "Action: race:  75%|███████████████████████▎       | 3/4 [00:00<00:00,  5.42it/s]\u001b[A\n",
      "Action: emotion: 100%|████████████████████████████| 4/4 [00:00<00:00,  7.05it/s]\u001b[A\n",
      "72it [00:51,  1.33it/s]"
     ]
    },
    {
     "name": "stdout",
     "output_type": "stream",
     "text": [
      "/Users/jessecoulter/Downloads/FIN377/CEOPersonalities-/matched_pictures/Marc Benioff/2012\n"
     ]
    },
    {
     "name": "stderr",
     "output_type": "stream",
     "text": [
      "\n",
      "Finding actions:   0%|                                    | 0/4 [00:00<?, ?it/s]\u001b[A\n",
      "Action: age:   0%|                                        | 0/4 [00:00<?, ?it/s]\u001b[A\n",
      "Action: age:  25%|████████                        | 1/4 [00:00<00:00,  5.45it/s]\u001b[A\n",
      "Action: gender:  25%|███████▎                     | 1/4 [00:00<00:00,  5.45it/s]\u001b[A\n",
      "Action: gender:  50%|██████████████▌              | 2/4 [00:00<00:00,  5.34it/s]\u001b[A\n",
      "Action: race:  50%|███████████████▌               | 2/4 [00:00<00:00,  5.34it/s]\u001b[A\n",
      "Action: race:  75%|███████████████████████▎       | 3/4 [00:00<00:00,  5.25it/s]\u001b[A\n",
      "Action: emotion: 100%|████████████████████████████| 4/4 [00:00<00:00,  6.86it/s]\u001b[A\n",
      "73it [00:52,  1.39it/s]"
     ]
    },
    {
     "name": "stdout",
     "output_type": "stream",
     "text": [
      "/Users/jessecoulter/Downloads/FIN377/CEOPersonalities-/matched_pictures/Marc Benioff/2013\n"
     ]
    },
    {
     "name": "stderr",
     "output_type": "stream",
     "text": [
      "\n",
      "Finding actions:   0%|                                    | 0/4 [00:00<?, ?it/s]\u001b[A\n",
      "Action: age:   0%|                                        | 0/4 [00:00<?, ?it/s]\u001b[A\n",
      "Action: age:  25%|████████                        | 1/4 [00:00<00:00,  5.23it/s]\u001b[A\n",
      "Action: gender:  25%|███████▎                     | 1/4 [00:00<00:00,  5.23it/s]\u001b[A\n",
      "Action: gender:  50%|██████████████▌              | 2/4 [00:00<00:00,  5.27it/s]\u001b[A\n",
      "Action: race:  50%|███████████████▌               | 2/4 [00:00<00:00,  5.27it/s]\u001b[A\n",
      "Action: race:  75%|███████████████████████▎       | 3/4 [00:00<00:00,  4.97it/s]\u001b[A\n",
      "Action: emotion: 100%|████████████████████████████| 4/4 [00:00<00:00,  6.57it/s]\u001b[A\n",
      "74it [00:53,  1.42it/s]"
     ]
    },
    {
     "name": "stdout",
     "output_type": "stream",
     "text": [
      "/Users/jessecoulter/Downloads/FIN377/CEOPersonalities-/matched_pictures/Marc Benioff/2014\n"
     ]
    },
    {
     "name": "stderr",
     "output_type": "stream",
     "text": [
      "\n",
      "Finding actions:   0%|                                    | 0/4 [00:00<?, ?it/s]\u001b[A\n",
      "Action: age:   0%|                                        | 0/4 [00:00<?, ?it/s]\u001b[A\n",
      "Action: age:  25%|████████                        | 1/4 [00:00<00:00,  5.37it/s]\u001b[A\n",
      "Action: gender:  25%|███████▎                     | 1/4 [00:00<00:00,  5.37it/s]\u001b[A\n",
      "Action: gender:  50%|██████████████▌              | 2/4 [00:00<00:00,  5.39it/s]\u001b[A\n",
      "Action: race:  50%|███████████████▌               | 2/4 [00:00<00:00,  5.39it/s]\u001b[A\n",
      "Action: race:  75%|███████████████████████▎       | 3/4 [00:00<00:00,  5.33it/s]\u001b[A\n",
      "Action: emotion: 100%|████████████████████████████| 4/4 [00:00<00:00,  6.91it/s]\u001b[A\n",
      "75it [00:53,  1.46it/s]"
     ]
    },
    {
     "name": "stdout",
     "output_type": "stream",
     "text": [
      "/Users/jessecoulter/Downloads/FIN377/CEOPersonalities-/matched_pictures/Marc Benioff/2015\n"
     ]
    },
    {
     "name": "stderr",
     "output_type": "stream",
     "text": [
      "\n",
      "Finding actions:   0%|                                    | 0/4 [00:00<?, ?it/s]\u001b[A\n",
      "Action: age:   0%|                                        | 0/4 [00:00<?, ?it/s]\u001b[A\n",
      "Action: age:  25%|████████                        | 1/4 [00:00<00:00,  5.18it/s]\u001b[A\n",
      "Action: gender:  25%|███████▎                     | 1/4 [00:00<00:00,  5.18it/s]\u001b[A\n",
      "Action: gender:  50%|██████████████▌              | 2/4 [00:00<00:00,  5.12it/s]\u001b[A\n",
      "Action: race:  50%|███████████████▌               | 2/4 [00:00<00:00,  5.12it/s]\u001b[A\n",
      "Action: race:  75%|███████████████████████▎       | 3/4 [00:00<00:00,  4.77it/s]\u001b[A\n",
      "Action: emotion: 100%|████████████████████████████| 4/4 [00:00<00:00,  6.33it/s]\u001b[A\n",
      "76it [00:54,  1.44it/s]"
     ]
    },
    {
     "name": "stdout",
     "output_type": "stream",
     "text": [
      "/Users/jessecoulter/Downloads/FIN377/CEOPersonalities-/matched_pictures/Marc Benioff/2016\n",
      "Error analyzing /Users/jessecoulter/Downloads/FIN377/CEOPersonalities-/matched_pictures/Marc Benioff/2016/pic3.png: Face could not be detected in /Users/jessecoulter/Downloads/FIN377/CEOPersonalities-/matched_pictures/Marc Benioff/2016/pic3.png.Please confirm that the picture is a face photo or consider to set enforce_detection param to False.\n",
      "/Users/jessecoulter/Downloads/FIN377/CEOPersonalities-/matched_pictures/Marc Benioff/2017\n"
     ]
    },
    {
     "name": "stderr",
     "output_type": "stream",
     "text": [
      "\n",
      "Finding actions:   0%|                                    | 0/4 [00:00<?, ?it/s]\u001b[A\n",
      "Action: age:   0%|                                        | 0/4 [00:00<?, ?it/s]\u001b[A\n",
      "Action: age:  25%|████████                        | 1/4 [00:00<00:00,  5.38it/s]\u001b[A\n",
      "Action: gender:  25%|███████▎                     | 1/4 [00:00<00:00,  5.38it/s]\u001b[A\n",
      "Action: gender:  50%|██████████████▌              | 2/4 [00:00<00:00,  5.17it/s]\u001b[A\n",
      "Action: race:  50%|███████████████▌               | 2/4 [00:00<00:00,  5.17it/s]\u001b[A\n",
      "Action: race:  75%|███████████████████████▎       | 3/4 [00:00<00:00,  5.26it/s]\u001b[A\n",
      "Action: emotion: 100%|████████████████████████████| 4/4 [00:00<00:00,  6.84it/s]\u001b[A\n",
      "78it [00:55,  1.67it/s]"
     ]
    },
    {
     "name": "stdout",
     "output_type": "stream",
     "text": [
      "/Users/jessecoulter/Downloads/FIN377/CEOPersonalities-/matched_pictures/Marc Benioff/2018\n"
     ]
    },
    {
     "name": "stderr",
     "output_type": "stream",
     "text": [
      "\n",
      "Finding actions:   0%|                                    | 0/4 [00:00<?, ?it/s]\u001b[A\n",
      "Action: age:   0%|                                        | 0/4 [00:00<?, ?it/s]\u001b[A\n",
      "Action: age:  25%|████████                        | 1/4 [00:00<00:00,  5.54it/s]\u001b[A\n",
      "Action: gender:  25%|███████▎                     | 1/4 [00:00<00:00,  5.54it/s]\u001b[A\n",
      "Action: gender:  50%|██████████████▌              | 2/4 [00:00<00:00,  5.43it/s]\u001b[A\n",
      "Action: race:  50%|███████████████▌               | 2/4 [00:00<00:00,  5.43it/s]\u001b[A\n",
      "Action: race:  75%|███████████████████████▎       | 3/4 [00:00<00:00,  5.43it/s]\u001b[A\n",
      "Action: emotion: 100%|████████████████████████████| 4/4 [00:00<00:00,  7.07it/s]\u001b[A\n",
      "79it [00:56,  1.64it/s]"
     ]
    },
    {
     "name": "stdout",
     "output_type": "stream",
     "text": [
      "/Users/jessecoulter/Downloads/FIN377/CEOPersonalities-/matched_pictures/Marc Benioff/2019\n"
     ]
    },
    {
     "name": "stderr",
     "output_type": "stream",
     "text": [
      "\n",
      "Finding actions:   0%|                                    | 0/4 [00:00<?, ?it/s]\u001b[A\n",
      "Action: age:   0%|                                        | 0/4 [00:00<?, ?it/s]\u001b[A\n",
      "Action: age:  25%|████████                        | 1/4 [00:00<00:00,  5.69it/s]\u001b[A\n",
      "Action: gender:  25%|███████▎                     | 1/4 [00:00<00:00,  5.69it/s]\u001b[A\n",
      "Action: gender:  50%|██████████████▌              | 2/4 [00:00<00:00,  5.51it/s]\u001b[A\n",
      "Action: race:  50%|███████████████▌               | 2/4 [00:00<00:00,  5.51it/s]\u001b[A\n",
      "Action: race:  75%|███████████████████████▎       | 3/4 [00:00<00:00,  5.41it/s]\u001b[A\n",
      "Action: emotion: 100%|████████████████████████████| 4/4 [00:00<00:00,  7.07it/s]\u001b[A\n",
      "80it [00:56,  1.65it/s]"
     ]
    },
    {
     "name": "stdout",
     "output_type": "stream",
     "text": [
      "/Users/jessecoulter/Downloads/FIN377/CEOPersonalities-/matched_pictures/Paul Otellini/2010\n"
     ]
    },
    {
     "name": "stderr",
     "output_type": "stream",
     "text": [
      "\n",
      "Finding actions:   0%|                                    | 0/4 [00:00<?, ?it/s]\u001b[A\n",
      "Action: age:   0%|                                        | 0/4 [00:00<?, ?it/s]\u001b[A\n",
      "Action: age:  25%|████████                        | 1/4 [00:00<00:00,  5.58it/s]\u001b[A\n",
      "Action: gender:  25%|███████▎                     | 1/4 [00:00<00:00,  5.58it/s]\u001b[A\n",
      "Action: gender:  50%|██████████████▌              | 2/4 [00:00<00:00,  5.53it/s]\u001b[A\n",
      "Action: race:  50%|███████████████▌               | 2/4 [00:00<00:00,  5.53it/s]\u001b[A\n",
      "Action: race:  75%|███████████████████████▎       | 3/4 [00:00<00:00,  5.42it/s]\u001b[A\n",
      "Action: emotion: 100%|████████████████████████████| 4/4 [00:00<00:00,  7.06it/s]\u001b[A\n",
      "81it [00:57,  1.64it/s]"
     ]
    },
    {
     "name": "stdout",
     "output_type": "stream",
     "text": [
      "/Users/jessecoulter/Downloads/FIN377/CEOPersonalities-/matched_pictures/Paul Otellini/2011\n"
     ]
    },
    {
     "name": "stderr",
     "output_type": "stream",
     "text": [
      "\n",
      "Finding actions:   0%|                                    | 0/4 [00:00<?, ?it/s]\u001b[A\n",
      "Action: age:   0%|                                        | 0/4 [00:00<?, ?it/s]\u001b[A\n",
      "Action: age:  25%|████████                        | 1/4 [00:00<00:00,  5.43it/s]\u001b[A\n",
      "Action: gender:  25%|███████▎                     | 1/4 [00:00<00:00,  5.43it/s]\u001b[A\n",
      "Action: gender:  50%|██████████████▌              | 2/4 [00:00<00:00,  5.41it/s]\u001b[A\n",
      "Action: race:  50%|███████████████▌               | 2/4 [00:00<00:00,  5.41it/s]\u001b[A\n",
      "Action: race:  75%|███████████████████████▎       | 3/4 [00:00<00:00,  5.45it/s]\u001b[A\n",
      "Action: emotion: 100%|████████████████████████████| 4/4 [00:00<00:00,  7.07it/s]\u001b[A\n",
      "\n",
      "Finding actions:   0%|                                    | 0/4 [00:00<?, ?it/s]\u001b[A\n",
      "Action: age:   0%|                                        | 0/4 [00:00<?, ?it/s]\u001b[A\n",
      "Action: age:  25%|████████                        | 1/4 [00:00<00:00,  5.48it/s]\u001b[A\n",
      "Action: gender:  25%|███████▎                     | 1/4 [00:00<00:00,  5.48it/s]\u001b[A\n",
      "Action: gender:  50%|██████████████▌              | 2/4 [00:00<00:00,  5.46it/s]\u001b[A\n",
      "Action: race:  50%|███████████████▌               | 2/4 [00:00<00:00,  5.46it/s]\u001b[A\n",
      "Action: race:  75%|███████████████████████▎       | 3/4 [00:00<00:00,  5.32it/s]\u001b[A\n",
      "Action: emotion: 100%|████████████████████████████| 4/4 [00:00<00:00,  6.97it/s]\u001b[A\n",
      "82it [00:58,  1.31it/s]"
     ]
    },
    {
     "name": "stdout",
     "output_type": "stream",
     "text": [
      "/Users/jessecoulter/Downloads/FIN377/CEOPersonalities-/matched_pictures/Paul Otellini/2012\n"
     ]
    },
    {
     "name": "stderr",
     "output_type": "stream",
     "text": [
      "\n",
      "Finding actions:   0%|                                    | 0/4 [00:00<?, ?it/s]\u001b[A\n",
      "Action: age:   0%|                                        | 0/4 [00:00<?, ?it/s]\u001b[A\n",
      "Action: age:  25%|████████                        | 1/4 [00:00<00:00,  5.59it/s]\u001b[A\n",
      "Action: gender:  25%|███████▎                     | 1/4 [00:00<00:00,  5.59it/s]\u001b[A\n",
      "Action: gender:  50%|██████████████▌              | 2/4 [00:00<00:00,  5.38it/s]\u001b[A\n",
      "Action: race:  50%|███████████████▌               | 2/4 [00:00<00:00,  5.38it/s]\u001b[A\n",
      "Action: race:  75%|███████████████████████▎       | 3/4 [00:00<00:00,  5.39it/s]\u001b[A\n",
      "Action: emotion: 100%|████████████████████████████| 4/4 [00:00<00:00,  7.03it/s]\u001b[A\n",
      "83it [00:59,  1.33it/s]"
     ]
    },
    {
     "name": "stdout",
     "output_type": "stream",
     "text": [
      "/Users/jessecoulter/Downloads/FIN377/CEOPersonalities-/matched_pictures/Brian Krzanich/2013\n"
     ]
    },
    {
     "name": "stderr",
     "output_type": "stream",
     "text": [
      "\n",
      "Finding actions:   0%|                                    | 0/4 [00:00<?, ?it/s]\u001b[A\n",
      "Action: age:   0%|                                        | 0/4 [00:00<?, ?it/s]\u001b[A\n",
      "Action: age:  25%|████████                        | 1/4 [00:00<00:00,  5.54it/s]\u001b[A\n",
      "Action: gender:  25%|███████▎                     | 1/4 [00:00<00:00,  5.54it/s]\u001b[A\n",
      "Action: gender:  50%|██████████████▌              | 2/4 [00:00<00:00,  5.42it/s]\u001b[A\n",
      "Action: race:  50%|███████████████▌               | 2/4 [00:00<00:00,  5.42it/s]\u001b[A\n",
      "Action: race:  75%|███████████████████████▎       | 3/4 [00:00<00:00,  5.48it/s]\u001b[A\n",
      "Action: emotion: 100%|████████████████████████████| 4/4 [00:00<00:00,  7.11it/s]\u001b[A\n",
      "\n",
      "Finding actions:   0%|                                    | 0/4 [00:00<?, ?it/s]\u001b[A\n",
      "Action: age:   0%|                                        | 0/4 [00:00<?, ?it/s]\u001b[A\n",
      "Action: age:  25%|████████                        | 1/4 [00:00<00:00,  5.46it/s]\u001b[A\n",
      "Action: gender:  25%|███████▎                     | 1/4 [00:00<00:00,  5.46it/s]\u001b[A\n",
      "Action: gender:  50%|██████████████▌              | 2/4 [00:00<00:00,  5.42it/s]\u001b[A\n",
      "Action: race:  50%|███████████████▌               | 2/4 [00:00<00:00,  5.42it/s]\u001b[A\n",
      "Action: race:  75%|███████████████████████▎       | 3/4 [00:00<00:00,  5.43it/s]\u001b[A\n",
      "Action: emotion: 100%|████████████████████████████| 4/4 [00:00<00:00,  7.06it/s]\u001b[A\n",
      "84it [01:00,  1.12it/s]"
     ]
    },
    {
     "name": "stdout",
     "output_type": "stream",
     "text": [
      "/Users/jessecoulter/Downloads/FIN377/CEOPersonalities-/matched_pictures/Brian Krzanich/2014\n"
     ]
    },
    {
     "name": "stderr",
     "output_type": "stream",
     "text": [
      "\n",
      "Finding actions:   0%|                                    | 0/4 [00:00<?, ?it/s]\u001b[A\n",
      "Action: age:   0%|                                        | 0/4 [00:00<?, ?it/s]\u001b[A\n",
      "Action: age:  25%|████████                        | 1/4 [00:00<00:00,  5.51it/s]\u001b[A\n",
      "Action: gender:  25%|███████▎                     | 1/4 [00:00<00:00,  5.51it/s]\u001b[A\n",
      "Action: gender:  50%|██████████████▌              | 2/4 [00:00<00:00,  5.46it/s]\u001b[A\n",
      "Action: race:  50%|███████████████▌               | 2/4 [00:00<00:00,  5.46it/s]\u001b[A\n",
      "Action: race:  75%|███████████████████████▎       | 3/4 [00:00<00:00,  5.47it/s]\u001b[A\n",
      "Action: emotion: 100%|████████████████████████████| 4/4 [00:00<00:00,  7.12it/s]\u001b[A\n",
      "85it [01:01,  1.14it/s]"
     ]
    },
    {
     "name": "stdout",
     "output_type": "stream",
     "text": [
      "/Users/jessecoulter/Downloads/FIN377/CEOPersonalities-/matched_pictures/Brian Krzanich/2015\n"
     ]
    },
    {
     "name": "stderr",
     "output_type": "stream",
     "text": [
      "\n",
      "Finding actions:   0%|                                    | 0/4 [00:00<?, ?it/s]\u001b[A\n",
      "Action: age:   0%|                                        | 0/4 [00:00<?, ?it/s]\u001b[A\n",
      "Action: age:  25%|████████                        | 1/4 [00:00<00:00,  5.42it/s]\u001b[A\n",
      "Action: gender:  25%|███████▎                     | 1/4 [00:00<00:00,  5.42it/s]\u001b[A\n",
      "Action: gender:  50%|██████████████▌              | 2/4 [00:00<00:00,  5.44it/s]\u001b[A\n",
      "Action: race:  50%|███████████████▌               | 2/4 [00:00<00:00,  5.44it/s]\u001b[A\n",
      "Action: race:  75%|███████████████████████▎       | 3/4 [00:00<00:00,  5.46it/s]\u001b[A\n",
      "Action: emotion: 100%|████████████████████████████| 4/4 [00:00<00:00,  7.09it/s]\u001b[A\n",
      "86it [01:01,  1.25it/s]"
     ]
    },
    {
     "name": "stdout",
     "output_type": "stream",
     "text": [
      "/Users/jessecoulter/Downloads/FIN377/CEOPersonalities-/matched_pictures/Brian Krzanich/2016\n"
     ]
    },
    {
     "name": "stderr",
     "output_type": "stream",
     "text": [
      "\n",
      "Finding actions:   0%|                                    | 0/4 [00:00<?, ?it/s]\u001b[A\n",
      "Action: age:   0%|                                        | 0/4 [00:00<?, ?it/s]\u001b[A\n",
      "Action: age:  25%|████████                        | 1/4 [00:00<00:00,  5.59it/s]\u001b[A\n",
      "Action: gender:  25%|███████▎                     | 1/4 [00:00<00:00,  5.59it/s]\u001b[A\n",
      "Action: gender:  50%|██████████████▌              | 2/4 [00:00<00:00,  5.56it/s]\u001b[A\n",
      "Action: race:  50%|███████████████▌               | 2/4 [00:00<00:00,  5.56it/s]\u001b[A\n",
      "Action: race:  75%|███████████████████████▎       | 3/4 [00:00<00:00,  5.49it/s]\u001b[A\n",
      "Action: emotion: 100%|████████████████████████████| 4/4 [00:00<00:00,  7.16it/s]\u001b[A\n",
      "87it [01:02,  1.32it/s]"
     ]
    },
    {
     "name": "stdout",
     "output_type": "stream",
     "text": [
      "/Users/jessecoulter/Downloads/FIN377/CEOPersonalities-/matched_pictures/Brian Krzanich/2017\n"
     ]
    },
    {
     "name": "stderr",
     "output_type": "stream",
     "text": [
      "\n",
      "Finding actions:   0%|                                    | 0/4 [00:00<?, ?it/s]\u001b[A\n",
      "Action: age:   0%|                                        | 0/4 [00:00<?, ?it/s]\u001b[A\n",
      "Action: age:  25%|████████                        | 1/4 [00:00<00:00,  5.58it/s]\u001b[A\n",
      "Action: gender:  25%|███████▎                     | 1/4 [00:00<00:00,  5.58it/s]\u001b[A\n",
      "Action: gender:  50%|██████████████▌              | 2/4 [00:00<00:00,  5.47it/s]\u001b[A\n",
      "Action: race:  50%|███████████████▌               | 2/4 [00:00<00:00,  5.47it/s]\u001b[A\n",
      "Action: race:  75%|███████████████████████▎       | 3/4 [00:00<00:00,  5.42it/s]\u001b[A\n",
      "Action: emotion: 100%|████████████████████████████| 4/4 [00:00<00:00,  7.07it/s]\u001b[A\n",
      "88it [01:03,  1.26it/s]"
     ]
    },
    {
     "name": "stdout",
     "output_type": "stream",
     "text": [
      "/Users/jessecoulter/Downloads/FIN377/CEOPersonalities-/matched_pictures/Bob Swan/2018\n"
     ]
    },
    {
     "name": "stderr",
     "output_type": "stream",
     "text": [
      "\n",
      "Finding actions:   0%|                                    | 0/4 [00:00<?, ?it/s]\u001b[A\n",
      "Action: age:   0%|                                        | 0/4 [00:00<?, ?it/s]\u001b[A\n",
      "Action: age:  25%|████████                        | 1/4 [00:00<00:00,  5.68it/s]\u001b[A\n",
      "Action: gender:  25%|███████▎                     | 1/4 [00:00<00:00,  5.68it/s]\u001b[A\n",
      "Action: gender:  50%|██████████████▌              | 2/4 [00:00<00:00,  5.54it/s]\u001b[A\n",
      "Action: race:  50%|███████████████▌               | 2/4 [00:00<00:00,  5.54it/s]\u001b[A\n",
      "Action: race:  75%|███████████████████████▎       | 3/4 [00:00<00:00,  5.50it/s]\u001b[A\n",
      "Action: emotion: 100%|████████████████████████████| 4/4 [00:00<00:00,  7.17it/s]\u001b[A\n",
      "\n",
      "Finding actions:   0%|                                    | 0/4 [00:00<?, ?it/s]\u001b[A\n",
      "Action: age:   0%|                                        | 0/4 [00:00<?, ?it/s]\u001b[A\n",
      "Action: age:  25%|████████                        | 1/4 [00:00<00:00,  5.54it/s]\u001b[A\n",
      "Action: gender:  25%|███████▎                     | 1/4 [00:00<00:00,  5.54it/s]\u001b[A\n",
      "Action: gender:  50%|██████████████▌              | 2/4 [00:00<00:00,  5.44it/s]\u001b[A\n",
      "Action: race:  50%|███████████████▌               | 2/4 [00:00<00:00,  5.44it/s]\u001b[A\n",
      "Action: race:  75%|███████████████████████▎       | 3/4 [00:00<00:00,  5.42it/s]\u001b[A\n",
      "Action: emotion: 100%|████████████████████████████| 4/4 [00:00<00:00,  7.07it/s]\u001b[A\n",
      "89it [01:04,  1.08it/s]"
     ]
    },
    {
     "name": "stdout",
     "output_type": "stream",
     "text": [
      "/Users/jessecoulter/Downloads/FIN377/CEOPersonalities-/matched_pictures/Bob Swan/2019\n"
     ]
    },
    {
     "name": "stderr",
     "output_type": "stream",
     "text": [
      "\n",
      "Finding actions:   0%|                                    | 0/4 [00:00<?, ?it/s]\u001b[A\n",
      "Action: age:   0%|                                        | 0/4 [00:00<?, ?it/s]\u001b[A\n",
      "Action: age:  25%|████████                        | 1/4 [00:00<00:00,  5.56it/s]\u001b[A\n",
      "Action: gender:  25%|███████▎                     | 1/4 [00:00<00:00,  5.56it/s]\u001b[A\n",
      "Action: gender:  50%|██████████████▌              | 2/4 [00:00<00:00,  5.43it/s]\u001b[A\n",
      "Action: race:  50%|███████████████▌               | 2/4 [00:00<00:00,  5.43it/s]\u001b[A\n",
      "Action: race:  75%|███████████████████████▎       | 3/4 [00:00<00:00,  5.28it/s]\u001b[A\n",
      "Action: emotion: 100%|████████████████████████████| 4/4 [00:00<00:00,  6.92it/s]\u001b[A\n",
      "90it [01:05,  1.18it/s]"
     ]
    },
    {
     "name": "stdout",
     "output_type": "stream",
     "text": [
      "/Users/jessecoulter/Downloads/FIN377/CEOPersonalities-/matched_pictures/Richard K. Templeton/2010\n"
     ]
    },
    {
     "name": "stderr",
     "output_type": "stream",
     "text": [
      "\n",
      "Finding actions:   0%|                                    | 0/4 [00:00<?, ?it/s]\u001b[A\n",
      "Action: age:   0%|                                        | 0/4 [00:00<?, ?it/s]\u001b[A\n",
      "Action: age:  25%|████████                        | 1/4 [00:00<00:00,  5.44it/s]\u001b[A\n",
      "Action: gender:  25%|███████▎                     | 1/4 [00:00<00:00,  5.44it/s]\u001b[A\n",
      "Action: gender:  50%|██████████████▌              | 2/4 [00:00<00:00,  5.44it/s]\u001b[A\n",
      "Action: race:  50%|███████████████▌               | 2/4 [00:00<00:00,  5.44it/s]\u001b[A\n",
      "Action: race:  75%|███████████████████████▎       | 3/4 [00:00<00:00,  5.45it/s]\u001b[A\n",
      "Action: emotion: 100%|████████████████████████████| 4/4 [00:00<00:00,  7.07it/s]\u001b[A\n",
      "91it [01:05,  1.29it/s]"
     ]
    },
    {
     "name": "stdout",
     "output_type": "stream",
     "text": [
      "/Users/jessecoulter/Downloads/FIN377/CEOPersonalities-/matched_pictures/Richard K. Templeton/2011\n"
     ]
    },
    {
     "name": "stderr",
     "output_type": "stream",
     "text": [
      "\n",
      "Finding actions:   0%|                                    | 0/4 [00:00<?, ?it/s]\u001b[A\n",
      "Action: age:   0%|                                        | 0/4 [00:00<?, ?it/s]\u001b[A\n",
      "Action: age:  25%|████████                        | 1/4 [00:00<00:00,  5.68it/s]\u001b[A\n",
      "Action: gender:  25%|███████▎                     | 1/4 [00:00<00:00,  5.68it/s]\u001b[A\n",
      "Action: gender:  50%|██████████████▌              | 2/4 [00:00<00:00,  5.50it/s]\u001b[A\n",
      "Action: race:  50%|███████████████▌               | 2/4 [00:00<00:00,  5.50it/s]\u001b[A\n",
      "Action: race:  75%|███████████████████████▎       | 3/4 [00:00<00:00,  5.53it/s]\u001b[A\n",
      "Action: emotion: 100%|████████████████████████████| 4/4 [00:00<00:00,  7.20it/s]\u001b[A\n",
      "92it [01:06,  1.40it/s]"
     ]
    },
    {
     "name": "stdout",
     "output_type": "stream",
     "text": [
      "/Users/jessecoulter/Downloads/FIN377/CEOPersonalities-/matched_pictures/Richard K. Templeton/2012\n"
     ]
    },
    {
     "name": "stderr",
     "output_type": "stream",
     "text": [
      "\n",
      "Finding actions:   0%|                                    | 0/4 [00:00<?, ?it/s]\u001b[A\n",
      "Action: age:   0%|                                        | 0/4 [00:00<?, ?it/s]\u001b[A\n",
      "Action: age:  25%|████████                        | 1/4 [00:00<00:00,  5.59it/s]\u001b[A\n",
      "Action: gender:  25%|███████▎                     | 1/4 [00:00<00:00,  5.59it/s]\u001b[A\n",
      "Action: gender:  50%|██████████████▌              | 2/4 [00:00<00:00,  5.47it/s]\u001b[A\n",
      "Action: race:  50%|███████████████▌               | 2/4 [00:00<00:00,  5.47it/s]\u001b[A\n",
      "Action: race:  75%|███████████████████████▎       | 3/4 [00:00<00:00,  5.50it/s]\u001b[A\n",
      "Action: emotion: 100%|████████████████████████████| 4/4 [00:00<00:00,  7.15it/s]\u001b[A\n",
      "93it [01:07,  1.48it/s]"
     ]
    },
    {
     "name": "stdout",
     "output_type": "stream",
     "text": [
      "/Users/jessecoulter/Downloads/FIN377/CEOPersonalities-/matched_pictures/Richard K. Templeton/2013\n"
     ]
    },
    {
     "name": "stderr",
     "output_type": "stream",
     "text": [
      "\n",
      "Finding actions:   0%|                                    | 0/4 [00:00<?, ?it/s]\u001b[A\n",
      "Action: age:   0%|                                        | 0/4 [00:00<?, ?it/s]\u001b[A\n",
      "Action: age:  25%|████████                        | 1/4 [00:00<00:00,  5.64it/s]\u001b[A\n",
      "Action: gender:  25%|███████▎                     | 1/4 [00:00<00:00,  5.64it/s]\u001b[A\n",
      "Action: gender:  50%|██████████████▌              | 2/4 [00:00<00:00,  5.47it/s]\u001b[A\n",
      "Action: race:  50%|███████████████▌               | 2/4 [00:00<00:00,  5.47it/s]\u001b[A\n",
      "Action: race:  75%|███████████████████████▎       | 3/4 [00:00<00:00,  5.46it/s]\u001b[A\n",
      "Action: emotion: 100%|████████████████████████████| 4/4 [00:00<00:00,  7.12it/s]\u001b[A\n",
      "94it [01:07,  1.54it/s]"
     ]
    },
    {
     "name": "stdout",
     "output_type": "stream",
     "text": [
      "/Users/jessecoulter/Downloads/FIN377/CEOPersonalities-/matched_pictures/Richard K. Templeton/2014\n"
     ]
    },
    {
     "name": "stderr",
     "output_type": "stream",
     "text": [
      "\n",
      "Finding actions:   0%|                                    | 0/4 [00:00<?, ?it/s]\u001b[A\n",
      "Action: age:   0%|                                        | 0/4 [00:00<?, ?it/s]\u001b[A\n",
      "Action: age:  25%|████████                        | 1/4 [00:00<00:00,  5.50it/s]\u001b[A\n",
      "Action: gender:  25%|███████▎                     | 1/4 [00:00<00:00,  5.50it/s]\u001b[A\n",
      "Action: gender:  50%|██████████████▌              | 2/4 [00:00<00:00,  5.43it/s]\u001b[A\n",
      "Action: race:  50%|███████████████▌               | 2/4 [00:00<00:00,  5.43it/s]\u001b[A\n",
      "Action: race:  75%|███████████████████████▎       | 3/4 [00:00<00:00,  5.44it/s]\u001b[A\n",
      "Action: emotion: 100%|████████████████████████████| 4/4 [00:00<00:00,  7.07it/s]\u001b[A\n",
      "95it [01:08,  1.57it/s]"
     ]
    },
    {
     "name": "stdout",
     "output_type": "stream",
     "text": [
      "/Users/jessecoulter/Downloads/FIN377/CEOPersonalities-/matched_pictures/Richard K. Templeton/2015\n"
     ]
    },
    {
     "name": "stderr",
     "output_type": "stream",
     "text": [
      "\n",
      "Finding actions:   0%|                                    | 0/4 [00:00<?, ?it/s]\u001b[A\n",
      "Action: age:   0%|                                        | 0/4 [00:00<?, ?it/s]\u001b[A\n",
      "Action: age:  25%|████████                        | 1/4 [00:00<00:00,  5.53it/s]\u001b[A\n",
      "Action: gender:  25%|███████▎                     | 1/4 [00:00<00:00,  5.53it/s]\u001b[A\n",
      "Action: gender:  50%|██████████████▌              | 2/4 [00:00<00:00,  5.46it/s]\u001b[A\n",
      "Action: race:  50%|███████████████▌               | 2/4 [00:00<00:00,  5.46it/s]\u001b[A\n",
      "Action: race:  75%|███████████████████████▎       | 3/4 [00:00<00:00,  5.52it/s]\u001b[A\n",
      "Action: emotion: 100%|████████████████████████████| 4/4 [00:00<00:00,  7.17it/s]\u001b[A\n",
      "96it [01:09,  1.45it/s]"
     ]
    },
    {
     "name": "stdout",
     "output_type": "stream",
     "text": [
      "/Users/jessecoulter/Downloads/FIN377/CEOPersonalities-/matched_pictures/Richard K. Templeton/2016\n"
     ]
    },
    {
     "name": "stderr",
     "output_type": "stream",
     "text": [
      "\n",
      "Finding actions:   0%|                                    | 0/4 [00:00<?, ?it/s]\u001b[A\n",
      "Action: age:   0%|                                        | 0/4 [00:00<?, ?it/s]\u001b[A\n",
      "Action: age:  25%|████████                        | 1/4 [00:00<00:00,  5.52it/s]\u001b[A\n",
      "Action: gender:  25%|███████▎                     | 1/4 [00:00<00:00,  5.52it/s]\u001b[A\n",
      "Action: gender:  50%|██████████████▌              | 2/4 [00:00<00:00,  5.51it/s]\u001b[A\n",
      "Action: race:  50%|███████████████▌               | 2/4 [00:00<00:00,  5.51it/s]\u001b[A\n",
      "Action: race:  75%|███████████████████████▎       | 3/4 [00:00<00:00,  5.49it/s]\u001b[A\n",
      "Action: emotion: 100%|████████████████████████████| 4/4 [00:00<00:00,  7.14it/s]\u001b[A\n",
      "97it [01:09,  1.51it/s]"
     ]
    },
    {
     "name": "stdout",
     "output_type": "stream",
     "text": [
      "/Users/jessecoulter/Downloads/FIN377/CEOPersonalities-/matched_pictures/Richard K. Templeton/2017\n"
     ]
    },
    {
     "name": "stderr",
     "output_type": "stream",
     "text": [
      "\n",
      "Finding actions:   0%|                                    | 0/4 [00:00<?, ?it/s]\u001b[A\n",
      "Action: age:   0%|                                        | 0/4 [00:00<?, ?it/s]\u001b[A\n",
      "Action: age:  25%|████████                        | 1/4 [00:00<00:00,  5.54it/s]\u001b[A\n",
      "Action: gender:  25%|███████▎                     | 1/4 [00:00<00:00,  5.54it/s]\u001b[A\n",
      "Action: gender:  50%|██████████████▌              | 2/4 [00:00<00:00,  5.59it/s]\u001b[A\n",
      "Action: race:  50%|███████████████▌               | 2/4 [00:00<00:00,  5.59it/s]\u001b[A\n",
      "Action: race:  75%|███████████████████████▎       | 3/4 [00:00<00:00,  5.54it/s]\u001b[A\n",
      "Action: emotion: 100%|████████████████████████████| 4/4 [00:00<00:00,  7.21it/s]\u001b[A\n",
      "98it [01:10,  1.57it/s]"
     ]
    },
    {
     "name": "stdout",
     "output_type": "stream",
     "text": [
      "/Users/jessecoulter/Downloads/FIN377/CEOPersonalities-/matched_pictures/Brian Crutcher/2018\n"
     ]
    },
    {
     "name": "stderr",
     "output_type": "stream",
     "text": [
      "\n",
      "Finding actions:   0%|                                    | 0/4 [00:00<?, ?it/s]\u001b[A\n",
      "Action: age:   0%|                                        | 0/4 [00:00<?, ?it/s]\u001b[A\n",
      "Action: age:  25%|████████                        | 1/4 [00:00<00:00,  5.68it/s]\u001b[A\n",
      "Action: gender:  25%|███████▎                     | 1/4 [00:00<00:00,  5.68it/s]\u001b[A\n",
      "Action: gender:  50%|██████████████▌              | 2/4 [00:00<00:00,  5.64it/s]\u001b[A\n",
      "Action: race:  50%|███████████████▌               | 2/4 [00:00<00:00,  5.64it/s]\u001b[A\n",
      "Action: race:  75%|███████████████████████▎       | 3/4 [00:00<00:00,  5.58it/s]\u001b[A\n",
      "Action: emotion: 100%|████████████████████████████| 4/4 [00:00<00:00,  7.27it/s]\u001b[A\n",
      "99it [01:11,  1.50it/s]"
     ]
    },
    {
     "name": "stdout",
     "output_type": "stream",
     "text": [
      "/Users/jessecoulter/Downloads/FIN377/CEOPersonalities-/matched_pictures/Brian Crutcher/2019\n"
     ]
    },
    {
     "name": "stderr",
     "output_type": "stream",
     "text": [
      "\n",
      "Finding actions:   0%|                                    | 0/4 [00:00<?, ?it/s]\u001b[A\n",
      "Action: age:   0%|                                        | 0/4 [00:00<?, ?it/s]\u001b[A\n",
      "Action: age:  25%|████████                        | 1/4 [00:00<00:00,  5.60it/s]\u001b[A\n",
      "Action: gender:  25%|███████▎                     | 1/4 [00:00<00:00,  5.60it/s]\u001b[A\n",
      "Action: gender:  50%|██████████████▌              | 2/4 [00:00<00:00,  5.48it/s]\u001b[A\n",
      "Action: race:  50%|███████████████▌               | 2/4 [00:00<00:00,  5.48it/s]\u001b[A\n",
      "Action: race:  75%|███████████████████████▎       | 3/4 [00:00<00:00,  5.43it/s]\u001b[A\n",
      "Action: emotion: 100%|████████████████████████████| 4/4 [00:00<00:00,  7.08it/s]\u001b[A\n",
      "100it [01:11,  1.38it/s]"
     ]
    },
    {
     "name": "stdout",
     "output_type": "stream",
     "text": [
      "/Users/jessecoulter/Downloads/FIN377/CEOPersonalities-/matched_pictures/Paul E. Jacobs/2010\n"
     ]
    },
    {
     "name": "stderr",
     "output_type": "stream",
     "text": [
      "\n",
      "Finding actions:   0%|                                    | 0/4 [00:00<?, ?it/s]\u001b[A\n",
      "Action: age:   0%|                                        | 0/4 [00:00<?, ?it/s]\u001b[A\n",
      "Action: age:  25%|████████                        | 1/4 [00:00<00:00,  5.66it/s]\u001b[A\n",
      "Action: gender:  25%|███████▎                     | 1/4 [00:00<00:00,  5.66it/s]\u001b[A\n",
      "Action: gender:  50%|██████████████▌              | 2/4 [00:00<00:00,  5.60it/s]\u001b[A\n",
      "Action: race:  50%|███████████████▌               | 2/4 [00:00<00:00,  5.60it/s]\u001b[A\n",
      "Action: race:  75%|███████████████████████▎       | 3/4 [00:00<00:00,  5.49it/s]\u001b[A\n",
      "Action: emotion: 100%|████████████████████████████| 4/4 [00:00<00:00,  7.18it/s]\u001b[A\n",
      "101it [01:12,  1.21it/s]"
     ]
    },
    {
     "name": "stdout",
     "output_type": "stream",
     "text": [
      "/Users/jessecoulter/Downloads/FIN377/CEOPersonalities-/matched_pictures/Paul E. Jacobs/2011\n"
     ]
    },
    {
     "name": "stderr",
     "output_type": "stream",
     "text": [
      "\n",
      "Finding actions:   0%|                                    | 0/4 [00:00<?, ?it/s]\u001b[A\n",
      "Action: age:   0%|                                        | 0/4 [00:00<?, ?it/s]\u001b[A\n",
      "Action: age:  25%|████████                        | 1/4 [00:00<00:00,  5.61it/s]\u001b[A\n",
      "Action: gender:  25%|███████▎                     | 1/4 [00:00<00:00,  5.61it/s]\u001b[A\n",
      "Action: gender:  50%|██████████████▌              | 2/4 [00:00<00:00,  5.47it/s]\u001b[A\n",
      "Action: race:  50%|███████████████▌               | 2/4 [00:00<00:00,  5.47it/s]\u001b[A\n",
      "Action: race:  75%|███████████████████████▎       | 3/4 [00:00<00:00,  5.48it/s]\u001b[A\n",
      "Action: emotion: 100%|████████████████████████████| 4/4 [00:00<00:00,  7.13it/s]\u001b[A\n",
      "102it [01:13,  1.33it/s]"
     ]
    },
    {
     "name": "stdout",
     "output_type": "stream",
     "text": [
      "/Users/jessecoulter/Downloads/FIN377/CEOPersonalities-/matched_pictures/Paul E. Jacobs/2012\n"
     ]
    },
    {
     "name": "stderr",
     "output_type": "stream",
     "text": [
      "\n",
      "Finding actions:   0%|                                    | 0/4 [00:00<?, ?it/s]\u001b[A\n",
      "Action: age:   0%|                                        | 0/4 [00:00<?, ?it/s]\u001b[A\n",
      "Action: age:  25%|████████                        | 1/4 [00:00<00:00,  5.52it/s]\u001b[A\n",
      "Action: gender:  25%|███████▎                     | 1/4 [00:00<00:00,  5.52it/s]\u001b[A\n",
      "Action: gender:  50%|██████████████▌              | 2/4 [00:00<00:00,  5.54it/s]\u001b[A\n",
      "Action: race:  50%|███████████████▌               | 2/4 [00:00<00:00,  5.54it/s]\u001b[A\n",
      "Action: race:  75%|███████████████████████▎       | 3/4 [00:00<00:00,  5.53it/s]\u001b[A\n",
      "Action: emotion: 100%|████████████████████████████| 4/4 [00:00<00:00,  7.18it/s]\u001b[A\n",
      "103it [01:14,  1.42it/s]"
     ]
    },
    {
     "name": "stdout",
     "output_type": "stream",
     "text": [
      "/Users/jessecoulter/Downloads/FIN377/CEOPersonalities-/matched_pictures/Paul E. Jacobs/2013\n"
     ]
    },
    {
     "name": "stderr",
     "output_type": "stream",
     "text": [
      "\n",
      "Finding actions:   0%|                                    | 0/4 [00:00<?, ?it/s]\u001b[A\n",
      "Action: age:   0%|                                        | 0/4 [00:00<?, ?it/s]\u001b[A\n",
      "Action: age:  25%|████████                        | 1/4 [00:00<00:00,  5.64it/s]\u001b[A\n",
      "Action: gender:  25%|███████▎                     | 1/4 [00:00<00:00,  5.64it/s]\u001b[A\n",
      "Action: gender:  50%|██████████████▌              | 2/4 [00:00<00:00,  5.57it/s]\u001b[A\n",
      "Action: race:  50%|███████████████▌               | 2/4 [00:00<00:00,  5.57it/s]\u001b[A\n",
      "Action: race:  75%|███████████████████████▎       | 3/4 [00:00<00:00,  5.47it/s]\u001b[A\n",
      "Action: emotion: 100%|████████████████████████████| 4/4 [00:00<00:00,  7.15it/s]\u001b[A\n",
      "104it [01:14,  1.46it/s]"
     ]
    },
    {
     "name": "stdout",
     "output_type": "stream",
     "text": [
      "/Users/jessecoulter/Downloads/FIN377/CEOPersonalities-/matched_pictures/Steve Mollenkopf/2014\n",
      "Error analyzing /Users/jessecoulter/Downloads/FIN377/CEOPersonalities-/matched_pictures/Steve Mollenkopf/2014/pic2.jpg: Face could not be detected in /Users/jessecoulter/Downloads/FIN377/CEOPersonalities-/matched_pictures/Steve Mollenkopf/2014/pic2.jpg.Please confirm that the picture is a face photo or consider to set enforce_detection param to False.\n",
      "/Users/jessecoulter/Downloads/FIN377/CEOPersonalities-/matched_pictures/Steve Mollenkopf/2015\n",
      "Folder not found: /Users/jessecoulter/Downloads/FIN377/CEOPersonalities-/matched_pictures/Steve Mollenkopf/2015\n",
      "/Users/jessecoulter/Downloads/FIN377/CEOPersonalities-/matched_pictures/Steve Mollenkopf/2016\n"
     ]
    },
    {
     "name": "stderr",
     "output_type": "stream",
     "text": [
      "\n",
      "Finding actions:   0%|                                    | 0/4 [00:00<?, ?it/s]\u001b[A\n",
      "Action: age:   0%|                                        | 0/4 [00:00<?, ?it/s]\u001b[A\n",
      "Action: age:  25%|████████                        | 1/4 [00:00<00:00,  5.55it/s]\u001b[A\n",
      "Action: gender:  25%|███████▎                     | 1/4 [00:00<00:00,  5.55it/s]\u001b[A\n",
      "Action: gender:  50%|██████████████▌              | 2/4 [00:00<00:00,  5.52it/s]\u001b[A\n",
      "Action: race:  50%|███████████████▌               | 2/4 [00:00<00:00,  5.52it/s]\u001b[A\n",
      "Action: race:  75%|███████████████████████▎       | 3/4 [00:00<00:00,  5.51it/s]\u001b[A\n",
      "Action: emotion: 100%|████████████████████████████| 4/4 [00:00<00:00,  7.15it/s]\u001b[A\n",
      "107it [01:15,  2.39it/s]"
     ]
    },
    {
     "name": "stdout",
     "output_type": "stream",
     "text": [
      "/Users/jessecoulter/Downloads/FIN377/CEOPersonalities-/matched_pictures/Steve Mollenkopf/2017\n",
      "Error analyzing /Users/jessecoulter/Downloads/FIN377/CEOPersonalities-/matched_pictures/Steve Mollenkopf/2017/pic2.jpg: Face could not be detected in /Users/jessecoulter/Downloads/FIN377/CEOPersonalities-/matched_pictures/Steve Mollenkopf/2017/pic2.jpg.Please confirm that the picture is a face photo or consider to set enforce_detection param to False.\n",
      "/Users/jessecoulter/Downloads/FIN377/CEOPersonalities-/matched_pictures/Steve Mollenkopf/2018\n"
     ]
    },
    {
     "name": "stderr",
     "output_type": "stream",
     "text": [
      "\n",
      "Finding actions:   0%|                                    | 0/4 [00:00<?, ?it/s]\u001b[A\n",
      "Action: age:   0%|                                        | 0/4 [00:00<?, ?it/s]\u001b[A\n",
      "Action: age:  25%|████████                        | 1/4 [00:00<00:00,  5.47it/s]\u001b[A\n",
      "Action: gender:  25%|███████▎                     | 1/4 [00:00<00:00,  5.47it/s]\u001b[A\n",
      "Action: gender:  50%|██████████████▌              | 2/4 [00:00<00:00,  5.47it/s]\u001b[A\n",
      "Action: race:  50%|███████████████▌               | 2/4 [00:00<00:00,  5.47it/s]\u001b[A\n",
      "Action: race:  75%|███████████████████████▎       | 3/4 [00:00<00:00,  5.50it/s]\u001b[A\n",
      "Action: emotion: 100%|████████████████████████████| 4/4 [00:00<00:00,  7.14it/s]\u001b[A\n",
      "109it [01:16,  2.59it/s]"
     ]
    },
    {
     "name": "stdout",
     "output_type": "stream",
     "text": [
      "/Users/jessecoulter/Downloads/FIN377/CEOPersonalities-/matched_pictures/Steve Mollenkopf/2019\n"
     ]
    },
    {
     "name": "stderr",
     "output_type": "stream",
     "text": [
      "\n",
      "Finding actions:   0%|                                    | 0/4 [00:00<?, ?it/s]\u001b[A\n",
      "Action: age:   0%|                                        | 0/4 [00:00<?, ?it/s]\u001b[A\n",
      "Action: age:  25%|████████                        | 1/4 [00:00<00:00,  5.52it/s]\u001b[A\n",
      "Action: gender:  25%|███████▎                     | 1/4 [00:00<00:00,  5.52it/s]\u001b[A\n",
      "Action: gender:  50%|██████████████▌              | 2/4 [00:00<00:00,  5.31it/s]\u001b[A\n",
      "Action: race:  50%|███████████████▌               | 2/4 [00:00<00:00,  5.31it/s]\u001b[A\n",
      "Action: race:  75%|███████████████████████▎       | 3/4 [00:00<00:00,  5.35it/s]\u001b[A\n",
      "Action: emotion: 100%|████████████████████████████| 4/4 [00:00<00:00,  6.96it/s]\u001b[A\n",
      "110it [01:16,  2.30it/s]"
     ]
    },
    {
     "name": "stdout",
     "output_type": "stream",
     "text": [
      "/Users/jessecoulter/Downloads/FIN377/CEOPersonalities-/matched_pictures/Samuel J. Palmisano/2010\n",
      "No image found in /Users/jessecoulter/Downloads/FIN377/CEOPersonalities-/matched_pictures/Samuel J. Palmisano/2010\n",
      "/Users/jessecoulter/Downloads/FIN377/CEOPersonalities-/matched_pictures/Samuel J. Palmisano/2011\n",
      "No image found in /Users/jessecoulter/Downloads/FIN377/CEOPersonalities-/matched_pictures/Samuel J. Palmisano/2011\n",
      "/Users/jessecoulter/Downloads/FIN377/CEOPersonalities-/matched_pictures/Virginia Rometty/2012\n"
     ]
    },
    {
     "name": "stderr",
     "output_type": "stream",
     "text": [
      "\n",
      "Finding actions:   0%|                                    | 0/4 [00:00<?, ?it/s]\u001b[A\n",
      "Action: age:   0%|                                        | 0/4 [00:00<?, ?it/s]\u001b[A\n",
      "Action: age:  25%|████████                        | 1/4 [00:00<00:00,  5.38it/s]\u001b[A\n",
      "Action: gender:  25%|███████▎                     | 1/4 [00:00<00:00,  5.38it/s]\u001b[A\n",
      "Action: gender:  50%|██████████████▌              | 2/4 [00:00<00:00,  5.45it/s]\u001b[A\n",
      "Action: race:  50%|███████████████▌               | 2/4 [00:00<00:00,  5.45it/s]\u001b[A\n",
      "Action: race:  75%|███████████████████████▎       | 3/4 [00:00<00:00,  5.46it/s]\u001b[A\n",
      "Action: emotion: 100%|████████████████████████████| 4/4 [00:00<00:00,  7.05it/s]\u001b[A\n",
      "113it [01:17,  2.75it/s]"
     ]
    },
    {
     "name": "stdout",
     "output_type": "stream",
     "text": [
      "/Users/jessecoulter/Downloads/FIN377/CEOPersonalities-/matched_pictures/Virginia Rometty/2013\n"
     ]
    },
    {
     "name": "stderr",
     "output_type": "stream",
     "text": [
      "\n",
      "Finding actions:   0%|                                    | 0/4 [00:00<?, ?it/s]\u001b[A\n",
      "Action: age:   0%|                                        | 0/4 [00:00<?, ?it/s]\u001b[A\n",
      "Action: age:  25%|████████                        | 1/4 [00:00<00:00,  5.55it/s]\u001b[A\n",
      "Action: gender:  25%|███████▎                     | 1/4 [00:00<00:00,  5.55it/s]\u001b[A\n",
      "Action: gender:  50%|██████████████▌              | 2/4 [00:00<00:00,  5.61it/s]\u001b[A\n",
      "Action: race:  50%|███████████████▌               | 2/4 [00:00<00:00,  5.61it/s]\u001b[A\n",
      "Action: race:  75%|███████████████████████▎       | 3/4 [00:00<00:00,  5.58it/s]\u001b[A\n",
      "Action: emotion: 100%|████████████████████████████| 4/4 [00:00<00:00,  7.24it/s]\u001b[A\n",
      "114it [01:18,  2.48it/s]"
     ]
    },
    {
     "name": "stdout",
     "output_type": "stream",
     "text": [
      "/Users/jessecoulter/Downloads/FIN377/CEOPersonalities-/matched_pictures/Virginia Rometty/2014\n"
     ]
    },
    {
     "name": "stderr",
     "output_type": "stream",
     "text": [
      "\n",
      "Finding actions:   0%|                                    | 0/4 [00:00<?, ?it/s]\u001b[A\n",
      "Action: age:   0%|                                        | 0/4 [00:00<?, ?it/s]\u001b[A\n",
      "Action: age:  25%|████████                        | 1/4 [00:00<00:00,  5.59it/s]\u001b[A\n",
      "Action: gender:  25%|███████▎                     | 1/4 [00:00<00:00,  5.59it/s]\u001b[A\n",
      "Action: gender:  50%|██████████████▌              | 2/4 [00:00<00:00,  5.48it/s]\u001b[A\n",
      "Action: race:  50%|███████████████▌               | 2/4 [00:00<00:00,  5.48it/s]\u001b[A\n",
      "Action: race:  75%|███████████████████████▎       | 3/4 [00:00<00:00,  5.45it/s]\u001b[A\n",
      "Action: emotion: 100%|████████████████████████████| 4/4 [00:00<00:00,  7.10it/s]\u001b[A\n",
      "115it [01:18,  2.19it/s]"
     ]
    },
    {
     "name": "stdout",
     "output_type": "stream",
     "text": [
      "/Users/jessecoulter/Downloads/FIN377/CEOPersonalities-/matched_pictures/Virginia Rometty/2015\n"
     ]
    },
    {
     "name": "stderr",
     "output_type": "stream",
     "text": [
      "\n",
      "Finding actions:   0%|                                    | 0/4 [00:00<?, ?it/s]\u001b[A\n",
      "Action: age:   0%|                                        | 0/4 [00:00<?, ?it/s]\u001b[A\n",
      "Action: age:  25%|████████                        | 1/4 [00:00<00:00,  5.68it/s]\u001b[A\n",
      "Action: gender:  25%|███████▎                     | 1/4 [00:00<00:00,  5.68it/s]\u001b[A\n",
      "Action: gender:  50%|██████████████▌              | 2/4 [00:00<00:00,  5.49it/s]\u001b[A\n",
      "Action: race:  50%|███████████████▌               | 2/4 [00:00<00:00,  5.49it/s]\u001b[A\n",
      "Action: race:  75%|███████████████████████▎       | 3/4 [00:00<00:00,  5.43it/s]\u001b[A\n",
      "Action: emotion: 100%|████████████████████████████| 4/4 [00:00<00:00,  7.09it/s]\u001b[A\n",
      "116it [01:19,  1.99it/s]"
     ]
    },
    {
     "name": "stdout",
     "output_type": "stream",
     "text": [
      "/Users/jessecoulter/Downloads/FIN377/CEOPersonalities-/matched_pictures/Virginia Rometty/2016\n"
     ]
    },
    {
     "name": "stderr",
     "output_type": "stream",
     "text": [
      "\n",
      "Finding actions:   0%|                                    | 0/4 [00:00<?, ?it/s]\u001b[A\n",
      "Action: age:   0%|                                        | 0/4 [00:00<?, ?it/s]\u001b[A\n",
      "Action: age:  25%|████████                        | 1/4 [00:00<00:00,  5.72it/s]\u001b[A\n",
      "Action: gender:  25%|███████▎                     | 1/4 [00:00<00:00,  5.72it/s]\u001b[A\n",
      "Action: gender:  50%|██████████████▌              | 2/4 [00:00<00:00,  5.53it/s]\u001b[A\n",
      "Action: race:  50%|███████████████▌               | 2/4 [00:00<00:00,  5.53it/s]\u001b[A\n",
      "Action: race:  75%|███████████████████████▎       | 3/4 [00:00<00:00,  5.55it/s]\u001b[A\n",
      "Action: emotion: 100%|████████████████████████████| 4/4 [00:00<00:00,  7.22it/s]\u001b[A\n",
      "117it [01:20,  1.71it/s]"
     ]
    },
    {
     "name": "stdout",
     "output_type": "stream",
     "text": [
      "/Users/jessecoulter/Downloads/FIN377/CEOPersonalities-/matched_pictures/Virginia Rometty/2017\n"
     ]
    },
    {
     "name": "stderr",
     "output_type": "stream",
     "text": [
      "\n",
      "Finding actions:   0%|                                    | 0/4 [00:00<?, ?it/s]\u001b[A\n",
      "Action: age:   0%|                                        | 0/4 [00:00<?, ?it/s]\u001b[A\n",
      "Action: age:  25%|████████                        | 1/4 [00:00<00:00,  5.61it/s]\u001b[A\n",
      "Action: gender:  25%|███████▎                     | 1/4 [00:00<00:00,  5.61it/s]\u001b[A\n",
      "Action: gender:  50%|██████████████▌              | 2/4 [00:00<00:00,  5.57it/s]\u001b[A\n",
      "Action: race:  50%|███████████████▌               | 2/4 [00:00<00:00,  5.57it/s]\u001b[A\n",
      "Action: race:  75%|███████████████████████▎       | 3/4 [00:00<00:00,  5.57it/s]\u001b[A\n",
      "Action: emotion: 100%|████████████████████████████| 4/4 [00:00<00:00,  7.23it/s]\u001b[A\n",
      "118it [01:20,  1.64it/s]"
     ]
    },
    {
     "name": "stdout",
     "output_type": "stream",
     "text": [
      "/Users/jessecoulter/Downloads/FIN377/CEOPersonalities-/matched_pictures/Virginia Rometty/2018\n"
     ]
    },
    {
     "name": "stderr",
     "output_type": "stream",
     "text": [
      "\n",
      "Finding actions:   0%|                                    | 0/4 [00:00<?, ?it/s]\u001b[A\n",
      "Action: age:   0%|                                        | 0/4 [00:00<?, ?it/s]\u001b[A\n",
      "Action: age:  25%|████████                        | 1/4 [00:00<00:00,  5.73it/s]\u001b[A\n",
      "Action: gender:  25%|███████▎                     | 1/4 [00:00<00:00,  5.73it/s]\u001b[A\n",
      "Action: gender:  50%|██████████████▌              | 2/4 [00:00<00:00,  5.59it/s]\u001b[A\n",
      "Action: race:  50%|███████████████▌               | 2/4 [00:00<00:00,  5.59it/s]\u001b[A\n",
      "Action: race:  75%|███████████████████████▎       | 3/4 [00:00<00:00,  5.55it/s]\u001b[A\n",
      "Action: emotion: 100%|████████████████████████████| 4/4 [00:00<00:00,  7.24it/s]\u001b[A\n",
      "119it [01:21,  1.50it/s]"
     ]
    },
    {
     "name": "stdout",
     "output_type": "stream",
     "text": [
      "/Users/jessecoulter/Downloads/FIN377/CEOPersonalities-/matched_pictures/Virginia Rometty/2019\n"
     ]
    },
    {
     "name": "stderr",
     "output_type": "stream",
     "text": [
      "\n",
      "Finding actions:   0%|                                    | 0/4 [00:00<?, ?it/s]\u001b[A\n",
      "Action: age:   0%|                                        | 0/4 [00:00<?, ?it/s]\u001b[A\n",
      "Action: age:  25%|████████                        | 1/4 [00:00<00:00,  5.57it/s]\u001b[A\n",
      "Action: gender:  25%|███████▎                     | 1/4 [00:00<00:00,  5.57it/s]\u001b[A\n",
      "Action: gender:  50%|██████████████▌              | 2/4 [00:00<00:00,  5.56it/s]\u001b[A\n",
      "Action: race:  50%|███████████████▌               | 2/4 [00:00<00:00,  5.56it/s]\u001b[A\n",
      "Action: race:  75%|███████████████████████▎       | 3/4 [00:00<00:00,  5.51it/s]\u001b[A\n",
      "Action: emotion: 100%|████████████████████████████| 4/4 [00:00<00:00,  7.06it/s]\u001b[A\n",
      "\n",
      "Finding actions:   0%|                                    | 0/4 [00:00<?, ?it/s]\u001b[A\n",
      "Action: age:   0%|                                        | 0/4 [00:00<?, ?it/s]\u001b[A\n",
      "Action: age:  25%|████████                        | 1/4 [00:00<00:00,  5.38it/s]\u001b[A\n",
      "Action: gender:  25%|███████▎                     | 1/4 [00:00<00:00,  5.38it/s]\u001b[A\n",
      "Action: gender:  50%|██████████████▌              | 2/4 [00:00<00:00,  5.42it/s]\u001b[A\n",
      "Action: race:  50%|███████████████▌               | 2/4 [00:00<00:00,  5.42it/s]\u001b[A\n",
      "Action: race:  75%|███████████████████████▎       | 3/4 [00:00<00:00,  5.53it/s]\u001b[A\n",
      "Action: emotion: 100%|████████████████████████████| 4/4 [00:00<00:00,  7.14it/s]\u001b[A\n",
      "120it [01:22,  1.23it/s]"
     ]
    },
    {
     "name": "stdout",
     "output_type": "stream",
     "text": [
      "/Users/jessecoulter/Downloads/FIN377/CEOPersonalities-/matched_pictures/John Donahoe (under eBay)/2010\n",
      "Error analyzing /Users/jessecoulter/Downloads/FIN377/CEOPersonalities-/matched_pictures/John Donahoe (under eBay)/2010/pic1.jpg: Face could not be detected in /Users/jessecoulter/Downloads/FIN377/CEOPersonalities-/matched_pictures/John Donahoe (under eBay)/2010/pic1.jpg.Please confirm that the picture is a face photo or consider to set enforce_detection param to False.\n",
      "/Users/jessecoulter/Downloads/FIN377/CEOPersonalities-/matched_pictures/John Donahoe (under eBay)/2011\n"
     ]
    },
    {
     "name": "stderr",
     "output_type": "stream",
     "text": [
      "\n",
      "Finding actions:   0%|                                    | 0/4 [00:00<?, ?it/s]\u001b[A\n",
      "Action: age:   0%|                                        | 0/4 [00:00<?, ?it/s]\u001b[A\n",
      "Action: age:  25%|████████                        | 1/4 [00:00<00:00,  5.66it/s]\u001b[A\n",
      "Action: gender:  25%|███████▎                     | 1/4 [00:00<00:00,  5.66it/s]\u001b[A\n",
      "Action: gender:  50%|██████████████▌              | 2/4 [00:00<00:00,  5.54it/s]\u001b[A\n",
      "Action: race:  50%|███████████████▌               | 2/4 [00:00<00:00,  5.54it/s]\u001b[A\n",
      "Action: race:  75%|███████████████████████▎       | 3/4 [00:00<00:00,  5.54it/s]\u001b[A\n",
      "Action: emotion: 100%|████████████████████████████| 4/4 [00:00<00:00,  7.20it/s]\u001b[A\n",
      "122it [01:23,  1.70it/s]"
     ]
    },
    {
     "name": "stdout",
     "output_type": "stream",
     "text": [
      "/Users/jessecoulter/Downloads/FIN377/CEOPersonalities-/matched_pictures/John Donahoe (under eBay)/2012\n"
     ]
    },
    {
     "name": "stderr",
     "output_type": "stream",
     "text": [
      "\n",
      "Finding actions:   0%|                                    | 0/4 [00:00<?, ?it/s]\u001b[A\n",
      "Action: age:   0%|                                        | 0/4 [00:00<?, ?it/s]\u001b[A\n",
      "Action: age:  25%|████████                        | 1/4 [00:00<00:00,  5.62it/s]\u001b[A\n",
      "Action: gender:  25%|███████▎                     | 1/4 [00:00<00:00,  5.62it/s]\u001b[A\n",
      "Action: gender:  50%|██████████████▌              | 2/4 [00:00<00:00,  5.55it/s]\u001b[A\n",
      "Action: race:  50%|███████████████▌               | 2/4 [00:00<00:00,  5.55it/s]\u001b[A\n",
      "Action: race:  75%|███████████████████████▎       | 3/4 [00:00<00:00,  5.50it/s]\u001b[A\n",
      "Action: emotion: 100%|████████████████████████████| 4/4 [00:00<00:00,  7.18it/s]\u001b[A\n",
      "123it [01:24,  1.69it/s]"
     ]
    },
    {
     "name": "stdout",
     "output_type": "stream",
     "text": [
      "/Users/jessecoulter/Downloads/FIN377/CEOPersonalities-/matched_pictures/John Donahoe (under eBay)/2013\n"
     ]
    },
    {
     "name": "stderr",
     "output_type": "stream",
     "text": [
      "\n",
      "Finding actions:   0%|                                    | 0/4 [00:00<?, ?it/s]\u001b[A\n",
      "Action: age:   0%|                                        | 0/4 [00:00<?, ?it/s]\u001b[A\n",
      "Action: age:  25%|████████                        | 1/4 [00:00<00:00,  5.73it/s]\u001b[A\n",
      "Action: gender:  25%|███████▎                     | 1/4 [00:00<00:00,  5.73it/s]\u001b[A\n",
      "Action: gender:  50%|██████████████▌              | 2/4 [00:00<00:00,  5.59it/s]\u001b[A\n",
      "Action: race:  50%|███████████████▌               | 2/4 [00:00<00:00,  5.59it/s]\u001b[A\n",
      "Action: race:  75%|███████████████████████▎       | 3/4 [00:00<00:00,  5.55it/s]\u001b[A\n",
      "Action: emotion: 100%|████████████████████████████| 4/4 [00:00<00:00,  7.24it/s]\u001b[A\n",
      "124it [01:24,  1.64it/s]"
     ]
    },
    {
     "name": "stdout",
     "output_type": "stream",
     "text": [
      "/Users/jessecoulter/Downloads/FIN377/CEOPersonalities-/matched_pictures/John Donahoe (under eBay)/2014\n"
     ]
    },
    {
     "name": "stderr",
     "output_type": "stream",
     "text": [
      "\n",
      "Finding actions:   0%|                                    | 0/4 [00:00<?, ?it/s]\u001b[A\n",
      "Action: age:   0%|                                        | 0/4 [00:00<?, ?it/s]\u001b[A\n",
      "Action: age:  25%|████████                        | 1/4 [00:00<00:00,  5.76it/s]\u001b[A\n",
      "Action: gender:  25%|███████▎                     | 1/4 [00:00<00:00,  5.76it/s]\u001b[A\n",
      "Action: gender:  50%|██████████████▌              | 2/4 [00:00<00:00,  5.64it/s]\u001b[A\n",
      "Action: race:  50%|███████████████▌               | 2/4 [00:00<00:00,  5.64it/s]\u001b[A\n",
      "Action: race:  75%|███████████████████████▎       | 3/4 [00:00<00:00,  5.53it/s]\u001b[A\n",
      "Action: emotion: 100%|████████████████████████████| 4/4 [00:00<00:00,  7.24it/s]\u001b[A\n",
      "125it [01:25,  1.64it/s]"
     ]
    },
    {
     "name": "stdout",
     "output_type": "stream",
     "text": [
      "/Users/jessecoulter/Downloads/FIN377/CEOPersonalities-/matched_pictures/Dan Schulman/2015\n"
     ]
    },
    {
     "name": "stderr",
     "output_type": "stream",
     "text": [
      "\n",
      "Finding actions:   0%|                                    | 0/4 [00:00<?, ?it/s]\u001b[A\n",
      "Action: age:   0%|                                        | 0/4 [00:00<?, ?it/s]\u001b[A\n",
      "Action: age:  25%|████████                        | 1/4 [00:00<00:00,  5.34it/s]\u001b[A\n",
      "Action: gender:  25%|███████▎                     | 1/4 [00:00<00:00,  5.34it/s]\u001b[A\n",
      "Action: gender:  50%|██████████████▌              | 2/4 [00:00<00:00,  5.43it/s]\u001b[A\n",
      "Action: race:  50%|███████████████▌               | 2/4 [00:00<00:00,  5.43it/s]\u001b[A\n",
      "Action: race:  75%|███████████████████████▎       | 3/4 [00:00<00:00,  5.40it/s]\u001b[A\n",
      "Action: emotion: 100%|████████████████████████████| 4/4 [00:00<00:00,  7.03it/s]\u001b[A\n",
      "126it [01:26,  1.59it/s]"
     ]
    },
    {
     "name": "stdout",
     "output_type": "stream",
     "text": [
      "/Users/jessecoulter/Downloads/FIN377/CEOPersonalities-/matched_pictures/Dan Schulman/2016\n"
     ]
    },
    {
     "name": "stderr",
     "output_type": "stream",
     "text": [
      "\n",
      "Finding actions:   0%|                                    | 0/4 [00:00<?, ?it/s]\u001b[A\n",
      "Action: age:   0%|                                        | 0/4 [00:00<?, ?it/s]\u001b[A\n",
      "Action: age:  25%|████████                        | 1/4 [00:00<00:00,  5.63it/s]\u001b[A\n",
      "Action: gender:  25%|███████▎                     | 1/4 [00:00<00:00,  5.63it/s]\u001b[A\n",
      "Action: gender:  50%|██████████████▌              | 2/4 [00:00<00:00,  5.55it/s]\u001b[A\n",
      "Action: race:  50%|███████████████▌               | 2/4 [00:00<00:00,  5.55it/s]\u001b[A\n",
      "Action: race:  75%|███████████████████████▎       | 3/4 [00:00<00:00,  5.48it/s]\u001b[A\n",
      "Action: emotion: 100%|████████████████████████████| 4/4 [00:00<00:00,  7.16it/s]\u001b[A\n",
      "127it [01:26,  1.62it/s]"
     ]
    },
    {
     "name": "stdout",
     "output_type": "stream",
     "text": [
      "/Users/jessecoulter/Downloads/FIN377/CEOPersonalities-/matched_pictures/Dan Schulman/2017\n"
     ]
    },
    {
     "name": "stderr",
     "output_type": "stream",
     "text": [
      "\n",
      "Finding actions:   0%|                                    | 0/4 [00:00<?, ?it/s]\u001b[A\n",
      "Action: age:   0%|                                        | 0/4 [00:00<?, ?it/s]\u001b[A\n",
      "Action: age:  25%|████████                        | 1/4 [00:00<00:00,  5.64it/s]\u001b[A\n",
      "Action: gender:  25%|███████▎                     | 1/4 [00:00<00:00,  5.64it/s]\u001b[A\n",
      "Action: gender:  50%|██████████████▌              | 2/4 [00:00<00:00,  5.55it/s]\u001b[A\n",
      "Action: race:  50%|███████████████▌               | 2/4 [00:00<00:00,  5.55it/s]\u001b[A\n",
      "Action: race:  75%|███████████████████████▎       | 3/4 [00:00<00:00,  5.50it/s]\u001b[A\n",
      "Action: emotion: 100%|████████████████████████████| 4/4 [00:00<00:00,  7.17it/s]\u001b[A\n",
      "128it [01:27,  1.63it/s]"
     ]
    },
    {
     "name": "stdout",
     "output_type": "stream",
     "text": [
      "/Users/jessecoulter/Downloads/FIN377/CEOPersonalities-/matched_pictures/Dan Schulman/2018\n"
     ]
    },
    {
     "name": "stderr",
     "output_type": "stream",
     "text": [
      "\n",
      "Finding actions:   0%|                                    | 0/4 [00:00<?, ?it/s]\u001b[A\n",
      "Action: age:   0%|                                        | 0/4 [00:00<?, ?it/s]\u001b[A\n",
      "Action: age:  25%|████████                        | 1/4 [00:00<00:00,  5.60it/s]\u001b[A\n",
      "Action: gender:  25%|███████▎                     | 1/4 [00:00<00:00,  5.60it/s]\u001b[A\n",
      "Action: gender:  50%|██████████████▌              | 2/4 [00:00<00:00,  5.52it/s]\u001b[A\n",
      "Action: race:  50%|███████████████▌               | 2/4 [00:00<00:00,  5.52it/s]\u001b[A\n",
      "Action: race:  75%|███████████████████████▎       | 3/4 [00:00<00:00,  5.50it/s]\u001b[A\n",
      "Action: emotion: 100%|████████████████████████████| 4/4 [00:00<00:00,  7.15it/s]\u001b[A\n",
      "129it [01:28,  1.46it/s]"
     ]
    },
    {
     "name": "stdout",
     "output_type": "stream",
     "text": [
      "/Users/jessecoulter/Downloads/FIN377/CEOPersonalities-/matched_pictures/Dan Schulman/2019\n"
     ]
    },
    {
     "name": "stderr",
     "output_type": "stream",
     "text": [
      "\n",
      "Finding actions:   0%|                                    | 0/4 [00:00<?, ?it/s]\u001b[A\n",
      "Action: age:   0%|                                        | 0/4 [00:00<?, ?it/s]\u001b[A\n",
      "Action: age:  25%|████████                        | 1/4 [00:00<00:00,  5.49it/s]\u001b[A\n",
      "Action: gender:  25%|███████▎                     | 1/4 [00:00<00:00,  5.49it/s]\u001b[A\n",
      "Action: gender:  50%|██████████████▌              | 2/4 [00:00<00:00,  5.41it/s]\u001b[A\n",
      "Action: race:  50%|███████████████▌               | 2/4 [00:00<00:00,  5.41it/s]\u001b[A\n",
      "Action: race:  75%|███████████████████████▎       | 3/4 [00:00<00:00,  5.49it/s]\u001b[A\n",
      "Action: emotion: 100%|████████████████████████████| 4/4 [00:00<00:00,  7.11it/s]\u001b[A\n",
      "130it [01:28,  1.53it/s]"
     ]
    },
    {
     "name": "stdout",
     "output_type": "stream",
     "text": [
      "/Users/jessecoulter/Downloads/FIN377/CEOPersonalities-/matched_pictures/Fred Luddy/2010\n"
     ]
    },
    {
     "name": "stderr",
     "output_type": "stream",
     "text": [
      "\n",
      "Finding actions:   0%|                                    | 0/4 [00:00<?, ?it/s]\u001b[A\n",
      "Action: age:   0%|                                        | 0/4 [00:00<?, ?it/s]\u001b[A\n",
      "Action: age:  25%|████████                        | 1/4 [00:00<00:00,  5.17it/s]\u001b[A\n",
      "Action: gender:  25%|███████▎                     | 1/4 [00:00<00:00,  5.17it/s]\u001b[A\n",
      "Action: gender:  50%|██████████████▌              | 2/4 [00:00<00:00,  5.26it/s]\u001b[A\n",
      "Action: race:  50%|███████████████▌               | 2/4 [00:00<00:00,  5.26it/s]\u001b[A\n",
      "Action: race:  75%|███████████████████████▎       | 3/4 [00:00<00:00,  5.41it/s]\u001b[A\n",
      "Action: emotion: 100%|████████████████████████████| 4/4 [00:00<00:00,  6.94it/s]\u001b[A\n",
      "131it [01:29,  1.56it/s]"
     ]
    },
    {
     "name": "stdout",
     "output_type": "stream",
     "text": [
      "/Users/jessecoulter/Downloads/FIN377/CEOPersonalities-/matched_pictures/Fred Luddy/2011\n"
     ]
    },
    {
     "name": "stderr",
     "output_type": "stream",
     "text": [
      "\n",
      "Finding actions:   0%|                                    | 0/4 [00:00<?, ?it/s]\u001b[A\n",
      "Action: age:   0%|                                        | 0/4 [00:00<?, ?it/s]\u001b[A\n",
      "Action: age:  25%|████████                        | 1/4 [00:00<00:00,  5.48it/s]\u001b[A\n",
      "Action: gender:  25%|███████▎                     | 1/4 [00:00<00:00,  5.48it/s]\u001b[A\n",
      "Action: gender:  50%|██████████████▌              | 2/4 [00:00<00:00,  5.38it/s]\u001b[A\n",
      "Action: race:  50%|███████████████▌               | 2/4 [00:00<00:00,  5.38it/s]\u001b[A\n",
      "Action: race:  75%|███████████████████████▎       | 3/4 [00:00<00:00,  5.48it/s]\u001b[A\n",
      "Action: emotion: 100%|████████████████████████████| 4/4 [00:00<00:00,  7.09it/s]\u001b[A\n",
      "132it [01:29,  1.60it/s]"
     ]
    },
    {
     "name": "stdout",
     "output_type": "stream",
     "text": [
      "/Users/jessecoulter/Downloads/FIN377/CEOPersonalities-/matched_pictures/Frank Slootman/2012\n"
     ]
    },
    {
     "name": "stderr",
     "output_type": "stream",
     "text": [
      "\n",
      "Finding actions:   0%|                                    | 0/4 [00:00<?, ?it/s]\u001b[A\n",
      "Action: age:   0%|                                        | 0/4 [00:00<?, ?it/s]\u001b[A\n",
      "Action: age:  25%|████████                        | 1/4 [00:00<00:00,  5.54it/s]\u001b[A\n",
      "Action: gender:  25%|███████▎                     | 1/4 [00:00<00:00,  5.54it/s]\u001b[A\n",
      "Action: gender:  50%|██████████████▌              | 2/4 [00:00<00:00,  5.45it/s]\u001b[A\n",
      "Action: race:  50%|███████████████▌               | 2/4 [00:00<00:00,  5.45it/s]\u001b[A\n",
      "Action: race:  75%|███████████████████████▎       | 3/4 [00:00<00:00,  5.47it/s]\u001b[A\n",
      "Action: emotion: 100%|████████████████████████████| 4/4 [00:00<00:00,  7.11it/s]\u001b[A\n",
      "133it [01:30,  1.60it/s]"
     ]
    },
    {
     "name": "stdout",
     "output_type": "stream",
     "text": [
      "/Users/jessecoulter/Downloads/FIN377/CEOPersonalities-/matched_pictures/Frank Slootman/2013\n"
     ]
    },
    {
     "name": "stderr",
     "output_type": "stream",
     "text": [
      "\n",
      "Finding actions:   0%|                                    | 0/4 [00:00<?, ?it/s]\u001b[A\n",
      "Action: age:   0%|                                        | 0/4 [00:00<?, ?it/s]\u001b[A\n",
      "Action: age:  25%|████████                        | 1/4 [00:00<00:00,  5.72it/s]\u001b[A\n",
      "Action: gender:  25%|███████▎                     | 1/4 [00:00<00:00,  5.72it/s]\u001b[A\n",
      "Action: gender:  50%|██████████████▌              | 2/4 [00:00<00:00,  5.68it/s]\u001b[A\n",
      "Action: race:  50%|███████████████▌               | 2/4 [00:00<00:00,  5.68it/s]\u001b[A\n",
      "Action: race:  75%|███████████████████████▎       | 3/4 [00:00<00:00,  5.61it/s]\u001b[A\n",
      "Action: emotion: 100%|████████████████████████████| 4/4 [00:00<00:00,  7.32it/s]\u001b[A\n",
      "134it [01:31,  1.60it/s]"
     ]
    },
    {
     "name": "stdout",
     "output_type": "stream",
     "text": [
      "/Users/jessecoulter/Downloads/FIN377/CEOPersonalities-/matched_pictures/Frank Slootman/2014\n"
     ]
    },
    {
     "name": "stderr",
     "output_type": "stream",
     "text": [
      "\n",
      "Finding actions:   0%|                                    | 0/4 [00:00<?, ?it/s]\u001b[A\n",
      "Action: age:   0%|                                        | 0/4 [00:00<?, ?it/s]\u001b[A\n",
      "Action: age:  25%|████████                        | 1/4 [00:00<00:00,  4.49it/s]\u001b[A\n",
      "Action: gender:  25%|███████▎                     | 1/4 [00:00<00:00,  4.49it/s]\u001b[A\n",
      "Action: gender:  50%|██████████████▌              | 2/4 [00:00<00:00,  5.06it/s]\u001b[A\n",
      "Action: race:  50%|███████████████▌               | 2/4 [00:00<00:00,  5.06it/s]\u001b[A\n",
      "Action: race:  75%|███████████████████████▎       | 3/4 [00:00<00:00,  5.22it/s]\u001b[A\n",
      "Action: emotion: 100%|████████████████████████████| 4/4 [00:00<00:00,  6.65it/s]\u001b[A\n",
      "135it [01:31,  1.57it/s]"
     ]
    },
    {
     "name": "stdout",
     "output_type": "stream",
     "text": [
      "/Users/jessecoulter/Downloads/FIN377/CEOPersonalities-/matched_pictures/Frank Slootman/2015\n"
     ]
    },
    {
     "name": "stderr",
     "output_type": "stream",
     "text": [
      "\n",
      "Finding actions:   0%|                                    | 0/4 [00:00<?, ?it/s]\u001b[A\n",
      "Action: age:   0%|                                        | 0/4 [00:00<?, ?it/s]\u001b[A\n",
      "Action: age:  25%|████████                        | 1/4 [00:00<00:00,  5.69it/s]\u001b[A\n",
      "Action: gender:  25%|███████▎                     | 1/4 [00:00<00:00,  5.69it/s]\u001b[A\n",
      "Action: gender:  50%|██████████████▌              | 2/4 [00:00<00:00,  5.59it/s]\u001b[A\n",
      "Action: race:  50%|███████████████▌               | 2/4 [00:00<00:00,  5.59it/s]\u001b[A\n",
      "Action: race:  75%|███████████████████████▎       | 3/4 [00:00<00:00,  5.53it/s]\u001b[A\n",
      "Action: emotion: 100%|████████████████████████████| 4/4 [00:00<00:00,  7.22it/s]\u001b[A\n",
      "136it [01:32,  1.40it/s]"
     ]
    },
    {
     "name": "stdout",
     "output_type": "stream",
     "text": [
      "/Users/jessecoulter/Downloads/FIN377/CEOPersonalities-/matched_pictures/Frank Slootman/2016\n"
     ]
    },
    {
     "name": "stderr",
     "output_type": "stream",
     "text": [
      "\n",
      "Finding actions:   0%|                                    | 0/4 [00:00<?, ?it/s]\u001b[A\n",
      "Action: age:   0%|                                        | 0/4 [00:00<?, ?it/s]\u001b[A\n",
      "Action: age:  25%|████████                        | 1/4 [00:00<00:00,  5.75it/s]\u001b[A\n",
      "Action: gender:  25%|███████▎                     | 1/4 [00:00<00:00,  5.75it/s]\u001b[A\n",
      "Action: gender:  50%|██████████████▌              | 2/4 [00:00<00:00,  5.60it/s]\u001b[A\n",
      "Action: race:  50%|███████████████▌               | 2/4 [00:00<00:00,  5.60it/s]\u001b[A\n",
      "Action: race:  75%|███████████████████████▎       | 3/4 [00:00<00:00,  5.52it/s]\u001b[A\n",
      "Action: emotion: 100%|████████████████████████████| 4/4 [00:00<00:00,  7.22it/s]\u001b[A\n",
      "137it [01:33,  1.45it/s]"
     ]
    },
    {
     "name": "stdout",
     "output_type": "stream",
     "text": [
      "/Users/jessecoulter/Downloads/FIN377/CEOPersonalities-/matched_pictures/John Donahoe/2017\n"
     ]
    },
    {
     "name": "stderr",
     "output_type": "stream",
     "text": [
      "\n",
      "Finding actions:   0%|                                    | 0/4 [00:00<?, ?it/s]\u001b[A\n",
      "Action: age:   0%|                                        | 0/4 [00:00<?, ?it/s]\u001b[A\n",
      "Action: age:  25%|████████                        | 1/4 [00:00<00:00,  5.60it/s]\u001b[A\n",
      "Action: gender:  25%|███████▎                     | 1/4 [00:00<00:00,  5.60it/s]\u001b[A\n",
      "Action: gender:  50%|██████████████▌              | 2/4 [00:00<00:00,  5.43it/s]\u001b[A\n",
      "Action: race:  50%|███████████████▌               | 2/4 [00:00<00:00,  5.43it/s]\u001b[A\n",
      "Action: race:  75%|███████████████████████▎       | 3/4 [00:00<00:00,  5.45it/s]\u001b[A\n",
      "Action: emotion: 100%|████████████████████████████| 4/4 [00:00<00:00,  7.09it/s]\u001b[A\n",
      "138it [01:34,  1.43it/s]"
     ]
    },
    {
     "name": "stdout",
     "output_type": "stream",
     "text": [
      "/Users/jessecoulter/Downloads/FIN377/CEOPersonalities-/matched_pictures/John Donahoe/2018\n"
     ]
    },
    {
     "name": "stderr",
     "output_type": "stream",
     "text": [
      "\n",
      "Finding actions:   0%|                                    | 0/4 [00:00<?, ?it/s]\u001b[A\n",
      "Action: age:   0%|                                        | 0/4 [00:00<?, ?it/s]\u001b[A\n",
      "Action: age:  25%|████████                        | 1/4 [00:00<00:00,  5.52it/s]\u001b[A\n",
      "Action: gender:  25%|███████▎                     | 1/4 [00:00<00:00,  5.52it/s]\u001b[A\n",
      "Action: gender:  50%|██████████████▌              | 2/4 [00:00<00:00,  5.48it/s]\u001b[A\n",
      "Action: race:  50%|███████████████▌               | 2/4 [00:00<00:00,  5.48it/s]\u001b[A\n",
      "Action: race:  75%|███████████████████████▎       | 3/4 [00:00<00:00,  5.45it/s]\u001b[A\n",
      "Action: emotion: 100%|████████████████████████████| 4/4 [00:00<00:00,  7.11it/s]\u001b[A\n",
      "139it [01:34,  1.47it/s]"
     ]
    },
    {
     "name": "stdout",
     "output_type": "stream",
     "text": [
      "/Users/jessecoulter/Downloads/FIN377/CEOPersonalities-/matched_pictures/John Donahoe/2019\n"
     ]
    },
    {
     "name": "stderr",
     "output_type": "stream",
     "text": [
      "\n",
      "Finding actions:   0%|                                    | 0/4 [00:00<?, ?it/s]\u001b[A\n",
      "Action: age:   0%|                                        | 0/4 [00:00<?, ?it/s]\u001b[A\n",
      "Action: age:  25%|████████                        | 1/4 [00:00<00:00,  5.58it/s]\u001b[A\n",
      "Action: gender:  25%|███████▎                     | 1/4 [00:00<00:00,  5.58it/s]\u001b[A\n",
      "Action: gender:  50%|██████████████▌              | 2/4 [00:00<00:00,  5.51it/s]\u001b[A\n",
      "Action: race:  50%|███████████████▌               | 2/4 [00:00<00:00,  5.51it/s]\u001b[A\n",
      "Action: race:  75%|███████████████████████▎       | 3/4 [00:00<00:00,  5.52it/s]\u001b[A\n",
      "Action: emotion: 100%|████████████████████████████| 4/4 [00:00<00:00,  7.17it/s]\u001b[A\n",
      "140it [01:35,  1.49it/s]"
     ]
    },
    {
     "name": "stdout",
     "output_type": "stream",
     "text": [
      "/Users/jessecoulter/Downloads/FIN377/CEOPersonalities-/matched_pictures/Brad Smith/2010\n"
     ]
    },
    {
     "name": "stderr",
     "output_type": "stream",
     "text": [
      "\n",
      "Finding actions:   0%|                                    | 0/4 [00:00<?, ?it/s]\u001b[A\n",
      "Action: age:   0%|                                        | 0/4 [00:00<?, ?it/s]\u001b[A\n",
      "Action: age:  25%|████████                        | 1/4 [00:00<00:00,  5.57it/s]\u001b[A\n",
      "Action: gender:  25%|███████▎                     | 1/4 [00:00<00:00,  5.57it/s]\u001b[A\n",
      "Action: gender:  50%|██████████████▌              | 2/4 [00:00<00:00,  5.23it/s]\u001b[A\n",
      "Action: race:  50%|███████████████▌               | 2/4 [00:00<00:00,  5.23it/s]\u001b[A\n",
      "Action: race:  75%|███████████████████████▎       | 3/4 [00:00<00:00,  5.31it/s]\u001b[A\n",
      "Action: emotion: 100%|████████████████████████████| 4/4 [00:00<00:00,  6.92it/s]\u001b[A\n",
      "141it [01:36,  1.53it/s]"
     ]
    },
    {
     "name": "stdout",
     "output_type": "stream",
     "text": [
      "/Users/jessecoulter/Downloads/FIN377/CEOPersonalities-/matched_pictures/Brad Smith/2011\n"
     ]
    },
    {
     "name": "stderr",
     "output_type": "stream",
     "text": [
      "\n",
      "Finding actions:   0%|                                    | 0/4 [00:00<?, ?it/s]\u001b[A\n",
      "Action: age:   0%|                                        | 0/4 [00:00<?, ?it/s]\u001b[A\n",
      "Action: age:  25%|████████                        | 1/4 [00:00<00:00,  5.33it/s]\u001b[A\n",
      "Action: gender:  25%|███████▎                     | 1/4 [00:00<00:00,  5.33it/s]\u001b[A\n",
      "Action: gender:  50%|██████████████▌              | 2/4 [00:00<00:00,  5.45it/s]\u001b[A\n",
      "Action: race:  50%|███████████████▌               | 2/4 [00:00<00:00,  5.45it/s]\u001b[A\n",
      "Action: race:  75%|███████████████████████▎       | 3/4 [00:00<00:00,  5.45it/s]\u001b[A\n",
      "Action: emotion: 100%|████████████████████████████| 4/4 [00:00<00:00,  7.07it/s]\u001b[A\n",
      "142it [01:36,  1.57it/s]"
     ]
    },
    {
     "name": "stdout",
     "output_type": "stream",
     "text": [
      "/Users/jessecoulter/Downloads/FIN377/CEOPersonalities-/matched_pictures/Brad Smith/2012\n"
     ]
    },
    {
     "name": "stderr",
     "output_type": "stream",
     "text": [
      "\n",
      "Finding actions:   0%|                                    | 0/4 [00:00<?, ?it/s]\u001b[A\n",
      "Action: age:   0%|                                        | 0/4 [00:00<?, ?it/s]\u001b[A\n",
      "Action: age:  25%|████████                        | 1/4 [00:00<00:00,  5.56it/s]\u001b[A\n",
      "Action: gender:  25%|███████▎                     | 1/4 [00:00<00:00,  5.56it/s]\u001b[A\n",
      "Action: gender:  50%|██████████████▌              | 2/4 [00:00<00:00,  5.54it/s]\u001b[A\n",
      "Action: race:  50%|███████████████▌               | 2/4 [00:00<00:00,  5.54it/s]\u001b[A\n",
      "Action: race:  75%|███████████████████████▎       | 3/4 [00:00<00:00,  5.51it/s]\u001b[A\n",
      "Action: emotion: 100%|████████████████████████████| 4/4 [00:00<00:00,  7.17it/s]\u001b[A\n",
      "\n",
      "Finding actions:   0%|                                    | 0/4 [00:00<?, ?it/s]\u001b[A\n",
      "Action: age:   0%|                                        | 0/4 [00:00<?, ?it/s]\u001b[A\n",
      "Action: age:  25%|████████                        | 1/4 [00:00<00:00,  5.40it/s]\u001b[A\n",
      "Action: gender:  25%|███████▎                     | 1/4 [00:00<00:00,  5.40it/s]\u001b[A\n",
      "Action: gender:  50%|██████████████▌              | 2/4 [00:00<00:00,  5.50it/s]\u001b[A\n",
      "Action: race:  50%|███████████████▌               | 2/4 [00:00<00:00,  5.50it/s]\u001b[A\n",
      "Action: race:  75%|███████████████████████▎       | 3/4 [00:00<00:00,  5.49it/s]\u001b[A\n",
      "Action: emotion: 100%|████████████████████████████| 4/4 [00:00<00:00,  7.12it/s]\u001b[A\n",
      "143it [01:37,  1.22it/s]"
     ]
    },
    {
     "name": "stdout",
     "output_type": "stream",
     "text": [
      "/Users/jessecoulter/Downloads/FIN377/CEOPersonalities-/matched_pictures/Brad Smith/2013\n"
     ]
    },
    {
     "name": "stderr",
     "output_type": "stream",
     "text": [
      "\n",
      "Finding actions:   0%|                                    | 0/4 [00:00<?, ?it/s]\u001b[A\n",
      "Action: age:   0%|                                        | 0/4 [00:00<?, ?it/s]\u001b[A\n",
      "Action: age:  25%|████████                        | 1/4 [00:00<00:00,  5.59it/s]\u001b[A\n",
      "Action: gender:  25%|███████▎                     | 1/4 [00:00<00:00,  5.59it/s]\u001b[A\n",
      "Action: gender:  50%|██████████████▌              | 2/4 [00:00<00:00,  5.59it/s]\u001b[A\n",
      "Action: race:  50%|███████████████▌               | 2/4 [00:00<00:00,  5.59it/s]\u001b[A\n",
      "Action: race:  75%|███████████████████████▎       | 3/4 [00:00<00:00,  5.55it/s]\u001b[A\n",
      "Action: emotion: 100%|████████████████████████████| 4/4 [00:00<00:00,  7.22it/s]\u001b[A\n",
      "144it [01:38,  1.30it/s]"
     ]
    },
    {
     "name": "stdout",
     "output_type": "stream",
     "text": [
      "/Users/jessecoulter/Downloads/FIN377/CEOPersonalities-/matched_pictures/Brad Smith/2014\n"
     ]
    },
    {
     "name": "stderr",
     "output_type": "stream",
     "text": [
      "\n",
      "Finding actions:   0%|                                    | 0/4 [00:00<?, ?it/s]\u001b[A\n",
      "Action: age:   0%|                                        | 0/4 [00:00<?, ?it/s]\u001b[A\n",
      "Action: age:  25%|████████                        | 1/4 [00:00<00:00,  5.59it/s]\u001b[A\n",
      "Action: gender:  25%|███████▎                     | 1/4 [00:00<00:00,  5.59it/s]\u001b[A\n",
      "Action: gender:  50%|██████████████▌              | 2/4 [00:00<00:00,  5.52it/s]\u001b[A\n",
      "Action: race:  50%|███████████████▌               | 2/4 [00:00<00:00,  5.52it/s]\u001b[A\n",
      "Action: race:  75%|███████████████████████▎       | 3/4 [00:00<00:00,  5.48it/s]\u001b[A\n",
      "Action: emotion: 100%|████████████████████████████| 4/4 [00:00<00:00,  7.15it/s]\u001b[A\n",
      "145it [01:39,  1.37it/s]"
     ]
    },
    {
     "name": "stdout",
     "output_type": "stream",
     "text": [
      "/Users/jessecoulter/Downloads/FIN377/CEOPersonalities-/matched_pictures/Brad Smith/2015\n"
     ]
    },
    {
     "name": "stderr",
     "output_type": "stream",
     "text": [
      "\n",
      "Finding actions:   0%|                                    | 0/4 [00:00<?, ?it/s]\u001b[A\n",
      "Action: age:   0%|                                        | 0/4 [00:00<?, ?it/s]\u001b[A\n",
      "Action: age:  25%|████████                        | 1/4 [00:00<00:00,  5.47it/s]\u001b[A\n",
      "Action: gender:  25%|███████▎                     | 1/4 [00:00<00:00,  5.47it/s]\u001b[A\n",
      "Action: gender:  50%|██████████████▌              | 2/4 [00:00<00:00,  5.54it/s]\u001b[A\n",
      "Action: race:  50%|███████████████▌               | 2/4 [00:00<00:00,  5.54it/s]\u001b[A\n",
      "Action: race:  75%|███████████████████████▎       | 3/4 [00:00<00:00,  5.59it/s]\u001b[A\n",
      "Action: emotion: 100%|████████████████████████████| 4/4 [00:00<00:00,  7.24it/s]\u001b[A\n",
      "146it [01:39,  1.44it/s]"
     ]
    },
    {
     "name": "stdout",
     "output_type": "stream",
     "text": [
      "/Users/jessecoulter/Downloads/FIN377/CEOPersonalities-/matched_pictures/Brad Smith/2016\n"
     ]
    },
    {
     "name": "stderr",
     "output_type": "stream",
     "text": [
      "\n",
      "Finding actions:   0%|                                    | 0/4 [00:00<?, ?it/s]\u001b[A\n",
      "Action: age:   0%|                                        | 0/4 [00:00<?, ?it/s]\u001b[A\n",
      "Action: age:  25%|████████                        | 1/4 [00:00<00:00,  5.73it/s]\u001b[A\n",
      "Action: gender:  25%|███████▎                     | 1/4 [00:00<00:00,  5.73it/s]\u001b[A\n",
      "Action: gender:  50%|██████████████▌              | 2/4 [00:00<00:00,  5.66it/s]\u001b[A\n",
      "Action: race:  50%|███████████████▌               | 2/4 [00:00<00:00,  5.66it/s]\u001b[A\n",
      "Action: race:  75%|███████████████████████▎       | 3/4 [00:00<00:00,  5.58it/s]\u001b[A\n",
      "Action: emotion: 100%|████████████████████████████| 4/4 [00:00<00:00,  7.27it/s]\u001b[A\n",
      "147it [01:40,  1.46it/s]"
     ]
    },
    {
     "name": "stdout",
     "output_type": "stream",
     "text": [
      "/Users/jessecoulter/Downloads/FIN377/CEOPersonalities-/matched_pictures/Brad Smith/2017\n"
     ]
    },
    {
     "name": "stderr",
     "output_type": "stream",
     "text": [
      "\n",
      "Finding actions:   0%|                                    | 0/4 [00:00<?, ?it/s]\u001b[A\n",
      "Action: age:   0%|                                        | 0/4 [00:00<?, ?it/s]\u001b[A\n",
      "Action: age:  25%|████████                        | 1/4 [00:00<00:00,  5.65it/s]\u001b[A\n",
      "Action: gender:  25%|███████▎                     | 1/4 [00:00<00:00,  5.65it/s]\u001b[A\n",
      "Action: gender:  50%|██████████████▌              | 2/4 [00:00<00:00,  5.59it/s]\u001b[A\n",
      "Action: race:  50%|███████████████▌               | 2/4 [00:00<00:00,  5.59it/s]\u001b[A\n",
      "Action: race:  75%|███████████████████████▎       | 3/4 [00:00<00:00,  5.56it/s]\u001b[A\n",
      "Action: emotion: 100%|████████████████████████████| 4/4 [00:00<00:00,  7.24it/s]\u001b[A\n",
      "148it [01:40,  1.53it/s]"
     ]
    },
    {
     "name": "stdout",
     "output_type": "stream",
     "text": [
      "/Users/jessecoulter/Downloads/FIN377/CEOPersonalities-/matched_pictures/Brad Smith/2018\n"
     ]
    },
    {
     "name": "stderr",
     "output_type": "stream",
     "text": [
      "\n",
      "Finding actions:   0%|                                    | 0/4 [00:00<?, ?it/s]\u001b[A\n",
      "Action: age:   0%|                                        | 0/4 [00:00<?, ?it/s]\u001b[A\n",
      "Action: age:  25%|████████                        | 1/4 [00:00<00:00,  5.51it/s]\u001b[A\n",
      "Action: gender:  25%|███████▎                     | 1/4 [00:00<00:00,  5.51it/s]\u001b[A\n",
      "Action: gender:  50%|██████████████▌              | 2/4 [00:00<00:00,  5.48it/s]\u001b[A\n",
      "Action: race:  50%|███████████████▌               | 2/4 [00:00<00:00,  5.48it/s]\u001b[A\n",
      "Action: race:  75%|███████████████████████▎       | 3/4 [00:00<00:00,  5.54it/s]\u001b[A\n",
      "Action: emotion: 100%|████████████████████████████| 4/4 [00:00<00:00,  7.18it/s]\u001b[A\n",
      "149it [01:41,  1.42it/s]"
     ]
    },
    {
     "name": "stdout",
     "output_type": "stream",
     "text": [
      "/Users/jessecoulter/Downloads/FIN377/CEOPersonalities-/matched_pictures/Sasan Goodarzi/2019\n"
     ]
    },
    {
     "name": "stderr",
     "output_type": "stream",
     "text": [
      "\n",
      "Finding actions:   0%|                                    | 0/4 [00:00<?, ?it/s]\u001b[A\n",
      "Action: age:   0%|                                        | 0/4 [00:00<?, ?it/s]\u001b[A\n",
      "Action: age:  25%|████████                        | 1/4 [00:00<00:00,  5.70it/s]\u001b[A\n",
      "Action: gender:  25%|███████▎                     | 1/4 [00:00<00:00,  5.70it/s]\u001b[A\n",
      "Action: gender:  50%|██████████████▌              | 2/4 [00:00<00:00,  5.48it/s]\u001b[A\n",
      "Action: race:  50%|███████████████▌               | 2/4 [00:00<00:00,  5.48it/s]\u001b[A\n",
      "Action: race:  75%|███████████████████████▎       | 3/4 [00:00<00:00,  5.50it/s]\u001b[A\n",
      "Action: emotion: 100%|████████████████████████████| 4/4 [00:00<00:00,  7.17it/s]\u001b[A\n",
      "150it [01:42,  1.44it/s]"
     ]
    },
    {
     "name": "stdout",
     "output_type": "stream",
     "text": [
      "/Users/jessecoulter/Downloads/FIN377/CEOPersonalities-/matched_pictures/Dirk Meyer/2010\n"
     ]
    },
    {
     "name": "stderr",
     "output_type": "stream",
     "text": [
      "\n",
      "Finding actions:   0%|                                    | 0/4 [00:00<?, ?it/s]\u001b[A\n",
      "Action: age:   0%|                                        | 0/4 [00:00<?, ?it/s]\u001b[A\n",
      "Action: age:  25%|████████                        | 1/4 [00:00<00:00,  5.53it/s]\u001b[A\n",
      "Action: gender:  25%|███████▎                     | 1/4 [00:00<00:00,  5.53it/s]\u001b[A\n",
      "Action: gender:  50%|██████████████▌              | 2/4 [00:00<00:00,  5.41it/s]\u001b[A\n",
      "Action: race:  50%|███████████████▌               | 2/4 [00:00<00:00,  5.41it/s]\u001b[A\n",
      "Action: race:  75%|███████████████████████▎       | 3/4 [00:00<00:00,  5.46it/s]\u001b[A\n",
      "Action: emotion: 100%|████████████████████████████| 4/4 [00:00<00:00,  7.09it/s]\u001b[A\n",
      "151it [01:43,  1.50it/s]"
     ]
    },
    {
     "name": "stdout",
     "output_type": "stream",
     "text": [
      "/Users/jessecoulter/Downloads/FIN377/CEOPersonalities-/matched_pictures/Thomas Seifert (interim)/2011\n"
     ]
    },
    {
     "name": "stderr",
     "output_type": "stream",
     "text": [
      "\n",
      "Finding actions:   0%|                                    | 0/4 [00:00<?, ?it/s]\u001b[A\n",
      "Action: age:   0%|                                        | 0/4 [00:00<?, ?it/s]\u001b[A\n",
      "Action: age:  25%|████████                        | 1/4 [00:00<00:00,  5.69it/s]\u001b[A\n",
      "Action: gender:  25%|███████▎                     | 1/4 [00:00<00:00,  5.69it/s]\u001b[A\n",
      "Action: gender:  50%|██████████████▌              | 2/4 [00:00<00:00,  5.45it/s]\u001b[A\n",
      "Action: race:  50%|███████████████▌               | 2/4 [00:00<00:00,  5.45it/s]\u001b[A\n",
      "Action: race:  75%|███████████████████████▎       | 3/4 [00:00<00:00,  5.50it/s]\u001b[A\n",
      "Action: emotion: 100%|████████████████████████████| 4/4 [00:00<00:00,  7.16it/s]\u001b[A\n",
      "152it [01:43,  1.54it/s]"
     ]
    },
    {
     "name": "stdout",
     "output_type": "stream",
     "text": [
      "/Users/jessecoulter/Downloads/FIN377/CEOPersonalities-/matched_pictures/Rory Read/2012\n"
     ]
    },
    {
     "name": "stderr",
     "output_type": "stream",
     "text": [
      "\n",
      "Finding actions:   0%|                                    | 0/4 [00:00<?, ?it/s]\u001b[A\n",
      "Action: age:   0%|                                        | 0/4 [00:00<?, ?it/s]\u001b[A\n",
      "Action: age:  25%|████████                        | 1/4 [00:00<00:00,  5.65it/s]\u001b[A\n",
      "Action: gender:  25%|███████▎                     | 1/4 [00:00<00:00,  5.65it/s]\u001b[A\n",
      "Action: gender:  50%|██████████████▌              | 2/4 [00:00<00:00,  5.54it/s]\u001b[A\n",
      "Action: race:  50%|███████████████▌               | 2/4 [00:00<00:00,  5.54it/s]\u001b[A\n",
      "Action: race:  75%|███████████████████████▎       | 3/4 [00:00<00:00,  5.56it/s]\u001b[A\n",
      "Action: emotion: 100%|████████████████████████████| 4/4 [00:00<00:00,  7.22it/s]\u001b[A\n",
      "153it [01:44,  1.60it/s]"
     ]
    },
    {
     "name": "stdout",
     "output_type": "stream",
     "text": [
      "/Users/jessecoulter/Downloads/FIN377/CEOPersonalities-/matched_pictures/Rory Read/2013\n"
     ]
    },
    {
     "name": "stderr",
     "output_type": "stream",
     "text": [
      "\n",
      "Finding actions:   0%|                                    | 0/4 [00:00<?, ?it/s]\u001b[A\n",
      "Action: age:   0%|                                        | 0/4 [00:00<?, ?it/s]\u001b[A\n",
      "Action: age:  25%|████████                        | 1/4 [00:00<00:00,  5.57it/s]\u001b[A\n",
      "Action: gender:  25%|███████▎                     | 1/4 [00:00<00:00,  5.57it/s]\u001b[A\n",
      "Action: gender:  50%|██████████████▌              | 2/4 [00:00<00:00,  5.53it/s]\u001b[A\n",
      "Action: race:  50%|███████████████▌               | 2/4 [00:00<00:00,  5.53it/s]\u001b[A\n",
      "Action: race:  75%|███████████████████████▎       | 3/4 [00:00<00:00,  5.55it/s]\u001b[A\n",
      "Action: emotion: 100%|████████████████████████████| 4/4 [00:00<00:00,  7.21it/s]\u001b[A\n",
      "154it [01:44,  1.63it/s]"
     ]
    },
    {
     "name": "stdout",
     "output_type": "stream",
     "text": [
      "/Users/jessecoulter/Downloads/FIN377/CEOPersonalities-/matched_pictures/Lisa Su/2014\n"
     ]
    },
    {
     "name": "stderr",
     "output_type": "stream",
     "text": [
      "\n",
      "Finding actions:   0%|                                    | 0/4 [00:00<?, ?it/s]\u001b[A\n",
      "Action: age:   0%|                                        | 0/4 [00:00<?, ?it/s]\u001b[A\n",
      "Action: age:  25%|████████                        | 1/4 [00:00<00:00,  5.70it/s]\u001b[A\n",
      "Action: gender:  25%|███████▎                     | 1/4 [00:00<00:00,  5.70it/s]\u001b[A\n",
      "Action: gender:  50%|██████████████▌              | 2/4 [00:00<00:00,  5.53it/s]\u001b[A\n",
      "Action: race:  50%|███████████████▌               | 2/4 [00:00<00:00,  5.53it/s]\u001b[A\n",
      "Action: race:  75%|███████████████████████▎       | 3/4 [00:00<00:00,  5.54it/s]\u001b[A\n",
      "Action: emotion: 100%|████████████████████████████| 4/4 [00:00<00:00,  7.21it/s]\u001b[A\n",
      "155it [01:45,  1.55it/s]"
     ]
    },
    {
     "name": "stdout",
     "output_type": "stream",
     "text": [
      "/Users/jessecoulter/Downloads/FIN377/CEOPersonalities-/matched_pictures/Lisa Su/2015\n"
     ]
    },
    {
     "name": "stderr",
     "output_type": "stream",
     "text": [
      "\n",
      "Finding actions:   0%|                                    | 0/4 [00:00<?, ?it/s]\u001b[A\n",
      "Action: age:   0%|                                        | 0/4 [00:00<?, ?it/s]\u001b[A\n",
      "Action: age:  25%|████████                        | 1/4 [00:00<00:00,  5.36it/s]\u001b[A\n",
      "Action: gender:  25%|███████▎                     | 1/4 [00:00<00:00,  5.36it/s]\u001b[A\n",
      "Action: gender:  50%|██████████████▌              | 2/4 [00:00<00:00,  5.47it/s]\u001b[A\n",
      "Action: race:  50%|███████████████▌               | 2/4 [00:00<00:00,  5.47it/s]\u001b[A\n",
      "Action: race:  75%|███████████████████████▎       | 3/4 [00:00<00:00,  5.45it/s]\u001b[A\n",
      "Action: emotion: 100%|████████████████████████████| 4/4 [00:00<00:00,  7.07it/s]\u001b[A\n",
      "156it [01:46,  1.53it/s]"
     ]
    },
    {
     "name": "stdout",
     "output_type": "stream",
     "text": [
      "/Users/jessecoulter/Downloads/FIN377/CEOPersonalities-/matched_pictures/Lisa Su/2016\n"
     ]
    },
    {
     "name": "stderr",
     "output_type": "stream",
     "text": [
      "\n",
      "Finding actions:   0%|                                    | 0/4 [00:00<?, ?it/s]\u001b[A\n",
      "Action: age:   0%|                                        | 0/4 [00:00<?, ?it/s]\u001b[A\n",
      "Action: age:  25%|████████                        | 1/4 [00:00<00:00,  5.60it/s]\u001b[A\n",
      "Action: gender:  25%|███████▎                     | 1/4 [00:00<00:00,  5.60it/s]\u001b[A\n",
      "Action: gender:  50%|██████████████▌              | 2/4 [00:00<00:00,  5.55it/s]\u001b[A\n",
      "Action: race:  50%|███████████████▌               | 2/4 [00:00<00:00,  5.55it/s]\u001b[A\n",
      "Action: race:  75%|███████████████████████▎       | 3/4 [00:00<00:00,  5.56it/s]\u001b[A\n",
      "Action: emotion: 100%|████████████████████████████| 4/4 [00:00<00:00,  7.22it/s]\u001b[A\n",
      "157it [01:47,  1.43it/s]"
     ]
    },
    {
     "name": "stdout",
     "output_type": "stream",
     "text": [
      "/Users/jessecoulter/Downloads/FIN377/CEOPersonalities-/matched_pictures/Lisa Su/2017\n"
     ]
    },
    {
     "name": "stderr",
     "output_type": "stream",
     "text": [
      "\n",
      "Finding actions:   0%|                                    | 0/4 [00:00<?, ?it/s]\u001b[A\n",
      "Action: age:   0%|                                        | 0/4 [00:00<?, ?it/s]\u001b[A\n",
      "Action: age:  25%|████████                        | 1/4 [00:00<00:00,  5.66it/s]\u001b[A\n",
      "Action: gender:  25%|███████▎                     | 1/4 [00:00<00:00,  5.66it/s]\u001b[A\n",
      "Action: gender:  50%|██████████████▌              | 2/4 [00:00<00:00,  5.64it/s]\u001b[A\n",
      "Action: race:  50%|███████████████▌               | 2/4 [00:00<00:00,  5.64it/s]\u001b[A\n",
      "Action: race:  75%|███████████████████████▎       | 3/4 [00:00<00:00,  5.59it/s]\u001b[A\n",
      "Action: emotion: 100%|████████████████████████████| 4/4 [00:00<00:00,  7.28it/s]\u001b[A\n",
      "\n",
      "Finding actions:   0%|                                    | 0/4 [00:00<?, ?it/s]\u001b[A\n",
      "Action: age:   0%|                                        | 0/4 [00:00<?, ?it/s]\u001b[A\n",
      "Action: age:  25%|████████                        | 1/4 [00:00<00:00,  5.57it/s]\u001b[A\n",
      "Action: gender:  25%|███████▎                     | 1/4 [00:00<00:00,  5.57it/s]\u001b[A\n",
      "Action: gender:  50%|██████████████▌              | 2/4 [00:00<00:00,  5.54it/s]\u001b[A\n",
      "Action: race:  50%|███████████████▌               | 2/4 [00:00<00:00,  5.54it/s]\u001b[A\n",
      "Action: race:  75%|███████████████████████▎       | 3/4 [00:00<00:00,  5.51it/s]\u001b[A\n",
      "Action: emotion: 100%|████████████████████████████| 4/4 [00:00<00:00,  7.17it/s]\u001b[A\n",
      "158it [01:48,  1.05it/s]"
     ]
    },
    {
     "name": "stdout",
     "output_type": "stream",
     "text": [
      "/Users/jessecoulter/Downloads/FIN377/CEOPersonalities-/matched_pictures/Lisa Su/2018\n"
     ]
    },
    {
     "name": "stderr",
     "output_type": "stream",
     "text": [
      "\n",
      "Finding actions:   0%|                                    | 0/4 [00:00<?, ?it/s]\u001b[A\n",
      "Action: age:   0%|                                        | 0/4 [00:00<?, ?it/s]\u001b[A\n",
      "Action: age:  25%|████████                        | 1/4 [00:00<00:00,  5.65it/s]\u001b[A\n",
      "Action: gender:  25%|███████▎                     | 1/4 [00:00<00:00,  5.65it/s]\u001b[A\n",
      "Action: gender:  50%|██████████████▌              | 2/4 [00:00<00:00,  5.57it/s]\u001b[A\n",
      "Action: race:  50%|███████████████▌               | 2/4 [00:00<00:00,  5.57it/s]\u001b[A\n",
      "Action: race:  75%|███████████████████████▎       | 3/4 [00:00<00:00,  5.38it/s]\u001b[A\n",
      "Action: emotion: 100%|████████████████████████████| 4/4 [00:00<00:00,  7.06it/s]\u001b[A\n",
      "159it [01:49,  1.10it/s]"
     ]
    },
    {
     "name": "stdout",
     "output_type": "stream",
     "text": [
      "/Users/jessecoulter/Downloads/FIN377/CEOPersonalities-/matched_pictures/Lisa Su/2019\n"
     ]
    },
    {
     "name": "stderr",
     "output_type": "stream",
     "text": [
      "\n",
      "Finding actions:   0%|                                    | 0/4 [00:00<?, ?it/s]\u001b[A\n",
      "Action: age:   0%|                                        | 0/4 [00:00<?, ?it/s]\u001b[A\n",
      "Action: age:  25%|████████                        | 1/4 [00:00<00:00,  5.82it/s]\u001b[A\n",
      "Action: gender:  25%|███████▎                     | 1/4 [00:00<00:00,  5.82it/s]\u001b[A\n",
      "Action: gender:  50%|██████████████▌              | 2/4 [00:00<00:00,  5.67it/s]\u001b[A\n",
      "Action: race:  50%|███████████████▌               | 2/4 [00:00<00:00,  5.67it/s]\u001b[A\n",
      "Action: race:  75%|███████████████████████▎       | 3/4 [00:00<00:00,  5.58it/s]\u001b[A\n",
      "Action: emotion: 100%|████████████████████████████| 4/4 [00:00<00:00,  7.29it/s]\u001b[A\n",
      "160it [01:50,  1.21it/s]"
     ]
    },
    {
     "name": "stdout",
     "output_type": "stream",
     "text": [
      "/Users/jessecoulter/Downloads/FIN377/CEOPersonalities-/matched_pictures/Mark Hurd/2010\n"
     ]
    },
    {
     "name": "stderr",
     "output_type": "stream",
     "text": [
      "\n",
      "Finding actions:   0%|                                    | 0/4 [00:00<?, ?it/s]\u001b[A\n",
      "Action: age:   0%|                                        | 0/4 [00:00<?, ?it/s]\u001b[A\n",
      "Action: age:  25%|████████                        | 1/4 [00:00<00:00,  5.64it/s]\u001b[A\n",
      "Action: gender:  25%|███████▎                     | 1/4 [00:00<00:00,  5.64it/s]\u001b[A\n",
      "Action: gender:  50%|██████████████▌              | 2/4 [00:00<00:00,  5.59it/s]\u001b[A\n",
      "Action: race:  50%|███████████████▌               | 2/4 [00:00<00:00,  5.59it/s]\u001b[A\n",
      "Action: race:  75%|███████████████████████▎       | 3/4 [00:00<00:00,  5.51it/s]\u001b[A\n",
      "Action: emotion: 100%|████████████████████████████| 4/4 [00:00<00:00,  7.19it/s]\u001b[A\n",
      "161it [01:50,  1.28it/s]"
     ]
    },
    {
     "name": "stdout",
     "output_type": "stream",
     "text": [
      "/Users/jessecoulter/Downloads/FIN377/CEOPersonalities-/matched_pictures/Leo Apotheker/2011\n"
     ]
    },
    {
     "name": "stderr",
     "output_type": "stream",
     "text": [
      "\n",
      "Finding actions:   0%|                                    | 0/4 [00:00<?, ?it/s]\u001b[A\n",
      "Action: age:   0%|                                        | 0/4 [00:00<?, ?it/s]\u001b[A\n",
      "Action: age:  25%|████████                        | 1/4 [00:00<00:00,  5.55it/s]\u001b[A\n",
      "Action: gender:  25%|███████▎                     | 1/4 [00:00<00:00,  5.55it/s]\u001b[A\n",
      "Action: gender:  50%|██████████████▌              | 2/4 [00:00<00:00,  5.58it/s]\u001b[A\n",
      "Action: race:  50%|███████████████▌               | 2/4 [00:00<00:00,  5.58it/s]\u001b[A\n",
      "Action: race:  75%|███████████████████████▎       | 3/4 [00:00<00:00,  5.55it/s]\u001b[A\n",
      "Action: emotion: 100%|████████████████████████████| 4/4 [00:00<00:00,  7.21it/s]\u001b[A\n",
      "162it [01:51,  1.37it/s]"
     ]
    },
    {
     "name": "stdout",
     "output_type": "stream",
     "text": [
      "/Users/jessecoulter/Downloads/FIN377/CEOPersonalities-/matched_pictures/Meg Whitman/2012\n"
     ]
    },
    {
     "name": "stderr",
     "output_type": "stream",
     "text": [
      "\n",
      "Finding actions:   0%|                                    | 0/4 [00:00<?, ?it/s]\u001b[A\n",
      "Action: age:   0%|                                        | 0/4 [00:00<?, ?it/s]\u001b[A\n",
      "Action: age:  25%|████████                        | 1/4 [00:00<00:00,  5.55it/s]\u001b[A\n",
      "Action: gender:  25%|███████▎                     | 1/4 [00:00<00:00,  5.55it/s]\u001b[A\n",
      "Action: gender:  50%|██████████████▌              | 2/4 [00:00<00:00,  5.61it/s]\u001b[A\n",
      "Action: race:  50%|███████████████▌               | 2/4 [00:00<00:00,  5.61it/s]\u001b[A\n",
      "Action: race:  75%|███████████████████████▎       | 3/4 [00:00<00:00,  5.52it/s]\u001b[A\n",
      "Action: emotion: 100%|████████████████████████████| 4/4 [00:00<00:00,  7.20it/s]\u001b[A\n",
      "163it [01:51,  1.42it/s]"
     ]
    },
    {
     "name": "stdout",
     "output_type": "stream",
     "text": [
      "/Users/jessecoulter/Downloads/FIN377/CEOPersonalities-/matched_pictures/Meg Whitman/2013\n"
     ]
    },
    {
     "name": "stderr",
     "output_type": "stream",
     "text": [
      "\n",
      "Finding actions:   0%|                                    | 0/4 [00:00<?, ?it/s]\u001b[A\n",
      "Action: age:   0%|                                        | 0/4 [00:00<?, ?it/s]\u001b[A\n",
      "Action: age:  25%|████████                        | 1/4 [00:00<00:00,  5.62it/s]\u001b[A\n",
      "Action: gender:  25%|███████▎                     | 1/4 [00:00<00:00,  5.62it/s]\u001b[A\n",
      "Action: gender:  50%|██████████████▌              | 2/4 [00:00<00:00,  5.61it/s]\u001b[A\n",
      "Action: race:  50%|███████████████▌               | 2/4 [00:00<00:00,  5.61it/s]\u001b[A\n",
      "Action: race:  75%|███████████████████████▎       | 3/4 [00:00<00:00,  5.48it/s]\u001b[A\n",
      "Action: emotion: 100%|████████████████████████████| 4/4 [00:00<00:00,  7.16it/s]\u001b[A\n",
      "164it [01:52,  1.45it/s]"
     ]
    },
    {
     "name": "stdout",
     "output_type": "stream",
     "text": [
      "/Users/jessecoulter/Downloads/FIN377/CEOPersonalities-/matched_pictures/Meg Whitman/2014\n"
     ]
    },
    {
     "name": "stderr",
     "output_type": "stream",
     "text": [
      "\n",
      "Finding actions:   0%|                                    | 0/4 [00:00<?, ?it/s]\u001b[A\n",
      "Action: age:   0%|                                        | 0/4 [00:00<?, ?it/s]\u001b[A\n",
      "Action: age:  25%|████████                        | 1/4 [00:00<00:00,  5.64it/s]\u001b[A\n",
      "Action: gender:  25%|███████▎                     | 1/4 [00:00<00:00,  5.64it/s]\u001b[A\n",
      "Action: gender:  50%|██████████████▌              | 2/4 [00:00<00:00,  5.59it/s]\u001b[A\n",
      "Action: race:  50%|███████████████▌               | 2/4 [00:00<00:00,  5.59it/s]\u001b[A\n",
      "Action: race:  75%|███████████████████████▎       | 3/4 [00:00<00:00,  5.58it/s]\u001b[A\n",
      "Action: emotion: 100%|████████████████████████████| 4/4 [00:00<00:00,  7.26it/s]\u001b[A\n",
      "165it [01:53,  1.50it/s]"
     ]
    },
    {
     "name": "stdout",
     "output_type": "stream",
     "text": [
      "/Users/jessecoulter/Downloads/FIN377/CEOPersonalities-/matched_pictures/Dion Weisler/2015\n"
     ]
    },
    {
     "name": "stderr",
     "output_type": "stream",
     "text": [
      "\n",
      "Finding actions:   0%|                                    | 0/4 [00:00<?, ?it/s]\u001b[A\n",
      "Action: age:   0%|                                        | 0/4 [00:00<?, ?it/s]\u001b[A\n",
      "Action: age:  25%|████████                        | 1/4 [00:00<00:00,  5.56it/s]\u001b[A\n",
      "Action: gender:  25%|███████▎                     | 1/4 [00:00<00:00,  5.56it/s]\u001b[A\n",
      "Action: gender:  50%|██████████████▌              | 2/4 [00:00<00:00,  5.57it/s]\u001b[A\n",
      "Action: race:  50%|███████████████▌               | 2/4 [00:00<00:00,  5.57it/s]\u001b[A\n",
      "Action: race:  75%|███████████████████████▎       | 3/4 [00:00<00:00,  5.59it/s]\u001b[A\n",
      "Action: emotion: 100%|████████████████████████████| 4/4 [00:00<00:00,  7.25it/s]\u001b[A\n",
      "166it [01:54,  1.40it/s]"
     ]
    },
    {
     "name": "stdout",
     "output_type": "stream",
     "text": [
      "/Users/jessecoulter/Downloads/FIN377/CEOPersonalities-/matched_pictures/Dion Weisler/2016\n"
     ]
    },
    {
     "name": "stderr",
     "output_type": "stream",
     "text": [
      "\n",
      "Finding actions:   0%|                                    | 0/4 [00:00<?, ?it/s]\u001b[A\n",
      "Action: age:   0%|                                        | 0/4 [00:00<?, ?it/s]\u001b[A\n",
      "Action: age:  25%|████████                        | 1/4 [00:00<00:00,  5.46it/s]\u001b[A\n",
      "Action: gender:  25%|███████▎                     | 1/4 [00:00<00:00,  5.46it/s]\u001b[A\n",
      "Action: gender:  50%|██████████████▌              | 2/4 [00:00<00:00,  5.49it/s]\u001b[A\n",
      "Action: race:  50%|███████████████▌               | 2/4 [00:00<00:00,  5.49it/s]\u001b[A\n",
      "Action: race:  75%|███████████████████████▎       | 3/4 [00:00<00:00,  5.25it/s]\u001b[A\n",
      "Action: emotion: 100%|████████████████████████████| 4/4 [00:00<00:00,  6.89it/s]\u001b[A\n",
      "167it [01:54,  1.42it/s]"
     ]
    },
    {
     "name": "stdout",
     "output_type": "stream",
     "text": [
      "/Users/jessecoulter/Downloads/FIN377/CEOPersonalities-/matched_pictures/Dion Weisler/2017\n"
     ]
    },
    {
     "name": "stderr",
     "output_type": "stream",
     "text": [
      "\n",
      "Finding actions:   0%|                                    | 0/4 [00:00<?, ?it/s]\u001b[A\n",
      "Action: age:   0%|                                        | 0/4 [00:00<?, ?it/s]\u001b[A\n",
      "Action: age:  25%|████████                        | 1/4 [00:00<00:00,  5.61it/s]\u001b[A\n",
      "Action: gender:  25%|███████▎                     | 1/4 [00:00<00:00,  5.61it/s]\u001b[A\n",
      "Action: gender:  50%|██████████████▌              | 2/4 [00:00<00:00,  5.53it/s]\u001b[A\n",
      "Action: race:  50%|███████████████▌               | 2/4 [00:00<00:00,  5.53it/s]\u001b[A\n",
      "Action: race:  75%|███████████████████████▎       | 3/4 [00:00<00:00,  5.50it/s]\u001b[A\n",
      "Action: emotion: 100%|████████████████████████████| 4/4 [00:00<00:00,  7.16it/s]\u001b[A\n",
      "168it [01:55,  1.43it/s]"
     ]
    },
    {
     "name": "stdout",
     "output_type": "stream",
     "text": [
      "/Users/jessecoulter/Downloads/FIN377/CEOPersonalities-/matched_pictures/Dion Weisler/2018\n"
     ]
    },
    {
     "name": "stderr",
     "output_type": "stream",
     "text": [
      "\n",
      "Finding actions:   0%|                                    | 0/4 [00:00<?, ?it/s]\u001b[A\n",
      "Action: age:   0%|                                        | 0/4 [00:00<?, ?it/s]\u001b[A\n",
      "Action: age:  25%|████████                        | 1/4 [00:00<00:00,  5.66it/s]\u001b[A\n",
      "Action: gender:  25%|███████▎                     | 1/4 [00:00<00:00,  5.66it/s]\u001b[A\n",
      "Action: gender:  50%|██████████████▌              | 2/4 [00:00<00:00,  5.25it/s]\u001b[A\n",
      "Action: race:  50%|███████████████▌               | 2/4 [00:00<00:00,  5.25it/s]\u001b[A\n",
      "Action: race:  75%|███████████████████████▎       | 3/4 [00:00<00:00,  5.39it/s]\u001b[A\n",
      "Action: emotion: 100%|████████████████████████████| 4/4 [00:00<00:00,  7.01it/s]\u001b[A\n",
      "169it [01:56,  1.35it/s]"
     ]
    },
    {
     "name": "stdout",
     "output_type": "stream",
     "text": [
      "/Users/jessecoulter/Downloads/FIN377/CEOPersonalities-/matched_pictures/Enrique Lores/2019\n"
     ]
    },
    {
     "name": "stderr",
     "output_type": "stream",
     "text": [
      "\n",
      "Finding actions:   0%|                                    | 0/4 [00:00<?, ?it/s]\u001b[A\n",
      "Action: age:   0%|                                        | 0/4 [00:00<?, ?it/s]\u001b[A\n",
      "Action: age:  25%|████████                        | 1/4 [00:00<00:00,  5.65it/s]\u001b[A\n",
      "Action: gender:  25%|███████▎                     | 1/4 [00:00<00:00,  5.65it/s]\u001b[A\n",
      "Action: gender:  50%|██████████████▌              | 2/4 [00:00<00:00,  5.54it/s]\u001b[A\n",
      "Action: race:  50%|███████████████▌               | 2/4 [00:00<00:00,  5.54it/s]\u001b[A\n",
      "Action: race:  75%|███████████████████████▎       | 3/4 [00:00<00:00,  5.53it/s]\u001b[A\n",
      "Action: emotion: 100%|████████████████████████████| 4/4 [00:00<00:00,  7.20it/s]\u001b[A\n",
      "170it [01:56,  1.39it/s]"
     ]
    },
    {
     "name": "stdout",
     "output_type": "stream",
     "text": [
      "/Users/jessecoulter/Downloads/FIN377/CEOPersonalities-/matched_pictures/Steve Appleton/2010\n"
     ]
    },
    {
     "name": "stderr",
     "output_type": "stream",
     "text": [
      "\n",
      "Finding actions:   0%|                                    | 0/4 [00:00<?, ?it/s]\u001b[A\n",
      "Action: age:   0%|                                        | 0/4 [00:00<?, ?it/s]\u001b[A\n",
      "Action: age:  25%|████████                        | 1/4 [00:00<00:00,  5.71it/s]\u001b[A\n",
      "Action: gender:  25%|███████▎                     | 1/4 [00:00<00:00,  5.71it/s]\u001b[A\n",
      "Action: gender:  50%|██████████████▌              | 2/4 [00:00<00:00,  5.59it/s]\u001b[A\n",
      "Action: race:  50%|███████████████▌               | 2/4 [00:00<00:00,  5.59it/s]\u001b[A\n",
      "Action: race:  75%|███████████████████████▎       | 3/4 [00:00<00:00,  5.57it/s]\u001b[A\n",
      "Action: emotion: 100%|████████████████████████████| 4/4 [00:00<00:00,  7.26it/s]\u001b[A\n",
      "171it [01:57,  1.42it/s]"
     ]
    },
    {
     "name": "stdout",
     "output_type": "stream",
     "text": [
      "/Users/jessecoulter/Downloads/FIN377/CEOPersonalities-/matched_pictures/Steve Appleton/2011\n"
     ]
    },
    {
     "name": "stderr",
     "output_type": "stream",
     "text": [
      "\n",
      "Finding actions:   0%|                                    | 0/4 [00:00<?, ?it/s]\u001b[A\n",
      "Action: age:   0%|                                        | 0/4 [00:00<?, ?it/s]\u001b[A\n",
      "Action: age:  25%|████████                        | 1/4 [00:00<00:00,  5.91it/s]\u001b[A\n",
      "Action: gender:  25%|███████▎                     | 1/4 [00:00<00:00,  5.91it/s]\u001b[A\n",
      "Action: gender:  50%|██████████████▌              | 2/4 [00:00<00:00,  5.71it/s]\u001b[A\n",
      "Action: race:  50%|███████████████▌               | 2/4 [00:00<00:00,  5.71it/s]\u001b[A\n",
      "Action: race:  75%|███████████████████████▎       | 3/4 [00:00<00:00,  5.64it/s]\u001b[A\n",
      "Action: emotion: 100%|████████████████████████████| 4/4 [00:00<00:00,  7.37it/s]\u001b[A\n",
      "172it [01:58,  1.27it/s]"
     ]
    },
    {
     "name": "stdout",
     "output_type": "stream",
     "text": [
      "/Users/jessecoulter/Downloads/FIN377/CEOPersonalities-/matched_pictures/Mark Durcan/2012\n"
     ]
    },
    {
     "name": "stderr",
     "output_type": "stream",
     "text": [
      "\n",
      "Finding actions:   0%|                                    | 0/4 [00:00<?, ?it/s]\u001b[A\n",
      "Action: age:   0%|                                        | 0/4 [00:00<?, ?it/s]\u001b[A\n",
      "Action: age:  25%|████████                        | 1/4 [00:00<00:00,  5.70it/s]\u001b[A\n",
      "Action: gender:  25%|███████▎                     | 1/4 [00:00<00:00,  5.70it/s]\u001b[A\n",
      "Action: gender:  50%|██████████████▌              | 2/4 [00:00<00:00,  5.42it/s]\u001b[A\n",
      "Action: race:  50%|███████████████▌               | 2/4 [00:00<00:00,  5.42it/s]\u001b[A\n",
      "Action: race:  75%|███████████████████████▎       | 3/4 [00:00<00:00,  5.45it/s]\u001b[A\n",
      "Action: emotion: 100%|████████████████████████████| 4/4 [00:00<00:00,  7.10it/s]\u001b[A\n",
      "173it [01:59,  1.37it/s]"
     ]
    },
    {
     "name": "stdout",
     "output_type": "stream",
     "text": [
      "/Users/jessecoulter/Downloads/FIN377/CEOPersonalities-/matched_pictures/Mark Durcan/2013\n"
     ]
    },
    {
     "name": "stderr",
     "output_type": "stream",
     "text": [
      "\n",
      "Finding actions:   0%|                                    | 0/4 [00:00<?, ?it/s]\u001b[A\n",
      "Action: age:   0%|                                        | 0/4 [00:00<?, ?it/s]\u001b[A\n",
      "Action: age:  25%|████████                        | 1/4 [00:00<00:00,  5.58it/s]\u001b[A\n",
      "Action: gender:  25%|███████▎                     | 1/4 [00:00<00:00,  5.58it/s]\u001b[A\n",
      "Action: gender:  50%|██████████████▌              | 2/4 [00:00<00:00,  5.55it/s]\u001b[A\n",
      "Action: race:  50%|███████████████▌               | 2/4 [00:00<00:00,  5.55it/s]\u001b[A\n",
      "Action: race:  75%|███████████████████████▎       | 3/4 [00:00<00:00,  5.46it/s]\u001b[A\n",
      "Action: emotion: 100%|████████████████████████████| 4/4 [00:00<00:00,  7.13it/s]\u001b[A\n",
      "174it [01:59,  1.45it/s]"
     ]
    },
    {
     "name": "stdout",
     "output_type": "stream",
     "text": [
      "/Users/jessecoulter/Downloads/FIN377/CEOPersonalities-/matched_pictures/Mark Durcan/2014\n"
     ]
    },
    {
     "name": "stderr",
     "output_type": "stream",
     "text": [
      "\n",
      "Finding actions:   0%|                                    | 0/4 [00:00<?, ?it/s]\u001b[A\n",
      "Action: age:   0%|                                        | 0/4 [00:00<?, ?it/s]\u001b[A\n",
      "Action: age:  25%|████████                        | 1/4 [00:00<00:00,  5.55it/s]\u001b[A\n",
      "Action: gender:  25%|███████▎                     | 1/4 [00:00<00:00,  5.55it/s]\u001b[A\n",
      "Action: gender:  50%|██████████████▌              | 2/4 [00:00<00:00,  5.53it/s]\u001b[A\n",
      "Action: race:  50%|███████████████▌               | 2/4 [00:00<00:00,  5.53it/s]\u001b[A\n",
      "Action: race:  75%|███████████████████████▎       | 3/4 [00:00<00:00,  5.46it/s]\u001b[A\n",
      "Action: emotion: 100%|████████████████████████████| 4/4 [00:00<00:00,  7.12it/s]\u001b[A\n",
      "175it [02:00,  1.51it/s]"
     ]
    },
    {
     "name": "stdout",
     "output_type": "stream",
     "text": [
      "/Users/jessecoulter/Downloads/FIN377/CEOPersonalities-/matched_pictures/Mark Durcan/2015\n"
     ]
    },
    {
     "name": "stderr",
     "output_type": "stream",
     "text": [
      "\n",
      "Finding actions:   0%|                                    | 0/4 [00:00<?, ?it/s]\u001b[A\n",
      "Action: age:   0%|                                        | 0/4 [00:00<?, ?it/s]\u001b[A\n",
      "Action: age:  25%|████████                        | 1/4 [00:00<00:00,  5.58it/s]\u001b[A\n",
      "Action: gender:  25%|███████▎                     | 1/4 [00:00<00:00,  5.58it/s]\u001b[A\n",
      "Action: gender:  50%|██████████████▌              | 2/4 [00:00<00:00,  5.43it/s]\u001b[A\n",
      "Action: race:  50%|███████████████▌               | 2/4 [00:00<00:00,  5.43it/s]\u001b[A\n",
      "Action: race:  75%|███████████████████████▎       | 3/4 [00:00<00:00,  5.50it/s]\u001b[A\n",
      "Action: emotion: 100%|████████████████████████████| 4/4 [00:00<00:00,  7.14it/s]\u001b[A\n",
      "176it [02:01,  1.46it/s]"
     ]
    },
    {
     "name": "stdout",
     "output_type": "stream",
     "text": [
      "/Users/jessecoulter/Downloads/FIN377/CEOPersonalities-/matched_pictures/Mark Durcan/2016\n"
     ]
    },
    {
     "name": "stderr",
     "output_type": "stream",
     "text": [
      "\n",
      "Finding actions:   0%|                                    | 0/4 [00:00<?, ?it/s]\u001b[A\n",
      "Action: age:   0%|                                        | 0/4 [00:00<?, ?it/s]\u001b[A\n",
      "Action: age:  25%|████████                        | 1/4 [00:00<00:00,  5.56it/s]\u001b[A\n",
      "Action: gender:  25%|███████▎                     | 1/4 [00:00<00:00,  5.56it/s]\u001b[A\n",
      "Action: gender:  50%|██████████████▌              | 2/4 [00:00<00:00,  5.46it/s]\u001b[A\n",
      "Action: race:  50%|███████████████▌               | 2/4 [00:00<00:00,  5.46it/s]\u001b[A\n",
      "Action: race:  75%|███████████████████████▎       | 3/4 [00:00<00:00,  5.10it/s]\u001b[A\n",
      "Action: emotion: 100%|████████████████████████████| 4/4 [00:00<00:00,  6.77it/s]\u001b[A\n",
      "177it [02:01,  1.49it/s]"
     ]
    },
    {
     "name": "stdout",
     "output_type": "stream",
     "text": [
      "/Users/jessecoulter/Downloads/FIN377/CEOPersonalities-/matched_pictures/Sanjay Mehrotra/2017\n"
     ]
    },
    {
     "name": "stderr",
     "output_type": "stream",
     "text": [
      "\n",
      "Finding actions:   0%|                                    | 0/4 [00:00<?, ?it/s]\u001b[A\n",
      "Action: age:   0%|                                        | 0/4 [00:00<?, ?it/s]\u001b[A\n",
      "Action: age:  25%|████████                        | 1/4 [00:00<00:00,  5.69it/s]\u001b[A\n",
      "Action: gender:  25%|███████▎                     | 1/4 [00:00<00:00,  5.69it/s]\u001b[A\n",
      "Action: gender:  50%|██████████████▌              | 2/4 [00:00<00:00,  5.62it/s]\u001b[A\n",
      "Action: race:  50%|███████████████▌               | 2/4 [00:00<00:00,  5.62it/s]\u001b[A\n",
      "Action: race:  75%|███████████████████████▎       | 3/4 [00:00<00:00,  5.50it/s]\u001b[A\n",
      "Action: emotion: 100%|████████████████████████████| 4/4 [00:00<00:00,  7.19it/s]\u001b[A\n",
      "178it [02:02,  1.47it/s]"
     ]
    },
    {
     "name": "stdout",
     "output_type": "stream",
     "text": [
      "/Users/jessecoulter/Downloads/FIN377/CEOPersonalities-/matched_pictures/Sanjay Mehrotra/2018\n"
     ]
    },
    {
     "name": "stderr",
     "output_type": "stream",
     "text": [
      "\n",
      "Finding actions:   0%|                                    | 0/4 [00:00<?, ?it/s]\u001b[A\n",
      "Action: age:   0%|                                        | 0/4 [00:00<?, ?it/s]\u001b[A\n",
      "Action: age:  25%|████████                        | 1/4 [00:00<00:00,  5.50it/s]\u001b[A\n",
      "Action: gender:  25%|███████▎                     | 1/4 [00:00<00:00,  5.50it/s]\u001b[A\n",
      "Action: gender:  50%|██████████████▌              | 2/4 [00:00<00:00,  5.49it/s]\u001b[A\n",
      "Action: race:  50%|███████████████▌               | 2/4 [00:00<00:00,  5.49it/s]\u001b[A\n",
      "Action: race:  75%|███████████████████████▎       | 3/4 [00:00<00:00,  5.56it/s]\u001b[A\n",
      "Action: emotion: 100%|████████████████████████████| 4/4 [00:00<00:00,  7.18it/s]\u001b[A\n",
      "179it [02:03,  1.51it/s]"
     ]
    },
    {
     "name": "stdout",
     "output_type": "stream",
     "text": [
      "/Users/jessecoulter/Downloads/FIN377/CEOPersonalities-/matched_pictures/Sanjay Mehrotra/2019\n"
     ]
    },
    {
     "name": "stderr",
     "output_type": "stream",
     "text": [
      "\n",
      "Finding actions:   0%|                                    | 0/4 [00:00<?, ?it/s]\u001b[A\n",
      "Action: age:   0%|                                        | 0/4 [00:00<?, ?it/s]\u001b[A\n",
      "Action: age:  25%|████████                        | 1/4 [00:00<00:00,  5.47it/s]\u001b[A\n",
      "Action: gender:  25%|███████▎                     | 1/4 [00:00<00:00,  5.47it/s]\u001b[A\n",
      "Action: gender:  50%|██████████████▌              | 2/4 [00:00<00:00,  5.45it/s]\u001b[A\n",
      "Action: race:  50%|███████████████▌               | 2/4 [00:00<00:00,  5.45it/s]\u001b[A\n",
      "Action: race:  75%|███████████████████████▎       | 3/4 [00:00<00:00,  5.48it/s]\u001b[A\n",
      "Action: emotion: 100%|████████████████████████████| 4/4 [00:00<00:00,  7.12it/s]\u001b[A\n",
      "180it [02:03,  1.52it/s]"
     ]
    },
    {
     "name": "stdout",
     "output_type": "stream",
     "text": [
      "/Users/jessecoulter/Downloads/FIN377/CEOPersonalities-/matched_pictures/Jerald Fishman/2010\n"
     ]
    },
    {
     "name": "stderr",
     "output_type": "stream",
     "text": [
      "\n",
      "Finding actions:   0%|                                    | 0/4 [00:00<?, ?it/s]\u001b[A\n",
      "Action: age:   0%|                                        | 0/4 [00:00<?, ?it/s]\u001b[A\n",
      "Action: age:  25%|████████                        | 1/4 [00:00<00:00,  5.53it/s]\u001b[A\n",
      "Action: gender:  25%|███████▎                     | 1/4 [00:00<00:00,  5.53it/s]\u001b[A\n",
      "Action: gender:  50%|██████████████▌              | 2/4 [00:00<00:00,  5.58it/s]\u001b[A\n",
      "Action: race:  50%|███████████████▌               | 2/4 [00:00<00:00,  5.58it/s]\u001b[A\n",
      "Action: race:  75%|███████████████████████▎       | 3/4 [00:00<00:00,  5.61it/s]\u001b[A\n",
      "Action: emotion: 100%|████████████████████████████| 4/4 [00:00<00:00,  7.27it/s]\u001b[A\n",
      "181it [02:04,  1.58it/s]"
     ]
    },
    {
     "name": "stdout",
     "output_type": "stream",
     "text": [
      "/Users/jessecoulter/Downloads/FIN377/CEOPersonalities-/matched_pictures/Jerald Fishman/2011\n",
      "Error analyzing /Users/jessecoulter/Downloads/FIN377/CEOPersonalities-/matched_pictures/Jerald Fishman/2011/pic1.jpg: Face could not be detected in /Users/jessecoulter/Downloads/FIN377/CEOPersonalities-/matched_pictures/Jerald Fishman/2011/pic1.jpg.Please confirm that the picture is a face photo or consider to set enforce_detection param to False.\n",
      "/Users/jessecoulter/Downloads/FIN377/CEOPersonalities-/matched_pictures/Jerald Fishman/2012\n"
     ]
    },
    {
     "name": "stderr",
     "output_type": "stream",
     "text": [
      "\n",
      "Finding actions:   0%|                                    | 0/4 [00:00<?, ?it/s]\u001b[A\n",
      "Action: age:   0%|                                        | 0/4 [00:00<?, ?it/s]\u001b[A\n",
      "Action: age:  25%|████████                        | 1/4 [00:00<00:00,  5.39it/s]\u001b[A\n",
      "Action: gender:  25%|███████▎                     | 1/4 [00:00<00:00,  5.39it/s]\u001b[A\n",
      "Action: gender:  50%|██████████████▌              | 2/4 [00:00<00:00,  5.47it/s]\u001b[A\n",
      "Action: race:  50%|███████████████▌               | 2/4 [00:00<00:00,  5.47it/s]\u001b[A\n",
      "Action: race:  75%|███████████████████████▎       | 3/4 [00:00<00:00,  5.51it/s]\u001b[A\n",
      "Action: emotion: 100%|████████████████████████████| 4/4 [00:00<00:00,  7.13it/s]\u001b[A\n",
      "183it [02:04,  2.08it/s]"
     ]
    },
    {
     "name": "stdout",
     "output_type": "stream",
     "text": [
      "/Users/jessecoulter/Downloads/FIN377/CEOPersonalities-/matched_pictures/Vincent Roche/2013\n"
     ]
    },
    {
     "name": "stderr",
     "output_type": "stream",
     "text": [
      "\n",
      "Finding actions:   0%|                                    | 0/4 [00:00<?, ?it/s]\u001b[A\n",
      "Action: age:   0%|                                        | 0/4 [00:00<?, ?it/s]\u001b[A\n",
      "Action: age:  25%|████████                        | 1/4 [00:00<00:00,  5.62it/s]\u001b[A\n",
      "Action: gender:  25%|███████▎                     | 1/4 [00:00<00:00,  5.62it/s]\u001b[A\n",
      "Action: gender:  50%|██████████████▌              | 2/4 [00:00<00:00,  5.51it/s]\u001b[A\n",
      "Action: race:  50%|███████████████▌               | 2/4 [00:00<00:00,  5.51it/s]\u001b[A\n",
      "Action: race:  75%|███████████████████████▎       | 3/4 [00:00<00:00,  5.50it/s]\u001b[A\n",
      "Action: emotion: 100%|████████████████████████████| 4/4 [00:00<00:00,  7.17it/s]\u001b[A\n",
      "\n",
      "Finding actions:   0%|                                    | 0/4 [00:00<?, ?it/s]\u001b[A\n",
      "Action: age:   0%|                                        | 0/4 [00:00<?, ?it/s]\u001b[A\n",
      "Action: age:  25%|████████                        | 1/4 [00:00<00:00,  5.46it/s]\u001b[A\n",
      "Action: gender:  25%|███████▎                     | 1/4 [00:00<00:00,  5.46it/s]\u001b[A\n",
      "Action: gender:  50%|██████████████▌              | 2/4 [00:00<00:00,  5.41it/s]\u001b[A\n",
      "Action: race:  50%|███████████████▌               | 2/4 [00:00<00:00,  5.41it/s]\u001b[A\n",
      "Action: race:  75%|███████████████████████▎       | 3/4 [00:00<00:00,  5.44it/s]\u001b[A\n",
      "Action: emotion: 100%|████████████████████████████| 4/4 [00:00<00:00,  7.06it/s]\u001b[A\n",
      "184it [02:06,  1.53it/s]"
     ]
    },
    {
     "name": "stdout",
     "output_type": "stream",
     "text": [
      "/Users/jessecoulter/Downloads/FIN377/CEOPersonalities-/matched_pictures/Vincent Roche/2014\n"
     ]
    },
    {
     "name": "stderr",
     "output_type": "stream",
     "text": [
      "\n",
      "Finding actions:   0%|                                    | 0/4 [00:00<?, ?it/s]\u001b[A\n",
      "Action: age:   0%|                                        | 0/4 [00:00<?, ?it/s]\u001b[A\n",
      "Action: age:  25%|████████                        | 1/4 [00:00<00:00,  5.43it/s]\u001b[A\n",
      "Action: gender:  25%|███████▎                     | 1/4 [00:00<00:00,  5.43it/s]\u001b[A\n",
      "Action: gender:  50%|██████████████▌              | 2/4 [00:00<00:00,  5.50it/s]\u001b[A\n",
      "Action: race:  50%|███████████████▌               | 2/4 [00:00<00:00,  5.50it/s]\u001b[A\n",
      "Action: race:  75%|███████████████████████▎       | 3/4 [00:00<00:00,  5.48it/s]\u001b[A\n",
      "Action: emotion: 100%|████████████████████████████| 4/4 [00:00<00:00,  7.12it/s]\u001b[A\n",
      "185it [02:06,  1.55it/s]"
     ]
    },
    {
     "name": "stdout",
     "output_type": "stream",
     "text": [
      "/Users/jessecoulter/Downloads/FIN377/CEOPersonalities-/matched_pictures/Vincent Roche/2015\n"
     ]
    },
    {
     "name": "stderr",
     "output_type": "stream",
     "text": [
      "\n",
      "Finding actions:   0%|                                    | 0/4 [00:00<?, ?it/s]\u001b[A\n",
      "Action: age:   0%|                                        | 0/4 [00:00<?, ?it/s]\u001b[A\n",
      "Action: age:  25%|████████                        | 1/4 [00:00<00:00,  5.52it/s]\u001b[A\n",
      "Action: gender:  25%|███████▎                     | 1/4 [00:00<00:00,  5.52it/s]\u001b[A\n",
      "Action: gender:  50%|██████████████▌              | 2/4 [00:00<00:00,  5.49it/s]\u001b[A\n",
      "Action: race:  50%|███████████████▌               | 2/4 [00:00<00:00,  5.49it/s]\u001b[A\n",
      "Action: race:  75%|███████████████████████▎       | 3/4 [00:00<00:00,  5.49it/s]\u001b[A\n",
      "Action: emotion: 100%|████████████████████████████| 4/4 [00:00<00:00,  7.13it/s]\u001b[A\n",
      "186it [02:07,  1.59it/s]"
     ]
    },
    {
     "name": "stdout",
     "output_type": "stream",
     "text": [
      "/Users/jessecoulter/Downloads/FIN377/CEOPersonalities-/matched_pictures/Vincent Roche/2016\n"
     ]
    },
    {
     "name": "stderr",
     "output_type": "stream",
     "text": [
      "\n",
      "Finding actions:   0%|                                    | 0/4 [00:00<?, ?it/s]\u001b[A\n",
      "Action: age:   0%|                                        | 0/4 [00:00<?, ?it/s]\u001b[A\n",
      "Action: age:  25%|████████                        | 1/4 [00:00<00:00,  5.46it/s]\u001b[A\n",
      "Action: gender:  25%|███████▎                     | 1/4 [00:00<00:00,  5.46it/s]\u001b[A\n",
      "Action: gender:  50%|██████████████▌              | 2/4 [00:00<00:00,  5.48it/s]\u001b[A\n",
      "Action: race:  50%|███████████████▌               | 2/4 [00:00<00:00,  5.48it/s]\u001b[A\n",
      "Action: race:  75%|███████████████████████▎       | 3/4 [00:00<00:00,  5.48it/s]\u001b[A\n",
      "Action: emotion: 100%|████████████████████████████| 4/4 [00:00<00:00,  7.11it/s]\u001b[A\n",
      "187it [02:07,  1.62it/s]"
     ]
    },
    {
     "name": "stdout",
     "output_type": "stream",
     "text": [
      "/Users/jessecoulter/Downloads/FIN377/CEOPersonalities-/matched_pictures/Vincent Roche/2017\n"
     ]
    },
    {
     "name": "stderr",
     "output_type": "stream",
     "text": [
      "\n",
      "Finding actions:   0%|                                    | 0/4 [00:00<?, ?it/s]\u001b[A\n",
      "Action: age:   0%|                                        | 0/4 [00:00<?, ?it/s]\u001b[A\n",
      "Action: age:  25%|████████                        | 1/4 [00:00<00:00,  5.92it/s]\u001b[A\n",
      "Action: gender:  25%|███████▎                     | 1/4 [00:00<00:00,  5.92it/s]\u001b[A\n",
      "Action: gender:  50%|██████████████▌              | 2/4 [00:00<00:00,  5.80it/s]\u001b[A\n",
      "Action: race:  50%|███████████████▌               | 2/4 [00:00<00:00,  5.80it/s]\u001b[A\n",
      "Action: race:  75%|███████████████████████▎       | 3/4 [00:00<00:00,  5.64it/s]\u001b[A\n",
      "Action: emotion: 100%|████████████████████████████| 4/4 [00:00<00:00,  7.38it/s]\u001b[A\n",
      "188it [02:08,  1.41it/s]"
     ]
    },
    {
     "name": "stdout",
     "output_type": "stream",
     "text": [
      "/Users/jessecoulter/Downloads/FIN377/CEOPersonalities-/matched_pictures/Vincent Roche/2018\n"
     ]
    },
    {
     "name": "stderr",
     "output_type": "stream",
     "text": [
      "\n",
      "Finding actions:   0%|                                    | 0/4 [00:00<?, ?it/s]\u001b[A\n",
      "Action: age:   0%|                                        | 0/4 [00:00<?, ?it/s]\u001b[A\n",
      "Action: age:  25%|████████                        | 1/4 [00:00<00:00,  5.63it/s]\u001b[A\n",
      "Action: gender:  25%|███████▎                     | 1/4 [00:00<00:00,  5.63it/s]\u001b[A\n",
      "Action: gender:  50%|██████████████▌              | 2/4 [00:00<00:00,  5.43it/s]\u001b[A\n",
      "Action: race:  50%|███████████████▌               | 2/4 [00:00<00:00,  5.43it/s]\u001b[A\n",
      "Action: race:  75%|███████████████████████▎       | 3/4 [00:00<00:00,  5.43it/s]\u001b[A\n",
      "Action: emotion: 100%|████████████████████████████| 4/4 [00:00<00:00,  7.10it/s]\u001b[A\n",
      "189it [02:09,  1.38it/s]"
     ]
    },
    {
     "name": "stdout",
     "output_type": "stream",
     "text": [
      "/Users/jessecoulter/Downloads/FIN377/CEOPersonalities-/matched_pictures/Vincent Roche/2019\n"
     ]
    },
    {
     "name": "stderr",
     "output_type": "stream",
     "text": [
      "\n",
      "Finding actions:   0%|                                    | 0/4 [00:00<?, ?it/s]\u001b[A\n",
      "Action: age:   0%|                                        | 0/4 [00:00<?, ?it/s]\u001b[A\n",
      "Action: age:  25%|████████                        | 1/4 [00:00<00:00,  5.54it/s]\u001b[A\n",
      "Action: gender:  25%|███████▎                     | 1/4 [00:00<00:00,  5.54it/s]\u001b[A\n",
      "Action: gender:  50%|██████████████▌              | 2/4 [00:00<00:00,  5.55it/s]\u001b[A\n",
      "Action: race:  50%|███████████████▌               | 2/4 [00:00<00:00,  5.55it/s]\u001b[A\n",
      "Action: race:  75%|███████████████████████▎       | 3/4 [00:00<00:00,  5.41it/s]\u001b[A\n",
      "Action: emotion: 100%|████████████████████████████| 4/4 [00:00<00:00,  7.09it/s]\u001b[A\n",
      "190it [02:10,  1.33it/s]"
     ]
    },
    {
     "name": "stdout",
     "output_type": "stream",
     "text": [
      "/Users/jessecoulter/Downloads/FIN377/CEOPersonalities-/matched_pictures/Stephen G. Newberry/2010\n"
     ]
    },
    {
     "name": "stderr",
     "output_type": "stream",
     "text": [
      "\n",
      "Finding actions:   0%|                                    | 0/4 [00:00<?, ?it/s]\u001b[A\n",
      "Action: age:   0%|                                        | 0/4 [00:00<?, ?it/s]\u001b[A\n",
      "Action: age:  25%|████████                        | 1/4 [00:00<00:00,  5.61it/s]\u001b[A\n",
      "Action: gender:  25%|███████▎                     | 1/4 [00:00<00:00,  5.61it/s]\u001b[A\n",
      "Action: gender:  50%|██████████████▌              | 2/4 [00:00<00:00,  5.56it/s]\u001b[A\n",
      "Action: race:  50%|███████████████▌               | 2/4 [00:00<00:00,  5.56it/s]\u001b[A\n",
      "Action: race:  75%|███████████████████████▎       | 3/4 [00:00<00:00,  5.50it/s]\u001b[A\n",
      "Action: emotion: 100%|████████████████████████████| 4/4 [00:00<00:00,  7.16it/s]\u001b[A\n",
      "191it [02:10,  1.42it/s]"
     ]
    },
    {
     "name": "stdout",
     "output_type": "stream",
     "text": [
      "/Users/jessecoulter/Downloads/FIN377/CEOPersonalities-/matched_pictures/Stephen G. Newberry/2011\n"
     ]
    },
    {
     "name": "stderr",
     "output_type": "stream",
     "text": [
      "\n",
      "Finding actions:   0%|                                    | 0/4 [00:00<?, ?it/s]\u001b[A\n",
      "Action: age:   0%|                                        | 0/4 [00:00<?, ?it/s]\u001b[A\n",
      "Action: age:  25%|████████                        | 1/4 [00:00<00:00,  5.39it/s]\u001b[A\n",
      "Action: gender:  25%|███████▎                     | 1/4 [00:00<00:00,  5.39it/s]\u001b[A\n",
      "Action: gender:  50%|██████████████▌              | 2/4 [00:00<00:00,  5.33it/s]\u001b[A\n",
      "Action: race:  50%|███████████████▌               | 2/4 [00:00<00:00,  5.33it/s]\u001b[A\n",
      "Action: race:  75%|███████████████████████▎       | 3/4 [00:00<00:00,  5.33it/s]\u001b[A\n",
      "Action: emotion: 100%|████████████████████████████| 4/4 [00:00<00:00,  6.94it/s]\u001b[A\n",
      "192it [02:11,  1.49it/s]"
     ]
    },
    {
     "name": "stdout",
     "output_type": "stream",
     "text": [
      "/Users/jessecoulter/Downloads/FIN377/CEOPersonalities-/matched_pictures/Martin Anstice/2012\n",
      "Folder not found: /Users/jessecoulter/Downloads/FIN377/CEOPersonalities-/matched_pictures/Martin Anstice/2012\n",
      "/Users/jessecoulter/Downloads/FIN377/CEOPersonalities-/matched_pictures/Martin Anstice/2013\n",
      "Folder not found: /Users/jessecoulter/Downloads/FIN377/CEOPersonalities-/matched_pictures/Martin Anstice/2013\n",
      "/Users/jessecoulter/Downloads/FIN377/CEOPersonalities-/matched_pictures/Martin Anstice/2014\n"
     ]
    },
    {
     "name": "stderr",
     "output_type": "stream",
     "text": [
      "\n",
      "Finding actions:   0%|                                    | 0/4 [00:00<?, ?it/s]\u001b[A\n",
      "Action: age:   0%|                                        | 0/4 [00:00<?, ?it/s]\u001b[A\n",
      "Action: age:  25%|████████                        | 1/4 [00:00<00:00,  5.41it/s]\u001b[A\n",
      "Action: gender:  25%|███████▎                     | 1/4 [00:00<00:00,  5.41it/s]\u001b[A\n",
      "Action: gender:  50%|██████████████▌              | 2/4 [00:00<00:00,  5.47it/s]\u001b[A\n",
      "Action: race:  50%|███████████████▌               | 2/4 [00:00<00:00,  5.47it/s]\u001b[A\n",
      "Action: race:  75%|███████████████████████▎       | 3/4 [00:00<00:00,  5.47it/s]\u001b[A\n",
      "Action: emotion: 100%|████████████████████████████| 4/4 [00:00<00:00,  7.12it/s]\u001b[A\n",
      "195it [02:12,  2.43it/s]"
     ]
    },
    {
     "name": "stdout",
     "output_type": "stream",
     "text": [
      "/Users/jessecoulter/Downloads/FIN377/CEOPersonalities-/matched_pictures/Martin Anstice/2015\n"
     ]
    },
    {
     "name": "stderr",
     "output_type": "stream",
     "text": [
      "\n",
      "Finding actions:   0%|                                    | 0/4 [00:00<?, ?it/s]\u001b[A\n",
      "Action: age:   0%|                                        | 0/4 [00:00<?, ?it/s]\u001b[A\n",
      "Action: age:  25%|████████                        | 1/4 [00:00<00:00,  5.46it/s]\u001b[A\n",
      "Action: gender:  25%|███████▎                     | 1/4 [00:00<00:00,  5.46it/s]\u001b[A\n",
      "Action: gender:  50%|██████████████▌              | 2/4 [00:00<00:00,  5.36it/s]\u001b[A\n",
      "Action: race:  50%|███████████████▌               | 2/4 [00:00<00:00,  5.36it/s]\u001b[A\n",
      "Action: race:  75%|███████████████████████▎       | 3/4 [00:00<00:00,  5.37it/s]\u001b[A\n",
      "Action: emotion: 100%|████████████████████████████| 4/4 [00:00<00:00,  7.00it/s]\u001b[A\n",
      "196it [02:12,  2.11it/s]"
     ]
    },
    {
     "name": "stdout",
     "output_type": "stream",
     "text": [
      "/Users/jessecoulter/Downloads/FIN377/CEOPersonalities-/matched_pictures/Martin Anstice/2016\n"
     ]
    },
    {
     "name": "stderr",
     "output_type": "stream",
     "text": [
      "\n",
      "Finding actions:   0%|                                    | 0/4 [00:00<?, ?it/s]\u001b[A\n",
      "Action: age:   0%|                                        | 0/4 [00:00<?, ?it/s]\u001b[A\n",
      "Action: age:  25%|████████                        | 1/4 [00:00<00:00,  5.48it/s]\u001b[A\n",
      "Action: gender:  25%|███████▎                     | 1/4 [00:00<00:00,  5.48it/s]\u001b[A\n",
      "Action: gender:  50%|██████████████▌              | 2/4 [00:00<00:00,  5.51it/s]\u001b[A\n",
      "Action: race:  50%|███████████████▌               | 2/4 [00:00<00:00,  5.51it/s]\u001b[A\n",
      "Action: race:  75%|███████████████████████▎       | 3/4 [00:00<00:00,  5.41it/s]\u001b[A\n",
      "Action: emotion: 100%|████████████████████████████| 4/4 [00:00<00:00,  7.06it/s]\u001b[A\n",
      "197it [02:13,  1.99it/s]"
     ]
    },
    {
     "name": "stdout",
     "output_type": "stream",
     "text": [
      "/Users/jessecoulter/Downloads/FIN377/CEOPersonalities-/matched_pictures/Martin Anstice/2017\n"
     ]
    },
    {
     "name": "stderr",
     "output_type": "stream",
     "text": [
      "\n",
      "Finding actions:   0%|                                    | 0/4 [00:00<?, ?it/s]\u001b[A\n",
      "Action: age:   0%|                                        | 0/4 [00:00<?, ?it/s]\u001b[A\n",
      "Action: age:  25%|████████                        | 1/4 [00:00<00:00,  5.44it/s]\u001b[A\n",
      "Action: gender:  25%|███████▎                     | 1/4 [00:00<00:00,  5.44it/s]\u001b[A\n",
      "Action: gender:  50%|██████████████▌              | 2/4 [00:00<00:00,  5.48it/s]\u001b[A\n",
      "Action: race:  50%|███████████████▌               | 2/4 [00:00<00:00,  5.48it/s]\u001b[A\n",
      "Action: race:  75%|███████████████████████▎       | 3/4 [00:00<00:00,  5.41it/s]\u001b[A\n",
      "Action: emotion: 100%|████████████████████████████| 4/4 [00:00<00:00,  7.06it/s]\u001b[A\n",
      "198it [02:14,  1.90it/s]"
     ]
    },
    {
     "name": "stdout",
     "output_type": "stream",
     "text": [
      "/Users/jessecoulter/Downloads/FIN377/CEOPersonalities-/matched_pictures/Martin Anstice/2018\n",
      "Error analyzing /Users/jessecoulter/Downloads/FIN377/CEOPersonalities-/matched_pictures/Martin Anstice/2018/pic3.jpg: Face could not be detected in /Users/jessecoulter/Downloads/FIN377/CEOPersonalities-/matched_pictures/Martin Anstice/2018/pic3.jpg.Please confirm that the picture is a face photo or consider to set enforce_detection param to False.\n",
      "/Users/jessecoulter/Downloads/FIN377/CEOPersonalities-/matched_pictures/Tim Archer/2019\n"
     ]
    },
    {
     "name": "stderr",
     "output_type": "stream",
     "text": [
      "\n",
      "Finding actions:   0%|                                    | 0/4 [00:00<?, ?it/s]\u001b[A\n",
      "Action: age:   0%|                                        | 0/4 [00:00<?, ?it/s]\u001b[A\n",
      "Action: age:  25%|████████                        | 1/4 [00:00<00:00,  5.58it/s]\u001b[A\n",
      "Action: gender:  25%|███████▎                     | 1/4 [00:00<00:00,  5.58it/s]\u001b[A\n",
      "Action: gender:  50%|██████████████▌              | 2/4 [00:00<00:00,  5.44it/s]\u001b[A\n",
      "Action: race:  50%|███████████████▌               | 2/4 [00:00<00:00,  5.44it/s]\u001b[A\n",
      "Action: race:  75%|███████████████████████▎       | 3/4 [00:00<00:00,  5.38it/s]\u001b[A\n",
      "Action: emotion: 100%|████████████████████████████| 4/4 [00:00<00:00,  7.04it/s]\u001b[A\n",
      "\n",
      "Finding actions:   0%|                                    | 0/4 [00:00<?, ?it/s]\u001b[A\n",
      "Action: age:   0%|                                        | 0/4 [00:00<?, ?it/s]\u001b[A\n",
      "Action: age:  25%|████████                        | 1/4 [00:00<00:00,  5.40it/s]\u001b[A\n",
      "Action: gender:  25%|███████▎                     | 1/4 [00:00<00:00,  5.40it/s]\u001b[A\n",
      "Action: gender:  50%|██████████████▌              | 2/4 [00:00<00:00,  5.44it/s]\u001b[A\n",
      "Action: race:  50%|███████████████▌               | 2/4 [00:00<00:00,  5.44it/s]\u001b[A\n",
      "Action: race:  75%|███████████████████████▎       | 3/4 [00:00<00:00,  5.43it/s]\u001b[A\n",
      "Action: emotion: 100%|████████████████████████████| 4/4 [00:00<00:00,  7.06it/s]\u001b[A\n",
      "200it [02:15,  1.58it/s]"
     ]
    },
    {
     "name": "stdout",
     "output_type": "stream",
     "text": [
      "/Users/jessecoulter/Downloads/FIN377/CEOPersonalities-/matched_pictures/Michael R. Splinter/2010\n"
     ]
    },
    {
     "name": "stderr",
     "output_type": "stream",
     "text": [
      "\n",
      "Finding actions:   0%|                                    | 0/4 [00:00<?, ?it/s]\u001b[A\n",
      "Action: age:   0%|                                        | 0/4 [00:00<?, ?it/s]\u001b[A\n",
      "Action: age:  25%|████████                        | 1/4 [00:00<00:00,  5.46it/s]\u001b[A\n",
      "Action: gender:  25%|███████▎                     | 1/4 [00:00<00:00,  5.46it/s]\u001b[A\n",
      "Action: gender:  50%|██████████████▌              | 2/4 [00:00<00:00,  5.45it/s]\u001b[A\n",
      "Action: race:  50%|███████████████▌               | 2/4 [00:00<00:00,  5.45it/s]\u001b[A\n",
      "Action: race:  75%|███████████████████████▎       | 3/4 [00:00<00:00,  5.26it/s]\u001b[A\n",
      "Action: emotion: 100%|████████████████████████████| 4/4 [00:00<00:00,  6.90it/s]\u001b[A\n",
      "201it [02:16,  1.59it/s]"
     ]
    },
    {
     "name": "stdout",
     "output_type": "stream",
     "text": [
      "/Users/jessecoulter/Downloads/FIN377/CEOPersonalities-/matched_pictures/Michael R. Splinter/2011\n"
     ]
    },
    {
     "name": "stderr",
     "output_type": "stream",
     "text": [
      "\n",
      "Finding actions:   0%|                                    | 0/4 [00:00<?, ?it/s]\u001b[A\n",
      "Action: age:   0%|                                        | 0/4 [00:00<?, ?it/s]\u001b[A\n",
      "Action: age:  25%|████████                        | 1/4 [00:00<00:00,  5.34it/s]\u001b[A\n",
      "Action: gender:  25%|███████▎                     | 1/4 [00:00<00:00,  5.34it/s]\u001b[A\n",
      "Action: gender:  50%|██████████████▌              | 2/4 [00:00<00:00,  5.02it/s]\u001b[A\n",
      "Action: race:  50%|███████████████▌               | 2/4 [00:00<00:00,  5.02it/s]\u001b[A\n",
      "Action: race:  75%|███████████████████████▎       | 3/4 [00:00<00:00,  4.98it/s]\u001b[A\n",
      "Action: emotion: 100%|████████████████████████████| 4/4 [00:00<00:00,  6.55it/s]\u001b[A\n",
      "202it [02:16,  1.58it/s]"
     ]
    },
    {
     "name": "stdout",
     "output_type": "stream",
     "text": [
      "/Users/jessecoulter/Downloads/FIN377/CEOPersonalities-/matched_pictures/Michael R. Splinter/2012\n"
     ]
    },
    {
     "name": "stderr",
     "output_type": "stream",
     "text": [
      "\n",
      "Finding actions:   0%|                                    | 0/4 [00:00<?, ?it/s]\u001b[A\n",
      "Action: age:   0%|                                        | 0/4 [00:00<?, ?it/s]\u001b[A\n",
      "Action: age:  25%|████████                        | 1/4 [00:00<00:00,  5.45it/s]\u001b[A\n",
      "Action: gender:  25%|███████▎                     | 1/4 [00:00<00:00,  5.45it/s]\u001b[A\n",
      "Action: gender:  50%|██████████████▌              | 2/4 [00:00<00:00,  4.82it/s]\u001b[A\n",
      "Action: race:  50%|███████████████▌               | 2/4 [00:00<00:00,  4.82it/s]\u001b[A\n",
      "Action: race:  75%|███████████████████████▎       | 3/4 [00:00<00:00,  4.88it/s]\u001b[A\n",
      "Action: emotion: 100%|████████████████████████████| 4/4 [00:00<00:00,  6.40it/s]\u001b[A\n",
      "203it [02:17,  1.52it/s]"
     ]
    },
    {
     "name": "stdout",
     "output_type": "stream",
     "text": [
      "/Users/jessecoulter/Downloads/FIN377/CEOPersonalities-/matched_pictures/Gary E. Dickerson/2013\n"
     ]
    },
    {
     "name": "stderr",
     "output_type": "stream",
     "text": [
      "\n",
      "Finding actions:   0%|                                    | 0/4 [00:00<?, ?it/s]\u001b[A\n",
      "Action: age:   0%|                                        | 0/4 [00:00<?, ?it/s]\u001b[A\n",
      "Action: age:  25%|████████                        | 1/4 [00:00<00:00,  5.09it/s]\u001b[A\n",
      "Action: gender:  25%|███████▎                     | 1/4 [00:00<00:00,  5.09it/s]\u001b[A\n",
      "Action: gender:  50%|██████████████▌              | 2/4 [00:00<00:00,  4.78it/s]\u001b[A\n",
      "Action: race:  50%|███████████████▌               | 2/4 [00:00<00:00,  4.78it/s]\u001b[A\n",
      "Action: race:  75%|███████████████████████▎       | 3/4 [00:00<00:00,  4.76it/s]\u001b[A\n",
      "Action: emotion: 100%|████████████████████████████| 4/4 [00:00<00:00,  6.24it/s]\u001b[A\n",
      "204it [02:18,  1.46it/s]"
     ]
    },
    {
     "name": "stdout",
     "output_type": "stream",
     "text": [
      "/Users/jessecoulter/Downloads/FIN377/CEOPersonalities-/matched_pictures/Gary E. Dickerson/2014\n"
     ]
    },
    {
     "name": "stderr",
     "output_type": "stream",
     "text": [
      "\n",
      "Finding actions:   0%|                                    | 0/4 [00:00<?, ?it/s]\u001b[A\n",
      "Action: age:   0%|                                        | 0/4 [00:00<?, ?it/s]\u001b[A\n",
      "Action: age:  25%|████████                        | 1/4 [00:00<00:00,  4.99it/s]\u001b[A\n",
      "Action: gender:  25%|███████▎                     | 1/4 [00:00<00:00,  4.99it/s]\u001b[A\n",
      "Action: gender:  50%|██████████████▌              | 2/4 [00:00<00:00,  5.19it/s]\u001b[A\n",
      "Action: race:  50%|███████████████▌               | 2/4 [00:00<00:00,  5.19it/s]\u001b[A\n",
      "Action: race:  75%|███████████████████████▎       | 3/4 [00:00<00:00,  4.85it/s]\u001b[A\n",
      "Action: emotion: 100%|████████████████████████████| 4/4 [00:00<00:00,  6.39it/s]\u001b[A\n",
      "205it [02:19,  1.47it/s]"
     ]
    },
    {
     "name": "stdout",
     "output_type": "stream",
     "text": [
      "/Users/jessecoulter/Downloads/FIN377/CEOPersonalities-/matched_pictures/Gary E. Dickerson/2015\n"
     ]
    },
    {
     "name": "stderr",
     "output_type": "stream",
     "text": [
      "\n",
      "Finding actions:   0%|                                    | 0/4 [00:00<?, ?it/s]\u001b[A\n",
      "Action: age:   0%|                                        | 0/4 [00:00<?, ?it/s]\u001b[A\n",
      "Action: age:  25%|████████                        | 1/4 [00:00<00:00,  4.42it/s]\u001b[A\n",
      "Action: gender:  25%|███████▎                     | 1/4 [00:00<00:00,  4.42it/s]\u001b[A\n",
      "Action: gender:  50%|██████████████▌              | 2/4 [00:00<00:00,  4.71it/s]\u001b[A\n",
      "Action: race:  50%|███████████████▌               | 2/4 [00:00<00:00,  4.71it/s]\u001b[A\n",
      "Action: race:  75%|███████████████████████▎       | 3/4 [00:00<00:00,  4.84it/s]\u001b[A\n",
      "Action: emotion: 100%|████████████████████████████| 4/4 [00:00<00:00,  6.21it/s]\u001b[A\n",
      "206it [02:19,  1.47it/s]"
     ]
    },
    {
     "name": "stdout",
     "output_type": "stream",
     "text": [
      "/Users/jessecoulter/Downloads/FIN377/CEOPersonalities-/matched_pictures/Gary E. Dickerson/2016\n"
     ]
    },
    {
     "name": "stderr",
     "output_type": "stream",
     "text": [
      "\n",
      "Finding actions:   0%|                                    | 0/4 [00:00<?, ?it/s]\u001b[A\n",
      "Action: age:   0%|                                        | 0/4 [00:00<?, ?it/s]\u001b[A\n",
      "Action: age:  25%|████████                        | 1/4 [00:00<00:00,  5.21it/s]\u001b[A\n",
      "Action: gender:  25%|███████▎                     | 1/4 [00:00<00:00,  5.21it/s]\u001b[A\n",
      "Action: gender:  50%|██████████████▌              | 2/4 [00:00<00:00,  5.15it/s]\u001b[A\n",
      "Action: race:  50%|███████████████▌               | 2/4 [00:00<00:00,  5.15it/s]\u001b[A\n",
      "Action: race:  75%|███████████████████████▎       | 3/4 [00:00<00:00,  5.16it/s]\u001b[A\n",
      "Action: emotion: 100%|████████████████████████████| 4/4 [00:00<00:00,  6.73it/s]\u001b[A\n",
      "207it [02:20,  1.37it/s]"
     ]
    },
    {
     "name": "stdout",
     "output_type": "stream",
     "text": [
      "/Users/jessecoulter/Downloads/FIN377/CEOPersonalities-/matched_pictures/Gary E. Dickerson/2017\n"
     ]
    },
    {
     "name": "stderr",
     "output_type": "stream",
     "text": [
      "\n",
      "Finding actions:   0%|                                    | 0/4 [00:00<?, ?it/s]\u001b[A\n",
      "Action: age:   0%|                                        | 0/4 [00:00<?, ?it/s]\u001b[A\n",
      "Action: age:  25%|████████                        | 1/4 [00:00<00:00,  5.28it/s]\u001b[A\n",
      "Action: gender:  25%|███████▎                     | 1/4 [00:00<00:00,  5.28it/s]\u001b[A\n",
      "Action: gender:  50%|██████████████▌              | 2/4 [00:00<00:00,  5.22it/s]\u001b[A\n",
      "Action: race:  50%|███████████████▌               | 2/4 [00:00<00:00,  5.22it/s]\u001b[A\n",
      "Action: race:  75%|███████████████████████▎       | 3/4 [00:00<00:00,  5.26it/s]\u001b[A\n",
      "Action: emotion: 100%|████████████████████████████| 4/4 [00:00<00:00,  6.83it/s]\u001b[A\n",
      "208it [02:21,  1.44it/s]"
     ]
    },
    {
     "name": "stdout",
     "output_type": "stream",
     "text": [
      "/Users/jessecoulter/Downloads/FIN377/CEOPersonalities-/matched_pictures/Gary E. Dickerson/2018\n"
     ]
    },
    {
     "name": "stderr",
     "output_type": "stream",
     "text": [
      "\n",
      "Finding actions:   0%|                                    | 0/4 [00:00<?, ?it/s]\u001b[A\n",
      "Action: age:   0%|                                        | 0/4 [00:00<?, ?it/s]\u001b[A\n",
      "Action: age:  25%|████████                        | 1/4 [00:00<00:00,  5.35it/s]\u001b[A\n",
      "Action: gender:  25%|███████▎                     | 1/4 [00:00<00:00,  5.35it/s]\u001b[A\n",
      "Action: gender:  50%|██████████████▌              | 2/4 [00:00<00:00,  5.37it/s]\u001b[A\n",
      "Action: race:  50%|███████████████▌               | 2/4 [00:00<00:00,  5.37it/s]\u001b[A\n",
      "Action: race:  75%|███████████████████████▎       | 3/4 [00:00<00:00,  5.39it/s]\u001b[A\n",
      "Action: emotion: 100%|████████████████████████████| 4/4 [00:00<00:00,  6.99it/s]\u001b[A\n",
      "209it [02:21,  1.48it/s]"
     ]
    },
    {
     "name": "stdout",
     "output_type": "stream",
     "text": [
      "/Users/jessecoulter/Downloads/FIN377/CEOPersonalities-/matched_pictures/Gary E. Dickerson/2019\n"
     ]
    },
    {
     "name": "stderr",
     "output_type": "stream",
     "text": [
      "\n",
      "Finding actions:   0%|                                    | 0/4 [00:00<?, ?it/s]\u001b[A\n",
      "Action: age:   0%|                                        | 0/4 [00:00<?, ?it/s]\u001b[A\n",
      "Action: age:  25%|████████                        | 1/4 [00:00<00:00,  5.28it/s]\u001b[A\n",
      "Action: gender:  25%|███████▎                     | 1/4 [00:00<00:00,  5.28it/s]\u001b[A\n",
      "Action: gender:  50%|██████████████▌              | 2/4 [00:00<00:00,  5.11it/s]\u001b[A\n",
      "Action: race:  50%|███████████████▌               | 2/4 [00:00<00:00,  5.11it/s]\u001b[A\n",
      "Action: race:  75%|███████████████████████▎       | 3/4 [00:00<00:00,  5.21it/s]\u001b[A\n",
      "Action: emotion: 100%|████████████████████████████| 4/4 [00:00<00:00,  6.76it/s]\u001b[A\n",
      "210it [02:22,  1.44it/s]"
     ]
    },
    {
     "name": "stdout",
     "output_type": "stream",
     "text": [
      "/Users/jessecoulter/Downloads/FIN377/CEOPersonalities-/matched_pictures/Rick Wallace/2010\n"
     ]
    },
    {
     "name": "stderr",
     "output_type": "stream",
     "text": [
      "\n",
      "Finding actions:   0%|                                    | 0/4 [00:00<?, ?it/s]\u001b[A\n",
      "Action: age:   0%|                                        | 0/4 [00:00<?, ?it/s]\u001b[A\n",
      "Action: age:  25%|████████                        | 1/4 [00:00<00:00,  5.22it/s]\u001b[A\n",
      "Action: gender:  25%|███████▎                     | 1/4 [00:00<00:00,  5.22it/s]\u001b[A\n",
      "Action: gender:  50%|██████████████▌              | 2/4 [00:00<00:00,  5.03it/s]\u001b[A\n",
      "Action: race:  50%|███████████████▌               | 2/4 [00:00<00:00,  5.03it/s]\u001b[A\n",
      "Action: race:  75%|███████████████████████▎       | 3/4 [00:00<00:00,  5.24it/s]\u001b[A\n",
      "Action: emotion: 100%|████████████████████████████| 4/4 [00:00<00:00,  6.77it/s]\u001b[A\n",
      "211it [02:23,  1.49it/s]"
     ]
    },
    {
     "name": "stdout",
     "output_type": "stream",
     "text": [
      "/Users/jessecoulter/Downloads/FIN377/CEOPersonalities-/matched_pictures/Rick Wallace/2011\n"
     ]
    },
    {
     "name": "stderr",
     "output_type": "stream",
     "text": [
      "\n",
      "Finding actions:   0%|                                    | 0/4 [00:00<?, ?it/s]\u001b[A\n",
      "Action: age:   0%|                                        | 0/4 [00:00<?, ?it/s]\u001b[A\n",
      "Action: age:  25%|████████                        | 1/4 [00:00<00:00,  5.54it/s]\u001b[A\n",
      "Action: gender:  25%|███████▎                     | 1/4 [00:00<00:00,  5.54it/s]\u001b[A\n",
      "Action: gender:  50%|██████████████▌              | 2/4 [00:00<00:00,  5.49it/s]\u001b[A\n",
      "Action: race:  50%|███████████████▌               | 2/4 [00:00<00:00,  5.49it/s]\u001b[A\n",
      "Action: race:  75%|███████████████████████▎       | 3/4 [00:00<00:00,  5.43it/s]\u001b[A\n",
      "Action: emotion: 100%|████████████████████████████| 4/4 [00:00<00:00,  7.08it/s]\u001b[A\n",
      "212it [02:23,  1.52it/s]"
     ]
    },
    {
     "name": "stdout",
     "output_type": "stream",
     "text": [
      "/Users/jessecoulter/Downloads/FIN377/CEOPersonalities-/matched_pictures/Rick Wallace/2012\n"
     ]
    },
    {
     "name": "stderr",
     "output_type": "stream",
     "text": [
      "\n",
      "Finding actions:   0%|                                    | 0/4 [00:00<?, ?it/s]\u001b[A\n",
      "Action: age:   0%|                                        | 0/4 [00:00<?, ?it/s]\u001b[A\n",
      "Action: age:  25%|████████                        | 1/4 [00:00<00:00,  5.29it/s]\u001b[A\n",
      "Action: gender:  25%|███████▎                     | 1/4 [00:00<00:00,  5.29it/s]\u001b[A\n",
      "Action: gender:  50%|██████████████▌              | 2/4 [00:00<00:00,  5.28it/s]\u001b[A\n",
      "Action: race:  50%|███████████████▌               | 2/4 [00:00<00:00,  5.28it/s]\u001b[A\n",
      "Action: race:  75%|███████████████████████▎       | 3/4 [00:00<00:00,  5.35it/s]\u001b[A\n",
      "Action: emotion: 100%|████████████████████████████| 4/4 [00:00<00:00,  6.94it/s]\u001b[A\n",
      "213it [02:24,  1.52it/s]"
     ]
    },
    {
     "name": "stdout",
     "output_type": "stream",
     "text": [
      "/Users/jessecoulter/Downloads/FIN377/CEOPersonalities-/matched_pictures/Rick Wallace/2013\n"
     ]
    },
    {
     "name": "stderr",
     "output_type": "stream",
     "text": [
      "\n",
      "Finding actions:   0%|                                    | 0/4 [00:00<?, ?it/s]\u001b[A\n",
      "Action: age:   0%|                                        | 0/4 [00:00<?, ?it/s]\u001b[A\n",
      "Action: age:  25%|████████                        | 1/4 [00:00<00:00,  5.30it/s]\u001b[A\n",
      "Action: gender:  25%|███████▎                     | 1/4 [00:00<00:00,  5.30it/s]\u001b[A\n",
      "Action: gender:  50%|██████████████▌              | 2/4 [00:00<00:00,  5.37it/s]\u001b[A\n",
      "Action: race:  50%|███████████████▌               | 2/4 [00:00<00:00,  5.37it/s]\u001b[A\n",
      "Action: race:  75%|███████████████████████▎       | 3/4 [00:00<00:00,  5.38it/s]\u001b[A\n",
      "Action: emotion: 100%|████████████████████████████| 4/4 [00:00<00:00,  6.98it/s]\u001b[A\n",
      "214it [02:25,  1.56it/s]"
     ]
    },
    {
     "name": "stdout",
     "output_type": "stream",
     "text": [
      "/Users/jessecoulter/Downloads/FIN377/CEOPersonalities-/matched_pictures/Rick Wallace/2014\n"
     ]
    },
    {
     "name": "stderr",
     "output_type": "stream",
     "text": [
      "\n",
      "Finding actions:   0%|                                    | 0/4 [00:00<?, ?it/s]\u001b[A\n",
      "Action: age:   0%|                                        | 0/4 [00:00<?, ?it/s]\u001b[A\n",
      "Action: age:  25%|████████                        | 1/4 [00:00<00:00,  5.29it/s]\u001b[A\n",
      "Action: gender:  25%|███████▎                     | 1/4 [00:00<00:00,  5.29it/s]\u001b[A\n",
      "Action: gender:  50%|██████████████▌              | 2/4 [00:00<00:00,  5.34it/s]\u001b[A\n",
      "Action: race:  50%|███████████████▌               | 2/4 [00:00<00:00,  5.34it/s]\u001b[A\n",
      "Action: race:  75%|███████████████████████▎       | 3/4 [00:00<00:00,  5.43it/s]\u001b[A\n",
      "Action: emotion: 100%|████████████████████████████| 4/4 [00:00<00:00,  7.02it/s]\u001b[A\n",
      "215it [02:25,  1.60it/s]"
     ]
    },
    {
     "name": "stdout",
     "output_type": "stream",
     "text": [
      "/Users/jessecoulter/Downloads/FIN377/CEOPersonalities-/matched_pictures/Rick Wallace/2015\n"
     ]
    },
    {
     "name": "stderr",
     "output_type": "stream",
     "text": [
      "\n",
      "Finding actions:   0%|                                    | 0/4 [00:00<?, ?it/s]\u001b[A\n",
      "Action: age:   0%|                                        | 0/4 [00:00<?, ?it/s]\u001b[A\n",
      "Action: age:  25%|████████                        | 1/4 [00:00<00:00,  5.27it/s]\u001b[A\n",
      "Action: gender:  25%|███████▎                     | 1/4 [00:00<00:00,  5.27it/s]\u001b[A\n",
      "Action: gender:  50%|██████████████▌              | 2/4 [00:00<00:00,  5.35it/s]\u001b[A\n",
      "Action: race:  50%|███████████████▌               | 2/4 [00:00<00:00,  5.35it/s]\u001b[A\n",
      "Action: race:  75%|███████████████████████▎       | 3/4 [00:00<00:00,  5.41it/s]\u001b[A\n",
      "Action: emotion: 100%|████████████████████████████| 4/4 [00:00<00:00,  6.97it/s]\u001b[A\n",
      "216it [02:26,  1.62it/s]"
     ]
    },
    {
     "name": "stdout",
     "output_type": "stream",
     "text": [
      "/Users/jessecoulter/Downloads/FIN377/CEOPersonalities-/matched_pictures/Rick Wallace/2016\n"
     ]
    },
    {
     "name": "stderr",
     "output_type": "stream",
     "text": [
      "\n",
      "Finding actions:   0%|                                    | 0/4 [00:00<?, ?it/s]\u001b[A\n",
      "Action: age:   0%|                                        | 0/4 [00:00<?, ?it/s]\u001b[A\n",
      "Action: age:  25%|████████                        | 1/4 [00:00<00:00,  5.16it/s]\u001b[A\n",
      "Action: gender:  25%|███████▎                     | 1/4 [00:00<00:00,  5.16it/s]\u001b[A\n",
      "Action: gender:  50%|██████████████▌              | 2/4 [00:00<00:00,  5.30it/s]\u001b[A\n",
      "Action: race:  50%|███████████████▌               | 2/4 [00:00<00:00,  5.30it/s]\u001b[A\n",
      "Action: race:  75%|███████████████████████▎       | 3/4 [00:00<00:00,  5.41it/s]\u001b[A\n",
      "Action: emotion: 100%|████████████████████████████| 4/4 [00:00<00:00,  6.97it/s]\u001b[A\n",
      "217it [02:26,  1.62it/s]"
     ]
    },
    {
     "name": "stdout",
     "output_type": "stream",
     "text": [
      "/Users/jessecoulter/Downloads/FIN377/CEOPersonalities-/matched_pictures/Rick Wallace/2017\n"
     ]
    },
    {
     "name": "stderr",
     "output_type": "stream",
     "text": [
      "\n",
      "Finding actions:   0%|                                    | 0/4 [00:00<?, ?it/s]\u001b[A\n",
      "Action: age:   0%|                                        | 0/4 [00:00<?, ?it/s]\u001b[A\n",
      "Action: age:  25%|████████                        | 1/4 [00:00<00:00,  5.36it/s]\u001b[A\n",
      "Action: gender:  25%|███████▎                     | 1/4 [00:00<00:00,  5.36it/s]\u001b[A\n",
      "Action: gender:  50%|██████████████▌              | 2/4 [00:00<00:00,  5.37it/s]\u001b[A\n",
      "Action: race:  50%|███████████████▌               | 2/4 [00:00<00:00,  5.37it/s]\u001b[A\n",
      "Action: race:  75%|███████████████████████▎       | 3/4 [00:00<00:00,  5.38it/s]\u001b[A\n",
      "Action: emotion: 100%|████████████████████████████| 4/4 [00:00<00:00,  7.00it/s]\u001b[A\n",
      "218it [02:27,  1.48it/s]"
     ]
    },
    {
     "name": "stdout",
     "output_type": "stream",
     "text": [
      "/Users/jessecoulter/Downloads/FIN377/CEOPersonalities-/matched_pictures/Rick Wallace/2018\n"
     ]
    },
    {
     "name": "stderr",
     "output_type": "stream",
     "text": [
      "\n",
      "Finding actions:   0%|                                    | 0/4 [00:00<?, ?it/s]\u001b[A\n",
      "Action: age:   0%|                                        | 0/4 [00:00<?, ?it/s]\u001b[A\n",
      "Action: age:  25%|████████                        | 1/4 [00:00<00:00,  5.58it/s]\u001b[A\n",
      "Action: gender:  25%|███████▎                     | 1/4 [00:00<00:00,  5.58it/s]\u001b[A\n",
      "Action: gender:  50%|██████████████▌              | 2/4 [00:00<00:00,  5.48it/s]\u001b[A\n",
      "Action: race:  50%|███████████████▌               | 2/4 [00:00<00:00,  5.48it/s]\u001b[A\n",
      "Action: race:  75%|███████████████████████▎       | 3/4 [00:00<00:00,  5.32it/s]\u001b[A\n",
      "Action: emotion: 100%|████████████████████████████| 4/4 [00:00<00:00,  6.97it/s]\u001b[A\n",
      "219it [02:28,  1.50it/s]"
     ]
    },
    {
     "name": "stdout",
     "output_type": "stream",
     "text": [
      "/Users/jessecoulter/Downloads/FIN377/CEOPersonalities-/matched_pictures/Rick Wallace/2019\n"
     ]
    },
    {
     "name": "stderr",
     "output_type": "stream",
     "text": [
      "\n",
      "Finding actions:   0%|                                    | 0/4 [00:00<?, ?it/s]\u001b[A\n",
      "Action: age:   0%|                                        | 0/4 [00:00<?, ?it/s]\u001b[A\n",
      "Action: age:  25%|████████                        | 1/4 [00:00<00:00,  5.51it/s]\u001b[A\n",
      "Action: gender:  25%|███████▎                     | 1/4 [00:00<00:00,  5.51it/s]\u001b[A\n",
      "Action: gender:  50%|██████████████▌              | 2/4 [00:00<00:00,  5.49it/s]\u001b[A\n",
      "Action: race:  50%|███████████████▌               | 2/4 [00:00<00:00,  5.49it/s]\u001b[A\n",
      "Action: race:  75%|███████████████████████▎       | 3/4 [00:00<00:00,  5.37it/s]\u001b[A\n",
      "Action: emotion: 100%|████████████████████████████| 4/4 [00:00<00:00,  7.00it/s]\u001b[A\n",
      "220it [02:28,  1.54it/s]"
     ]
    },
    {
     "name": "stdout",
     "output_type": "stream",
     "text": [
      "/Users/jessecoulter/Downloads/FIN377/CEOPersonalities-/matched_pictures/Sehat Sutardja/2010\n"
     ]
    },
    {
     "name": "stderr",
     "output_type": "stream",
     "text": [
      "\n",
      "Finding actions:   0%|                                    | 0/4 [00:00<?, ?it/s]\u001b[A\n",
      "Action: age:   0%|                                        | 0/4 [00:00<?, ?it/s]\u001b[A\n",
      "Action: age:  25%|████████                        | 1/4 [00:00<00:00,  5.42it/s]\u001b[A\n",
      "Action: gender:  25%|███████▎                     | 1/4 [00:00<00:00,  5.42it/s]\u001b[A\n",
      "Action: gender:  50%|██████████████▌              | 2/4 [00:00<00:00,  5.45it/s]\u001b[A\n",
      "Action: race:  50%|███████████████▌               | 2/4 [00:00<00:00,  5.45it/s]\u001b[A\n",
      "Action: race:  75%|███████████████████████▎       | 3/4 [00:00<00:00,  5.47it/s]\u001b[A\n",
      "Action: emotion: 100%|████████████████████████████| 4/4 [00:00<00:00,  7.10it/s]\u001b[A\n",
      "221it [02:29,  1.58it/s]"
     ]
    },
    {
     "name": "stdout",
     "output_type": "stream",
     "text": [
      "/Users/jessecoulter/Downloads/FIN377/CEOPersonalities-/matched_pictures/Sehat Sutardja/2011\n"
     ]
    },
    {
     "name": "stderr",
     "output_type": "stream",
     "text": [
      "\n",
      "Finding actions:   0%|                                    | 0/4 [00:00<?, ?it/s]\u001b[A\n",
      "Action: age:   0%|                                        | 0/4 [00:00<?, ?it/s]\u001b[A\n",
      "Action: age:  25%|████████                        | 1/4 [00:00<00:00,  5.36it/s]\u001b[A\n",
      "Action: gender:  25%|███████▎                     | 1/4 [00:00<00:00,  5.36it/s]\u001b[A\n",
      "Action: gender:  50%|██████████████▌              | 2/4 [00:00<00:00,  5.45it/s]\u001b[A\n",
      "Action: race:  50%|███████████████▌               | 2/4 [00:00<00:00,  5.45it/s]\u001b[A\n",
      "Action: race:  75%|███████████████████████▎       | 3/4 [00:00<00:00,  5.49it/s]\u001b[A\n",
      "Action: emotion: 100%|████████████████████████████| 4/4 [00:00<00:00,  7.11it/s]\u001b[A\n",
      "222it [02:30,  1.62it/s]"
     ]
    },
    {
     "name": "stdout",
     "output_type": "stream",
     "text": [
      "/Users/jessecoulter/Downloads/FIN377/CEOPersonalities-/matched_pictures/Sehat Sutardja/2012\n"
     ]
    },
    {
     "name": "stderr",
     "output_type": "stream",
     "text": [
      "\n",
      "Finding actions:   0%|                                    | 0/4 [00:00<?, ?it/s]\u001b[A\n",
      "Action: age:   0%|                                        | 0/4 [00:00<?, ?it/s]\u001b[A\n",
      "Action: age:  25%|████████                        | 1/4 [00:00<00:00,  5.42it/s]\u001b[A\n",
      "Action: gender:  25%|███████▎                     | 1/4 [00:00<00:00,  5.42it/s]\u001b[A\n",
      "Action: gender:  50%|██████████████▌              | 2/4 [00:00<00:00,  5.50it/s]\u001b[A\n",
      "Action: race:  50%|███████████████▌               | 2/4 [00:00<00:00,  5.50it/s]\u001b[A\n",
      "Action: race:  75%|███████████████████████▎       | 3/4 [00:00<00:00,  5.48it/s]\u001b[A\n",
      "Action: emotion: 100%|████████████████████████████| 4/4 [00:00<00:00,  7.11it/s]\u001b[A\n",
      "223it [02:30,  1.59it/s]"
     ]
    },
    {
     "name": "stdout",
     "output_type": "stream",
     "text": [
      "/Users/jessecoulter/Downloads/FIN377/CEOPersonalities-/matched_pictures/Sehat Sutardja/2013\n"
     ]
    },
    {
     "name": "stderr",
     "output_type": "stream",
     "text": [
      "\n",
      "Finding actions:   0%|                                    | 0/4 [00:00<?, ?it/s]\u001b[A\n",
      "Action: age:   0%|                                        | 0/4 [00:00<?, ?it/s]\u001b[A\n",
      "Action: age:  25%|████████                        | 1/4 [00:00<00:00,  5.53it/s]\u001b[A\n",
      "Action: gender:  25%|███████▎                     | 1/4 [00:00<00:00,  5.53it/s]\u001b[A\n",
      "Action: gender:  50%|██████████████▌              | 2/4 [00:00<00:00,  5.55it/s]\u001b[A\n",
      "Action: race:  50%|███████████████▌               | 2/4 [00:00<00:00,  5.55it/s]\u001b[A\n",
      "Action: race:  75%|███████████████████████▎       | 3/4 [00:00<00:00,  5.45it/s]\u001b[A\n",
      "Action: emotion: 100%|████████████████████████████| 4/4 [00:00<00:00,  7.11it/s]\u001b[A\n",
      "224it [02:31,  1.61it/s]"
     ]
    },
    {
     "name": "stdout",
     "output_type": "stream",
     "text": [
      "/Users/jessecoulter/Downloads/FIN377/CEOPersonalities-/matched_pictures/Sehat Sutardja/2014\n"
     ]
    },
    {
     "name": "stderr",
     "output_type": "stream",
     "text": [
      "\n",
      "Finding actions:   0%|                                    | 0/4 [00:00<?, ?it/s]\u001b[A\n",
      "Action: age:   0%|                                        | 0/4 [00:00<?, ?it/s]\u001b[A\n",
      "Action: age:  25%|████████                        | 1/4 [00:00<00:00,  5.56it/s]\u001b[A\n",
      "Action: gender:  25%|███████▎                     | 1/4 [00:00<00:00,  5.56it/s]\u001b[A\n",
      "Action: gender:  50%|██████████████▌              | 2/4 [00:00<00:00,  5.51it/s]\u001b[A\n",
      "Action: race:  50%|███████████████▌               | 2/4 [00:00<00:00,  5.51it/s]\u001b[A\n",
      "Action: race:  75%|███████████████████████▎       | 3/4 [00:00<00:00,  5.47it/s]\u001b[A\n",
      "Action: emotion: 100%|████████████████████████████| 4/4 [00:00<00:00,  7.14it/s]\u001b[A\n",
      "225it [02:32,  1.60it/s]"
     ]
    },
    {
     "name": "stdout",
     "output_type": "stream",
     "text": [
      "/Users/jessecoulter/Downloads/FIN377/CEOPersonalities-/matched_pictures/Sehat Sutardja/2015\n"
     ]
    },
    {
     "name": "stderr",
     "output_type": "stream",
     "text": [
      "\n",
      "Finding actions:   0%|                                    | 0/4 [00:00<?, ?it/s]\u001b[A\n",
      "Action: age:   0%|                                        | 0/4 [00:00<?, ?it/s]\u001b[A\n",
      "Action: age:  25%|████████                        | 1/4 [00:00<00:00,  5.38it/s]\u001b[A\n",
      "Action: gender:  25%|███████▎                     | 1/4 [00:00<00:00,  5.38it/s]\u001b[A\n",
      "Action: gender:  50%|██████████████▌              | 2/4 [00:00<00:00,  5.49it/s]\u001b[A\n",
      "Action: race:  50%|███████████████▌               | 2/4 [00:00<00:00,  5.49it/s]\u001b[A\n",
      "Action: race:  75%|███████████████████████▎       | 3/4 [00:00<00:00,  5.45it/s]\u001b[A\n",
      "Action: emotion: 100%|████████████████████████████| 4/4 [00:00<00:00,  7.08it/s]\u001b[A\n",
      "226it [02:32,  1.53it/s]"
     ]
    },
    {
     "name": "stdout",
     "output_type": "stream",
     "text": [
      "/Users/jessecoulter/Downloads/FIN377/CEOPersonalities-/matched_pictures/Matthew J. Murphy/2016\n"
     ]
    },
    {
     "name": "stderr",
     "output_type": "stream",
     "text": [
      "\n",
      "Finding actions:   0%|                                    | 0/4 [00:00<?, ?it/s]\u001b[A\n",
      "Action: age:   0%|                                        | 0/4 [00:00<?, ?it/s]\u001b[A\n",
      "Action: age:  25%|████████                        | 1/4 [00:00<00:00,  5.43it/s]\u001b[A\n",
      "Action: gender:  25%|███████▎                     | 1/4 [00:00<00:00,  5.43it/s]\u001b[A\n",
      "Action: gender:  50%|██████████████▌              | 2/4 [00:00<00:00,  5.43it/s]\u001b[A\n",
      "Action: race:  50%|███████████████▌               | 2/4 [00:00<00:00,  5.43it/s]\u001b[A\n",
      "Action: race:  75%|███████████████████████▎       | 3/4 [00:00<00:00,  5.41it/s]\u001b[A\n",
      "Action: emotion: 100%|████████████████████████████| 4/4 [00:00<00:00,  7.04it/s]\u001b[A\n",
      "227it [02:33,  1.56it/s]"
     ]
    },
    {
     "name": "stdout",
     "output_type": "stream",
     "text": [
      "/Users/jessecoulter/Downloads/FIN377/CEOPersonalities-/matched_pictures/Matthew J. Murphy/2017\n"
     ]
    },
    {
     "name": "stderr",
     "output_type": "stream",
     "text": [
      "\n",
      "Finding actions:   0%|                                    | 0/4 [00:00<?, ?it/s]\u001b[A\n",
      "Action: age:   0%|                                        | 0/4 [00:00<?, ?it/s]\u001b[A\n",
      "Action: age:  25%|████████                        | 1/4 [00:00<00:00,  5.38it/s]\u001b[A\n",
      "Action: gender:  25%|███████▎                     | 1/4 [00:00<00:00,  5.38it/s]\u001b[A\n",
      "Action: gender:  50%|██████████████▌              | 2/4 [00:00<00:00,  5.38it/s]\u001b[A\n",
      "Action: race:  50%|███████████████▌               | 2/4 [00:00<00:00,  5.38it/s]\u001b[A\n",
      "Action: race:  75%|███████████████████████▎       | 3/4 [00:00<00:00,  5.47it/s]\u001b[A\n",
      "Action: emotion: 100%|████████████████████████████| 4/4 [00:00<00:00,  7.08it/s]\u001b[A\n",
      "228it [02:33,  1.60it/s]"
     ]
    },
    {
     "name": "stdout",
     "output_type": "stream",
     "text": [
      "/Users/jessecoulter/Downloads/FIN377/CEOPersonalities-/matched_pictures/Matthew J. Murphy/2018\n"
     ]
    },
    {
     "name": "stderr",
     "output_type": "stream",
     "text": [
      "\n",
      "Finding actions:   0%|                                    | 0/4 [00:00<?, ?it/s]\u001b[A\n",
      "Action: age:   0%|                                        | 0/4 [00:00<?, ?it/s]\u001b[A\n",
      "Action: age:  25%|████████                        | 1/4 [00:00<00:00,  5.39it/s]\u001b[A\n",
      "Action: gender:  25%|███████▎                     | 1/4 [00:00<00:00,  5.39it/s]\u001b[A\n",
      "Action: gender:  50%|██████████████▌              | 2/4 [00:00<00:00,  5.32it/s]\u001b[A\n",
      "Action: race:  50%|███████████████▌               | 2/4 [00:00<00:00,  5.32it/s]\u001b[A\n",
      "Action: race:  75%|███████████████████████▎       | 3/4 [00:00<00:00,  5.43it/s]\u001b[A\n",
      "Action: emotion: 100%|████████████████████████████| 4/4 [00:00<00:00,  7.03it/s]\u001b[A\n",
      "229it [02:34,  1.62it/s]"
     ]
    },
    {
     "name": "stdout",
     "output_type": "stream",
     "text": [
      "/Users/jessecoulter/Downloads/FIN377/CEOPersonalities-/matched_pictures/Matthew J. Murphy/2019\n"
     ]
    },
    {
     "name": "stderr",
     "output_type": "stream",
     "text": [
      "\n",
      "Finding actions:   0%|                                    | 0/4 [00:00<?, ?it/s]\u001b[A\n",
      "Action: age:   0%|                                        | 0/4 [00:00<?, ?it/s]\u001b[A\n",
      "Action: age:  25%|████████                        | 1/4 [00:00<00:00,  5.39it/s]\u001b[A\n",
      "Action: gender:  25%|███████▎                     | 1/4 [00:00<00:00,  5.39it/s]\u001b[A\n",
      "Action: gender:  50%|██████████████▌              | 2/4 [00:00<00:00,  5.45it/s]\u001b[A\n",
      "Action: race:  50%|███████████████▌               | 2/4 [00:00<00:00,  5.45it/s]\u001b[A\n",
      "Action: race:  75%|███████████████████████▎       | 3/4 [00:00<00:00,  5.47it/s]\u001b[A\n",
      "Action: emotion: 100%|████████████████████████████| 4/4 [00:00<00:00,  7.10it/s]\u001b[A\n",
      "230it [02:35,  1.64it/s]"
     ]
    },
    {
     "name": "stdout",
     "output_type": "stream",
     "text": [
      "/Users/jessecoulter/Downloads/FIN377/CEOPersonalities-/matched_pictures/Lip-Bu Tan/2010\n"
     ]
    },
    {
     "name": "stderr",
     "output_type": "stream",
     "text": [
      "\n",
      "Finding actions:   0%|                                    | 0/4 [00:00<?, ?it/s]\u001b[A\n",
      "Action: age:   0%|                                        | 0/4 [00:00<?, ?it/s]\u001b[A\n",
      "Action: age:  25%|████████                        | 1/4 [00:00<00:00,  5.34it/s]\u001b[A\n",
      "Action: gender:  25%|███████▎                     | 1/4 [00:00<00:00,  5.34it/s]\u001b[A\n",
      "Action: gender:  50%|██████████████▌              | 2/4 [00:00<00:00,  5.40it/s]\u001b[A\n",
      "Action: race:  50%|███████████████▌               | 2/4 [00:00<00:00,  5.40it/s]\u001b[A\n",
      "Action: race:  75%|███████████████████████▎       | 3/4 [00:00<00:00,  5.45it/s]\u001b[A\n",
      "Action: emotion: 100%|████████████████████████████| 4/4 [00:00<00:00,  7.05it/s]\u001b[A\n",
      "231it [02:35,  1.65it/s]"
     ]
    },
    {
     "name": "stdout",
     "output_type": "stream",
     "text": [
      "/Users/jessecoulter/Downloads/FIN377/CEOPersonalities-/matched_pictures/Lip-Bu Tan/2011\n"
     ]
    },
    {
     "name": "stderr",
     "output_type": "stream",
     "text": [
      "\n",
      "Finding actions:   0%|                                    | 0/4 [00:00<?, ?it/s]\u001b[A\n",
      "Action: age:   0%|                                        | 0/4 [00:00<?, ?it/s]\u001b[A\n",
      "Action: age:  25%|████████                        | 1/4 [00:00<00:00,  5.37it/s]\u001b[A\n",
      "Action: gender:  25%|███████▎                     | 1/4 [00:00<00:00,  5.37it/s]\u001b[A\n",
      "Action: gender:  50%|██████████████▌              | 2/4 [00:00<00:00,  5.44it/s]\u001b[A\n",
      "Action: race:  50%|███████████████▌               | 2/4 [00:00<00:00,  5.44it/s]\u001b[A\n",
      "Action: race:  75%|███████████████████████▎       | 3/4 [00:00<00:00,  5.50it/s]\u001b[A\n",
      "Action: emotion: 100%|████████████████████████████| 4/4 [00:00<00:00,  7.11it/s]\u001b[A\n",
      "232it [02:36,  1.67it/s]"
     ]
    },
    {
     "name": "stdout",
     "output_type": "stream",
     "text": [
      "/Users/jessecoulter/Downloads/FIN377/CEOPersonalities-/matched_pictures/Lip-Bu Tan/2012\n"
     ]
    },
    {
     "name": "stderr",
     "output_type": "stream",
     "text": [
      "\n",
      "Finding actions:   0%|                                    | 0/4 [00:00<?, ?it/s]\u001b[A\n",
      "Action: age:   0%|                                        | 0/4 [00:00<?, ?it/s]\u001b[A\n",
      "Action: age:  25%|████████                        | 1/4 [00:00<00:00,  4.97it/s]\u001b[A\n",
      "Action: gender:  25%|███████▎                     | 1/4 [00:00<00:00,  4.97it/s]\u001b[A\n",
      "Action: gender:  50%|██████████████▌              | 2/4 [00:00<00:00,  5.23it/s]\u001b[A\n",
      "Action: race:  50%|███████████████▌               | 2/4 [00:00<00:00,  5.23it/s]\u001b[A\n",
      "Action: race:  75%|███████████████████████▎       | 3/4 [00:00<00:00,  5.32it/s]\u001b[A\n",
      "Action: emotion: 100%|████████████████████████████| 4/4 [00:00<00:00,  6.86it/s]\u001b[A\n",
      "233it [02:36,  1.65it/s]"
     ]
    },
    {
     "name": "stdout",
     "output_type": "stream",
     "text": [
      "/Users/jessecoulter/Downloads/FIN377/CEOPersonalities-/matched_pictures/Lip-Bu Tan/2013\n"
     ]
    },
    {
     "name": "stderr",
     "output_type": "stream",
     "text": [
      "\n",
      "Finding actions:   0%|                                    | 0/4 [00:00<?, ?it/s]\u001b[A\n",
      "Action: age:   0%|                                        | 0/4 [00:00<?, ?it/s]\u001b[A\n",
      "Action: age:  25%|████████                        | 1/4 [00:00<00:00,  5.34it/s]\u001b[A\n",
      "Action: gender:  25%|███████▎                     | 1/4 [00:00<00:00,  5.34it/s]\u001b[A\n",
      "Action: gender:  50%|██████████████▌              | 2/4 [00:00<00:00,  5.43it/s]\u001b[A\n",
      "Action: race:  50%|███████████████▌               | 2/4 [00:00<00:00,  5.43it/s]\u001b[A\n",
      "Action: race:  75%|███████████████████████▎       | 3/4 [00:00<00:00,  5.46it/s]\u001b[A\n",
      "Action: emotion: 100%|████████████████████████████| 4/4 [00:00<00:00,  7.06it/s]\u001b[A\n",
      "234it [02:37,  1.62it/s]"
     ]
    },
    {
     "name": "stdout",
     "output_type": "stream",
     "text": [
      "/Users/jessecoulter/Downloads/FIN377/CEOPersonalities-/matched_pictures/Lip-Bu Tan/2014\n"
     ]
    },
    {
     "name": "stderr",
     "output_type": "stream",
     "text": [
      "\n",
      "Finding actions:   0%|                                    | 0/4 [00:00<?, ?it/s]\u001b[A\n",
      "Action: age:   0%|                                        | 0/4 [00:00<?, ?it/s]\u001b[A\n",
      "Action: age:  25%|████████                        | 1/4 [00:00<00:00,  5.51it/s]\u001b[A\n",
      "Action: gender:  25%|███████▎                     | 1/4 [00:00<00:00,  5.51it/s]\u001b[A\n",
      "Action: gender:  50%|██████████████▌              | 2/4 [00:00<00:00,  5.49it/s]\u001b[A\n",
      "Action: race:  50%|███████████████▌               | 2/4 [00:00<00:00,  5.49it/s]\u001b[A\n",
      "Action: race:  75%|███████████████████████▎       | 3/4 [00:00<00:00,  5.47it/s]\u001b[A\n",
      "Action: emotion: 100%|████████████████████████████| 4/4 [00:00<00:00,  7.12it/s]\u001b[A\n",
      "235it [02:38,  1.64it/s]"
     ]
    },
    {
     "name": "stdout",
     "output_type": "stream",
     "text": [
      "/Users/jessecoulter/Downloads/FIN377/CEOPersonalities-/matched_pictures/Lip-Bu Tan/2015\n"
     ]
    },
    {
     "name": "stderr",
     "output_type": "stream",
     "text": [
      "\n",
      "Finding actions:   0%|                                    | 0/4 [00:00<?, ?it/s]\u001b[A\n",
      "Action: age:   0%|                                        | 0/4 [00:00<?, ?it/s]\u001b[A\n",
      "Action: age:  25%|████████                        | 1/4 [00:00<00:00,  5.40it/s]\u001b[A\n",
      "Action: gender:  25%|███████▎                     | 1/4 [00:00<00:00,  5.40it/s]\u001b[A\n",
      "Action: gender:  50%|██████████████▌              | 2/4 [00:00<00:00,  5.37it/s]\u001b[A\n",
      "Action: race:  50%|███████████████▌               | 2/4 [00:00<00:00,  5.37it/s]\u001b[A\n",
      "Action: race:  75%|███████████████████████▎       | 3/4 [00:00<00:00,  5.44it/s]\u001b[A\n",
      "Action: emotion: 100%|████████████████████████████| 4/4 [00:00<00:00,  7.05it/s]\u001b[A\n",
      "236it [02:38,  1.63it/s]"
     ]
    },
    {
     "name": "stdout",
     "output_type": "stream",
     "text": [
      "/Users/jessecoulter/Downloads/FIN377/CEOPersonalities-/matched_pictures/Lip-Bu Tan/2016\n"
     ]
    },
    {
     "name": "stderr",
     "output_type": "stream",
     "text": [
      "\n",
      "Finding actions:   0%|                                    | 0/4 [00:00<?, ?it/s]\u001b[A\n",
      "Action: age:   0%|                                        | 0/4 [00:00<?, ?it/s]\u001b[A\n",
      "Action: age:  25%|████████                        | 1/4 [00:00<00:00,  5.49it/s]\u001b[A\n",
      "Action: gender:  25%|███████▎                     | 1/4 [00:00<00:00,  5.49it/s]\u001b[A\n",
      "Action: gender:  50%|██████████████▌              | 2/4 [00:00<00:00,  5.46it/s]\u001b[A\n",
      "Action: race:  50%|███████████████▌               | 2/4 [00:00<00:00,  5.46it/s]\u001b[A\n",
      "Action: race:  75%|███████████████████████▎       | 3/4 [00:00<00:00,  5.46it/s]\u001b[A\n",
      "Action: emotion: 100%|████████████████████████████| 4/4 [00:00<00:00,  7.10it/s]\u001b[A\n",
      "237it [02:39,  1.49it/s]"
     ]
    },
    {
     "name": "stdout",
     "output_type": "stream",
     "text": [
      "/Users/jessecoulter/Downloads/FIN377/CEOPersonalities-/matched_pictures/Lip-Bu Tan/2017\n"
     ]
    },
    {
     "name": "stderr",
     "output_type": "stream",
     "text": [
      "\n",
      "Finding actions:   0%|                                    | 0/4 [00:00<?, ?it/s]\u001b[A\n",
      "Action: age:   0%|                                        | 0/4 [00:00<?, ?it/s]\u001b[A\n",
      "Action: age:  25%|████████                        | 1/4 [00:00<00:00,  5.44it/s]\u001b[A\n",
      "Action: gender:  25%|███████▎                     | 1/4 [00:00<00:00,  5.44it/s]\u001b[A\n",
      "Action: gender:  50%|██████████████▌              | 2/4 [00:00<00:00,  5.47it/s]\u001b[A\n",
      "Action: race:  50%|███████████████▌               | 2/4 [00:00<00:00,  5.47it/s]\u001b[A\n",
      "Action: race:  75%|███████████████████████▎       | 3/4 [00:00<00:00,  5.50it/s]\u001b[A\n",
      "Action: emotion: 100%|████████████████████████████| 4/4 [00:00<00:00,  7.14it/s]\u001b[A\n",
      "238it [02:40,  1.54it/s]"
     ]
    },
    {
     "name": "stdout",
     "output_type": "stream",
     "text": [
      "/Users/jessecoulter/Downloads/FIN377/CEOPersonalities-/matched_pictures/Lip-Bu Tan/2018\n"
     ]
    },
    {
     "name": "stderr",
     "output_type": "stream",
     "text": [
      "\n",
      "Finding actions:   0%|                                    | 0/4 [00:00<?, ?it/s]\u001b[A\n",
      "Action: age:   0%|                                        | 0/4 [00:00<?, ?it/s]\u001b[A\n",
      "Action: age:  25%|████████                        | 1/4 [00:00<00:00,  5.49it/s]\u001b[A\n",
      "Action: gender:  25%|███████▎                     | 1/4 [00:00<00:00,  5.49it/s]\u001b[A\n",
      "Action: gender:  50%|██████████████▌              | 2/4 [00:00<00:00,  5.25it/s]\u001b[A\n",
      "Action: race:  50%|███████████████▌               | 2/4 [00:00<00:00,  5.25it/s]\u001b[A\n",
      "Action: race:  75%|███████████████████████▎       | 3/4 [00:00<00:00,  5.23it/s]\u001b[A\n",
      "Action: emotion: 100%|████████████████████████████| 4/4 [00:00<00:00,  6.82it/s]\u001b[A\n",
      "239it [02:40,  1.50it/s]"
     ]
    },
    {
     "name": "stdout",
     "output_type": "stream",
     "text": [
      "/Users/jessecoulter/Downloads/FIN377/CEOPersonalities-/matched_pictures/Lip-Bu Tan/2019\n"
     ]
    },
    {
     "name": "stderr",
     "output_type": "stream",
     "text": [
      "\n",
      "Finding actions:   0%|                                    | 0/4 [00:00<?, ?it/s]\u001b[A\n",
      "Action: age:   0%|                                        | 0/4 [00:00<?, ?it/s]\u001b[A\n",
      "Action: age:  25%|████████                        | 1/4 [00:00<00:00,  5.51it/s]\u001b[A\n",
      "Action: gender:  25%|███████▎                     | 1/4 [00:00<00:00,  5.51it/s]\u001b[A\n",
      "Action: gender:  50%|██████████████▌              | 2/4 [00:00<00:00,  5.43it/s]\u001b[A\n",
      "Action: race:  50%|███████████████▌               | 2/4 [00:00<00:00,  5.43it/s]\u001b[A\n",
      "Action: race:  75%|███████████████████████▎       | 3/4 [00:00<00:00,  5.48it/s]\u001b[A\n",
      "Action: emotion: 100%|████████████████████████████| 4/4 [00:00<00:00,  7.12it/s]\u001b[A\n",
      "240it [02:41,  1.48it/s]"
     ]
    },
    {
     "name": "stdout",
     "output_type": "stream",
     "text": [
      "/Users/jessecoulter/Downloads/FIN377/CEOPersonalities-/matched_pictures/Aart de Geus/2010\n"
     ]
    },
    {
     "name": "stderr",
     "output_type": "stream",
     "text": [
      "\n",
      "Finding actions:   0%|                                    | 0/4 [00:00<?, ?it/s]\u001b[A\n",
      "Action: age:   0%|                                        | 0/4 [00:00<?, ?it/s]\u001b[A\n",
      "Action: age:  25%|████████                        | 1/4 [00:00<00:00,  5.50it/s]\u001b[A\n",
      "Action: gender:  25%|███████▎                     | 1/4 [00:00<00:00,  5.50it/s]\u001b[A\n",
      "Action: gender:  50%|██████████████▌              | 2/4 [00:00<00:00,  5.45it/s]\u001b[A\n",
      "Action: race:  50%|███████████████▌               | 2/4 [00:00<00:00,  5.45it/s]\u001b[A\n",
      "Action: race:  75%|███████████████████████▎       | 3/4 [00:00<00:00,  5.51it/s]\u001b[A\n",
      "Action: emotion: 100%|████████████████████████████| 4/4 [00:00<00:00,  7.14it/s]\u001b[A\n",
      "241it [02:42,  1.51it/s]"
     ]
    },
    {
     "name": "stdout",
     "output_type": "stream",
     "text": [
      "/Users/jessecoulter/Downloads/FIN377/CEOPersonalities-/matched_pictures/Aart de Geus/2011\n"
     ]
    },
    {
     "name": "stderr",
     "output_type": "stream",
     "text": [
      "\n",
      "Finding actions:   0%|                                    | 0/4 [00:00<?, ?it/s]\u001b[A\n",
      "Action: age:   0%|                                        | 0/4 [00:00<?, ?it/s]\u001b[A\n",
      "Action: age:  25%|████████                        | 1/4 [00:00<00:00,  5.33it/s]\u001b[A\n",
      "Action: gender:  25%|███████▎                     | 1/4 [00:00<00:00,  5.33it/s]\u001b[A\n",
      "Action: gender:  50%|██████████████▌              | 2/4 [00:00<00:00,  5.43it/s]\u001b[A\n",
      "Action: race:  50%|███████████████▌               | 2/4 [00:00<00:00,  5.43it/s]\u001b[A\n",
      "Action: race:  75%|███████████████████████▎       | 3/4 [00:00<00:00,  5.45it/s]\u001b[A\n",
      "Action: emotion: 100%|████████████████████████████| 4/4 [00:00<00:00,  7.06it/s]\u001b[A\n",
      "242it [02:42,  1.56it/s]"
     ]
    },
    {
     "name": "stdout",
     "output_type": "stream",
     "text": [
      "/Users/jessecoulter/Downloads/FIN377/CEOPersonalities-/matched_pictures/Aart de Geus/2012\n"
     ]
    },
    {
     "name": "stderr",
     "output_type": "stream",
     "text": [
      "\n",
      "Finding actions:   0%|                                    | 0/4 [00:00<?, ?it/s]\u001b[A\n",
      "Action: age:   0%|                                        | 0/4 [00:00<?, ?it/s]\u001b[A\n",
      "Action: age:  25%|████████                        | 1/4 [00:00<00:00,  5.38it/s]\u001b[A\n",
      "Action: gender:  25%|███████▎                     | 1/4 [00:00<00:00,  5.38it/s]\u001b[A\n",
      "Action: gender:  50%|██████████████▌              | 2/4 [00:00<00:00,  5.39it/s]\u001b[A\n",
      "Action: race:  50%|███████████████▌               | 2/4 [00:00<00:00,  5.39it/s]\u001b[A\n",
      "Action: race:  75%|███████████████████████▎       | 3/4 [00:00<00:00,  5.39it/s]\u001b[A\n",
      "Action: emotion: 100%|████████████████████████████| 4/4 [00:00<00:00,  7.01it/s]\u001b[A\n",
      "243it [02:43,  1.60it/s]"
     ]
    },
    {
     "name": "stdout",
     "output_type": "stream",
     "text": [
      "/Users/jessecoulter/Downloads/FIN377/CEOPersonalities-/matched_pictures/Aart de Geus/2013\n"
     ]
    },
    {
     "name": "stderr",
     "output_type": "stream",
     "text": [
      "\n",
      "Finding actions:   0%|                                    | 0/4 [00:00<?, ?it/s]\u001b[A\n",
      "Action: age:   0%|                                        | 0/4 [00:00<?, ?it/s]\u001b[A\n",
      "Action: age:  25%|████████                        | 1/4 [00:00<00:00,  5.48it/s]\u001b[A\n",
      "Action: gender:  25%|███████▎                     | 1/4 [00:00<00:00,  5.48it/s]\u001b[A\n",
      "Action: gender:  50%|██████████████▌              | 2/4 [00:00<00:00,  5.50it/s]\u001b[A\n",
      "Action: race:  50%|███████████████▌               | 2/4 [00:00<00:00,  5.50it/s]\u001b[A\n",
      "Action: race:  75%|███████████████████████▎       | 3/4 [00:00<00:00,  5.49it/s]\u001b[A\n",
      "Action: emotion: 100%|████████████████████████████| 4/4 [00:00<00:00,  7.13it/s]\u001b[A\n",
      "244it [02:44,  1.61it/s]"
     ]
    },
    {
     "name": "stdout",
     "output_type": "stream",
     "text": [
      "/Users/jessecoulter/Downloads/FIN377/CEOPersonalities-/matched_pictures/Aart de Geus/2014\n"
     ]
    },
    {
     "name": "stderr",
     "output_type": "stream",
     "text": [
      "\n",
      "Finding actions:   0%|                                    | 0/4 [00:00<?, ?it/s]\u001b[A\n",
      "Action: age:   0%|                                        | 0/4 [00:00<?, ?it/s]\u001b[A\n",
      "Action: age:  25%|████████                        | 1/4 [00:00<00:00,  5.56it/s]\u001b[A\n",
      "Action: gender:  25%|███████▎                     | 1/4 [00:00<00:00,  5.56it/s]\u001b[A\n",
      "Action: gender:  50%|██████████████▌              | 2/4 [00:00<00:00,  5.52it/s]\u001b[A\n",
      "Action: race:  50%|███████████████▌               | 2/4 [00:00<00:00,  5.52it/s]\u001b[A\n",
      "Action: race:  75%|███████████████████████▎       | 3/4 [00:00<00:00,  5.50it/s]\u001b[A\n",
      "Action: emotion: 100%|████████████████████████████| 4/4 [00:00<00:00,  7.16it/s]\u001b[A\n",
      "245it [02:44,  1.61it/s]"
     ]
    },
    {
     "name": "stdout",
     "output_type": "stream",
     "text": [
      "/Users/jessecoulter/Downloads/FIN377/CEOPersonalities-/matched_pictures/Aart de Geus/2015\n"
     ]
    },
    {
     "name": "stderr",
     "output_type": "stream",
     "text": [
      "\n",
      "Finding actions:   0%|                                    | 0/4 [00:00<?, ?it/s]\u001b[A\n",
      "Action: age:   0%|                                        | 0/4 [00:00<?, ?it/s]\u001b[A\n",
      "Action: age:  25%|████████                        | 1/4 [00:00<00:00,  5.39it/s]\u001b[A\n",
      "Action: gender:  25%|███████▎                     | 1/4 [00:00<00:00,  5.39it/s]\u001b[A\n",
      "Action: gender:  50%|██████████████▌              | 2/4 [00:00<00:00,  5.43it/s]\u001b[A\n",
      "Action: race:  50%|███████████████▌               | 2/4 [00:00<00:00,  5.43it/s]\u001b[A\n",
      "Action: race:  75%|███████████████████████▎       | 3/4 [00:00<00:00,  5.42it/s]\u001b[A\n",
      "Action: emotion: 100%|████████████████████████████| 4/4 [00:00<00:00,  7.03it/s]\u001b[A\n",
      "246it [02:45,  1.63it/s]"
     ]
    },
    {
     "name": "stdout",
     "output_type": "stream",
     "text": [
      "/Users/jessecoulter/Downloads/FIN377/CEOPersonalities-/matched_pictures/Aart de Geus/2016\n",
      "Error analyzing /Users/jessecoulter/Downloads/FIN377/CEOPersonalities-/matched_pictures/Aart de Geus/2016/pic1.jpg: Face could not be detected in /Users/jessecoulter/Downloads/FIN377/CEOPersonalities-/matched_pictures/Aart de Geus/2016/pic1.jpg.Please confirm that the picture is a face photo or consider to set enforce_detection param to False.\n",
      "/Users/jessecoulter/Downloads/FIN377/CEOPersonalities-/matched_pictures/Aart de Geus/2017\n"
     ]
    },
    {
     "name": "stderr",
     "output_type": "stream",
     "text": [
      "\n",
      "Finding actions:   0%|                                    | 0/4 [00:00<?, ?it/s]\u001b[A\n",
      "Action: age:   0%|                                        | 0/4 [00:00<?, ?it/s]\u001b[A\n",
      "Action: age:  25%|████████                        | 1/4 [00:00<00:00,  5.45it/s]\u001b[A\n",
      "Action: gender:  25%|███████▎                     | 1/4 [00:00<00:00,  5.45it/s]\u001b[A\n",
      "Action: gender:  50%|██████████████▌              | 2/4 [00:00<00:00,  5.43it/s]\u001b[A\n",
      "Action: race:  50%|███████████████▌               | 2/4 [00:00<00:00,  5.43it/s]\u001b[A\n",
      "Action: race:  75%|███████████████████████▎       | 3/4 [00:00<00:00,  5.45it/s]\u001b[A\n",
      "Action: emotion: 100%|████████████████████████████| 4/4 [00:00<00:00,  7.08it/s]\u001b[A\n",
      "248it [02:45,  2.11it/s]"
     ]
    },
    {
     "name": "stdout",
     "output_type": "stream",
     "text": [
      "/Users/jessecoulter/Downloads/FIN377/CEOPersonalities-/matched_pictures/Aart de Geus/2018\n"
     ]
    },
    {
     "name": "stderr",
     "output_type": "stream",
     "text": [
      "\n",
      "Finding actions:   0%|                                    | 0/4 [00:00<?, ?it/s]\u001b[A\n",
      "Action: age:   0%|                                        | 0/4 [00:00<?, ?it/s]\u001b[A\n",
      "Action: age:  25%|████████                        | 1/4 [00:00<00:00,  5.40it/s]\u001b[A\n",
      "Action: gender:  25%|███████▎                     | 1/4 [00:00<00:00,  5.40it/s]\u001b[A\n",
      "Action: gender:  50%|██████████████▌              | 2/4 [00:00<00:00,  5.42it/s]\u001b[A\n",
      "Action: race:  50%|███████████████▌               | 2/4 [00:00<00:00,  5.42it/s]\u001b[A\n",
      "Action: race:  75%|███████████████████████▎       | 3/4 [00:00<00:00,  5.46it/s]\u001b[A\n",
      "Action: emotion: 100%|████████████████████████████| 4/4 [00:00<00:00,  7.07it/s]\u001b[A\n",
      "249it [02:46,  1.98it/s]"
     ]
    },
    {
     "name": "stdout",
     "output_type": "stream",
     "text": [
      "/Users/jessecoulter/Downloads/FIN377/CEOPersonalities-/matched_pictures/Aart de Geus/2019\n"
     ]
    },
    {
     "name": "stderr",
     "output_type": "stream",
     "text": [
      "\n",
      "Finding actions:   0%|                                    | 0/4 [00:00<?, ?it/s]\u001b[A\n",
      "Action: age:   0%|                                        | 0/4 [00:00<?, ?it/s]\u001b[A\n",
      "Action: age:  25%|████████                        | 1/4 [00:00<00:00,  5.12it/s]\u001b[A\n",
      "Action: gender:  25%|███████▎                     | 1/4 [00:00<00:00,  5.12it/s]\u001b[A\n",
      "Action: gender:  50%|██████████████▌              | 2/4 [00:00<00:00,  5.37it/s]\u001b[A\n",
      "Action: race:  50%|███████████████▌               | 2/4 [00:00<00:00,  5.37it/s]\u001b[A\n",
      "Action: race:  75%|███████████████████████▎       | 3/4 [00:00<00:00,  5.36it/s]\u001b[A\n",
      "Action: emotion: 100%|████████████████████████████| 4/4 [00:00<00:00,  6.94it/s]\u001b[A\n",
      "250it [02:47,  1.80it/s]"
     ]
    },
    {
     "name": "stdout",
     "output_type": "stream",
     "text": [
      "/Users/jessecoulter/Downloads/FIN377/CEOPersonalities-/matched_pictures/Ken Xie/2010\n"
     ]
    },
    {
     "name": "stderr",
     "output_type": "stream",
     "text": [
      "\n",
      "Finding actions:   0%|                                    | 0/4 [00:00<?, ?it/s]\u001b[A\n",
      "Action: age:   0%|                                        | 0/4 [00:00<?, ?it/s]\u001b[A\n",
      "Action: age:  25%|████████                        | 1/4 [00:00<00:00,  5.31it/s]\u001b[A\n",
      "Action: gender:  25%|███████▎                     | 1/4 [00:00<00:00,  5.31it/s]\u001b[A\n",
      "Action: gender:  50%|██████████████▌              | 2/4 [00:00<00:00,  5.39it/s]\u001b[A\n",
      "Action: race:  50%|███████████████▌               | 2/4 [00:00<00:00,  5.39it/s]\u001b[A\n",
      "Action: race:  75%|███████████████████████▎       | 3/4 [00:00<00:00,  5.42it/s]\u001b[A\n",
      "Action: emotion: 100%|████████████████████████████| 4/4 [00:00<00:00,  7.01it/s]\u001b[A\n",
      "251it [02:47,  1.77it/s]"
     ]
    },
    {
     "name": "stdout",
     "output_type": "stream",
     "text": [
      "/Users/jessecoulter/Downloads/FIN377/CEOPersonalities-/matched_pictures/Ken Xie/2011\n"
     ]
    },
    {
     "name": "stderr",
     "output_type": "stream",
     "text": [
      "\n",
      "Finding actions:   0%|                                    | 0/4 [00:00<?, ?it/s]\u001b[A\n",
      "Action: age:   0%|                                        | 0/4 [00:00<?, ?it/s]\u001b[A\n",
      "Action: age:  25%|████████                        | 1/4 [00:00<00:00,  5.51it/s]\u001b[A\n",
      "Action: gender:  25%|███████▎                     | 1/4 [00:00<00:00,  5.51it/s]\u001b[A\n",
      "Action: gender:  50%|██████████████▌              | 2/4 [00:00<00:00,  5.43it/s]\u001b[A\n",
      "Action: race:  50%|███████████████▌               | 2/4 [00:00<00:00,  5.43it/s]\u001b[A\n",
      "Action: race:  75%|███████████████████████▎       | 3/4 [00:00<00:00,  5.46it/s]\u001b[A\n",
      "Action: emotion: 100%|████████████████████████████| 4/4 [00:00<00:00,  7.10it/s]\u001b[A\n",
      "252it [02:48,  1.74it/s]"
     ]
    },
    {
     "name": "stdout",
     "output_type": "stream",
     "text": [
      "/Users/jessecoulter/Downloads/FIN377/CEOPersonalities-/matched_pictures/Ken Xie/2012\n"
     ]
    },
    {
     "name": "stderr",
     "output_type": "stream",
     "text": [
      "\n",
      "Finding actions:   0%|                                    | 0/4 [00:00<?, ?it/s]\u001b[A\n",
      "Action: age:   0%|                                        | 0/4 [00:00<?, ?it/s]\u001b[A\n",
      "Action: age:  25%|████████                        | 1/4 [00:00<00:00,  5.39it/s]\u001b[A\n",
      "Action: gender:  25%|███████▎                     | 1/4 [00:00<00:00,  5.39it/s]\u001b[A\n",
      "Action: gender:  50%|██████████████▌              | 2/4 [00:00<00:00,  5.40it/s]\u001b[A\n",
      "Action: race:  50%|███████████████▌               | 2/4 [00:00<00:00,  5.40it/s]\u001b[A\n",
      "Action: race:  75%|███████████████████████▎       | 3/4 [00:00<00:00,  5.43it/s]\u001b[A\n",
      "Action: emotion: 100%|████████████████████████████| 4/4 [00:00<00:00,  7.05it/s]\u001b[A\n",
      "253it [02:48,  1.72it/s]"
     ]
    },
    {
     "name": "stdout",
     "output_type": "stream",
     "text": [
      "/Users/jessecoulter/Downloads/FIN377/CEOPersonalities-/matched_pictures/Ken Xie/2013\n"
     ]
    },
    {
     "name": "stderr",
     "output_type": "stream",
     "text": [
      "\n",
      "Finding actions:   0%|                                    | 0/4 [00:00<?, ?it/s]\u001b[A\n",
      "Action: age:   0%|                                        | 0/4 [00:00<?, ?it/s]\u001b[A\n",
      "Action: age:  25%|████████                        | 1/4 [00:00<00:00,  5.37it/s]\u001b[A\n",
      "Action: gender:  25%|███████▎                     | 1/4 [00:00<00:00,  5.37it/s]\u001b[A\n",
      "Action: gender:  50%|██████████████▌              | 2/4 [00:00<00:00,  5.31it/s]\u001b[A\n",
      "Action: race:  50%|███████████████▌               | 2/4 [00:00<00:00,  5.31it/s]\u001b[A\n",
      "Action: race:  75%|███████████████████████▎       | 3/4 [00:00<00:00,  5.43it/s]\u001b[A\n",
      "Action: emotion: 100%|████████████████████████████| 4/4 [00:00<00:00,  7.03it/s]\u001b[A\n",
      "254it [02:49,  1.72it/s]"
     ]
    },
    {
     "name": "stdout",
     "output_type": "stream",
     "text": [
      "/Users/jessecoulter/Downloads/FIN377/CEOPersonalities-/matched_pictures/Ken Xie/2014\n"
     ]
    },
    {
     "name": "stderr",
     "output_type": "stream",
     "text": [
      "\n",
      "Finding actions:   0%|                                    | 0/4 [00:00<?, ?it/s]\u001b[A\n",
      "Action: age:   0%|                                        | 0/4 [00:00<?, ?it/s]\u001b[A\n",
      "Action: age:  25%|████████                        | 1/4 [00:00<00:00,  5.46it/s]\u001b[A\n",
      "Action: gender:  25%|███████▎                     | 1/4 [00:00<00:00,  5.46it/s]\u001b[A\n",
      "Action: gender:  50%|██████████████▌              | 2/4 [00:00<00:00,  5.42it/s]\u001b[A\n",
      "Action: race:  50%|███████████████▌               | 2/4 [00:00<00:00,  5.42it/s]\u001b[A\n",
      "Action: race:  75%|███████████████████████▎       | 3/4 [00:00<00:00,  5.42it/s]\u001b[A\n",
      "Action: emotion: 100%|████████████████████████████| 4/4 [00:00<00:00,  7.04it/s]\u001b[A\n",
      "255it [02:50,  1.71it/s]"
     ]
    },
    {
     "name": "stdout",
     "output_type": "stream",
     "text": [
      "/Users/jessecoulter/Downloads/FIN377/CEOPersonalities-/matched_pictures/Ken Xie/2015\n"
     ]
    },
    {
     "name": "stderr",
     "output_type": "stream",
     "text": [
      "\n",
      "Finding actions:   0%|                                    | 0/4 [00:00<?, ?it/s]\u001b[A\n",
      "Action: age:   0%|                                        | 0/4 [00:00<?, ?it/s]\u001b[A\n",
      "Action: age:  25%|████████                        | 1/4 [00:00<00:00,  5.55it/s]\u001b[A\n",
      "Action: gender:  25%|███████▎                     | 1/4 [00:00<00:00,  5.55it/s]\u001b[A\n",
      "Action: gender:  50%|██████████████▌              | 2/4 [00:00<00:00,  5.52it/s]\u001b[A\n",
      "Action: race:  50%|███████████████▌               | 2/4 [00:00<00:00,  5.52it/s]\u001b[A\n",
      "Action: race:  75%|███████████████████████▎       | 3/4 [00:00<00:00,  5.48it/s]\u001b[A\n",
      "Action: emotion: 100%|████████████████████████████| 4/4 [00:00<00:00,  7.13it/s]\u001b[A\n",
      "256it [02:50,  1.66it/s]"
     ]
    },
    {
     "name": "stdout",
     "output_type": "stream",
     "text": [
      "/Users/jessecoulter/Downloads/FIN377/CEOPersonalities-/matched_pictures/Ken Xie/2016\n"
     ]
    },
    {
     "name": "stderr",
     "output_type": "stream",
     "text": [
      "\n",
      "Finding actions:   0%|                                    | 0/4 [00:00<?, ?it/s]\u001b[A\n",
      "Action: age:   0%|                                        | 0/4 [00:00<?, ?it/s]\u001b[A\n",
      "Action: age:  25%|████████                        | 1/4 [00:00<00:00,  5.39it/s]\u001b[A\n",
      "Action: gender:  25%|███████▎                     | 1/4 [00:00<00:00,  5.39it/s]\u001b[A\n",
      "Action: gender:  50%|██████████████▌              | 2/4 [00:00<00:00,  5.42it/s]\u001b[A\n",
      "Action: race:  50%|███████████████▌               | 2/4 [00:00<00:00,  5.42it/s]\u001b[A\n",
      "Action: race:  75%|███████████████████████▎       | 3/4 [00:00<00:00,  5.38it/s]\u001b[A\n",
      "Action: emotion: 100%|████████████████████████████| 4/4 [00:00<00:00,  7.01it/s]\u001b[A\n",
      "257it [02:51,  1.67it/s]"
     ]
    },
    {
     "name": "stdout",
     "output_type": "stream",
     "text": [
      "/Users/jessecoulter/Downloads/FIN377/CEOPersonalities-/matched_pictures/Ken Xie/2017\n"
     ]
    },
    {
     "name": "stderr",
     "output_type": "stream",
     "text": [
      "\n",
      "Finding actions:   0%|                                    | 0/4 [00:00<?, ?it/s]\u001b[A\n",
      "Action: age:   0%|                                        | 0/4 [00:00<?, ?it/s]\u001b[A\n",
      "Action: age:  25%|████████                        | 1/4 [00:00<00:00,  5.55it/s]\u001b[A\n",
      "Action: gender:  25%|███████▎                     | 1/4 [00:00<00:00,  5.55it/s]\u001b[A\n",
      "Action: gender:  50%|██████████████▌              | 2/4 [00:00<00:00,  5.48it/s]\u001b[A\n",
      "Action: race:  50%|███████████████▌               | 2/4 [00:00<00:00,  5.48it/s]\u001b[A\n",
      "Action: race:  75%|███████████████████████▎       | 3/4 [00:00<00:00,  5.46it/s]\u001b[A\n",
      "Action: emotion: 100%|████████████████████████████| 4/4 [00:00<00:00,  7.12it/s]\u001b[A\n",
      "258it [02:52,  1.63it/s]"
     ]
    },
    {
     "name": "stdout",
     "output_type": "stream",
     "text": [
      "/Users/jessecoulter/Downloads/FIN377/CEOPersonalities-/matched_pictures/Ken Xie/2018\n"
     ]
    },
    {
     "name": "stderr",
     "output_type": "stream",
     "text": [
      "\n",
      "Finding actions:   0%|                                    | 0/4 [00:00<?, ?it/s]\u001b[A\n",
      "Action: age:   0%|                                        | 0/4 [00:00<?, ?it/s]\u001b[A\n",
      "Action: age:  25%|████████                        | 1/4 [00:00<00:00,  5.51it/s]\u001b[A\n",
      "Action: gender:  25%|███████▎                     | 1/4 [00:00<00:00,  5.51it/s]\u001b[A\n",
      "Action: gender:  50%|██████████████▌              | 2/4 [00:00<00:00,  5.44it/s]\u001b[A\n",
      "Action: race:  50%|███████████████▌               | 2/4 [00:00<00:00,  5.44it/s]\u001b[A\n",
      "Action: race:  75%|███████████████████████▎       | 3/4 [00:00<00:00,  5.42it/s]\u001b[A\n",
      "Action: emotion: 100%|████████████████████████████| 4/4 [00:00<00:00,  7.05it/s]\u001b[A\n",
      "259it [02:52,  1.63it/s]"
     ]
    },
    {
     "name": "stdout",
     "output_type": "stream",
     "text": [
      "/Users/jessecoulter/Downloads/FIN377/CEOPersonalities-/matched_pictures/Ken Xie/2019\n"
     ]
    },
    {
     "name": "stderr",
     "output_type": "stream",
     "text": [
      "\n",
      "Finding actions:   0%|                                    | 0/4 [00:00<?, ?it/s]\u001b[A\n",
      "Action: age:   0%|                                        | 0/4 [00:00<?, ?it/s]\u001b[A\n",
      "Action: age:  25%|████████                        | 1/4 [00:00<00:00,  5.31it/s]\u001b[A\n",
      "Action: gender:  25%|███████▎                     | 1/4 [00:00<00:00,  5.31it/s]\u001b[A\n",
      "Action: gender:  50%|██████████████▌              | 2/4 [00:00<00:00,  5.40it/s]\u001b[A\n",
      "Action: race:  50%|███████████████▌               | 2/4 [00:00<00:00,  5.40it/s]\u001b[A\n",
      "Action: race:  75%|███████████████████████▎       | 3/4 [00:00<00:00,  5.41it/s]\u001b[A\n",
      "Action: emotion: 100%|████████████████████████████| 4/4 [00:00<00:00,  7.02it/s]\u001b[A\n",
      "260it [02:53,  1.65it/s]"
     ]
    },
    {
     "name": "stdout",
     "output_type": "stream",
     "text": [
      "/Users/jessecoulter/Downloads/FIN377/CEOPersonalities-/matched_pictures/John McAdam/2010\n"
     ]
    },
    {
     "name": "stderr",
     "output_type": "stream",
     "text": [
      "\n",
      "Finding actions:   0%|                                    | 0/4 [00:00<?, ?it/s]\u001b[A\n",
      "Action: age:   0%|                                        | 0/4 [00:00<?, ?it/s]\u001b[A\n",
      "Action: age:  25%|████████                        | 1/4 [00:00<00:00,  5.27it/s]\u001b[A\n",
      "Action: gender:  25%|███████▎                     | 1/4 [00:00<00:00,  5.27it/s]\u001b[A\n",
      "Action: gender:  50%|██████████████▌              | 2/4 [00:00<00:00,  5.37it/s]\u001b[A\n",
      "Action: race:  50%|███████████████▌               | 2/4 [00:00<00:00,  5.37it/s]\u001b[A\n",
      "Action: race:  75%|███████████████████████▎       | 3/4 [00:00<00:00,  5.41it/s]\u001b[A\n",
      "Action: emotion: 100%|████████████████████████████| 4/4 [00:00<00:00,  7.01it/s]\u001b[A\n",
      "261it [02:53,  1.66it/s]"
     ]
    },
    {
     "name": "stdout",
     "output_type": "stream",
     "text": [
      "/Users/jessecoulter/Downloads/FIN377/CEOPersonalities-/matched_pictures/John McAdam/2011\n"
     ]
    },
    {
     "name": "stderr",
     "output_type": "stream",
     "text": [
      "\n",
      "Finding actions:   0%|                                    | 0/4 [00:00<?, ?it/s]\u001b[A\n",
      "Action: age:   0%|                                        | 0/4 [00:00<?, ?it/s]\u001b[A\n",
      "Action: age:  25%|████████                        | 1/4 [00:00<00:00,  5.38it/s]\u001b[A\n",
      "Action: gender:  25%|███████▎                     | 1/4 [00:00<00:00,  5.38it/s]\u001b[A\n",
      "Action: gender:  50%|██████████████▌              | 2/4 [00:00<00:00,  5.41it/s]\u001b[A\n",
      "Action: race:  50%|███████████████▌               | 2/4 [00:00<00:00,  5.41it/s]\u001b[A\n",
      "Action: race:  75%|███████████████████████▎       | 3/4 [00:00<00:00,  5.44it/s]\u001b[A\n",
      "Action: emotion: 100%|████████████████████████████| 4/4 [00:00<00:00,  7.07it/s]\u001b[A\n",
      "262it [02:54,  1.67it/s]"
     ]
    },
    {
     "name": "stdout",
     "output_type": "stream",
     "text": [
      "/Users/jessecoulter/Downloads/FIN377/CEOPersonalities-/matched_pictures/John McAdam/2012\n"
     ]
    },
    {
     "name": "stderr",
     "output_type": "stream",
     "text": [
      "\n",
      "Finding actions:   0%|                                    | 0/4 [00:00<?, ?it/s]\u001b[A\n",
      "Action: age:   0%|                                        | 0/4 [00:00<?, ?it/s]\u001b[A\n",
      "Action: age:  25%|████████                        | 1/4 [00:00<00:00,  5.54it/s]\u001b[A\n",
      "Action: gender:  25%|███████▎                     | 1/4 [00:00<00:00,  5.54it/s]\u001b[A\n",
      "Action: gender:  50%|██████████████▌              | 2/4 [00:00<00:00,  5.48it/s]\u001b[A\n",
      "Action: race:  50%|███████████████▌               | 2/4 [00:00<00:00,  5.48it/s]\u001b[A\n",
      "Action: race:  75%|███████████████████████▎       | 3/4 [00:00<00:00,  5.48it/s]\u001b[A\n",
      "Action: emotion: 100%|████████████████████████████| 4/4 [00:00<00:00,  7.13it/s]\u001b[A\n",
      "263it [02:55,  1.66it/s]"
     ]
    },
    {
     "name": "stdout",
     "output_type": "stream",
     "text": [
      "/Users/jessecoulter/Downloads/FIN377/CEOPersonalities-/matched_pictures/John McAdam/2013\n"
     ]
    },
    {
     "name": "stderr",
     "output_type": "stream",
     "text": [
      "\n",
      "Finding actions:   0%|                                    | 0/4 [00:00<?, ?it/s]\u001b[A\n",
      "Action: age:   0%|                                        | 0/4 [00:00<?, ?it/s]\u001b[A\n",
      "Action: age:  25%|████████                        | 1/4 [00:00<00:00,  5.43it/s]\u001b[A\n",
      "Action: gender:  25%|███████▎                     | 1/4 [00:00<00:00,  5.43it/s]\u001b[A\n",
      "Action: gender:  50%|██████████████▌              | 2/4 [00:00<00:00,  5.41it/s]\u001b[A\n",
      "Action: race:  50%|███████████████▌               | 2/4 [00:00<00:00,  5.41it/s]\u001b[A\n",
      "Action: race:  75%|███████████████████████▎       | 3/4 [00:00<00:00,  5.39it/s]\u001b[A\n",
      "Action: emotion: 100%|████████████████████████████| 4/4 [00:00<00:00,  7.01it/s]\u001b[A\n",
      "264it [02:55,  1.66it/s]"
     ]
    },
    {
     "name": "stdout",
     "output_type": "stream",
     "text": [
      "/Users/jessecoulter/Downloads/FIN377/CEOPersonalities-/matched_pictures/John McAdam/2014\n"
     ]
    },
    {
     "name": "stderr",
     "output_type": "stream",
     "text": [
      "\n",
      "Finding actions:   0%|                                    | 0/4 [00:00<?, ?it/s]\u001b[A\n",
      "Action: age:   0%|                                        | 0/4 [00:00<?, ?it/s]\u001b[A\n",
      "Action: age:  25%|████████                        | 1/4 [00:00<00:00,  5.33it/s]\u001b[A\n",
      "Action: gender:  25%|███████▎                     | 1/4 [00:00<00:00,  5.33it/s]\u001b[A\n",
      "Action: gender:  50%|██████████████▌              | 2/4 [00:00<00:00,  5.42it/s]\u001b[A\n",
      "Action: race:  50%|███████████████▌               | 2/4 [00:00<00:00,  5.42it/s]\u001b[A\n",
      "Action: race:  75%|███████████████████████▎       | 3/4 [00:00<00:00,  5.42it/s]\u001b[A\n",
      "Action: emotion: 100%|████████████████████████████| 4/4 [00:00<00:00,  7.02it/s]\u001b[A\n",
      "265it [02:56,  1.67it/s]"
     ]
    },
    {
     "name": "stdout",
     "output_type": "stream",
     "text": [
      "/Users/jessecoulter/Downloads/FIN377/CEOPersonalities-/matched_pictures/John McAdam/2015\n"
     ]
    },
    {
     "name": "stderr",
     "output_type": "stream",
     "text": [
      "\n",
      "Finding actions:   0%|                                    | 0/4 [00:00<?, ?it/s]\u001b[A\n",
      "Action: age:   0%|                                        | 0/4 [00:00<?, ?it/s]\u001b[A\n",
      "Action: age:  25%|████████                        | 1/4 [00:00<00:00,  5.66it/s]\u001b[A\n",
      "Action: gender:  25%|███████▎                     | 1/4 [00:00<00:00,  5.66it/s]\u001b[A\n",
      "Action: gender:  50%|██████████████▌              | 2/4 [00:00<00:00,  5.35it/s]\u001b[A\n",
      "Action: race:  50%|███████████████▌               | 2/4 [00:00<00:00,  5.35it/s]\u001b[A\n",
      "Action: race:  75%|███████████████████████▎       | 3/4 [00:00<00:00,  5.45it/s]\u001b[A\n",
      "Action: emotion: 100%|████████████████████████████| 4/4 [00:00<00:00,  7.09it/s]\u001b[A\n",
      "266it [02:57,  1.47it/s]"
     ]
    },
    {
     "name": "stdout",
     "output_type": "stream",
     "text": [
      "/Users/jessecoulter/Downloads/FIN377/CEOPersonalities-/matched_pictures/John McAdam/2016\n"
     ]
    },
    {
     "name": "stderr",
     "output_type": "stream",
     "text": [
      "\n",
      "Finding actions:   0%|                                    | 0/4 [00:00<?, ?it/s]\u001b[A\n",
      "Action: age:   0%|                                        | 0/4 [00:00<?, ?it/s]\u001b[A\n",
      "Action: age:  25%|████████                        | 1/4 [00:00<00:00,  5.34it/s]\u001b[A\n",
      "Action: gender:  25%|███████▎                     | 1/4 [00:00<00:00,  5.34it/s]\u001b[A\n",
      "Action: gender:  50%|██████████████▌              | 2/4 [00:00<00:00,  5.47it/s]\u001b[A\n",
      "Action: race:  50%|███████████████▌               | 2/4 [00:00<00:00,  5.47it/s]\u001b[A\n",
      "Action: race:  75%|███████████████████████▎       | 3/4 [00:00<00:00,  5.44it/s]\u001b[A\n",
      "Action: emotion: 100%|████████████████████████████| 4/4 [00:00<00:00,  7.07it/s]\u001b[A\n",
      "267it [02:57,  1.49it/s]"
     ]
    },
    {
     "name": "stdout",
     "output_type": "stream",
     "text": [
      "/Users/jessecoulter/Downloads/FIN377/CEOPersonalities-/matched_pictures/François Locoh-Donou/2017\n",
      "Error analyzing /Users/jessecoulter/Downloads/FIN377/CEOPersonalities-/matched_pictures/François Locoh-Donou/2017/pic1.jpg: Input image must not have non-english characters - /Users/jessecoulter/Downloads/FIN377/CEOPersonalities-/matched_pictures/François Locoh-Donou/2017/pic1.jpg\n",
      "/Users/jessecoulter/Downloads/FIN377/CEOPersonalities-/matched_pictures/François Locoh-Donou/2018\n",
      "Error analyzing /Users/jessecoulter/Downloads/FIN377/CEOPersonalities-/matched_pictures/François Locoh-Donou/2018/pic1.jpg: Input image must not have non-english characters - /Users/jessecoulter/Downloads/FIN377/CEOPersonalities-/matched_pictures/François Locoh-Donou/2018/pic1.jpg\n",
      "/Users/jessecoulter/Downloads/FIN377/CEOPersonalities-/matched_pictures/François Locoh-Donou/2019\n",
      "Error analyzing /Users/jessecoulter/Downloads/FIN377/CEOPersonalities-/matched_pictures/François Locoh-Donou/2019/pic1.jpg: Input image must not have non-english characters - /Users/jessecoulter/Downloads/FIN377/CEOPersonalities-/matched_pictures/François Locoh-Donou/2019/pic1.jpg\n",
      "/Users/jessecoulter/Downloads/FIN377/CEOPersonalities-/matched_pictures/Jayshree Ullal/2010\n"
     ]
    },
    {
     "name": "stderr",
     "output_type": "stream",
     "text": [
      "\n",
      "Finding actions:   0%|                                    | 0/4 [00:00<?, ?it/s]\u001b[A\n",
      "Action: age:   0%|                                        | 0/4 [00:00<?, ?it/s]\u001b[A\n",
      "Action: age:  25%|████████                        | 1/4 [00:00<00:00,  5.44it/s]\u001b[A\n",
      "Action: gender:  25%|███████▎                     | 1/4 [00:00<00:00,  5.44it/s]\u001b[A\n",
      "Action: gender:  50%|██████████████▌              | 2/4 [00:00<00:00,  5.42it/s]\u001b[A\n",
      "Action: race:  50%|███████████████▌               | 2/4 [00:00<00:00,  5.42it/s]\u001b[A\n",
      "Action: race:  75%|███████████████████████▎       | 3/4 [00:00<00:00,  5.44it/s]\u001b[A\n",
      "Action: emotion: 100%|████████████████████████████| 4/4 [00:00<00:00,  7.06it/s]\u001b[A\n",
      "271it [02:58,  2.84it/s]"
     ]
    },
    {
     "name": "stdout",
     "output_type": "stream",
     "text": [
      "/Users/jessecoulter/Downloads/FIN377/CEOPersonalities-/matched_pictures/Jayshree Ullal/2011\n"
     ]
    },
    {
     "name": "stderr",
     "output_type": "stream",
     "text": [
      "\n",
      "Finding actions:   0%|                                    | 0/4 [00:00<?, ?it/s]\u001b[A\n",
      "Action: age:   0%|                                        | 0/4 [00:00<?, ?it/s]\u001b[A\n",
      "Action: age:  25%|████████                        | 1/4 [00:00<00:00,  5.44it/s]\u001b[A\n",
      "Action: gender:  25%|███████▎                     | 1/4 [00:00<00:00,  5.44it/s]\u001b[A\n",
      "Action: gender:  50%|██████████████▌              | 2/4 [00:00<00:00,  5.46it/s]\u001b[A\n",
      "Action: race:  50%|███████████████▌               | 2/4 [00:00<00:00,  5.46it/s]\u001b[A\n",
      "Action: race:  75%|███████████████████████▎       | 3/4 [00:00<00:00,  5.32it/s]\u001b[A\n",
      "Action: emotion: 100%|████████████████████████████| 4/4 [00:00<00:00,  6.97it/s]\u001b[A\n",
      "272it [02:59,  2.49it/s]"
     ]
    },
    {
     "name": "stdout",
     "output_type": "stream",
     "text": [
      "/Users/jessecoulter/Downloads/FIN377/CEOPersonalities-/matched_pictures/Jayshree Ullal/2012\n"
     ]
    },
    {
     "name": "stderr",
     "output_type": "stream",
     "text": [
      "\n",
      "Finding actions:   0%|                                    | 0/4 [00:00<?, ?it/s]\u001b[A\n",
      "Action: age:   0%|                                        | 0/4 [00:00<?, ?it/s]\u001b[A\n",
      "Action: age:  25%|████████                        | 1/4 [00:00<00:00,  5.35it/s]\u001b[A\n",
      "Action: gender:  25%|███████▎                     | 1/4 [00:00<00:00,  5.35it/s]\u001b[A\n",
      "Action: gender:  50%|██████████████▌              | 2/4 [00:00<00:00,  5.32it/s]\u001b[A\n",
      "Action: race:  50%|███████████████▌               | 2/4 [00:00<00:00,  5.32it/s]\u001b[A\n",
      "Action: race:  75%|███████████████████████▎       | 3/4 [00:00<00:00,  5.44it/s]\u001b[A\n",
      "Action: emotion: 100%|████████████████████████████| 4/4 [00:00<00:00,  7.04it/s]\u001b[A\n",
      "273it [02:59,  2.26it/s]"
     ]
    },
    {
     "name": "stdout",
     "output_type": "stream",
     "text": [
      "/Users/jessecoulter/Downloads/FIN377/CEOPersonalities-/matched_pictures/Jayshree Ullal/2013\n"
     ]
    },
    {
     "name": "stderr",
     "output_type": "stream",
     "text": [
      "\n",
      "Finding actions:   0%|                                    | 0/4 [00:00<?, ?it/s]\u001b[A\n",
      "Action: age:   0%|                                        | 0/4 [00:00<?, ?it/s]\u001b[A\n",
      "Action: age:  25%|████████                        | 1/4 [00:00<00:00,  5.52it/s]\u001b[A\n",
      "Action: gender:  25%|███████▎                     | 1/4 [00:00<00:00,  5.52it/s]\u001b[A\n",
      "Action: gender:  50%|██████████████▌              | 2/4 [00:00<00:00,  5.43it/s]\u001b[A\n",
      "Action: race:  50%|███████████████▌               | 2/4 [00:00<00:00,  5.43it/s]\u001b[A\n",
      "Action: race:  75%|███████████████████████▎       | 3/4 [00:00<00:00,  5.47it/s]\u001b[A\n",
      "Action: emotion: 100%|████████████████████████████| 4/4 [00:00<00:00,  7.11it/s]\u001b[A\n",
      "274it [03:00,  2.07it/s]"
     ]
    },
    {
     "name": "stdout",
     "output_type": "stream",
     "text": [
      "/Users/jessecoulter/Downloads/FIN377/CEOPersonalities-/matched_pictures/Jayshree Ullal/2014\n"
     ]
    },
    {
     "name": "stderr",
     "output_type": "stream",
     "text": [
      "\n",
      "Finding actions:   0%|                                    | 0/4 [00:00<?, ?it/s]\u001b[A\n",
      "Action: age:   0%|                                        | 0/4 [00:00<?, ?it/s]\u001b[A\n",
      "Action: age:  25%|████████                        | 1/4 [00:00<00:00,  5.49it/s]\u001b[A\n",
      "Action: gender:  25%|███████▎                     | 1/4 [00:00<00:00,  5.49it/s]\u001b[A\n",
      "Action: gender:  50%|██████████████▌              | 2/4 [00:00<00:00,  5.45it/s]\u001b[A\n",
      "Action: race:  50%|███████████████▌               | 2/4 [00:00<00:00,  5.45it/s]\u001b[A\n",
      "Action: race:  75%|███████████████████████▎       | 3/4 [00:00<00:00,  5.46it/s]\u001b[A\n",
      "Action: emotion: 100%|████████████████████████████| 4/4 [00:00<00:00,  7.11it/s]\u001b[A\n",
      "275it [03:00,  1.89it/s]"
     ]
    },
    {
     "name": "stdout",
     "output_type": "stream",
     "text": [
      "/Users/jessecoulter/Downloads/FIN377/CEOPersonalities-/matched_pictures/Jayshree Ullal/2015\n"
     ]
    },
    {
     "name": "stderr",
     "output_type": "stream",
     "text": [
      "\n",
      "Finding actions:   0%|                                    | 0/4 [00:00<?, ?it/s]\u001b[A\n",
      "Action: age:   0%|                                        | 0/4 [00:00<?, ?it/s]\u001b[A\n",
      "Action: age:  25%|████████                        | 1/4 [00:00<00:00,  5.51it/s]\u001b[A\n",
      "Action: gender:  25%|███████▎                     | 1/4 [00:00<00:00,  5.51it/s]\u001b[A\n",
      "Action: gender:  50%|██████████████▌              | 2/4 [00:00<00:00,  5.36it/s]\u001b[A\n",
      "Action: race:  50%|███████████████▌               | 2/4 [00:00<00:00,  5.36it/s]\u001b[A\n",
      "Action: race:  75%|███████████████████████▎       | 3/4 [00:00<00:00,  5.47it/s]\u001b[A\n",
      "Action: emotion: 100%|████████████████████████████| 4/4 [00:00<00:00,  7.09it/s]\u001b[A\n",
      "276it [03:01,  1.81it/s]"
     ]
    },
    {
     "name": "stdout",
     "output_type": "stream",
     "text": [
      "/Users/jessecoulter/Downloads/FIN377/CEOPersonalities-/matched_pictures/Jayshree Ullal/2016\n"
     ]
    },
    {
     "name": "stderr",
     "output_type": "stream",
     "text": [
      "\n",
      "Finding actions:   0%|                                    | 0/4 [00:00<?, ?it/s]\u001b[A\n",
      "Action: age:   0%|                                        | 0/4 [00:00<?, ?it/s]\u001b[A\n",
      "Action: age:  25%|████████                        | 1/4 [00:00<00:00,  5.37it/s]\u001b[A\n",
      "Action: gender:  25%|███████▎                     | 1/4 [00:00<00:00,  5.37it/s]\u001b[A\n",
      "Action: gender:  50%|██████████████▌              | 2/4 [00:00<00:00,  5.46it/s]\u001b[A\n",
      "Action: race:  50%|███████████████▌               | 2/4 [00:00<00:00,  5.46it/s]\u001b[A\n",
      "Action: race:  75%|███████████████████████▎       | 3/4 [00:00<00:00,  5.43it/s]\u001b[A\n",
      "Action: emotion: 100%|████████████████████████████| 4/4 [00:00<00:00,  7.06it/s]\u001b[A\n",
      "277it [03:02,  1.77it/s]"
     ]
    },
    {
     "name": "stdout",
     "output_type": "stream",
     "text": [
      "/Users/jessecoulter/Downloads/FIN377/CEOPersonalities-/matched_pictures/Jayshree Ullal/2017\n"
     ]
    },
    {
     "name": "stderr",
     "output_type": "stream",
     "text": [
      "\n",
      "Finding actions:   0%|                                    | 0/4 [00:00<?, ?it/s]\u001b[A\n",
      "Action: age:   0%|                                        | 0/4 [00:00<?, ?it/s]\u001b[A\n",
      "Action: age:  25%|████████                        | 1/4 [00:00<00:00,  5.76it/s]\u001b[A\n",
      "Action: gender:  25%|███████▎                     | 1/4 [00:00<00:00,  5.76it/s]\u001b[A\n",
      "Action: gender:  50%|██████████████▌              | 2/4 [00:00<00:00,  5.56it/s]\u001b[A\n",
      "Action: race:  50%|███████████████▌               | 2/4 [00:00<00:00,  5.56it/s]\u001b[A\n",
      "Action: race:  75%|███████████████████████▎       | 3/4 [00:00<00:00,  5.54it/s]\u001b[A\n",
      "Action: emotion: 100%|████████████████████████████| 4/4 [00:00<00:00,  7.23it/s]\u001b[A\n",
      "\n",
      "Finding actions:   0%|                                    | 0/4 [00:00<?, ?it/s]\u001b[A\n",
      "Action: age:   0%|                                        | 0/4 [00:00<?, ?it/s]\u001b[A\n",
      "Action: age:  25%|████████                        | 1/4 [00:00<00:00,  5.42it/s]\u001b[A\n",
      "Action: gender:  25%|███████▎                     | 1/4 [00:00<00:00,  5.42it/s]\u001b[A\n",
      "Action: gender:  50%|██████████████▌              | 2/4 [00:00<00:00,  5.36it/s]\u001b[A\n",
      "Action: race:  50%|███████████████▌               | 2/4 [00:00<00:00,  5.36it/s]\u001b[A\n",
      "Action: race:  75%|███████████████████████▎       | 3/4 [00:00<00:00,  5.33it/s]\u001b[A\n",
      "Action: emotion: 100%|████████████████████████████| 4/4 [00:00<00:00,  6.94it/s]\u001b[A\n",
      "278it [03:03,  1.23it/s]"
     ]
    },
    {
     "name": "stdout",
     "output_type": "stream",
     "text": [
      "/Users/jessecoulter/Downloads/FIN377/CEOPersonalities-/matched_pictures/Jayshree Ullal/2018\n"
     ]
    },
    {
     "name": "stderr",
     "output_type": "stream",
     "text": [
      "\n",
      "Finding actions:   0%|                                    | 0/4 [00:00<?, ?it/s]\u001b[A\n",
      "Action: age:   0%|                                        | 0/4 [00:00<?, ?it/s]\u001b[A\n",
      "Action: age:  25%|████████                        | 1/4 [00:00<00:00,  5.52it/s]\u001b[A\n",
      "Action: gender:  25%|███████▎                     | 1/4 [00:00<00:00,  5.52it/s]\u001b[A\n",
      "Action: gender:  50%|██████████████▌              | 2/4 [00:00<00:00,  5.51it/s]\u001b[A\n",
      "Action: race:  50%|███████████████▌               | 2/4 [00:00<00:00,  5.51it/s]\u001b[A\n",
      "Action: race:  75%|███████████████████████▎       | 3/4 [00:00<00:00,  5.47it/s]\u001b[A\n",
      "Action: emotion: 100%|████████████████████████████| 4/4 [00:00<00:00,  7.12it/s]\u001b[A\n",
      "\n",
      "Finding actions:   0%|                                    | 0/4 [00:00<?, ?it/s]\u001b[A\n",
      "Action: age:   0%|                                        | 0/4 [00:00<?, ?it/s]\u001b[A\n",
      "Action: age:  25%|████████                        | 1/4 [00:00<00:00,  5.18it/s]\u001b[A\n",
      "Action: gender:  25%|███████▎                     | 1/4 [00:00<00:00,  5.18it/s]\u001b[A\n",
      "Action: gender:  50%|██████████████▌              | 2/4 [00:00<00:00,  5.28it/s]\u001b[A\n",
      "Action: race:  50%|███████████████▌               | 2/4 [00:00<00:00,  5.28it/s]\u001b[A\n",
      "Action: race:  75%|███████████████████████▎       | 3/4 [00:00<00:00,  5.37it/s]\u001b[A\n",
      "Action: emotion: 100%|████████████████████████████| 4/4 [00:00<00:00,  6.93it/s]\u001b[A\n",
      "279it [03:04,  1.09it/s]"
     ]
    },
    {
     "name": "stdout",
     "output_type": "stream",
     "text": [
      "/Users/jessecoulter/Downloads/FIN377/CEOPersonalities-/matched_pictures/Jayshree Ullal/2019\n"
     ]
    },
    {
     "name": "stderr",
     "output_type": "stream",
     "text": [
      "\n",
      "Finding actions:   0%|                                    | 0/4 [00:00<?, ?it/s]\u001b[A\n",
      "Action: age:   0%|                                        | 0/4 [00:00<?, ?it/s]\u001b[A\n",
      "Action: age:  25%|████████                        | 1/4 [00:00<00:00,  5.44it/s]\u001b[A\n",
      "Action: gender:  25%|███████▎                     | 1/4 [00:00<00:00,  5.44it/s]\u001b[A\n",
      "Action: gender:  50%|██████████████▌              | 2/4 [00:00<00:00,  5.37it/s]\u001b[A\n",
      "Action: race:  50%|███████████████▌               | 2/4 [00:00<00:00,  5.37it/s]\u001b[A\n",
      "Action: race:  75%|███████████████████████▎       | 3/4 [00:00<00:00,  5.37it/s]\u001b[A\n",
      "Action: emotion: 100%|████████████████████████████| 4/4 [00:00<00:00,  7.00it/s]\u001b[A\n",
      "280it [03:05,  1.14it/s]"
     ]
    },
    {
     "name": "stdout",
     "output_type": "stream",
     "text": [
      "/Users/jessecoulter/Downloads/FIN377/CEOPersonalities-/matched_pictures/Greg Brown/2010\n"
     ]
    },
    {
     "name": "stderr",
     "output_type": "stream",
     "text": [
      "\n",
      "Finding actions:   0%|                                    | 0/4 [00:00<?, ?it/s]\u001b[A\n",
      "Action: age:   0%|                                        | 0/4 [00:00<?, ?it/s]\u001b[A\n",
      "Action: age:  25%|████████                        | 1/4 [00:00<00:00,  5.62it/s]\u001b[A\n",
      "Action: gender:  25%|███████▎                     | 1/4 [00:00<00:00,  5.62it/s]\u001b[A\n",
      "Action: gender:  50%|██████████████▌              | 2/4 [00:00<00:00,  5.52it/s]\u001b[A\n",
      "Action: race:  50%|███████████████▌               | 2/4 [00:00<00:00,  5.52it/s]\u001b[A\n",
      "Action: race:  75%|███████████████████████▎       | 3/4 [00:00<00:00,  5.45it/s]\u001b[A\n",
      "Action: emotion: 100%|████████████████████████████| 4/4 [00:00<00:00,  7.12it/s]\u001b[A\n",
      "281it [03:06,  1.15it/s]"
     ]
    },
    {
     "name": "stdout",
     "output_type": "stream",
     "text": [
      "/Users/jessecoulter/Downloads/FIN377/CEOPersonalities-/matched_pictures/Greg Brown/2011\n"
     ]
    },
    {
     "name": "stderr",
     "output_type": "stream",
     "text": [
      "\n",
      "Finding actions:   0%|                                    | 0/4 [00:00<?, ?it/s]\u001b[A\n",
      "Action: age:   0%|                                        | 0/4 [00:00<?, ?it/s]\u001b[A\n",
      "Action: age:  25%|████████                        | 1/4 [00:00<00:00,  5.44it/s]\u001b[A\n",
      "Action: gender:  25%|███████▎                     | 1/4 [00:00<00:00,  5.44it/s]\u001b[A\n",
      "Action: gender:  50%|██████████████▌              | 2/4 [00:00<00:00,  5.36it/s]\u001b[A\n",
      "Action: race:  50%|███████████████▌               | 2/4 [00:00<00:00,  5.36it/s]\u001b[A\n",
      "Action: race:  75%|███████████████████████▎       | 3/4 [00:00<00:00,  5.27it/s]\u001b[A\n",
      "Action: emotion: 100%|████████████████████████████| 4/4 [00:00<00:00,  6.90it/s]\u001b[A\n",
      "282it [03:07,  1.27it/s]"
     ]
    },
    {
     "name": "stdout",
     "output_type": "stream",
     "text": [
      "/Users/jessecoulter/Downloads/FIN377/CEOPersonalities-/matched_pictures/Greg Brown/2012\n"
     ]
    },
    {
     "name": "stderr",
     "output_type": "stream",
     "text": [
      "\n",
      "Finding actions:   0%|                                    | 0/4 [00:00<?, ?it/s]\u001b[A\n",
      "Action: age:   0%|                                        | 0/4 [00:00<?, ?it/s]\u001b[A\n",
      "Action: age:  25%|████████                        | 1/4 [00:00<00:00,  5.42it/s]\u001b[A\n",
      "Action: gender:  25%|███████▎                     | 1/4 [00:00<00:00,  5.42it/s]\u001b[A\n",
      "Action: gender:  50%|██████████████▌              | 2/4 [00:00<00:00,  5.36it/s]\u001b[A\n",
      "Action: race:  50%|███████████████▌               | 2/4 [00:00<00:00,  5.36it/s]\u001b[A\n",
      "Action: race:  75%|███████████████████████▎       | 3/4 [00:00<00:00,  5.39it/s]\u001b[A\n",
      "Action: emotion: 100%|████████████████████████████| 4/4 [00:00<00:00,  6.99it/s]\u001b[A\n",
      "283it [03:07,  1.36it/s]"
     ]
    },
    {
     "name": "stdout",
     "output_type": "stream",
     "text": [
      "/Users/jessecoulter/Downloads/FIN377/CEOPersonalities-/matched_pictures/Greg Brown/2013\n"
     ]
    },
    {
     "name": "stderr",
     "output_type": "stream",
     "text": [
      "\n",
      "Finding actions:   0%|                                    | 0/4 [00:00<?, ?it/s]\u001b[A\n",
      "Action: age:   0%|                                        | 0/4 [00:00<?, ?it/s]\u001b[A\n",
      "Action: age:  25%|████████                        | 1/4 [00:00<00:00,  5.38it/s]\u001b[A\n",
      "Action: gender:  25%|███████▎                     | 1/4 [00:00<00:00,  5.38it/s]\u001b[A\n",
      "Action: gender:  50%|██████████████▌              | 2/4 [00:00<00:00,  5.41it/s]\u001b[A\n",
      "Action: race:  50%|███████████████▌               | 2/4 [00:00<00:00,  5.41it/s]\u001b[A\n",
      "Action: race:  75%|███████████████████████▎       | 3/4 [00:00<00:00,  5.44it/s]\u001b[A\n",
      "Action: emotion: 100%|████████████████████████████| 4/4 [00:00<00:00,  7.06it/s]\u001b[A\n",
      "284it [03:08,  1.44it/s]"
     ]
    },
    {
     "name": "stdout",
     "output_type": "stream",
     "text": [
      "/Users/jessecoulter/Downloads/FIN377/CEOPersonalities-/matched_pictures/Greg Brown/2014\n"
     ]
    },
    {
     "name": "stderr",
     "output_type": "stream",
     "text": [
      "\n",
      "Finding actions:   0%|                                    | 0/4 [00:00<?, ?it/s]\u001b[A\n",
      "Action: age:   0%|                                        | 0/4 [00:00<?, ?it/s]\u001b[A\n",
      "Action: age:  25%|████████                        | 1/4 [00:00<00:00,  5.28it/s]\u001b[A\n",
      "Action: gender:  25%|███████▎                     | 1/4 [00:00<00:00,  5.28it/s]\u001b[A\n",
      "Action: gender:  50%|██████████████▌              | 2/4 [00:00<00:00,  5.38it/s]\u001b[A\n",
      "Action: race:  50%|███████████████▌               | 2/4 [00:00<00:00,  5.38it/s]\u001b[A\n",
      "Action: race:  75%|███████████████████████▎       | 3/4 [00:00<00:00,  5.40it/s]\u001b[A\n",
      "Action: emotion: 100%|████████████████████████████| 4/4 [00:00<00:00,  6.99it/s]\u001b[A\n",
      "285it [03:08,  1.50it/s]"
     ]
    },
    {
     "name": "stdout",
     "output_type": "stream",
     "text": [
      "/Users/jessecoulter/Downloads/FIN377/CEOPersonalities-/matched_pictures/Greg Brown/2015\n"
     ]
    },
    {
     "name": "stderr",
     "output_type": "stream",
     "text": [
      "\n",
      "Finding actions:   0%|                                    | 0/4 [00:00<?, ?it/s]\u001b[A\n",
      "Action: age:   0%|                                        | 0/4 [00:00<?, ?it/s]\u001b[A\n",
      "Action: age:  25%|████████                        | 1/4 [00:00<00:00,  5.47it/s]\u001b[A\n",
      "Action: gender:  25%|███████▎                     | 1/4 [00:00<00:00,  5.47it/s]\u001b[A\n",
      "Action: gender:  50%|██████████████▌              | 2/4 [00:00<00:00,  5.37it/s]\u001b[A\n",
      "Action: race:  50%|███████████████▌               | 2/4 [00:00<00:00,  5.37it/s]\u001b[A\n",
      "Action: race:  75%|███████████████████████▎       | 3/4 [00:00<00:00,  5.41it/s]\u001b[A\n",
      "Action: emotion: 100%|████████████████████████████| 4/4 [00:00<00:00,  7.03it/s]\u001b[A\n",
      "286it [03:09,  1.42it/s]"
     ]
    },
    {
     "name": "stdout",
     "output_type": "stream",
     "text": [
      "/Users/jessecoulter/Downloads/FIN377/CEOPersonalities-/matched_pictures/Greg Brown/2016\n"
     ]
    },
    {
     "name": "stderr",
     "output_type": "stream",
     "text": [
      "\n",
      "Finding actions:   0%|                                    | 0/4 [00:00<?, ?it/s]\u001b[A\n",
      "Action: age:   0%|                                        | 0/4 [00:00<?, ?it/s]\u001b[A\n",
      "Action: age:  25%|████████                        | 1/4 [00:00<00:00,  5.48it/s]\u001b[A\n",
      "Action: gender:  25%|███████▎                     | 1/4 [00:00<00:00,  5.48it/s]\u001b[A\n",
      "Action: gender:  50%|██████████████▌              | 2/4 [00:00<00:00,  5.43it/s]\u001b[A\n",
      "Action: race:  50%|███████████████▌               | 2/4 [00:00<00:00,  5.43it/s]\u001b[A\n",
      "Action: race:  75%|███████████████████████▎       | 3/4 [00:00<00:00,  5.51it/s]\u001b[A\n",
      "Action: emotion: 100%|████████████████████████████| 4/4 [00:00<00:00,  7.15it/s]\u001b[A\n",
      "287it [03:10,  1.44it/s]"
     ]
    },
    {
     "name": "stdout",
     "output_type": "stream",
     "text": [
      "/Users/jessecoulter/Downloads/FIN377/CEOPersonalities-/matched_pictures/Greg Brown/2017\n"
     ]
    },
    {
     "name": "stderr",
     "output_type": "stream",
     "text": [
      "\n",
      "Finding actions:   0%|                                    | 0/4 [00:00<?, ?it/s]\u001b[A\n",
      "Action: age:   0%|                                        | 0/4 [00:00<?, ?it/s]\u001b[A\n",
      "Action: age:  25%|████████                        | 1/4 [00:00<00:00,  5.29it/s]\u001b[A\n",
      "Action: gender:  25%|███████▎                     | 1/4 [00:00<00:00,  5.29it/s]\u001b[A\n",
      "Action: gender:  50%|██████████████▌              | 2/4 [00:00<00:00,  5.37it/s]\u001b[A\n",
      "Action: race:  50%|███████████████▌               | 2/4 [00:00<00:00,  5.37it/s]\u001b[A\n",
      "Action: race:  75%|███████████████████████▎       | 3/4 [00:00<00:00,  5.39it/s]\u001b[A\n",
      "Action: emotion: 100%|████████████████████████████| 4/4 [00:00<00:00,  6.99it/s]\u001b[A\n",
      "288it [03:10,  1.49it/s]"
     ]
    },
    {
     "name": "stdout",
     "output_type": "stream",
     "text": [
      "/Users/jessecoulter/Downloads/FIN377/CEOPersonalities-/matched_pictures/Greg Brown/2018\n",
      "Folder not found: /Users/jessecoulter/Downloads/FIN377/CEOPersonalities-/matched_pictures/Greg Brown/2018\n",
      "/Users/jessecoulter/Downloads/FIN377/CEOPersonalities-/matched_pictures/Greg Brown/2019\n"
     ]
    },
    {
     "name": "stderr",
     "output_type": "stream",
     "text": [
      "\n",
      "Finding actions:   0%|                                    | 0/4 [00:00<?, ?it/s]\u001b[A\n",
      "Action: age:   0%|                                        | 0/4 [00:00<?, ?it/s]\u001b[A\n",
      "Action: age:  25%|████████                        | 1/4 [00:00<00:00,  5.29it/s]\u001b[A\n",
      "Action: gender:  25%|███████▎                     | 1/4 [00:00<00:00,  5.29it/s]\u001b[A\n",
      "Action: gender:  50%|██████████████▌              | 2/4 [00:00<00:00,  5.39it/s]\u001b[A\n",
      "Action: race:  50%|███████████████▌               | 2/4 [00:00<00:00,  5.39it/s]\u001b[A\n",
      "Action: race:  75%|███████████████████████▎       | 3/4 [00:00<00:00,  5.35it/s]\u001b[A\n",
      "Action: emotion: 100%|████████████████████████████| 4/4 [00:00<00:00,  6.95it/s]\u001b[A\n",
      "290it [03:11,  2.00it/s]"
     ]
    },
    {
     "name": "stdout",
     "output_type": "stream",
     "text": [
      "/Users/jessecoulter/Downloads/FIN377/CEOPersonalities-/matched_pictures/John Coyne/2010\n"
     ]
    },
    {
     "name": "stderr",
     "output_type": "stream",
     "text": [
      "\n",
      "Finding actions:   0%|                                    | 0/4 [00:00<?, ?it/s]\u001b[A\n",
      "Action: age:   0%|                                        | 0/4 [00:00<?, ?it/s]\u001b[A\n",
      "Action: age:  25%|████████                        | 1/4 [00:00<00:00,  5.39it/s]\u001b[A\n",
      "Action: gender:  25%|███████▎                     | 1/4 [00:00<00:00,  5.39it/s]\u001b[A\n",
      "Action: gender:  50%|██████████████▌              | 2/4 [00:00<00:00,  5.37it/s]\u001b[A\n",
      "Action: race:  50%|███████████████▌               | 2/4 [00:00<00:00,  5.37it/s]\u001b[A\n",
      "Action: race:  75%|███████████████████████▎       | 3/4 [00:00<00:00,  5.45it/s]\u001b[A\n",
      "Action: emotion: 100%|████████████████████████████| 4/4 [00:00<00:00,  7.07it/s]\u001b[A\n",
      "291it [03:12,  1.91it/s]"
     ]
    },
    {
     "name": "stdout",
     "output_type": "stream",
     "text": [
      "/Users/jessecoulter/Downloads/FIN377/CEOPersonalities-/matched_pictures/John Coyne/2011\n"
     ]
    },
    {
     "name": "stderr",
     "output_type": "stream",
     "text": [
      "\n",
      "Finding actions:   0%|                                    | 0/4 [00:00<?, ?it/s]\u001b[A\n",
      "Action: age:   0%|                                        | 0/4 [00:00<?, ?it/s]\u001b[A\n",
      "Action: age:  25%|████████                        | 1/4 [00:00<00:00,  5.51it/s]\u001b[A\n",
      "Action: gender:  25%|███████▎                     | 1/4 [00:00<00:00,  5.51it/s]\u001b[A\n",
      "Action: gender:  50%|██████████████▌              | 2/4 [00:00<00:00,  5.41it/s]\u001b[A\n",
      "Action: race:  50%|███████████████▌               | 2/4 [00:00<00:00,  5.41it/s]\u001b[A\n",
      "Action: race:  75%|███████████████████████▎       | 3/4 [00:00<00:00,  5.44it/s]\u001b[A\n",
      "Action: emotion: 100%|████████████████████████████| 4/4 [00:00<00:00,  7.08it/s]\u001b[A\n",
      "292it [03:12,  1.85it/s]"
     ]
    },
    {
     "name": "stdout",
     "output_type": "stream",
     "text": [
      "/Users/jessecoulter/Downloads/FIN377/CEOPersonalities-/matched_pictures/Stephen Milligan/2012\n"
     ]
    },
    {
     "name": "stderr",
     "output_type": "stream",
     "text": [
      "\n",
      "Finding actions:   0%|                                    | 0/4 [00:00<?, ?it/s]\u001b[A\n",
      "Action: age:   0%|                                        | 0/4 [00:00<?, ?it/s]\u001b[A\n",
      "Action: age:  25%|████████                        | 1/4 [00:00<00:00,  5.68it/s]\u001b[A\n",
      "Action: gender:  25%|███████▎                     | 1/4 [00:00<00:00,  5.68it/s]\u001b[A\n",
      "Action: gender:  50%|██████████████▌              | 2/4 [00:00<00:00,  5.51it/s]\u001b[A\n",
      "Action: race:  50%|███████████████▌               | 2/4 [00:00<00:00,  5.51it/s]\u001b[A\n",
      "Action: race:  75%|███████████████████████▎       | 3/4 [00:00<00:00,  5.42it/s]\u001b[A\n",
      "Action: emotion: 100%|████████████████████████████| 4/4 [00:00<00:00,  7.10it/s]\u001b[A\n",
      "293it [03:13,  1.71it/s]"
     ]
    },
    {
     "name": "stdout",
     "output_type": "stream",
     "text": [
      "/Users/jessecoulter/Downloads/FIN377/CEOPersonalities-/matched_pictures/Stephen Milligan/2013\n"
     ]
    },
    {
     "name": "stderr",
     "output_type": "stream",
     "text": [
      "\n",
      "Finding actions:   0%|                                    | 0/4 [00:00<?, ?it/s]\u001b[A\n",
      "Action: age:   0%|                                        | 0/4 [00:00<?, ?it/s]\u001b[A\n",
      "Action: age:  25%|████████                        | 1/4 [00:00<00:00,  5.34it/s]\u001b[A\n",
      "Action: gender:  25%|███████▎                     | 1/4 [00:00<00:00,  5.34it/s]\u001b[A\n",
      "Action: gender:  50%|██████████████▌              | 2/4 [00:00<00:00,  5.37it/s]\u001b[A\n",
      "Action: race:  50%|███████████████▌               | 2/4 [00:00<00:00,  5.37it/s]\u001b[A\n",
      "Action: race:  75%|███████████████████████▎       | 3/4 [00:00<00:00,  5.40it/s]\u001b[A\n",
      "Action: emotion: 100%|████████████████████████████| 4/4 [00:00<00:00,  7.01it/s]\u001b[A\n",
      "294it [03:13,  1.70it/s]"
     ]
    },
    {
     "name": "stdout",
     "output_type": "stream",
     "text": [
      "/Users/jessecoulter/Downloads/FIN377/CEOPersonalities-/matched_pictures/Stephen Milligan/2014\n"
     ]
    },
    {
     "name": "stderr",
     "output_type": "stream",
     "text": [
      "\n",
      "Finding actions:   0%|                                    | 0/4 [00:00<?, ?it/s]\u001b[A\n",
      "Action: age:   0%|                                        | 0/4 [00:00<?, ?it/s]\u001b[A\n",
      "Action: age:  25%|████████                        | 1/4 [00:00<00:00,  5.56it/s]\u001b[A\n",
      "Action: gender:  25%|███████▎                     | 1/4 [00:00<00:00,  5.56it/s]\u001b[A\n",
      "Action: gender:  50%|██████████████▌              | 2/4 [00:00<00:00,  5.45it/s]\u001b[A\n",
      "Action: race:  50%|███████████████▌               | 2/4 [00:00<00:00,  5.45it/s]\u001b[A\n",
      "Action: race:  75%|███████████████████████▎       | 3/4 [00:00<00:00,  5.43it/s]\u001b[A\n",
      "Action: emotion: 100%|████████████████████████████| 4/4 [00:00<00:00,  7.08it/s]\u001b[A\n",
      "295it [03:14,  1.62it/s]"
     ]
    },
    {
     "name": "stdout",
     "output_type": "stream",
     "text": [
      "/Users/jessecoulter/Downloads/FIN377/CEOPersonalities-/matched_pictures/Stephen Milligan/2015\n",
      "Error analyzing /Users/jessecoulter/Downloads/FIN377/CEOPersonalities-/matched_pictures/Stephen Milligan/2015/pic1.jpg: Face could not be detected in /Users/jessecoulter/Downloads/FIN377/CEOPersonalities-/matched_pictures/Stephen Milligan/2015/pic1.jpg.Please confirm that the picture is a face photo or consider to set enforce_detection param to False.\n",
      "/Users/jessecoulter/Downloads/FIN377/CEOPersonalities-/matched_pictures/Stephen Milligan/2016\n"
     ]
    },
    {
     "name": "stderr",
     "output_type": "stream",
     "text": [
      "\n",
      "Finding actions:   0%|                                    | 0/4 [00:00<?, ?it/s]\u001b[A\n",
      "Action: age:   0%|                                        | 0/4 [00:00<?, ?it/s]\u001b[A\n",
      "Action: age:  25%|████████                        | 1/4 [00:00<00:00,  5.43it/s]\u001b[A\n",
      "Action: gender:  25%|███████▎                     | 1/4 [00:00<00:00,  5.43it/s]\u001b[A\n",
      "Action: gender:  50%|██████████████▌              | 2/4 [00:00<00:00,  5.46it/s]\u001b[A\n",
      "Action: race:  50%|███████████████▌               | 2/4 [00:00<00:00,  5.46it/s]\u001b[A\n",
      "Action: race:  75%|███████████████████████▎       | 3/4 [00:00<00:00,  5.38it/s]\u001b[A\n",
      "Action: emotion: 100%|████████████████████████████| 4/4 [00:00<00:00,  7.00it/s]\u001b[A\n",
      "297it [03:15,  2.03it/s]"
     ]
    },
    {
     "name": "stdout",
     "output_type": "stream",
     "text": [
      "/Users/jessecoulter/Downloads/FIN377/CEOPersonalities-/matched_pictures/Stephen Milligan/2017\n"
     ]
    },
    {
     "name": "stderr",
     "output_type": "stream",
     "text": [
      "\n",
      "Finding actions:   0%|                                    | 0/4 [00:00<?, ?it/s]\u001b[A\n",
      "Action: age:   0%|                                        | 0/4 [00:00<?, ?it/s]\u001b[A\n",
      "Action: age:  25%|████████                        | 1/4 [00:00<00:00,  5.31it/s]\u001b[A\n",
      "Action: gender:  25%|███████▎                     | 1/4 [00:00<00:00,  5.31it/s]\u001b[A\n",
      "Action: gender:  50%|██████████████▌              | 2/4 [00:00<00:00,  5.43it/s]\u001b[A\n",
      "Action: race:  50%|███████████████▌               | 2/4 [00:00<00:00,  5.43it/s]\u001b[A\n",
      "Action: race:  75%|███████████████████████▎       | 3/4 [00:00<00:00,  5.43it/s]\u001b[A\n",
      "Action: emotion: 100%|████████████████████████████| 4/4 [00:00<00:00,  7.04it/s]\u001b[A\n",
      "298it [03:15,  1.94it/s]"
     ]
    },
    {
     "name": "stdout",
     "output_type": "stream",
     "text": [
      "/Users/jessecoulter/Downloads/FIN377/CEOPersonalities-/matched_pictures/Stephen Milligan/2018\n"
     ]
    },
    {
     "name": "stderr",
     "output_type": "stream",
     "text": [
      "\n",
      "Finding actions:   0%|                                    | 0/4 [00:00<?, ?it/s]\u001b[A\n",
      "Action: age:   0%|                                        | 0/4 [00:00<?, ?it/s]\u001b[A\n",
      "Action: age:  25%|████████                        | 1/4 [00:00<00:00,  5.35it/s]\u001b[A\n",
      "Action: gender:  25%|███████▎                     | 1/4 [00:00<00:00,  5.35it/s]\u001b[A\n",
      "Action: gender:  50%|██████████████▌              | 2/4 [00:00<00:00,  5.31it/s]\u001b[A\n",
      "Action: race:  50%|███████████████▌               | 2/4 [00:00<00:00,  5.31it/s]\u001b[A\n",
      "Action: race:  75%|███████████████████████▎       | 3/4 [00:00<00:00,  5.39it/s]\u001b[A\n",
      "Action: emotion: 100%|████████████████████████████| 4/4 [00:00<00:00,  6.99it/s]\u001b[A\n",
      "299it [03:16,  1.86it/s]"
     ]
    },
    {
     "name": "stdout",
     "output_type": "stream",
     "text": [
      "/Users/jessecoulter/Downloads/FIN377/CEOPersonalities-/matched_pictures/Stephen Milligan/2019\n"
     ]
    },
    {
     "name": "stderr",
     "output_type": "stream",
     "text": [
      "\n",
      "Finding actions:   0%|                                    | 0/4 [00:00<?, ?it/s]\u001b[A\n",
      "Action: age:   0%|                                        | 0/4 [00:00<?, ?it/s]\u001b[A\n",
      "Action: age:  25%|████████                        | 1/4 [00:00<00:00,  5.42it/s]\u001b[A\n",
      "Action: gender:  25%|███████▎                     | 1/4 [00:00<00:00,  5.42it/s]\u001b[A\n",
      "Action: gender:  50%|██████████████▌              | 2/4 [00:00<00:00,  5.19it/s]\u001b[A\n",
      "Action: race:  50%|███████████████▌               | 2/4 [00:00<00:00,  5.19it/s]\u001b[A\n",
      "Action: race:  75%|███████████████████████▎       | 3/4 [00:00<00:00,  5.29it/s]\u001b[A\n",
      "Action: emotion: 100%|████████████████████████████| 4/4 [00:00<00:00,  6.87it/s]\u001b[A\n",
      "300it [03:17,  1.64it/s]"
     ]
    },
    {
     "name": "stdout",
     "output_type": "stream",
     "text": [
      "/Users/jessecoulter/Downloads/FIN377/CEOPersonalities-/matched_pictures/Stephen J. Luczo/2010\n"
     ]
    },
    {
     "name": "stderr",
     "output_type": "stream",
     "text": [
      "\n",
      "Finding actions:   0%|                                    | 0/4 [00:00<?, ?it/s]\u001b[A\n",
      "Action: age:   0%|                                        | 0/4 [00:00<?, ?it/s]\u001b[A\n",
      "Action: age:  25%|████████                        | 1/4 [00:00<00:00,  5.32it/s]\u001b[A\n",
      "Action: gender:  25%|███████▎                     | 1/4 [00:00<00:00,  5.32it/s]\u001b[A\n",
      "Action: gender:  50%|██████████████▌              | 2/4 [00:00<00:00,  5.36it/s]\u001b[A\n",
      "Action: race:  50%|███████████████▌               | 2/4 [00:00<00:00,  5.36it/s]\u001b[A\n",
      "Action: race:  75%|███████████████████████▎       | 3/4 [00:00<00:00,  5.43it/s]\u001b[A\n",
      "Action: emotion: 100%|████████████████████████████| 4/4 [00:00<00:00,  7.03it/s]\u001b[A\n",
      "301it [03:17,  1.65it/s]"
     ]
    },
    {
     "name": "stdout",
     "output_type": "stream",
     "text": [
      "/Users/jessecoulter/Downloads/FIN377/CEOPersonalities-/matched_pictures/Stephen J. Luczo/2011\n"
     ]
    },
    {
     "name": "stderr",
     "output_type": "stream",
     "text": [
      "\n",
      "Finding actions:   0%|                                    | 0/4 [00:00<?, ?it/s]\u001b[A\n",
      "Action: age:   0%|                                        | 0/4 [00:00<?, ?it/s]\u001b[A\n",
      "Action: age:  25%|████████                        | 1/4 [00:00<00:00,  5.36it/s]\u001b[A\n",
      "Action: gender:  25%|███████▎                     | 1/4 [00:00<00:00,  5.36it/s]\u001b[A\n",
      "Action: gender:  50%|██████████████▌              | 2/4 [00:00<00:00,  5.34it/s]\u001b[A\n",
      "Action: race:  50%|███████████████▌               | 2/4 [00:00<00:00,  5.34it/s]\u001b[A\n",
      "Action: race:  75%|███████████████████████▎       | 3/4 [00:00<00:00,  5.47it/s]\u001b[A\n",
      "Action: emotion: 100%|████████████████████████████| 4/4 [00:00<00:00,  7.07it/s]\u001b[A\n",
      "302it [03:18,  1.66it/s]"
     ]
    },
    {
     "name": "stdout",
     "output_type": "stream",
     "text": [
      "/Users/jessecoulter/Downloads/FIN377/CEOPersonalities-/matched_pictures/Stephen J. Luczo/2012\n"
     ]
    },
    {
     "name": "stderr",
     "output_type": "stream",
     "text": [
      "\n",
      "Finding actions:   0%|                                    | 0/4 [00:00<?, ?it/s]\u001b[A\n",
      "Action: age:   0%|                                        | 0/4 [00:00<?, ?it/s]\u001b[A\n",
      "Action: age:  25%|████████                        | 1/4 [00:00<00:00,  5.42it/s]\u001b[A\n",
      "Action: gender:  25%|███████▎                     | 1/4 [00:00<00:00,  5.42it/s]\u001b[A\n",
      "Action: gender:  50%|██████████████▌              | 2/4 [00:00<00:00,  5.46it/s]\u001b[A\n",
      "Action: race:  50%|███████████████▌               | 2/4 [00:00<00:00,  5.46it/s]\u001b[A\n",
      "Action: race:  75%|███████████████████████▎       | 3/4 [00:00<00:00,  5.43it/s]\u001b[A\n",
      "Action: emotion: 100%|████████████████████████████| 4/4 [00:00<00:00,  7.07it/s]\u001b[A\n",
      "303it [03:19,  1.66it/s]"
     ]
    },
    {
     "name": "stdout",
     "output_type": "stream",
     "text": [
      "/Users/jessecoulter/Downloads/FIN377/CEOPersonalities-/matched_pictures/Stephen J. Luczo/2013\n"
     ]
    },
    {
     "name": "stderr",
     "output_type": "stream",
     "text": [
      "\n",
      "Finding actions:   0%|                                    | 0/4 [00:00<?, ?it/s]\u001b[A\n",
      "Action: age:   0%|                                        | 0/4 [00:00<?, ?it/s]\u001b[A\n",
      "Action: age:  25%|████████                        | 1/4 [00:00<00:00,  5.25it/s]\u001b[A\n",
      "Action: gender:  25%|███████▎                     | 1/4 [00:00<00:00,  5.25it/s]\u001b[A\n",
      "Action: gender:  50%|██████████████▌              | 2/4 [00:00<00:00,  5.29it/s]\u001b[A\n",
      "Action: race:  50%|███████████████▌               | 2/4 [00:00<00:00,  5.29it/s]\u001b[A\n",
      "Action: race:  75%|███████████████████████▎       | 3/4 [00:00<00:00,  5.39it/s]\u001b[A\n",
      "Action: emotion: 100%|████████████████████████████| 4/4 [00:00<00:00,  6.98it/s]\u001b[A\n",
      "304it [03:19,  1.65it/s]"
     ]
    },
    {
     "name": "stdout",
     "output_type": "stream",
     "text": [
      "/Users/jessecoulter/Downloads/FIN377/CEOPersonalities-/matched_pictures/Stephen J. Luczo/2014\n"
     ]
    },
    {
     "name": "stderr",
     "output_type": "stream",
     "text": [
      "\n",
      "Finding actions:   0%|                                    | 0/4 [00:00<?, ?it/s]\u001b[A\n",
      "Action: age:   0%|                                        | 0/4 [00:00<?, ?it/s]\u001b[A\n",
      "Action: age:  25%|████████                        | 1/4 [00:00<00:00,  5.32it/s]\u001b[A\n",
      "Action: gender:  25%|███████▎                     | 1/4 [00:00<00:00,  5.32it/s]\u001b[A\n",
      "Action: gender:  50%|██████████████▌              | 2/4 [00:00<00:00,  5.32it/s]\u001b[A\n",
      "Action: race:  50%|███████████████▌               | 2/4 [00:00<00:00,  5.32it/s]\u001b[A\n",
      "Action: race:  75%|███████████████████████▎       | 3/4 [00:00<00:00,  5.40it/s]\u001b[A\n",
      "Action: emotion: 100%|████████████████████████████| 4/4 [00:00<00:00,  6.96it/s]\u001b[A\n",
      "305it [03:20,  1.65it/s]"
     ]
    },
    {
     "name": "stdout",
     "output_type": "stream",
     "text": [
      "/Users/jessecoulter/Downloads/FIN377/CEOPersonalities-/matched_pictures/Stephen J. Luczo/2015\n"
     ]
    },
    {
     "name": "stderr",
     "output_type": "stream",
     "text": [
      "\n",
      "Finding actions:   0%|                                    | 0/4 [00:00<?, ?it/s]\u001b[A\n",
      "Action: age:   0%|                                        | 0/4 [00:00<?, ?it/s]\u001b[A\n",
      "Action: age:  25%|████████                        | 1/4 [00:00<00:00,  5.03it/s]\u001b[A\n",
      "Action: gender:  25%|███████▎                     | 1/4 [00:00<00:00,  5.03it/s]\u001b[A\n",
      "Action: gender:  50%|██████████████▌              | 2/4 [00:00<00:00,  5.16it/s]\u001b[A\n",
      "Action: race:  50%|███████████████▌               | 2/4 [00:00<00:00,  5.16it/s]\u001b[A\n",
      "Action: race:  75%|███████████████████████▎       | 3/4 [00:00<00:00,  5.29it/s]\u001b[A\n",
      "Action: emotion: 100%|████████████████████████████| 4/4 [00:00<00:00,  6.82it/s]\u001b[A\n",
      "306it [03:20,  1.64it/s]"
     ]
    },
    {
     "name": "stdout",
     "output_type": "stream",
     "text": [
      "/Users/jessecoulter/Downloads/FIN377/CEOPersonalities-/matched_pictures/Stephen J. Luczo/2016\n"
     ]
    },
    {
     "name": "stderr",
     "output_type": "stream",
     "text": [
      "\n",
      "Finding actions:   0%|                                    | 0/4 [00:00<?, ?it/s]\u001b[A\n",
      "Action: age:   0%|                                        | 0/4 [00:00<?, ?it/s]\u001b[A\n",
      "Action: age:  25%|████████                        | 1/4 [00:00<00:00,  5.33it/s]\u001b[A\n",
      "Action: gender:  25%|███████▎                     | 1/4 [00:00<00:00,  5.33it/s]\u001b[A\n",
      "Action: gender:  50%|██████████████▌              | 2/4 [00:00<00:00,  5.28it/s]\u001b[A\n",
      "Action: race:  50%|███████████████▌               | 2/4 [00:00<00:00,  5.28it/s]\u001b[A\n",
      "Action: race:  75%|███████████████████████▎       | 3/4 [00:00<00:00,  5.40it/s]\u001b[A\n",
      "Action: emotion: 100%|████████████████████████████| 4/4 [00:00<00:00,  6.99it/s]\u001b[A\n",
      "307it [03:21,  1.65it/s]"
     ]
    },
    {
     "name": "stdout",
     "output_type": "stream",
     "text": [
      "/Users/jessecoulter/Downloads/FIN377/CEOPersonalities-/matched_pictures/Stephen J. Luczo/2017\n"
     ]
    },
    {
     "name": "stderr",
     "output_type": "stream",
     "text": [
      "\n",
      "Finding actions:   0%|                                    | 0/4 [00:00<?, ?it/s]\u001b[A\n",
      "Action: age:   0%|                                        | 0/4 [00:00<?, ?it/s]\u001b[A\n",
      "Action: age:  25%|████████                        | 1/4 [00:00<00:00,  5.28it/s]\u001b[A\n",
      "Action: gender:  25%|███████▎                     | 1/4 [00:00<00:00,  5.28it/s]\u001b[A\n",
      "Action: gender:  50%|██████████████▌              | 2/4 [00:00<00:00,  5.38it/s]\u001b[A\n",
      "Action: race:  50%|███████████████▌               | 2/4 [00:00<00:00,  5.38it/s]\u001b[A\n",
      "Action: race:  75%|███████████████████████▎       | 3/4 [00:00<00:00,  5.38it/s]\u001b[A\n",
      "Action: emotion: 100%|████████████████████████████| 4/4 [00:00<00:00,  6.98it/s]\u001b[A\n",
      "308it [03:22,  1.60it/s]"
     ]
    },
    {
     "name": "stdout",
     "output_type": "stream",
     "text": [
      "/Users/jessecoulter/Downloads/FIN377/CEOPersonalities-/matched_pictures/David Mosley/2018\n"
     ]
    },
    {
     "name": "stderr",
     "output_type": "stream",
     "text": [
      "\n",
      "Finding actions:   0%|                                    | 0/4 [00:00<?, ?it/s]\u001b[A\n",
      "Action: age:   0%|                                        | 0/4 [00:00<?, ?it/s]\u001b[A\n",
      "Action: age:  25%|████████                        | 1/4 [00:00<00:00,  5.48it/s]\u001b[A\n",
      "Action: gender:  25%|███████▎                     | 1/4 [00:00<00:00,  5.48it/s]\u001b[A\n",
      "Action: gender:  50%|██████████████▌              | 2/4 [00:00<00:00,  5.40it/s]\u001b[A\n",
      "Action: race:  50%|███████████████▌               | 2/4 [00:00<00:00,  5.40it/s]\u001b[A\n",
      "Action: race:  75%|███████████████████████▎       | 3/4 [00:00<00:00,  5.41it/s]\u001b[A\n",
      "Action: emotion: 100%|████████████████████████████| 4/4 [00:00<00:00,  7.04it/s]\u001b[A\n",
      "309it [03:22,  1.61it/s]"
     ]
    },
    {
     "name": "stdout",
     "output_type": "stream",
     "text": [
      "/Users/jessecoulter/Downloads/FIN377/CEOPersonalities-/matched_pictures/David Mosley/2019\n"
     ]
    },
    {
     "name": "stderr",
     "output_type": "stream",
     "text": [
      "\n",
      "Finding actions:   0%|                                    | 0/4 [00:00<?, ?it/s]\u001b[A\n",
      "Action: age:   0%|                                        | 0/4 [00:00<?, ?it/s]\u001b[A\n",
      "Action: age:  25%|████████                        | 1/4 [00:00<00:00,  5.53it/s]\u001b[A\n",
      "Action: gender:  25%|███████▎                     | 1/4 [00:00<00:00,  5.53it/s]\u001b[A\n",
      "Action: gender:  50%|██████████████▌              | 2/4 [00:00<00:00,  5.42it/s]\u001b[A\n",
      "Action: race:  50%|███████████████▌               | 2/4 [00:00<00:00,  5.42it/s]\u001b[A\n",
      "Action: race:  75%|███████████████████████▎       | 3/4 [00:00<00:00,  5.41it/s]\u001b[A\n",
      "Action: emotion: 100%|████████████████████████████| 4/4 [00:00<00:00,  7.05it/s]\u001b[A\n",
      "310it [03:23,  1.42it/s]"
     ]
    },
    {
     "name": "stdout",
     "output_type": "stream",
     "text": [
      "/Users/jessecoulter/Downloads/FIN377/CEOPersonalities-/matched_pictures/Moshe Gavrielov/2010\n"
     ]
    },
    {
     "name": "stderr",
     "output_type": "stream",
     "text": [
      "\n",
      "Finding actions:   0%|                                    | 0/4 [00:00<?, ?it/s]\u001b[A\n",
      "Action: age:   0%|                                        | 0/4 [00:00<?, ?it/s]\u001b[A\n",
      "Action: age:  25%|████████                        | 1/4 [00:00<00:00,  5.53it/s]\u001b[A\n",
      "Action: gender:  25%|███████▎                     | 1/4 [00:00<00:00,  5.53it/s]\u001b[A\n",
      "Action: gender:  50%|██████████████▌              | 2/4 [00:00<00:00,  5.43it/s]\u001b[A\n",
      "Action: race:  50%|███████████████▌               | 2/4 [00:00<00:00,  5.43it/s]\u001b[A\n",
      "Action: race:  75%|███████████████████████▎       | 3/4 [00:00<00:00,  5.38it/s]\u001b[A\n",
      "Action: emotion: 100%|████████████████████████████| 4/4 [00:00<00:00,  7.03it/s]\u001b[A\n",
      "311it [03:24,  1.47it/s]"
     ]
    },
    {
     "name": "stdout",
     "output_type": "stream",
     "text": [
      "/Users/jessecoulter/Downloads/FIN377/CEOPersonalities-/matched_pictures/Moshe Gavrielov/2011\n"
     ]
    },
    {
     "name": "stderr",
     "output_type": "stream",
     "text": [
      "\n",
      "Finding actions:   0%|                                    | 0/4 [00:00<?, ?it/s]\u001b[A\n",
      "Action: age:   0%|                                        | 0/4 [00:00<?, ?it/s]\u001b[A\n",
      "Action: age:  25%|████████                        | 1/4 [00:00<00:00,  5.39it/s]\u001b[A\n",
      "Action: gender:  25%|███████▎                     | 1/4 [00:00<00:00,  5.39it/s]\u001b[A\n",
      "Action: gender:  50%|██████████████▌              | 2/4 [00:00<00:00,  5.40it/s]\u001b[A\n",
      "Action: race:  50%|███████████████▌               | 2/4 [00:00<00:00,  5.40it/s]\u001b[A\n",
      "Action: race:  75%|███████████████████████▎       | 3/4 [00:00<00:00,  5.40it/s]\u001b[A\n",
      "Action: emotion: 100%|████████████████████████████| 4/4 [00:00<00:00,  7.03it/s]\u001b[A\n",
      "\n",
      "Finding actions:   0%|                                    | 0/4 [00:00<?, ?it/s]\u001b[A\n",
      "Action: age:   0%|                                        | 0/4 [00:00<?, ?it/s]\u001b[A\n",
      "Action: age:  25%|████████                        | 1/4 [00:00<00:00,  5.43it/s]\u001b[A\n",
      "Action: gender:  25%|███████▎                     | 1/4 [00:00<00:00,  5.43it/s]\u001b[A\n",
      "Action: gender:  50%|██████████████▌              | 2/4 [00:00<00:00,  5.40it/s]\u001b[A\n",
      "Action: race:  50%|███████████████▌               | 2/4 [00:00<00:00,  5.40it/s]\u001b[A\n",
      "Action: race:  75%|███████████████████████▎       | 3/4 [00:00<00:00,  5.37it/s]\u001b[A\n",
      "Action: emotion: 100%|████████████████████████████| 4/4 [00:00<00:00,  7.00it/s]\u001b[A\n",
      "312it [03:25,  1.18it/s]"
     ]
    },
    {
     "name": "stdout",
     "output_type": "stream",
     "text": [
      "/Users/jessecoulter/Downloads/FIN377/CEOPersonalities-/matched_pictures/Moshe Gavrielov/2012\n"
     ]
    },
    {
     "name": "stderr",
     "output_type": "stream",
     "text": [
      "\n",
      "Finding actions:   0%|                                    | 0/4 [00:00<?, ?it/s]\u001b[A\n",
      "Action: age:   0%|                                        | 0/4 [00:00<?, ?it/s]\u001b[A\n",
      "Action: age:  25%|████████                        | 1/4 [00:00<00:00,  5.38it/s]\u001b[A\n",
      "Action: gender:  25%|███████▎                     | 1/4 [00:00<00:00,  5.38it/s]\u001b[A\n",
      "Action: gender:  50%|██████████████▌              | 2/4 [00:00<00:00,  5.35it/s]\u001b[A\n",
      "Action: race:  50%|███████████████▌               | 2/4 [00:00<00:00,  5.35it/s]\u001b[A\n",
      "Action: race:  75%|███████████████████████▎       | 3/4 [00:00<00:00,  5.36it/s]\u001b[A\n",
      "Action: emotion: 100%|████████████████████████████| 4/4 [00:00<00:00,  6.98it/s]\u001b[A\n",
      "\n",
      "Finding actions:   0%|                                    | 0/4 [00:00<?, ?it/s]\u001b[A\n",
      "Action: age:   0%|                                        | 0/4 [00:00<?, ?it/s]\u001b[A\n",
      "Action: age:  25%|████████                        | 1/4 [00:00<00:00,  5.34it/s]\u001b[A\n",
      "Action: gender:  25%|███████▎                     | 1/4 [00:00<00:00,  5.34it/s]\u001b[A\n",
      "Action: gender:  50%|██████████████▌              | 2/4 [00:00<00:00,  5.49it/s]\u001b[A\n",
      "Action: race:  50%|███████████████▌               | 2/4 [00:00<00:00,  5.49it/s]\u001b[A\n",
      "Action: race:  75%|███████████████████████▎       | 3/4 [00:00<00:00,  5.42it/s]\u001b[A\n",
      "Action: emotion: 100%|████████████████████████████| 4/4 [00:00<00:00,  7.05it/s]\u001b[A\n",
      "313it [03:26,  1.05it/s]"
     ]
    },
    {
     "name": "stdout",
     "output_type": "stream",
     "text": [
      "/Users/jessecoulter/Downloads/FIN377/CEOPersonalities-/matched_pictures/Moshe Gavrielov/2013\n"
     ]
    },
    {
     "name": "stderr",
     "output_type": "stream",
     "text": [
      "\n",
      "Finding actions:   0%|                                    | 0/4 [00:00<?, ?it/s]\u001b[A\n",
      "Action: age:   0%|                                        | 0/4 [00:00<?, ?it/s]\u001b[A\n",
      "Action: age:  25%|████████                        | 1/4 [00:00<00:00,  5.47it/s]\u001b[A\n",
      "Action: gender:  25%|███████▎                     | 1/4 [00:00<00:00,  5.47it/s]\u001b[A\n",
      "Action: gender:  50%|██████████████▌              | 2/4 [00:00<00:00,  5.12it/s]\u001b[A\n",
      "Action: race:  50%|███████████████▌               | 2/4 [00:00<00:00,  5.12it/s]\u001b[A\n",
      "Action: race:  75%|███████████████████████▎       | 3/4 [00:00<00:00,  5.21it/s]\u001b[A\n",
      "Action: emotion: 100%|████████████████████████████| 4/4 [00:00<00:00,  6.79it/s]\u001b[A\n",
      "314it [03:27,  1.17it/s]"
     ]
    },
    {
     "name": "stdout",
     "output_type": "stream",
     "text": [
      "/Users/jessecoulter/Downloads/FIN377/CEOPersonalities-/matched_pictures/Moshe Gavrielov/2014\n"
     ]
    },
    {
     "name": "stderr",
     "output_type": "stream",
     "text": [
      "\n",
      "Finding actions:   0%|                                    | 0/4 [00:00<?, ?it/s]\u001b[A\n",
      "Action: age:   0%|                                        | 0/4 [00:00<?, ?it/s]\u001b[A\n",
      "Action: age:  25%|████████                        | 1/4 [00:00<00:00,  5.47it/s]\u001b[A\n",
      "Action: gender:  25%|███████▎                     | 1/4 [00:00<00:00,  5.47it/s]\u001b[A\n",
      "Action: gender:  50%|██████████████▌              | 2/4 [00:00<00:00,  5.43it/s]\u001b[A\n",
      "Action: race:  50%|███████████████▌               | 2/4 [00:00<00:00,  5.43it/s]\u001b[A\n",
      "Action: race:  75%|███████████████████████▎       | 3/4 [00:00<00:00,  5.41it/s]\u001b[A\n",
      "Action: emotion: 100%|████████████████████████████| 4/4 [00:00<00:00,  7.04it/s]\u001b[A\n",
      "315it [03:28,  1.27it/s]"
     ]
    },
    {
     "name": "stdout",
     "output_type": "stream",
     "text": [
      "/Users/jessecoulter/Downloads/FIN377/CEOPersonalities-/matched_pictures/Moshe Gavrielov/2015\n",
      "Error analyzing /Users/jessecoulter/Downloads/FIN377/CEOPersonalities-/matched_pictures/Moshe Gavrielov/2015/pic3.jpg: Face could not be detected in /Users/jessecoulter/Downloads/FIN377/CEOPersonalities-/matched_pictures/Moshe Gavrielov/2015/pic3.jpg.Please confirm that the picture is a face photo or consider to set enforce_detection param to False.\n",
      "/Users/jessecoulter/Downloads/FIN377/CEOPersonalities-/matched_pictures/Moshe Gavrielov/2016\n"
     ]
    },
    {
     "name": "stderr",
     "output_type": "stream",
     "text": [
      "\n",
      "Finding actions:   0%|                                    | 0/4 [00:00<?, ?it/s]\u001b[A\n",
      "Action: age:   0%|                                        | 0/4 [00:00<?, ?it/s]\u001b[A\n",
      "Action: age:  25%|████████                        | 1/4 [00:00<00:00,  5.43it/s]\u001b[A\n",
      "Action: gender:  25%|███████▎                     | 1/4 [00:00<00:00,  5.43it/s]\u001b[A\n",
      "Action: gender:  50%|██████████████▌              | 2/4 [00:00<00:00,  5.38it/s]\u001b[A\n",
      "Action: race:  50%|███████████████▌               | 2/4 [00:00<00:00,  5.38it/s]\u001b[A\n",
      "Action: race:  75%|███████████████████████▎       | 3/4 [00:00<00:00,  5.37it/s]\u001b[A\n",
      "Action: emotion: 100%|████████████████████████████| 4/4 [00:00<00:00,  7.00it/s]\u001b[A\n",
      "317it [03:28,  1.77it/s]"
     ]
    },
    {
     "name": "stdout",
     "output_type": "stream",
     "text": [
      "/Users/jessecoulter/Downloads/FIN377/CEOPersonalities-/matched_pictures/Victor Peng/2017\n"
     ]
    },
    {
     "name": "stderr",
     "output_type": "stream",
     "text": [
      "\n",
      "Finding actions:   0%|                                    | 0/4 [00:00<?, ?it/s]\u001b[A\n",
      "Action: age:   0%|                                        | 0/4 [00:00<?, ?it/s]\u001b[A\n",
      "Action: age:  25%|████████                        | 1/4 [00:00<00:00,  5.30it/s]\u001b[A\n",
      "Action: gender:  25%|███████▎                     | 1/4 [00:00<00:00,  5.30it/s]\u001b[A\n",
      "Action: gender:  50%|██████████████▌              | 2/4 [00:00<00:00,  5.25it/s]\u001b[A\n",
      "Action: race:  50%|███████████████▌               | 2/4 [00:00<00:00,  5.25it/s]\u001b[A\n",
      "Action: race:  75%|███████████████████████▎       | 3/4 [00:00<00:00,  5.29it/s]\u001b[A\n",
      "Action: emotion: 100%|████████████████████████████| 4/4 [00:00<00:00,  6.89it/s]\u001b[A\n",
      "318it [03:29,  1.73it/s]"
     ]
    },
    {
     "name": "stdout",
     "output_type": "stream",
     "text": [
      "/Users/jessecoulter/Downloads/FIN377/CEOPersonalities-/matched_pictures/Victor Peng/2018\n"
     ]
    },
    {
     "name": "stderr",
     "output_type": "stream",
     "text": [
      "\n",
      "Finding actions:   0%|                                    | 0/4 [00:00<?, ?it/s]\u001b[A\n",
      "Action: age:   0%|                                        | 0/4 [00:00<?, ?it/s]\u001b[A\n",
      "Action: age:  25%|████████                        | 1/4 [00:00<00:00,  5.58it/s]\u001b[A\n",
      "Action: gender:  25%|███████▎                     | 1/4 [00:00<00:00,  5.58it/s]\u001b[A\n",
      "Action: gender:  50%|██████████████▌              | 2/4 [00:00<00:00,  5.38it/s]\u001b[A\n",
      "Action: race:  50%|███████████████▌               | 2/4 [00:00<00:00,  5.38it/s]\u001b[A\n",
      "Action: race:  75%|███████████████████████▎       | 3/4 [00:00<00:00,  5.42it/s]\u001b[A\n",
      "Action: emotion: 100%|████████████████████████████| 4/4 [00:00<00:00,  7.06it/s]\u001b[A\n",
      "319it [03:30,  1.63it/s]"
     ]
    },
    {
     "name": "stdout",
     "output_type": "stream",
     "text": [
      "/Users/jessecoulter/Downloads/FIN377/CEOPersonalities-/matched_pictures/Victor Peng/2019\n",
      "Error analyzing /Users/jessecoulter/Downloads/FIN377/CEOPersonalities-/matched_pictures/Victor Peng/2019/pic3.png: Face could not be detected in /Users/jessecoulter/Downloads/FIN377/CEOPersonalities-/matched_pictures/Victor Peng/2019/pic3.png.Please confirm that the picture is a face photo or consider to set enforce_detection param to False.\n",
      "/Users/jessecoulter/Downloads/FIN377/CEOPersonalities-/matched_pictures/Enrique Salem/2010\n",
      "Folder not found: /Users/jessecoulter/Downloads/FIN377/CEOPersonalities-/matched_pictures/Enrique Salem/2010\n",
      "/Users/jessecoulter/Downloads/FIN377/CEOPersonalities-/matched_pictures/Enrique Salem/2011\n"
     ]
    },
    {
     "name": "stderr",
     "output_type": "stream",
     "text": [
      "\n",
      "Finding actions:   0%|                                    | 0/4 [00:00<?, ?it/s]\u001b[A\n",
      "Action: age:   0%|                                        | 0/4 [00:00<?, ?it/s]\u001b[A\n",
      "Action: age:  25%|████████                        | 1/4 [00:00<00:00,  5.34it/s]\u001b[A\n",
      "Action: gender:  25%|███████▎                     | 1/4 [00:00<00:00,  5.34it/s]\u001b[A\n",
      "Action: gender:  50%|██████████████▌              | 2/4 [00:00<00:00,  5.31it/s]\u001b[A\n",
      "Action: race:  50%|███████████████▌               | 2/4 [00:00<00:00,  5.31it/s]\u001b[A\n",
      "Action: race:  75%|███████████████████████▎       | 3/4 [00:00<00:00,  5.33it/s]\u001b[A\n",
      "Action: emotion: 100%|████████████████████████████| 4/4 [00:00<00:00,  6.92it/s]\u001b[A\n",
      "322it [03:30,  2.47it/s]"
     ]
    },
    {
     "name": "stdout",
     "output_type": "stream",
     "text": [
      "/Users/jessecoulter/Downloads/FIN377/CEOPersonalities-/matched_pictures/Steve Bennett/2012\n"
     ]
    },
    {
     "name": "stderr",
     "output_type": "stream",
     "text": [
      "\n",
      "Finding actions:   0%|                                    | 0/4 [00:00<?, ?it/s]\u001b[A\n",
      "Action: age:   0%|                                        | 0/4 [00:00<?, ?it/s]\u001b[A\n",
      "Action: age:  25%|████████                        | 1/4 [00:00<00:00,  5.31it/s]\u001b[A\n",
      "Action: gender:  25%|███████▎                     | 1/4 [00:00<00:00,  5.31it/s]\u001b[A\n",
      "Action: gender:  50%|██████████████▌              | 2/4 [00:00<00:00,  5.33it/s]\u001b[A\n",
      "Action: race:  50%|███████████████▌               | 2/4 [00:00<00:00,  5.33it/s]\u001b[A\n",
      "Action: race:  75%|███████████████████████▎       | 3/4 [00:00<00:00,  5.38it/s]\u001b[A\n",
      "Action: emotion: 100%|████████████████████████████| 4/4 [00:00<00:00,  6.98it/s]\u001b[A\n",
      "323it [03:31,  2.25it/s]"
     ]
    },
    {
     "name": "stdout",
     "output_type": "stream",
     "text": [
      "/Users/jessecoulter/Downloads/FIN377/CEOPersonalities-/matched_pictures/Steve Bennett/2013\n"
     ]
    },
    {
     "name": "stderr",
     "output_type": "stream",
     "text": [
      "\n",
      "Finding actions:   0%|                                    | 0/4 [00:00<?, ?it/s]\u001b[A\n",
      "Action: age:   0%|                                        | 0/4 [00:00<?, ?it/s]\u001b[A\n",
      "Action: age:  25%|████████                        | 1/4 [00:00<00:00,  5.17it/s]\u001b[A\n",
      "Action: gender:  25%|███████▎                     | 1/4 [00:00<00:00,  5.17it/s]\u001b[A\n",
      "Action: gender:  50%|██████████████▌              | 2/4 [00:00<00:00,  5.26it/s]\u001b[A\n",
      "Action: race:  50%|███████████████▌               | 2/4 [00:00<00:00,  5.26it/s]\u001b[A\n",
      "Action: race:  75%|███████████████████████▎       | 3/4 [00:00<00:00,  5.34it/s]\u001b[A\n",
      "Action: emotion: 100%|████████████████████████████| 4/4 [00:00<00:00,  6.92it/s]\u001b[A\n",
      "324it [03:31,  2.08it/s]"
     ]
    },
    {
     "name": "stdout",
     "output_type": "stream",
     "text": [
      "/Users/jessecoulter/Downloads/FIN377/CEOPersonalities-/matched_pictures/Michael A. Brown/2014\n"
     ]
    },
    {
     "name": "stderr",
     "output_type": "stream",
     "text": [
      "\n",
      "Finding actions:   0%|                                    | 0/4 [00:00<?, ?it/s]\u001b[A\n",
      "Action: age:   0%|                                        | 0/4 [00:00<?, ?it/s]\u001b[A\n",
      "Action: age:  25%|████████                        | 1/4 [00:00<00:00,  5.38it/s]\u001b[A\n",
      "Action: gender:  25%|███████▎                     | 1/4 [00:00<00:00,  5.38it/s]\u001b[A\n",
      "Action: gender:  50%|██████████████▌              | 2/4 [00:00<00:00,  5.42it/s]\u001b[A\n",
      "Action: race:  50%|███████████████▌               | 2/4 [00:00<00:00,  5.42it/s]\u001b[A\n",
      "Action: race:  75%|███████████████████████▎       | 3/4 [00:00<00:00,  5.34it/s]\u001b[A\n",
      "Action: emotion: 100%|████████████████████████████| 4/4 [00:00<00:00,  6.96it/s]\u001b[A\n",
      "325it [03:32,  1.95it/s]"
     ]
    },
    {
     "name": "stdout",
     "output_type": "stream",
     "text": [
      "/Users/jessecoulter/Downloads/FIN377/CEOPersonalities-/matched_pictures/Michael A. Brown/2015\n"
     ]
    },
    {
     "name": "stderr",
     "output_type": "stream",
     "text": [
      "\n",
      "Finding actions:   0%|                                    | 0/4 [00:00<?, ?it/s]\u001b[A\n",
      "Action: age:   0%|                                        | 0/4 [00:00<?, ?it/s]\u001b[A\n",
      "Action: age:  25%|████████                        | 1/4 [00:00<00:00,  5.36it/s]\u001b[A\n",
      "Action: gender:  25%|███████▎                     | 1/4 [00:00<00:00,  5.36it/s]\u001b[A\n",
      "Action: gender:  50%|██████████████▌              | 2/4 [00:00<00:00,  5.37it/s]\u001b[A\n",
      "Action: race:  50%|███████████████▌               | 2/4 [00:00<00:00,  5.37it/s]\u001b[A\n",
      "Action: race:  75%|███████████████████████▎       | 3/4 [00:00<00:00,  5.37it/s]\u001b[A\n",
      "Action: emotion: 100%|████████████████████████████| 4/4 [00:00<00:00,  6.98it/s]\u001b[A\n",
      "326it [03:33,  1.86it/s]"
     ]
    },
    {
     "name": "stdout",
     "output_type": "stream",
     "text": [
      "/Users/jessecoulter/Downloads/FIN377/CEOPersonalities-/matched_pictures/Greg Clark/2016\n"
     ]
    },
    {
     "name": "stderr",
     "output_type": "stream",
     "text": [
      "\n",
      "Finding actions:   0%|                                    | 0/4 [00:00<?, ?it/s]\u001b[A\n",
      "Action: age:   0%|                                        | 0/4 [00:00<?, ?it/s]\u001b[A\n",
      "Action: age:  25%|████████                        | 1/4 [00:00<00:00,  5.51it/s]\u001b[A\n",
      "Action: gender:  25%|███████▎                     | 1/4 [00:00<00:00,  5.51it/s]\u001b[A\n",
      "Action: gender:  50%|██████████████▌              | 2/4 [00:00<00:00,  5.42it/s]\u001b[A\n",
      "Action: race:  50%|███████████████▌               | 2/4 [00:00<00:00,  5.42it/s]\u001b[A\n",
      "Action: race:  75%|███████████████████████▎       | 3/4 [00:00<00:00,  5.39it/s]\u001b[A\n",
      "Action: emotion: 100%|████████████████████████████| 4/4 [00:00<00:00,  7.02it/s]\u001b[A\n",
      "327it [03:33,  1.78it/s]"
     ]
    },
    {
     "name": "stdout",
     "output_type": "stream",
     "text": [
      "/Users/jessecoulter/Downloads/FIN377/CEOPersonalities-/matched_pictures/Greg Clark/2017\n"
     ]
    },
    {
     "name": "stderr",
     "output_type": "stream",
     "text": [
      "\n",
      "Finding actions:   0%|                                    | 0/4 [00:00<?, ?it/s]\u001b[A\n",
      "Action: age:   0%|                                        | 0/4 [00:00<?, ?it/s]\u001b[A\n",
      "Action: age:  25%|████████                        | 1/4 [00:00<00:00,  5.29it/s]\u001b[A\n",
      "Action: gender:  25%|███████▎                     | 1/4 [00:00<00:00,  5.29it/s]\u001b[A\n",
      "Action: gender:  50%|██████████████▌              | 2/4 [00:00<00:00,  5.29it/s]\u001b[A\n",
      "Action: race:  50%|███████████████▌               | 2/4 [00:00<00:00,  5.29it/s]\u001b[A\n",
      "Action: race:  75%|███████████████████████▎       | 3/4 [00:00<00:00,  5.34it/s]\u001b[A\n",
      "Action: emotion: 100%|████████████████████████████| 4/4 [00:00<00:00,  6.93it/s]\u001b[A\n",
      "328it [03:34,  1.73it/s]"
     ]
    },
    {
     "name": "stdout",
     "output_type": "stream",
     "text": [
      "/Users/jessecoulter/Downloads/FIN377/CEOPersonalities-/matched_pictures/Greg Clark/2018\n"
     ]
    },
    {
     "name": "stderr",
     "output_type": "stream",
     "text": [
      "\n",
      "Finding actions:   0%|                                    | 0/4 [00:00<?, ?it/s]\u001b[A\n",
      "Action: age:   0%|                                        | 0/4 [00:00<?, ?it/s]\u001b[A\n",
      "Action: age:  25%|████████                        | 1/4 [00:00<00:00,  5.41it/s]\u001b[A\n",
      "Action: gender:  25%|███████▎                     | 1/4 [00:00<00:00,  5.41it/s]\u001b[A\n",
      "Action: gender:  50%|██████████████▌              | 2/4 [00:00<00:00,  5.36it/s]\u001b[A\n",
      "Action: race:  50%|███████████████▌               | 2/4 [00:00<00:00,  5.36it/s]\u001b[A\n",
      "Action: race:  75%|███████████████████████▎       | 3/4 [00:00<00:00,  5.39it/s]\u001b[A\n",
      "Action: emotion: 100%|████████████████████████████| 4/4 [00:00<00:00,  7.01it/s]\u001b[A\n",
      "329it [03:35,  1.57it/s]"
     ]
    },
    {
     "name": "stdout",
     "output_type": "stream",
     "text": [
      "/Users/jessecoulter/Downloads/FIN377/CEOPersonalities-/matched_pictures/Richard Hill (interim)/2019\n"
     ]
    },
    {
     "name": "stderr",
     "output_type": "stream",
     "text": [
      "\n",
      "Finding actions:   0%|                                    | 0/4 [00:00<?, ?it/s]\u001b[A\n",
      "Action: age:   0%|                                        | 0/4 [00:00<?, ?it/s]\u001b[A\n",
      "Action: age:  25%|████████                        | 1/4 [00:00<00:00,  5.33it/s]\u001b[A\n",
      "Action: gender:  25%|███████▎                     | 1/4 [00:00<00:00,  5.33it/s]\u001b[A\n",
      "Action: gender:  50%|██████████████▌              | 2/4 [00:00<00:00,  5.45it/s]\u001b[A\n",
      "Action: race:  50%|███████████████▌               | 2/4 [00:00<00:00,  5.45it/s]\u001b[A\n",
      "Action: race:  75%|███████████████████████▎       | 3/4 [00:00<00:00,  5.43it/s]\u001b[A\n",
      "Action: emotion: 100%|████████████████████████████| 4/4 [00:00<00:00,  7.06it/s]\u001b[A\n",
      "330it [03:35,  1.59it/s]"
     ]
    },
    {
     "name": "stdout",
     "output_type": "stream",
     "text": [
      "/Users/jessecoulter/Downloads/FIN377/CEOPersonalities-/matched_pictures/Paul Sagan/2010\n"
     ]
    },
    {
     "name": "stderr",
     "output_type": "stream",
     "text": [
      "\n",
      "Finding actions:   0%|                                    | 0/4 [00:00<?, ?it/s]\u001b[A\n",
      "Action: age:   0%|                                        | 0/4 [00:00<?, ?it/s]\u001b[A\n",
      "Action: age:  25%|████████                        | 1/4 [00:00<00:00,  5.43it/s]\u001b[A\n",
      "Action: gender:  25%|███████▎                     | 1/4 [00:00<00:00,  5.43it/s]\u001b[A\n",
      "Action: gender:  50%|██████████████▌              | 2/4 [00:00<00:00,  5.50it/s]\u001b[A\n",
      "Action: race:  50%|███████████████▌               | 2/4 [00:00<00:00,  5.50it/s]\u001b[A\n",
      "Action: race:  75%|███████████████████████▎       | 3/4 [00:00<00:00,  5.43it/s]\u001b[A\n",
      "Action: emotion: 100%|████████████████████████████| 4/4 [00:00<00:00,  7.06it/s]\u001b[A\n",
      "\n",
      "Finding actions:   0%|                                    | 0/4 [00:00<?, ?it/s]\u001b[A\n",
      "Action: age:   0%|                                        | 0/4 [00:00<?, ?it/s]\u001b[A\n",
      "Action: age:  25%|████████                        | 1/4 [00:00<00:00,  5.57it/s]\u001b[A\n",
      "Action: gender:  25%|███████▎                     | 1/4 [00:00<00:00,  5.57it/s]\u001b[A\n",
      "Action: gender:  50%|██████████████▌              | 2/4 [00:00<00:00,  5.44it/s]\u001b[A\n",
      "Action: race:  50%|███████████████▌               | 2/4 [00:00<00:00,  5.44it/s]\u001b[A\n",
      "Action: race:  75%|███████████████████████▎       | 3/4 [00:00<00:00,  5.47it/s]\u001b[A\n",
      "Action: emotion: 100%|████████████████████████████| 4/4 [00:00<00:00,  7.12it/s]\u001b[A\n",
      "\n",
      "Finding actions:   0%|                                    | 0/4 [00:00<?, ?it/s]\u001b[A\n",
      "Action: age:   0%|                                        | 0/4 [00:00<?, ?it/s]\u001b[A\n",
      "Action: age:  25%|████████                        | 1/4 [00:00<00:00,  5.33it/s]\u001b[A\n",
      "Action: gender:  25%|███████▎                     | 1/4 [00:00<00:00,  5.33it/s]\u001b[A\n",
      "Action: gender:  50%|██████████████▌              | 2/4 [00:00<00:00,  5.04it/s]\u001b[A\n",
      "Action: race:  50%|███████████████▌               | 2/4 [00:00<00:00,  5.04it/s]\u001b[A\n",
      "Action: race:  75%|███████████████████████▎       | 3/4 [00:00<00:00,  5.24it/s]\u001b[A\n",
      "Action: emotion: 100%|████████████████████████████| 4/4 [00:00<00:00,  6.78it/s]\u001b[A\n",
      "\n",
      "Finding actions:   0%|                                    | 0/4 [00:00<?, ?it/s]\u001b[A\n",
      "Action: age:   0%|                                        | 0/4 [00:00<?, ?it/s]\u001b[A\n",
      "Action: age:  25%|████████                        | 1/4 [00:00<00:00,  5.27it/s]\u001b[A\n",
      "Action: gender:  25%|███████▎                     | 1/4 [00:00<00:00,  5.27it/s]\u001b[A\n",
      "Action: gender:  50%|██████████████▌              | 2/4 [00:00<00:00,  5.43it/s]\u001b[A\n",
      "Action: race:  50%|███████████████▌               | 2/4 [00:00<00:00,  5.43it/s]\u001b[A\n",
      "Action: race:  75%|███████████████████████▎       | 3/4 [00:00<00:00,  5.22it/s]\u001b[A\n",
      "Action: emotion: 100%|████████████████████████████| 4/4 [00:00<00:00,  6.85it/s]\u001b[A\n",
      "\n",
      "Finding actions:   0%|                                    | 0/4 [00:00<?, ?it/s]\u001b[A\n",
      "Action: age:   0%|                                        | 0/4 [00:00<?, ?it/s]\u001b[A\n",
      "Action: age:  25%|████████                        | 1/4 [00:00<00:00,  5.26it/s]\u001b[A\n",
      "Action: gender:  25%|███████▎                     | 1/4 [00:00<00:00,  5.26it/s]\u001b[A\n",
      "Action: gender:  50%|██████████████▌              | 2/4 [00:00<00:00,  5.36it/s]\u001b[A\n",
      "Action: race:  50%|███████████████▌               | 2/4 [00:00<00:00,  5.36it/s]\u001b[A\n",
      "Action: race:  75%|███████████████████████▎       | 3/4 [00:00<00:00,  5.37it/s]\u001b[A\n",
      "Action: emotion: 100%|████████████████████████████| 4/4 [00:00<00:00,  6.97it/s]\u001b[A\n",
      "331it [03:38,  1.32s/it]"
     ]
    },
    {
     "name": "stdout",
     "output_type": "stream",
     "text": [
      "/Users/jessecoulter/Downloads/FIN377/CEOPersonalities-/matched_pictures/Paul Sagan/2011\n",
      "Error analyzing /Users/jessecoulter/Downloads/FIN377/CEOPersonalities-/matched_pictures/Paul Sagan/2011/pic1.jpg: Face could not be detected in /Users/jessecoulter/Downloads/FIN377/CEOPersonalities-/matched_pictures/Paul Sagan/2011/pic1.jpg.Please confirm that the picture is a face photo or consider to set enforce_detection param to False.\n",
      "/Users/jessecoulter/Downloads/FIN377/CEOPersonalities-/matched_pictures/Paul Sagan/2012\n"
     ]
    },
    {
     "name": "stderr",
     "output_type": "stream",
     "text": [
      "\n",
      "Finding actions:   0%|                                    | 0/4 [00:00<?, ?it/s]\u001b[A\n",
      "Action: age:   0%|                                        | 0/4 [00:00<?, ?it/s]\u001b[A\n",
      "Action: age:  25%|████████                        | 1/4 [00:00<00:00,  5.71it/s]\u001b[A\n",
      "Action: gender:  25%|███████▎                     | 1/4 [00:00<00:00,  5.71it/s]\u001b[A\n",
      "Action: gender:  50%|██████████████▌              | 2/4 [00:00<00:00,  5.42it/s]\u001b[A\n",
      "Action: race:  50%|███████████████▌               | 2/4 [00:00<00:00,  5.42it/s]\u001b[A\n",
      "Action: race:  75%|███████████████████████▎       | 3/4 [00:00<00:00,  5.45it/s]\u001b[A\n",
      "Action: emotion: 100%|████████████████████████████| 4/4 [00:00<00:00,  7.11it/s]\u001b[A\n",
      "333it [03:39,  1.10it/s]"
     ]
    },
    {
     "name": "stdout",
     "output_type": "stream",
     "text": [
      "/Users/jessecoulter/Downloads/FIN377/CEOPersonalities-/matched_pictures/Tom Leighton/2013\n"
     ]
    },
    {
     "name": "stderr",
     "output_type": "stream",
     "text": [
      "\n",
      "Finding actions:   0%|                                    | 0/4 [00:00<?, ?it/s]\u001b[A\n",
      "Action: age:   0%|                                        | 0/4 [00:00<?, ?it/s]\u001b[A\n",
      "Action: age:  25%|████████                        | 1/4 [00:00<00:00,  5.35it/s]\u001b[A\n",
      "Action: gender:  25%|███████▎                     | 1/4 [00:00<00:00,  5.35it/s]\u001b[A\n",
      "Action: gender:  50%|██████████████▌              | 2/4 [00:00<00:00,  5.34it/s]\u001b[A\n",
      "Action: race:  50%|███████████████▌               | 2/4 [00:00<00:00,  5.34it/s]\u001b[A\n",
      "Action: race:  75%|███████████████████████▎       | 3/4 [00:00<00:00,  5.38it/s]\u001b[A\n",
      "Action: emotion: 100%|████████████████████████████| 4/4 [00:00<00:00,  6.98it/s]\u001b[A\n",
      "334it [03:40,  1.20it/s]"
     ]
    },
    {
     "name": "stdout",
     "output_type": "stream",
     "text": [
      "/Users/jessecoulter/Downloads/FIN377/CEOPersonalities-/matched_pictures/Tom Leighton/2014\n"
     ]
    },
    {
     "name": "stderr",
     "output_type": "stream",
     "text": [
      "\n",
      "Finding actions:   0%|                                    | 0/4 [00:00<?, ?it/s]\u001b[A\n",
      "Action: age:   0%|                                        | 0/4 [00:00<?, ?it/s]\u001b[A\n",
      "Action: age:  25%|████████                        | 1/4 [00:00<00:00,  5.54it/s]\u001b[A\n",
      "Action: gender:  25%|███████▎                     | 1/4 [00:00<00:00,  5.54it/s]\u001b[A\n",
      "Action: gender:  50%|██████████████▌              | 2/4 [00:00<00:00,  5.42it/s]\u001b[A\n",
      "Action: race:  50%|███████████████▌               | 2/4 [00:00<00:00,  5.42it/s]\u001b[A\n",
      "Action: race:  75%|███████████████████████▎       | 3/4 [00:00<00:00,  5.42it/s]\u001b[A\n",
      "Action: emotion: 100%|████████████████████████████| 4/4 [00:00<00:00,  7.06it/s]\u001b[A\n",
      "335it [03:40,  1.27it/s]"
     ]
    },
    {
     "name": "stdout",
     "output_type": "stream",
     "text": [
      "/Users/jessecoulter/Downloads/FIN377/CEOPersonalities-/matched_pictures/Tom Leighton/2015\n"
     ]
    },
    {
     "name": "stderr",
     "output_type": "stream",
     "text": [
      "\n",
      "Finding actions:   0%|                                    | 0/4 [00:00<?, ?it/s]\u001b[A\n",
      "Action: age:   0%|                                        | 0/4 [00:00<?, ?it/s]\u001b[A\n",
      "Action: age:  25%|████████                        | 1/4 [00:00<00:00,  5.46it/s]\u001b[A\n",
      "Action: gender:  25%|███████▎                     | 1/4 [00:00<00:00,  5.46it/s]\u001b[A\n",
      "Action: gender:  50%|██████████████▌              | 2/4 [00:00<00:00,  5.39it/s]\u001b[A\n",
      "Action: race:  50%|███████████████▌               | 2/4 [00:00<00:00,  5.39it/s]\u001b[A\n",
      "Action: race:  75%|███████████████████████▎       | 3/4 [00:00<00:00,  5.34it/s]\u001b[A\n",
      "Action: emotion: 100%|████████████████████████████| 4/4 [00:00<00:00,  6.97it/s]\u001b[A\n",
      "336it [03:41,  1.36it/s]"
     ]
    },
    {
     "name": "stdout",
     "output_type": "stream",
     "text": [
      "/Users/jessecoulter/Downloads/FIN377/CEOPersonalities-/matched_pictures/Tom Leighton/2016\n"
     ]
    },
    {
     "name": "stderr",
     "output_type": "stream",
     "text": [
      "\n",
      "Finding actions:   0%|                                    | 0/4 [00:00<?, ?it/s]\u001b[A\n",
      "Action: age:   0%|                                        | 0/4 [00:00<?, ?it/s]\u001b[A\n",
      "Action: age:  25%|████████                        | 1/4 [00:00<00:00,  5.84it/s]\u001b[A\n",
      "Action: gender:  25%|███████▎                     | 1/4 [00:00<00:00,  5.84it/s]\u001b[A\n",
      "Action: gender:  50%|██████████████▌              | 2/4 [00:00<00:00,  5.57it/s]\u001b[A\n",
      "Action: race:  50%|███████████████▌               | 2/4 [00:00<00:00,  5.57it/s]\u001b[A\n",
      "Action: race:  75%|███████████████████████▎       | 3/4 [00:00<00:00,  5.44it/s]\u001b[A\n",
      "Action: emotion: 100%|████████████████████████████| 4/4 [00:00<00:00,  7.15it/s]\u001b[A\n",
      "337it [03:42,  1.22it/s]"
     ]
    },
    {
     "name": "stdout",
     "output_type": "stream",
     "text": [
      "/Users/jessecoulter/Downloads/FIN377/CEOPersonalities-/matched_pictures/Tom Leighton/2017\n"
     ]
    },
    {
     "name": "stderr",
     "output_type": "stream",
     "text": [
      "\n",
      "Finding actions:   0%|                                    | 0/4 [00:00<?, ?it/s]\u001b[A\n",
      "Action: age:   0%|                                        | 0/4 [00:00<?, ?it/s]\u001b[A\n",
      "Action: age:  25%|████████                        | 1/4 [00:00<00:00,  5.59it/s]\u001b[A\n",
      "Action: gender:  25%|███████▎                     | 1/4 [00:00<00:00,  5.59it/s]\u001b[A\n",
      "Action: gender:  50%|██████████████▌              | 2/4 [00:00<00:00,  5.45it/s]\u001b[A\n",
      "Action: race:  50%|███████████████▌               | 2/4 [00:00<00:00,  5.45it/s]\u001b[A\n",
      "Action: race:  75%|███████████████████████▎       | 3/4 [00:00<00:00,  5.41it/s]\u001b[A\n",
      "Action: emotion: 100%|████████████████████████████| 4/4 [00:00<00:00,  7.06it/s]\u001b[A\n",
      "338it [03:43,  1.20it/s]"
     ]
    },
    {
     "name": "stdout",
     "output_type": "stream",
     "text": [
      "/Users/jessecoulter/Downloads/FIN377/CEOPersonalities-/matched_pictures/Tom Leighton/2018\n",
      "Error analyzing /Users/jessecoulter/Downloads/FIN377/CEOPersonalities-/matched_pictures/Tom Leighton/2018/pic3.jpg: Face could not be detected in /Users/jessecoulter/Downloads/FIN377/CEOPersonalities-/matched_pictures/Tom Leighton/2018/pic3.jpg.Please confirm that the picture is a face photo or consider to set enforce_detection param to False.\n",
      "/Users/jessecoulter/Downloads/FIN377/CEOPersonalities-/matched_pictures/Tom Leighton/2019\n"
     ]
    },
    {
     "name": "stderr",
     "output_type": "stream",
     "text": [
      "\n",
      "Finding actions:   0%|                                    | 0/4 [00:00<?, ?it/s]\u001b[A\n",
      "Action: age:   0%|                                        | 0/4 [00:00<?, ?it/s]\u001b[A\n",
      "Action: age:  25%|████████                        | 1/4 [00:00<00:00,  5.60it/s]\u001b[A\n",
      "Action: gender:  25%|███████▎                     | 1/4 [00:00<00:00,  5.60it/s]\u001b[A\n",
      "Action: gender:  50%|██████████████▌              | 2/4 [00:00<00:00,  5.50it/s]\u001b[A\n",
      "Action: race:  50%|███████████████▌               | 2/4 [00:00<00:00,  5.50it/s]\u001b[A\n",
      "Action: race:  75%|███████████████████████▎       | 3/4 [00:00<00:00,  5.35it/s]\u001b[A\n",
      "Action: emotion: 100%|████████████████████████████| 4/4 [00:00<00:00,  7.01it/s]\u001b[A\n",
      "340it [03:44,  1.47it/s]"
     ]
    },
    {
     "name": "stdout",
     "output_type": "stream",
     "text": [
      "/Users/jessecoulter/Downloads/FIN377/CEOPersonalities-/matched_pictures/Jim Bidzos/2010\n"
     ]
    },
    {
     "name": "stderr",
     "output_type": "stream",
     "text": [
      "\n",
      "Finding actions:   0%|                                    | 0/4 [00:00<?, ?it/s]\u001b[A\n",
      "Action: age:   0%|                                        | 0/4 [00:00<?, ?it/s]\u001b[A\n",
      "Action: age:  25%|████████                        | 1/4 [00:00<00:00,  5.28it/s]\u001b[A\n",
      "Action: gender:  25%|███████▎                     | 1/4 [00:00<00:00,  5.28it/s]\u001b[A\n",
      "Action: gender:  50%|██████████████▌              | 2/4 [00:00<00:00,  5.36it/s]\u001b[A\n",
      "Action: race:  50%|███████████████▌               | 2/4 [00:00<00:00,  5.36it/s]\u001b[A\n",
      "Action: race:  75%|███████████████████████▎       | 3/4 [00:00<00:00,  5.34it/s]\u001b[A\n",
      "Action: emotion: 100%|████████████████████████████| 4/4 [00:00<00:00,  6.94it/s]\u001b[A\n",
      "341it [03:44,  1.51it/s]"
     ]
    },
    {
     "name": "stdout",
     "output_type": "stream",
     "text": [
      "/Users/jessecoulter/Downloads/FIN377/CEOPersonalities-/matched_pictures/Jim Bidzos/2011\n"
     ]
    },
    {
     "name": "stderr",
     "output_type": "stream",
     "text": [
      "\n",
      "Finding actions:   0%|                                    | 0/4 [00:00<?, ?it/s]\u001b[A\n",
      "Action: age:   0%|                                        | 0/4 [00:00<?, ?it/s]\u001b[A\n",
      "Action: age:  25%|████████                        | 1/4 [00:00<00:00,  5.44it/s]\u001b[A\n",
      "Action: gender:  25%|███████▎                     | 1/4 [00:00<00:00,  5.44it/s]\u001b[A\n",
      "Action: gender:  50%|██████████████▌              | 2/4 [00:00<00:00,  5.41it/s]\u001b[A\n",
      "Action: race:  50%|███████████████▌               | 2/4 [00:00<00:00,  5.41it/s]\u001b[A\n",
      "Action: race:  75%|███████████████████████▎       | 3/4 [00:00<00:00,  5.36it/s]\u001b[A\n",
      "Action: emotion: 100%|████████████████████████████| 4/4 [00:00<00:00,  6.99it/s]\u001b[A\n",
      "342it [03:45,  1.53it/s]"
     ]
    },
    {
     "name": "stdout",
     "output_type": "stream",
     "text": [
      "/Users/jessecoulter/Downloads/FIN377/CEOPersonalities-/matched_pictures/Jim Bidzos/2012\n"
     ]
    },
    {
     "name": "stderr",
     "output_type": "stream",
     "text": [
      "\n",
      "Finding actions:   0%|                                    | 0/4 [00:00<?, ?it/s]\u001b[A\n",
      "Action: age:   0%|                                        | 0/4 [00:00<?, ?it/s]\u001b[A\n",
      "Action: age:  25%|████████                        | 1/4 [00:00<00:00,  5.30it/s]\u001b[A\n",
      "Action: gender:  25%|███████▎                     | 1/4 [00:00<00:00,  5.30it/s]\u001b[A\n",
      "Action: gender:  50%|██████████████▌              | 2/4 [00:00<00:00,  5.35it/s]\u001b[A\n",
      "Action: race:  50%|███████████████▌               | 2/4 [00:00<00:00,  5.35it/s]\u001b[A\n",
      "Action: race:  75%|███████████████████████▎       | 3/4 [00:00<00:00,  5.41it/s]\u001b[A\n",
      "Action: emotion: 100%|████████████████████████████| 4/4 [00:00<00:00,  7.02it/s]\u001b[A\n",
      "343it [03:46,  1.56it/s]"
     ]
    },
    {
     "name": "stdout",
     "output_type": "stream",
     "text": [
      "/Users/jessecoulter/Downloads/FIN377/CEOPersonalities-/matched_pictures/Jim Bidzos/2013\n"
     ]
    },
    {
     "name": "stderr",
     "output_type": "stream",
     "text": [
      "\n",
      "Finding actions:   0%|                                    | 0/4 [00:00<?, ?it/s]\u001b[A\n",
      "Action: age:   0%|                                        | 0/4 [00:00<?, ?it/s]\u001b[A\n",
      "Action: age:  25%|████████                        | 1/4 [00:00<00:00,  5.23it/s]\u001b[A\n",
      "Action: gender:  25%|███████▎                     | 1/4 [00:00<00:00,  5.23it/s]\u001b[A\n",
      "Action: gender:  50%|██████████████▌              | 2/4 [00:00<00:00,  5.31it/s]\u001b[A\n",
      "Action: race:  50%|███████████████▌               | 2/4 [00:00<00:00,  5.31it/s]\u001b[A\n",
      "Action: race:  75%|███████████████████████▎       | 3/4 [00:00<00:00,  5.42it/s]\u001b[A\n",
      "Action: emotion: 100%|████████████████████████████| 4/4 [00:00<00:00,  7.01it/s]\u001b[A\n",
      "344it [03:46,  1.59it/s]"
     ]
    },
    {
     "name": "stdout",
     "output_type": "stream",
     "text": [
      "/Users/jessecoulter/Downloads/FIN377/CEOPersonalities-/matched_pictures/Jim Bidzos/2014\n"
     ]
    },
    {
     "name": "stderr",
     "output_type": "stream",
     "text": [
      "\n",
      "Finding actions:   0%|                                    | 0/4 [00:00<?, ?it/s]\u001b[A\n",
      "Action: age:   0%|                                        | 0/4 [00:00<?, ?it/s]\u001b[A\n",
      "Action: age:  25%|████████                        | 1/4 [00:00<00:00,  5.37it/s]\u001b[A\n",
      "Action: gender:  25%|███████▎                     | 1/4 [00:00<00:00,  5.37it/s]\u001b[A\n",
      "Action: gender:  50%|██████████████▌              | 2/4 [00:00<00:00,  5.39it/s]\u001b[A\n",
      "Action: race:  50%|███████████████▌               | 2/4 [00:00<00:00,  5.39it/s]\u001b[A\n",
      "Action: race:  75%|███████████████████████▎       | 3/4 [00:00<00:00,  5.35it/s]\u001b[A\n",
      "Action: emotion: 100%|████████████████████████████| 4/4 [00:00<00:00,  6.97it/s]\u001b[A\n",
      "345it [03:47,  1.61it/s]"
     ]
    },
    {
     "name": "stdout",
     "output_type": "stream",
     "text": [
      "/Users/jessecoulter/Downloads/FIN377/CEOPersonalities-/matched_pictures/Jim Bidzos/2015\n"
     ]
    },
    {
     "name": "stderr",
     "output_type": "stream",
     "text": [
      "\n",
      "Finding actions:   0%|                                    | 0/4 [00:00<?, ?it/s]\u001b[A\n",
      "Action: age:   0%|                                        | 0/4 [00:00<?, ?it/s]\u001b[A\n",
      "Action: age:  25%|████████                        | 1/4 [00:00<00:00,  5.12it/s]\u001b[A\n",
      "Action: gender:  25%|███████▎                     | 1/4 [00:00<00:00,  5.12it/s]\u001b[A\n",
      "Action: gender:  50%|██████████████▌              | 2/4 [00:00<00:00,  5.28it/s]\u001b[A\n",
      "Action: race:  50%|███████████████▌               | 2/4 [00:00<00:00,  5.28it/s]\u001b[A\n",
      "Action: race:  75%|███████████████████████▎       | 3/4 [00:00<00:00,  5.31it/s]\u001b[A\n",
      "Action: emotion: 100%|████████████████████████████| 4/4 [00:00<00:00,  6.88it/s]\u001b[A\n",
      "346it [03:48,  1.60it/s]"
     ]
    },
    {
     "name": "stdout",
     "output_type": "stream",
     "text": [
      "/Users/jessecoulter/Downloads/FIN377/CEOPersonalities-/matched_pictures/Jim Bidzos/2016\n"
     ]
    },
    {
     "name": "stderr",
     "output_type": "stream",
     "text": [
      "\n",
      "Finding actions:   0%|                                    | 0/4 [00:00<?, ?it/s]\u001b[A\n",
      "Action: age:   0%|                                        | 0/4 [00:00<?, ?it/s]\u001b[A\n",
      "Action: age:  25%|████████                        | 1/4 [00:00<00:00,  5.25it/s]\u001b[A\n",
      "Action: gender:  25%|███████▎                     | 1/4 [00:00<00:00,  5.25it/s]\u001b[A\n",
      "Action: gender:  50%|██████████████▌              | 2/4 [00:00<00:00,  5.26it/s]\u001b[A\n",
      "Action: race:  50%|███████████████▌               | 2/4 [00:00<00:00,  5.26it/s]\u001b[A\n",
      "Action: race:  75%|███████████████████████▎       | 3/4 [00:00<00:00,  5.31it/s]\u001b[A\n",
      "Action: emotion: 100%|████████████████████████████| 4/4 [00:00<00:00,  6.89it/s]\u001b[A\n",
      "347it [03:48,  1.60it/s]"
     ]
    },
    {
     "name": "stdout",
     "output_type": "stream",
     "text": [
      "/Users/jessecoulter/Downloads/FIN377/CEOPersonalities-/matched_pictures/Jim Bidzos/2017\n"
     ]
    },
    {
     "name": "stderr",
     "output_type": "stream",
     "text": [
      "\n",
      "Finding actions:   0%|                                    | 0/4 [00:00<?, ?it/s]\u001b[A\n",
      "Action: age:   0%|                                        | 0/4 [00:00<?, ?it/s]\u001b[A\n",
      "Action: age:  25%|████████                        | 1/4 [00:00<00:00,  5.50it/s]\u001b[A\n",
      "Action: gender:  25%|███████▎                     | 1/4 [00:00<00:00,  5.50it/s]\u001b[A\n",
      "Action: gender:  50%|██████████████▌              | 2/4 [00:00<00:00,  5.43it/s]\u001b[A\n",
      "Action: race:  50%|███████████████▌               | 2/4 [00:00<00:00,  5.43it/s]\u001b[A\n",
      "Action: race:  75%|███████████████████████▎       | 3/4 [00:00<00:00,  5.41it/s]\u001b[A\n",
      "Action: emotion: 100%|████████████████████████████| 4/4 [00:00<00:00,  7.05it/s]\u001b[A\n",
      "348it [03:49,  1.61it/s]"
     ]
    },
    {
     "name": "stdout",
     "output_type": "stream",
     "text": [
      "/Users/jessecoulter/Downloads/FIN377/CEOPersonalities-/matched_pictures/Jim Bidzos/2018\n"
     ]
    },
    {
     "name": "stderr",
     "output_type": "stream",
     "text": [
      "\n",
      "Finding actions:   0%|                                    | 0/4 [00:00<?, ?it/s]\u001b[A\n",
      "Action: age:   0%|                                        | 0/4 [00:00<?, ?it/s]\u001b[A\n",
      "Action: age:  25%|████████                        | 1/4 [00:00<00:00,  5.39it/s]\u001b[A\n",
      "Action: gender:  25%|███████▎                     | 1/4 [00:00<00:00,  5.39it/s]\u001b[A\n",
      "Action: gender:  50%|██████████████▌              | 2/4 [00:00<00:00,  5.40it/s]\u001b[A\n",
      "Action: race:  50%|███████████████▌               | 2/4 [00:00<00:00,  5.40it/s]\u001b[A\n",
      "Action: race:  75%|███████████████████████▎       | 3/4 [00:00<00:00,  5.35it/s]\u001b[A\n",
      "Action: emotion: 100%|████████████████████████████| 4/4 [00:00<00:00,  6.97it/s]\u001b[A\n",
      "349it [03:49,  1.59it/s]"
     ]
    },
    {
     "name": "stdout",
     "output_type": "stream",
     "text": [
      "/Users/jessecoulter/Downloads/FIN377/CEOPersonalities-/matched_pictures/Jim Bidzos/2019\n"
     ]
    },
    {
     "name": "stderr",
     "output_type": "stream",
     "text": [
      "\n",
      "Finding actions:   0%|                                    | 0/4 [00:00<?, ?it/s]\u001b[A\n",
      "Action: age:   0%|                                        | 0/4 [00:00<?, ?it/s]\u001b[A\n",
      "Action: age:  25%|████████                        | 1/4 [00:00<00:00,  5.29it/s]\u001b[A\n",
      "Action: gender:  25%|███████▎                     | 1/4 [00:00<00:00,  5.29it/s]\u001b[A\n",
      "Action: gender:  50%|██████████████▌              | 2/4 [00:00<00:00,  5.28it/s]\u001b[A\n",
      "Action: race:  50%|███████████████▌               | 2/4 [00:00<00:00,  5.28it/s]\u001b[A\n",
      "Action: race:  75%|███████████████████████▎       | 3/4 [00:00<00:00,  5.27it/s]\u001b[A\n",
      "Action: emotion: 100%|████████████████████████████| 4/4 [00:00<00:00,  6.86it/s]\u001b[A\n",
      "350it [03:50,  1.59it/s]"
     ]
    },
    {
     "name": "stdout",
     "output_type": "stream",
     "text": [
      "/Users/jessecoulter/Downloads/FIN377/CEOPersonalities-/matched_pictures/N/A (part of Agilent)/2010\n",
      "Folder not found: /Users/jessecoulter/Downloads/FIN377/CEOPersonalities-/matched_pictures/N/A (part of Agilent)/2010\n",
      "/Users/jessecoulter/Downloads/FIN377/CEOPersonalities-/matched_pictures/N/A (part of Agilent)/2011\n",
      "Folder not found: /Users/jessecoulter/Downloads/FIN377/CEOPersonalities-/matched_pictures/N/A (part of Agilent)/2011\n",
      "/Users/jessecoulter/Downloads/FIN377/CEOPersonalities-/matched_pictures/N/A (part of Agilent)/2012\n",
      "Folder not found: /Users/jessecoulter/Downloads/FIN377/CEOPersonalities-/matched_pictures/N/A (part of Agilent)/2012\n",
      "/Users/jessecoulter/Downloads/FIN377/CEOPersonalities-/matched_pictures/N/A (part of Agilent)/2013\n",
      "Folder not found: /Users/jessecoulter/Downloads/FIN377/CEOPersonalities-/matched_pictures/N/A (part of Agilent)/2013\n",
      "/Users/jessecoulter/Downloads/FIN377/CEOPersonalities-/matched_pictures/Ron Nersesian/2014\n"
     ]
    },
    {
     "name": "stderr",
     "output_type": "stream",
     "text": [
      "\n",
      "Finding actions:   0%|                                    | 0/4 [00:00<?, ?it/s]\u001b[A\n",
      "Action: age:   0%|                                        | 0/4 [00:00<?, ?it/s]\u001b[A\n",
      "Action: age:  25%|████████                        | 1/4 [00:00<00:00,  5.38it/s]\u001b[A\n",
      "Action: gender:  25%|███████▎                     | 1/4 [00:00<00:00,  5.38it/s]\u001b[A\n",
      "Action: gender:  50%|██████████████▌              | 2/4 [00:00<00:00,  5.38it/s]\u001b[A\n",
      "Action: race:  50%|███████████████▌               | 2/4 [00:00<00:00,  5.38it/s]\u001b[A\n",
      "Action: race:  75%|███████████████████████▎       | 3/4 [00:00<00:00,  5.37it/s]\u001b[A\n",
      "Action: emotion: 100%|████████████████████████████| 4/4 [00:00<00:00,  6.99it/s]\u001b[A\n",
      "355it [03:51,  3.51it/s]"
     ]
    },
    {
     "name": "stdout",
     "output_type": "stream",
     "text": [
      "/Users/jessecoulter/Downloads/FIN377/CEOPersonalities-/matched_pictures/Ron Nersesian/2015\n"
     ]
    },
    {
     "name": "stderr",
     "output_type": "stream",
     "text": [
      "\n",
      "Finding actions:   0%|                                    | 0/4 [00:00<?, ?it/s]\u001b[A\n",
      "Action: age:   0%|                                        | 0/4 [00:00<?, ?it/s]\u001b[A\n",
      "Action: age:  25%|████████                        | 1/4 [00:00<00:00,  5.22it/s]\u001b[A\n",
      "Action: gender:  25%|███████▎                     | 1/4 [00:00<00:00,  5.22it/s]\u001b[A\n",
      "Action: gender:  50%|██████████████▌              | 2/4 [00:00<00:00,  5.27it/s]\u001b[A\n",
      "Action: race:  50%|███████████████▌               | 2/4 [00:00<00:00,  5.27it/s]\u001b[A\n",
      "Action: race:  75%|███████████████████████▎       | 3/4 [00:00<00:00,  5.37it/s]\u001b[A\n",
      "Action: emotion: 100%|████████████████████████████| 4/4 [00:00<00:00,  6.94it/s]\u001b[A\n",
      "356it [03:51,  2.95it/s]"
     ]
    },
    {
     "name": "stdout",
     "output_type": "stream",
     "text": [
      "/Users/jessecoulter/Downloads/FIN377/CEOPersonalities-/matched_pictures/Ron Nersesian/2016\n"
     ]
    },
    {
     "name": "stderr",
     "output_type": "stream",
     "text": [
      "\n",
      "Finding actions:   0%|                                    | 0/4 [00:00<?, ?it/s]\u001b[A\n",
      "Action: age:   0%|                                        | 0/4 [00:00<?, ?it/s]\u001b[A\n",
      "Action: age:  25%|████████                        | 1/4 [00:00<00:00,  5.34it/s]\u001b[A\n",
      "Action: gender:  25%|███████▎                     | 1/4 [00:00<00:00,  5.34it/s]\u001b[A\n",
      "Action: gender:  50%|██████████████▌              | 2/4 [00:00<00:00,  5.35it/s]\u001b[A\n",
      "Action: race:  50%|███████████████▌               | 2/4 [00:00<00:00,  5.35it/s]\u001b[A\n",
      "Action: race:  75%|███████████████████████▎       | 3/4 [00:00<00:00,  5.36it/s]\u001b[A\n",
      "Action: emotion: 100%|████████████████████████████| 4/4 [00:00<00:00,  6.93it/s]\u001b[A\n",
      "357it [03:52,  2.59it/s]"
     ]
    },
    {
     "name": "stdout",
     "output_type": "stream",
     "text": [
      "/Users/jessecoulter/Downloads/FIN377/CEOPersonalities-/matched_pictures/Ron Nersesian/2017\n"
     ]
    },
    {
     "name": "stderr",
     "output_type": "stream",
     "text": [
      "\n",
      "Finding actions:   0%|                                    | 0/4 [00:00<?, ?it/s]\u001b[A\n",
      "Action: age:   0%|                                        | 0/4 [00:00<?, ?it/s]\u001b[A\n",
      "Action: age:  25%|████████                        | 1/4 [00:00<00:00,  5.63it/s]\u001b[A\n",
      "Action: gender:  25%|███████▎                     | 1/4 [00:00<00:00,  5.63it/s]\u001b[A\n",
      "Action: gender:  50%|██████████████▌              | 2/4 [00:00<00:00,  5.45it/s]\u001b[A\n",
      "Action: race:  50%|███████████████▌               | 2/4 [00:00<00:00,  5.45it/s]\u001b[A\n",
      "Action: race:  75%|███████████████████████▎       | 3/4 [00:00<00:00,  5.36it/s]\u001b[A\n",
      "Action: emotion: 100%|████████████████████████████| 4/4 [00:00<00:00,  7.03it/s]\u001b[A\n",
      "358it [03:53,  2.01it/s]"
     ]
    },
    {
     "name": "stdout",
     "output_type": "stream",
     "text": [
      "/Users/jessecoulter/Downloads/FIN377/CEOPersonalities-/matched_pictures/Ron Nersesian/2018\n"
     ]
    },
    {
     "name": "stderr",
     "output_type": "stream",
     "text": [
      "\n",
      "Finding actions:   0%|                                    | 0/4 [00:00<?, ?it/s]\u001b[A\n",
      "Action: age:   0%|                                        | 0/4 [00:00<?, ?it/s]\u001b[A\n",
      "Action: age:  25%|████████                        | 1/4 [00:00<00:00,  5.34it/s]\u001b[A\n",
      "Action: gender:  25%|███████▎                     | 1/4 [00:00<00:00,  5.34it/s]\u001b[A\n",
      "Action: gender:  50%|██████████████▌              | 2/4 [00:00<00:00,  4.93it/s]\u001b[A\n",
      "Action: race:  50%|███████████████▌               | 2/4 [00:00<00:00,  4.93it/s]\u001b[A\n",
      "Action: race:  75%|███████████████████████▎       | 3/4 [00:00<00:00,  5.08it/s]\u001b[A\n",
      "Action: emotion: 100%|████████████████████████████| 4/4 [00:00<00:00,  6.60it/s]\u001b[A\n",
      "359it [03:54,  1.74it/s]"
     ]
    },
    {
     "name": "stdout",
     "output_type": "stream",
     "text": [
      "/Users/jessecoulter/Downloads/FIN377/CEOPersonalities-/matched_pictures/Ron Nersesian/2019\n"
     ]
    },
    {
     "name": "stderr",
     "output_type": "stream",
     "text": [
      "\n",
      "Finding actions:   0%|                                    | 0/4 [00:00<?, ?it/s]\u001b[A\n",
      "Action: age:   0%|                                        | 0/4 [00:00<?, ?it/s]\u001b[A\n",
      "Action: age:  25%|████████                        | 1/4 [00:00<00:00,  5.53it/s]\u001b[A\n",
      "Action: gender:  25%|███████▎                     | 1/4 [00:00<00:00,  5.53it/s]\u001b[A\n",
      "Action: gender:  50%|██████████████▌              | 2/4 [00:00<00:00,  5.40it/s]\u001b[A\n",
      "Action: race:  50%|███████████████▌               | 2/4 [00:00<00:00,  5.40it/s]\u001b[A\n",
      "Action: race:  75%|███████████████████████▎       | 3/4 [00:00<00:00,  5.31it/s]\u001b[A\n",
      "Action: emotion: 100%|████████████████████████████| 4/4 [00:00<00:00,  6.96it/s]\u001b[A\n",
      "\n",
      "Finding actions:   0%|                                    | 0/4 [00:00<?, ?it/s]\u001b[A\n",
      "Action: age:   0%|                                        | 0/4 [00:00<?, ?it/s]\u001b[A\n",
      "Action: age:  25%|████████                        | 1/4 [00:00<00:00,  5.15it/s]\u001b[A\n",
      "Action: gender:  25%|███████▎                     | 1/4 [00:00<00:00,  5.15it/s]\u001b[A\n",
      "Action: gender:  50%|██████████████▌              | 2/4 [00:00<00:00,  5.32it/s]\u001b[A\n",
      "Action: race:  50%|███████████████▌               | 2/4 [00:00<00:00,  5.32it/s]\u001b[A\n",
      "Action: race:  75%|███████████████████████▎       | 3/4 [00:00<00:00,  5.28it/s]\u001b[A\n",
      "Action: emotion: 100%|████████████████████████████| 4/4 [00:00<00:00,  6.84it/s]\u001b[A\n",
      "360it [03:55,  1.35it/s]"
     ]
    },
    {
     "name": "stdout",
     "output_type": "stream",
     "text": [
      "/Users/jessecoulter/Downloads/FIN377/CEOPersonalities-/matched_pictures/Gene Hall/2010\n"
     ]
    },
    {
     "name": "stderr",
     "output_type": "stream",
     "text": [
      "\n",
      "Finding actions:   0%|                                    | 0/4 [00:00<?, ?it/s]\u001b[A\n",
      "Action: age:   0%|                                        | 0/4 [00:00<?, ?it/s]\u001b[A\n",
      "Action: age:  25%|████████                        | 1/4 [00:00<00:00,  5.35it/s]\u001b[A\n",
      "Action: gender:  25%|███████▎                     | 1/4 [00:00<00:00,  5.35it/s]\u001b[A\n",
      "Action: gender:  50%|██████████████▌              | 2/4 [00:00<00:00,  5.34it/s]\u001b[A\n",
      "Action: race:  50%|███████████████▌               | 2/4 [00:00<00:00,  5.34it/s]\u001b[A\n",
      "Action: race:  75%|███████████████████████▎       | 3/4 [00:00<00:00,  5.30it/s]\u001b[A\n",
      "Action: emotion: 100%|████████████████████████████| 4/4 [00:00<00:00,  6.90it/s]\u001b[A\n",
      "361it [03:55,  1.40it/s]"
     ]
    },
    {
     "name": "stdout",
     "output_type": "stream",
     "text": [
      "/Users/jessecoulter/Downloads/FIN377/CEOPersonalities-/matched_pictures/Gene Hall/2011\n"
     ]
    },
    {
     "name": "stderr",
     "output_type": "stream",
     "text": [
      "\n",
      "Finding actions:   0%|                                    | 0/4 [00:00<?, ?it/s]\u001b[A\n",
      "Action: age:   0%|                                        | 0/4 [00:00<?, ?it/s]\u001b[A\n",
      "Action: age:  25%|████████                        | 1/4 [00:00<00:00,  5.18it/s]\u001b[A\n",
      "Action: gender:  25%|███████▎                     | 1/4 [00:00<00:00,  5.18it/s]\u001b[A\n",
      "Action: gender:  50%|██████████████▌              | 2/4 [00:00<00:00,  5.22it/s]\u001b[A\n",
      "Action: race:  50%|███████████████▌               | 2/4 [00:00<00:00,  5.22it/s]\u001b[A\n",
      "Action: race:  75%|███████████████████████▎       | 3/4 [00:00<00:00,  5.21it/s]\u001b[A\n",
      "Action: emotion: 100%|████████████████████████████| 4/4 [00:00<00:00,  6.78it/s]\u001b[A\n",
      "362it [03:56,  1.46it/s]"
     ]
    },
    {
     "name": "stdout",
     "output_type": "stream",
     "text": [
      "/Users/jessecoulter/Downloads/FIN377/CEOPersonalities-/matched_pictures/Gene Hall/2012\n"
     ]
    },
    {
     "name": "stderr",
     "output_type": "stream",
     "text": [
      "\n",
      "Finding actions:   0%|                                    | 0/4 [00:00<?, ?it/s]\u001b[A\n",
      "Action: age:   0%|                                        | 0/4 [00:00<?, ?it/s]\u001b[A\n",
      "Action: age:  25%|████████                        | 1/4 [00:00<00:00,  5.27it/s]\u001b[A\n",
      "Action: gender:  25%|███████▎                     | 1/4 [00:00<00:00,  5.27it/s]\u001b[A\n",
      "Action: gender:  50%|██████████████▌              | 2/4 [00:00<00:00,  5.29it/s]\u001b[A\n",
      "Action: race:  50%|███████████████▌               | 2/4 [00:00<00:00,  5.29it/s]\u001b[A\n",
      "Action: race:  75%|███████████████████████▎       | 3/4 [00:00<00:00,  5.28it/s]\u001b[A\n",
      "Action: emotion: 100%|████████████████████████████| 4/4 [00:00<00:00,  6.87it/s]\u001b[A\n",
      "363it [03:57,  1.49it/s]"
     ]
    },
    {
     "name": "stdout",
     "output_type": "stream",
     "text": [
      "/Users/jessecoulter/Downloads/FIN377/CEOPersonalities-/matched_pictures/Gene Hall/2013\n",
      "Folder not found: /Users/jessecoulter/Downloads/FIN377/CEOPersonalities-/matched_pictures/Gene Hall/2013\n",
      "/Users/jessecoulter/Downloads/FIN377/CEOPersonalities-/matched_pictures/Gene Hall/2014\n"
     ]
    },
    {
     "name": "stderr",
     "output_type": "stream",
     "text": [
      "\n",
      "Finding actions:   0%|                                    | 0/4 [00:00<?, ?it/s]\u001b[A\n",
      "Action: age:   0%|                                        | 0/4 [00:00<?, ?it/s]\u001b[A\n",
      "Action: age:  25%|████████                        | 1/4 [00:00<00:00,  5.51it/s]\u001b[A\n",
      "Action: gender:  25%|███████▎                     | 1/4 [00:00<00:00,  5.51it/s]\u001b[A\n",
      "Action: gender:  50%|██████████████▌              | 2/4 [00:00<00:00,  5.29it/s]\u001b[A\n",
      "Action: race:  50%|███████████████▌               | 2/4 [00:00<00:00,  5.29it/s]\u001b[A\n",
      "Action: race:  75%|███████████████████████▎       | 3/4 [00:00<00:00,  5.29it/s]\u001b[A\n",
      "Action: emotion: 100%|████████████████████████████| 4/4 [00:00<00:00,  6.91it/s]\u001b[A\n",
      "\n",
      "Finding actions:   0%|                                    | 0/4 [00:00<?, ?it/s]\u001b[A\n",
      "Action: age:   0%|                                        | 0/4 [00:00<?, ?it/s]\u001b[A\n",
      "Action: age:  25%|████████                        | 1/4 [00:00<00:00,  5.55it/s]\u001b[A\n",
      "Action: gender:  25%|███████▎                     | 1/4 [00:00<00:00,  5.55it/s]\u001b[A\n",
      "Action: gender:  50%|██████████████▌              | 2/4 [00:00<00:00,  5.38it/s]\u001b[A\n",
      "Action: race:  50%|███████████████▌               | 2/4 [00:00<00:00,  5.38it/s]\u001b[A\n",
      "Action: race:  75%|███████████████████████▎       | 3/4 [00:00<00:00,  5.36it/s]\u001b[A\n",
      "Action: emotion: 100%|████████████████████████████| 4/4 [00:00<00:00,  7.00it/s]\u001b[A\n",
      "365it [03:58,  1.51it/s]"
     ]
    },
    {
     "name": "stdout",
     "output_type": "stream",
     "text": [
      "/Users/jessecoulter/Downloads/FIN377/CEOPersonalities-/matched_pictures/Gene Hall/2015\n"
     ]
    },
    {
     "name": "stderr",
     "output_type": "stream",
     "text": [
      "\n",
      "Finding actions:   0%|                                    | 0/4 [00:00<?, ?it/s]\u001b[A\n",
      "Action: age:   0%|                                        | 0/4 [00:00<?, ?it/s]\u001b[A\n",
      "Action: age:  25%|████████                        | 1/4 [00:00<00:00,  5.34it/s]\u001b[A\n",
      "Action: gender:  25%|███████▎                     | 1/4 [00:00<00:00,  5.34it/s]\u001b[A\n",
      "Action: gender:  50%|██████████████▌              | 2/4 [00:00<00:00,  5.28it/s]\u001b[A\n",
      "Action: race:  50%|███████████████▌               | 2/4 [00:00<00:00,  5.28it/s]\u001b[A\n",
      "Action: race:  75%|███████████████████████▎       | 3/4 [00:00<00:00,  5.23it/s]\u001b[A\n",
      "Action: emotion: 100%|████████████████████████████| 4/4 [00:00<00:00,  6.83it/s]\u001b[A\n",
      "366it [03:59,  1.52it/s]"
     ]
    },
    {
     "name": "stdout",
     "output_type": "stream",
     "text": [
      "/Users/jessecoulter/Downloads/FIN377/CEOPersonalities-/matched_pictures/Gene Hall/2016\n"
     ]
    },
    {
     "name": "stderr",
     "output_type": "stream",
     "text": [
      "\n",
      "Finding actions:   0%|                                    | 0/4 [00:00<?, ?it/s]\u001b[A\n",
      "Action: age:   0%|                                        | 0/4 [00:00<?, ?it/s]\u001b[A\n",
      "Action: age:  25%|████████                        | 1/4 [00:00<00:00,  5.05it/s]\u001b[A\n",
      "Action: gender:  25%|███████▎                     | 1/4 [00:00<00:00,  5.05it/s]\u001b[A\n",
      "Action: gender:  50%|██████████████▌              | 2/4 [00:00<00:00,  5.01it/s]\u001b[A\n",
      "Action: race:  50%|███████████████▌               | 2/4 [00:00<00:00,  5.01it/s]\u001b[A\n",
      "Action: race:  75%|███████████████████████▎       | 3/4 [00:00<00:00,  4.97it/s]\u001b[A\n",
      "Action: emotion: 100%|████████████████████████████| 4/4 [00:00<00:00,  6.49it/s]\u001b[A\n",
      "367it [03:59,  1.52it/s]"
     ]
    },
    {
     "name": "stdout",
     "output_type": "stream",
     "text": [
      "/Users/jessecoulter/Downloads/FIN377/CEOPersonalities-/matched_pictures/Gene Hall/2017\n"
     ]
    },
    {
     "name": "stderr",
     "output_type": "stream",
     "text": [
      "\n",
      "Finding actions:   0%|                                    | 0/4 [00:00<?, ?it/s]\u001b[A\n",
      "Action: age:   0%|                                        | 0/4 [00:00<?, ?it/s]\u001b[A\n",
      "Action: age:  25%|████████                        | 1/4 [00:00<00:00,  5.19it/s]\u001b[A\n",
      "Action: gender:  25%|███████▎                     | 1/4 [00:00<00:00,  5.19it/s]\u001b[A\n",
      "Action: gender:  50%|██████████████▌              | 2/4 [00:00<00:00,  5.26it/s]\u001b[A\n",
      "Action: race:  50%|███████████████▌               | 2/4 [00:00<00:00,  5.26it/s]\u001b[A\n",
      "Action: race:  75%|███████████████████████▎       | 3/4 [00:00<00:00,  5.18it/s]\u001b[A\n",
      "Action: emotion: 100%|████████████████████████████| 4/4 [00:00<00:00,  6.73it/s]\u001b[A\n",
      "368it [04:00,  1.51it/s]"
     ]
    },
    {
     "name": "stdout",
     "output_type": "stream",
     "text": [
      "/Users/jessecoulter/Downloads/FIN377/CEOPersonalities-/matched_pictures/Gene Hall/2018\n"
     ]
    },
    {
     "name": "stderr",
     "output_type": "stream",
     "text": [
      "\n",
      "Finding actions:   0%|                                    | 0/4 [00:00<?, ?it/s]\u001b[A\n",
      "Action: age:   0%|                                        | 0/4 [00:00<?, ?it/s]\u001b[A\n",
      "Action: age:  25%|████████                        | 1/4 [00:00<00:00,  5.03it/s]\u001b[A\n",
      "Action: gender:  25%|███████▎                     | 1/4 [00:00<00:00,  5.03it/s]\u001b[A\n",
      "Action: gender:  50%|██████████████▌              | 2/4 [00:00<00:00,  5.15it/s]\u001b[A\n",
      "Action: race:  50%|███████████████▌               | 2/4 [00:00<00:00,  5.15it/s]\u001b[A\n",
      "Action: race:  75%|███████████████████████▎       | 3/4 [00:00<00:00,  5.10it/s]\u001b[A\n",
      "Action: emotion: 100%|████████████████████████████| 4/4 [00:00<00:00,  6.63it/s]\u001b[A\n",
      "369it [04:01,  1.51it/s]"
     ]
    },
    {
     "name": "stdout",
     "output_type": "stream",
     "text": [
      "/Users/jessecoulter/Downloads/FIN377/CEOPersonalities-/matched_pictures/Gene Hall/2019\n"
     ]
    },
    {
     "name": "stderr",
     "output_type": "stream",
     "text": [
      "\n",
      "Finding actions:   0%|                                    | 0/4 [00:00<?, ?it/s]\u001b[A\n",
      "Action: age:   0%|                                        | 0/4 [00:00<?, ?it/s]\u001b[A\n",
      "Action: age:  25%|████████                        | 1/4 [00:00<00:00,  5.24it/s]\u001b[A\n",
      "Action: gender:  25%|███████▎                     | 1/4 [00:00<00:00,  5.24it/s]\u001b[A\n",
      "Action: gender:  50%|██████████████▌              | 2/4 [00:00<00:00,  5.25it/s]\u001b[A\n",
      "Action: race:  50%|███████████████▌               | 2/4 [00:00<00:00,  5.25it/s]\u001b[A\n",
      "Action: race:  75%|███████████████████████▎       | 3/4 [00:00<00:00,  5.22it/s]\u001b[A\n",
      "Action: emotion: 100%|████████████████████████████| 4/4 [00:00<00:00,  6.80it/s]\u001b[A\n",
      "370it [04:01,  1.40it/s]"
     ]
    },
    {
     "name": "stdout",
     "output_type": "stream",
     "text": [
      "/Users/jessecoulter/Downloads/FIN377/CEOPersonalities-/matched_pictures/Arkadiy Dobkin/2010\n"
     ]
    },
    {
     "name": "stderr",
     "output_type": "stream",
     "text": [
      "\n",
      "Finding actions:   0%|                                    | 0/4 [00:00<?, ?it/s]\u001b[A\n",
      "Action: age:   0%|                                        | 0/4 [00:00<?, ?it/s]\u001b[A\n",
      "Action: age:  25%|████████                        | 1/4 [00:00<00:00,  5.33it/s]\u001b[A\n",
      "Action: gender:  25%|███████▎                     | 1/4 [00:00<00:00,  5.33it/s]\u001b[A\n",
      "Action: gender:  50%|██████████████▌              | 2/4 [00:00<00:00,  5.29it/s]\u001b[A\n",
      "Action: race:  50%|███████████████▌               | 2/4 [00:00<00:00,  5.29it/s]\u001b[A\n",
      "Action: race:  75%|███████████████████████▎       | 3/4 [00:00<00:00,  5.24it/s]\u001b[A\n",
      "Action: emotion: 100%|████████████████████████████| 4/4 [00:00<00:00,  6.83it/s]\u001b[A\n",
      "371it [04:02,  1.44it/s]"
     ]
    },
    {
     "name": "stdout",
     "output_type": "stream",
     "text": [
      "/Users/jessecoulter/Downloads/FIN377/CEOPersonalities-/matched_pictures/Arkadiy Dobkin/2011\n"
     ]
    },
    {
     "name": "stderr",
     "output_type": "stream",
     "text": [
      "\n",
      "Finding actions:   0%|                                    | 0/4 [00:00<?, ?it/s]\u001b[A\n",
      "Action: age:   0%|                                        | 0/4 [00:00<?, ?it/s]\u001b[A\n",
      "Action: age:  25%|████████                        | 1/4 [00:00<00:00,  5.25it/s]\u001b[A\n",
      "Action: gender:  25%|███████▎                     | 1/4 [00:00<00:00,  5.25it/s]\u001b[A\n",
      "Action: gender:  50%|██████████████▌              | 2/4 [00:00<00:00,  5.27it/s]\u001b[A\n",
      "Action: race:  50%|███████████████▌               | 2/4 [00:00<00:00,  5.27it/s]\u001b[A\n",
      "Action: race:  75%|███████████████████████▎       | 3/4 [00:00<00:00,  5.31it/s]\u001b[A\n",
      "Action: emotion: 100%|████████████████████████████| 4/4 [00:00<00:00,  6.89it/s]\u001b[A\n",
      "372it [04:03,  1.48it/s]"
     ]
    },
    {
     "name": "stdout",
     "output_type": "stream",
     "text": [
      "/Users/jessecoulter/Downloads/FIN377/CEOPersonalities-/matched_pictures/Arkadiy Dobkin/2012\n"
     ]
    },
    {
     "name": "stderr",
     "output_type": "stream",
     "text": [
      "\n",
      "Finding actions:   0%|                                    | 0/4 [00:00<?, ?it/s]\u001b[A\n",
      "Action: age:   0%|                                        | 0/4 [00:00<?, ?it/s]\u001b[A\n",
      "Action: age:  25%|████████                        | 1/4 [00:00<00:00,  5.32it/s]\u001b[A\n",
      "Action: gender:  25%|███████▎                     | 1/4 [00:00<00:00,  5.32it/s]\u001b[A\n",
      "Action: gender:  50%|██████████████▌              | 2/4 [00:00<00:00,  5.30it/s]\u001b[A\n",
      "Action: race:  50%|███████████████▌               | 2/4 [00:00<00:00,  5.30it/s]\u001b[A\n",
      "Action: race:  75%|███████████████████████▎       | 3/4 [00:00<00:00,  5.27it/s]\u001b[A\n",
      "Action: emotion: 100%|████████████████████████████| 4/4 [00:00<00:00,  6.87it/s]\u001b[A\n",
      "373it [04:03,  1.48it/s]"
     ]
    },
    {
     "name": "stdout",
     "output_type": "stream",
     "text": [
      "/Users/jessecoulter/Downloads/FIN377/CEOPersonalities-/matched_pictures/Arkadiy Dobkin/2013\n"
     ]
    },
    {
     "name": "stderr",
     "output_type": "stream",
     "text": [
      "\n",
      "Finding actions:   0%|                                    | 0/4 [00:00<?, ?it/s]\u001b[A\n",
      "Action: age:   0%|                                        | 0/4 [00:00<?, ?it/s]\u001b[A\n",
      "Action: age:  25%|████████                        | 1/4 [00:00<00:00,  5.20it/s]\u001b[A\n",
      "Action: gender:  25%|███████▎                     | 1/4 [00:00<00:00,  5.20it/s]\u001b[A\n",
      "Action: gender:  50%|██████████████▌              | 2/4 [00:00<00:00,  5.20it/s]\u001b[A\n",
      "Action: race:  50%|███████████████▌               | 2/4 [00:00<00:00,  5.20it/s]\u001b[A\n",
      "Action: race:  75%|███████████████████████▎       | 3/4 [00:00<00:00,  5.22it/s]\u001b[A\n",
      "Action: emotion: 100%|████████████████████████████| 4/4 [00:00<00:00,  6.79it/s]\u001b[A\n",
      "374it [04:04,  1.51it/s]"
     ]
    },
    {
     "name": "stdout",
     "output_type": "stream",
     "text": [
      "/Users/jessecoulter/Downloads/FIN377/CEOPersonalities-/matched_pictures/Arkadiy Dobkin/2014\n"
     ]
    },
    {
     "name": "stderr",
     "output_type": "stream",
     "text": [
      "\n",
      "Finding actions:   0%|                                    | 0/4 [00:00<?, ?it/s]\u001b[A\n",
      "Action: age:   0%|                                        | 0/4 [00:00<?, ?it/s]\u001b[A\n",
      "Action: age:  25%|████████                        | 1/4 [00:00<00:00,  5.30it/s]\u001b[A\n",
      "Action: gender:  25%|███████▎                     | 1/4 [00:00<00:00,  5.30it/s]\u001b[A\n",
      "Action: gender:  50%|██████████████▌              | 2/4 [00:00<00:00,  5.25it/s]\u001b[A\n",
      "Action: race:  50%|███████████████▌               | 2/4 [00:00<00:00,  5.25it/s]\u001b[A\n",
      "Action: race:  75%|███████████████████████▎       | 3/4 [00:00<00:00,  5.32it/s]\u001b[A\n",
      "Action: emotion: 100%|████████████████████████████| 4/4 [00:00<00:00,  6.90it/s]\u001b[A\n",
      "375it [04:05,  1.54it/s]"
     ]
    },
    {
     "name": "stdout",
     "output_type": "stream",
     "text": [
      "/Users/jessecoulter/Downloads/FIN377/CEOPersonalities-/matched_pictures/Arkadiy Dobkin/2015\n"
     ]
    },
    {
     "name": "stderr",
     "output_type": "stream",
     "text": [
      "\n",
      "Finding actions:   0%|                                    | 0/4 [00:00<?, ?it/s]\u001b[A\n",
      "Action: age:   0%|                                        | 0/4 [00:00<?, ?it/s]\u001b[A\n",
      "Action: age:  25%|████████                        | 1/4 [00:00<00:00,  5.21it/s]\u001b[A\n",
      "Action: gender:  25%|███████▎                     | 1/4 [00:00<00:00,  5.21it/s]\u001b[A\n",
      "Action: gender:  50%|██████████████▌              | 2/4 [00:00<00:00,  5.23it/s]\u001b[A\n",
      "Action: race:  50%|███████████████▌               | 2/4 [00:00<00:00,  5.23it/s]\u001b[A\n",
      "Action: race:  75%|███████████████████████▎       | 3/4 [00:00<00:00,  5.30it/s]\u001b[A\n",
      "Action: emotion: 100%|████████████████████████████| 4/4 [00:00<00:00,  6.87it/s]\u001b[A\n",
      "376it [04:05,  1.50it/s]"
     ]
    },
    {
     "name": "stdout",
     "output_type": "stream",
     "text": [
      "/Users/jessecoulter/Downloads/FIN377/CEOPersonalities-/matched_pictures/Arkadiy Dobkin/2016\n"
     ]
    },
    {
     "name": "stderr",
     "output_type": "stream",
     "text": [
      "\n",
      "Finding actions:   0%|                                    | 0/4 [00:00<?, ?it/s]\u001b[A\n",
      "Action: age:   0%|                                        | 0/4 [00:00<?, ?it/s]\u001b[A\n",
      "Action: age:  25%|████████                        | 1/4 [00:00<00:00,  5.26it/s]\u001b[A\n",
      "Action: gender:  25%|███████▎                     | 1/4 [00:00<00:00,  5.26it/s]\u001b[A\n",
      "Action: gender:  50%|██████████████▌              | 2/4 [00:00<00:00,  5.24it/s]\u001b[A\n",
      "Action: race:  50%|███████████████▌               | 2/4 [00:00<00:00,  5.24it/s]\u001b[A\n",
      "Action: race:  75%|███████████████████████▎       | 3/4 [00:00<00:00,  5.27it/s]\u001b[A\n",
      "Action: emotion: 100%|████████████████████████████| 4/4 [00:00<00:00,  6.84it/s]\u001b[A\n",
      "377it [04:06,  1.38it/s]"
     ]
    },
    {
     "name": "stdout",
     "output_type": "stream",
     "text": [
      "/Users/jessecoulter/Downloads/FIN377/CEOPersonalities-/matched_pictures/Arkadiy Dobkin/2017\n",
      "Error analyzing /Users/jessecoulter/Downloads/FIN377/CEOPersonalities-/matched_pictures/Arkadiy Dobkin/2017/pic1.jpg: Face could not be detected in /Users/jessecoulter/Downloads/FIN377/CEOPersonalities-/matched_pictures/Arkadiy Dobkin/2017/pic1.jpg.Please confirm that the picture is a face photo or consider to set enforce_detection param to False.\n",
      "/Users/jessecoulter/Downloads/FIN377/CEOPersonalities-/matched_pictures/Arkadiy Dobkin/2018\n"
     ]
    },
    {
     "name": "stderr",
     "output_type": "stream",
     "text": [
      "\n",
      "Finding actions:   0%|                                    | 0/4 [00:00<?, ?it/s]\u001b[A\n",
      "Action: age:   0%|                                        | 0/4 [00:00<?, ?it/s]\u001b[A\n",
      "Action: age:  25%|████████                        | 1/4 [00:00<00:00,  5.53it/s]\u001b[A\n",
      "Action: gender:  25%|███████▎                     | 1/4 [00:00<00:00,  5.53it/s]\u001b[A\n",
      "Action: gender:  50%|██████████████▌              | 2/4 [00:00<00:00,  5.39it/s]\u001b[A\n",
      "Action: race:  50%|███████████████▌               | 2/4 [00:00<00:00,  5.39it/s]\u001b[A\n",
      "Action: race:  75%|███████████████████████▎       | 3/4 [00:00<00:00,  5.25it/s]\u001b[A\n",
      "Action: emotion: 100%|████████████████████████████| 4/4 [00:00<00:00,  6.89it/s]\u001b[A\n",
      "379it [04:07,  1.82it/s]"
     ]
    },
    {
     "name": "stdout",
     "output_type": "stream",
     "text": [
      "/Users/jessecoulter/Downloads/FIN377/CEOPersonalities-/matched_pictures/Arkadiy Dobkin/2019\n"
     ]
    },
    {
     "name": "stderr",
     "output_type": "stream",
     "text": [
      "\n",
      "Finding actions:   0%|                                    | 0/4 [00:00<?, ?it/s]\u001b[A\n",
      "Action: age:   0%|                                        | 0/4 [00:00<?, ?it/s]\u001b[A\n",
      "Action: age:  25%|████████                        | 1/4 [00:00<00:00,  5.12it/s]\u001b[A\n",
      "Action: gender:  25%|███████▎                     | 1/4 [00:00<00:00,  5.12it/s]\u001b[A\n",
      "Action: gender:  50%|██████████████▌              | 2/4 [00:00<00:00,  5.06it/s]\u001b[A\n",
      "Action: race:  50%|███████████████▌               | 2/4 [00:00<00:00,  5.06it/s]\u001b[A\n",
      "Action: race:  75%|███████████████████████▎       | 3/4 [00:00<00:00,  5.17it/s]\u001b[A\n",
      "Action: emotion: 100%|████████████████████████████| 4/4 [00:00<00:00,  6.71it/s]\u001b[A\n",
      "380it [04:08,  1.76it/s]"
     ]
    },
    {
     "name": "stdout",
     "output_type": "stream",
     "text": [
      "/Users/jessecoulter/Downloads/FIN377/CEOPersonalities-/matched_pictures/Jack Prim/2010\n"
     ]
    },
    {
     "name": "stderr",
     "output_type": "stream",
     "text": [
      "\n",
      "Finding actions:   0%|                                    | 0/4 [00:00<?, ?it/s]\u001b[A\n",
      "Action: age:   0%|                                        | 0/4 [00:00<?, ?it/s]\u001b[A\n",
      "Action: age:  25%|████████                        | 1/4 [00:00<00:00,  5.27it/s]\u001b[A\n",
      "Action: gender:  25%|███████▎                     | 1/4 [00:00<00:00,  5.27it/s]\u001b[A\n",
      "Action: gender:  50%|██████████████▌              | 2/4 [00:00<00:00,  5.16it/s]\u001b[A\n",
      "Action: race:  50%|███████████████▌               | 2/4 [00:00<00:00,  5.16it/s]\u001b[A\n",
      "Action: race:  75%|███████████████████████▎       | 3/4 [00:00<00:00,  5.18it/s]\u001b[A\n",
      "Action: emotion: 100%|████████████████████████████| 4/4 [00:00<00:00,  6.75it/s]\u001b[A\n",
      "381it [04:08,  1.70it/s]"
     ]
    },
    {
     "name": "stdout",
     "output_type": "stream",
     "text": [
      "/Users/jessecoulter/Downloads/FIN377/CEOPersonalities-/matched_pictures/Jack Prim/2011\n"
     ]
    },
    {
     "name": "stderr",
     "output_type": "stream",
     "text": [
      "\n",
      "Finding actions:   0%|                                    | 0/4 [00:00<?, ?it/s]\u001b[A\n",
      "Action: age:   0%|                                        | 0/4 [00:00<?, ?it/s]\u001b[A\n",
      "Action: age:  25%|████████                        | 1/4 [00:00<00:00,  5.17it/s]\u001b[A\n",
      "Action: gender:  25%|███████▎                     | 1/4 [00:00<00:00,  5.17it/s]\u001b[A\n",
      "Action: gender:  50%|██████████████▌              | 2/4 [00:00<00:00,  5.21it/s]\u001b[A\n",
      "Action: race:  50%|███████████████▌               | 2/4 [00:00<00:00,  5.21it/s]\u001b[A\n",
      "Action: race:  75%|███████████████████████▎       | 3/4 [00:00<00:00,  5.27it/s]\u001b[A\n",
      "Action: emotion: 100%|████████████████████████████| 4/4 [00:00<00:00,  6.82it/s]\u001b[A\n",
      "382it [04:09,  1.67it/s]"
     ]
    },
    {
     "name": "stdout",
     "output_type": "stream",
     "text": [
      "/Users/jessecoulter/Downloads/FIN377/CEOPersonalities-/matched_pictures/Jack Prim/2012\n"
     ]
    },
    {
     "name": "stderr",
     "output_type": "stream",
     "text": [
      "\n",
      "Finding actions:   0%|                                    | 0/4 [00:00<?, ?it/s]\u001b[A\n",
      "Action: age:   0%|                                        | 0/4 [00:00<?, ?it/s]\u001b[A\n",
      "Action: age:  25%|████████                        | 1/4 [00:00<00:00,  5.24it/s]\u001b[A\n",
      "Action: gender:  25%|███████▎                     | 1/4 [00:00<00:00,  5.24it/s]\u001b[A\n",
      "Action: gender:  50%|██████████████▌              | 2/4 [00:00<00:00,  5.27it/s]\u001b[A\n",
      "Action: race:  50%|███████████████▌               | 2/4 [00:00<00:00,  5.27it/s]\u001b[A\n",
      "Action: race:  75%|███████████████████████▎       | 3/4 [00:00<00:00,  5.22it/s]\u001b[A\n",
      "Action: emotion: 100%|████████████████████████████| 4/4 [00:00<00:00,  6.81it/s]\u001b[A\n",
      "383it [04:09,  1.64it/s]"
     ]
    },
    {
     "name": "stdout",
     "output_type": "stream",
     "text": [
      "/Users/jessecoulter/Downloads/FIN377/CEOPersonalities-/matched_pictures/Jack Prim/2013\n"
     ]
    },
    {
     "name": "stderr",
     "output_type": "stream",
     "text": [
      "\n",
      "Finding actions:   0%|                                    | 0/4 [00:00<?, ?it/s]\u001b[A\n",
      "Action: age:   0%|                                        | 0/4 [00:00<?, ?it/s]\u001b[A\n",
      "Action: age:  25%|████████                        | 1/4 [00:00<00:00,  5.15it/s]\u001b[A\n",
      "Action: gender:  25%|███████▎                     | 1/4 [00:00<00:00,  5.15it/s]\u001b[A\n",
      "Action: gender:  50%|██████████████▌              | 2/4 [00:00<00:00,  5.20it/s]\u001b[A\n",
      "Action: race:  50%|███████████████▌               | 2/4 [00:00<00:00,  5.20it/s]\u001b[A\n",
      "Action: race:  75%|███████████████████████▎       | 3/4 [00:00<00:00,  5.23it/s]\u001b[A\n",
      "Action: emotion: 100%|████████████████████████████| 4/4 [00:00<00:00,  6.79it/s]\u001b[A\n",
      "384it [04:10,  1.62it/s]"
     ]
    },
    {
     "name": "stdout",
     "output_type": "stream",
     "text": [
      "/Users/jessecoulter/Downloads/FIN377/CEOPersonalities-/matched_pictures/Jack Prim/2014\n"
     ]
    },
    {
     "name": "stderr",
     "output_type": "stream",
     "text": [
      "\n",
      "Finding actions:   0%|                                    | 0/4 [00:00<?, ?it/s]\u001b[A\n",
      "Action: age:   0%|                                        | 0/4 [00:00<?, ?it/s]\u001b[A\n",
      "Action: age:  25%|████████                        | 1/4 [00:00<00:00,  5.25it/s]\u001b[A\n",
      "Action: gender:  25%|███████▎                     | 1/4 [00:00<00:00,  5.25it/s]\u001b[A\n",
      "Action: gender:  50%|██████████████▌              | 2/4 [00:00<00:00,  5.27it/s]\u001b[A\n",
      "Action: race:  50%|███████████████▌               | 2/4 [00:00<00:00,  5.27it/s]\u001b[A\n",
      "Action: race:  75%|███████████████████████▎       | 3/4 [00:00<00:00,  5.30it/s]\u001b[A\n",
      "Action: emotion: 100%|████████████████████████████| 4/4 [00:00<00:00,  6.88it/s]\u001b[A\n",
      "385it [04:11,  1.61it/s]"
     ]
    },
    {
     "name": "stdout",
     "output_type": "stream",
     "text": [
      "/Users/jessecoulter/Downloads/FIN377/CEOPersonalities-/matched_pictures/Jack Prim/2015\n"
     ]
    },
    {
     "name": "stderr",
     "output_type": "stream",
     "text": [
      "\n",
      "Finding actions:   0%|                                    | 0/4 [00:00<?, ?it/s]\u001b[A\n",
      "Action: age:   0%|                                        | 0/4 [00:00<?, ?it/s]\u001b[A\n",
      "Action: age:  25%|████████                        | 1/4 [00:00<00:00,  5.39it/s]\u001b[A\n",
      "Action: gender:  25%|███████▎                     | 1/4 [00:00<00:00,  5.39it/s]\u001b[A\n",
      "Action: gender:  50%|██████████████▌              | 2/4 [00:00<00:00,  5.27it/s]\u001b[A\n",
      "Action: race:  50%|███████████████▌               | 2/4 [00:00<00:00,  5.27it/s]\u001b[A\n",
      "Action: race:  75%|███████████████████████▎       | 3/4 [00:00<00:00,  5.31it/s]\u001b[A\n",
      "Action: emotion: 100%|████████████████████████████| 4/4 [00:00<00:00,  6.91it/s]\u001b[A\n",
      "386it [04:11,  1.52it/s]"
     ]
    },
    {
     "name": "stdout",
     "output_type": "stream",
     "text": [
      "/Users/jessecoulter/Downloads/FIN377/CEOPersonalities-/matched_pictures/Jack Prim/2016\n"
     ]
    },
    {
     "name": "stderr",
     "output_type": "stream",
     "text": [
      "\n",
      "Finding actions:   0%|                                    | 0/4 [00:00<?, ?it/s]\u001b[A\n",
      "Action: age:   0%|                                        | 0/4 [00:00<?, ?it/s]\u001b[A\n",
      "Action: age:  25%|████████                        | 1/4 [00:00<00:00,  5.26it/s]\u001b[A\n",
      "Action: gender:  25%|███████▎                     | 1/4 [00:00<00:00,  5.26it/s]\u001b[A\n",
      "Action: gender:  50%|██████████████▌              | 2/4 [00:00<00:00,  5.23it/s]\u001b[A\n",
      "Action: race:  50%|███████████████▌               | 2/4 [00:00<00:00,  5.23it/s]\u001b[A\n",
      "Action: race:  75%|███████████████████████▎       | 3/4 [00:00<00:00,  5.23it/s]\u001b[A\n",
      "Action: emotion: 100%|████████████████████████████| 4/4 [00:00<00:00,  6.81it/s]\u001b[A\n",
      "387it [04:12,  1.54it/s]"
     ]
    },
    {
     "name": "stdout",
     "output_type": "stream",
     "text": [
      "/Users/jessecoulter/Downloads/FIN377/CEOPersonalities-/matched_pictures/David Foss/2017\n",
      "Error analyzing /Users/jessecoulter/Downloads/FIN377/CEOPersonalities-/matched_pictures/David Foss/2017/pic3.jpg: Face could not be detected in /Users/jessecoulter/Downloads/FIN377/CEOPersonalities-/matched_pictures/David Foss/2017/pic3.jpg.Please confirm that the picture is a face photo or consider to set enforce_detection param to False.\n",
      "/Users/jessecoulter/Downloads/FIN377/CEOPersonalities-/matched_pictures/David Foss/2018\n",
      "Error analyzing /Users/jessecoulter/Downloads/FIN377/CEOPersonalities-/matched_pictures/David Foss/2018/pic1.jpg: Face could not be detected in /Users/jessecoulter/Downloads/FIN377/CEOPersonalities-/matched_pictures/David Foss/2018/pic1.jpg.Please confirm that the picture is a face photo or consider to set enforce_detection param to False.\n",
      "/Users/jessecoulter/Downloads/FIN377/CEOPersonalities-/matched_pictures/David Foss/2019\n"
     ]
    },
    {
     "name": "stderr",
     "output_type": "stream",
     "text": [
      "\n",
      "Finding actions:   0%|                                    | 0/4 [00:00<?, ?it/s]\u001b[A\n",
      "Action: age:   0%|                                        | 0/4 [00:00<?, ?it/s]\u001b[A\n",
      "Action: age:  25%|████████                        | 1/4 [00:00<00:00,  5.33it/s]\u001b[A\n",
      "Action: gender:  25%|███████▎                     | 1/4 [00:00<00:00,  5.33it/s]\u001b[A\n",
      "Action: gender:  50%|██████████████▌              | 2/4 [00:00<00:00,  5.20it/s]\u001b[A\n",
      "Action: race:  50%|███████████████▌               | 2/4 [00:00<00:00,  5.20it/s]\u001b[A\n",
      "Action: race:  75%|███████████████████████▎       | 3/4 [00:00<00:00,  5.23it/s]\u001b[A\n",
      "Action: emotion: 100%|████████████████████████████| 4/4 [00:00<00:00,  6.82it/s]\u001b[A\n",
      "390it [04:13,  2.09it/s]"
     ]
    },
    {
     "name": "stdout",
     "output_type": "stream",
     "text": [
      "/Users/jessecoulter/Downloads/FIN377/CEOPersonalities-/matched_pictures/John A. Edwardson/2010\n"
     ]
    },
    {
     "name": "stderr",
     "output_type": "stream",
     "text": [
      "\n",
      "Finding actions:   0%|                                    | 0/4 [00:00<?, ?it/s]\u001b[A\n",
      "Action: age:   0%|                                        | 0/4 [00:00<?, ?it/s]\u001b[A\n",
      "Action: age:  25%|████████                        | 1/4 [00:00<00:00,  5.11it/s]\u001b[A\n",
      "Action: gender:  25%|███████▎                     | 1/4 [00:00<00:00,  5.11it/s]\u001b[A\n",
      "Action: gender:  50%|██████████████▌              | 2/4 [00:00<00:00,  5.18it/s]\u001b[A\n",
      "Action: race:  50%|███████████████▌               | 2/4 [00:00<00:00,  5.18it/s]\u001b[A\n",
      "Action: race:  75%|███████████████████████▎       | 3/4 [00:00<00:00,  5.23it/s]\u001b[A\n",
      "Action: emotion: 100%|████████████████████████████| 4/4 [00:00<00:00,  6.78it/s]\u001b[A\n",
      "391it [04:14,  1.97it/s]"
     ]
    },
    {
     "name": "stdout",
     "output_type": "stream",
     "text": [
      "/Users/jessecoulter/Downloads/FIN377/CEOPersonalities-/matched_pictures/John A. Edwardson/2011\n",
      "Error analyzing /Users/jessecoulter/Downloads/FIN377/CEOPersonalities-/matched_pictures/John A. Edwardson/2011/pic1.jpg: Face could not be detected in /Users/jessecoulter/Downloads/FIN377/CEOPersonalities-/matched_pictures/John A. Edwardson/2011/pic1.jpg.Please confirm that the picture is a face photo or consider to set enforce_detection param to False.\n",
      "/Users/jessecoulter/Downloads/FIN377/CEOPersonalities-/matched_pictures/John A. Edwardson/2012\n"
     ]
    },
    {
     "name": "stderr",
     "output_type": "stream",
     "text": [
      "\n",
      "Finding actions:   0%|                                    | 0/4 [00:00<?, ?it/s]\u001b[A\n",
      "Action: age:   0%|                                        | 0/4 [00:00<?, ?it/s]\u001b[A\n",
      "Action: age:  25%|████████                        | 1/4 [00:00<00:00,  5.08it/s]\u001b[A\n",
      "Action: gender:  25%|███████▎                     | 1/4 [00:00<00:00,  5.08it/s]\u001b[A\n",
      "Action: gender:  50%|██████████████▌              | 2/4 [00:00<00:00,  5.17it/s]\u001b[A\n",
      "Action: race:  50%|███████████████▌               | 2/4 [00:00<00:00,  5.17it/s]\u001b[A\n",
      "Action: race:  75%|███████████████████████▎       | 3/4 [00:00<00:00,  5.14it/s]\u001b[A\n",
      "Action: emotion: 100%|████████████████████████████| 4/4 [00:00<00:00,  6.68it/s]\u001b[A\n",
      "393it [04:14,  2.28it/s]"
     ]
    },
    {
     "name": "stdout",
     "output_type": "stream",
     "text": [
      "/Users/jessecoulter/Downloads/FIN377/CEOPersonalities-/matched_pictures/Thomas E. Richards/2013\n"
     ]
    },
    {
     "name": "stderr",
     "output_type": "stream",
     "text": [
      "\n",
      "Finding actions:   0%|                                    | 0/4 [00:00<?, ?it/s]\u001b[A\n",
      "Action: age:   0%|                                        | 0/4 [00:00<?, ?it/s]\u001b[A\n",
      "Action: age:  25%|████████                        | 1/4 [00:00<00:00,  5.09it/s]\u001b[A\n",
      "Action: gender:  25%|███████▎                     | 1/4 [00:00<00:00,  5.09it/s]\u001b[A\n",
      "Action: gender:  50%|██████████████▌              | 2/4 [00:00<00:00,  5.15it/s]\u001b[A\n",
      "Action: race:  50%|███████████████▌               | 2/4 [00:00<00:00,  5.15it/s]\u001b[A\n",
      "Action: race:  75%|███████████████████████▎       | 3/4 [00:00<00:00,  5.17it/s]\u001b[A\n",
      "Action: emotion: 100%|████████████████████████████| 4/4 [00:00<00:00,  6.72it/s]\u001b[A\n",
      "394it [04:15,  2.09it/s]"
     ]
    },
    {
     "name": "stdout",
     "output_type": "stream",
     "text": [
      "/Users/jessecoulter/Downloads/FIN377/CEOPersonalities-/matched_pictures/Thomas E. Richards/2014\n"
     ]
    },
    {
     "name": "stderr",
     "output_type": "stream",
     "text": [
      "\n",
      "Finding actions:   0%|                                    | 0/4 [00:00<?, ?it/s]\u001b[A\n",
      "Action: age:   0%|                                        | 0/4 [00:00<?, ?it/s]\u001b[A\n",
      "Action: age:  25%|████████                        | 1/4 [00:00<00:00,  5.23it/s]\u001b[A\n",
      "Action: gender:  25%|███████▎                     | 1/4 [00:00<00:00,  5.23it/s]\u001b[A\n",
      "Action: gender:  50%|██████████████▌              | 2/4 [00:00<00:00,  5.32it/s]\u001b[A\n",
      "Action: race:  50%|███████████████▌               | 2/4 [00:00<00:00,  5.32it/s]\u001b[A\n",
      "Action: race:  75%|███████████████████████▎       | 3/4 [00:00<00:00,  5.25it/s]\u001b[A\n",
      "Action: emotion: 100%|████████████████████████████| 4/4 [00:00<00:00,  6.84it/s]\u001b[A\n",
      "395it [04:16,  1.96it/s]"
     ]
    },
    {
     "name": "stdout",
     "output_type": "stream",
     "text": [
      "/Users/jessecoulter/Downloads/FIN377/CEOPersonalities-/matched_pictures/Thomas E. Richards/2015\n"
     ]
    },
    {
     "name": "stderr",
     "output_type": "stream",
     "text": [
      "\n",
      "Finding actions:   0%|                                    | 0/4 [00:00<?, ?it/s]\u001b[A\n",
      "Action: age:   0%|                                        | 0/4 [00:00<?, ?it/s]\u001b[A\n",
      "Action: age:  25%|████████                        | 1/4 [00:00<00:00,  5.08it/s]\u001b[A\n",
      "Action: gender:  25%|███████▎                     | 1/4 [00:00<00:00,  5.08it/s]\u001b[A\n",
      "Action: gender:  50%|██████████████▌              | 2/4 [00:00<00:00,  5.15it/s]\u001b[A\n",
      "Action: race:  50%|███████████████▌               | 2/4 [00:00<00:00,  5.15it/s]\u001b[A\n",
      "Action: race:  75%|███████████████████████▎       | 3/4 [00:00<00:00,  5.19it/s]\u001b[A\n",
      "Action: emotion: 100%|████████████████████████████| 4/4 [00:00<00:00,  6.73it/s]\u001b[A\n",
      "396it [04:16,  1.86it/s]"
     ]
    },
    {
     "name": "stdout",
     "output_type": "stream",
     "text": [
      "/Users/jessecoulter/Downloads/FIN377/CEOPersonalities-/matched_pictures/Thomas E. Richards/2016\n"
     ]
    },
    {
     "name": "stderr",
     "output_type": "stream",
     "text": [
      "\n",
      "Finding actions:   0%|                                    | 0/4 [00:00<?, ?it/s]\u001b[A\n",
      "Action: age:   0%|                                        | 0/4 [00:00<?, ?it/s]\u001b[A\n",
      "Action: age:  25%|████████                        | 1/4 [00:00<00:00,  5.17it/s]\u001b[A\n",
      "Action: gender:  25%|███████▎                     | 1/4 [00:00<00:00,  5.17it/s]\u001b[A\n",
      "Action: gender:  50%|██████████████▌              | 2/4 [00:00<00:00,  5.15it/s]\u001b[A\n",
      "Action: race:  50%|███████████████▌               | 2/4 [00:00<00:00,  5.15it/s]\u001b[A\n",
      "Action: race:  75%|███████████████████████▎       | 3/4 [00:00<00:00,  5.14it/s]\u001b[A\n",
      "Action: emotion: 100%|████████████████████████████| 4/4 [00:00<00:00,  6.69it/s]\u001b[A\n",
      "397it [04:17,  1.78it/s]"
     ]
    },
    {
     "name": "stdout",
     "output_type": "stream",
     "text": [
      "/Users/jessecoulter/Downloads/FIN377/CEOPersonalities-/matched_pictures/Christine A. Leahy/2017\n"
     ]
    },
    {
     "name": "stderr",
     "output_type": "stream",
     "text": [
      "\n",
      "Finding actions:   0%|                                    | 0/4 [00:00<?, ?it/s]\u001b[A\n",
      "Action: age:   0%|                                        | 0/4 [00:00<?, ?it/s]\u001b[A\n",
      "Action: age:  25%|████████                        | 1/4 [00:00<00:00,  5.19it/s]\u001b[A\n",
      "Action: gender:  25%|███████▎                     | 1/4 [00:00<00:00,  5.19it/s]\u001b[A\n",
      "Action: gender:  50%|██████████████▌              | 2/4 [00:00<00:00,  5.10it/s]\u001b[A\n",
      "Action: race:  50%|███████████████▌               | 2/4 [00:00<00:00,  5.10it/s]\u001b[A\n",
      "Action: race:  75%|███████████████████████▎       | 3/4 [00:00<00:00,  5.09it/s]\u001b[A\n",
      "Action: emotion: 100%|████████████████████████████| 4/4 [00:00<00:00,  6.65it/s]\u001b[A\n",
      "398it [04:18,  1.73it/s]"
     ]
    },
    {
     "name": "stdout",
     "output_type": "stream",
     "text": [
      "/Users/jessecoulter/Downloads/FIN377/CEOPersonalities-/matched_pictures/Christine A. Leahy/2018\n"
     ]
    },
    {
     "name": "stderr",
     "output_type": "stream",
     "text": [
      "\n",
      "Finding actions:   0%|                                    | 0/4 [00:00<?, ?it/s]\u001b[A\n",
      "Action: age:   0%|                                        | 0/4 [00:00<?, ?it/s]\u001b[A\n",
      "Action: age:  25%|████████                        | 1/4 [00:00<00:00,  5.08it/s]\u001b[A\n",
      "Action: gender:  25%|███████▎                     | 1/4 [00:00<00:00,  5.08it/s]\u001b[A\n",
      "Action: gender:  50%|██████████████▌              | 2/4 [00:00<00:00,  5.10it/s]\u001b[A\n",
      "Action: race:  50%|███████████████▌               | 2/4 [00:00<00:00,  5.10it/s]\u001b[A\n",
      "Action: race:  75%|███████████████████████▎       | 3/4 [00:00<00:00,  5.17it/s]\u001b[A\n",
      "Action: emotion: 100%|████████████████████████████| 4/4 [00:00<00:00,  6.71it/s]\u001b[A\n",
      "399it [04:18,  1.68it/s]"
     ]
    },
    {
     "name": "stdout",
     "output_type": "stream",
     "text": [
      "/Users/jessecoulter/Downloads/FIN377/CEOPersonalities-/matched_pictures/Christine A. Leahy/2019\n"
     ]
    },
    {
     "name": "stderr",
     "output_type": "stream",
     "text": [
      "\n",
      "Finding actions:   0%|                                    | 0/4 [00:00<?, ?it/s]\u001b[A\n",
      "Action: age:   0%|                                        | 0/4 [00:00<?, ?it/s]\u001b[A\n",
      "Action: age:  25%|████████                        | 1/4 [00:00<00:00,  5.11it/s]\u001b[A\n",
      "Action: gender:  25%|███████▎                     | 1/4 [00:00<00:00,  5.11it/s]\u001b[A\n",
      "Action: gender:  50%|██████████████▌              | 2/4 [00:00<00:00,  5.13it/s]\u001b[A\n",
      "Action: race:  50%|███████████████▌               | 2/4 [00:00<00:00,  5.13it/s]\u001b[A\n",
      "Action: race:  75%|███████████████████████▎       | 3/4 [00:00<00:00,  5.20it/s]\u001b[A\n",
      "Action: emotion: 100%|████████████████████████████| 4/4 [00:00<00:00,  6.74it/s]\u001b[A\n",
      "400it [04:19,  1.65it/s]"
     ]
    },
    {
     "name": "stdout",
     "output_type": "stream",
     "text": [
      "/Users/jessecoulter/Downloads/FIN377/CEOPersonalities-/matched_pictures/James Cashman/2010\n",
      "Folder not found: /Users/jessecoulter/Downloads/FIN377/CEOPersonalities-/matched_pictures/James Cashman/2010\n",
      "/Users/jessecoulter/Downloads/FIN377/CEOPersonalities-/matched_pictures/James Cashman/2011\n"
     ]
    },
    {
     "name": "stderr",
     "output_type": "stream",
     "text": [
      "\n",
      "Finding actions:   0%|                                    | 0/4 [00:00<?, ?it/s]\u001b[A\n",
      "Action: age:   0%|                                        | 0/4 [00:00<?, ?it/s]\u001b[A\n",
      "Action: age:  25%|████████                        | 1/4 [00:00<00:00,  5.20it/s]\u001b[A\n",
      "Action: gender:  25%|███████▎                     | 1/4 [00:00<00:00,  5.20it/s]\u001b[A\n",
      "Action: gender:  50%|██████████████▌              | 2/4 [00:00<00:00,  5.19it/s]\u001b[A\n",
      "Action: race:  50%|███████████████▌               | 2/4 [00:00<00:00,  5.19it/s]\u001b[A\n",
      "Action: race:  75%|███████████████████████▎       | 3/4 [00:00<00:00,  5.26it/s]\u001b[A\n",
      "Action: emotion: 100%|████████████████████████████| 4/4 [00:00<00:00,  6.82it/s]\u001b[A\n",
      "402it [04:19,  2.09it/s]"
     ]
    },
    {
     "name": "stdout",
     "output_type": "stream",
     "text": [
      "/Users/jessecoulter/Downloads/FIN377/CEOPersonalities-/matched_pictures/James Cashman/2012\n"
     ]
    },
    {
     "name": "stderr",
     "output_type": "stream",
     "text": [
      "\n",
      "Finding actions:   0%|                                    | 0/4 [00:00<?, ?it/s]\u001b[A\n",
      "Action: age:   0%|                                        | 0/4 [00:00<?, ?it/s]\u001b[A\n",
      "Action: age:  25%|████████                        | 1/4 [00:00<00:00,  5.16it/s]\u001b[A\n",
      "Action: gender:  25%|███████▎                     | 1/4 [00:00<00:00,  5.16it/s]\u001b[A\n",
      "Action: gender:  50%|██████████████▌              | 2/4 [00:00<00:00,  5.09it/s]\u001b[A\n",
      "Action: race:  50%|███████████████▌               | 2/4 [00:00<00:00,  5.09it/s]\u001b[A\n",
      "Action: race:  75%|███████████████████████▎       | 3/4 [00:00<00:00,  5.17it/s]\u001b[A\n",
      "Action: emotion: 100%|████████████████████████████| 4/4 [00:00<00:00,  6.71it/s]\u001b[A\n",
      "403it [04:20,  1.93it/s]"
     ]
    },
    {
     "name": "stdout",
     "output_type": "stream",
     "text": [
      "/Users/jessecoulter/Downloads/FIN377/CEOPersonalities-/matched_pictures/James Cashman/2013\n",
      "Folder not found: /Users/jessecoulter/Downloads/FIN377/CEOPersonalities-/matched_pictures/James Cashman/2013\n",
      "/Users/jessecoulter/Downloads/FIN377/CEOPersonalities-/matched_pictures/James Cashman/2014\n"
     ]
    },
    {
     "name": "stderr",
     "output_type": "stream",
     "text": [
      "\n",
      "Finding actions:   0%|                                    | 0/4 [00:00<?, ?it/s]\u001b[A\n",
      "Action: age:   0%|                                        | 0/4 [00:00<?, ?it/s]\u001b[A\n",
      "Action: age:  25%|████████                        | 1/4 [00:00<00:00,  5.09it/s]\u001b[A\n",
      "Action: gender:  25%|███████▎                     | 1/4 [00:00<00:00,  5.09it/s]\u001b[A\n",
      "Action: gender:  50%|██████████████▌              | 2/4 [00:00<00:00,  5.26it/s]\u001b[A\n",
      "Action: race:  50%|███████████████▌               | 2/4 [00:00<00:00,  5.26it/s]\u001b[A\n",
      "Action: race:  75%|███████████████████████▎       | 3/4 [00:00<00:00,  5.24it/s]\u001b[A\n",
      "Action: emotion: 100%|████████████████████████████| 4/4 [00:00<00:00,  6.80it/s]\u001b[A\n",
      "405it [04:21,  2.23it/s]"
     ]
    },
    {
     "name": "stdout",
     "output_type": "stream",
     "text": [
      "/Users/jessecoulter/Downloads/FIN377/CEOPersonalities-/matched_pictures/James Cashman/2015\n"
     ]
    },
    {
     "name": "stderr",
     "output_type": "stream",
     "text": [
      "\n",
      "Finding actions:   0%|                                    | 0/4 [00:00<?, ?it/s]\u001b[A\n",
      "Action: age:   0%|                                        | 0/4 [00:00<?, ?it/s]\u001b[A\n",
      "Action: age:  25%|████████                        | 1/4 [00:00<00:00,  5.04it/s]\u001b[A\n",
      "Action: gender:  25%|███████▎                     | 1/4 [00:00<00:00,  5.04it/s]\u001b[A\n",
      "Action: gender:  50%|██████████████▌              | 2/4 [00:00<00:00,  5.16it/s]\u001b[A\n",
      "Action: race:  50%|███████████████▌               | 2/4 [00:00<00:00,  5.16it/s]\u001b[A\n",
      "Action: race:  75%|███████████████████████▎       | 3/4 [00:00<00:00,  5.15it/s]\u001b[A\n",
      "Action: emotion: 100%|████████████████████████████| 4/4 [00:00<00:00,  6.69it/s]\u001b[A\n",
      "406it [04:21,  2.02it/s]"
     ]
    },
    {
     "name": "stdout",
     "output_type": "stream",
     "text": [
      "/Users/jessecoulter/Downloads/FIN377/CEOPersonalities-/matched_pictures/Ajei Gopal/2016\n"
     ]
    },
    {
     "name": "stderr",
     "output_type": "stream",
     "text": [
      "\n",
      "Finding actions:   0%|                                    | 0/4 [00:00<?, ?it/s]\u001b[A\n",
      "Action: age:   0%|                                        | 0/4 [00:00<?, ?it/s]\u001b[A\n",
      "Action: age:  25%|████████                        | 1/4 [00:00<00:00,  5.19it/s]\u001b[A\n",
      "Action: gender:  25%|███████▎                     | 1/4 [00:00<00:00,  5.19it/s]\u001b[A\n",
      "Action: gender:  50%|██████████████▌              | 2/4 [00:00<00:00,  5.14it/s]\u001b[A\n",
      "Action: race:  50%|███████████████▌               | 2/4 [00:00<00:00,  5.14it/s]\u001b[A\n",
      "Action: race:  75%|███████████████████████▎       | 3/4 [00:00<00:00,  5.16it/s]\u001b[A\n",
      "Action: emotion: 100%|████████████████████████████| 4/4 [00:00<00:00,  6.72it/s]\u001b[A\n",
      "407it [04:22,  1.88it/s]"
     ]
    },
    {
     "name": "stdout",
     "output_type": "stream",
     "text": [
      "/Users/jessecoulter/Downloads/FIN377/CEOPersonalities-/matched_pictures/Ajei Gopal/2017\n",
      "No image found in /Users/jessecoulter/Downloads/FIN377/CEOPersonalities-/matched_pictures/Ajei Gopal/2017\n",
      "/Users/jessecoulter/Downloads/FIN377/CEOPersonalities-/matched_pictures/Ajei Gopal/2018\n"
     ]
    },
    {
     "name": "stderr",
     "output_type": "stream",
     "text": [
      "\n",
      "Finding actions:   0%|                                    | 0/4 [00:00<?, ?it/s]\u001b[A\n",
      "Action: age:   0%|                                        | 0/4 [00:00<?, ?it/s]\u001b[A\n",
      "Action: age:  25%|████████                        | 1/4 [00:00<00:00,  5.14it/s]\u001b[A\n",
      "Action: gender:  25%|███████▎                     | 1/4 [00:00<00:00,  5.14it/s]\u001b[A\n",
      "Action: gender:  50%|██████████████▌              | 2/4 [00:00<00:00,  5.17it/s]\u001b[A\n",
      "Action: race:  50%|███████████████▌               | 2/4 [00:00<00:00,  5.17it/s]\u001b[A\n",
      "Action: race:  75%|███████████████████████▎       | 3/4 [00:00<00:00,  5.17it/s]\u001b[A\n",
      "Action: emotion: 100%|████████████████████████████| 4/4 [00:00<00:00,  6.73it/s]\u001b[A\n",
      "409it [04:23,  2.25it/s]"
     ]
    },
    {
     "name": "stdout",
     "output_type": "stream",
     "text": [
      "/Users/jessecoulter/Downloads/FIN377/CEOPersonalities-/matched_pictures/Ajei Gopal/2019\n"
     ]
    },
    {
     "name": "stderr",
     "output_type": "stream",
     "text": [
      "\n",
      "Finding actions:   0%|                                    | 0/4 [00:00<?, ?it/s]\u001b[A\n",
      "Action: age:   0%|                                        | 0/4 [00:00<?, ?it/s]\u001b[A\n",
      "Action: age:  25%|████████                        | 1/4 [00:00<00:00,  5.57it/s]\u001b[A\n",
      "Action: gender:  25%|███████▎                     | 1/4 [00:00<00:00,  5.57it/s]\u001b[A\n",
      "Action: gender:  50%|██████████████▌              | 2/4 [00:00<00:00,  5.28it/s]\u001b[A\n",
      "Action: race:  50%|███████████████▌               | 2/4 [00:00<00:00,  5.28it/s]\u001b[A\n",
      "Action: race:  75%|███████████████████████▎       | 3/4 [00:00<00:00,  5.28it/s]\u001b[A\n",
      "Action: emotion: 100%|████████████████████████████| 4/4 [00:00<00:00,  6.91it/s]\u001b[A\n",
      "410it [04:24,  1.72it/s]"
     ]
    },
    {
     "name": "stdout",
     "output_type": "stream",
     "text": [
      "/Users/jessecoulter/Downloads/FIN377/CEOPersonalities-/matched_pictures/Martin H. Loeffler/2010\n"
     ]
    },
    {
     "name": "stderr",
     "output_type": "stream",
     "text": [
      "\n",
      "Finding actions:   0%|                                    | 0/4 [00:00<?, ?it/s]\u001b[A\n",
      "Action: age:   0%|                                        | 0/4 [00:00<?, ?it/s]\u001b[A\n",
      "Action: age:  25%|████████                        | 1/4 [00:00<00:00,  5.00it/s]\u001b[A\n",
      "Action: gender:  25%|███████▎                     | 1/4 [00:00<00:00,  5.00it/s]\u001b[A\n",
      "Action: gender:  50%|██████████████▌              | 2/4 [00:00<00:00,  5.20it/s]\u001b[A\n",
      "Action: race:  50%|███████████████▌               | 2/4 [00:00<00:00,  5.20it/s]\u001b[A\n",
      "Action: race:  75%|███████████████████████▎       | 3/4 [00:00<00:00,  5.18it/s]\u001b[A\n",
      "Action: emotion: 100%|████████████████████████████| 4/4 [00:00<00:00,  6.72it/s]\u001b[A\n",
      "411it [04:24,  1.69it/s]"
     ]
    },
    {
     "name": "stdout",
     "output_type": "stream",
     "text": [
      "/Users/jessecoulter/Downloads/FIN377/CEOPersonalities-/matched_pictures/Martin H. Loeffler/2011\n"
     ]
    },
    {
     "name": "stderr",
     "output_type": "stream",
     "text": [
      "\n",
      "Finding actions:   0%|                                    | 0/4 [00:00<?, ?it/s]\u001b[A\n",
      "Action: age:   0%|                                        | 0/4 [00:00<?, ?it/s]\u001b[A\n",
      "Action: age:  25%|████████                        | 1/4 [00:00<00:00,  5.23it/s]\u001b[A\n",
      "Action: gender:  25%|███████▎                     | 1/4 [00:00<00:00,  5.23it/s]\u001b[A\n",
      "Action: gender:  50%|██████████████▌              | 2/4 [00:00<00:00,  5.27it/s]\u001b[A\n",
      "Action: race:  50%|███████████████▌               | 2/4 [00:00<00:00,  5.27it/s]\u001b[A\n",
      "Action: race:  75%|███████████████████████▎       | 3/4 [00:00<00:00,  5.21it/s]\u001b[A\n",
      "Action: emotion: 100%|████████████████████████████| 4/4 [00:00<00:00,  6.79it/s]\u001b[A\n",
      "412it [04:25,  1.67it/s]"
     ]
    },
    {
     "name": "stdout",
     "output_type": "stream",
     "text": [
      "/Users/jessecoulter/Downloads/FIN377/CEOPersonalities-/matched_pictures/R. Adam Norwitt/2012\n"
     ]
    },
    {
     "name": "stderr",
     "output_type": "stream",
     "text": [
      "\n",
      "Finding actions:   0%|                                    | 0/4 [00:00<?, ?it/s]\u001b[A\n",
      "Action: age:   0%|                                        | 0/4 [00:00<?, ?it/s]\u001b[A\n",
      "Action: age:  25%|████████                        | 1/4 [00:00<00:00,  5.10it/s]\u001b[A\n",
      "Action: gender:  25%|███████▎                     | 1/4 [00:00<00:00,  5.10it/s]\u001b[A\n",
      "Action: gender:  50%|██████████████▌              | 2/4 [00:00<00:00,  5.14it/s]\u001b[A\n",
      "Action: race:  50%|███████████████▌               | 2/4 [00:00<00:00,  5.14it/s]\u001b[A\n",
      "Action: race:  75%|███████████████████████▎       | 3/4 [00:00<00:00,  5.18it/s]\u001b[A\n",
      "Action: emotion: 100%|████████████████████████████| 4/4 [00:00<00:00,  6.73it/s]\u001b[A\n",
      "413it [04:26,  1.64it/s]"
     ]
    },
    {
     "name": "stdout",
     "output_type": "stream",
     "text": [
      "/Users/jessecoulter/Downloads/FIN377/CEOPersonalities-/matched_pictures/R. Adam Norwitt/2013\n"
     ]
    },
    {
     "name": "stderr",
     "output_type": "stream",
     "text": [
      "\n",
      "Finding actions:   0%|                                    | 0/4 [00:00<?, ?it/s]\u001b[A\n",
      "Action: age:   0%|                                        | 0/4 [00:00<?, ?it/s]\u001b[A\n",
      "Action: age:  25%|████████                        | 1/4 [00:00<00:00,  5.12it/s]\u001b[A\n",
      "Action: gender:  25%|███████▎                     | 1/4 [00:00<00:00,  5.12it/s]\u001b[A\n",
      "Action: gender:  50%|██████████████▌              | 2/4 [00:00<00:00,  5.25it/s]\u001b[A\n",
      "Action: race:  50%|███████████████▌               | 2/4 [00:00<00:00,  5.25it/s]\u001b[A\n",
      "Action: race:  75%|███████████████████████▎       | 3/4 [00:00<00:00,  5.24it/s]\u001b[A\n",
      "Action: emotion: 100%|████████████████████████████| 4/4 [00:00<00:00,  6.80it/s]\u001b[A\n",
      "414it [04:26,  1.64it/s]"
     ]
    },
    {
     "name": "stdout",
     "output_type": "stream",
     "text": [
      "/Users/jessecoulter/Downloads/FIN377/CEOPersonalities-/matched_pictures/R. Adam Norwitt/2014\n"
     ]
    },
    {
     "name": "stderr",
     "output_type": "stream",
     "text": [
      "\n",
      "Finding actions:   0%|                                    | 0/4 [00:00<?, ?it/s]\u001b[A\n",
      "Action: age:   0%|                                        | 0/4 [00:00<?, ?it/s]\u001b[A\n",
      "Action: age:  25%|████████                        | 1/4 [00:00<00:00,  5.21it/s]\u001b[A\n",
      "Action: gender:  25%|███████▎                     | 1/4 [00:00<00:00,  5.21it/s]\u001b[A\n",
      "Action: gender:  50%|██████████████▌              | 2/4 [00:00<00:00,  5.29it/s]\u001b[A\n",
      "Action: race:  50%|███████████████▌               | 2/4 [00:00<00:00,  5.29it/s]\u001b[A\n",
      "Action: race:  75%|███████████████████████▎       | 3/4 [00:00<00:00,  5.21it/s]\u001b[A\n",
      "Action: emotion: 100%|████████████████████████████| 4/4 [00:00<00:00,  6.79it/s]\u001b[A\n",
      "415it [04:27,  1.63it/s]"
     ]
    },
    {
     "name": "stdout",
     "output_type": "stream",
     "text": [
      "/Users/jessecoulter/Downloads/FIN377/CEOPersonalities-/matched_pictures/R. Adam Norwitt/2015\n"
     ]
    },
    {
     "name": "stderr",
     "output_type": "stream",
     "text": [
      "\n",
      "Finding actions:   0%|                                    | 0/4 [00:00<?, ?it/s]\u001b[A\n",
      "Action: age:   0%|                                        | 0/4 [00:00<?, ?it/s]\u001b[A\n",
      "Action: age:  25%|████████                        | 1/4 [00:00<00:00,  5.13it/s]\u001b[A\n",
      "Action: gender:  25%|███████▎                     | 1/4 [00:00<00:00,  5.13it/s]\u001b[A\n",
      "Action: gender:  50%|██████████████▌              | 2/4 [00:00<00:00,  5.20it/s]\u001b[A\n",
      "Action: race:  50%|███████████████▌               | 2/4 [00:00<00:00,  5.20it/s]\u001b[A\n",
      "Action: race:  75%|███████████████████████▎       | 3/4 [00:00<00:00,  5.02it/s]\u001b[A\n",
      "Action: emotion: 100%|████████████████████████████| 4/4 [00:00<00:00,  6.58it/s]\u001b[A\n",
      "416it [04:28,  1.60it/s]"
     ]
    },
    {
     "name": "stdout",
     "output_type": "stream",
     "text": [
      "/Users/jessecoulter/Downloads/FIN377/CEOPersonalities-/matched_pictures/R. Adam Norwitt/2016\n"
     ]
    },
    {
     "name": "stderr",
     "output_type": "stream",
     "text": [
      "\n",
      "Finding actions:   0%|                                    | 0/4 [00:00<?, ?it/s]\u001b[A\n",
      "Action: age:   0%|                                        | 0/4 [00:00<?, ?it/s]\u001b[A\n",
      "Action: age:  25%|████████                        | 1/4 [00:00<00:00,  5.15it/s]\u001b[A\n",
      "Action: gender:  25%|███████▎                     | 1/4 [00:00<00:00,  5.15it/s]\u001b[A\n",
      "Action: gender:  50%|██████████████▌              | 2/4 [00:00<00:00,  5.14it/s]\u001b[A\n",
      "Action: race:  50%|███████████████▌               | 2/4 [00:00<00:00,  5.14it/s]\u001b[A\n",
      "Action: race:  75%|███████████████████████▎       | 3/4 [00:00<00:00,  5.19it/s]\u001b[A\n",
      "Action: emotion: 100%|████████████████████████████| 4/4 [00:00<00:00,  6.74it/s]\u001b[A\n",
      "417it [04:28,  1.60it/s]"
     ]
    },
    {
     "name": "stdout",
     "output_type": "stream",
     "text": [
      "/Users/jessecoulter/Downloads/FIN377/CEOPersonalities-/matched_pictures/R. Adam Norwitt/2017\n"
     ]
    },
    {
     "name": "stderr",
     "output_type": "stream",
     "text": [
      "\n",
      "Finding actions:   0%|                                    | 0/4 [00:00<?, ?it/s]\u001b[A\n",
      "Action: age:   0%|                                        | 0/4 [00:00<?, ?it/s]\u001b[A\n",
      "Action: age:  25%|████████                        | 1/4 [00:00<00:00,  5.14it/s]\u001b[A\n",
      "Action: gender:  25%|███████▎                     | 1/4 [00:00<00:00,  5.14it/s]\u001b[A\n",
      "Action: gender:  50%|██████████████▌              | 2/4 [00:00<00:00,  5.04it/s]\u001b[A\n",
      "Action: race:  50%|███████████████▌               | 2/4 [00:00<00:00,  5.04it/s]\u001b[A\n",
      "Action: race:  75%|███████████████████████▎       | 3/4 [00:00<00:00,  5.11it/s]\u001b[A\n",
      "Action: emotion: 100%|████████████████████████████| 4/4 [00:00<00:00,  6.65it/s]\u001b[A\n",
      "418it [04:29,  1.59it/s]"
     ]
    },
    {
     "name": "stdout",
     "output_type": "stream",
     "text": [
      "/Users/jessecoulter/Downloads/FIN377/CEOPersonalities-/matched_pictures/R. Adam Norwitt/2018\n"
     ]
    },
    {
     "name": "stderr",
     "output_type": "stream",
     "text": [
      "\n",
      "Finding actions:   0%|                                    | 0/4 [00:00<?, ?it/s]\u001b[A\n",
      "Action: age:   0%|                                        | 0/4 [00:00<?, ?it/s]\u001b[A\n",
      "Action: age:  25%|████████                        | 1/4 [00:00<00:00,  5.10it/s]\u001b[A\n",
      "Action: gender:  25%|███████▎                     | 1/4 [00:00<00:00,  5.10it/s]\u001b[A\n",
      "Action: gender:  50%|██████████████▌              | 2/4 [00:00<00:00,  5.18it/s]\u001b[A\n",
      "Action: race:  50%|███████████████▌               | 2/4 [00:00<00:00,  5.18it/s]\u001b[A\n",
      "Action: race:  75%|███████████████████████▎       | 3/4 [00:00<00:00,  5.20it/s]\u001b[A\n",
      "Action: emotion: 100%|████████████████████████████| 4/4 [00:00<00:00,  6.75it/s]\u001b[A\n",
      "419it [04:29,  1.59it/s]"
     ]
    },
    {
     "name": "stdout",
     "output_type": "stream",
     "text": [
      "/Users/jessecoulter/Downloads/FIN377/CEOPersonalities-/matched_pictures/R. Adam Norwitt/2019\n"
     ]
    },
    {
     "name": "stderr",
     "output_type": "stream",
     "text": [
      "\n",
      "Finding actions:   0%|                                    | 0/4 [00:00<?, ?it/s]\u001b[A\n",
      "Action: age:   0%|                                        | 0/4 [00:00<?, ?it/s]\u001b[A\n",
      "Action: age:  25%|████████                        | 1/4 [00:00<00:00,  5.08it/s]\u001b[A\n",
      "Action: gender:  25%|███████▎                     | 1/4 [00:00<00:00,  5.08it/s]\u001b[A\n",
      "Action: gender:  50%|██████████████▌              | 2/4 [00:00<00:00,  5.07it/s]\u001b[A\n",
      "Action: race:  50%|███████████████▌               | 2/4 [00:00<00:00,  5.07it/s]\u001b[A\n",
      "Action: race:  75%|███████████████████████▎       | 3/4 [00:00<00:00,  5.13it/s]\u001b[A\n",
      "Action: emotion: 100%|████████████████████████████| 4/4 [00:00<00:00,  6.66it/s]\u001b[A\n",
      "420it [04:30,  1.59it/s]"
     ]
    },
    {
     "name": "stdout",
     "output_type": "stream",
     "text": [
      "/Users/jessecoulter/Downloads/FIN377/CEOPersonalities-/matched_pictures/Keith D. Jackson/2010\n",
      "Error analyzing /Users/jessecoulter/Downloads/FIN377/CEOPersonalities-/matched_pictures/Keith D. Jackson/2010/pic3.jpg: Face could not be detected in /Users/jessecoulter/Downloads/FIN377/CEOPersonalities-/matched_pictures/Keith D. Jackson/2010/pic3.jpg.Please confirm that the picture is a face photo or consider to set enforce_detection param to False.\n",
      "/Users/jessecoulter/Downloads/FIN377/CEOPersonalities-/matched_pictures/Keith D. Jackson/2011\n"
     ]
    },
    {
     "name": "stderr",
     "output_type": "stream",
     "text": [
      "\n",
      "Finding actions:   0%|                                    | 0/4 [00:00<?, ?it/s]\u001b[A\n",
      "Action: age:   0%|                                        | 0/4 [00:00<?, ?it/s]\u001b[A\n",
      "Action: age:  25%|████████                        | 1/4 [00:00<00:00,  5.08it/s]\u001b[A\n",
      "Action: gender:  25%|███████▎                     | 1/4 [00:00<00:00,  5.08it/s]\u001b[A\n",
      "Action: gender:  50%|██████████████▌              | 2/4 [00:00<00:00,  5.11it/s]\u001b[A\n",
      "Action: race:  50%|███████████████▌               | 2/4 [00:00<00:00,  5.11it/s]\u001b[A\n",
      "Action: race:  75%|███████████████████████▎       | 3/4 [00:00<00:00,  5.17it/s]\u001b[A\n",
      "Action: emotion: 100%|████████████████████████████| 4/4 [00:00<00:00,  6.71it/s]\u001b[A\n",
      "422it [04:31,  2.05it/s]"
     ]
    },
    {
     "name": "stdout",
     "output_type": "stream",
     "text": [
      "/Users/jessecoulter/Downloads/FIN377/CEOPersonalities-/matched_pictures/Keith D. Jackson/2012\n"
     ]
    },
    {
     "name": "stderr",
     "output_type": "stream",
     "text": [
      "\n",
      "Finding actions:   0%|                                    | 0/4 [00:00<?, ?it/s]\u001b[A\n",
      "Action: age:   0%|                                        | 0/4 [00:00<?, ?it/s]\u001b[A\n",
      "Action: age:  25%|████████                        | 1/4 [00:00<00:00,  4.68it/s]\u001b[A\n",
      "Action: gender:  25%|███████▎                     | 1/4 [00:00<00:00,  4.68it/s]\u001b[A\n",
      "Action: gender:  50%|██████████████▌              | 2/4 [00:00<00:00,  4.95it/s]\u001b[A\n",
      "Action: race:  50%|███████████████▌               | 2/4 [00:00<00:00,  4.95it/s]\u001b[A\n",
      "Action: race:  75%|███████████████████████▎       | 3/4 [00:00<00:00,  5.11it/s]\u001b[A\n",
      "Action: emotion: 100%|████████████████████████████| 4/4 [00:00<00:00,  6.56it/s]\u001b[A\n",
      "423it [04:31,  1.91it/s]"
     ]
    },
    {
     "name": "stdout",
     "output_type": "stream",
     "text": [
      "/Users/jessecoulter/Downloads/FIN377/CEOPersonalities-/matched_pictures/Keith D. Jackson/2013\n"
     ]
    },
    {
     "name": "stderr",
     "output_type": "stream",
     "text": [
      "\n",
      "Finding actions:   0%|                                    | 0/4 [00:00<?, ?it/s]\u001b[A\n",
      "Action: age:   0%|                                        | 0/4 [00:00<?, ?it/s]\u001b[A\n",
      "Action: age:  25%|████████                        | 1/4 [00:00<00:00,  5.13it/s]\u001b[A\n",
      "Action: gender:  25%|███████▎                     | 1/4 [00:00<00:00,  5.13it/s]\u001b[A\n",
      "Action: gender:  50%|██████████████▌              | 2/4 [00:00<00:00,  5.14it/s]\u001b[A\n",
      "Action: race:  50%|███████████████▌               | 2/4 [00:00<00:00,  5.14it/s]\u001b[A\n",
      "Action: race:  75%|███████████████████████▎       | 3/4 [00:00<00:00,  5.17it/s]\u001b[A\n",
      "Action: emotion: 100%|████████████████████████████| 4/4 [00:00<00:00,  6.72it/s]\u001b[A\n",
      "424it [04:32,  1.80it/s]"
     ]
    },
    {
     "name": "stdout",
     "output_type": "stream",
     "text": [
      "/Users/jessecoulter/Downloads/FIN377/CEOPersonalities-/matched_pictures/Keith D. Jackson/2014\n"
     ]
    },
    {
     "name": "stderr",
     "output_type": "stream",
     "text": [
      "\n",
      "Finding actions:   0%|                                    | 0/4 [00:00<?, ?it/s]\u001b[A\n",
      "Action: age:   0%|                                        | 0/4 [00:00<?, ?it/s]\u001b[A\n",
      "Action: age:  25%|████████                        | 1/4 [00:00<00:00,  5.18it/s]\u001b[A\n",
      "Action: gender:  25%|███████▎                     | 1/4 [00:00<00:00,  5.18it/s]\u001b[A\n",
      "Action: gender:  50%|██████████████▌              | 2/4 [00:00<00:00,  5.18it/s]\u001b[A\n",
      "Action: race:  50%|███████████████▌               | 2/4 [00:00<00:00,  5.18it/s]\u001b[A\n",
      "Action: race:  75%|███████████████████████▎       | 3/4 [00:00<00:00,  5.18it/s]\u001b[A\n",
      "Action: emotion: 100%|████████████████████████████| 4/4 [00:00<00:00,  6.74it/s]\u001b[A\n",
      "425it [04:33,  1.74it/s]"
     ]
    },
    {
     "name": "stdout",
     "output_type": "stream",
     "text": [
      "/Users/jessecoulter/Downloads/FIN377/CEOPersonalities-/matched_pictures/Keith D. Jackson/2015\n"
     ]
    },
    {
     "name": "stderr",
     "output_type": "stream",
     "text": [
      "\n",
      "Finding actions:   0%|                                    | 0/4 [00:00<?, ?it/s]\u001b[A\n",
      "Action: age:   0%|                                        | 0/4 [00:00<?, ?it/s]\u001b[A\n",
      "Action: age:  25%|████████                        | 1/4 [00:00<00:00,  5.13it/s]\u001b[A\n",
      "Action: gender:  25%|███████▎                     | 1/4 [00:00<00:00,  5.13it/s]\u001b[A\n",
      "Action: gender:  50%|██████████████▌              | 2/4 [00:00<00:00,  5.15it/s]\u001b[A\n",
      "Action: race:  50%|███████████████▌               | 2/4 [00:00<00:00,  5.15it/s]\u001b[A\n",
      "Action: race:  75%|███████████████████████▎       | 3/4 [00:00<00:00,  5.20it/s]\u001b[A\n",
      "Action: emotion: 100%|████████████████████████████| 4/4 [00:00<00:00,  6.75it/s]\u001b[A\n",
      "426it [04:33,  1.69it/s]"
     ]
    },
    {
     "name": "stdout",
     "output_type": "stream",
     "text": [
      "/Users/jessecoulter/Downloads/FIN377/CEOPersonalities-/matched_pictures/Keith D. Jackson/2016\n"
     ]
    },
    {
     "name": "stderr",
     "output_type": "stream",
     "text": [
      "\n",
      "Finding actions:   0%|                                    | 0/4 [00:00<?, ?it/s]\u001b[A\n",
      "Action: age:   0%|                                        | 0/4 [00:00<?, ?it/s]\u001b[A\n",
      "Action: age:  25%|████████                        | 1/4 [00:00<00:00,  5.05it/s]\u001b[A\n",
      "Action: gender:  25%|███████▎                     | 1/4 [00:00<00:00,  5.05it/s]\u001b[A\n",
      "Action: gender:  50%|██████████████▌              | 2/4 [00:00<00:00,  5.06it/s]\u001b[A\n",
      "Action: race:  50%|███████████████▌               | 2/4 [00:00<00:00,  5.06it/s]\u001b[A\n",
      "Action: race:  75%|███████████████████████▎       | 3/4 [00:00<00:00,  5.11it/s]\u001b[A\n",
      "Action: emotion: 100%|████████████████████████████| 4/4 [00:00<00:00,  6.63it/s]\u001b[A\n",
      "427it [04:34,  1.65it/s]"
     ]
    },
    {
     "name": "stdout",
     "output_type": "stream",
     "text": [
      "/Users/jessecoulter/Downloads/FIN377/CEOPersonalities-/matched_pictures/Keith D. Jackson/2017\n"
     ]
    },
    {
     "name": "stderr",
     "output_type": "stream",
     "text": [
      "\n",
      "Finding actions:   0%|                                    | 0/4 [00:00<?, ?it/s]\u001b[A\n",
      "Action: age:   0%|                                        | 0/4 [00:00<?, ?it/s]\u001b[A\n",
      "Action: age:  25%|████████                        | 1/4 [00:00<00:00,  5.13it/s]\u001b[A\n",
      "Action: gender:  25%|███████▎                     | 1/4 [00:00<00:00,  5.13it/s]\u001b[A\n",
      "Action: gender:  50%|██████████████▌              | 2/4 [00:00<00:00,  5.28it/s]\u001b[A\n",
      "Action: race:  50%|███████████████▌               | 2/4 [00:00<00:00,  5.28it/s]\u001b[A\n",
      "Action: race:  75%|███████████████████████▎       | 3/4 [00:00<00:00,  5.26it/s]\u001b[A\n",
      "Action: emotion: 100%|████████████████████████████| 4/4 [00:00<00:00,  6.83it/s]\u001b[A\n",
      "428it [04:34,  1.64it/s]"
     ]
    },
    {
     "name": "stdout",
     "output_type": "stream",
     "text": [
      "/Users/jessecoulter/Downloads/FIN377/CEOPersonalities-/matched_pictures/Keith D. Jackson/2018\n",
      "Error analyzing /Users/jessecoulter/Downloads/FIN377/CEOPersonalities-/matched_pictures/Keith D. Jackson/2018/pic1.jpg: Face could not be detected in /Users/jessecoulter/Downloads/FIN377/CEOPersonalities-/matched_pictures/Keith D. Jackson/2018/pic1.jpg.Please confirm that the picture is a face photo or consider to set enforce_detection param to False.\n",
      "/Users/jessecoulter/Downloads/FIN377/CEOPersonalities-/matched_pictures/Keith D. Jackson/2019\n"
     ]
    },
    {
     "name": "stderr",
     "output_type": "stream",
     "text": [
      "\n",
      "Finding actions:   0%|                                    | 0/4 [00:00<?, ?it/s]\u001b[A\n",
      "Action: age:   0%|                                        | 0/4 [00:00<?, ?it/s]\u001b[A\n",
      "Action: age:  25%|████████                        | 1/4 [00:00<00:00,  5.38it/s]\u001b[A\n",
      "Action: gender:  25%|███████▎                     | 1/4 [00:00<00:00,  5.38it/s]\u001b[A\n",
      "Action: gender:  50%|██████████████▌              | 2/4 [00:00<00:00,  5.24it/s]\u001b[A\n",
      "Action: race:  50%|███████████████▌               | 2/4 [00:00<00:00,  5.24it/s]\u001b[A\n",
      "Action: race:  75%|███████████████████████▎       | 3/4 [00:00<00:00,  5.26it/s]\u001b[A\n",
      "Action: emotion: 100%|████████████████████████████| 4/4 [00:00<00:00,  6.86it/s]\u001b[A\n",
      "430it [04:35,  2.02it/s]"
     ]
    },
    {
     "name": "stdout",
     "output_type": "stream",
     "text": [
      "/Users/jessecoulter/Downloads/FIN377/CEOPersonalities-/matched_pictures/Steve Sanghi/2010\n"
     ]
    },
    {
     "name": "stderr",
     "output_type": "stream",
     "text": [
      "\n",
      "Finding actions:   0%|                                    | 0/4 [00:00<?, ?it/s]\u001b[A\n",
      "Action: age:   0%|                                        | 0/4 [00:00<?, ?it/s]\u001b[A\n",
      "Action: age:  25%|████████                        | 1/4 [00:00<00:00,  5.03it/s]\u001b[A\n",
      "Action: gender:  25%|███████▎                     | 1/4 [00:00<00:00,  5.03it/s]\u001b[A\n",
      "Action: gender:  50%|██████████████▌              | 2/4 [00:00<00:00,  5.07it/s]\u001b[A\n",
      "Action: race:  50%|███████████████▌               | 2/4 [00:00<00:00,  5.07it/s]\u001b[A\n",
      "Action: race:  75%|███████████████████████▎       | 3/4 [00:00<00:00,  5.10it/s]\u001b[A\n",
      "Action: emotion: 100%|████████████████████████████| 4/4 [00:00<00:00,  6.63it/s]\u001b[A\n",
      "431it [04:36,  1.79it/s]"
     ]
    },
    {
     "name": "stdout",
     "output_type": "stream",
     "text": [
      "/Users/jessecoulter/Downloads/FIN377/CEOPersonalities-/matched_pictures/Steve Sanghi/2011\n"
     ]
    },
    {
     "name": "stderr",
     "output_type": "stream",
     "text": [
      "\n",
      "Finding actions:   0%|                                    | 0/4 [00:00<?, ?it/s]\u001b[A\n",
      "Action: age:   0%|                                        | 0/4 [00:00<?, ?it/s]\u001b[A\n",
      "Action: age:  25%|████████                        | 1/4 [00:00<00:00,  5.13it/s]\u001b[A\n",
      "Action: gender:  25%|███████▎                     | 1/4 [00:00<00:00,  5.13it/s]\u001b[A\n",
      "Action: gender:  50%|██████████████▌              | 2/4 [00:00<00:00,  5.14it/s]\u001b[A\n",
      "Action: race:  50%|███████████████▌               | 2/4 [00:00<00:00,  5.14it/s]\u001b[A\n",
      "Action: race:  75%|███████████████████████▎       | 3/4 [00:00<00:00,  5.21it/s]\u001b[A\n",
      "Action: emotion: 100%|████████████████████████████| 4/4 [00:00<00:00,  6.75it/s]\u001b[A\n",
      "432it [04:37,  1.74it/s]"
     ]
    },
    {
     "name": "stdout",
     "output_type": "stream",
     "text": [
      "/Users/jessecoulter/Downloads/FIN377/CEOPersonalities-/matched_pictures/Steve Sanghi/2012\n"
     ]
    },
    {
     "name": "stderr",
     "output_type": "stream",
     "text": [
      "\n",
      "Finding actions:   0%|                                    | 0/4 [00:00<?, ?it/s]\u001b[A\n",
      "Action: age:   0%|                                        | 0/4 [00:00<?, ?it/s]\u001b[A\n",
      "Action: age:  25%|████████                        | 1/4 [00:00<00:00,  5.15it/s]\u001b[A\n",
      "Action: gender:  25%|███████▎                     | 1/4 [00:00<00:00,  5.15it/s]\u001b[A\n",
      "Action: gender:  50%|██████████████▌              | 2/4 [00:00<00:00,  5.13it/s]\u001b[A\n",
      "Action: race:  50%|███████████████▌               | 2/4 [00:00<00:00,  5.13it/s]\u001b[A\n",
      "Action: race:  75%|███████████████████████▎       | 3/4 [00:00<00:00,  5.15it/s]\u001b[A\n",
      "Action: emotion: 100%|████████████████████████████| 4/4 [00:00<00:00,  6.70it/s]\u001b[A\n",
      "433it [04:37,  1.69it/s]"
     ]
    },
    {
     "name": "stdout",
     "output_type": "stream",
     "text": [
      "/Users/jessecoulter/Downloads/FIN377/CEOPersonalities-/matched_pictures/Steve Sanghi/2013\n"
     ]
    },
    {
     "name": "stderr",
     "output_type": "stream",
     "text": [
      "\n",
      "Finding actions:   0%|                                    | 0/4 [00:00<?, ?it/s]\u001b[A\n",
      "Action: age:   0%|                                        | 0/4 [00:00<?, ?it/s]\u001b[A\n",
      "Action: age:  25%|████████                        | 1/4 [00:00<00:00,  4.92it/s]\u001b[A\n",
      "Action: gender:  25%|███████▎                     | 1/4 [00:00<00:00,  4.92it/s]\u001b[A\n",
      "Action: gender:  50%|██████████████▌              | 2/4 [00:00<00:00,  5.12it/s]\u001b[A\n",
      "Action: race:  50%|███████████████▌               | 2/4 [00:00<00:00,  5.12it/s]\u001b[A\n",
      "Action: race:  75%|███████████████████████▎       | 3/4 [00:00<00:00,  5.16it/s]\u001b[A\n",
      "Action: emotion: 100%|████████████████████████████| 4/4 [00:00<00:00,  6.68it/s]\u001b[A\n",
      "434it [04:38,  1.53it/s]"
     ]
    },
    {
     "name": "stdout",
     "output_type": "stream",
     "text": [
      "/Users/jessecoulter/Downloads/FIN377/CEOPersonalities-/matched_pictures/Steve Sanghi/2014\n"
     ]
    },
    {
     "name": "stderr",
     "output_type": "stream",
     "text": [
      "\n",
      "Finding actions:   0%|                                    | 0/4 [00:00<?, ?it/s]\u001b[A\n",
      "Action: age:   0%|                                        | 0/4 [00:00<?, ?it/s]\u001b[A\n",
      "Action: age:  25%|████████                        | 1/4 [00:00<00:00,  5.36it/s]\u001b[A\n",
      "Action: gender:  25%|███████▎                     | 1/4 [00:00<00:00,  5.36it/s]\u001b[A\n",
      "Action: gender:  50%|██████████████▌              | 2/4 [00:00<00:00,  5.23it/s]\u001b[A\n",
      "Action: race:  50%|███████████████▌               | 2/4 [00:00<00:00,  5.23it/s]\u001b[A\n",
      "Action: race:  75%|███████████████████████▎       | 3/4 [00:00<00:00,  5.27it/s]\u001b[A\n",
      "Action: emotion: 100%|████████████████████████████| 4/4 [00:00<00:00,  6.86it/s]\u001b[A\n",
      "435it [04:39,  1.46it/s]"
     ]
    },
    {
     "name": "stdout",
     "output_type": "stream",
     "text": [
      "/Users/jessecoulter/Downloads/FIN377/CEOPersonalities-/matched_pictures/Steve Sanghi/2015\n"
     ]
    },
    {
     "name": "stderr",
     "output_type": "stream",
     "text": [
      "\n",
      "Finding actions:   0%|                                    | 0/4 [00:00<?, ?it/s]\u001b[A\n",
      "Action: age:   0%|                                        | 0/4 [00:00<?, ?it/s]\u001b[A\n",
      "Action: age:  25%|████████                        | 1/4 [00:00<00:00,  5.27it/s]\u001b[A\n",
      "Action: gender:  25%|███████▎                     | 1/4 [00:00<00:00,  5.27it/s]\u001b[A\n",
      "Action: gender:  50%|██████████████▌              | 2/4 [00:00<00:00,  5.26it/s]\u001b[A\n",
      "Action: race:  50%|███████████████▌               | 2/4 [00:00<00:00,  5.26it/s]\u001b[A\n",
      "Action: race:  75%|███████████████████████▎       | 3/4 [00:00<00:00,  5.27it/s]\u001b[A\n",
      "Action: emotion: 100%|████████████████████████████| 4/4 [00:00<00:00,  6.85it/s]\u001b[A\n",
      "436it [04:39,  1.48it/s]"
     ]
    },
    {
     "name": "stdout",
     "output_type": "stream",
     "text": [
      "/Users/jessecoulter/Downloads/FIN377/CEOPersonalities-/matched_pictures/Steve Sanghi/2016\n"
     ]
    },
    {
     "name": "stderr",
     "output_type": "stream",
     "text": [
      "\n",
      "Finding actions:   0%|                                    | 0/4 [00:00<?, ?it/s]\u001b[A\n",
      "Action: age:   0%|                                        | 0/4 [00:00<?, ?it/s]\u001b[A\n",
      "Action: age:  25%|████████                        | 1/4 [00:00<00:00,  5.24it/s]\u001b[A\n",
      "Action: gender:  25%|███████▎                     | 1/4 [00:00<00:00,  5.24it/s]\u001b[A\n",
      "Action: gender:  50%|██████████████▌              | 2/4 [00:00<00:00,  5.18it/s]\u001b[A\n",
      "Action: race:  50%|███████████████▌               | 2/4 [00:00<00:00,  5.18it/s]\u001b[A\n",
      "Action: race:  75%|███████████████████████▎       | 3/4 [00:00<00:00,  5.13it/s]\u001b[A\n",
      "Action: emotion: 100%|████████████████████████████| 4/4 [00:00<00:00,  6.70it/s]\u001b[A\n",
      "437it [04:40,  1.49it/s]"
     ]
    },
    {
     "name": "stdout",
     "output_type": "stream",
     "text": [
      "/Users/jessecoulter/Downloads/FIN377/CEOPersonalities-/matched_pictures/Steve Sanghi/2017\n"
     ]
    },
    {
     "name": "stderr",
     "output_type": "stream",
     "text": [
      "\n",
      "Finding actions:   0%|                                    | 0/4 [00:00<?, ?it/s]\u001b[A\n",
      "Action: age:   0%|                                        | 0/4 [00:00<?, ?it/s]\u001b[A\n",
      "Action: age:  25%|████████                        | 1/4 [00:00<00:00,  5.54it/s]\u001b[A\n",
      "Action: gender:  25%|███████▎                     | 1/4 [00:00<00:00,  5.54it/s]\u001b[A\n",
      "Action: gender:  50%|██████████████▌              | 2/4 [00:00<00:00,  5.24it/s]\u001b[A\n",
      "Action: race:  50%|███████████████▌               | 2/4 [00:00<00:00,  5.24it/s]\u001b[A\n",
      "Action: race:  75%|███████████████████████▎       | 3/4 [00:00<00:00,  5.24it/s]\u001b[A\n",
      "Action: emotion: 100%|████████████████████████████| 4/4 [00:00<00:00,  6.85it/s]\u001b[A\n",
      "438it [04:41,  1.26it/s]"
     ]
    },
    {
     "name": "stdout",
     "output_type": "stream",
     "text": [
      "/Users/jessecoulter/Downloads/FIN377/CEOPersonalities-/matched_pictures/Steve Sanghi/2018\n"
     ]
    },
    {
     "name": "stderr",
     "output_type": "stream",
     "text": [
      "\n",
      "Finding actions:   0%|                                    | 0/4 [00:00<?, ?it/s]\u001b[A\n",
      "Action: age:   0%|                                        | 0/4 [00:00<?, ?it/s]\u001b[A\n",
      "Action: age:  25%|████████                        | 1/4 [00:00<00:00,  5.05it/s]\u001b[A\n",
      "Action: gender:  25%|███████▎                     | 1/4 [00:00<00:00,  5.05it/s]\u001b[A\n",
      "Action: gender:  50%|██████████████▌              | 2/4 [00:00<00:00,  5.21it/s]\u001b[A\n",
      "Action: race:  50%|███████████████▌               | 2/4 [00:00<00:00,  5.21it/s]\u001b[A\n",
      "Action: race:  75%|███████████████████████▎       | 3/4 [00:00<00:00,  5.18it/s]\u001b[A\n",
      "Action: emotion: 100%|████████████████████████████| 4/4 [00:00<00:00,  6.74it/s]\u001b[A\n",
      "\n",
      "Finding actions:   0%|                                    | 0/4 [00:00<?, ?it/s]\u001b[A\n",
      "Action: age:   0%|                                        | 0/4 [00:00<?, ?it/s]\u001b[A\n",
      "Action: age:  25%|████████                        | 1/4 [00:00<00:00,  5.24it/s]\u001b[A\n",
      "Action: gender:  25%|███████▎                     | 1/4 [00:00<00:00,  5.24it/s]\u001b[A\n",
      "Action: gender:  50%|██████████████▌              | 2/4 [00:00<00:00,  5.31it/s]\u001b[A\n",
      "Action: race:  50%|███████████████▌               | 2/4 [00:00<00:00,  5.31it/s]\u001b[A\n",
      "Action: race:  75%|███████████████████████▎       | 3/4 [00:00<00:00,  5.25it/s]\u001b[A\n",
      "Action: emotion: 100%|████████████████████████████| 4/4 [00:00<00:00,  6.84it/s]\u001b[A\n",
      "439it [04:42,  1.06it/s]"
     ]
    },
    {
     "name": "stdout",
     "output_type": "stream",
     "text": [
      "/Users/jessecoulter/Downloads/FIN377/CEOPersonalities-/matched_pictures/Steve Sanghi/2019\n"
     ]
    },
    {
     "name": "stderr",
     "output_type": "stream",
     "text": [
      "\n",
      "Finding actions:   0%|                                    | 0/4 [00:00<?, ?it/s]\u001b[A\n",
      "Action: age:   0%|                                        | 0/4 [00:00<?, ?it/s]\u001b[A\n",
      "Action: age:  25%|████████                        | 1/4 [00:00<00:00,  5.28it/s]\u001b[A\n",
      "Action: gender:  25%|███████▎                     | 1/4 [00:00<00:00,  5.28it/s]\u001b[A\n",
      "Action: gender:  50%|██████████████▌              | 2/4 [00:00<00:00,  5.33it/s]\u001b[A\n",
      "Action: race:  50%|███████████████▌               | 2/4 [00:00<00:00,  5.33it/s]\u001b[A\n",
      "Action: race:  75%|███████████████████████▎       | 3/4 [00:00<00:00,  5.25it/s]\u001b[A\n",
      "Action: emotion: 100%|████████████████████████████| 4/4 [00:00<00:00,  6.85it/s]\u001b[A\n",
      "440it [04:43,  1.07it/s]"
     ]
    },
    {
     "name": "stdout",
     "output_type": "stream",
     "text": [
      "/Users/jessecoulter/Downloads/FIN377/CEOPersonalities-/matched_pictures/David J. Aldrich/2010\n",
      "Folder not found: /Users/jessecoulter/Downloads/FIN377/CEOPersonalities-/matched_pictures/David J. Aldrich/2010\n",
      "/Users/jessecoulter/Downloads/FIN377/CEOPersonalities-/matched_pictures/David J. Aldrich/2011\n",
      "Folder not found: /Users/jessecoulter/Downloads/FIN377/CEOPersonalities-/matched_pictures/David J. Aldrich/2011\n",
      "/Users/jessecoulter/Downloads/FIN377/CEOPersonalities-/matched_pictures/David J. Aldrich/2012\n"
     ]
    },
    {
     "name": "stderr",
     "output_type": "stream",
     "text": [
      "\n",
      "Finding actions:   0%|                                    | 0/4 [00:00<?, ?it/s]\u001b[A\n",
      "Action: age:   0%|                                        | 0/4 [00:00<?, ?it/s]\u001b[A\n",
      "Action: age:  25%|████████                        | 1/4 [00:00<00:00,  5.15it/s]\u001b[A\n",
      "Action: gender:  25%|███████▎                     | 1/4 [00:00<00:00,  5.15it/s]\u001b[A\n",
      "Action: gender:  50%|██████████████▌              | 2/4 [00:00<00:00,  5.17it/s]\u001b[A\n",
      "Action: race:  50%|███████████████▌               | 2/4 [00:00<00:00,  5.17it/s]\u001b[A\n",
      "Action: race:  75%|███████████████████████▎       | 3/4 [00:00<00:00,  5.18it/s]\u001b[A\n",
      "Action: emotion: 100%|████████████████████████████| 4/4 [00:00<00:00,  6.74it/s]\u001b[A\n",
      "443it [04:44,  1.88it/s]"
     ]
    },
    {
     "name": "stdout",
     "output_type": "stream",
     "text": [
      "/Users/jessecoulter/Downloads/FIN377/CEOPersonalities-/matched_pictures/David J. Aldrich/2013\n",
      "Folder not found: /Users/jessecoulter/Downloads/FIN377/CEOPersonalities-/matched_pictures/David J. Aldrich/2013\n",
      "/Users/jessecoulter/Downloads/FIN377/CEOPersonalities-/matched_pictures/David J. Aldrich/2014\n"
     ]
    },
    {
     "name": "stderr",
     "output_type": "stream",
     "text": [
      "\n",
      "Finding actions:   0%|                                    | 0/4 [00:00<?, ?it/s]\u001b[A\n",
      "Action: age:   0%|                                        | 0/4 [00:00<?, ?it/s]\u001b[A\n",
      "Action: age:  25%|████████                        | 1/4 [00:00<00:00,  5.21it/s]\u001b[A\n",
      "Action: gender:  25%|███████▎                     | 1/4 [00:00<00:00,  5.21it/s]\u001b[A\n",
      "Action: gender:  50%|██████████████▌              | 2/4 [00:00<00:00,  5.21it/s]\u001b[A\n",
      "Action: race:  50%|███████████████▌               | 2/4 [00:00<00:00,  5.21it/s]\u001b[A\n",
      "Action: race:  75%|███████████████████████▎       | 3/4 [00:00<00:00,  5.24it/s]\u001b[A\n",
      "Action: emotion: 100%|████████████████████████████| 4/4 [00:00<00:00,  6.81it/s]\u001b[A\n",
      "445it [04:45,  2.19it/s]"
     ]
    },
    {
     "name": "stdout",
     "output_type": "stream",
     "text": [
      "/Users/jessecoulter/Downloads/FIN377/CEOPersonalities-/matched_pictures/David J. Aldrich/2015\n"
     ]
    },
    {
     "name": "stderr",
     "output_type": "stream",
     "text": [
      "\n",
      "Finding actions:   0%|                                    | 0/4 [00:00<?, ?it/s]\u001b[A\n",
      "Action: age:   0%|                                        | 0/4 [00:00<?, ?it/s]\u001b[A\n",
      "Action: age:  25%|████████                        | 1/4 [00:00<00:00,  5.13it/s]\u001b[A\n",
      "Action: gender:  25%|███████▎                     | 1/4 [00:00<00:00,  5.13it/s]\u001b[A\n",
      "Action: gender:  50%|██████████████▌              | 2/4 [00:00<00:00,  5.19it/s]\u001b[A\n",
      "Action: race:  50%|███████████████▌               | 2/4 [00:00<00:00,  5.19it/s]\u001b[A\n",
      "Action: race:  75%|███████████████████████▎       | 3/4 [00:00<00:00,  5.20it/s]\u001b[A\n",
      "Action: emotion: 100%|████████████████████████████| 4/4 [00:00<00:00,  6.75it/s]\u001b[A\n",
      "446it [04:45,  2.02it/s]"
     ]
    },
    {
     "name": "stdout",
     "output_type": "stream",
     "text": [
      "/Users/jessecoulter/Downloads/FIN377/CEOPersonalities-/matched_pictures/David J. Aldrich/2016\n"
     ]
    },
    {
     "name": "stderr",
     "output_type": "stream",
     "text": [
      "\n",
      "Finding actions:   0%|                                    | 0/4 [00:00<?, ?it/s]\u001b[A\n",
      "Action: age:   0%|                                        | 0/4 [00:00<?, ?it/s]\u001b[A\n",
      "Action: age:  25%|████████                        | 1/4 [00:00<00:00,  5.12it/s]\u001b[A\n",
      "Action: gender:  25%|███████▎                     | 1/4 [00:00<00:00,  5.12it/s]\u001b[A\n",
      "Action: gender:  50%|██████████████▌              | 2/4 [00:00<00:00,  5.25it/s]\u001b[A\n",
      "Action: race:  50%|███████████████▌               | 2/4 [00:00<00:00,  5.25it/s]\u001b[A\n",
      "Action: race:  75%|███████████████████████▎       | 3/4 [00:00<00:00,  5.17it/s]\u001b[A\n",
      "Action: emotion: 100%|████████████████████████████| 4/4 [00:00<00:00,  6.74it/s]\u001b[A\n",
      "447it [04:46,  1.92it/s]"
     ]
    },
    {
     "name": "stdout",
     "output_type": "stream",
     "text": [
      "/Users/jessecoulter/Downloads/FIN377/CEOPersonalities-/matched_pictures/David J. Aldrich/2017\n"
     ]
    },
    {
     "name": "stderr",
     "output_type": "stream",
     "text": [
      "\n",
      "Finding actions:   0%|                                    | 0/4 [00:00<?, ?it/s]\u001b[A\n",
      "Action: age:   0%|                                        | 0/4 [00:00<?, ?it/s]\u001b[A\n",
      "Action: age:  25%|████████                        | 1/4 [00:00<00:00,  5.15it/s]\u001b[A\n",
      "Action: gender:  25%|███████▎                     | 1/4 [00:00<00:00,  5.15it/s]\u001b[A\n",
      "Action: gender:  50%|██████████████▌              | 2/4 [00:00<00:00,  5.21it/s]\u001b[A\n",
      "Action: race:  50%|███████████████▌               | 2/4 [00:00<00:00,  5.21it/s]\u001b[A\n",
      "Action: race:  75%|███████████████████████▎       | 3/4 [00:00<00:00,  5.22it/s]\u001b[A\n",
      "Action: emotion: 100%|████████████████████████████| 4/4 [00:00<00:00,  6.77it/s]\u001b[A\n",
      "448it [04:47,  1.81it/s]"
     ]
    },
    {
     "name": "stdout",
     "output_type": "stream",
     "text": [
      "/Users/jessecoulter/Downloads/FIN377/CEOPersonalities-/matched_pictures/Liam Griffin/2018\n"
     ]
    },
    {
     "name": "stderr",
     "output_type": "stream",
     "text": [
      "\n",
      "Finding actions:   0%|                                    | 0/4 [00:00<?, ?it/s]\u001b[A\n",
      "Action: age:   0%|                                        | 0/4 [00:00<?, ?it/s]\u001b[A\n",
      "Action: age:  25%|████████                        | 1/4 [00:00<00:00,  5.12it/s]\u001b[A\n",
      "Action: gender:  25%|███████▎                     | 1/4 [00:00<00:00,  5.12it/s]\u001b[A\n",
      "Action: gender:  50%|██████████████▌              | 2/4 [00:00<00:00,  5.14it/s]\u001b[A\n",
      "Action: race:  50%|███████████████▌               | 2/4 [00:00<00:00,  5.14it/s]\u001b[A\n",
      "Action: race:  75%|███████████████████████▎       | 3/4 [00:00<00:00,  5.19it/s]\u001b[A\n",
      "Action: emotion: 100%|████████████████████████████| 4/4 [00:00<00:00,  6.74it/s]\u001b[A\n",
      "449it [04:47,  1.74it/s]"
     ]
    },
    {
     "name": "stdout",
     "output_type": "stream",
     "text": [
      "/Users/jessecoulter/Downloads/FIN377/CEOPersonalities-/matched_pictures/Liam Griffin/2019\n"
     ]
    },
    {
     "name": "stderr",
     "output_type": "stream",
     "text": [
      "\n",
      "Finding actions:   0%|                                    | 0/4 [00:00<?, ?it/s]\u001b[A\n",
      "Action: age:   0%|                                        | 0/4 [00:00<?, ?it/s]\u001b[A\n",
      "Action: age:  25%|████████                        | 1/4 [00:00<00:00,  5.08it/s]\u001b[A\n",
      "Action: gender:  25%|███████▎                     | 1/4 [00:00<00:00,  5.08it/s]\u001b[A\n",
      "Action: gender:  50%|██████████████▌              | 2/4 [00:00<00:00,  5.17it/s]\u001b[A\n",
      "Action: race:  50%|███████████████▌               | 2/4 [00:00<00:00,  5.17it/s]\u001b[A\n",
      "Action: race:  75%|███████████████████████▎       | 3/4 [00:00<00:00,  5.06it/s]\u001b[A\n",
      "Action: emotion: 100%|████████████████████████████| 4/4 [00:00<00:00,  6.62it/s]\u001b[A\n",
      "450it [04:48,  1.69it/s]"
     ]
    },
    {
     "name": "stdout",
     "output_type": "stream",
     "text": [
      "/Users/jessecoulter/Downloads/FIN377/CEOPersonalities-/matched_pictures/Michael Hsing/2010\n"
     ]
    },
    {
     "name": "stderr",
     "output_type": "stream",
     "text": [
      "\n",
      "Finding actions:   0%|                                    | 0/4 [00:00<?, ?it/s]\u001b[A\n",
      "Action: age:   0%|                                        | 0/4 [00:00<?, ?it/s]\u001b[A\n",
      "Action: age:  25%|████████                        | 1/4 [00:00<00:00,  5.13it/s]\u001b[A\n",
      "Action: gender:  25%|███████▎                     | 1/4 [00:00<00:00,  5.13it/s]\u001b[A\n",
      "Action: gender:  50%|██████████████▌              | 2/4 [00:00<00:00,  5.20it/s]\u001b[A\n",
      "Action: race:  50%|███████████████▌               | 2/4 [00:00<00:00,  5.20it/s]\u001b[A\n",
      "Action: race:  75%|███████████████████████▎       | 3/4 [00:00<00:00,  5.18it/s]\u001b[A\n",
      "Action: emotion: 100%|████████████████████████████| 4/4 [00:00<00:00,  6.73it/s]\u001b[A\n",
      "451it [04:49,  1.58it/s]"
     ]
    },
    {
     "name": "stdout",
     "output_type": "stream",
     "text": [
      "/Users/jessecoulter/Downloads/FIN377/CEOPersonalities-/matched_pictures/Michael Hsing/2011\n",
      "Folder not found: /Users/jessecoulter/Downloads/FIN377/CEOPersonalities-/matched_pictures/Michael Hsing/2011\n",
      "/Users/jessecoulter/Downloads/FIN377/CEOPersonalities-/matched_pictures/Michael Hsing/2012\n"
     ]
    },
    {
     "name": "stderr",
     "output_type": "stream",
     "text": [
      "\n",
      "Finding actions:   0%|                                    | 0/4 [00:00<?, ?it/s]\u001b[A\n",
      "Action: age:   0%|                                        | 0/4 [00:00<?, ?it/s]\u001b[A\n",
      "Action: age:  25%|████████                        | 1/4 [00:00<00:00,  5.29it/s]\u001b[A\n",
      "Action: gender:  25%|███████▎                     | 1/4 [00:00<00:00,  5.29it/s]\u001b[A\n",
      "Action: gender:  50%|██████████████▌              | 2/4 [00:00<00:00,  5.22it/s]\u001b[A\n",
      "Action: race:  50%|███████████████▌               | 2/4 [00:00<00:00,  5.22it/s]\u001b[A\n",
      "Action: race:  75%|███████████████████████▎       | 3/4 [00:00<00:00,  5.22it/s]\u001b[A\n",
      "Action: emotion: 100%|████████████████████████████| 4/4 [00:00<00:00,  6.81it/s]\u001b[A\n",
      "453it [04:49,  1.94it/s]"
     ]
    },
    {
     "name": "stdout",
     "output_type": "stream",
     "text": [
      "/Users/jessecoulter/Downloads/FIN377/CEOPersonalities-/matched_pictures/Michael Hsing/2013\n",
      "Folder not found: /Users/jessecoulter/Downloads/FIN377/CEOPersonalities-/matched_pictures/Michael Hsing/2013\n",
      "/Users/jessecoulter/Downloads/FIN377/CEOPersonalities-/matched_pictures/Michael Hsing/2014\n"
     ]
    },
    {
     "name": "stderr",
     "output_type": "stream",
     "text": [
      "\n",
      "Finding actions:   0%|                                    | 0/4 [00:00<?, ?it/s]\u001b[A\n",
      "Action: age:   0%|                                        | 0/4 [00:00<?, ?it/s]\u001b[A\n",
      "Action: age:  25%|████████                        | 1/4 [00:00<00:00,  5.17it/s]\u001b[A\n",
      "Action: gender:  25%|███████▎                     | 1/4 [00:00<00:00,  5.17it/s]\u001b[A\n",
      "Action: gender:  50%|██████████████▌              | 2/4 [00:00<00:00,  5.10it/s]\u001b[A\n",
      "Action: race:  50%|███████████████▌               | 2/4 [00:00<00:00,  5.10it/s]\u001b[A\n",
      "Action: race:  75%|███████████████████████▎       | 3/4 [00:00<00:00,  5.15it/s]\u001b[A\n",
      "Action: emotion: 100%|████████████████████████████| 4/4 [00:00<00:00,  6.69it/s]\u001b[A\n",
      "455it [04:50,  2.17it/s]"
     ]
    },
    {
     "name": "stdout",
     "output_type": "stream",
     "text": [
      "/Users/jessecoulter/Downloads/FIN377/CEOPersonalities-/matched_pictures/Michael Hsing/2015\n"
     ]
    },
    {
     "name": "stderr",
     "output_type": "stream",
     "text": [
      "\n",
      "Finding actions:   0%|                                    | 0/4 [00:00<?, ?it/s]\u001b[A\n",
      "Action: age:   0%|                                        | 0/4 [00:00<?, ?it/s]\u001b[A\n",
      "Action: age:  25%|████████                        | 1/4 [00:00<00:00,  5.13it/s]\u001b[A\n",
      "Action: gender:  25%|███████▎                     | 1/4 [00:00<00:00,  5.13it/s]\u001b[A\n",
      "Action: gender:  50%|██████████████▌              | 2/4 [00:00<00:00,  5.15it/s]\u001b[A\n",
      "Action: race:  50%|███████████████▌               | 2/4 [00:00<00:00,  5.15it/s]\u001b[A\n",
      "Action: race:  75%|███████████████████████▎       | 3/4 [00:00<00:00,  5.22it/s]\u001b[A\n",
      "Action: emotion: 100%|████████████████████████████| 4/4 [00:00<00:00,  6.76it/s]\u001b[A\n",
      "456it [04:51,  1.92it/s]"
     ]
    },
    {
     "name": "stdout",
     "output_type": "stream",
     "text": [
      "/Users/jessecoulter/Downloads/FIN377/CEOPersonalities-/matched_pictures/Michael Hsing/2016\n"
     ]
    },
    {
     "name": "stderr",
     "output_type": "stream",
     "text": [
      "\n",
      "Finding actions:   0%|                                    | 0/4 [00:00<?, ?it/s]\u001b[A\n",
      "Action: age:   0%|                                        | 0/4 [00:00<?, ?it/s]\u001b[A\n",
      "Action: age:  25%|████████                        | 1/4 [00:00<00:00,  5.34it/s]\u001b[A\n",
      "Action: gender:  25%|███████▎                     | 1/4 [00:00<00:00,  5.34it/s]\u001b[A\n",
      "Action: gender:  50%|██████████████▌              | 2/4 [00:00<00:00,  5.30it/s]\u001b[A\n",
      "Action: race:  50%|███████████████▌               | 2/4 [00:00<00:00,  5.30it/s]\u001b[A\n",
      "Action: race:  75%|███████████████████████▎       | 3/4 [00:00<00:00,  5.24it/s]\u001b[A\n",
      "Action: emotion: 100%|████████████████████████████| 4/4 [00:00<00:00,  6.84it/s]\u001b[A\n",
      "457it [04:52,  1.76it/s]"
     ]
    },
    {
     "name": "stdout",
     "output_type": "stream",
     "text": [
      "/Users/jessecoulter/Downloads/FIN377/CEOPersonalities-/matched_pictures/Michael Hsing/2017\n"
     ]
    },
    {
     "name": "stderr",
     "output_type": "stream",
     "text": [
      "\n",
      "Finding actions:   0%|                                    | 0/4 [00:00<?, ?it/s]\u001b[A\n",
      "Action: age:   0%|                                        | 0/4 [00:00<?, ?it/s]\u001b[A\n",
      "Action: age:  25%|████████                        | 1/4 [00:00<00:00,  5.28it/s]\u001b[A\n",
      "Action: gender:  25%|███████▎                     | 1/4 [00:00<00:00,  5.28it/s]\u001b[A\n",
      "Action: gender:  50%|██████████████▌              | 2/4 [00:00<00:00,  5.23it/s]\u001b[A\n",
      "Action: race:  50%|███████████████▌               | 2/4 [00:00<00:00,  5.23it/s]\u001b[A\n",
      "Action: race:  75%|███████████████████████▎       | 3/4 [00:00<00:00,  5.24it/s]\u001b[A\n",
      "Action: emotion: 100%|████████████████████████████| 4/4 [00:00<00:00,  6.82it/s]\u001b[A\n",
      "458it [04:52,  1.64it/s]"
     ]
    },
    {
     "name": "stdout",
     "output_type": "stream",
     "text": [
      "/Users/jessecoulter/Downloads/FIN377/CEOPersonalities-/matched_pictures/Michael Hsing/2018\n"
     ]
    },
    {
     "name": "stderr",
     "output_type": "stream",
     "text": [
      "\n",
      "Finding actions:   0%|                                    | 0/4 [00:00<?, ?it/s]\u001b[A\n",
      "Action: age:   0%|                                        | 0/4 [00:00<?, ?it/s]\u001b[A\n",
      "Action: age:  25%|████████                        | 1/4 [00:00<00:00,  5.27it/s]\u001b[A\n",
      "Action: gender:  25%|███████▎                     | 1/4 [00:00<00:00,  5.27it/s]\u001b[A\n",
      "Action: gender:  50%|██████████████▌              | 2/4 [00:00<00:00,  5.24it/s]\u001b[A\n",
      "Action: race:  50%|███████████████▌               | 2/4 [00:00<00:00,  5.24it/s]\u001b[A\n",
      "Action: race:  75%|███████████████████████▎       | 3/4 [00:00<00:00,  5.24it/s]\u001b[A\n",
      "Action: emotion: 100%|████████████████████████████| 4/4 [00:00<00:00,  6.83it/s]\u001b[A\n",
      "459it [04:53,  1.56it/s]"
     ]
    },
    {
     "name": "stdout",
     "output_type": "stream",
     "text": [
      "/Users/jessecoulter/Downloads/FIN377/CEOPersonalities-/matched_pictures/Michael Hsing/2019\n"
     ]
    },
    {
     "name": "stderr",
     "output_type": "stream",
     "text": [
      "\n",
      "Finding actions:   0%|                                    | 0/4 [00:00<?, ?it/s]\u001b[A\n",
      "Action: age:   0%|                                        | 0/4 [00:00<?, ?it/s]\u001b[A\n",
      "Action: age:  25%|████████                        | 1/4 [00:00<00:00,  5.24it/s]\u001b[A\n",
      "Action: gender:  25%|███████▎                     | 1/4 [00:00<00:00,  5.24it/s]\u001b[A\n",
      "Action: gender:  50%|██████████████▌              | 2/4 [00:00<00:00,  5.29it/s]\u001b[A\n",
      "Action: race:  50%|███████████████▌               | 2/4 [00:00<00:00,  5.29it/s]\u001b[A\n",
      "Action: race:  75%|███████████████████████▎       | 3/4 [00:00<00:00,  5.27it/s]\u001b[A\n",
      "Action: emotion: 100%|████████████████████████████| 4/4 [00:00<00:00,  6.86it/s]\u001b[A\n",
      "460it [04:54,  1.50it/s]"
     ]
    },
    {
     "name": "stdout",
     "output_type": "stream",
     "text": [
      "/Users/jessecoulter/Downloads/FIN377/CEOPersonalities-/matched_pictures/Paul Nahi/2010\n"
     ]
    },
    {
     "name": "stderr",
     "output_type": "stream",
     "text": [
      "\n",
      "Finding actions:   0%|                                    | 0/4 [00:00<?, ?it/s]\u001b[A\n",
      "Action: age:   0%|                                        | 0/4 [00:00<?, ?it/s]\u001b[A\n",
      "Action: age:  25%|████████                        | 1/4 [00:00<00:00,  5.24it/s]\u001b[A\n",
      "Action: gender:  25%|███████▎                     | 1/4 [00:00<00:00,  5.24it/s]\u001b[A\n",
      "Action: gender:  50%|██████████████▌              | 2/4 [00:00<00:00,  5.35it/s]\u001b[A\n",
      "Action: race:  50%|███████████████▌               | 2/4 [00:00<00:00,  5.35it/s]\u001b[A\n",
      "Action: race:  75%|███████████████████████▎       | 3/4 [00:00<00:00,  5.34it/s]\u001b[A\n",
      "Action: emotion: 100%|████████████████████████████| 4/4 [00:00<00:00,  6.94it/s]\u001b[A\n",
      "461it [04:54,  1.54it/s]"
     ]
    },
    {
     "name": "stdout",
     "output_type": "stream",
     "text": [
      "/Users/jessecoulter/Downloads/FIN377/CEOPersonalities-/matched_pictures/Paul Nahi/2011\n",
      "Folder not found: /Users/jessecoulter/Downloads/FIN377/CEOPersonalities-/matched_pictures/Paul Nahi/2011\n",
      "/Users/jessecoulter/Downloads/FIN377/CEOPersonalities-/matched_pictures/Paul Nahi/2012\n"
     ]
    },
    {
     "name": "stderr",
     "output_type": "stream",
     "text": [
      "\n",
      "Finding actions:   0%|                                    | 0/4 [00:00<?, ?it/s]\u001b[A\n",
      "Action: age:   0%|                                        | 0/4 [00:00<?, ?it/s]\u001b[A\n",
      "Action: age:  25%|████████                        | 1/4 [00:00<00:00,  5.24it/s]\u001b[A\n",
      "Action: gender:  25%|███████▎                     | 1/4 [00:00<00:00,  5.24it/s]\u001b[A\n",
      "Action: gender:  50%|██████████████▌              | 2/4 [00:00<00:00,  5.25it/s]\u001b[A\n",
      "Action: race:  50%|███████████████▌               | 2/4 [00:00<00:00,  5.25it/s]\u001b[A\n",
      "Action: race:  75%|███████████████████████▎       | 3/4 [00:00<00:00,  5.25it/s]\u001b[A\n",
      "Action: emotion: 100%|████████████████████████████| 4/4 [00:00<00:00,  6.83it/s]\u001b[A\n",
      "463it [04:55,  2.01it/s]"
     ]
    },
    {
     "name": "stdout",
     "output_type": "stream",
     "text": [
      "/Users/jessecoulter/Downloads/FIN377/CEOPersonalities-/matched_pictures/Paul Nahi/2013\n",
      "Folder not found: /Users/jessecoulter/Downloads/FIN377/CEOPersonalities-/matched_pictures/Paul Nahi/2013\n",
      "/Users/jessecoulter/Downloads/FIN377/CEOPersonalities-/matched_pictures/Paul Nahi/2014\n",
      "Error analyzing /Users/jessecoulter/Downloads/FIN377/CEOPersonalities-/matched_pictures/Paul Nahi/2014/pic2.jpg: Face could not be detected in /Users/jessecoulter/Downloads/FIN377/CEOPersonalities-/matched_pictures/Paul Nahi/2014/pic2.jpg.Please confirm that the picture is a face photo or consider to set enforce_detection param to False.\n",
      "/Users/jessecoulter/Downloads/FIN377/CEOPersonalities-/matched_pictures/Paul Nahi/2015\n",
      "Folder not found: /Users/jessecoulter/Downloads/FIN377/CEOPersonalities-/matched_pictures/Paul Nahi/2015\n",
      "/Users/jessecoulter/Downloads/FIN377/CEOPersonalities-/matched_pictures/Paul Nahi/2016\n"
     ]
    },
    {
     "name": "stderr",
     "output_type": "stream",
     "text": [
      "\n",
      "Finding actions:   0%|                                    | 0/4 [00:00<?, ?it/s]\u001b[A\n",
      "Action: age:   0%|                                        | 0/4 [00:00<?, ?it/s]\u001b[A\n",
      "Action: age:  25%|████████                        | 1/4 [00:00<00:00,  5.25it/s]\u001b[A\n",
      "Action: gender:  25%|███████▎                     | 1/4 [00:00<00:00,  5.25it/s]\u001b[A\n",
      "Action: gender:  50%|██████████████▌              | 2/4 [00:00<00:00,  5.19it/s]\u001b[A\n",
      "Action: race:  50%|███████████████▌               | 2/4 [00:00<00:00,  5.19it/s]\u001b[A\n",
      "Action: race:  75%|███████████████████████▎       | 3/4 [00:00<00:00,  5.24it/s]\u001b[A\n",
      "Action: emotion: 100%|████████████████████████████| 4/4 [00:00<00:00,  6.81it/s]\u001b[A\n",
      "467it [04:56,  3.27it/s]"
     ]
    },
    {
     "name": "stdout",
     "output_type": "stream",
     "text": [
      "/Users/jessecoulter/Downloads/FIN377/CEOPersonalities-/matched_pictures/Paul Nahi/2017\n"
     ]
    },
    {
     "name": "stderr",
     "output_type": "stream",
     "text": [
      "\n",
      "Finding actions:   0%|                                    | 0/4 [00:00<?, ?it/s]\u001b[A\n",
      "Action: age:   0%|                                        | 0/4 [00:00<?, ?it/s]\u001b[A\n",
      "Action: age:  25%|████████                        | 1/4 [00:00<00:00,  5.19it/s]\u001b[A\n",
      "Action: gender:  25%|███████▎                     | 1/4 [00:00<00:00,  5.19it/s]\u001b[A\n",
      "Action: gender:  50%|██████████████▌              | 2/4 [00:00<00:00,  5.15it/s]\u001b[A\n",
      "Action: race:  50%|███████████████▌               | 2/4 [00:00<00:00,  5.15it/s]\u001b[A\n",
      "Action: race:  75%|███████████████████████▎       | 3/4 [00:00<00:00,  5.21it/s]\u001b[A\n",
      "Action: emotion: 100%|████████████████████████████| 4/4 [00:00<00:00,  6.76it/s]\u001b[A\n",
      "468it [04:56,  2.79it/s]"
     ]
    },
    {
     "name": "stdout",
     "output_type": "stream",
     "text": [
      "/Users/jessecoulter/Downloads/FIN377/CEOPersonalities-/matched_pictures/Badri Kothandaraman/2018\n"
     ]
    },
    {
     "name": "stderr",
     "output_type": "stream",
     "text": [
      "\n",
      "Finding actions:   0%|                                    | 0/4 [00:00<?, ?it/s]\u001b[A\n",
      "Action: age:   0%|                                        | 0/4 [00:00<?, ?it/s]\u001b[A\n",
      "Action: age:  25%|████████                        | 1/4 [00:00<00:00,  5.27it/s]\u001b[A\n",
      "Action: gender:  25%|███████▎                     | 1/4 [00:00<00:00,  5.27it/s]\u001b[A\n",
      "Action: gender:  50%|██████████████▌              | 2/4 [00:00<00:00,  5.26it/s]\u001b[A\n",
      "Action: race:  50%|███████████████▌               | 2/4 [00:00<00:00,  5.26it/s]\u001b[A\n",
      "Action: race:  75%|███████████████████████▎       | 3/4 [00:00<00:00,  5.21it/s]\u001b[A\n",
      "Action: emotion: 100%|████████████████████████████| 4/4 [00:00<00:00,  6.80it/s]\u001b[A\n",
      "469it [04:57,  2.40it/s]"
     ]
    },
    {
     "name": "stdout",
     "output_type": "stream",
     "text": [
      "/Users/jessecoulter/Downloads/FIN377/CEOPersonalities-/matched_pictures/Badri Kothandaraman/2019\n"
     ]
    },
    {
     "name": "stderr",
     "output_type": "stream",
     "text": [
      "\n",
      "Finding actions:   0%|                                    | 0/4 [00:00<?, ?it/s]\u001b[A\n",
      "Action: age:   0%|                                        | 0/4 [00:00<?, ?it/s]\u001b[A\n",
      "Action: age:  25%|████████                        | 1/4 [00:00<00:00,  5.27it/s]\u001b[A\n",
      "Action: gender:  25%|███████▎                     | 1/4 [00:00<00:00,  5.27it/s]\u001b[A\n",
      "Action: gender:  50%|██████████████▌              | 2/4 [00:00<00:00,  5.29it/s]\u001b[A\n",
      "Action: race:  50%|███████████████▌               | 2/4 [00:00<00:00,  5.29it/s]\u001b[A\n",
      "Action: race:  75%|███████████████████████▎       | 3/4 [00:00<00:00,  5.28it/s]\u001b[A\n",
      "Action: emotion: 100%|████████████████████████████| 4/4 [00:00<00:00,  6.88it/s]\u001b[A\n",
      "470it [04:58,  2.14it/s]"
     ]
    },
    {
     "name": "stdout",
     "output_type": "stream",
     "text": [
      "/Users/jessecoulter/Downloads/FIN377/CEOPersonalities-/matched_pictures/Guy Sella/2010\n"
     ]
    },
    {
     "name": "stderr",
     "output_type": "stream",
     "text": [
      "\n",
      "Finding actions:   0%|                                    | 0/4 [00:00<?, ?it/s]\u001b[A\n",
      "Action: age:   0%|                                        | 0/4 [00:00<?, ?it/s]\u001b[A\n",
      "Action: age:  25%|████████                        | 1/4 [00:00<00:00,  5.23it/s]\u001b[A\n",
      "Action: gender:  25%|███████▎                     | 1/4 [00:00<00:00,  5.23it/s]\u001b[A\n",
      "Action: gender:  50%|██████████████▌              | 2/4 [00:00<00:00,  4.95it/s]\u001b[A\n",
      "Action: race:  50%|███████████████▌               | 2/4 [00:00<00:00,  4.95it/s]\u001b[A\n",
      "Action: race:  75%|███████████████████████▎       | 3/4 [00:00<00:00,  5.07it/s]\u001b[A\n",
      "Action: emotion: 100%|████████████████████████████| 4/4 [00:00<00:00,  6.60it/s]\u001b[A\n",
      "471it [04:58,  1.98it/s]"
     ]
    },
    {
     "name": "stdout",
     "output_type": "stream",
     "text": [
      "/Users/jessecoulter/Downloads/FIN377/CEOPersonalities-/matched_pictures/Guy Sella/2011\n"
     ]
    },
    {
     "name": "stderr",
     "output_type": "stream",
     "text": [
      "\n",
      "Finding actions:   0%|                                    | 0/4 [00:00<?, ?it/s]\u001b[A\n",
      "Action: age:   0%|                                        | 0/4 [00:00<?, ?it/s]\u001b[A\n",
      "Action: age:  25%|████████                        | 1/4 [00:00<00:00,  5.13it/s]\u001b[A\n",
      "Action: gender:  25%|███████▎                     | 1/4 [00:00<00:00,  5.13it/s]\u001b[A\n",
      "Action: gender:  50%|██████████████▌              | 2/4 [00:00<00:00,  5.06it/s]\u001b[A\n",
      "Action: race:  50%|███████████████▌               | 2/4 [00:00<00:00,  5.06it/s]\u001b[A\n",
      "Action: race:  75%|███████████████████████▎       | 3/4 [00:00<00:00,  5.11it/s]\u001b[A\n",
      "Action: emotion: 100%|████████████████████████████| 4/4 [00:00<00:00,  6.65it/s]\u001b[A\n",
      "472it [04:59,  1.85it/s]"
     ]
    },
    {
     "name": "stdout",
     "output_type": "stream",
     "text": [
      "/Users/jessecoulter/Downloads/FIN377/CEOPersonalities-/matched_pictures/Guy Sella/2012\n"
     ]
    },
    {
     "name": "stderr",
     "output_type": "stream",
     "text": [
      "\n",
      "Finding actions:   0%|                                    | 0/4 [00:00<?, ?it/s]\u001b[A\n",
      "Action: age:   0%|                                        | 0/4 [00:00<?, ?it/s]\u001b[A\n",
      "Action: age:  25%|████████                        | 1/4 [00:00<00:00,  5.24it/s]\u001b[A\n",
      "Action: gender:  25%|███████▎                     | 1/4 [00:00<00:00,  5.24it/s]\u001b[A\n",
      "Action: gender:  50%|██████████████▌              | 2/4 [00:00<00:00,  5.16it/s]\u001b[A\n",
      "Action: race:  50%|███████████████▌               | 2/4 [00:00<00:00,  5.16it/s]\u001b[A\n",
      "Action: race:  75%|███████████████████████▎       | 3/4 [00:00<00:00,  5.20it/s]\u001b[A\n",
      "Action: emotion: 100%|████████████████████████████| 4/4 [00:00<00:00,  6.77it/s]\u001b[A\n",
      "473it [04:59,  1.78it/s]"
     ]
    },
    {
     "name": "stdout",
     "output_type": "stream",
     "text": [
      "/Users/jessecoulter/Downloads/FIN377/CEOPersonalities-/matched_pictures/Guy Sella/2013\n"
     ]
    },
    {
     "name": "stderr",
     "output_type": "stream",
     "text": [
      "\n",
      "Finding actions:   0%|                                    | 0/4 [00:00<?, ?it/s]\u001b[A\n",
      "Action: age:   0%|                                        | 0/4 [00:00<?, ?it/s]\u001b[A\n",
      "Action: age:  25%|████████                        | 1/4 [00:00<00:00,  5.26it/s]\u001b[A\n",
      "Action: gender:  25%|███████▎                     | 1/4 [00:00<00:00,  5.26it/s]\u001b[A\n",
      "Action: gender:  50%|██████████████▌              | 2/4 [00:00<00:00,  5.36it/s]\u001b[A\n",
      "Action: race:  50%|███████████████▌               | 2/4 [00:00<00:00,  5.36it/s]\u001b[A\n",
      "Action: race:  75%|███████████████████████▎       | 3/4 [00:00<00:00,  5.35it/s]\u001b[A\n",
      "Action: emotion: 100%|████████████████████████████| 4/4 [00:00<00:00,  6.96it/s]\u001b[A\n",
      "474it [05:00,  1.76it/s]"
     ]
    },
    {
     "name": "stdout",
     "output_type": "stream",
     "text": [
      "/Users/jessecoulter/Downloads/FIN377/CEOPersonalities-/matched_pictures/Guy Sella/2014\n"
     ]
    },
    {
     "name": "stderr",
     "output_type": "stream",
     "text": [
      "\n",
      "Finding actions:   0%|                                    | 0/4 [00:00<?, ?it/s]\u001b[A\n",
      "Action: age:   0%|                                        | 0/4 [00:00<?, ?it/s]\u001b[A\n",
      "Action: age:  25%|████████                        | 1/4 [00:00<00:00,  5.16it/s]\u001b[A\n",
      "Action: gender:  25%|███████▎                     | 1/4 [00:00<00:00,  5.16it/s]\u001b[A\n",
      "Action: gender:  50%|██████████████▌              | 2/4 [00:00<00:00,  5.22it/s]\u001b[A\n",
      "Action: race:  50%|███████████████▌               | 2/4 [00:00<00:00,  5.22it/s]\u001b[A\n",
      "Action: race:  75%|███████████████████████▎       | 3/4 [00:00<00:00,  5.23it/s]\u001b[A\n",
      "Action: emotion: 100%|████████████████████████████| 4/4 [00:00<00:00,  6.79it/s]\u001b[A\n",
      "475it [05:01,  1.72it/s]"
     ]
    },
    {
     "name": "stdout",
     "output_type": "stream",
     "text": [
      "/Users/jessecoulter/Downloads/FIN377/CEOPersonalities-/matched_pictures/Guy Sella/2015\n",
      "Error analyzing /Users/jessecoulter/Downloads/FIN377/CEOPersonalities-/matched_pictures/Guy Sella/2015/pic1.jpg: Face could not be detected in /Users/jessecoulter/Downloads/FIN377/CEOPersonalities-/matched_pictures/Guy Sella/2015/pic1.jpg.Please confirm that the picture is a face photo or consider to set enforce_detection param to False.\n",
      "/Users/jessecoulter/Downloads/FIN377/CEOPersonalities-/matched_pictures/Guy Sella/2016\n"
     ]
    },
    {
     "name": "stderr",
     "output_type": "stream",
     "text": [
      "\n",
      "Finding actions:   0%|                                    | 0/4 [00:00<?, ?it/s]\u001b[A\n",
      "Action: age:   0%|                                        | 0/4 [00:00<?, ?it/s]\u001b[A\n",
      "Action: age:  25%|████████                        | 1/4 [00:00<00:00,  5.06it/s]\u001b[A\n",
      "Action: gender:  25%|███████▎                     | 1/4 [00:00<00:00,  5.06it/s]\u001b[A\n",
      "Action: gender:  50%|██████████████▌              | 2/4 [00:00<00:00,  5.24it/s]\u001b[A\n",
      "Action: race:  50%|███████████████▌               | 2/4 [00:00<00:00,  5.24it/s]\u001b[A\n",
      "Action: race:  75%|███████████████████████▎       | 3/4 [00:00<00:00,  5.22it/s]\u001b[A\n",
      "Action: emotion: 100%|████████████████████████████| 4/4 [00:00<00:00,  6.77it/s]\u001b[A\n",
      "477it [05:01,  2.17it/s]"
     ]
    },
    {
     "name": "stdout",
     "output_type": "stream",
     "text": [
      "/Users/jessecoulter/Downloads/FIN377/CEOPersonalities-/matched_pictures/Guy Sella/2017\n"
     ]
    },
    {
     "name": "stderr",
     "output_type": "stream",
     "text": [
      "\n",
      "Finding actions:   0%|                                    | 0/4 [00:00<?, ?it/s]\u001b[A\n",
      "Action: age:   0%|                                        | 0/4 [00:00<?, ?it/s]\u001b[A\n",
      "Action: age:  25%|████████                        | 1/4 [00:00<00:00,  5.43it/s]\u001b[A\n",
      "Action: gender:  25%|███████▎                     | 1/4 [00:00<00:00,  5.43it/s]\u001b[A\n",
      "Action: gender:  50%|██████████████▌              | 2/4 [00:00<00:00,  5.36it/s]\u001b[A\n",
      "Action: race:  50%|███████████████▌               | 2/4 [00:00<00:00,  5.36it/s]\u001b[A\n",
      "Action: race:  75%|███████████████████████▎       | 3/4 [00:00<00:00,  5.29it/s]\u001b[A\n",
      "Action: emotion: 100%|████████████████████████████| 4/4 [00:00<00:00,  6.91it/s]\u001b[A\n",
      "478it [05:02,  1.92it/s]"
     ]
    },
    {
     "name": "stdout",
     "output_type": "stream",
     "text": [
      "/Users/jessecoulter/Downloads/FIN377/CEOPersonalities-/matched_pictures/Guy Sella/2018\n"
     ]
    },
    {
     "name": "stderr",
     "output_type": "stream",
     "text": [
      "\n",
      "Finding actions:   0%|                                    | 0/4 [00:00<?, ?it/s]\u001b[A\n",
      "Action: age:   0%|                                        | 0/4 [00:00<?, ?it/s]\u001b[A\n",
      "Action: age:  25%|████████                        | 1/4 [00:00<00:00,  5.45it/s]\u001b[A\n",
      "Action: gender:  25%|███████▎                     | 1/4 [00:00<00:00,  5.45it/s]\u001b[A\n",
      "Action: gender:  50%|██████████████▌              | 2/4 [00:00<00:00,  5.28it/s]\u001b[A\n",
      "Action: race:  50%|███████████████▌               | 2/4 [00:00<00:00,  5.28it/s]\u001b[A\n",
      "Action: race:  75%|███████████████████████▎       | 3/4 [00:00<00:00,  5.29it/s]\u001b[A\n",
      "Action: emotion: 100%|████████████████████████████| 4/4 [00:00<00:00,  6.89it/s]\u001b[A\n",
      "479it [05:03,  1.70it/s]"
     ]
    },
    {
     "name": "stdout",
     "output_type": "stream",
     "text": [
      "/Users/jessecoulter/Downloads/FIN377/CEOPersonalities-/matched_pictures/Zvi Lando/2019\n"
     ]
    },
    {
     "name": "stderr",
     "output_type": "stream",
     "text": [
      "\n",
      "Finding actions:   0%|                                    | 0/4 [00:00<?, ?it/s]\u001b[A\n",
      "Action: age:   0%|                                        | 0/4 [00:00<?, ?it/s]\u001b[A\n",
      "Action: age:  25%|████████                        | 1/4 [00:00<00:00,  5.13it/s]\u001b[A\n",
      "Action: gender:  25%|███████▎                     | 1/4 [00:00<00:00,  5.13it/s]\u001b[A\n",
      "Action: gender:  50%|██████████████▌              | 2/4 [00:00<00:00,  5.24it/s]\u001b[A\n",
      "Action: race:  50%|███████████████▌               | 2/4 [00:00<00:00,  5.24it/s]\u001b[A\n",
      "Action: race:  75%|███████████████████████▎       | 3/4 [00:00<00:00,  5.22it/s]\u001b[A\n",
      "Action: emotion: 100%|████████████████████████████| 4/4 [00:00<00:00,  6.78it/s]\u001b[A\n",
      "480it [05:03,  1.67it/s]"
     ]
    },
    {
     "name": "stdout",
     "output_type": "stream",
     "text": [
      "/Users/jessecoulter/Downloads/FIN377/CEOPersonalities-/matched_pictures/John Ambroseo/2010\n"
     ]
    },
    {
     "name": "stderr",
     "output_type": "stream",
     "text": [
      "\n",
      "Finding actions:   0%|                                    | 0/4 [00:00<?, ?it/s]\u001b[A\n",
      "Action: age:   0%|                                        | 0/4 [00:00<?, ?it/s]\u001b[A\n",
      "Action: age:  25%|████████                        | 1/4 [00:00<00:00,  5.18it/s]\u001b[A\n",
      "Action: gender:  25%|███████▎                     | 1/4 [00:00<00:00,  5.18it/s]\u001b[A\n",
      "Action: gender:  50%|██████████████▌              | 2/4 [00:00<00:00,  5.32it/s]\u001b[A\n",
      "Action: race:  50%|███████████████▌               | 2/4 [00:00<00:00,  5.32it/s]\u001b[A\n",
      "Action: race:  75%|███████████████████████▎       | 3/4 [00:00<00:00,  5.24it/s]\u001b[A\n",
      "Action: emotion: 100%|████████████████████████████| 4/4 [00:00<00:00,  6.82it/s]\u001b[A\n",
      "481it [05:04,  1.65it/s]"
     ]
    },
    {
     "name": "stdout",
     "output_type": "stream",
     "text": [
      "/Users/jessecoulter/Downloads/FIN377/CEOPersonalities-/matched_pictures/John Ambroseo/2011\n"
     ]
    },
    {
     "name": "stderr",
     "output_type": "stream",
     "text": [
      "\n",
      "Finding actions:   0%|                                    | 0/4 [00:00<?, ?it/s]\u001b[A\n",
      "Action: age:   0%|                                        | 0/4 [00:00<?, ?it/s]\u001b[A\n",
      "Action: age:  25%|████████                        | 1/4 [00:00<00:00,  5.15it/s]\u001b[A\n",
      "Action: gender:  25%|███████▎                     | 1/4 [00:00<00:00,  5.15it/s]\u001b[A\n",
      "Action: gender:  50%|██████████████▌              | 2/4 [00:00<00:00,  5.30it/s]\u001b[A\n",
      "Action: race:  50%|███████████████▌               | 2/4 [00:00<00:00,  5.30it/s]\u001b[A\n",
      "Action: race:  75%|███████████████████████▎       | 3/4 [00:00<00:00,  5.27it/s]\u001b[A\n",
      "Action: emotion: 100%|████████████████████████████| 4/4 [00:00<00:00,  6.84it/s]\u001b[A\n",
      "482it [05:05,  1.65it/s]"
     ]
    },
    {
     "name": "stdout",
     "output_type": "stream",
     "text": [
      "/Users/jessecoulter/Downloads/FIN377/CEOPersonalities-/matched_pictures/John Ambroseo/2012\n"
     ]
    },
    {
     "name": "stderr",
     "output_type": "stream",
     "text": [
      "\n",
      "Finding actions:   0%|                                    | 0/4 [00:00<?, ?it/s]\u001b[A\n",
      "Action: age:   0%|                                        | 0/4 [00:00<?, ?it/s]\u001b[A\n",
      "Action: age:  25%|████████                        | 1/4 [00:00<00:00,  4.97it/s]\u001b[A\n",
      "Action: gender:  25%|███████▎                     | 1/4 [00:00<00:00,  4.97it/s]\u001b[A\n",
      "Action: gender:  50%|██████████████▌              | 2/4 [00:00<00:00,  5.11it/s]\u001b[A\n",
      "Action: race:  50%|███████████████▌               | 2/4 [00:00<00:00,  5.11it/s]\u001b[A\n",
      "Action: race:  75%|███████████████████████▎       | 3/4 [00:00<00:00,  5.12it/s]\u001b[A\n",
      "Action: emotion: 100%|████████████████████████████| 4/4 [00:00<00:00,  6.64it/s]\u001b[A\n",
      "483it [05:05,  1.63it/s]"
     ]
    },
    {
     "name": "stdout",
     "output_type": "stream",
     "text": [
      "/Users/jessecoulter/Downloads/FIN377/CEOPersonalities-/matched_pictures/John Ambroseo/2013\n"
     ]
    },
    {
     "name": "stderr",
     "output_type": "stream",
     "text": [
      "\n",
      "Finding actions:   0%|                                    | 0/4 [00:00<?, ?it/s]\u001b[A\n",
      "Action: age:   0%|                                        | 0/4 [00:00<?, ?it/s]\u001b[A\n",
      "Action: age:  25%|████████                        | 1/4 [00:00<00:00,  5.14it/s]\u001b[A\n",
      "Action: gender:  25%|███████▎                     | 1/4 [00:00<00:00,  5.14it/s]\u001b[A\n",
      "Action: gender:  50%|██████████████▌              | 2/4 [00:00<00:00,  5.18it/s]\u001b[A\n",
      "Action: race:  50%|███████████████▌               | 2/4 [00:00<00:00,  5.18it/s]\u001b[A\n",
      "Action: race:  75%|███████████████████████▎       | 3/4 [00:00<00:00,  5.23it/s]\u001b[A\n",
      "Action: emotion: 100%|████████████████████████████| 4/4 [00:00<00:00,  6.78it/s]\u001b[A\n",
      "484it [05:06,  1.63it/s]"
     ]
    },
    {
     "name": "stdout",
     "output_type": "stream",
     "text": [
      "/Users/jessecoulter/Downloads/FIN377/CEOPersonalities-/matched_pictures/John Ambroseo/2014\n"
     ]
    },
    {
     "name": "stderr",
     "output_type": "stream",
     "text": [
      "\n",
      "Finding actions:   0%|                                    | 0/4 [00:00<?, ?it/s]\u001b[A\n",
      "Action: age:   0%|                                        | 0/4 [00:00<?, ?it/s]\u001b[A\n",
      "Action: age:  25%|████████                        | 1/4 [00:00<00:00,  5.26it/s]\u001b[A\n",
      "Action: gender:  25%|███████▎                     | 1/4 [00:00<00:00,  5.26it/s]\u001b[A\n",
      "Action: gender:  50%|██████████████▌              | 2/4 [00:00<00:00,  5.26it/s]\u001b[A\n",
      "Action: race:  50%|███████████████▌               | 2/4 [00:00<00:00,  5.26it/s]\u001b[A\n",
      "Action: race:  75%|███████████████████████▎       | 3/4 [00:00<00:00,  5.27it/s]\u001b[A\n",
      "Action: emotion: 100%|████████████████████████████| 4/4 [00:00<00:00,  6.85it/s]\u001b[A\n",
      "485it [05:06,  1.63it/s]"
     ]
    },
    {
     "name": "stdout",
     "output_type": "stream",
     "text": [
      "/Users/jessecoulter/Downloads/FIN377/CEOPersonalities-/matched_pictures/John Ambroseo/2015\n"
     ]
    },
    {
     "name": "stderr",
     "output_type": "stream",
     "text": [
      "\n",
      "Finding actions:   0%|                                    | 0/4 [00:00<?, ?it/s]\u001b[A\n",
      "Action: age:   0%|                                        | 0/4 [00:00<?, ?it/s]\u001b[A\n",
      "Action: age:  25%|████████                        | 1/4 [00:00<00:00,  5.24it/s]\u001b[A\n",
      "Action: gender:  25%|███████▎                     | 1/4 [00:00<00:00,  5.24it/s]\u001b[A\n",
      "Action: gender:  50%|██████████████▌              | 2/4 [00:00<00:00,  5.17it/s]\u001b[A\n",
      "Action: race:  50%|███████████████▌               | 2/4 [00:00<00:00,  5.17it/s]\u001b[A\n",
      "Action: race:  75%|███████████████████████▎       | 3/4 [00:00<00:00,  5.23it/s]\u001b[A\n",
      "Action: emotion: 100%|████████████████████████████| 4/4 [00:00<00:00,  6.79it/s]\u001b[A\n",
      "486it [05:07,  1.62it/s]"
     ]
    },
    {
     "name": "stdout",
     "output_type": "stream",
     "text": [
      "/Users/jessecoulter/Downloads/FIN377/CEOPersonalities-/matched_pictures/John Ambroseo/2016\n"
     ]
    },
    {
     "name": "stderr",
     "output_type": "stream",
     "text": [
      "\n",
      "Finding actions:   0%|                                    | 0/4 [00:00<?, ?it/s]\u001b[A\n",
      "Action: age:   0%|                                        | 0/4 [00:00<?, ?it/s]\u001b[A\n",
      "Action: age:  25%|████████                        | 1/4 [00:00<00:00,  5.26it/s]\u001b[A\n",
      "Action: gender:  25%|███████▎                     | 1/4 [00:00<00:00,  5.26it/s]\u001b[A\n",
      "Action: gender:  50%|██████████████▌              | 2/4 [00:00<00:00,  5.23it/s]\u001b[A\n",
      "Action: race:  50%|███████████████▌               | 2/4 [00:00<00:00,  5.23it/s]\u001b[A\n",
      "Action: race:  75%|███████████████████████▎       | 3/4 [00:00<00:00,  5.26it/s]\u001b[A\n",
      "Action: emotion: 100%|████████████████████████████| 4/4 [00:00<00:00,  6.83it/s]\u001b[A\n",
      "487it [05:08,  1.61it/s]"
     ]
    },
    {
     "name": "stdout",
     "output_type": "stream",
     "text": [
      "/Users/jessecoulter/Downloads/FIN377/CEOPersonalities-/matched_pictures/John Ambroseo/2017\n"
     ]
    },
    {
     "name": "stderr",
     "output_type": "stream",
     "text": [
      "\n",
      "Finding actions:   0%|                                    | 0/4 [00:00<?, ?it/s]\u001b[A\n",
      "Action: age:   0%|                                        | 0/4 [00:00<?, ?it/s]\u001b[A\n",
      "Action: age:  25%|████████                        | 1/4 [00:00<00:00,  5.13it/s]\u001b[A\n",
      "Action: gender:  25%|███████▎                     | 1/4 [00:00<00:00,  5.13it/s]\u001b[A\n",
      "Action: gender:  50%|██████████████▌              | 2/4 [00:00<00:00,  5.02it/s]\u001b[A\n",
      "Action: race:  50%|███████████████▌               | 2/4 [00:00<00:00,  5.02it/s]\u001b[A\n",
      "Action: race:  75%|███████████████████████▎       | 3/4 [00:00<00:00,  5.14it/s]\u001b[A\n",
      "Action: emotion: 100%|████████████████████████████| 4/4 [00:00<00:00,  6.66it/s]\u001b[A\n",
      "488it [05:08,  1.60it/s]"
     ]
    },
    {
     "name": "stdout",
     "output_type": "stream",
     "text": [
      "/Users/jessecoulter/Downloads/FIN377/CEOPersonalities-/matched_pictures/John Ambroseo/2018\n"
     ]
    },
    {
     "name": "stderr",
     "output_type": "stream",
     "text": [
      "\n",
      "Finding actions:   0%|                                    | 0/4 [00:00<?, ?it/s]\u001b[A\n",
      "Action: age:   0%|                                        | 0/4 [00:00<?, ?it/s]\u001b[A\n",
      "Action: age:  25%|████████                        | 1/4 [00:00<00:00,  5.23it/s]\u001b[A\n",
      "Action: gender:  25%|███████▎                     | 1/4 [00:00<00:00,  5.23it/s]\u001b[A\n",
      "Action: gender:  50%|██████████████▌              | 2/4 [00:00<00:00,  5.22it/s]\u001b[A\n",
      "Action: race:  50%|███████████████▌               | 2/4 [00:00<00:00,  5.22it/s]\u001b[A\n",
      "Action: race:  75%|███████████████████████▎       | 3/4 [00:00<00:00,  5.20it/s]\u001b[A\n",
      "Action: emotion: 100%|████████████████████████████| 4/4 [00:00<00:00,  6.77it/s]\u001b[A\n",
      "489it [05:09,  1.60it/s]"
     ]
    },
    {
     "name": "stdout",
     "output_type": "stream",
     "text": [
      "/Users/jessecoulter/Downloads/FIN377/CEOPersonalities-/matched_pictures/John Ambroseo/2019\n"
     ]
    },
    {
     "name": "stderr",
     "output_type": "stream",
     "text": [
      "\n",
      "Finding actions:   0%|                                    | 0/4 [00:00<?, ?it/s]\u001b[A\n",
      "Action: age:   0%|                                        | 0/4 [00:00<?, ?it/s]\u001b[A\n",
      "Action: age:  25%|████████                        | 1/4 [00:00<00:00,  5.40it/s]\u001b[A\n",
      "Action: gender:  25%|███████▎                     | 1/4 [00:00<00:00,  5.40it/s]\u001b[A\n",
      "Action: gender:  50%|██████████████▌              | 2/4 [00:00<00:00,  5.29it/s]\u001b[A\n",
      "Action: race:  50%|███████████████▌               | 2/4 [00:00<00:00,  5.29it/s]\u001b[A\n",
      "Action: race:  75%|███████████████████████▎       | 3/4 [00:00<00:00,  5.28it/s]\u001b[A\n",
      "Action: emotion: 100%|████████████████████████████| 4/4 [00:00<00:00,  6.89it/s]\u001b[A\n",
      "490it [05:10,  1.52it/s]"
     ]
    },
    {
     "name": "stdout",
     "output_type": "stream",
     "text": [
      "/Users/jessecoulter/Downloads/FIN377/CEOPersonalities-/matched_pictures/Michael A. Bradley/2010\n",
      "Folder not found: /Users/jessecoulter/Downloads/FIN377/CEOPersonalities-/matched_pictures/Michael A. Bradley/2010\n",
      "/Users/jessecoulter/Downloads/FIN377/CEOPersonalities-/matched_pictures/Michael A. Bradley/2011\n"
     ]
    },
    {
     "name": "stderr",
     "output_type": "stream",
     "text": [
      "\n",
      "Finding actions:   0%|                                    | 0/4 [00:00<?, ?it/s]\u001b[A\n",
      "Action: age:   0%|                                        | 0/4 [00:00<?, ?it/s]\u001b[A\n",
      "Action: age:  25%|████████                        | 1/4 [00:00<00:00,  5.08it/s]\u001b[A\n",
      "Action: gender:  25%|███████▎                     | 1/4 [00:00<00:00,  5.08it/s]\u001b[A\n",
      "Action: gender:  50%|██████████████▌              | 2/4 [00:00<00:00,  5.15it/s]\u001b[A\n",
      "Action: race:  50%|███████████████▌               | 2/4 [00:00<00:00,  5.15it/s]\u001b[A\n",
      "Action: race:  75%|███████████████████████▎       | 3/4 [00:00<00:00,  5.20it/s]\u001b[A\n",
      "Action: emotion: 100%|████████████████████████████| 4/4 [00:00<00:00,  6.74it/s]\u001b[A\n",
      "492it [05:10,  2.00it/s]"
     ]
    },
    {
     "name": "stdout",
     "output_type": "stream",
     "text": [
      "/Users/jessecoulter/Downloads/FIN377/CEOPersonalities-/matched_pictures/Michael A. Bradley/2012\n"
     ]
    },
    {
     "name": "stderr",
     "output_type": "stream",
     "text": [
      "\n",
      "Finding actions:   0%|                                    | 0/4 [00:00<?, ?it/s]\u001b[A\n",
      "Action: age:   0%|                                        | 0/4 [00:00<?, ?it/s]\u001b[A\n",
      "Action: age:  25%|████████                        | 1/4 [00:00<00:00,  5.17it/s]\u001b[A\n",
      "Action: gender:  25%|███████▎                     | 1/4 [00:00<00:00,  5.17it/s]\u001b[A\n",
      "Action: gender:  50%|██████████████▌              | 2/4 [00:00<00:00,  5.28it/s]\u001b[A\n",
      "Action: race:  50%|███████████████▌               | 2/4 [00:00<00:00,  5.28it/s]\u001b[A\n",
      "Action: race:  75%|███████████████████████▎       | 3/4 [00:00<00:00,  5.26it/s]\u001b[A\n",
      "Action: emotion: 100%|████████████████████████████| 4/4 [00:00<00:00,  6.84it/s]\u001b[A\n",
      "493it [05:11,  1.89it/s]"
     ]
    },
    {
     "name": "stdout",
     "output_type": "stream",
     "text": [
      "/Users/jessecoulter/Downloads/FIN377/CEOPersonalities-/matched_pictures/Mark E. Jagiela/2013\n"
     ]
    },
    {
     "name": "stderr",
     "output_type": "stream",
     "text": [
      "\n",
      "Finding actions:   0%|                                    | 0/4 [00:00<?, ?it/s]\u001b[A\n",
      "Action: age:   0%|                                        | 0/4 [00:00<?, ?it/s]\u001b[A\n",
      "Action: age:  25%|████████                        | 1/4 [00:00<00:00,  5.21it/s]\u001b[A\n",
      "Action: gender:  25%|███████▎                     | 1/4 [00:00<00:00,  5.21it/s]\u001b[A\n",
      "Action: gender:  50%|██████████████▌              | 2/4 [00:00<00:00,  5.21it/s]\u001b[A\n",
      "Action: race:  50%|███████████████▌               | 2/4 [00:00<00:00,  5.21it/s]\u001b[A\n",
      "Action: race:  75%|███████████████████████▎       | 3/4 [00:00<00:00,  5.28it/s]\u001b[A\n",
      "Action: emotion: 100%|████████████████████████████| 4/4 [00:00<00:00,  6.84it/s]\u001b[A\n",
      "494it [05:12,  1.79it/s]"
     ]
    },
    {
     "name": "stdout",
     "output_type": "stream",
     "text": [
      "/Users/jessecoulter/Downloads/FIN377/CEOPersonalities-/matched_pictures/Mark E. Jagiela/2014\n"
     ]
    },
    {
     "name": "stderr",
     "output_type": "stream",
     "text": [
      "\n",
      "Finding actions:   0%|                                    | 0/4 [00:00<?, ?it/s]\u001b[A\n",
      "Action: age:   0%|                                        | 0/4 [00:00<?, ?it/s]\u001b[A\n",
      "Action: age:  25%|████████                        | 1/4 [00:00<00:00,  5.17it/s]\u001b[A\n",
      "Action: gender:  25%|███████▎                     | 1/4 [00:00<00:00,  5.17it/s]\u001b[A\n",
      "Action: gender:  50%|██████████████▌              | 2/4 [00:00<00:00,  5.20it/s]\u001b[A\n",
      "Action: race:  50%|███████████████▌               | 2/4 [00:00<00:00,  5.20it/s]\u001b[A\n",
      "Action: race:  75%|███████████████████████▎       | 3/4 [00:00<00:00,  5.21it/s]\u001b[A\n",
      "Action: emotion: 100%|████████████████████████████| 4/4 [00:00<00:00,  6.77it/s]\u001b[A\n",
      "495it [05:12,  1.71it/s]"
     ]
    },
    {
     "name": "stdout",
     "output_type": "stream",
     "text": [
      "/Users/jessecoulter/Downloads/FIN377/CEOPersonalities-/matched_pictures/Mark E. Jagiela/2015\n"
     ]
    },
    {
     "name": "stderr",
     "output_type": "stream",
     "text": [
      "\n",
      "Finding actions:   0%|                                    | 0/4 [00:00<?, ?it/s]\u001b[A\n",
      "Action: age:   0%|                                        | 0/4 [00:00<?, ?it/s]\u001b[A\n",
      "Action: age:  25%|████████                        | 1/4 [00:00<00:00,  5.21it/s]\u001b[A\n",
      "Action: gender:  25%|███████▎                     | 1/4 [00:00<00:00,  5.21it/s]\u001b[A\n",
      "Action: gender:  50%|██████████████▌              | 2/4 [00:00<00:00,  5.24it/s]\u001b[A\n",
      "Action: race:  50%|███████████████▌               | 2/4 [00:00<00:00,  5.24it/s]\u001b[A\n",
      "Action: race:  75%|███████████████████████▎       | 3/4 [00:00<00:00,  5.20it/s]\u001b[A\n",
      "Action: emotion: 100%|████████████████████████████| 4/4 [00:00<00:00,  6.77it/s]\u001b[A\n",
      "496it [05:13,  1.66it/s]"
     ]
    },
    {
     "name": "stdout",
     "output_type": "stream",
     "text": [
      "/Users/jessecoulter/Downloads/FIN377/CEOPersonalities-/matched_pictures/Mark E. Jagiela/2016\n"
     ]
    },
    {
     "name": "stderr",
     "output_type": "stream",
     "text": [
      "\n",
      "Finding actions:   0%|                                    | 0/4 [00:00<?, ?it/s]\u001b[A\n",
      "Action: age:   0%|                                        | 0/4 [00:00<?, ?it/s]\u001b[A\n",
      "Action: age:  25%|████████                        | 1/4 [00:00<00:00,  5.26it/s]\u001b[A\n",
      "Action: gender:  25%|███████▎                     | 1/4 [00:00<00:00,  5.26it/s]\u001b[A\n",
      "Action: gender:  50%|██████████████▌              | 2/4 [00:00<00:00,  5.24it/s]\u001b[A\n",
      "Action: race:  50%|███████████████▌               | 2/4 [00:00<00:00,  5.24it/s]\u001b[A\n",
      "Action: race:  75%|███████████████████████▎       | 3/4 [00:00<00:00,  5.26it/s]\u001b[A\n",
      "Action: emotion: 100%|████████████████████████████| 4/4 [00:00<00:00,  6.84it/s]\u001b[A\n",
      "497it [05:14,  1.63it/s]"
     ]
    },
    {
     "name": "stdout",
     "output_type": "stream",
     "text": [
      "/Users/jessecoulter/Downloads/FIN377/CEOPersonalities-/matched_pictures/Mark E. Jagiela/2017\n"
     ]
    },
    {
     "name": "stderr",
     "output_type": "stream",
     "text": [
      "\n",
      "Finding actions:   0%|                                    | 0/4 [00:00<?, ?it/s]\u001b[A\n",
      "Action: age:   0%|                                        | 0/4 [00:00<?, ?it/s]\u001b[A\n",
      "Action: age:  25%|████████                        | 1/4 [00:00<00:00,  5.10it/s]\u001b[A\n",
      "Action: gender:  25%|███████▎                     | 1/4 [00:00<00:00,  5.10it/s]\u001b[A\n",
      "Action: gender:  50%|██████████████▌              | 2/4 [00:00<00:00,  5.15it/s]\u001b[A\n",
      "Action: race:  50%|███████████████▌               | 2/4 [00:00<00:00,  5.15it/s]\u001b[A\n",
      "Action: race:  75%|███████████████████████▎       | 3/4 [00:00<00:00,  5.22it/s]\u001b[A\n",
      "Action: emotion: 100%|████████████████████████████| 4/4 [00:00<00:00,  6.76it/s]\u001b[A\n",
      "498it [05:14,  1.60it/s]"
     ]
    },
    {
     "name": "stdout",
     "output_type": "stream",
     "text": [
      "/Users/jessecoulter/Downloads/FIN377/CEOPersonalities-/matched_pictures/Mark E. Jagiela/2018\n"
     ]
    },
    {
     "name": "stderr",
     "output_type": "stream",
     "text": [
      "\n",
      "Finding actions:   0%|                                    | 0/4 [00:00<?, ?it/s]\u001b[A\n",
      "Action: age:   0%|                                        | 0/4 [00:00<?, ?it/s]\u001b[A\n",
      "Action: age:  25%|████████                        | 1/4 [00:00<00:00,  5.37it/s]\u001b[A\n",
      "Action: gender:  25%|███████▎                     | 1/4 [00:00<00:00,  5.37it/s]\u001b[A\n",
      "Action: gender:  50%|██████████████▌              | 2/4 [00:00<00:00,  5.30it/s]\u001b[A\n",
      "Action: race:  50%|███████████████▌               | 2/4 [00:00<00:00,  5.30it/s]\u001b[A\n",
      "Action: race:  75%|███████████████████████▎       | 3/4 [00:00<00:00,  5.24it/s]\u001b[A\n",
      "Action: emotion: 100%|████████████████████████████| 4/4 [00:00<00:00,  6.83it/s]\u001b[A\n",
      "499it [05:15,  1.52it/s]"
     ]
    },
    {
     "name": "stdout",
     "output_type": "stream",
     "text": [
      "/Users/jessecoulter/Downloads/FIN377/CEOPersonalities-/matched_pictures/Mark E. Jagiela/2019\n"
     ]
    },
    {
     "name": "stderr",
     "output_type": "stream",
     "text": [
      "\n",
      "Finding actions:   0%|                                    | 0/4 [00:00<?, ?it/s]\u001b[A\n",
      "Action: age:   0%|                                        | 0/4 [00:00<?, ?it/s]\u001b[A\n",
      "Action: age:  25%|████████                        | 1/4 [00:00<00:00,  5.45it/s]\u001b[A\n",
      "Action: gender:  25%|███████▎                     | 1/4 [00:00<00:00,  5.45it/s]\u001b[A\n",
      "Action: gender:  50%|██████████████▌              | 2/4 [00:00<00:00,  5.31it/s]\u001b[A\n",
      "Action: race:  50%|███████████████▌               | 2/4 [00:00<00:00,  5.31it/s]\u001b[A\n",
      "Action: race:  75%|███████████████████████▎       | 3/4 [00:00<00:00,  5.23it/s]\u001b[A\n",
      "Action: emotion: 100%|████████████████████████████| 4/4 [00:00<00:00,  6.84it/s]\u001b[A\n",
      "500it [05:16,  1.32it/s]"
     ]
    },
    {
     "name": "stdout",
     "output_type": "stream",
     "text": [
      "/Users/jessecoulter/Downloads/FIN377/CEOPersonalities-/matched_pictures/Anders Gustafsson/2010\n"
     ]
    },
    {
     "name": "stderr",
     "output_type": "stream",
     "text": [
      "\n",
      "Finding actions:   0%|                                    | 0/4 [00:00<?, ?it/s]\u001b[A\n",
      "Action: age:   0%|                                        | 0/4 [00:00<?, ?it/s]\u001b[A\n",
      "Action: age:  25%|████████                        | 1/4 [00:00<00:00,  5.39it/s]\u001b[A\n",
      "Action: gender:  25%|███████▎                     | 1/4 [00:00<00:00,  5.39it/s]\u001b[A\n",
      "Action: gender:  50%|██████████████▌              | 2/4 [00:00<00:00,  5.28it/s]\u001b[A\n",
      "Action: race:  50%|███████████████▌               | 2/4 [00:00<00:00,  5.28it/s]\u001b[A\n",
      "Action: race:  75%|███████████████████████▎       | 3/4 [00:00<00:00,  5.24it/s]\u001b[A\n",
      "Action: emotion: 100%|████████████████████████████| 4/4 [00:00<00:00,  6.84it/s]\u001b[A\n",
      "501it [05:17,  1.02it/s]"
     ]
    },
    {
     "name": "stdout",
     "output_type": "stream",
     "text": [
      "/Users/jessecoulter/Downloads/FIN377/CEOPersonalities-/matched_pictures/Anders Gustafsson/2011\n"
     ]
    },
    {
     "name": "stderr",
     "output_type": "stream",
     "text": [
      "\n",
      "Finding actions:   0%|                                    | 0/4 [00:00<?, ?it/s]\u001b[A\n",
      "Action: age:   0%|                                        | 0/4 [00:00<?, ?it/s]\u001b[A\n",
      "Action: age:  25%|████████                        | 1/4 [00:00<00:00,  5.49it/s]\u001b[A\n",
      "Action: gender:  25%|███████▎                     | 1/4 [00:00<00:00,  5.49it/s]\u001b[A\n",
      "Action: gender:  50%|██████████████▌              | 2/4 [00:00<00:00,  5.37it/s]\u001b[A\n",
      "Action: race:  50%|███████████████▌               | 2/4 [00:00<00:00,  5.37it/s]\u001b[A\n",
      "Action: race:  75%|███████████████████████▎       | 3/4 [00:00<00:00,  5.23it/s]\u001b[A\n",
      "Action: emotion: 100%|████████████████████████████| 4/4 [00:00<00:00,  6.86it/s]\u001b[A\n",
      "502it [05:19,  1.12s/it]"
     ]
    },
    {
     "name": "stdout",
     "output_type": "stream",
     "text": [
      "/Users/jessecoulter/Downloads/FIN377/CEOPersonalities-/matched_pictures/Anders Gustafsson/2012\n"
     ]
    },
    {
     "name": "stderr",
     "output_type": "stream",
     "text": [
      "\n",
      "Finding actions:   0%|                                    | 0/4 [00:00<?, ?it/s]\u001b[A\n",
      "Action: age:   0%|                                        | 0/4 [00:00<?, ?it/s]\u001b[A\n",
      "Action: age:  25%|████████                        | 1/4 [00:00<00:00,  5.36it/s]\u001b[A\n",
      "Action: gender:  25%|███████▎                     | 1/4 [00:00<00:00,  5.36it/s]\u001b[A\n",
      "Action: gender:  50%|██████████████▌              | 2/4 [00:00<00:00,  5.31it/s]\u001b[A\n",
      "Action: race:  50%|███████████████▌               | 2/4 [00:00<00:00,  5.31it/s]\u001b[A\n",
      "Action: race:  75%|███████████████████████▎       | 3/4 [00:00<00:00,  5.35it/s]\u001b[A\n",
      "Action: emotion: 100%|████████████████████████████| 4/4 [00:00<00:00,  6.95it/s]\u001b[A\n",
      "503it [05:20,  1.22s/it]"
     ]
    },
    {
     "name": "stdout",
     "output_type": "stream",
     "text": [
      "/Users/jessecoulter/Downloads/FIN377/CEOPersonalities-/matched_pictures/Anders Gustafsson/2013\n"
     ]
    },
    {
     "name": "stderr",
     "output_type": "stream",
     "text": [
      "\n",
      "Finding actions:   0%|                                    | 0/4 [00:00<?, ?it/s]\u001b[A\n",
      "Action: age:   0%|                                        | 0/4 [00:00<?, ?it/s]\u001b[A\n",
      "Action: age:  25%|████████                        | 1/4 [00:00<00:00,  5.47it/s]\u001b[A\n",
      "Action: gender:  25%|███████▎                     | 1/4 [00:00<00:00,  5.47it/s]\u001b[A\n",
      "Action: gender:  50%|██████████████▌              | 2/4 [00:00<00:00,  5.45it/s]\u001b[A\n",
      "Action: race:  50%|███████████████▌               | 2/4 [00:00<00:00,  5.45it/s]\u001b[A\n",
      "Action: race:  75%|███████████████████████▎       | 3/4 [00:00<00:00,  5.41it/s]\u001b[A\n",
      "Action: emotion: 100%|████████████████████████████| 4/4 [00:00<00:00,  7.05it/s]\u001b[A\n",
      "504it [05:22,  1.28s/it]"
     ]
    },
    {
     "name": "stdout",
     "output_type": "stream",
     "text": [
      "/Users/jessecoulter/Downloads/FIN377/CEOPersonalities-/matched_pictures/Anders Gustafsson/2014\n"
     ]
    },
    {
     "name": "stderr",
     "output_type": "stream",
     "text": [
      "\n",
      "Finding actions:   0%|                                    | 0/4 [00:00<?, ?it/s]\u001b[A\n",
      "Action: age:   0%|                                        | 0/4 [00:00<?, ?it/s]\u001b[A\n",
      "Action: age:  25%|████████                        | 1/4 [00:00<00:00,  5.53it/s]\u001b[A\n",
      "Action: gender:  25%|███████▎                     | 1/4 [00:00<00:00,  5.53it/s]\u001b[A\n",
      "Action: gender:  50%|██████████████▌              | 2/4 [00:00<00:00,  5.35it/s]\u001b[A\n",
      "Action: race:  50%|███████████████▌               | 2/4 [00:00<00:00,  5.35it/s]\u001b[A\n",
      "Action: race:  75%|███████████████████████▎       | 3/4 [00:00<00:00,  5.37it/s]\u001b[A\n",
      "Action: emotion: 100%|████████████████████████████| 4/4 [00:00<00:00,  7.00it/s]\u001b[A\n",
      "505it [05:23,  1.31s/it]"
     ]
    },
    {
     "name": "stdout",
     "output_type": "stream",
     "text": [
      "/Users/jessecoulter/Downloads/FIN377/CEOPersonalities-/matched_pictures/Anders Gustafsson/2015\n"
     ]
    },
    {
     "name": "stderr",
     "output_type": "stream",
     "text": [
      "\n",
      "Finding actions:   0%|                                    | 0/4 [00:00<?, ?it/s]\u001b[A\n",
      "Action: age:   0%|                                        | 0/4 [00:00<?, ?it/s]\u001b[A\n",
      "Action: age:  25%|████████                        | 1/4 [00:00<00:00,  5.43it/s]\u001b[A\n",
      "Action: gender:  25%|███████▎                     | 1/4 [00:00<00:00,  5.43it/s]\u001b[A\n",
      "Action: gender:  50%|██████████████▌              | 2/4 [00:00<00:00,  5.37it/s]\u001b[A\n",
      "Action: race:  50%|███████████████▌               | 2/4 [00:00<00:00,  5.37it/s]\u001b[A\n",
      "Action: race:  75%|███████████████████████▎       | 3/4 [00:00<00:00,  5.28it/s]\u001b[A\n",
      "Action: emotion: 100%|████████████████████████████| 4/4 [00:00<00:00,  6.90it/s]\u001b[A\n",
      "506it [05:25,  1.34s/it]"
     ]
    },
    {
     "name": "stdout",
     "output_type": "stream",
     "text": [
      "/Users/jessecoulter/Downloads/FIN377/CEOPersonalities-/matched_pictures/Anders Gustafsson/2016\n"
     ]
    },
    {
     "name": "stderr",
     "output_type": "stream",
     "text": [
      "\n",
      "Finding actions:   0%|                                    | 0/4 [00:00<?, ?it/s]\u001b[A\n",
      "Action: age:   0%|                                        | 0/4 [00:00<?, ?it/s]\u001b[A\n",
      "Action: age:  25%|████████                        | 1/4 [00:00<00:00,  5.49it/s]\u001b[A\n",
      "Action: gender:  25%|███████▎                     | 1/4 [00:00<00:00,  5.49it/s]\u001b[A\n",
      "Action: gender:  50%|██████████████▌              | 2/4 [00:00<00:00,  5.41it/s]\u001b[A\n",
      "Action: race:  50%|███████████████▌               | 2/4 [00:00<00:00,  5.41it/s]\u001b[A\n",
      "Action: race:  75%|███████████████████████▎       | 3/4 [00:00<00:00,  5.29it/s]\u001b[A\n",
      "Action: emotion: 100%|████████████████████████████| 4/4 [00:00<00:00,  6.93it/s]\u001b[A\n",
      "507it [05:26,  1.35s/it]"
     ]
    },
    {
     "name": "stdout",
     "output_type": "stream",
     "text": [
      "/Users/jessecoulter/Downloads/FIN377/CEOPersonalities-/matched_pictures/Anders Gustafsson/2017\n"
     ]
    },
    {
     "name": "stderr",
     "output_type": "stream",
     "text": [
      "\n",
      "Finding actions:   0%|                                    | 0/4 [00:00<?, ?it/s]\u001b[A\n",
      "Action: age:   0%|                                        | 0/4 [00:00<?, ?it/s]\u001b[A\n",
      "Action: age:  25%|████████                        | 1/4 [00:00<00:00,  5.45it/s]\u001b[A\n",
      "Action: gender:  25%|███████▎                     | 1/4 [00:00<00:00,  5.45it/s]\u001b[A\n",
      "Action: gender:  50%|██████████████▌              | 2/4 [00:00<00:00,  5.38it/s]\u001b[A\n",
      "Action: race:  50%|███████████████▌               | 2/4 [00:00<00:00,  5.38it/s]\u001b[A\n",
      "Action: race:  75%|███████████████████████▎       | 3/4 [00:00<00:00,  5.29it/s]\u001b[A\n",
      "Action: emotion: 100%|████████████████████████████| 4/4 [00:00<00:00,  6.92it/s]\u001b[A\n",
      "508it [05:27,  1.36s/it]"
     ]
    },
    {
     "name": "stdout",
     "output_type": "stream",
     "text": [
      "/Users/jessecoulter/Downloads/FIN377/CEOPersonalities-/matched_pictures/Anders Gustafsson/2018\n"
     ]
    },
    {
     "name": "stderr",
     "output_type": "stream",
     "text": [
      "\n",
      "Finding actions:   0%|                                    | 0/4 [00:00<?, ?it/s]\u001b[A\n",
      "Action: age:   0%|                                        | 0/4 [00:00<?, ?it/s]\u001b[A\n",
      "Action: age:  25%|████████                        | 1/4 [00:00<00:00,  5.08it/s]\u001b[A\n",
      "Action: gender:  25%|███████▎                     | 1/4 [00:00<00:00,  5.08it/s]\u001b[A\n",
      "Action: gender:  50%|██████████████▌              | 2/4 [00:00<00:00,  5.06it/s]\u001b[A\n",
      "Action: race:  50%|███████████████▌               | 2/4 [00:00<00:00,  5.06it/s]\u001b[A\n",
      "Action: race:  75%|███████████████████████▎       | 3/4 [00:00<00:00,  5.11it/s]\u001b[A\n",
      "Action: emotion: 100%|████████████████████████████| 4/4 [00:00<00:00,  6.64it/s]\u001b[A\n",
      "509it [05:29,  1.36s/it]"
     ]
    },
    {
     "name": "stdout",
     "output_type": "stream",
     "text": [
      "/Users/jessecoulter/Downloads/FIN377/CEOPersonalities-/matched_pictures/Anders Gustafsson/2019\n"
     ]
    },
    {
     "name": "stderr",
     "output_type": "stream",
     "text": [
      "\n",
      "Finding actions:   0%|                                    | 0/4 [00:00<?, ?it/s]\u001b[A\n",
      "Action: age:   0%|                                        | 0/4 [00:00<?, ?it/s]\u001b[A\n",
      "Action: age:  25%|████████                        | 1/4 [00:00<00:00,  5.57it/s]\u001b[A\n",
      "Action: gender:  25%|███████▎                     | 1/4 [00:00<00:00,  5.57it/s]\u001b[A\n",
      "Action: gender:  50%|██████████████▌              | 2/4 [00:00<00:00,  5.37it/s]\u001b[A\n",
      "Action: race:  50%|███████████████▌               | 2/4 [00:00<00:00,  5.37it/s]\u001b[A\n",
      "Action: race:  75%|███████████████████████▎       | 3/4 [00:00<00:00,  5.35it/s]\u001b[A\n",
      "Action: emotion: 100%|████████████████████████████| 4/4 [00:00<00:00,  6.99it/s]\u001b[A\n",
      "510it [05:30,  1.36s/it]"
     ]
    },
    {
     "name": "stdout",
     "output_type": "stream",
     "text": [
      "/Users/jessecoulter/Downloads/FIN377/CEOPersonalities-/matched_pictures/Steven W. Berglund/2010\n"
     ]
    },
    {
     "name": "stderr",
     "output_type": "stream",
     "text": [
      "\n",
      "Finding actions:   0%|                                    | 0/4 [00:00<?, ?it/s]\u001b[A\n",
      "Action: age:   0%|                                        | 0/4 [00:00<?, ?it/s]\u001b[A\n",
      "Action: age:  25%|████████                        | 1/4 [00:00<00:00,  5.32it/s]\u001b[A\n",
      "Action: gender:  25%|███████▎                     | 1/4 [00:00<00:00,  5.32it/s]\u001b[A\n",
      "Action: gender:  50%|██████████████▌              | 2/4 [00:00<00:00,  5.43it/s]\u001b[A\n",
      "Action: race:  50%|███████████████▌               | 2/4 [00:00<00:00,  5.43it/s]\u001b[A\n",
      "Action: race:  75%|███████████████████████▎       | 3/4 [00:00<00:00,  5.33it/s]\u001b[A\n",
      "Action: emotion: 100%|████████████████████████████| 4/4 [00:00<00:00,  6.95it/s]\u001b[A\n",
      "511it [05:31,  1.14s/it]"
     ]
    },
    {
     "name": "stdout",
     "output_type": "stream",
     "text": [
      "/Users/jessecoulter/Downloads/FIN377/CEOPersonalities-/matched_pictures/Steven W. Berglund/2011\n"
     ]
    },
    {
     "name": "stderr",
     "output_type": "stream",
     "text": [
      "\n",
      "Finding actions:   0%|                                    | 0/4 [00:00<?, ?it/s]\u001b[A\n",
      "Action: age:   0%|                                        | 0/4 [00:00<?, ?it/s]\u001b[A\n",
      "Action: age:  25%|████████                        | 1/4 [00:00<00:00,  5.15it/s]\u001b[A\n",
      "Action: gender:  25%|███████▎                     | 1/4 [00:00<00:00,  5.15it/s]\u001b[A\n",
      "Action: gender:  50%|██████████████▌              | 2/4 [00:00<00:00,  5.30it/s]\u001b[A\n",
      "Action: race:  50%|███████████████▌               | 2/4 [00:00<00:00,  5.30it/s]\u001b[A\n",
      "Action: race:  75%|███████████████████████▎       | 3/4 [00:00<00:00,  5.28it/s]\u001b[A\n",
      "Action: emotion: 100%|████████████████████████████| 4/4 [00:00<00:00,  6.85it/s]\u001b[A\n",
      "512it [05:31,  1.02it/s]"
     ]
    },
    {
     "name": "stdout",
     "output_type": "stream",
     "text": [
      "/Users/jessecoulter/Downloads/FIN377/CEOPersonalities-/matched_pictures/Steven W. Berglund/2012\n"
     ]
    },
    {
     "name": "stderr",
     "output_type": "stream",
     "text": [
      "\n",
      "Finding actions:   0%|                                    | 0/4 [00:00<?, ?it/s]\u001b[A\n",
      "Action: age:   0%|                                        | 0/4 [00:00<?, ?it/s]\u001b[A\n",
      "Action: age:  25%|████████                        | 1/4 [00:00<00:00,  5.29it/s]\u001b[A\n",
      "Action: gender:  25%|███████▎                     | 1/4 [00:00<00:00,  5.29it/s]\u001b[A\n",
      "Action: gender:  50%|██████████████▌              | 2/4 [00:00<00:00,  5.24it/s]\u001b[A\n",
      "Action: race:  50%|███████████████▌               | 2/4 [00:00<00:00,  5.24it/s]\u001b[A\n",
      "Action: race:  75%|███████████████████████▎       | 3/4 [00:00<00:00,  5.28it/s]\u001b[A\n",
      "Action: emotion: 100%|████████████████████████████| 4/4 [00:00<00:00,  6.86it/s]\u001b[A\n",
      "513it [05:32,  1.15it/s]"
     ]
    },
    {
     "name": "stdout",
     "output_type": "stream",
     "text": [
      "/Users/jessecoulter/Downloads/FIN377/CEOPersonalities-/matched_pictures/Steven W. Berglund/2013\n"
     ]
    },
    {
     "name": "stderr",
     "output_type": "stream",
     "text": [
      "\n",
      "Finding actions:   0%|                                    | 0/4 [00:00<?, ?it/s]\u001b[A\n",
      "Action: age:   0%|                                        | 0/4 [00:00<?, ?it/s]\u001b[A\n",
      "Action: age:  25%|████████                        | 1/4 [00:00<00:00,  5.34it/s]\u001b[A\n",
      "Action: gender:  25%|███████▎                     | 1/4 [00:00<00:00,  5.34it/s]\u001b[A\n",
      "Action: gender:  50%|██████████████▌              | 2/4 [00:00<00:00,  5.25it/s]\u001b[A\n",
      "Action: race:  50%|███████████████▌               | 2/4 [00:00<00:00,  5.25it/s]\u001b[A\n",
      "Action: race:  75%|███████████████████████▎       | 3/4 [00:00<00:00,  5.35it/s]\u001b[A\n",
      "Action: emotion: 100%|████████████████████████████| 4/4 [00:00<00:00,  6.94it/s]\u001b[A\n",
      "514it [05:32,  1.26it/s]"
     ]
    },
    {
     "name": "stdout",
     "output_type": "stream",
     "text": [
      "/Users/jessecoulter/Downloads/FIN377/CEOPersonalities-/matched_pictures/Steven W. Berglund/2014\n"
     ]
    },
    {
     "name": "stderr",
     "output_type": "stream",
     "text": [
      "\n",
      "Finding actions:   0%|                                    | 0/4 [00:00<?, ?it/s]\u001b[A\n",
      "Action: age:   0%|                                        | 0/4 [00:00<?, ?it/s]\u001b[A\n",
      "Action: age:  25%|████████                        | 1/4 [00:00<00:00,  5.43it/s]\u001b[A\n",
      "Action: gender:  25%|███████▎                     | 1/4 [00:00<00:00,  5.43it/s]\u001b[A\n",
      "Action: gender:  50%|██████████████▌              | 2/4 [00:00<00:00,  5.37it/s]\u001b[A\n",
      "Action: race:  50%|███████████████▌               | 2/4 [00:00<00:00,  5.37it/s]\u001b[A\n",
      "Action: race:  75%|███████████████████████▎       | 3/4 [00:00<00:00,  5.30it/s]\u001b[A\n",
      "Action: emotion: 100%|████████████████████████████| 4/4 [00:00<00:00,  6.92it/s]\u001b[A\n",
      "515it [05:33,  1.30it/s]"
     ]
    },
    {
     "name": "stdout",
     "output_type": "stream",
     "text": [
      "/Users/jessecoulter/Downloads/FIN377/CEOPersonalities-/matched_pictures/Steven W. Berglund/2015\n",
      "No image found in /Users/jessecoulter/Downloads/FIN377/CEOPersonalities-/matched_pictures/Steven W. Berglund/2015\n",
      "/Users/jessecoulter/Downloads/FIN377/CEOPersonalities-/matched_pictures/Steven W. Berglund/2016\n"
     ]
    },
    {
     "name": "stderr",
     "output_type": "stream",
     "text": [
      "\n",
      "Finding actions:   0%|                                    | 0/4 [00:00<?, ?it/s]\u001b[A\n",
      "Action: age:   0%|                                        | 0/4 [00:00<?, ?it/s]\u001b[A\n",
      "Action: age:  25%|████████                        | 1/4 [00:00<00:00,  5.29it/s]\u001b[A\n",
      "Action: gender:  25%|███████▎                     | 1/4 [00:00<00:00,  5.29it/s]\u001b[A\n",
      "Action: gender:  50%|██████████████▌              | 2/4 [00:00<00:00,  5.28it/s]\u001b[A\n",
      "Action: race:  50%|███████████████▌               | 2/4 [00:00<00:00,  5.28it/s]\u001b[A\n",
      "Action: race:  75%|███████████████████████▎       | 3/4 [00:00<00:00,  5.28it/s]\u001b[A\n",
      "Action: emotion: 100%|████████████████████████████| 4/4 [00:00<00:00,  6.87it/s]\u001b[A\n",
      "517it [05:34,  1.79it/s]"
     ]
    },
    {
     "name": "stdout",
     "output_type": "stream",
     "text": [
      "/Users/jessecoulter/Downloads/FIN377/CEOPersonalities-/matched_pictures/Steven W. Berglund/2017\n",
      "No image found in /Users/jessecoulter/Downloads/FIN377/CEOPersonalities-/matched_pictures/Steven W. Berglund/2017\n",
      "/Users/jessecoulter/Downloads/FIN377/CEOPersonalities-/matched_pictures/Steven W. Berglund/2018\n"
     ]
    },
    {
     "name": "stderr",
     "output_type": "stream",
     "text": [
      "\n",
      "Finding actions:   0%|                                    | 0/4 [00:00<?, ?it/s]\u001b[A\n",
      "Action: age:   0%|                                        | 0/4 [00:00<?, ?it/s]\u001b[A\n",
      "Action: age:  25%|████████                        | 1/4 [00:00<00:00,  5.36it/s]\u001b[A\n",
      "Action: gender:  25%|███████▎                     | 1/4 [00:00<00:00,  5.36it/s]\u001b[A\n",
      "Action: gender:  50%|██████████████▌              | 2/4 [00:00<00:00,  5.34it/s]\u001b[A\n",
      "Action: race:  50%|███████████████▌               | 2/4 [00:00<00:00,  5.34it/s]\u001b[A\n",
      "Action: race:  75%|███████████████████████▎       | 3/4 [00:00<00:00,  5.37it/s]\u001b[A\n",
      "Action: emotion: 100%|████████████████████████████| 4/4 [00:00<00:00,  6.98it/s]\u001b[A\n",
      "519it [05:34,  2.18it/s]"
     ]
    },
    {
     "name": "stdout",
     "output_type": "stream",
     "text": [
      "/Users/jessecoulter/Downloads/FIN377/CEOPersonalities-/matched_pictures/Steven W. Berglund/2019\n"
     ]
    },
    {
     "name": "stderr",
     "output_type": "stream",
     "text": [
      "\n",
      "Finding actions:   0%|                                    | 0/4 [00:00<?, ?it/s]\u001b[A\n",
      "Action: age:   0%|                                        | 0/4 [00:00<?, ?it/s]\u001b[A\n",
      "Action: age:  25%|████████                        | 1/4 [00:00<00:00,  5.24it/s]\u001b[A\n",
      "Action: gender:  25%|███████▎                     | 1/4 [00:00<00:00,  5.24it/s]\u001b[A\n",
      "Action: gender:  50%|██████████████▌              | 2/4 [00:00<00:00,  5.19it/s]\u001b[A\n",
      "Action: race:  50%|███████████████▌               | 2/4 [00:00<00:00,  5.19it/s]\u001b[A\n",
      "Action: race:  75%|███████████████████████▎       | 3/4 [00:00<00:00,  5.26it/s]\u001b[A\n",
      "Action: emotion: 100%|████████████████████████████| 4/4 [00:00<00:00,  6.83it/s]\u001b[A\n",
      "520it [05:35,  2.03it/s]"
     ]
    },
    {
     "name": "stdout",
     "output_type": "stream",
     "text": [
      "/Users/jessecoulter/Downloads/FIN377/CEOPersonalities-/matched_pictures/John S. Marr Jr./2010\n"
     ]
    },
    {
     "name": "stderr",
     "output_type": "stream",
     "text": [
      "\n",
      "Finding actions:   0%|                                    | 0/4 [00:00<?, ?it/s]\u001b[A\n",
      "Action: age:   0%|                                        | 0/4 [00:00<?, ?it/s]\u001b[A\n",
      "Action: age:  25%|████████                        | 1/4 [00:00<00:00,  5.40it/s]\u001b[A\n",
      "Action: gender:  25%|███████▎                     | 1/4 [00:00<00:00,  5.40it/s]\u001b[A\n",
      "Action: gender:  50%|██████████████▌              | 2/4 [00:00<00:00,  5.40it/s]\u001b[A\n",
      "Action: race:  50%|███████████████▌               | 2/4 [00:00<00:00,  5.40it/s]\u001b[A\n",
      "Action: race:  75%|███████████████████████▎       | 3/4 [00:00<00:00,  5.37it/s]\u001b[A\n",
      "Action: emotion: 100%|████████████████████████████| 4/4 [00:00<00:00,  6.99it/s]\u001b[A\n",
      "521it [05:36,  1.92it/s]"
     ]
    },
    {
     "name": "stdout",
     "output_type": "stream",
     "text": [
      "/Users/jessecoulter/Downloads/FIN377/CEOPersonalities-/matched_pictures/John S. Marr Jr./2011\n"
     ]
    },
    {
     "name": "stderr",
     "output_type": "stream",
     "text": [
      "\n",
      "Finding actions:   0%|                                    | 0/4 [00:00<?, ?it/s]\u001b[A\n",
      "Action: age:   0%|                                        | 0/4 [00:00<?, ?it/s]\u001b[A\n",
      "Action: age:  25%|████████                        | 1/4 [00:00<00:00,  5.24it/s]\u001b[A\n",
      "Action: gender:  25%|███████▎                     | 1/4 [00:00<00:00,  5.24it/s]\u001b[A\n",
      "Action: gender:  50%|██████████████▌              | 2/4 [00:00<00:00,  5.27it/s]\u001b[A\n",
      "Action: race:  50%|███████████████▌               | 2/4 [00:00<00:00,  5.27it/s]\u001b[A\n",
      "Action: race:  75%|███████████████████████▎       | 3/4 [00:00<00:00,  5.26it/s]\u001b[A\n",
      "Action: emotion: 100%|████████████████████████████| 4/4 [00:00<00:00,  6.84it/s]\u001b[A\n",
      "522it [05:36,  1.83it/s]"
     ]
    },
    {
     "name": "stdout",
     "output_type": "stream",
     "text": [
      "/Users/jessecoulter/Downloads/FIN377/CEOPersonalities-/matched_pictures/John S. Marr Jr./2012\n"
     ]
    },
    {
     "name": "stderr",
     "output_type": "stream",
     "text": [
      "\n",
      "Finding actions:   0%|                                    | 0/4 [00:00<?, ?it/s]\u001b[A\n",
      "Action: age:   0%|                                        | 0/4 [00:00<?, ?it/s]\u001b[A\n",
      "Action: age:  25%|████████                        | 1/4 [00:00<00:00,  5.34it/s]\u001b[A\n",
      "Action: gender:  25%|███████▎                     | 1/4 [00:00<00:00,  5.34it/s]\u001b[A\n",
      "Action: gender:  50%|██████████████▌              | 2/4 [00:00<00:00,  5.35it/s]\u001b[A\n",
      "Action: race:  50%|███████████████▌               | 2/4 [00:00<00:00,  5.35it/s]\u001b[A\n",
      "Action: race:  75%|███████████████████████▎       | 3/4 [00:00<00:00,  5.35it/s]\u001b[A\n",
      "Action: emotion: 100%|████████████████████████████| 4/4 [00:00<00:00,  6.96it/s]\u001b[A\n",
      "523it [05:37,  1.78it/s]"
     ]
    },
    {
     "name": "stdout",
     "output_type": "stream",
     "text": [
      "/Users/jessecoulter/Downloads/FIN377/CEOPersonalities-/matched_pictures/John S. Marr Jr./2013\n"
     ]
    },
    {
     "name": "stderr",
     "output_type": "stream",
     "text": [
      "\n",
      "Finding actions:   0%|                                    | 0/4 [00:00<?, ?it/s]\u001b[A\n",
      "Action: age:   0%|                                        | 0/4 [00:00<?, ?it/s]\u001b[A\n",
      "Action: age:  25%|████████                        | 1/4 [00:00<00:00,  5.40it/s]\u001b[A\n",
      "Action: gender:  25%|███████▎                     | 1/4 [00:00<00:00,  5.40it/s]\u001b[A\n",
      "Action: gender:  50%|██████████████▌              | 2/4 [00:00<00:00,  5.39it/s]\u001b[A\n",
      "Action: race:  50%|███████████████▌               | 2/4 [00:00<00:00,  5.39it/s]\u001b[A\n",
      "Action: race:  75%|███████████████████████▎       | 3/4 [00:00<00:00,  5.42it/s]\u001b[A\n",
      "Action: emotion: 100%|████████████████████████████| 4/4 [00:00<00:00,  7.03it/s]\u001b[A\n",
      "524it [05:37,  1.74it/s]"
     ]
    },
    {
     "name": "stdout",
     "output_type": "stream",
     "text": [
      "/Users/jessecoulter/Downloads/FIN377/CEOPersonalities-/matched_pictures/John S. Marr Jr./2014\n"
     ]
    },
    {
     "name": "stderr",
     "output_type": "stream",
     "text": [
      "\n",
      "Finding actions:   0%|                                    | 0/4 [00:00<?, ?it/s]\u001b[A\n",
      "Action: age:   0%|                                        | 0/4 [00:00<?, ?it/s]\u001b[A\n",
      "Action: age:  25%|████████                        | 1/4 [00:00<00:00,  5.32it/s]\u001b[A\n",
      "Action: gender:  25%|███████▎                     | 1/4 [00:00<00:00,  5.32it/s]\u001b[A\n",
      "Action: gender:  50%|██████████████▌              | 2/4 [00:00<00:00,  5.26it/s]\u001b[A\n",
      "Action: race:  50%|███████████████▌               | 2/4 [00:00<00:00,  5.26it/s]\u001b[A\n",
      "Action: race:  75%|███████████████████████▎       | 3/4 [00:00<00:00,  5.28it/s]\u001b[A\n",
      "Action: emotion: 100%|████████████████████████████| 4/4 [00:00<00:00,  6.87it/s]\u001b[A\n",
      "525it [05:38,  1.71it/s]"
     ]
    },
    {
     "name": "stdout",
     "output_type": "stream",
     "text": [
      "/Users/jessecoulter/Downloads/FIN377/CEOPersonalities-/matched_pictures/John S. Marr Jr./2015\n"
     ]
    },
    {
     "name": "stderr",
     "output_type": "stream",
     "text": [
      "\n",
      "Finding actions:   0%|                                    | 0/4 [00:00<?, ?it/s]\u001b[A\n",
      "Action: age:   0%|                                        | 0/4 [00:00<?, ?it/s]\u001b[A\n",
      "Action: age:  25%|████████                        | 1/4 [00:00<00:00,  5.11it/s]\u001b[A\n",
      "Action: gender:  25%|███████▎                     | 1/4 [00:00<00:00,  5.11it/s]\u001b[A\n",
      "Action: gender:  50%|██████████████▌              | 2/4 [00:00<00:00,  5.12it/s]\u001b[A\n",
      "Action: race:  50%|███████████████▌               | 2/4 [00:00<00:00,  5.12it/s]\u001b[A\n",
      "Action: race:  75%|███████████████████████▎       | 3/4 [00:00<00:00,  5.26it/s]\u001b[A\n",
      "Action: emotion: 100%|████████████████████████████| 4/4 [00:00<00:00,  6.79it/s]\u001b[A\n",
      "526it [05:39,  1.68it/s]"
     ]
    },
    {
     "name": "stdout",
     "output_type": "stream",
     "text": [
      "/Users/jessecoulter/Downloads/FIN377/CEOPersonalities-/matched_pictures/John S. Marr Jr./2016\n"
     ]
    },
    {
     "name": "stderr",
     "output_type": "stream",
     "text": [
      "\n",
      "Finding actions:   0%|                                    | 0/4 [00:00<?, ?it/s]\u001b[A\n",
      "Action: age:   0%|                                        | 0/4 [00:00<?, ?it/s]\u001b[A\n",
      "Action: age:  25%|████████                        | 1/4 [00:00<00:00,  5.49it/s]\u001b[A\n",
      "Action: gender:  25%|███████▎                     | 1/4 [00:00<00:00,  5.49it/s]\u001b[A\n",
      "Action: gender:  50%|██████████████▌              | 2/4 [00:00<00:00,  5.38it/s]\u001b[A\n",
      "Action: race:  50%|███████████████▌               | 2/4 [00:00<00:00,  5.38it/s]\u001b[A\n",
      "Action: race:  75%|███████████████████████▎       | 3/4 [00:00<00:00,  5.35it/s]\u001b[A\n",
      "Action: emotion: 100%|████████████████████████████| 4/4 [00:00<00:00,  6.98it/s]\u001b[A\n",
      "527it [05:39,  1.61it/s]"
     ]
    },
    {
     "name": "stdout",
     "output_type": "stream",
     "text": [
      "/Users/jessecoulter/Downloads/FIN377/CEOPersonalities-/matched_pictures/John S. Marr Jr./2017\n"
     ]
    },
    {
     "name": "stderr",
     "output_type": "stream",
     "text": [
      "\n",
      "Finding actions:   0%|                                    | 0/4 [00:00<?, ?it/s]\u001b[A\n",
      "Action: age:   0%|                                        | 0/4 [00:00<?, ?it/s]\u001b[A\n",
      "Action: age:  25%|████████                        | 1/4 [00:00<00:00,  5.38it/s]\u001b[A\n",
      "Action: gender:  25%|███████▎                     | 1/4 [00:00<00:00,  5.38it/s]\u001b[A\n",
      "Action: gender:  50%|██████████████▌              | 2/4 [00:00<00:00,  5.38it/s]\u001b[A\n",
      "Action: race:  50%|███████████████▌               | 2/4 [00:00<00:00,  5.38it/s]\u001b[A\n",
      "Action: race:  75%|███████████████████████▎       | 3/4 [00:00<00:00,  5.28it/s]\u001b[A\n",
      "Action: emotion: 100%|████████████████████████████| 4/4 [00:00<00:00,  6.90it/s]\u001b[A\n",
      "528it [05:40,  1.62it/s]"
     ]
    },
    {
     "name": "stdout",
     "output_type": "stream",
     "text": [
      "/Users/jessecoulter/Downloads/FIN377/CEOPersonalities-/matched_pictures/John S. Marr Jr./2018\n"
     ]
    },
    {
     "name": "stderr",
     "output_type": "stream",
     "text": [
      "\n",
      "Finding actions:   0%|                                    | 0/4 [00:00<?, ?it/s]\u001b[A\n",
      "Action: age:   0%|                                        | 0/4 [00:00<?, ?it/s]\u001b[A\n",
      "Action: age:  25%|████████                        | 1/4 [00:00<00:00,  5.29it/s]\u001b[A\n",
      "Action: gender:  25%|███████▎                     | 1/4 [00:00<00:00,  5.29it/s]\u001b[A\n",
      "Action: gender:  50%|██████████████▌              | 2/4 [00:00<00:00,  5.37it/s]\u001b[A\n",
      "Action: race:  50%|███████████████▌               | 2/4 [00:00<00:00,  5.37it/s]\u001b[A\n",
      "Action: race:  75%|███████████████████████▎       | 3/4 [00:00<00:00,  5.29it/s]\u001b[A\n",
      "Action: emotion: 100%|████████████████████████████| 4/4 [00:00<00:00,  6.90it/s]\u001b[A\n",
      "529it [05:41,  1.63it/s]"
     ]
    },
    {
     "name": "stdout",
     "output_type": "stream",
     "text": [
      "/Users/jessecoulter/Downloads/FIN377/CEOPersonalities-/matched_pictures/Lynn Moore Jr./2019\n"
     ]
    },
    {
     "name": "stderr",
     "output_type": "stream",
     "text": [
      "\n",
      "Finding actions:   0%|                                    | 0/4 [00:00<?, ?it/s]\u001b[A\n",
      "Action: age:   0%|                                        | 0/4 [00:00<?, ?it/s]\u001b[A\n",
      "Action: age:  25%|████████                        | 1/4 [00:00<00:00,  5.18it/s]\u001b[A\n",
      "Action: gender:  25%|███████▎                     | 1/4 [00:00<00:00,  5.18it/s]\u001b[A\n",
      "Action: gender:  50%|██████████████▌              | 2/4 [00:00<00:00,  5.21it/s]\u001b[A\n",
      "Action: race:  50%|███████████████▌               | 2/4 [00:00<00:00,  5.21it/s]\u001b[A\n",
      "Action: race:  75%|███████████████████████▎       | 3/4 [00:00<00:00,  5.28it/s]\u001b[A\n",
      "Action: emotion: 100%|████████████████████████████| 4/4 [00:00<00:00,  6.84it/s]\u001b[A\n",
      "530it [05:41,  1.57it/s]"
     ]
    },
    {
     "name": "stdout",
     "output_type": "stream",
     "text": [
      "/Users/jessecoulter/Downloads/FIN377/CEOPersonalities-/matched_pictures/Francisco D’Souza/2010\n",
      "Error analyzing /Users/jessecoulter/Downloads/FIN377/CEOPersonalities-/matched_pictures/Francisco D’Souza/2010/pic1.jpg: Input image must not have non-english characters - /Users/jessecoulter/Downloads/FIN377/CEOPersonalities-/matched_pictures/Francisco D’Souza/2010/pic1.jpg\n",
      "/Users/jessecoulter/Downloads/FIN377/CEOPersonalities-/matched_pictures/Francisco D’Souza/2011\n",
      "Error analyzing /Users/jessecoulter/Downloads/FIN377/CEOPersonalities-/matched_pictures/Francisco D’Souza/2011/pic1.jpg: Input image must not have non-english characters - /Users/jessecoulter/Downloads/FIN377/CEOPersonalities-/matched_pictures/Francisco D’Souza/2011/pic1.jpg\n",
      "/Users/jessecoulter/Downloads/FIN377/CEOPersonalities-/matched_pictures/Francisco D’Souza/2012\n",
      "Error analyzing /Users/jessecoulter/Downloads/FIN377/CEOPersonalities-/matched_pictures/Francisco D’Souza/2012/pic1.jpg: Input image must not have non-english characters - /Users/jessecoulter/Downloads/FIN377/CEOPersonalities-/matched_pictures/Francisco D’Souza/2012/pic1.jpg\n",
      "/Users/jessecoulter/Downloads/FIN377/CEOPersonalities-/matched_pictures/Francisco D’Souza/2013\n",
      "Error analyzing /Users/jessecoulter/Downloads/FIN377/CEOPersonalities-/matched_pictures/Francisco D’Souza/2013/pic1.jpg: Input image must not have non-english characters - /Users/jessecoulter/Downloads/FIN377/CEOPersonalities-/matched_pictures/Francisco D’Souza/2013/pic1.jpg\n",
      "/Users/jessecoulter/Downloads/FIN377/CEOPersonalities-/matched_pictures/Francisco D’Souza/2014\n",
      "Error analyzing /Users/jessecoulter/Downloads/FIN377/CEOPersonalities-/matched_pictures/Francisco D’Souza/2014/pic1.jpg: Input image must not have non-english characters - /Users/jessecoulter/Downloads/FIN377/CEOPersonalities-/matched_pictures/Francisco D’Souza/2014/pic1.jpg\n",
      "/Users/jessecoulter/Downloads/FIN377/CEOPersonalities-/matched_pictures/Francisco D’Souza/2015\n",
      "Error analyzing /Users/jessecoulter/Downloads/FIN377/CEOPersonalities-/matched_pictures/Francisco D’Souza/2015/pic1.jpg: Input image must not have non-english characters - /Users/jessecoulter/Downloads/FIN377/CEOPersonalities-/matched_pictures/Francisco D’Souza/2015/pic1.jpg\n",
      "/Users/jessecoulter/Downloads/FIN377/CEOPersonalities-/matched_pictures/Francisco D’Souza/2016\n",
      "Error analyzing /Users/jessecoulter/Downloads/FIN377/CEOPersonalities-/matched_pictures/Francisco D’Souza/2016/pic1.jpg: Input image must not have non-english characters - /Users/jessecoulter/Downloads/FIN377/CEOPersonalities-/matched_pictures/Francisco D’Souza/2016/pic1.jpg\n",
      "/Users/jessecoulter/Downloads/FIN377/CEOPersonalities-/matched_pictures/Francisco D’Souza/2017\n",
      "Error analyzing /Users/jessecoulter/Downloads/FIN377/CEOPersonalities-/matched_pictures/Francisco D’Souza/2017/pic1.jpg: Input image must not have non-english characters - /Users/jessecoulter/Downloads/FIN377/CEOPersonalities-/matched_pictures/Francisco D’Souza/2017/pic1.jpg\n",
      "/Users/jessecoulter/Downloads/FIN377/CEOPersonalities-/matched_pictures/Francisco D’Souza/2018\n",
      "Error analyzing /Users/jessecoulter/Downloads/FIN377/CEOPersonalities-/matched_pictures/Francisco D’Souza/2018/pic1.jpg: Input image must not have non-english characters - /Users/jessecoulter/Downloads/FIN377/CEOPersonalities-/matched_pictures/Francisco D’Souza/2018/pic1.jpg\n",
      "/Users/jessecoulter/Downloads/FIN377/CEOPersonalities-/matched_pictures/Brian Humphries/2019\n"
     ]
    },
    {
     "name": "stderr",
     "output_type": "stream",
     "text": [
      "\n",
      "Finding actions:   0%|                                    | 0/4 [00:00<?, ?it/s]\u001b[A\n",
      "Action: age:   0%|                                        | 0/4 [00:00<?, ?it/s]\u001b[A\n",
      "Action: age:  25%|████████                        | 1/4 [00:00<00:00,  5.60it/s]\u001b[A\n",
      "Action: gender:  25%|███████▎                     | 1/4 [00:00<00:00,  5.60it/s]\u001b[A\n",
      "Action: gender:  50%|██████████████▌              | 2/4 [00:00<00:00,  5.40it/s]\u001b[A\n",
      "Action: race:  50%|███████████████▌               | 2/4 [00:00<00:00,  5.40it/s]\u001b[A\n",
      "Action: race:  75%|███████████████████████▎       | 3/4 [00:00<00:00,  5.31it/s]\u001b[A\n",
      "Action: emotion: 100%|████████████████████████████| 4/4 [00:00<00:00,  6.96it/s]\u001b[A\n",
      "\n",
      "Finding actions:   0%|                                    | 0/4 [00:00<?, ?it/s]\u001b[A\n",
      "Action: age:   0%|                                        | 0/4 [00:00<?, ?it/s]\u001b[A\n",
      "Action: age:  25%|████████                        | 1/4 [00:00<00:00,  5.34it/s]\u001b[A\n",
      "Action: gender:  25%|███████▎                     | 1/4 [00:00<00:00,  5.34it/s]\u001b[A\n",
      "Action: gender:  50%|██████████████▌              | 2/4 [00:00<00:00,  5.38it/s]\u001b[A\n",
      "Action: race:  50%|███████████████▌               | 2/4 [00:00<00:00,  5.38it/s]\u001b[A\n",
      "Action: race:  75%|███████████████████████▎       | 3/4 [00:00<00:00,  5.35it/s]\u001b[A\n",
      "Action: emotion: 100%|████████████████████████████| 4/4 [00:00<00:00,  6.96it/s]\u001b[A\n",
      "540it [05:43,  4.13it/s]"
     ]
    },
    {
     "name": "stdout",
     "output_type": "stream",
     "text": [
      "/Users/jessecoulter/Downloads/FIN377/CEOPersonalities-/matched_pictures/John Jumper/2010\n"
     ]
    },
    {
     "name": "stderr",
     "output_type": "stream",
     "text": [
      "\n",
      "Finding actions:   0%|                                    | 0/4 [00:00<?, ?it/s]\u001b[A\n",
      "Action: age:   0%|                                        | 0/4 [00:00<?, ?it/s]\u001b[A\n",
      "Action: age:  25%|████████                        | 1/4 [00:00<00:00,  5.30it/s]\u001b[A\n",
      "Action: gender:  25%|███████▎                     | 1/4 [00:00<00:00,  5.30it/s]\u001b[A\n",
      "Action: gender:  50%|██████████████▌              | 2/4 [00:00<00:00,  5.27it/s]\u001b[A\n",
      "Action: race:  50%|███████████████▌               | 2/4 [00:00<00:00,  5.27it/s]\u001b[A\n",
      "Action: race:  75%|███████████████████████▎       | 3/4 [00:00<00:00,  5.36it/s]\u001b[A\n",
      "Action: emotion: 100%|████████████████████████████| 4/4 [00:00<00:00,  6.94it/s]\u001b[A\n",
      "541it [05:43,  3.55it/s]"
     ]
    },
    {
     "name": "stdout",
     "output_type": "stream",
     "text": [
      "/Users/jessecoulter/Downloads/FIN377/CEOPersonalities-/matched_pictures/John Jumper/2011\n"
     ]
    },
    {
     "name": "stderr",
     "output_type": "stream",
     "text": [
      "\n",
      "Finding actions:   0%|                                    | 0/4 [00:00<?, ?it/s]\u001b[A\n",
      "Action: age:   0%|                                        | 0/4 [00:00<?, ?it/s]\u001b[A\n",
      "Action: age:  25%|████████                        | 1/4 [00:00<00:00,  5.37it/s]\u001b[A\n",
      "Action: gender:  25%|███████▎                     | 1/4 [00:00<00:00,  5.37it/s]\u001b[A\n",
      "Action: gender:  50%|██████████████▌              | 2/4 [00:00<00:00,  5.30it/s]\u001b[A\n",
      "Action: race:  50%|███████████████▌               | 2/4 [00:00<00:00,  5.30it/s]\u001b[A\n",
      "Action: race:  75%|███████████████████████▎       | 3/4 [00:00<00:00,  5.34it/s]\u001b[A\n",
      "Action: emotion: 100%|████████████████████████████| 4/4 [00:00<00:00,  6.95it/s]\u001b[A\n",
      "542it [05:44,  3.07it/s]"
     ]
    },
    {
     "name": "stdout",
     "output_type": "stream",
     "text": [
      "/Users/jessecoulter/Downloads/FIN377/CEOPersonalities-/matched_pictures/John Jumper/2012\n"
     ]
    },
    {
     "name": "stderr",
     "output_type": "stream",
     "text": [
      "\n",
      "Finding actions:   0%|                                    | 0/4 [00:00<?, ?it/s]\u001b[A\n",
      "Action: age:   0%|                                        | 0/4 [00:00<?, ?it/s]\u001b[A\n",
      "Action: age:  25%|████████                        | 1/4 [00:00<00:00,  5.30it/s]\u001b[A\n",
      "Action: gender:  25%|███████▎                     | 1/4 [00:00<00:00,  5.30it/s]\u001b[A\n",
      "Action: gender:  50%|██████████████▌              | 2/4 [00:00<00:00,  5.38it/s]\u001b[A\n",
      "Action: race:  50%|███████████████▌               | 2/4 [00:00<00:00,  5.38it/s]\u001b[A\n",
      "Action: race:  75%|███████████████████████▎       | 3/4 [00:00<00:00,  5.38it/s]\u001b[A\n",
      "Action: emotion: 100%|████████████████████████████| 4/4 [00:00<00:00,  6.99it/s]\u001b[A\n",
      "543it [05:45,  2.69it/s]"
     ]
    },
    {
     "name": "stdout",
     "output_type": "stream",
     "text": [
      "/Users/jessecoulter/Downloads/FIN377/CEOPersonalities-/matched_pictures/John Jumper/2013\n"
     ]
    },
    {
     "name": "stderr",
     "output_type": "stream",
     "text": [
      "\n",
      "Finding actions:   0%|                                    | 0/4 [00:00<?, ?it/s]\u001b[A\n",
      "Action: age:   0%|                                        | 0/4 [00:00<?, ?it/s]\u001b[A\n",
      "Action: age:  25%|████████                        | 1/4 [00:00<00:00,  5.29it/s]\u001b[A\n",
      "Action: gender:  25%|███████▎                     | 1/4 [00:00<00:00,  5.29it/s]\u001b[A\n",
      "Action: gender:  50%|██████████████▌              | 2/4 [00:00<00:00,  5.38it/s]\u001b[A\n",
      "Action: race:  50%|███████████████▌               | 2/4 [00:00<00:00,  5.38it/s]\u001b[A\n",
      "Action: race:  75%|███████████████████████▎       | 3/4 [00:00<00:00,  5.35it/s]\u001b[A\n",
      "Action: emotion: 100%|████████████████████████████| 4/4 [00:00<00:00,  6.94it/s]\u001b[A\n",
      "544it [05:45,  2.42it/s]"
     ]
    },
    {
     "name": "stdout",
     "output_type": "stream",
     "text": [
      "/Users/jessecoulter/Downloads/FIN377/CEOPersonalities-/matched_pictures/Roger Krone/2014\n"
     ]
    },
    {
     "name": "stderr",
     "output_type": "stream",
     "text": [
      "\n",
      "Finding actions:   0%|                                    | 0/4 [00:00<?, ?it/s]\u001b[A\n",
      "Action: age:   0%|                                        | 0/4 [00:00<?, ?it/s]\u001b[A\n",
      "Action: age:  25%|████████                        | 1/4 [00:00<00:00,  5.22it/s]\u001b[A\n",
      "Action: gender:  25%|███████▎                     | 1/4 [00:00<00:00,  5.22it/s]\u001b[A\n",
      "Action: gender:  50%|██████████████▌              | 2/4 [00:00<00:00,  5.33it/s]\u001b[A\n",
      "Action: race:  50%|███████████████▌               | 2/4 [00:00<00:00,  5.33it/s]\u001b[A\n",
      "Action: race:  75%|███████████████████████▎       | 3/4 [00:00<00:00,  5.27it/s]\u001b[A\n",
      "Action: emotion: 100%|████████████████████████████| 4/4 [00:00<00:00,  6.85it/s]\u001b[A\n",
      "545it [05:46,  2.20it/s]"
     ]
    },
    {
     "name": "stdout",
     "output_type": "stream",
     "text": [
      "/Users/jessecoulter/Downloads/FIN377/CEOPersonalities-/matched_pictures/Roger Krone/2015\n"
     ]
    },
    {
     "name": "stderr",
     "output_type": "stream",
     "text": [
      "\n",
      "Finding actions:   0%|                                    | 0/4 [00:00<?, ?it/s]\u001b[A\n",
      "Action: age:   0%|                                        | 0/4 [00:00<?, ?it/s]\u001b[A\n",
      "Action: age:  25%|████████                        | 1/4 [00:00<00:00,  5.37it/s]\u001b[A\n",
      "Action: gender:  25%|███████▎                     | 1/4 [00:00<00:00,  5.37it/s]\u001b[A\n",
      "Action: gender:  50%|██████████████▌              | 2/4 [00:00<00:00,  5.29it/s]\u001b[A\n",
      "Action: race:  50%|███████████████▌               | 2/4 [00:00<00:00,  5.29it/s]\u001b[A\n",
      "Action: race:  75%|███████████████████████▎       | 3/4 [00:00<00:00,  5.36it/s]\u001b[A\n",
      "Action: emotion: 100%|████████████████████████████| 4/4 [00:00<00:00,  6.96it/s]\u001b[A\n",
      "546it [05:47,  2.03it/s]"
     ]
    },
    {
     "name": "stdout",
     "output_type": "stream",
     "text": [
      "/Users/jessecoulter/Downloads/FIN377/CEOPersonalities-/matched_pictures/Roger Krone/2016\n"
     ]
    },
    {
     "name": "stderr",
     "output_type": "stream",
     "text": [
      "\n",
      "Finding actions:   0%|                                    | 0/4 [00:00<?, ?it/s]\u001b[A\n",
      "Action: age:   0%|                                        | 0/4 [00:00<?, ?it/s]\u001b[A\n",
      "Action: age:  25%|████████                        | 1/4 [00:00<00:00,  5.23it/s]\u001b[A\n",
      "Action: gender:  25%|███████▎                     | 1/4 [00:00<00:00,  5.23it/s]\u001b[A\n",
      "Action: gender:  50%|██████████████▌              | 2/4 [00:00<00:00,  5.29it/s]\u001b[A\n",
      "Action: race:  50%|███████████████▌               | 2/4 [00:00<00:00,  5.29it/s]\u001b[A\n",
      "Action: race:  75%|███████████████████████▎       | 3/4 [00:00<00:00,  5.28it/s]\u001b[A\n",
      "Action: emotion: 100%|████████████████████████████| 4/4 [00:00<00:00,  6.85it/s]\u001b[A\n",
      "547it [05:47,  1.74it/s]"
     ]
    },
    {
     "name": "stdout",
     "output_type": "stream",
     "text": [
      "/Users/jessecoulter/Downloads/FIN377/CEOPersonalities-/matched_pictures/Roger Krone/2017\n"
     ]
    },
    {
     "name": "stderr",
     "output_type": "stream",
     "text": [
      "\n",
      "Finding actions:   0%|                                    | 0/4 [00:00<?, ?it/s]\u001b[A\n",
      "Action: age:   0%|                                        | 0/4 [00:00<?, ?it/s]\u001b[A\n",
      "Action: age:  25%|████████                        | 1/4 [00:00<00:00,  5.60it/s]\u001b[A\n",
      "Action: gender:  25%|███████▎                     | 1/4 [00:00<00:00,  5.60it/s]\u001b[A\n",
      "Action: gender:  50%|██████████████▌              | 2/4 [00:00<00:00,  5.38it/s]\u001b[A\n",
      "Action: race:  50%|███████████████▌               | 2/4 [00:00<00:00,  5.38it/s]\u001b[A\n",
      "Action: race:  75%|███████████████████████▎       | 3/4 [00:00<00:00,  5.43it/s]\u001b[A\n",
      "Action: emotion: 100%|████████████████████████████| 4/4 [00:00<00:00,  7.06it/s]\u001b[A\n",
      "548it [05:48,  1.53it/s]"
     ]
    },
    {
     "name": "stdout",
     "output_type": "stream",
     "text": [
      "/Users/jessecoulter/Downloads/FIN377/CEOPersonalities-/matched_pictures/Roger Krone/2018\n"
     ]
    },
    {
     "name": "stderr",
     "output_type": "stream",
     "text": [
      "\n",
      "Finding actions:   0%|                                    | 0/4 [00:00<?, ?it/s]\u001b[A\n",
      "Action: age:   0%|                                        | 0/4 [00:00<?, ?it/s]\u001b[A\n",
      "Action: age:  25%|████████                        | 1/4 [00:00<00:00,  5.23it/s]\u001b[A\n",
      "Action: gender:  25%|███████▎                     | 1/4 [00:00<00:00,  5.23it/s]\u001b[A\n",
      "Action: gender:  50%|██████████████▌              | 2/4 [00:00<00:00,  5.14it/s]\u001b[A\n",
      "Action: race:  50%|███████████████▌               | 2/4 [00:00<00:00,  5.14it/s]\u001b[A\n",
      "Action: race:  75%|███████████████████████▎       | 3/4 [00:00<00:00,  5.22it/s]\u001b[A\n",
      "Action: emotion: 100%|████████████████████████████| 4/4 [00:00<00:00,  6.77it/s]\u001b[A\n",
      "549it [05:49,  1.56it/s]"
     ]
    },
    {
     "name": "stdout",
     "output_type": "stream",
     "text": [
      "/Users/jessecoulter/Downloads/FIN377/CEOPersonalities-/matched_pictures/Roger Krone/2019\n"
     ]
    },
    {
     "name": "stderr",
     "output_type": "stream",
     "text": [
      "\n",
      "Finding actions:   0%|                                    | 0/4 [00:00<?, ?it/s]\u001b[A\n",
      "Action: age:   0%|                                        | 0/4 [00:00<?, ?it/s]\u001b[A\n",
      "Action: age:  25%|████████                        | 1/4 [00:00<00:00,  5.64it/s]\u001b[A\n",
      "Action: gender:  25%|███████▎                     | 1/4 [00:00<00:00,  5.64it/s]\u001b[A\n",
      "Action: gender:  50%|██████████████▌              | 2/4 [00:00<00:00,  5.37it/s]\u001b[A\n",
      "Action: race:  50%|███████████████▌               | 2/4 [00:00<00:00,  5.37it/s]\u001b[A\n",
      "Action: race:  75%|███████████████████████▎       | 3/4 [00:00<00:00,  5.36it/s]\u001b[A\n",
      "Action: emotion: 100%|████████████████████████████| 4/4 [00:00<00:00,  7.01it/s]\u001b[A\n",
      "550it [05:50,  1.52it/s]"
     ]
    },
    {
     "name": "stdout",
     "output_type": "stream",
     "text": [
      "/Users/jessecoulter/Downloads/FIN377/CEOPersonalities-/matched_pictures/Walt Havenstein/2010\n"
     ]
    },
    {
     "name": "stderr",
     "output_type": "stream",
     "text": [
      "\n",
      "Finding actions:   0%|                                    | 0/4 [00:00<?, ?it/s]\u001b[A\n",
      "Action: age:   0%|                                        | 0/4 [00:00<?, ?it/s]\u001b[A\n",
      "Action: age:  25%|████████                        | 1/4 [00:00<00:00,  5.42it/s]\u001b[A\n",
      "Action: gender:  25%|███████▎                     | 1/4 [00:00<00:00,  5.42it/s]\u001b[A\n",
      "Action: gender:  50%|██████████████▌              | 2/4 [00:00<00:00,  5.43it/s]\u001b[A\n",
      "Action: race:  50%|███████████████▌               | 2/4 [00:00<00:00,  5.43it/s]\u001b[A\n",
      "Action: race:  75%|███████████████████████▎       | 3/4 [00:00<00:00,  5.37it/s]\u001b[A\n",
      "Action: emotion: 100%|████████████████████████████| 4/4 [00:00<00:00,  6.99it/s]\u001b[A\n",
      "551it [05:50,  1.56it/s]"
     ]
    },
    {
     "name": "stdout",
     "output_type": "stream",
     "text": [
      "/Users/jessecoulter/Downloads/FIN377/CEOPersonalities-/matched_pictures/Walt Havenstein/2011\n",
      "No image found in /Users/jessecoulter/Downloads/FIN377/CEOPersonalities-/matched_pictures/Walt Havenstein/2011\n",
      "/Users/jessecoulter/Downloads/FIN377/CEOPersonalities-/matched_pictures/Walt Havenstein/2012\n"
     ]
    },
    {
     "name": "stderr",
     "output_type": "stream",
     "text": [
      "\n",
      "Finding actions:   0%|                                    | 0/4 [00:00<?, ?it/s]\u001b[A\n",
      "Action: age:   0%|                                        | 0/4 [00:00<?, ?it/s]\u001b[A\n",
      "Action: age:  25%|████████                        | 1/4 [00:00<00:00,  5.17it/s]\u001b[A\n",
      "Action: gender:  25%|███████▎                     | 1/4 [00:00<00:00,  5.17it/s]\u001b[A\n",
      "Action: gender:  50%|██████████████▌              | 2/4 [00:00<00:00,  5.38it/s]\u001b[A\n",
      "Action: race:  50%|███████████████▌               | 2/4 [00:00<00:00,  5.38it/s]\u001b[A\n",
      "Action: race:  75%|███████████████████████▎       | 3/4 [00:00<00:00,  5.26it/s]\u001b[A\n",
      "Action: emotion: 100%|████████████████████████████| 4/4 [00:00<00:00,  6.86it/s]\u001b[A\n",
      "553it [05:51,  2.04it/s]"
     ]
    },
    {
     "name": "stdout",
     "output_type": "stream",
     "text": [
      "/Users/jessecoulter/Downloads/FIN377/CEOPersonalities-/matched_pictures/Anthony Moraco/2013\n"
     ]
    },
    {
     "name": "stderr",
     "output_type": "stream",
     "text": [
      "\n",
      "Finding actions:   0%|                                    | 0/4 [00:00<?, ?it/s]\u001b[A\n",
      "Action: age:   0%|                                        | 0/4 [00:00<?, ?it/s]\u001b[A\n",
      "Action: age:  25%|████████                        | 1/4 [00:00<00:00,  5.08it/s]\u001b[A\n",
      "Action: gender:  25%|███████▎                     | 1/4 [00:00<00:00,  5.08it/s]\u001b[A\n",
      "Action: gender:  50%|██████████████▌              | 2/4 [00:00<00:00,  5.25it/s]\u001b[A\n",
      "Action: race:  50%|███████████████▌               | 2/4 [00:00<00:00,  5.25it/s]\u001b[A\n",
      "Action: race:  75%|███████████████████████▎       | 3/4 [00:00<00:00,  5.22it/s]\u001b[A\n",
      "Action: emotion: 100%|████████████████████████████| 4/4 [00:00<00:00,  6.78it/s]\u001b[A\n",
      "554it [05:51,  1.93it/s]"
     ]
    },
    {
     "name": "stdout",
     "output_type": "stream",
     "text": [
      "/Users/jessecoulter/Downloads/FIN377/CEOPersonalities-/matched_pictures/Anthony Moraco/2014\n"
     ]
    },
    {
     "name": "stderr",
     "output_type": "stream",
     "text": [
      "\n",
      "Finding actions:   0%|                                    | 0/4 [00:00<?, ?it/s]\u001b[A\n",
      "Action: age:   0%|                                        | 0/4 [00:00<?, ?it/s]\u001b[A\n",
      "Action: age:  25%|████████                        | 1/4 [00:00<00:00,  5.36it/s]\u001b[A\n",
      "Action: gender:  25%|███████▎                     | 1/4 [00:00<00:00,  5.36it/s]\u001b[A\n",
      "Action: gender:  50%|██████████████▌              | 2/4 [00:00<00:00,  5.34it/s]\u001b[A\n",
      "Action: race:  50%|███████████████▌               | 2/4 [00:00<00:00,  5.34it/s]\u001b[A\n",
      "Action: race:  75%|███████████████████████▎       | 3/4 [00:00<00:00,  5.28it/s]\u001b[A\n",
      "Action: emotion: 100%|████████████████████████████| 4/4 [00:00<00:00,  6.90it/s]\u001b[A\n",
      "555it [05:52,  1.82it/s]"
     ]
    },
    {
     "name": "stdout",
     "output_type": "stream",
     "text": [
      "/Users/jessecoulter/Downloads/FIN377/CEOPersonalities-/matched_pictures/Anthony Moraco/2015\n"
     ]
    },
    {
     "name": "stderr",
     "output_type": "stream",
     "text": [
      "\n",
      "Finding actions:   0%|                                    | 0/4 [00:00<?, ?it/s]\u001b[A\n",
      "Action: age:   0%|                                        | 0/4 [00:00<?, ?it/s]\u001b[A\n",
      "Action: age:  25%|████████                        | 1/4 [00:00<00:00,  5.24it/s]\u001b[A\n",
      "Action: gender:  25%|███████▎                     | 1/4 [00:00<00:00,  5.24it/s]\u001b[A\n",
      "Action: gender:  50%|██████████████▌              | 2/4 [00:00<00:00,  5.31it/s]\u001b[A\n",
      "Action: race:  50%|███████████████▌               | 2/4 [00:00<00:00,  5.31it/s]\u001b[A\n",
      "Action: race:  75%|███████████████████████▎       | 3/4 [00:00<00:00,  5.32it/s]\u001b[A\n",
      "Action: emotion: 100%|████████████████████████████| 4/4 [00:00<00:00,  6.90it/s]\u001b[A\n",
      "556it [05:53,  1.76it/s]"
     ]
    },
    {
     "name": "stdout",
     "output_type": "stream",
     "text": [
      "/Users/jessecoulter/Downloads/FIN377/CEOPersonalities-/matched_pictures/Anthony Moraco/2016\n"
     ]
    },
    {
     "name": "stderr",
     "output_type": "stream",
     "text": [
      "\n",
      "Finding actions:   0%|                                    | 0/4 [00:00<?, ?it/s]\u001b[A\n",
      "Action: age:   0%|                                        | 0/4 [00:00<?, ?it/s]\u001b[A\n",
      "Action: age:  25%|████████                        | 1/4 [00:00<00:00,  5.31it/s]\u001b[A\n",
      "Action: gender:  25%|███████▎                     | 1/4 [00:00<00:00,  5.31it/s]\u001b[A\n",
      "Action: gender:  50%|██████████████▌              | 2/4 [00:00<00:00,  5.33it/s]\u001b[A\n",
      "Action: race:  50%|███████████████▌               | 2/4 [00:00<00:00,  5.33it/s]\u001b[A\n",
      "Action: race:  75%|███████████████████████▎       | 3/4 [00:00<00:00,  5.29it/s]\u001b[A\n",
      "Action: emotion: 100%|████████████████████████████| 4/4 [00:00<00:00,  6.89it/s]\u001b[A\n",
      "557it [05:53,  1.56it/s]"
     ]
    },
    {
     "name": "stdout",
     "output_type": "stream",
     "text": [
      "/Users/jessecoulter/Downloads/FIN377/CEOPersonalities-/matched_pictures/Anthony Moraco/2017\n"
     ]
    },
    {
     "name": "stderr",
     "output_type": "stream",
     "text": [
      "\n",
      "Finding actions:   0%|                                    | 0/4 [00:00<?, ?it/s]\u001b[A\n",
      "Action: age:   0%|                                        | 0/4 [00:00<?, ?it/s]\u001b[A\n",
      "Action: age:  25%|████████                        | 1/4 [00:00<00:00,  5.61it/s]\u001b[A\n",
      "Action: gender:  25%|███████▎                     | 1/4 [00:00<00:00,  5.61it/s]\u001b[A\n",
      "Action: gender:  50%|██████████████▌              | 2/4 [00:00<00:00,  5.32it/s]\u001b[A\n",
      "Action: race:  50%|███████████████▌               | 2/4 [00:00<00:00,  5.32it/s]\u001b[A\n",
      "Action: race:  75%|███████████████████████▎       | 3/4 [00:00<00:00,  5.32it/s]\u001b[A\n",
      "Action: emotion: 100%|████████████████████████████| 4/4 [00:00<00:00,  6.96it/s]\u001b[A\n",
      "558it [05:54,  1.48it/s]"
     ]
    },
    {
     "name": "stdout",
     "output_type": "stream",
     "text": [
      "/Users/jessecoulter/Downloads/FIN377/CEOPersonalities-/matched_pictures/Anthony Moraco/2018\n"
     ]
    },
    {
     "name": "stderr",
     "output_type": "stream",
     "text": [
      "\n",
      "Finding actions:   0%|                                    | 0/4 [00:00<?, ?it/s]\u001b[A\n",
      "Action: age:   0%|                                        | 0/4 [00:00<?, ?it/s]\u001b[A\n",
      "Action: age:  25%|████████                        | 1/4 [00:00<00:00,  4.33it/s]\u001b[A\n",
      "Action: gender:  25%|███████▎                     | 1/4 [00:00<00:00,  4.33it/s]\u001b[A\n",
      "Action: gender:  50%|██████████████▌              | 2/4 [00:00<00:00,  4.69it/s]\u001b[A\n",
      "Action: race:  50%|███████████████▌               | 2/4 [00:00<00:00,  4.69it/s]\u001b[A\n",
      "Action: race:  75%|███████████████████████▎       | 3/4 [00:00<00:00,  4.87it/s]\u001b[A\n",
      "Action: emotion: 100%|████████████████████████████| 4/4 [00:00<00:00,  6.23it/s]\u001b[A\n",
      "559it [05:55,  1.47it/s]"
     ]
    },
    {
     "name": "stdout",
     "output_type": "stream",
     "text": [
      "/Users/jessecoulter/Downloads/FIN377/CEOPersonalities-/matched_pictures/Nazzic Keene/2019\n"
     ]
    },
    {
     "name": "stderr",
     "output_type": "stream",
     "text": [
      "\n",
      "Finding actions:   0%|                                    | 0/4 [00:00<?, ?it/s]\u001b[A\n",
      "Action: age:   0%|                                        | 0/4 [00:00<?, ?it/s]\u001b[A\n",
      "Action: age:  25%|████████                        | 1/4 [00:00<00:00,  5.24it/s]\u001b[A\n",
      "Action: gender:  25%|███████▎                     | 1/4 [00:00<00:00,  5.24it/s]\u001b[A\n",
      "Action: gender:  50%|██████████████▌              | 2/4 [00:00<00:00,  5.28it/s]\u001b[A\n",
      "Action: race:  50%|███████████████▌               | 2/4 [00:00<00:00,  5.28it/s]\u001b[A\n",
      "Action: race:  75%|███████████████████████▎       | 3/4 [00:00<00:00,  5.25it/s]\u001b[A\n",
      "Action: emotion: 100%|████████████████████████████| 4/4 [00:00<00:00,  6.83it/s]\u001b[A\n",
      "560it [05:56,  1.37it/s]"
     ]
    },
    {
     "name": "stdout",
     "output_type": "stream",
     "text": [
      "/Users/jessecoulter/Downloads/FIN377/CEOPersonalities-/matched_pictures/Glen F. Post III/2010\n",
      "Folder not found: /Users/jessecoulter/Downloads/FIN377/CEOPersonalities-/matched_pictures/Glen F. Post III/2010\n",
      "/Users/jessecoulter/Downloads/FIN377/CEOPersonalities-/matched_pictures/Glen F. Post III/2011\n"
     ]
    },
    {
     "name": "stderr",
     "output_type": "stream",
     "text": [
      "\n",
      "Finding actions:   0%|                                    | 0/4 [00:00<?, ?it/s]\u001b[A\n",
      "Action: age:   0%|                                        | 0/4 [00:00<?, ?it/s]\u001b[A\n",
      "Action: age:  25%|████████                        | 1/4 [00:00<00:00,  5.17it/s]\u001b[A\n",
      "Action: gender:  25%|███████▎                     | 1/4 [00:00<00:00,  5.17it/s]\u001b[A\n",
      "Action: gender:  50%|██████████████▌              | 2/4 [00:00<00:00,  5.19it/s]\u001b[A\n",
      "Action: race:  50%|███████████████▌               | 2/4 [00:00<00:00,  5.19it/s]\u001b[A\n",
      "Action: race:  75%|███████████████████████▎       | 3/4 [00:00<00:00,  5.18it/s]\u001b[A\n",
      "Action: emotion: 100%|████████████████████████████| 4/4 [00:00<00:00,  6.74it/s]\u001b[A\n",
      "\n",
      "Finding actions:   0%|                                    | 0/4 [00:00<?, ?it/s]\u001b[A\n",
      "Action: age:   0%|                                        | 0/4 [00:00<?, ?it/s]\u001b[A\n",
      "Action: age:  25%|████████                        | 1/4 [00:00<00:00,  5.49it/s]\u001b[A\n",
      "Action: gender:  25%|███████▎                     | 1/4 [00:00<00:00,  5.49it/s]\u001b[A\n",
      "Action: gender:  50%|██████████████▌              | 2/4 [00:00<00:00,  5.39it/s]\u001b[A\n",
      "Action: race:  50%|███████████████▌               | 2/4 [00:00<00:00,  5.39it/s]\u001b[A\n",
      "Action: race:  75%|███████████████████████▎       | 3/4 [00:00<00:00,  5.36it/s]\u001b[A\n",
      "Action: emotion: 100%|████████████████████████████| 4/4 [00:00<00:00,  7.00it/s]\u001b[A\n",
      "562it [05:57,  1.49it/s]"
     ]
    },
    {
     "name": "stdout",
     "output_type": "stream",
     "text": [
      "/Users/jessecoulter/Downloads/FIN377/CEOPersonalities-/matched_pictures/Glen F. Post III/2012\n"
     ]
    },
    {
     "name": "stderr",
     "output_type": "stream",
     "text": [
      "\n",
      "Finding actions:   0%|                                    | 0/4 [00:00<?, ?it/s]\u001b[A\n",
      "Action: age:   0%|                                        | 0/4 [00:00<?, ?it/s]\u001b[A\n",
      "Action: age:  25%|████████                        | 1/4 [00:00<00:00,  5.33it/s]\u001b[A\n",
      "Action: gender:  25%|███████▎                     | 1/4 [00:00<00:00,  5.33it/s]\u001b[A\n",
      "Action: gender:  50%|██████████████▌              | 2/4 [00:00<00:00,  5.30it/s]\u001b[A\n",
      "Action: race:  50%|███████████████▌               | 2/4 [00:00<00:00,  5.30it/s]\u001b[A\n",
      "Action: race:  75%|███████████████████████▎       | 3/4 [00:00<00:00,  5.28it/s]\u001b[A\n",
      "Action: emotion: 100%|████████████████████████████| 4/4 [00:00<00:00,  6.89it/s]\u001b[A\n",
      "\n",
      "Finding actions:   0%|                                    | 0/4 [00:00<?, ?it/s]\u001b[A\n",
      "Action: age:   0%|                                        | 0/4 [00:00<?, ?it/s]\u001b[A\n",
      "Action: age:  25%|████████                        | 1/4 [00:00<00:00,  4.48it/s]\u001b[A\n",
      "Action: gender:  25%|███████▎                     | 1/4 [00:00<00:00,  4.48it/s]\u001b[A\n",
      "Action: gender:  50%|██████████████▌              | 2/4 [00:00<00:00,  4.71it/s]\u001b[A\n",
      "Action: race:  50%|███████████████▌               | 2/4 [00:00<00:00,  4.71it/s]\u001b[A\n",
      "Action: race:  75%|███████████████████████▎       | 3/4 [00:00<00:00,  4.87it/s]\u001b[A\n",
      "Action: emotion: 100%|████████████████████████████| 4/4 [00:00<00:00,  6.21it/s]\u001b[A\n",
      "563it [05:58,  1.22it/s]"
     ]
    },
    {
     "name": "stdout",
     "output_type": "stream",
     "text": [
      "/Users/jessecoulter/Downloads/FIN377/CEOPersonalities-/matched_pictures/Glen F. Post III/2013\n"
     ]
    },
    {
     "name": "stderr",
     "output_type": "stream",
     "text": [
      "\n",
      "Finding actions:   0%|                                    | 0/4 [00:00<?, ?it/s]\u001b[A\n",
      "Action: age:   0%|                                        | 0/4 [00:00<?, ?it/s]\u001b[A\n",
      "Action: age:  25%|████████                        | 1/4 [00:00<00:00,  4.23it/s]\u001b[A\n",
      "Action: gender:  25%|███████▎                     | 1/4 [00:00<00:00,  4.23it/s]\u001b[A\n",
      "Action: gender:  50%|██████████████▌              | 2/4 [00:00<00:00,  4.07it/s]\u001b[A\n",
      "Action: race:  50%|███████████████▌               | 2/4 [00:00<00:00,  4.07it/s]\u001b[A\n",
      "Action: race:  75%|███████████████████████▎       | 3/4 [00:00<00:00,  4.32it/s]\u001b[A\n",
      "Action: emotion: 100%|████████████████████████████| 4/4 [00:00<00:00,  5.58it/s]\u001b[A\n",
      "\n",
      "Finding actions:   0%|                                    | 0/4 [00:00<?, ?it/s]\u001b[A\n",
      "Action: age:   0%|                                        | 0/4 [00:00<?, ?it/s]\u001b[A\n",
      "Action: age:  25%|████████                        | 1/4 [00:00<00:00,  4.55it/s]\u001b[A\n",
      "Action: gender:  25%|███████▎                     | 1/4 [00:00<00:00,  4.55it/s]\u001b[A\n",
      "Action: gender:  50%|██████████████▌              | 2/4 [00:00<00:00,  4.53it/s]\u001b[A\n",
      "Action: race:  50%|███████████████▌               | 2/4 [00:00<00:00,  4.53it/s]\u001b[A\n",
      "Action: race:  75%|███████████████████████▎       | 3/4 [00:00<00:00,  4.74it/s]\u001b[A\n",
      "Action: emotion: 100%|████████████████████████████| 4/4 [00:00<00:00,  6.11it/s]\u001b[A\n",
      "564it [06:00,  1.03it/s]"
     ]
    },
    {
     "name": "stdout",
     "output_type": "stream",
     "text": [
      "/Users/jessecoulter/Downloads/FIN377/CEOPersonalities-/matched_pictures/Glen F. Post III/2014\n"
     ]
    },
    {
     "name": "stderr",
     "output_type": "stream",
     "text": [
      "\n",
      "Finding actions:   0%|                                    | 0/4 [00:00<?, ?it/s]\u001b[A\n",
      "Action: age:   0%|                                        | 0/4 [00:00<?, ?it/s]\u001b[A\n",
      "Action: age:  25%|████████                        | 1/4 [00:00<00:00,  4.91it/s]\u001b[A\n",
      "Action: gender:  25%|███████▎                     | 1/4 [00:00<00:00,  4.91it/s]\u001b[A\n",
      "Action: gender:  50%|██████████████▌              | 2/4 [00:00<00:00,  5.09it/s]\u001b[A\n",
      "Action: race:  50%|███████████████▌               | 2/4 [00:00<00:00,  5.09it/s]\u001b[A\n",
      "Action: race:  75%|███████████████████████▎       | 3/4 [00:00<00:00,  5.28it/s]\u001b[A\n",
      "Action: emotion: 100%|████████████████████████████| 4/4 [00:00<00:00,  6.77it/s]\u001b[A\n",
      "\n",
      "Finding actions:   0%|                                    | 0/4 [00:00<?, ?it/s]\u001b[A\n",
      "Action: age:   0%|                                        | 0/4 [00:00<?, ?it/s]\u001b[A\n",
      "Action: age:  25%|████████                        | 1/4 [00:00<00:00,  5.07it/s]\u001b[A\n",
      "Action: gender:  25%|███████▎                     | 1/4 [00:00<00:00,  5.07it/s]\u001b[A\n",
      "Action: gender:  50%|██████████████▌              | 2/4 [00:00<00:00,  5.02it/s]\u001b[A\n",
      "Action: race:  50%|███████████████▌               | 2/4 [00:00<00:00,  5.02it/s]\u001b[A\n",
      "Action: race:  75%|███████████████████████▎       | 3/4 [00:00<00:00,  4.73it/s]\u001b[A\n",
      "Action: emotion: 100%|████████████████████████████| 4/4 [00:00<00:00,  6.28it/s]\u001b[A\n",
      "565it [06:01,  1.05s/it]"
     ]
    },
    {
     "name": "stdout",
     "output_type": "stream",
     "text": [
      "/Users/jessecoulter/Downloads/FIN377/CEOPersonalities-/matched_pictures/Glen F. Post III/2015\n"
     ]
    },
    {
     "name": "stderr",
     "output_type": "stream",
     "text": [
      "\n",
      "Finding actions:   0%|                                    | 0/4 [00:00<?, ?it/s]\u001b[A\n",
      "Action: age:   0%|                                        | 0/4 [00:00<?, ?it/s]\u001b[A\n",
      "Action: age:  25%|████████                        | 1/4 [00:00<00:00,  5.59it/s]\u001b[A\n",
      "Action: gender:  25%|███████▎                     | 1/4 [00:00<00:00,  5.59it/s]\u001b[A\n",
      "Action: gender:  50%|██████████████▌              | 2/4 [00:00<00:00,  5.16it/s]\u001b[A\n",
      "Action: race:  50%|███████████████▌               | 2/4 [00:00<00:00,  5.16it/s]\u001b[A\n",
      "Action: race:  75%|███████████████████████▎       | 3/4 [00:00<00:00,  4.99it/s]\u001b[A\n",
      "Action: emotion: 100%|████████████████████████████| 4/4 [00:00<00:00,  6.61it/s]\u001b[A\n",
      "\n",
      "Finding actions:   0%|                                    | 0/4 [00:00<?, ?it/s]\u001b[A\n",
      "Action: age:   0%|                                        | 0/4 [00:00<?, ?it/s]\u001b[A\n",
      "Action: age:  25%|████████                        | 1/4 [00:00<00:00,  5.19it/s]\u001b[A\n",
      "Action: gender:  25%|███████▎                     | 1/4 [00:00<00:00,  5.19it/s]\u001b[A\n",
      "Action: gender:  50%|██████████████▌              | 2/4 [00:00<00:00,  5.06it/s]\u001b[A\n",
      "Action: race:  50%|███████████████▌               | 2/4 [00:00<00:00,  5.06it/s]\u001b[A\n",
      "Action: race:  75%|███████████████████████▎       | 3/4 [00:00<00:00,  4.94it/s]\u001b[A\n",
      "Action: emotion: 100%|████████████████████████████| 4/4 [00:00<00:00,  6.48it/s]\u001b[A\n",
      "566it [06:02,  1.11s/it]"
     ]
    },
    {
     "name": "stdout",
     "output_type": "stream",
     "text": [
      "/Users/jessecoulter/Downloads/FIN377/CEOPersonalities-/matched_pictures/Glen F. Post III/2016\n"
     ]
    },
    {
     "name": "stderr",
     "output_type": "stream",
     "text": [
      "\n",
      "Finding actions:   0%|                                    | 0/4 [00:00<?, ?it/s]\u001b[A\n",
      "Action: age:   0%|                                        | 0/4 [00:00<?, ?it/s]\u001b[A\n",
      "Action: age:  25%|████████                        | 1/4 [00:00<00:00,  5.17it/s]\u001b[A\n",
      "Action: gender:  25%|███████▎                     | 1/4 [00:00<00:00,  5.17it/s]\u001b[A\n",
      "Action: gender:  50%|██████████████▌              | 2/4 [00:00<00:00,  4.96it/s]\u001b[A\n",
      "Action: race:  50%|███████████████▌               | 2/4 [00:00<00:00,  4.96it/s]\u001b[A\n",
      "Action: race:  75%|███████████████████████▎       | 3/4 [00:00<00:00,  4.96it/s]\u001b[A\n",
      "Action: emotion: 100%|████████████████████████████| 4/4 [00:00<00:00,  6.46it/s]\u001b[A\n",
      "\n",
      "Finding actions:   0%|                                    | 0/4 [00:00<?, ?it/s]\u001b[A\n",
      "Action: age:   0%|                                        | 0/4 [00:00<?, ?it/s]\u001b[A\n",
      "Action: age:  25%|████████                        | 1/4 [00:00<00:00,  4.76it/s]\u001b[A\n",
      "Action: gender:  25%|███████▎                     | 1/4 [00:00<00:00,  4.76it/s]\u001b[A\n",
      "Action: gender:  50%|██████████████▌              | 2/4 [00:00<00:00,  4.82it/s]\u001b[A\n",
      "Action: race:  50%|███████████████▌               | 2/4 [00:00<00:00,  4.82it/s]\u001b[A\n",
      "Action: race:  75%|███████████████████████▎       | 3/4 [00:00<00:00,  4.65it/s]\u001b[A\n",
      "Action: emotion: 100%|████████████████████████████| 4/4 [00:00<00:00,  6.11it/s]\u001b[A\n",
      "567it [06:03,  1.17s/it]"
     ]
    },
    {
     "name": "stdout",
     "output_type": "stream",
     "text": [
      "/Users/jessecoulter/Downloads/FIN377/CEOPersonalities-/matched_pictures/Glen F. Post III/2017\n"
     ]
    },
    {
     "name": "stderr",
     "output_type": "stream",
     "text": [
      "\n",
      "Finding actions:   0%|                                    | 0/4 [00:00<?, ?it/s]\u001b[A\n",
      "Action: age:   0%|                                        | 0/4 [00:00<?, ?it/s]\u001b[A\n",
      "Action: age:  25%|████████                        | 1/4 [00:00<00:00,  4.56it/s]\u001b[A\n",
      "Action: gender:  25%|███████▎                     | 1/4 [00:00<00:00,  4.56it/s]\u001b[A\n",
      "Action: gender:  50%|██████████████▌              | 2/4 [00:00<00:00,  4.67it/s]\u001b[A\n",
      "Action: race:  50%|███████████████▌               | 2/4 [00:00<00:00,  4.67it/s]\u001b[A\n",
      "Action: race:  75%|███████████████████████▎       | 3/4 [00:00<00:00,  4.74it/s]\u001b[A\n",
      "Action: emotion: 100%|████████████████████████████| 4/4 [00:00<00:00,  6.12it/s]\u001b[A\n",
      "568it [06:04,  1.03s/it]"
     ]
    },
    {
     "name": "stdout",
     "output_type": "stream",
     "text": [
      "/Users/jessecoulter/Downloads/FIN377/CEOPersonalities-/matched_pictures/Jeff Storey/2018\n"
     ]
    },
    {
     "name": "stderr",
     "output_type": "stream",
     "text": [
      "\n",
      "Finding actions:   0%|                                    | 0/4 [00:00<?, ?it/s]\u001b[A\n",
      "Action: age:   0%|                                        | 0/4 [00:00<?, ?it/s]\u001b[A\n",
      "Action: age:  25%|████████                        | 1/4 [00:00<00:00,  4.52it/s]\u001b[A\n",
      "Action: gender:  25%|███████▎                     | 1/4 [00:00<00:00,  4.52it/s]\u001b[A\n",
      "Action: gender:  50%|██████████████▌              | 2/4 [00:00<00:00,  4.47it/s]\u001b[A\n",
      "Action: race:  50%|███████████████▌               | 2/4 [00:00<00:00,  4.47it/s]\u001b[A\n",
      "Action: race:  75%|███████████████████████▎       | 3/4 [00:00<00:00,  4.51it/s]\u001b[A\n",
      "Action: emotion: 100%|████████████████████████████| 4/4 [00:00<00:00,  5.87it/s]\u001b[A\n",
      "569it [06:05,  1.07it/s]"
     ]
    },
    {
     "name": "stdout",
     "output_type": "stream",
     "text": [
      "/Users/jessecoulter/Downloads/FIN377/CEOPersonalities-/matched_pictures/Jeff Storey/2019\n"
     ]
    },
    {
     "name": "stderr",
     "output_type": "stream",
     "text": [
      "\n",
      "Finding actions:   0%|                                    | 0/4 [00:00<?, ?it/s]\u001b[A\n",
      "Action: age:   0%|                                        | 0/4 [00:00<?, ?it/s]\u001b[A\n",
      "Action: age:  25%|████████                        | 1/4 [00:00<00:00,  4.52it/s]\u001b[A\n",
      "Action: gender:  25%|███████▎                     | 1/4 [00:00<00:00,  4.52it/s]\u001b[A\n",
      "Action: gender:  50%|██████████████▌              | 2/4 [00:00<00:00,  4.70it/s]\u001b[A\n",
      "Action: race:  50%|███████████████▌               | 2/4 [00:00<00:00,  4.70it/s]\u001b[A\n",
      "Action: race:  75%|███████████████████████▎       | 3/4 [00:00<00:00,  4.57it/s]\u001b[A\n",
      "Action: emotion: 100%|████████████████████████████| 4/4 [00:00<00:00,  5.97it/s]\u001b[A\n",
      "570it [06:06,  1.16it/s]"
     ]
    },
    {
     "name": "stdout",
     "output_type": "stream",
     "text": [
      "/Users/jessecoulter/Downloads/FIN377/CEOPersonalities-/matched_pictures/Wendell P. Weeks/2010\n",
      "Folder not found: /Users/jessecoulter/Downloads/FIN377/CEOPersonalities-/matched_pictures/Wendell P. Weeks/2010\n",
      "/Users/jessecoulter/Downloads/FIN377/CEOPersonalities-/matched_pictures/Wendell P. Weeks/2011\n"
     ]
    },
    {
     "name": "stderr",
     "output_type": "stream",
     "text": [
      "\n",
      "Finding actions:   0%|                                    | 0/4 [00:00<?, ?it/s]\u001b[A\n",
      "Action: age:   0%|                                        | 0/4 [00:00<?, ?it/s]\u001b[A\n",
      "Action: age:  25%|████████                        | 1/4 [00:00<00:00,  5.14it/s]\u001b[A\n",
      "Action: gender:  25%|███████▎                     | 1/4 [00:00<00:00,  5.14it/s]\u001b[A\n",
      "Action: gender:  50%|██████████████▌              | 2/4 [00:00<00:00,  5.11it/s]\u001b[A\n",
      "Action: race:  50%|███████████████▌               | 2/4 [00:00<00:00,  5.11it/s]\u001b[A\n",
      "Action: race:  75%|███████████████████████▎       | 3/4 [00:00<00:00,  4.97it/s]\u001b[A\n",
      "Action: emotion: 100%|████████████████████████████| 4/4 [00:00<00:00,  6.51it/s]\u001b[A\n",
      "572it [06:06,  1.62it/s]"
     ]
    },
    {
     "name": "stdout",
     "output_type": "stream",
     "text": [
      "/Users/jessecoulter/Downloads/FIN377/CEOPersonalities-/matched_pictures/Wendell P. Weeks/2012\n"
     ]
    },
    {
     "name": "stderr",
     "output_type": "stream",
     "text": [
      "\n",
      "Finding actions:   0%|                                    | 0/4 [00:00<?, ?it/s]\u001b[A\n",
      "Action: age:   0%|                                        | 0/4 [00:00<?, ?it/s]\u001b[A\n",
      "Action: age:  25%|████████                        | 1/4 [00:00<00:00,  4.94it/s]\u001b[A\n",
      "Action: gender:  25%|███████▎                     | 1/4 [00:00<00:00,  4.94it/s]\u001b[A\n",
      "Action: gender:  50%|██████████████▌              | 2/4 [00:00<00:00,  5.10it/s]\u001b[A\n",
      "Action: race:  50%|███████████████▌               | 2/4 [00:00<00:00,  5.10it/s]\u001b[A\n",
      "Action: race:  75%|███████████████████████▎       | 3/4 [00:00<00:00,  5.07it/s]\u001b[A\n",
      "Action: emotion: 100%|████████████████████████████| 4/4 [00:00<00:00,  6.59it/s]\u001b[A\n",
      "573it [06:07,  1.61it/s]"
     ]
    },
    {
     "name": "stdout",
     "output_type": "stream",
     "text": [
      "/Users/jessecoulter/Downloads/FIN377/CEOPersonalities-/matched_pictures/Wendell P. Weeks/2013\n"
     ]
    },
    {
     "name": "stderr",
     "output_type": "stream",
     "text": [
      "\n",
      "Finding actions:   0%|                                    | 0/4 [00:00<?, ?it/s]\u001b[A\n",
      "Action: age:   0%|                                        | 0/4 [00:00<?, ?it/s]\u001b[A\n",
      "Action: age:  25%|████████                        | 1/4 [00:00<00:00,  4.71it/s]\u001b[A\n",
      "Action: gender:  25%|███████▎                     | 1/4 [00:00<00:00,  4.71it/s]\u001b[A\n",
      "Action: gender:  50%|██████████████▌              | 2/4 [00:00<00:00,  5.14it/s]\u001b[A\n",
      "Action: race:  50%|███████████████▌               | 2/4 [00:00<00:00,  5.14it/s]\u001b[A\n",
      "Action: race:  75%|███████████████████████▎       | 3/4 [00:00<00:00,  4.94it/s]\u001b[A\n",
      "Action: emotion: 100%|████████████████████████████| 4/4 [00:00<00:00,  6.42it/s]\u001b[A\n",
      "574it [06:08,  1.59it/s]"
     ]
    },
    {
     "name": "stdout",
     "output_type": "stream",
     "text": [
      "/Users/jessecoulter/Downloads/FIN377/CEOPersonalities-/matched_pictures/Wendell P. Weeks/2014\n"
     ]
    },
    {
     "name": "stderr",
     "output_type": "stream",
     "text": [
      "\n",
      "Finding actions:   0%|                                    | 0/4 [00:00<?, ?it/s]\u001b[A\n",
      "Action: age:   0%|                                        | 0/4 [00:00<?, ?it/s]\u001b[A\n",
      "Action: age:  25%|████████                        | 1/4 [00:00<00:00,  5.16it/s]\u001b[A\n",
      "Action: gender:  25%|███████▎                     | 1/4 [00:00<00:00,  5.16it/s]\u001b[A\n",
      "Action: gender:  50%|██████████████▌              | 2/4 [00:00<00:00,  5.09it/s]\u001b[A\n",
      "Action: race:  50%|███████████████▌               | 2/4 [00:00<00:00,  5.09it/s]\u001b[A\n",
      "Action: race:  75%|███████████████████████▎       | 3/4 [00:00<00:00,  5.04it/s]\u001b[A\n",
      "Action: emotion: 100%|████████████████████████████| 4/4 [00:00<00:00,  6.58it/s]\u001b[A\n",
      "\n",
      "Finding actions:   0%|                                    | 0/4 [00:00<?, ?it/s]\u001b[A\n",
      "Action: age:   0%|                                        | 0/4 [00:00<?, ?it/s]\u001b[A\n",
      "Action: age:  25%|████████                        | 1/4 [00:00<00:00,  4.56it/s]\u001b[A\n",
      "Action: gender:  25%|███████▎                     | 1/4 [00:00<00:00,  4.56it/s]\u001b[A\n",
      "Action: gender:  50%|██████████████▌              | 2/4 [00:00<00:00,  4.83it/s]\u001b[A\n",
      "Action: race:  50%|███████████████▌               | 2/4 [00:00<00:00,  4.83it/s]\u001b[A\n",
      "Action: race:  75%|███████████████████████▎       | 3/4 [00:00<00:00,  4.82it/s]\u001b[A\n",
      "Action: emotion: 100%|████████████████████████████| 4/4 [00:00<00:00,  6.22it/s]\u001b[A\n",
      "577it [06:09,  2.05it/s]"
     ]
    },
    {
     "name": "stdout",
     "output_type": "stream",
     "text": [
      "/Users/jessecoulter/Downloads/FIN377/CEOPersonalities-/matched_pictures/Wendell P. Weeks/2015\n",
      "Error analyzing /Users/jessecoulter/Downloads/FIN377/CEOPersonalities-/matched_pictures/Wendell P. Weeks/2015/pic1.jpg: Face could not be detected in /Users/jessecoulter/Downloads/FIN377/CEOPersonalities-/matched_pictures/Wendell P. Weeks/2015/pic1.jpg.Please confirm that the picture is a face photo or consider to set enforce_detection param to False.\n",
      "/Users/jessecoulter/Downloads/FIN377/CEOPersonalities-/matched_pictures/Wendell P. Weeks/2016\n",
      "Error analyzing /Users/jessecoulter/Downloads/FIN377/CEOPersonalities-/matched_pictures/Wendell P. Weeks/2016/pic1.jpg: Face could not be detected in /Users/jessecoulter/Downloads/FIN377/CEOPersonalities-/matched_pictures/Wendell P. Weeks/2016/pic1.jpg.Please confirm that the picture is a face photo or consider to set enforce_detection param to False.\n",
      "/Users/jessecoulter/Downloads/FIN377/CEOPersonalities-/matched_pictures/Wendell P. Weeks/2017\n"
     ]
    },
    {
     "name": "stderr",
     "output_type": "stream",
     "text": [
      "\n",
      "Finding actions:   0%|                                    | 0/4 [00:00<?, ?it/s]\u001b[A\n",
      "Action: age:   0%|                                        | 0/4 [00:00<?, ?it/s]\u001b[A\n",
      "Action: age:  25%|████████                        | 1/4 [00:00<00:00,  5.02it/s]\u001b[A\n",
      "Action: gender:  25%|███████▎                     | 1/4 [00:00<00:00,  5.02it/s]\u001b[A\n",
      "Action: gender:  50%|██████████████▌              | 2/4 [00:00<00:00,  5.07it/s]\u001b[A\n",
      "Action: race:  50%|███████████████▌               | 2/4 [00:00<00:00,  5.07it/s]\u001b[A\n",
      "Action: race:  75%|███████████████████████▎       | 3/4 [00:00<00:00,  5.12it/s]\u001b[A\n",
      "Action: emotion: 100%|████████████████████████████| 4/4 [00:00<00:00,  6.63it/s]\u001b[A\n",
      "578it [06:10,  1.88it/s]"
     ]
    },
    {
     "name": "stdout",
     "output_type": "stream",
     "text": [
      "/Users/jessecoulter/Downloads/FIN377/CEOPersonalities-/matched_pictures/Wendell P. Weeks/2018\n"
     ]
    },
    {
     "name": "stderr",
     "output_type": "stream",
     "text": [
      "\n",
      "Finding actions:   0%|                                    | 0/4 [00:00<?, ?it/s]\u001b[A\n",
      "Action: age:   0%|                                        | 0/4 [00:00<?, ?it/s]\u001b[A\n",
      "Action: age:  25%|████████                        | 1/4 [00:00<00:00,  4.78it/s]\u001b[A\n",
      "Action: gender:  25%|███████▎                     | 1/4 [00:00<00:00,  4.78it/s]\u001b[A\n",
      "Action: gender:  50%|██████████████▌              | 2/4 [00:00<00:00,  4.87it/s]\u001b[A\n",
      "Action: race:  50%|███████████████▌               | 2/4 [00:00<00:00,  4.87it/s]\u001b[A\n",
      "Action: race:  75%|███████████████████████▎       | 3/4 [00:00<00:00,  4.74it/s]\u001b[A\n",
      "Action: emotion: 100%|████████████████████████████| 4/4 [00:00<00:00,  6.20it/s]\u001b[A\n",
      "579it [06:11,  1.56it/s]"
     ]
    },
    {
     "name": "stdout",
     "output_type": "stream",
     "text": [
      "/Users/jessecoulter/Downloads/FIN377/CEOPersonalities-/matched_pictures/Wendell P. Weeks/2019\n"
     ]
    },
    {
     "name": "stderr",
     "output_type": "stream",
     "text": [
      "\n",
      "Finding actions:   0%|                                    | 0/4 [00:00<?, ?it/s]\u001b[A\n",
      "Action: age:   0%|                                        | 0/4 [00:00<?, ?it/s]\u001b[A\n",
      "Action: age:  25%|████████                        | 1/4 [00:00<00:00,  5.14it/s]\u001b[A\n",
      "Action: gender:  25%|███████▎                     | 1/4 [00:00<00:00,  5.14it/s]\u001b[A\n",
      "Action: gender:  50%|██████████████▌              | 2/4 [00:00<00:00,  5.22it/s]\u001b[A\n",
      "Action: race:  50%|███████████████▌               | 2/4 [00:00<00:00,  5.22it/s]\u001b[A\n",
      "Action: race:  75%|███████████████████████▎       | 3/4 [00:00<00:00,  5.00it/s]\u001b[A\n",
      "Action: emotion: 100%|████████████████████████████| 4/4 [00:00<00:00,  6.55it/s]\u001b[A\n",
      "580it [06:11,  1.55it/s]"
     ]
    },
    {
     "name": "stdout",
     "output_type": "stream",
     "text": [
      "/Users/jessecoulter/Downloads/FIN377/CEOPersonalities-/matched_pictures/Tom Georgens/2010\n"
     ]
    },
    {
     "name": "stderr",
     "output_type": "stream",
     "text": [
      "\n",
      "Finding actions:   0%|                                    | 0/4 [00:00<?, ?it/s]\u001b[A\n",
      "Action: age:   0%|                                        | 0/4 [00:00<?, ?it/s]\u001b[A\n",
      "Action: age:  25%|████████                        | 1/4 [00:00<00:00,  4.96it/s]\u001b[A\n",
      "Action: gender:  25%|███████▎                     | 1/4 [00:00<00:00,  4.96it/s]\u001b[A\n",
      "Action: gender:  50%|██████████████▌              | 2/4 [00:00<00:00,  5.06it/s]\u001b[A\n",
      "Action: race:  50%|███████████████▌               | 2/4 [00:00<00:00,  5.06it/s]\u001b[A\n",
      "Action: race:  75%|███████████████████████▎       | 3/4 [00:00<00:00,  5.10it/s]\u001b[A\n",
      "Action: emotion: 100%|████████████████████████████| 4/4 [00:00<00:00,  6.61it/s]\u001b[A\n",
      "581it [06:12,  1.56it/s]"
     ]
    },
    {
     "name": "stdout",
     "output_type": "stream",
     "text": [
      "/Users/jessecoulter/Downloads/FIN377/CEOPersonalities-/matched_pictures/Tom Georgens/2011\n"
     ]
    },
    {
     "name": "stderr",
     "output_type": "stream",
     "text": [
      "\n",
      "Finding actions:   0%|                                    | 0/4 [00:00<?, ?it/s]\u001b[A\n",
      "Action: age:   0%|                                        | 0/4 [00:00<?, ?it/s]\u001b[A\n",
      "Action: age:  25%|████████                        | 1/4 [00:00<00:00,  5.35it/s]\u001b[A\n",
      "Action: gender:  25%|███████▎                     | 1/4 [00:00<00:00,  5.35it/s]\u001b[A\n",
      "Action: gender:  50%|██████████████▌              | 2/4 [00:00<00:00,  5.36it/s]\u001b[A\n",
      "Action: race:  50%|███████████████▌               | 2/4 [00:00<00:00,  5.36it/s]\u001b[A\n",
      "Action: race:  75%|███████████████████████▎       | 3/4 [00:00<00:00,  5.00it/s]\u001b[A\n",
      "Action: emotion: 100%|████████████████████████████| 4/4 [00:00<00:00,  6.62it/s]\u001b[A\n",
      "582it [06:13,  1.56it/s]"
     ]
    },
    {
     "name": "stdout",
     "output_type": "stream",
     "text": [
      "/Users/jessecoulter/Downloads/FIN377/CEOPersonalities-/matched_pictures/Tom Georgens/2012\n",
      "Error analyzing /Users/jessecoulter/Downloads/FIN377/CEOPersonalities-/matched_pictures/Tom Georgens/2012/pic1.jpg: Face could not be detected in /Users/jessecoulter/Downloads/FIN377/CEOPersonalities-/matched_pictures/Tom Georgens/2012/pic1.jpg.Please confirm that the picture is a face photo or consider to set enforce_detection param to False.\n",
      "/Users/jessecoulter/Downloads/FIN377/CEOPersonalities-/matched_pictures/Tom Georgens/2013\n"
     ]
    },
    {
     "name": "stderr",
     "output_type": "stream",
     "text": [
      "\n",
      "Finding actions:   0%|                                    | 0/4 [00:00<?, ?it/s]\u001b[A\n",
      "Action: age:   0%|                                        | 0/4 [00:00<?, ?it/s]\u001b[A\n",
      "Action: age:  25%|████████                        | 1/4 [00:00<00:00,  5.13it/s]\u001b[A\n",
      "Action: gender:  25%|███████▎                     | 1/4 [00:00<00:00,  5.13it/s]\u001b[A\n",
      "Action: gender:  50%|██████████████▌              | 2/4 [00:00<00:00,  5.07it/s]\u001b[A\n",
      "Action: race:  50%|███████████████▌               | 2/4 [00:00<00:00,  5.07it/s]\u001b[A\n",
      "Action: race:  75%|███████████████████████▎       | 3/4 [00:00<00:00,  5.09it/s]\u001b[A\n",
      "Action: emotion: 100%|████████████████████████████| 4/4 [00:00<00:00,  6.62it/s]\u001b[A\n",
      "584it [06:13,  1.96it/s]"
     ]
    },
    {
     "name": "stdout",
     "output_type": "stream",
     "text": [
      "/Users/jessecoulter/Downloads/FIN377/CEOPersonalities-/matched_pictures/Tom Georgens/2014\n"
     ]
    },
    {
     "name": "stderr",
     "output_type": "stream",
     "text": [
      "\n",
      "Finding actions:   0%|                                    | 0/4 [00:00<?, ?it/s]\u001b[A\n",
      "Action: age:   0%|                                        | 0/4 [00:00<?, ?it/s]\u001b[A\n",
      "Action: age:  25%|████████                        | 1/4 [00:00<00:00,  5.00it/s]\u001b[A\n",
      "Action: gender:  25%|███████▎                     | 1/4 [00:00<00:00,  5.00it/s]\u001b[A\n",
      "Action: gender:  50%|██████████████▌              | 2/4 [00:00<00:00,  5.11it/s]\u001b[A\n",
      "Action: race:  50%|███████████████▌               | 2/4 [00:00<00:00,  5.11it/s]\u001b[A\n",
      "Action: race:  75%|███████████████████████▎       | 3/4 [00:00<00:00,  5.12it/s]\u001b[A\n",
      "Action: emotion: 100%|████████████████████████████| 4/4 [00:00<00:00,  6.62it/s]\u001b[A\n",
      "585it [06:14,  1.85it/s]"
     ]
    },
    {
     "name": "stdout",
     "output_type": "stream",
     "text": [
      "/Users/jessecoulter/Downloads/FIN377/CEOPersonalities-/matched_pictures/Tom Georgens/2015\n"
     ]
    },
    {
     "name": "stderr",
     "output_type": "stream",
     "text": [
      "\n",
      "Finding actions:   0%|                                    | 0/4 [00:00<?, ?it/s]\u001b[A\n",
      "Action: age:   0%|                                        | 0/4 [00:00<?, ?it/s]\u001b[A\n",
      "Action: age:  25%|████████                        | 1/4 [00:00<00:00,  5.10it/s]\u001b[A\n",
      "Action: gender:  25%|███████▎                     | 1/4 [00:00<00:00,  5.10it/s]\u001b[A\n",
      "Action: gender:  50%|██████████████▌              | 2/4 [00:00<00:00,  5.00it/s]\u001b[A\n",
      "Action: race:  50%|███████████████▌               | 2/4 [00:00<00:00,  5.00it/s]\u001b[A\n",
      "Action: race:  75%|███████████████████████▎       | 3/4 [00:00<00:00,  4.97it/s]\u001b[A\n",
      "Action: emotion: 100%|████████████████████████████| 4/4 [00:00<00:00,  6.47it/s]\u001b[A\n",
      "586it [06:15,  1.72it/s]"
     ]
    },
    {
     "name": "stdout",
     "output_type": "stream",
     "text": [
      "/Users/jessecoulter/Downloads/FIN377/CEOPersonalities-/matched_pictures/George Kurian/2016\n"
     ]
    },
    {
     "name": "stderr",
     "output_type": "stream",
     "text": [
      "\n",
      "Finding actions:   0%|                                    | 0/4 [00:00<?, ?it/s]\u001b[A\n",
      "Action: age:   0%|                                        | 0/4 [00:00<?, ?it/s]\u001b[A\n",
      "Action: age:  25%|████████                        | 1/4 [00:00<00:00,  5.18it/s]\u001b[A\n",
      "Action: gender:  25%|███████▎                     | 1/4 [00:00<00:00,  5.18it/s]\u001b[A\n",
      "Action: gender:  50%|██████████████▌              | 2/4 [00:00<00:00,  5.15it/s]\u001b[A\n",
      "Action: race:  50%|███████████████▌               | 2/4 [00:00<00:00,  5.15it/s]\u001b[A\n",
      "Action: race:  75%|███████████████████████▎       | 3/4 [00:00<00:00,  5.11it/s]\u001b[A\n",
      "Action: emotion: 100%|████████████████████████████| 4/4 [00:00<00:00,  6.66it/s]\u001b[A\n",
      "587it [06:15,  1.47it/s]"
     ]
    },
    {
     "name": "stdout",
     "output_type": "stream",
     "text": [
      "/Users/jessecoulter/Downloads/FIN377/CEOPersonalities-/matched_pictures/George Kurian/2017\n"
     ]
    },
    {
     "name": "stderr",
     "output_type": "stream",
     "text": [
      "\n",
      "Finding actions:   0%|                                    | 0/4 [00:00<?, ?it/s]\u001b[A\n",
      "Action: age:   0%|                                        | 0/4 [00:00<?, ?it/s]\u001b[A\n",
      "Action: age:  25%|████████                        | 1/4 [00:00<00:00,  5.04it/s]\u001b[A\n",
      "Action: gender:  25%|███████▎                     | 1/4 [00:00<00:00,  5.04it/s]\u001b[A\n",
      "Action: gender:  50%|██████████████▌              | 2/4 [00:00<00:00,  5.12it/s]\u001b[A\n",
      "Action: race:  50%|███████████████▌               | 2/4 [00:00<00:00,  5.12it/s]\u001b[A\n",
      "Action: race:  75%|███████████████████████▎       | 3/4 [00:00<00:00,  5.14it/s]\u001b[A\n",
      "Action: emotion: 100%|████████████████████████████| 4/4 [00:00<00:00,  6.66it/s]\u001b[A\n",
      "590it [06:16,  2.38it/s]"
     ]
    },
    {
     "name": "stdout",
     "output_type": "stream",
     "text": [
      "/Users/jessecoulter/Downloads/FIN377/CEOPersonalities-/matched_pictures/George Kurian/2018\n",
      "Error analyzing /Users/jessecoulter/Downloads/FIN377/CEOPersonalities-/matched_pictures/George Kurian/2018/pic1.jpg: Face could not be detected in /Users/jessecoulter/Downloads/FIN377/CEOPersonalities-/matched_pictures/George Kurian/2018/pic1.jpg.Please confirm that the picture is a face photo or consider to set enforce_detection param to False.\n",
      "/Users/jessecoulter/Downloads/FIN377/CEOPersonalities-/matched_pictures/George Kurian/2019\n",
      "Error analyzing /Users/jessecoulter/Downloads/FIN377/CEOPersonalities-/matched_pictures/George Kurian/2019/pic1.jpg: Face could not be detected in /Users/jessecoulter/Downloads/FIN377/CEOPersonalities-/matched_pictures/George Kurian/2019/pic1.jpg.Please confirm that the picture is a face photo or consider to set enforce_detection param to False.\n",
      "/Users/jessecoulter/Downloads/FIN377/CEOPersonalities-/matched_pictures/Mark Templeton/2010\n"
     ]
    },
    {
     "name": "stderr",
     "output_type": "stream",
     "text": [
      "\n",
      "Finding actions:   0%|                                    | 0/4 [00:00<?, ?it/s]\u001b[A\n",
      "Action: age:   0%|                                        | 0/4 [00:00<?, ?it/s]\u001b[A\n",
      "Action: age:  25%|████████                        | 1/4 [00:00<00:00,  4.98it/s]\u001b[A\n",
      "Action: gender:  25%|███████▎                     | 1/4 [00:00<00:00,  4.98it/s]\u001b[A\n",
      "Action: gender:  50%|██████████████▌              | 2/4 [00:00<00:00,  5.10it/s]\u001b[A\n",
      "Action: race:  50%|███████████████▌               | 2/4 [00:00<00:00,  5.10it/s]\u001b[A\n",
      "Action: race:  75%|███████████████████████▎       | 3/4 [00:00<00:00,  5.11it/s]\u001b[A\n",
      "Action: emotion: 100%|████████████████████████████| 4/4 [00:00<00:00,  6.63it/s]\u001b[A\n",
      "591it [06:17,  2.13it/s]"
     ]
    },
    {
     "name": "stdout",
     "output_type": "stream",
     "text": [
      "/Users/jessecoulter/Downloads/FIN377/CEOPersonalities-/matched_pictures/Mark Templeton/2011\n"
     ]
    },
    {
     "name": "stderr",
     "output_type": "stream",
     "text": [
      "\n",
      "Finding actions:   0%|                                    | 0/4 [00:00<?, ?it/s]\u001b[A\n",
      "Action: age:   0%|                                        | 0/4 [00:00<?, ?it/s]\u001b[A\n",
      "Action: age:  25%|████████                        | 1/4 [00:00<00:00,  5.13it/s]\u001b[A\n",
      "Action: gender:  25%|███████▎                     | 1/4 [00:00<00:00,  5.13it/s]\u001b[A\n",
      "Action: gender:  50%|██████████████▌              | 2/4 [00:00<00:00,  5.05it/s]\u001b[A\n",
      "Action: race:  50%|███████████████▌               | 2/4 [00:00<00:00,  5.05it/s]\u001b[A\n",
      "Action: race:  75%|███████████████████████▎       | 3/4 [00:00<00:00,  5.14it/s]\u001b[A\n",
      "Action: emotion: 100%|████████████████████████████| 4/4 [00:00<00:00,  6.66it/s]\u001b[A\n",
      "592it [06:18,  1.92it/s]"
     ]
    },
    {
     "name": "stdout",
     "output_type": "stream",
     "text": [
      "/Users/jessecoulter/Downloads/FIN377/CEOPersonalities-/matched_pictures/Mark Templeton/2012\n"
     ]
    },
    {
     "name": "stderr",
     "output_type": "stream",
     "text": [
      "\n",
      "Finding actions:   0%|                                    | 0/4 [00:00<?, ?it/s]\u001b[A\n",
      "Action: age:   0%|                                        | 0/4 [00:00<?, ?it/s]\u001b[A\n",
      "Action: age:  25%|████████                        | 1/4 [00:00<00:00,  5.03it/s]\u001b[A\n",
      "Action: gender:  25%|███████▎                     | 1/4 [00:00<00:00,  5.03it/s]\u001b[A\n",
      "Action: gender:  50%|██████████████▌              | 2/4 [00:00<00:00,  5.07it/s]\u001b[A\n",
      "Action: race:  50%|███████████████▌               | 2/4 [00:00<00:00,  5.07it/s]\u001b[A\n",
      "Action: race:  75%|███████████████████████▎       | 3/4 [00:00<00:00,  5.07it/s]\u001b[A\n",
      "Action: emotion: 100%|████████████████████████████| 4/4 [00:00<00:00,  6.58it/s]\u001b[A\n",
      "593it [06:18,  1.79it/s]"
     ]
    },
    {
     "name": "stdout",
     "output_type": "stream",
     "text": [
      "/Users/jessecoulter/Downloads/FIN377/CEOPersonalities-/matched_pictures/Mark Templeton/2013\n"
     ]
    },
    {
     "name": "stderr",
     "output_type": "stream",
     "text": [
      "\n",
      "Finding actions:   0%|                                    | 0/4 [00:00<?, ?it/s]\u001b[A\n",
      "Action: age:   0%|                                        | 0/4 [00:00<?, ?it/s]\u001b[A\n",
      "Action: age:  25%|████████                        | 1/4 [00:00<00:00,  5.03it/s]\u001b[A\n",
      "Action: gender:  25%|███████▎                     | 1/4 [00:00<00:00,  5.03it/s]\u001b[A\n",
      "Action: gender:  50%|██████████████▌              | 2/4 [00:00<00:00,  4.86it/s]\u001b[A\n",
      "Action: race:  50%|███████████████▌               | 2/4 [00:00<00:00,  4.86it/s]\u001b[A\n",
      "Action: race:  75%|███████████████████████▎       | 3/4 [00:00<00:00,  4.97it/s]\u001b[A\n",
      "Action: emotion: 100%|████████████████████████████| 4/4 [00:00<00:00,  6.45it/s]\u001b[A\n",
      "594it [06:19,  1.59it/s]"
     ]
    },
    {
     "name": "stdout",
     "output_type": "stream",
     "text": [
      "/Users/jessecoulter/Downloads/FIN377/CEOPersonalities-/matched_pictures/Mark Templeton/2014\n"
     ]
    },
    {
     "name": "stderr",
     "output_type": "stream",
     "text": [
      "\n",
      "Finding actions:   0%|                                    | 0/4 [00:00<?, ?it/s]\u001b[A\n",
      "Action: age:   0%|                                        | 0/4 [00:00<?, ?it/s]\u001b[A\n",
      "Action: age:  25%|████████                        | 1/4 [00:00<00:00,  5.24it/s]\u001b[A\n",
      "Action: gender:  25%|███████▎                     | 1/4 [00:00<00:00,  5.24it/s]\u001b[A\n",
      "Action: gender:  50%|██████████████▌              | 2/4 [00:00<00:00,  5.16it/s]\u001b[A\n",
      "Action: race:  50%|███████████████▌               | 2/4 [00:00<00:00,  5.16it/s]\u001b[A\n",
      "Action: race:  75%|███████████████████████▎       | 3/4 [00:00<00:00,  5.11it/s]\u001b[A\n",
      "Action: emotion: 100%|████████████████████████████| 4/4 [00:00<00:00,  6.65it/s]\u001b[A\n",
      "595it [06:20,  1.57it/s]"
     ]
    },
    {
     "name": "stdout",
     "output_type": "stream",
     "text": [
      "/Users/jessecoulter/Downloads/FIN377/CEOPersonalities-/matched_pictures/Mark Templeton/2015\n"
     ]
    },
    {
     "name": "stderr",
     "output_type": "stream",
     "text": [
      "\n",
      "Finding actions:   0%|                                    | 0/4 [00:00<?, ?it/s]\u001b[A\n",
      "Action: age:   0%|                                        | 0/4 [00:00<?, ?it/s]\u001b[A\n",
      "Action: age:  25%|████████                        | 1/4 [00:00<00:00,  5.09it/s]\u001b[A\n",
      "Action: gender:  25%|███████▎                     | 1/4 [00:00<00:00,  5.09it/s]\u001b[A\n",
      "Action: gender:  50%|██████████████▌              | 2/4 [00:00<00:00,  5.17it/s]\u001b[A\n",
      "Action: race:  50%|███████████████▌               | 2/4 [00:00<00:00,  5.17it/s]\u001b[A\n",
      "Action: race:  75%|███████████████████████▎       | 3/4 [00:00<00:00,  5.15it/s]\u001b[A\n",
      "Action: emotion: 100%|████████████████████████████| 4/4 [00:00<00:00,  6.70it/s]\u001b[A\n",
      "596it [06:21,  1.38it/s]"
     ]
    },
    {
     "name": "stdout",
     "output_type": "stream",
     "text": [
      "/Users/jessecoulter/Downloads/FIN377/CEOPersonalities-/matched_pictures/Kirill Tatarinov/2016\n"
     ]
    },
    {
     "name": "stderr",
     "output_type": "stream",
     "text": [
      "\n",
      "Finding actions:   0%|                                    | 0/4 [00:00<?, ?it/s]\u001b[A\n",
      "Action: age:   0%|                                        | 0/4 [00:00<?, ?it/s]\u001b[A\n",
      "Action: age:  25%|████████                        | 1/4 [00:00<00:00,  5.12it/s]\u001b[A\n",
      "Action: gender:  25%|███████▎                     | 1/4 [00:00<00:00,  5.12it/s]\u001b[A\n",
      "Action: gender:  50%|██████████████▌              | 2/4 [00:00<00:00,  5.25it/s]\u001b[A\n",
      "Action: race:  50%|███████████████▌               | 2/4 [00:00<00:00,  5.25it/s]\u001b[A\n",
      "Action: race:  75%|███████████████████████▎       | 3/4 [00:00<00:00,  5.21it/s]\u001b[A\n",
      "Action: emotion: 100%|████████████████████████████| 4/4 [00:00<00:00,  6.78it/s]\u001b[A\n",
      "597it [06:21,  1.42it/s]"
     ]
    },
    {
     "name": "stdout",
     "output_type": "stream",
     "text": [
      "/Users/jessecoulter/Downloads/FIN377/CEOPersonalities-/matched_pictures/David J. Henshall/2017\n"
     ]
    },
    {
     "name": "stderr",
     "output_type": "stream",
     "text": [
      "\n",
      "Finding actions:   0%|                                    | 0/4 [00:00<?, ?it/s]\u001b[A\n",
      "Action: age:   0%|                                        | 0/4 [00:00<?, ?it/s]\u001b[A\n",
      "Action: age:  25%|████████                        | 1/4 [00:00<00:00,  5.28it/s]\u001b[A\n",
      "Action: gender:  25%|███████▎                     | 1/4 [00:00<00:00,  5.28it/s]\u001b[A\n",
      "Action: gender:  50%|██████████████▌              | 2/4 [00:00<00:00,  5.19it/s]\u001b[A\n",
      "Action: race:  50%|███████████████▌               | 2/4 [00:00<00:00,  5.19it/s]\u001b[A\n",
      "Action: race:  75%|███████████████████████▎       | 3/4 [00:00<00:00,  5.17it/s]\u001b[A\n",
      "Action: emotion: 100%|████████████████████████████| 4/4 [00:00<00:00,  6.74it/s]\u001b[A\n",
      "598it [06:22,  1.43it/s]"
     ]
    },
    {
     "name": "stdout",
     "output_type": "stream",
     "text": [
      "/Users/jessecoulter/Downloads/FIN377/CEOPersonalities-/matched_pictures/David J. Henshall/2018\n"
     ]
    },
    {
     "name": "stderr",
     "output_type": "stream",
     "text": [
      "\n",
      "Finding actions:   0%|                                    | 0/4 [00:00<?, ?it/s]\u001b[A\n",
      "Action: age:   0%|                                        | 0/4 [00:00<?, ?it/s]\u001b[A\n",
      "Action: age:  25%|████████                        | 1/4 [00:00<00:00,  5.24it/s]\u001b[A\n",
      "Action: gender:  25%|███████▎                     | 1/4 [00:00<00:00,  5.24it/s]\u001b[A\n",
      "Action: gender:  50%|██████████████▌              | 2/4 [00:00<00:00,  5.20it/s]\u001b[A\n",
      "Action: race:  50%|███████████████▌               | 2/4 [00:00<00:00,  5.20it/s]\u001b[A\n",
      "Action: race:  75%|███████████████████████▎       | 3/4 [00:00<00:00,  5.14it/s]\u001b[A\n",
      "Action: emotion: 100%|████████████████████████████| 4/4 [00:00<00:00,  6.72it/s]\u001b[A\n",
      "599it [06:23,  1.33it/s]"
     ]
    },
    {
     "name": "stdout",
     "output_type": "stream",
     "text": [
      "/Users/jessecoulter/Downloads/FIN377/CEOPersonalities-/matched_pictures/David J. Henshall/2019\n"
     ]
    },
    {
     "name": "stderr",
     "output_type": "stream",
     "text": [
      "\n",
      "Finding actions:   0%|                                    | 0/4 [00:00<?, ?it/s]\u001b[A\n",
      "Action: age:   0%|                                        | 0/4 [00:00<?, ?it/s]\u001b[A\n",
      "Action: age:  25%|████████                        | 1/4 [00:00<00:00,  5.11it/s]\u001b[A\n",
      "Action: gender:  25%|███████▎                     | 1/4 [00:00<00:00,  5.11it/s]\u001b[A\n",
      "Action: gender:  50%|██████████████▌              | 2/4 [00:00<00:00,  5.17it/s]\u001b[A\n",
      "Action: race:  50%|███████████████▌               | 2/4 [00:00<00:00,  5.17it/s]\u001b[A\n",
      "Action: race:  75%|███████████████████████▎       | 3/4 [00:00<00:00,  5.21it/s]\u001b[A\n",
      "Action: emotion: 100%|████████████████████████████| 4/4 [00:00<00:00,  6.75it/s]\u001b[A\n",
      "600it [06:24,  1.39it/s]"
     ]
    },
    {
     "name": "stdout",
     "output_type": "stream",
     "text": [
      "/Users/jessecoulter/Downloads/FIN377/CEOPersonalities-/matched_pictures/Kevin Johnson/2010\n"
     ]
    },
    {
     "name": "stderr",
     "output_type": "stream",
     "text": [
      "\n",
      "Finding actions:   0%|                                    | 0/4 [00:00<?, ?it/s]\u001b[A\n",
      "Action: age:   0%|                                        | 0/4 [00:00<?, ?it/s]\u001b[A\n",
      "Action: age:  25%|████████                        | 1/4 [00:00<00:00,  5.03it/s]\u001b[A\n",
      "Action: gender:  25%|███████▎                     | 1/4 [00:00<00:00,  5.03it/s]\u001b[A\n",
      "Action: gender:  50%|██████████████▌              | 2/4 [00:00<00:00,  5.12it/s]\u001b[A\n",
      "Action: race:  50%|███████████████▌               | 2/4 [00:00<00:00,  5.12it/s]\u001b[A\n",
      "Action: race:  75%|███████████████████████▎       | 3/4 [00:00<00:00,  5.15it/s]\u001b[A\n",
      "Action: emotion: 100%|████████████████████████████| 4/4 [00:00<00:00,  6.67it/s]\u001b[A\n",
      "601it [06:24,  1.45it/s]"
     ]
    },
    {
     "name": "stdout",
     "output_type": "stream",
     "text": [
      "/Users/jessecoulter/Downloads/FIN377/CEOPersonalities-/matched_pictures/Kevin Johnson/2011\n"
     ]
    },
    {
     "name": "stderr",
     "output_type": "stream",
     "text": [
      "\n",
      "Finding actions:   0%|                                    | 0/4 [00:00<?, ?it/s]\u001b[A\n",
      "Action: age:   0%|                                        | 0/4 [00:00<?, ?it/s]\u001b[A\n",
      "Action: age:  25%|████████                        | 1/4 [00:00<00:00,  5.11it/s]\u001b[A\n",
      "Action: gender:  25%|███████▎                     | 1/4 [00:00<00:00,  5.11it/s]\u001b[A\n",
      "Action: gender:  50%|██████████████▌              | 2/4 [00:00<00:00,  5.04it/s]\u001b[A\n",
      "Action: race:  50%|███████████████▌               | 2/4 [00:00<00:00,  5.04it/s]\u001b[A\n",
      "Action: race:  75%|███████████████████████▎       | 3/4 [00:00<00:00,  5.02it/s]\u001b[A\n",
      "Action: emotion: 100%|████████████████████████████| 4/4 [00:00<00:00,  6.53it/s]\u001b[A\n",
      "602it [06:25,  1.46it/s]"
     ]
    },
    {
     "name": "stdout",
     "output_type": "stream",
     "text": [
      "/Users/jessecoulter/Downloads/FIN377/CEOPersonalities-/matched_pictures/Kevin Johnson/2012\n"
     ]
    },
    {
     "name": "stderr",
     "output_type": "stream",
     "text": [
      "\n",
      "Finding actions:   0%|                                    | 0/4 [00:00<?, ?it/s]\u001b[A\n",
      "Action: age:   0%|                                        | 0/4 [00:00<?, ?it/s]\u001b[A\n",
      "Action: age:  25%|████████                        | 1/4 [00:00<00:00,  5.15it/s]\u001b[A\n",
      "Action: gender:  25%|███████▎                     | 1/4 [00:00<00:00,  5.15it/s]\u001b[A\n",
      "Action: gender:  50%|██████████████▌              | 2/4 [00:00<00:00,  5.22it/s]\u001b[A\n",
      "Action: race:  50%|███████████████▌               | 2/4 [00:00<00:00,  5.22it/s]\u001b[A\n",
      "Action: race:  75%|███████████████████████▎       | 3/4 [00:00<00:00,  5.16it/s]\u001b[A\n",
      "Action: emotion: 100%|████████████████████████████| 4/4 [00:00<00:00,  6.73it/s]\u001b[A\n",
      "603it [06:26,  1.42it/s]"
     ]
    },
    {
     "name": "stdout",
     "output_type": "stream",
     "text": [
      "/Users/jessecoulter/Downloads/FIN377/CEOPersonalities-/matched_pictures/Shaygan Kheradpir/2013\n"
     ]
    },
    {
     "name": "stderr",
     "output_type": "stream",
     "text": [
      "\n",
      "Finding actions:   0%|                                    | 0/4 [00:00<?, ?it/s]\u001b[A\n",
      "Action: age:   0%|                                        | 0/4 [00:00<?, ?it/s]\u001b[A\n",
      "Action: age:  25%|████████                        | 1/4 [00:00<00:00,  5.04it/s]\u001b[A\n",
      "Action: gender:  25%|███████▎                     | 1/4 [00:00<00:00,  5.04it/s]\u001b[A\n",
      "Action: gender:  50%|██████████████▌              | 2/4 [00:00<00:00,  5.05it/s]\u001b[A\n",
      "Action: race:  50%|███████████████▌               | 2/4 [00:00<00:00,  5.05it/s]\u001b[A\n",
      "Action: race:  75%|███████████████████████▎       | 3/4 [00:00<00:00,  5.10it/s]\u001b[A\n",
      "Action: emotion: 100%|████████████████████████████| 4/4 [00:00<00:00,  6.60it/s]\u001b[A\n",
      "604it [06:26,  1.44it/s]"
     ]
    },
    {
     "name": "stdout",
     "output_type": "stream",
     "text": [
      "/Users/jessecoulter/Downloads/FIN377/CEOPersonalities-/matched_pictures/Rami Rahim/2014\n"
     ]
    },
    {
     "name": "stderr",
     "output_type": "stream",
     "text": [
      "\n",
      "Finding actions:   0%|                                    | 0/4 [00:00<?, ?it/s]\u001b[A\n",
      "Action: age:   0%|                                        | 0/4 [00:00<?, ?it/s]\u001b[A\n",
      "Action: age:  25%|████████                        | 1/4 [00:00<00:00,  5.21it/s]\u001b[A\n",
      "Action: gender:  25%|███████▎                     | 1/4 [00:00<00:00,  5.21it/s]\u001b[A\n",
      "Action: gender:  50%|██████████████▌              | 2/4 [00:00<00:00,  5.15it/s]\u001b[A\n",
      "Action: race:  50%|███████████████▌               | 2/4 [00:00<00:00,  5.15it/s]\u001b[A\n",
      "Action: race:  75%|███████████████████████▎       | 3/4 [00:00<00:00,  5.11it/s]\u001b[A\n",
      "Action: emotion: 100%|████████████████████████████| 4/4 [00:00<00:00,  6.67it/s]\u001b[A\n",
      "605it [06:27,  1.40it/s]"
     ]
    },
    {
     "name": "stdout",
     "output_type": "stream",
     "text": [
      "/Users/jessecoulter/Downloads/FIN377/CEOPersonalities-/matched_pictures/Rami Rahim/2015\n"
     ]
    },
    {
     "name": "stderr",
     "output_type": "stream",
     "text": [
      "\n",
      "Finding actions:   0%|                                    | 0/4 [00:00<?, ?it/s]\u001b[A\n",
      "Action: age:   0%|                                        | 0/4 [00:00<?, ?it/s]\u001b[A\n",
      "Action: age:  25%|████████                        | 1/4 [00:00<00:00,  5.08it/s]\u001b[A\n",
      "Action: gender:  25%|███████▎                     | 1/4 [00:00<00:00,  5.08it/s]\u001b[A\n",
      "Action: gender:  50%|██████████████▌              | 2/4 [00:00<00:00,  5.19it/s]\u001b[A\n",
      "Action: race:  50%|███████████████▌               | 2/4 [00:00<00:00,  5.19it/s]\u001b[A\n",
      "Action: race:  75%|███████████████████████▎       | 3/4 [00:00<00:00,  5.22it/s]\u001b[A\n",
      "Action: emotion: 100%|████████████████████████████| 4/4 [00:00<00:00,  6.75it/s]\u001b[A\n",
      "606it [06:28,  1.44it/s]"
     ]
    },
    {
     "name": "stdout",
     "output_type": "stream",
     "text": [
      "/Users/jessecoulter/Downloads/FIN377/CEOPersonalities-/matched_pictures/Rami Rahim/2016\n"
     ]
    },
    {
     "name": "stderr",
     "output_type": "stream",
     "text": [
      "\n",
      "Finding actions:   0%|                                    | 0/4 [00:00<?, ?it/s]\u001b[A\n",
      "Action: age:   0%|                                        | 0/4 [00:00<?, ?it/s]\u001b[A\n",
      "Action: age:  25%|████████                        | 1/4 [00:00<00:00,  5.16it/s]\u001b[A\n",
      "Action: gender:  25%|███████▎                     | 1/4 [00:00<00:00,  5.16it/s]\u001b[A\n",
      "Action: gender:  50%|██████████████▌              | 2/4 [00:00<00:00,  5.09it/s]\u001b[A\n",
      "Action: race:  50%|███████████████▌               | 2/4 [00:00<00:00,  5.09it/s]\u001b[A\n",
      "Action: race:  75%|███████████████████████▎       | 3/4 [00:00<00:00,  5.02it/s]\u001b[A\n",
      "Action: emotion: 100%|████████████████████████████| 4/4 [00:00<00:00,  6.56it/s]\u001b[A\n",
      "607it [06:29,  1.27it/s]"
     ]
    },
    {
     "name": "stdout",
     "output_type": "stream",
     "text": [
      "/Users/jessecoulter/Downloads/FIN377/CEOPersonalities-/matched_pictures/Rami Rahim/2017\n"
     ]
    },
    {
     "name": "stderr",
     "output_type": "stream",
     "text": [
      "\n",
      "Finding actions:   0%|                                    | 0/4 [00:00<?, ?it/s]\u001b[A\n",
      "Action: age:   0%|                                        | 0/4 [00:00<?, ?it/s]\u001b[A\n",
      "Action: age:  25%|████████                        | 1/4 [00:00<00:00,  4.74it/s]\u001b[A\n",
      "Action: gender:  25%|███████▎                     | 1/4 [00:00<00:00,  4.74it/s]\u001b[A\n",
      "Action: gender:  50%|██████████████▌              | 2/4 [00:00<00:00,  5.00it/s]\u001b[A\n",
      "Action: race:  50%|███████████████▌               | 2/4 [00:00<00:00,  5.00it/s]\u001b[A\n",
      "Action: race:  75%|███████████████████████▎       | 3/4 [00:00<00:00,  5.06it/s]\u001b[A\n",
      "Action: emotion: 100%|████████████████████████████| 4/4 [00:00<00:00,  6.53it/s]\u001b[A\n",
      "608it [06:30,  1.23it/s]"
     ]
    },
    {
     "name": "stdout",
     "output_type": "stream",
     "text": [
      "/Users/jessecoulter/Downloads/FIN377/CEOPersonalities-/matched_pictures/Rami Rahim/2018\n"
     ]
    },
    {
     "name": "stderr",
     "output_type": "stream",
     "text": [
      "\n",
      "Finding actions:   0%|                                    | 0/4 [00:00<?, ?it/s]\u001b[A\n",
      "Action: age:   0%|                                        | 0/4 [00:00<?, ?it/s]\u001b[A\n",
      "Action: age:  25%|████████                        | 1/4 [00:00<00:00,  5.18it/s]\u001b[A\n",
      "Action: gender:  25%|███████▎                     | 1/4 [00:00<00:00,  5.18it/s]\u001b[A\n",
      "Action: gender:  50%|██████████████▌              | 2/4 [00:00<00:00,  5.14it/s]\u001b[A\n",
      "Action: race:  50%|███████████████▌               | 2/4 [00:00<00:00,  5.14it/s]\u001b[A\n",
      "Action: race:  75%|███████████████████████▎       | 3/4 [00:00<00:00,  5.15it/s]\u001b[A\n",
      "Action: emotion: 100%|████████████████████████████| 4/4 [00:00<00:00,  6.70it/s]\u001b[A\n",
      "609it [06:30,  1.26it/s]"
     ]
    },
    {
     "name": "stdout",
     "output_type": "stream",
     "text": [
      "/Users/jessecoulter/Downloads/FIN377/CEOPersonalities-/matched_pictures/Rami Rahim/2019\n"
     ]
    },
    {
     "name": "stderr",
     "output_type": "stream",
     "text": [
      "\n",
      "Finding actions:   0%|                                    | 0/4 [00:00<?, ?it/s]\u001b[A\n",
      "Action: age:   0%|                                        | 0/4 [00:00<?, ?it/s]\u001b[A\n",
      "Action: age:  25%|████████                        | 1/4 [00:00<00:00,  4.69it/s]\u001b[A\n",
      "Action: gender:  25%|███████▎                     | 1/4 [00:00<00:00,  4.69it/s]\u001b[A\n",
      "Action: gender:  50%|██████████████▌              | 2/4 [00:00<00:00,  4.94it/s]\u001b[A\n",
      "Action: race:  50%|███████████████▌               | 2/4 [00:00<00:00,  4.94it/s]\u001b[A\n",
      "Action: race:  75%|███████████████████████▎       | 3/4 [00:00<00:00,  5.08it/s]\u001b[A\n",
      "Action: emotion: 100%|████████████████████████████| 4/4 [00:00<00:00,  6.52it/s]\u001b[A\n",
      "\n",
      "Finding actions:   0%|                                    | 0/4 [00:00<?, ?it/s]\u001b[A\n",
      "Action: age:   0%|                                        | 0/4 [00:00<?, ?it/s]\u001b[A\n",
      "Action: age:  25%|████████                        | 1/4 [00:00<00:00,  5.26it/s]\u001b[A\n",
      "Action: gender:  25%|███████▎                     | 1/4 [00:00<00:00,  5.26it/s]\u001b[A\n",
      "Action: gender:  50%|██████████████▌              | 2/4 [00:00<00:00,  5.20it/s]\u001b[A\n",
      "Action: race:  50%|███████████████▌               | 2/4 [00:00<00:00,  5.20it/s]\u001b[A\n",
      "Action: race:  75%|███████████████████████▎       | 3/4 [00:00<00:00,  5.23it/s]\u001b[A\n",
      "Action: emotion: 100%|████████████████████████████| 4/4 [00:00<00:00,  6.81it/s]\u001b[A\n",
      "610it [06:32,  1.04s/it]"
     ]
    },
    {
     "name": "stdout",
     "output_type": "stream",
     "text": [
      "/Users/jessecoulter/Downloads/FIN377/CEOPersonalities-/matched_pictures/Eddie Edwards/2010\n"
     ]
    },
    {
     "name": "stderr",
     "output_type": "stream",
     "text": [
      "\n",
      "Finding actions:   0%|                                    | 0/4 [00:00<?, ?it/s]\u001b[A\n",
      "Action: age:   0%|                                        | 0/4 [00:00<?, ?it/s]\u001b[A\n",
      "Action: age:  25%|████████                        | 1/4 [00:00<00:00,  5.21it/s]\u001b[A\n",
      "Action: gender:  25%|███████▎                     | 1/4 [00:00<00:00,  5.21it/s]\u001b[A\n",
      "Action: gender:  50%|██████████████▌              | 2/4 [00:00<00:00,  5.19it/s]\u001b[A\n",
      "Action: race:  50%|███████████████▌               | 2/4 [00:00<00:00,  5.19it/s]\u001b[A\n",
      "Action: race:  75%|███████████████████████▎       | 3/4 [00:00<00:00,  5.23it/s]\u001b[A\n",
      "Action: emotion: 100%|████████████████████████████| 4/4 [00:00<00:00,  6.78it/s]\u001b[A\n",
      "611it [06:33,  1.09it/s]"
     ]
    },
    {
     "name": "stdout",
     "output_type": "stream",
     "text": [
      "/Users/jessecoulter/Downloads/FIN377/CEOPersonalities-/matched_pictures/Eddie Edwards/2011\n"
     ]
    },
    {
     "name": "stderr",
     "output_type": "stream",
     "text": [
      "\n",
      "Finding actions:   0%|                                    | 0/4 [00:00<?, ?it/s]\u001b[A\n",
      "Action: age:   0%|                                        | 0/4 [00:00<?, ?it/s]\u001b[A\n",
      "Action: age:  25%|████████                        | 1/4 [00:00<00:00,  5.26it/s]\u001b[A\n",
      "Action: gender:  25%|███████▎                     | 1/4 [00:00<00:00,  5.26it/s]\u001b[A\n",
      "Action: gender:  50%|██████████████▌              | 2/4 [00:00<00:00,  5.24it/s]\u001b[A\n",
      "Action: race:  50%|███████████████▌               | 2/4 [00:00<00:00,  5.24it/s]\u001b[A\n",
      "Action: race:  75%|███████████████████████▎       | 3/4 [00:00<00:00,  5.20it/s]\u001b[A\n",
      "Action: emotion: 100%|████████████████████████████| 4/4 [00:00<00:00,  6.77it/s]\u001b[A\n",
      "612it [06:33,  1.21it/s]"
     ]
    },
    {
     "name": "stdout",
     "output_type": "stream",
     "text": [
      "/Users/jessecoulter/Downloads/FIN377/CEOPersonalities-/matched_pictures/Eddie Edwards/2012\n"
     ]
    },
    {
     "name": "stderr",
     "output_type": "stream",
     "text": [
      "\n",
      "Finding actions:   0%|                                    | 0/4 [00:00<?, ?it/s]\u001b[A\n",
      "Action: age:   0%|                                        | 0/4 [00:00<?, ?it/s]\u001b[A\n",
      "Action: age:  25%|████████                        | 1/4 [00:00<00:00,  5.24it/s]\u001b[A\n",
      "Action: gender:  25%|███████▎                     | 1/4 [00:00<00:00,  5.24it/s]\u001b[A\n",
      "Action: gender:  50%|██████████████▌              | 2/4 [00:00<00:00,  5.25it/s]\u001b[A\n",
      "Action: race:  50%|███████████████▌               | 2/4 [00:00<00:00,  5.25it/s]\u001b[A\n",
      "Action: race:  75%|███████████████████████▎       | 3/4 [00:00<00:00,  5.19it/s]\u001b[A\n",
      "Action: emotion: 100%|████████████████████████████| 4/4 [00:00<00:00,  6.76it/s]\u001b[A\n",
      "613it [06:34,  1.31it/s]"
     ]
    },
    {
     "name": "stdout",
     "output_type": "stream",
     "text": [
      "/Users/jessecoulter/Downloads/FIN377/CEOPersonalities-/matched_pictures/Eddie Edwards/2013\n",
      "Folder not found: /Users/jessecoulter/Downloads/FIN377/CEOPersonalities-/matched_pictures/Eddie Edwards/2013\n",
      "/Users/jessecoulter/Downloads/FIN377/CEOPersonalities-/matched_pictures/Eddie Edwards/2014\n"
     ]
    },
    {
     "name": "stderr",
     "output_type": "stream",
     "text": [
      "\n",
      "Finding actions:   0%|                                    | 0/4 [00:00<?, ?it/s]\u001b[A\n",
      "Action: age:   0%|                                        | 0/4 [00:00<?, ?it/s]\u001b[A\n",
      "Action: age:  25%|████████                        | 1/4 [00:00<00:00,  5.10it/s]\u001b[A\n",
      "Action: gender:  25%|███████▎                     | 1/4 [00:00<00:00,  5.10it/s]\u001b[A\n",
      "Action: gender:  50%|██████████████▌              | 2/4 [00:00<00:00,  5.17it/s]\u001b[A\n",
      "Action: race:  50%|███████████████▌               | 2/4 [00:00<00:00,  5.17it/s]\u001b[A\n",
      "Action: race:  75%|███████████████████████▎       | 3/4 [00:00<00:00,  5.21it/s]\u001b[A\n",
      "Action: emotion: 100%|████████████████████████████| 4/4 [00:00<00:00,  6.75it/s]\u001b[A\n",
      "615it [06:34,  1.80it/s]"
     ]
    },
    {
     "name": "stdout",
     "output_type": "stream",
     "text": [
      "/Users/jessecoulter/Downloads/FIN377/CEOPersonalities-/matched_pictures/Eddie Edwards/2015\n"
     ]
    },
    {
     "name": "stderr",
     "output_type": "stream",
     "text": [
      "\n",
      "Finding actions:   0%|                                    | 0/4 [00:00<?, ?it/s]\u001b[A\n",
      "Action: age:   0%|                                        | 0/4 [00:00<?, ?it/s]\u001b[A\n",
      "Action: age:  25%|████████                        | 1/4 [00:00<00:00,  5.07it/s]\u001b[A\n",
      "Action: gender:  25%|███████▎                     | 1/4 [00:00<00:00,  5.07it/s]\u001b[A\n",
      "Action: gender:  50%|██████████████▌              | 2/4 [00:00<00:00,  5.15it/s]\u001b[A\n",
      "Action: race:  50%|███████████████▌               | 2/4 [00:00<00:00,  5.15it/s]\u001b[A\n",
      "Action: race:  75%|███████████████████████▎       | 3/4 [00:00<00:00,  5.21it/s]\u001b[A\n",
      "Action: emotion: 100%|████████████████████████████| 4/4 [00:00<00:00,  6.73it/s]\u001b[A\n",
      "616it [06:35,  1.73it/s]"
     ]
    },
    {
     "name": "stdout",
     "output_type": "stream",
     "text": [
      "/Users/jessecoulter/Downloads/FIN377/CEOPersonalities-/matched_pictures/Eddie Edwards/2016\n"
     ]
    },
    {
     "name": "stderr",
     "output_type": "stream",
     "text": [
      "\n",
      "Finding actions:   0%|                                    | 0/4 [00:00<?, ?it/s]\u001b[A\n",
      "Action: age:   0%|                                        | 0/4 [00:00<?, ?it/s]\u001b[A\n",
      "Action: age:  25%|████████                        | 1/4 [00:00<00:00,  5.33it/s]\u001b[A\n",
      "Action: gender:  25%|███████▎                     | 1/4 [00:00<00:00,  5.33it/s]\u001b[A\n",
      "Action: gender:  50%|██████████████▌              | 2/4 [00:00<00:00,  5.20it/s]\u001b[A\n",
      "Action: race:  50%|███████████████▌               | 2/4 [00:00<00:00,  5.20it/s]\u001b[A\n",
      "Action: race:  75%|███████████████████████▎       | 3/4 [00:00<00:00,  5.18it/s]\u001b[A\n",
      "Action: emotion: 100%|████████████████████████████| 4/4 [00:00<00:00,  6.76it/s]\u001b[A\n",
      "617it [06:36,  1.66it/s]"
     ]
    },
    {
     "name": "stdout",
     "output_type": "stream",
     "text": [
      "/Users/jessecoulter/Downloads/FIN377/CEOPersonalities-/matched_pictures/Eddie Edwards/2017\n"
     ]
    },
    {
     "name": "stderr",
     "output_type": "stream",
     "text": [
      "\n",
      "Finding actions:   0%|                                    | 0/4 [00:00<?, ?it/s]\u001b[A\n",
      "Action: age:   0%|                                        | 0/4 [00:00<?, ?it/s]\u001b[A\n",
      "Action: age:  25%|████████                        | 1/4 [00:00<00:00,  4.88it/s]\u001b[A\n",
      "Action: gender:  25%|███████▎                     | 1/4 [00:00<00:00,  4.88it/s]\u001b[A\n",
      "Action: gender:  50%|██████████████▌              | 2/4 [00:00<00:00,  4.88it/s]\u001b[A\n",
      "Action: race:  50%|███████████████▌               | 2/4 [00:00<00:00,  4.88it/s]\u001b[A\n",
      "Action: race:  75%|███████████████████████▎       | 3/4 [00:00<00:00,  4.98it/s]\u001b[A\n",
      "Action: emotion: 100%|████████████████████████████| 4/4 [00:00<00:00,  6.44it/s]\u001b[A\n",
      "618it [06:36,  1.62it/s]"
     ]
    },
    {
     "name": "stdout",
     "output_type": "stream",
     "text": [
      "/Users/jessecoulter/Downloads/FIN377/CEOPersonalities-/matched_pictures/Eddie Edwards/2018\n",
      "Folder not found: /Users/jessecoulter/Downloads/FIN377/CEOPersonalities-/matched_pictures/Eddie Edwards/2018\n",
      "/Users/jessecoulter/Downloads/FIN377/CEOPersonalities-/matched_pictures/Eddie Edwards/2019\n"
     ]
    },
    {
     "name": "stderr",
     "output_type": "stream",
     "text": [
      "\n",
      "Finding actions:   0%|                                    | 0/4 [00:00<?, ?it/s]\u001b[A\n",
      "Action: age:   0%|                                        | 0/4 [00:00<?, ?it/s]\u001b[A\n",
      "Action: age:  25%|████████                        | 1/4 [00:00<00:00,  4.46it/s]\u001b[A\n",
      "Action: gender:  25%|███████▎                     | 1/4 [00:00<00:00,  4.46it/s]\u001b[A\n",
      "Action: gender:  50%|██████████████▌              | 2/4 [00:00<00:00,  4.56it/s]\u001b[A\n",
      "Action: race:  50%|███████████████▌               | 2/4 [00:00<00:00,  4.56it/s]\u001b[A\n",
      "Action: race:  75%|███████████████████████▎       | 3/4 [00:00<00:00,  4.84it/s]\u001b[A\n",
      "Action: emotion: 100%|████████████████████████████| 4/4 [00:00<00:00,  6.20it/s]\u001b[A\n",
      "620it [06:37,  2.02it/s]"
     ]
    },
    {
     "name": "stdout",
     "output_type": "stream",
     "text": [
      "/Users/jessecoulter/Downloads/FIN377/CEOPersonalities-/matched_pictures/Gary Smith/2010\n",
      "Folder not found: /Users/jessecoulter/Downloads/FIN377/CEOPersonalities-/matched_pictures/Gary Smith/2010\n",
      "/Users/jessecoulter/Downloads/FIN377/CEOPersonalities-/matched_pictures/Gary Smith/2011\n"
     ]
    },
    {
     "name": "stderr",
     "output_type": "stream",
     "text": [
      "\n",
      "Finding actions:   0%|                                    | 0/4 [00:00<?, ?it/s]\u001b[A\n",
      "Action: age:   0%|                                        | 0/4 [00:00<?, ?it/s]\u001b[A\n",
      "Action: age:  25%|████████                        | 1/4 [00:00<00:00,  5.20it/s]\u001b[A\n",
      "Action: gender:  25%|███████▎                     | 1/4 [00:00<00:00,  5.20it/s]\u001b[A\n",
      "Action: gender:  50%|██████████████▌              | 2/4 [00:00<00:00,  5.13it/s]\u001b[A\n",
      "Action: race:  50%|███████████████▌               | 2/4 [00:00<00:00,  5.13it/s]\u001b[A\n",
      "Action: race:  75%|███████████████████████▎       | 3/4 [00:00<00:00,  5.24it/s]\u001b[A\n",
      "Action: emotion: 100%|████████████████████████████| 4/4 [00:00<00:00,  6.79it/s]\u001b[A\n",
      "622it [06:38,  2.36it/s]"
     ]
    },
    {
     "name": "stdout",
     "output_type": "stream",
     "text": [
      "/Users/jessecoulter/Downloads/FIN377/CEOPersonalities-/matched_pictures/Gary Smith/2012\n"
     ]
    },
    {
     "name": "stderr",
     "output_type": "stream",
     "text": [
      "\n",
      "Finding actions:   0%|                                    | 0/4 [00:00<?, ?it/s]\u001b[A\n",
      "Action: age:   0%|                                        | 0/4 [00:00<?, ?it/s]\u001b[A\n",
      "Action: age:  25%|████████                        | 1/4 [00:00<00:00,  4.89it/s]\u001b[A\n",
      "Action: gender:  25%|███████▎                     | 1/4 [00:00<00:00,  4.89it/s]\u001b[A\n",
      "Action: gender:  50%|██████████████▌              | 2/4 [00:00<00:00,  4.91it/s]\u001b[A\n",
      "Action: race:  50%|███████████████▌               | 2/4 [00:00<00:00,  4.91it/s]\u001b[A\n",
      "Action: race:  75%|███████████████████████▎       | 3/4 [00:00<00:00,  5.04it/s]\u001b[A\n",
      "Action: emotion: 100%|████████████████████████████| 4/4 [00:00<00:00,  6.51it/s]\u001b[A\n",
      "623it [06:38,  2.12it/s]"
     ]
    },
    {
     "name": "stdout",
     "output_type": "stream",
     "text": [
      "/Users/jessecoulter/Downloads/FIN377/CEOPersonalities-/matched_pictures/Gary Smith/2013\n"
     ]
    },
    {
     "name": "stderr",
     "output_type": "stream",
     "text": [
      "\n",
      "Finding actions:   0%|                                    | 0/4 [00:00<?, ?it/s]\u001b[A\n",
      "Action: age:   0%|                                        | 0/4 [00:00<?, ?it/s]\u001b[A\n",
      "Action: age:  25%|████████                        | 1/4 [00:00<00:00,  4.68it/s]\u001b[A\n",
      "Action: gender:  25%|███████▎                     | 1/4 [00:00<00:00,  4.68it/s]\u001b[A\n",
      "Action: gender:  50%|██████████████▌              | 2/4 [00:00<00:00,  5.02it/s]\u001b[A\n",
      "Action: race:  50%|███████████████▌               | 2/4 [00:00<00:00,  5.02it/s]\u001b[A\n",
      "Action: race:  75%|███████████████████████▎       | 3/4 [00:00<00:00,  4.89it/s]\u001b[A\n",
      "Action: emotion: 100%|████████████████████████████| 4/4 [00:00<00:00,  6.37it/s]\u001b[A\n",
      "624it [06:39,  1.68it/s]"
     ]
    },
    {
     "name": "stdout",
     "output_type": "stream",
     "text": [
      "/Users/jessecoulter/Downloads/FIN377/CEOPersonalities-/matched_pictures/Gary Smith/2014\n"
     ]
    },
    {
     "name": "stderr",
     "output_type": "stream",
     "text": [
      "\n",
      "Finding actions:   0%|                                    | 0/4 [00:00<?, ?it/s]\u001b[A\n",
      "Action: age:   0%|                                        | 0/4 [00:00<?, ?it/s]\u001b[A\n",
      "Action: age:  25%|████████                        | 1/4 [00:00<00:00,  5.08it/s]\u001b[A\n",
      "Action: gender:  25%|███████▎                     | 1/4 [00:00<00:00,  5.08it/s]\u001b[A\n",
      "Action: gender:  50%|██████████████▌              | 2/4 [00:00<00:00,  5.10it/s]\u001b[A\n",
      "Action: race:  50%|███████████████▌               | 2/4 [00:00<00:00,  5.10it/s]\u001b[A\n",
      "Action: race:  75%|███████████████████████▎       | 3/4 [00:00<00:00,  5.22it/s]\u001b[A\n",
      "Action: emotion: 100%|████████████████████████████| 4/4 [00:00<00:00,  6.75it/s]\u001b[A\n",
      "625it [06:40,  1.64it/s]"
     ]
    },
    {
     "name": "stdout",
     "output_type": "stream",
     "text": [
      "/Users/jessecoulter/Downloads/FIN377/CEOPersonalities-/matched_pictures/Gary Smith/2015\n"
     ]
    },
    {
     "name": "stderr",
     "output_type": "stream",
     "text": [
      "\n",
      "Finding actions:   0%|                                    | 0/4 [00:00<?, ?it/s]\u001b[A\n",
      "Action: age:   0%|                                        | 0/4 [00:00<?, ?it/s]\u001b[A\n",
      "Action: age:  25%|████████                        | 1/4 [00:00<00:00,  4.95it/s]\u001b[A\n",
      "Action: gender:  25%|███████▎                     | 1/4 [00:00<00:00,  4.95it/s]\u001b[A\n",
      "Action: gender:  50%|██████████████▌              | 2/4 [00:00<00:00,  4.91it/s]\u001b[A\n",
      "Action: race:  50%|███████████████▌               | 2/4 [00:00<00:00,  4.91it/s]\u001b[A\n",
      "Action: race:  75%|███████████████████████▎       | 3/4 [00:00<00:00,  4.89it/s]\u001b[A\n",
      "Action: emotion: 100%|████████████████████████████| 4/4 [00:00<00:00,  6.38it/s]\u001b[A\n",
      "626it [06:41,  1.38it/s]"
     ]
    },
    {
     "name": "stdout",
     "output_type": "stream",
     "text": [
      "/Users/jessecoulter/Downloads/FIN377/CEOPersonalities-/matched_pictures/Gary Smith/2016\n"
     ]
    },
    {
     "name": "stderr",
     "output_type": "stream",
     "text": [
      "\n",
      "Finding actions:   0%|                                    | 0/4 [00:00<?, ?it/s]\u001b[A\n",
      "Action: age:   0%|                                        | 0/4 [00:00<?, ?it/s]\u001b[A\n",
      "Action: age:  25%|████████                        | 1/4 [00:00<00:00,  5.33it/s]\u001b[A\n",
      "Action: gender:  25%|███████▎                     | 1/4 [00:00<00:00,  5.33it/s]\u001b[A\n",
      "Action: gender:  50%|██████████████▌              | 2/4 [00:00<00:00,  5.50it/s]\u001b[A\n",
      "Action: race:  50%|███████████████▌               | 2/4 [00:00<00:00,  5.50it/s]\u001b[A\n",
      "Action: race:  75%|███████████████████████▎       | 3/4 [00:00<00:00,  5.32it/s]\u001b[A\n",
      "Action: emotion: 100%|████████████████████████████| 4/4 [00:00<00:00,  6.92it/s]\u001b[A\n",
      "627it [06:42,  1.41it/s]"
     ]
    },
    {
     "name": "stdout",
     "output_type": "stream",
     "text": [
      "/Users/jessecoulter/Downloads/FIN377/CEOPersonalities-/matched_pictures/Gary Smith/2017\n"
     ]
    },
    {
     "name": "stderr",
     "output_type": "stream",
     "text": [
      "\n",
      "Finding actions:   0%|                                    | 0/4 [00:00<?, ?it/s]\u001b[A\n",
      "Action: age:   0%|                                        | 0/4 [00:00<?, ?it/s]\u001b[A\n",
      "Action: age:  25%|████████                        | 1/4 [00:00<00:00,  4.57it/s]\u001b[A\n",
      "Action: gender:  25%|███████▎                     | 1/4 [00:00<00:00,  4.57it/s]\u001b[A\n",
      "Action: gender:  50%|██████████████▌              | 2/4 [00:00<00:00,  4.97it/s]\u001b[A\n",
      "Action: race:  50%|███████████████▌               | 2/4 [00:00<00:00,  4.97it/s]\u001b[A\n",
      "Action: race:  75%|███████████████████████▎       | 3/4 [00:00<00:00,  4.95it/s]\u001b[A\n",
      "Action: emotion: 100%|████████████████████████████| 4/4 [00:00<00:00,  6.38it/s]\u001b[A\n",
      "628it [06:42,  1.44it/s]"
     ]
    },
    {
     "name": "stdout",
     "output_type": "stream",
     "text": [
      "/Users/jessecoulter/Downloads/FIN377/CEOPersonalities-/matched_pictures/Gary Smith/2018\n"
     ]
    },
    {
     "name": "stderr",
     "output_type": "stream",
     "text": [
      "\n",
      "Finding actions:   0%|                                    | 0/4 [00:00<?, ?it/s]\u001b[A\n",
      "Action: age:   0%|                                        | 0/4 [00:00<?, ?it/s]\u001b[A\n",
      "Action: age:  25%|████████                        | 1/4 [00:00<00:00,  5.18it/s]\u001b[A\n",
      "Action: gender:  25%|███████▎                     | 1/4 [00:00<00:00,  5.18it/s]\u001b[A\n",
      "Action: gender:  50%|██████████████▌              | 2/4 [00:00<00:00,  5.09it/s]\u001b[A\n",
      "Action: race:  50%|███████████████▌               | 2/4 [00:00<00:00,  5.09it/s]\u001b[A\n",
      "Action: race:  75%|███████████████████████▎       | 3/4 [00:00<00:00,  5.20it/s]\u001b[A\n",
      "Action: emotion: 100%|████████████████████████████| 4/4 [00:00<00:00,  6.74it/s]\u001b[A\n",
      "629it [06:43,  1.48it/s]"
     ]
    },
    {
     "name": "stdout",
     "output_type": "stream",
     "text": [
      "/Users/jessecoulter/Downloads/FIN377/CEOPersonalities-/matched_pictures/Gary Smith/2019\n"
     ]
    },
    {
     "name": "stderr",
     "output_type": "stream",
     "text": [
      "\n",
      "Finding actions:   0%|                                    | 0/4 [00:00<?, ?it/s]\u001b[A\n",
      "Action: age:   0%|                                        | 0/4 [00:00<?, ?it/s]\u001b[A\n",
      "Action: age:  25%|████████                        | 1/4 [00:00<00:00,  5.40it/s]\u001b[A\n",
      "Action: gender:  25%|███████▎                     | 1/4 [00:00<00:00,  5.40it/s]\u001b[A\n",
      "Action: gender:  50%|██████████████▌              | 2/4 [00:00<00:00,  4.98it/s]\u001b[A\n",
      "Action: race:  50%|███████████████▌               | 2/4 [00:00<00:00,  4.98it/s]\u001b[A\n",
      "Action: race:  75%|███████████████████████▎       | 3/4 [00:00<00:00,  5.03it/s]\u001b[A\n",
      "Action: emotion: 100%|████████████████████████████| 4/4 [00:00<00:00,  6.58it/s]\u001b[A\n",
      "630it [06:44,  1.48it/s]"
     ]
    },
    {
     "name": "stdout",
     "output_type": "stream",
     "text": [
      "/Users/jessecoulter/Downloads/FIN377/CEOPersonalities-/matched_pictures/Dominic Orr/2010\n"
     ]
    },
    {
     "name": "stderr",
     "output_type": "stream",
     "text": [
      "\n",
      "Finding actions:   0%|                                    | 0/4 [00:00<?, ?it/s]\u001b[A\n",
      "Action: age:   0%|                                        | 0/4 [00:00<?, ?it/s]\u001b[A\n",
      "Action: age:  25%|████████                        | 1/4 [00:00<00:00,  5.11it/s]\u001b[A\n",
      "Action: gender:  25%|███████▎                     | 1/4 [00:00<00:00,  5.11it/s]\u001b[A\n",
      "Action: gender:  50%|██████████████▌              | 2/4 [00:00<00:00,  5.07it/s]\u001b[A\n",
      "Action: race:  50%|███████████████▌               | 2/4 [00:00<00:00,  5.07it/s]\u001b[A\n",
      "Action: race:  75%|███████████████████████▎       | 3/4 [00:00<00:00,  4.91it/s]\u001b[A\n",
      "Action: emotion: 100%|████████████████████████████| 4/4 [00:00<00:00,  6.45it/s]\u001b[A\n",
      "631it [06:44,  1.49it/s]"
     ]
    },
    {
     "name": "stdout",
     "output_type": "stream",
     "text": [
      "/Users/jessecoulter/Downloads/FIN377/CEOPersonalities-/matched_pictures/Dominic Orr/2011\n"
     ]
    },
    {
     "name": "stderr",
     "output_type": "stream",
     "text": [
      "\n",
      "Finding actions:   0%|                                    | 0/4 [00:00<?, ?it/s]\u001b[A\n",
      "Action: age:   0%|                                        | 0/4 [00:00<?, ?it/s]\u001b[A\n",
      "Action: age:  25%|████████                        | 1/4 [00:00<00:00,  4.98it/s]\u001b[A\n",
      "Action: gender:  25%|███████▎                     | 1/4 [00:00<00:00,  4.98it/s]\u001b[A\n",
      "Action: gender:  50%|██████████████▌              | 2/4 [00:00<00:00,  4.83it/s]\u001b[A\n",
      "Action: race:  50%|███████████████▌               | 2/4 [00:00<00:00,  4.83it/s]\u001b[A\n",
      "Action: race:  75%|███████████████████████▎       | 3/4 [00:00<00:00,  4.77it/s]\u001b[A\n",
      "Action: emotion: 100%|████████████████████████████| 4/4 [00:00<00:00,  6.25it/s]\u001b[A\n",
      "632it [06:45,  1.47it/s]"
     ]
    },
    {
     "name": "stdout",
     "output_type": "stream",
     "text": [
      "/Users/jessecoulter/Downloads/FIN377/CEOPersonalities-/matched_pictures/Dominic Orr/2012\n"
     ]
    },
    {
     "name": "stderr",
     "output_type": "stream",
     "text": [
      "\n",
      "Finding actions:   0%|                                    | 0/4 [00:00<?, ?it/s]\u001b[A\n",
      "Action: age:   0%|                                        | 0/4 [00:00<?, ?it/s]\u001b[A\n",
      "Action: age:  25%|████████                        | 1/4 [00:00<00:00,  4.81it/s]\u001b[A\n",
      "Action: gender:  25%|███████▎                     | 1/4 [00:00<00:00,  4.81it/s]\u001b[A\n",
      "Action: gender:  50%|██████████████▌              | 2/4 [00:00<00:00,  4.94it/s]\u001b[A\n",
      "Action: race:  50%|███████████████▌               | 2/4 [00:00<00:00,  4.94it/s]\u001b[A\n",
      "Action: race:  75%|███████████████████████▎       | 3/4 [00:00<00:00,  4.89it/s]\u001b[A\n",
      "Action: emotion: 100%|████████████████████████████| 4/4 [00:00<00:00,  6.36it/s]\u001b[A\n",
      "633it [06:46,  1.48it/s]"
     ]
    },
    {
     "name": "stdout",
     "output_type": "stream",
     "text": [
      "/Users/jessecoulter/Downloads/FIN377/CEOPersonalities-/matched_pictures/Dominic Orr/2013\n"
     ]
    },
    {
     "name": "stderr",
     "output_type": "stream",
     "text": [
      "\n",
      "Finding actions:   0%|                                    | 0/4 [00:00<?, ?it/s]\u001b[A\n",
      "Action: age:   0%|                                        | 0/4 [00:00<?, ?it/s]\u001b[A\n",
      "Action: age:  25%|████████                        | 1/4 [00:00<00:00,  5.32it/s]\u001b[A\n",
      "Action: gender:  25%|███████▎                     | 1/4 [00:00<00:00,  5.32it/s]\u001b[A\n",
      "Action: gender:  50%|██████████████▌              | 2/4 [00:00<00:00,  5.16it/s]\u001b[A\n",
      "Action: race:  50%|███████████████▌               | 2/4 [00:00<00:00,  5.16it/s]\u001b[A\n",
      "Action: race:  75%|███████████████████████▎       | 3/4 [00:00<00:00,  5.23it/s]\u001b[A\n",
      "Action: emotion: 100%|████████████████████████████| 4/4 [00:00<00:00,  6.80it/s]\u001b[A\n",
      "634it [06:46,  1.51it/s]"
     ]
    },
    {
     "name": "stdout",
     "output_type": "stream",
     "text": [
      "/Users/jessecoulter/Downloads/FIN377/CEOPersonalities-/matched_pictures/Dominic Orr/2014\n"
     ]
    },
    {
     "name": "stderr",
     "output_type": "stream",
     "text": [
      "\n",
      "Finding actions:   0%|                                    | 0/4 [00:00<?, ?it/s]\u001b[A\n",
      "Action: age:   0%|                                        | 0/4 [00:00<?, ?it/s]\u001b[A\n",
      "Action: age:  25%|████████                        | 1/4 [00:00<00:00,  5.65it/s]\u001b[A\n",
      "Action: gender:  25%|███████▎                     | 1/4 [00:00<00:00,  5.65it/s]\u001b[A\n",
      "Action: gender:  50%|██████████████▌              | 2/4 [00:00<00:00,  5.15it/s]\u001b[A\n",
      "Action: race:  50%|███████████████▌               | 2/4 [00:00<00:00,  5.15it/s]\u001b[A\n",
      "Action: race:  75%|███████████████████████▎       | 3/4 [00:00<00:00,  5.13it/s]\u001b[A\n",
      "Action: emotion: 100%|████████████████████████████| 4/4 [00:00<00:00,  6.74it/s]\u001b[A\n",
      "635it [06:47,  1.54it/s]"
     ]
    },
    {
     "name": "stdout",
     "output_type": "stream",
     "text": [
      "/Users/jessecoulter/Downloads/FIN377/CEOPersonalities-/matched_pictures/Dominic Orr/2015\n"
     ]
    },
    {
     "name": "stderr",
     "output_type": "stream",
     "text": [
      "\n",
      "Finding actions:   0%|                                    | 0/4 [00:00<?, ?it/s]\u001b[A\n",
      "Action: age:   0%|                                        | 0/4 [00:00<?, ?it/s]\u001b[A\n",
      "Action: age:  25%|████████                        | 1/4 [00:00<00:00,  5.40it/s]\u001b[A\n",
      "Action: gender:  25%|███████▎                     | 1/4 [00:00<00:00,  5.40it/s]\u001b[A\n",
      "Action: gender:  50%|██████████████▌              | 2/4 [00:00<00:00,  5.44it/s]\u001b[A\n",
      "Action: race:  50%|███████████████▌               | 2/4 [00:00<00:00,  5.44it/s]\u001b[A\n",
      "Action: race:  75%|███████████████████████▎       | 3/4 [00:00<00:00,  5.45it/s]\u001b[A\n",
      "Action: emotion: 100%|████████████████████████████| 4/4 [00:00<00:00,  7.08it/s]\u001b[A\n",
      "636it [06:48,  1.54it/s]"
     ]
    },
    {
     "name": "stdout",
     "output_type": "stream",
     "text": [
      "/Users/jessecoulter/Downloads/FIN377/CEOPersonalities-/matched_pictures/Part of HPE/2016\n",
      "Folder not found: /Users/jessecoulter/Downloads/FIN377/CEOPersonalities-/matched_pictures/Part of HPE/2016\n",
      "/Users/jessecoulter/Downloads/FIN377/CEOPersonalities-/matched_pictures/Part of HPE/2017\n",
      "Folder not found: /Users/jessecoulter/Downloads/FIN377/CEOPersonalities-/matched_pictures/Part of HPE/2017\n",
      "/Users/jessecoulter/Downloads/FIN377/CEOPersonalities-/matched_pictures/Part of HPE/2018\n",
      "Folder not found: /Users/jessecoulter/Downloads/FIN377/CEOPersonalities-/matched_pictures/Part of HPE/2018\n",
      "/Users/jessecoulter/Downloads/FIN377/CEOPersonalities-/matched_pictures/Part of HPE/2019\n",
      "Folder not found: /Users/jessecoulter/Downloads/FIN377/CEOPersonalities-/matched_pictures/Part of HPE/2019\n",
      "/Users/jessecoulter/Downloads/FIN377/CEOPersonalities-/matched_pictures/Lane Bess/2010\n"
     ]
    },
    {
     "name": "stderr",
     "output_type": "stream",
     "text": [
      "\n",
      "Finding actions:   0%|                                    | 0/4 [00:00<?, ?it/s]\u001b[A\n",
      "Action: age:   0%|                                        | 0/4 [00:00<?, ?it/s]\u001b[A\n",
      "Action: age:  25%|████████                        | 1/4 [00:00<00:00,  5.47it/s]\u001b[A\n",
      "Action: gender:  25%|███████▎                     | 1/4 [00:00<00:00,  5.47it/s]\u001b[A\n",
      "Action: gender:  50%|██████████████▌              | 2/4 [00:00<00:00,  5.44it/s]\u001b[A\n",
      "Action: race:  50%|███████████████▌               | 2/4 [00:00<00:00,  5.44it/s]\u001b[A\n",
      "Action: race:  75%|███████████████████████▎       | 3/4 [00:00<00:00,  5.40it/s]\u001b[A\n",
      "Action: emotion: 100%|████████████████████████████| 4/4 [00:00<00:00,  7.04it/s]\u001b[A\n",
      "641it [06:48,  3.47it/s]"
     ]
    },
    {
     "name": "stdout",
     "output_type": "stream",
     "text": [
      "/Users/jessecoulter/Downloads/FIN377/CEOPersonalities-/matched_pictures/Mark McLaughlin/2011\n"
     ]
    },
    {
     "name": "stderr",
     "output_type": "stream",
     "text": [
      "\n",
      "Finding actions:   0%|                                    | 0/4 [00:00<?, ?it/s]\u001b[A\n",
      "Action: age:   0%|                                        | 0/4 [00:00<?, ?it/s]\u001b[A\n",
      "Action: age:  25%|████████                        | 1/4 [00:00<00:00,  5.45it/s]\u001b[A\n",
      "Action: gender:  25%|███████▎                     | 1/4 [00:00<00:00,  5.45it/s]\u001b[A\n",
      "Action: gender:  50%|██████████████▌              | 2/4 [00:00<00:00,  5.37it/s]\u001b[A\n",
      "Action: race:  50%|███████████████▌               | 2/4 [00:00<00:00,  5.37it/s]\u001b[A\n",
      "Action: race:  75%|███████████████████████▎       | 3/4 [00:00<00:00,  5.41it/s]\u001b[A\n",
      "Action: emotion: 100%|████████████████████████████| 4/4 [00:00<00:00,  7.03it/s]\u001b[A\n",
      "642it [06:49,  2.86it/s]"
     ]
    },
    {
     "name": "stdout",
     "output_type": "stream",
     "text": [
      "/Users/jessecoulter/Downloads/FIN377/CEOPersonalities-/matched_pictures/Mark McLaughlin/2012\n"
     ]
    },
    {
     "name": "stderr",
     "output_type": "stream",
     "text": [
      "\n",
      "Finding actions:   0%|                                    | 0/4 [00:00<?, ?it/s]\u001b[A\n",
      "Action: age:   0%|                                        | 0/4 [00:00<?, ?it/s]\u001b[A\n",
      "Action: age:  25%|████████                        | 1/4 [00:00<00:00,  5.39it/s]\u001b[A\n",
      "Action: gender:  25%|███████▎                     | 1/4 [00:00<00:00,  5.39it/s]\u001b[A\n",
      "Action: gender:  50%|██████████████▌              | 2/4 [00:00<00:00,  5.29it/s]\u001b[A\n",
      "Action: race:  50%|███████████████▌               | 2/4 [00:00<00:00,  5.29it/s]\u001b[A\n",
      "Action: race:  75%|███████████████████████▎       | 3/4 [00:00<00:00,  5.20it/s]\u001b[A\n",
      "Action: emotion: 100%|████████████████████████████| 4/4 [00:00<00:00,  6.81it/s]\u001b[A\n",
      "643it [06:50,  2.43it/s]"
     ]
    },
    {
     "name": "stdout",
     "output_type": "stream",
     "text": [
      "/Users/jessecoulter/Downloads/FIN377/CEOPersonalities-/matched_pictures/Mark McLaughlin/2013\n"
     ]
    },
    {
     "name": "stderr",
     "output_type": "stream",
     "text": [
      "\n",
      "Finding actions:   0%|                                    | 0/4 [00:00<?, ?it/s]\u001b[A\n",
      "Action: age:   0%|                                        | 0/4 [00:00<?, ?it/s]\u001b[A\n",
      "Action: age:  25%|████████                        | 1/4 [00:00<00:00,  5.48it/s]\u001b[A\n",
      "Action: gender:  25%|███████▎                     | 1/4 [00:00<00:00,  5.48it/s]\u001b[A\n",
      "Action: gender:  50%|██████████████▌              | 2/4 [00:00<00:00,  5.30it/s]\u001b[A\n",
      "Action: race:  50%|███████████████▌               | 2/4 [00:00<00:00,  5.30it/s]\u001b[A\n",
      "Action: race:  75%|███████████████████████▎       | 3/4 [00:00<00:00,  5.29it/s]\u001b[A\n",
      "Action: emotion: 100%|████████████████████████████| 4/4 [00:00<00:00,  6.91it/s]\u001b[A\n",
      "644it [06:50,  1.98it/s]"
     ]
    },
    {
     "name": "stdout",
     "output_type": "stream",
     "text": [
      "/Users/jessecoulter/Downloads/FIN377/CEOPersonalities-/matched_pictures/Mark McLaughlin/2014\n"
     ]
    },
    {
     "name": "stderr",
     "output_type": "stream",
     "text": [
      "\n",
      "Finding actions:   0%|                                    | 0/4 [00:00<?, ?it/s]\u001b[A\n",
      "Action: age:   0%|                                        | 0/4 [00:00<?, ?it/s]\u001b[A\n",
      "Action: age:  25%|████████                        | 1/4 [00:00<00:00,  5.47it/s]\u001b[A\n",
      "Action: gender:  25%|███████▎                     | 1/4 [00:00<00:00,  5.47it/s]\u001b[A\n",
      "Action: gender:  50%|██████████████▌              | 2/4 [00:00<00:00,  5.45it/s]\u001b[A\n",
      "Action: race:  50%|███████████████▌               | 2/4 [00:00<00:00,  5.45it/s]\u001b[A\n",
      "Action: race:  75%|███████████████████████▎       | 3/4 [00:00<00:00,  5.38it/s]\u001b[A\n",
      "Action: emotion: 100%|████████████████████████████| 4/4 [00:00<00:00,  7.02it/s]\u001b[A\n",
      "645it [06:51,  1.85it/s]"
     ]
    },
    {
     "name": "stdout",
     "output_type": "stream",
     "text": [
      "/Users/jessecoulter/Downloads/FIN377/CEOPersonalities-/matched_pictures/Mark McLaughlin/2015\n"
     ]
    },
    {
     "name": "stderr",
     "output_type": "stream",
     "text": [
      "\n",
      "Finding actions:   0%|                                    | 0/4 [00:00<?, ?it/s]\u001b[A\n",
      "Action: age:   0%|                                        | 0/4 [00:00<?, ?it/s]\u001b[A\n",
      "Action: age:  25%|████████                        | 1/4 [00:00<00:00,  5.45it/s]\u001b[A\n",
      "Action: gender:  25%|███████▎                     | 1/4 [00:00<00:00,  5.45it/s]\u001b[A\n",
      "Action: gender:  50%|██████████████▌              | 2/4 [00:00<00:00,  5.46it/s]\u001b[A\n",
      "Action: race:  50%|███████████████▌               | 2/4 [00:00<00:00,  5.46it/s]\u001b[A\n",
      "Action: race:  75%|███████████████████████▎       | 3/4 [00:00<00:00,  5.33it/s]\u001b[A\n",
      "Action: emotion: 100%|████████████████████████████| 4/4 [00:00<00:00,  6.97it/s]\u001b[A\n",
      "646it [06:52,  1.73it/s]"
     ]
    },
    {
     "name": "stdout",
     "output_type": "stream",
     "text": [
      "/Users/jessecoulter/Downloads/FIN377/CEOPersonalities-/matched_pictures/Mark McLaughlin/2016\n"
     ]
    },
    {
     "name": "stderr",
     "output_type": "stream",
     "text": [
      "\n",
      "Finding actions:   0%|                                    | 0/4 [00:00<?, ?it/s]\u001b[A\n",
      "Action: age:   0%|                                        | 0/4 [00:00<?, ?it/s]\u001b[A\n",
      "Action: age:  25%|████████                        | 1/4 [00:00<00:00,  5.46it/s]\u001b[A\n",
      "Action: gender:  25%|███████▎                     | 1/4 [00:00<00:00,  5.46it/s]\u001b[A\n",
      "Action: gender:  50%|██████████████▌              | 2/4 [00:00<00:00,  5.37it/s]\u001b[A\n",
      "Action: race:  50%|███████████████▌               | 2/4 [00:00<00:00,  5.37it/s]\u001b[A\n",
      "Action: race:  75%|███████████████████████▎       | 3/4 [00:00<00:00,  5.41it/s]\u001b[A\n",
      "Action: emotion: 100%|████████████████████████████| 4/4 [00:00<00:00,  7.04it/s]\u001b[A\n",
      "647it [06:52,  1.65it/s]"
     ]
    },
    {
     "name": "stdout",
     "output_type": "stream",
     "text": [
      "/Users/jessecoulter/Downloads/FIN377/CEOPersonalities-/matched_pictures/Mark McLaughlin/2017\n"
     ]
    },
    {
     "name": "stderr",
     "output_type": "stream",
     "text": [
      "\n",
      "Finding actions:   0%|                                    | 0/4 [00:00<?, ?it/s]\u001b[A\n",
      "Action: age:   0%|                                        | 0/4 [00:00<?, ?it/s]\u001b[A\n",
      "Action: age:  25%|████████                        | 1/4 [00:00<00:00,  5.48it/s]\u001b[A\n",
      "Action: gender:  25%|███████▎                     | 1/4 [00:00<00:00,  5.48it/s]\u001b[A\n",
      "Action: gender:  50%|██████████████▌              | 2/4 [00:00<00:00,  5.38it/s]\u001b[A\n",
      "Action: race:  50%|███████████████▌               | 2/4 [00:00<00:00,  5.38it/s]\u001b[A\n",
      "Action: race:  75%|███████████████████████▎       | 3/4 [00:00<00:00,  5.33it/s]\u001b[A\n",
      "Action: emotion: 100%|████████████████████████████| 4/4 [00:00<00:00,  6.96it/s]\u001b[A\n",
      "648it [06:53,  1.49it/s]"
     ]
    },
    {
     "name": "stdout",
     "output_type": "stream",
     "text": [
      "/Users/jessecoulter/Downloads/FIN377/CEOPersonalities-/matched_pictures/Nikesh Arora/2018\n"
     ]
    },
    {
     "name": "stderr",
     "output_type": "stream",
     "text": [
      "\n",
      "Finding actions:   0%|                                    | 0/4 [00:00<?, ?it/s]\u001b[A\n",
      "Action: age:   0%|                                        | 0/4 [00:00<?, ?it/s]\u001b[A\n",
      "Action: age:  25%|████████                        | 1/4 [00:00<00:00,  5.46it/s]\u001b[A\n",
      "Action: gender:  25%|███████▎                     | 1/4 [00:00<00:00,  5.46it/s]\u001b[A\n",
      "Action: gender:  50%|██████████████▌              | 2/4 [00:00<00:00,  5.39it/s]\u001b[A\n",
      "Action: race:  50%|███████████████▌               | 2/4 [00:00<00:00,  5.39it/s]\u001b[A\n",
      "Action: race:  75%|███████████████████████▎       | 3/4 [00:00<00:00,  5.33it/s]\u001b[A\n",
      "Action: emotion: 100%|████████████████████████████| 4/4 [00:00<00:00,  6.96it/s]\u001b[A\n",
      "649it [06:54,  1.49it/s]"
     ]
    },
    {
     "name": "stdout",
     "output_type": "stream",
     "text": [
      "/Users/jessecoulter/Downloads/FIN377/CEOPersonalities-/matched_pictures/Nikesh Arora/2019\n"
     ]
    },
    {
     "name": "stderr",
     "output_type": "stream",
     "text": [
      "\n",
      "Finding actions:   0%|                                    | 0/4 [00:00<?, ?it/s]\u001b[A\n",
      "Action: age:   0%|                                        | 0/4 [00:00<?, ?it/s]\u001b[A\n",
      "Action: age:  25%|████████                        | 1/4 [00:00<00:00,  5.46it/s]\u001b[A\n",
      "Action: gender:  25%|███████▎                     | 1/4 [00:00<00:00,  5.46it/s]\u001b[A\n",
      "Action: gender:  50%|██████████████▌              | 2/4 [00:00<00:00,  5.38it/s]\u001b[A\n",
      "Action: race:  50%|███████████████▌               | 2/4 [00:00<00:00,  5.38it/s]\u001b[A\n",
      "Action: race:  75%|███████████████████████▎       | 3/4 [00:00<00:00,  5.35it/s]\u001b[A\n",
      "Action: emotion: 100%|████████████████████████████| 4/4 [00:00<00:00,  6.99it/s]\u001b[A\n",
      "650it [06:55,  1.53it/s]"
     ]
    },
    {
     "name": "stdout",
     "output_type": "stream",
     "text": [
      "/Users/jessecoulter/Downloads/FIN377/CEOPersonalities-/matched_pictures/Gil Shwed/2010\n"
     ]
    },
    {
     "name": "stderr",
     "output_type": "stream",
     "text": [
      "\n",
      "Finding actions:   0%|                                    | 0/4 [00:00<?, ?it/s]\u001b[A\n",
      "Action: age:   0%|                                        | 0/4 [00:00<?, ?it/s]\u001b[A\n",
      "Action: age:  25%|████████                        | 1/4 [00:00<00:00,  5.29it/s]\u001b[A\n",
      "Action: gender:  25%|███████▎                     | 1/4 [00:00<00:00,  5.29it/s]\u001b[A\n",
      "Action: gender:  50%|██████████████▌              | 2/4 [00:00<00:00,  5.26it/s]\u001b[A\n",
      "Action: race:  50%|███████████████▌               | 2/4 [00:00<00:00,  5.26it/s]\u001b[A\n",
      "Action: race:  75%|███████████████████████▎       | 3/4 [00:00<00:00,  5.26it/s]\u001b[A\n",
      "Action: emotion: 100%|████████████████████████████| 4/4 [00:00<00:00,  6.85it/s]\u001b[A\n",
      "651it [06:55,  1.56it/s]"
     ]
    },
    {
     "name": "stdout",
     "output_type": "stream",
     "text": [
      "/Users/jessecoulter/Downloads/FIN377/CEOPersonalities-/matched_pictures/Gil Shwed/2011\n"
     ]
    },
    {
     "name": "stderr",
     "output_type": "stream",
     "text": [
      "\n",
      "Finding actions:   0%|                                    | 0/4 [00:00<?, ?it/s]\u001b[A\n",
      "Action: age:   0%|                                        | 0/4 [00:00<?, ?it/s]\u001b[A\n",
      "Action: age:  25%|████████                        | 1/4 [00:00<00:00,  5.24it/s]\u001b[A\n",
      "Action: gender:  25%|███████▎                     | 1/4 [00:00<00:00,  5.24it/s]\u001b[A\n",
      "Action: gender:  50%|██████████████▌              | 2/4 [00:00<00:00,  5.38it/s]\u001b[A\n",
      "Action: race:  50%|███████████████▌               | 2/4 [00:00<00:00,  5.38it/s]\u001b[A\n",
      "Action: race:  75%|███████████████████████▎       | 3/4 [00:00<00:00,  5.40it/s]\u001b[A\n",
      "Action: emotion: 100%|████████████████████████████| 4/4 [00:00<00:00,  7.00it/s]\u001b[A\n",
      "652it [06:56,  1.57it/s]"
     ]
    },
    {
     "name": "stdout",
     "output_type": "stream",
     "text": [
      "/Users/jessecoulter/Downloads/FIN377/CEOPersonalities-/matched_pictures/Gil Shwed/2012\n"
     ]
    },
    {
     "name": "stderr",
     "output_type": "stream",
     "text": [
      "\n",
      "Finding actions:   0%|                                    | 0/4 [00:00<?, ?it/s]\u001b[A\n",
      "Action: age:   0%|                                        | 0/4 [00:00<?, ?it/s]\u001b[A\n",
      "Action: age:  25%|████████                        | 1/4 [00:00<00:00,  5.39it/s]\u001b[A\n",
      "Action: gender:  25%|███████▎                     | 1/4 [00:00<00:00,  5.39it/s]\u001b[A\n",
      "Action: gender:  50%|██████████████▌              | 2/4 [00:00<00:00,  5.41it/s]\u001b[A\n",
      "Action: race:  50%|███████████████▌               | 2/4 [00:00<00:00,  5.41it/s]\u001b[A\n",
      "Action: race:  75%|███████████████████████▎       | 3/4 [00:00<00:00,  5.34it/s]\u001b[A\n",
      "Action: emotion: 100%|████████████████████████████| 4/4 [00:00<00:00,  6.97it/s]\u001b[A\n",
      "653it [06:56,  1.54it/s]"
     ]
    },
    {
     "name": "stdout",
     "output_type": "stream",
     "text": [
      "/Users/jessecoulter/Downloads/FIN377/CEOPersonalities-/matched_pictures/Gil Shwed/2013\n"
     ]
    },
    {
     "name": "stderr",
     "output_type": "stream",
     "text": [
      "\n",
      "Finding actions:   0%|                                    | 0/4 [00:00<?, ?it/s]\u001b[A\n",
      "Action: age:   0%|                                        | 0/4 [00:00<?, ?it/s]\u001b[A\n",
      "Action: age:  25%|████████                        | 1/4 [00:00<00:00,  5.27it/s]\u001b[A\n",
      "Action: gender:  25%|███████▎                     | 1/4 [00:00<00:00,  5.27it/s]\u001b[A\n",
      "Action: gender:  50%|██████████████▌              | 2/4 [00:00<00:00,  5.32it/s]\u001b[A\n",
      "Action: race:  50%|███████████████▌               | 2/4 [00:00<00:00,  5.32it/s]\u001b[A\n",
      "Action: race:  75%|███████████████████████▎       | 3/4 [00:00<00:00,  5.31it/s]\u001b[A\n",
      "Action: emotion: 100%|████████████████████████████| 4/4 [00:00<00:00,  6.91it/s]\u001b[A\n",
      "654it [06:57,  1.55it/s]"
     ]
    },
    {
     "name": "stdout",
     "output_type": "stream",
     "text": [
      "/Users/jessecoulter/Downloads/FIN377/CEOPersonalities-/matched_pictures/Gil Shwed/2014\n"
     ]
    },
    {
     "name": "stderr",
     "output_type": "stream",
     "text": [
      "\n",
      "Finding actions:   0%|                                    | 0/4 [00:00<?, ?it/s]\u001b[A\n",
      "Action: age:   0%|                                        | 0/4 [00:00<?, ?it/s]\u001b[A\n",
      "Action: age:  25%|████████                        | 1/4 [00:00<00:00,  5.43it/s]\u001b[A\n",
      "Action: gender:  25%|███████▎                     | 1/4 [00:00<00:00,  5.43it/s]\u001b[A\n",
      "Action: gender:  50%|██████████████▌              | 2/4 [00:00<00:00,  5.41it/s]\u001b[A\n",
      "Action: race:  50%|███████████████▌               | 2/4 [00:00<00:00,  5.41it/s]\u001b[A\n",
      "Action: race:  75%|███████████████████████▎       | 3/4 [00:00<00:00,  5.33it/s]\u001b[A\n",
      "Action: emotion: 100%|████████████████████████████| 4/4 [00:00<00:00,  6.97it/s]\u001b[A\n",
      "655it [06:58,  1.57it/s]"
     ]
    },
    {
     "name": "stdout",
     "output_type": "stream",
     "text": [
      "/Users/jessecoulter/Downloads/FIN377/CEOPersonalities-/matched_pictures/Gil Shwed/2015\n"
     ]
    },
    {
     "name": "stderr",
     "output_type": "stream",
     "text": [
      "\n",
      "Finding actions:   0%|                                    | 0/4 [00:00<?, ?it/s]\u001b[A\n",
      "Action: age:   0%|                                        | 0/4 [00:00<?, ?it/s]\u001b[A\n",
      "Action: age:  25%|████████                        | 1/4 [00:00<00:00,  5.33it/s]\u001b[A\n",
      "Action: gender:  25%|███████▎                     | 1/4 [00:00<00:00,  5.33it/s]\u001b[A\n",
      "Action: gender:  50%|██████████████▌              | 2/4 [00:00<00:00,  5.31it/s]\u001b[A\n",
      "Action: race:  50%|███████████████▌               | 2/4 [00:00<00:00,  5.31it/s]\u001b[A\n",
      "Action: race:  75%|███████████████████████▎       | 3/4 [00:00<00:00,  5.30it/s]\u001b[A\n",
      "Action: emotion: 100%|████████████████████████████| 4/4 [00:00<00:00,  6.91it/s]\u001b[A\n",
      "656it [06:58,  1.58it/s]"
     ]
    },
    {
     "name": "stdout",
     "output_type": "stream",
     "text": [
      "/Users/jessecoulter/Downloads/FIN377/CEOPersonalities-/matched_pictures/Gil Shwed/2016\n"
     ]
    },
    {
     "name": "stderr",
     "output_type": "stream",
     "text": [
      "\n",
      "Finding actions:   0%|                                    | 0/4 [00:00<?, ?it/s]\u001b[A\n",
      "Action: age:   0%|                                        | 0/4 [00:00<?, ?it/s]\u001b[A\n",
      "Action: age:  25%|████████                        | 1/4 [00:00<00:00,  5.17it/s]\u001b[A\n",
      "Action: gender:  25%|███████▎                     | 1/4 [00:00<00:00,  5.17it/s]\u001b[A\n",
      "Action: gender:  50%|██████████████▌              | 2/4 [00:00<00:00,  5.32it/s]\u001b[A\n",
      "Action: race:  50%|███████████████▌               | 2/4 [00:00<00:00,  5.32it/s]\u001b[A\n",
      "Action: race:  75%|███████████████████████▎       | 3/4 [00:00<00:00,  5.26it/s]\u001b[A\n",
      "Action: emotion: 100%|████████████████████████████| 4/4 [00:00<00:00,  6.85it/s]\u001b[A\n",
      "657it [06:59,  1.55it/s]"
     ]
    },
    {
     "name": "stdout",
     "output_type": "stream",
     "text": [
      "/Users/jessecoulter/Downloads/FIN377/CEOPersonalities-/matched_pictures/Gil Shwed/2017\n"
     ]
    },
    {
     "name": "stderr",
     "output_type": "stream",
     "text": [
      "\n",
      "Finding actions:   0%|                                    | 0/4 [00:00<?, ?it/s]\u001b[A\n",
      "Action: age:   0%|                                        | 0/4 [00:00<?, ?it/s]\u001b[A\n",
      "Action: age:  25%|████████                        | 1/4 [00:00<00:00,  5.35it/s]\u001b[A\n",
      "Action: gender:  25%|███████▎                     | 1/4 [00:00<00:00,  5.35it/s]\u001b[A\n",
      "Action: gender:  50%|██████████████▌              | 2/4 [00:00<00:00,  5.19it/s]\u001b[A\n",
      "Action: race:  50%|███████████████▌               | 2/4 [00:00<00:00,  5.19it/s]\u001b[A\n",
      "Action: race:  75%|███████████████████████▎       | 3/4 [00:00<00:00,  5.24it/s]\u001b[A\n",
      "Action: emotion: 100%|████████████████████████████| 4/4 [00:00<00:00,  6.83it/s]\u001b[A\n",
      "658it [07:00,  1.51it/s]"
     ]
    },
    {
     "name": "stdout",
     "output_type": "stream",
     "text": [
      "/Users/jessecoulter/Downloads/FIN377/CEOPersonalities-/matched_pictures/Gil Shwed/2018\n"
     ]
    },
    {
     "name": "stderr",
     "output_type": "stream",
     "text": [
      "\n",
      "Finding actions:   0%|                                    | 0/4 [00:00<?, ?it/s]\u001b[A\n",
      "Action: age:   0%|                                        | 0/4 [00:00<?, ?it/s]\u001b[A\n",
      "Action: age:  25%|████████                        | 1/4 [00:00<00:00,  5.47it/s]\u001b[A\n",
      "Action: gender:  25%|███████▎                     | 1/4 [00:00<00:00,  5.47it/s]\u001b[A\n",
      "Action: gender:  50%|██████████████▌              | 2/4 [00:00<00:00,  5.46it/s]\u001b[A\n",
      "Action: race:  50%|███████████████▌               | 2/4 [00:00<00:00,  5.46it/s]\u001b[A\n",
      "Action: race:  75%|███████████████████████▎       | 3/4 [00:00<00:00,  5.39it/s]\u001b[A\n",
      "Action: emotion: 100%|████████████████████████████| 4/4 [00:00<00:00,  7.04it/s]\u001b[A\n",
      "659it [07:00,  1.44it/s]"
     ]
    },
    {
     "name": "stdout",
     "output_type": "stream",
     "text": [
      "/Users/jessecoulter/Downloads/FIN377/CEOPersonalities-/matched_pictures/Gil Shwed/2019\n"
     ]
    },
    {
     "name": "stderr",
     "output_type": "stream",
     "text": [
      "\n",
      "Finding actions:   0%|                                    | 0/4 [00:00<?, ?it/s]\u001b[A\n",
      "Action: age:   0%|                                        | 0/4 [00:00<?, ?it/s]\u001b[A\n",
      "Action: age:  25%|████████                        | 1/4 [00:00<00:00,  5.35it/s]\u001b[A\n",
      "Action: gender:  25%|███████▎                     | 1/4 [00:00<00:00,  5.35it/s]\u001b[A\n",
      "Action: gender:  50%|██████████████▌              | 2/4 [00:00<00:00,  5.25it/s]\u001b[A\n",
      "Action: race:  50%|███████████████▌               | 2/4 [00:00<00:00,  5.25it/s]\u001b[A\n",
      "Action: race:  75%|███████████████████████▎       | 3/4 [00:00<00:00,  5.25it/s]\u001b[A\n",
      "Action: emotion: 100%|████████████████████████████| 4/4 [00:00<00:00,  6.85it/s]\u001b[A\n",
      "660it [07:01,  1.46it/s]"
     ]
    },
    {
     "name": "stdout",
     "output_type": "stream",
     "text": [
      "/Users/jessecoulter/Downloads/FIN377/CEOPersonalities-/matched_pictures/Paul Maritz/2010\n"
     ]
    },
    {
     "name": "stderr",
     "output_type": "stream",
     "text": [
      "\n",
      "Finding actions:   0%|                                    | 0/4 [00:00<?, ?it/s]\u001b[A\n",
      "Action: age:   0%|                                        | 0/4 [00:00<?, ?it/s]\u001b[A\n",
      "Action: age:  25%|████████                        | 1/4 [00:00<00:00,  5.28it/s]\u001b[A\n",
      "Action: gender:  25%|███████▎                     | 1/4 [00:00<00:00,  5.28it/s]\u001b[A\n",
      "Action: gender:  50%|██████████████▌              | 2/4 [00:00<00:00,  5.38it/s]\u001b[A\n",
      "Action: race:  50%|███████████████▌               | 2/4 [00:00<00:00,  5.38it/s]\u001b[A\n",
      "Action: race:  75%|███████████████████████▎       | 3/4 [00:00<00:00,  5.32it/s]\u001b[A\n",
      "Action: emotion: 100%|████████████████████████████| 4/4 [00:00<00:00,  6.93it/s]\u001b[A\n",
      "661it [07:02,  1.51it/s]"
     ]
    },
    {
     "name": "stdout",
     "output_type": "stream",
     "text": [
      "/Users/jessecoulter/Downloads/FIN377/CEOPersonalities-/matched_pictures/Paul Maritz/2011\n"
     ]
    },
    {
     "name": "stderr",
     "output_type": "stream",
     "text": [
      "\n",
      "Finding actions:   0%|                                    | 0/4 [00:00<?, ?it/s]\u001b[A\n",
      "Action: age:   0%|                                        | 0/4 [00:00<?, ?it/s]\u001b[A\n",
      "Action: age:  25%|████████                        | 1/4 [00:00<00:00,  5.34it/s]\u001b[A\n",
      "Action: gender:  25%|███████▎                     | 1/4 [00:00<00:00,  5.34it/s]\u001b[A\n",
      "Action: gender:  50%|██████████████▌              | 2/4 [00:00<00:00,  5.39it/s]\u001b[A\n",
      "Action: race:  50%|███████████████▌               | 2/4 [00:00<00:00,  5.39it/s]\u001b[A\n",
      "Action: race:  75%|███████████████████████▎       | 3/4 [00:00<00:00,  5.40it/s]\u001b[A\n",
      "Action: emotion: 100%|████████████████████████████| 4/4 [00:00<00:00,  7.02it/s]\u001b[A\n",
      "662it [07:02,  1.55it/s]"
     ]
    },
    {
     "name": "stdout",
     "output_type": "stream",
     "text": [
      "/Users/jessecoulter/Downloads/FIN377/CEOPersonalities-/matched_pictures/Pat Gelsinger/2012\n"
     ]
    },
    {
     "name": "stderr",
     "output_type": "stream",
     "text": [
      "\n",
      "Finding actions:   0%|                                    | 0/4 [00:00<?, ?it/s]\u001b[A\n",
      "Action: age:   0%|                                        | 0/4 [00:00<?, ?it/s]\u001b[A\n",
      "Action: age:  25%|████████                        | 1/4 [00:00<00:00,  5.27it/s]\u001b[A\n",
      "Action: gender:  25%|███████▎                     | 1/4 [00:00<00:00,  5.27it/s]\u001b[A\n",
      "Action: gender:  50%|██████████████▌              | 2/4 [00:00<00:00,  5.25it/s]\u001b[A\n",
      "Action: race:  50%|███████████████▌               | 2/4 [00:00<00:00,  5.25it/s]\u001b[A\n",
      "Action: race:  75%|███████████████████████▎       | 3/4 [00:00<00:00,  5.20it/s]\u001b[A\n",
      "Action: emotion: 100%|████████████████████████████| 4/4 [00:00<00:00,  6.79it/s]\u001b[A\n",
      "663it [07:03,  1.54it/s]"
     ]
    },
    {
     "name": "stdout",
     "output_type": "stream",
     "text": [
      "/Users/jessecoulter/Downloads/FIN377/CEOPersonalities-/matched_pictures/Pat Gelsinger/2013\n"
     ]
    },
    {
     "name": "stderr",
     "output_type": "stream",
     "text": [
      "\n",
      "Finding actions:   0%|                                    | 0/4 [00:00<?, ?it/s]\u001b[A\n",
      "Action: age:   0%|                                        | 0/4 [00:00<?, ?it/s]\u001b[A\n",
      "Action: age:  25%|████████                        | 1/4 [00:00<00:00,  5.22it/s]\u001b[A\n",
      "Action: gender:  25%|███████▎                     | 1/4 [00:00<00:00,  5.22it/s]\u001b[A\n",
      "Action: gender:  50%|██████████████▌              | 2/4 [00:00<00:00,  5.24it/s]\u001b[A\n",
      "Action: race:  50%|███████████████▌               | 2/4 [00:00<00:00,  5.24it/s]\u001b[A\n",
      "Action: race:  75%|███████████████████████▎       | 3/4 [00:00<00:00,  5.21it/s]\u001b[A\n",
      "Action: emotion: 100%|████████████████████████████| 4/4 [00:00<00:00,  6.78it/s]\u001b[A\n",
      "664it [07:04,  1.53it/s]"
     ]
    },
    {
     "name": "stdout",
     "output_type": "stream",
     "text": [
      "/Users/jessecoulter/Downloads/FIN377/CEOPersonalities-/matched_pictures/Pat Gelsinger/2014\n",
      "Error analyzing /Users/jessecoulter/Downloads/FIN377/CEOPersonalities-/matched_pictures/Pat Gelsinger/2014/pic3.jpg: Face could not be detected in /Users/jessecoulter/Downloads/FIN377/CEOPersonalities-/matched_pictures/Pat Gelsinger/2014/pic3.jpg.Please confirm that the picture is a face photo or consider to set enforce_detection param to False.\n",
      "/Users/jessecoulter/Downloads/FIN377/CEOPersonalities-/matched_pictures/Pat Gelsinger/2015\n"
     ]
    },
    {
     "name": "stderr",
     "output_type": "stream",
     "text": [
      "\n",
      "Finding actions:   0%|                                    | 0/4 [00:00<?, ?it/s]\u001b[A\n",
      "Action: age:   0%|                                        | 0/4 [00:00<?, ?it/s]\u001b[A\n",
      "Action: age:  25%|████████                        | 1/4 [00:00<00:00,  5.23it/s]\u001b[A\n",
      "Action: gender:  25%|███████▎                     | 1/4 [00:00<00:00,  5.23it/s]\u001b[A\n",
      "Action: gender:  50%|██████████████▌              | 2/4 [00:00<00:00,  5.34it/s]\u001b[A\n",
      "Action: race:  50%|███████████████▌               | 2/4 [00:00<00:00,  5.34it/s]\u001b[A\n",
      "Action: race:  75%|███████████████████████▎       | 3/4 [00:00<00:00,  5.30it/s]\u001b[A\n",
      "Action: emotion: 100%|████████████████████████████| 4/4 [00:00<00:00,  6.90it/s]\u001b[A\n",
      "\n",
      "Finding actions:   0%|                                    | 0/4 [00:00<?, ?it/s]\u001b[A\n",
      "Action: age:   0%|                                        | 0/4 [00:00<?, ?it/s]\u001b[A\n",
      "Action: age:  25%|████████                        | 1/4 [00:00<00:00,  5.31it/s]\u001b[A\n",
      "Action: gender:  25%|███████▎                     | 1/4 [00:00<00:00,  5.31it/s]\u001b[A\n",
      "Action: gender:  50%|██████████████▌              | 2/4 [00:00<00:00,  5.27it/s]\u001b[A\n",
      "Action: race:  50%|███████████████▌               | 2/4 [00:00<00:00,  5.27it/s]\u001b[A\n",
      "Action: race:  75%|███████████████████████▎       | 3/4 [00:00<00:00,  5.22it/s]\u001b[A\n",
      "Action: emotion: 100%|████████████████████████████| 4/4 [00:00<00:00,  6.82it/s]\u001b[A\n",
      "666it [07:05,  1.52it/s]"
     ]
    },
    {
     "name": "stdout",
     "output_type": "stream",
     "text": [
      "/Users/jessecoulter/Downloads/FIN377/CEOPersonalities-/matched_pictures/Pat Gelsinger/2016\n"
     ]
    },
    {
     "name": "stderr",
     "output_type": "stream",
     "text": [
      "\n",
      "Finding actions:   0%|                                    | 0/4 [00:00<?, ?it/s]\u001b[A\n",
      "Action: age:   0%|                                        | 0/4 [00:00<?, ?it/s]\u001b[A\n",
      "Action: age:  25%|████████                        | 1/4 [00:00<00:00,  5.28it/s]\u001b[A\n",
      "Action: gender:  25%|███████▎                     | 1/4 [00:00<00:00,  5.28it/s]\u001b[A\n",
      "Action: gender:  50%|██████████████▌              | 2/4 [00:00<00:00,  5.34it/s]\u001b[A\n",
      "Action: race:  50%|███████████████▌               | 2/4 [00:00<00:00,  5.34it/s]\u001b[A\n",
      "Action: race:  75%|███████████████████████▎       | 3/4 [00:00<00:00,  5.26it/s]\u001b[A\n",
      "Action: emotion: 100%|████████████████████████████| 4/4 [00:00<00:00,  6.87it/s]\u001b[A\n",
      "667it [07:06,  1.49it/s]"
     ]
    },
    {
     "name": "stdout",
     "output_type": "stream",
     "text": [
      "/Users/jessecoulter/Downloads/FIN377/CEOPersonalities-/matched_pictures/Pat Gelsinger/2017\n"
     ]
    },
    {
     "name": "stderr",
     "output_type": "stream",
     "text": [
      "\n",
      "Finding actions:   0%|                                    | 0/4 [00:00<?, ?it/s]\u001b[A\n",
      "Action: age:   0%|                                        | 0/4 [00:00<?, ?it/s]\u001b[A\n",
      "Action: age:  25%|████████                        | 1/4 [00:00<00:00,  5.11it/s]\u001b[A\n",
      "Action: gender:  25%|███████▎                     | 1/4 [00:00<00:00,  5.11it/s]\u001b[A\n",
      "Action: gender:  50%|██████████████▌              | 2/4 [00:00<00:00,  5.15it/s]\u001b[A\n",
      "Action: race:  50%|███████████████▌               | 2/4 [00:00<00:00,  5.15it/s]\u001b[A\n",
      "Action: race:  75%|███████████████████████▎       | 3/4 [00:00<00:00,  5.20it/s]\u001b[A\n",
      "Action: emotion: 100%|████████████████████████████| 4/4 [00:00<00:00,  6.75it/s]\u001b[A\n",
      "668it [07:06,  1.52it/s]"
     ]
    },
    {
     "name": "stdout",
     "output_type": "stream",
     "text": [
      "/Users/jessecoulter/Downloads/FIN377/CEOPersonalities-/matched_pictures/Pat Gelsinger/2018\n"
     ]
    },
    {
     "name": "stderr",
     "output_type": "stream",
     "text": [
      "\n",
      "Finding actions:   0%|                                    | 0/4 [00:00<?, ?it/s]\u001b[A\n",
      "Action: age:   0%|                                        | 0/4 [00:00<?, ?it/s]\u001b[A\n",
      "Action: age:  25%|████████                        | 1/4 [00:00<00:00,  5.28it/s]\u001b[A\n",
      "Action: gender:  25%|███████▎                     | 1/4 [00:00<00:00,  5.28it/s]\u001b[A\n",
      "Action: gender:  50%|██████████████▌              | 2/4 [00:00<00:00,  5.22it/s]\u001b[A\n",
      "Action: race:  50%|███████████████▌               | 2/4 [00:00<00:00,  5.22it/s]\u001b[A\n",
      "Action: race:  75%|███████████████████████▎       | 3/4 [00:00<00:00,  5.20it/s]\u001b[A\n",
      "Action: emotion: 100%|████████████████████████████| 4/4 [00:00<00:00,  6.78it/s]\u001b[A\n",
      "669it [07:07,  1.51it/s]"
     ]
    },
    {
     "name": "stdout",
     "output_type": "stream",
     "text": [
      "/Users/jessecoulter/Downloads/FIN377/CEOPersonalities-/matched_pictures/Pat Gelsinger/2019\n"
     ]
    },
    {
     "name": "stderr",
     "output_type": "stream",
     "text": [
      "\n",
      "Finding actions:   0%|                                    | 0/4 [00:00<?, ?it/s]\u001b[A\n",
      "Action: age:   0%|                                        | 0/4 [00:00<?, ?it/s]\u001b[A\n",
      "Action: age:  25%|████████                        | 1/4 [00:00<00:00,  5.38it/s]\u001b[A\n",
      "Action: gender:  25%|███████▎                     | 1/4 [00:00<00:00,  5.38it/s]\u001b[A\n",
      "Action: gender:  50%|██████████████▌              | 2/4 [00:00<00:00,  5.37it/s]\u001b[A\n",
      "Action: race:  50%|███████████████▌               | 2/4 [00:00<00:00,  5.37it/s]\u001b[A\n",
      "Action: race:  75%|███████████████████████▎       | 3/4 [00:00<00:00,  5.39it/s]\u001b[A\n",
      "Action: emotion: 100%|████████████████████████████| 4/4 [00:00<00:00,  7.00it/s]\u001b[A\n",
      "670it [07:08,  1.56it/s]\n"
     ]
    },
    {
     "name": "stdout",
     "output_type": "stream",
     "text": [
      "    Ticker            CEO  Year  Age dominant_gender    dominant_race  \\\n",
      "0     AAPL     Steve Jobs  2010   44             Man            white   \n",
      "1     AAPL       Tim Cook  2011   28             Man            white   \n",
      "2     AAPL       Tim Cook  2012   43             Man            asian   \n",
      "3     AAPL       Tim Cook  2013   46             Man            white   \n",
      "4     AAPL       Tim Cook  2014   36             Man            white   \n",
      "..     ...            ...   ...  ...             ...              ...   \n",
      "584    VMW  Pat Gelsinger  2015   35             Man  latino hispanic   \n",
      "585    VMW  Pat Gelsinger  2016   39             Man            white   \n",
      "586    VMW  Pat Gelsinger  2017   53             Man            white   \n",
      "587    VMW  Pat Gelsinger  2018   33             Man   middle eastern   \n",
      "588    VMW  Pat Gelsinger  2019   37             Man            white   \n",
      "\n",
      "    dominant_emotion     Woman        Man      asian  ...      white  \\\n",
      "0              happy  0.002497  99.997509   0.012729  ...  90.996140   \n",
      "1              happy  0.003152  99.996853   0.264899  ...  77.172065   \n",
      "2              happy  0.392930  99.607074  63.055223  ...  11.122342   \n",
      "3            neutral  0.006635  99.993360   0.000009  ...  99.789184   \n",
      "4              happy  0.007377  99.992621   4.356838  ...  50.063163   \n",
      "..               ...       ...        ...        ...  ...        ...   \n",
      "584            happy  0.007217  99.992788   3.838694  ...  29.635453   \n",
      "585            happy  0.001310  99.998689   0.359367  ...  54.343051   \n",
      "586            happy  0.001522  99.998474   0.057974  ...  84.015155   \n",
      "587            happy  0.002415  99.997580   0.589332  ...  27.867063   \n",
      "588            happy  0.001524  99.998474   1.014734  ...  41.077694   \n",
      "\n",
      "     middle eastern  latino hispanic         angry       disgust  \\\n",
      "0          6.178905         2.759686  2.407320e-04  2.867203e-08   \n",
      "1          8.134229        14.040621  6.092452e-09  1.726148e-14   \n",
      "2          2.615412        18.386784  1.929340e-07  1.938624e-30   \n",
      "3          0.133929         0.076832  1.481209e+01  2.180146e-06   \n",
      "4         21.362914        19.301568  3.583899e-06  9.023672e-08   \n",
      "..              ...              ...           ...           ...   \n",
      "584       19.431180        39.865923  2.647505e-02  3.178636e-04   \n",
      "585       27.805925        16.153329  5.427562e-06  2.282993e-13   \n",
      "586       10.908555         4.895326  1.307118e-15  4.940520e-32   \n",
      "587       50.986633        15.258571  2.289489e-08  2.960657e-11   \n",
      "588       35.949215        18.262792  1.882938e-08  4.685800e-15   \n",
      "\n",
      "             fear       happy           sad      surprise       neutral  \n",
      "0    2.026151e-05   99.918300  4.960298e-06  1.160837e-03  8.026409e-02  \n",
      "1    5.900745e-11   99.608034  1.010131e-06  5.152697e-06  3.919607e-01  \n",
      "2    8.063209e-19  100.000000  7.237295e-14  4.928833e-17  8.182763e-09  \n",
      "3    4.676802e-02    0.924709  2.514834e+01  1.041613e-01  5.896392e+01  \n",
      "4    4.464642e-03   98.675668  2.792213e-03  3.020559e-03  1.314048e+00  \n",
      "..            ...         ...           ...           ...           ...  \n",
      "584  5.857239e-02   96.508747  2.285952e-01  1.651119e-01  3.012180e+00  \n",
      "585  1.605554e-09   99.721354  2.040005e-05  3.686570e-07  2.786208e-01  \n",
      "586  9.745421e-21   99.999952  8.323738e-17  2.455019e-08  4.945679e-05  \n",
      "587  1.287678e-06   99.926311  2.198920e-06  3.174805e-05  7.365887e-02  \n",
      "588  7.408038e-11   99.718606  9.630650e-06  5.232397e-07  2.813819e-01  \n",
      "\n",
      "[589 rows x 22 columns]\n"
     ]
    }
   ],
   "source": [
    "import os\n",
    "import pandas as pd\n",
    "from deepface import DeepFace\n",
    "import tqdm\n",
    "\n",
    "# Load your CSV with CEO and year data\n",
    "ceo_df = pd.read_csv(\"ceo_data.csv\") # update path if needed\n",
    "\n",
    "# Base directory where images are stored\n",
    "base_dir = os.path.expanduser(\"~/Downloads/FIN377/CEOPersonalities-/matched_pictures/\")\n",
    "\n",
    "# List to store all analysis results\n",
    "all_data = []\n",
    "\n",
    "# Loop through each row in the DataFrame\n",
    "for index, row in tqdm.tqdm(ceo_df.iterrows()):\n",
    "    ceo = row['CEO']\n",
    "    year = str(row['Year'])\n",
    "    ticker = row['Ticker']\n",
    "\n",
    "    folder_path = os.path.join(base_dir, ceo, year)\n",
    "    print(folder_path)\n",
    "    if not os.path.exists(folder_path):\n",
    "        print(f\"Folder not found: {folder_path}\")\n",
    "        continue\n",
    "\n",
    "    # Try to find the first valid image file\n",
    "    image_file = None\n",
    "    for file in os.listdir(folder_path):\n",
    "        if file.lower().endswith(('.jpg', '.jpeg', '.png')):\n",
    "            image_file = os.path.join(folder_path, file)\n",
    "            break\n",
    "\n",
    "    if not image_file:\n",
    "        print(f\"No image found in {folder_path}\")\n",
    "        continue\n",
    "\n",
    "    try:\n",
    "        result = DeepFace.analyze(img_path=image_file,\n",
    "                                  actions=['age', 'gender', 'race', 'emotion'],\n",
    "                                  detector_backend='opencv')\n",
    "        data = result[0] if isinstance(result, list) else result\n",
    "\n",
    "        flat_data = {\n",
    "            'Ticker': ticker,\n",
    "            'CEO': ceo,\n",
    "            'Year': year,\n",
    "            'Age': data['age'],\n",
    "            'dominant_gender': data['dominant_gender'],\n",
    "            'dominant_race': data['dominant_race'],\n",
    "            'dominant_emotion': data['dominant_emotion'],\n",
    "            **data['gender'],\n",
    "            **data['race'],\n",
    "            **data['emotion']\n",
    "        }\n",
    "\n",
    "        all_data.append(flat_data)\n",
    "    except Exception as e:\n",
    "        print(f\"Error analyzing {image_file}: {e}\")\n",
    "\n",
    "# Create final results DataFrame\n",
    "df = pd.DataFrame(all_data)\n",
    "df.to_csv(\"ceo_face_analysis.csv\", index=False)\n",
    "print(df)\n"
   ]
  },
  {
   "cell_type": "code",
   "execution_count": 11,
   "id": "fc356664-f656-4eb5-b482-6698afac9894",
   "metadata": {},
   "outputs": [
    {
     "data": {
      "text/html": [
       "<div>\n",
       "<style scoped>\n",
       "    .dataframe tbody tr th:only-of-type {\n",
       "        vertical-align: middle;\n",
       "    }\n",
       "\n",
       "    .dataframe tbody tr th {\n",
       "        vertical-align: top;\n",
       "    }\n",
       "\n",
       "    .dataframe thead th {\n",
       "        text-align: right;\n",
       "    }\n",
       "</style>\n",
       "<table border=\"1\" class=\"dataframe\">\n",
       "  <thead>\n",
       "    <tr style=\"text-align: right;\">\n",
       "      <th></th>\n",
       "      <th>Ticker</th>\n",
       "      <th>CEO</th>\n",
       "      <th>Year</th>\n",
       "      <th>Age</th>\n",
       "      <th>dominant_gender</th>\n",
       "      <th>dominant_race</th>\n",
       "      <th>dominant_emotion</th>\n",
       "      <th>Woman</th>\n",
       "      <th>Man</th>\n",
       "      <th>asian</th>\n",
       "      <th>...</th>\n",
       "      <th>white</th>\n",
       "      <th>middle eastern</th>\n",
       "      <th>latino hispanic</th>\n",
       "      <th>angry</th>\n",
       "      <th>disgust</th>\n",
       "      <th>fear</th>\n",
       "      <th>happy</th>\n",
       "      <th>sad</th>\n",
       "      <th>surprise</th>\n",
       "      <th>neutral</th>\n",
       "    </tr>\n",
       "  </thead>\n",
       "  <tbody>\n",
       "    <tr>\n",
       "      <th>0</th>\n",
       "      <td>AAPL</td>\n",
       "      <td>Steve Jobs</td>\n",
       "      <td>2010</td>\n",
       "      <td>44</td>\n",
       "      <td>Man</td>\n",
       "      <td>white</td>\n",
       "      <td>happy</td>\n",
       "      <td>0.002497</td>\n",
       "      <td>99.997509</td>\n",
       "      <td>0.012729</td>\n",
       "      <td>...</td>\n",
       "      <td>90.996140</td>\n",
       "      <td>6.178905</td>\n",
       "      <td>2.759686</td>\n",
       "      <td>2.407320e-04</td>\n",
       "      <td>2.867203e-08</td>\n",
       "      <td>2.026151e-05</td>\n",
       "      <td>99.918300</td>\n",
       "      <td>4.960298e-06</td>\n",
       "      <td>1.160837e-03</td>\n",
       "      <td>8.026409e-02</td>\n",
       "    </tr>\n",
       "    <tr>\n",
       "      <th>1</th>\n",
       "      <td>AAPL</td>\n",
       "      <td>Tim Cook</td>\n",
       "      <td>2011</td>\n",
       "      <td>28</td>\n",
       "      <td>Man</td>\n",
       "      <td>white</td>\n",
       "      <td>happy</td>\n",
       "      <td>0.003152</td>\n",
       "      <td>99.996853</td>\n",
       "      <td>0.264899</td>\n",
       "      <td>...</td>\n",
       "      <td>77.172065</td>\n",
       "      <td>8.134229</td>\n",
       "      <td>14.040621</td>\n",
       "      <td>6.092452e-09</td>\n",
       "      <td>1.726148e-14</td>\n",
       "      <td>5.900745e-11</td>\n",
       "      <td>99.608034</td>\n",
       "      <td>1.010131e-06</td>\n",
       "      <td>5.152697e-06</td>\n",
       "      <td>3.919607e-01</td>\n",
       "    </tr>\n",
       "    <tr>\n",
       "      <th>2</th>\n",
       "      <td>AAPL</td>\n",
       "      <td>Tim Cook</td>\n",
       "      <td>2012</td>\n",
       "      <td>43</td>\n",
       "      <td>Man</td>\n",
       "      <td>asian</td>\n",
       "      <td>happy</td>\n",
       "      <td>0.392930</td>\n",
       "      <td>99.607074</td>\n",
       "      <td>63.055223</td>\n",
       "      <td>...</td>\n",
       "      <td>11.122342</td>\n",
       "      <td>2.615412</td>\n",
       "      <td>18.386784</td>\n",
       "      <td>1.929340e-07</td>\n",
       "      <td>1.938624e-30</td>\n",
       "      <td>8.063209e-19</td>\n",
       "      <td>100.000000</td>\n",
       "      <td>7.237295e-14</td>\n",
       "      <td>4.928833e-17</td>\n",
       "      <td>8.182763e-09</td>\n",
       "    </tr>\n",
       "    <tr>\n",
       "      <th>3</th>\n",
       "      <td>AAPL</td>\n",
       "      <td>Tim Cook</td>\n",
       "      <td>2013</td>\n",
       "      <td>46</td>\n",
       "      <td>Man</td>\n",
       "      <td>white</td>\n",
       "      <td>neutral</td>\n",
       "      <td>0.006635</td>\n",
       "      <td>99.993360</td>\n",
       "      <td>0.000009</td>\n",
       "      <td>...</td>\n",
       "      <td>99.789184</td>\n",
       "      <td>0.133929</td>\n",
       "      <td>0.076832</td>\n",
       "      <td>1.481209e+01</td>\n",
       "      <td>2.180146e-06</td>\n",
       "      <td>4.676802e-02</td>\n",
       "      <td>0.924709</td>\n",
       "      <td>2.514834e+01</td>\n",
       "      <td>1.041613e-01</td>\n",
       "      <td>5.896392e+01</td>\n",
       "    </tr>\n",
       "    <tr>\n",
       "      <th>4</th>\n",
       "      <td>AAPL</td>\n",
       "      <td>Tim Cook</td>\n",
       "      <td>2014</td>\n",
       "      <td>36</td>\n",
       "      <td>Man</td>\n",
       "      <td>white</td>\n",
       "      <td>happy</td>\n",
       "      <td>0.007377</td>\n",
       "      <td>99.992621</td>\n",
       "      <td>4.356838</td>\n",
       "      <td>...</td>\n",
       "      <td>50.063163</td>\n",
       "      <td>21.362914</td>\n",
       "      <td>19.301568</td>\n",
       "      <td>3.583899e-06</td>\n",
       "      <td>9.023672e-08</td>\n",
       "      <td>4.464642e-03</td>\n",
       "      <td>98.675668</td>\n",
       "      <td>2.792213e-03</td>\n",
       "      <td>3.020559e-03</td>\n",
       "      <td>1.314048e+00</td>\n",
       "    </tr>\n",
       "    <tr>\n",
       "      <th>...</th>\n",
       "      <td>...</td>\n",
       "      <td>...</td>\n",
       "      <td>...</td>\n",
       "      <td>...</td>\n",
       "      <td>...</td>\n",
       "      <td>...</td>\n",
       "      <td>...</td>\n",
       "      <td>...</td>\n",
       "      <td>...</td>\n",
       "      <td>...</td>\n",
       "      <td>...</td>\n",
       "      <td>...</td>\n",
       "      <td>...</td>\n",
       "      <td>...</td>\n",
       "      <td>...</td>\n",
       "      <td>...</td>\n",
       "      <td>...</td>\n",
       "      <td>...</td>\n",
       "      <td>...</td>\n",
       "      <td>...</td>\n",
       "      <td>...</td>\n",
       "    </tr>\n",
       "    <tr>\n",
       "      <th>584</th>\n",
       "      <td>VMW</td>\n",
       "      <td>Pat Gelsinger</td>\n",
       "      <td>2015</td>\n",
       "      <td>35</td>\n",
       "      <td>Man</td>\n",
       "      <td>latino hispanic</td>\n",
       "      <td>happy</td>\n",
       "      <td>0.007217</td>\n",
       "      <td>99.992788</td>\n",
       "      <td>3.838694</td>\n",
       "      <td>...</td>\n",
       "      <td>29.635453</td>\n",
       "      <td>19.431180</td>\n",
       "      <td>39.865923</td>\n",
       "      <td>2.647505e-02</td>\n",
       "      <td>3.178636e-04</td>\n",
       "      <td>5.857239e-02</td>\n",
       "      <td>96.508747</td>\n",
       "      <td>2.285952e-01</td>\n",
       "      <td>1.651119e-01</td>\n",
       "      <td>3.012180e+00</td>\n",
       "    </tr>\n",
       "    <tr>\n",
       "      <th>585</th>\n",
       "      <td>VMW</td>\n",
       "      <td>Pat Gelsinger</td>\n",
       "      <td>2016</td>\n",
       "      <td>39</td>\n",
       "      <td>Man</td>\n",
       "      <td>white</td>\n",
       "      <td>happy</td>\n",
       "      <td>0.001310</td>\n",
       "      <td>99.998689</td>\n",
       "      <td>0.359367</td>\n",
       "      <td>...</td>\n",
       "      <td>54.343051</td>\n",
       "      <td>27.805925</td>\n",
       "      <td>16.153329</td>\n",
       "      <td>5.427562e-06</td>\n",
       "      <td>2.282993e-13</td>\n",
       "      <td>1.605554e-09</td>\n",
       "      <td>99.721354</td>\n",
       "      <td>2.040005e-05</td>\n",
       "      <td>3.686570e-07</td>\n",
       "      <td>2.786208e-01</td>\n",
       "    </tr>\n",
       "    <tr>\n",
       "      <th>586</th>\n",
       "      <td>VMW</td>\n",
       "      <td>Pat Gelsinger</td>\n",
       "      <td>2017</td>\n",
       "      <td>53</td>\n",
       "      <td>Man</td>\n",
       "      <td>white</td>\n",
       "      <td>happy</td>\n",
       "      <td>0.001522</td>\n",
       "      <td>99.998474</td>\n",
       "      <td>0.057974</td>\n",
       "      <td>...</td>\n",
       "      <td>84.015155</td>\n",
       "      <td>10.908555</td>\n",
       "      <td>4.895326</td>\n",
       "      <td>1.307118e-15</td>\n",
       "      <td>4.940520e-32</td>\n",
       "      <td>9.745421e-21</td>\n",
       "      <td>99.999952</td>\n",
       "      <td>8.323738e-17</td>\n",
       "      <td>2.455019e-08</td>\n",
       "      <td>4.945679e-05</td>\n",
       "    </tr>\n",
       "    <tr>\n",
       "      <th>587</th>\n",
       "      <td>VMW</td>\n",
       "      <td>Pat Gelsinger</td>\n",
       "      <td>2018</td>\n",
       "      <td>33</td>\n",
       "      <td>Man</td>\n",
       "      <td>middle eastern</td>\n",
       "      <td>happy</td>\n",
       "      <td>0.002415</td>\n",
       "      <td>99.997580</td>\n",
       "      <td>0.589332</td>\n",
       "      <td>...</td>\n",
       "      <td>27.867063</td>\n",
       "      <td>50.986633</td>\n",
       "      <td>15.258571</td>\n",
       "      <td>2.289489e-08</td>\n",
       "      <td>2.960657e-11</td>\n",
       "      <td>1.287678e-06</td>\n",
       "      <td>99.926311</td>\n",
       "      <td>2.198920e-06</td>\n",
       "      <td>3.174805e-05</td>\n",
       "      <td>7.365887e-02</td>\n",
       "    </tr>\n",
       "    <tr>\n",
       "      <th>588</th>\n",
       "      <td>VMW</td>\n",
       "      <td>Pat Gelsinger</td>\n",
       "      <td>2019</td>\n",
       "      <td>37</td>\n",
       "      <td>Man</td>\n",
       "      <td>white</td>\n",
       "      <td>happy</td>\n",
       "      <td>0.001524</td>\n",
       "      <td>99.998474</td>\n",
       "      <td>1.014734</td>\n",
       "      <td>...</td>\n",
       "      <td>41.077694</td>\n",
       "      <td>35.949215</td>\n",
       "      <td>18.262792</td>\n",
       "      <td>1.882938e-08</td>\n",
       "      <td>4.685800e-15</td>\n",
       "      <td>7.408038e-11</td>\n",
       "      <td>99.718606</td>\n",
       "      <td>9.630650e-06</td>\n",
       "      <td>5.232397e-07</td>\n",
       "      <td>2.813819e-01</td>\n",
       "    </tr>\n",
       "  </tbody>\n",
       "</table>\n",
       "<p>589 rows × 22 columns</p>\n",
       "</div>"
      ],
      "text/plain": [
       "    Ticker            CEO  Year  Age dominant_gender    dominant_race  \\\n",
       "0     AAPL     Steve Jobs  2010   44             Man            white   \n",
       "1     AAPL       Tim Cook  2011   28             Man            white   \n",
       "2     AAPL       Tim Cook  2012   43             Man            asian   \n",
       "3     AAPL       Tim Cook  2013   46             Man            white   \n",
       "4     AAPL       Tim Cook  2014   36             Man            white   \n",
       "..     ...            ...   ...  ...             ...              ...   \n",
       "584    VMW  Pat Gelsinger  2015   35             Man  latino hispanic   \n",
       "585    VMW  Pat Gelsinger  2016   39             Man            white   \n",
       "586    VMW  Pat Gelsinger  2017   53             Man            white   \n",
       "587    VMW  Pat Gelsinger  2018   33             Man   middle eastern   \n",
       "588    VMW  Pat Gelsinger  2019   37             Man            white   \n",
       "\n",
       "    dominant_emotion     Woman        Man      asian  ...      white  \\\n",
       "0              happy  0.002497  99.997509   0.012729  ...  90.996140   \n",
       "1              happy  0.003152  99.996853   0.264899  ...  77.172065   \n",
       "2              happy  0.392930  99.607074  63.055223  ...  11.122342   \n",
       "3            neutral  0.006635  99.993360   0.000009  ...  99.789184   \n",
       "4              happy  0.007377  99.992621   4.356838  ...  50.063163   \n",
       "..               ...       ...        ...        ...  ...        ...   \n",
       "584            happy  0.007217  99.992788   3.838694  ...  29.635453   \n",
       "585            happy  0.001310  99.998689   0.359367  ...  54.343051   \n",
       "586            happy  0.001522  99.998474   0.057974  ...  84.015155   \n",
       "587            happy  0.002415  99.997580   0.589332  ...  27.867063   \n",
       "588            happy  0.001524  99.998474   1.014734  ...  41.077694   \n",
       "\n",
       "     middle eastern  latino hispanic         angry       disgust  \\\n",
       "0          6.178905         2.759686  2.407320e-04  2.867203e-08   \n",
       "1          8.134229        14.040621  6.092452e-09  1.726148e-14   \n",
       "2          2.615412        18.386784  1.929340e-07  1.938624e-30   \n",
       "3          0.133929         0.076832  1.481209e+01  2.180146e-06   \n",
       "4         21.362914        19.301568  3.583899e-06  9.023672e-08   \n",
       "..              ...              ...           ...           ...   \n",
       "584       19.431180        39.865923  2.647505e-02  3.178636e-04   \n",
       "585       27.805925        16.153329  5.427562e-06  2.282993e-13   \n",
       "586       10.908555         4.895326  1.307118e-15  4.940520e-32   \n",
       "587       50.986633        15.258571  2.289489e-08  2.960657e-11   \n",
       "588       35.949215        18.262792  1.882938e-08  4.685800e-15   \n",
       "\n",
       "             fear       happy           sad      surprise       neutral  \n",
       "0    2.026151e-05   99.918300  4.960298e-06  1.160837e-03  8.026409e-02  \n",
       "1    5.900745e-11   99.608034  1.010131e-06  5.152697e-06  3.919607e-01  \n",
       "2    8.063209e-19  100.000000  7.237295e-14  4.928833e-17  8.182763e-09  \n",
       "3    4.676802e-02    0.924709  2.514834e+01  1.041613e-01  5.896392e+01  \n",
       "4    4.464642e-03   98.675668  2.792213e-03  3.020559e-03  1.314048e+00  \n",
       "..            ...         ...           ...           ...           ...  \n",
       "584  5.857239e-02   96.508747  2.285952e-01  1.651119e-01  3.012180e+00  \n",
       "585  1.605554e-09   99.721354  2.040005e-05  3.686570e-07  2.786208e-01  \n",
       "586  9.745421e-21   99.999952  8.323738e-17  2.455019e-08  4.945679e-05  \n",
       "587  1.287678e-06   99.926311  2.198920e-06  3.174805e-05  7.365887e-02  \n",
       "588  7.408038e-11   99.718606  9.630650e-06  5.232397e-07  2.813819e-01  \n",
       "\n",
       "[589 rows x 22 columns]"
      ]
     },
     "execution_count": 11,
     "metadata": {},
     "output_type": "execute_result"
    }
   ],
   "source": [
    "df"
   ]
  },
  {
   "cell_type": "code",
   "execution_count": 12,
   "id": "55625f3b-02f0-4e93-8b2e-47afba462a01",
   "metadata": {},
   "outputs": [],
   "source": [
    "firm_ret = pd.read_csv('inputs/firm_returns.csv')"
   ]
  },
  {
   "cell_type": "code",
   "execution_count": 13,
   "id": "4abf1564-6e01-43fa-9d89-3146764c3db6",
   "metadata": {},
   "outputs": [
    {
     "data": {
      "text/html": [
       "<div>\n",
       "<style scoped>\n",
       "    .dataframe tbody tr th:only-of-type {\n",
       "        vertical-align: middle;\n",
       "    }\n",
       "\n",
       "    .dataframe tbody tr th {\n",
       "        vertical-align: top;\n",
       "    }\n",
       "\n",
       "    .dataframe thead th {\n",
       "        text-align: right;\n",
       "    }\n",
       "</style>\n",
       "<table border=\"1\" class=\"dataframe\">\n",
       "  <thead>\n",
       "    <tr style=\"text-align: right;\">\n",
       "      <th></th>\n",
       "      <th>Date</th>\n",
       "      <th>Year</th>\n",
       "      <th>Ticker</th>\n",
       "      <th>Company</th>\n",
       "      <th>CEO</th>\n",
       "      <th>Return</th>\n",
       "      <th>Year_Cum_Ret_Daily</th>\n",
       "      <th>Tenure_Cum_Ret_Daily</th>\n",
       "      <th>Year_Cum_Ret_Overall</th>\n",
       "      <th>Tenure_Cum_Ret_Overall</th>\n",
       "    </tr>\n",
       "  </thead>\n",
       "  <tbody>\n",
       "    <tr>\n",
       "      <th>0</th>\n",
       "      <td>2010-01-04</td>\n",
       "      <td>2010</td>\n",
       "      <td>AAPL</td>\n",
       "      <td>Apple Inc.</td>\n",
       "      <td>Steve Jobs</td>\n",
       "      <td>NaN</td>\n",
       "      <td>NaN</td>\n",
       "      <td>NaN</td>\n",
       "      <td>1.507219</td>\n",
       "      <td>1.507219</td>\n",
       "    </tr>\n",
       "    <tr>\n",
       "      <th>1</th>\n",
       "      <td>2010-01-05</td>\n",
       "      <td>2010</td>\n",
       "      <td>AAPL</td>\n",
       "      <td>Apple Inc.</td>\n",
       "      <td>Steve Jobs</td>\n",
       "      <td>0.001729</td>\n",
       "      <td>1.001729</td>\n",
       "      <td>1.001729</td>\n",
       "      <td>1.507219</td>\n",
       "      <td>1.507219</td>\n",
       "    </tr>\n",
       "    <tr>\n",
       "      <th>2</th>\n",
       "      <td>2010-01-06</td>\n",
       "      <td>2010</td>\n",
       "      <td>AAPL</td>\n",
       "      <td>Apple Inc.</td>\n",
       "      <td>Steve Jobs</td>\n",
       "      <td>-0.015906</td>\n",
       "      <td>0.985795</td>\n",
       "      <td>0.985795</td>\n",
       "      <td>1.507219</td>\n",
       "      <td>1.507219</td>\n",
       "    </tr>\n",
       "    <tr>\n",
       "      <th>3</th>\n",
       "      <td>2010-01-07</td>\n",
       "      <td>2010</td>\n",
       "      <td>AAPL</td>\n",
       "      <td>Apple Inc.</td>\n",
       "      <td>Steve Jobs</td>\n",
       "      <td>-0.001848</td>\n",
       "      <td>0.983973</td>\n",
       "      <td>0.983973</td>\n",
       "      <td>1.507219</td>\n",
       "      <td>1.507219</td>\n",
       "    </tr>\n",
       "    <tr>\n",
       "      <th>4</th>\n",
       "      <td>2010-01-08</td>\n",
       "      <td>2010</td>\n",
       "      <td>AAPL</td>\n",
       "      <td>Apple Inc.</td>\n",
       "      <td>Steve Jobs</td>\n",
       "      <td>0.006648</td>\n",
       "      <td>0.990514</td>\n",
       "      <td>0.990514</td>\n",
       "      <td>1.507219</td>\n",
       "      <td>1.507219</td>\n",
       "    </tr>\n",
       "    <tr>\n",
       "      <th>...</th>\n",
       "      <td>...</td>\n",
       "      <td>...</td>\n",
       "      <td>...</td>\n",
       "      <td>...</td>\n",
       "      <td>...</td>\n",
       "      <td>...</td>\n",
       "      <td>...</td>\n",
       "      <td>...</td>\n",
       "      <td>...</td>\n",
       "      <td>...</td>\n",
       "    </tr>\n",
       "    <tr>\n",
       "      <th>158440</th>\n",
       "      <td>2019-12-23</td>\n",
       "      <td>2019</td>\n",
       "      <td>CHKP</td>\n",
       "      <td>Check Point Software Technologies Ltd.</td>\n",
       "      <td>Gil Shwed</td>\n",
       "      <td>0.000627</td>\n",
       "      <td>1.088651</td>\n",
       "      <td>3.276165</td>\n",
       "      <td>1.087969</td>\n",
       "      <td>3.274113</td>\n",
       "    </tr>\n",
       "    <tr>\n",
       "      <th>158441</th>\n",
       "      <td>2019-12-24</td>\n",
       "      <td>2019</td>\n",
       "      <td>CHKP</td>\n",
       "      <td>Check Point Software Technologies Ltd.</td>\n",
       "      <td>Gil Shwed</td>\n",
       "      <td>-0.001521</td>\n",
       "      <td>1.086995</td>\n",
       "      <td>3.271181</td>\n",
       "      <td>1.087969</td>\n",
       "      <td>3.274113</td>\n",
       "    </tr>\n",
       "    <tr>\n",
       "      <th>158442</th>\n",
       "      <td>2019-12-26</td>\n",
       "      <td>2019</td>\n",
       "      <td>CHKP</td>\n",
       "      <td>Check Point Software Technologies Ltd.</td>\n",
       "      <td>Gil Shwed</td>\n",
       "      <td>0.004391</td>\n",
       "      <td>1.091768</td>\n",
       "      <td>3.285547</td>\n",
       "      <td>1.087969</td>\n",
       "      <td>3.274113</td>\n",
       "    </tr>\n",
       "    <tr>\n",
       "      <th>158443</th>\n",
       "      <td>2019-12-27</td>\n",
       "      <td>2019</td>\n",
       "      <td>CHKP</td>\n",
       "      <td>Check Point Software Technologies Ltd.</td>\n",
       "      <td>Gil Shwed</td>\n",
       "      <td>-0.002409</td>\n",
       "      <td>1.089138</td>\n",
       "      <td>3.277631</td>\n",
       "      <td>1.087969</td>\n",
       "      <td>3.274113</td>\n",
       "    </tr>\n",
       "    <tr>\n",
       "      <th>158444</th>\n",
       "      <td>2019-12-30</td>\n",
       "      <td>2019</td>\n",
       "      <td>CHKP</td>\n",
       "      <td>Check Point Software Technologies Ltd.</td>\n",
       "      <td>Gil Shwed</td>\n",
       "      <td>-0.001073</td>\n",
       "      <td>1.087969</td>\n",
       "      <td>3.274113</td>\n",
       "      <td>1.087969</td>\n",
       "      <td>3.274113</td>\n",
       "    </tr>\n",
       "  </tbody>\n",
       "</table>\n",
       "<p>158445 rows × 10 columns</p>\n",
       "</div>"
      ],
      "text/plain": [
       "              Date  Year Ticker                                 Company  \\\n",
       "0       2010-01-04  2010   AAPL                              Apple Inc.   \n",
       "1       2010-01-05  2010   AAPL                              Apple Inc.   \n",
       "2       2010-01-06  2010   AAPL                              Apple Inc.   \n",
       "3       2010-01-07  2010   AAPL                              Apple Inc.   \n",
       "4       2010-01-08  2010   AAPL                              Apple Inc.   \n",
       "...            ...   ...    ...                                     ...   \n",
       "158440  2019-12-23  2019   CHKP  Check Point Software Technologies Ltd.   \n",
       "158441  2019-12-24  2019   CHKP  Check Point Software Technologies Ltd.   \n",
       "158442  2019-12-26  2019   CHKP  Check Point Software Technologies Ltd.   \n",
       "158443  2019-12-27  2019   CHKP  Check Point Software Technologies Ltd.   \n",
       "158444  2019-12-30  2019   CHKP  Check Point Software Technologies Ltd.   \n",
       "\n",
       "               CEO    Return  Year_Cum_Ret_Daily  Tenure_Cum_Ret_Daily  \\\n",
       "0       Steve Jobs       NaN                 NaN                   NaN   \n",
       "1       Steve Jobs  0.001729            1.001729              1.001729   \n",
       "2       Steve Jobs -0.015906            0.985795              0.985795   \n",
       "3       Steve Jobs -0.001848            0.983973              0.983973   \n",
       "4       Steve Jobs  0.006648            0.990514              0.990514   \n",
       "...            ...       ...                 ...                   ...   \n",
       "158440   Gil Shwed  0.000627            1.088651              3.276165   \n",
       "158441   Gil Shwed -0.001521            1.086995              3.271181   \n",
       "158442   Gil Shwed  0.004391            1.091768              3.285547   \n",
       "158443   Gil Shwed -0.002409            1.089138              3.277631   \n",
       "158444   Gil Shwed -0.001073            1.087969              3.274113   \n",
       "\n",
       "        Year_Cum_Ret_Overall  Tenure_Cum_Ret_Overall  \n",
       "0                   1.507219                1.507219  \n",
       "1                   1.507219                1.507219  \n",
       "2                   1.507219                1.507219  \n",
       "3                   1.507219                1.507219  \n",
       "4                   1.507219                1.507219  \n",
       "...                      ...                     ...  \n",
       "158440              1.087969                3.274113  \n",
       "158441              1.087969                3.274113  \n",
       "158442              1.087969                3.274113  \n",
       "158443              1.087969                3.274113  \n",
       "158444              1.087969                3.274113  \n",
       "\n",
       "[158445 rows x 10 columns]"
      ]
     },
     "execution_count": 13,
     "metadata": {},
     "output_type": "execute_result"
    }
   ],
   "source": [
    "firm_ret"
   ]
  },
  {
   "cell_type": "code",
   "execution_count": 18,
   "id": "38c53f95-e429-43a1-8b21-ec3c289d194e",
   "metadata": {},
   "outputs": [
    {
     "data": {
      "text/html": [
       "<div>\n",
       "<style scoped>\n",
       "    .dataframe tbody tr th:only-of-type {\n",
       "        vertical-align: middle;\n",
       "    }\n",
       "\n",
       "    .dataframe tbody tr th {\n",
       "        vertical-align: top;\n",
       "    }\n",
       "\n",
       "    .dataframe thead th {\n",
       "        text-align: right;\n",
       "    }\n",
       "</style>\n",
       "<table border=\"1\" class=\"dataframe\">\n",
       "  <thead>\n",
       "    <tr style=\"text-align: right;\">\n",
       "      <th></th>\n",
       "      <th>Ticker</th>\n",
       "      <th>CEO</th>\n",
       "      <th>Year</th>\n",
       "      <th>Age</th>\n",
       "      <th>dominant_gender</th>\n",
       "      <th>dominant_race</th>\n",
       "      <th>dominant_emotion</th>\n",
       "      <th>Woman</th>\n",
       "      <th>Man</th>\n",
       "      <th>asian</th>\n",
       "      <th>...</th>\n",
       "      <th>sad</th>\n",
       "      <th>surprise</th>\n",
       "      <th>neutral</th>\n",
       "      <th>Date</th>\n",
       "      <th>Company</th>\n",
       "      <th>Return</th>\n",
       "      <th>Year_Cum_Ret_Daily</th>\n",
       "      <th>Tenure_Cum_Ret_Daily</th>\n",
       "      <th>Year_Cum_Ret_Overall</th>\n",
       "      <th>Tenure_Cum_Ret_Overall</th>\n",
       "    </tr>\n",
       "  </thead>\n",
       "  <tbody>\n",
       "    <tr>\n",
       "      <th>0</th>\n",
       "      <td>AAPL</td>\n",
       "      <td>Steve Jobs</td>\n",
       "      <td>2010</td>\n",
       "      <td>44.0</td>\n",
       "      <td>Man</td>\n",
       "      <td>white</td>\n",
       "      <td>happy</td>\n",
       "      <td>0.002497</td>\n",
       "      <td>99.997509</td>\n",
       "      <td>0.012729</td>\n",
       "      <td>...</td>\n",
       "      <td>0.000005</td>\n",
       "      <td>0.001161</td>\n",
       "      <td>0.080264</td>\n",
       "      <td>2010-01-04</td>\n",
       "      <td>Apple Inc.</td>\n",
       "      <td>NaN</td>\n",
       "      <td>NaN</td>\n",
       "      <td>NaN</td>\n",
       "      <td>1.507219</td>\n",
       "      <td>1.507219</td>\n",
       "    </tr>\n",
       "    <tr>\n",
       "      <th>1</th>\n",
       "      <td>AAPL</td>\n",
       "      <td>Steve Jobs</td>\n",
       "      <td>2010</td>\n",
       "      <td>44.0</td>\n",
       "      <td>Man</td>\n",
       "      <td>white</td>\n",
       "      <td>happy</td>\n",
       "      <td>0.002497</td>\n",
       "      <td>99.997509</td>\n",
       "      <td>0.012729</td>\n",
       "      <td>...</td>\n",
       "      <td>0.000005</td>\n",
       "      <td>0.001161</td>\n",
       "      <td>0.080264</td>\n",
       "      <td>2010-01-05</td>\n",
       "      <td>Apple Inc.</td>\n",
       "      <td>0.001729</td>\n",
       "      <td>1.001729</td>\n",
       "      <td>1.001729</td>\n",
       "      <td>1.507219</td>\n",
       "      <td>1.507219</td>\n",
       "    </tr>\n",
       "    <tr>\n",
       "      <th>2</th>\n",
       "      <td>AAPL</td>\n",
       "      <td>Steve Jobs</td>\n",
       "      <td>2010</td>\n",
       "      <td>44.0</td>\n",
       "      <td>Man</td>\n",
       "      <td>white</td>\n",
       "      <td>happy</td>\n",
       "      <td>0.002497</td>\n",
       "      <td>99.997509</td>\n",
       "      <td>0.012729</td>\n",
       "      <td>...</td>\n",
       "      <td>0.000005</td>\n",
       "      <td>0.001161</td>\n",
       "      <td>0.080264</td>\n",
       "      <td>2010-01-06</td>\n",
       "      <td>Apple Inc.</td>\n",
       "      <td>-0.015906</td>\n",
       "      <td>0.985795</td>\n",
       "      <td>0.985795</td>\n",
       "      <td>1.507219</td>\n",
       "      <td>1.507219</td>\n",
       "    </tr>\n",
       "    <tr>\n",
       "      <th>3</th>\n",
       "      <td>AAPL</td>\n",
       "      <td>Steve Jobs</td>\n",
       "      <td>2010</td>\n",
       "      <td>44.0</td>\n",
       "      <td>Man</td>\n",
       "      <td>white</td>\n",
       "      <td>happy</td>\n",
       "      <td>0.002497</td>\n",
       "      <td>99.997509</td>\n",
       "      <td>0.012729</td>\n",
       "      <td>...</td>\n",
       "      <td>0.000005</td>\n",
       "      <td>0.001161</td>\n",
       "      <td>0.080264</td>\n",
       "      <td>2010-01-07</td>\n",
       "      <td>Apple Inc.</td>\n",
       "      <td>-0.001848</td>\n",
       "      <td>0.983973</td>\n",
       "      <td>0.983973</td>\n",
       "      <td>1.507219</td>\n",
       "      <td>1.507219</td>\n",
       "    </tr>\n",
       "    <tr>\n",
       "      <th>4</th>\n",
       "      <td>AAPL</td>\n",
       "      <td>Steve Jobs</td>\n",
       "      <td>2010</td>\n",
       "      <td>44.0</td>\n",
       "      <td>Man</td>\n",
       "      <td>white</td>\n",
       "      <td>happy</td>\n",
       "      <td>0.002497</td>\n",
       "      <td>99.997509</td>\n",
       "      <td>0.012729</td>\n",
       "      <td>...</td>\n",
       "      <td>0.000005</td>\n",
       "      <td>0.001161</td>\n",
       "      <td>0.080264</td>\n",
       "      <td>2010-01-08</td>\n",
       "      <td>Apple Inc.</td>\n",
       "      <td>0.006648</td>\n",
       "      <td>0.990514</td>\n",
       "      <td>0.990514</td>\n",
       "      <td>1.507219</td>\n",
       "      <td>1.507219</td>\n",
       "    </tr>\n",
       "    <tr>\n",
       "      <th>...</th>\n",
       "      <td>...</td>\n",
       "      <td>...</td>\n",
       "      <td>...</td>\n",
       "      <td>...</td>\n",
       "      <td>...</td>\n",
       "      <td>...</td>\n",
       "      <td>...</td>\n",
       "      <td>...</td>\n",
       "      <td>...</td>\n",
       "      <td>...</td>\n",
       "      <td>...</td>\n",
       "      <td>...</td>\n",
       "      <td>...</td>\n",
       "      <td>...</td>\n",
       "      <td>...</td>\n",
       "      <td>...</td>\n",
       "      <td>...</td>\n",
       "      <td>...</td>\n",
       "      <td>...</td>\n",
       "      <td>...</td>\n",
       "      <td>...</td>\n",
       "    </tr>\n",
       "    <tr>\n",
       "      <th>158440</th>\n",
       "      <td>CHKP</td>\n",
       "      <td>Gil Shwed</td>\n",
       "      <td>2019</td>\n",
       "      <td>38.0</td>\n",
       "      <td>Man</td>\n",
       "      <td>white</td>\n",
       "      <td>sad</td>\n",
       "      <td>0.008998</td>\n",
       "      <td>99.991000</td>\n",
       "      <td>1.942596</td>\n",
       "      <td>...</td>\n",
       "      <td>93.847095</td>\n",
       "      <td>0.003537</td>\n",
       "      <td>0.311858</td>\n",
       "      <td>2019-12-23</td>\n",
       "      <td>Check Point Software Technologies Ltd.</td>\n",
       "      <td>0.000627</td>\n",
       "      <td>1.088651</td>\n",
       "      <td>3.276165</td>\n",
       "      <td>1.087969</td>\n",
       "      <td>3.274113</td>\n",
       "    </tr>\n",
       "    <tr>\n",
       "      <th>158441</th>\n",
       "      <td>CHKP</td>\n",
       "      <td>Gil Shwed</td>\n",
       "      <td>2019</td>\n",
       "      <td>38.0</td>\n",
       "      <td>Man</td>\n",
       "      <td>white</td>\n",
       "      <td>sad</td>\n",
       "      <td>0.008998</td>\n",
       "      <td>99.991000</td>\n",
       "      <td>1.942596</td>\n",
       "      <td>...</td>\n",
       "      <td>93.847095</td>\n",
       "      <td>0.003537</td>\n",
       "      <td>0.311858</td>\n",
       "      <td>2019-12-24</td>\n",
       "      <td>Check Point Software Technologies Ltd.</td>\n",
       "      <td>-0.001521</td>\n",
       "      <td>1.086995</td>\n",
       "      <td>3.271181</td>\n",
       "      <td>1.087969</td>\n",
       "      <td>3.274113</td>\n",
       "    </tr>\n",
       "    <tr>\n",
       "      <th>158442</th>\n",
       "      <td>CHKP</td>\n",
       "      <td>Gil Shwed</td>\n",
       "      <td>2019</td>\n",
       "      <td>38.0</td>\n",
       "      <td>Man</td>\n",
       "      <td>white</td>\n",
       "      <td>sad</td>\n",
       "      <td>0.008998</td>\n",
       "      <td>99.991000</td>\n",
       "      <td>1.942596</td>\n",
       "      <td>...</td>\n",
       "      <td>93.847095</td>\n",
       "      <td>0.003537</td>\n",
       "      <td>0.311858</td>\n",
       "      <td>2019-12-26</td>\n",
       "      <td>Check Point Software Technologies Ltd.</td>\n",
       "      <td>0.004391</td>\n",
       "      <td>1.091768</td>\n",
       "      <td>3.285547</td>\n",
       "      <td>1.087969</td>\n",
       "      <td>3.274113</td>\n",
       "    </tr>\n",
       "    <tr>\n",
       "      <th>158443</th>\n",
       "      <td>CHKP</td>\n",
       "      <td>Gil Shwed</td>\n",
       "      <td>2019</td>\n",
       "      <td>38.0</td>\n",
       "      <td>Man</td>\n",
       "      <td>white</td>\n",
       "      <td>sad</td>\n",
       "      <td>0.008998</td>\n",
       "      <td>99.991000</td>\n",
       "      <td>1.942596</td>\n",
       "      <td>...</td>\n",
       "      <td>93.847095</td>\n",
       "      <td>0.003537</td>\n",
       "      <td>0.311858</td>\n",
       "      <td>2019-12-27</td>\n",
       "      <td>Check Point Software Technologies Ltd.</td>\n",
       "      <td>-0.002409</td>\n",
       "      <td>1.089138</td>\n",
       "      <td>3.277631</td>\n",
       "      <td>1.087969</td>\n",
       "      <td>3.274113</td>\n",
       "    </tr>\n",
       "    <tr>\n",
       "      <th>158444</th>\n",
       "      <td>CHKP</td>\n",
       "      <td>Gil Shwed</td>\n",
       "      <td>2019</td>\n",
       "      <td>38.0</td>\n",
       "      <td>Man</td>\n",
       "      <td>white</td>\n",
       "      <td>sad</td>\n",
       "      <td>0.008998</td>\n",
       "      <td>99.991000</td>\n",
       "      <td>1.942596</td>\n",
       "      <td>...</td>\n",
       "      <td>93.847095</td>\n",
       "      <td>0.003537</td>\n",
       "      <td>0.311858</td>\n",
       "      <td>2019-12-30</td>\n",
       "      <td>Check Point Software Technologies Ltd.</td>\n",
       "      <td>-0.001073</td>\n",
       "      <td>1.087969</td>\n",
       "      <td>3.274113</td>\n",
       "      <td>1.087969</td>\n",
       "      <td>3.274113</td>\n",
       "    </tr>\n",
       "  </tbody>\n",
       "</table>\n",
       "<p>158445 rows × 29 columns</p>\n",
       "</div>"
      ],
      "text/plain": [
       "       Ticker         CEO  Year   Age dominant_gender dominant_race  \\\n",
       "0        AAPL  Steve Jobs  2010  44.0             Man         white   \n",
       "1        AAPL  Steve Jobs  2010  44.0             Man         white   \n",
       "2        AAPL  Steve Jobs  2010  44.0             Man         white   \n",
       "3        AAPL  Steve Jobs  2010  44.0             Man         white   \n",
       "4        AAPL  Steve Jobs  2010  44.0             Man         white   \n",
       "...       ...         ...   ...   ...             ...           ...   \n",
       "158440   CHKP   Gil Shwed  2019  38.0             Man         white   \n",
       "158441   CHKP   Gil Shwed  2019  38.0             Man         white   \n",
       "158442   CHKP   Gil Shwed  2019  38.0             Man         white   \n",
       "158443   CHKP   Gil Shwed  2019  38.0             Man         white   \n",
       "158444   CHKP   Gil Shwed  2019  38.0             Man         white   \n",
       "\n",
       "       dominant_emotion     Woman        Man     asian  ...        sad  \\\n",
       "0                 happy  0.002497  99.997509  0.012729  ...   0.000005   \n",
       "1                 happy  0.002497  99.997509  0.012729  ...   0.000005   \n",
       "2                 happy  0.002497  99.997509  0.012729  ...   0.000005   \n",
       "3                 happy  0.002497  99.997509  0.012729  ...   0.000005   \n",
       "4                 happy  0.002497  99.997509  0.012729  ...   0.000005   \n",
       "...                 ...       ...        ...       ...  ...        ...   \n",
       "158440              sad  0.008998  99.991000  1.942596  ...  93.847095   \n",
       "158441              sad  0.008998  99.991000  1.942596  ...  93.847095   \n",
       "158442              sad  0.008998  99.991000  1.942596  ...  93.847095   \n",
       "158443              sad  0.008998  99.991000  1.942596  ...  93.847095   \n",
       "158444              sad  0.008998  99.991000  1.942596  ...  93.847095   \n",
       "\n",
       "        surprise   neutral        Date  \\\n",
       "0       0.001161  0.080264  2010-01-04   \n",
       "1       0.001161  0.080264  2010-01-05   \n",
       "2       0.001161  0.080264  2010-01-06   \n",
       "3       0.001161  0.080264  2010-01-07   \n",
       "4       0.001161  0.080264  2010-01-08   \n",
       "...          ...       ...         ...   \n",
       "158440  0.003537  0.311858  2019-12-23   \n",
       "158441  0.003537  0.311858  2019-12-24   \n",
       "158442  0.003537  0.311858  2019-12-26   \n",
       "158443  0.003537  0.311858  2019-12-27   \n",
       "158444  0.003537  0.311858  2019-12-30   \n",
       "\n",
       "                                       Company    Return  Year_Cum_Ret_Daily  \\\n",
       "0                                   Apple Inc.       NaN                 NaN   \n",
       "1                                   Apple Inc.  0.001729            1.001729   \n",
       "2                                   Apple Inc. -0.015906            0.985795   \n",
       "3                                   Apple Inc. -0.001848            0.983973   \n",
       "4                                   Apple Inc.  0.006648            0.990514   \n",
       "...                                        ...       ...                 ...   \n",
       "158440  Check Point Software Technologies Ltd.  0.000627            1.088651   \n",
       "158441  Check Point Software Technologies Ltd. -0.001521            1.086995   \n",
       "158442  Check Point Software Technologies Ltd.  0.004391            1.091768   \n",
       "158443  Check Point Software Technologies Ltd. -0.002409            1.089138   \n",
       "158444  Check Point Software Technologies Ltd. -0.001073            1.087969   \n",
       "\n",
       "        Tenure_Cum_Ret_Daily  Year_Cum_Ret_Overall  Tenure_Cum_Ret_Overall  \n",
       "0                        NaN              1.507219                1.507219  \n",
       "1                   1.001729              1.507219                1.507219  \n",
       "2                   0.985795              1.507219                1.507219  \n",
       "3                   0.983973              1.507219                1.507219  \n",
       "4                   0.990514              1.507219                1.507219  \n",
       "...                      ...                   ...                     ...  \n",
       "158440              3.276165              1.087969                3.274113  \n",
       "158441              3.271181              1.087969                3.274113  \n",
       "158442              3.285547              1.087969                3.274113  \n",
       "158443              3.277631              1.087969                3.274113  \n",
       "158444              3.274113              1.087969                3.274113  \n",
       "\n",
       "[158445 rows x 29 columns]"
      ]
     },
     "execution_count": 18,
     "metadata": {},
     "output_type": "execute_result"
    }
   ],
   "source": [
    "df['Year'] = df['Year'].astype(int)\n",
    "firm_ret['Year'] = firm_ret['Year'].astype(int)\n",
    "\n",
    "\n",
    "output_daily = pd.merge(df, firm_ret, how = 'right', on = ['Year', 'Ticker', 'CEO'])\n",
    "\n",
    "output_daily"
   ]
  },
  {
   "cell_type": "code",
   "execution_count": 19,
   "id": "31d70b46-9f9f-4918-9961-fdcde806a673",
   "metadata": {},
   "outputs": [
    {
     "data": {
      "text/html": [
       "<div>\n",
       "<style scoped>\n",
       "    .dataframe tbody tr th:only-of-type {\n",
       "        vertical-align: middle;\n",
       "    }\n",
       "\n",
       "    .dataframe tbody tr th {\n",
       "        vertical-align: top;\n",
       "    }\n",
       "\n",
       "    .dataframe thead th {\n",
       "        text-align: right;\n",
       "    }\n",
       "</style>\n",
       "<table border=\"1\" class=\"dataframe\">\n",
       "  <thead>\n",
       "    <tr style=\"text-align: right;\">\n",
       "      <th></th>\n",
       "      <th>Year</th>\n",
       "      <th>Date</th>\n",
       "      <th>Ticker</th>\n",
       "      <th>Company</th>\n",
       "      <th>CEO</th>\n",
       "      <th>Age</th>\n",
       "      <th>dominant_gender</th>\n",
       "      <th>dominant_race</th>\n",
       "      <th>dominant_emotion</th>\n",
       "      <th>Woman</th>\n",
       "      <th>...</th>\n",
       "      <th>fear</th>\n",
       "      <th>happy</th>\n",
       "      <th>sad</th>\n",
       "      <th>surprise</th>\n",
       "      <th>neutral</th>\n",
       "      <th>Return</th>\n",
       "      <th>Year_Cum_Ret_Daily</th>\n",
       "      <th>Tenure_Cum_Ret_Daily</th>\n",
       "      <th>Year_Cum_Ret_Overall</th>\n",
       "      <th>Tenure_Cum_Ret_Overall</th>\n",
       "    </tr>\n",
       "  </thead>\n",
       "  <tbody>\n",
       "    <tr>\n",
       "      <th>0</th>\n",
       "      <td>2010</td>\n",
       "      <td>2010-01-04</td>\n",
       "      <td>AAPL</td>\n",
       "      <td>Apple Inc.</td>\n",
       "      <td>Steve Jobs</td>\n",
       "      <td>44.0</td>\n",
       "      <td>Man</td>\n",
       "      <td>white</td>\n",
       "      <td>happy</td>\n",
       "      <td>0.002497</td>\n",
       "      <td>...</td>\n",
       "      <td>0.000020</td>\n",
       "      <td>99.918300</td>\n",
       "      <td>0.000005</td>\n",
       "      <td>0.001161</td>\n",
       "      <td>0.080264</td>\n",
       "      <td>NaN</td>\n",
       "      <td>NaN</td>\n",
       "      <td>NaN</td>\n",
       "      <td>1.507219</td>\n",
       "      <td>1.507219</td>\n",
       "    </tr>\n",
       "    <tr>\n",
       "      <th>1</th>\n",
       "      <td>2010</td>\n",
       "      <td>2010-01-05</td>\n",
       "      <td>AAPL</td>\n",
       "      <td>Apple Inc.</td>\n",
       "      <td>Steve Jobs</td>\n",
       "      <td>44.0</td>\n",
       "      <td>Man</td>\n",
       "      <td>white</td>\n",
       "      <td>happy</td>\n",
       "      <td>0.002497</td>\n",
       "      <td>...</td>\n",
       "      <td>0.000020</td>\n",
       "      <td>99.918300</td>\n",
       "      <td>0.000005</td>\n",
       "      <td>0.001161</td>\n",
       "      <td>0.080264</td>\n",
       "      <td>0.001729</td>\n",
       "      <td>1.001729</td>\n",
       "      <td>1.001729</td>\n",
       "      <td>1.507219</td>\n",
       "      <td>1.507219</td>\n",
       "    </tr>\n",
       "    <tr>\n",
       "      <th>2</th>\n",
       "      <td>2010</td>\n",
       "      <td>2010-01-06</td>\n",
       "      <td>AAPL</td>\n",
       "      <td>Apple Inc.</td>\n",
       "      <td>Steve Jobs</td>\n",
       "      <td>44.0</td>\n",
       "      <td>Man</td>\n",
       "      <td>white</td>\n",
       "      <td>happy</td>\n",
       "      <td>0.002497</td>\n",
       "      <td>...</td>\n",
       "      <td>0.000020</td>\n",
       "      <td>99.918300</td>\n",
       "      <td>0.000005</td>\n",
       "      <td>0.001161</td>\n",
       "      <td>0.080264</td>\n",
       "      <td>-0.015906</td>\n",
       "      <td>0.985795</td>\n",
       "      <td>0.985795</td>\n",
       "      <td>1.507219</td>\n",
       "      <td>1.507219</td>\n",
       "    </tr>\n",
       "    <tr>\n",
       "      <th>3</th>\n",
       "      <td>2010</td>\n",
       "      <td>2010-01-07</td>\n",
       "      <td>AAPL</td>\n",
       "      <td>Apple Inc.</td>\n",
       "      <td>Steve Jobs</td>\n",
       "      <td>44.0</td>\n",
       "      <td>Man</td>\n",
       "      <td>white</td>\n",
       "      <td>happy</td>\n",
       "      <td>0.002497</td>\n",
       "      <td>...</td>\n",
       "      <td>0.000020</td>\n",
       "      <td>99.918300</td>\n",
       "      <td>0.000005</td>\n",
       "      <td>0.001161</td>\n",
       "      <td>0.080264</td>\n",
       "      <td>-0.001848</td>\n",
       "      <td>0.983973</td>\n",
       "      <td>0.983973</td>\n",
       "      <td>1.507219</td>\n",
       "      <td>1.507219</td>\n",
       "    </tr>\n",
       "    <tr>\n",
       "      <th>4</th>\n",
       "      <td>2010</td>\n",
       "      <td>2010-01-08</td>\n",
       "      <td>AAPL</td>\n",
       "      <td>Apple Inc.</td>\n",
       "      <td>Steve Jobs</td>\n",
       "      <td>44.0</td>\n",
       "      <td>Man</td>\n",
       "      <td>white</td>\n",
       "      <td>happy</td>\n",
       "      <td>0.002497</td>\n",
       "      <td>...</td>\n",
       "      <td>0.000020</td>\n",
       "      <td>99.918300</td>\n",
       "      <td>0.000005</td>\n",
       "      <td>0.001161</td>\n",
       "      <td>0.080264</td>\n",
       "      <td>0.006648</td>\n",
       "      <td>0.990514</td>\n",
       "      <td>0.990514</td>\n",
       "      <td>1.507219</td>\n",
       "      <td>1.507219</td>\n",
       "    </tr>\n",
       "    <tr>\n",
       "      <th>...</th>\n",
       "      <td>...</td>\n",
       "      <td>...</td>\n",
       "      <td>...</td>\n",
       "      <td>...</td>\n",
       "      <td>...</td>\n",
       "      <td>...</td>\n",
       "      <td>...</td>\n",
       "      <td>...</td>\n",
       "      <td>...</td>\n",
       "      <td>...</td>\n",
       "      <td>...</td>\n",
       "      <td>...</td>\n",
       "      <td>...</td>\n",
       "      <td>...</td>\n",
       "      <td>...</td>\n",
       "      <td>...</td>\n",
       "      <td>...</td>\n",
       "      <td>...</td>\n",
       "      <td>...</td>\n",
       "      <td>...</td>\n",
       "      <td>...</td>\n",
       "    </tr>\n",
       "    <tr>\n",
       "      <th>158440</th>\n",
       "      <td>2019</td>\n",
       "      <td>2019-12-23</td>\n",
       "      <td>CHKP</td>\n",
       "      <td>Check Point Software Technologies Ltd.</td>\n",
       "      <td>Gil Shwed</td>\n",
       "      <td>38.0</td>\n",
       "      <td>Man</td>\n",
       "      <td>white</td>\n",
       "      <td>sad</td>\n",
       "      <td>0.008998</td>\n",
       "      <td>...</td>\n",
       "      <td>0.932208</td>\n",
       "      <td>0.211811</td>\n",
       "      <td>93.847095</td>\n",
       "      <td>0.003537</td>\n",
       "      <td>0.311858</td>\n",
       "      <td>0.000627</td>\n",
       "      <td>1.088651</td>\n",
       "      <td>3.276165</td>\n",
       "      <td>1.087969</td>\n",
       "      <td>3.274113</td>\n",
       "    </tr>\n",
       "    <tr>\n",
       "      <th>158441</th>\n",
       "      <td>2019</td>\n",
       "      <td>2019-12-24</td>\n",
       "      <td>CHKP</td>\n",
       "      <td>Check Point Software Technologies Ltd.</td>\n",
       "      <td>Gil Shwed</td>\n",
       "      <td>38.0</td>\n",
       "      <td>Man</td>\n",
       "      <td>white</td>\n",
       "      <td>sad</td>\n",
       "      <td>0.008998</td>\n",
       "      <td>...</td>\n",
       "      <td>0.932208</td>\n",
       "      <td>0.211811</td>\n",
       "      <td>93.847095</td>\n",
       "      <td>0.003537</td>\n",
       "      <td>0.311858</td>\n",
       "      <td>-0.001521</td>\n",
       "      <td>1.086995</td>\n",
       "      <td>3.271181</td>\n",
       "      <td>1.087969</td>\n",
       "      <td>3.274113</td>\n",
       "    </tr>\n",
       "    <tr>\n",
       "      <th>158442</th>\n",
       "      <td>2019</td>\n",
       "      <td>2019-12-26</td>\n",
       "      <td>CHKP</td>\n",
       "      <td>Check Point Software Technologies Ltd.</td>\n",
       "      <td>Gil Shwed</td>\n",
       "      <td>38.0</td>\n",
       "      <td>Man</td>\n",
       "      <td>white</td>\n",
       "      <td>sad</td>\n",
       "      <td>0.008998</td>\n",
       "      <td>...</td>\n",
       "      <td>0.932208</td>\n",
       "      <td>0.211811</td>\n",
       "      <td>93.847095</td>\n",
       "      <td>0.003537</td>\n",
       "      <td>0.311858</td>\n",
       "      <td>0.004391</td>\n",
       "      <td>1.091768</td>\n",
       "      <td>3.285547</td>\n",
       "      <td>1.087969</td>\n",
       "      <td>3.274113</td>\n",
       "    </tr>\n",
       "    <tr>\n",
       "      <th>158443</th>\n",
       "      <td>2019</td>\n",
       "      <td>2019-12-27</td>\n",
       "      <td>CHKP</td>\n",
       "      <td>Check Point Software Technologies Ltd.</td>\n",
       "      <td>Gil Shwed</td>\n",
       "      <td>38.0</td>\n",
       "      <td>Man</td>\n",
       "      <td>white</td>\n",
       "      <td>sad</td>\n",
       "      <td>0.008998</td>\n",
       "      <td>...</td>\n",
       "      <td>0.932208</td>\n",
       "      <td>0.211811</td>\n",
       "      <td>93.847095</td>\n",
       "      <td>0.003537</td>\n",
       "      <td>0.311858</td>\n",
       "      <td>-0.002409</td>\n",
       "      <td>1.089138</td>\n",
       "      <td>3.277631</td>\n",
       "      <td>1.087969</td>\n",
       "      <td>3.274113</td>\n",
       "    </tr>\n",
       "    <tr>\n",
       "      <th>158444</th>\n",
       "      <td>2019</td>\n",
       "      <td>2019-12-30</td>\n",
       "      <td>CHKP</td>\n",
       "      <td>Check Point Software Technologies Ltd.</td>\n",
       "      <td>Gil Shwed</td>\n",
       "      <td>38.0</td>\n",
       "      <td>Man</td>\n",
       "      <td>white</td>\n",
       "      <td>sad</td>\n",
       "      <td>0.008998</td>\n",
       "      <td>...</td>\n",
       "      <td>0.932208</td>\n",
       "      <td>0.211811</td>\n",
       "      <td>93.847095</td>\n",
       "      <td>0.003537</td>\n",
       "      <td>0.311858</td>\n",
       "      <td>-0.001073</td>\n",
       "      <td>1.087969</td>\n",
       "      <td>3.274113</td>\n",
       "      <td>1.087969</td>\n",
       "      <td>3.274113</td>\n",
       "    </tr>\n",
       "  </tbody>\n",
       "</table>\n",
       "<p>158445 rows × 29 columns</p>\n",
       "</div>"
      ],
      "text/plain": [
       "        Year        Date Ticker                                 Company  \\\n",
       "0       2010  2010-01-04   AAPL                              Apple Inc.   \n",
       "1       2010  2010-01-05   AAPL                              Apple Inc.   \n",
       "2       2010  2010-01-06   AAPL                              Apple Inc.   \n",
       "3       2010  2010-01-07   AAPL                              Apple Inc.   \n",
       "4       2010  2010-01-08   AAPL                              Apple Inc.   \n",
       "...      ...         ...    ...                                     ...   \n",
       "158440  2019  2019-12-23   CHKP  Check Point Software Technologies Ltd.   \n",
       "158441  2019  2019-12-24   CHKP  Check Point Software Technologies Ltd.   \n",
       "158442  2019  2019-12-26   CHKP  Check Point Software Technologies Ltd.   \n",
       "158443  2019  2019-12-27   CHKP  Check Point Software Technologies Ltd.   \n",
       "158444  2019  2019-12-30   CHKP  Check Point Software Technologies Ltd.   \n",
       "\n",
       "               CEO   Age dominant_gender dominant_race dominant_emotion  \\\n",
       "0       Steve Jobs  44.0             Man         white            happy   \n",
       "1       Steve Jobs  44.0             Man         white            happy   \n",
       "2       Steve Jobs  44.0             Man         white            happy   \n",
       "3       Steve Jobs  44.0             Man         white            happy   \n",
       "4       Steve Jobs  44.0             Man         white            happy   \n",
       "...            ...   ...             ...           ...              ...   \n",
       "158440   Gil Shwed  38.0             Man         white              sad   \n",
       "158441   Gil Shwed  38.0             Man         white              sad   \n",
       "158442   Gil Shwed  38.0             Man         white              sad   \n",
       "158443   Gil Shwed  38.0             Man         white              sad   \n",
       "158444   Gil Shwed  38.0             Man         white              sad   \n",
       "\n",
       "           Woman  ...      fear      happy        sad  surprise   neutral  \\\n",
       "0       0.002497  ...  0.000020  99.918300   0.000005  0.001161  0.080264   \n",
       "1       0.002497  ...  0.000020  99.918300   0.000005  0.001161  0.080264   \n",
       "2       0.002497  ...  0.000020  99.918300   0.000005  0.001161  0.080264   \n",
       "3       0.002497  ...  0.000020  99.918300   0.000005  0.001161  0.080264   \n",
       "4       0.002497  ...  0.000020  99.918300   0.000005  0.001161  0.080264   \n",
       "...          ...  ...       ...        ...        ...       ...       ...   \n",
       "158440  0.008998  ...  0.932208   0.211811  93.847095  0.003537  0.311858   \n",
       "158441  0.008998  ...  0.932208   0.211811  93.847095  0.003537  0.311858   \n",
       "158442  0.008998  ...  0.932208   0.211811  93.847095  0.003537  0.311858   \n",
       "158443  0.008998  ...  0.932208   0.211811  93.847095  0.003537  0.311858   \n",
       "158444  0.008998  ...  0.932208   0.211811  93.847095  0.003537  0.311858   \n",
       "\n",
       "          Return  Year_Cum_Ret_Daily  Tenure_Cum_Ret_Daily  \\\n",
       "0            NaN                 NaN                   NaN   \n",
       "1       0.001729            1.001729              1.001729   \n",
       "2      -0.015906            0.985795              0.985795   \n",
       "3      -0.001848            0.983973              0.983973   \n",
       "4       0.006648            0.990514              0.990514   \n",
       "...          ...                 ...                   ...   \n",
       "158440  0.000627            1.088651              3.276165   \n",
       "158441 -0.001521            1.086995              3.271181   \n",
       "158442  0.004391            1.091768              3.285547   \n",
       "158443 -0.002409            1.089138              3.277631   \n",
       "158444 -0.001073            1.087969              3.274113   \n",
       "\n",
       "        Year_Cum_Ret_Overall  Tenure_Cum_Ret_Overall  \n",
       "0                   1.507219                1.507219  \n",
       "1                   1.507219                1.507219  \n",
       "2                   1.507219                1.507219  \n",
       "3                   1.507219                1.507219  \n",
       "4                   1.507219                1.507219  \n",
       "...                      ...                     ...  \n",
       "158440              1.087969                3.274113  \n",
       "158441              1.087969                3.274113  \n",
       "158442              1.087969                3.274113  \n",
       "158443              1.087969                3.274113  \n",
       "158444              1.087969                3.274113  \n",
       "\n",
       "[158445 rows x 29 columns]"
      ]
     },
     "execution_count": 19,
     "metadata": {},
     "output_type": "execute_result"
    }
   ],
   "source": [
    "output_daily = output_daily[['Year', 'Date', 'Ticker', 'Company', 'CEO', 'Age', 'dominant_gender', 'dominant_race', 'dominant_emotion', \n",
    "                  'Woman', 'Man', 'asian', 'indian', 'black', 'white',\n",
    "       'middle eastern', 'latino hispanic', 'angry', 'disgust', 'fear',\n",
    "       'happy', 'sad', 'surprise', 'neutral', 'Return',\n",
    "       'Year_Cum_Ret_Daily', 'Tenure_Cum_Ret_Daily', 'Year_Cum_Ret_Overall',\n",
    "       'Tenure_Cum_Ret_Overall']]\n",
    "\n",
    "output_daily.to_csv('outputs/output_daily.csv', index=False)\n",
    "\n",
    "output_daily"
   ]
  },
  {
   "cell_type": "code",
   "execution_count": 20,
   "id": "664122e6-81ab-45dd-88aa-45aa2618091a",
   "metadata": {},
   "outputs": [
    {
     "data": {
      "text/html": [
       "<div>\n",
       "<style scoped>\n",
       "    .dataframe tbody tr th:only-of-type {\n",
       "        vertical-align: middle;\n",
       "    }\n",
       "\n",
       "    .dataframe tbody tr th {\n",
       "        vertical-align: top;\n",
       "    }\n",
       "\n",
       "    .dataframe thead th {\n",
       "        text-align: right;\n",
       "    }\n",
       "</style>\n",
       "<table border=\"1\" class=\"dataframe\">\n",
       "  <thead>\n",
       "    <tr style=\"text-align: right;\">\n",
       "      <th></th>\n",
       "      <th>Year</th>\n",
       "      <th>Ticker</th>\n",
       "      <th>CEO</th>\n",
       "      <th>Age</th>\n",
       "      <th>dominant_gender</th>\n",
       "      <th>dominant_race</th>\n",
       "      <th>dominant_emotion</th>\n",
       "      <th>Woman</th>\n",
       "      <th>Man</th>\n",
       "      <th>asian</th>\n",
       "      <th>...</th>\n",
       "      <th>latino hispanic</th>\n",
       "      <th>angry</th>\n",
       "      <th>disgust</th>\n",
       "      <th>fear</th>\n",
       "      <th>happy</th>\n",
       "      <th>sad</th>\n",
       "      <th>surprise</th>\n",
       "      <th>neutral</th>\n",
       "      <th>Year_Cum_Ret_Overall</th>\n",
       "      <th>Tenure_Cum_Ret_Overall</th>\n",
       "    </tr>\n",
       "  </thead>\n",
       "  <tbody>\n",
       "    <tr>\n",
       "      <th>0</th>\n",
       "      <td>2010</td>\n",
       "      <td>SNPS</td>\n",
       "      <td>Aart de Geus</td>\n",
       "      <td>23.0</td>\n",
       "      <td>Man</td>\n",
       "      <td>white</td>\n",
       "      <td>neutral</td>\n",
       "      <td>0.791261</td>\n",
       "      <td>99.208742</td>\n",
       "      <td>16.348052</td>\n",
       "      <td>...</td>\n",
       "      <td>2.804282</td>\n",
       "      <td>1.443604e+01</td>\n",
       "      <td>5.242552e-03</td>\n",
       "      <td>5.435313e-02</td>\n",
       "      <td>24.848810</td>\n",
       "      <td>2.274688e+00</td>\n",
       "      <td>1.436277e-02</td>\n",
       "      <td>58.366501</td>\n",
       "      <td>1.199198</td>\n",
       "      <td>6.198752</td>\n",
       "    </tr>\n",
       "    <tr>\n",
       "      <th>1</th>\n",
       "      <td>2011</td>\n",
       "      <td>SNPS</td>\n",
       "      <td>Aart de Geus</td>\n",
       "      <td>39.0</td>\n",
       "      <td>Man</td>\n",
       "      <td>white</td>\n",
       "      <td>happy</td>\n",
       "      <td>0.023534</td>\n",
       "      <td>99.976462</td>\n",
       "      <td>15.936492</td>\n",
       "      <td>...</td>\n",
       "      <td>14.824040</td>\n",
       "      <td>2.330624e+00</td>\n",
       "      <td>4.163390e-02</td>\n",
       "      <td>1.122905e-01</td>\n",
       "      <td>89.358377</td>\n",
       "      <td>7.695452e+00</td>\n",
       "      <td>2.694722e-04</td>\n",
       "      <td>0.461355</td>\n",
       "      <td>1.010777</td>\n",
       "      <td>6.198752</td>\n",
       "    </tr>\n",
       "    <tr>\n",
       "      <th>2</th>\n",
       "      <td>2012</td>\n",
       "      <td>SNPS</td>\n",
       "      <td>Aart de Geus</td>\n",
       "      <td>39.0</td>\n",
       "      <td>Man</td>\n",
       "      <td>white</td>\n",
       "      <td>happy</td>\n",
       "      <td>0.020587</td>\n",
       "      <td>99.979419</td>\n",
       "      <td>21.657047</td>\n",
       "      <td>...</td>\n",
       "      <td>21.964440</td>\n",
       "      <td>6.612324e+00</td>\n",
       "      <td>4.818177e-04</td>\n",
       "      <td>2.720406e-01</td>\n",
       "      <td>92.985594</td>\n",
       "      <td>1.264738e-01</td>\n",
       "      <td>7.644380e-05</td>\n",
       "      <td>0.003006</td>\n",
       "      <td>1.170588</td>\n",
       "      <td>6.198752</td>\n",
       "    </tr>\n",
       "    <tr>\n",
       "      <th>3</th>\n",
       "      <td>2013</td>\n",
       "      <td>SNPS</td>\n",
       "      <td>Aart de Geus</td>\n",
       "      <td>40.0</td>\n",
       "      <td>Man</td>\n",
       "      <td>asian</td>\n",
       "      <td>neutral</td>\n",
       "      <td>0.004694</td>\n",
       "      <td>99.995303</td>\n",
       "      <td>31.556121</td>\n",
       "      <td>...</td>\n",
       "      <td>19.216958</td>\n",
       "      <td>1.368830e+00</td>\n",
       "      <td>1.349614e-01</td>\n",
       "      <td>1.679017e+01</td>\n",
       "      <td>35.787165</td>\n",
       "      <td>5.846150e+00</td>\n",
       "      <td>4.946000e-02</td>\n",
       "      <td>40.023273</td>\n",
       "      <td>1.274183</td>\n",
       "      <td>6.198752</td>\n",
       "    </tr>\n",
       "    <tr>\n",
       "      <th>4</th>\n",
       "      <td>2014</td>\n",
       "      <td>SNPS</td>\n",
       "      <td>Aart de Geus</td>\n",
       "      <td>35.0</td>\n",
       "      <td>Man</td>\n",
       "      <td>asian</td>\n",
       "      <td>angry</td>\n",
       "      <td>0.251269</td>\n",
       "      <td>99.748731</td>\n",
       "      <td>69.294864</td>\n",
       "      <td>...</td>\n",
       "      <td>11.631929</td>\n",
       "      <td>5.463904e+01</td>\n",
       "      <td>1.403765e+00</td>\n",
       "      <td>1.378279e+01</td>\n",
       "      <td>0.006893</td>\n",
       "      <td>3.013236e+01</td>\n",
       "      <td>1.687606e-02</td>\n",
       "      <td>0.018277</td>\n",
       "      <td>1.071481</td>\n",
       "      <td>6.198752</td>\n",
       "    </tr>\n",
       "    <tr>\n",
       "      <th>...</th>\n",
       "      <td>...</td>\n",
       "      <td>...</td>\n",
       "      <td>...</td>\n",
       "      <td>...</td>\n",
       "      <td>...</td>\n",
       "      <td>...</td>\n",
       "      <td>...</td>\n",
       "      <td>...</td>\n",
       "      <td>...</td>\n",
       "      <td>...</td>\n",
       "      <td>...</td>\n",
       "      <td>...</td>\n",
       "      <td>...</td>\n",
       "      <td>...</td>\n",
       "      <td>...</td>\n",
       "      <td>...</td>\n",
       "      <td>...</td>\n",
       "      <td>...</td>\n",
       "      <td>...</td>\n",
       "      <td>...</td>\n",
       "      <td>...</td>\n",
       "    </tr>\n",
       "    <tr>\n",
       "      <th>618</th>\n",
       "      <td>2016</td>\n",
       "      <td>GLW</td>\n",
       "      <td>Wendell P. Weeks</td>\n",
       "      <td>NaN</td>\n",
       "      <td>None</td>\n",
       "      <td>None</td>\n",
       "      <td>None</td>\n",
       "      <td>NaN</td>\n",
       "      <td>NaN</td>\n",
       "      <td>NaN</td>\n",
       "      <td>...</td>\n",
       "      <td>NaN</td>\n",
       "      <td>NaN</td>\n",
       "      <td>NaN</td>\n",
       "      <td>NaN</td>\n",
       "      <td>NaN</td>\n",
       "      <td>NaN</td>\n",
       "      <td>NaN</td>\n",
       "      <td>NaN</td>\n",
       "      <td>1.362324</td>\n",
       "      <td>1.845980</td>\n",
       "    </tr>\n",
       "    <tr>\n",
       "      <th>619</th>\n",
       "      <td>2017</td>\n",
       "      <td>GLW</td>\n",
       "      <td>Wendell P. Weeks</td>\n",
       "      <td>40.0</td>\n",
       "      <td>Man</td>\n",
       "      <td>white</td>\n",
       "      <td>happy</td>\n",
       "      <td>0.004313</td>\n",
       "      <td>99.995685</td>\n",
       "      <td>0.191257</td>\n",
       "      <td>...</td>\n",
       "      <td>4.681879</td>\n",
       "      <td>1.052705e-02</td>\n",
       "      <td>3.597961e-03</td>\n",
       "      <td>1.258427e+00</td>\n",
       "      <td>95.459992</td>\n",
       "      <td>2.471851e+00</td>\n",
       "      <td>5.096703e-03</td>\n",
       "      <td>0.790509</td>\n",
       "      <td>1.346332</td>\n",
       "      <td>1.845980</td>\n",
       "    </tr>\n",
       "    <tr>\n",
       "      <th>620</th>\n",
       "      <td>2018</td>\n",
       "      <td>GLW</td>\n",
       "      <td>Wendell P. Weeks</td>\n",
       "      <td>34.0</td>\n",
       "      <td>Man</td>\n",
       "      <td>white</td>\n",
       "      <td>happy</td>\n",
       "      <td>0.012330</td>\n",
       "      <td>99.987674</td>\n",
       "      <td>4.289001</td>\n",
       "      <td>...</td>\n",
       "      <td>20.631614</td>\n",
       "      <td>5.125678e-08</td>\n",
       "      <td>7.117026e-17</td>\n",
       "      <td>4.760564e-12</td>\n",
       "      <td>97.108924</td>\n",
       "      <td>3.034256e-06</td>\n",
       "      <td>8.071617e-06</td>\n",
       "      <td>2.891066</td>\n",
       "      <td>0.967160</td>\n",
       "      <td>1.845980</td>\n",
       "    </tr>\n",
       "    <tr>\n",
       "      <th>621</th>\n",
       "      <td>2019</td>\n",
       "      <td>GLW</td>\n",
       "      <td>Wendell P. Weeks</td>\n",
       "      <td>33.0</td>\n",
       "      <td>Man</td>\n",
       "      <td>white</td>\n",
       "      <td>happy</td>\n",
       "      <td>0.000869</td>\n",
       "      <td>99.999130</td>\n",
       "      <td>13.688280</td>\n",
       "      <td>...</td>\n",
       "      <td>26.188579</td>\n",
       "      <td>2.201363e-03</td>\n",
       "      <td>9.786580e-08</td>\n",
       "      <td>1.198033e-02</td>\n",
       "      <td>99.924666</td>\n",
       "      <td>4.387101e-04</td>\n",
       "      <td>4.017593e-02</td>\n",
       "      <td>0.020542</td>\n",
       "      <td>0.986361</td>\n",
       "      <td>1.845980</td>\n",
       "    </tr>\n",
       "    <tr>\n",
       "      <th>622</th>\n",
       "      <td>2019</td>\n",
       "      <td>SEDG</td>\n",
       "      <td>Zvi Lando</td>\n",
       "      <td>36.0</td>\n",
       "      <td>Man</td>\n",
       "      <td>white</td>\n",
       "      <td>happy</td>\n",
       "      <td>0.045908</td>\n",
       "      <td>99.954093</td>\n",
       "      <td>0.000035</td>\n",
       "      <td>...</td>\n",
       "      <td>0.592980</td>\n",
       "      <td>1.293038e-08</td>\n",
       "      <td>5.222246e-20</td>\n",
       "      <td>3.812175e-12</td>\n",
       "      <td>99.999988</td>\n",
       "      <td>1.762783e-10</td>\n",
       "      <td>1.722674e-07</td>\n",
       "      <td>0.000014</td>\n",
       "      <td>2.678063</td>\n",
       "      <td>2.678063</td>\n",
       "    </tr>\n",
       "  </tbody>\n",
       "</table>\n",
       "<p>623 rows × 24 columns</p>\n",
       "</div>"
      ],
      "text/plain": [
       "     Year Ticker               CEO   Age dominant_gender dominant_race  \\\n",
       "0    2010   SNPS      Aart de Geus  23.0             Man         white   \n",
       "1    2011   SNPS      Aart de Geus  39.0             Man         white   \n",
       "2    2012   SNPS      Aart de Geus  39.0             Man         white   \n",
       "3    2013   SNPS      Aart de Geus  40.0             Man         asian   \n",
       "4    2014   SNPS      Aart de Geus  35.0             Man         asian   \n",
       "..    ...    ...               ...   ...             ...           ...   \n",
       "618  2016    GLW  Wendell P. Weeks   NaN            None          None   \n",
       "619  2017    GLW  Wendell P. Weeks  40.0             Man         white   \n",
       "620  2018    GLW  Wendell P. Weeks  34.0             Man         white   \n",
       "621  2019    GLW  Wendell P. Weeks  33.0             Man         white   \n",
       "622  2019   SEDG         Zvi Lando  36.0             Man         white   \n",
       "\n",
       "    dominant_emotion     Woman        Man      asian  ...  latino hispanic  \\\n",
       "0            neutral  0.791261  99.208742  16.348052  ...         2.804282   \n",
       "1              happy  0.023534  99.976462  15.936492  ...        14.824040   \n",
       "2              happy  0.020587  99.979419  21.657047  ...        21.964440   \n",
       "3            neutral  0.004694  99.995303  31.556121  ...        19.216958   \n",
       "4              angry  0.251269  99.748731  69.294864  ...        11.631929   \n",
       "..               ...       ...        ...        ...  ...              ...   \n",
       "618             None       NaN        NaN        NaN  ...              NaN   \n",
       "619            happy  0.004313  99.995685   0.191257  ...         4.681879   \n",
       "620            happy  0.012330  99.987674   4.289001  ...        20.631614   \n",
       "621            happy  0.000869  99.999130  13.688280  ...        26.188579   \n",
       "622            happy  0.045908  99.954093   0.000035  ...         0.592980   \n",
       "\n",
       "            angry       disgust          fear      happy           sad  \\\n",
       "0    1.443604e+01  5.242552e-03  5.435313e-02  24.848810  2.274688e+00   \n",
       "1    2.330624e+00  4.163390e-02  1.122905e-01  89.358377  7.695452e+00   \n",
       "2    6.612324e+00  4.818177e-04  2.720406e-01  92.985594  1.264738e-01   \n",
       "3    1.368830e+00  1.349614e-01  1.679017e+01  35.787165  5.846150e+00   \n",
       "4    5.463904e+01  1.403765e+00  1.378279e+01   0.006893  3.013236e+01   \n",
       "..            ...           ...           ...        ...           ...   \n",
       "618           NaN           NaN           NaN        NaN           NaN   \n",
       "619  1.052705e-02  3.597961e-03  1.258427e+00  95.459992  2.471851e+00   \n",
       "620  5.125678e-08  7.117026e-17  4.760564e-12  97.108924  3.034256e-06   \n",
       "621  2.201363e-03  9.786580e-08  1.198033e-02  99.924666  4.387101e-04   \n",
       "622  1.293038e-08  5.222246e-20  3.812175e-12  99.999988  1.762783e-10   \n",
       "\n",
       "         surprise    neutral  Year_Cum_Ret_Overall  Tenure_Cum_Ret_Overall  \n",
       "0    1.436277e-02  58.366501              1.199198                6.198752  \n",
       "1    2.694722e-04   0.461355              1.010777                6.198752  \n",
       "2    7.644380e-05   0.003006              1.170588                6.198752  \n",
       "3    4.946000e-02  40.023273              1.274183                6.198752  \n",
       "4    1.687606e-02   0.018277              1.071481                6.198752  \n",
       "..            ...        ...                   ...                     ...  \n",
       "618           NaN        NaN              1.362324                1.845980  \n",
       "619  5.096703e-03   0.790509              1.346332                1.845980  \n",
       "620  8.071617e-06   2.891066              0.967160                1.845980  \n",
       "621  4.017593e-02   0.020542              0.986361                1.845980  \n",
       "622  1.722674e-07   0.000014              2.678063                2.678063  \n",
       "\n",
       "[623 rows x 24 columns]"
      ]
     },
     "execution_count": 20,
     "metadata": {},
     "output_type": "execute_result"
    }
   ],
   "source": [
    "output_yearly = output_daily.groupby(['CEO', 'Year', 'Ticker'], as_index=False).first()\n",
    "\n",
    "output_yearly = output_yearly.drop(columns = ['Year_Cum_Ret_Daily', 'Tenure_Cum_Ret_Daily', 'Return'])\n",
    "\n",
    "output_yearly = output_yearly[['Year', 'Ticker', 'CEO', 'Age', 'dominant_gender', 'dominant_race', 'dominant_emotion', \n",
    "                  'Woman', 'Man', 'asian', 'indian', 'black', 'white',\n",
    "       'middle eastern', 'latino hispanic', 'angry', 'disgust', 'fear',\n",
    "       'happy', 'sad', 'surprise', 'neutral', 'Year_Cum_Ret_Overall',\n",
    "       'Tenure_Cum_Ret_Overall']]\n",
    "\n",
    "output_yearly.to_csv('outputs/output_yearly.csv', index=False)\n",
    "\n",
    "output_yearly"
   ]
  },
  {
   "cell_type": "code",
   "execution_count": null,
   "id": "b90cb7a7-e2d6-4f02-bff9-bd680df8e4ae",
   "metadata": {},
   "outputs": [],
   "source": []
  }
 ],
 "metadata": {
  "kernelspec": {
   "display_name": "Python 3.9",
   "language": "python",
   "name": "python39"
  },
  "language_info": {
   "codemirror_mode": {
    "name": "ipython",
    "version": 3
   },
   "file_extension": ".py",
   "mimetype": "text/x-python",
   "name": "python",
   "nbconvert_exporter": "python",
   "pygments_lexer": "ipython3",
   "version": "3.9.21"
  }
 },
 "nbformat": 4,
 "nbformat_minor": 5
}
