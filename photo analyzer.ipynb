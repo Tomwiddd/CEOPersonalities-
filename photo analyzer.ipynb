{
 "cells": [
  {
   "cell_type": "markdown",
   "id": "33eb4726-4bed-4abd-b952-35c314423bcd",
   "metadata": {},
   "source": [
    "## Photo Analyzer Test"
   ]
  },
  {
   "cell_type": "code",
   "execution_count": 1,
   "id": "de098fb6-dff9-49fb-ba46-92faee421930",
   "metadata": {},
   "outputs": [
    {
     "name": "stderr",
     "output_type": "stream",
     "text": [
      "2025-04-29 23:55:54.061653: I tensorflow/core/platform/cpu_feature_guard.cc:210] This TensorFlow binary is optimized to use available CPU instructions in performance-critical operations.\n",
      "To enable the following instructions: AVX2 FMA, in other operations, rebuild TensorFlow with the appropriate compiler flags.\n"
     ]
    }
   ],
   "source": [
    "import pandas as pd\n",
    "import numpy as np\n",
    "from deepface import DeepFace\n",
    "import os"
   ]
  },
  {
   "cell_type": "code",
   "execution_count": 2,
   "id": "06c363b1-e656-4031-a4cb-34127cb0f745",
   "metadata": {},
   "outputs": [
    {
     "data": {
      "text/html": [
       "<div>\n",
       "<style scoped>\n",
       "    .dataframe tbody tr th:only-of-type {\n",
       "        vertical-align: middle;\n",
       "    }\n",
       "\n",
       "    .dataframe tbody tr th {\n",
       "        vertical-align: top;\n",
       "    }\n",
       "\n",
       "    .dataframe thead th {\n",
       "        text-align: right;\n",
       "    }\n",
       "</style>\n",
       "<table border=\"1\" class=\"dataframe\">\n",
       "  <thead>\n",
       "    <tr style=\"text-align: right;\">\n",
       "      <th></th>\n",
       "      <th>Company</th>\n",
       "      <th>Ticker</th>\n",
       "      <th>Year</th>\n",
       "      <th>CEO</th>\n",
       "    </tr>\n",
       "  </thead>\n",
       "  <tbody>\n",
       "    <tr>\n",
       "      <th>0</th>\n",
       "      <td>Apple Inc.</td>\n",
       "      <td>AAPL</td>\n",
       "      <td>2010</td>\n",
       "      <td>Steve Jobs</td>\n",
       "    </tr>\n",
       "    <tr>\n",
       "      <th>1</th>\n",
       "      <td>Apple Inc.</td>\n",
       "      <td>AAPL</td>\n",
       "      <td>2011</td>\n",
       "      <td>Tim Cook</td>\n",
       "    </tr>\n",
       "    <tr>\n",
       "      <th>2</th>\n",
       "      <td>Apple Inc.</td>\n",
       "      <td>AAPL</td>\n",
       "      <td>2012</td>\n",
       "      <td>Tim Cook</td>\n",
       "    </tr>\n",
       "    <tr>\n",
       "      <th>3</th>\n",
       "      <td>Apple Inc.</td>\n",
       "      <td>AAPL</td>\n",
       "      <td>2013</td>\n",
       "      <td>Tim Cook</td>\n",
       "    </tr>\n",
       "    <tr>\n",
       "      <th>4</th>\n",
       "      <td>Apple Inc.</td>\n",
       "      <td>AAPL</td>\n",
       "      <td>2014</td>\n",
       "      <td>Tim Cook</td>\n",
       "    </tr>\n",
       "    <tr>\n",
       "      <th>...</th>\n",
       "      <td>...</td>\n",
       "      <td>...</td>\n",
       "      <td>...</td>\n",
       "      <td>...</td>\n",
       "    </tr>\n",
       "    <tr>\n",
       "      <th>665</th>\n",
       "      <td>VMware, Inc.</td>\n",
       "      <td>VMW</td>\n",
       "      <td>2015</td>\n",
       "      <td>Pat Gelsinger</td>\n",
       "    </tr>\n",
       "    <tr>\n",
       "      <th>666</th>\n",
       "      <td>VMware, Inc.</td>\n",
       "      <td>VMW</td>\n",
       "      <td>2016</td>\n",
       "      <td>Pat Gelsinger</td>\n",
       "    </tr>\n",
       "    <tr>\n",
       "      <th>667</th>\n",
       "      <td>VMware, Inc.</td>\n",
       "      <td>VMW</td>\n",
       "      <td>2017</td>\n",
       "      <td>Pat Gelsinger</td>\n",
       "    </tr>\n",
       "    <tr>\n",
       "      <th>668</th>\n",
       "      <td>VMware, Inc.</td>\n",
       "      <td>VMW</td>\n",
       "      <td>2018</td>\n",
       "      <td>Pat Gelsinger</td>\n",
       "    </tr>\n",
       "    <tr>\n",
       "      <th>669</th>\n",
       "      <td>VMware, Inc.</td>\n",
       "      <td>VMW</td>\n",
       "      <td>2019</td>\n",
       "      <td>Pat Gelsinger</td>\n",
       "    </tr>\n",
       "  </tbody>\n",
       "</table>\n",
       "<p>670 rows × 4 columns</p>\n",
       "</div>"
      ],
      "text/plain": [
       "          Company Ticker  Year            CEO\n",
       "0      Apple Inc.   AAPL  2010     Steve Jobs\n",
       "1      Apple Inc.   AAPL  2011       Tim Cook\n",
       "2      Apple Inc.   AAPL  2012       Tim Cook\n",
       "3      Apple Inc.   AAPL  2013       Tim Cook\n",
       "4      Apple Inc.   AAPL  2014       Tim Cook\n",
       "..            ...    ...   ...            ...\n",
       "665  VMware, Inc.    VMW  2015  Pat Gelsinger\n",
       "666  VMware, Inc.    VMW  2016  Pat Gelsinger\n",
       "667  VMware, Inc.    VMW  2017  Pat Gelsinger\n",
       "668  VMware, Inc.    VMW  2018  Pat Gelsinger\n",
       "669  VMware, Inc.    VMW  2019  Pat Gelsinger\n",
       "\n",
       "[670 rows x 4 columns]"
      ]
     },
     "execution_count": 2,
     "metadata": {},
     "output_type": "execute_result"
    }
   ],
   "source": [
    "ceo_data = pd.read_csv('ceo_data.csv')\n",
    "\n",
    "ceo_data"
   ]
  },
  {
   "cell_type": "code",
   "execution_count": 3,
   "id": "f4afdc9c-8288-48a6-91e8-4d6e651cfe14",
   "metadata": {
    "scrolled": true
   },
   "outputs": [
    {
     "name": "stderr",
     "output_type": "stream",
     "text": [
      "0it [00:00, ?it/s]"
     ]
    },
    {
     "name": "stdout",
     "output_type": "stream",
     "text": [
      "/Users/jessecoulter/Downloads/FIN377/CEOPersonalities-/matched_pictures/Steve Jobs/2010\n"
     ]
    },
    {
     "name": "stderr",
     "output_type": "stream",
     "text": [
      "\n",
      "Finding actions:   0%|                                    | 0/4 [00:00<?, ?it/s]\u001b[A\n",
      "Action: age:   0%|                                        | 0/4 [00:00<?, ?it/s]\u001b[A\n",
      "Action: age:  25%|████████                        | 1/4 [00:02<00:06,  2.33s/it]\u001b[A\n",
      "Action: gender:  25%|███████▎                     | 1/4 [00:02<00:06,  2.33s/it]\u001b[A\n",
      "Action: gender:  50%|██████████████▌              | 2/4 [00:04<00:04,  2.27s/it]\u001b[A\n",
      "Action: race:  50%|███████████████▌               | 2/4 [00:04<00:04,  2.27s/it]\u001b[A\n",
      "Action: race:  75%|███████████████████████▎       | 3/4 [00:06<00:02,  2.15s/it]\u001b[A\n",
      "Action: emotion:  75%|█████████████████████       | 3/4 [00:06<00:02,  2.15s/it]\u001b[A\n",
      "Action: emotion: 100%|████████████████████████████| 4/4 [00:06<00:00,  1.69s/it]\u001b[A\n",
      "1it [00:08,  8.81s/it]"
     ]
    },
    {
     "name": "stdout",
     "output_type": "stream",
     "text": [
      "/Users/jessecoulter/Downloads/FIN377/CEOPersonalities-/matched_pictures/Tim Cook/2011\n"
     ]
    },
    {
     "name": "stderr",
     "output_type": "stream",
     "text": [
      "\n",
      "Finding actions:   0%|                                    | 0/4 [00:00<?, ?it/s]\u001b[A\n",
      "Action: age:   0%|                                        | 0/4 [00:00<?, ?it/s]\u001b[A\n",
      "Action: age:  25%|████████                        | 1/4 [00:00<00:00,  3.92it/s]\u001b[A\n",
      "Action: gender:  25%|███████▎                     | 1/4 [00:00<00:00,  3.92it/s]\u001b[A\n",
      "Action: gender:  50%|██████████████▌              | 2/4 [00:00<00:00,  3.96it/s]\u001b[A\n",
      "Action: race:  50%|███████████████▌               | 2/4 [00:00<00:00,  3.96it/s]\u001b[A\n",
      "Action: race:  75%|███████████████████████▎       | 3/4 [00:00<00:00,  4.19it/s]\u001b[A\n",
      "Action: emotion: 100%|████████████████████████████| 4/4 [00:00<00:00,  5.37it/s]\u001b[A\n",
      "2it [00:09,  4.10s/it]"
     ]
    },
    {
     "name": "stdout",
     "output_type": "stream",
     "text": [
      "/Users/jessecoulter/Downloads/FIN377/CEOPersonalities-/matched_pictures/Tim Cook/2012\n"
     ]
    },
    {
     "name": "stderr",
     "output_type": "stream",
     "text": [
      "\n",
      "Finding actions:   0%|                                    | 0/4 [00:00<?, ?it/s]\u001b[A\n",
      "Action: age:   0%|                                        | 0/4 [00:00<?, ?it/s]\u001b[A\n",
      "Action: age:  25%|████████                        | 1/4 [00:00<00:00,  4.57it/s]\u001b[A\n",
      "Action: gender:  25%|███████▎                     | 1/4 [00:00<00:00,  4.57it/s]\u001b[A\n",
      "Action: gender:  50%|██████████████▌              | 2/4 [00:00<00:00,  4.69it/s]\u001b[A\n",
      "Action: race:  50%|███████████████▌               | 2/4 [00:00<00:00,  4.69it/s]\u001b[A\n",
      "Action: race:  75%|███████████████████████▎       | 3/4 [00:00<00:00,  4.72it/s]\u001b[A\n",
      "Action: emotion: 100%|████████████████████████████| 4/4 [00:00<00:00,  6.11it/s]\u001b[A\n",
      "3it [00:10,  2.58s/it]"
     ]
    },
    {
     "name": "stdout",
     "output_type": "stream",
     "text": [
      "/Users/jessecoulter/Downloads/FIN377/CEOPersonalities-/matched_pictures/Tim Cook/2013\n"
     ]
    },
    {
     "name": "stderr",
     "output_type": "stream",
     "text": [
      "\n",
      "Finding actions:   0%|                                    | 0/4 [00:00<?, ?it/s]\u001b[A\n",
      "Action: age:   0%|                                        | 0/4 [00:00<?, ?it/s]\u001b[A\n",
      "Action: age:  25%|████████                        | 1/4 [00:00<00:00,  4.93it/s]\u001b[A\n",
      "Action: gender:  25%|███████▎                     | 1/4 [00:00<00:00,  4.93it/s]\u001b[A\n",
      "Action: gender:  50%|██████████████▌              | 2/4 [00:00<00:00,  4.87it/s]\u001b[A\n",
      "Action: race:  50%|███████████████▌               | 2/4 [00:00<00:00,  4.87it/s]\u001b[A\n",
      "Action: race:  75%|███████████████████████▎       | 3/4 [00:00<00:00,  4.84it/s]\u001b[A\n",
      "Action: emotion: 100%|████████████████████████████| 4/4 [00:00<00:00,  6.30it/s]\u001b[A\n",
      "4it [00:11,  2.06s/it]"
     ]
    },
    {
     "name": "stdout",
     "output_type": "stream",
     "text": [
      "/Users/jessecoulter/Downloads/FIN377/CEOPersonalities-/matched_pictures/Tim Cook/2014\n"
     ]
    },
    {
     "name": "stderr",
     "output_type": "stream",
     "text": [
      "\n",
      "Finding actions:   0%|                                    | 0/4 [00:00<?, ?it/s]\u001b[A\n",
      "Action: age:   0%|                                        | 0/4 [00:00<?, ?it/s]\u001b[A\n",
      "Action: age:  25%|████████                        | 1/4 [00:00<00:00,  4.89it/s]\u001b[A\n",
      "Action: gender:  25%|███████▎                     | 1/4 [00:00<00:00,  4.89it/s]\u001b[A\n",
      "Action: gender:  50%|██████████████▌              | 2/4 [00:00<00:00,  4.82it/s]\u001b[A\n",
      "Action: race:  50%|███████████████▌               | 2/4 [00:00<00:00,  4.82it/s]\u001b[A\n",
      "Action: race:  75%|███████████████████████▎       | 3/4 [00:00<00:00,  4.83it/s]\u001b[A\n",
      "Action: emotion: 100%|████████████████████████████| 4/4 [00:00<00:00,  6.26it/s]\u001b[A\n",
      "5it [00:12,  1.77s/it]"
     ]
    },
    {
     "name": "stdout",
     "output_type": "stream",
     "text": [
      "/Users/jessecoulter/Downloads/FIN377/CEOPersonalities-/matched_pictures/Tim Cook/2015\n"
     ]
    },
    {
     "name": "stderr",
     "output_type": "stream",
     "text": [
      "\n",
      "Finding actions:   0%|                                    | 0/4 [00:00<?, ?it/s]\u001b[A\n",
      "Action: age:   0%|                                        | 0/4 [00:00<?, ?it/s]\u001b[A\n",
      "Action: age:  25%|████████                        | 1/4 [00:00<00:00,  4.85it/s]\u001b[A\n",
      "Action: gender:  25%|███████▎                     | 1/4 [00:00<00:00,  4.85it/s]\u001b[A\n",
      "Action: gender:  50%|██████████████▌              | 2/4 [00:00<00:00,  4.87it/s]\u001b[A\n",
      "Action: race:  50%|███████████████▌               | 2/4 [00:00<00:00,  4.87it/s]\u001b[A\n",
      "Action: race:  75%|███████████████████████▎       | 3/4 [00:00<00:00,  4.81it/s]\u001b[A\n",
      "Action: emotion: 100%|████████████████████████████| 4/4 [00:00<00:00,  6.27it/s]\u001b[A\n",
      "\n",
      "Finding actions:   0%|                                    | 0/4 [00:00<?, ?it/s]\u001b[A\n",
      "Action: age:   0%|                                        | 0/4 [00:00<?, ?it/s]\u001b[A\n",
      "Action: age:  25%|████████                        | 1/4 [00:00<00:00,  4.51it/s]\u001b[A\n",
      "Action: gender:  25%|███████▎                     | 1/4 [00:00<00:00,  4.51it/s]\u001b[A\n",
      "Action: gender:  50%|██████████████▌              | 2/4 [00:00<00:00,  4.65it/s]\u001b[A\n",
      "Action: race:  50%|███████████████▌               | 2/4 [00:00<00:00,  4.65it/s]\u001b[A\n",
      "Action: race:  75%|███████████████████████▎       | 3/4 [00:00<00:00,  4.71it/s]\u001b[A\n",
      "Action: emotion: 100%|████████████████████████████| 4/4 [00:00<00:00,  6.08it/s]\u001b[A\n",
      "6it [00:14,  1.68s/it]"
     ]
    },
    {
     "name": "stdout",
     "output_type": "stream",
     "text": [
      "/Users/jessecoulter/Downloads/FIN377/CEOPersonalities-/matched_pictures/Tim Cook/2016\n",
      "No image found in /Users/jessecoulter/Downloads/FIN377/CEOPersonalities-/matched_pictures/Tim Cook/2016\n",
      "/Users/jessecoulter/Downloads/FIN377/CEOPersonalities-/matched_pictures/Tim Cook/2017\n"
     ]
    },
    {
     "name": "stderr",
     "output_type": "stream",
     "text": [
      "\n",
      "Finding actions:   0%|                                    | 0/4 [00:00<?, ?it/s]\u001b[A\n",
      "Action: age:   0%|                                        | 0/4 [00:00<?, ?it/s]\u001b[A\n",
      "Action: age:  25%|████████                        | 1/4 [00:00<00:00,  4.83it/s]\u001b[A\n",
      "Action: gender:  25%|███████▎                     | 1/4 [00:00<00:00,  4.83it/s]\u001b[A\n",
      "Action: gender:  50%|██████████████▌              | 2/4 [00:00<00:00,  4.80it/s]\u001b[A\n",
      "Action: race:  50%|███████████████▌               | 2/4 [00:00<00:00,  4.80it/s]\u001b[A\n",
      "Action: race:  75%|███████████████████████▎       | 3/4 [00:00<00:00,  4.82it/s]\u001b[A\n",
      "Action: emotion: 100%|████████████████████████████| 4/4 [00:00<00:00,  6.26it/s]\u001b[A\n",
      "8it [00:15,  1.05s/it]"
     ]
    },
    {
     "name": "stdout",
     "output_type": "stream",
     "text": [
      "/Users/jessecoulter/Downloads/FIN377/CEOPersonalities-/matched_pictures/Tim Cook/2018\n"
     ]
    },
    {
     "name": "stderr",
     "output_type": "stream",
     "text": [
      "\n",
      "Finding actions:   0%|                                    | 0/4 [00:00<?, ?it/s]\u001b[A\n",
      "Action: age:   0%|                                        | 0/4 [00:00<?, ?it/s]\u001b[A\n",
      "Action: age:  25%|████████                        | 1/4 [00:00<00:00,  4.42it/s]\u001b[A\n",
      "Action: gender:  25%|███████▎                     | 1/4 [00:00<00:00,  4.42it/s]\u001b[A\n",
      "Action: gender:  50%|██████████████▌              | 2/4 [00:00<00:00,  4.68it/s]\u001b[A\n",
      "Action: race:  50%|███████████████▌               | 2/4 [00:00<00:00,  4.68it/s]\u001b[A\n",
      "Action: race:  75%|███████████████████████▎       | 3/4 [00:00<00:00,  4.68it/s]\u001b[A\n",
      "Action: emotion: 100%|████████████████████████████| 4/4 [00:00<00:00,  6.04it/s]\u001b[A\n",
      "\n",
      "Finding actions:   0%|                                    | 0/4 [00:00<?, ?it/s]\u001b[A\n",
      "Action: age:   0%|                                        | 0/4 [00:00<?, ?it/s]\u001b[A\n",
      "Action: age:  25%|████████                        | 1/4 [00:00<00:00,  4.82it/s]\u001b[A\n",
      "Action: gender:  25%|███████▎                     | 1/4 [00:00<00:00,  4.82it/s]\u001b[A\n",
      "Action: gender:  50%|██████████████▌              | 2/4 [00:00<00:00,  4.86it/s]\u001b[A\n",
      "Action: race:  50%|███████████████▌               | 2/4 [00:00<00:00,  4.86it/s]\u001b[A\n",
      "Action: race:  75%|███████████████████████▎       | 3/4 [00:00<00:00,  4.89it/s]\u001b[A\n",
      "Action: emotion: 100%|████████████████████████████| 4/4 [00:00<00:00,  6.33it/s]\u001b[A\n",
      "9it [00:16,  1.15s/it]"
     ]
    },
    {
     "name": "stdout",
     "output_type": "stream",
     "text": [
      "/Users/jessecoulter/Downloads/FIN377/CEOPersonalities-/matched_pictures/Tim Cook/2019\n"
     ]
    },
    {
     "name": "stderr",
     "output_type": "stream",
     "text": [
      "\n",
      "Finding actions:   0%|                                    | 0/4 [00:00<?, ?it/s]\u001b[A\n",
      "Action: age:   0%|                                        | 0/4 [00:00<?, ?it/s]\u001b[A\n",
      "Action: age:  25%|████████                        | 1/4 [00:00<00:00,  5.14it/s]\u001b[A\n",
      "Action: gender:  25%|███████▎                     | 1/4 [00:00<00:00,  5.14it/s]\u001b[A\n",
      "Action: gender:  50%|██████████████▌              | 2/4 [00:00<00:00,  4.95it/s]\u001b[A\n",
      "Action: race:  50%|███████████████▌               | 2/4 [00:00<00:00,  4.95it/s]\u001b[A\n",
      "Action: race:  75%|███████████████████████▎       | 3/4 [00:00<00:00,  4.88it/s]\u001b[A\n",
      "Action: emotion: 100%|████████████████████████████| 4/4 [00:00<00:00,  6.39it/s]\u001b[A\n",
      "10it [00:17,  1.17s/it]"
     ]
    },
    {
     "name": "stdout",
     "output_type": "stream",
     "text": [
      "/Users/jessecoulter/Downloads/FIN377/CEOPersonalities-/matched_pictures/Steve Ballmer/2010\n"
     ]
    },
    {
     "name": "stderr",
     "output_type": "stream",
     "text": [
      "\n",
      "Finding actions:   0%|                                    | 0/4 [00:00<?, ?it/s]\u001b[A\n",
      "Action: age:   0%|                                        | 0/4 [00:00<?, ?it/s]\u001b[A\n",
      "Action: age:  25%|████████                        | 1/4 [00:00<00:00,  4.87it/s]\u001b[A\n",
      "Action: gender:  25%|███████▎                     | 1/4 [00:00<00:00,  4.87it/s]\u001b[A\n",
      "Action: gender:  50%|██████████████▌              | 2/4 [00:00<00:00,  4.90it/s]\u001b[A\n",
      "Action: race:  50%|███████████████▌               | 2/4 [00:00<00:00,  4.90it/s]\u001b[A\n",
      "Action: race:  75%|███████████████████████▎       | 3/4 [00:00<00:00,  4.89it/s]\u001b[A\n",
      "Action: emotion: 100%|████████████████████████████| 4/4 [00:00<00:00,  6.36it/s]\u001b[A\n",
      "11it [00:18,  1.06s/it]"
     ]
    },
    {
     "name": "stdout",
     "output_type": "stream",
     "text": [
      "/Users/jessecoulter/Downloads/FIN377/CEOPersonalities-/matched_pictures/Steve Ballmer/2011\n",
      "No image found in /Users/jessecoulter/Downloads/FIN377/CEOPersonalities-/matched_pictures/Steve Ballmer/2011\n",
      "/Users/jessecoulter/Downloads/FIN377/CEOPersonalities-/matched_pictures/Steve Ballmer/2012\n"
     ]
    },
    {
     "name": "stderr",
     "output_type": "stream",
     "text": [
      "\n",
      "Finding actions:   0%|                                    | 0/4 [00:00<?, ?it/s]\u001b[A\n",
      "Action: age:   0%|                                        | 0/4 [00:00<?, ?it/s]\u001b[A\n",
      "Action: age:  25%|████████                        | 1/4 [00:00<00:00,  4.90it/s]\u001b[A\n",
      "Action: gender:  25%|███████▎                     | 1/4 [00:00<00:00,  4.90it/s]\u001b[A\n",
      "Action: gender:  50%|██████████████▌              | 2/4 [00:00<00:00,  4.85it/s]\u001b[A\n",
      "Action: race:  50%|███████████████▌               | 2/4 [00:00<00:00,  4.85it/s]\u001b[A\n",
      "Action: race:  75%|███████████████████████▎       | 3/4 [00:00<00:00,  4.85it/s]\u001b[A\n",
      "Action: emotion: 100%|████████████████████████████| 4/4 [00:00<00:00,  6.31it/s]\u001b[A\n",
      "13it [00:19,  1.32it/s]"
     ]
    },
    {
     "name": "stdout",
     "output_type": "stream",
     "text": [
      "/Users/jessecoulter/Downloads/FIN377/CEOPersonalities-/matched_pictures/Steve Ballmer/2013\n"
     ]
    },
    {
     "name": "stderr",
     "output_type": "stream",
     "text": [
      "\n",
      "Finding actions:   0%|                                    | 0/4 [00:00<?, ?it/s]\u001b[A\n",
      "Action: age:   0%|                                        | 0/4 [00:00<?, ?it/s]\u001b[A\n",
      "Action: age:  25%|████████                        | 1/4 [00:00<00:00,  4.90it/s]\u001b[A\n",
      "Action: gender:  25%|███████▎                     | 1/4 [00:00<00:00,  4.90it/s]\u001b[A\n",
      "Action: gender:  50%|██████████████▌              | 2/4 [00:00<00:00,  4.89it/s]\u001b[A\n",
      "Action: race:  50%|███████████████▌               | 2/4 [00:00<00:00,  4.89it/s]\u001b[A\n",
      "Action: race:  75%|███████████████████████▎       | 3/4 [00:00<00:00,  4.88it/s]\u001b[A\n",
      "Action: emotion: 100%|████████████████████████████| 4/4 [00:00<00:00,  6.35it/s]\u001b[A\n",
      "14it [00:20,  1.35it/s]"
     ]
    },
    {
     "name": "stdout",
     "output_type": "stream",
     "text": [
      "/Users/jessecoulter/Downloads/FIN377/CEOPersonalities-/matched_pictures/Satya Nadella/2014\n"
     ]
    },
    {
     "name": "stderr",
     "output_type": "stream",
     "text": [
      "\n",
      "Finding actions:   0%|                                    | 0/4 [00:00<?, ?it/s]\u001b[A\n",
      "Action: age:   0%|                                        | 0/4 [00:00<?, ?it/s]\u001b[A\n",
      "Action: age:  25%|████████                        | 1/4 [00:00<00:00,  4.82it/s]\u001b[A\n",
      "Action: gender:  25%|███████▎                     | 1/4 [00:00<00:00,  4.82it/s]\u001b[A\n",
      "Action: gender:  50%|██████████████▌              | 2/4 [00:00<00:00,  4.84it/s]\u001b[A\n",
      "Action: race:  50%|███████████████▌               | 2/4 [00:00<00:00,  4.84it/s]\u001b[A\n",
      "Action: race:  75%|███████████████████████▎       | 3/4 [00:00<00:00,  4.85it/s]\u001b[A\n",
      "Action: emotion: 100%|████████████████████████████| 4/4 [00:00<00:00,  6.30it/s]\u001b[A\n",
      "15it [00:20,  1.31it/s]"
     ]
    },
    {
     "name": "stdout",
     "output_type": "stream",
     "text": [
      "/Users/jessecoulter/Downloads/FIN377/CEOPersonalities-/matched_pictures/Satya Nadella/2015\n"
     ]
    },
    {
     "name": "stderr",
     "output_type": "stream",
     "text": [
      "\n",
      "Finding actions:   0%|                                    | 0/4 [00:00<?, ?it/s]\u001b[A\n",
      "Action: age:   0%|                                        | 0/4 [00:00<?, ?it/s]\u001b[A\n",
      "Action: age:  25%|████████                        | 1/4 [00:00<00:00,  4.82it/s]\u001b[A\n",
      "Action: gender:  25%|███████▎                     | 1/4 [00:00<00:00,  4.82it/s]\u001b[A\n",
      "Action: gender:  50%|██████████████▌              | 2/4 [00:00<00:00,  4.82it/s]\u001b[A\n",
      "Action: race:  50%|███████████████▌               | 2/4 [00:00<00:00,  4.82it/s]\u001b[A\n",
      "Action: race:  75%|███████████████████████▎       | 3/4 [00:00<00:00,  4.58it/s]\u001b[A\n",
      "Action: emotion: 100%|████████████████████████████| 4/4 [00:00<00:00,  6.03it/s]\u001b[A\n",
      "16it [00:21,  1.31it/s]"
     ]
    },
    {
     "name": "stdout",
     "output_type": "stream",
     "text": [
      "/Users/jessecoulter/Downloads/FIN377/CEOPersonalities-/matched_pictures/Satya Nadella/2016\n"
     ]
    },
    {
     "name": "stderr",
     "output_type": "stream",
     "text": [
      "\n",
      "Finding actions:   0%|                                    | 0/4 [00:00<?, ?it/s]\u001b[A\n",
      "Action: age:   0%|                                        | 0/4 [00:00<?, ?it/s]\u001b[A\n",
      "Action: age:  25%|████████                        | 1/4 [00:00<00:00,  4.79it/s]\u001b[A\n",
      "Action: gender:  25%|███████▎                     | 1/4 [00:00<00:00,  4.79it/s]\u001b[A\n",
      "Action: gender:  50%|██████████████▌              | 2/4 [00:00<00:00,  4.80it/s]\u001b[A\n",
      "Action: race:  50%|███████████████▌               | 2/4 [00:00<00:00,  4.80it/s]\u001b[A\n",
      "Action: race:  75%|███████████████████████▎       | 3/4 [00:00<00:00,  4.83it/s]\u001b[A\n",
      "Action: emotion: 100%|████████████████████████████| 4/4 [00:00<00:00,  6.27it/s]\u001b[A\n",
      "\n",
      "Finding actions:   0%|                                    | 0/4 [00:00<?, ?it/s]\u001b[A\n",
      "Action: age:   0%|                                        | 0/4 [00:00<?, ?it/s]\u001b[A\n",
      "Action: age:  25%|████████                        | 1/4 [00:00<00:00,  4.92it/s]\u001b[A\n",
      "Action: gender:  25%|███████▎                     | 1/4 [00:00<00:00,  4.92it/s]\u001b[A\n",
      "Action: gender:  50%|██████████████▌              | 2/4 [00:00<00:00,  4.90it/s]\u001b[A\n",
      "Action: race:  50%|███████████████▌               | 2/4 [00:00<00:00,  4.90it/s]\u001b[A\n",
      "Action: race:  75%|███████████████████████▎       | 3/4 [00:00<00:00,  4.90it/s]\u001b[A\n",
      "Action: emotion: 100%|████████████████████████████| 4/4 [00:00<00:00,  6.37it/s]\u001b[A\n",
      "17it [00:23,  1.02s/it]"
     ]
    },
    {
     "name": "stdout",
     "output_type": "stream",
     "text": [
      "/Users/jessecoulter/Downloads/FIN377/CEOPersonalities-/matched_pictures/Satya Nadella/2017\n"
     ]
    },
    {
     "name": "stderr",
     "output_type": "stream",
     "text": [
      "\n",
      "Finding actions:   0%|                                    | 0/4 [00:00<?, ?it/s]\u001b[A\n",
      "Action: age:   0%|                                        | 0/4 [00:00<?, ?it/s]\u001b[A\n",
      "Action: age:  25%|████████                        | 1/4 [00:00<00:00,  4.66it/s]\u001b[A\n",
      "Action: gender:  25%|███████▎                     | 1/4 [00:00<00:00,  4.66it/s]\u001b[A\n",
      "Action: gender:  50%|██████████████▌              | 2/4 [00:00<00:00,  4.62it/s]\u001b[A\n",
      "Action: race:  50%|███████████████▌               | 2/4 [00:00<00:00,  4.62it/s]\u001b[A\n",
      "Action: race:  75%|███████████████████████▎       | 3/4 [00:00<00:00,  4.71it/s]\u001b[A\n",
      "Action: emotion: 100%|████████████████████████████| 4/4 [00:00<00:00,  6.10it/s]\u001b[A\n",
      "18it [00:26,  1.59s/it]"
     ]
    },
    {
     "name": "stdout",
     "output_type": "stream",
     "text": [
      "/Users/jessecoulter/Downloads/FIN377/CEOPersonalities-/matched_pictures/Satya Nadella/2018\n"
     ]
    },
    {
     "name": "stderr",
     "output_type": "stream",
     "text": [
      "\n",
      "Finding actions:   0%|                                    | 0/4 [00:00<?, ?it/s]\u001b[A\n",
      "Action: age:   0%|                                        | 0/4 [00:00<?, ?it/s]\u001b[A\n",
      "Action: age:  25%|████████                        | 1/4 [00:00<00:00,  4.74it/s]\u001b[A\n",
      "Action: gender:  25%|███████▎                     | 1/4 [00:00<00:00,  4.74it/s]\u001b[A\n",
      "Action: gender:  50%|██████████████▌              | 2/4 [00:00<00:00,  4.80it/s]\u001b[A\n",
      "Action: race:  50%|███████████████▌               | 2/4 [00:00<00:00,  4.80it/s]\u001b[A\n",
      "Action: race:  75%|███████████████████████▎       | 3/4 [00:00<00:00,  4.82it/s]\u001b[A\n",
      "Action: emotion: 100%|████████████████████████████| 4/4 [00:00<00:00,  6.25it/s]\u001b[A\n",
      "19it [00:27,  1.34s/it]"
     ]
    },
    {
     "name": "stdout",
     "output_type": "stream",
     "text": [
      "/Users/jessecoulter/Downloads/FIN377/CEOPersonalities-/matched_pictures/Satya Nadella/2019\n"
     ]
    },
    {
     "name": "stderr",
     "output_type": "stream",
     "text": [
      "\n",
      "Finding actions:   0%|                                    | 0/4 [00:00<?, ?it/s]\u001b[A\n",
      "Action: age:   0%|                                        | 0/4 [00:00<?, ?it/s]\u001b[A\n",
      "Action: age:  25%|████████                        | 1/4 [00:00<00:00,  4.93it/s]\u001b[A\n",
      "Action: gender:  25%|███████▎                     | 1/4 [00:00<00:00,  4.93it/s]\u001b[A\n",
      "Action: gender:  50%|██████████████▌              | 2/4 [00:00<00:00,  4.87it/s]\u001b[A\n",
      "Action: race:  50%|███████████████▌               | 2/4 [00:00<00:00,  4.87it/s]\u001b[A\n",
      "Action: race:  75%|███████████████████████▎       | 3/4 [00:00<00:00,  4.88it/s]\u001b[A\n",
      "Action: emotion: 100%|████████████████████████████| 4/4 [00:00<00:00,  6.34it/s]\u001b[A\n",
      "20it [00:27,  1.19s/it]"
     ]
    },
    {
     "name": "stdout",
     "output_type": "stream",
     "text": [
      "/Users/jessecoulter/Downloads/FIN377/CEOPersonalities-/matched_pictures/Jensen Huang/2010\n"
     ]
    },
    {
     "name": "stderr",
     "output_type": "stream",
     "text": [
      "\n",
      "Finding actions:   0%|                                    | 0/4 [00:00<?, ?it/s]\u001b[A\n",
      "Action: age:   0%|                                        | 0/4 [00:00<?, ?it/s]\u001b[A\n",
      "Action: age:  25%|████████                        | 1/4 [00:00<00:00,  4.78it/s]\u001b[A\n",
      "Action: gender:  25%|███████▎                     | 1/4 [00:00<00:00,  4.78it/s]\u001b[A\n",
      "Action: gender:  50%|██████████████▌              | 2/4 [00:00<00:00,  4.81it/s]\u001b[A\n",
      "Action: race:  50%|███████████████▌               | 2/4 [00:00<00:00,  4.81it/s]\u001b[A\n",
      "Action: race:  75%|███████████████████████▎       | 3/4 [00:00<00:00,  4.84it/s]\u001b[A\n",
      "Action: emotion: 100%|████████████████████████████| 4/4 [00:00<00:00,  6.27it/s]\u001b[A\n",
      "21it [00:28,  1.05s/it]"
     ]
    },
    {
     "name": "stdout",
     "output_type": "stream",
     "text": [
      "/Users/jessecoulter/Downloads/FIN377/CEOPersonalities-/matched_pictures/Jensen Huang/2011\n"
     ]
    },
    {
     "name": "stderr",
     "output_type": "stream",
     "text": [
      "\n",
      "Finding actions:   0%|                                    | 0/4 [00:00<?, ?it/s]\u001b[A\n",
      "Action: age:   0%|                                        | 0/4 [00:00<?, ?it/s]\u001b[A\n",
      "Action: age:  25%|████████                        | 1/4 [00:00<00:00,  4.88it/s]\u001b[A\n",
      "Action: gender:  25%|███████▎                     | 1/4 [00:00<00:00,  4.88it/s]\u001b[A\n",
      "Action: gender:  50%|██████████████▌              | 2/4 [00:00<00:00,  4.81it/s]\u001b[A\n",
      "Action: race:  50%|███████████████▌               | 2/4 [00:00<00:00,  4.81it/s]\u001b[A\n",
      "Action: race:  75%|███████████████████████▎       | 3/4 [00:00<00:00,  4.81it/s]\u001b[A\n",
      "Action: emotion: 100%|████████████████████████████| 4/4 [00:00<00:00,  6.26it/s]\u001b[A\n",
      "23it [00:29,  1.41it/s]"
     ]
    },
    {
     "name": "stdout",
     "output_type": "stream",
     "text": [
      "/Users/jessecoulter/Downloads/FIN377/CEOPersonalities-/matched_pictures/Jensen Huang/2012\n",
      "Error analyzing /Users/jessecoulter/Downloads/FIN377/CEOPersonalities-/matched_pictures/Jensen Huang/2012/pic1.jpg: Face could not be detected in /Users/jessecoulter/Downloads/FIN377/CEOPersonalities-/matched_pictures/Jensen Huang/2012/pic1.jpg.Please confirm that the picture is a face photo or consider to set enforce_detection param to False.\n",
      "/Users/jessecoulter/Downloads/FIN377/CEOPersonalities-/matched_pictures/Jensen Huang/2013\n"
     ]
    },
    {
     "name": "stderr",
     "output_type": "stream",
     "text": [
      "\n",
      "Finding actions:   0%|                                    | 0/4 [00:00<?, ?it/s]\u001b[A\n",
      "Action: age:   0%|                                        | 0/4 [00:00<?, ?it/s]\u001b[A\n",
      "Action: age:  25%|████████                        | 1/4 [00:00<00:00,  4.84it/s]\u001b[A\n",
      "Action: gender:  25%|███████▎                     | 1/4 [00:00<00:00,  4.84it/s]\u001b[A\n",
      "Action: gender:  50%|██████████████▌              | 2/4 [00:00<00:00,  4.82it/s]\u001b[A\n",
      "Action: race:  50%|███████████████▌               | 2/4 [00:00<00:00,  4.82it/s]\u001b[A\n",
      "Action: race:  75%|███████████████████████▎       | 3/4 [00:00<00:00,  4.81it/s]\u001b[A\n",
      "Action: emotion: 100%|████████████████████████████| 4/4 [00:00<00:00,  6.26it/s]\u001b[A\n",
      "24it [00:30,  1.42it/s]"
     ]
    },
    {
     "name": "stdout",
     "output_type": "stream",
     "text": [
      "/Users/jessecoulter/Downloads/FIN377/CEOPersonalities-/matched_pictures/Jensen Huang/2014\n"
     ]
    },
    {
     "name": "stderr",
     "output_type": "stream",
     "text": [
      "\n",
      "Finding actions:   0%|                                    | 0/4 [00:00<?, ?it/s]\u001b[A\n",
      "Action: age:   0%|                                        | 0/4 [00:00<?, ?it/s]\u001b[A\n",
      "Action: age:  25%|████████                        | 1/4 [00:00<00:00,  4.91it/s]\u001b[A\n",
      "Action: gender:  25%|███████▎                     | 1/4 [00:00<00:00,  4.91it/s]\u001b[A\n",
      "Action: gender:  50%|██████████████▌              | 2/4 [00:00<00:00,  4.75it/s]\u001b[A\n",
      "Action: race:  50%|███████████████▌               | 2/4 [00:00<00:00,  4.75it/s]\u001b[A\n",
      "Action: race:  75%|███████████████████████▎       | 3/4 [00:00<00:00,  4.77it/s]\u001b[A\n",
      "Action: emotion: 100%|████████████████████████████| 4/4 [00:00<00:00,  6.22it/s]\u001b[A\n",
      "26it [00:31,  1.86it/s]"
     ]
    },
    {
     "name": "stdout",
     "output_type": "stream",
     "text": [
      "/Users/jessecoulter/Downloads/FIN377/CEOPersonalities-/matched_pictures/Jensen Huang/2015\n",
      "Error analyzing /Users/jessecoulter/Downloads/FIN377/CEOPersonalities-/matched_pictures/Jensen Huang/2015/pic1.jpg: Face could not be detected in /Users/jessecoulter/Downloads/FIN377/CEOPersonalities-/matched_pictures/Jensen Huang/2015/pic1.jpg.Please confirm that the picture is a face photo or consider to set enforce_detection param to False.\n",
      "/Users/jessecoulter/Downloads/FIN377/CEOPersonalities-/matched_pictures/Jensen Huang/2016\n"
     ]
    },
    {
     "name": "stderr",
     "output_type": "stream",
     "text": [
      "\n",
      "Finding actions:   0%|                                    | 0/4 [00:00<?, ?it/s]\u001b[A\n",
      "Action: age:   0%|                                        | 0/4 [00:00<?, ?it/s]\u001b[A\n",
      "Action: age:  25%|████████                        | 1/4 [00:00<00:00,  4.75it/s]\u001b[A\n",
      "Action: gender:  25%|███████▎                     | 1/4 [00:00<00:00,  4.75it/s]\u001b[A\n",
      "Action: gender:  50%|██████████████▌              | 2/4 [00:00<00:00,  4.83it/s]\u001b[A\n",
      "Action: race:  50%|███████████████▌               | 2/4 [00:00<00:00,  4.83it/s]\u001b[A\n",
      "Action: race:  75%|███████████████████████▎       | 3/4 [00:00<00:00,  4.79it/s]\u001b[A\n",
      "Action: emotion: 100%|████████████████████████████| 4/4 [00:00<00:00,  6.23it/s]\u001b[A\n",
      "27it [00:31,  1.73it/s]"
     ]
    },
    {
     "name": "stdout",
     "output_type": "stream",
     "text": [
      "/Users/jessecoulter/Downloads/FIN377/CEOPersonalities-/matched_pictures/Jensen Huang/2017\n"
     ]
    },
    {
     "name": "stderr",
     "output_type": "stream",
     "text": [
      "\n",
      "Finding actions:   0%|                                    | 0/4 [00:00<?, ?it/s]\u001b[A\n",
      "Action: age:   0%|                                        | 0/4 [00:00<?, ?it/s]\u001b[A\n",
      "Action: age:  25%|████████                        | 1/4 [00:00<00:00,  4.93it/s]\u001b[A\n",
      "Action: gender:  25%|███████▎                     | 1/4 [00:00<00:00,  4.93it/s]\u001b[A\n",
      "Action: gender:  50%|██████████████▌              | 2/4 [00:00<00:00,  4.84it/s]\u001b[A\n",
      "Action: race:  50%|███████████████▌               | 2/4 [00:00<00:00,  4.84it/s]\u001b[A\n",
      "Action: race:  75%|███████████████████████▎       | 3/4 [00:00<00:00,  4.84it/s]\u001b[A\n",
      "Action: emotion: 100%|████████████████████████████| 4/4 [00:00<00:00,  6.30it/s]\u001b[A\n",
      "28it [00:33,  1.26it/s]"
     ]
    },
    {
     "name": "stdout",
     "output_type": "stream",
     "text": [
      "/Users/jessecoulter/Downloads/FIN377/CEOPersonalities-/matched_pictures/Jensen Huang/2018\n"
     ]
    },
    {
     "name": "stderr",
     "output_type": "stream",
     "text": [
      "\n",
      "Finding actions:   0%|                                    | 0/4 [00:00<?, ?it/s]\u001b[A\n",
      "Action: age:   0%|                                        | 0/4 [00:00<?, ?it/s]\u001b[A\n",
      "Action: age:  25%|████████                        | 1/4 [00:00<00:00,  4.81it/s]\u001b[A\n",
      "Action: gender:  25%|███████▎                     | 1/4 [00:00<00:00,  4.81it/s]\u001b[A\n",
      "Action: gender:  50%|██████████████▌              | 2/4 [00:00<00:00,  4.98it/s]\u001b[A\n",
      "Action: race:  50%|███████████████▌               | 2/4 [00:00<00:00,  4.98it/s]\u001b[A\n",
      "Action: race:  75%|███████████████████████▎       | 3/4 [00:00<00:00,  5.03it/s]\u001b[A\n",
      "Action: emotion: 100%|████████████████████████████| 4/4 [00:00<00:00,  6.49it/s]\u001b[A\n",
      "29it [00:33,  1.31it/s]"
     ]
    },
    {
     "name": "stdout",
     "output_type": "stream",
     "text": [
      "/Users/jessecoulter/Downloads/FIN377/CEOPersonalities-/matched_pictures/Jensen Huang/2019\n"
     ]
    },
    {
     "name": "stderr",
     "output_type": "stream",
     "text": [
      "\n",
      "Finding actions:   0%|                                    | 0/4 [00:00<?, ?it/s]\u001b[A\n",
      "Action: age:   0%|                                        | 0/4 [00:00<?, ?it/s]\u001b[A\n",
      "Action: age:  25%|████████                        | 1/4 [00:00<00:00,  4.99it/s]\u001b[A\n",
      "Action: gender:  25%|███████▎                     | 1/4 [00:00<00:00,  4.99it/s]\u001b[A\n",
      "Action: gender:  50%|██████████████▌              | 2/4 [00:00<00:00,  5.03it/s]\u001b[A\n",
      "Action: race:  50%|███████████████▌               | 2/4 [00:00<00:00,  5.03it/s]\u001b[A\n",
      "Action: race:  75%|███████████████████████▎       | 3/4 [00:00<00:00,  5.05it/s]\u001b[A\n",
      "Action: emotion: 100%|████████████████████████████| 4/4 [00:00<00:00,  6.54it/s]\u001b[A\n",
      "30it [00:34,  1.18it/s]"
     ]
    },
    {
     "name": "stdout",
     "output_type": "stream",
     "text": [
      "/Users/jessecoulter/Downloads/FIN377/CEOPersonalities-/matched_pictures/Scott A. McGregor/2010\n"
     ]
    },
    {
     "name": "stderr",
     "output_type": "stream",
     "text": [
      "\n",
      "Finding actions:   0%|                                    | 0/4 [00:00<?, ?it/s]\u001b[A\n",
      "Action: age:   0%|                                        | 0/4 [00:00<?, ?it/s]\u001b[A\n",
      "Action: age:  25%|████████                        | 1/4 [00:00<00:00,  5.13it/s]\u001b[A\n",
      "Action: gender:  25%|███████▎                     | 1/4 [00:00<00:00,  5.13it/s]\u001b[A\n",
      "Action: gender:  50%|██████████████▌              | 2/4 [00:00<00:00,  5.10it/s]\u001b[A\n",
      "Action: race:  50%|███████████████▌               | 2/4 [00:00<00:00,  5.10it/s]\u001b[A\n",
      "Action: race:  75%|███████████████████████▎       | 3/4 [00:00<00:00,  5.09it/s]\u001b[A\n",
      "Action: emotion: 100%|████████████████████████████| 4/4 [00:00<00:00,  6.62it/s]\u001b[A\n",
      "31it [00:35,  1.27it/s]"
     ]
    },
    {
     "name": "stdout",
     "output_type": "stream",
     "text": [
      "/Users/jessecoulter/Downloads/FIN377/CEOPersonalities-/matched_pictures/Scott A. McGregor/2011\n"
     ]
    },
    {
     "name": "stderr",
     "output_type": "stream",
     "text": [
      "\n",
      "Finding actions:   0%|                                    | 0/4 [00:00<?, ?it/s]\u001b[A\n",
      "Action: age:   0%|                                        | 0/4 [00:00<?, ?it/s]\u001b[A\n",
      "Action: age:  25%|████████                        | 1/4 [00:00<00:00,  5.05it/s]\u001b[A\n",
      "Action: gender:  25%|███████▎                     | 1/4 [00:00<00:00,  5.05it/s]\u001b[A\n",
      "Action: gender:  50%|██████████████▌              | 2/4 [00:00<00:00,  4.89it/s]\u001b[A\n",
      "Action: race:  50%|███████████████▌               | 2/4 [00:00<00:00,  4.89it/s]\u001b[A\n",
      "Action: race:  75%|███████████████████████▎       | 3/4 [00:00<00:00,  4.96it/s]\u001b[A\n",
      "Action: emotion: 100%|████████████████████████████| 4/4 [00:00<00:00,  6.44it/s]\u001b[A\n",
      "32it [00:36,  1.34it/s]"
     ]
    },
    {
     "name": "stdout",
     "output_type": "stream",
     "text": [
      "/Users/jessecoulter/Downloads/FIN377/CEOPersonalities-/matched_pictures/Scott A. McGregor/2012\n"
     ]
    },
    {
     "name": "stderr",
     "output_type": "stream",
     "text": [
      "\n",
      "Finding actions:   0%|                                    | 0/4 [00:00<?, ?it/s]\u001b[A\n",
      "Action: age:   0%|                                        | 0/4 [00:00<?, ?it/s]\u001b[A\n",
      "Action: age:  25%|████████                        | 1/4 [00:00<00:00,  5.07it/s]\u001b[A\n",
      "Action: gender:  25%|███████▎                     | 1/4 [00:00<00:00,  5.07it/s]\u001b[A\n",
      "Action: gender:  50%|██████████████▌              | 2/4 [00:00<00:00,  5.08it/s]\u001b[A\n",
      "Action: race:  50%|███████████████▌               | 2/4 [00:00<00:00,  5.08it/s]\u001b[A\n",
      "Action: race:  75%|███████████████████████▎       | 3/4 [00:00<00:00,  5.05it/s]\u001b[A\n",
      "Action: emotion: 100%|████████████████████████████| 4/4 [00:00<00:00,  6.57it/s]\u001b[A\n",
      "33it [00:36,  1.38it/s]"
     ]
    },
    {
     "name": "stdout",
     "output_type": "stream",
     "text": [
      "/Users/jessecoulter/Downloads/FIN377/CEOPersonalities-/matched_pictures/Scott A. McGregor/2013\n"
     ]
    },
    {
     "name": "stderr",
     "output_type": "stream",
     "text": [
      "\n",
      "Finding actions:   0%|                                    | 0/4 [00:00<?, ?it/s]\u001b[A\n",
      "Action: age:   0%|                                        | 0/4 [00:00<?, ?it/s]\u001b[A\n",
      "Action: age:  25%|████████                        | 1/4 [00:00<00:00,  5.07it/s]\u001b[A\n",
      "Action: gender:  25%|███████▎                     | 1/4 [00:00<00:00,  5.07it/s]\u001b[A\n",
      "Action: gender:  50%|██████████████▌              | 2/4 [00:00<00:00,  5.03it/s]\u001b[A\n",
      "Action: race:  50%|███████████████▌               | 2/4 [00:00<00:00,  5.03it/s]\u001b[A\n",
      "Action: race:  75%|███████████████████████▎       | 3/4 [00:00<00:00,  5.06it/s]\u001b[A\n",
      "Action: emotion: 100%|████████████████████████████| 4/4 [00:00<00:00,  6.56it/s]\u001b[A\n",
      "34it [00:37,  1.35it/s]"
     ]
    },
    {
     "name": "stdout",
     "output_type": "stream",
     "text": [
      "/Users/jessecoulter/Downloads/FIN377/CEOPersonalities-/matched_pictures/Scott A. McGregor/2014\n"
     ]
    },
    {
     "name": "stderr",
     "output_type": "stream",
     "text": [
      "35it [00:38,  1.32it/s]"
     ]
    },
    {
     "name": "stdout",
     "output_type": "stream",
     "text": [
      "Error analyzing /Users/jessecoulter/Downloads/FIN377/CEOPersonalities-/matched_pictures/Scott A. McGregor/2014/pic1.jpg: Face could not be detected in /Users/jessecoulter/Downloads/FIN377/CEOPersonalities-/matched_pictures/Scott A. McGregor/2014/pic1.jpg.Please confirm that the picture is a face photo or consider to set enforce_detection param to False.\n",
      "/Users/jessecoulter/Downloads/FIN377/CEOPersonalities-/matched_pictures/Scott A. McGregor/2015\n"
     ]
    },
    {
     "name": "stderr",
     "output_type": "stream",
     "text": [
      "\n",
      "Finding actions:   0%|                                    | 0/4 [00:00<?, ?it/s]\u001b[A\n",
      "Action: age:   0%|                                        | 0/4 [00:00<?, ?it/s]\u001b[A\n",
      "Action: age:  25%|████████                        | 1/4 [00:00<00:00,  4.90it/s]\u001b[A\n",
      "Action: gender:  25%|███████▎                     | 1/4 [00:00<00:00,  4.90it/s]\u001b[A\n",
      "Action: gender:  50%|██████████████▌              | 2/4 [00:00<00:00,  5.04it/s]\u001b[A\n",
      "Action: race:  50%|███████████████▌               | 2/4 [00:00<00:00,  5.04it/s]\u001b[A\n",
      "Action: race:  75%|███████████████████████▎       | 3/4 [00:00<00:00,  5.07it/s]\u001b[A\n",
      "Action: emotion: 100%|████████████████████████████| 4/4 [00:00<00:00,  6.55it/s]\u001b[A\n",
      "36it [00:38,  1.37it/s]"
     ]
    },
    {
     "name": "stdout",
     "output_type": "stream",
     "text": [
      "/Users/jessecoulter/Downloads/FIN377/CEOPersonalities-/matched_pictures/Hock Tan/2016\n"
     ]
    },
    {
     "name": "stderr",
     "output_type": "stream",
     "text": [
      "\n",
      "Finding actions:   0%|                                    | 0/4 [00:00<?, ?it/s]\u001b[A\n",
      "Action: age:   0%|                                        | 0/4 [00:00<?, ?it/s]\u001b[A\n",
      "Action: age:  25%|████████                        | 1/4 [00:00<00:00,  5.20it/s]\u001b[A\n",
      "Action: gender:  25%|███████▎                     | 1/4 [00:00<00:00,  5.20it/s]\u001b[A\n",
      "Action: gender:  50%|██████████████▌              | 2/4 [00:00<00:00,  5.12it/s]\u001b[A\n",
      "Action: race:  50%|███████████████▌               | 2/4 [00:00<00:00,  5.12it/s]\u001b[A\n",
      "Action: race:  75%|███████████████████████▎       | 3/4 [00:00<00:00,  5.06it/s]\u001b[A\n",
      "Action: emotion: 100%|████████████████████████████| 4/4 [00:00<00:00,  6.60it/s]\u001b[A\n",
      "37it [00:40,  1.11it/s]"
     ]
    },
    {
     "name": "stdout",
     "output_type": "stream",
     "text": [
      "/Users/jessecoulter/Downloads/FIN377/CEOPersonalities-/matched_pictures/Hock Tan/2017\n"
     ]
    },
    {
     "name": "stderr",
     "output_type": "stream",
     "text": [
      "\n",
      "Finding actions:   0%|                                    | 0/4 [00:00<?, ?it/s]\u001b[A\n",
      "Action: age:   0%|                                        | 0/4 [00:00<?, ?it/s]\u001b[A\n",
      "Action: age:  25%|████████                        | 1/4 [00:00<00:00,  5.11it/s]\u001b[A\n",
      "Action: gender:  25%|███████▎                     | 1/4 [00:00<00:00,  5.11it/s]\u001b[A\n",
      "Action: gender:  50%|██████████████▌              | 2/4 [00:00<00:00,  5.11it/s]\u001b[A\n",
      "Action: race:  50%|███████████████▌               | 2/4 [00:00<00:00,  5.11it/s]\u001b[A\n",
      "Action: race:  75%|███████████████████████▎       | 3/4 [00:00<00:00,  5.12it/s]\u001b[A\n",
      "Action: emotion: 100%|████████████████████████████| 4/4 [00:00<00:00,  6.65it/s]\u001b[A\n",
      "38it [00:41,  1.18it/s]"
     ]
    },
    {
     "name": "stdout",
     "output_type": "stream",
     "text": [
      "/Users/jessecoulter/Downloads/FIN377/CEOPersonalities-/matched_pictures/Hock Tan/2018\n"
     ]
    },
    {
     "name": "stderr",
     "output_type": "stream",
     "text": [
      "\n",
      "Finding actions:   0%|                                    | 0/4 [00:00<?, ?it/s]\u001b[A\n",
      "Action: age:   0%|                                        | 0/4 [00:00<?, ?it/s]\u001b[A\n",
      "Action: age:  25%|████████                        | 1/4 [00:00<00:00,  5.21it/s]\u001b[A\n",
      "Action: gender:  25%|███████▎                     | 1/4 [00:00<00:00,  5.21it/s]\u001b[A\n",
      "Action: gender:  50%|██████████████▌              | 2/4 [00:00<00:00,  5.11it/s]\u001b[A\n",
      "Action: race:  50%|███████████████▌               | 2/4 [00:00<00:00,  5.11it/s]\u001b[A\n",
      "Action: race:  75%|███████████████████████▎       | 3/4 [00:00<00:00,  5.08it/s]\u001b[A\n",
      "Action: emotion: 100%|████████████████████████████| 4/4 [00:00<00:00,  6.61it/s]\u001b[A\n",
      "39it [00:41,  1.16it/s]"
     ]
    },
    {
     "name": "stdout",
     "output_type": "stream",
     "text": [
      "/Users/jessecoulter/Downloads/FIN377/CEOPersonalities-/matched_pictures/Hock Tan/2019\n"
     ]
    },
    {
     "name": "stderr",
     "output_type": "stream",
     "text": [
      "\n",
      "Finding actions:   0%|                                    | 0/4 [00:00<?, ?it/s]\u001b[A\n",
      "Action: age:   0%|                                        | 0/4 [00:00<?, ?it/s]\u001b[A\n",
      "Action: age:  25%|████████                        | 1/4 [00:00<00:00,  5.08it/s]\u001b[A\n",
      "Action: gender:  25%|███████▎                     | 1/4 [00:00<00:00,  5.08it/s]\u001b[A\n",
      "Action: gender:  50%|██████████████▌              | 2/4 [00:00<00:00,  5.09it/s]\u001b[A\n",
      "Action: race:  50%|███████████████▌               | 2/4 [00:00<00:00,  5.09it/s]\u001b[A\n",
      "Action: race:  75%|███████████████████████▎       | 3/4 [00:00<00:00,  5.07it/s]\u001b[A\n",
      "Action: emotion: 100%|████████████████████████████| 4/4 [00:00<00:00,  6.59it/s]\u001b[A\n",
      "40it [00:42,  1.23it/s]"
     ]
    },
    {
     "name": "stdout",
     "output_type": "stream",
     "text": [
      "/Users/jessecoulter/Downloads/FIN377/CEOPersonalities-/matched_pictures/Shantanu Narayen/2010\n"
     ]
    },
    {
     "name": "stderr",
     "output_type": "stream",
     "text": [
      "\n",
      "Finding actions:   0%|                                    | 0/4 [00:00<?, ?it/s]\u001b[A\n",
      "Action: age:   0%|                                        | 0/4 [00:00<?, ?it/s]\u001b[A\n",
      "Action: age:  25%|████████                        | 1/4 [00:00<00:00,  4.68it/s]\u001b[A\n",
      "Action: gender:  25%|███████▎                     | 1/4 [00:00<00:00,  4.68it/s]\u001b[A\n",
      "Action: gender:  50%|██████████████▌              | 2/4 [00:00<00:00,  4.46it/s]\u001b[A\n",
      "Action: race:  50%|███████████████▌               | 2/4 [00:00<00:00,  4.46it/s]\u001b[A\n",
      "Action: race:  75%|███████████████████████▎       | 3/4 [00:00<00:00,  4.50it/s]\u001b[A\n",
      "Action: emotion: 100%|████████████████████████████| 4/4 [00:00<00:00,  5.86it/s]\u001b[A\n",
      "41it [00:45,  1.36s/it]"
     ]
    },
    {
     "name": "stdout",
     "output_type": "stream",
     "text": [
      "/Users/jessecoulter/Downloads/FIN377/CEOPersonalities-/matched_pictures/Shantanu Narayen/2011\n"
     ]
    },
    {
     "name": "stderr",
     "output_type": "stream",
     "text": [
      "\n",
      "Finding actions:   0%|                                    | 0/4 [00:00<?, ?it/s]\u001b[A\n",
      "Action: age:   0%|                                        | 0/4 [00:00<?, ?it/s]\u001b[A\n",
      "Action: age:  25%|████████                        | 1/4 [00:00<00:00,  3.53it/s]\u001b[A\n",
      "Action: gender:  25%|███████▎                     | 1/4 [00:00<00:00,  3.53it/s]\u001b[A\n",
      "Action: gender:  50%|██████████████▌              | 2/4 [00:00<00:00,  3.61it/s]\u001b[A\n",
      "Action: race:  50%|███████████████▌               | 2/4 [00:00<00:00,  3.61it/s]\u001b[A\n",
      "Action: race:  75%|███████████████████████▎       | 3/4 [00:00<00:00,  3.52it/s]\u001b[A\n",
      "Action: emotion: 100%|████████████████████████████| 4/4 [00:00<00:00,  4.62it/s]\u001b[A\n",
      "42it [00:46,  1.26s/it]"
     ]
    },
    {
     "name": "stdout",
     "output_type": "stream",
     "text": [
      "/Users/jessecoulter/Downloads/FIN377/CEOPersonalities-/matched_pictures/Shantanu Narayen/2012\n"
     ]
    },
    {
     "name": "stderr",
     "output_type": "stream",
     "text": [
      "\n",
      "Finding actions:   0%|                                    | 0/4 [00:00<?, ?it/s]\u001b[A\n",
      "Action: age:   0%|                                        | 0/4 [00:00<?, ?it/s]\u001b[A\n",
      "Action: age:  25%|████████                        | 1/4 [00:00<00:00,  3.59it/s]\u001b[A\n",
      "Action: gender:  25%|███████▎                     | 1/4 [00:00<00:00,  3.59it/s]\u001b[A\n",
      "Action: gender:  50%|██████████████▌              | 2/4 [00:00<00:00,  3.70it/s]\u001b[A\n",
      "Action: race:  50%|███████████████▌               | 2/4 [00:00<00:00,  3.70it/s]\u001b[A\n",
      "Action: race:  75%|███████████████████████▎       | 3/4 [00:00<00:00,  3.58it/s]\u001b[A\n",
      "Action: emotion: 100%|████████████████████████████| 4/4 [00:00<00:00,  4.69it/s]\u001b[A\n",
      "43it [00:47,  1.15s/it]"
     ]
    },
    {
     "name": "stdout",
     "output_type": "stream",
     "text": [
      "/Users/jessecoulter/Downloads/FIN377/CEOPersonalities-/matched_pictures/Shantanu Narayen/2013\n"
     ]
    },
    {
     "name": "stderr",
     "output_type": "stream",
     "text": [
      "\n",
      "Finding actions:   0%|                                    | 0/4 [00:00<?, ?it/s]\u001b[A\n",
      "Action: age:   0%|                                        | 0/4 [00:00<?, ?it/s]\u001b[A\n",
      "Action: age:  25%|████████                        | 1/4 [00:00<00:00,  3.91it/s]\u001b[A\n",
      "Action: gender:  25%|███████▎                     | 1/4 [00:00<00:00,  3.91it/s]\u001b[A\n",
      "Action: gender:  50%|██████████████▌              | 2/4 [00:00<00:00,  4.29it/s]\u001b[A\n",
      "Action: race:  50%|███████████████▌               | 2/4 [00:00<00:00,  4.29it/s]\u001b[A\n",
      "Action: race:  75%|███████████████████████▎       | 3/4 [00:00<00:00,  4.51it/s]\u001b[A\n",
      "Action: emotion: 100%|████████████████████████████| 4/4 [00:00<00:00,  5.72it/s]\u001b[A\n",
      "44it [00:47,  1.05s/it]"
     ]
    },
    {
     "name": "stdout",
     "output_type": "stream",
     "text": [
      "/Users/jessecoulter/Downloads/FIN377/CEOPersonalities-/matched_pictures/Shantanu Narayen/2014\n"
     ]
    },
    {
     "name": "stderr",
     "output_type": "stream",
     "text": [
      "\n",
      "Finding actions:   0%|                                    | 0/4 [00:00<?, ?it/s]\u001b[A\n",
      "Action: age:   0%|                                        | 0/4 [00:00<?, ?it/s]\u001b[A\n",
      "Action: age:  25%|████████                        | 1/4 [00:00<00:00,  4.90it/s]\u001b[A\n",
      "Action: gender:  25%|███████▎                     | 1/4 [00:00<00:00,  4.90it/s]\u001b[A\n",
      "Action: gender:  50%|██████████████▌              | 2/4 [00:00<00:00,  4.68it/s]\u001b[A\n",
      "Action: race:  50%|███████████████▌               | 2/4 [00:00<00:00,  4.68it/s]\u001b[A\n",
      "Action: race:  75%|███████████████████████▎       | 3/4 [00:00<00:00,  4.27it/s]\u001b[A\n",
      "Action: emotion: 100%|████████████████████████████| 4/4 [00:00<00:00,  5.71it/s]\u001b[A\n",
      "45it [00:49,  1.18s/it]"
     ]
    },
    {
     "name": "stdout",
     "output_type": "stream",
     "text": [
      "/Users/jessecoulter/Downloads/FIN377/CEOPersonalities-/matched_pictures/Shantanu Narayen/2015\n"
     ]
    },
    {
     "name": "stderr",
     "output_type": "stream",
     "text": [
      "\n",
      "Finding actions:   0%|                                    | 0/4 [00:00<?, ?it/s]\u001b[A\n",
      "Action: age:   0%|                                        | 0/4 [00:00<?, ?it/s]\u001b[A\n",
      "Action: age:  25%|████████                        | 1/4 [00:00<00:00,  4.55it/s]\u001b[A\n",
      "Action: gender:  25%|███████▎                     | 1/4 [00:00<00:00,  4.55it/s]\u001b[A\n",
      "Action: gender:  50%|██████████████▌              | 2/4 [00:00<00:00,  4.26it/s]\u001b[A\n",
      "Action: race:  50%|███████████████▌               | 2/4 [00:00<00:00,  4.26it/s]\u001b[A\n",
      "Action: race:  75%|███████████████████████▎       | 3/4 [00:00<00:00,  4.16it/s]\u001b[A\n",
      "Action: emotion: 100%|████████████████████████████| 4/4 [00:00<00:00,  5.49it/s]\u001b[A\n",
      "46it [00:50,  1.11s/it]"
     ]
    },
    {
     "name": "stdout",
     "output_type": "stream",
     "text": [
      "/Users/jessecoulter/Downloads/FIN377/CEOPersonalities-/matched_pictures/Shantanu Narayen/2016\n"
     ]
    },
    {
     "name": "stderr",
     "output_type": "stream",
     "text": [
      "\n",
      "Finding actions:   0%|                                    | 0/4 [00:00<?, ?it/s]\u001b[A\n",
      "Action: age:   0%|                                        | 0/4 [00:00<?, ?it/s]\u001b[A\n",
      "Action: age:  25%|████████                        | 1/4 [00:00<00:00,  4.49it/s]\u001b[A\n",
      "Action: gender:  25%|███████▎                     | 1/4 [00:00<00:00,  4.49it/s]\u001b[A\n",
      "Action: gender:  50%|██████████████▌              | 2/4 [00:00<00:00,  4.62it/s]\u001b[A\n",
      "Action: race:  50%|███████████████▌               | 2/4 [00:00<00:00,  4.62it/s]\u001b[A\n",
      "Action: race:  75%|███████████████████████▎       | 3/4 [00:00<00:00,  4.68it/s]\u001b[A\n",
      "Action: emotion: 100%|████████████████████████████| 4/4 [00:00<00:00,  6.04it/s]\u001b[A\n",
      "47it [00:53,  1.61s/it]"
     ]
    },
    {
     "name": "stdout",
     "output_type": "stream",
     "text": [
      "/Users/jessecoulter/Downloads/FIN377/CEOPersonalities-/matched_pictures/Shantanu Narayen/2017\n"
     ]
    },
    {
     "name": "stderr",
     "output_type": "stream",
     "text": [
      "\n",
      "Finding actions:   0%|                                    | 0/4 [00:00<?, ?it/s]\u001b[A\n",
      "Action: age:   0%|                                        | 0/4 [00:00<?, ?it/s]\u001b[A\n",
      "Action: age:  25%|████████                        | 1/4 [00:00<00:00,  3.89it/s]\u001b[A\n",
      "Action: gender:  25%|███████▎                     | 1/4 [00:00<00:00,  3.89it/s]\u001b[A\n",
      "Action: gender:  50%|██████████████▌              | 2/4 [00:00<00:00,  3.80it/s]\u001b[A\n",
      "Action: race:  50%|███████████████▌               | 2/4 [00:00<00:00,  3.80it/s]\u001b[A\n",
      "Action: race:  75%|███████████████████████▎       | 3/4 [00:00<00:00,  3.83it/s]\u001b[A\n",
      "Action: emotion: 100%|████████████████████████████| 4/4 [00:00<00:00,  5.00it/s]\u001b[A\n",
      "48it [00:54,  1.40s/it]"
     ]
    },
    {
     "name": "stdout",
     "output_type": "stream",
     "text": [
      "/Users/jessecoulter/Downloads/FIN377/CEOPersonalities-/matched_pictures/Shantanu Narayen/2018\n"
     ]
    },
    {
     "name": "stderr",
     "output_type": "stream",
     "text": [
      "\n",
      "Finding actions:   0%|                                    | 0/4 [00:00<?, ?it/s]\u001b[A\n",
      "Action: age:   0%|                                        | 0/4 [00:00<?, ?it/s]\u001b[A\n",
      "Action: age:  25%|████████                        | 1/4 [00:00<00:00,  3.73it/s]\u001b[A\n",
      "Action: gender:  25%|███████▎                     | 1/4 [00:00<00:00,  3.73it/s]\u001b[A\n",
      "Action: gender:  50%|██████████████▌              | 2/4 [00:00<00:00,  3.97it/s]\u001b[A\n",
      "Action: race:  50%|███████████████▌               | 2/4 [00:00<00:00,  3.97it/s]\u001b[A\n",
      "Action: race:  75%|███████████████████████▎       | 3/4 [00:00<00:00,  4.03it/s]\u001b[A\n",
      "Action: emotion: 100%|████████████████████████████| 4/4 [00:00<00:00,  5.20it/s]\u001b[A\n",
      "49it [00:55,  1.35s/it]"
     ]
    },
    {
     "name": "stdout",
     "output_type": "stream",
     "text": [
      "/Users/jessecoulter/Downloads/FIN377/CEOPersonalities-/matched_pictures/Shantanu Narayen/2019\n",
      "Error analyzing /Users/jessecoulter/Downloads/FIN377/CEOPersonalities-/matched_pictures/Shantanu Narayen/2019/pic3.jpg: Face could not be detected in /Users/jessecoulter/Downloads/FIN377/CEOPersonalities-/matched_pictures/Shantanu Narayen/2019/pic3.jpg.Please confirm that the picture is a face photo or consider to set enforce_detection param to False.\n",
      "/Users/jessecoulter/Downloads/FIN377/CEOPersonalities-/matched_pictures/John T. Chambers/2010\n"
     ]
    },
    {
     "name": "stderr",
     "output_type": "stream",
     "text": [
      "51it [00:56,  1.09it/s]"
     ]
    },
    {
     "name": "stdout",
     "output_type": "stream",
     "text": [
      "Error analyzing /Users/jessecoulter/Downloads/FIN377/CEOPersonalities-/matched_pictures/John T. Chambers/2010/pic1.jpg: Face could not be detected in /Users/jessecoulter/Downloads/FIN377/CEOPersonalities-/matched_pictures/John T. Chambers/2010/pic1.jpg.Please confirm that the picture is a face photo or consider to set enforce_detection param to False.\n",
      "/Users/jessecoulter/Downloads/FIN377/CEOPersonalities-/matched_pictures/John T. Chambers/2011\n"
     ]
    },
    {
     "name": "stderr",
     "output_type": "stream",
     "text": [
      "\n",
      "Finding actions:   0%|                                    | 0/4 [00:00<?, ?it/s]\u001b[A\n",
      "Action: age:   0%|                                        | 0/4 [00:00<?, ?it/s]\u001b[A\n",
      "Action: age:  25%|████████                        | 1/4 [00:00<00:00,  4.21it/s]\u001b[A\n",
      "Action: gender:  25%|███████▎                     | 1/4 [00:00<00:00,  4.21it/s]\u001b[A\n",
      "Action: gender:  50%|██████████████▌              | 2/4 [00:00<00:00,  4.24it/s]\u001b[A\n",
      "Action: race:  50%|███████████████▌               | 2/4 [00:00<00:00,  4.24it/s]\u001b[A\n",
      "Action: race:  75%|███████████████████████▎       | 3/4 [00:00<00:00,  4.23it/s]\u001b[A\n",
      "Action: emotion: 100%|████████████████████████████| 4/4 [00:00<00:00,  5.50it/s]\u001b[A\n",
      "52it [00:56,  1.13it/s]"
     ]
    },
    {
     "name": "stdout",
     "output_type": "stream",
     "text": [
      "/Users/jessecoulter/Downloads/FIN377/CEOPersonalities-/matched_pictures/John T. Chambers/2012\n"
     ]
    },
    {
     "name": "stderr",
     "output_type": "stream",
     "text": [
      "\n",
      "Finding actions:   0%|                                    | 0/4 [00:00<?, ?it/s]\u001b[A\n",
      "Action: age:   0%|                                        | 0/4 [00:00<?, ?it/s]\u001b[A\n",
      "Action: age:  25%|████████                        | 1/4 [00:00<00:00,  4.34it/s]\u001b[A\n",
      "Action: gender:  25%|███████▎                     | 1/4 [00:00<00:00,  4.34it/s]\u001b[A\n",
      "Action: gender:  50%|██████████████▌              | 2/4 [00:00<00:00,  4.36it/s]\u001b[A\n",
      "Action: race:  50%|███████████████▌               | 2/4 [00:00<00:00,  4.36it/s]\u001b[A\n",
      "Action: race:  75%|███████████████████████▎       | 3/4 [00:00<00:00,  4.37it/s]\u001b[A\n",
      "Action: emotion: 100%|████████████████████████████| 4/4 [00:00<00:00,  5.67it/s]\u001b[A\n",
      "53it [00:57,  1.19it/s]"
     ]
    },
    {
     "name": "stdout",
     "output_type": "stream",
     "text": [
      "/Users/jessecoulter/Downloads/FIN377/CEOPersonalities-/matched_pictures/John T. Chambers/2013\n"
     ]
    },
    {
     "name": "stderr",
     "output_type": "stream",
     "text": [
      "\n",
      "Finding actions:   0%|                                    | 0/4 [00:00<?, ?it/s]\u001b[A\n",
      "Action: age:   0%|                                        | 0/4 [00:00<?, ?it/s]\u001b[A\n",
      "Action: age:  25%|████████                        | 1/4 [00:00<00:00,  4.25it/s]\u001b[A\n",
      "Action: gender:  25%|███████▎                     | 1/4 [00:00<00:00,  4.25it/s]\u001b[A\n",
      "Action: gender:  50%|██████████████▌              | 2/4 [00:00<00:00,  4.27it/s]\u001b[A\n",
      "Action: race:  50%|███████████████▌               | 2/4 [00:00<00:00,  4.27it/s]\u001b[A\n",
      "Action: race:  75%|███████████████████████▎       | 3/4 [00:00<00:00,  4.28it/s]\u001b[A\n",
      "Action: emotion: 100%|████████████████████████████| 4/4 [00:00<00:00,  5.53it/s]\u001b[A\n",
      "54it [01:02,  1.82s/it]"
     ]
    },
    {
     "name": "stdout",
     "output_type": "stream",
     "text": [
      "/Users/jessecoulter/Downloads/FIN377/CEOPersonalities-/matched_pictures/John T. Chambers/2014\n"
     ]
    },
    {
     "name": "stderr",
     "output_type": "stream",
     "text": [
      "\n",
      "Finding actions:   0%|                                    | 0/4 [00:00<?, ?it/s]\u001b[A\n",
      "Action: age:   0%|                                        | 0/4 [00:00<?, ?it/s]\u001b[A\n",
      "Action: age:  25%|████████                        | 1/4 [00:00<00:00,  4.57it/s]\u001b[A\n",
      "Action: gender:  25%|███████▎                     | 1/4 [00:00<00:00,  4.57it/s]\u001b[A\n",
      "Action: gender:  50%|██████████████▌              | 2/4 [00:00<00:00,  4.44it/s]\u001b[A\n",
      "Action: race:  50%|███████████████▌               | 2/4 [00:00<00:00,  4.44it/s]\u001b[A\n",
      "Action: race:  75%|███████████████████████▎       | 3/4 [00:00<00:00,  4.62it/s]\u001b[A\n",
      "Action: emotion: 100%|████████████████████████████| 4/4 [00:00<00:00,  5.97it/s]\u001b[A\n",
      "55it [01:03,  1.56s/it]"
     ]
    },
    {
     "name": "stdout",
     "output_type": "stream",
     "text": [
      "/Users/jessecoulter/Downloads/FIN377/CEOPersonalities-/matched_pictures/Chuck Robbins/2015\n"
     ]
    },
    {
     "name": "stderr",
     "output_type": "stream",
     "text": [
      "\n",
      "Finding actions:   0%|                                    | 0/4 [00:00<?, ?it/s]\u001b[A\n",
      "Action: age:   0%|                                        | 0/4 [00:00<?, ?it/s]\u001b[A\n",
      "Action: age:  25%|████████                        | 1/4 [00:00<00:00,  4.77it/s]\u001b[A\n",
      "Action: gender:  25%|███████▎                     | 1/4 [00:00<00:00,  4.77it/s]\u001b[A\n",
      "Action: gender:  50%|██████████████▌              | 2/4 [00:00<00:00,  4.88it/s]\u001b[A\n",
      "Action: race:  50%|███████████████▌               | 2/4 [00:00<00:00,  4.88it/s]\u001b[A\n",
      "Action: race:  75%|███████████████████████▎       | 3/4 [00:00<00:00,  4.92it/s]\u001b[A\n",
      "Action: emotion: 100%|████████████████████████████| 4/4 [00:00<00:00,  6.36it/s]\u001b[A\n",
      "56it [01:06,  2.03s/it]"
     ]
    },
    {
     "name": "stdout",
     "output_type": "stream",
     "text": [
      "/Users/jessecoulter/Downloads/FIN377/CEOPersonalities-/matched_pictures/Chuck Robbins/2016\n"
     ]
    },
    {
     "name": "stderr",
     "output_type": "stream",
     "text": [
      "\n",
      "Finding actions:   0%|                                    | 0/4 [00:00<?, ?it/s]\u001b[A\n",
      "Action: age:   0%|                                        | 0/4 [00:00<?, ?it/s]\u001b[A\n",
      "Action: age:  25%|████████                        | 1/4 [00:00<00:00,  4.92it/s]\u001b[A\n",
      "Action: gender:  25%|███████▎                     | 1/4 [00:00<00:00,  4.92it/s]\u001b[A\n",
      "Action: gender:  50%|██████████████▌              | 2/4 [00:00<00:00,  4.87it/s]\u001b[A\n",
      "Action: race:  50%|███████████████▌               | 2/4 [00:00<00:00,  4.87it/s]\u001b[A\n",
      "Action: race:  75%|███████████████████████▎       | 3/4 [00:00<00:00,  4.90it/s]\u001b[A\n",
      "Action: emotion: 100%|████████████████████████████| 4/4 [00:00<00:00,  6.36it/s]\u001b[A\n",
      "\n",
      "Finding actions:   0%|                                    | 0/4 [00:00<?, ?it/s]\u001b[A\n",
      "Action: age:   0%|                                        | 0/4 [00:00<?, ?it/s]\u001b[A\n",
      "Action: age:  25%|████████                        | 1/4 [00:00<00:00,  4.58it/s]\u001b[A\n",
      "Action: gender:  25%|███████▎                     | 1/4 [00:00<00:00,  4.58it/s]\u001b[A\n",
      "Action: gender:  50%|██████████████▌              | 2/4 [00:00<00:00,  4.74it/s]\u001b[A\n",
      "Action: race:  50%|███████████████▌               | 2/4 [00:00<00:00,  4.74it/s]\u001b[A\n",
      "Action: race:  75%|███████████████████████▎       | 3/4 [00:00<00:00,  4.77it/s]\u001b[A\n",
      "Action: emotion: 100%|████████████████████████████| 4/4 [00:00<00:00,  6.17it/s]\u001b[A\n",
      "57it [01:09,  2.26s/it]"
     ]
    },
    {
     "name": "stdout",
     "output_type": "stream",
     "text": [
      "/Users/jessecoulter/Downloads/FIN377/CEOPersonalities-/matched_pictures/Chuck Robbins/2017\n"
     ]
    },
    {
     "name": "stderr",
     "output_type": "stream",
     "text": [
      "\n",
      "Finding actions:   0%|                                    | 0/4 [00:00<?, ?it/s]\u001b[A\n",
      "Action: age:   0%|                                        | 0/4 [00:00<?, ?it/s]\u001b[A\n",
      "Action: age:  25%|████████                        | 1/4 [00:00<00:00,  4.86it/s]\u001b[A\n",
      "Action: gender:  25%|███████▎                     | 1/4 [00:00<00:00,  4.86it/s]\u001b[A\n",
      "Action: gender:  50%|██████████████▌              | 2/4 [00:00<00:00,  4.86it/s]\u001b[A\n",
      "Action: race:  50%|███████████████▌               | 2/4 [00:00<00:00,  4.86it/s]\u001b[A\n",
      "Action: race:  75%|███████████████████████▎       | 3/4 [00:00<00:00,  4.86it/s]\u001b[A\n",
      "Action: emotion: 100%|████████████████████████████| 4/4 [00:00<00:00,  6.24it/s]\u001b[A\n",
      "58it [01:09,  1.82s/it]"
     ]
    },
    {
     "name": "stdout",
     "output_type": "stream",
     "text": [
      "/Users/jessecoulter/Downloads/FIN377/CEOPersonalities-/matched_pictures/Chuck Robbins/2018\n"
     ]
    },
    {
     "name": "stderr",
     "output_type": "stream",
     "text": [
      "\n",
      "Finding actions:   0%|                                    | 0/4 [00:00<?, ?it/s]\u001b[A\n",
      "Action: age:   0%|                                        | 0/4 [00:00<?, ?it/s]\u001b[A\n",
      "Action: age:  25%|████████                        | 1/4 [00:00<00:00,  4.98it/s]\u001b[A\n",
      "Action: gender:  25%|███████▎                     | 1/4 [00:00<00:00,  4.98it/s]\u001b[A\n",
      "Action: gender:  50%|██████████████▌              | 2/4 [00:00<00:00,  4.90it/s]\u001b[A\n",
      "Action: race:  50%|███████████████▌               | 2/4 [00:00<00:00,  4.90it/s]\u001b[A\n",
      "Action: race:  75%|███████████████████████▎       | 3/4 [00:00<00:00,  4.90it/s]\u001b[A\n",
      "Action: emotion: 100%|████████████████████████████| 4/4 [00:00<00:00,  6.37it/s]\u001b[A\n",
      "59it [01:11,  1.79s/it]"
     ]
    },
    {
     "name": "stdout",
     "output_type": "stream",
     "text": [
      "/Users/jessecoulter/Downloads/FIN377/CEOPersonalities-/matched_pictures/Chuck Robbins/2019\n"
     ]
    },
    {
     "name": "stderr",
     "output_type": "stream",
     "text": [
      "\n",
      "Finding actions:   0%|                                    | 0/4 [00:00<?, ?it/s]\u001b[A\n",
      "Action: age:   0%|                                        | 0/4 [00:00<?, ?it/s]\u001b[A\n",
      "Action: age:  25%|████████                        | 1/4 [00:00<00:00,  4.84it/s]\u001b[A\n",
      "Action: gender:  25%|███████▎                     | 1/4 [00:00<00:00,  4.84it/s]\u001b[A\n",
      "Action: gender:  50%|██████████████▌              | 2/4 [00:00<00:00,  4.84it/s]\u001b[A\n",
      "Action: race:  50%|███████████████▌               | 2/4 [00:00<00:00,  4.84it/s]\u001b[A\n",
      "Action: race:  75%|███████████████████████▎       | 3/4 [00:00<00:00,  4.87it/s]\u001b[A\n",
      "Action: emotion: 100%|████████████████████████████| 4/4 [00:00<00:00,  6.32it/s]\u001b[A\n",
      "60it [01:12,  1.50s/it]"
     ]
    },
    {
     "name": "stdout",
     "output_type": "stream",
     "text": [
      "/Users/jessecoulter/Downloads/FIN377/CEOPersonalities-/matched_pictures/Larry Ellison/2010\n"
     ]
    },
    {
     "name": "stderr",
     "output_type": "stream",
     "text": [
      "\n",
      "Finding actions:   0%|                                    | 0/4 [00:00<?, ?it/s]\u001b[A\n",
      "Action: age:   0%|                                        | 0/4 [00:00<?, ?it/s]\u001b[A\n",
      "Action: age:  25%|████████                        | 1/4 [00:00<00:00,  4.89it/s]\u001b[A\n",
      "Action: gender:  25%|███████▎                     | 1/4 [00:00<00:00,  4.89it/s]\u001b[A\n",
      "Action: gender:  50%|██████████████▌              | 2/4 [00:00<00:00,  4.87it/s]\u001b[A\n",
      "Action: race:  50%|███████████████▌               | 2/4 [00:00<00:00,  4.87it/s]\u001b[A\n",
      "Action: race:  75%|███████████████████████▎       | 3/4 [00:00<00:00,  4.89it/s]\u001b[A\n",
      "Action: emotion: 100%|████████████████████████████| 4/4 [00:00<00:00,  6.35it/s]\u001b[A\n",
      "61it [01:12,  1.26s/it]"
     ]
    },
    {
     "name": "stdout",
     "output_type": "stream",
     "text": [
      "/Users/jessecoulter/Downloads/FIN377/CEOPersonalities-/matched_pictures/Larry Ellison/2011\n"
     ]
    },
    {
     "name": "stderr",
     "output_type": "stream",
     "text": [
      "\n",
      "Finding actions:   0%|                                    | 0/4 [00:00<?, ?it/s]\u001b[A\n",
      "Action: age:   0%|                                        | 0/4 [00:00<?, ?it/s]\u001b[A\n",
      "Action: age:  25%|████████                        | 1/4 [00:00<00:00,  4.70it/s]\u001b[A\n",
      "Action: gender:  25%|███████▎                     | 1/4 [00:00<00:00,  4.70it/s]\u001b[A\n",
      "Action: gender:  50%|██████████████▌              | 2/4 [00:00<00:00,  4.81it/s]\u001b[A\n",
      "Action: race:  50%|███████████████▌               | 2/4 [00:00<00:00,  4.81it/s]\u001b[A\n",
      "Action: race:  75%|███████████████████████▎       | 3/4 [00:00<00:00,  4.83it/s]\u001b[A\n",
      "Action: emotion: 100%|████████████████████████████| 4/4 [00:00<00:00,  6.25it/s]\u001b[A\n",
      "\n",
      "Finding actions:   0%|                                    | 0/4 [00:00<?, ?it/s]\u001b[A\n",
      "Action: age:   0%|                                        | 0/4 [00:00<?, ?it/s]\u001b[A\n",
      "Action: age:  25%|████████                        | 1/4 [00:00<00:00,  4.87it/s]\u001b[A\n",
      "Action: gender:  25%|███████▎                     | 1/4 [00:00<00:00,  4.87it/s]\u001b[A\n",
      "Action: gender:  50%|██████████████▌              | 2/4 [00:00<00:00,  4.89it/s]\u001b[A\n",
      "Action: race:  50%|███████████████▌               | 2/4 [00:00<00:00,  4.89it/s]\u001b[A\n",
      "Action: race:  75%|███████████████████████▎       | 3/4 [00:00<00:00,  4.93it/s]\u001b[A\n",
      "Action: emotion: 100%|████████████████████████████| 4/4 [00:00<00:00,  6.38it/s]\u001b[A\n",
      "62it [01:17,  2.32s/it]"
     ]
    },
    {
     "name": "stdout",
     "output_type": "stream",
     "text": [
      "/Users/jessecoulter/Downloads/FIN377/CEOPersonalities-/matched_pictures/Larry Ellison/2012\n"
     ]
    },
    {
     "name": "stderr",
     "output_type": "stream",
     "text": [
      "\n",
      "Finding actions:   0%|                                    | 0/4 [00:00<?, ?it/s]\u001b[A\n",
      "Action: age:   0%|                                        | 0/4 [00:00<?, ?it/s]\u001b[A\n",
      "Action: age:  25%|████████                        | 1/4 [00:00<00:00,  4.98it/s]\u001b[A\n",
      "Action: gender:  25%|███████▎                     | 1/4 [00:00<00:00,  4.98it/s]\u001b[A\n",
      "Action: gender:  50%|██████████████▌              | 2/4 [00:00<00:00,  4.91it/s]\u001b[A\n",
      "Action: race:  50%|███████████████▌               | 2/4 [00:00<00:00,  4.91it/s]\u001b[A\n",
      "Action: race:  75%|███████████████████████▎       | 3/4 [00:00<00:00,  4.87it/s]\u001b[A\n",
      "Action: emotion: 100%|████████████████████████████| 4/4 [00:00<00:00,  6.34it/s]\u001b[A\n",
      "63it [01:18,  1.83s/it]"
     ]
    },
    {
     "name": "stdout",
     "output_type": "stream",
     "text": [
      "/Users/jessecoulter/Downloads/FIN377/CEOPersonalities-/matched_pictures/Larry Ellison/2013\n"
     ]
    },
    {
     "name": "stderr",
     "output_type": "stream",
     "text": [
      "\n",
      "Finding actions:   0%|                                    | 0/4 [00:00<?, ?it/s]\u001b[A\n",
      "Action: age:   0%|                                        | 0/4 [00:00<?, ?it/s]\u001b[A\n",
      "Action: age:  25%|████████                        | 1/4 [00:00<00:00,  4.84it/s]\u001b[A\n",
      "Action: gender:  25%|███████▎                     | 1/4 [00:00<00:00,  4.84it/s]\u001b[A\n",
      "Action: gender:  50%|██████████████▌              | 2/4 [00:00<00:00,  4.82it/s]\u001b[A\n",
      "Action: race:  50%|███████████████▌               | 2/4 [00:00<00:00,  4.82it/s]\u001b[A\n",
      "Action: race:  75%|███████████████████████▎       | 3/4 [00:00<00:00,  4.84it/s]\u001b[A\n",
      "Action: emotion: 100%|████████████████████████████| 4/4 [00:00<00:00,  6.29it/s]\u001b[A\n",
      "64it [01:19,  1.60s/it]"
     ]
    },
    {
     "name": "stdout",
     "output_type": "stream",
     "text": [
      "/Users/jessecoulter/Downloads/FIN377/CEOPersonalities-/matched_pictures/Safra Catz & Mark Hurd/2014\n"
     ]
    },
    {
     "name": "stderr",
     "output_type": "stream",
     "text": [
      "\n",
      "Finding actions:   0%|                                    | 0/4 [00:00<?, ?it/s]\u001b[A\n",
      "Action: age:   0%|                                        | 0/4 [00:00<?, ?it/s]\u001b[A\n",
      "Action: age:  25%|████████                        | 1/4 [00:00<00:00,  4.87it/s]\u001b[A\n",
      "Action: gender:  25%|███████▎                     | 1/4 [00:00<00:00,  4.87it/s]\u001b[A\n",
      "Action: gender:  50%|██████████████▌              | 2/4 [00:00<00:00,  4.84it/s]\u001b[A\n",
      "Action: race:  50%|███████████████▌               | 2/4 [00:00<00:00,  4.84it/s]\u001b[A\n",
      "Action: race:  75%|███████████████████████▎       | 3/4 [00:00<00:00,  4.86it/s]\u001b[A\n",
      "Action: emotion: 100%|████████████████████████████| 4/4 [00:00<00:00,  6.32it/s]\u001b[A\n",
      "65it [01:20,  1.33s/it]"
     ]
    },
    {
     "name": "stdout",
     "output_type": "stream",
     "text": [
      "/Users/jessecoulter/Downloads/FIN377/CEOPersonalities-/matched_pictures/Safra Catz & Mark Hurd/2015\n"
     ]
    },
    {
     "name": "stderr",
     "output_type": "stream",
     "text": [
      "\n",
      "Finding actions:   0%|                                    | 0/4 [00:00<?, ?it/s]\u001b[A\n",
      "Action: age:   0%|                                        | 0/4 [00:00<?, ?it/s]\u001b[A\n",
      "Action: age:  25%|████████                        | 1/4 [00:00<00:00,  4.70it/s]\u001b[A\n",
      "Action: gender:  25%|███████▎                     | 1/4 [00:00<00:00,  4.70it/s]\u001b[A\n",
      "Action: gender:  50%|██████████████▌              | 2/4 [00:00<00:00,  4.79it/s]\u001b[A\n",
      "Action: race:  50%|███████████████▌               | 2/4 [00:00<00:00,  4.79it/s]\u001b[A\n",
      "Action: race:  75%|███████████████████████▎       | 3/4 [00:00<00:00,  4.80it/s]\u001b[A\n",
      "Action: emotion: 100%|████████████████████████████| 4/4 [00:00<00:00,  6.23it/s]\u001b[A\n",
      "\n",
      "Finding actions:   0%|                                    | 0/4 [00:00<?, ?it/s]\u001b[A\n",
      "Action: age:   0%|                                        | 0/4 [00:00<?, ?it/s]\u001b[A\n",
      "Action: age:  25%|████████                        | 1/4 [00:00<00:00,  4.85it/s]\u001b[A\n",
      "Action: gender:  25%|███████▎                     | 1/4 [00:00<00:00,  4.85it/s]\u001b[A\n",
      "Action: gender:  50%|██████████████▌              | 2/4 [00:00<00:00,  4.87it/s]\u001b[A\n",
      "Action: race:  50%|███████████████▌               | 2/4 [00:00<00:00,  4.87it/s]\u001b[A\n",
      "Action: race:  75%|███████████████████████▎       | 3/4 [00:00<00:00,  4.86it/s]\u001b[A\n",
      "Action: emotion: 100%|████████████████████████████| 4/4 [00:00<00:00,  6.31it/s]\u001b[A\n",
      "\n",
      "Finding actions:   0%|                                    | 0/4 [00:00<?, ?it/s]\u001b[A\n",
      "Action: age:   0%|                                        | 0/4 [00:00<?, ?it/s]\u001b[A\n",
      "Action: age:  25%|████████                        | 1/4 [00:00<00:00,  4.85it/s]\u001b[A\n",
      "Action: gender:  25%|███████▎                     | 1/4 [00:00<00:00,  4.85it/s]\u001b[A\n",
      "Action: gender:  50%|██████████████▌              | 2/4 [00:00<00:00,  4.83it/s]\u001b[A\n",
      "Action: race:  50%|███████████████▌               | 2/4 [00:00<00:00,  4.83it/s]\u001b[A\n",
      "Action: race:  75%|███████████████████████▎       | 3/4 [00:00<00:00,  4.80it/s]\u001b[A\n",
      "Action: emotion: 100%|████████████████████████████| 4/4 [00:00<00:00,  6.25it/s]\u001b[A\n",
      "66it [01:22,  1.57s/it]"
     ]
    },
    {
     "name": "stdout",
     "output_type": "stream",
     "text": [
      "/Users/jessecoulter/Downloads/FIN377/CEOPersonalities-/matched_pictures/Safra Catz & Mark Hurd/2016\n"
     ]
    },
    {
     "name": "stderr",
     "output_type": "stream",
     "text": [
      "\n",
      "Finding actions:   0%|                                    | 0/4 [00:00<?, ?it/s]\u001b[A\n",
      "Action: age:   0%|                                        | 0/4 [00:00<?, ?it/s]\u001b[A\n",
      "Action: age:  25%|████████                        | 1/4 [00:00<00:00,  4.87it/s]\u001b[A\n",
      "Action: gender:  25%|███████▎                     | 1/4 [00:00<00:00,  4.87it/s]\u001b[A\n",
      "Action: gender:  50%|██████████████▌              | 2/4 [00:00<00:00,  4.86it/s]\u001b[A\n",
      "Action: race:  50%|███████████████▌               | 2/4 [00:00<00:00,  4.86it/s]\u001b[A\n",
      "Action: race:  75%|███████████████████████▎       | 3/4 [00:00<00:00,  4.89it/s]\u001b[A\n",
      "Action: emotion: 100%|████████████████████████████| 4/4 [00:00<00:00,  6.34it/s]\u001b[A\n",
      "67it [01:23,  1.31s/it]"
     ]
    },
    {
     "name": "stdout",
     "output_type": "stream",
     "text": [
      "/Users/jessecoulter/Downloads/FIN377/CEOPersonalities-/matched_pictures/Safra Catz & Mark Hurd/2017\n"
     ]
    },
    {
     "name": "stderr",
     "output_type": "stream",
     "text": [
      "\n",
      "Finding actions:   0%|                                    | 0/4 [00:00<?, ?it/s]\u001b[A\n",
      "Action: age:   0%|                                        | 0/4 [00:00<?, ?it/s]\u001b[A\n",
      "Action: age:  25%|████████                        | 1/4 [00:00<00:00,  4.80it/s]\u001b[A\n",
      "Action: gender:  25%|███████▎                     | 1/4 [00:00<00:00,  4.80it/s]\u001b[A\n",
      "Action: gender:  50%|██████████████▌              | 2/4 [00:00<00:00,  4.80it/s]\u001b[A\n",
      "Action: race:  50%|███████████████▌               | 2/4 [00:00<00:00,  4.80it/s]\u001b[A\n",
      "Action: race:  75%|███████████████████████▎       | 3/4 [00:00<00:00,  4.82it/s]\u001b[A\n",
      "Action: emotion: 100%|████████████████████████████| 4/4 [00:00<00:00,  6.25it/s]\u001b[A\n",
      "68it [01:26,  1.87s/it]"
     ]
    },
    {
     "name": "stdout",
     "output_type": "stream",
     "text": [
      "/Users/jessecoulter/Downloads/FIN377/CEOPersonalities-/matched_pictures/Safra Catz & Mark Hurd/2018\n"
     ]
    },
    {
     "name": "stderr",
     "output_type": "stream",
     "text": [
      "\n",
      "Finding actions:   0%|                                    | 0/4 [00:00<?, ?it/s]\u001b[A\n",
      "Action: age:   0%|                                        | 0/4 [00:00<?, ?it/s]\u001b[A\n",
      "Action: age:  25%|████████                        | 1/4 [00:00<00:00,  4.55it/s]\u001b[A\n",
      "Action: gender:  25%|███████▎                     | 1/4 [00:00<00:00,  4.55it/s]\u001b[A\n",
      "Action: gender:  50%|██████████████▌              | 2/4 [00:00<00:00,  4.73it/s]\u001b[A\n",
      "Action: race:  50%|███████████████▌               | 2/4 [00:00<00:00,  4.73it/s]\u001b[A\n",
      "Action: race:  75%|███████████████████████▎       | 3/4 [00:00<00:00,  4.78it/s]\u001b[A\n",
      "Action: emotion: 100%|████████████████████████████| 4/4 [00:00<00:00,  6.17it/s]\u001b[A\n",
      "69it [01:27,  1.54s/it]"
     ]
    },
    {
     "name": "stdout",
     "output_type": "stream",
     "text": [
      "/Users/jessecoulter/Downloads/FIN377/CEOPersonalities-/matched_pictures/Safra Catz & Mark Hurd/2019\n",
      "Error analyzing /Users/jessecoulter/Downloads/FIN377/CEOPersonalities-/matched_pictures/Safra Catz & Mark Hurd/2019/pic3.jpg: Face could not be detected in /Users/jessecoulter/Downloads/FIN377/CEOPersonalities-/matched_pictures/Safra Catz & Mark Hurd/2019/pic3.jpg.Please confirm that the picture is a face photo or consider to set enforce_detection param to False.\n",
      "/Users/jessecoulter/Downloads/FIN377/CEOPersonalities-/matched_pictures/Marc Benioff/2010\n"
     ]
    },
    {
     "name": "stderr",
     "output_type": "stream",
     "text": [
      "\n",
      "Finding actions:   0%|                                    | 0/4 [00:00<?, ?it/s]\u001b[A\n",
      "Action: age:   0%|                                        | 0/4 [00:00<?, ?it/s]\u001b[A\n",
      "Action: age:  25%|████████                        | 1/4 [00:00<00:00,  4.85it/s]\u001b[A\n",
      "Action: gender:  25%|███████▎                     | 1/4 [00:00<00:00,  4.85it/s]\u001b[A\n",
      "Action: gender:  50%|██████████████▌              | 2/4 [00:00<00:00,  4.81it/s]\u001b[A\n",
      "Action: race:  50%|███████████████▌               | 2/4 [00:00<00:00,  4.81it/s]\u001b[A\n",
      "Action: race:  75%|███████████████████████▎       | 3/4 [00:00<00:00,  4.84it/s]\u001b[A\n",
      "Action: emotion: 100%|████████████████████████████| 4/4 [00:00<00:00,  6.29it/s]\u001b[A\n",
      "71it [01:27,  1.01it/s]"
     ]
    },
    {
     "name": "stdout",
     "output_type": "stream",
     "text": [
      "/Users/jessecoulter/Downloads/FIN377/CEOPersonalities-/matched_pictures/Marc Benioff/2011\n"
     ]
    },
    {
     "name": "stderr",
     "output_type": "stream",
     "text": [
      "\n",
      "Finding actions:   0%|                                    | 0/4 [00:00<?, ?it/s]\u001b[A\n",
      "Action: age:   0%|                                        | 0/4 [00:00<?, ?it/s]\u001b[A\n",
      "Action: age:  25%|████████                        | 1/4 [00:00<00:00,  5.00it/s]\u001b[A\n",
      "Action: gender:  25%|███████▎                     | 1/4 [00:00<00:00,  5.00it/s]\u001b[A\n",
      "Action: gender:  50%|██████████████▌              | 2/4 [00:00<00:00,  4.91it/s]\u001b[A\n",
      "Action: race:  50%|███████████████▌               | 2/4 [00:00<00:00,  4.91it/s]\u001b[A\n",
      "Action: race:  75%|███████████████████████▎       | 3/4 [00:00<00:00,  4.86it/s]\u001b[A\n",
      "Action: emotion: 100%|████████████████████████████| 4/4 [00:00<00:00,  6.34it/s]\u001b[A\n",
      "72it [01:29,  1.10s/it]"
     ]
    },
    {
     "name": "stdout",
     "output_type": "stream",
     "text": [
      "/Users/jessecoulter/Downloads/FIN377/CEOPersonalities-/matched_pictures/Marc Benioff/2012\n"
     ]
    },
    {
     "name": "stderr",
     "output_type": "stream",
     "text": [
      "\n",
      "Finding actions:   0%|                                    | 0/4 [00:00<?, ?it/s]\u001b[A\n",
      "Action: age:   0%|                                        | 0/4 [00:00<?, ?it/s]\u001b[A\n",
      "Action: age:  25%|████████                        | 1/4 [00:00<00:00,  4.90it/s]\u001b[A\n",
      "Action: gender:  25%|███████▎                     | 1/4 [00:00<00:00,  4.90it/s]\u001b[A\n",
      "Action: gender:  50%|██████████████▌              | 2/4 [00:00<00:00,  4.81it/s]\u001b[A\n",
      "Action: race:  50%|███████████████▌               | 2/4 [00:00<00:00,  4.81it/s]\u001b[A\n",
      "Action: race:  75%|███████████████████████▎       | 3/4 [00:00<00:00,  4.80it/s]\u001b[A\n",
      "Action: emotion: 100%|████████████████████████████| 4/4 [00:00<00:00,  6.25it/s]\u001b[A\n",
      "73it [01:29,  1.00it/s]"
     ]
    },
    {
     "name": "stdout",
     "output_type": "stream",
     "text": [
      "/Users/jessecoulter/Downloads/FIN377/CEOPersonalities-/matched_pictures/Marc Benioff/2013\n"
     ]
    },
    {
     "name": "stderr",
     "output_type": "stream",
     "text": [
      "\n",
      "Finding actions:   0%|                                    | 0/4 [00:00<?, ?it/s]\u001b[A\n",
      "Action: age:   0%|                                        | 0/4 [00:00<?, ?it/s]\u001b[A\n",
      "Action: age:  25%|████████                        | 1/4 [00:00<00:00,  4.86it/s]\u001b[A\n",
      "Action: gender:  25%|███████▎                     | 1/4 [00:00<00:00,  4.86it/s]\u001b[A\n",
      "Action: gender:  50%|██████████████▌              | 2/4 [00:00<00:00,  4.84it/s]\u001b[A\n",
      "Action: race:  50%|███████████████▌               | 2/4 [00:00<00:00,  4.84it/s]\u001b[A\n",
      "Action: race:  75%|███████████████████████▎       | 3/4 [00:00<00:00,  4.83it/s]\u001b[A\n",
      "Action: emotion: 100%|████████████████████████████| 4/4 [00:00<00:00,  6.28it/s]\u001b[A\n",
      "74it [01:30,  1.05it/s]"
     ]
    },
    {
     "name": "stdout",
     "output_type": "stream",
     "text": [
      "/Users/jessecoulter/Downloads/FIN377/CEOPersonalities-/matched_pictures/Marc Benioff/2014\n"
     ]
    },
    {
     "name": "stderr",
     "output_type": "stream",
     "text": [
      "\n",
      "Finding actions:   0%|                                    | 0/4 [00:00<?, ?it/s]\u001b[A\n",
      "Action: age:   0%|                                        | 0/4 [00:00<?, ?it/s]\u001b[A\n",
      "Action: age:  25%|████████                        | 1/4 [00:00<00:00,  4.86it/s]\u001b[A\n",
      "Action: gender:  25%|███████▎                     | 1/4 [00:00<00:00,  4.86it/s]\u001b[A\n",
      "Action: gender:  50%|██████████████▌              | 2/4 [00:00<00:00,  4.85it/s]\u001b[A\n",
      "Action: race:  50%|███████████████▌               | 2/4 [00:00<00:00,  4.85it/s]\u001b[A\n",
      "Action: race:  75%|███████████████████████▎       | 3/4 [00:00<00:00,  4.84it/s]\u001b[A\n",
      "Action: emotion: 100%|████████████████████████████| 4/4 [00:00<00:00,  6.30it/s]\u001b[A\n",
      "75it [01:31,  1.13it/s]"
     ]
    },
    {
     "name": "stdout",
     "output_type": "stream",
     "text": [
      "/Users/jessecoulter/Downloads/FIN377/CEOPersonalities-/matched_pictures/Marc Benioff/2015\n"
     ]
    },
    {
     "name": "stderr",
     "output_type": "stream",
     "text": [
      "\n",
      "Finding actions:   0%|                                    | 0/4 [00:00<?, ?it/s]\u001b[A\n",
      "Action: age:   0%|                                        | 0/4 [00:00<?, ?it/s]\u001b[A\n",
      "Action: age:  25%|████████                        | 1/4 [00:00<00:00,  5.00it/s]\u001b[A\n",
      "Action: gender:  25%|███████▎                     | 1/4 [00:00<00:00,  5.00it/s]\u001b[A\n",
      "Action: gender:  50%|██████████████▌              | 2/4 [00:00<00:00,  4.90it/s]\u001b[A\n",
      "Action: race:  50%|███████████████▌               | 2/4 [00:00<00:00,  4.90it/s]\u001b[A\n",
      "Action: race:  75%|███████████████████████▎       | 3/4 [00:00<00:00,  4.83it/s]\u001b[A\n",
      "Action: emotion: 100%|████████████████████████████| 4/4 [00:00<00:00,  6.30it/s]\u001b[A\n",
      "77it [01:32,  1.35it/s]"
     ]
    },
    {
     "name": "stdout",
     "output_type": "stream",
     "text": [
      "/Users/jessecoulter/Downloads/FIN377/CEOPersonalities-/matched_pictures/Marc Benioff/2016\n",
      "Error analyzing /Users/jessecoulter/Downloads/FIN377/CEOPersonalities-/matched_pictures/Marc Benioff/2016/pic3.png: Face could not be detected in /Users/jessecoulter/Downloads/FIN377/CEOPersonalities-/matched_pictures/Marc Benioff/2016/pic3.png.Please confirm that the picture is a face photo or consider to set enforce_detection param to False.\n",
      "/Users/jessecoulter/Downloads/FIN377/CEOPersonalities-/matched_pictures/Marc Benioff/2017\n"
     ]
    },
    {
     "name": "stderr",
     "output_type": "stream",
     "text": [
      "\n",
      "Finding actions:   0%|                                    | 0/4 [00:00<?, ?it/s]\u001b[A\n",
      "Action: age:   0%|                                        | 0/4 [00:00<?, ?it/s]\u001b[A\n",
      "Action: age:  25%|████████                        | 1/4 [00:00<00:00,  5.13it/s]\u001b[A\n",
      "Action: gender:  25%|███████▎                     | 1/4 [00:00<00:00,  5.13it/s]\u001b[A\n",
      "Action: gender:  50%|██████████████▌              | 2/4 [00:00<00:00,  4.96it/s]\u001b[A\n",
      "Action: race:  50%|███████████████▌               | 2/4 [00:00<00:00,  4.96it/s]\u001b[A\n",
      "Action: race:  75%|███████████████████████▎       | 3/4 [00:00<00:00,  4.92it/s]\u001b[A\n",
      "Action: emotion: 100%|████████████████████████████| 4/4 [00:00<00:00,  6.43it/s]\u001b[A\n",
      "78it [01:34,  1.08it/s]"
     ]
    },
    {
     "name": "stdout",
     "output_type": "stream",
     "text": [
      "/Users/jessecoulter/Downloads/FIN377/CEOPersonalities-/matched_pictures/Marc Benioff/2018\n"
     ]
    },
    {
     "name": "stderr",
     "output_type": "stream",
     "text": [
      "\n",
      "Finding actions:   0%|                                    | 0/4 [00:00<?, ?it/s]\u001b[A\n",
      "Action: age:   0%|                                        | 0/4 [00:00<?, ?it/s]\u001b[A\n",
      "Action: age:  25%|████████                        | 1/4 [00:00<00:00,  4.82it/s]\u001b[A\n",
      "Action: gender:  25%|███████▎                     | 1/4 [00:00<00:00,  4.82it/s]\u001b[A\n",
      "Action: gender:  50%|██████████████▌              | 2/4 [00:00<00:00,  4.85it/s]\u001b[A\n",
      "Action: race:  50%|███████████████▌               | 2/4 [00:00<00:00,  4.85it/s]\u001b[A\n",
      "Action: race:  75%|███████████████████████▎       | 3/4 [00:00<00:00,  4.85it/s]\u001b[A\n",
      "Action: emotion: 100%|████████████████████████████| 4/4 [00:00<00:00,  6.30it/s]\u001b[A\n",
      "79it [01:34,  1.15it/s]"
     ]
    },
    {
     "name": "stdout",
     "output_type": "stream",
     "text": [
      "/Users/jessecoulter/Downloads/FIN377/CEOPersonalities-/matched_pictures/Marc Benioff/2019\n"
     ]
    },
    {
     "name": "stderr",
     "output_type": "stream",
     "text": [
      "\n",
      "Finding actions:   0%|                                    | 0/4 [00:00<?, ?it/s]\u001b[A\n",
      "Action: age:   0%|                                        | 0/4 [00:00<?, ?it/s]\u001b[A\n",
      "Action: age:  25%|████████                        | 1/4 [00:00<00:00,  4.83it/s]\u001b[A\n",
      "Action: gender:  25%|███████▎                     | 1/4 [00:00<00:00,  4.83it/s]\u001b[A\n",
      "Action: gender:  50%|██████████████▌              | 2/4 [00:00<00:00,  4.80it/s]\u001b[A\n",
      "Action: race:  50%|███████████████▌               | 2/4 [00:00<00:00,  4.80it/s]\u001b[A\n",
      "Action: race:  75%|███████████████████████▎       | 3/4 [00:00<00:00,  4.77it/s]\u001b[A\n",
      "Action: emotion: 100%|████████████████████████████| 4/4 [00:00<00:00,  6.21it/s]\u001b[A\n",
      "80it [01:35,  1.23it/s]"
     ]
    },
    {
     "name": "stdout",
     "output_type": "stream",
     "text": [
      "/Users/jessecoulter/Downloads/FIN377/CEOPersonalities-/matched_pictures/Paul Otellini/2010\n"
     ]
    },
    {
     "name": "stderr",
     "output_type": "stream",
     "text": [
      "\n",
      "Finding actions:   0%|                                    | 0/4 [00:00<?, ?it/s]\u001b[A\n",
      "Action: age:   0%|                                        | 0/4 [00:00<?, ?it/s]\u001b[A\n",
      "Action: age:  25%|████████                        | 1/4 [00:00<00:00,  4.86it/s]\u001b[A\n",
      "Action: gender:  25%|███████▎                     | 1/4 [00:00<00:00,  4.86it/s]\u001b[A\n",
      "Action: gender:  50%|██████████████▌              | 2/4 [00:00<00:00,  4.83it/s]\u001b[A\n",
      "Action: race:  50%|███████████████▌               | 2/4 [00:00<00:00,  4.83it/s]\u001b[A\n",
      "Action: race:  75%|███████████████████████▎       | 3/4 [00:00<00:00,  4.84it/s]\u001b[A\n",
      "Action: emotion: 100%|████████████████████████████| 4/4 [00:00<00:00,  6.29it/s]\u001b[A\n",
      "81it [01:36,  1.28it/s]"
     ]
    },
    {
     "name": "stdout",
     "output_type": "stream",
     "text": [
      "/Users/jessecoulter/Downloads/FIN377/CEOPersonalities-/matched_pictures/Paul Otellini/2011\n"
     ]
    },
    {
     "name": "stderr",
     "output_type": "stream",
     "text": [
      "\n",
      "Finding actions:   0%|                                    | 0/4 [00:00<?, ?it/s]\u001b[A\n",
      "Action: age:   0%|                                        | 0/4 [00:00<?, ?it/s]\u001b[A\n",
      "Action: age:  25%|████████                        | 1/4 [00:00<00:00,  4.91it/s]\u001b[A\n",
      "Action: gender:  25%|███████▎                     | 1/4 [00:00<00:00,  4.91it/s]\u001b[A\n",
      "Action: gender:  50%|██████████████▌              | 2/4 [00:00<00:00,  4.63it/s]\u001b[A\n",
      "Action: race:  50%|███████████████▌               | 2/4 [00:00<00:00,  4.63it/s]\u001b[A\n",
      "Action: race:  75%|███████████████████████▎       | 3/4 [00:00<00:00,  4.73it/s]\u001b[A\n",
      "Action: emotion: 100%|████████████████████████████| 4/4 [00:00<00:00,  6.15it/s]\u001b[A\n",
      "\n",
      "Finding actions:   0%|                                    | 0/4 [00:00<?, ?it/s]\u001b[A\n",
      "Action: age:   0%|                                        | 0/4 [00:00<?, ?it/s]\u001b[A\n",
      "Action: age:  25%|████████                        | 1/4 [00:00<00:00,  4.81it/s]\u001b[A\n",
      "Action: gender:  25%|███████▎                     | 1/4 [00:00<00:00,  4.81it/s]\u001b[A\n",
      "Action: gender:  50%|██████████████▌              | 2/4 [00:00<00:00,  4.83it/s]\u001b[A\n",
      "Action: race:  50%|███████████████▌               | 2/4 [00:00<00:00,  4.83it/s]\u001b[A\n",
      "Action: race:  75%|███████████████████████▎       | 3/4 [00:00<00:00,  4.82it/s]\u001b[A\n",
      "Action: emotion: 100%|████████████████████████████| 4/4 [00:00<00:00,  6.26it/s]\u001b[A\n",
      "82it [01:37,  1.06it/s]"
     ]
    },
    {
     "name": "stdout",
     "output_type": "stream",
     "text": [
      "/Users/jessecoulter/Downloads/FIN377/CEOPersonalities-/matched_pictures/Paul Otellini/2012\n"
     ]
    },
    {
     "name": "stderr",
     "output_type": "stream",
     "text": [
      "\n",
      "Finding actions:   0%|                                    | 0/4 [00:00<?, ?it/s]\u001b[A\n",
      "Action: age:   0%|                                        | 0/4 [00:00<?, ?it/s]\u001b[A\n",
      "Action: age:  25%|████████                        | 1/4 [00:00<00:00,  4.86it/s]\u001b[A\n",
      "Action: gender:  25%|███████▎                     | 1/4 [00:00<00:00,  4.86it/s]\u001b[A\n",
      "Action: gender:  50%|██████████████▌              | 2/4 [00:00<00:00,  4.86it/s]\u001b[A\n",
      "Action: race:  50%|███████████████▌               | 2/4 [00:00<00:00,  4.86it/s]\u001b[A\n",
      "Action: race:  75%|███████████████████████▎       | 3/4 [00:00<00:00,  4.88it/s]\u001b[A\n",
      "Action: emotion: 100%|████████████████████████████| 4/4 [00:00<00:00,  6.33it/s]\u001b[A\n",
      "83it [01:38,  1.14it/s]"
     ]
    },
    {
     "name": "stdout",
     "output_type": "stream",
     "text": [
      "/Users/jessecoulter/Downloads/FIN377/CEOPersonalities-/matched_pictures/Brian Krzanich/2013\n"
     ]
    },
    {
     "name": "stderr",
     "output_type": "stream",
     "text": [
      "\n",
      "Finding actions:   0%|                                    | 0/4 [00:00<?, ?it/s]\u001b[A\n",
      "Action: age:   0%|                                        | 0/4 [00:00<?, ?it/s]\u001b[A\n",
      "Action: age:  25%|████████                        | 1/4 [00:00<00:00,  4.88it/s]\u001b[A\n",
      "Action: gender:  25%|███████▎                     | 1/4 [00:00<00:00,  4.88it/s]\u001b[A\n",
      "Action: gender:  50%|██████████████▌              | 2/4 [00:00<00:00,  4.85it/s]\u001b[A\n",
      "Action: race:  50%|███████████████▌               | 2/4 [00:00<00:00,  4.85it/s]\u001b[A\n",
      "Action: race:  75%|███████████████████████▎       | 3/4 [00:00<00:00,  4.84it/s]\u001b[A\n",
      "Action: emotion: 100%|████████████████████████████| 4/4 [00:00<00:00,  6.30it/s]\u001b[A\n",
      "\n",
      "Finding actions:   0%|                                    | 0/4 [00:00<?, ?it/s]\u001b[A\n",
      "Action: age:   0%|                                        | 0/4 [00:00<?, ?it/s]\u001b[A\n",
      "Action: age:  25%|████████                        | 1/4 [00:00<00:00,  4.88it/s]\u001b[A\n",
      "Action: gender:  25%|███████▎                     | 1/4 [00:00<00:00,  4.88it/s]\u001b[A\n",
      "Action: gender:  50%|██████████████▌              | 2/4 [00:00<00:00,  4.76it/s]\u001b[A\n",
      "Action: race:  50%|███████████████▌               | 2/4 [00:00<00:00,  4.76it/s]\u001b[A\n",
      "Action: race:  75%|███████████████████████▎       | 3/4 [00:00<00:00,  4.79it/s]\u001b[A\n",
      "Action: emotion: 100%|████████████████████████████| 4/4 [00:00<00:00,  6.23it/s]\u001b[A\n",
      "84it [01:40,  1.18s/it]"
     ]
    },
    {
     "name": "stdout",
     "output_type": "stream",
     "text": [
      "/Users/jessecoulter/Downloads/FIN377/CEOPersonalities-/matched_pictures/Brian Krzanich/2014\n"
     ]
    },
    {
     "name": "stderr",
     "output_type": "stream",
     "text": [
      "\n",
      "Finding actions:   0%|                                    | 0/4 [00:00<?, ?it/s]\u001b[A\n",
      "Action: age:   0%|                                        | 0/4 [00:00<?, ?it/s]\u001b[A\n",
      "Action: age:  25%|████████                        | 1/4 [00:00<00:00,  4.75it/s]\u001b[A\n",
      "Action: gender:  25%|███████▎                     | 1/4 [00:00<00:00,  4.75it/s]\u001b[A\n",
      "Action: gender:  50%|██████████████▌              | 2/4 [00:00<00:00,  4.78it/s]\u001b[A\n",
      "Action: race:  50%|███████████████▌               | 2/4 [00:00<00:00,  4.78it/s]\u001b[A\n",
      "Action: race:  75%|███████████████████████▎       | 3/4 [00:00<00:00,  4.80it/s]\u001b[A\n",
      "Action: emotion: 100%|████████████████████████████| 4/4 [00:00<00:00,  6.23it/s]\u001b[A\n",
      "85it [01:42,  1.55s/it]"
     ]
    },
    {
     "name": "stdout",
     "output_type": "stream",
     "text": [
      "/Users/jessecoulter/Downloads/FIN377/CEOPersonalities-/matched_pictures/Brian Krzanich/2015\n"
     ]
    },
    {
     "name": "stderr",
     "output_type": "stream",
     "text": [
      "\n",
      "Finding actions:   0%|                                    | 0/4 [00:00<?, ?it/s]\u001b[A\n",
      "Action: age:   0%|                                        | 0/4 [00:00<?, ?it/s]\u001b[A\n",
      "Action: age:  25%|████████                        | 1/4 [00:00<00:00,  4.86it/s]\u001b[A\n",
      "Action: gender:  25%|███████▎                     | 1/4 [00:00<00:00,  4.86it/s]\u001b[A\n",
      "Action: gender:  50%|██████████████▌              | 2/4 [00:00<00:00,  4.87it/s]\u001b[A\n",
      "Action: race:  50%|███████████████▌               | 2/4 [00:00<00:00,  4.87it/s]\u001b[A\n",
      "Action: race:  75%|███████████████████████▎       | 3/4 [00:00<00:00,  4.86it/s]\u001b[A\n",
      "Action: emotion: 100%|████████████████████████████| 4/4 [00:00<00:00,  6.31it/s]\u001b[A\n",
      "86it [01:43,  1.29s/it]"
     ]
    },
    {
     "name": "stdout",
     "output_type": "stream",
     "text": [
      "/Users/jessecoulter/Downloads/FIN377/CEOPersonalities-/matched_pictures/Brian Krzanich/2016\n"
     ]
    },
    {
     "name": "stderr",
     "output_type": "stream",
     "text": [
      "\n",
      "Finding actions:   0%|                                    | 0/4 [00:00<?, ?it/s]\u001b[A\n",
      "Action: age:   0%|                                        | 0/4 [00:00<?, ?it/s]\u001b[A\n",
      "Action: age:  25%|████████                        | 1/4 [00:00<00:00,  4.79it/s]\u001b[A\n",
      "Action: gender:  25%|███████▎                     | 1/4 [00:00<00:00,  4.79it/s]\u001b[A\n",
      "Action: gender:  50%|██████████████▌              | 2/4 [00:00<00:00,  4.82it/s]\u001b[A\n",
      "Action: race:  50%|███████████████▌               | 2/4 [00:00<00:00,  4.82it/s]\u001b[A\n",
      "Action: race:  75%|███████████████████████▎       | 3/4 [00:00<00:00,  4.87it/s]\u001b[A\n",
      "Action: emotion: 100%|████████████████████████████| 4/4 [00:00<00:00,  6.30it/s]\u001b[A\n",
      "87it [01:44,  1.13s/it]"
     ]
    },
    {
     "name": "stdout",
     "output_type": "stream",
     "text": [
      "/Users/jessecoulter/Downloads/FIN377/CEOPersonalities-/matched_pictures/Brian Krzanich/2017\n"
     ]
    },
    {
     "name": "stderr",
     "output_type": "stream",
     "text": [
      "\n",
      "Finding actions:   0%|                                    | 0/4 [00:00<?, ?it/s]\u001b[A\n",
      "Action: age:   0%|                                        | 0/4 [00:00<?, ?it/s]\u001b[A\n",
      "Action: age:  25%|████████                        | 1/4 [00:00<00:00,  4.58it/s]\u001b[A\n",
      "Action: gender:  25%|███████▎                     | 1/4 [00:00<00:00,  4.58it/s]\u001b[A\n",
      "Action: gender:  50%|██████████████▌              | 2/4 [00:00<00:00,  4.58it/s]\u001b[A\n",
      "Action: race:  50%|███████████████▌               | 2/4 [00:00<00:00,  4.58it/s]\u001b[A\n",
      "Action: race:  75%|███████████████████████▎       | 3/4 [00:00<00:00,  4.59it/s]\u001b[A\n",
      "Action: emotion: 100%|████████████████████████████| 4/4 [00:00<00:00,  5.95it/s]\u001b[A\n",
      "\n",
      "Finding actions:   0%|                                    | 0/4 [00:00<?, ?it/s]\u001b[A\n",
      "Action: age:   0%|                                        | 0/4 [00:00<?, ?it/s]\u001b[A\n",
      "Action: age:  25%|████████                        | 1/4 [00:00<00:00,  4.47it/s]\u001b[A\n",
      "Action: gender:  25%|███████▎                     | 1/4 [00:00<00:00,  4.47it/s]\u001b[A\n",
      "Action: gender:  50%|██████████████▌              | 2/4 [00:00<00:00,  4.64it/s]\u001b[A\n",
      "Action: race:  50%|███████████████▌               | 2/4 [00:00<00:00,  4.64it/s]\u001b[A\n",
      "Action: race:  75%|███████████████████████▎       | 3/4 [00:00<00:00,  4.75it/s]\u001b[A\n",
      "Action: emotion: 100%|████████████████████████████| 4/4 [00:00<00:00,  6.12it/s]\u001b[A\n",
      "88it [01:47,  1.79s/it]"
     ]
    },
    {
     "name": "stdout",
     "output_type": "stream",
     "text": [
      "/Users/jessecoulter/Downloads/FIN377/CEOPersonalities-/matched_pictures/Bob Swan/2018\n"
     ]
    },
    {
     "name": "stderr",
     "output_type": "stream",
     "text": [
      "\n",
      "Finding actions:   0%|                                    | 0/4 [00:00<?, ?it/s]\u001b[A\n",
      "Action: age:   0%|                                        | 0/4 [00:00<?, ?it/s]\u001b[A\n",
      "Action: age:  25%|████████                        | 1/4 [00:00<00:00,  4.90it/s]\u001b[A\n",
      "Action: gender:  25%|███████▎                     | 1/4 [00:00<00:00,  4.90it/s]\u001b[A\n",
      "Action: gender:  50%|██████████████▌              | 2/4 [00:00<00:00,  4.86it/s]\u001b[A\n",
      "Action: race:  50%|███████████████▌               | 2/4 [00:00<00:00,  4.86it/s]\u001b[A\n",
      "Action: race:  75%|███████████████████████▎       | 3/4 [00:00<00:00,  4.85it/s]\u001b[A\n",
      "Action: emotion: 100%|████████████████████████████| 4/4 [00:00<00:00,  6.31it/s]\u001b[A\n",
      "\n",
      "Finding actions:   0%|                                    | 0/4 [00:00<?, ?it/s]\u001b[A\n",
      "Action: age:   0%|                                        | 0/4 [00:00<?, ?it/s]\u001b[A\n",
      "Action: age:  25%|████████                        | 1/4 [00:00<00:00,  4.51it/s]\u001b[A\n",
      "Action: gender:  25%|███████▎                     | 1/4 [00:00<00:00,  4.51it/s]\u001b[A\n",
      "Action: gender:  50%|██████████████▌              | 2/4 [00:00<00:00,  4.68it/s]\u001b[A\n",
      "Action: race:  50%|███████████████▌               | 2/4 [00:00<00:00,  4.68it/s]\u001b[A\n",
      "Action: race:  75%|███████████████████████▎       | 3/4 [00:00<00:00,  4.72it/s]\u001b[A\n",
      "Action: emotion: 100%|████████████████████████████| 4/4 [00:00<00:00,  6.10it/s]\u001b[A\n",
      "89it [01:49,  1.98s/it]"
     ]
    },
    {
     "name": "stdout",
     "output_type": "stream",
     "text": [
      "/Users/jessecoulter/Downloads/FIN377/CEOPersonalities-/matched_pictures/Bob Swan/2019\n"
     ]
    },
    {
     "name": "stderr",
     "output_type": "stream",
     "text": [
      "\n",
      "Finding actions:   0%|                                    | 0/4 [00:00<?, ?it/s]\u001b[A\n",
      "Action: age:   0%|                                        | 0/4 [00:00<?, ?it/s]\u001b[A\n",
      "Action: age:  25%|████████                        | 1/4 [00:00<00:00,  4.79it/s]\u001b[A\n",
      "Action: gender:  25%|███████▎                     | 1/4 [00:00<00:00,  4.79it/s]\u001b[A\n",
      "Action: gender:  50%|██████████████▌              | 2/4 [00:00<00:00,  4.82it/s]\u001b[A\n",
      "Action: race:  50%|███████████████▌               | 2/4 [00:00<00:00,  4.82it/s]\u001b[A\n",
      "Action: race:  75%|███████████████████████▎       | 3/4 [00:00<00:00,  4.82it/s]\u001b[A\n",
      "Action: emotion: 100%|████████████████████████████| 4/4 [00:00<00:00,  6.26it/s]\u001b[A\n",
      "\n",
      "Finding actions:   0%|                                    | 0/4 [00:00<?, ?it/s]\u001b[A\n",
      "Action: age:   0%|                                        | 0/4 [00:00<?, ?it/s]\u001b[A\n",
      "Action: age:  25%|████████                        | 1/4 [00:00<00:00,  4.83it/s]\u001b[A\n",
      "Action: gender:  25%|███████▎                     | 1/4 [00:00<00:00,  4.83it/s]\u001b[A\n",
      "Action: gender:  50%|██████████████▌              | 2/4 [00:00<00:00,  4.87it/s]\u001b[A\n",
      "Action: race:  50%|███████████████▌               | 2/4 [00:00<00:00,  4.87it/s]\u001b[A\n",
      "Action: race:  75%|███████████████████████▎       | 3/4 [00:00<00:00,  4.86it/s]\u001b[A\n",
      "Action: emotion: 100%|████████████████████████████| 4/4 [00:00<00:00,  6.31it/s]\u001b[A\n",
      "\n",
      "Finding actions:   0%|                                    | 0/4 [00:00<?, ?it/s]\u001b[A\n",
      "Action: age:   0%|                                        | 0/4 [00:00<?, ?it/s]\u001b[A\n",
      "Action: age:  25%|████████                        | 1/4 [00:00<00:00,  4.79it/s]\u001b[A\n",
      "Action: gender:  25%|███████▎                     | 1/4 [00:00<00:00,  4.79it/s]\u001b[A\n",
      "Action: gender:  50%|██████████████▌              | 2/4 [00:00<00:00,  4.79it/s]\u001b[A\n",
      "Action: race:  50%|███████████████▌               | 2/4 [00:00<00:00,  4.79it/s]\u001b[A\n",
      "Action: race:  75%|███████████████████████▎       | 3/4 [00:00<00:00,  4.78it/s]\u001b[A\n",
      "Action: emotion: 100%|████████████████████████████| 4/4 [00:00<00:00,  6.21it/s]\u001b[A\n",
      "90it [01:52,  2.14s/it]"
     ]
    },
    {
     "name": "stdout",
     "output_type": "stream",
     "text": [
      "/Users/jessecoulter/Downloads/FIN377/CEOPersonalities-/matched_pictures/Richard K. Templeton/2010\n"
     ]
    },
    {
     "name": "stderr",
     "output_type": "stream",
     "text": [
      "\n",
      "Finding actions:   0%|                                    | 0/4 [00:00<?, ?it/s]\u001b[A\n",
      "Action: age:   0%|                                        | 0/4 [00:00<?, ?it/s]\u001b[A\n",
      "Action: age:  25%|████████                        | 1/4 [00:00<00:00,  4.74it/s]\u001b[A\n",
      "Action: gender:  25%|███████▎                     | 1/4 [00:00<00:00,  4.74it/s]\u001b[A\n",
      "Action: gender:  50%|██████████████▌              | 2/4 [00:00<00:00,  4.80it/s]\u001b[A\n",
      "Action: race:  50%|███████████████▌               | 2/4 [00:00<00:00,  4.80it/s]\u001b[A\n",
      "Action: race:  75%|███████████████████████▎       | 3/4 [00:00<00:00,  4.81it/s]\u001b[A\n",
      "Action: emotion: 100%|████████████████████████████| 4/4 [00:00<00:00,  6.24it/s]\u001b[A\n",
      "91it [01:52,  1.70s/it]"
     ]
    },
    {
     "name": "stdout",
     "output_type": "stream",
     "text": [
      "/Users/jessecoulter/Downloads/FIN377/CEOPersonalities-/matched_pictures/Richard K. Templeton/2011\n"
     ]
    },
    {
     "name": "stderr",
     "output_type": "stream",
     "text": [
      "\n",
      "Finding actions:   0%|                                    | 0/4 [00:00<?, ?it/s]\u001b[A\n",
      "Action: age:   0%|                                        | 0/4 [00:00<?, ?it/s]\u001b[A\n",
      "Action: age:  25%|████████                        | 1/4 [00:00<00:00,  4.82it/s]\u001b[A\n",
      "Action: gender:  25%|███████▎                     | 1/4 [00:00<00:00,  4.82it/s]\u001b[A\n",
      "Action: gender:  50%|██████████████▌              | 2/4 [00:00<00:00,  4.87it/s]\u001b[A\n",
      "Action: race:  50%|███████████████▌               | 2/4 [00:00<00:00,  4.87it/s]\u001b[A\n",
      "Action: race:  75%|███████████████████████▎       | 3/4 [00:00<00:00,  4.87it/s]\u001b[A\n",
      "Action: emotion: 100%|████████████████████████████| 4/4 [00:00<00:00,  6.33it/s]\u001b[A\n",
      "92it [01:53,  1.39s/it]"
     ]
    },
    {
     "name": "stdout",
     "output_type": "stream",
     "text": [
      "/Users/jessecoulter/Downloads/FIN377/CEOPersonalities-/matched_pictures/Richard K. Templeton/2012\n"
     ]
    },
    {
     "name": "stderr",
     "output_type": "stream",
     "text": [
      "\n",
      "Finding actions:   0%|                                    | 0/4 [00:00<?, ?it/s]\u001b[A\n",
      "Action: age:   0%|                                        | 0/4 [00:00<?, ?it/s]\u001b[A\n",
      "Action: age:  25%|████████                        | 1/4 [00:00<00:00,  4.79it/s]\u001b[A\n",
      "Action: gender:  25%|███████▎                     | 1/4 [00:00<00:00,  4.79it/s]\u001b[A\n",
      "Action: gender:  50%|██████████████▌              | 2/4 [00:00<00:00,  4.83it/s]\u001b[A\n",
      "Action: race:  50%|███████████████▌               | 2/4 [00:00<00:00,  4.83it/s]\u001b[A\n",
      "Action: race:  75%|███████████████████████▎       | 3/4 [00:00<00:00,  4.84it/s]\u001b[A\n",
      "Action: emotion: 100%|████████████████████████████| 4/4 [00:00<00:00,  6.28it/s]\u001b[A\n",
      "93it [01:54,  1.17s/it]libpng warning: iCCP: known incorrect sRGB profile\n"
     ]
    },
    {
     "name": "stdout",
     "output_type": "stream",
     "text": [
      "/Users/jessecoulter/Downloads/FIN377/CEOPersonalities-/matched_pictures/Richard K. Templeton/2013\n"
     ]
    },
    {
     "name": "stderr",
     "output_type": "stream",
     "text": [
      "94it [01:55,  1.13s/it]"
     ]
    },
    {
     "name": "stdout",
     "output_type": "stream",
     "text": [
      "Error analyzing /Users/jessecoulter/Downloads/FIN377/CEOPersonalities-/matched_pictures/Richard K. Templeton/2013/pic1.png: Face could not be detected in /Users/jessecoulter/Downloads/FIN377/CEOPersonalities-/matched_pictures/Richard K. Templeton/2013/pic1.png.Please confirm that the picture is a face photo or consider to set enforce_detection param to False.\n",
      "/Users/jessecoulter/Downloads/FIN377/CEOPersonalities-/matched_pictures/Richard K. Templeton/2014\n"
     ]
    },
    {
     "name": "stderr",
     "output_type": "stream",
     "text": [
      "\n",
      "Finding actions:   0%|                                    | 0/4 [00:00<?, ?it/s]\u001b[A\n",
      "Action: age:   0%|                                        | 0/4 [00:00<?, ?it/s]\u001b[A\n",
      "Action: age:  25%|████████                        | 1/4 [00:00<00:00,  4.60it/s]\u001b[A\n",
      "Action: gender:  25%|███████▎                     | 1/4 [00:00<00:00,  4.60it/s]\u001b[A\n",
      "Action: gender:  50%|██████████████▌              | 2/4 [00:00<00:00,  4.74it/s]\u001b[A\n",
      "Action: race:  50%|███████████████▌               | 2/4 [00:00<00:00,  4.74it/s]\u001b[A\n",
      "Action: race:  75%|███████████████████████▎       | 3/4 [00:00<00:00,  4.77it/s]\u001b[A\n",
      "Action: emotion: 100%|████████████████████████████| 4/4 [00:00<00:00,  6.17it/s]\u001b[A\n",
      "95it [01:56,  1.00it/s]"
     ]
    },
    {
     "name": "stdout",
     "output_type": "stream",
     "text": [
      "/Users/jessecoulter/Downloads/FIN377/CEOPersonalities-/matched_pictures/Richard K. Templeton/2015\n"
     ]
    },
    {
     "name": "stderr",
     "output_type": "stream",
     "text": [
      "\n",
      "Finding actions:   0%|                                    | 0/4 [00:00<?, ?it/s]\u001b[A\n",
      "Action: age:   0%|                                        | 0/4 [00:00<?, ?it/s]\u001b[A\n",
      "Action: age:  25%|████████                        | 1/4 [00:00<00:00,  4.82it/s]\u001b[A\n",
      "Action: gender:  25%|███████▎                     | 1/4 [00:00<00:00,  4.82it/s]\u001b[A\n",
      "Action: gender:  50%|██████████████▌              | 2/4 [00:00<00:00,  4.60it/s]\u001b[A\n",
      "Action: race:  50%|███████████████▌               | 2/4 [00:00<00:00,  4.60it/s]\u001b[A\n",
      "Action: race:  75%|███████████████████████▎       | 3/4 [00:00<00:00,  4.70it/s]\u001b[A\n",
      "Action: emotion: 100%|████████████████████████████| 4/4 [00:00<00:00,  6.11it/s]\u001b[A\n",
      "96it [01:57,  1.04s/it]"
     ]
    },
    {
     "name": "stdout",
     "output_type": "stream",
     "text": [
      "/Users/jessecoulter/Downloads/FIN377/CEOPersonalities-/matched_pictures/Richard K. Templeton/2016\n"
     ]
    },
    {
     "name": "stderr",
     "output_type": "stream",
     "text": [
      "\n",
      "Finding actions:   0%|                                    | 0/4 [00:00<?, ?it/s]\u001b[A\n",
      "Action: age:   0%|                                        | 0/4 [00:00<?, ?it/s]\u001b[A\n",
      "Action: age:  25%|████████                        | 1/4 [00:00<00:00,  4.82it/s]\u001b[A\n",
      "Action: gender:  25%|███████▎                     | 1/4 [00:00<00:00,  4.82it/s]\u001b[A\n",
      "Action: gender:  50%|██████████████▌              | 2/4 [00:00<00:00,  4.71it/s]\u001b[A\n",
      "Action: race:  50%|███████████████▌               | 2/4 [00:00<00:00,  4.71it/s]\u001b[A\n",
      "Action: race:  75%|███████████████████████▎       | 3/4 [00:00<00:00,  4.57it/s]\u001b[A\n",
      "Action: emotion: 100%|████████████████████████████| 4/4 [00:00<00:00,  5.99it/s]\u001b[A\n",
      "97it [01:57,  1.07it/s]"
     ]
    },
    {
     "name": "stdout",
     "output_type": "stream",
     "text": [
      "/Users/jessecoulter/Downloads/FIN377/CEOPersonalities-/matched_pictures/Richard K. Templeton/2017\n"
     ]
    },
    {
     "name": "stderr",
     "output_type": "stream",
     "text": [
      "\n",
      "Finding actions:   0%|                                    | 0/4 [00:00<?, ?it/s]\u001b[A\n",
      "Action: age:   0%|                                        | 0/4 [00:00<?, ?it/s]\u001b[A\n",
      "Action: age:  25%|████████                        | 1/4 [00:00<00:00,  4.69it/s]\u001b[A\n",
      "Action: gender:  25%|███████▎                     | 1/4 [00:00<00:00,  4.69it/s]\u001b[A\n",
      "Action: gender:  50%|██████████████▌              | 2/4 [00:00<00:00,  4.59it/s]\u001b[A\n",
      "Action: race:  50%|███████████████▌               | 2/4 [00:00<00:00,  4.59it/s]\u001b[A\n",
      "Action: race:  75%|███████████████████████▎       | 3/4 [00:00<00:00,  4.22it/s]\u001b[A\n",
      "Action: emotion: 100%|████████████████████████████| 4/4 [00:00<00:00,  5.62it/s]\u001b[A\n",
      "98it [01:58,  1.14it/s]"
     ]
    },
    {
     "name": "stdout",
     "output_type": "stream",
     "text": [
      "/Users/jessecoulter/Downloads/FIN377/CEOPersonalities-/matched_pictures/Brian Crutcher/2018\n"
     ]
    },
    {
     "name": "stderr",
     "output_type": "stream",
     "text": [
      "\n",
      "Finding actions:   0%|                                    | 0/4 [00:00<?, ?it/s]\u001b[A\n",
      "Action: age:   0%|                                        | 0/4 [00:00<?, ?it/s]\u001b[A\n",
      "Action: age:  25%|████████                        | 1/4 [00:00<00:00,  4.12it/s]\u001b[A\n",
      "Action: gender:  25%|███████▎                     | 1/4 [00:00<00:00,  4.12it/s]\u001b[A\n",
      "Action: gender:  50%|██████████████▌              | 2/4 [00:00<00:00,  4.21it/s]\u001b[A\n",
      "Action: race:  50%|███████████████▌               | 2/4 [00:00<00:00,  4.21it/s]\u001b[A\n",
      "Action: race:  75%|███████████████████████▎       | 3/4 [00:00<00:00,  4.27it/s]\u001b[A\n",
      "Action: emotion: 100%|████████████████████████████| 4/4 [00:00<00:00,  5.52it/s]\u001b[A\n",
      "99it [01:59,  1.09it/s]"
     ]
    },
    {
     "name": "stdout",
     "output_type": "stream",
     "text": [
      "/Users/jessecoulter/Downloads/FIN377/CEOPersonalities-/matched_pictures/Brian Crutcher/2019\n"
     ]
    },
    {
     "name": "stderr",
     "output_type": "stream",
     "text": [
      "\n",
      "Finding actions:   0%|                                    | 0/4 [00:00<?, ?it/s]\u001b[A\n",
      "Action: age:   0%|                                        | 0/4 [00:00<?, ?it/s]\u001b[A\n",
      "Action: age:  25%|████████                        | 1/4 [00:00<00:00,  4.27it/s]\u001b[A\n",
      "Action: gender:  25%|███████▎                     | 1/4 [00:00<00:00,  4.27it/s]\u001b[A\n",
      "Action: gender:  50%|██████████████▌              | 2/4 [00:00<00:00,  4.18it/s]\u001b[A\n",
      "Action: race:  50%|███████████████▌               | 2/4 [00:00<00:00,  4.18it/s]\u001b[A\n",
      "Action: race:  75%|███████████████████████▎       | 3/4 [00:00<00:00,  4.21it/s]\u001b[A\n",
      "Action: emotion: 100%|████████████████████████████| 4/4 [00:00<00:00,  5.48it/s]\u001b[A\n",
      "100it [02:00,  1.02s/it]"
     ]
    },
    {
     "name": "stdout",
     "output_type": "stream",
     "text": [
      "/Users/jessecoulter/Downloads/FIN377/CEOPersonalities-/matched_pictures/Paul E. Jacobs/2010\n"
     ]
    },
    {
     "name": "stderr",
     "output_type": "stream",
     "text": [
      "\n",
      "Finding actions:   0%|                                    | 0/4 [00:00<?, ?it/s]\u001b[A\n",
      "Action: age:   0%|                                        | 0/4 [00:00<?, ?it/s]\u001b[A\n",
      "Action: age:  25%|████████                        | 1/4 [00:00<00:00,  4.74it/s]\u001b[A\n",
      "Action: gender:  25%|███████▎                     | 1/4 [00:00<00:00,  4.74it/s]\u001b[A\n",
      "Action: gender:  50%|██████████████▌              | 2/4 [00:00<00:00,  4.77it/s]\u001b[A\n",
      "Action: race:  50%|███████████████▌               | 2/4 [00:00<00:00,  4.77it/s]\u001b[A\n",
      "Action: race:  75%|███████████████████████▎       | 3/4 [00:00<00:00,  4.77it/s]\u001b[A\n",
      "Action: emotion: 100%|████████████████████████████| 4/4 [00:00<00:00,  6.20it/s]\u001b[A\n",
      "101it [02:03,  1.41s/it]"
     ]
    },
    {
     "name": "stdout",
     "output_type": "stream",
     "text": [
      "/Users/jessecoulter/Downloads/FIN377/CEOPersonalities-/matched_pictures/Paul E. Jacobs/2011\n"
     ]
    },
    {
     "name": "stderr",
     "output_type": "stream",
     "text": [
      "\n",
      "Finding actions:   0%|                                    | 0/4 [00:00<?, ?it/s]\u001b[A\n",
      "Action: age:   0%|                                        | 0/4 [00:00<?, ?it/s]\u001b[A\n",
      "Action: age:  25%|████████                        | 1/4 [00:00<00:00,  4.79it/s]\u001b[A\n",
      "Action: gender:  25%|███████▎                     | 1/4 [00:00<00:00,  4.79it/s]\u001b[A\n",
      "Action: gender:  50%|██████████████▌              | 2/4 [00:00<00:00,  4.80it/s]\u001b[A\n",
      "Action: race:  50%|███████████████▌               | 2/4 [00:00<00:00,  4.80it/s]\u001b[A\n",
      "Action: race:  75%|███████████████████████▎       | 3/4 [00:00<00:00,  4.79it/s]\u001b[A\n",
      "Action: emotion: 100%|████████████████████████████| 4/4 [00:00<00:00,  6.23it/s]\u001b[A\n",
      "102it [02:03,  1.19s/it]"
     ]
    },
    {
     "name": "stdout",
     "output_type": "stream",
     "text": [
      "/Users/jessecoulter/Downloads/FIN377/CEOPersonalities-/matched_pictures/Paul E. Jacobs/2012\n"
     ]
    },
    {
     "name": "stderr",
     "output_type": "stream",
     "text": [
      "\n",
      "Finding actions:   0%|                                    | 0/4 [00:00<?, ?it/s]\u001b[A\n",
      "Action: age:   0%|                                        | 0/4 [00:00<?, ?it/s]\u001b[A\n",
      "Action: age:  25%|████████                        | 1/4 [00:00<00:00,  4.79it/s]\u001b[A\n",
      "Action: gender:  25%|███████▎                     | 1/4 [00:00<00:00,  4.79it/s]\u001b[A\n",
      "Action: gender:  50%|██████████████▌              | 2/4 [00:00<00:00,  4.83it/s]\u001b[A\n",
      "Action: race:  50%|███████████████▌               | 2/4 [00:00<00:00,  4.83it/s]\u001b[A\n",
      "Action: race:  75%|███████████████████████▎       | 3/4 [00:00<00:00,  4.80it/s]\u001b[A\n",
      "Action: emotion: 100%|████████████████████████████| 4/4 [00:00<00:00,  6.24it/s]\u001b[A\n",
      "104it [02:04,  1.31it/s]"
     ]
    },
    {
     "name": "stdout",
     "output_type": "stream",
     "text": [
      "/Users/jessecoulter/Downloads/FIN377/CEOPersonalities-/matched_pictures/Paul E. Jacobs/2013\n",
      "Error analyzing /Users/jessecoulter/Downloads/FIN377/CEOPersonalities-/matched_pictures/Paul E. Jacobs/2013/pic1.jpg: Face could not be detected in /Users/jessecoulter/Downloads/FIN377/CEOPersonalities-/matched_pictures/Paul E. Jacobs/2013/pic1.jpg.Please confirm that the picture is a face photo or consider to set enforce_detection param to False.\n",
      "/Users/jessecoulter/Downloads/FIN377/CEOPersonalities-/matched_pictures/Steve Mollenkopf/2014\n",
      "Error analyzing /Users/jessecoulter/Downloads/FIN377/CEOPersonalities-/matched_pictures/Steve Mollenkopf/2014/pic3.jpg: Face could not be detected in /Users/jessecoulter/Downloads/FIN377/CEOPersonalities-/matched_pictures/Steve Mollenkopf/2014/pic3.jpg.Please confirm that the picture is a face photo or consider to set enforce_detection param to False.\n",
      "/Users/jessecoulter/Downloads/FIN377/CEOPersonalities-/matched_pictures/Steve Mollenkopf/2015\n",
      "Folder not found: /Users/jessecoulter/Downloads/FIN377/CEOPersonalities-/matched_pictures/Steve Mollenkopf/2015\n",
      "/Users/jessecoulter/Downloads/FIN377/CEOPersonalities-/matched_pictures/Steve Mollenkopf/2016\n"
     ]
    },
    {
     "name": "stderr",
     "output_type": "stream",
     "text": [
      "\n",
      "Finding actions:   0%|                                    | 0/4 [00:00<?, ?it/s]\u001b[A\n",
      "Action: age:   0%|                                        | 0/4 [00:00<?, ?it/s]\u001b[A\n",
      "Action: age:  25%|████████                        | 1/4 [00:00<00:00,  4.90it/s]\u001b[A\n",
      "Action: gender:  25%|███████▎                     | 1/4 [00:00<00:00,  4.90it/s]\u001b[A\n",
      "Action: gender:  50%|██████████████▌              | 2/4 [00:00<00:00,  4.79it/s]\u001b[A\n",
      "Action: race:  50%|███████████████▌               | 2/4 [00:00<00:00,  4.79it/s]\u001b[A\n",
      "Action: race:  75%|███████████████████████▎       | 3/4 [00:00<00:00,  4.86it/s]\u001b[A\n",
      "Action: emotion: 100%|████████████████████████████| 4/4 [00:00<00:00,  6.30it/s]\u001b[A\n",
      "107it [02:05,  2.11it/s]"
     ]
    },
    {
     "name": "stdout",
     "output_type": "stream",
     "text": [
      "/Users/jessecoulter/Downloads/FIN377/CEOPersonalities-/matched_pictures/Steve Mollenkopf/2017\n",
      "Error analyzing /Users/jessecoulter/Downloads/FIN377/CEOPersonalities-/matched_pictures/Steve Mollenkopf/2017/pic2.jpg: Face could not be detected in /Users/jessecoulter/Downloads/FIN377/CEOPersonalities-/matched_pictures/Steve Mollenkopf/2017/pic2.jpg.Please confirm that the picture is a face photo or consider to set enforce_detection param to False.\n",
      "/Users/jessecoulter/Downloads/FIN377/CEOPersonalities-/matched_pictures/Steve Mollenkopf/2018\n"
     ]
    },
    {
     "name": "stderr",
     "output_type": "stream",
     "text": [
      "\n",
      "Finding actions:   0%|                                    | 0/4 [00:00<?, ?it/s]\u001b[A\n",
      "Action: age:   0%|                                        | 0/4 [00:00<?, ?it/s]\u001b[A\n",
      "Action: age:  25%|████████                        | 1/4 [00:00<00:00,  4.50it/s]\u001b[A\n",
      "Action: gender:  25%|███████▎                     | 1/4 [00:00<00:00,  4.50it/s]\u001b[A\n",
      "Action: gender:  50%|██████████████▌              | 2/4 [00:00<00:00,  4.76it/s]\u001b[A\n",
      "Action: race:  50%|███████████████▌               | 2/4 [00:00<00:00,  4.76it/s]\u001b[A\n",
      "Action: race:  75%|███████████████████████▎       | 3/4 [00:00<00:00,  4.84it/s]\u001b[A\n",
      "Action: emotion: 100%|████████████████████████████| 4/4 [00:00<00:00,  6.23it/s]\u001b[A\n",
      "109it [02:06,  2.28it/s]"
     ]
    },
    {
     "name": "stdout",
     "output_type": "stream",
     "text": [
      "/Users/jessecoulter/Downloads/FIN377/CEOPersonalities-/matched_pictures/Steve Mollenkopf/2019\n"
     ]
    },
    {
     "name": "stderr",
     "output_type": "stream",
     "text": [
      "\n",
      "Finding actions:   0%|                                    | 0/4 [00:00<?, ?it/s]\u001b[A\n",
      "Action: age:   0%|                                        | 0/4 [00:00<?, ?it/s]\u001b[A\n",
      "Action: age:  25%|████████                        | 1/4 [00:00<00:00,  5.02it/s]\u001b[A\n",
      "Action: gender:  25%|███████▎                     | 1/4 [00:00<00:00,  5.02it/s]\u001b[A\n",
      "Action: gender:  50%|██████████████▌              | 2/4 [00:00<00:00,  5.02it/s]\u001b[A\n",
      "Action: race:  50%|███████████████▌               | 2/4 [00:00<00:00,  5.02it/s]\u001b[A\n",
      "Action: race:  75%|███████████████████████▎       | 3/4 [00:00<00:00,  4.95it/s]\u001b[A\n",
      "Action: emotion: 100%|████████████████████████████| 4/4 [00:00<00:00,  6.45it/s]\u001b[A\n",
      "110it [02:06,  2.04it/s]"
     ]
    },
    {
     "name": "stdout",
     "output_type": "stream",
     "text": [
      "/Users/jessecoulter/Downloads/FIN377/CEOPersonalities-/matched_pictures/Samuel J. Palmisano/2010\n",
      "No image found in /Users/jessecoulter/Downloads/FIN377/CEOPersonalities-/matched_pictures/Samuel J. Palmisano/2010\n",
      "/Users/jessecoulter/Downloads/FIN377/CEOPersonalities-/matched_pictures/Samuel J. Palmisano/2011\n",
      "No image found in /Users/jessecoulter/Downloads/FIN377/CEOPersonalities-/matched_pictures/Samuel J. Palmisano/2011\n",
      "/Users/jessecoulter/Downloads/FIN377/CEOPersonalities-/matched_pictures/Virginia Rometty/2012\n"
     ]
    },
    {
     "name": "stderr",
     "output_type": "stream",
     "text": [
      "\n",
      "Finding actions:   0%|                                    | 0/4 [00:00<?, ?it/s]\u001b[A\n",
      "Action: age:   0%|                                        | 0/4 [00:00<?, ?it/s]\u001b[A\n",
      "Action: age:  25%|████████                        | 1/4 [00:00<00:00,  5.15it/s]\u001b[A\n",
      "Action: gender:  25%|███████▎                     | 1/4 [00:00<00:00,  5.15it/s]\u001b[A\n",
      "Action: gender:  50%|██████████████▌              | 2/4 [00:00<00:00,  5.04it/s]\u001b[A\n",
      "Action: race:  50%|███████████████▌               | 2/4 [00:00<00:00,  5.04it/s]\u001b[A\n",
      "Action: race:  75%|███████████████████████▎       | 3/4 [00:00<00:00,  4.98it/s]\u001b[A\n",
      "Action: emotion: 100%|████████████████████████████| 4/4 [00:00<00:00,  6.50it/s]\u001b[A\n",
      "113it [02:08,  2.16it/s]"
     ]
    },
    {
     "name": "stdout",
     "output_type": "stream",
     "text": [
      "/Users/jessecoulter/Downloads/FIN377/CEOPersonalities-/matched_pictures/Virginia Rometty/2013\n"
     ]
    },
    {
     "name": "stderr",
     "output_type": "stream",
     "text": [
      "\n",
      "Finding actions:   0%|                                    | 0/4 [00:00<?, ?it/s]\u001b[A\n",
      "Action: age:   0%|                                        | 0/4 [00:00<?, ?it/s]\u001b[A\n",
      "Action: age:  25%|████████                        | 1/4 [00:00<00:00,  4.82it/s]\u001b[A\n",
      "Action: gender:  25%|███████▎                     | 1/4 [00:00<00:00,  4.82it/s]\u001b[A\n",
      "Action: gender:  50%|██████████████▌              | 2/4 [00:00<00:00,  4.55it/s]\u001b[A\n",
      "Action: race:  50%|███████████████▌               | 2/4 [00:00<00:00,  4.55it/s]\u001b[A\n",
      "Action: race:  75%|███████████████████████▎       | 3/4 [00:00<00:00,  4.72it/s]\u001b[A\n",
      "Action: emotion: 100%|████████████████████████████| 4/4 [00:00<00:00,  6.11it/s]\u001b[A\n",
      "114it [02:08,  1.97it/s]"
     ]
    },
    {
     "name": "stdout",
     "output_type": "stream",
     "text": [
      "/Users/jessecoulter/Downloads/FIN377/CEOPersonalities-/matched_pictures/Virginia Rometty/2014\n"
     ]
    },
    {
     "name": "stderr",
     "output_type": "stream",
     "text": [
      "\n",
      "Finding actions:   0%|                                    | 0/4 [00:00<?, ?it/s]\u001b[A\n",
      "Action: age:   0%|                                        | 0/4 [00:00<?, ?it/s]\u001b[A\n",
      "Action: age:  25%|████████                        | 1/4 [00:00<00:00,  4.93it/s]\u001b[A\n",
      "Action: gender:  25%|███████▎                     | 1/4 [00:00<00:00,  4.93it/s]\u001b[A\n",
      "Action: gender:  50%|██████████████▌              | 2/4 [00:00<00:00,  4.94it/s]\u001b[A\n",
      "Action: race:  50%|███████████████▌               | 2/4 [00:00<00:00,  4.94it/s]\u001b[A\n",
      "Action: race:  75%|███████████████████████▎       | 3/4 [00:00<00:00,  4.97it/s]\u001b[A\n",
      "Action: emotion: 100%|████████████████████████████| 4/4 [00:00<00:00,  6.45it/s]\u001b[A\n",
      "115it [02:09,  1.80it/s]"
     ]
    },
    {
     "name": "stdout",
     "output_type": "stream",
     "text": [
      "/Users/jessecoulter/Downloads/FIN377/CEOPersonalities-/matched_pictures/Virginia Rometty/2015\n"
     ]
    },
    {
     "name": "stderr",
     "output_type": "stream",
     "text": [
      "\n",
      "Finding actions:   0%|                                    | 0/4 [00:00<?, ?it/s]\u001b[A\n",
      "Action: age:   0%|                                        | 0/4 [00:00<?, ?it/s]\u001b[A\n",
      "Action: age:  25%|████████                        | 1/4 [00:00<00:00,  5.08it/s]\u001b[A\n",
      "Action: gender:  25%|███████▎                     | 1/4 [00:00<00:00,  5.08it/s]\u001b[A\n",
      "Action: gender:  50%|██████████████▌              | 2/4 [00:00<00:00,  4.93it/s]\u001b[A\n",
      "Action: race:  50%|███████████████▌               | 2/4 [00:00<00:00,  4.93it/s]\u001b[A\n",
      "Action: race:  75%|███████████████████████▎       | 3/4 [00:00<00:00,  4.95it/s]\u001b[A\n",
      "Action: emotion: 100%|████████████████████████████| 4/4 [00:00<00:00,  6.44it/s]\u001b[A\n",
      "116it [02:10,  1.62it/s]"
     ]
    },
    {
     "name": "stdout",
     "output_type": "stream",
     "text": [
      "/Users/jessecoulter/Downloads/FIN377/CEOPersonalities-/matched_pictures/Virginia Rometty/2016\n"
     ]
    },
    {
     "name": "stderr",
     "output_type": "stream",
     "text": [
      "\n",
      "Finding actions:   0%|                                    | 0/4 [00:00<?, ?it/s]\u001b[A\n",
      "Action: age:   0%|                                        | 0/4 [00:00<?, ?it/s]\u001b[A\n",
      "Action: age:  25%|████████                        | 1/4 [00:00<00:00,  5.13it/s]\u001b[A\n",
      "Action: gender:  25%|███████▎                     | 1/4 [00:00<00:00,  5.13it/s]\u001b[A\n",
      "Action: gender:  50%|██████████████▌              | 2/4 [00:00<00:00,  5.06it/s]\u001b[A\n",
      "Action: race:  50%|███████████████▌               | 2/4 [00:00<00:00,  5.06it/s]\u001b[A\n",
      "Action: race:  75%|███████████████████████▎       | 3/4 [00:00<00:00,  5.02it/s]\u001b[A\n",
      "Action: emotion: 100%|████████████████████████████| 4/4 [00:00<00:00,  6.54it/s]\u001b[A\n",
      "117it [02:11,  1.26it/s]"
     ]
    },
    {
     "name": "stdout",
     "output_type": "stream",
     "text": [
      "/Users/jessecoulter/Downloads/FIN377/CEOPersonalities-/matched_pictures/Virginia Rometty/2017\n"
     ]
    },
    {
     "name": "stderr",
     "output_type": "stream",
     "text": [
      "\n",
      "Finding actions:   0%|                                    | 0/4 [00:00<?, ?it/s]\u001b[A\n",
      "Action: age:   0%|                                        | 0/4 [00:00<?, ?it/s]\u001b[A\n",
      "Action: age:  25%|████████                        | 1/4 [00:00<00:00,  4.92it/s]\u001b[A\n",
      "Action: gender:  25%|███████▎                     | 1/4 [00:00<00:00,  4.92it/s]\u001b[A\n",
      "Action: gender:  50%|██████████████▌              | 2/4 [00:00<00:00,  4.91it/s]\u001b[A\n",
      "Action: race:  50%|███████████████▌               | 2/4 [00:00<00:00,  4.91it/s]\u001b[A\n",
      "Action: race:  75%|███████████████████████▎       | 3/4 [00:00<00:00,  4.92it/s]\u001b[A\n",
      "Action: emotion: 100%|████████████████████████████| 4/4 [00:00<00:00,  6.37it/s]\u001b[A\n",
      "118it [02:12,  1.26it/s]"
     ]
    },
    {
     "name": "stdout",
     "output_type": "stream",
     "text": [
      "/Users/jessecoulter/Downloads/FIN377/CEOPersonalities-/matched_pictures/Virginia Rometty/2018\n"
     ]
    },
    {
     "name": "stderr",
     "output_type": "stream",
     "text": [
      "\n",
      "Finding actions:   0%|                                    | 0/4 [00:00<?, ?it/s]\u001b[A\n",
      "Action: age:   0%|                                        | 0/4 [00:00<?, ?it/s]\u001b[A\n",
      "Action: age:  25%|████████                        | 1/4 [00:00<00:00,  5.20it/s]\u001b[A\n",
      "Action: gender:  25%|███████▎                     | 1/4 [00:00<00:00,  5.20it/s]\u001b[A\n",
      "Action: gender:  50%|██████████████▌              | 2/4 [00:00<00:00,  5.05it/s]\u001b[A\n",
      "Action: race:  50%|███████████████▌               | 2/4 [00:00<00:00,  5.05it/s]\u001b[A\n",
      "Action: race:  75%|███████████████████████▎       | 3/4 [00:00<00:00,  4.95it/s]\u001b[A\n",
      "Action: emotion: 100%|████████████████████████████| 4/4 [00:00<00:00,  6.47it/s]\u001b[A\n",
      "119it [02:13,  1.07it/s]"
     ]
    },
    {
     "name": "stdout",
     "output_type": "stream",
     "text": [
      "/Users/jessecoulter/Downloads/FIN377/CEOPersonalities-/matched_pictures/Virginia Rometty/2019\n"
     ]
    },
    {
     "name": "stderr",
     "output_type": "stream",
     "text": [
      "\n",
      "Finding actions:   0%|                                    | 0/4 [00:00<?, ?it/s]\u001b[A\n",
      "Action: age:   0%|                                        | 0/4 [00:00<?, ?it/s]\u001b[A\n",
      "Action: age:  25%|████████                        | 1/4 [00:00<00:00,  4.86it/s]\u001b[A\n",
      "Action: gender:  25%|███████▎                     | 1/4 [00:00<00:00,  4.86it/s]\u001b[A\n",
      "Action: gender:  50%|██████████████▌              | 2/4 [00:00<00:00,  4.88it/s]\u001b[A\n",
      "Action: race:  50%|███████████████▌               | 2/4 [00:00<00:00,  4.88it/s]\u001b[A\n",
      "Action: race:  75%|███████████████████████▎       | 3/4 [00:00<00:00,  4.91it/s]\u001b[A\n",
      "Action: emotion: 100%|████████████████████████████| 4/4 [00:00<00:00,  6.37it/s]\u001b[A\n",
      "\n",
      "Finding actions:   0%|                                    | 0/4 [00:00<?, ?it/s]\u001b[A\n",
      "Action: age:   0%|                                        | 0/4 [00:00<?, ?it/s]\u001b[A\n",
      "Action: age:  25%|████████                        | 1/4 [00:00<00:00,  4.89it/s]\u001b[A\n",
      "Action: gender:  25%|███████▎                     | 1/4 [00:00<00:00,  4.89it/s]\u001b[A\n",
      "Action: gender:  50%|██████████████▌              | 2/4 [00:00<00:00,  4.88it/s]\u001b[A\n",
      "Action: race:  50%|███████████████▌               | 2/4 [00:00<00:00,  4.88it/s]\u001b[A\n",
      "Action: race:  75%|███████████████████████▎       | 3/4 [00:00<00:00,  4.88it/s]\u001b[A\n",
      "Action: emotion: 100%|████████████████████████████| 4/4 [00:00<00:00,  6.32it/s]\u001b[A\n",
      "120it [02:15,  1.05s/it]"
     ]
    },
    {
     "name": "stdout",
     "output_type": "stream",
     "text": [
      "/Users/jessecoulter/Downloads/FIN377/CEOPersonalities-/matched_pictures/John Donahoe (under eBay)/2010\n",
      "Error analyzing /Users/jessecoulter/Downloads/FIN377/CEOPersonalities-/matched_pictures/John Donahoe (under eBay)/2010/pic1.jpg: Face could not be detected in /Users/jessecoulter/Downloads/FIN377/CEOPersonalities-/matched_pictures/John Donahoe (under eBay)/2010/pic1.jpg.Please confirm that the picture is a face photo or consider to set enforce_detection param to False.\n",
      "/Users/jessecoulter/Downloads/FIN377/CEOPersonalities-/matched_pictures/John Donahoe (under eBay)/2011\n"
     ]
    },
    {
     "name": "stderr",
     "output_type": "stream",
     "text": [
      "\n",
      "Finding actions:   0%|                                    | 0/4 [00:00<?, ?it/s]\u001b[A\n",
      "Action: age:   0%|                                        | 0/4 [00:00<?, ?it/s]\u001b[A\n",
      "Action: age:  25%|████████                        | 1/4 [00:00<00:00,  4.92it/s]\u001b[A\n",
      "Action: gender:  25%|███████▎                     | 1/4 [00:00<00:00,  4.92it/s]\u001b[A\n",
      "Action: gender:  50%|██████████████▌              | 2/4 [00:00<00:00,  4.82it/s]\u001b[A\n",
      "Action: race:  50%|███████████████▌               | 2/4 [00:00<00:00,  4.82it/s]\u001b[A\n",
      "Action: race:  75%|███████████████████████▎       | 3/4 [00:00<00:00,  4.89it/s]\u001b[A\n",
      "Action: emotion: 100%|████████████████████████████| 4/4 [00:00<00:00,  6.34it/s]\u001b[A\n",
      "122it [02:15,  1.35it/s]"
     ]
    },
    {
     "name": "stdout",
     "output_type": "stream",
     "text": [
      "/Users/jessecoulter/Downloads/FIN377/CEOPersonalities-/matched_pictures/John Donahoe (under eBay)/2012\n"
     ]
    },
    {
     "name": "stderr",
     "output_type": "stream",
     "text": [
      "\n",
      "Finding actions:   0%|                                    | 0/4 [00:00<?, ?it/s]\u001b[A\n",
      "Action: age:   0%|                                        | 0/4 [00:00<?, ?it/s]\u001b[A\n",
      "Action: age:  25%|████████                        | 1/4 [00:00<00:00,  4.82it/s]\u001b[A\n",
      "Action: gender:  25%|███████▎                     | 1/4 [00:00<00:00,  4.82it/s]\u001b[A\n",
      "Action: gender:  50%|██████████████▌              | 2/4 [00:00<00:00,  4.91it/s]\u001b[A\n",
      "Action: race:  50%|███████████████▌               | 2/4 [00:00<00:00,  4.91it/s]\u001b[A\n",
      "Action: race:  75%|███████████████████████▎       | 3/4 [00:00<00:00,  4.92it/s]\u001b[A\n",
      "Action: emotion: 100%|████████████████████████████| 4/4 [00:00<00:00,  6.38it/s]\u001b[A\n",
      "123it [02:16,  1.38it/s]"
     ]
    },
    {
     "name": "stdout",
     "output_type": "stream",
     "text": [
      "/Users/jessecoulter/Downloads/FIN377/CEOPersonalities-/matched_pictures/John Donahoe (under eBay)/2013\n"
     ]
    },
    {
     "name": "stderr",
     "output_type": "stream",
     "text": [
      "\n",
      "Finding actions:   0%|                                    | 0/4 [00:00<?, ?it/s]\u001b[A\n",
      "Action: age:   0%|                                        | 0/4 [00:00<?, ?it/s]\u001b[A\n",
      "Action: age:  25%|████████                        | 1/4 [00:00<00:00,  4.90it/s]\u001b[A\n",
      "Action: gender:  25%|███████▎                     | 1/4 [00:00<00:00,  4.90it/s]\u001b[A\n",
      "Action: gender:  50%|██████████████▌              | 2/4 [00:00<00:00,  4.85it/s]\u001b[A\n",
      "Action: race:  50%|███████████████▌               | 2/4 [00:00<00:00,  4.85it/s]\u001b[A\n",
      "Action: race:  75%|███████████████████████▎       | 3/4 [00:00<00:00,  4.79it/s]\u001b[A\n",
      "Action: emotion: 100%|████████████████████████████| 4/4 [00:00<00:00,  6.25it/s]\u001b[A\n",
      "124it [02:17,  1.35it/s]"
     ]
    },
    {
     "name": "stdout",
     "output_type": "stream",
     "text": [
      "/Users/jessecoulter/Downloads/FIN377/CEOPersonalities-/matched_pictures/John Donahoe (under eBay)/2014\n"
     ]
    },
    {
     "name": "stderr",
     "output_type": "stream",
     "text": [
      "\n",
      "Finding actions:   0%|                                    | 0/4 [00:00<?, ?it/s]\u001b[A\n",
      "Action: age:   0%|                                        | 0/4 [00:00<?, ?it/s]\u001b[A\n",
      "Action: age:  25%|████████                        | 1/4 [00:00<00:00,  4.89it/s]\u001b[A\n",
      "Action: gender:  25%|███████▎                     | 1/4 [00:00<00:00,  4.89it/s]\u001b[A\n",
      "Action: gender:  50%|██████████████▌              | 2/4 [00:00<00:00,  4.90it/s]\u001b[A\n",
      "Action: race:  50%|███████████████▌               | 2/4 [00:00<00:00,  4.90it/s]\u001b[A\n",
      "Action: race:  75%|███████████████████████▎       | 3/4 [00:00<00:00,  4.90it/s]\u001b[A\n",
      "Action: emotion: 100%|████████████████████████████| 4/4 [00:00<00:00,  6.37it/s]\u001b[A\n",
      "125it [02:18,  1.36it/s]"
     ]
    },
    {
     "name": "stdout",
     "output_type": "stream",
     "text": [
      "/Users/jessecoulter/Downloads/FIN377/CEOPersonalities-/matched_pictures/Dan Schulman/2015\n"
     ]
    },
    {
     "name": "stderr",
     "output_type": "stream",
     "text": [
      "\n",
      "Finding actions:   0%|                                    | 0/4 [00:00<?, ?it/s]\u001b[A\n",
      "Action: age:   0%|                                        | 0/4 [00:00<?, ?it/s]\u001b[A\n",
      "Action: age:  25%|████████                        | 1/4 [00:00<00:00,  4.85it/s]\u001b[A\n",
      "Action: gender:  25%|███████▎                     | 1/4 [00:00<00:00,  4.85it/s]\u001b[A\n",
      "Action: gender:  50%|██████████████▌              | 2/4 [00:00<00:00,  4.90it/s]\u001b[A\n",
      "Action: race:  50%|███████████████▌               | 2/4 [00:00<00:00,  4.90it/s]\u001b[A\n",
      "Action: race:  75%|███████████████████████▎       | 3/4 [00:00<00:00,  4.92it/s]\u001b[A\n",
      "Action: emotion: 100%|████████████████████████████| 4/4 [00:00<00:00,  6.38it/s]\u001b[A\n",
      "\n",
      "Finding actions:   0%|                                    | 0/4 [00:00<?, ?it/s]\u001b[A\n",
      "Action: age:   0%|                                        | 0/4 [00:00<?, ?it/s]\u001b[A\n",
      "Action: age:  25%|████████                        | 1/4 [00:00<00:00,  4.87it/s]\u001b[A\n",
      "Action: gender:  25%|███████▎                     | 1/4 [00:00<00:00,  4.87it/s]\u001b[A\n",
      "Action: gender:  50%|██████████████▌              | 2/4 [00:00<00:00,  4.89it/s]\u001b[A\n",
      "Action: race:  50%|███████████████▌               | 2/4 [00:00<00:00,  4.89it/s]\u001b[A\n",
      "Action: race:  75%|███████████████████████▎       | 3/4 [00:00<00:00,  4.90it/s]\u001b[A\n",
      "Action: emotion: 100%|████████████████████████████| 4/4 [00:00<00:00,  6.36it/s]\u001b[A\n",
      "\n",
      "Finding actions:   0%|                                    | 0/4 [00:00<?, ?it/s]\u001b[A\n",
      "Action: age:   0%|                                        | 0/4 [00:00<?, ?it/s]\u001b[A\n",
      "Action: age:  25%|████████                        | 1/4 [00:00<00:00,  4.60it/s]\u001b[A\n",
      "Action: gender:  25%|███████▎                     | 1/4 [00:00<00:00,  4.60it/s]\u001b[A\n",
      "Action: gender:  50%|██████████████▌              | 2/4 [00:00<00:00,  4.56it/s]\u001b[A\n",
      "Action: race:  50%|███████████████▌               | 2/4 [00:00<00:00,  4.56it/s]\u001b[A\n",
      "Action: race:  75%|███████████████████████▎       | 3/4 [00:00<00:00,  4.70it/s]\u001b[A\n",
      "Action: emotion: 100%|████████████████████████████| 4/4 [00:00<00:00,  6.07it/s]\u001b[A\n",
      "\n",
      "Finding actions:   0%|                                    | 0/4 [00:00<?, ?it/s]\u001b[A\n",
      "Action: age:   0%|                                        | 0/4 [00:00<?, ?it/s]\u001b[A\n",
      "Action: age:  25%|████████                        | 1/4 [00:00<00:00,  4.75it/s]\u001b[A\n",
      "Action: gender:  25%|███████▎                     | 1/4 [00:00<00:00,  4.75it/s]\u001b[A\n",
      "Action: gender:  50%|██████████████▌              | 2/4 [00:00<00:00,  4.87it/s]\u001b[A\n",
      "Action: race:  50%|███████████████▌               | 2/4 [00:00<00:00,  4.87it/s]\u001b[A\n",
      "Action: race:  75%|███████████████████████▎       | 3/4 [00:00<00:00,  4.91it/s]\u001b[A\n",
      "Action: emotion: 100%|████████████████████████████| 4/4 [00:00<00:00,  6.35it/s]\u001b[A\n",
      "\n",
      "Finding actions:   0%|                                    | 0/4 [00:00<?, ?it/s]\u001b[A\n",
      "Action: age:   0%|                                        | 0/4 [00:00<?, ?it/s]\u001b[A\n",
      "Action: age:  25%|████████                        | 1/4 [00:00<00:00,  4.66it/s]\u001b[A\n",
      "Action: gender:  25%|███████▎                     | 1/4 [00:00<00:00,  4.66it/s]\u001b[A\n",
      "Action: gender:  50%|██████████████▌              | 2/4 [00:00<00:00,  4.77it/s]\u001b[A\n",
      "Action: race:  50%|███████████████▌               | 2/4 [00:00<00:00,  4.77it/s]\u001b[A\n",
      "Action: race:  75%|███████████████████████▎       | 3/4 [00:00<00:00,  4.83it/s]\u001b[A\n",
      "Action: emotion: 100%|████████████████████████████| 4/4 [00:00<00:00,  6.25it/s]\u001b[A\n",
      "126it [02:23,  2.14s/it]"
     ]
    },
    {
     "name": "stdout",
     "output_type": "stream",
     "text": [
      "/Users/jessecoulter/Downloads/FIN377/CEOPersonalities-/matched_pictures/Dan Schulman/2016\n"
     ]
    },
    {
     "name": "stderr",
     "output_type": "stream",
     "text": [
      "\n",
      "Finding actions:   0%|                                    | 0/4 [00:00<?, ?it/s]\u001b[A\n",
      "Action: age:   0%|                                        | 0/4 [00:00<?, ?it/s]\u001b[A\n",
      "Action: age:  25%|████████                        | 1/4 [00:00<00:00,  4.86it/s]\u001b[A\n",
      "Action: gender:  25%|███████▎                     | 1/4 [00:00<00:00,  4.86it/s]\u001b[A\n",
      "Action: gender:  50%|██████████████▌              | 2/4 [00:00<00:00,  4.88it/s]\u001b[A\n",
      "Action: race:  50%|███████████████▌               | 2/4 [00:00<00:00,  4.88it/s]\u001b[A\n",
      "Action: race:  75%|███████████████████████▎       | 3/4 [00:00<00:00,  4.92it/s]\u001b[A\n",
      "Action: emotion: 100%|████████████████████████████| 4/4 [00:00<00:00,  6.38it/s]\u001b[A\n",
      "127it [02:24,  1.72s/it]"
     ]
    },
    {
     "name": "stdout",
     "output_type": "stream",
     "text": [
      "/Users/jessecoulter/Downloads/FIN377/CEOPersonalities-/matched_pictures/Dan Schulman/2017\n"
     ]
    },
    {
     "name": "stderr",
     "output_type": "stream",
     "text": [
      "\n",
      "Finding actions:   0%|                                    | 0/4 [00:00<?, ?it/s]\u001b[A\n",
      "Action: age:   0%|                                        | 0/4 [00:00<?, ?it/s]\u001b[A\n",
      "Action: age:  25%|████████                        | 1/4 [00:00<00:00,  4.94it/s]\u001b[A\n",
      "Action: gender:  25%|███████▎                     | 1/4 [00:00<00:00,  4.94it/s]\u001b[A\n",
      "Action: gender:  50%|██████████████▌              | 2/4 [00:00<00:00,  4.97it/s]\u001b[A\n",
      "Action: race:  50%|███████████████▌               | 2/4 [00:00<00:00,  4.97it/s]\u001b[A\n",
      "Action: race:  75%|███████████████████████▎       | 3/4 [00:00<00:00,  4.94it/s]\u001b[A\n",
      "Action: emotion: 100%|████████████████████████████| 4/4 [00:00<00:00,  6.43it/s]\u001b[A\n",
      "128it [02:25,  1.42s/it]"
     ]
    },
    {
     "name": "stdout",
     "output_type": "stream",
     "text": [
      "/Users/jessecoulter/Downloads/FIN377/CEOPersonalities-/matched_pictures/Dan Schulman/2018\n"
     ]
    },
    {
     "name": "stderr",
     "output_type": "stream",
     "text": [
      "\n",
      "Finding actions:   0%|                                    | 0/4 [00:00<?, ?it/s]\u001b[A\n",
      "Action: age:   0%|                                        | 0/4 [00:00<?, ?it/s]\u001b[A\n",
      "Action: age:  25%|████████                        | 1/4 [00:00<00:00,  4.62it/s]\u001b[A\n",
      "Action: gender:  25%|███████▎                     | 1/4 [00:00<00:00,  4.62it/s]\u001b[A\n",
      "Action: gender:  50%|██████████████▌              | 2/4 [00:00<00:00,  4.62it/s]\u001b[A\n",
      "Action: race:  50%|███████████████▌               | 2/4 [00:00<00:00,  4.62it/s]\u001b[A\n",
      "Action: race:  75%|███████████████████████▎       | 3/4 [00:00<00:00,  3.84it/s]\u001b[A\n",
      "Action: emotion: 100%|████████████████████████████| 4/4 [00:00<00:00,  5.23it/s]\u001b[A\n",
      "129it [02:28,  1.82s/it]"
     ]
    },
    {
     "name": "stdout",
     "output_type": "stream",
     "text": [
      "/Users/jessecoulter/Downloads/FIN377/CEOPersonalities-/matched_pictures/Dan Schulman/2019\n"
     ]
    },
    {
     "name": "stderr",
     "output_type": "stream",
     "text": [
      "\n",
      "Finding actions:   0%|                                    | 0/4 [00:00<?, ?it/s]\u001b[A\n",
      "Action: age:   0%|                                        | 0/4 [00:00<?, ?it/s]\u001b[A\n",
      "Action: age:  25%|████████                        | 1/4 [00:00<00:00,  4.57it/s]\u001b[A\n",
      "Action: gender:  25%|███████▎                     | 1/4 [00:00<00:00,  4.57it/s]\u001b[A\n",
      "Action: gender:  50%|██████████████▌              | 2/4 [00:00<00:00,  4.72it/s]\u001b[A\n",
      "Action: race:  50%|███████████████▌               | 2/4 [00:00<00:00,  4.72it/s]\u001b[A\n",
      "Action: race:  75%|███████████████████████▎       | 3/4 [00:00<00:00,  4.78it/s]\u001b[A\n",
      "Action: emotion: 100%|████████████████████████████| 4/4 [00:00<00:00,  6.18it/s]\u001b[A\n",
      "130it [02:28,  1.49s/it]"
     ]
    },
    {
     "name": "stdout",
     "output_type": "stream",
     "text": [
      "/Users/jessecoulter/Downloads/FIN377/CEOPersonalities-/matched_pictures/Fred Luddy/2010\n",
      "Error analyzing /Users/jessecoulter/Downloads/FIN377/CEOPersonalities-/matched_pictures/Fred Luddy/2010/pic1.jpg: Face could not be detected in /Users/jessecoulter/Downloads/FIN377/CEOPersonalities-/matched_pictures/Fred Luddy/2010/pic1.jpg.Please confirm that the picture is a face photo or consider to set enforce_detection param to False.\n",
      "/Users/jessecoulter/Downloads/FIN377/CEOPersonalities-/matched_pictures/Fred Luddy/2011\n"
     ]
    },
    {
     "name": "stderr",
     "output_type": "stream",
     "text": [
      "\n",
      "Finding actions:   0%|                                    | 0/4 [00:00<?, ?it/s]\u001b[A\n",
      "Action: age:   0%|                                        | 0/4 [00:00<?, ?it/s]\u001b[A\n",
      "Action: age:  25%|████████                        | 1/4 [00:00<00:00,  4.73it/s]\u001b[A\n",
      "Action: gender:  25%|███████▎                     | 1/4 [00:00<00:00,  4.73it/s]\u001b[A\n",
      "Action: gender:  50%|██████████████▌              | 2/4 [00:00<00:00,  4.79it/s]\u001b[A\n",
      "Action: race:  50%|███████████████▌               | 2/4 [00:00<00:00,  4.79it/s]\u001b[A\n",
      "Action: race:  75%|███████████████████████▎       | 3/4 [00:00<00:00,  4.67it/s]\u001b[A\n",
      "Action: emotion: 100%|████████████████████████████| 4/4 [00:00<00:00,  6.08it/s]\u001b[A\n",
      "132it [02:29,  1.03it/s]"
     ]
    },
    {
     "name": "stdout",
     "output_type": "stream",
     "text": [
      "/Users/jessecoulter/Downloads/FIN377/CEOPersonalities-/matched_pictures/Frank Slootman/2012\n"
     ]
    },
    {
     "name": "stderr",
     "output_type": "stream",
     "text": [
      "\n",
      "Finding actions:   0%|                                    | 0/4 [00:00<?, ?it/s]\u001b[A\n",
      "Action: age:   0%|                                        | 0/4 [00:00<?, ?it/s]\u001b[A\n",
      "Action: age:  25%|████████                        | 1/4 [00:00<00:00,  4.42it/s]\u001b[A\n",
      "Action: gender:  25%|███████▎                     | 1/4 [00:00<00:00,  4.42it/s]\u001b[A\n",
      "Action: gender:  50%|██████████████▌              | 2/4 [00:00<00:00,  4.17it/s]\u001b[A\n",
      "Action: race:  50%|███████████████▌               | 2/4 [00:00<00:00,  4.17it/s]\u001b[A\n",
      "Action: race:  75%|███████████████████████▎       | 3/4 [00:00<00:00,  4.19it/s]\u001b[A\n",
      "Action: emotion: 100%|████████████████████████████| 4/4 [00:00<00:00,  5.48it/s]\u001b[A\n",
      "133it [02:30,  1.07it/s]"
     ]
    },
    {
     "name": "stdout",
     "output_type": "stream",
     "text": [
      "/Users/jessecoulter/Downloads/FIN377/CEOPersonalities-/matched_pictures/Frank Slootman/2013\n"
     ]
    },
    {
     "name": "stderr",
     "output_type": "stream",
     "text": [
      "\n",
      "Finding actions:   0%|                                    | 0/4 [00:00<?, ?it/s]\u001b[A\n",
      "Action: age:   0%|                                        | 0/4 [00:00<?, ?it/s]\u001b[A\n",
      "Action: age:  25%|████████                        | 1/4 [00:00<00:00,  3.93it/s]\u001b[A\n",
      "Action: gender:  25%|███████▎                     | 1/4 [00:00<00:00,  3.93it/s]\u001b[A\n",
      "Action: gender:  50%|██████████████▌              | 2/4 [00:00<00:00,  4.15it/s]\u001b[A\n",
      "Action: race:  50%|███████████████▌               | 2/4 [00:00<00:00,  4.15it/s]\u001b[A\n",
      "Action: race:  75%|███████████████████████▎       | 3/4 [00:00<00:00,  4.26it/s]\u001b[A\n",
      "Action: emotion: 100%|████████████████████████████| 4/4 [00:00<00:00,  5.47it/s]\u001b[A\n",
      "134it [02:31,  1.08it/s]"
     ]
    },
    {
     "name": "stdout",
     "output_type": "stream",
     "text": [
      "/Users/jessecoulter/Downloads/FIN377/CEOPersonalities-/matched_pictures/Frank Slootman/2014\n"
     ]
    },
    {
     "name": "stderr",
     "output_type": "stream",
     "text": [
      "\n",
      "Finding actions:   0%|                                    | 0/4 [00:00<?, ?it/s]\u001b[A\n",
      "Action: age:   0%|                                        | 0/4 [00:00<?, ?it/s]\u001b[A\n",
      "Action: age:  25%|████████                        | 1/4 [00:00<00:00,  4.32it/s]\u001b[A\n",
      "Action: gender:  25%|███████▎                     | 1/4 [00:00<00:00,  4.32it/s]\u001b[A\n",
      "Action: gender:  50%|██████████████▌              | 2/4 [00:00<00:00,  4.24it/s]\u001b[A\n",
      "Action: race:  50%|███████████████▌               | 2/4 [00:00<00:00,  4.24it/s]\u001b[A\n",
      "Action: race:  75%|███████████████████████▎       | 3/4 [00:00<00:00,  4.23it/s]\u001b[A\n",
      "Action: emotion: 100%|████████████████████████████| 4/4 [00:00<00:00,  5.52it/s]\u001b[A\n",
      "135it [02:31,  1.12it/s]"
     ]
    },
    {
     "name": "stdout",
     "output_type": "stream",
     "text": [
      "/Users/jessecoulter/Downloads/FIN377/CEOPersonalities-/matched_pictures/Frank Slootman/2015\n"
     ]
    },
    {
     "name": "stderr",
     "output_type": "stream",
     "text": [
      "\n",
      "Finding actions:   0%|                                    | 0/4 [00:00<?, ?it/s]\u001b[A\n",
      "Action: age:   0%|                                        | 0/4 [00:00<?, ?it/s]\u001b[A\n",
      "Action: age:  25%|████████                        | 1/4 [00:00<00:00,  4.16it/s]\u001b[A\n",
      "Action: gender:  25%|███████▎                     | 1/4 [00:00<00:00,  4.16it/s]\u001b[A\n",
      "Action: gender:  50%|██████████████▌              | 2/4 [00:00<00:00,  4.22it/s]\u001b[A\n",
      "Action: race:  50%|███████████████▌               | 2/4 [00:00<00:00,  4.22it/s]\u001b[A\n",
      "Action: race:  75%|███████████████████████▎       | 3/4 [00:00<00:00,  4.41it/s]\u001b[A\n",
      "Action: emotion: 100%|████████████████████████████| 4/4 [00:00<00:00,  5.67it/s]\u001b[A\n",
      "136it [02:33,  1.02it/s]"
     ]
    },
    {
     "name": "stdout",
     "output_type": "stream",
     "text": [
      "/Users/jessecoulter/Downloads/FIN377/CEOPersonalities-/matched_pictures/Frank Slootman/2016\n"
     ]
    },
    {
     "name": "stderr",
     "output_type": "stream",
     "text": [
      "\n",
      "Finding actions:   0%|                                    | 0/4 [00:00<?, ?it/s]\u001b[A\n",
      "Action: age:   0%|                                        | 0/4 [00:00<?, ?it/s]\u001b[A\n",
      "Action: age:  25%|████████                        | 1/4 [00:00<00:00,  4.14it/s]\u001b[A\n",
      "Action: gender:  25%|███████▎                     | 1/4 [00:00<00:00,  4.14it/s]\u001b[A\n",
      "Action: gender:  50%|██████████████▌              | 2/4 [00:00<00:00,  4.18it/s]\u001b[A\n",
      "Action: race:  50%|███████████████▌               | 2/4 [00:00<00:00,  4.18it/s]\u001b[A\n",
      "Action: race:  75%|███████████████████████▎       | 3/4 [00:00<00:00,  4.14it/s]\u001b[A\n",
      "Action: emotion: 100%|████████████████████████████| 4/4 [00:00<00:00,  5.40it/s]\u001b[A\n",
      "137it [02:34,  1.04it/s]"
     ]
    },
    {
     "name": "stdout",
     "output_type": "stream",
     "text": [
      "/Users/jessecoulter/Downloads/FIN377/CEOPersonalities-/matched_pictures/John Donahoe/2017\n"
     ]
    },
    {
     "name": "stderr",
     "output_type": "stream",
     "text": [
      "\n",
      "Finding actions:   0%|                                    | 0/4 [00:00<?, ?it/s]\u001b[A\n",
      "Action: age:   0%|                                        | 0/4 [00:00<?, ?it/s]\u001b[A\n",
      "Action: age:  25%|████████                        | 1/4 [00:00<00:00,  4.29it/s]\u001b[A\n",
      "Action: gender:  25%|███████▎                     | 1/4 [00:00<00:00,  4.29it/s]\u001b[A\n",
      "Action: gender:  50%|██████████████▌              | 2/4 [00:00<00:00,  4.26it/s]\u001b[A\n",
      "Action: race:  50%|███████████████▌               | 2/4 [00:00<00:00,  4.26it/s]\u001b[A\n",
      "Action: race:  75%|███████████████████████▎       | 3/4 [00:00<00:00,  4.26it/s]\u001b[A\n",
      "Action: emotion: 100%|████████████████████████████| 4/4 [00:00<00:00,  5.55it/s]\u001b[A\n",
      "138it [02:35,  1.04it/s]"
     ]
    },
    {
     "name": "stdout",
     "output_type": "stream",
     "text": [
      "/Users/jessecoulter/Downloads/FIN377/CEOPersonalities-/matched_pictures/John Donahoe/2018\n"
     ]
    },
    {
     "name": "stderr",
     "output_type": "stream",
     "text": [
      "\n",
      "Finding actions:   0%|                                    | 0/4 [00:00<?, ?it/s]\u001b[A\n",
      "Action: age:   0%|                                        | 0/4 [00:00<?, ?it/s]\u001b[A\n",
      "Action: age:  25%|████████                        | 1/4 [00:00<00:00,  4.28it/s]\u001b[A\n",
      "Action: gender:  25%|███████▎                     | 1/4 [00:00<00:00,  4.28it/s]\u001b[A\n",
      "Action: gender:  50%|██████████████▌              | 2/4 [00:00<00:00,  4.54it/s]\u001b[A\n",
      "Action: race:  50%|███████████████▌               | 2/4 [00:00<00:00,  4.54it/s]\u001b[A\n",
      "Action: race:  75%|███████████████████████▎       | 3/4 [00:00<00:00,  4.60it/s]\u001b[A\n",
      "Action: emotion: 100%|████████████████████████████| 4/4 [00:00<00:00,  5.93it/s]\u001b[A\n",
      "139it [02:35,  1.11it/s]"
     ]
    },
    {
     "name": "stdout",
     "output_type": "stream",
     "text": [
      "/Users/jessecoulter/Downloads/FIN377/CEOPersonalities-/matched_pictures/John Donahoe/2019\n"
     ]
    },
    {
     "name": "stderr",
     "output_type": "stream",
     "text": [
      "\n",
      "Finding actions:   0%|                                    | 0/4 [00:00<?, ?it/s]\u001b[A\n",
      "Action: age:   0%|                                        | 0/4 [00:00<?, ?it/s]\u001b[A\n",
      "Action: age:  25%|████████                        | 1/4 [00:00<00:00,  4.15it/s]\u001b[A\n",
      "Action: gender:  25%|███████▎                     | 1/4 [00:00<00:00,  4.15it/s]\u001b[A\n",
      "Action: gender:  50%|██████████████▌              | 2/4 [00:00<00:00,  4.19it/s]\u001b[A\n",
      "Action: race:  50%|███████████████▌               | 2/4 [00:00<00:00,  4.19it/s]\u001b[A\n",
      "Action: race:  75%|███████████████████████▎       | 3/4 [00:00<00:00,  4.40it/s]\u001b[A\n",
      "Action: emotion: 100%|████████████████████████████| 4/4 [00:00<00:00,  5.65it/s]\u001b[A\n",
      "140it [02:36,  1.02it/s]"
     ]
    },
    {
     "name": "stdout",
     "output_type": "stream",
     "text": [
      "/Users/jessecoulter/Downloads/FIN377/CEOPersonalities-/matched_pictures/Brad Smith/2010\n"
     ]
    },
    {
     "name": "stderr",
     "output_type": "stream",
     "text": [
      "\n",
      "Finding actions:   0%|                                    | 0/4 [00:00<?, ?it/s]\u001b[A\n",
      "Action: age:   0%|                                        | 0/4 [00:00<?, ?it/s]\u001b[A\n",
      "Action: age:  25%|████████                        | 1/4 [00:00<00:00,  4.53it/s]\u001b[A\n",
      "Action: gender:  25%|███████▎                     | 1/4 [00:00<00:00,  4.53it/s]\u001b[A\n",
      "Action: gender:  50%|██████████████▌              | 2/4 [00:00<00:00,  4.19it/s]\u001b[A\n",
      "Action: race:  50%|███████████████▌               | 2/4 [00:00<00:00,  4.19it/s]\u001b[A\n",
      "Action: race:  75%|███████████████████████▎       | 3/4 [00:00<00:00,  4.12it/s]\u001b[A\n",
      "Action: emotion: 100%|████████████████████████████| 4/4 [00:00<00:00,  5.43it/s]\u001b[A\n",
      "141it [02:37,  1.08it/s]"
     ]
    },
    {
     "name": "stdout",
     "output_type": "stream",
     "text": [
      "/Users/jessecoulter/Downloads/FIN377/CEOPersonalities-/matched_pictures/Brad Smith/2011\n"
     ]
    },
    {
     "name": "stderr",
     "output_type": "stream",
     "text": [
      "\n",
      "Finding actions:   0%|                                    | 0/4 [00:00<?, ?it/s]\u001b[A\n",
      "Action: age:   0%|                                        | 0/4 [00:00<?, ?it/s]\u001b[A\n",
      "Action: age:  25%|████████                        | 1/4 [00:00<00:00,  4.48it/s]\u001b[A\n",
      "Action: gender:  25%|███████▎                     | 1/4 [00:00<00:00,  4.48it/s]\u001b[A\n",
      "Action: gender:  50%|██████████████▌              | 2/4 [00:00<00:00,  4.62it/s]\u001b[A\n",
      "Action: race:  50%|███████████████▌               | 2/4 [00:00<00:00,  4.62it/s]\u001b[A\n",
      "Action: race:  75%|███████████████████████▎       | 3/4 [00:00<00:00,  4.69it/s]\u001b[A\n",
      "Action: emotion: 100%|████████████████████████████| 4/4 [00:00<00:00,  6.06it/s]\u001b[A\n",
      "142it [02:38,  1.17it/s]"
     ]
    },
    {
     "name": "stdout",
     "output_type": "stream",
     "text": [
      "/Users/jessecoulter/Downloads/FIN377/CEOPersonalities-/matched_pictures/Brad Smith/2012\n"
     ]
    },
    {
     "name": "stderr",
     "output_type": "stream",
     "text": [
      "\n",
      "Finding actions:   0%|                                    | 0/4 [00:00<?, ?it/s]\u001b[A\n",
      "Action: age:   0%|                                        | 0/4 [00:00<?, ?it/s]\u001b[A\n",
      "Action: age:  25%|████████                        | 1/4 [00:00<00:00,  4.70it/s]\u001b[A\n",
      "Action: gender:  25%|███████▎                     | 1/4 [00:00<00:00,  4.70it/s]\u001b[A\n",
      "Action: gender:  50%|██████████████▌              | 2/4 [00:00<00:00,  4.72it/s]\u001b[A\n",
      "Action: race:  50%|███████████████▌               | 2/4 [00:00<00:00,  4.72it/s]\u001b[A\n",
      "Action: race:  75%|███████████████████████▎       | 3/4 [00:00<00:00,  4.78it/s]\u001b[A\n",
      "Action: emotion: 100%|████████████████████████████| 4/4 [00:00<00:00,  6.19it/s]\u001b[A\n",
      "\n",
      "Finding actions:   0%|                                    | 0/4 [00:00<?, ?it/s]\u001b[A\n",
      "Action: age:   0%|                                        | 0/4 [00:00<?, ?it/s]\u001b[A\n",
      "Action: age:  25%|████████                        | 1/4 [00:00<00:00,  4.77it/s]\u001b[A\n",
      "Action: gender:  25%|███████▎                     | 1/4 [00:00<00:00,  4.77it/s]\u001b[A\n",
      "Action: gender:  50%|██████████████▌              | 2/4 [00:00<00:00,  4.78it/s]\u001b[A\n",
      "Action: race:  50%|███████████████▌               | 2/4 [00:00<00:00,  4.78it/s]\u001b[A\n",
      "Action: race:  75%|███████████████████████▎       | 3/4 [00:00<00:00,  4.78it/s]\u001b[A\n",
      "Action: emotion: 100%|████████████████████████████| 4/4 [00:00<00:00,  6.21it/s]\u001b[A\n",
      "143it [02:39,  1.04s/it]"
     ]
    },
    {
     "name": "stdout",
     "output_type": "stream",
     "text": [
      "/Users/jessecoulter/Downloads/FIN377/CEOPersonalities-/matched_pictures/Brad Smith/2013\n"
     ]
    },
    {
     "name": "stderr",
     "output_type": "stream",
     "text": [
      "\n",
      "Finding actions:   0%|                                    | 0/4 [00:00<?, ?it/s]\u001b[A\n",
      "Action: age:   0%|                                        | 0/4 [00:00<?, ?it/s]\u001b[A\n",
      "Action: age:  25%|████████                        | 1/4 [00:00<00:00,  4.77it/s]\u001b[A\n",
      "Action: gender:  25%|███████▎                     | 1/4 [00:00<00:00,  4.77it/s]\u001b[A\n",
      "Action: gender:  50%|██████████████▌              | 2/4 [00:00<00:00,  4.80it/s]\u001b[A\n",
      "Action: race:  50%|███████████████▌               | 2/4 [00:00<00:00,  4.80it/s]\u001b[A\n",
      "Action: race:  75%|███████████████████████▎       | 3/4 [00:00<00:00,  4.82it/s]\u001b[A\n",
      "Action: emotion: 100%|████████████████████████████| 4/4 [00:00<00:00,  6.25it/s]\u001b[A\n",
      "144it [02:40,  1.06it/s]"
     ]
    },
    {
     "name": "stdout",
     "output_type": "stream",
     "text": [
      "/Users/jessecoulter/Downloads/FIN377/CEOPersonalities-/matched_pictures/Brad Smith/2014\n"
     ]
    },
    {
     "name": "stderr",
     "output_type": "stream",
     "text": [
      "\n",
      "Finding actions:   0%|                                    | 0/4 [00:00<?, ?it/s]\u001b[A\n",
      "Action: age:   0%|                                        | 0/4 [00:00<?, ?it/s]\u001b[A\n",
      "Action: age:  25%|████████                        | 1/4 [00:00<00:00,  4.85it/s]\u001b[A\n",
      "Action: gender:  25%|███████▎                     | 1/4 [00:00<00:00,  4.85it/s]\u001b[A\n",
      "Action: gender:  50%|██████████████▌              | 2/4 [00:00<00:00,  4.80it/s]\u001b[A\n",
      "Action: race:  50%|███████████████▌               | 2/4 [00:00<00:00,  4.80it/s]\u001b[A\n",
      "Action: race:  75%|███████████████████████▎       | 3/4 [00:00<00:00,  4.80it/s]\u001b[A\n",
      "Action: emotion: 100%|████████████████████████████| 4/4 [00:00<00:00,  6.25it/s]\u001b[A\n",
      "145it [02:41,  1.14it/s]"
     ]
    },
    {
     "name": "stdout",
     "output_type": "stream",
     "text": [
      "/Users/jessecoulter/Downloads/FIN377/CEOPersonalities-/matched_pictures/Brad Smith/2015\n"
     ]
    },
    {
     "name": "stderr",
     "output_type": "stream",
     "text": [
      "\n",
      "Finding actions:   0%|                                    | 0/4 [00:00<?, ?it/s]\u001b[A\n",
      "Action: age:   0%|                                        | 0/4 [00:00<?, ?it/s]\u001b[A\n",
      "Action: age:  25%|████████                        | 1/4 [00:00<00:00,  4.78it/s]\u001b[A\n",
      "Action: gender:  25%|███████▎                     | 1/4 [00:00<00:00,  4.78it/s]\u001b[A\n",
      "Action: gender:  50%|██████████████▌              | 2/4 [00:00<00:00,  4.83it/s]\u001b[A\n",
      "Action: race:  50%|███████████████▌               | 2/4 [00:00<00:00,  4.83it/s]\u001b[A\n",
      "Action: race:  75%|███████████████████████▎       | 3/4 [00:00<00:00,  4.83it/s]\u001b[A\n",
      "Action: emotion: 100%|████████████████████████████| 4/4 [00:00<00:00,  6.21it/s]\u001b[A\n",
      "146it [02:42,  1.20it/s]"
     ]
    },
    {
     "name": "stdout",
     "output_type": "stream",
     "text": [
      "/Users/jessecoulter/Downloads/FIN377/CEOPersonalities-/matched_pictures/Brad Smith/2016\n"
     ]
    },
    {
     "name": "stderr",
     "output_type": "stream",
     "text": [
      "\n",
      "Finding actions:   0%|                                    | 0/4 [00:00<?, ?it/s]\u001b[A\n",
      "Action: age:   0%|                                        | 0/4 [00:00<?, ?it/s]\u001b[A\n",
      "Action: age:  25%|████████                        | 1/4 [00:00<00:00,  4.68it/s]\u001b[A\n",
      "Action: gender:  25%|███████▎                     | 1/4 [00:00<00:00,  4.68it/s]\u001b[A\n",
      "Action: gender:  50%|██████████████▌              | 2/4 [00:00<00:00,  4.72it/s]\u001b[A\n",
      "Action: race:  50%|███████████████▌               | 2/4 [00:00<00:00,  4.72it/s]\u001b[A\n",
      "Action: race:  75%|███████████████████████▎       | 3/4 [00:00<00:00,  4.73it/s]\u001b[A\n",
      "Action: emotion: 100%|████████████████████████████| 4/4 [00:00<00:00,  6.14it/s]\u001b[A\n",
      "147it [02:42,  1.21it/s]"
     ]
    },
    {
     "name": "stdout",
     "output_type": "stream",
     "text": [
      "/Users/jessecoulter/Downloads/FIN377/CEOPersonalities-/matched_pictures/Brad Smith/2017\n"
     ]
    },
    {
     "name": "stderr",
     "output_type": "stream",
     "text": [
      "\n",
      "Finding actions:   0%|                                    | 0/4 [00:00<?, ?it/s]\u001b[A\n",
      "Action: age:   0%|                                        | 0/4 [00:00<?, ?it/s]\u001b[A\n",
      "Action: age:  25%|████████                        | 1/4 [00:00<00:00,  4.75it/s]\u001b[A\n",
      "Action: gender:  25%|███████▎                     | 1/4 [00:00<00:00,  4.75it/s]\u001b[A\n",
      "Action: gender:  50%|██████████████▌              | 2/4 [00:00<00:00,  4.80it/s]\u001b[A\n",
      "Action: race:  50%|███████████████▌               | 2/4 [00:00<00:00,  4.80it/s]\u001b[A\n",
      "Action: race:  75%|███████████████████████▎       | 3/4 [00:00<00:00,  4.80it/s]\u001b[A\n",
      "Action: emotion: 100%|████████████████████████████| 4/4 [00:00<00:00,  6.23it/s]\u001b[A\n",
      "148it [02:43,  1.28it/s]"
     ]
    },
    {
     "name": "stdout",
     "output_type": "stream",
     "text": [
      "/Users/jessecoulter/Downloads/FIN377/CEOPersonalities-/matched_pictures/Brad Smith/2018\n"
     ]
    },
    {
     "name": "stderr",
     "output_type": "stream",
     "text": [
      "\n",
      "Finding actions:   0%|                                    | 0/4 [00:00<?, ?it/s]\u001b[A\n",
      "Action: age:   0%|                                        | 0/4 [00:00<?, ?it/s]\u001b[A\n",
      "Action: age:  25%|████████                        | 1/4 [00:00<00:00,  4.72it/s]\u001b[A\n",
      "Action: gender:  25%|███████▎                     | 1/4 [00:00<00:00,  4.72it/s]\u001b[A\n",
      "Action: gender:  50%|██████████████▌              | 2/4 [00:00<00:00,  4.80it/s]\u001b[A\n",
      "Action: race:  50%|███████████████▌               | 2/4 [00:00<00:00,  4.80it/s]\u001b[A\n",
      "Action: race:  75%|███████████████████████▎       | 3/4 [00:00<00:00,  4.80it/s]\u001b[A\n",
      "Action: emotion: 100%|████████████████████████████| 4/4 [00:00<00:00,  6.23it/s]\u001b[A\n",
      "149it [02:44,  1.17it/s]"
     ]
    },
    {
     "name": "stdout",
     "output_type": "stream",
     "text": [
      "/Users/jessecoulter/Downloads/FIN377/CEOPersonalities-/matched_pictures/Sasan Goodarzi/2019\n"
     ]
    },
    {
     "name": "stderr",
     "output_type": "stream",
     "text": [
      "\n",
      "Finding actions:   0%|                                    | 0/4 [00:00<?, ?it/s]\u001b[A\n",
      "Action: age:   0%|                                        | 0/4 [00:00<?, ?it/s]\u001b[A\n",
      "Action: age:  25%|████████                        | 1/4 [00:00<00:00,  4.76it/s]\u001b[A\n",
      "Action: gender:  25%|███████▎                     | 1/4 [00:00<00:00,  4.76it/s]\u001b[A\n",
      "Action: gender:  50%|██████████████▌              | 2/4 [00:00<00:00,  4.80it/s]\u001b[A\n",
      "Action: race:  50%|███████████████▌               | 2/4 [00:00<00:00,  4.80it/s]\u001b[A\n",
      "Action: race:  75%|███████████████████████▎       | 3/4 [00:00<00:00,  4.78it/s]\u001b[A\n",
      "Action: emotion: 100%|████████████████████████████| 4/4 [00:00<00:00,  6.22it/s]\u001b[A\n",
      "150it [02:45,  1.20it/s]"
     ]
    },
    {
     "name": "stdout",
     "output_type": "stream",
     "text": [
      "/Users/jessecoulter/Downloads/FIN377/CEOPersonalities-/matched_pictures/Dirk Meyer/2010\n"
     ]
    },
    {
     "name": "stderr",
     "output_type": "stream",
     "text": [
      "\n",
      "Finding actions:   0%|                                    | 0/4 [00:00<?, ?it/s]\u001b[A\n",
      "Action: age:   0%|                                        | 0/4 [00:00<?, ?it/s]\u001b[A\n",
      "Action: age:  25%|████████                        | 1/4 [00:00<00:00,  4.79it/s]\u001b[A\n",
      "Action: gender:  25%|███████▎                     | 1/4 [00:00<00:00,  4.79it/s]\u001b[A\n",
      "Action: gender:  50%|██████████████▌              | 2/4 [00:00<00:00,  4.71it/s]\u001b[A\n",
      "Action: race:  50%|███████████████▌               | 2/4 [00:00<00:00,  4.71it/s]\u001b[A\n",
      "Action: race:  75%|███████████████████████▎       | 3/4 [00:00<00:00,  4.72it/s]\u001b[A\n",
      "Action: emotion: 100%|████████████████████████████| 4/4 [00:00<00:00,  6.14it/s]\u001b[A\n",
      "151it [02:46,  1.21it/s]"
     ]
    },
    {
     "name": "stdout",
     "output_type": "stream",
     "text": [
      "/Users/jessecoulter/Downloads/FIN377/CEOPersonalities-/matched_pictures/Thomas Seifert (interim)/2011\n"
     ]
    },
    {
     "name": "stderr",
     "output_type": "stream",
     "text": [
      "\n",
      "Finding actions:   0%|                                    | 0/4 [00:00<?, ?it/s]\u001b[A\n",
      "Action: age:   0%|                                        | 0/4 [00:00<?, ?it/s]\u001b[A\n",
      "Action: age:  25%|████████                        | 1/4 [00:00<00:00,  4.87it/s]\u001b[A\n",
      "Action: gender:  25%|███████▎                     | 1/4 [00:00<00:00,  4.87it/s]\u001b[A\n",
      "Action: gender:  50%|██████████████▌              | 2/4 [00:00<00:00,  4.82it/s]\u001b[A\n",
      "Action: race:  50%|███████████████▌               | 2/4 [00:00<00:00,  4.82it/s]\u001b[A\n",
      "Action: race:  75%|███████████████████████▎       | 3/4 [00:00<00:00,  4.84it/s]\u001b[A\n",
      "Action: emotion: 100%|████████████████████████████| 4/4 [00:00<00:00,  6.29it/s]\u001b[A\n",
      "152it [02:46,  1.22it/s]"
     ]
    },
    {
     "name": "stdout",
     "output_type": "stream",
     "text": [
      "/Users/jessecoulter/Downloads/FIN377/CEOPersonalities-/matched_pictures/Rory Read/2012\n"
     ]
    },
    {
     "name": "stderr",
     "output_type": "stream",
     "text": [
      "\n",
      "Finding actions:   0%|                                    | 0/4 [00:00<?, ?it/s]\u001b[A\n",
      "Action: age:   0%|                                        | 0/4 [00:00<?, ?it/s]\u001b[A\n",
      "Action: age:  25%|████████                        | 1/4 [00:00<00:00,  4.81it/s]\u001b[A\n",
      "Action: gender:  25%|███████▎                     | 1/4 [00:00<00:00,  4.81it/s]\u001b[A\n",
      "Action: gender:  50%|██████████████▌              | 2/4 [00:00<00:00,  4.86it/s]\u001b[A\n",
      "Action: race:  50%|███████████████▌               | 2/4 [00:00<00:00,  4.86it/s]\u001b[A\n",
      "Action: race:  75%|███████████████████████▎       | 3/4 [00:00<00:00,  4.73it/s]\u001b[A\n",
      "Action: emotion: 100%|████████████████████████████| 4/4 [00:00<00:00,  6.15it/s]\u001b[A\n",
      "153it [02:47,  1.29it/s]"
     ]
    },
    {
     "name": "stdout",
     "output_type": "stream",
     "text": [
      "/Users/jessecoulter/Downloads/FIN377/CEOPersonalities-/matched_pictures/Rory Read/2013\n"
     ]
    },
    {
     "name": "stderr",
     "output_type": "stream",
     "text": [
      "\n",
      "Finding actions:   0%|                                    | 0/4 [00:00<?, ?it/s]\u001b[A\n",
      "Action: age:   0%|                                        | 0/4 [00:00<?, ?it/s]\u001b[A\n",
      "Action: age:  25%|████████                        | 1/4 [00:00<00:00,  4.83it/s]\u001b[A\n",
      "Action: gender:  25%|███████▎                     | 1/4 [00:00<00:00,  4.83it/s]\u001b[A\n",
      "Action: gender:  50%|██████████████▌              | 2/4 [00:00<00:00,  4.86it/s]\u001b[A\n",
      "Action: race:  50%|███████████████▌               | 2/4 [00:00<00:00,  4.86it/s]\u001b[A\n",
      "Action: race:  75%|███████████████████████▎       | 3/4 [00:00<00:00,  4.86it/s]\u001b[A\n",
      "Action: emotion: 100%|████████████████████████████| 4/4 [00:00<00:00,  6.31it/s]\u001b[A\n",
      "154it [02:48,  1.34it/s]"
     ]
    },
    {
     "name": "stdout",
     "output_type": "stream",
     "text": [
      "/Users/jessecoulter/Downloads/FIN377/CEOPersonalities-/matched_pictures/Lisa Su/2014\n"
     ]
    },
    {
     "name": "stderr",
     "output_type": "stream",
     "text": [
      "\n",
      "Finding actions:   0%|                                    | 0/4 [00:00<?, ?it/s]\u001b[A\n",
      "Action: age:   0%|                                        | 0/4 [00:00<?, ?it/s]\u001b[A\n",
      "Action: age:  25%|████████                        | 1/4 [00:00<00:00,  4.83it/s]\u001b[A\n",
      "Action: gender:  25%|███████▎                     | 1/4 [00:00<00:00,  4.83it/s]\u001b[A\n",
      "Action: gender:  50%|██████████████▌              | 2/4 [00:00<00:00,  4.83it/s]\u001b[A\n",
      "Action: race:  50%|███████████████▌               | 2/4 [00:00<00:00,  4.83it/s]\u001b[A\n",
      "Action: race:  75%|███████████████████████▎       | 3/4 [00:00<00:00,  4.84it/s]\u001b[A\n",
      "Action: emotion: 100%|████████████████████████████| 4/4 [00:00<00:00,  6.29it/s]\u001b[A\n",
      "155it [02:49,  1.27it/s]"
     ]
    },
    {
     "name": "stdout",
     "output_type": "stream",
     "text": [
      "/Users/jessecoulter/Downloads/FIN377/CEOPersonalities-/matched_pictures/Lisa Su/2015\n"
     ]
    },
    {
     "name": "stderr",
     "output_type": "stream",
     "text": [
      "\n",
      "Finding actions:   0%|                                    | 0/4 [00:00<?, ?it/s]\u001b[A\n",
      "Action: age:   0%|                                        | 0/4 [00:00<?, ?it/s]\u001b[A\n",
      "Action: age:  25%|████████                        | 1/4 [00:00<00:00,  4.71it/s]\u001b[A\n",
      "Action: gender:  25%|███████▎                     | 1/4 [00:00<00:00,  4.71it/s]\u001b[A\n",
      "Action: gender:  50%|██████████████▌              | 2/4 [00:00<00:00,  4.78it/s]\u001b[A\n",
      "Action: race:  50%|███████████████▌               | 2/4 [00:00<00:00,  4.78it/s]\u001b[A\n",
      "Action: race:  75%|███████████████████████▎       | 3/4 [00:00<00:00,  4.78it/s]\u001b[A\n",
      "Action: emotion: 100%|████████████████████████████| 4/4 [00:00<00:00,  6.20it/s]\u001b[A\n",
      "156it [02:53,  1.75s/it]"
     ]
    },
    {
     "name": "stdout",
     "output_type": "stream",
     "text": [
      "/Users/jessecoulter/Downloads/FIN377/CEOPersonalities-/matched_pictures/Lisa Su/2016\n"
     ]
    },
    {
     "name": "stderr",
     "output_type": "stream",
     "text": [
      "\n",
      "Finding actions:   0%|                                    | 0/4 [00:00<?, ?it/s]\u001b[A\n",
      "Action: age:   0%|                                        | 0/4 [00:00<?, ?it/s]\u001b[A\n",
      "Action: age:  25%|████████                        | 1/4 [00:00<00:00,  5.15it/s]\u001b[A\n",
      "Action: gender:  25%|███████▎                     | 1/4 [00:00<00:00,  5.15it/s]\u001b[A\n",
      "Action: gender:  50%|██████████████▌              | 2/4 [00:00<00:00,  4.98it/s]\u001b[A\n",
      "Action: race:  50%|███████████████▌               | 2/4 [00:00<00:00,  4.98it/s]\u001b[A\n",
      "Action: race:  75%|███████████████████████▎       | 3/4 [00:00<00:00,  4.94it/s]\u001b[A\n",
      "Action: emotion: 100%|████████████████████████████| 4/4 [00:00<00:00,  6.45it/s]\u001b[A\n",
      "157it [02:54,  1.57s/it]"
     ]
    },
    {
     "name": "stdout",
     "output_type": "stream",
     "text": [
      "/Users/jessecoulter/Downloads/FIN377/CEOPersonalities-/matched_pictures/Lisa Su/2017\n"
     ]
    },
    {
     "name": "stderr",
     "output_type": "stream",
     "text": [
      "\n",
      "Finding actions:   0%|                                    | 0/4 [00:00<?, ?it/s]\u001b[A\n",
      "Action: age:   0%|                                        | 0/4 [00:00<?, ?it/s]\u001b[A\n",
      "Action: age:  25%|████████                        | 1/4 [00:00<00:00,  4.62it/s]\u001b[A\n",
      "Action: gender:  25%|███████▎                     | 1/4 [00:00<00:00,  4.62it/s]\u001b[A\n",
      "Action: gender:  50%|██████████████▌              | 2/4 [00:00<00:00,  4.54it/s]\u001b[A\n",
      "Action: race:  50%|███████████████▌               | 2/4 [00:00<00:00,  4.54it/s]\u001b[A\n",
      "Action: race:  75%|███████████████████████▎       | 3/4 [00:00<00:00,  4.68it/s]\u001b[A\n",
      "Action: emotion: 100%|████████████████████████████| 4/4 [00:00<00:00,  6.04it/s]\u001b[A\n",
      "\n",
      "Finding actions:   0%|                                    | 0/4 [00:00<?, ?it/s]\u001b[A\n",
      "Action: age:   0%|                                        | 0/4 [00:00<?, ?it/s]\u001b[A\n",
      "Action: age:  25%|████████                        | 1/4 [00:00<00:00,  4.73it/s]\u001b[A\n",
      "Action: gender:  25%|███████▎                     | 1/4 [00:00<00:00,  4.73it/s]\u001b[A\n",
      "Action: gender:  50%|██████████████▌              | 2/4 [00:00<00:00,  4.76it/s]\u001b[A\n",
      "Action: race:  50%|███████████████▌               | 2/4 [00:00<00:00,  4.76it/s]\u001b[A\n",
      "Action: race:  75%|███████████████████████▎       | 3/4 [00:00<00:00,  4.78it/s]\u001b[A\n",
      "Action: emotion: 100%|████████████████████████████| 4/4 [00:00<00:00,  6.20it/s]\u001b[A\n",
      "158it [02:58,  2.40s/it]"
     ]
    },
    {
     "name": "stdout",
     "output_type": "stream",
     "text": [
      "/Users/jessecoulter/Downloads/FIN377/CEOPersonalities-/matched_pictures/Lisa Su/2018\n"
     ]
    },
    {
     "name": "stderr",
     "output_type": "stream",
     "text": [
      "\n",
      "Finding actions:   0%|                                    | 0/4 [00:00<?, ?it/s]\u001b[A\n",
      "Action: age:   0%|                                        | 0/4 [00:00<?, ?it/s]\u001b[A\n",
      "Action: age:  25%|████████                        | 1/4 [00:00<00:00,  4.97it/s]\u001b[A\n",
      "Action: gender:  25%|███████▎                     | 1/4 [00:00<00:00,  4.97it/s]\u001b[A\n",
      "Action: gender:  50%|██████████████▌              | 2/4 [00:00<00:00,  4.90it/s]\u001b[A\n",
      "Action: race:  50%|███████████████▌               | 2/4 [00:00<00:00,  4.90it/s]\u001b[A\n",
      "Action: race:  75%|███████████████████████▎       | 3/4 [00:00<00:00,  4.89it/s]\u001b[A\n",
      "Action: emotion: 100%|████████████████████████████| 4/4 [00:00<00:00,  6.37it/s]\u001b[A\n",
      "159it [02:59,  2.07s/it]"
     ]
    },
    {
     "name": "stdout",
     "output_type": "stream",
     "text": [
      "/Users/jessecoulter/Downloads/FIN377/CEOPersonalities-/matched_pictures/Lisa Su/2019\n"
     ]
    },
    {
     "name": "stderr",
     "output_type": "stream",
     "text": [
      "\n",
      "Finding actions:   0%|                                    | 0/4 [00:00<?, ?it/s]\u001b[A\n",
      "Action: age:   0%|                                        | 0/4 [00:00<?, ?it/s]\u001b[A\n",
      "Action: age:  25%|████████                        | 1/4 [00:00<00:00,  4.72it/s]\u001b[A\n",
      "Action: gender:  25%|███████▎                     | 1/4 [00:00<00:00,  4.72it/s]\u001b[A\n",
      "Action: gender:  50%|██████████████▌              | 2/4 [00:00<00:00,  4.77it/s]\u001b[A\n",
      "Action: race:  50%|███████████████▌               | 2/4 [00:00<00:00,  4.77it/s]\u001b[A\n",
      "Action: race:  75%|███████████████████████▎       | 3/4 [00:00<00:00,  4.52it/s]\u001b[A\n",
      "Action: emotion: 100%|████████████████████████████| 4/4 [00:00<00:00,  5.95it/s]\u001b[A\n",
      "160it [03:00,  1.68s/it]"
     ]
    },
    {
     "name": "stdout",
     "output_type": "stream",
     "text": [
      "/Users/jessecoulter/Downloads/FIN377/CEOPersonalities-/matched_pictures/Mark Hurd/2010\n"
     ]
    },
    {
     "name": "stderr",
     "output_type": "stream",
     "text": [
      "\n",
      "Finding actions:   0%|                                    | 0/4 [00:00<?, ?it/s]\u001b[A\n",
      "Action: age:   0%|                                        | 0/4 [00:00<?, ?it/s]\u001b[A\n",
      "Action: age:  25%|████████                        | 1/4 [00:00<00:00,  4.16it/s]\u001b[A\n",
      "Action: gender:  25%|███████▎                     | 1/4 [00:00<00:00,  4.16it/s]\u001b[A\n",
      "Action: gender:  50%|██████████████▌              | 2/4 [00:00<00:00,  4.12it/s]\u001b[A\n",
      "Action: race:  50%|███████████████▌               | 2/4 [00:00<00:00,  4.12it/s]\u001b[A\n",
      "Action: race:  75%|███████████████████████▎       | 3/4 [00:00<00:00,  4.08it/s]\u001b[A\n",
      "Action: emotion: 100%|████████████████████████████| 4/4 [00:00<00:00,  5.33it/s]\u001b[A\n",
      "161it [03:01,  1.45s/it]"
     ]
    },
    {
     "name": "stdout",
     "output_type": "stream",
     "text": [
      "/Users/jessecoulter/Downloads/FIN377/CEOPersonalities-/matched_pictures/Leo Apotheker/2011\n"
     ]
    },
    {
     "name": "stderr",
     "output_type": "stream",
     "text": [
      "\n",
      "Finding actions:   0%|                                    | 0/4 [00:00<?, ?it/s]\u001b[A\n",
      "Action: age:   0%|                                        | 0/4 [00:00<?, ?it/s]\u001b[A\n",
      "Action: age:  25%|████████                        | 1/4 [00:00<00:00,  4.42it/s]\u001b[A\n",
      "Action: gender:  25%|███████▎                     | 1/4 [00:00<00:00,  4.42it/s]\u001b[A\n",
      "Action: gender:  50%|██████████████▌              | 2/4 [00:00<00:00,  4.45it/s]\u001b[A\n",
      "Action: race:  50%|███████████████▌               | 2/4 [00:00<00:00,  4.45it/s]\u001b[A\n",
      "Action: race:  75%|███████████████████████▎       | 3/4 [00:00<00:00,  4.56it/s]\u001b[A\n",
      "Action: emotion: 100%|████████████████████████████| 4/4 [00:00<00:00,  5.89it/s]\u001b[A\n",
      "162it [03:02,  1.25s/it]"
     ]
    },
    {
     "name": "stdout",
     "output_type": "stream",
     "text": [
      "/Users/jessecoulter/Downloads/FIN377/CEOPersonalities-/matched_pictures/Meg Whitman/2012\n"
     ]
    },
    {
     "name": "stderr",
     "output_type": "stream",
     "text": [
      "\n",
      "Finding actions:   0%|                                    | 0/4 [00:00<?, ?it/s]\u001b[A\n",
      "Action: age:   0%|                                        | 0/4 [00:00<?, ?it/s]\u001b[A\n",
      "Action: age:  25%|████████                        | 1/4 [00:00<00:00,  4.16it/s]\u001b[A\n",
      "Action: gender:  25%|███████▎                     | 1/4 [00:00<00:00,  4.16it/s]\u001b[A\n",
      "Action: gender:  50%|██████████████▌              | 2/4 [00:00<00:00,  4.02it/s]\u001b[A\n",
      "Action: race:  50%|███████████████▌               | 2/4 [00:00<00:00,  4.02it/s]\u001b[A\n",
      "Action: race:  75%|███████████████████████▎       | 3/4 [00:00<00:00,  4.03it/s]\u001b[A\n",
      "Action: emotion: 100%|████████████████████████████| 4/4 [00:00<00:00,  5.26it/s]\u001b[A\n",
      "163it [03:03,  1.23s/it]"
     ]
    },
    {
     "name": "stdout",
     "output_type": "stream",
     "text": [
      "/Users/jessecoulter/Downloads/FIN377/CEOPersonalities-/matched_pictures/Meg Whitman/2013\n"
     ]
    },
    {
     "name": "stderr",
     "output_type": "stream",
     "text": [
      "\n",
      "Finding actions:   0%|                                    | 0/4 [00:00<?, ?it/s]\u001b[A\n",
      "Action: age:   0%|                                        | 0/4 [00:00<?, ?it/s]\u001b[A\n",
      "Action: age:  25%|████████                        | 1/4 [00:00<00:00,  4.15it/s]\u001b[A\n",
      "Action: gender:  25%|███████▎                     | 1/4 [00:00<00:00,  4.15it/s]\u001b[A\n",
      "Action: gender:  50%|██████████████▌              | 2/4 [00:00<00:00,  4.11it/s]\u001b[A\n",
      "Action: race:  50%|███████████████▌               | 2/4 [00:00<00:00,  4.11it/s]\u001b[A\n",
      "Action: race:  75%|███████████████████████▎       | 3/4 [00:00<00:00,  4.10it/s]\u001b[A\n",
      "Action: emotion: 100%|████████████████████████████| 4/4 [00:00<00:00,  5.34it/s]\u001b[A\n",
      "164it [03:04,  1.13s/it]"
     ]
    },
    {
     "name": "stdout",
     "output_type": "stream",
     "text": [
      "/Users/jessecoulter/Downloads/FIN377/CEOPersonalities-/matched_pictures/Meg Whitman/2014\n"
     ]
    },
    {
     "name": "stderr",
     "output_type": "stream",
     "text": [
      "\n",
      "Finding actions:   0%|                                    | 0/4 [00:00<?, ?it/s]\u001b[A\n",
      "Action: age:   0%|                                        | 0/4 [00:00<?, ?it/s]\u001b[A\n",
      "Action: age:  25%|████████                        | 1/4 [00:00<00:00,  4.57it/s]\u001b[A\n",
      "Action: gender:  25%|███████▎                     | 1/4 [00:00<00:00,  4.57it/s]\u001b[A\n",
      "Action: gender:  50%|██████████████▌              | 2/4 [00:00<00:00,  4.69it/s]\u001b[A\n",
      "Action: race:  50%|███████████████▌               | 2/4 [00:00<00:00,  4.69it/s]\u001b[A\n",
      "Action: race:  75%|███████████████████████▎       | 3/4 [00:00<00:00,  4.71it/s]\u001b[A\n",
      "Action: emotion: 100%|████████████████████████████| 4/4 [00:00<00:00,  6.10it/s]\u001b[A\n",
      "\n",
      "Finding actions:   0%|                                    | 0/4 [00:00<?, ?it/s]\u001b[A\n",
      "Action: age:   0%|                                        | 0/4 [00:00<?, ?it/s]\u001b[A\n",
      "Action: age:  25%|████████                        | 1/4 [00:00<00:00,  4.55it/s]\u001b[A\n",
      "Action: gender:  25%|███████▎                     | 1/4 [00:00<00:00,  4.55it/s]\u001b[A\n",
      "Action: gender:  50%|██████████████▌              | 2/4 [00:00<00:00,  4.65it/s]\u001b[A\n",
      "Action: race:  50%|███████████████▌               | 2/4 [00:00<00:00,  4.65it/s]\u001b[A\n",
      "Action: race:  75%|███████████████████████▎       | 3/4 [00:00<00:00,  4.64it/s]\u001b[A\n",
      "Action: emotion: 100%|████████████████████████████| 4/4 [00:00<00:00,  6.00it/s]\u001b[A\n",
      "165it [03:07,  1.80s/it]"
     ]
    },
    {
     "name": "stdout",
     "output_type": "stream",
     "text": [
      "/Users/jessecoulter/Downloads/FIN377/CEOPersonalities-/matched_pictures/Dion Weisler/2015\n"
     ]
    },
    {
     "name": "stderr",
     "output_type": "stream",
     "text": [
      "\n",
      "Finding actions:   0%|                                    | 0/4 [00:00<?, ?it/s]\u001b[A\n",
      "Action: age:   0%|                                        | 0/4 [00:00<?, ?it/s]\u001b[A\n",
      "Action: age:  25%|████████                        | 1/4 [00:00<00:00,  5.09it/s]\u001b[A\n",
      "Action: gender:  25%|███████▎                     | 1/4 [00:00<00:00,  5.09it/s]\u001b[A\n",
      "Action: gender:  50%|██████████████▌              | 2/4 [00:00<00:00,  4.92it/s]\u001b[A\n",
      "Action: race:  50%|███████████████▌               | 2/4 [00:00<00:00,  4.92it/s]\u001b[A\n",
      "Action: race:  75%|███████████████████████▎       | 3/4 [00:00<00:00,  4.86it/s]\u001b[A\n",
      "Action: emotion: 100%|████████████████████████████| 4/4 [00:00<00:00,  6.36it/s]\u001b[A\n",
      "166it [03:09,  1.65s/it]"
     ]
    },
    {
     "name": "stdout",
     "output_type": "stream",
     "text": [
      "/Users/jessecoulter/Downloads/FIN377/CEOPersonalities-/matched_pictures/Dion Weisler/2016\n"
     ]
    },
    {
     "name": "stderr",
     "output_type": "stream",
     "text": [
      "\n",
      "Finding actions:   0%|                                    | 0/4 [00:00<?, ?it/s]\u001b[A\n",
      "Action: age:   0%|                                        | 0/4 [00:00<?, ?it/s]\u001b[A\n",
      "Action: age:  25%|████████                        | 1/4 [00:00<00:00,  4.75it/s]\u001b[A\n",
      "Action: gender:  25%|███████▎                     | 1/4 [00:00<00:00,  4.75it/s]\u001b[A\n",
      "Action: gender:  50%|██████████████▌              | 2/4 [00:00<00:00,  4.82it/s]\u001b[A\n",
      "Action: race:  50%|███████████████▌               | 2/4 [00:00<00:00,  4.82it/s]\u001b[A\n",
      "Action: race:  75%|███████████████████████▎       | 3/4 [00:00<00:00,  4.81it/s]\u001b[A\n",
      "Action: emotion: 100%|████████████████████████████| 4/4 [00:00<00:00,  6.24it/s]\u001b[A\n",
      "167it [03:09,  1.39s/it]"
     ]
    },
    {
     "name": "stdout",
     "output_type": "stream",
     "text": [
      "/Users/jessecoulter/Downloads/FIN377/CEOPersonalities-/matched_pictures/Dion Weisler/2017\n"
     ]
    },
    {
     "name": "stderr",
     "output_type": "stream",
     "text": [
      "\n",
      "Finding actions:   0%|                                    | 0/4 [00:00<?, ?it/s]\u001b[A\n",
      "Action: age:   0%|                                        | 0/4 [00:00<?, ?it/s]\u001b[A\n",
      "Action: age:  25%|████████                        | 1/4 [00:00<00:00,  4.83it/s]\u001b[A\n",
      "Action: gender:  25%|███████▎                     | 1/4 [00:00<00:00,  4.83it/s]\u001b[A\n",
      "Action: gender:  50%|██████████████▌              | 2/4 [00:00<00:00,  4.80it/s]\u001b[A\n",
      "Action: race:  50%|███████████████▌               | 2/4 [00:00<00:00,  4.80it/s]\u001b[A\n",
      "Action: race:  75%|███████████████████████▎       | 3/4 [00:00<00:00,  4.81it/s]\u001b[A\n",
      "Action: emotion: 100%|████████████████████████████| 4/4 [00:00<00:00,  6.25it/s]\u001b[A\n",
      "168it [03:10,  1.21s/it]"
     ]
    },
    {
     "name": "stdout",
     "output_type": "stream",
     "text": [
      "/Users/jessecoulter/Downloads/FIN377/CEOPersonalities-/matched_pictures/Dion Weisler/2018\n"
     ]
    },
    {
     "name": "stderr",
     "output_type": "stream",
     "text": [
      "\n",
      "Finding actions:   0%|                                    | 0/4 [00:00<?, ?it/s]\u001b[A\n",
      "Action: age:   0%|                                        | 0/4 [00:00<?, ?it/s]\u001b[A\n",
      "Action: age:  25%|████████                        | 1/4 [00:00<00:00,  4.71it/s]\u001b[A\n",
      "Action: gender:  25%|███████▎                     | 1/4 [00:00<00:00,  4.71it/s]\u001b[A\n",
      "Action: gender:  50%|██████████████▌              | 2/4 [00:00<00:00,  4.78it/s]\u001b[A\n",
      "Action: race:  50%|███████████████▌               | 2/4 [00:00<00:00,  4.78it/s]\u001b[A\n",
      "Action: race:  75%|███████████████████████▎       | 3/4 [00:00<00:00,  4.80it/s]\u001b[A\n",
      "Action: emotion: 100%|████████████████████████████| 4/4 [00:00<00:00,  6.22it/s]\u001b[A\n",
      "169it [03:13,  1.55s/it]"
     ]
    },
    {
     "name": "stdout",
     "output_type": "stream",
     "text": [
      "/Users/jessecoulter/Downloads/FIN377/CEOPersonalities-/matched_pictures/Enrique Lores/2019\n"
     ]
    },
    {
     "name": "stderr",
     "output_type": "stream",
     "text": [
      "\n",
      "Finding actions:   0%|                                    | 0/4 [00:00<?, ?it/s]\u001b[A\n",
      "Action: age:   0%|                                        | 0/4 [00:00<?, ?it/s]\u001b[A\n",
      "Action: age:  25%|████████                        | 1/4 [00:00<00:00,  4.85it/s]\u001b[A\n",
      "Action: gender:  25%|███████▎                     | 1/4 [00:00<00:00,  4.85it/s]\u001b[A\n",
      "Action: gender:  50%|██████████████▌              | 2/4 [00:00<00:00,  4.83it/s]\u001b[A\n",
      "Action: race:  50%|███████████████▌               | 2/4 [00:00<00:00,  4.83it/s]\u001b[A\n",
      "Action: race:  75%|███████████████████████▎       | 3/4 [00:00<00:00,  4.83it/s]\u001b[A\n",
      "Action: emotion: 100%|████████████████████████████| 4/4 [00:00<00:00,  6.28it/s]\u001b[A\n",
      "170it [03:13,  1.32s/it]"
     ]
    },
    {
     "name": "stdout",
     "output_type": "stream",
     "text": [
      "/Users/jessecoulter/Downloads/FIN377/CEOPersonalities-/matched_pictures/Steve Appleton/2010\n"
     ]
    },
    {
     "name": "stderr",
     "output_type": "stream",
     "text": [
      "\n",
      "Finding actions:   0%|                                    | 0/4 [00:00<?, ?it/s]\u001b[A\n",
      "Action: age:   0%|                                        | 0/4 [00:00<?, ?it/s]\u001b[A\n",
      "Action: age:  25%|████████                        | 1/4 [00:00<00:00,  4.83it/s]\u001b[A\n",
      "Action: gender:  25%|███████▎                     | 1/4 [00:00<00:00,  4.83it/s]\u001b[A\n",
      "Action: gender:  50%|██████████████▌              | 2/4 [00:00<00:00,  4.85it/s]\u001b[A\n",
      "Action: race:  50%|███████████████▌               | 2/4 [00:00<00:00,  4.85it/s]\u001b[A\n",
      "Action: race:  75%|███████████████████████▎       | 3/4 [00:00<00:00,  4.82it/s]\u001b[A\n",
      "Action: emotion: 100%|████████████████████████████| 4/4 [00:00<00:00,  6.27it/s]\u001b[A\n",
      "171it [03:14,  1.16s/it]"
     ]
    },
    {
     "name": "stdout",
     "output_type": "stream",
     "text": [
      "/Users/jessecoulter/Downloads/FIN377/CEOPersonalities-/matched_pictures/Steve Appleton/2011\n"
     ]
    },
    {
     "name": "stderr",
     "output_type": "stream",
     "text": [
      "\n",
      "Finding actions:   0%|                                    | 0/4 [00:00<?, ?it/s]\u001b[A\n",
      "Action: age:   0%|                                        | 0/4 [00:00<?, ?it/s]\u001b[A\n",
      "Action: age:  25%|████████                        | 1/4 [00:00<00:00,  5.09it/s]\u001b[A\n",
      "Action: gender:  25%|███████▎                     | 1/4 [00:00<00:00,  5.09it/s]\u001b[A\n",
      "Action: gender:  50%|██████████████▌              | 2/4 [00:00<00:00,  4.93it/s]\u001b[A\n",
      "Action: race:  50%|███████████████▌               | 2/4 [00:00<00:00,  4.93it/s]\u001b[A\n",
      "Action: race:  75%|███████████████████████▎       | 3/4 [00:00<00:00,  4.88it/s]\u001b[A\n",
      "Action: emotion: 100%|████████████████████████████| 4/4 [00:00<00:00,  6.38it/s]\u001b[A\n",
      "172it [03:15,  1.20s/it]"
     ]
    },
    {
     "name": "stdout",
     "output_type": "stream",
     "text": [
      "/Users/jessecoulter/Downloads/FIN377/CEOPersonalities-/matched_pictures/Mark Durcan/2012\n"
     ]
    },
    {
     "name": "stderr",
     "output_type": "stream",
     "text": [
      "\n",
      "Finding actions:   0%|                                    | 0/4 [00:00<?, ?it/s]\u001b[A\n",
      "Action: age:   0%|                                        | 0/4 [00:00<?, ?it/s]\u001b[A\n",
      "Action: age:  25%|████████                        | 1/4 [00:00<00:00,  4.83it/s]\u001b[A\n",
      "Action: gender:  25%|███████▎                     | 1/4 [00:00<00:00,  4.83it/s]\u001b[A\n",
      "Action: gender:  50%|██████████████▌              | 2/4 [00:00<00:00,  4.86it/s]\u001b[A\n",
      "Action: race:  50%|███████████████▌               | 2/4 [00:00<00:00,  4.86it/s]\u001b[A\n",
      "Action: race:  75%|███████████████████████▎       | 3/4 [00:00<00:00,  4.81it/s]\u001b[A\n",
      "Action: emotion: 100%|████████████████████████████| 4/4 [00:00<00:00,  6.26it/s]\u001b[A\n",
      "173it [03:16,  1.04s/it]"
     ]
    },
    {
     "name": "stdout",
     "output_type": "stream",
     "text": [
      "/Users/jessecoulter/Downloads/FIN377/CEOPersonalities-/matched_pictures/Mark Durcan/2013\n"
     ]
    },
    {
     "name": "stderr",
     "output_type": "stream",
     "text": [
      "\n",
      "Finding actions:   0%|                                    | 0/4 [00:00<?, ?it/s]\u001b[A\n",
      "Action: age:   0%|                                        | 0/4 [00:00<?, ?it/s]\u001b[A\n",
      "Action: age:  25%|████████                        | 1/4 [00:00<00:00,  4.83it/s]\u001b[A\n",
      "Action: gender:  25%|███████▎                     | 1/4 [00:00<00:00,  4.83it/s]\u001b[A\n",
      "Action: gender:  50%|██████████████▌              | 2/4 [00:00<00:00,  4.83it/s]\u001b[A\n",
      "Action: race:  50%|███████████████▌               | 2/4 [00:00<00:00,  4.83it/s]\u001b[A\n",
      "Action: race:  75%|███████████████████████▎       | 3/4 [00:00<00:00,  4.81it/s]\u001b[A\n",
      "Action: emotion: 100%|████████████████████████████| 4/4 [00:00<00:00,  6.26it/s]\u001b[A\n",
      "174it [03:17,  1.07it/s]"
     ]
    },
    {
     "name": "stdout",
     "output_type": "stream",
     "text": [
      "/Users/jessecoulter/Downloads/FIN377/CEOPersonalities-/matched_pictures/Mark Durcan/2014\n"
     ]
    },
    {
     "name": "stderr",
     "output_type": "stream",
     "text": [
      "\n",
      "Finding actions:   0%|                                    | 0/4 [00:00<?, ?it/s]\u001b[A\n",
      "Action: age:   0%|                                        | 0/4 [00:00<?, ?it/s]\u001b[A\n",
      "Action: age:  25%|████████                        | 1/4 [00:00<00:00,  4.78it/s]\u001b[A\n",
      "Action: gender:  25%|███████▎                     | 1/4 [00:00<00:00,  4.78it/s]\u001b[A\n",
      "Action: gender:  50%|██████████████▌              | 2/4 [00:00<00:00,  4.67it/s]\u001b[A\n",
      "Action: race:  50%|███████████████▌               | 2/4 [00:00<00:00,  4.67it/s]\u001b[A\n",
      "Action: race:  75%|███████████████████████▎       | 3/4 [00:00<00:00,  4.69it/s]\u001b[A\n",
      "Action: emotion: 100%|████████████████████████████| 4/4 [00:00<00:00,  6.09it/s]\u001b[A\n",
      "175it [03:18,  1.16it/s]"
     ]
    },
    {
     "name": "stdout",
     "output_type": "stream",
     "text": [
      "/Users/jessecoulter/Downloads/FIN377/CEOPersonalities-/matched_pictures/Mark Durcan/2015\n"
     ]
    },
    {
     "name": "stderr",
     "output_type": "stream",
     "text": [
      "\n",
      "Finding actions:   0%|                                    | 0/4 [00:00<?, ?it/s]\u001b[A\n",
      "Action: age:   0%|                                        | 0/4 [00:00<?, ?it/s]\u001b[A\n",
      "Action: age:  25%|████████                        | 1/4 [00:00<00:00,  4.89it/s]\u001b[A\n",
      "Action: gender:  25%|███████▎                     | 1/4 [00:00<00:00,  4.89it/s]\u001b[A\n",
      "Action: gender:  50%|██████████████▌              | 2/4 [00:00<00:00,  4.85it/s]\u001b[A\n",
      "Action: race:  50%|███████████████▌               | 2/4 [00:00<00:00,  4.85it/s]\u001b[A\n",
      "Action: race:  75%|███████████████████████▎       | 3/4 [00:00<00:00,  4.84it/s]\u001b[A\n",
      "Action: emotion: 100%|████████████████████████████| 4/4 [00:00<00:00,  6.30it/s]\u001b[A\n",
      "176it [03:18,  1.15it/s]"
     ]
    },
    {
     "name": "stdout",
     "output_type": "stream",
     "text": [
      "/Users/jessecoulter/Downloads/FIN377/CEOPersonalities-/matched_pictures/Mark Durcan/2016\n"
     ]
    },
    {
     "name": "stderr",
     "output_type": "stream",
     "text": [
      "\n",
      "Finding actions:   0%|                                    | 0/4 [00:00<?, ?it/s]\u001b[A\n",
      "Action: age:   0%|                                        | 0/4 [00:00<?, ?it/s]\u001b[A\n",
      "Action: age:  25%|████████                        | 1/4 [00:00<00:00,  4.82it/s]\u001b[A\n",
      "Action: gender:  25%|███████▎                     | 1/4 [00:00<00:00,  4.82it/s]\u001b[A\n",
      "Action: gender:  50%|██████████████▌              | 2/4 [00:00<00:00,  4.81it/s]\u001b[A\n",
      "Action: race:  50%|███████████████▌               | 2/4 [00:00<00:00,  4.81it/s]\u001b[A\n",
      "Action: race:  75%|███████████████████████▎       | 3/4 [00:00<00:00,  4.82it/s]\u001b[A\n",
      "Action: emotion: 100%|████████████████████████████| 4/4 [00:00<00:00,  6.26it/s]\u001b[A\n",
      "177it [03:19,  1.22it/s]"
     ]
    },
    {
     "name": "stdout",
     "output_type": "stream",
     "text": [
      "/Users/jessecoulter/Downloads/FIN377/CEOPersonalities-/matched_pictures/Sanjay Mehrotra/2017\n"
     ]
    },
    {
     "name": "stderr",
     "output_type": "stream",
     "text": [
      "\n",
      "Finding actions:   0%|                                    | 0/4 [00:00<?, ?it/s]\u001b[A\n",
      "Action: age:   0%|                                        | 0/4 [00:00<?, ?it/s]\u001b[A\n",
      "Action: age:  25%|████████                        | 1/4 [00:00<00:00,  4.85it/s]\u001b[A\n",
      "Action: gender:  25%|███████▎                     | 1/4 [00:00<00:00,  4.85it/s]\u001b[A\n",
      "Action: gender:  50%|██████████████▌              | 2/4 [00:00<00:00,  4.85it/s]\u001b[A\n",
      "Action: race:  50%|███████████████▌               | 2/4 [00:00<00:00,  4.85it/s]\u001b[A\n",
      "Action: race:  75%|███████████████████████▎       | 3/4 [00:00<00:00,  4.87it/s]\u001b[A\n",
      "Action: emotion: 100%|████████████████████████████| 4/4 [00:00<00:00,  6.33it/s]\u001b[A\n",
      "178it [03:21,  1.00it/s]"
     ]
    },
    {
     "name": "stdout",
     "output_type": "stream",
     "text": [
      "/Users/jessecoulter/Downloads/FIN377/CEOPersonalities-/matched_pictures/Sanjay Mehrotra/2018\n"
     ]
    },
    {
     "name": "stderr",
     "output_type": "stream",
     "text": [
      "\n",
      "Finding actions:   0%|                                    | 0/4 [00:00<?, ?it/s]\u001b[A\n",
      "Action: age:   0%|                                        | 0/4 [00:00<?, ?it/s]\u001b[A\n",
      "Action: age:  25%|████████                        | 1/4 [00:00<00:00,  4.83it/s]\u001b[A\n",
      "Action: gender:  25%|███████▎                     | 1/4 [00:00<00:00,  4.83it/s]\u001b[A\n",
      "Action: gender:  50%|██████████████▌              | 2/4 [00:00<00:00,  4.87it/s]\u001b[A\n",
      "Action: race:  50%|███████████████▌               | 2/4 [00:00<00:00,  4.87it/s]\u001b[A\n",
      "Action: race:  75%|███████████████████████▎       | 3/4 [00:00<00:00,  4.85it/s]\u001b[A\n",
      "Action: emotion: 100%|████████████████████████████| 4/4 [00:00<00:00,  6.30it/s]\u001b[A\n",
      "179it [03:21,  1.09it/s]"
     ]
    },
    {
     "name": "stdout",
     "output_type": "stream",
     "text": [
      "/Users/jessecoulter/Downloads/FIN377/CEOPersonalities-/matched_pictures/Sanjay Mehrotra/2019\n"
     ]
    },
    {
     "name": "stderr",
     "output_type": "stream",
     "text": [
      "\n",
      "Finding actions:   0%|                                    | 0/4 [00:00<?, ?it/s]\u001b[A\n",
      "Action: age:   0%|                                        | 0/4 [00:00<?, ?it/s]\u001b[A\n",
      "Action: age:  25%|████████                        | 1/4 [00:00<00:00,  4.84it/s]\u001b[A\n",
      "Action: gender:  25%|███████▎                     | 1/4 [00:00<00:00,  4.84it/s]\u001b[A\n",
      "Action: gender:  50%|██████████████▌              | 2/4 [00:00<00:00,  4.82it/s]\u001b[A\n",
      "Action: race:  50%|███████████████▌               | 2/4 [00:00<00:00,  4.82it/s]\u001b[A\n",
      "Action: race:  75%|███████████████████████▎       | 3/4 [00:00<00:00,  4.82it/s]\u001b[A\n",
      "Action: emotion: 100%|████████████████████████████| 4/4 [00:00<00:00,  6.27it/s]\u001b[A\n",
      "180it [03:22,  1.16it/s]"
     ]
    },
    {
     "name": "stdout",
     "output_type": "stream",
     "text": [
      "/Users/jessecoulter/Downloads/FIN377/CEOPersonalities-/matched_pictures/Jerald Fishman/2010\n"
     ]
    },
    {
     "name": "stderr",
     "output_type": "stream",
     "text": [
      "\n",
      "Finding actions:   0%|                                    | 0/4 [00:00<?, ?it/s]\u001b[A\n",
      "Action: age:   0%|                                        | 0/4 [00:00<?, ?it/s]\u001b[A\n",
      "Action: age:  25%|████████                        | 1/4 [00:00<00:00,  4.77it/s]\u001b[A\n",
      "Action: gender:  25%|███████▎                     | 1/4 [00:00<00:00,  4.77it/s]\u001b[A\n",
      "Action: gender:  50%|██████████████▌              | 2/4 [00:00<00:00,  4.82it/s]\u001b[A\n",
      "Action: race:  50%|███████████████▌               | 2/4 [00:00<00:00,  4.82it/s]\u001b[A\n",
      "Action: race:  75%|███████████████████████▎       | 3/4 [00:00<00:00,  4.83it/s]\u001b[A\n",
      "Action: emotion: 100%|████████████████████████████| 4/4 [00:00<00:00,  6.27it/s]\u001b[A\n",
      "181it [03:23,  1.24it/s]"
     ]
    },
    {
     "name": "stdout",
     "output_type": "stream",
     "text": [
      "/Users/jessecoulter/Downloads/FIN377/CEOPersonalities-/matched_pictures/Jerald Fishman/2011\n",
      "Error analyzing /Users/jessecoulter/Downloads/FIN377/CEOPersonalities-/matched_pictures/Jerald Fishman/2011/pic1.jpg: Face could not be detected in /Users/jessecoulter/Downloads/FIN377/CEOPersonalities-/matched_pictures/Jerald Fishman/2011/pic1.jpg.Please confirm that the picture is a face photo or consider to set enforce_detection param to False.\n",
      "/Users/jessecoulter/Downloads/FIN377/CEOPersonalities-/matched_pictures/Jerald Fishman/2012\n",
      "No image found in /Users/jessecoulter/Downloads/FIN377/CEOPersonalities-/matched_pictures/Jerald Fishman/2012\n",
      "/Users/jessecoulter/Downloads/FIN377/CEOPersonalities-/matched_pictures/Vincent Roche/2013\n"
     ]
    },
    {
     "name": "stderr",
     "output_type": "stream",
     "text": [
      "\n",
      "Finding actions:   0%|                                    | 0/4 [00:00<?, ?it/s]\u001b[A\n",
      "Action: age:   0%|                                        | 0/4 [00:00<?, ?it/s]\u001b[A\n",
      "Action: age:  25%|████████                        | 1/4 [00:00<00:00,  4.78it/s]\u001b[A\n",
      "Action: gender:  25%|███████▎                     | 1/4 [00:00<00:00,  4.78it/s]\u001b[A\n",
      "Action: gender:  50%|██████████████▌              | 2/4 [00:00<00:00,  4.81it/s]\u001b[A\n",
      "Action: race:  50%|███████████████▌               | 2/4 [00:00<00:00,  4.81it/s]\u001b[A\n",
      "Action: race:  75%|███████████████████████▎       | 3/4 [00:00<00:00,  4.80it/s]\u001b[A\n",
      "Action: emotion: 100%|████████████████████████████| 4/4 [00:00<00:00,  6.24it/s]\u001b[A\n",
      "\n",
      "Finding actions:   0%|                                    | 0/4 [00:00<?, ?it/s]\u001b[A\n",
      "Action: age:   0%|                                        | 0/4 [00:00<?, ?it/s]\u001b[A\n",
      "Action: age:  25%|████████                        | 1/4 [00:00<00:00,  4.64it/s]\u001b[A\n",
      "Action: gender:  25%|███████▎                     | 1/4 [00:00<00:00,  4.64it/s]\u001b[A\n",
      "Action: gender:  50%|██████████████▌              | 2/4 [00:00<00:00,  4.75it/s]\u001b[A\n",
      "Action: race:  50%|███████████████▌               | 2/4 [00:00<00:00,  4.75it/s]\u001b[A\n",
      "Action: race:  75%|███████████████████████▎       | 3/4 [00:00<00:00,  4.76it/s]\u001b[A\n",
      "Action: emotion: 100%|████████████████████████████| 4/4 [00:00<00:00,  6.17it/s]\u001b[A\n",
      "184it [03:24,  1.64it/s]"
     ]
    },
    {
     "name": "stdout",
     "output_type": "stream",
     "text": [
      "/Users/jessecoulter/Downloads/FIN377/CEOPersonalities-/matched_pictures/Vincent Roche/2014\n"
     ]
    },
    {
     "name": "stderr",
     "output_type": "stream",
     "text": [
      "\n",
      "Finding actions:   0%|                                    | 0/4 [00:00<?, ?it/s]\u001b[A\n",
      "Action: age:   0%|                                        | 0/4 [00:00<?, ?it/s]\u001b[A\n",
      "Action: age:  25%|████████                        | 1/4 [00:00<00:00,  4.65it/s]\u001b[A\n",
      "Action: gender:  25%|███████▎                     | 1/4 [00:00<00:00,  4.65it/s]\u001b[A\n",
      "Action: gender:  50%|██████████████▌              | 2/4 [00:00<00:00,  4.79it/s]\u001b[A\n",
      "Action: race:  50%|███████████████▌               | 2/4 [00:00<00:00,  4.79it/s]\u001b[A\n",
      "Action: race:  75%|███████████████████████▎       | 3/4 [00:00<00:00,  4.67it/s]\u001b[A\n",
      "Action: emotion: 100%|████████████████████████████| 4/4 [00:00<00:00,  6.09it/s]\u001b[A\n",
      "185it [03:25,  1.58it/s]"
     ]
    },
    {
     "name": "stdout",
     "output_type": "stream",
     "text": [
      "/Users/jessecoulter/Downloads/FIN377/CEOPersonalities-/matched_pictures/Vincent Roche/2015\n"
     ]
    },
    {
     "name": "stderr",
     "output_type": "stream",
     "text": [
      "\n",
      "Finding actions:   0%|                                    | 0/4 [00:00<?, ?it/s]\u001b[A\n",
      "Action: age:   0%|                                        | 0/4 [00:00<?, ?it/s]\u001b[A\n",
      "Action: age:  25%|████████                        | 1/4 [00:00<00:00,  4.63it/s]\u001b[A\n",
      "Action: gender:  25%|███████▎                     | 1/4 [00:00<00:00,  4.63it/s]\u001b[A\n",
      "Action: gender:  50%|██████████████▌              | 2/4 [00:00<00:00,  4.71it/s]\u001b[A\n",
      "Action: race:  50%|███████████████▌               | 2/4 [00:00<00:00,  4.71it/s]\u001b[A\n",
      "Action: race:  75%|███████████████████████▎       | 3/4 [00:00<00:00,  4.79it/s]\u001b[A\n",
      "Action: emotion: 100%|████████████████████████████| 4/4 [00:00<00:00,  6.19it/s]\u001b[A\n",
      "186it [03:25,  1.55it/s]"
     ]
    },
    {
     "name": "stdout",
     "output_type": "stream",
     "text": [
      "/Users/jessecoulter/Downloads/FIN377/CEOPersonalities-/matched_pictures/Vincent Roche/2016\n"
     ]
    },
    {
     "name": "stderr",
     "output_type": "stream",
     "text": [
      "\n",
      "Finding actions:   0%|                                    | 0/4 [00:00<?, ?it/s]\u001b[A\n",
      "Action: age:   0%|                                        | 0/4 [00:00<?, ?it/s]\u001b[A\n",
      "Action: age:  25%|████████                        | 1/4 [00:00<00:00,  4.80it/s]\u001b[A\n",
      "Action: gender:  25%|███████▎                     | 1/4 [00:00<00:00,  4.80it/s]\u001b[A\n",
      "Action: gender:  50%|██████████████▌              | 2/4 [00:00<00:00,  4.81it/s]\u001b[A\n",
      "Action: race:  50%|███████████████▌               | 2/4 [00:00<00:00,  4.81it/s]\u001b[A\n",
      "Action: race:  75%|███████████████████████▎       | 3/4 [00:00<00:00,  4.80it/s]\u001b[A\n",
      "Action: emotion: 100%|████████████████████████████| 4/4 [00:00<00:00,  6.24it/s]\u001b[A\n",
      "187it [03:26,  1.54it/s]"
     ]
    },
    {
     "name": "stdout",
     "output_type": "stream",
     "text": [
      "/Users/jessecoulter/Downloads/FIN377/CEOPersonalities-/matched_pictures/Vincent Roche/2017\n"
     ]
    },
    {
     "name": "stderr",
     "output_type": "stream",
     "text": [
      "\n",
      "Finding actions:   0%|                                    | 0/4 [00:00<?, ?it/s]\u001b[A\n",
      "Action: age:   0%|                                        | 0/4 [00:00<?, ?it/s]\u001b[A\n",
      "Action: age:  25%|████████                        | 1/4 [00:00<00:00,  5.09it/s]\u001b[A\n",
      "Action: gender:  25%|███████▎                     | 1/4 [00:00<00:00,  5.09it/s]\u001b[A\n",
      "Action: gender:  50%|██████████████▌              | 2/4 [00:00<00:00,  4.95it/s]\u001b[A\n",
      "Action: race:  50%|███████████████▌               | 2/4 [00:00<00:00,  4.95it/s]\u001b[A\n",
      "Action: race:  75%|███████████████████████▎       | 3/4 [00:00<00:00,  4.87it/s]\u001b[A\n",
      "Action: emotion: 100%|████████████████████████████| 4/4 [00:00<00:00,  6.38it/s]\u001b[A\n",
      "188it [03:27,  1.25it/s]"
     ]
    },
    {
     "name": "stdout",
     "output_type": "stream",
     "text": [
      "/Users/jessecoulter/Downloads/FIN377/CEOPersonalities-/matched_pictures/Vincent Roche/2018\n"
     ]
    },
    {
     "name": "stderr",
     "output_type": "stream",
     "text": [
      "\n",
      "Finding actions:   0%|                                    | 0/4 [00:00<?, ?it/s]\u001b[A\n",
      "Action: age:   0%|                                        | 0/4 [00:00<?, ?it/s]\u001b[A\n",
      "Action: age:  25%|████████                        | 1/4 [00:00<00:00,  5.01it/s]\u001b[A\n",
      "Action: gender:  25%|███████▎                     | 1/4 [00:00<00:00,  5.01it/s]\u001b[A\n",
      "Action: gender:  50%|██████████████▌              | 2/4 [00:00<00:00,  4.90it/s]\u001b[A\n",
      "Action: race:  50%|███████████████▌               | 2/4 [00:00<00:00,  4.90it/s]\u001b[A\n",
      "Action: race:  75%|███████████████████████▎       | 3/4 [00:00<00:00,  4.87it/s]\u001b[A\n",
      "Action: emotion: 100%|████████████████████████████| 4/4 [00:00<00:00,  6.35it/s]\u001b[A\n",
      "189it [03:29,  1.08it/s]"
     ]
    },
    {
     "name": "stdout",
     "output_type": "stream",
     "text": [
      "/Users/jessecoulter/Downloads/FIN377/CEOPersonalities-/matched_pictures/Vincent Roche/2019\n"
     ]
    },
    {
     "name": "stderr",
     "output_type": "stream",
     "text": [
      "\n",
      "Finding actions:   0%|                                    | 0/4 [00:00<?, ?it/s]\u001b[A\n",
      "Action: age:   0%|                                        | 0/4 [00:00<?, ?it/s]\u001b[A\n",
      "Action: age:  25%|████████                        | 1/4 [00:00<00:00,  4.87it/s]\u001b[A\n",
      "Action: gender:  25%|███████▎                     | 1/4 [00:00<00:00,  4.87it/s]\u001b[A\n",
      "Action: gender:  50%|██████████████▌              | 2/4 [00:00<00:00,  4.82it/s]\u001b[A\n",
      "Action: race:  50%|███████████████▌               | 2/4 [00:00<00:00,  4.82it/s]\u001b[A\n",
      "Action: race:  75%|███████████████████████▎       | 3/4 [00:00<00:00,  4.80it/s]\u001b[A\n",
      "Action: emotion: 100%|████████████████████████████| 4/4 [00:00<00:00,  6.26it/s]\u001b[A\n",
      "190it [03:30,  1.05it/s]"
     ]
    },
    {
     "name": "stdout",
     "output_type": "stream",
     "text": [
      "/Users/jessecoulter/Downloads/FIN377/CEOPersonalities-/matched_pictures/Stephen G. Newberry/2010\n"
     ]
    },
    {
     "name": "stderr",
     "output_type": "stream",
     "text": [
      "\n",
      "Finding actions:   0%|                                    | 0/4 [00:00<?, ?it/s]\u001b[A\n",
      "Action: age:   0%|                                        | 0/4 [00:00<?, ?it/s]\u001b[A\n",
      "Action: age:  25%|████████                        | 1/4 [00:00<00:00,  4.78it/s]\u001b[A\n",
      "Action: gender:  25%|███████▎                     | 1/4 [00:00<00:00,  4.78it/s]\u001b[A\n",
      "Action: gender:  50%|██████████████▌              | 2/4 [00:00<00:00,  4.79it/s]\u001b[A\n",
      "Action: race:  50%|███████████████▌               | 2/4 [00:00<00:00,  4.79it/s]\u001b[A\n",
      "Action: race:  75%|███████████████████████▎       | 3/4 [00:00<00:00,  4.81it/s]\u001b[A\n",
      "Action: emotion: 100%|████████████████████████████| 4/4 [00:00<00:00,  6.25it/s]\u001b[A\n",
      "191it [03:30,  1.14it/s]"
     ]
    },
    {
     "name": "stdout",
     "output_type": "stream",
     "text": [
      "/Users/jessecoulter/Downloads/FIN377/CEOPersonalities-/matched_pictures/Stephen G. Newberry/2011\n"
     ]
    },
    {
     "name": "stderr",
     "output_type": "stream",
     "text": [
      "\n",
      "Finding actions:   0%|                                    | 0/4 [00:00<?, ?it/s]\u001b[A\n",
      "Action: age:   0%|                                        | 0/4 [00:00<?, ?it/s]\u001b[A\n",
      "Action: age:  25%|████████                        | 1/4 [00:00<00:00,  4.79it/s]\u001b[A\n",
      "Action: gender:  25%|███████▎                     | 1/4 [00:00<00:00,  4.79it/s]\u001b[A\n",
      "Action: gender:  50%|██████████████▌              | 2/4 [00:00<00:00,  4.82it/s]\u001b[A\n",
      "Action: race:  50%|███████████████▌               | 2/4 [00:00<00:00,  4.82it/s]\u001b[A\n",
      "Action: race:  75%|███████████████████████▎       | 3/4 [00:00<00:00,  4.81it/s]\u001b[A\n",
      "Action: emotion: 100%|████████████████████████████| 4/4 [00:00<00:00,  6.26it/s]\u001b[A\n",
      "192it [03:31,  1.22it/s]"
     ]
    },
    {
     "name": "stdout",
     "output_type": "stream",
     "text": [
      "/Users/jessecoulter/Downloads/FIN377/CEOPersonalities-/matched_pictures/Martin Anstice/2012\n",
      "Folder not found: /Users/jessecoulter/Downloads/FIN377/CEOPersonalities-/matched_pictures/Martin Anstice/2012\n",
      "/Users/jessecoulter/Downloads/FIN377/CEOPersonalities-/matched_pictures/Martin Anstice/2013\n",
      "Folder not found: /Users/jessecoulter/Downloads/FIN377/CEOPersonalities-/matched_pictures/Martin Anstice/2013\n",
      "/Users/jessecoulter/Downloads/FIN377/CEOPersonalities-/matched_pictures/Martin Anstice/2014\n"
     ]
    },
    {
     "name": "stderr",
     "output_type": "stream",
     "text": [
      "\n",
      "Finding actions:   0%|                                    | 0/4 [00:00<?, ?it/s]\u001b[A\n",
      "Action: age:   0%|                                        | 0/4 [00:00<?, ?it/s]\u001b[A\n",
      "Action: age:  25%|████████                        | 1/4 [00:00<00:00,  4.81it/s]\u001b[A\n",
      "Action: gender:  25%|███████▎                     | 1/4 [00:00<00:00,  4.81it/s]\u001b[A\n",
      "Action: gender:  50%|██████████████▌              | 2/4 [00:00<00:00,  4.82it/s]\u001b[A\n",
      "Action: race:  50%|███████████████▌               | 2/4 [00:00<00:00,  4.82it/s]\u001b[A\n",
      "Action: race:  75%|███████████████████████▎       | 3/4 [00:00<00:00,  4.81it/s]\u001b[A\n",
      "Action: emotion: 100%|████████████████████████████| 4/4 [00:00<00:00,  6.25it/s]\u001b[A\n",
      "195it [03:32,  2.02it/s]"
     ]
    },
    {
     "name": "stdout",
     "output_type": "stream",
     "text": [
      "/Users/jessecoulter/Downloads/FIN377/CEOPersonalities-/matched_pictures/Martin Anstice/2015\n"
     ]
    },
    {
     "name": "stderr",
     "output_type": "stream",
     "text": [
      "\n",
      "Finding actions:   0%|                                    | 0/4 [00:00<?, ?it/s]\u001b[A\n",
      "Action: age:   0%|                                        | 0/4 [00:00<?, ?it/s]\u001b[A\n",
      "Action: age:  25%|████████                        | 1/4 [00:00<00:00,  4.83it/s]\u001b[A\n",
      "Action: gender:  25%|███████▎                     | 1/4 [00:00<00:00,  4.83it/s]\u001b[A\n",
      "Action: gender:  50%|██████████████▌              | 2/4 [00:00<00:00,  4.71it/s]\u001b[A\n",
      "Action: race:  50%|███████████████▌               | 2/4 [00:00<00:00,  4.71it/s]\u001b[A\n",
      "Action: race:  75%|███████████████████████▎       | 3/4 [00:00<00:00,  4.72it/s]\u001b[A\n",
      "Action: emotion: 100%|████████████████████████████| 4/4 [00:00<00:00,  6.15it/s]\u001b[A\n",
      "196it [03:33,  1.76it/s]"
     ]
    },
    {
     "name": "stdout",
     "output_type": "stream",
     "text": [
      "/Users/jessecoulter/Downloads/FIN377/CEOPersonalities-/matched_pictures/Martin Anstice/2016\n"
     ]
    },
    {
     "name": "stderr",
     "output_type": "stream",
     "text": [
      "\n",
      "Finding actions:   0%|                                    | 0/4 [00:00<?, ?it/s]\u001b[A\n",
      "Action: age:   0%|                                        | 0/4 [00:00<?, ?it/s]\u001b[A\n",
      "Action: age:  25%|████████                        | 1/4 [00:00<00:00,  4.77it/s]\u001b[A\n",
      "Action: gender:  25%|███████▎                     | 1/4 [00:00<00:00,  4.77it/s]\u001b[A\n",
      "Action: gender:  50%|██████████████▌              | 2/4 [00:00<00:00,  4.80it/s]\u001b[A\n",
      "Action: race:  50%|███████████████▌               | 2/4 [00:00<00:00,  4.80it/s]\u001b[A\n",
      "Action: race:  75%|███████████████████████▎       | 3/4 [00:00<00:00,  4.81it/s]\u001b[A\n",
      "Action: emotion: 100%|████████████████████████████| 4/4 [00:00<00:00,  6.25it/s]\u001b[A\n",
      "197it [03:33,  1.68it/s]"
     ]
    },
    {
     "name": "stdout",
     "output_type": "stream",
     "text": [
      "/Users/jessecoulter/Downloads/FIN377/CEOPersonalities-/matched_pictures/Martin Anstice/2017\n"
     ]
    },
    {
     "name": "stderr",
     "output_type": "stream",
     "text": [
      "\n",
      "Finding actions:   0%|                                    | 0/4 [00:00<?, ?it/s]\u001b[A\n",
      "Action: age:   0%|                                        | 0/4 [00:00<?, ?it/s]\u001b[A\n",
      "Action: age:  25%|████████                        | 1/4 [00:00<00:00,  4.63it/s]\u001b[A\n",
      "Action: gender:  25%|███████▎                     | 1/4 [00:00<00:00,  4.63it/s]\u001b[A\n",
      "Action: gender:  50%|██████████████▌              | 2/4 [00:00<00:00,  4.72it/s]\u001b[A\n",
      "Action: race:  50%|███████████████▌               | 2/4 [00:00<00:00,  4.72it/s]\u001b[A\n",
      "Action: race:  75%|███████████████████████▎       | 3/4 [00:00<00:00,  4.76it/s]\u001b[A\n",
      "Action: emotion: 100%|████████████████████████████| 4/4 [00:00<00:00,  6.16it/s]\u001b[A\n",
      "199it [03:34,  2.04it/s]"
     ]
    },
    {
     "name": "stdout",
     "output_type": "stream",
     "text": [
      "/Users/jessecoulter/Downloads/FIN377/CEOPersonalities-/matched_pictures/Martin Anstice/2018\n",
      "Error analyzing /Users/jessecoulter/Downloads/FIN377/CEOPersonalities-/matched_pictures/Martin Anstice/2018/pic3.jpg: Face could not be detected in /Users/jessecoulter/Downloads/FIN377/CEOPersonalities-/matched_pictures/Martin Anstice/2018/pic3.jpg.Please confirm that the picture is a face photo or consider to set enforce_detection param to False.\n",
      "/Users/jessecoulter/Downloads/FIN377/CEOPersonalities-/matched_pictures/Tim Archer/2019\n"
     ]
    },
    {
     "name": "stderr",
     "output_type": "stream",
     "text": [
      "\n",
      "Finding actions:   0%|                                    | 0/4 [00:00<?, ?it/s]\u001b[A\n",
      "Action: age:   0%|                                        | 0/4 [00:00<?, ?it/s]\u001b[A\n",
      "Action: age:  25%|████████                        | 1/4 [00:00<00:00,  4.80it/s]\u001b[A\n",
      "Action: gender:  25%|███████▎                     | 1/4 [00:00<00:00,  4.80it/s]\u001b[A\n",
      "Action: gender:  50%|██████████████▌              | 2/4 [00:00<00:00,  4.81it/s]\u001b[A\n",
      "Action: race:  50%|███████████████▌               | 2/4 [00:00<00:00,  4.81it/s]\u001b[A\n",
      "Action: race:  75%|███████████████████████▎       | 3/4 [00:00<00:00,  4.78it/s]\u001b[A\n",
      "Action: emotion: 100%|████████████████████████████| 4/4 [00:00<00:00,  6.22it/s]\u001b[A\n",
      "200it [03:35,  1.52it/s]"
     ]
    },
    {
     "name": "stdout",
     "output_type": "stream",
     "text": [
      "/Users/jessecoulter/Downloads/FIN377/CEOPersonalities-/matched_pictures/Michael R. Splinter/2010\n"
     ]
    },
    {
     "name": "stderr",
     "output_type": "stream",
     "text": [
      "\n",
      "Finding actions:   0%|                                    | 0/4 [00:00<?, ?it/s]\u001b[A\n",
      "Action: age:   0%|                                        | 0/4 [00:00<?, ?it/s]\u001b[A\n",
      "Action: age:  25%|████████                        | 1/4 [00:00<00:00,  4.82it/s]\u001b[A\n",
      "Action: gender:  25%|███████▎                     | 1/4 [00:00<00:00,  4.82it/s]\u001b[A\n",
      "Action: gender:  50%|██████████████▌              | 2/4 [00:00<00:00,  4.82it/s]\u001b[A\n",
      "Action: race:  50%|███████████████▌               | 2/4 [00:00<00:00,  4.82it/s]\u001b[A\n",
      "Action: race:  75%|███████████████████████▎       | 3/4 [00:00<00:00,  4.84it/s]\u001b[A\n",
      "Action: emotion: 100%|████████████████████████████| 4/4 [00:00<00:00,  6.28it/s]\u001b[A\n",
      "201it [03:36,  1.51it/s]"
     ]
    },
    {
     "name": "stdout",
     "output_type": "stream",
     "text": [
      "/Users/jessecoulter/Downloads/FIN377/CEOPersonalities-/matched_pictures/Michael R. Splinter/2011\n"
     ]
    },
    {
     "name": "stderr",
     "output_type": "stream",
     "text": [
      "\n",
      "Finding actions:   0%|                                    | 0/4 [00:00<?, ?it/s]\u001b[A\n",
      "Action: age:   0%|                                        | 0/4 [00:00<?, ?it/s]\u001b[A\n",
      "Action: age:  25%|████████                        | 1/4 [00:00<00:00,  4.78it/s]\u001b[A\n",
      "Action: gender:  25%|███████▎                     | 1/4 [00:00<00:00,  4.78it/s]\u001b[A\n",
      "Action: gender:  50%|██████████████▌              | 2/4 [00:00<00:00,  4.78it/s]\u001b[A\n",
      "Action: race:  50%|███████████████▌               | 2/4 [00:00<00:00,  4.78it/s]\u001b[A\n",
      "Action: race:  75%|███████████████████████▎       | 3/4 [00:00<00:00,  4.76it/s]\u001b[A\n",
      "Action: emotion: 100%|████████████████████████████| 4/4 [00:00<00:00,  6.19it/s]\u001b[A\n",
      "202it [03:37,  1.49it/s]"
     ]
    },
    {
     "name": "stdout",
     "output_type": "stream",
     "text": [
      "/Users/jessecoulter/Downloads/FIN377/CEOPersonalities-/matched_pictures/Michael R. Splinter/2012\n"
     ]
    },
    {
     "name": "stderr",
     "output_type": "stream",
     "text": [
      "\n",
      "Finding actions:   0%|                                    | 0/4 [00:00<?, ?it/s]\u001b[A\n",
      "Action: age:   0%|                                        | 0/4 [00:00<?, ?it/s]\u001b[A\n",
      "Action: age:  25%|████████                        | 1/4 [00:00<00:00,  4.80it/s]\u001b[A\n",
      "Action: gender:  25%|███████▎                     | 1/4 [00:00<00:00,  4.80it/s]\u001b[A\n",
      "Action: gender:  50%|██████████████▌              | 2/4 [00:00<00:00,  4.79it/s]\u001b[A\n",
      "Action: race:  50%|███████████████▌               | 2/4 [00:00<00:00,  4.79it/s]\u001b[A\n",
      "Action: race:  75%|███████████████████████▎       | 3/4 [00:00<00:00,  4.71it/s]\u001b[A\n",
      "Action: emotion: 100%|████████████████████████████| 4/4 [00:00<00:00,  6.15it/s]\u001b[A\n",
      "203it [03:37,  1.41it/s]"
     ]
    },
    {
     "name": "stdout",
     "output_type": "stream",
     "text": [
      "/Users/jessecoulter/Downloads/FIN377/CEOPersonalities-/matched_pictures/Gary E. Dickerson/2013\n"
     ]
    },
    {
     "name": "stderr",
     "output_type": "stream",
     "text": [
      "\n",
      "Finding actions:   0%|                                    | 0/4 [00:00<?, ?it/s]\u001b[A\n",
      "Action: age:   0%|                                        | 0/4 [00:00<?, ?it/s]\u001b[A\n",
      "Action: age:  25%|████████                        | 1/4 [00:00<00:00,  4.69it/s]\u001b[A\n",
      "Action: gender:  25%|███████▎                     | 1/4 [00:00<00:00,  4.69it/s]\u001b[A\n",
      "Action: gender:  50%|██████████████▌              | 2/4 [00:00<00:00,  4.81it/s]\u001b[A\n",
      "Action: race:  50%|███████████████▌               | 2/4 [00:00<00:00,  4.81it/s]\u001b[A\n",
      "Action: race:  75%|███████████████████████▎       | 3/4 [00:00<00:00,  4.80it/s]\u001b[A\n",
      "Action: emotion: 100%|████████████████████████████| 4/4 [00:00<00:00,  6.22it/s]\u001b[A\n",
      "\n",
      "Finding actions:   0%|                                    | 0/4 [00:00<?, ?it/s]\u001b[A\n",
      "Action: age:   0%|                                        | 0/4 [00:00<?, ?it/s]\u001b[A\n",
      "Action: age:  25%|████████                        | 1/4 [00:00<00:00,  4.61it/s]\u001b[A\n",
      "Action: gender:  25%|███████▎                     | 1/4 [00:00<00:00,  4.61it/s]\u001b[A\n",
      "Action: gender:  50%|██████████████▌              | 2/4 [00:00<00:00,  4.73it/s]\u001b[A\n",
      "Action: race:  50%|███████████████▌               | 2/4 [00:00<00:00,  4.73it/s]\u001b[A\n",
      "Action: race:  75%|███████████████████████▎       | 3/4 [00:00<00:00,  4.75it/s]\u001b[A\n",
      "Action: emotion: 100%|████████████████████████████| 4/4 [00:00<00:00,  6.16it/s]\u001b[A\n",
      "\n",
      "Finding actions:   0%|                                    | 0/4 [00:00<?, ?it/s]\u001b[A\n",
      "Action: age:   0%|                                        | 0/4 [00:00<?, ?it/s]\u001b[A\n",
      "Action: age:  25%|████████                        | 1/4 [00:00<00:00,  4.69it/s]\u001b[A\n",
      "Action: gender:  25%|███████▎                     | 1/4 [00:00<00:00,  4.69it/s]\u001b[A\n",
      "Action: gender:  50%|██████████████▌              | 2/4 [00:00<00:00,  4.74it/s]\u001b[A\n",
      "Action: race:  50%|███████████████▌               | 2/4 [00:00<00:00,  4.74it/s]\u001b[A\n",
      "Action: race:  75%|███████████████████████▎       | 3/4 [00:00<00:00,  4.78it/s]\u001b[A\n",
      "Action: emotion: 100%|████████████████████████████| 4/4 [00:00<00:00,  6.20it/s]\u001b[A\n",
      "204it [03:40,  1.26s/it]"
     ]
    },
    {
     "name": "stdout",
     "output_type": "stream",
     "text": [
      "/Users/jessecoulter/Downloads/FIN377/CEOPersonalities-/matched_pictures/Gary E. Dickerson/2014\n"
     ]
    },
    {
     "name": "stderr",
     "output_type": "stream",
     "text": [
      "\n",
      "Finding actions:   0%|                                    | 0/4 [00:00<?, ?it/s]\u001b[A\n",
      "Action: age:   0%|                                        | 0/4 [00:00<?, ?it/s]\u001b[A\n",
      "Action: age:  25%|████████                        | 1/4 [00:00<00:00,  4.79it/s]\u001b[A\n",
      "Action: gender:  25%|███████▎                     | 1/4 [00:00<00:00,  4.79it/s]\u001b[A\n",
      "Action: gender:  50%|██████████████▌              | 2/4 [00:00<00:00,  4.79it/s]\u001b[A\n",
      "Action: race:  50%|███████████████▌               | 2/4 [00:00<00:00,  4.79it/s]\u001b[A\n",
      "Action: race:  75%|███████████████████████▎       | 3/4 [00:00<00:00,  4.78it/s]\u001b[A\n",
      "Action: emotion: 100%|████████████████████████████| 4/4 [00:00<00:00,  6.17it/s]\u001b[A\n",
      "205it [03:41,  1.09s/it]"
     ]
    },
    {
     "name": "stdout",
     "output_type": "stream",
     "text": [
      "/Users/jessecoulter/Downloads/FIN377/CEOPersonalities-/matched_pictures/Gary E. Dickerson/2015\n"
     ]
    },
    {
     "name": "stderr",
     "output_type": "stream",
     "text": [
      "\n",
      "Finding actions:   0%|                                    | 0/4 [00:00<?, ?it/s]\u001b[A\n",
      "Action: age:   0%|                                        | 0/4 [00:00<?, ?it/s]\u001b[A\n",
      "Action: age:  25%|████████                        | 1/4 [00:00<00:00,  4.34it/s]\u001b[A\n",
      "Action: gender:  25%|███████▎                     | 1/4 [00:00<00:00,  4.34it/s]\u001b[A\n",
      "Action: gender:  50%|██████████████▌              | 2/4 [00:00<00:00,  4.55it/s]\u001b[A\n",
      "Action: race:  50%|███████████████▌               | 2/4 [00:00<00:00,  4.55it/s]\u001b[A\n",
      "Action: race:  75%|███████████████████████▎       | 3/4 [00:00<00:00,  4.66it/s]\u001b[A\n",
      "Action: emotion: 100%|████████████████████████████| 4/4 [00:00<00:00,  5.99it/s]\u001b[A\n",
      "206it [03:41,  1.02it/s]"
     ]
    },
    {
     "name": "stdout",
     "output_type": "stream",
     "text": [
      "/Users/jessecoulter/Downloads/FIN377/CEOPersonalities-/matched_pictures/Gary E. Dickerson/2016\n"
     ]
    },
    {
     "name": "stderr",
     "output_type": "stream",
     "text": [
      "\n",
      "Finding actions:   0%|                                    | 0/4 [00:00<?, ?it/s]\u001b[A\n",
      "Action: age:   0%|                                        | 0/4 [00:00<?, ?it/s]\u001b[A\n",
      "Action: age:  25%|████████                        | 1/4 [00:00<00:00,  4.81it/s]\u001b[A\n",
      "Action: gender:  25%|███████▎                     | 1/4 [00:00<00:00,  4.81it/s]\u001b[A\n",
      "Action: gender:  50%|██████████████▌              | 2/4 [00:00<00:00,  4.83it/s]\u001b[A\n",
      "Action: race:  50%|███████████████▌               | 2/4 [00:00<00:00,  4.83it/s]\u001b[A\n",
      "Action: race:  75%|███████████████████████▎       | 3/4 [00:00<00:00,  4.70it/s]\u001b[A\n",
      "Action: emotion: 100%|████████████████████████████| 4/4 [00:00<00:00,  6.15it/s]\u001b[A\n",
      "207it [03:45,  1.67s/it]"
     ]
    },
    {
     "name": "stdout",
     "output_type": "stream",
     "text": [
      "/Users/jessecoulter/Downloads/FIN377/CEOPersonalities-/matched_pictures/Gary E. Dickerson/2017\n"
     ]
    },
    {
     "name": "stderr",
     "output_type": "stream",
     "text": [
      "\n",
      "Finding actions:   0%|                                    | 0/4 [00:00<?, ?it/s]\u001b[A\n",
      "Action: age:   0%|                                        | 0/4 [00:00<?, ?it/s]\u001b[A\n",
      "Action: age:  25%|████████                        | 1/4 [00:00<00:00,  4.55it/s]\u001b[A\n",
      "Action: gender:  25%|███████▎                     | 1/4 [00:00<00:00,  4.55it/s]\u001b[A\n",
      "Action: gender:  50%|██████████████▌              | 2/4 [00:00<00:00,  4.62it/s]\u001b[A\n",
      "Action: race:  50%|███████████████▌               | 2/4 [00:00<00:00,  4.62it/s]\u001b[A\n",
      "Action: race:  75%|███████████████████████▎       | 3/4 [00:00<00:00,  4.60it/s]\u001b[A\n",
      "Action: emotion: 100%|████████████████████████████| 4/4 [00:00<00:00,  5.97it/s]\u001b[A\n",
      "208it [03:45,  1.38s/it]"
     ]
    },
    {
     "name": "stdout",
     "output_type": "stream",
     "text": [
      "/Users/jessecoulter/Downloads/FIN377/CEOPersonalities-/matched_pictures/Gary E. Dickerson/2018\n"
     ]
    },
    {
     "name": "stderr",
     "output_type": "stream",
     "text": [
      "\n",
      "Finding actions:   0%|                                    | 0/4 [00:00<?, ?it/s]\u001b[A\n",
      "Action: age:   0%|                                        | 0/4 [00:00<?, ?it/s]\u001b[A\n",
      "Action: age:  25%|████████                        | 1/4 [00:00<00:00,  4.78it/s]\u001b[A\n",
      "Action: gender:  25%|███████▎                     | 1/4 [00:00<00:00,  4.78it/s]\u001b[A\n",
      "Action: gender:  50%|██████████████▌              | 2/4 [00:00<00:00,  4.75it/s]\u001b[A\n",
      "Action: race:  50%|███████████████▌               | 2/4 [00:00<00:00,  4.75it/s]\u001b[A\n",
      "Action: race:  75%|███████████████████████▎       | 3/4 [00:00<00:00,  4.75it/s]\u001b[A\n",
      "Action: emotion: 100%|████████████████████████████| 4/4 [00:00<00:00,  6.18it/s]\u001b[A\n",
      "209it [03:46,  1.18s/it]"
     ]
    },
    {
     "name": "stdout",
     "output_type": "stream",
     "text": [
      "/Users/jessecoulter/Downloads/FIN377/CEOPersonalities-/matched_pictures/Gary E. Dickerson/2019\n"
     ]
    },
    {
     "name": "stderr",
     "output_type": "stream",
     "text": [
      "\n",
      "Finding actions:   0%|                                    | 0/4 [00:00<?, ?it/s]\u001b[A\n",
      "Action: age:   0%|                                        | 0/4 [00:00<?, ?it/s]\u001b[A\n",
      "Action: age:  25%|████████                        | 1/4 [00:00<00:00,  4.78it/s]\u001b[A\n",
      "Action: gender:  25%|███████▎                     | 1/4 [00:00<00:00,  4.78it/s]\u001b[A\n",
      "Action: gender:  50%|██████████████▌              | 2/4 [00:00<00:00,  4.77it/s]\u001b[A\n",
      "Action: race:  50%|███████████████▌               | 2/4 [00:00<00:00,  4.77it/s]\u001b[A\n",
      "Action: race:  75%|███████████████████████▎       | 3/4 [00:00<00:00,  4.66it/s]\u001b[A\n",
      "Action: emotion: 100%|████████████████████████████| 4/4 [00:00<00:00,  6.09it/s]\u001b[A\n",
      "210it [03:47,  1.09s/it]"
     ]
    },
    {
     "name": "stdout",
     "output_type": "stream",
     "text": [
      "/Users/jessecoulter/Downloads/FIN377/CEOPersonalities-/matched_pictures/Rick Wallace/2010\n"
     ]
    },
    {
     "name": "stderr",
     "output_type": "stream",
     "text": [
      "\n",
      "Finding actions:   0%|                                    | 0/4 [00:00<?, ?it/s]\u001b[A\n",
      "Action: age:   0%|                                        | 0/4 [00:00<?, ?it/s]\u001b[A\n",
      "Action: age:  25%|████████                        | 1/4 [00:00<00:00,  4.24it/s]\u001b[A\n",
      "Action: gender:  25%|███████▎                     | 1/4 [00:00<00:00,  4.24it/s]\u001b[A\n",
      "Action: gender:  50%|██████████████▌              | 2/4 [00:00<00:00,  4.48it/s]\u001b[A\n",
      "Action: race:  50%|███████████████▌               | 2/4 [00:00<00:00,  4.48it/s]\u001b[A\n",
      "Action: race:  75%|███████████████████████▎       | 3/4 [00:00<00:00,  4.35it/s]\u001b[A\n",
      "Action: emotion: 100%|████████████████████████████| 4/4 [00:00<00:00,  5.66it/s]\u001b[A\n",
      "211it [03:48,  1.01it/s]"
     ]
    },
    {
     "name": "stdout",
     "output_type": "stream",
     "text": [
      "/Users/jessecoulter/Downloads/FIN377/CEOPersonalities-/matched_pictures/Rick Wallace/2011\n"
     ]
    },
    {
     "name": "stderr",
     "output_type": "stream",
     "text": [
      "\n",
      "Finding actions:   0%|                                    | 0/4 [00:00<?, ?it/s]\u001b[A\n",
      "Action: age:   0%|                                        | 0/4 [00:00<?, ?it/s]\u001b[A\n",
      "Action: age:  25%|████████                        | 1/4 [00:00<00:00,  4.11it/s]\u001b[A\n",
      "Action: gender:  25%|███████▎                     | 1/4 [00:00<00:00,  4.11it/s]\u001b[A\n",
      "Action: gender:  50%|██████████████▌              | 2/4 [00:00<00:00,  3.88it/s]\u001b[A\n",
      "Action: race:  50%|███████████████▌               | 2/4 [00:00<00:00,  3.88it/s]\u001b[A\n",
      "Action: race:  75%|███████████████████████▎       | 3/4 [00:00<00:00,  3.90it/s]\u001b[A\n",
      "Action: emotion: 100%|████████████████████████████| 4/4 [00:00<00:00,  5.10it/s]\u001b[A\n",
      "212it [03:49,  1.05it/s]"
     ]
    },
    {
     "name": "stdout",
     "output_type": "stream",
     "text": [
      "/Users/jessecoulter/Downloads/FIN377/CEOPersonalities-/matched_pictures/Rick Wallace/2012\n"
     ]
    },
    {
     "name": "stderr",
     "output_type": "stream",
     "text": [
      "\n",
      "Finding actions:   0%|                                    | 0/4 [00:00<?, ?it/s]\u001b[A\n",
      "Action: age:   0%|                                        | 0/4 [00:00<?, ?it/s]\u001b[A\n",
      "Action: age:  25%|████████                        | 1/4 [00:00<00:00,  4.02it/s]\u001b[A\n",
      "Action: gender:  25%|███████▎                     | 1/4 [00:00<00:00,  4.02it/s]\u001b[A\n",
      "Action: gender:  50%|██████████████▌              | 2/4 [00:00<00:00,  4.12it/s]\u001b[A\n",
      "Action: race:  50%|███████████████▌               | 2/4 [00:00<00:00,  4.12it/s]\u001b[A\n",
      "Action: race:  75%|███████████████████████▎       | 3/4 [00:00<00:00,  4.32it/s]\u001b[A\n",
      "Action: emotion: 100%|████████████████████████████| 4/4 [00:00<00:00,  5.51it/s]\u001b[A\n",
      "213it [03:49,  1.08it/s]"
     ]
    },
    {
     "name": "stdout",
     "output_type": "stream",
     "text": [
      "/Users/jessecoulter/Downloads/FIN377/CEOPersonalities-/matched_pictures/Rick Wallace/2013\n",
      "Error analyzing /Users/jessecoulter/Downloads/FIN377/CEOPersonalities-/matched_pictures/Rick Wallace/2013/pic2.jpg: Face could not be detected in /Users/jessecoulter/Downloads/FIN377/CEOPersonalities-/matched_pictures/Rick Wallace/2013/pic2.jpg.Please confirm that the picture is a face photo or consider to set enforce_detection param to False.\n",
      "/Users/jessecoulter/Downloads/FIN377/CEOPersonalities-/matched_pictures/Rick Wallace/2014\n"
     ]
    },
    {
     "name": "stderr",
     "output_type": "stream",
     "text": [
      "\n",
      "Finding actions:   0%|                                    | 0/4 [00:00<?, ?it/s]\u001b[A\n",
      "Action: age:   0%|                                        | 0/4 [00:00<?, ?it/s]\u001b[A\n",
      "Action: age:  25%|████████                        | 1/4 [00:00<00:00,  4.17it/s]\u001b[A\n",
      "Action: gender:  25%|███████▎                     | 1/4 [00:00<00:00,  4.17it/s]\u001b[A\n",
      "Action: gender:  50%|██████████████▌              | 2/4 [00:00<00:00,  4.28it/s]\u001b[A\n",
      "Action: race:  50%|███████████████▌               | 2/4 [00:00<00:00,  4.28it/s]\u001b[A\n",
      "Action: race:  75%|███████████████████████▎       | 3/4 [00:00<00:00,  4.31it/s]\u001b[A\n",
      "Action: emotion: 100%|████████████████████████████| 4/4 [00:00<00:00,  5.58it/s]\u001b[A\n",
      "215it [03:50,  1.48it/s]"
     ]
    },
    {
     "name": "stdout",
     "output_type": "stream",
     "text": [
      "/Users/jessecoulter/Downloads/FIN377/CEOPersonalities-/matched_pictures/Rick Wallace/2015\n"
     ]
    },
    {
     "name": "stderr",
     "output_type": "stream",
     "text": [
      "\n",
      "Finding actions:   0%|                                    | 0/4 [00:00<?, ?it/s]\u001b[A\n",
      "Action: age:   0%|                                        | 0/4 [00:00<?, ?it/s]\u001b[A\n",
      "Action: age:  25%|████████                        | 1/4 [00:00<00:00,  4.09it/s]\u001b[A\n",
      "Action: gender:  25%|███████▎                     | 1/4 [00:00<00:00,  4.09it/s]\u001b[A\n",
      "Action: gender:  50%|██████████████▌              | 2/4 [00:00<00:00,  4.13it/s]\u001b[A\n",
      "Action: race:  50%|███████████████▌               | 2/4 [00:00<00:00,  4.13it/s]\u001b[A\n",
      "Action: race:  75%|███████████████████████▎       | 3/4 [00:00<00:00,  4.12it/s]\u001b[A\n",
      "Action: emotion: 100%|████████████████████████████| 4/4 [00:00<00:00,  5.34it/s]\u001b[A\n",
      "216it [03:51,  1.42it/s]"
     ]
    },
    {
     "name": "stdout",
     "output_type": "stream",
     "text": [
      "/Users/jessecoulter/Downloads/FIN377/CEOPersonalities-/matched_pictures/Rick Wallace/2016\n"
     ]
    },
    {
     "name": "stderr",
     "output_type": "stream",
     "text": [
      "\n",
      "Finding actions:   0%|                                    | 0/4 [00:00<?, ?it/s]\u001b[A\n",
      "Action: age:   0%|                                        | 0/4 [00:00<?, ?it/s]\u001b[A\n",
      "Action: age:  25%|████████                        | 1/4 [00:00<00:00,  4.11it/s]\u001b[A\n",
      "Action: gender:  25%|███████▎                     | 1/4 [00:00<00:00,  4.11it/s]\u001b[A\n",
      "Action: gender:  50%|██████████████▌              | 2/4 [00:00<00:00,  4.21it/s]\u001b[A\n",
      "Action: race:  50%|███████████████▌               | 2/4 [00:00<00:00,  4.21it/s]\u001b[A\n",
      "Action: race:  75%|███████████████████████▎       | 3/4 [00:00<00:00,  4.26it/s]\u001b[A\n",
      "Action: emotion: 100%|████████████████████████████| 4/4 [00:00<00:00,  5.50it/s]\u001b[A\n",
      "217it [03:52,  1.38it/s]"
     ]
    },
    {
     "name": "stdout",
     "output_type": "stream",
     "text": [
      "/Users/jessecoulter/Downloads/FIN377/CEOPersonalities-/matched_pictures/Rick Wallace/2017\n"
     ]
    },
    {
     "name": "stderr",
     "output_type": "stream",
     "text": [
      "\n",
      "Finding actions:   0%|                                    | 0/4 [00:00<?, ?it/s]\u001b[A\n",
      "Action: age:   0%|                                        | 0/4 [00:00<?, ?it/s]\u001b[A\n",
      "Action: age:  25%|████████                        | 1/4 [00:00<00:00,  4.77it/s]\u001b[A\n",
      "Action: gender:  25%|███████▎                     | 1/4 [00:00<00:00,  4.77it/s]\u001b[A\n",
      "Action: gender:  50%|██████████████▌              | 2/4 [00:00<00:00,  4.61it/s]\u001b[A\n",
      "Action: race:  50%|███████████████▌               | 2/4 [00:00<00:00,  4.61it/s]\u001b[A\n",
      "Action: race:  75%|███████████████████████▎       | 3/4 [00:00<00:00,  4.66it/s]\u001b[A\n",
      "Action: emotion: 100%|████████████████████████████| 4/4 [00:00<00:00,  6.06it/s]\u001b[A\n",
      "218it [03:53,  1.25it/s]"
     ]
    },
    {
     "name": "stdout",
     "output_type": "stream",
     "text": [
      "/Users/jessecoulter/Downloads/FIN377/CEOPersonalities-/matched_pictures/Rick Wallace/2018\n"
     ]
    },
    {
     "name": "stderr",
     "output_type": "stream",
     "text": [
      "\n",
      "Finding actions:   0%|                                    | 0/4 [00:00<?, ?it/s]\u001b[A\n",
      "Action: age:   0%|                                        | 0/4 [00:00<?, ?it/s]\u001b[A\n",
      "Action: age:  25%|████████                        | 1/4 [00:00<00:00,  4.72it/s]\u001b[A\n",
      "Action: gender:  25%|███████▎                     | 1/4 [00:00<00:00,  4.72it/s]\u001b[A\n",
      "Action: gender:  50%|██████████████▌              | 2/4 [00:00<00:00,  4.75it/s]\u001b[A\n",
      "Action: race:  50%|███████████████▌               | 2/4 [00:00<00:00,  4.75it/s]\u001b[A\n",
      "Action: race:  75%|███████████████████████▎       | 3/4 [00:00<00:00,  4.75it/s]\u001b[A\n",
      "Action: emotion: 100%|████████████████████████████| 4/4 [00:00<00:00,  6.17it/s]\u001b[A\n",
      "219it [03:53,  1.28it/s]"
     ]
    },
    {
     "name": "stdout",
     "output_type": "stream",
     "text": [
      "/Users/jessecoulter/Downloads/FIN377/CEOPersonalities-/matched_pictures/Rick Wallace/2019\n"
     ]
    },
    {
     "name": "stderr",
     "output_type": "stream",
     "text": [
      "\n",
      "Finding actions:   0%|                                    | 0/4 [00:00<?, ?it/s]\u001b[A\n",
      "Action: age:   0%|                                        | 0/4 [00:00<?, ?it/s]\u001b[A\n",
      "Action: age:  25%|████████                        | 1/4 [00:00<00:00,  4.79it/s]\u001b[A\n",
      "Action: gender:  25%|███████▎                     | 1/4 [00:00<00:00,  4.79it/s]\u001b[A\n",
      "Action: gender:  50%|██████████████▌              | 2/4 [00:00<00:00,  4.81it/s]\u001b[A\n",
      "Action: race:  50%|███████████████▌               | 2/4 [00:00<00:00,  4.81it/s]\u001b[A\n",
      "Action: race:  75%|███████████████████████▎       | 3/4 [00:00<00:00,  4.80it/s]\u001b[A\n",
      "Action: emotion: 100%|████████████████████████████| 4/4 [00:00<00:00,  6.24it/s]\u001b[A\n",
      "220it [03:54,  1.32it/s]"
     ]
    },
    {
     "name": "stdout",
     "output_type": "stream",
     "text": [
      "/Users/jessecoulter/Downloads/FIN377/CEOPersonalities-/matched_pictures/Sehat Sutardja/2010\n"
     ]
    },
    {
     "name": "stderr",
     "output_type": "stream",
     "text": [
      "\n",
      "Finding actions:   0%|                                    | 0/4 [00:00<?, ?it/s]\u001b[A\n",
      "Action: age:   0%|                                        | 0/4 [00:00<?, ?it/s]\u001b[A\n",
      "Action: age:  25%|████████                        | 1/4 [00:00<00:00,  4.70it/s]\u001b[A\n",
      "Action: gender:  25%|███████▎                     | 1/4 [00:00<00:00,  4.70it/s]\u001b[A\n",
      "Action: gender:  50%|██████████████▌              | 2/4 [00:00<00:00,  4.73it/s]\u001b[A\n",
      "Action: race:  50%|███████████████▌               | 2/4 [00:00<00:00,  4.73it/s]\u001b[A\n",
      "Action: race:  75%|███████████████████████▎       | 3/4 [00:00<00:00,  4.75it/s]\u001b[A\n",
      "Action: emotion: 100%|████████████████████████████| 4/4 [00:00<00:00,  6.17it/s]\u001b[A\n",
      "221it [03:55,  1.36it/s]"
     ]
    },
    {
     "name": "stdout",
     "output_type": "stream",
     "text": [
      "/Users/jessecoulter/Downloads/FIN377/CEOPersonalities-/matched_pictures/Sehat Sutardja/2011\n"
     ]
    },
    {
     "name": "stderr",
     "output_type": "stream",
     "text": [
      "\n",
      "Finding actions:   0%|                                    | 0/4 [00:00<?, ?it/s]\u001b[A\n",
      "Action: age:   0%|                                        | 0/4 [00:00<?, ?it/s]\u001b[A\n",
      "Action: age:  25%|████████                        | 1/4 [00:00<00:00,  4.74it/s]\u001b[A\n",
      "Action: gender:  25%|███████▎                     | 1/4 [00:00<00:00,  4.74it/s]\u001b[A\n",
      "Action: gender:  50%|██████████████▌              | 2/4 [00:00<00:00,  4.68it/s]\u001b[A\n",
      "Action: race:  50%|███████████████▌               | 2/4 [00:00<00:00,  4.68it/s]\u001b[A\n",
      "Action: race:  75%|███████████████████████▎       | 3/4 [00:00<00:00,  4.75it/s]\u001b[A\n",
      "Action: emotion: 100%|████████████████████████████| 4/4 [00:00<00:00,  6.16it/s]\u001b[A\n",
      "222it [03:56,  1.39it/s]"
     ]
    },
    {
     "name": "stdout",
     "output_type": "stream",
     "text": [
      "/Users/jessecoulter/Downloads/FIN377/CEOPersonalities-/matched_pictures/Sehat Sutardja/2012\n"
     ]
    },
    {
     "name": "stderr",
     "output_type": "stream",
     "text": [
      "\n",
      "Finding actions:   0%|                                    | 0/4 [00:00<?, ?it/s]\u001b[A\n",
      "Action: age:   0%|                                        | 0/4 [00:00<?, ?it/s]\u001b[A\n",
      "Action: age:  25%|████████                        | 1/4 [00:00<00:00,  4.73it/s]\u001b[A\n",
      "Action: gender:  25%|███████▎                     | 1/4 [00:00<00:00,  4.73it/s]\u001b[A\n",
      "Action: gender:  50%|██████████████▌              | 2/4 [00:00<00:00,  4.75it/s]\u001b[A\n",
      "Action: race:  50%|███████████████▌               | 2/4 [00:00<00:00,  4.75it/s]\u001b[A\n",
      "Action: race:  75%|███████████████████████▎       | 3/4 [00:00<00:00,  4.74it/s]\u001b[A\n",
      "Action: emotion: 100%|████████████████████████████| 4/4 [00:00<00:00,  6.16it/s]\u001b[A\n",
      "224it [03:56,  1.80it/s]"
     ]
    },
    {
     "name": "stdout",
     "output_type": "stream",
     "text": [
      "/Users/jessecoulter/Downloads/FIN377/CEOPersonalities-/matched_pictures/Sehat Sutardja/2013\n",
      "Error analyzing /Users/jessecoulter/Downloads/FIN377/CEOPersonalities-/matched_pictures/Sehat Sutardja/2013/pic1.jpg: Face could not be detected in /Users/jessecoulter/Downloads/FIN377/CEOPersonalities-/matched_pictures/Sehat Sutardja/2013/pic1.jpg.Please confirm that the picture is a face photo or consider to set enforce_detection param to False.\n",
      "/Users/jessecoulter/Downloads/FIN377/CEOPersonalities-/matched_pictures/Sehat Sutardja/2014\n"
     ]
    },
    {
     "name": "stderr",
     "output_type": "stream",
     "text": [
      "\n",
      "Finding actions:   0%|                                    | 0/4 [00:00<?, ?it/s]\u001b[A\n",
      "Action: age:   0%|                                        | 0/4 [00:00<?, ?it/s]\u001b[A\n",
      "Action: age:  25%|████████                        | 1/4 [00:00<00:00,  4.81it/s]\u001b[A\n",
      "Action: gender:  25%|███████▎                     | 1/4 [00:00<00:00,  4.81it/s]\u001b[A\n",
      "Action: gender:  50%|██████████████▌              | 2/4 [00:00<00:00,  4.79it/s]\u001b[A\n",
      "Action: race:  50%|███████████████▌               | 2/4 [00:00<00:00,  4.79it/s]\u001b[A\n",
      "Action: race:  75%|███████████████████████▎       | 3/4 [00:00<00:00,  4.80it/s]\u001b[A\n",
      "Action: emotion: 100%|████████████████████████████| 4/4 [00:00<00:00,  6.24it/s]\u001b[A\n",
      "225it [03:57,  1.60it/s]"
     ]
    },
    {
     "name": "stdout",
     "output_type": "stream",
     "text": [
      "/Users/jessecoulter/Downloads/FIN377/CEOPersonalities-/matched_pictures/Sehat Sutardja/2015\n"
     ]
    },
    {
     "name": "stderr",
     "output_type": "stream",
     "text": [
      "\n",
      "Finding actions:   0%|                                    | 0/4 [00:00<?, ?it/s]\u001b[A\n",
      "Action: age:   0%|                                        | 0/4 [00:00<?, ?it/s]\u001b[A\n",
      "Action: age:  25%|████████                        | 1/4 [00:00<00:00,  4.74it/s]\u001b[A\n",
      "Action: gender:  25%|███████▎                     | 1/4 [00:00<00:00,  4.74it/s]\u001b[A\n",
      "Action: gender:  50%|██████████████▌              | 2/4 [00:00<00:00,  4.76it/s]\u001b[A\n",
      "Action: race:  50%|███████████████▌               | 2/4 [00:00<00:00,  4.76it/s]\u001b[A\n",
      "Action: race:  75%|███████████████████████▎       | 3/4 [00:00<00:00,  4.76it/s]\u001b[A\n",
      "Action: emotion: 100%|████████████████████████████| 4/4 [00:00<00:00,  6.17it/s]\u001b[A\n",
      "226it [03:58,  1.47it/s]"
     ]
    },
    {
     "name": "stdout",
     "output_type": "stream",
     "text": [
      "/Users/jessecoulter/Downloads/FIN377/CEOPersonalities-/matched_pictures/Matthew J. Murphy/2016\n"
     ]
    },
    {
     "name": "stderr",
     "output_type": "stream",
     "text": [
      "\n",
      "Finding actions:   0%|                                    | 0/4 [00:00<?, ?it/s]\u001b[A\n",
      "Action: age:   0%|                                        | 0/4 [00:00<?, ?it/s]\u001b[A\n",
      "Action: age:  25%|████████                        | 1/4 [00:00<00:00,  4.72it/s]\u001b[A\n",
      "Action: gender:  25%|███████▎                     | 1/4 [00:00<00:00,  4.72it/s]\u001b[A\n",
      "Action: gender:  50%|██████████████▌              | 2/4 [00:00<00:00,  4.76it/s]\u001b[A\n",
      "Action: race:  50%|███████████████▌               | 2/4 [00:00<00:00,  4.76it/s]\u001b[A\n",
      "Action: race:  75%|███████████████████████▎       | 3/4 [00:00<00:00,  4.77it/s]\u001b[A\n",
      "Action: emotion: 100%|████████████████████████████| 4/4 [00:00<00:00,  6.19it/s]\u001b[A\n",
      "227it [03:59,  1.45it/s]"
     ]
    },
    {
     "name": "stdout",
     "output_type": "stream",
     "text": [
      "/Users/jessecoulter/Downloads/FIN377/CEOPersonalities-/matched_pictures/Matthew J. Murphy/2017\n",
      "Error analyzing /Users/jessecoulter/Downloads/FIN377/CEOPersonalities-/matched_pictures/Matthew J. Murphy/2017/pic1.jpg: Face could not be detected in /Users/jessecoulter/Downloads/FIN377/CEOPersonalities-/matched_pictures/Matthew J. Murphy/2017/pic1.jpg.Please confirm that the picture is a face photo or consider to set enforce_detection param to False.\n",
      "/Users/jessecoulter/Downloads/FIN377/CEOPersonalities-/matched_pictures/Matthew J. Murphy/2018\n"
     ]
    },
    {
     "name": "stderr",
     "output_type": "stream",
     "text": [
      "\n",
      "Finding actions:   0%|                                    | 0/4 [00:00<?, ?it/s]\u001b[A\n",
      "Action: age:   0%|                                        | 0/4 [00:00<?, ?it/s]\u001b[A\n",
      "Action: age:  25%|████████                        | 1/4 [00:00<00:00,  4.81it/s]\u001b[A\n",
      "Action: gender:  25%|███████▎                     | 1/4 [00:00<00:00,  4.81it/s]\u001b[A\n",
      "Action: gender:  50%|██████████████▌              | 2/4 [00:00<00:00,  4.73it/s]\u001b[A\n",
      "Action: race:  50%|███████████████▌               | 2/4 [00:00<00:00,  4.73it/s]\u001b[A\n",
      "Action: race:  75%|███████████████████████▎       | 3/4 [00:00<00:00,  4.75it/s]\u001b[A\n",
      "Action: emotion: 100%|████████████████████████████| 4/4 [00:00<00:00,  6.18it/s]\u001b[A\n",
      "229it [03:59,  1.84it/s]"
     ]
    },
    {
     "name": "stdout",
     "output_type": "stream",
     "text": [
      "/Users/jessecoulter/Downloads/FIN377/CEOPersonalities-/matched_pictures/Matthew J. Murphy/2019\n"
     ]
    },
    {
     "name": "stderr",
     "output_type": "stream",
     "text": [
      "\n",
      "Finding actions:   0%|                                    | 0/4 [00:00<?, ?it/s]\u001b[A\n",
      "Action: age:   0%|                                        | 0/4 [00:00<?, ?it/s]\u001b[A\n",
      "Action: age:  25%|████████                        | 1/4 [00:00<00:00,  4.72it/s]\u001b[A\n",
      "Action: gender:  25%|███████▎                     | 1/4 [00:00<00:00,  4.72it/s]\u001b[A\n",
      "Action: gender:  50%|██████████████▌              | 2/4 [00:00<00:00,  4.77it/s]\u001b[A\n",
      "Action: race:  50%|███████████████▌               | 2/4 [00:00<00:00,  4.77it/s]\u001b[A\n",
      "Action: race:  75%|███████████████████████▎       | 3/4 [00:00<00:00,  4.77it/s]\u001b[A\n",
      "Action: emotion: 100%|████████████████████████████| 4/4 [00:00<00:00,  6.20it/s]\u001b[A\n",
      "230it [04:00,  1.73it/s]"
     ]
    },
    {
     "name": "stdout",
     "output_type": "stream",
     "text": [
      "/Users/jessecoulter/Downloads/FIN377/CEOPersonalities-/matched_pictures/Lip-Bu Tan/2010\n"
     ]
    },
    {
     "name": "stderr",
     "output_type": "stream",
     "text": [
      "\n",
      "Finding actions:   0%|                                    | 0/4 [00:00<?, ?it/s]\u001b[A\n",
      "Action: age:   0%|                                        | 0/4 [00:00<?, ?it/s]\u001b[A\n",
      "Action: age:  25%|████████                        | 1/4 [00:00<00:00,  4.79it/s]\u001b[A\n",
      "Action: gender:  25%|███████▎                     | 1/4 [00:00<00:00,  4.79it/s]\u001b[A\n",
      "Action: gender:  50%|██████████████▌              | 2/4 [00:00<00:00,  4.79it/s]\u001b[A\n",
      "Action: race:  50%|███████████████▌               | 2/4 [00:00<00:00,  4.79it/s]\u001b[A\n",
      "Action: race:  75%|███████████████████████▎       | 3/4 [00:00<00:00,  4.81it/s]\u001b[A\n",
      "Action: emotion: 100%|████████████████████████████| 4/4 [00:00<00:00,  6.24it/s]\u001b[A\n",
      "231it [04:01,  1.66it/s]"
     ]
    },
    {
     "name": "stdout",
     "output_type": "stream",
     "text": [
      "/Users/jessecoulter/Downloads/FIN377/CEOPersonalities-/matched_pictures/Lip-Bu Tan/2011\n"
     ]
    },
    {
     "name": "stderr",
     "output_type": "stream",
     "text": [
      "\n",
      "Finding actions:   0%|                                    | 0/4 [00:00<?, ?it/s]\u001b[A\n",
      "Action: age:   0%|                                        | 0/4 [00:00<?, ?it/s]\u001b[A\n",
      "Action: age:  25%|████████                        | 1/4 [00:00<00:00,  4.73it/s]\u001b[A\n",
      "Action: gender:  25%|███████▎                     | 1/4 [00:00<00:00,  4.73it/s]\u001b[A\n",
      "Action: gender:  50%|██████████████▌              | 2/4 [00:00<00:00,  4.76it/s]\u001b[A\n",
      "Action: race:  50%|███████████████▌               | 2/4 [00:00<00:00,  4.76it/s]\u001b[A\n",
      "Action: race:  75%|███████████████████████▎       | 3/4 [00:00<00:00,  4.77it/s]\u001b[A\n",
      "Action: emotion: 100%|████████████████████████████| 4/4 [00:00<00:00,  6.20it/s]\u001b[A\n",
      "232it [04:01,  1.61it/s]"
     ]
    },
    {
     "name": "stdout",
     "output_type": "stream",
     "text": [
      "/Users/jessecoulter/Downloads/FIN377/CEOPersonalities-/matched_pictures/Lip-Bu Tan/2012\n"
     ]
    },
    {
     "name": "stderr",
     "output_type": "stream",
     "text": [
      "\n",
      "Finding actions:   0%|                                    | 0/4 [00:00<?, ?it/s]\u001b[A\n",
      "Action: age:   0%|                                        | 0/4 [00:00<?, ?it/s]\u001b[A\n",
      "Action: age:  25%|████████                        | 1/4 [00:00<00:01,  3.00it/s]\u001b[A\n",
      "Action: gender:  25%|███████▎                     | 1/4 [00:00<00:01,  3.00it/s]\u001b[A\n",
      "Action: gender:  50%|██████████████▌              | 2/4 [00:00<00:00,  3.50it/s]\u001b[A\n",
      "Action: race:  50%|███████████████▌               | 2/4 [00:00<00:00,  3.50it/s]\u001b[A\n",
      "Action: race:  75%|███████████████████████▎       | 3/4 [00:00<00:00,  3.87it/s]\u001b[A\n",
      "Action: emotion: 100%|████████████████████████████| 4/4 [00:00<00:00,  4.81it/s]\u001b[A\n",
      "233it [04:02,  1.44it/s]"
     ]
    },
    {
     "name": "stdout",
     "output_type": "stream",
     "text": [
      "/Users/jessecoulter/Downloads/FIN377/CEOPersonalities-/matched_pictures/Lip-Bu Tan/2013\n"
     ]
    },
    {
     "name": "stderr",
     "output_type": "stream",
     "text": [
      "\n",
      "Finding actions:   0%|                                    | 0/4 [00:00<?, ?it/s]\u001b[A\n",
      "Action: age:   0%|                                        | 0/4 [00:00<?, ?it/s]\u001b[A\n",
      "Action: age:  25%|████████                        | 1/4 [00:00<00:00,  4.48it/s]\u001b[A\n",
      "Action: gender:  25%|███████▎                     | 1/4 [00:00<00:00,  4.48it/s]\u001b[A\n",
      "Action: gender:  50%|██████████████▌              | 2/4 [00:00<00:00,  4.57it/s]\u001b[A\n",
      "Action: race:  50%|███████████████▌               | 2/4 [00:00<00:00,  4.57it/s]\u001b[A\n",
      "Action: race:  75%|███████████████████████▎       | 3/4 [00:00<00:00,  4.63it/s]\u001b[A\n",
      "Action: emotion: 100%|████████████████████████████| 4/4 [00:00<00:00,  6.00it/s]\u001b[A\n",
      "234it [04:03,  1.40it/s]"
     ]
    },
    {
     "name": "stdout",
     "output_type": "stream",
     "text": [
      "/Users/jessecoulter/Downloads/FIN377/CEOPersonalities-/matched_pictures/Lip-Bu Tan/2014\n"
     ]
    },
    {
     "name": "stderr",
     "output_type": "stream",
     "text": [
      "\n",
      "Finding actions:   0%|                                    | 0/4 [00:00<?, ?it/s]\u001b[A\n",
      "Action: age:   0%|                                        | 0/4 [00:00<?, ?it/s]\u001b[A\n",
      "Action: age:  25%|████████                        | 1/4 [00:00<00:00,  4.75it/s]\u001b[A\n",
      "Action: gender:  25%|███████▎                     | 1/4 [00:00<00:00,  4.75it/s]\u001b[A\n",
      "Action: gender:  50%|██████████████▌              | 2/4 [00:00<00:00,  4.74it/s]\u001b[A\n",
      "Action: race:  50%|███████████████▌               | 2/4 [00:00<00:00,  4.74it/s]\u001b[A\n",
      "Action: race:  75%|███████████████████████▎       | 3/4 [00:00<00:00,  4.74it/s]\u001b[A\n",
      "Action: emotion: 100%|████████████████████████████| 4/4 [00:00<00:00,  6.17it/s]\u001b[A\n",
      "235it [04:04,  1.42it/s]"
     ]
    },
    {
     "name": "stdout",
     "output_type": "stream",
     "text": [
      "/Users/jessecoulter/Downloads/FIN377/CEOPersonalities-/matched_pictures/Lip-Bu Tan/2015\n"
     ]
    },
    {
     "name": "stderr",
     "output_type": "stream",
     "text": [
      "\n",
      "Finding actions:   0%|                                    | 0/4 [00:00<?, ?it/s]\u001b[A\n",
      "Action: age:   0%|                                        | 0/4 [00:00<?, ?it/s]\u001b[A\n",
      "Action: age:  25%|████████                        | 1/4 [00:00<00:00,  4.49it/s]\u001b[A\n",
      "Action: gender:  25%|███████▎                     | 1/4 [00:00<00:00,  4.49it/s]\u001b[A\n",
      "Action: gender:  50%|██████████████▌              | 2/4 [00:00<00:00,  4.58it/s]\u001b[A\n",
      "Action: race:  50%|███████████████▌               | 2/4 [00:00<00:00,  4.58it/s]\u001b[A\n",
      "Action: race:  75%|███████████████████████▎       | 3/4 [00:00<00:00,  4.67it/s]\u001b[A\n",
      "Action: emotion: 100%|████████████████████████████| 4/4 [00:00<00:00,  6.03it/s]\u001b[A\n",
      "236it [04:05,  1.39it/s]"
     ]
    },
    {
     "name": "stdout",
     "output_type": "stream",
     "text": [
      "/Users/jessecoulter/Downloads/FIN377/CEOPersonalities-/matched_pictures/Lip-Bu Tan/2016\n"
     ]
    },
    {
     "name": "stderr",
     "output_type": "stream",
     "text": [
      "\n",
      "Finding actions:   0%|                                    | 0/4 [00:00<?, ?it/s]\u001b[A\n",
      "Action: age:   0%|                                        | 0/4 [00:00<?, ?it/s]\u001b[A\n",
      "Action: age:  25%|████████                        | 1/4 [00:00<00:00,  4.84it/s]\u001b[A\n",
      "Action: gender:  25%|███████▎                     | 1/4 [00:00<00:00,  4.84it/s]\u001b[A\n",
      "Action: gender:  50%|██████████████▌              | 2/4 [00:00<00:00,  4.78it/s]\u001b[A\n",
      "Action: race:  50%|███████████████▌               | 2/4 [00:00<00:00,  4.78it/s]\u001b[A\n",
      "Action: race:  75%|███████████████████████▎       | 3/4 [00:00<00:00,  4.77it/s]\u001b[A\n",
      "Action: emotion: 100%|████████████████████████████| 4/4 [00:00<00:00,  6.21it/s]\u001b[A\n",
      "237it [04:06,  1.14it/s]"
     ]
    },
    {
     "name": "stdout",
     "output_type": "stream",
     "text": [
      "/Users/jessecoulter/Downloads/FIN377/CEOPersonalities-/matched_pictures/Lip-Bu Tan/2017\n",
      "No image found in /Users/jessecoulter/Downloads/FIN377/CEOPersonalities-/matched_pictures/Lip-Bu Tan/2017\n",
      "/Users/jessecoulter/Downloads/FIN377/CEOPersonalities-/matched_pictures/Lip-Bu Tan/2018\n"
     ]
    },
    {
     "name": "stderr",
     "output_type": "stream",
     "text": [
      "\n",
      "Finding actions:   0%|                                    | 0/4 [00:00<?, ?it/s]\u001b[A\n",
      "Action: age:   0%|                                        | 0/4 [00:00<?, ?it/s]\u001b[A\n",
      "Action: age:  25%|████████                        | 1/4 [00:00<00:00,  4.78it/s]\u001b[A\n",
      "Action: gender:  25%|███████▎                     | 1/4 [00:00<00:00,  4.78it/s]\u001b[A\n",
      "Action: gender:  50%|██████████████▌              | 2/4 [00:00<00:00,  4.31it/s]\u001b[A\n",
      "Action: race:  50%|███████████████▌               | 2/4 [00:00<00:00,  4.31it/s]\u001b[A\n",
      "Action: race:  75%|███████████████████████▎       | 3/4 [00:00<00:00,  4.36it/s]\u001b[A\n",
      "Action: emotion: 100%|████████████████████████████| 4/4 [00:00<00:00,  5.72it/s]\u001b[A\n",
      "\n",
      "Finding actions:   0%|                                    | 0/4 [00:00<?, ?it/s]\u001b[A\n",
      "Action: age:   0%|                                        | 0/4 [00:00<?, ?it/s]\u001b[A\n",
      "Action: age:  25%|████████                        | 1/4 [00:00<00:00,  4.56it/s]\u001b[A\n",
      "Action: gender:  25%|███████▎                     | 1/4 [00:00<00:00,  4.56it/s]\u001b[A\n",
      "Action: gender:  50%|██████████████▌              | 2/4 [00:00<00:00,  4.64it/s]\u001b[A\n",
      "Action: race:  50%|███████████████▌               | 2/4 [00:00<00:00,  4.64it/s]\u001b[A\n",
      "Action: race:  75%|███████████████████████▎       | 3/4 [00:00<00:00,  4.68it/s]\u001b[A\n",
      "Action: emotion: 100%|████████████████████████████| 4/4 [00:00<00:00,  6.06it/s]\u001b[A\n",
      "239it [04:08,  1.10it/s]"
     ]
    },
    {
     "name": "stdout",
     "output_type": "stream",
     "text": [
      "/Users/jessecoulter/Downloads/FIN377/CEOPersonalities-/matched_pictures/Lip-Bu Tan/2019\n"
     ]
    },
    {
     "name": "stderr",
     "output_type": "stream",
     "text": [
      "\n",
      "Finding actions:   0%|                                    | 0/4 [00:00<?, ?it/s]\u001b[A\n",
      "Action: age:   0%|                                        | 0/4 [00:00<?, ?it/s]\u001b[A\n",
      "Action: age:  25%|████████                        | 1/4 [00:00<00:00,  4.67it/s]\u001b[A\n",
      "Action: gender:  25%|███████▎                     | 1/4 [00:00<00:00,  4.67it/s]\u001b[A\n",
      "Action: gender:  50%|██████████████▌              | 2/4 [00:00<00:00,  4.71it/s]\u001b[A\n",
      "Action: race:  50%|███████████████▌               | 2/4 [00:00<00:00,  4.71it/s]\u001b[A\n",
      "Action: race:  75%|███████████████████████▎       | 3/4 [00:00<00:00,  4.70it/s]\u001b[A\n",
      "Action: emotion: 100%|████████████████████████████| 4/4 [00:00<00:00,  6.11it/s]\u001b[A\n",
      "240it [04:09,  1.05it/s]"
     ]
    },
    {
     "name": "stdout",
     "output_type": "stream",
     "text": [
      "/Users/jessecoulter/Downloads/FIN377/CEOPersonalities-/matched_pictures/Aart de Geus/2010\n"
     ]
    },
    {
     "name": "stderr",
     "output_type": "stream",
     "text": [
      "\n",
      "Finding actions:   0%|                                    | 0/4 [00:00<?, ?it/s]\u001b[A\n",
      "Action: age:   0%|                                        | 0/4 [00:00<?, ?it/s]\u001b[A\n",
      "Action: age:  25%|████████                        | 1/4 [00:00<00:00,  4.75it/s]\u001b[A\n",
      "Action: gender:  25%|███████▎                     | 1/4 [00:00<00:00,  4.75it/s]\u001b[A\n",
      "Action: gender:  50%|██████████████▌              | 2/4 [00:00<00:00,  4.78it/s]\u001b[A\n",
      "Action: race:  50%|███████████████▌               | 2/4 [00:00<00:00,  4.78it/s]\u001b[A\n",
      "Action: race:  75%|███████████████████████▎       | 3/4 [00:00<00:00,  4.77it/s]\u001b[A\n",
      "Action: emotion: 100%|████████████████████████████| 4/4 [00:00<00:00,  6.20it/s]\u001b[A\n",
      "241it [04:10,  1.11it/s]"
     ]
    },
    {
     "name": "stdout",
     "output_type": "stream",
     "text": [
      "/Users/jessecoulter/Downloads/FIN377/CEOPersonalities-/matched_pictures/Aart de Geus/2011\n"
     ]
    },
    {
     "name": "stderr",
     "output_type": "stream",
     "text": [
      "\n",
      "Finding actions:   0%|                                    | 0/4 [00:00<?, ?it/s]\u001b[A\n",
      "Action: age:   0%|                                        | 0/4 [00:00<?, ?it/s]\u001b[A\n",
      "Action: age:  25%|████████                        | 1/4 [00:00<00:00,  4.70it/s]\u001b[A\n",
      "Action: gender:  25%|███████▎                     | 1/4 [00:00<00:00,  4.70it/s]\u001b[A\n",
      "Action: gender:  50%|██████████████▌              | 2/4 [00:00<00:00,  4.75it/s]\u001b[A\n",
      "Action: race:  50%|███████████████▌               | 2/4 [00:00<00:00,  4.75it/s]\u001b[A\n",
      "Action: race:  75%|███████████████████████▎       | 3/4 [00:00<00:00,  4.76it/s]\u001b[A\n",
      "Action: emotion: 100%|████████████████████████████| 4/4 [00:00<00:00,  6.18it/s]\u001b[A\n",
      "242it [04:10,  1.20it/s]"
     ]
    },
    {
     "name": "stdout",
     "output_type": "stream",
     "text": [
      "/Users/jessecoulter/Downloads/FIN377/CEOPersonalities-/matched_pictures/Aart de Geus/2012\n"
     ]
    },
    {
     "name": "stderr",
     "output_type": "stream",
     "text": [
      "\n",
      "Finding actions:   0%|                                    | 0/4 [00:00<?, ?it/s]\u001b[A\n",
      "Action: age:   0%|                                        | 0/4 [00:00<?, ?it/s]\u001b[A\n",
      "Action: age:  25%|████████                        | 1/4 [00:00<00:00,  4.75it/s]\u001b[A\n",
      "Action: gender:  25%|███████▎                     | 1/4 [00:00<00:00,  4.75it/s]\u001b[A\n",
      "Action: gender:  50%|██████████████▌              | 2/4 [00:00<00:00,  4.72it/s]\u001b[A\n",
      "Action: race:  50%|███████████████▌               | 2/4 [00:00<00:00,  4.72it/s]\u001b[A\n",
      "Action: race:  75%|███████████████████████▎       | 3/4 [00:00<00:00,  4.74it/s]\u001b[A\n",
      "Action: emotion: 100%|████████████████████████████| 4/4 [00:00<00:00,  6.16it/s]\u001b[A\n",
      "243it [04:11,  1.26it/s]"
     ]
    },
    {
     "name": "stdout",
     "output_type": "stream",
     "text": [
      "/Users/jessecoulter/Downloads/FIN377/CEOPersonalities-/matched_pictures/Aart de Geus/2013\n"
     ]
    },
    {
     "name": "stderr",
     "output_type": "stream",
     "text": [
      "\n",
      "Finding actions:   0%|                                    | 0/4 [00:00<?, ?it/s]\u001b[A\n",
      "Action: age:   0%|                                        | 0/4 [00:00<?, ?it/s]\u001b[A\n",
      "Action: age:  25%|████████                        | 1/4 [00:00<00:00,  4.77it/s]\u001b[A\n",
      "Action: gender:  25%|███████▎                     | 1/4 [00:00<00:00,  4.77it/s]\u001b[A\n",
      "Action: gender:  50%|██████████████▌              | 2/4 [00:00<00:00,  4.75it/s]\u001b[A\n",
      "Action: race:  50%|███████████████▌               | 2/4 [00:00<00:00,  4.75it/s]\u001b[A\n",
      "Action: race:  75%|███████████████████████▎       | 3/4 [00:00<00:00,  4.76it/s]\u001b[A\n",
      "Action: emotion: 100%|████████████████████████████| 4/4 [00:00<00:00,  6.19it/s]\u001b[A\n",
      "244it [04:12,  1.30it/s]"
     ]
    },
    {
     "name": "stdout",
     "output_type": "stream",
     "text": [
      "/Users/jessecoulter/Downloads/FIN377/CEOPersonalities-/matched_pictures/Aart de Geus/2014\n"
     ]
    },
    {
     "name": "stderr",
     "output_type": "stream",
     "text": [
      "\n",
      "Finding actions:   0%|                                    | 0/4 [00:00<?, ?it/s]\u001b[A\n",
      "Action: age:   0%|                                        | 0/4 [00:00<?, ?it/s]\u001b[A\n",
      "Action: age:  25%|████████                        | 1/4 [00:00<00:00,  4.74it/s]\u001b[A\n",
      "Action: gender:  25%|███████▎                     | 1/4 [00:00<00:00,  4.74it/s]\u001b[A\n",
      "Action: gender:  50%|██████████████▌              | 2/4 [00:00<00:00,  4.73it/s]\u001b[A\n",
      "Action: race:  50%|███████████████▌               | 2/4 [00:00<00:00,  4.73it/s]\u001b[A\n",
      "Action: race:  75%|███████████████████████▎       | 3/4 [00:00<00:00,  4.73it/s]\u001b[A\n",
      "Action: emotion: 100%|████████████████████████████| 4/4 [00:00<00:00,  6.15it/s]\u001b[A\n",
      "245it [04:12,  1.32it/s]"
     ]
    },
    {
     "name": "stdout",
     "output_type": "stream",
     "text": [
      "/Users/jessecoulter/Downloads/FIN377/CEOPersonalities-/matched_pictures/Aart de Geus/2015\n"
     ]
    },
    {
     "name": "stderr",
     "output_type": "stream",
     "text": [
      "\n",
      "Finding actions:   0%|                                    | 0/4 [00:00<?, ?it/s]\u001b[A\n",
      "Action: age:   0%|                                        | 0/4 [00:00<?, ?it/s]\u001b[A\n",
      "Action: age:  25%|████████                        | 1/4 [00:00<00:00,  4.75it/s]\u001b[A\n",
      "Action: gender:  25%|███████▎                     | 1/4 [00:00<00:00,  4.75it/s]\u001b[A\n",
      "Action: gender:  50%|██████████████▌              | 2/4 [00:00<00:00,  4.75it/s]\u001b[A\n",
      "Action: race:  50%|███████████████▌               | 2/4 [00:00<00:00,  4.75it/s]\u001b[A\n",
      "Action: race:  75%|███████████████████████▎       | 3/4 [00:00<00:00,  4.74it/s]\u001b[A\n",
      "Action: emotion: 100%|████████████████████████████| 4/4 [00:00<00:00,  6.16it/s]\u001b[A\n",
      "246it [04:13,  1.36it/s]"
     ]
    },
    {
     "name": "stdout",
     "output_type": "stream",
     "text": [
      "/Users/jessecoulter/Downloads/FIN377/CEOPersonalities-/matched_pictures/Aart de Geus/2016\n",
      "Error analyzing /Users/jessecoulter/Downloads/FIN377/CEOPersonalities-/matched_pictures/Aart de Geus/2016/pic1.jpg: Face could not be detected in /Users/jessecoulter/Downloads/FIN377/CEOPersonalities-/matched_pictures/Aart de Geus/2016/pic1.jpg.Please confirm that the picture is a face photo or consider to set enforce_detection param to False.\n",
      "/Users/jessecoulter/Downloads/FIN377/CEOPersonalities-/matched_pictures/Aart de Geus/2017\n"
     ]
    },
    {
     "name": "stderr",
     "output_type": "stream",
     "text": [
      "\n",
      "Finding actions:   0%|                                    | 0/4 [00:00<?, ?it/s]\u001b[A\n",
      "Action: age:   0%|                                        | 0/4 [00:00<?, ?it/s]\u001b[A\n",
      "Action: age:  25%|████████                        | 1/4 [00:00<00:00,  4.55it/s]\u001b[A\n",
      "Action: gender:  25%|███████▎                     | 1/4 [00:00<00:00,  4.55it/s]\u001b[A\n",
      "Action: gender:  50%|██████████████▌              | 2/4 [00:00<00:00,  4.67it/s]\u001b[A\n",
      "Action: race:  50%|███████████████▌               | 2/4 [00:00<00:00,  4.67it/s]\u001b[A\n",
      "Action: race:  75%|███████████████████████▎       | 3/4 [00:00<00:00,  4.70it/s]\u001b[A\n",
      "Action: emotion: 100%|████████████████████████████| 4/4 [00:00<00:00,  6.09it/s]\u001b[A\n",
      "248it [04:14,  1.76it/s]"
     ]
    },
    {
     "name": "stdout",
     "output_type": "stream",
     "text": [
      "/Users/jessecoulter/Downloads/FIN377/CEOPersonalities-/matched_pictures/Aart de Geus/2018\n"
     ]
    },
    {
     "name": "stderr",
     "output_type": "stream",
     "text": [
      "\n",
      "Finding actions:   0%|                                    | 0/4 [00:00<?, ?it/s]\u001b[A\n",
      "Action: age:   0%|                                        | 0/4 [00:00<?, ?it/s]\u001b[A\n",
      "Action: age:  25%|████████                        | 1/4 [00:00<00:00,  4.65it/s]\u001b[A\n",
      "Action: gender:  25%|███████▎                     | 1/4 [00:00<00:00,  4.65it/s]\u001b[A\n",
      "Action: gender:  50%|██████████████▌              | 2/4 [00:00<00:00,  4.73it/s]\u001b[A\n",
      "Action: race:  50%|███████████████▌               | 2/4 [00:00<00:00,  4.73it/s]\u001b[A\n",
      "Action: race:  75%|███████████████████████▎       | 3/4 [00:00<00:00,  4.75it/s]\u001b[A\n",
      "Action: emotion: 100%|████████████████████████████| 4/4 [00:00<00:00,  6.16it/s]\u001b[A\n",
      "249it [04:14,  1.67it/s]"
     ]
    },
    {
     "name": "stdout",
     "output_type": "stream",
     "text": [
      "/Users/jessecoulter/Downloads/FIN377/CEOPersonalities-/matched_pictures/Aart de Geus/2019\n"
     ]
    },
    {
     "name": "stderr",
     "output_type": "stream",
     "text": [
      "\n",
      "Finding actions:   0%|                                    | 0/4 [00:00<?, ?it/s]\u001b[A\n",
      "Action: age:   0%|                                        | 0/4 [00:00<?, ?it/s]\u001b[A\n",
      "Action: age:  25%|████████                        | 1/4 [00:00<00:00,  4.67it/s]\u001b[A\n",
      "Action: gender:  25%|███████▎                     | 1/4 [00:00<00:00,  4.67it/s]\u001b[A\n",
      "Action: gender:  50%|██████████████▌              | 2/4 [00:00<00:00,  4.69it/s]\u001b[A\n",
      "Action: race:  50%|███████████████▌               | 2/4 [00:00<00:00,  4.69it/s]\u001b[A\n",
      "Action: race:  75%|███████████████████████▎       | 3/4 [00:00<00:00,  4.73it/s]\u001b[A\n",
      "Action: emotion: 100%|████████████████████████████| 4/4 [00:00<00:00,  6.14it/s]\u001b[A\n",
      "250it [04:18,  1.34s/it]"
     ]
    },
    {
     "name": "stdout",
     "output_type": "stream",
     "text": [
      "/Users/jessecoulter/Downloads/FIN377/CEOPersonalities-/matched_pictures/Ken Xie/2010\n"
     ]
    },
    {
     "name": "stderr",
     "output_type": "stream",
     "text": [
      "\n",
      "Finding actions:   0%|                                    | 0/4 [00:00<?, ?it/s]\u001b[A\n",
      "Action: age:   0%|                                        | 0/4 [00:00<?, ?it/s]\u001b[A\n",
      "Action: age:  25%|████████                        | 1/4 [00:00<00:00,  4.70it/s]\u001b[A\n",
      "Action: gender:  25%|███████▎                     | 1/4 [00:00<00:00,  4.70it/s]\u001b[A\n",
      "Action: gender:  50%|██████████████▌              | 2/4 [00:00<00:00,  4.54it/s]\u001b[A\n",
      "Action: race:  50%|███████████████▌               | 2/4 [00:00<00:00,  4.54it/s]\u001b[A\n",
      "Action: race:  75%|███████████████████████▎       | 3/4 [00:00<00:00,  4.63it/s]\u001b[A\n",
      "Action: emotion: 100%|████████████████████████████| 4/4 [00:00<00:00,  6.01it/s]\u001b[A\n",
      "251it [04:19,  1.17s/it]"
     ]
    },
    {
     "name": "stdout",
     "output_type": "stream",
     "text": [
      "/Users/jessecoulter/Downloads/FIN377/CEOPersonalities-/matched_pictures/Ken Xie/2011\n"
     ]
    },
    {
     "name": "stderr",
     "output_type": "stream",
     "text": [
      "\n",
      "Finding actions:   0%|                                    | 0/4 [00:00<?, ?it/s]\u001b[A\n",
      "Action: age:   0%|                                        | 0/4 [00:00<?, ?it/s]\u001b[A\n",
      "Action: age:  25%|████████                        | 1/4 [00:00<00:00,  4.69it/s]\u001b[A\n",
      "Action: gender:  25%|███████▎                     | 1/4 [00:00<00:00,  4.69it/s]\u001b[A\n",
      "Action: gender:  50%|██████████████▌              | 2/4 [00:00<00:00,  4.69it/s]\u001b[A\n",
      "Action: race:  50%|███████████████▌               | 2/4 [00:00<00:00,  4.69it/s]\u001b[A\n",
      "Action: race:  75%|███████████████████████▎       | 3/4 [00:00<00:00,  4.69it/s]\u001b[A\n",
      "Action: emotion: 100%|████████████████████████████| 4/4 [00:00<00:00,  6.10it/s]\u001b[A\n",
      "252it [04:19,  1.04s/it]"
     ]
    },
    {
     "name": "stdout",
     "output_type": "stream",
     "text": [
      "/Users/jessecoulter/Downloads/FIN377/CEOPersonalities-/matched_pictures/Ken Xie/2012\n"
     ]
    },
    {
     "name": "stderr",
     "output_type": "stream",
     "text": [
      "\n",
      "Finding actions:   0%|                                    | 0/4 [00:00<?, ?it/s]\u001b[A\n",
      "Action: age:   0%|                                        | 0/4 [00:00<?, ?it/s]\u001b[A\n",
      "Action: age:  25%|████████                        | 1/4 [00:00<00:00,  4.75it/s]\u001b[A\n",
      "Action: gender:  25%|███████▎                     | 1/4 [00:00<00:00,  4.75it/s]\u001b[A\n",
      "Action: gender:  50%|██████████████▌              | 2/4 [00:00<00:00,  4.79it/s]\u001b[A\n",
      "Action: race:  50%|███████████████▌               | 2/4 [00:00<00:00,  4.79it/s]\u001b[A\n",
      "Action: race:  75%|███████████████████████▎       | 3/4 [00:00<00:00,  4.77it/s]\u001b[A\n",
      "Action: emotion: 100%|████████████████████████████| 4/4 [00:00<00:00,  6.20it/s]\u001b[A\n",
      "253it [04:20,  1.06it/s]"
     ]
    },
    {
     "name": "stdout",
     "output_type": "stream",
     "text": [
      "/Users/jessecoulter/Downloads/FIN377/CEOPersonalities-/matched_pictures/Ken Xie/2013\n"
     ]
    },
    {
     "name": "stderr",
     "output_type": "stream",
     "text": [
      "\n",
      "Finding actions:   0%|                                    | 0/4 [00:00<?, ?it/s]\u001b[A\n",
      "Action: age:   0%|                                        | 0/4 [00:00<?, ?it/s]\u001b[A\n",
      "Action: age:  25%|████████                        | 1/4 [00:00<00:00,  4.78it/s]\u001b[A\n",
      "Action: gender:  25%|███████▎                     | 1/4 [00:00<00:00,  4.78it/s]\u001b[A\n",
      "Action: gender:  50%|██████████████▌              | 2/4 [00:00<00:00,  4.77it/s]\u001b[A\n",
      "Action: race:  50%|███████████████▌               | 2/4 [00:00<00:00,  4.77it/s]\u001b[A\n",
      "Action: race:  75%|███████████████████████▎       | 3/4 [00:00<00:00,  4.80it/s]\u001b[A\n",
      "Action: emotion: 100%|████████████████████████████| 4/4 [00:00<00:00,  6.23it/s]\u001b[A\n",
      "\n",
      "Finding actions:   0%|                                    | 0/4 [00:00<?, ?it/s]\u001b[A\n",
      "Action: age:   0%|                                        | 0/4 [00:00<?, ?it/s]\u001b[A\n",
      "Action: age:  25%|████████                        | 1/4 [00:00<00:00,  4.48it/s]\u001b[A\n",
      "Action: gender:  25%|███████▎                     | 1/4 [00:00<00:00,  4.48it/s]\u001b[A\n",
      "Action: gender:  50%|██████████████▌              | 2/4 [00:00<00:00,  4.59it/s]\u001b[A\n",
      "Action: race:  50%|███████████████▌               | 2/4 [00:00<00:00,  4.59it/s]\u001b[A\n",
      "Action: race:  75%|███████████████████████▎       | 3/4 [00:00<00:00,  4.67it/s]\u001b[A\n",
      "Action: emotion: 100%|████████████████████████████| 4/4 [00:00<00:00,  6.03it/s]\u001b[A\n",
      "\n",
      "Finding actions:   0%|                                    | 0/4 [00:00<?, ?it/s]\u001b[A\n",
      "Action: age:   0%|                                        | 0/4 [00:00<?, ?it/s]\u001b[A\n",
      "Action: age:  25%|████████                        | 1/4 [00:00<00:00,  4.51it/s]\u001b[A\n",
      "Action: gender:  25%|███████▎                     | 1/4 [00:00<00:00,  4.51it/s]\u001b[A\n",
      "Action: gender:  50%|██████████████▌              | 2/4 [00:00<00:00,  4.62it/s]\u001b[A\n",
      "Action: race:  50%|███████████████▌               | 2/4 [00:00<00:00,  4.62it/s]\u001b[A\n",
      "Action: race:  75%|███████████████████████▎       | 3/4 [00:00<00:00,  4.67it/s]\u001b[A\n",
      "Action: emotion: 100%|████████████████████████████| 4/4 [00:00<00:00,  6.05it/s]\u001b[A\n",
      "\n",
      "Finding actions:   0%|                                    | 0/4 [00:00<?, ?it/s]\u001b[A\n",
      "Action: age:   0%|                                        | 0/4 [00:00<?, ?it/s]\u001b[A\n",
      "Action: age:  25%|████████                        | 1/4 [00:00<00:00,  4.29it/s]\u001b[A\n",
      "Action: gender:  25%|███████▎                     | 1/4 [00:00<00:00,  4.29it/s]\u001b[A\n",
      "Action: gender:  50%|██████████████▌              | 2/4 [00:00<00:00,  4.50it/s]\u001b[A\n",
      "Action: race:  50%|███████████████▌               | 2/4 [00:00<00:00,  4.50it/s]\u001b[A\n",
      "Action: race:  75%|███████████████████████▎       | 3/4 [00:00<00:00,  4.57it/s]\u001b[A\n",
      "Action: emotion: 100%|████████████████████████████| 4/4 [00:00<00:00,  5.90it/s]\u001b[A\n",
      "\n",
      "Finding actions:   0%|                                    | 0/4 [00:00<?, ?it/s]\u001b[A\n",
      "Action: age:   0%|                                        | 0/4 [00:00<?, ?it/s]\u001b[A\n",
      "Action: age:  25%|████████                        | 1/4 [00:00<00:00,  4.40it/s]\u001b[A\n",
      "Action: gender:  25%|███████▎                     | 1/4 [00:00<00:00,  4.40it/s]\u001b[A\n",
      "Action: gender:  50%|██████████████▌              | 2/4 [00:00<00:00,  4.51it/s]\u001b[A\n",
      "Action: race:  50%|███████████████▌               | 2/4 [00:00<00:00,  4.51it/s]\u001b[A\n",
      "Action: race:  75%|███████████████████████▎       | 3/4 [00:00<00:00,  4.55it/s]\u001b[A\n",
      "Action: emotion: 100%|████████████████████████████| 4/4 [00:00<00:00,  5.89it/s]\u001b[A\n",
      "\n",
      "Finding actions:   0%|                                    | 0/4 [00:00<?, ?it/s]\u001b[A\n",
      "Action: age:   0%|                                        | 0/4 [00:00<?, ?it/s]\u001b[A\n",
      "Action: age:  25%|████████                        | 1/4 [00:00<00:00,  4.26it/s]\u001b[A\n",
      "Action: gender:  25%|███████▎                     | 1/4 [00:00<00:00,  4.26it/s]\u001b[A\n",
      "Action: gender:  50%|██████████████▌              | 2/4 [00:00<00:00,  4.46it/s]\u001b[A\n",
      "Action: race:  50%|███████████████▌               | 2/4 [00:00<00:00,  4.46it/s]\u001b[A\n",
      "Action: race:  75%|███████████████████████▎       | 3/4 [00:00<00:00,  4.56it/s]\u001b[A\n",
      "Action: emotion: 100%|████████████████████████████| 4/4 [00:00<00:00,  5.87it/s]\u001b[A\n",
      "254it [04:24,  1.86s/it]"
     ]
    },
    {
     "name": "stdout",
     "output_type": "stream",
     "text": [
      "/Users/jessecoulter/Downloads/FIN377/CEOPersonalities-/matched_pictures/Ken Xie/2014\n"
     ]
    },
    {
     "name": "stderr",
     "output_type": "stream",
     "text": [
      "\n",
      "Finding actions:   0%|                                    | 0/4 [00:00<?, ?it/s]\u001b[A\n",
      "Action: age:   0%|                                        | 0/4 [00:00<?, ?it/s]\u001b[A\n",
      "Action: age:  25%|████████                        | 1/4 [00:00<00:00,  4.58it/s]\u001b[A\n",
      "Action: gender:  25%|███████▎                     | 1/4 [00:00<00:00,  4.58it/s]\u001b[A\n",
      "Action: gender:  50%|██████████████▌              | 2/4 [00:00<00:00,  4.67it/s]\u001b[A\n",
      "Action: race:  50%|███████████████▌               | 2/4 [00:00<00:00,  4.67it/s]\u001b[A\n",
      "Action: race:  75%|███████████████████████▎       | 3/4 [00:00<00:00,  4.69it/s]\u001b[A\n",
      "Action: emotion: 100%|████████████████████████████| 4/4 [00:00<00:00,  6.08it/s]\u001b[A\n",
      "255it [04:25,  1.53s/it]"
     ]
    },
    {
     "name": "stdout",
     "output_type": "stream",
     "text": [
      "/Users/jessecoulter/Downloads/FIN377/CEOPersonalities-/matched_pictures/Ken Xie/2015\n"
     ]
    },
    {
     "name": "stderr",
     "output_type": "stream",
     "text": [
      "\n",
      "Finding actions:   0%|                                    | 0/4 [00:00<?, ?it/s]\u001b[A\n",
      "Action: age:   0%|                                        | 0/4 [00:00<?, ?it/s]\u001b[A\n",
      "Action: age:  25%|████████                        | 1/4 [00:00<00:00,  4.49it/s]\u001b[A\n",
      "Action: gender:  25%|███████▎                     | 1/4 [00:00<00:00,  4.49it/s]\u001b[A\n",
      "Action: gender:  50%|██████████████▌              | 2/4 [00:00<00:00,  4.64it/s]\u001b[A\n",
      "Action: race:  50%|███████████████▌               | 2/4 [00:00<00:00,  4.64it/s]\u001b[A\n",
      "Action: race:  75%|███████████████████████▎       | 3/4 [00:00<00:00,  4.71it/s]\u001b[A\n",
      "Action: emotion: 100%|████████████████████████████| 4/4 [00:00<00:00,  6.08it/s]\u001b[A\n",
      "256it [04:26,  1.42s/it]"
     ]
    },
    {
     "name": "stdout",
     "output_type": "stream",
     "text": [
      "/Users/jessecoulter/Downloads/FIN377/CEOPersonalities-/matched_pictures/Ken Xie/2016\n"
     ]
    },
    {
     "name": "stderr",
     "output_type": "stream",
     "text": [
      "\n",
      "Finding actions:   0%|                                    | 0/4 [00:00<?, ?it/s]\u001b[A\n",
      "Action: age:   0%|                                        | 0/4 [00:00<?, ?it/s]\u001b[A\n",
      "Action: age:  25%|████████                        | 1/4 [00:00<00:00,  4.67it/s]\u001b[A\n",
      "Action: gender:  25%|███████▎                     | 1/4 [00:00<00:00,  4.67it/s]\u001b[A\n",
      "Action: gender:  50%|██████████████▌              | 2/4 [00:00<00:00,  4.72it/s]\u001b[A\n",
      "Action: race:  50%|███████████████▌               | 2/4 [00:00<00:00,  4.72it/s]\u001b[A\n",
      "Action: race:  75%|███████████████████████▎       | 3/4 [00:00<00:00,  4.75it/s]\u001b[A\n",
      "Action: emotion: 100%|████████████████████████████| 4/4 [00:00<00:00,  6.15it/s]\u001b[A\n",
      "257it [04:27,  1.20s/it]"
     ]
    },
    {
     "name": "stdout",
     "output_type": "stream",
     "text": [
      "/Users/jessecoulter/Downloads/FIN377/CEOPersonalities-/matched_pictures/Ken Xie/2017\n"
     ]
    },
    {
     "name": "stderr",
     "output_type": "stream",
     "text": [
      "\n",
      "Finding actions:   0%|                                    | 0/4 [00:00<?, ?it/s]\u001b[A\n",
      "Action: age:   0%|                                        | 0/4 [00:00<?, ?it/s]\u001b[A\n",
      "Action: age:  25%|████████                        | 1/4 [00:00<00:00,  4.73it/s]\u001b[A\n",
      "Action: gender:  25%|███████▎                     | 1/4 [00:00<00:00,  4.73it/s]\u001b[A\n",
      "Action: gender:  50%|██████████████▌              | 2/4 [00:00<00:00,  4.74it/s]\u001b[A\n",
      "Action: race:  50%|███████████████▌               | 2/4 [00:00<00:00,  4.74it/s]\u001b[A\n",
      "Action: race:  75%|███████████████████████▎       | 3/4 [00:00<00:00,  4.75it/s]\u001b[A\n",
      "Action: emotion: 100%|████████████████████████████| 4/4 [00:00<00:00,  6.18it/s]\u001b[A\n",
      "\n",
      "Finding actions:   0%|                                    | 0/4 [00:00<?, ?it/s]\u001b[A\n",
      "Action: age:   0%|                                        | 0/4 [00:00<?, ?it/s]\u001b[A\n",
      "Action: age:  25%|████████                        | 1/4 [00:00<00:00,  4.64it/s]\u001b[A\n",
      "Action: gender:  25%|███████▎                     | 1/4 [00:00<00:00,  4.64it/s]\u001b[A\n",
      "Action: gender:  50%|██████████████▌              | 2/4 [00:00<00:00,  4.71it/s]\u001b[A\n",
      "Action: race:  50%|███████████████▌               | 2/4 [00:00<00:00,  4.71it/s]\u001b[A\n",
      "Action: race:  75%|███████████████████████▎       | 3/4 [00:00<00:00,  4.71it/s]\u001b[A\n",
      "Action: emotion: 100%|████████████████████████████| 4/4 [00:00<00:00,  6.11it/s]\u001b[A\n",
      "258it [04:28,  1.28s/it]"
     ]
    },
    {
     "name": "stdout",
     "output_type": "stream",
     "text": [
      "/Users/jessecoulter/Downloads/FIN377/CEOPersonalities-/matched_pictures/Ken Xie/2018\n"
     ]
    },
    {
     "name": "stderr",
     "output_type": "stream",
     "text": [
      "\n",
      "Finding actions:   0%|                                    | 0/4 [00:00<?, ?it/s]\u001b[A\n",
      "Action: age:   0%|                                        | 0/4 [00:00<?, ?it/s]\u001b[A\n",
      "Action: age:  25%|████████                        | 1/4 [00:00<00:00,  4.48it/s]\u001b[A\n",
      "Action: gender:  25%|███████▎                     | 1/4 [00:00<00:00,  4.48it/s]\u001b[A\n",
      "Action: gender:  50%|██████████████▌              | 2/4 [00:00<00:00,  4.57it/s]\u001b[A\n",
      "Action: race:  50%|███████████████▌               | 2/4 [00:00<00:00,  4.57it/s]\u001b[A\n",
      "Action: race:  75%|███████████████████████▎       | 3/4 [00:00<00:00,  4.63it/s]\u001b[A\n",
      "Action: emotion: 100%|████████████████████████████| 4/4 [00:00<00:00,  6.00it/s]\u001b[A\n",
      "259it [04:29,  1.12s/it]"
     ]
    },
    {
     "name": "stdout",
     "output_type": "stream",
     "text": [
      "/Users/jessecoulter/Downloads/FIN377/CEOPersonalities-/matched_pictures/Ken Xie/2019\n"
     ]
    },
    {
     "name": "stderr",
     "output_type": "stream",
     "text": [
      "\n",
      "Finding actions:   0%|                                    | 0/4 [00:00<?, ?it/s]\u001b[A\n",
      "Action: age:   0%|                                        | 0/4 [00:00<?, ?it/s]\u001b[A\n",
      "Action: age:  25%|████████                        | 1/4 [00:00<00:00,  4.71it/s]\u001b[A\n",
      "Action: gender:  25%|███████▎                     | 1/4 [00:00<00:00,  4.71it/s]\u001b[A\n",
      "Action: gender:  50%|██████████████▌              | 2/4 [00:00<00:00,  4.74it/s]\u001b[A\n",
      "Action: race:  50%|███████████████▌               | 2/4 [00:00<00:00,  4.74it/s]\u001b[A\n",
      "Action: race:  75%|███████████████████████▎       | 3/4 [00:00<00:00,  4.75it/s]\u001b[A\n",
      "Action: emotion: 100%|████████████████████████████| 4/4 [00:00<00:00,  6.17it/s]\u001b[A\n",
      "260it [04:30,  1.01it/s]"
     ]
    },
    {
     "name": "stdout",
     "output_type": "stream",
     "text": [
      "/Users/jessecoulter/Downloads/FIN377/CEOPersonalities-/matched_pictures/John McAdam/2010\n"
     ]
    },
    {
     "name": "stderr",
     "output_type": "stream",
     "text": [
      "\n",
      "Finding actions:   0%|                                    | 0/4 [00:00<?, ?it/s]\u001b[A\n",
      "Action: age:   0%|                                        | 0/4 [00:00<?, ?it/s]\u001b[A\n",
      "Action: age:  25%|████████                        | 1/4 [00:00<00:00,  4.73it/s]\u001b[A\n",
      "Action: gender:  25%|███████▎                     | 1/4 [00:00<00:00,  4.73it/s]\u001b[A\n",
      "Action: gender:  50%|██████████████▌              | 2/4 [00:00<00:00,  4.78it/s]\u001b[A\n",
      "Action: race:  50%|███████████████▌               | 2/4 [00:00<00:00,  4.78it/s]\u001b[A\n",
      "Action: race:  75%|███████████████████████▎       | 3/4 [00:00<00:00,  4.76it/s]\u001b[A\n",
      "Action: emotion: 100%|████████████████████████████| 4/4 [00:00<00:00,  6.18it/s]\u001b[A\n",
      "261it [04:30,  1.12it/s]"
     ]
    },
    {
     "name": "stdout",
     "output_type": "stream",
     "text": [
      "/Users/jessecoulter/Downloads/FIN377/CEOPersonalities-/matched_pictures/John McAdam/2011\n"
     ]
    },
    {
     "name": "stderr",
     "output_type": "stream",
     "text": [
      "\n",
      "Finding actions:   0%|                                    | 0/4 [00:00<?, ?it/s]\u001b[A\n",
      "Action: age:   0%|                                        | 0/4 [00:00<?, ?it/s]\u001b[A\n",
      "Action: age:  25%|████████                        | 1/4 [00:00<00:00,  4.65it/s]\u001b[A\n",
      "Action: gender:  25%|███████▎                     | 1/4 [00:00<00:00,  4.65it/s]\u001b[A\n",
      "Action: gender:  50%|██████████████▌              | 2/4 [00:00<00:00,  4.71it/s]\u001b[A\n",
      "Action: race:  50%|███████████████▌               | 2/4 [00:00<00:00,  4.71it/s]\u001b[A\n",
      "Action: race:  75%|███████████████████████▎       | 3/4 [00:00<00:00,  4.75it/s]\u001b[A\n",
      "Action: emotion: 100%|████████████████████████████| 4/4 [00:00<00:00,  6.16it/s]\u001b[A\n",
      "262it [04:31,  1.21it/s]"
     ]
    },
    {
     "name": "stdout",
     "output_type": "stream",
     "text": [
      "/Users/jessecoulter/Downloads/FIN377/CEOPersonalities-/matched_pictures/John McAdam/2012\n"
     ]
    },
    {
     "name": "stderr",
     "output_type": "stream",
     "text": [
      "\n",
      "Finding actions:   0%|                                    | 0/4 [00:00<?, ?it/s]\u001b[A\n",
      "Action: age:   0%|                                        | 0/4 [00:00<?, ?it/s]\u001b[A\n",
      "Action: age:  25%|████████                        | 1/4 [00:00<00:00,  4.71it/s]\u001b[A\n",
      "Action: gender:  25%|███████▎                     | 1/4 [00:00<00:00,  4.71it/s]\u001b[A\n",
      "Action: gender:  50%|██████████████▌              | 2/4 [00:00<00:00,  4.71it/s]\u001b[A\n",
      "Action: race:  50%|███████████████▌               | 2/4 [00:00<00:00,  4.71it/s]\u001b[A\n",
      "Action: race:  75%|███████████████████████▎       | 3/4 [00:00<00:00,  4.45it/s]\u001b[A\n",
      "Action: emotion: 100%|████████████████████████████| 4/4 [00:00<00:00,  5.88it/s]\u001b[A\n",
      "263it [04:32,  1.24it/s]"
     ]
    },
    {
     "name": "stdout",
     "output_type": "stream",
     "text": [
      "/Users/jessecoulter/Downloads/FIN377/CEOPersonalities-/matched_pictures/John McAdam/2013\n"
     ]
    },
    {
     "name": "stderr",
     "output_type": "stream",
     "text": [
      "\n",
      "Finding actions:   0%|                                    | 0/4 [00:00<?, ?it/s]\u001b[A\n",
      "Action: age:   0%|                                        | 0/4 [00:00<?, ?it/s]\u001b[A\n",
      "Action: age:  25%|████████                        | 1/4 [00:00<00:00,  4.65it/s]\u001b[A\n",
      "Action: gender:  25%|███████▎                     | 1/4 [00:00<00:00,  4.65it/s]\u001b[A\n",
      "Action: gender:  50%|██████████████▌              | 2/4 [00:00<00:00,  4.71it/s]\u001b[A\n",
      "Action: race:  50%|███████████████▌               | 2/4 [00:00<00:00,  4.71it/s]\u001b[A\n",
      "Action: race:  75%|███████████████████████▎       | 3/4 [00:00<00:00,  4.72it/s]\u001b[A\n",
      "Action: emotion: 100%|████████████████████████████| 4/4 [00:00<00:00,  6.13it/s]\u001b[A\n",
      "264it [04:32,  1.30it/s]"
     ]
    },
    {
     "name": "stdout",
     "output_type": "stream",
     "text": [
      "/Users/jessecoulter/Downloads/FIN377/CEOPersonalities-/matched_pictures/John McAdam/2014\n"
     ]
    },
    {
     "name": "stderr",
     "output_type": "stream",
     "text": [
      "\n",
      "Finding actions:   0%|                                    | 0/4 [00:00<?, ?it/s]\u001b[A\n",
      "Action: age:   0%|                                        | 0/4 [00:00<?, ?it/s]\u001b[A\n",
      "Action: age:  25%|████████                        | 1/4 [00:00<00:00,  4.59it/s]\u001b[A\n",
      "Action: gender:  25%|███████▎                     | 1/4 [00:00<00:00,  4.59it/s]\u001b[A\n",
      "Action: gender:  50%|██████████████▌              | 2/4 [00:00<00:00,  4.70it/s]\u001b[A\n",
      "Action: race:  50%|███████████████▌               | 2/4 [00:00<00:00,  4.70it/s]\u001b[A\n",
      "Action: race:  75%|███████████████████████▎       | 3/4 [00:00<00:00,  4.73it/s]\u001b[A\n",
      "Action: emotion: 100%|████████████████████████████| 4/4 [00:00<00:00,  6.13it/s]\u001b[A\n",
      "265it [04:33,  1.34it/s]"
     ]
    },
    {
     "name": "stdout",
     "output_type": "stream",
     "text": [
      "/Users/jessecoulter/Downloads/FIN377/CEOPersonalities-/matched_pictures/John McAdam/2015\n"
     ]
    },
    {
     "name": "stderr",
     "output_type": "stream",
     "text": [
      "\n",
      "Finding actions:   0%|                                    | 0/4 [00:00<?, ?it/s]\u001b[A\n",
      "Action: age:   0%|                                        | 0/4 [00:00<?, ?it/s]\u001b[A\n",
      "Action: age:  25%|████████                        | 1/4 [00:00<00:00,  4.81it/s]\u001b[A\n",
      "Action: gender:  25%|███████▎                     | 1/4 [00:00<00:00,  4.81it/s]\u001b[A\n",
      "Action: gender:  50%|██████████████▌              | 2/4 [00:00<00:00,  4.80it/s]\u001b[A\n",
      "Action: race:  50%|███████████████▌               | 2/4 [00:00<00:00,  4.80it/s]\u001b[A\n",
      "Action: race:  75%|███████████████████████▎       | 3/4 [00:00<00:00,  4.80it/s]\u001b[A\n",
      "Action: emotion: 100%|████████████████████████████| 4/4 [00:00<00:00,  6.24it/s]\u001b[A\n",
      "266it [04:37,  1.62s/it]"
     ]
    },
    {
     "name": "stdout",
     "output_type": "stream",
     "text": [
      "/Users/jessecoulter/Downloads/FIN377/CEOPersonalities-/matched_pictures/John McAdam/2016\n"
     ]
    },
    {
     "name": "stderr",
     "output_type": "stream",
     "text": [
      "\n",
      "Finding actions:   0%|                                    | 0/4 [00:00<?, ?it/s]\u001b[A\n",
      "Action: age:   0%|                                        | 0/4 [00:00<?, ?it/s]\u001b[A\n",
      "Action: age:  25%|████████                        | 1/4 [00:00<00:00,  4.95it/s]\u001b[A\n",
      "Action: gender:  25%|███████▎                     | 1/4 [00:00<00:00,  4.95it/s]\u001b[A\n",
      "Action: gender:  50%|██████████████▌              | 2/4 [00:00<00:00,  4.82it/s]\u001b[A\n",
      "Action: race:  50%|███████████████▌               | 2/4 [00:00<00:00,  4.82it/s]\u001b[A\n",
      "Action: race:  75%|███████████████████████▎       | 3/4 [00:00<00:00,  4.79it/s]\u001b[A\n",
      "Action: emotion: 100%|████████████████████████████| 4/4 [00:00<00:00,  6.24it/s]\u001b[A\n",
      "267it [04:38,  1.50s/it]"
     ]
    },
    {
     "name": "stdout",
     "output_type": "stream",
     "text": [
      "/Users/jessecoulter/Downloads/FIN377/CEOPersonalities-/matched_pictures/François Locoh-Donou/2017\n",
      "Error analyzing /Users/jessecoulter/Downloads/FIN377/CEOPersonalities-/matched_pictures/François Locoh-Donou/2017/pic1.jpg: Input image must not have non-english characters - /Users/jessecoulter/Downloads/FIN377/CEOPersonalities-/matched_pictures/François Locoh-Donou/2017/pic1.jpg\n",
      "/Users/jessecoulter/Downloads/FIN377/CEOPersonalities-/matched_pictures/François Locoh-Donou/2018\n",
      "Error analyzing /Users/jessecoulter/Downloads/FIN377/CEOPersonalities-/matched_pictures/François Locoh-Donou/2018/pic1.jpg: Input image must not have non-english characters - /Users/jessecoulter/Downloads/FIN377/CEOPersonalities-/matched_pictures/François Locoh-Donou/2018/pic1.jpg\n",
      "/Users/jessecoulter/Downloads/FIN377/CEOPersonalities-/matched_pictures/François Locoh-Donou/2019\n",
      "Error analyzing /Users/jessecoulter/Downloads/FIN377/CEOPersonalities-/matched_pictures/François Locoh-Donou/2019/pic1.jpg: Input image must not have non-english characters - /Users/jessecoulter/Downloads/FIN377/CEOPersonalities-/matched_pictures/François Locoh-Donou/2019/pic1.jpg\n",
      "/Users/jessecoulter/Downloads/FIN377/CEOPersonalities-/matched_pictures/Jayshree Ullal/2010\n"
     ]
    },
    {
     "name": "stderr",
     "output_type": "stream",
     "text": [
      "\n",
      "Finding actions:   0%|                                    | 0/4 [00:00<?, ?it/s]\u001b[A\n",
      "Action: age:   0%|                                        | 0/4 [00:00<?, ?it/s]\u001b[A\n",
      "Action: age:  25%|████████                        | 1/4 [00:00<00:00,  4.71it/s]\u001b[A\n",
      "Action: gender:  25%|███████▎                     | 1/4 [00:00<00:00,  4.71it/s]\u001b[A\n",
      "Action: gender:  50%|██████████████▌              | 2/4 [00:00<00:00,  4.70it/s]\u001b[A\n",
      "Action: race:  50%|███████████████▌               | 2/4 [00:00<00:00,  4.70it/s]\u001b[A\n",
      "Action: race:  75%|███████████████████████▎       | 3/4 [00:00<00:00,  4.59it/s]\u001b[A\n",
      "Action: emotion: 100%|████████████████████████████| 4/4 [00:00<00:00,  6.01it/s]\u001b[A\n",
      "271it [04:39,  1.47it/s]"
     ]
    },
    {
     "name": "stdout",
     "output_type": "stream",
     "text": [
      "/Users/jessecoulter/Downloads/FIN377/CEOPersonalities-/matched_pictures/Jayshree Ullal/2011\n"
     ]
    },
    {
     "name": "stderr",
     "output_type": "stream",
     "text": [
      "\n",
      "Finding actions:   0%|                                    | 0/4 [00:00<?, ?it/s]\u001b[A\n",
      "Action: age:   0%|                                        | 0/4 [00:00<?, ?it/s]\u001b[A\n",
      "Action: age:  25%|████████                        | 1/4 [00:00<00:00,  4.67it/s]\u001b[A\n",
      "Action: gender:  25%|███████▎                     | 1/4 [00:00<00:00,  4.67it/s]\u001b[A\n",
      "Action: gender:  50%|██████████████▌              | 2/4 [00:00<00:00,  4.74it/s]\u001b[A\n",
      "Action: race:  50%|███████████████▌               | 2/4 [00:00<00:00,  4.74it/s]\u001b[A\n",
      "Action: race:  75%|███████████████████████▎       | 3/4 [00:00<00:00,  4.73it/s]\u001b[A\n",
      "Action: emotion: 100%|████████████████████████████| 4/4 [00:00<00:00,  6.15it/s]\u001b[A\n",
      "272it [04:39,  1.45it/s]"
     ]
    },
    {
     "name": "stdout",
     "output_type": "stream",
     "text": [
      "/Users/jessecoulter/Downloads/FIN377/CEOPersonalities-/matched_pictures/Jayshree Ullal/2012\n"
     ]
    },
    {
     "name": "stderr",
     "output_type": "stream",
     "text": [
      "\n",
      "Finding actions:   0%|                                    | 0/4 [00:00<?, ?it/s]\u001b[A\n",
      "Action: age:   0%|                                        | 0/4 [00:00<?, ?it/s]\u001b[A\n",
      "Action: age:  25%|████████                        | 1/4 [00:00<00:00,  4.66it/s]\u001b[A\n",
      "Action: gender:  25%|███████▎                     | 1/4 [00:00<00:00,  4.66it/s]\u001b[A\n",
      "Action: gender:  50%|██████████████▌              | 2/4 [00:00<00:00,  4.72it/s]\u001b[A\n",
      "Action: race:  50%|███████████████▌               | 2/4 [00:00<00:00,  4.72it/s]\u001b[A\n",
      "Action: race:  75%|███████████████████████▎       | 3/4 [00:00<00:00,  4.73it/s]\u001b[A\n",
      "Action: emotion: 100%|████████████████████████████| 4/4 [00:00<00:00,  6.14it/s]\u001b[A\n",
      "273it [04:40,  1.46it/s]"
     ]
    },
    {
     "name": "stdout",
     "output_type": "stream",
     "text": [
      "/Users/jessecoulter/Downloads/FIN377/CEOPersonalities-/matched_pictures/Jayshree Ullal/2013\n"
     ]
    },
    {
     "name": "stderr",
     "output_type": "stream",
     "text": [
      "\n",
      "Finding actions:   0%|                                    | 0/4 [00:00<?, ?it/s]\u001b[A\n",
      "Action: age:   0%|                                        | 0/4 [00:00<?, ?it/s]\u001b[A\n",
      "Action: age:  25%|████████                        | 1/4 [00:00<00:00,  4.77it/s]\u001b[A\n",
      "Action: gender:  25%|███████▎                     | 1/4 [00:00<00:00,  4.77it/s]\u001b[A\n",
      "Action: gender:  50%|██████████████▌              | 2/4 [00:00<00:00,  4.72it/s]\u001b[A\n",
      "Action: race:  50%|███████████████▌               | 2/4 [00:00<00:00,  4.72it/s]\u001b[A\n",
      "Action: race:  75%|███████████████████████▎       | 3/4 [00:00<00:00,  4.72it/s]\u001b[A\n",
      "Action: emotion: 100%|████████████████████████████| 4/4 [00:00<00:00,  6.14it/s]\u001b[A\n",
      "274it [04:41,  1.43it/s]"
     ]
    },
    {
     "name": "stdout",
     "output_type": "stream",
     "text": [
      "/Users/jessecoulter/Downloads/FIN377/CEOPersonalities-/matched_pictures/Jayshree Ullal/2014\n",
      "No image found in /Users/jessecoulter/Downloads/FIN377/CEOPersonalities-/matched_pictures/Jayshree Ullal/2014\n",
      "/Users/jessecoulter/Downloads/FIN377/CEOPersonalities-/matched_pictures/Jayshree Ullal/2015\n"
     ]
    },
    {
     "name": "stderr",
     "output_type": "stream",
     "text": [
      "\n",
      "Finding actions:   0%|                                    | 0/4 [00:00<?, ?it/s]\u001b[A\n",
      "Action: age:   0%|                                        | 0/4 [00:00<?, ?it/s]\u001b[A\n",
      "Action: age:  25%|████████                        | 1/4 [00:00<00:00,  4.60it/s]\u001b[A\n",
      "Action: gender:  25%|███████▎                     | 1/4 [00:00<00:00,  4.60it/s]\u001b[A\n",
      "Action: gender:  50%|██████████████▌              | 2/4 [00:00<00:00,  4.69it/s]\u001b[A\n",
      "Action: race:  50%|███████████████▌               | 2/4 [00:00<00:00,  4.69it/s]\u001b[A\n",
      "Action: race:  75%|███████████████████████▎       | 3/4 [00:00<00:00,  4.72it/s]\u001b[A\n",
      "Action: emotion: 100%|████████████████████████████| 4/4 [00:00<00:00,  6.11it/s]\u001b[A\n",
      "276it [04:42,  1.76it/s]"
     ]
    },
    {
     "name": "stdout",
     "output_type": "stream",
     "text": [
      "/Users/jessecoulter/Downloads/FIN377/CEOPersonalities-/matched_pictures/Jayshree Ullal/2016\n"
     ]
    },
    {
     "name": "stderr",
     "output_type": "stream",
     "text": [
      "\n",
      "Finding actions:   0%|                                    | 0/4 [00:00<?, ?it/s]\u001b[A\n",
      "Action: age:   0%|                                        | 0/4 [00:00<?, ?it/s]\u001b[A\n",
      "Action: age:  25%|████████                        | 1/4 [00:00<00:00,  4.67it/s]\u001b[A\n",
      "Action: gender:  25%|███████▎                     | 1/4 [00:00<00:00,  4.67it/s]\u001b[A\n",
      "Action: gender:  50%|██████████████▌              | 2/4 [00:00<00:00,  4.69it/s]\u001b[A\n",
      "Action: race:  50%|███████████████▌               | 2/4 [00:00<00:00,  4.69it/s]\u001b[A\n",
      "Action: race:  75%|███████████████████████▎       | 3/4 [00:00<00:00,  4.71it/s]\u001b[A\n",
      "Action: emotion: 100%|████████████████████████████| 4/4 [00:00<00:00,  6.11it/s]\u001b[A\n",
      "277it [04:42,  1.69it/s]"
     ]
    },
    {
     "name": "stdout",
     "output_type": "stream",
     "text": [
      "/Users/jessecoulter/Downloads/FIN377/CEOPersonalities-/matched_pictures/Jayshree Ullal/2017\n"
     ]
    },
    {
     "name": "stderr",
     "output_type": "stream",
     "text": [
      "\n",
      "Finding actions:   0%|                                    | 0/4 [00:00<?, ?it/s]\u001b[A\n",
      "Action: age:   0%|                                        | 0/4 [00:00<?, ?it/s]\u001b[A\n",
      "Action: age:  25%|████████                        | 1/4 [00:00<00:00,  4.57it/s]\u001b[A\n",
      "Action: gender:  25%|███████▎                     | 1/4 [00:00<00:00,  4.57it/s]\u001b[A\n",
      "Action: gender:  50%|██████████████▌              | 2/4 [00:00<00:00,  4.68it/s]\u001b[A\n",
      "Action: race:  50%|███████████████▌               | 2/4 [00:00<00:00,  4.68it/s]\u001b[A\n",
      "Action: race:  75%|███████████████████████▎       | 3/4 [00:00<00:00,  4.72it/s]\u001b[A\n",
      "Action: emotion: 100%|████████████████████████████| 4/4 [00:00<00:00,  6.12it/s]\u001b[A\n",
      "\n",
      "Finding actions:   0%|                                    | 0/4 [00:00<?, ?it/s]\u001b[A\n",
      "Action: age:   0%|                                        | 0/4 [00:00<?, ?it/s]\u001b[A\n",
      "Action: age:  25%|████████                        | 1/4 [00:00<00:00,  4.69it/s]\u001b[A\n",
      "Action: gender:  25%|███████▎                     | 1/4 [00:00<00:00,  4.69it/s]\u001b[A\n",
      "Action: gender:  50%|██████████████▌              | 2/4 [00:00<00:00,  4.71it/s]\u001b[A\n",
      "Action: race:  50%|███████████████▌               | 2/4 [00:00<00:00,  4.71it/s]\u001b[A\n",
      "Action: race:  75%|███████████████████████▎       | 3/4 [00:00<00:00,  4.72it/s]\u001b[A\n",
      "Action: emotion: 100%|████████████████████████████| 4/4 [00:00<00:00,  6.13it/s]\u001b[A\n",
      "\n",
      "Finding actions:   0%|                                    | 0/4 [00:00<?, ?it/s]\u001b[A\n",
      "Action: age:   0%|                                        | 0/4 [00:00<?, ?it/s]\u001b[A\n",
      "Action: age:  25%|████████                        | 1/4 [00:00<00:00,  4.30it/s]\u001b[A\n",
      "Action: gender:  25%|███████▎                     | 1/4 [00:00<00:00,  4.30it/s]\u001b[A\n",
      "Action: gender:  50%|██████████████▌              | 2/4 [00:00<00:00,  4.53it/s]\u001b[A\n",
      "Action: race:  50%|███████████████▌               | 2/4 [00:00<00:00,  4.53it/s]\u001b[A\n",
      "Action: race:  75%|███████████████████████▎       | 3/4 [00:00<00:00,  4.63it/s]\u001b[A\n",
      "Action: emotion: 100%|████████████████████████████| 4/4 [00:00<00:00,  5.96it/s]\u001b[A\n",
      "278it [04:49,  2.10s/it]"
     ]
    },
    {
     "name": "stdout",
     "output_type": "stream",
     "text": [
      "/Users/jessecoulter/Downloads/FIN377/CEOPersonalities-/matched_pictures/Jayshree Ullal/2018\n"
     ]
    },
    {
     "name": "stderr",
     "output_type": "stream",
     "text": [
      "\n",
      "Finding actions:   0%|                                    | 0/4 [00:00<?, ?it/s]\u001b[A\n",
      "Action: age:   0%|                                        | 0/4 [00:00<?, ?it/s]\u001b[A\n",
      "Action: age:  25%|████████                        | 1/4 [00:00<00:00,  4.76it/s]\u001b[A\n",
      "Action: gender:  25%|███████▎                     | 1/4 [00:00<00:00,  4.76it/s]\u001b[A\n",
      "Action: gender:  50%|██████████████▌              | 2/4 [00:00<00:00,  4.76it/s]\u001b[A\n",
      "Action: race:  50%|███████████████▌               | 2/4 [00:00<00:00,  4.76it/s]\u001b[A\n",
      "Action: race:  75%|███████████████████████▎       | 3/4 [00:00<00:00,  4.74it/s]\u001b[A\n",
      "Action: emotion: 100%|████████████████████████████| 4/4 [00:00<00:00,  6.17it/s]\u001b[A\n",
      "\n",
      "Finding actions:   0%|                                    | 0/4 [00:00<?, ?it/s]\u001b[A\n",
      "Action: age:   0%|                                        | 0/4 [00:00<?, ?it/s]\u001b[A\n",
      "Action: age:  25%|████████                        | 1/4 [00:00<00:00,  4.62it/s]\u001b[A\n",
      "Action: gender:  25%|███████▎                     | 1/4 [00:00<00:00,  4.62it/s]\u001b[A\n",
      "Action: gender:  50%|██████████████▌              | 2/4 [00:00<00:00,  4.68it/s]\u001b[A\n",
      "Action: race:  50%|███████████████▌               | 2/4 [00:00<00:00,  4.68it/s]\u001b[A\n",
      "Action: race:  75%|███████████████████████▎       | 3/4 [00:00<00:00,  4.71it/s]\u001b[A\n",
      "Action: emotion: 100%|████████████████████████████| 4/4 [00:00<00:00,  6.11it/s]\u001b[A\n",
      "279it [04:51,  1.92s/it]"
     ]
    },
    {
     "name": "stdout",
     "output_type": "stream",
     "text": [
      "/Users/jessecoulter/Downloads/FIN377/CEOPersonalities-/matched_pictures/Jayshree Ullal/2019\n"
     ]
    },
    {
     "name": "stderr",
     "output_type": "stream",
     "text": [
      "\n",
      "Finding actions:   0%|                                    | 0/4 [00:00<?, ?it/s]\u001b[A\n",
      "Action: age:   0%|                                        | 0/4 [00:00<?, ?it/s]\u001b[A\n",
      "Action: age:  25%|████████                        | 1/4 [00:00<00:00,  4.19it/s]\u001b[A\n",
      "Action: gender:  25%|███████▎                     | 1/4 [00:00<00:00,  4.19it/s]\u001b[A\n",
      "Action: gender:  50%|██████████████▌              | 2/4 [00:00<00:00,  4.32it/s]\u001b[A\n",
      "Action: race:  50%|███████████████▌               | 2/4 [00:00<00:00,  4.32it/s]\u001b[A\n",
      "Action: race:  75%|███████████████████████▎       | 3/4 [00:00<00:00,  4.37it/s]\u001b[A\n",
      "Action: emotion: 100%|████████████████████████████| 4/4 [00:00<00:00,  5.65it/s]\u001b[A\n",
      "280it [04:52,  1.73s/it]"
     ]
    },
    {
     "name": "stdout",
     "output_type": "stream",
     "text": [
      "/Users/jessecoulter/Downloads/FIN377/CEOPersonalities-/matched_pictures/Greg Brown/2010\n"
     ]
    },
    {
     "name": "stderr",
     "output_type": "stream",
     "text": [
      "\n",
      "Finding actions:   0%|                                    | 0/4 [00:00<?, ?it/s]\u001b[A\n",
      "Action: age:   0%|                                        | 0/4 [00:00<?, ?it/s]\u001b[A\n",
      "Action: age:  25%|████████                        | 1/4 [00:00<00:00,  3.97it/s]\u001b[A\n",
      "Action: gender:  25%|███████▎                     | 1/4 [00:00<00:00,  3.97it/s]\u001b[A\n",
      "Action: gender:  50%|██████████████▌              | 2/4 [00:00<00:00,  4.11it/s]\u001b[A\n",
      "Action: race:  50%|███████████████▌               | 2/4 [00:00<00:00,  4.11it/s]\u001b[A\n",
      "Action: race:  75%|███████████████████████▎       | 3/4 [00:00<00:00,  4.12it/s]\u001b[A\n",
      "Action: emotion: 100%|████████████████████████████| 4/4 [00:00<00:00,  5.35it/s]\u001b[A\n",
      "281it [04:54,  1.83s/it]"
     ]
    },
    {
     "name": "stdout",
     "output_type": "stream",
     "text": [
      "/Users/jessecoulter/Downloads/FIN377/CEOPersonalities-/matched_pictures/Greg Brown/2011\n"
     ]
    },
    {
     "name": "stderr",
     "output_type": "stream",
     "text": [
      "\n",
      "Finding actions:   0%|                                    | 0/4 [00:00<?, ?it/s]\u001b[A\n",
      "Action: age:   0%|                                        | 0/4 [00:00<?, ?it/s]\u001b[A\n",
      "Action: age:  25%|████████                        | 1/4 [00:00<00:00,  4.30it/s]\u001b[A\n",
      "Action: gender:  25%|███████▎                     | 1/4 [00:00<00:00,  4.30it/s]\u001b[A\n",
      "Action: gender:  50%|██████████████▌              | 2/4 [00:00<00:00,  4.36it/s]\u001b[A\n",
      "Action: race:  50%|███████████████▌               | 2/4 [00:00<00:00,  4.36it/s]\u001b[A\n",
      "Action: race:  75%|███████████████████████▎       | 3/4 [00:00<00:00,  4.20it/s]\u001b[A\n",
      "Action: emotion: 100%|████████████████████████████| 4/4 [00:00<00:00,  5.51it/s]\u001b[A\n",
      "282it [04:55,  1.52s/it]"
     ]
    },
    {
     "name": "stdout",
     "output_type": "stream",
     "text": [
      "/Users/jessecoulter/Downloads/FIN377/CEOPersonalities-/matched_pictures/Greg Brown/2012\n"
     ]
    },
    {
     "name": "stderr",
     "output_type": "stream",
     "text": [
      "\n",
      "Finding actions:   0%|                                    | 0/4 [00:00<?, ?it/s]\u001b[A\n",
      "Action: age:   0%|                                        | 0/4 [00:00<?, ?it/s]\u001b[A\n",
      "Action: age:  25%|████████                        | 1/4 [00:00<00:00,  4.22it/s]\u001b[A\n",
      "Action: gender:  25%|███████▎                     | 1/4 [00:00<00:00,  4.22it/s]\u001b[A\n",
      "Action: gender:  50%|██████████████▌              | 2/4 [00:00<00:00,  4.21it/s]\u001b[A\n",
      "Action: race:  50%|███████████████▌               | 2/4 [00:00<00:00,  4.21it/s]\u001b[A\n",
      "Action: race:  75%|███████████████████████▎       | 3/4 [00:00<00:00,  4.26it/s]\u001b[A\n",
      "Action: emotion: 100%|████████████████████████████| 4/4 [00:00<00:00,  5.54it/s]\u001b[A\n",
      "283it [04:55,  1.31s/it]"
     ]
    },
    {
     "name": "stdout",
     "output_type": "stream",
     "text": [
      "/Users/jessecoulter/Downloads/FIN377/CEOPersonalities-/matched_pictures/Greg Brown/2013\n"
     ]
    },
    {
     "name": "stderr",
     "output_type": "stream",
     "text": [
      "\n",
      "Finding actions:   0%|                                    | 0/4 [00:00<?, ?it/s]\u001b[A\n",
      "Action: age:   0%|                                        | 0/4 [00:00<?, ?it/s]\u001b[A\n",
      "Action: age:  25%|████████                        | 1/4 [00:00<00:00,  3.99it/s]\u001b[A\n",
      "Action: gender:  25%|███████▎                     | 1/4 [00:00<00:00,  3.99it/s]\u001b[A\n",
      "Action: gender:  50%|██████████████▌              | 2/4 [00:00<00:00,  4.05it/s]\u001b[A\n",
      "Action: race:  50%|███████████████▌               | 2/4 [00:00<00:00,  4.05it/s]\u001b[A\n",
      "Action: race:  75%|███████████████████████▎       | 3/4 [00:00<00:00,  4.22it/s]\u001b[A\n",
      "Action: emotion: 100%|████████████████████████████| 4/4 [00:00<00:00,  5.41it/s]\u001b[A\n",
      "284it [04:56,  1.15s/it]"
     ]
    },
    {
     "name": "stdout",
     "output_type": "stream",
     "text": [
      "/Users/jessecoulter/Downloads/FIN377/CEOPersonalities-/matched_pictures/Greg Brown/2014\n"
     ]
    },
    {
     "name": "stderr",
     "output_type": "stream",
     "text": [
      "\n",
      "Finding actions:   0%|                                    | 0/4 [00:00<?, ?it/s]\u001b[A\n",
      "Action: age:   0%|                                        | 0/4 [00:00<?, ?it/s]\u001b[A\n",
      "Action: age:  25%|████████                        | 1/4 [00:00<00:00,  4.21it/s]\u001b[A\n",
      "Action: gender:  25%|███████▎                     | 1/4 [00:00<00:00,  4.21it/s]\u001b[A\n",
      "Action: gender:  50%|██████████████▌              | 2/4 [00:00<00:00,  4.32it/s]\u001b[A\n",
      "Action: race:  50%|███████████████▌               | 2/4 [00:00<00:00,  4.32it/s]\u001b[A\n",
      "Action: race:  75%|███████████████████████▎       | 3/4 [00:00<00:00,  4.37it/s]\u001b[A\n",
      "Action: emotion: 100%|████████████████████████████| 4/4 [00:00<00:00,  5.66it/s]\u001b[A\n",
      "285it [04:57,  1.04s/it]"
     ]
    },
    {
     "name": "stdout",
     "output_type": "stream",
     "text": [
      "/Users/jessecoulter/Downloads/FIN377/CEOPersonalities-/matched_pictures/Greg Brown/2015\n"
     ]
    },
    {
     "name": "stderr",
     "output_type": "stream",
     "text": [
      "\n",
      "Finding actions:   0%|                                    | 0/4 [00:00<?, ?it/s]\u001b[A\n",
      "Action: age:   0%|                                        | 0/4 [00:00<?, ?it/s]\u001b[A\n",
      "Action: age:  25%|████████                        | 1/4 [00:00<00:00,  4.66it/s]\u001b[A\n",
      "Action: gender:  25%|███████▎                     | 1/4 [00:00<00:00,  4.66it/s]\u001b[A\n",
      "Action: gender:  50%|██████████████▌              | 2/4 [00:00<00:00,  4.64it/s]\u001b[A\n",
      "Action: race:  50%|███████████████▌               | 2/4 [00:00<00:00,  4.64it/s]\u001b[A\n",
      "Action: race:  75%|███████████████████████▎       | 3/4 [00:00<00:00,  4.42it/s]\u001b[A\n",
      "Action: emotion: 100%|████████████████████████████| 4/4 [00:00<00:00,  5.82it/s]\u001b[A\n",
      "286it [04:58,  1.03s/it]"
     ]
    },
    {
     "name": "stdout",
     "output_type": "stream",
     "text": [
      "/Users/jessecoulter/Downloads/FIN377/CEOPersonalities-/matched_pictures/Greg Brown/2016\n"
     ]
    },
    {
     "name": "stderr",
     "output_type": "stream",
     "text": [
      "\n",
      "Finding actions:   0%|                                    | 0/4 [00:00<?, ?it/s]\u001b[A\n",
      "Action: age:   0%|                                        | 0/4 [00:00<?, ?it/s]\u001b[A\n",
      "Action: age:  25%|████████                        | 1/4 [00:00<00:00,  4.74it/s]\u001b[A\n",
      "Action: gender:  25%|███████▎                     | 1/4 [00:00<00:00,  4.74it/s]\u001b[A\n",
      "Action: gender:  50%|██████████████▌              | 2/4 [00:00<00:00,  4.74it/s]\u001b[A\n",
      "Action: race:  50%|███████████████▌               | 2/4 [00:00<00:00,  4.74it/s]\u001b[A\n",
      "Action: race:  75%|███████████████████████▎       | 3/4 [00:00<00:00,  4.70it/s]\u001b[A\n",
      "Action: emotion: 100%|████████████████████████████| 4/4 [00:00<00:00,  6.13it/s]\u001b[A\n",
      "287it [04:59,  1.03it/s]"
     ]
    },
    {
     "name": "stdout",
     "output_type": "stream",
     "text": [
      "/Users/jessecoulter/Downloads/FIN377/CEOPersonalities-/matched_pictures/Greg Brown/2017\n"
     ]
    },
    {
     "name": "stderr",
     "output_type": "stream",
     "text": [
      "\n",
      "Finding actions:   0%|                                    | 0/4 [00:00<?, ?it/s]\u001b[A\n",
      "Action: age:   0%|                                        | 0/4 [00:00<?, ?it/s]\u001b[A\n",
      "Action: age:  25%|████████                        | 1/4 [00:00<00:00,  4.32it/s]\u001b[A\n",
      "Action: gender:  25%|███████▎                     | 1/4 [00:00<00:00,  4.32it/s]\u001b[A\n",
      "Action: gender:  50%|██████████████▌              | 2/4 [00:00<00:00,  4.23it/s]\u001b[A\n",
      "Action: race:  50%|███████████████▌               | 2/4 [00:00<00:00,  4.23it/s]\u001b[A\n",
      "Action: race:  75%|███████████████████████▎       | 3/4 [00:00<00:00,  4.18it/s]\u001b[A\n",
      "Action: emotion: 100%|████████████████████████████| 4/4 [00:00<00:00,  5.47it/s]\u001b[A\n",
      "288it [05:00,  1.10it/s]"
     ]
    },
    {
     "name": "stdout",
     "output_type": "stream",
     "text": [
      "/Users/jessecoulter/Downloads/FIN377/CEOPersonalities-/matched_pictures/Greg Brown/2018\n",
      "Folder not found: /Users/jessecoulter/Downloads/FIN377/CEOPersonalities-/matched_pictures/Greg Brown/2018\n",
      "/Users/jessecoulter/Downloads/FIN377/CEOPersonalities-/matched_pictures/Greg Brown/2019\n"
     ]
    },
    {
     "name": "stderr",
     "output_type": "stream",
     "text": [
      "\n",
      "Finding actions:   0%|                                    | 0/4 [00:00<?, ?it/s]\u001b[A\n",
      "Action: age:   0%|                                        | 0/4 [00:00<?, ?it/s]\u001b[A\n",
      "Action: age:  25%|████████                        | 1/4 [00:00<00:00,  4.24it/s]\u001b[A\n",
      "Action: gender:  25%|███████▎                     | 1/4 [00:00<00:00,  4.24it/s]\u001b[A\n",
      "Action: gender:  50%|██████████████▌              | 2/4 [00:00<00:00,  4.21it/s]\u001b[A\n",
      "Action: race:  50%|███████████████▌               | 2/4 [00:00<00:00,  4.21it/s]\u001b[A\n",
      "Action: race:  75%|███████████████████████▎       | 3/4 [00:00<00:00,  4.25it/s]\u001b[A\n",
      "Action: emotion: 100%|████████████████████████████| 4/4 [00:00<00:00,  5.52it/s]\u001b[A\n",
      "290it [05:00,  1.50it/s]"
     ]
    },
    {
     "name": "stdout",
     "output_type": "stream",
     "text": [
      "/Users/jessecoulter/Downloads/FIN377/CEOPersonalities-/matched_pictures/John Coyne/2010\n"
     ]
    },
    {
     "name": "stderr",
     "output_type": "stream",
     "text": [
      "\n",
      "Finding actions:   0%|                                    | 0/4 [00:00<?, ?it/s]\u001b[A\n",
      "Action: age:   0%|                                        | 0/4 [00:00<?, ?it/s]\u001b[A\n",
      "Action: age:  25%|████████                        | 1/4 [00:00<00:00,  4.39it/s]\u001b[A\n",
      "Action: gender:  25%|███████▎                     | 1/4 [00:00<00:00,  4.39it/s]\u001b[A\n",
      "Action: gender:  50%|██████████████▌              | 2/4 [00:00<00:00,  4.39it/s]\u001b[A\n",
      "Action: race:  50%|███████████████▌               | 2/4 [00:00<00:00,  4.39it/s]\u001b[A\n",
      "Action: race:  75%|███████████████████████▎       | 3/4 [00:00<00:00,  4.30it/s]\u001b[A\n",
      "Action: emotion: 100%|████████████████████████████| 4/4 [00:00<00:00,  5.62it/s]\u001b[A\n",
      "291it [05:01,  1.43it/s]"
     ]
    },
    {
     "name": "stdout",
     "output_type": "stream",
     "text": [
      "/Users/jessecoulter/Downloads/FIN377/CEOPersonalities-/matched_pictures/John Coyne/2011\n"
     ]
    },
    {
     "name": "stderr",
     "output_type": "stream",
     "text": [
      "\n",
      "Finding actions:   0%|                                    | 0/4 [00:00<?, ?it/s]\u001b[A\n",
      "Action: age:   0%|                                        | 0/4 [00:00<?, ?it/s]\u001b[A\n",
      "Action: age:  25%|████████                        | 1/4 [00:00<00:00,  4.44it/s]\u001b[A\n",
      "Action: gender:  25%|███████▎                     | 1/4 [00:00<00:00,  4.44it/s]\u001b[A\n",
      "Action: gender:  50%|██████████████▌              | 2/4 [00:00<00:00,  4.50it/s]\u001b[A\n",
      "Action: race:  50%|███████████████▌               | 2/4 [00:00<00:00,  4.50it/s]\u001b[A\n",
      "Action: race:  75%|███████████████████████▎       | 3/4 [00:00<00:00,  4.44it/s]\u001b[A\n",
      "Action: emotion: 100%|████████████████████████████| 4/4 [00:00<00:00,  5.79it/s]\u001b[A\n",
      "292it [05:02,  1.41it/s]"
     ]
    },
    {
     "name": "stdout",
     "output_type": "stream",
     "text": [
      "/Users/jessecoulter/Downloads/FIN377/CEOPersonalities-/matched_pictures/Stephen Milligan/2012\n"
     ]
    },
    {
     "name": "stderr",
     "output_type": "stream",
     "text": [
      "\n",
      "Finding actions:   0%|                                    | 0/4 [00:00<?, ?it/s]\u001b[A\n",
      "Action: age:   0%|                                        | 0/4 [00:00<?, ?it/s]\u001b[A\n",
      "Action: age:  25%|████████                        | 1/4 [00:00<00:00,  4.44it/s]\u001b[A\n",
      "Action: gender:  25%|███████▎                     | 1/4 [00:00<00:00,  4.44it/s]\u001b[A\n",
      "Action: gender:  50%|██████████████▌              | 2/4 [00:00<00:00,  4.39it/s]\u001b[A\n",
      "Action: race:  50%|███████████████▌               | 2/4 [00:00<00:00,  4.39it/s]\u001b[A\n",
      "Action: race:  75%|███████████████████████▎       | 3/4 [00:00<00:00,  4.28it/s]\u001b[A\n",
      "Action: emotion: 100%|████████████████████████████| 4/4 [00:00<00:00,  5.62it/s]\u001b[A\n",
      "293it [05:03,  1.31it/s]"
     ]
    },
    {
     "name": "stdout",
     "output_type": "stream",
     "text": [
      "/Users/jessecoulter/Downloads/FIN377/CEOPersonalities-/matched_pictures/Stephen Milligan/2013\n",
      "Error analyzing /Users/jessecoulter/Downloads/FIN377/CEOPersonalities-/matched_pictures/Stephen Milligan/2013/pic1.jpg: Face could not be detected in /Users/jessecoulter/Downloads/FIN377/CEOPersonalities-/matched_pictures/Stephen Milligan/2013/pic1.jpg.Please confirm that the picture is a face photo or consider to set enforce_detection param to False.\n",
      "/Users/jessecoulter/Downloads/FIN377/CEOPersonalities-/matched_pictures/Stephen Milligan/2014\n"
     ]
    },
    {
     "name": "stderr",
     "output_type": "stream",
     "text": [
      "\n",
      "Finding actions:   0%|                                    | 0/4 [00:00<?, ?it/s]\u001b[A\n",
      "Action: age:   0%|                                        | 0/4 [00:00<?, ?it/s]\u001b[A\n",
      "Action: age:  25%|████████                        | 1/4 [00:00<00:00,  4.34it/s]\u001b[A\n",
      "Action: gender:  25%|███████▎                     | 1/4 [00:00<00:00,  4.34it/s]\u001b[A\n",
      "Action: gender:  50%|██████████████▌              | 2/4 [00:00<00:00,  4.36it/s]\u001b[A\n",
      "Action: race:  50%|███████████████▌               | 2/4 [00:00<00:00,  4.36it/s]\u001b[A\n",
      "Action: race:  75%|███████████████████████▎       | 3/4 [00:00<00:00,  4.33it/s]\u001b[A\n",
      "Action: emotion: 100%|████████████████████████████| 4/4 [00:00<00:00,  5.65it/s]\u001b[A\n",
      "295it [05:04,  1.57it/s]"
     ]
    },
    {
     "name": "stdout",
     "output_type": "stream",
     "text": [
      "/Users/jessecoulter/Downloads/FIN377/CEOPersonalities-/matched_pictures/Stephen Milligan/2015\n"
     ]
    },
    {
     "name": "stderr",
     "output_type": "stream",
     "text": [
      "\n",
      "Finding actions:   0%|                                    | 0/4 [00:00<?, ?it/s]\u001b[A\n",
      "Action: age:   0%|                                        | 0/4 [00:00<?, ?it/s]\u001b[A\n",
      "Action: age:  25%|████████                        | 1/4 [00:00<00:00,  4.23it/s]\u001b[A\n",
      "Action: gender:  25%|███████▎                     | 1/4 [00:00<00:00,  4.23it/s]\u001b[A\n",
      "Action: gender:  50%|██████████████▌              | 2/4 [00:00<00:00,  4.24it/s]\u001b[A\n",
      "Action: race:  50%|███████████████▌               | 2/4 [00:00<00:00,  4.24it/s]\u001b[A\n",
      "Action: race:  75%|███████████████████████▎       | 3/4 [00:00<00:00,  4.27it/s]\u001b[A\n",
      "Action: emotion: 100%|████████████████████████████| 4/4 [00:00<00:00,  5.55it/s]\u001b[A\n",
      "296it [05:05,  1.27it/s]"
     ]
    },
    {
     "name": "stdout",
     "output_type": "stream",
     "text": [
      "/Users/jessecoulter/Downloads/FIN377/CEOPersonalities-/matched_pictures/Stephen Milligan/2016\n"
     ]
    },
    {
     "name": "stderr",
     "output_type": "stream",
     "text": [
      "\n",
      "Finding actions:   0%|                                    | 0/4 [00:00<?, ?it/s]\u001b[A\n",
      "Action: age:   0%|                                        | 0/4 [00:00<?, ?it/s]\u001b[A\n",
      "Action: age:  25%|████████                        | 1/4 [00:00<00:00,  4.29it/s]\u001b[A\n",
      "Action: gender:  25%|███████▎                     | 1/4 [00:00<00:00,  4.29it/s]\u001b[A\n",
      "Action: gender:  50%|██████████████▌              | 2/4 [00:00<00:00,  4.24it/s]\u001b[A\n",
      "Action: race:  50%|███████████████▌               | 2/4 [00:00<00:00,  4.24it/s]\u001b[A\n",
      "Action: race:  75%|███████████████████████▎       | 3/4 [00:00<00:00,  4.29it/s]\u001b[A\n",
      "Action: emotion: 100%|████████████████████████████| 4/4 [00:00<00:00,  5.57it/s]\u001b[A\n",
      "297it [05:06,  1.28it/s]"
     ]
    },
    {
     "name": "stdout",
     "output_type": "stream",
     "text": [
      "/Users/jessecoulter/Downloads/FIN377/CEOPersonalities-/matched_pictures/Stephen Milligan/2017\n"
     ]
    },
    {
     "name": "stderr",
     "output_type": "stream",
     "text": [
      "\n",
      "Finding actions:   0%|                                    | 0/4 [00:00<?, ?it/s]\u001b[A\n",
      "Action: age:   0%|                                        | 0/4 [00:00<?, ?it/s]\u001b[A\n",
      "Action: age:  25%|████████                        | 1/4 [00:00<00:00,  4.43it/s]\u001b[A\n",
      "Action: gender:  25%|███████▎                     | 1/4 [00:00<00:00,  4.43it/s]\u001b[A\n",
      "Action: gender:  50%|██████████████▌              | 2/4 [00:00<00:00,  4.49it/s]\u001b[A\n",
      "Action: race:  50%|███████████████▌               | 2/4 [00:00<00:00,  4.49it/s]\u001b[A\n",
      "Action: race:  75%|███████████████████████▎       | 3/4 [00:00<00:00,  4.53it/s]\u001b[A\n",
      "Action: emotion: 100%|████████████████████████████| 4/4 [00:00<00:00,  5.86it/s]\u001b[A\n",
      "298it [05:06,  1.31it/s]"
     ]
    },
    {
     "name": "stdout",
     "output_type": "stream",
     "text": [
      "/Users/jessecoulter/Downloads/FIN377/CEOPersonalities-/matched_pictures/Stephen Milligan/2018\n"
     ]
    },
    {
     "name": "stderr",
     "output_type": "stream",
     "text": [
      "\n",
      "Finding actions:   0%|                                    | 0/4 [00:00<?, ?it/s]\u001b[A\n",
      "Action: age:   0%|                                        | 0/4 [00:00<?, ?it/s]\u001b[A\n",
      "Action: age:  25%|████████                        | 1/4 [00:00<00:00,  4.37it/s]\u001b[A\n",
      "Action: gender:  25%|███████▎                     | 1/4 [00:00<00:00,  4.37it/s]\u001b[A\n",
      "Action: gender:  50%|██████████████▌              | 2/4 [00:00<00:00,  4.40it/s]\u001b[A\n",
      "Action: race:  50%|███████████████▌               | 2/4 [00:00<00:00,  4.40it/s]\u001b[A\n",
      "Action: race:  75%|███████████████████████▎       | 3/4 [00:00<00:00,  4.27it/s]\u001b[A\n",
      "Action: emotion: 100%|████████████████████████████| 4/4 [00:00<00:00,  5.57it/s]\u001b[A\n",
      "299it [05:07,  1.31it/s]"
     ]
    },
    {
     "name": "stdout",
     "output_type": "stream",
     "text": [
      "/Users/jessecoulter/Downloads/FIN377/CEOPersonalities-/matched_pictures/Stephen Milligan/2019\n"
     ]
    },
    {
     "name": "stderr",
     "output_type": "stream",
     "text": [
      "\n",
      "Finding actions:   0%|                                    | 0/4 [00:00<?, ?it/s]\u001b[A\n",
      "Action: age:   0%|                                        | 0/4 [00:00<?, ?it/s]\u001b[A\n",
      "Action: age:  25%|████████                        | 1/4 [00:00<00:00,  4.02it/s]\u001b[A\n",
      "Action: gender:  25%|███████▎                     | 1/4 [00:00<00:00,  4.02it/s]\u001b[A\n",
      "Action: gender:  50%|██████████████▌              | 2/4 [00:00<00:00,  4.01it/s]\u001b[A\n",
      "Action: race:  50%|███████████████▌               | 2/4 [00:00<00:00,  4.01it/s]\u001b[A\n",
      "Action: race:  75%|███████████████████████▎       | 3/4 [00:00<00:00,  4.07it/s]\u001b[A\n",
      "Action: emotion: 100%|████████████████████████████| 4/4 [00:00<00:00,  5.28it/s]\u001b[A\n",
      "300it [05:08,  1.17it/s]"
     ]
    },
    {
     "name": "stdout",
     "output_type": "stream",
     "text": [
      "/Users/jessecoulter/Downloads/FIN377/CEOPersonalities-/matched_pictures/Stephen J. Luczo/2010\n"
     ]
    },
    {
     "name": "stderr",
     "output_type": "stream",
     "text": [
      "\n",
      "Finding actions:   0%|                                    | 0/4 [00:00<?, ?it/s]\u001b[A\n",
      "Action: age:   0%|                                        | 0/4 [00:00<?, ?it/s]\u001b[A\n",
      "Action: age:  25%|████████                        | 1/4 [00:00<00:00,  4.22it/s]\u001b[A\n",
      "Action: gender:  25%|███████▎                     | 1/4 [00:00<00:00,  4.22it/s]\u001b[A\n",
      "Action: gender:  50%|██████████████▌              | 2/4 [00:00<00:00,  4.09it/s]\u001b[A\n",
      "Action: race:  50%|███████████████▌               | 2/4 [00:00<00:00,  4.09it/s]\u001b[A\n",
      "Action: race:  75%|███████████████████████▎       | 3/4 [00:00<00:00,  4.05it/s]\u001b[A\n",
      "Action: emotion: 100%|████████████████████████████| 4/4 [00:00<00:00,  5.29it/s]\u001b[A\n",
      "301it [05:09,  1.20it/s]"
     ]
    },
    {
     "name": "stdout",
     "output_type": "stream",
     "text": [
      "/Users/jessecoulter/Downloads/FIN377/CEOPersonalities-/matched_pictures/Stephen J. Luczo/2011\n"
     ]
    },
    {
     "name": "stderr",
     "output_type": "stream",
     "text": [
      "\n",
      "Finding actions:   0%|                                    | 0/4 [00:00<?, ?it/s]\u001b[A\n",
      "Action: age:   0%|                                        | 0/4 [00:00<?, ?it/s]\u001b[A\n",
      "Action: age:  25%|████████                        | 1/4 [00:00<00:00,  4.13it/s]\u001b[A\n",
      "Action: gender:  25%|███████▎                     | 1/4 [00:00<00:00,  4.13it/s]\u001b[A\n",
      "Action: gender:  50%|██████████████▌              | 2/4 [00:00<00:00,  4.21it/s]\u001b[A\n",
      "Action: race:  50%|███████████████▌               | 2/4 [00:00<00:00,  4.21it/s]\u001b[A\n",
      "Action: race:  75%|███████████████████████▎       | 3/4 [00:00<00:00,  4.28it/s]\u001b[A\n",
      "Action: emotion: 100%|████████████████████████████| 4/4 [00:00<00:00,  5.53it/s]\u001b[A\n",
      "302it [05:10,  1.23it/s]"
     ]
    },
    {
     "name": "stdout",
     "output_type": "stream",
     "text": [
      "/Users/jessecoulter/Downloads/FIN377/CEOPersonalities-/matched_pictures/Stephen J. Luczo/2012\n"
     ]
    },
    {
     "name": "stderr",
     "output_type": "stream",
     "text": [
      "\n",
      "Finding actions:   0%|                                    | 0/4 [00:00<?, ?it/s]\u001b[A\n",
      "Action: age:   0%|                                        | 0/4 [00:00<?, ?it/s]\u001b[A\n",
      "Action: age:  25%|████████                        | 1/4 [00:00<00:00,  4.54it/s]\u001b[A\n",
      "Action: gender:  25%|███████▎                     | 1/4 [00:00<00:00,  4.54it/s]\u001b[A\n",
      "Action: gender:  50%|██████████████▌              | 2/4 [00:00<00:00,  4.37it/s]\u001b[A\n",
      "Action: race:  50%|███████████████▌               | 2/4 [00:00<00:00,  4.37it/s]\u001b[A\n",
      "Action: race:  75%|███████████████████████▎       | 3/4 [00:00<00:00,  4.41it/s]\u001b[A\n",
      "Action: emotion: 100%|████████████████████████████| 4/4 [00:00<00:00,  5.75it/s]\u001b[A\n",
      "303it [05:11,  1.26it/s]"
     ]
    },
    {
     "name": "stdout",
     "output_type": "stream",
     "text": [
      "/Users/jessecoulter/Downloads/FIN377/CEOPersonalities-/matched_pictures/Stephen J. Luczo/2013\n"
     ]
    },
    {
     "name": "stderr",
     "output_type": "stream",
     "text": [
      "\n",
      "Finding actions:   0%|                                    | 0/4 [00:00<?, ?it/s]\u001b[A\n",
      "Action: age:   0%|                                        | 0/4 [00:00<?, ?it/s]\u001b[A\n",
      "Action: age:  25%|████████                        | 1/4 [00:00<00:00,  4.35it/s]\u001b[A\n",
      "Action: gender:  25%|███████▎                     | 1/4 [00:00<00:00,  4.35it/s]\u001b[A\n",
      "Action: gender:  50%|██████████████▌              | 2/4 [00:00<00:00,  4.56it/s]\u001b[A\n",
      "Action: race:  50%|███████████████▌               | 2/4 [00:00<00:00,  4.56it/s]\u001b[A\n",
      "Action: race:  75%|███████████████████████▎       | 3/4 [00:00<00:00,  4.61it/s]\u001b[A\n",
      "Action: emotion: 100%|████████████████████████████| 4/4 [00:00<00:00,  5.95it/s]\u001b[A\n",
      "304it [05:11,  1.30it/s]"
     ]
    },
    {
     "name": "stdout",
     "output_type": "stream",
     "text": [
      "/Users/jessecoulter/Downloads/FIN377/CEOPersonalities-/matched_pictures/Stephen J. Luczo/2014\n"
     ]
    },
    {
     "name": "stderr",
     "output_type": "stream",
     "text": [
      "\n",
      "Finding actions:   0%|                                    | 0/4 [00:00<?, ?it/s]\u001b[A\n",
      "Action: age:   0%|                                        | 0/4 [00:00<?, ?it/s]\u001b[A\n",
      "Action: age:  25%|████████                        | 1/4 [00:00<00:00,  4.70it/s]\u001b[A\n",
      "Action: gender:  25%|███████▎                     | 1/4 [00:00<00:00,  4.70it/s]\u001b[A\n",
      "Action: gender:  50%|██████████████▌              | 2/4 [00:00<00:00,  4.73it/s]\u001b[A\n",
      "Action: race:  50%|███████████████▌               | 2/4 [00:00<00:00,  4.73it/s]\u001b[A\n",
      "Action: race:  75%|███████████████████████▎       | 3/4 [00:00<00:00,  4.72it/s]\u001b[A\n",
      "Action: emotion: 100%|████████████████████████████| 4/4 [00:00<00:00,  6.14it/s]\u001b[A\n",
      "305it [05:12,  1.34it/s]"
     ]
    },
    {
     "name": "stdout",
     "output_type": "stream",
     "text": [
      "/Users/jessecoulter/Downloads/FIN377/CEOPersonalities-/matched_pictures/Stephen J. Luczo/2015\n"
     ]
    },
    {
     "name": "stderr",
     "output_type": "stream",
     "text": [
      "\n",
      "Finding actions:   0%|                                    | 0/4 [00:00<?, ?it/s]\u001b[A\n",
      "Action: age:   0%|                                        | 0/4 [00:00<?, ?it/s]\u001b[A\n",
      "Action: age:  25%|████████                        | 1/4 [00:00<00:00,  4.67it/s]\u001b[A\n",
      "Action: gender:  25%|███████▎                     | 1/4 [00:00<00:00,  4.67it/s]\u001b[A\n",
      "Action: gender:  50%|██████████████▌              | 2/4 [00:00<00:00,  4.71it/s]\u001b[A\n",
      "Action: race:  50%|███████████████▌               | 2/4 [00:00<00:00,  4.71it/s]\u001b[A\n",
      "Action: race:  75%|███████████████████████▎       | 3/4 [00:00<00:00,  4.58it/s]\u001b[A\n",
      "Action: emotion: 100%|████████████████████████████| 4/4 [00:00<00:00,  5.99it/s]\u001b[A\n",
      "306it [05:13,  1.37it/s]"
     ]
    },
    {
     "name": "stdout",
     "output_type": "stream",
     "text": [
      "/Users/jessecoulter/Downloads/FIN377/CEOPersonalities-/matched_pictures/Stephen J. Luczo/2016\n"
     ]
    },
    {
     "name": "stderr",
     "output_type": "stream",
     "text": [
      "\n",
      "Finding actions:   0%|                                    | 0/4 [00:00<?, ?it/s]\u001b[A\n",
      "Action: age:   0%|                                        | 0/4 [00:00<?, ?it/s]\u001b[A\n",
      "Action: age:  25%|████████                        | 1/4 [00:00<00:00,  4.47it/s]\u001b[A\n",
      "Action: gender:  25%|███████▎                     | 1/4 [00:00<00:00,  4.47it/s]\u001b[A\n",
      "Action: gender:  50%|██████████████▌              | 2/4 [00:00<00:00,  4.40it/s]\u001b[A\n",
      "Action: race:  50%|███████████████▌               | 2/4 [00:00<00:00,  4.40it/s]\u001b[A\n",
      "Action: race:  75%|███████████████████████▎       | 3/4 [00:00<00:00,  4.50it/s]\u001b[A\n",
      "Action: emotion: 100%|████████████████████████████| 4/4 [00:00<00:00,  5.83it/s]\u001b[A\n",
      "307it [05:13,  1.37it/s]"
     ]
    },
    {
     "name": "stdout",
     "output_type": "stream",
     "text": [
      "/Users/jessecoulter/Downloads/FIN377/CEOPersonalities-/matched_pictures/Stephen J. Luczo/2017\n"
     ]
    },
    {
     "name": "stderr",
     "output_type": "stream",
     "text": [
      "\n",
      "Finding actions:   0%|                                    | 0/4 [00:00<?, ?it/s]\u001b[A\n",
      "Action: age:   0%|                                        | 0/4 [00:00<?, ?it/s]\u001b[A\n",
      "Action: age:  25%|████████                        | 1/4 [00:00<00:00,  4.64it/s]\u001b[A\n",
      "Action: gender:  25%|███████▎                     | 1/4 [00:00<00:00,  4.64it/s]\u001b[A\n",
      "Action: gender:  50%|██████████████▌              | 2/4 [00:00<00:00,  4.71it/s]\u001b[A\n",
      "Action: race:  50%|███████████████▌               | 2/4 [00:00<00:00,  4.71it/s]\u001b[A\n",
      "Action: race:  75%|███████████████████████▎       | 3/4 [00:00<00:00,  4.61it/s]\u001b[A\n",
      "Action: emotion: 100%|████████████████████████████| 4/4 [00:00<00:00,  6.01it/s]\u001b[A\n",
      "308it [05:14,  1.29it/s]"
     ]
    },
    {
     "name": "stdout",
     "output_type": "stream",
     "text": [
      "/Users/jessecoulter/Downloads/FIN377/CEOPersonalities-/matched_pictures/David Mosley/2018\n"
     ]
    },
    {
     "name": "stderr",
     "output_type": "stream",
     "text": [
      "\n",
      "Finding actions:   0%|                                    | 0/4 [00:00<?, ?it/s]\u001b[A\n",
      "Action: age:   0%|                                        | 0/4 [00:00<?, ?it/s]\u001b[A\n",
      "Action: age:  25%|████████                        | 1/4 [00:00<00:00,  4.26it/s]\u001b[A\n",
      "Action: gender:  25%|███████▎                     | 1/4 [00:00<00:00,  4.26it/s]\u001b[A\n",
      "Action: gender:  50%|██████████████▌              | 2/4 [00:00<00:00,  4.30it/s]\u001b[A\n",
      "Action: race:  50%|███████████████▌               | 2/4 [00:00<00:00,  4.30it/s]\u001b[A\n",
      "Action: race:  75%|███████████████████████▎       | 3/4 [00:00<00:00,  4.36it/s]\u001b[A\n",
      "Action: emotion: 100%|████████████████████████████| 4/4 [00:00<00:00,  5.65it/s]\u001b[A\n",
      "309it [05:15,  1.29it/s]"
     ]
    },
    {
     "name": "stdout",
     "output_type": "stream",
     "text": [
      "/Users/jessecoulter/Downloads/FIN377/CEOPersonalities-/matched_pictures/David Mosley/2019\n"
     ]
    },
    {
     "name": "stderr",
     "output_type": "stream",
     "text": [
      "\n",
      "Finding actions:   0%|                                    | 0/4 [00:00<?, ?it/s]\u001b[A\n",
      "Action: age:   0%|                                        | 0/4 [00:00<?, ?it/s]\u001b[A\n",
      "Action: age:  25%|████████                        | 1/4 [00:00<00:00,  4.74it/s]\u001b[A\n",
      "Action: gender:  25%|███████▎                     | 1/4 [00:00<00:00,  4.74it/s]\u001b[A\n",
      "Action: gender:  50%|██████████████▌              | 2/4 [00:00<00:00,  4.72it/s]\u001b[A\n",
      "Action: race:  50%|███████████████▌               | 2/4 [00:00<00:00,  4.72it/s]\u001b[A\n",
      "Action: race:  75%|███████████████████████▎       | 3/4 [00:00<00:00,  4.75it/s]\u001b[A\n",
      "Action: emotion: 100%|████████████████████████████| 4/4 [00:00<00:00,  6.16it/s]\u001b[A\n",
      "310it [05:16,  1.18it/s]"
     ]
    },
    {
     "name": "stdout",
     "output_type": "stream",
     "text": [
      "/Users/jessecoulter/Downloads/FIN377/CEOPersonalities-/matched_pictures/Moshe Gavrielov/2010\n"
     ]
    },
    {
     "name": "stderr",
     "output_type": "stream",
     "text": [
      "\n",
      "Finding actions:   0%|                                    | 0/4 [00:00<?, ?it/s]\u001b[A\n",
      "Action: age:   0%|                                        | 0/4 [00:00<?, ?it/s]\u001b[A\n",
      "Action: age:  25%|████████                        | 1/4 [00:00<00:00,  4.68it/s]\u001b[A\n",
      "Action: gender:  25%|███████▎                     | 1/4 [00:00<00:00,  4.68it/s]\u001b[A\n",
      "Action: gender:  50%|██████████████▌              | 2/4 [00:00<00:00,  4.71it/s]\u001b[A\n",
      "Action: race:  50%|███████████████▌               | 2/4 [00:00<00:00,  4.71it/s]\u001b[A\n",
      "Action: race:  75%|███████████████████████▎       | 3/4 [00:00<00:00,  4.71it/s]\u001b[A\n",
      "Action: emotion: 100%|████████████████████████████| 4/4 [00:00<00:00,  6.12it/s]\u001b[A\n",
      "311it [05:17,  1.23it/s]"
     ]
    },
    {
     "name": "stdout",
     "output_type": "stream",
     "text": [
      "/Users/jessecoulter/Downloads/FIN377/CEOPersonalities-/matched_pictures/Moshe Gavrielov/2011\n"
     ]
    },
    {
     "name": "stderr",
     "output_type": "stream",
     "text": [
      "\n",
      "Finding actions:   0%|                                    | 0/4 [00:00<?, ?it/s]\u001b[A\n",
      "Action: age:   0%|                                        | 0/4 [00:00<?, ?it/s]\u001b[A\n",
      "Action: age:  25%|████████                        | 1/4 [00:00<00:00,  4.73it/s]\u001b[A\n",
      "Action: gender:  25%|███████▎                     | 1/4 [00:00<00:00,  4.73it/s]\u001b[A\n",
      "Action: gender:  50%|██████████████▌              | 2/4 [00:00<00:00,  4.65it/s]\u001b[A\n",
      "Action: race:  50%|███████████████▌               | 2/4 [00:00<00:00,  4.65it/s]\u001b[A\n",
      "Action: race:  75%|███████████████████████▎       | 3/4 [00:00<00:00,  4.46it/s]\u001b[A\n",
      "Action: emotion: 100%|████████████████████████████| 4/4 [00:00<00:00,  5.87it/s]\u001b[A\n",
      "\n",
      "Finding actions:   0%|                                    | 0/4 [00:00<?, ?it/s]\u001b[A\n",
      "Action: age:   0%|                                        | 0/4 [00:00<?, ?it/s]\u001b[A\n",
      "Action: age:  25%|████████                        | 1/4 [00:00<00:00,  4.04it/s]\u001b[A\n",
      "Action: gender:  25%|███████▎                     | 1/4 [00:00<00:00,  4.04it/s]\u001b[A\n",
      "Action: gender:  50%|██████████████▌              | 2/4 [00:00<00:00,  4.21it/s]\u001b[A\n",
      "Action: race:  50%|███████████████▌               | 2/4 [00:00<00:00,  4.21it/s]\u001b[A\n",
      "Action: race:  75%|███████████████████████▎       | 3/4 [00:00<00:00,  4.43it/s]\u001b[A\n",
      "Action: emotion: 100%|████████████████████████████| 4/4 [00:00<00:00,  5.66it/s]\u001b[A\n",
      "312it [05:18,  1.03s/it]"
     ]
    },
    {
     "name": "stdout",
     "output_type": "stream",
     "text": [
      "/Users/jessecoulter/Downloads/FIN377/CEOPersonalities-/matched_pictures/Moshe Gavrielov/2012\n"
     ]
    },
    {
     "name": "stderr",
     "output_type": "stream",
     "text": [
      "\n",
      "Finding actions:   0%|                                    | 0/4 [00:00<?, ?it/s]\u001b[A\n",
      "Action: age:   0%|                                        | 0/4 [00:00<?, ?it/s]\u001b[A\n",
      "Action: age:  25%|████████                        | 1/4 [00:00<00:00,  4.67it/s]\u001b[A\n",
      "Action: gender:  25%|███████▎                     | 1/4 [00:00<00:00,  4.67it/s]\u001b[A\n",
      "Action: gender:  50%|██████████████▌              | 2/4 [00:00<00:00,  4.71it/s]\u001b[A\n",
      "Action: race:  50%|███████████████▌               | 2/4 [00:00<00:00,  4.71it/s]\u001b[A\n",
      "Action: race:  75%|███████████████████████▎       | 3/4 [00:00<00:00,  4.70it/s]\u001b[A\n",
      "Action: emotion: 100%|████████████████████████████| 4/4 [00:00<00:00,  6.10it/s]\u001b[A\n",
      "\n",
      "Finding actions:   0%|                                    | 0/4 [00:00<?, ?it/s]\u001b[A\n",
      "Action: age:   0%|                                        | 0/4 [00:00<?, ?it/s]\u001b[A\n",
      "Action: age:  25%|████████                        | 1/4 [00:00<00:00,  4.20it/s]\u001b[A\n",
      "Action: gender:  25%|███████▎                     | 1/4 [00:00<00:00,  4.20it/s]\u001b[A\n",
      "Action: gender:  50%|██████████████▌              | 2/4 [00:00<00:00,  4.42it/s]\u001b[A\n",
      "Action: race:  50%|███████████████▌               | 2/4 [00:00<00:00,  4.42it/s]\u001b[A\n",
      "Action: race:  75%|███████████████████████▎       | 3/4 [00:00<00:00,  4.34it/s]\u001b[A\n",
      "Action: emotion: 100%|████████████████████████████| 4/4 [00:00<00:00,  5.64it/s]\u001b[A\n",
      "313it [05:20,  1.15s/it]"
     ]
    },
    {
     "name": "stdout",
     "output_type": "stream",
     "text": [
      "/Users/jessecoulter/Downloads/FIN377/CEOPersonalities-/matched_pictures/Moshe Gavrielov/2013\n",
      "No image found in /Users/jessecoulter/Downloads/FIN377/CEOPersonalities-/matched_pictures/Moshe Gavrielov/2013\n",
      "/Users/jessecoulter/Downloads/FIN377/CEOPersonalities-/matched_pictures/Moshe Gavrielov/2014\n"
     ]
    },
    {
     "name": "stderr",
     "output_type": "stream",
     "text": [
      "\n",
      "Finding actions:   0%|                                    | 0/4 [00:00<?, ?it/s]\u001b[A\n",
      "Action: age:   0%|                                        | 0/4 [00:00<?, ?it/s]\u001b[A\n",
      "Action: age:  25%|████████                        | 1/4 [00:00<00:00,  4.48it/s]\u001b[A\n",
      "Action: gender:  25%|███████▎                     | 1/4 [00:00<00:00,  4.48it/s]\u001b[A\n",
      "Action: gender:  50%|██████████████▌              | 2/4 [00:00<00:00,  4.57it/s]\u001b[A\n",
      "Action: race:  50%|███████████████▌               | 2/4 [00:00<00:00,  4.57it/s]\u001b[A\n",
      "Action: race:  75%|███████████████████████▎       | 3/4 [00:00<00:00,  4.66it/s]\u001b[A\n",
      "Action: emotion: 100%|████████████████████████████| 4/4 [00:00<00:00,  6.02it/s]\u001b[A\n",
      "315it [05:21,  1.27it/s]"
     ]
    },
    {
     "name": "stdout",
     "output_type": "stream",
     "text": [
      "/Users/jessecoulter/Downloads/FIN377/CEOPersonalities-/matched_pictures/Moshe Gavrielov/2015\n",
      "Error analyzing /Users/jessecoulter/Downloads/FIN377/CEOPersonalities-/matched_pictures/Moshe Gavrielov/2015/pic3.jpg: Face could not be detected in /Users/jessecoulter/Downloads/FIN377/CEOPersonalities-/matched_pictures/Moshe Gavrielov/2015/pic3.jpg.Please confirm that the picture is a face photo or consider to set enforce_detection param to False.\n",
      "/Users/jessecoulter/Downloads/FIN377/CEOPersonalities-/matched_pictures/Moshe Gavrielov/2016\n"
     ]
    },
    {
     "name": "stderr",
     "output_type": "stream",
     "text": [
      "\n",
      "Finding actions:   0%|                                    | 0/4 [00:00<?, ?it/s]\u001b[A\n",
      "Action: age:   0%|                                        | 0/4 [00:00<?, ?it/s]\u001b[A\n",
      "Action: age:  25%|████████                        | 1/4 [00:00<00:00,  4.76it/s]\u001b[A\n",
      "Action: gender:  25%|███████▎                     | 1/4 [00:00<00:00,  4.76it/s]\u001b[A\n",
      "Action: gender:  50%|██████████████▌              | 2/4 [00:00<00:00,  4.71it/s]\u001b[A\n",
      "Action: race:  50%|███████████████▌               | 2/4 [00:00<00:00,  4.71it/s]\u001b[A\n",
      "Action: race:  75%|███████████████████████▎       | 3/4 [00:00<00:00,  4.34it/s]\u001b[A\n",
      "Action: emotion: 100%|████████████████████████████| 4/4 [00:00<00:00,  5.77it/s]\u001b[A\n",
      "317it [05:21,  1.60it/s]"
     ]
    },
    {
     "name": "stdout",
     "output_type": "stream",
     "text": [
      "/Users/jessecoulter/Downloads/FIN377/CEOPersonalities-/matched_pictures/Victor Peng/2017\n",
      "Error analyzing /Users/jessecoulter/Downloads/FIN377/CEOPersonalities-/matched_pictures/Victor Peng/2017/pic1.jpg: Face could not be detected in /Users/jessecoulter/Downloads/FIN377/CEOPersonalities-/matched_pictures/Victor Peng/2017/pic1.jpg.Please confirm that the picture is a face photo or consider to set enforce_detection param to False.\n",
      "/Users/jessecoulter/Downloads/FIN377/CEOPersonalities-/matched_pictures/Victor Peng/2018\n"
     ]
    },
    {
     "name": "stderr",
     "output_type": "stream",
     "text": [
      "\n",
      "Finding actions:   0%|                                    | 0/4 [00:00<?, ?it/s]\u001b[A\n",
      "Action: age:   0%|                                        | 0/4 [00:00<?, ?it/s]\u001b[A\n",
      "Action: age:  25%|████████                        | 1/4 [00:00<00:00,  4.39it/s]\u001b[A\n",
      "Action: gender:  25%|███████▎                     | 1/4 [00:00<00:00,  4.39it/s]\u001b[A\n",
      "Action: gender:  50%|██████████████▌              | 2/4 [00:00<00:00,  4.50it/s]\u001b[A\n",
      "Action: race:  50%|███████████████▌               | 2/4 [00:00<00:00,  4.50it/s]\u001b[A\n",
      "Action: race:  75%|███████████████████████▎       | 3/4 [00:00<00:00,  4.48it/s]\u001b[A\n",
      "Action: emotion: 100%|████████████████████████████| 4/4 [00:00<00:00,  5.82it/s]\u001b[A\n",
      "322it [05:23,  2.41it/s]"
     ]
    },
    {
     "name": "stdout",
     "output_type": "stream",
     "text": [
      "/Users/jessecoulter/Downloads/FIN377/CEOPersonalities-/matched_pictures/Victor Peng/2019\n",
      "Error analyzing /Users/jessecoulter/Downloads/FIN377/CEOPersonalities-/matched_pictures/Victor Peng/2019/pic3.png: Face could not be detected in /Users/jessecoulter/Downloads/FIN377/CEOPersonalities-/matched_pictures/Victor Peng/2019/pic3.png.Please confirm that the picture is a face photo or consider to set enforce_detection param to False.\n",
      "/Users/jessecoulter/Downloads/FIN377/CEOPersonalities-/matched_pictures/Enrique Salem/2010\n",
      "Folder not found: /Users/jessecoulter/Downloads/FIN377/CEOPersonalities-/matched_pictures/Enrique Salem/2010\n",
      "/Users/jessecoulter/Downloads/FIN377/CEOPersonalities-/matched_pictures/Enrique Salem/2011\n",
      "Error analyzing /Users/jessecoulter/Downloads/FIN377/CEOPersonalities-/matched_pictures/Enrique Salem/2011/pic1.jpg: Face could not be detected in /Users/jessecoulter/Downloads/FIN377/CEOPersonalities-/matched_pictures/Enrique Salem/2011/pic1.jpg.Please confirm that the picture is a face photo or consider to set enforce_detection param to False.\n",
      "/Users/jessecoulter/Downloads/FIN377/CEOPersonalities-/matched_pictures/Steve Bennett/2012\n"
     ]
    },
    {
     "name": "stderr",
     "output_type": "stream",
     "text": [
      "\n",
      "Finding actions:   0%|                                    | 0/4 [00:00<?, ?it/s]\u001b[A\n",
      "Action: age:   0%|                                        | 0/4 [00:00<?, ?it/s]\u001b[A\n",
      "Action: age:  25%|████████                        | 1/4 [00:00<00:00,  4.26it/s]\u001b[A\n",
      "Action: gender:  25%|███████▎                     | 1/4 [00:00<00:00,  4.26it/s]\u001b[A\n",
      "Action: gender:  50%|██████████████▌              | 2/4 [00:00<00:00,  4.14it/s]\u001b[A\n",
      "Action: race:  50%|███████████████▌               | 2/4 [00:00<00:00,  4.14it/s]\u001b[A\n",
      "Action: race:  75%|███████████████████████▎       | 3/4 [00:00<00:00,  4.27it/s]\u001b[A\n",
      "Action: emotion: 100%|████████████████████████████| 4/4 [00:00<00:00,  5.53it/s]\u001b[A\n",
      "325it [05:24,  2.97it/s]"
     ]
    },
    {
     "name": "stdout",
     "output_type": "stream",
     "text": [
      "/Users/jessecoulter/Downloads/FIN377/CEOPersonalities-/matched_pictures/Steve Bennett/2013\n",
      "Error analyzing /Users/jessecoulter/Downloads/FIN377/CEOPersonalities-/matched_pictures/Steve Bennett/2013/pic1.jpg: Face could not be detected in /Users/jessecoulter/Downloads/FIN377/CEOPersonalities-/matched_pictures/Steve Bennett/2013/pic1.jpg.Please confirm that the picture is a face photo or consider to set enforce_detection param to False.\n",
      "/Users/jessecoulter/Downloads/FIN377/CEOPersonalities-/matched_pictures/Michael A. Brown/2014\n",
      "Error analyzing /Users/jessecoulter/Downloads/FIN377/CEOPersonalities-/matched_pictures/Michael A. Brown/2014/pic1.jpg: Face could not be detected in /Users/jessecoulter/Downloads/FIN377/CEOPersonalities-/matched_pictures/Michael A. Brown/2014/pic1.jpg.Please confirm that the picture is a face photo or consider to set enforce_detection param to False.\n",
      "/Users/jessecoulter/Downloads/FIN377/CEOPersonalities-/matched_pictures/Michael A. Brown/2015\n"
     ]
    },
    {
     "name": "stderr",
     "output_type": "stream",
     "text": [
      "\n",
      "Finding actions:   0%|                                    | 0/4 [00:00<?, ?it/s]\u001b[A\n",
      "Action: age:   0%|                                        | 0/4 [00:00<?, ?it/s]\u001b[A\n",
      "Action: age:  25%|████████                        | 1/4 [00:00<00:00,  4.12it/s]\u001b[A\n",
      "Action: gender:  25%|███████▎                     | 1/4 [00:00<00:00,  4.12it/s]\u001b[A\n",
      "Action: gender:  50%|██████████████▌              | 2/4 [00:00<00:00,  4.24it/s]\u001b[A\n",
      "Action: race:  50%|███████████████▌               | 2/4 [00:00<00:00,  4.24it/s]\u001b[A\n",
      "Action: race:  75%|███████████████████████▎       | 3/4 [00:00<00:00,  4.45it/s]\u001b[A\n",
      "Action: emotion: 100%|████████████████████████████| 4/4 [00:00<00:00,  5.70it/s]\u001b[A\n",
      "326it [05:25,  2.40it/s]"
     ]
    },
    {
     "name": "stdout",
     "output_type": "stream",
     "text": [
      "/Users/jessecoulter/Downloads/FIN377/CEOPersonalities-/matched_pictures/Greg Clark/2016\n"
     ]
    },
    {
     "name": "stderr",
     "output_type": "stream",
     "text": [
      "\n",
      "Finding actions:   0%|                                    | 0/4 [00:00<?, ?it/s]\u001b[A\n",
      "Action: age:   0%|                                        | 0/4 [00:00<?, ?it/s]\u001b[A\n",
      "Action: age:  25%|████████                        | 1/4 [00:00<00:00,  4.76it/s]\u001b[A\n",
      "Action: gender:  25%|███████▎                     | 1/4 [00:00<00:00,  4.76it/s]\u001b[A\n",
      "Action: gender:  50%|██████████████▌              | 2/4 [00:00<00:00,  4.63it/s]\u001b[A\n",
      "Action: race:  50%|███████████████▌               | 2/4 [00:00<00:00,  4.63it/s]\u001b[A\n",
      "Action: race:  75%|███████████████████████▎       | 3/4 [00:00<00:00,  4.65it/s]\u001b[A\n",
      "Action: emotion: 100%|████████████████████████████| 4/4 [00:00<00:00,  6.06it/s]\u001b[A\n",
      "327it [05:25,  2.06it/s]"
     ]
    },
    {
     "name": "stdout",
     "output_type": "stream",
     "text": [
      "/Users/jessecoulter/Downloads/FIN377/CEOPersonalities-/matched_pictures/Greg Clark/2017\n"
     ]
    },
    {
     "name": "stderr",
     "output_type": "stream",
     "text": [
      "\n",
      "Finding actions:   0%|                                    | 0/4 [00:00<?, ?it/s]\u001b[A\n",
      "Action: age:   0%|                                        | 0/4 [00:00<?, ?it/s]\u001b[A\n",
      "Action: age:  25%|████████                        | 1/4 [00:00<00:00,  4.71it/s]\u001b[A\n",
      "Action: gender:  25%|███████▎                     | 1/4 [00:00<00:00,  4.71it/s]\u001b[A\n",
      "Action: gender:  50%|██████████████▌              | 2/4 [00:00<00:00,  4.70it/s]\u001b[A\n",
      "Action: race:  50%|███████████████▌               | 2/4 [00:00<00:00,  4.70it/s]\u001b[A\n",
      "Action: race:  75%|███████████████████████▎       | 3/4 [00:00<00:00,  4.73it/s]\u001b[A\n",
      "Action: emotion: 100%|████████████████████████████| 4/4 [00:00<00:00,  6.14it/s]\u001b[A\n",
      "328it [05:29,  1.10s/it]"
     ]
    },
    {
     "name": "stdout",
     "output_type": "stream",
     "text": [
      "/Users/jessecoulter/Downloads/FIN377/CEOPersonalities-/matched_pictures/Greg Clark/2018\n"
     ]
    },
    {
     "name": "stderr",
     "output_type": "stream",
     "text": [
      "\n",
      "Finding actions:   0%|                                    | 0/4 [00:00<?, ?it/s]\u001b[A\n",
      "Action: age:   0%|                                        | 0/4 [00:00<?, ?it/s]\u001b[A\n",
      "Action: age:  25%|████████                        | 1/4 [00:00<00:00,  4.74it/s]\u001b[A\n",
      "Action: gender:  25%|███████▎                     | 1/4 [00:00<00:00,  4.74it/s]\u001b[A\n",
      "Action: gender:  50%|██████████████▌              | 2/4 [00:00<00:00,  4.62it/s]\u001b[A\n",
      "Action: race:  50%|███████████████▌               | 2/4 [00:00<00:00,  4.62it/s]\u001b[A\n",
      "Action: race:  75%|███████████████████████▎       | 3/4 [00:00<00:00,  4.65it/s]\u001b[A\n",
      "Action: emotion: 100%|████████████████████████████| 4/4 [00:00<00:00,  6.06it/s]\u001b[A\n",
      "329it [05:30,  1.08s/it]"
     ]
    },
    {
     "name": "stdout",
     "output_type": "stream",
     "text": [
      "/Users/jessecoulter/Downloads/FIN377/CEOPersonalities-/matched_pictures/Richard Hill (interim)/2019\n"
     ]
    },
    {
     "name": "stderr",
     "output_type": "stream",
     "text": [
      "\n",
      "Finding actions:   0%|                                    | 0/4 [00:00<?, ?it/s]\u001b[A\n",
      "Action: age:   0%|                                        | 0/4 [00:00<?, ?it/s]\u001b[A\n",
      "Action: age:  25%|████████                        | 1/4 [00:00<00:00,  4.73it/s]\u001b[A\n",
      "Action: gender:  25%|███████▎                     | 1/4 [00:00<00:00,  4.73it/s]\u001b[A\n",
      "Action: gender:  50%|██████████████▌              | 2/4 [00:00<00:00,  4.76it/s]\u001b[A\n",
      "Action: race:  50%|███████████████▌               | 2/4 [00:00<00:00,  4.76it/s]\u001b[A\n",
      "Action: race:  75%|███████████████████████▎       | 3/4 [00:00<00:00,  4.74it/s]\u001b[A\n",
      "Action: emotion: 100%|████████████████████████████| 4/4 [00:00<00:00,  6.17it/s]\u001b[A\n",
      "330it [05:30,  1.00s/it]"
     ]
    },
    {
     "name": "stdout",
     "output_type": "stream",
     "text": [
      "/Users/jessecoulter/Downloads/FIN377/CEOPersonalities-/matched_pictures/Paul Sagan/2010\n"
     ]
    },
    {
     "name": "stderr",
     "output_type": "stream",
     "text": [
      "\n",
      "Finding actions:   0%|                                    | 0/4 [00:00<?, ?it/s]\u001b[A\n",
      "Action: age:   0%|                                        | 0/4 [00:00<?, ?it/s]\u001b[A\n",
      "Action: age:  25%|████████                        | 1/4 [00:00<00:00,  4.73it/s]\u001b[A\n",
      "Action: gender:  25%|███████▎                     | 1/4 [00:00<00:00,  4.73it/s]\u001b[A\n",
      "Action: gender:  50%|██████████████▌              | 2/4 [00:00<00:00,  4.77it/s]\u001b[A\n",
      "Action: race:  50%|███████████████▌               | 2/4 [00:00<00:00,  4.77it/s]\u001b[A\n",
      "Action: race:  75%|███████████████████████▎       | 3/4 [00:00<00:00,  4.76it/s]\u001b[A\n",
      "Action: emotion: 100%|████████████████████████████| 4/4 [00:00<00:00,  6.18it/s]\u001b[A\n",
      "\n",
      "Finding actions:   0%|                                    | 0/4 [00:00<?, ?it/s]\u001b[A\n",
      "Action: age:   0%|                                        | 0/4 [00:00<?, ?it/s]\u001b[A\n",
      "Action: age:  25%|████████                        | 1/4 [00:00<00:00,  4.42it/s]\u001b[A\n",
      "Action: gender:  25%|███████▎                     | 1/4 [00:00<00:00,  4.42it/s]\u001b[A\n",
      "Action: gender:  50%|██████████████▌              | 2/4 [00:00<00:00,  4.45it/s]\u001b[A\n",
      "Action: race:  50%|███████████████▌               | 2/4 [00:00<00:00,  4.45it/s]\u001b[A\n",
      "Action: race:  75%|███████████████████████▎       | 3/4 [00:00<00:00,  4.53it/s]\u001b[A\n",
      "Action: emotion: 100%|████████████████████████████| 4/4 [00:00<00:00,  5.87it/s]\u001b[A\n",
      "\n",
      "Finding actions:   0%|                                    | 0/4 [00:00<?, ?it/s]\u001b[A\n",
      "Action: age:   0%|                                        | 0/4 [00:00<?, ?it/s]\u001b[A\n",
      "Action: age:  25%|████████                        | 1/4 [00:00<00:00,  4.45it/s]\u001b[A\n",
      "Action: gender:  25%|███████▎                     | 1/4 [00:00<00:00,  4.45it/s]\u001b[A\n",
      "Action: gender:  50%|██████████████▌              | 2/4 [00:00<00:00,  4.59it/s]\u001b[A\n",
      "Action: race:  50%|███████████████▌               | 2/4 [00:00<00:00,  4.59it/s]\u001b[A\n",
      "Action: race:  75%|███████████████████████▎       | 3/4 [00:00<00:00,  4.61it/s]\u001b[A\n",
      "Action: emotion: 100%|████████████████████████████| 4/4 [00:00<00:00,  5.97it/s]\u001b[A\n",
      "\n",
      "Finding actions:   0%|                                    | 0/4 [00:00<?, ?it/s]\u001b[A\n",
      "Action: age:   0%|                                        | 0/4 [00:00<?, ?it/s]\u001b[A\n",
      "Action: age:  25%|████████                        | 1/4 [00:00<00:00,  4.41it/s]\u001b[A\n",
      "Action: gender:  25%|███████▎                     | 1/4 [00:00<00:00,  4.41it/s]\u001b[A\n",
      "Action: gender:  50%|██████████████▌              | 2/4 [00:00<00:00,  4.55it/s]\u001b[A\n",
      "Action: race:  50%|███████████████▌               | 2/4 [00:00<00:00,  4.55it/s]\u001b[A\n",
      "Action: race:  75%|███████████████████████▎       | 3/4 [00:00<00:00,  4.59it/s]\u001b[A\n",
      "Action: emotion: 100%|████████████████████████████| 4/4 [00:00<00:00,  5.94it/s]\u001b[A\n",
      "\n",
      "Finding actions:   0%|                                    | 0/4 [00:00<?, ?it/s]\u001b[A\n",
      "Action: age:   0%|                                        | 0/4 [00:00<?, ?it/s]\u001b[A\n",
      "Action: age:  25%|████████                        | 1/4 [00:00<00:00,  4.35it/s]\u001b[A\n",
      "Action: gender:  25%|███████▎                     | 1/4 [00:00<00:00,  4.35it/s]\u001b[A\n",
      "Action: gender:  50%|██████████████▌              | 2/4 [00:00<00:00,  4.51it/s]\u001b[A\n",
      "Action: race:  50%|███████████████▌               | 2/4 [00:00<00:00,  4.51it/s]\u001b[A\n",
      "Action: race:  75%|███████████████████████▎       | 3/4 [00:00<00:00,  4.47it/s]\u001b[A\n",
      "Action: emotion: 100%|████████████████████████████| 4/4 [00:00<00:00,  5.80it/s]\u001b[A\n",
      "331it [05:34,  1.69s/it]"
     ]
    },
    {
     "name": "stdout",
     "output_type": "stream",
     "text": [
      "/Users/jessecoulter/Downloads/FIN377/CEOPersonalities-/matched_pictures/Paul Sagan/2011\n",
      "Error analyzing /Users/jessecoulter/Downloads/FIN377/CEOPersonalities-/matched_pictures/Paul Sagan/2011/pic1.jpg: Face could not be detected in /Users/jessecoulter/Downloads/FIN377/CEOPersonalities-/matched_pictures/Paul Sagan/2011/pic1.jpg.Please confirm that the picture is a face photo or consider to set enforce_detection param to False.\n",
      "/Users/jessecoulter/Downloads/FIN377/CEOPersonalities-/matched_pictures/Paul Sagan/2012\n"
     ]
    },
    {
     "name": "stderr",
     "output_type": "stream",
     "text": [
      "\n",
      "Finding actions:   0%|                                    | 0/4 [00:00<?, ?it/s]\u001b[A\n",
      "Action: age:   0%|                                        | 0/4 [00:00<?, ?it/s]\u001b[A\n",
      "Action: age:  25%|████████                        | 1/4 [00:00<00:00,  5.01it/s]\u001b[A\n",
      "Action: gender:  25%|███████▎                     | 1/4 [00:00<00:00,  5.01it/s]\u001b[A\n",
      "Action: gender:  50%|██████████████▌              | 2/4 [00:00<00:00,  4.82it/s]\u001b[A\n",
      "Action: race:  50%|███████████████▌               | 2/4 [00:00<00:00,  4.82it/s]\u001b[A\n",
      "Action: race:  75%|███████████████████████▎       | 3/4 [00:00<00:00,  4.78it/s]\u001b[A\n",
      "Action: emotion: 100%|████████████████████████████| 4/4 [00:00<00:00,  6.25it/s]\u001b[A\n",
      "333it [05:35,  1.24s/it]"
     ]
    },
    {
     "name": "stdout",
     "output_type": "stream",
     "text": [
      "/Users/jessecoulter/Downloads/FIN377/CEOPersonalities-/matched_pictures/Tom Leighton/2013\n"
     ]
    },
    {
     "name": "stderr",
     "output_type": "stream",
     "text": [
      "\n",
      "Finding actions:   0%|                                    | 0/4 [00:00<?, ?it/s]\u001b[A\n",
      "Action: age:   0%|                                        | 0/4 [00:00<?, ?it/s]\u001b[A\n",
      "Action: age:  25%|████████                        | 1/4 [00:00<00:00,  4.26it/s]\u001b[A\n",
      "Action: gender:  25%|███████▎                     | 1/4 [00:00<00:00,  4.26it/s]\u001b[A\n",
      "Action: gender:  50%|██████████████▌              | 2/4 [00:00<00:00,  4.53it/s]\u001b[A\n",
      "Action: race:  50%|███████████████▌               | 2/4 [00:00<00:00,  4.53it/s]\u001b[A\n",
      "Action: race:  75%|███████████████████████▎       | 3/4 [00:00<00:00,  4.64it/s]\u001b[A\n",
      "Action: emotion: 100%|████████████████████████████| 4/4 [00:00<00:00,  5.96it/s]\u001b[A\n",
      "334it [05:36,  1.11s/it]"
     ]
    },
    {
     "name": "stdout",
     "output_type": "stream",
     "text": [
      "/Users/jessecoulter/Downloads/FIN377/CEOPersonalities-/matched_pictures/Tom Leighton/2014\n"
     ]
    },
    {
     "name": "stderr",
     "output_type": "stream",
     "text": [
      "\n",
      "Finding actions:   0%|                                    | 0/4 [00:00<?, ?it/s]\u001b[A\n",
      "Action: age:   0%|                                        | 0/4 [00:00<?, ?it/s]\u001b[A\n",
      "Action: age:  25%|████████                        | 1/4 [00:00<00:00,  4.93it/s]\u001b[A\n",
      "Action: gender:  25%|███████▎                     | 1/4 [00:00<00:00,  4.93it/s]\u001b[A\n",
      "Action: gender:  50%|██████████████▌              | 2/4 [00:00<00:00,  4.82it/s]\u001b[A\n",
      "Action: race:  50%|███████████████▌               | 2/4 [00:00<00:00,  4.82it/s]\u001b[A\n",
      "Action: race:  75%|███████████████████████▎       | 3/4 [00:00<00:00,  4.79it/s]\u001b[A\n",
      "Action: emotion: 100%|████████████████████████████| 4/4 [00:00<00:00,  6.25it/s]\u001b[A\n",
      "335it [05:37,  1.14s/it]"
     ]
    },
    {
     "name": "stdout",
     "output_type": "stream",
     "text": [
      "/Users/jessecoulter/Downloads/FIN377/CEOPersonalities-/matched_pictures/Tom Leighton/2015\n"
     ]
    },
    {
     "name": "stderr",
     "output_type": "stream",
     "text": [
      "\n",
      "Finding actions:   0%|                                    | 0/4 [00:00<?, ?it/s]\u001b[A\n",
      "Action: age:   0%|                                        | 0/4 [00:00<?, ?it/s]\u001b[A\n",
      "Action: age:  25%|████████                        | 1/4 [00:00<00:00,  4.63it/s]\u001b[A\n",
      "Action: gender:  25%|███████▎                     | 1/4 [00:00<00:00,  4.63it/s]\u001b[A\n",
      "Action: gender:  50%|██████████████▌              | 2/4 [00:00<00:00,  4.68it/s]\u001b[A\n",
      "Action: race:  50%|███████████████▌               | 2/4 [00:00<00:00,  4.68it/s]\u001b[A\n",
      "Action: race:  75%|███████████████████████▎       | 3/4 [00:00<00:00,  4.73it/s]\u001b[A\n",
      "Action: emotion: 100%|████████████████████████████| 4/4 [00:00<00:00,  6.13it/s]\u001b[A\n",
      "336it [05:38,  1.02s/it]"
     ]
    },
    {
     "name": "stdout",
     "output_type": "stream",
     "text": [
      "/Users/jessecoulter/Downloads/FIN377/CEOPersonalities-/matched_pictures/Tom Leighton/2016\n"
     ]
    },
    {
     "name": "stderr",
     "output_type": "stream",
     "text": [
      "\n",
      "Finding actions:   0%|                                    | 0/4 [00:00<?, ?it/s]\u001b[A\n",
      "Action: age:   0%|                                        | 0/4 [00:00<?, ?it/s]\u001b[A\n",
      "Action: age:  25%|████████                        | 1/4 [00:00<00:00,  4.91it/s]\u001b[A\n",
      "Action: gender:  25%|███████▎                     | 1/4 [00:00<00:00,  4.91it/s]\u001b[A\n",
      "Action: gender:  50%|██████████████▌              | 2/4 [00:00<00:00,  4.80it/s]\u001b[A\n",
      "Action: race:  50%|███████████████▌               | 2/4 [00:00<00:00,  4.80it/s]\u001b[A\n",
      "Action: race:  75%|███████████████████████▎       | 3/4 [00:00<00:00,  4.77it/s]\u001b[A\n",
      "Action: emotion: 100%|████████████████████████████| 4/4 [00:00<00:00,  6.22it/s]\u001b[A\n",
      "337it [05:39,  1.17s/it]"
     ]
    },
    {
     "name": "stdout",
     "output_type": "stream",
     "text": [
      "/Users/jessecoulter/Downloads/FIN377/CEOPersonalities-/matched_pictures/Tom Leighton/2017\n"
     ]
    },
    {
     "name": "stderr",
     "output_type": "stream",
     "text": [
      "\n",
      "Finding actions:   0%|                                    | 0/4 [00:00<?, ?it/s]\u001b[A\n",
      "Action: age:   0%|                                        | 0/4 [00:00<?, ?it/s]\u001b[A\n",
      "Action: age:  25%|████████                        | 1/4 [00:00<00:00,  4.31it/s]\u001b[A\n",
      "Action: gender:  25%|███████▎                     | 1/4 [00:00<00:00,  4.31it/s]\u001b[A\n",
      "Action: gender:  50%|██████████████▌              | 2/4 [00:00<00:00,  4.15it/s]\u001b[A\n",
      "Action: race:  50%|███████████████▌               | 2/4 [00:00<00:00,  4.15it/s]\u001b[A\n",
      "Action: race:  75%|███████████████████████▎       | 3/4 [00:00<00:00,  4.26it/s]\u001b[A\n",
      "Action: emotion: 100%|████████████████████████████| 4/4 [00:00<00:00,  5.52it/s]\u001b[A\n",
      "338it [05:42,  1.45s/it]"
     ]
    },
    {
     "name": "stdout",
     "output_type": "stream",
     "text": [
      "/Users/jessecoulter/Downloads/FIN377/CEOPersonalities-/matched_pictures/Tom Leighton/2018\n"
     ]
    },
    {
     "name": "stderr",
     "output_type": "stream",
     "text": [
      "\n",
      "Finding actions:   0%|                                    | 0/4 [00:00<?, ?it/s]\u001b[A\n",
      "Action: age:   0%|                                        | 0/4 [00:00<?, ?it/s]\u001b[A\n",
      "Action: age:  25%|████████                        | 1/4 [00:00<00:00,  4.37it/s]\u001b[A\n",
      "Action: gender:  25%|███████▎                     | 1/4 [00:00<00:00,  4.37it/s]\u001b[A\n",
      "Action: gender:  50%|██████████████▌              | 2/4 [00:00<00:00,  4.56it/s]\u001b[A\n",
      "Action: race:  50%|███████████████▌               | 2/4 [00:00<00:00,  4.56it/s]\u001b[A\n",
      "Action: race:  75%|███████████████████████▎       | 3/4 [00:00<00:00,  4.64it/s]\u001b[A\n",
      "Action: emotion: 100%|████████████████████████████| 4/4 [00:00<00:00,  5.98it/s]\u001b[A\n",
      "\n",
      "Finding actions:   0%|                                    | 0/4 [00:00<?, ?it/s]\u001b[A\n",
      "Action: age:   0%|                                        | 0/4 [00:00<?, ?it/s]\u001b[A\n",
      "Action: age:  25%|████████                        | 1/4 [00:00<00:00,  4.51it/s]\u001b[A\n",
      "Action: gender:  25%|███████▎                     | 1/4 [00:00<00:00,  4.51it/s]\u001b[A\n",
      "Action: gender:  50%|██████████████▌              | 2/4 [00:00<00:00,  4.56it/s]\u001b[A\n",
      "Action: race:  50%|███████████████▌               | 2/4 [00:00<00:00,  4.56it/s]\u001b[A\n",
      "Action: race:  75%|███████████████████████▎       | 3/4 [00:00<00:00,  4.31it/s]\u001b[A\n",
      "Action: emotion: 100%|████████████████████████████| 4/4 [00:00<00:00,  5.68it/s]\u001b[A\n",
      "339it [05:44,  1.64s/it]"
     ]
    },
    {
     "name": "stdout",
     "output_type": "stream",
     "text": [
      "/Users/jessecoulter/Downloads/FIN377/CEOPersonalities-/matched_pictures/Tom Leighton/2019\n"
     ]
    },
    {
     "name": "stderr",
     "output_type": "stream",
     "text": [
      "\n",
      "Finding actions:   0%|                                    | 0/4 [00:00<?, ?it/s]\u001b[A\n",
      "Action: age:   0%|                                        | 0/4 [00:00<?, ?it/s]\u001b[A\n",
      "Action: age:  25%|████████                        | 1/4 [00:00<00:00,  4.75it/s]\u001b[A\n",
      "Action: gender:  25%|███████▎                     | 1/4 [00:00<00:00,  4.75it/s]\u001b[A\n",
      "Action: gender:  50%|██████████████▌              | 2/4 [00:00<00:00,  4.72it/s]\u001b[A\n",
      "Action: race:  50%|███████████████▌               | 2/4 [00:00<00:00,  4.72it/s]\u001b[A\n",
      "Action: race:  75%|███████████████████████▎       | 3/4 [00:00<00:00,  4.55it/s]\u001b[A\n",
      "Action: emotion: 100%|████████████████████████████| 4/4 [00:00<00:00,  5.97it/s]\u001b[A\n",
      "340it [05:45,  1.69s/it]"
     ]
    },
    {
     "name": "stdout",
     "output_type": "stream",
     "text": [
      "/Users/jessecoulter/Downloads/FIN377/CEOPersonalities-/matched_pictures/Jim Bidzos/2010\n"
     ]
    },
    {
     "name": "stderr",
     "output_type": "stream",
     "text": [
      "\n",
      "Finding actions:   0%|                                    | 0/4 [00:00<?, ?it/s]\u001b[A\n",
      "Action: age:   0%|                                        | 0/4 [00:00<?, ?it/s]\u001b[A\n",
      "Action: age:  25%|████████                        | 1/4 [00:00<00:00,  4.45it/s]\u001b[A\n",
      "Action: gender:  25%|███████▎                     | 1/4 [00:00<00:00,  4.45it/s]\u001b[A\n",
      "Action: gender:  50%|██████████████▌              | 2/4 [00:00<00:00,  4.24it/s]\u001b[A\n",
      "Action: race:  50%|███████████████▌               | 2/4 [00:00<00:00,  4.24it/s]\u001b[A\n",
      "Action: race:  75%|███████████████████████▎       | 3/4 [00:00<00:00,  4.05it/s]\u001b[A\n",
      "Action: emotion: 100%|████████████████████████████| 4/4 [00:00<00:00,  5.36it/s]\u001b[A\n",
      "341it [05:46,  1.43s/it]"
     ]
    },
    {
     "name": "stdout",
     "output_type": "stream",
     "text": [
      "/Users/jessecoulter/Downloads/FIN377/CEOPersonalities-/matched_pictures/Jim Bidzos/2011\n"
     ]
    },
    {
     "name": "stderr",
     "output_type": "stream",
     "text": [
      "\n",
      "Finding actions:   0%|                                    | 0/4 [00:00<?, ?it/s]\u001b[A\n",
      "Action: age:   0%|                                        | 0/4 [00:00<?, ?it/s]\u001b[A\n",
      "Action: age:  25%|████████                        | 1/4 [00:00<00:00,  4.23it/s]\u001b[A\n",
      "Action: gender:  25%|███████▎                     | 1/4 [00:00<00:00,  4.23it/s]\u001b[A\n",
      "Action: gender:  50%|██████████████▌              | 2/4 [00:00<00:00,  4.33it/s]\u001b[A\n",
      "Action: race:  50%|███████████████▌               | 2/4 [00:00<00:00,  4.33it/s]\u001b[A\n",
      "Action: race:  75%|███████████████████████▎       | 3/4 [00:00<00:00,  4.41it/s]\u001b[A\n",
      "Action: emotion: 100%|████████████████████████████| 4/4 [00:00<00:00,  5.69it/s]\u001b[A\n",
      "342it [05:47,  1.23s/it]"
     ]
    },
    {
     "name": "stdout",
     "output_type": "stream",
     "text": [
      "/Users/jessecoulter/Downloads/FIN377/CEOPersonalities-/matched_pictures/Jim Bidzos/2012\n"
     ]
    },
    {
     "name": "stderr",
     "output_type": "stream",
     "text": [
      "\n",
      "Finding actions:   0%|                                    | 0/4 [00:00<?, ?it/s]\u001b[A\n",
      "Action: age:   0%|                                        | 0/4 [00:00<?, ?it/s]\u001b[A\n",
      "Action: age:  25%|████████                        | 1/4 [00:00<00:00,  4.54it/s]\u001b[A\n",
      "Action: gender:  25%|███████▎                     | 1/4 [00:00<00:00,  4.54it/s]\u001b[A\n",
      "Action: gender:  50%|██████████████▌              | 2/4 [00:00<00:00,  4.52it/s]\u001b[A\n",
      "Action: race:  50%|███████████████▌               | 2/4 [00:00<00:00,  4.52it/s]\u001b[A\n",
      "Action: race:  75%|███████████████████████▎       | 3/4 [00:00<00:00,  4.44it/s]\u001b[A\n",
      "Action: emotion: 100%|████████████████████████████| 4/4 [00:00<00:00,  5.82it/s]\u001b[A\n",
      "343it [05:48,  1.08s/it]"
     ]
    },
    {
     "name": "stdout",
     "output_type": "stream",
     "text": [
      "/Users/jessecoulter/Downloads/FIN377/CEOPersonalities-/matched_pictures/Jim Bidzos/2013\n"
     ]
    },
    {
     "name": "stderr",
     "output_type": "stream",
     "text": [
      "\n",
      "Finding actions:   0%|                                    | 0/4 [00:00<?, ?it/s]\u001b[A\n",
      "Action: age:   0%|                                        | 0/4 [00:00<?, ?it/s]\u001b[A\n",
      "Action: age:  25%|████████                        | 1/4 [00:00<00:00,  4.23it/s]\u001b[A\n",
      "Action: gender:  25%|███████▎                     | 1/4 [00:00<00:00,  4.23it/s]\u001b[A\n",
      "Action: gender:  50%|██████████████▌              | 2/4 [00:00<00:00,  4.21it/s]\u001b[A\n",
      "Action: race:  50%|███████████████▌               | 2/4 [00:00<00:00,  4.21it/s]\u001b[A\n",
      "Action: race:  75%|███████████████████████▎       | 3/4 [00:00<00:00,  4.22it/s]\u001b[A\n",
      "Action: emotion: 100%|████████████████████████████| 4/4 [00:00<00:00,  5.50it/s]\u001b[A\n",
      "344it [05:49,  1.01it/s]"
     ]
    },
    {
     "name": "stdout",
     "output_type": "stream",
     "text": [
      "/Users/jessecoulter/Downloads/FIN377/CEOPersonalities-/matched_pictures/Jim Bidzos/2014\n"
     ]
    },
    {
     "name": "stderr",
     "output_type": "stream",
     "text": [
      "\n",
      "Finding actions:   0%|                                    | 0/4 [00:00<?, ?it/s]\u001b[A\n",
      "Action: age:   0%|                                        | 0/4 [00:00<?, ?it/s]\u001b[A\n",
      "Action: age:  25%|████████                        | 1/4 [00:00<00:00,  4.24it/s]\u001b[A\n",
      "Action: gender:  25%|███████▎                     | 1/4 [00:00<00:00,  4.24it/s]\u001b[A\n",
      "Action: gender:  50%|██████████████▌              | 2/4 [00:00<00:00,  4.27it/s]\u001b[A\n",
      "Action: race:  50%|███████████████▌               | 2/4 [00:00<00:00,  4.27it/s]\u001b[A\n",
      "Action: race:  75%|███████████████████████▎       | 3/4 [00:00<00:00,  4.24it/s]\u001b[A\n",
      "Action: emotion: 100%|████████████████████████████| 4/4 [00:00<00:00,  5.52it/s]\u001b[A\n",
      "345it [05:49,  1.08it/s]"
     ]
    },
    {
     "name": "stdout",
     "output_type": "stream",
     "text": [
      "/Users/jessecoulter/Downloads/FIN377/CEOPersonalities-/matched_pictures/Jim Bidzos/2015\n"
     ]
    },
    {
     "name": "stderr",
     "output_type": "stream",
     "text": [
      "\n",
      "Finding actions:   0%|                                    | 0/4 [00:00<?, ?it/s]\u001b[A\n",
      "Action: age:   0%|                                        | 0/4 [00:00<?, ?it/s]\u001b[A\n",
      "Action: age:  25%|████████                        | 1/4 [00:00<00:00,  4.12it/s]\u001b[A\n",
      "Action: gender:  25%|███████▎                     | 1/4 [00:00<00:00,  4.12it/s]\u001b[A\n",
      "Action: gender:  50%|██████████████▌              | 2/4 [00:00<00:00,  4.13it/s]\u001b[A\n",
      "Action: race:  50%|███████████████▌               | 2/4 [00:00<00:00,  4.13it/s]\u001b[A\n",
      "Action: race:  75%|███████████████████████▎       | 3/4 [00:00<00:00,  4.37it/s]\u001b[A\n",
      "Action: emotion: 100%|████████████████████████████| 4/4 [00:00<00:00,  5.60it/s]\u001b[A\n",
      "346it [05:50,  1.14it/s]"
     ]
    },
    {
     "name": "stdout",
     "output_type": "stream",
     "text": [
      "/Users/jessecoulter/Downloads/FIN377/CEOPersonalities-/matched_pictures/Jim Bidzos/2016\n"
     ]
    },
    {
     "name": "stderr",
     "output_type": "stream",
     "text": [
      "\n",
      "Finding actions:   0%|                                    | 0/4 [00:00<?, ?it/s]\u001b[A\n",
      "Action: age:   0%|                                        | 0/4 [00:00<?, ?it/s]\u001b[A\n",
      "Action: age:  25%|████████                        | 1/4 [00:00<00:00,  4.48it/s]\u001b[A\n",
      "Action: gender:  25%|███████▎                     | 1/4 [00:00<00:00,  4.48it/s]\u001b[A\n",
      "Action: gender:  50%|██████████████▌              | 2/4 [00:00<00:00,  4.37it/s]\u001b[A\n",
      "Action: race:  50%|███████████████▌               | 2/4 [00:00<00:00,  4.37it/s]\u001b[A\n",
      "Action: race:  75%|███████████████████████▎       | 3/4 [00:00<00:00,  4.52it/s]\u001b[A\n",
      "Action: emotion: 100%|████████████████████████████| 4/4 [00:00<00:00,  5.84it/s]\u001b[A\n",
      "347it [05:51,  1.20it/s]"
     ]
    },
    {
     "name": "stdout",
     "output_type": "stream",
     "text": [
      "/Users/jessecoulter/Downloads/FIN377/CEOPersonalities-/matched_pictures/Jim Bidzos/2017\n"
     ]
    },
    {
     "name": "stderr",
     "output_type": "stream",
     "text": [
      "\n",
      "Finding actions:   0%|                                    | 0/4 [00:00<?, ?it/s]\u001b[A\n",
      "Action: age:   0%|                                        | 0/4 [00:00<?, ?it/s]\u001b[A\n",
      "Action: age:  25%|████████                        | 1/4 [00:00<00:00,  4.26it/s]\u001b[A\n",
      "Action: gender:  25%|███████▎                     | 1/4 [00:00<00:00,  4.26it/s]\u001b[A\n",
      "Action: gender:  50%|██████████████▌              | 2/4 [00:00<00:00,  4.47it/s]\u001b[A\n",
      "Action: race:  50%|███████████████▌               | 2/4 [00:00<00:00,  4.47it/s]\u001b[A\n",
      "Action: race:  75%|███████████████████████▎       | 3/4 [00:00<00:00,  4.30it/s]\u001b[A\n",
      "Action: emotion: 100%|████████████████████████████| 4/4 [00:00<00:00,  5.63it/s]\u001b[A\n",
      "348it [05:52,  1.23it/s]"
     ]
    },
    {
     "name": "stdout",
     "output_type": "stream",
     "text": [
      "/Users/jessecoulter/Downloads/FIN377/CEOPersonalities-/matched_pictures/Jim Bidzos/2018\n"
     ]
    },
    {
     "name": "stderr",
     "output_type": "stream",
     "text": [
      "\n",
      "Finding actions:   0%|                                    | 0/4 [00:00<?, ?it/s]\u001b[A\n",
      "Action: age:   0%|                                        | 0/4 [00:00<?, ?it/s]\u001b[A\n",
      "Action: age:  25%|████████                        | 1/4 [00:00<00:00,  4.55it/s]\u001b[A\n",
      "Action: gender:  25%|███████▎                     | 1/4 [00:00<00:00,  4.55it/s]\u001b[A\n",
      "Action: gender:  50%|██████████████▌              | 2/4 [00:00<00:00,  4.46it/s]\u001b[A\n",
      "Action: race:  50%|███████████████▌               | 2/4 [00:00<00:00,  4.46it/s]\u001b[A\n",
      "Action: race:  75%|███████████████████████▎       | 3/4 [00:00<00:00,  4.38it/s]\u001b[A\n",
      "Action: emotion: 100%|████████████████████████████| 4/4 [00:00<00:00,  5.75it/s]\u001b[A\n",
      "349it [05:52,  1.22it/s]"
     ]
    },
    {
     "name": "stdout",
     "output_type": "stream",
     "text": [
      "/Users/jessecoulter/Downloads/FIN377/CEOPersonalities-/matched_pictures/Jim Bidzos/2019\n"
     ]
    },
    {
     "name": "stderr",
     "output_type": "stream",
     "text": [
      "\n",
      "Finding actions:   0%|                                    | 0/4 [00:00<?, ?it/s]\u001b[A\n",
      "Action: age:   0%|                                        | 0/4 [00:00<?, ?it/s]\u001b[A\n",
      "Action: age:  25%|████████                        | 1/4 [00:00<00:00,  4.52it/s]\u001b[A\n",
      "Action: gender:  25%|███████▎                     | 1/4 [00:00<00:00,  4.52it/s]\u001b[A\n",
      "Action: gender:  50%|██████████████▌              | 2/4 [00:00<00:00,  4.22it/s]\u001b[A\n",
      "Action: race:  50%|███████████████▌               | 2/4 [00:00<00:00,  4.22it/s]\u001b[A\n",
      "Action: race:  75%|███████████████████████▎       | 3/4 [00:00<00:00,  4.36it/s]\u001b[A\n",
      "Action: emotion: 100%|████████████████████████████| 4/4 [00:00<00:00,  5.67it/s]\u001b[A\n",
      "350it [05:53,  1.24it/s]"
     ]
    },
    {
     "name": "stdout",
     "output_type": "stream",
     "text": [
      "/Users/jessecoulter/Downloads/FIN377/CEOPersonalities-/matched_pictures/N/A (part of Agilent)/2010\n",
      "Folder not found: /Users/jessecoulter/Downloads/FIN377/CEOPersonalities-/matched_pictures/N/A (part of Agilent)/2010\n",
      "/Users/jessecoulter/Downloads/FIN377/CEOPersonalities-/matched_pictures/N/A (part of Agilent)/2011\n",
      "Folder not found: /Users/jessecoulter/Downloads/FIN377/CEOPersonalities-/matched_pictures/N/A (part of Agilent)/2011\n",
      "/Users/jessecoulter/Downloads/FIN377/CEOPersonalities-/matched_pictures/N/A (part of Agilent)/2012\n",
      "Folder not found: /Users/jessecoulter/Downloads/FIN377/CEOPersonalities-/matched_pictures/N/A (part of Agilent)/2012\n",
      "/Users/jessecoulter/Downloads/FIN377/CEOPersonalities-/matched_pictures/N/A (part of Agilent)/2013\n",
      "Folder not found: /Users/jessecoulter/Downloads/FIN377/CEOPersonalities-/matched_pictures/N/A (part of Agilent)/2013\n",
      "/Users/jessecoulter/Downloads/FIN377/CEOPersonalities-/matched_pictures/Ron Nersesian/2014\n"
     ]
    },
    {
     "name": "stderr",
     "output_type": "stream",
     "text": [
      "\n",
      "Finding actions:   0%|                                    | 0/4 [00:00<?, ?it/s]\u001b[A\n",
      "Action: age:   0%|                                        | 0/4 [00:00<?, ?it/s]\u001b[A\n",
      "Action: age:  25%|████████                        | 1/4 [00:00<00:00,  4.40it/s]\u001b[A\n",
      "Action: gender:  25%|███████▎                     | 1/4 [00:00<00:00,  4.40it/s]\u001b[A\n",
      "Action: gender:  50%|██████████████▌              | 2/4 [00:00<00:00,  4.34it/s]\u001b[A\n",
      "Action: race:  50%|███████████████▌               | 2/4 [00:00<00:00,  4.34it/s]\u001b[A\n",
      "Action: race:  75%|███████████████████████▎       | 3/4 [00:00<00:00,  4.47it/s]\u001b[A\n",
      "Action: emotion: 100%|████████████████████████████| 4/4 [00:00<00:00,  5.78it/s]\u001b[A\n",
      "355it [05:54,  2.79it/s]"
     ]
    },
    {
     "name": "stdout",
     "output_type": "stream",
     "text": [
      "/Users/jessecoulter/Downloads/FIN377/CEOPersonalities-/matched_pictures/Ron Nersesian/2015\n"
     ]
    },
    {
     "name": "stderr",
     "output_type": "stream",
     "text": [
      "\n",
      "Finding actions:   0%|                                    | 0/4 [00:00<?, ?it/s]\u001b[A\n",
      "Action: age:   0%|                                        | 0/4 [00:00<?, ?it/s]\u001b[A\n",
      "Action: age:  25%|████████                        | 1/4 [00:00<00:00,  4.28it/s]\u001b[A\n",
      "Action: gender:  25%|███████▎                     | 1/4 [00:00<00:00,  4.28it/s]\u001b[A\n",
      "Action: gender:  50%|██████████████▌              | 2/4 [00:00<00:00,  4.28it/s]\u001b[A\n",
      "Action: race:  50%|███████████████▌               | 2/4 [00:00<00:00,  4.28it/s]\u001b[A\n",
      "Action: race:  75%|███████████████████████▎       | 3/4 [00:00<00:00,  4.39it/s]\u001b[A\n",
      "Action: emotion: 100%|████████████████████████████| 4/4 [00:00<00:00,  5.68it/s]\u001b[A\n",
      "356it [05:55,  2.37it/s]"
     ]
    },
    {
     "name": "stdout",
     "output_type": "stream",
     "text": [
      "/Users/jessecoulter/Downloads/FIN377/CEOPersonalities-/matched_pictures/Ron Nersesian/2016\n"
     ]
    },
    {
     "name": "stderr",
     "output_type": "stream",
     "text": [
      "\n",
      "Finding actions:   0%|                                    | 0/4 [00:00<?, ?it/s]\u001b[A\n",
      "Action: age:   0%|                                        | 0/4 [00:00<?, ?it/s]\u001b[A\n",
      "Action: age:  25%|████████                        | 1/4 [00:00<00:00,  4.14it/s]\u001b[A\n",
      "Action: gender:  25%|███████▎                     | 1/4 [00:00<00:00,  4.14it/s]\u001b[A\n",
      "Action: gender:  50%|██████████████▌              | 2/4 [00:00<00:00,  4.18it/s]\u001b[A\n",
      "Action: race:  50%|███████████████▌               | 2/4 [00:00<00:00,  4.18it/s]\u001b[A\n",
      "Action: race:  75%|███████████████████████▎       | 3/4 [00:00<00:00,  4.17it/s]\u001b[A\n",
      "Action: emotion: 100%|████████████████████████████| 4/4 [00:00<00:00,  5.43it/s]\u001b[A\n",
      "357it [05:55,  2.07it/s]"
     ]
    },
    {
     "name": "stdout",
     "output_type": "stream",
     "text": [
      "/Users/jessecoulter/Downloads/FIN377/CEOPersonalities-/matched_pictures/Ron Nersesian/2017\n"
     ]
    },
    {
     "name": "stderr",
     "output_type": "stream",
     "text": [
      "\n",
      "Finding actions:   0%|                                    | 0/4 [00:00<?, ?it/s]\u001b[A\n",
      "Action: age:   0%|                                        | 0/4 [00:00<?, ?it/s]\u001b[A\n",
      "Action: age:  25%|████████                        | 1/4 [00:00<00:00,  4.42it/s]\u001b[A\n",
      "Action: gender:  25%|███████▎                     | 1/4 [00:00<00:00,  4.42it/s]\u001b[A\n",
      "Action: gender:  50%|██████████████▌              | 2/4 [00:00<00:00,  4.21it/s]\u001b[A\n",
      "Action: race:  50%|███████████████▌               | 2/4 [00:00<00:00,  4.21it/s]\u001b[A\n",
      "Action: race:  75%|███████████████████████▎       | 3/4 [00:00<00:00,  4.19it/s]\u001b[A\n",
      "Action: emotion: 100%|████████████████████████████| 4/4 [00:00<00:00,  5.48it/s]\u001b[A\n",
      "358it [05:57,  1.43it/s]"
     ]
    },
    {
     "name": "stdout",
     "output_type": "stream",
     "text": [
      "/Users/jessecoulter/Downloads/FIN377/CEOPersonalities-/matched_pictures/Ron Nersesian/2018\n"
     ]
    },
    {
     "name": "stderr",
     "output_type": "stream",
     "text": [
      "\n",
      "Finding actions:   0%|                                    | 0/4 [00:00<?, ?it/s]\u001b[A\n",
      "Action: age:   0%|                                        | 0/4 [00:00<?, ?it/s]\u001b[A\n",
      "Action: age:  25%|████████                        | 1/4 [00:00<00:00,  4.27it/s]\u001b[A\n",
      "Action: gender:  25%|███████▎                     | 1/4 [00:00<00:00,  4.27it/s]\u001b[A\n",
      "Action: gender:  50%|██████████████▌              | 2/4 [00:00<00:00,  4.17it/s]\u001b[A\n",
      "Action: race:  50%|███████████████▌               | 2/4 [00:00<00:00,  4.17it/s]\u001b[A\n",
      "Action: race:  75%|███████████████████████▎       | 3/4 [00:00<00:00,  4.20it/s]\u001b[A\n",
      "Action: emotion: 100%|████████████████████████████| 4/4 [00:00<00:00,  5.46it/s]\u001b[A\n",
      "359it [05:58,  1.35it/s]"
     ]
    },
    {
     "name": "stdout",
     "output_type": "stream",
     "text": [
      "/Users/jessecoulter/Downloads/FIN377/CEOPersonalities-/matched_pictures/Ron Nersesian/2019\n"
     ]
    },
    {
     "name": "stderr",
     "output_type": "stream",
     "text": [
      "\n",
      "Finding actions:   0%|                                    | 0/4 [00:00<?, ?it/s]\u001b[A\n",
      "Action: age:   0%|                                        | 0/4 [00:00<?, ?it/s]\u001b[A\n",
      "Action: age:  25%|████████                        | 1/4 [00:00<00:00,  4.58it/s]\u001b[A\n",
      "Action: gender:  25%|███████▎                     | 1/4 [00:00<00:00,  4.58it/s]\u001b[A\n",
      "Action: gender:  50%|██████████████▌              | 2/4 [00:00<00:00,  4.52it/s]\u001b[A\n",
      "Action: race:  50%|███████████████▌               | 2/4 [00:00<00:00,  4.52it/s]\u001b[A\n",
      "Action: race:  75%|███████████████████████▎       | 3/4 [00:00<00:00,  4.51it/s]\u001b[A\n",
      "Action: emotion: 100%|████████████████████████████| 4/4 [00:00<00:00,  5.88it/s]\u001b[A\n",
      "\n",
      "Finding actions:   0%|                                    | 0/4 [00:00<?, ?it/s]\u001b[A\n",
      "Action: age:   0%|                                        | 0/4 [00:00<?, ?it/s]\u001b[A\n",
      "Action: age:  25%|████████                        | 1/4 [00:00<00:00,  4.50it/s]\u001b[A\n",
      "Action: gender:  25%|███████▎                     | 1/4 [00:00<00:00,  4.50it/s]\u001b[A\n",
      "Action: gender:  50%|██████████████▌              | 2/4 [00:00<00:00,  4.41it/s]\u001b[A\n",
      "Action: race:  50%|███████████████▌               | 2/4 [00:00<00:00,  4.41it/s]\u001b[A\n",
      "Action: race:  75%|███████████████████████▎       | 3/4 [00:00<00:00,  4.49it/s]\u001b[A\n",
      "Action: emotion: 100%|████████████████████████████| 4/4 [00:00<00:00,  5.82it/s]\u001b[A\n",
      "360it [05:59,  1.06it/s]"
     ]
    },
    {
     "name": "stdout",
     "output_type": "stream",
     "text": [
      "/Users/jessecoulter/Downloads/FIN377/CEOPersonalities-/matched_pictures/Gene Hall/2010\n"
     ]
    },
    {
     "name": "stderr",
     "output_type": "stream",
     "text": [
      "\n",
      "Finding actions:   0%|                                    | 0/4 [00:00<?, ?it/s]\u001b[A\n",
      "Action: age:   0%|                                        | 0/4 [00:00<?, ?it/s]\u001b[A\n",
      "Action: age:  25%|████████                        | 1/4 [00:00<00:00,  4.08it/s]\u001b[A\n",
      "Action: gender:  25%|███████▎                     | 1/4 [00:00<00:00,  4.08it/s]\u001b[A\n",
      "Action: gender:  50%|██████████████▌              | 2/4 [00:00<00:00,  4.06it/s]\u001b[A\n",
      "Action: race:  50%|███████████████▌               | 2/4 [00:00<00:00,  4.06it/s]\u001b[A\n",
      "Action: race:  75%|███████████████████████▎       | 3/4 [00:00<00:00,  4.24it/s]\u001b[A\n",
      "Action: emotion: 100%|████████████████████████████| 4/4 [00:00<00:00,  5.46it/s]\u001b[A\n",
      "361it [06:00,  1.10it/s]"
     ]
    },
    {
     "name": "stdout",
     "output_type": "stream",
     "text": [
      "/Users/jessecoulter/Downloads/FIN377/CEOPersonalities-/matched_pictures/Gene Hall/2011\n"
     ]
    },
    {
     "name": "stderr",
     "output_type": "stream",
     "text": [
      "\n",
      "Finding actions:   0%|                                    | 0/4 [00:00<?, ?it/s]\u001b[A\n",
      "Action: age:   0%|                                        | 0/4 [00:00<?, ?it/s]\u001b[A\n",
      "Action: age:  25%|████████                        | 1/4 [00:00<00:00,  4.25it/s]\u001b[A\n",
      "Action: gender:  25%|███████▎                     | 1/4 [00:00<00:00,  4.25it/s]\u001b[A\n",
      "Action: gender:  50%|██████████████▌              | 2/4 [00:00<00:00,  4.36it/s]\u001b[A\n",
      "Action: race:  50%|███████████████▌               | 2/4 [00:00<00:00,  4.36it/s]\u001b[A\n",
      "Action: race:  75%|███████████████████████▎       | 3/4 [00:00<00:00,  4.51it/s]\u001b[A\n",
      "Action: emotion: 100%|████████████████████████████| 4/4 [00:00<00:00,  5.81it/s]\u001b[A\n",
      "362it [06:01,  1.17it/s]"
     ]
    },
    {
     "name": "stdout",
     "output_type": "stream",
     "text": [
      "/Users/jessecoulter/Downloads/FIN377/CEOPersonalities-/matched_pictures/Gene Hall/2012\n"
     ]
    },
    {
     "name": "stderr",
     "output_type": "stream",
     "text": [
      "\n",
      "Finding actions:   0%|                                    | 0/4 [00:00<?, ?it/s]\u001b[A\n",
      "Action: age:   0%|                                        | 0/4 [00:00<?, ?it/s]\u001b[A\n",
      "Action: age:  25%|████████                        | 1/4 [00:00<00:00,  4.48it/s]\u001b[A\n",
      "Action: gender:  25%|███████▎                     | 1/4 [00:00<00:00,  4.48it/s]\u001b[A\n",
      "Action: gender:  50%|██████████████▌              | 2/4 [00:00<00:00,  4.60it/s]\u001b[A\n",
      "Action: race:  50%|███████████████▌               | 2/4 [00:00<00:00,  4.60it/s]\u001b[A\n",
      "Action: race:  75%|███████████████████████▎       | 3/4 [00:00<00:00,  4.63it/s]\u001b[A\n",
      "Action: emotion: 100%|████████████████████████████| 4/4 [00:00<00:00,  5.99it/s]\u001b[A\n",
      "363it [06:02,  1.22it/s]"
     ]
    },
    {
     "name": "stdout",
     "output_type": "stream",
     "text": [
      "/Users/jessecoulter/Downloads/FIN377/CEOPersonalities-/matched_pictures/Gene Hall/2013\n",
      "Folder not found: /Users/jessecoulter/Downloads/FIN377/CEOPersonalities-/matched_pictures/Gene Hall/2013\n",
      "/Users/jessecoulter/Downloads/FIN377/CEOPersonalities-/matched_pictures/Gene Hall/2014\n"
     ]
    },
    {
     "name": "stderr",
     "output_type": "stream",
     "text": [
      "\n",
      "Finding actions:   0%|                                    | 0/4 [00:00<?, ?it/s]\u001b[A\n",
      "Action: age:   0%|                                        | 0/4 [00:00<?, ?it/s]\u001b[A\n",
      "Action: age:  25%|████████                        | 1/4 [00:00<00:00,  4.66it/s]\u001b[A\n",
      "Action: gender:  25%|███████▎                     | 1/4 [00:00<00:00,  4.66it/s]\u001b[A\n",
      "Action: gender:  50%|██████████████▌              | 2/4 [00:00<00:00,  4.66it/s]\u001b[A\n",
      "Action: race:  50%|███████████████▌               | 2/4 [00:00<00:00,  4.66it/s]\u001b[A\n",
      "Action: race:  75%|███████████████████████▎       | 3/4 [00:00<00:00,  4.67it/s]\u001b[A\n",
      "Action: emotion: 100%|████████████████████████████| 4/4 [00:00<00:00,  6.07it/s]\u001b[A\n",
      "\n",
      "Finding actions:   0%|                                    | 0/4 [00:00<?, ?it/s]\u001b[A\n",
      "Action: age:   0%|                                        | 0/4 [00:00<?, ?it/s]\u001b[A\n",
      "Action: age:  25%|████████                        | 1/4 [00:00<00:00,  4.24it/s]\u001b[A\n",
      "Action: gender:  25%|███████▎                     | 1/4 [00:00<00:00,  4.24it/s]\u001b[A\n",
      "Action: gender:  50%|██████████████▌              | 2/4 [00:00<00:00,  4.48it/s]\u001b[A\n",
      "Action: race:  50%|███████████████▌               | 2/4 [00:00<00:00,  4.48it/s]\u001b[A\n",
      "Action: race:  75%|███████████████████████▎       | 3/4 [00:00<00:00,  4.56it/s]\u001b[A\n",
      "Action: emotion: 100%|████████████████████████████| 4/4 [00:00<00:00,  5.88it/s]\u001b[A\n",
      "365it [06:03,  1.26it/s]"
     ]
    },
    {
     "name": "stdout",
     "output_type": "stream",
     "text": [
      "/Users/jessecoulter/Downloads/FIN377/CEOPersonalities-/matched_pictures/Gene Hall/2015\n"
     ]
    },
    {
     "name": "stderr",
     "output_type": "stream",
     "text": [
      "\n",
      "Finding actions:   0%|                                    | 0/4 [00:00<?, ?it/s]\u001b[A\n",
      "Action: age:   0%|                                        | 0/4 [00:00<?, ?it/s]\u001b[A\n",
      "Action: age:  25%|████████                        | 1/4 [00:00<00:00,  4.16it/s]\u001b[A\n",
      "Action: gender:  25%|███████▎                     | 1/4 [00:00<00:00,  4.16it/s]\u001b[A\n",
      "Action: gender:  50%|██████████████▌              | 2/4 [00:00<00:00,  4.44it/s]\u001b[A\n",
      "Action: race:  50%|███████████████▌               | 2/4 [00:00<00:00,  4.44it/s]\u001b[A\n",
      "Action: race:  75%|███████████████████████▎       | 3/4 [00:00<00:00,  4.55it/s]\u001b[A\n",
      "Action: emotion: 100%|████████████████████████████| 4/4 [00:00<00:00,  5.84it/s]\u001b[A\n",
      "366it [06:04,  1.27it/s]"
     ]
    },
    {
     "name": "stdout",
     "output_type": "stream",
     "text": [
      "/Users/jessecoulter/Downloads/FIN377/CEOPersonalities-/matched_pictures/Gene Hall/2016\n"
     ]
    },
    {
     "name": "stderr",
     "output_type": "stream",
     "text": [
      "\n",
      "Finding actions:   0%|                                    | 0/4 [00:00<?, ?it/s]\u001b[A\n",
      "Action: age:   0%|                                        | 0/4 [00:00<?, ?it/s]\u001b[A\n",
      "Action: age:  25%|████████                        | 1/4 [00:00<00:00,  4.44it/s]\u001b[A\n",
      "Action: gender:  25%|███████▎                     | 1/4 [00:00<00:00,  4.44it/s]\u001b[A\n",
      "Action: gender:  50%|██████████████▌              | 2/4 [00:00<00:00,  4.57it/s]\u001b[A\n",
      "Action: race:  50%|███████████████▌               | 2/4 [00:00<00:00,  4.57it/s]\u001b[A\n",
      "Action: race:  75%|███████████████████████▎       | 3/4 [00:00<00:00,  4.62it/s]\u001b[A\n",
      "Action: emotion: 100%|████████████████████████████| 4/4 [00:00<00:00,  5.97it/s]\u001b[A\n",
      "367it [06:05,  1.30it/s]"
     ]
    },
    {
     "name": "stdout",
     "output_type": "stream",
     "text": [
      "/Users/jessecoulter/Downloads/FIN377/CEOPersonalities-/matched_pictures/Gene Hall/2017\n"
     ]
    },
    {
     "name": "stderr",
     "output_type": "stream",
     "text": [
      "\n",
      "Finding actions:   0%|                                    | 0/4 [00:00<?, ?it/s]\u001b[A\n",
      "Action: age:   0%|                                        | 0/4 [00:00<?, ?it/s]\u001b[A\n",
      "Action: age:  25%|████████                        | 1/4 [00:00<00:00,  4.63it/s]\u001b[A\n",
      "Action: gender:  25%|███████▎                     | 1/4 [00:00<00:00,  4.63it/s]\u001b[A\n",
      "Action: gender:  50%|██████████████▌              | 2/4 [00:00<00:00,  4.67it/s]\u001b[A\n",
      "Action: race:  50%|███████████████▌               | 2/4 [00:00<00:00,  4.67it/s]\u001b[A\n",
      "Action: race:  75%|███████████████████████▎       | 3/4 [00:00<00:00,  4.69it/s]\u001b[A\n",
      "Action: emotion: 100%|████████████████████████████| 4/4 [00:00<00:00,  6.08it/s]\u001b[A\n",
      "368it [06:05,  1.30it/s]"
     ]
    },
    {
     "name": "stdout",
     "output_type": "stream",
     "text": [
      "/Users/jessecoulter/Downloads/FIN377/CEOPersonalities-/matched_pictures/Gene Hall/2018\n"
     ]
    },
    {
     "name": "stderr",
     "output_type": "stream",
     "text": [
      "\n",
      "Finding actions:   0%|                                    | 0/4 [00:00<?, ?it/s]\u001b[A\n",
      "Action: age:   0%|                                        | 0/4 [00:00<?, ?it/s]\u001b[A\n",
      "Action: age:  25%|████████                        | 1/4 [00:00<00:00,  4.50it/s]\u001b[A\n",
      "Action: gender:  25%|███████▎                     | 1/4 [00:00<00:00,  4.50it/s]\u001b[A\n",
      "Action: gender:  50%|██████████████▌              | 2/4 [00:00<00:00,  4.61it/s]\u001b[A\n",
      "Action: race:  50%|███████████████▌               | 2/4 [00:00<00:00,  4.61it/s]\u001b[A\n",
      "Action: race:  75%|███████████████████████▎       | 3/4 [00:00<00:00,  4.64it/s]\u001b[A\n",
      "Action: emotion: 100%|████████████████████████████| 4/4 [00:00<00:00,  6.01it/s]\u001b[A\n",
      "369it [06:06,  1.32it/s]"
     ]
    },
    {
     "name": "stdout",
     "output_type": "stream",
     "text": [
      "/Users/jessecoulter/Downloads/FIN377/CEOPersonalities-/matched_pictures/Gene Hall/2019\n"
     ]
    },
    {
     "name": "stderr",
     "output_type": "stream",
     "text": [
      "\n",
      "Finding actions:   0%|                                    | 0/4 [00:00<?, ?it/s]\u001b[A\n",
      "Action: age:   0%|                                        | 0/4 [00:00<?, ?it/s]\u001b[A\n",
      "Action: age:  25%|████████                        | 1/4 [00:00<00:00,  4.86it/s]\u001b[A\n",
      "Action: gender:  25%|███████▎                     | 1/4 [00:00<00:00,  4.86it/s]\u001b[A\n",
      "Action: gender:  50%|██████████████▌              | 2/4 [00:00<00:00,  4.75it/s]\u001b[A\n",
      "Action: race:  50%|███████████████▌               | 2/4 [00:00<00:00,  4.75it/s]\u001b[A\n",
      "Action: race:  75%|███████████████████████▎       | 3/4 [00:00<00:00,  4.71it/s]\u001b[A\n",
      "Action: emotion: 100%|████████████████████████████| 4/4 [00:00<00:00,  6.15it/s]\u001b[A\n",
      "370it [06:07,  1.11it/s]"
     ]
    },
    {
     "name": "stdout",
     "output_type": "stream",
     "text": [
      "/Users/jessecoulter/Downloads/FIN377/CEOPersonalities-/matched_pictures/Arkadiy Dobkin/2010\n"
     ]
    },
    {
     "name": "stderr",
     "output_type": "stream",
     "text": [
      "\n",
      "Finding actions:   0%|                                    | 0/4 [00:00<?, ?it/s]\u001b[A\n",
      "Action: age:   0%|                                        | 0/4 [00:00<?, ?it/s]\u001b[A\n",
      "Action: age:  25%|████████                        | 1/4 [00:00<00:00,  4.48it/s]\u001b[A\n",
      "Action: gender:  25%|███████▎                     | 1/4 [00:00<00:00,  4.48it/s]\u001b[A\n",
      "Action: gender:  50%|██████████████▌              | 2/4 [00:00<00:00,  4.56it/s]\u001b[A\n",
      "Action: race:  50%|███████████████▌               | 2/4 [00:00<00:00,  4.56it/s]\u001b[A\n",
      "Action: race:  75%|███████████████████████▎       | 3/4 [00:00<00:00,  4.53it/s]\u001b[A\n",
      "Action: emotion: 100%|████████████████████████████| 4/4 [00:00<00:00,  5.89it/s]\u001b[A\n",
      "371it [06:08,  1.17it/s]"
     ]
    },
    {
     "name": "stdout",
     "output_type": "stream",
     "text": [
      "/Users/jessecoulter/Downloads/FIN377/CEOPersonalities-/matched_pictures/Arkadiy Dobkin/2011\n"
     ]
    },
    {
     "name": "stderr",
     "output_type": "stream",
     "text": [
      "\n",
      "Finding actions:   0%|                                    | 0/4 [00:00<?, ?it/s]\u001b[A\n",
      "Action: age:   0%|                                        | 0/4 [00:00<?, ?it/s]\u001b[A\n",
      "Action: age:  25%|████████                        | 1/4 [00:00<00:00,  4.50it/s]\u001b[A\n",
      "Action: gender:  25%|███████▎                     | 1/4 [00:00<00:00,  4.50it/s]\u001b[A\n",
      "Action: gender:  50%|██████████████▌              | 2/4 [00:00<00:00,  4.60it/s]\u001b[A\n",
      "Action: race:  50%|███████████████▌               | 2/4 [00:00<00:00,  4.60it/s]\u001b[A\n",
      "Action: race:  75%|███████████████████████▎       | 3/4 [00:00<00:00,  4.65it/s]\u001b[A\n",
      "Action: emotion: 100%|████████████████████████████| 4/4 [00:00<00:00,  6.02it/s]\u001b[A\n",
      "372it [06:09,  1.23it/s]"
     ]
    },
    {
     "name": "stdout",
     "output_type": "stream",
     "text": [
      "/Users/jessecoulter/Downloads/FIN377/CEOPersonalities-/matched_pictures/Arkadiy Dobkin/2012\n"
     ]
    },
    {
     "name": "stderr",
     "output_type": "stream",
     "text": [
      "\n",
      "Finding actions:   0%|                                    | 0/4 [00:00<?, ?it/s]\u001b[A\n",
      "Action: age:   0%|                                        | 0/4 [00:00<?, ?it/s]\u001b[A\n",
      "Action: age:  25%|████████                        | 1/4 [00:00<00:00,  4.69it/s]\u001b[A\n",
      "Action: gender:  25%|███████▎                     | 1/4 [00:00<00:00,  4.69it/s]\u001b[A\n",
      "Action: gender:  50%|██████████████▌              | 2/4 [00:00<00:00,  4.64it/s]\u001b[A\n",
      "Action: race:  50%|███████████████▌               | 2/4 [00:00<00:00,  4.64it/s]\u001b[A\n",
      "Action: race:  75%|███████████████████████▎       | 3/4 [00:00<00:00,  4.65it/s]\u001b[A\n",
      "Action: emotion: 100%|████████████████████████████| 4/4 [00:00<00:00,  6.05it/s]\u001b[A\n",
      "373it [06:10,  1.24it/s]"
     ]
    },
    {
     "name": "stdout",
     "output_type": "stream",
     "text": [
      "/Users/jessecoulter/Downloads/FIN377/CEOPersonalities-/matched_pictures/Arkadiy Dobkin/2013\n"
     ]
    },
    {
     "name": "stderr",
     "output_type": "stream",
     "text": [
      "\n",
      "Finding actions:   0%|                                    | 0/4 [00:00<?, ?it/s]\u001b[A\n",
      "Action: age:   0%|                                        | 0/4 [00:00<?, ?it/s]\u001b[A\n",
      "Action: age:  25%|████████                        | 1/4 [00:00<00:00,  4.23it/s]\u001b[A\n",
      "Action: gender:  25%|███████▎                     | 1/4 [00:00<00:00,  4.23it/s]\u001b[A\n",
      "Action: gender:  50%|██████████████▌              | 2/4 [00:00<00:00,  4.41it/s]\u001b[A\n",
      "Action: race:  50%|███████████████▌               | 2/4 [00:00<00:00,  4.41it/s]\u001b[A\n",
      "Action: race:  75%|███████████████████████▎       | 3/4 [00:00<00:00,  4.50it/s]\u001b[A\n",
      "Action: emotion: 100%|████████████████████████████| 4/4 [00:00<00:00,  5.80it/s]\u001b[A\n",
      "374it [06:10,  1.26it/s]"
     ]
    },
    {
     "name": "stdout",
     "output_type": "stream",
     "text": [
      "/Users/jessecoulter/Downloads/FIN377/CEOPersonalities-/matched_pictures/Arkadiy Dobkin/2014\n"
     ]
    },
    {
     "name": "stderr",
     "output_type": "stream",
     "text": [
      "\n",
      "Finding actions:   0%|                                    | 0/4 [00:00<?, ?it/s]\u001b[A\n",
      "Action: age:   0%|                                        | 0/4 [00:00<?, ?it/s]\u001b[A\n",
      "Action: age:  25%|████████                        | 1/4 [00:00<00:00,  4.28it/s]\u001b[A\n",
      "Action: gender:  25%|███████▎                     | 1/4 [00:00<00:00,  4.28it/s]\u001b[A\n",
      "Action: gender:  50%|██████████████▌              | 2/4 [00:00<00:00,  4.47it/s]\u001b[A\n",
      "Action: race:  50%|███████████████▌               | 2/4 [00:00<00:00,  4.47it/s]\u001b[A\n",
      "Action: race:  75%|███████████████████████▎       | 3/4 [00:00<00:00,  4.60it/s]\u001b[A\n",
      "Action: emotion: 100%|████████████████████████████| 4/4 [00:00<00:00,  5.90it/s]\u001b[A\n",
      "375it [06:11,  1.30it/s]"
     ]
    },
    {
     "name": "stdout",
     "output_type": "stream",
     "text": [
      "/Users/jessecoulter/Downloads/FIN377/CEOPersonalities-/matched_pictures/Arkadiy Dobkin/2015\n"
     ]
    },
    {
     "name": "stderr",
     "output_type": "stream",
     "text": [
      "\n",
      "Finding actions:   0%|                                    | 0/4 [00:00<?, ?it/s]\u001b[A\n",
      "Action: age:   0%|                                        | 0/4 [00:00<?, ?it/s]\u001b[A\n",
      "Action: age:  25%|████████                        | 1/4 [00:00<00:00,  4.67it/s]\u001b[A\n",
      "Action: gender:  25%|███████▎                     | 1/4 [00:00<00:00,  4.67it/s]\u001b[A\n",
      "Action: gender:  50%|██████████████▌              | 2/4 [00:00<00:00,  4.70it/s]\u001b[A\n",
      "Action: race:  50%|███████████████▌               | 2/4 [00:00<00:00,  4.70it/s]\u001b[A\n",
      "Action: race:  75%|███████████████████████▎       | 3/4 [00:00<00:00,  4.68it/s]\u001b[A\n",
      "Action: emotion: 100%|████████████████████████████| 4/4 [00:00<00:00,  6.09it/s]\u001b[A\n",
      "376it [06:12,  1.15it/s]"
     ]
    },
    {
     "name": "stdout",
     "output_type": "stream",
     "text": [
      "/Users/jessecoulter/Downloads/FIN377/CEOPersonalities-/matched_pictures/Arkadiy Dobkin/2016\n"
     ]
    },
    {
     "name": "stderr",
     "output_type": "stream",
     "text": [
      "\n",
      "Finding actions:   0%|                                    | 0/4 [00:00<?, ?it/s]\u001b[A\n",
      "Action: age:   0%|                                        | 0/4 [00:00<?, ?it/s]\u001b[A\n",
      "Action: age:  25%|████████                        | 1/4 [00:00<00:00,  4.75it/s]\u001b[A\n",
      "Action: gender:  25%|███████▎                     | 1/4 [00:00<00:00,  4.75it/s]\u001b[A\n",
      "Action: gender:  50%|██████████████▌              | 2/4 [00:00<00:00,  4.65it/s]\u001b[A\n",
      "Action: race:  50%|███████████████▌               | 2/4 [00:00<00:00,  4.65it/s]\u001b[A\n",
      "Action: race:  75%|███████████████████████▎       | 3/4 [00:00<00:00,  4.60it/s]\u001b[A\n",
      "Action: emotion: 100%|████████████████████████████| 4/4 [00:00<00:00,  6.02it/s]\u001b[A\n",
      "377it [06:13,  1.10it/s]"
     ]
    },
    {
     "name": "stdout",
     "output_type": "stream",
     "text": [
      "/Users/jessecoulter/Downloads/FIN377/CEOPersonalities-/matched_pictures/Arkadiy Dobkin/2017\n",
      "Error analyzing /Users/jessecoulter/Downloads/FIN377/CEOPersonalities-/matched_pictures/Arkadiy Dobkin/2017/pic1.jpg: Face could not be detected in /Users/jessecoulter/Downloads/FIN377/CEOPersonalities-/matched_pictures/Arkadiy Dobkin/2017/pic1.jpg.Please confirm that the picture is a face photo or consider to set enforce_detection param to False.\n",
      "/Users/jessecoulter/Downloads/FIN377/CEOPersonalities-/matched_pictures/Arkadiy Dobkin/2018\n"
     ]
    },
    {
     "name": "stderr",
     "output_type": "stream",
     "text": [
      "\n",
      "Finding actions:   0%|                                    | 0/4 [00:00<?, ?it/s]\u001b[A\n",
      "Action: age:   0%|                                        | 0/4 [00:00<?, ?it/s]\u001b[A\n",
      "Action: age:  25%|████████                        | 1/4 [00:00<00:00,  4.66it/s]\u001b[A\n",
      "Action: gender:  25%|███████▎                     | 1/4 [00:00<00:00,  4.66it/s]\u001b[A\n",
      "Action: gender:  50%|██████████████▌              | 2/4 [00:00<00:00,  4.66it/s]\u001b[A\n",
      "Action: race:  50%|███████████████▌               | 2/4 [00:00<00:00,  4.66it/s]\u001b[A\n",
      "Action: race:  75%|███████████████████████▎       | 3/4 [00:00<00:00,  4.66it/s]\u001b[A\n",
      "Action: emotion: 100%|████████████████████████████| 4/4 [00:00<00:00,  6.06it/s]\u001b[A\n",
      "379it [06:14,  1.48it/s]"
     ]
    },
    {
     "name": "stdout",
     "output_type": "stream",
     "text": [
      "/Users/jessecoulter/Downloads/FIN377/CEOPersonalities-/matched_pictures/Arkadiy Dobkin/2019\n"
     ]
    },
    {
     "name": "stderr",
     "output_type": "stream",
     "text": [
      "\n",
      "Finding actions:   0%|                                    | 0/4 [00:00<?, ?it/s]\u001b[A\n",
      "Action: age:   0%|                                        | 0/4 [00:00<?, ?it/s]\u001b[A\n",
      "Action: age:  25%|████████                        | 1/4 [00:00<00:00,  4.27it/s]\u001b[A\n",
      "Action: gender:  25%|███████▎                     | 1/4 [00:00<00:00,  4.27it/s]\u001b[A\n",
      "Action: gender:  50%|██████████████▌              | 2/4 [00:00<00:00,  4.49it/s]\u001b[A\n",
      "Action: race:  50%|███████████████▌               | 2/4 [00:00<00:00,  4.49it/s]\u001b[A\n",
      "Action: race:  75%|███████████████████████▎       | 3/4 [00:00<00:00,  4.57it/s]\u001b[A\n",
      "Action: emotion: 100%|████████████████████████████| 4/4 [00:00<00:00,  5.89it/s]\u001b[A\n",
      "380it [06:15,  1.46it/s]"
     ]
    },
    {
     "name": "stdout",
     "output_type": "stream",
     "text": [
      "/Users/jessecoulter/Downloads/FIN377/CEOPersonalities-/matched_pictures/Jack Prim/2010\n"
     ]
    },
    {
     "name": "stderr",
     "output_type": "stream",
     "text": [
      "\n",
      "Finding actions:   0%|                                    | 0/4 [00:00<?, ?it/s]\u001b[A\n",
      "Action: age:   0%|                                        | 0/4 [00:00<?, ?it/s]\u001b[A\n",
      "Action: age:  25%|████████                        | 1/4 [00:00<00:00,  4.58it/s]\u001b[A\n",
      "Action: gender:  25%|███████▎                     | 1/4 [00:00<00:00,  4.58it/s]\u001b[A\n",
      "Action: gender:  50%|██████████████▌              | 2/4 [00:00<00:00,  4.50it/s]\u001b[A\n",
      "Action: race:  50%|███████████████▌               | 2/4 [00:00<00:00,  4.50it/s]\u001b[A\n",
      "Action: race:  75%|███████████████████████▎       | 3/4 [00:00<00:00,  4.49it/s]\u001b[A\n",
      "Action: emotion: 100%|████████████████████████████| 4/4 [00:00<00:00,  5.86it/s]\u001b[A\n",
      "381it [06:15,  1.43it/s]"
     ]
    },
    {
     "name": "stdout",
     "output_type": "stream",
     "text": [
      "/Users/jessecoulter/Downloads/FIN377/CEOPersonalities-/matched_pictures/Jack Prim/2011\n"
     ]
    },
    {
     "name": "stderr",
     "output_type": "stream",
     "text": [
      "\n",
      "Finding actions:   0%|                                    | 0/4 [00:00<?, ?it/s]\u001b[A\n",
      "Action: age:   0%|                                        | 0/4 [00:00<?, ?it/s]\u001b[A\n",
      "Action: age:  25%|████████                        | 1/4 [00:00<00:00,  4.16it/s]\u001b[A\n",
      "Action: gender:  25%|███████▎                     | 1/4 [00:00<00:00,  4.16it/s]\u001b[A\n",
      "Action: gender:  50%|██████████████▌              | 2/4 [00:00<00:00,  4.38it/s]\u001b[A\n",
      "Action: race:  50%|███████████████▌               | 2/4 [00:00<00:00,  4.38it/s]\u001b[A\n",
      "Action: race:  75%|███████████████████████▎       | 3/4 [00:00<00:00,  4.50it/s]\u001b[A\n",
      "Action: emotion: 100%|████████████████████████████| 4/4 [00:00<00:00,  5.79it/s]\u001b[A\n",
      "382it [06:16,  1.40it/s]"
     ]
    },
    {
     "name": "stdout",
     "output_type": "stream",
     "text": [
      "/Users/jessecoulter/Downloads/FIN377/CEOPersonalities-/matched_pictures/Jack Prim/2012\n"
     ]
    },
    {
     "name": "stderr",
     "output_type": "stream",
     "text": [
      "\n",
      "Finding actions:   0%|                                    | 0/4 [00:00<?, ?it/s]\u001b[A\n",
      "Action: age:   0%|                                        | 0/4 [00:00<?, ?it/s]\u001b[A\n",
      "Action: age:  25%|████████                        | 1/4 [00:00<00:00,  4.20it/s]\u001b[A\n",
      "Action: gender:  25%|███████▎                     | 1/4 [00:00<00:00,  4.20it/s]\u001b[A\n",
      "Action: gender:  50%|██████████████▌              | 2/4 [00:00<00:00,  4.42it/s]\u001b[A\n",
      "Action: race:  50%|███████████████▌               | 2/4 [00:00<00:00,  4.42it/s]\u001b[A\n",
      "Action: race:  75%|███████████████████████▎       | 3/4 [00:00<00:00,  4.52it/s]\u001b[A\n",
      "Action: emotion: 100%|████████████████████████████| 4/4 [00:00<00:00,  5.82it/s]\u001b[A\n",
      "383it [06:17,  1.39it/s]"
     ]
    },
    {
     "name": "stdout",
     "output_type": "stream",
     "text": [
      "/Users/jessecoulter/Downloads/FIN377/CEOPersonalities-/matched_pictures/Jack Prim/2013\n",
      "Error analyzing /Users/jessecoulter/Downloads/FIN377/CEOPersonalities-/matched_pictures/Jack Prim/2013/pic4.jpg: Exception while loading /Users/jessecoulter/Downloads/FIN377/CEOPersonalities-/matched_pictures/Jack Prim/2013/pic4.jpg\n",
      "/Users/jessecoulter/Downloads/FIN377/CEOPersonalities-/matched_pictures/Jack Prim/2014\n"
     ]
    },
    {
     "name": "stderr",
     "output_type": "stream",
     "text": [
      "\n",
      "Finding actions:   0%|                                    | 0/4 [00:00<?, ?it/s]\u001b[A\n",
      "Action: age:   0%|                                        | 0/4 [00:00<?, ?it/s]\u001b[A\n",
      "Action: age:  25%|████████                        | 1/4 [00:00<00:00,  4.39it/s]\u001b[A\n",
      "Action: gender:  25%|███████▎                     | 1/4 [00:00<00:00,  4.39it/s]\u001b[A\n",
      "Action: gender:  50%|██████████████▌              | 2/4 [00:00<00:00,  4.52it/s]\u001b[A\n",
      "Action: race:  50%|███████████████▌               | 2/4 [00:00<00:00,  4.52it/s]\u001b[A\n",
      "Action: race:  75%|███████████████████████▎       | 3/4 [00:00<00:00,  4.57it/s]\u001b[A\n",
      "Action: emotion: 100%|████████████████████████████| 4/4 [00:00<00:00,  5.91it/s]\u001b[A\n",
      "385it [06:18,  1.77it/s]"
     ]
    },
    {
     "name": "stdout",
     "output_type": "stream",
     "text": [
      "/Users/jessecoulter/Downloads/FIN377/CEOPersonalities-/matched_pictures/Jack Prim/2015\n"
     ]
    },
    {
     "name": "stderr",
     "output_type": "stream",
     "text": [
      "\n",
      "Finding actions:   0%|                                    | 0/4 [00:00<?, ?it/s]\u001b[A\n",
      "Action: age:   0%|                                        | 0/4 [00:00<?, ?it/s]\u001b[A\n",
      "Action: age:  25%|████████                        | 1/4 [00:00<00:00,  4.68it/s]\u001b[A\n",
      "Action: gender:  25%|███████▎                     | 1/4 [00:00<00:00,  4.68it/s]\u001b[A\n",
      "Action: gender:  50%|██████████████▌              | 2/4 [00:00<00:00,  4.67it/s]\u001b[A\n",
      "Action: race:  50%|███████████████▌               | 2/4 [00:00<00:00,  4.67it/s]\u001b[A\n",
      "Action: race:  75%|███████████████████████▎       | 3/4 [00:00<00:00,  4.68it/s]\u001b[A\n",
      "Action: emotion: 100%|████████████████████████████| 4/4 [00:00<00:00,  6.09it/s]\u001b[A\n",
      "386it [06:19,  1.58it/s]"
     ]
    },
    {
     "name": "stdout",
     "output_type": "stream",
     "text": [
      "/Users/jessecoulter/Downloads/FIN377/CEOPersonalities-/matched_pictures/Jack Prim/2016\n"
     ]
    },
    {
     "name": "stderr",
     "output_type": "stream",
     "text": [
      "\n",
      "Finding actions:   0%|                                    | 0/4 [00:00<?, ?it/s]\u001b[A\n",
      "Action: age:   0%|                                        | 0/4 [00:00<?, ?it/s]\u001b[A\n",
      "Action: age:  25%|████████                        | 1/4 [00:00<00:00,  4.02it/s]\u001b[A\n",
      "Action: gender:  25%|███████▎                     | 1/4 [00:00<00:00,  4.02it/s]\u001b[A\n",
      "Action: gender:  50%|██████████████▌              | 2/4 [00:00<00:00,  4.33it/s]\u001b[A\n",
      "Action: race:  50%|███████████████▌               | 2/4 [00:00<00:00,  4.33it/s]\u001b[A\n",
      "Action: race:  75%|███████████████████████▎       | 3/4 [00:00<00:00,  4.46it/s]\u001b[A\n",
      "Action: emotion: 100%|████████████████████████████| 4/4 [00:00<00:00,  5.72it/s]\u001b[A\n",
      "387it [06:19,  1.50it/s]"
     ]
    },
    {
     "name": "stdout",
     "output_type": "stream",
     "text": [
      "/Users/jessecoulter/Downloads/FIN377/CEOPersonalities-/matched_pictures/David Foss/2017\n"
     ]
    },
    {
     "name": "stderr",
     "output_type": "stream",
     "text": [
      "\n",
      "Finding actions:   0%|                                    | 0/4 [00:00<?, ?it/s]\u001b[A\n",
      "Action: age:   0%|                                        | 0/4 [00:00<?, ?it/s]\u001b[A\n",
      "Action: age:  25%|████████                        | 1/4 [00:00<00:00,  4.60it/s]\u001b[A\n",
      "Action: gender:  25%|███████▎                     | 1/4 [00:00<00:00,  4.60it/s]\u001b[A\n",
      "Action: gender:  50%|██████████████▌              | 2/4 [00:00<00:00,  4.62it/s]\u001b[A\n",
      "Action: race:  50%|███████████████▌               | 2/4 [00:00<00:00,  4.62it/s]\u001b[A\n",
      "Action: race:  75%|███████████████████████▎       | 3/4 [00:00<00:00,  4.43it/s]\u001b[A\n",
      "Action: emotion: 100%|████████████████████████████| 4/4 [00:00<00:00,  5.83it/s]\u001b[A\n",
      "\n",
      "Finding actions:   0%|                                    | 0/4 [00:00<?, ?it/s]\u001b[A\n",
      "Action: age:   0%|                                        | 0/4 [00:00<?, ?it/s]\u001b[A\n",
      "Action: age:  25%|████████                        | 1/4 [00:00<00:00,  4.43it/s]\u001b[A\n",
      "Action: gender:  25%|███████▎                     | 1/4 [00:00<00:00,  4.43it/s]\u001b[A\n",
      "Action: gender:  50%|██████████████▌              | 2/4 [00:00<00:00,  4.54it/s]\u001b[A\n",
      "Action: race:  50%|███████████████▌               | 2/4 [00:00<00:00,  4.54it/s]\u001b[A\n",
      "Action: race:  75%|███████████████████████▎       | 3/4 [00:00<00:00,  4.57it/s]\u001b[A\n",
      "Action: emotion: 100%|████████████████████████████| 4/4 [00:00<00:00,  5.92it/s]\u001b[A\n",
      "388it [06:21,  1.13it/s]"
     ]
    },
    {
     "name": "stdout",
     "output_type": "stream",
     "text": [
      "/Users/jessecoulter/Downloads/FIN377/CEOPersonalities-/matched_pictures/David Foss/2018\n",
      "Error analyzing /Users/jessecoulter/Downloads/FIN377/CEOPersonalities-/matched_pictures/David Foss/2018/pic1.jpg: Face could not be detected in /Users/jessecoulter/Downloads/FIN377/CEOPersonalities-/matched_pictures/David Foss/2018/pic1.jpg.Please confirm that the picture is a face photo or consider to set enforce_detection param to False.\n",
      "/Users/jessecoulter/Downloads/FIN377/CEOPersonalities-/matched_pictures/David Foss/2019\n"
     ]
    },
    {
     "name": "stderr",
     "output_type": "stream",
     "text": [
      "\n",
      "Finding actions:   0%|                                    | 0/4 [00:00<?, ?it/s]\u001b[A\n",
      "Action: age:   0%|                                        | 0/4 [00:00<?, ?it/s]\u001b[A\n",
      "Action: age:  25%|████████                        | 1/4 [00:00<00:00,  4.82it/s]\u001b[A\n",
      "Action: gender:  25%|███████▎                     | 1/4 [00:00<00:00,  4.82it/s]\u001b[A\n",
      "Action: gender:  50%|██████████████▌              | 2/4 [00:00<00:00,  4.72it/s]\u001b[A\n",
      "Action: race:  50%|███████████████▌               | 2/4 [00:00<00:00,  4.72it/s]\u001b[A\n",
      "Action: race:  75%|███████████████████████▎       | 3/4 [00:00<00:00,  4.71it/s]\u001b[A\n",
      "Action: emotion: 100%|████████████████████████████| 4/4 [00:00<00:00,  6.14it/s]\u001b[A\n",
      "390it [06:23,  1.13it/s]"
     ]
    },
    {
     "name": "stdout",
     "output_type": "stream",
     "text": [
      "/Users/jessecoulter/Downloads/FIN377/CEOPersonalities-/matched_pictures/John A. Edwardson/2010\n"
     ]
    },
    {
     "name": "stderr",
     "output_type": "stream",
     "text": [
      "\n",
      "Finding actions:   0%|                                    | 0/4 [00:00<?, ?it/s]\u001b[A\n",
      "Action: age:   0%|                                        | 0/4 [00:00<?, ?it/s]\u001b[A\n",
      "Action: age:  25%|████████                        | 1/4 [00:00<00:00,  4.23it/s]\u001b[A\n",
      "Action: gender:  25%|███████▎                     | 1/4 [00:00<00:00,  4.23it/s]\u001b[A\n",
      "Action: gender:  50%|██████████████▌              | 2/4 [00:00<00:00,  4.49it/s]\u001b[A\n",
      "Action: race:  50%|███████████████▌               | 2/4 [00:00<00:00,  4.49it/s]\u001b[A\n",
      "Action: race:  75%|███████████████████████▎       | 3/4 [00:00<00:00,  4.54it/s]\u001b[A\n",
      "Action: emotion: 100%|████████████████████████████| 4/4 [00:00<00:00,  5.86it/s]\u001b[A\n",
      "391it [06:23,  1.19it/s]"
     ]
    },
    {
     "name": "stdout",
     "output_type": "stream",
     "text": [
      "/Users/jessecoulter/Downloads/FIN377/CEOPersonalities-/matched_pictures/John A. Edwardson/2011\n",
      "Error analyzing /Users/jessecoulter/Downloads/FIN377/CEOPersonalities-/matched_pictures/John A. Edwardson/2011/pic1.jpg: Face could not be detected in /Users/jessecoulter/Downloads/FIN377/CEOPersonalities-/matched_pictures/John A. Edwardson/2011/pic1.jpg.Please confirm that the picture is a face photo or consider to set enforce_detection param to False.\n",
      "/Users/jessecoulter/Downloads/FIN377/CEOPersonalities-/matched_pictures/John A. Edwardson/2012\n"
     ]
    },
    {
     "name": "stderr",
     "output_type": "stream",
     "text": [
      "\n",
      "Finding actions:   0%|                                    | 0/4 [00:00<?, ?it/s]\u001b[A\n",
      "Action: age:   0%|                                        | 0/4 [00:00<?, ?it/s]\u001b[A\n",
      "Action: age:  25%|████████                        | 1/4 [00:00<00:00,  4.63it/s]\u001b[A\n",
      "Action: gender:  25%|███████▎                     | 1/4 [00:00<00:00,  4.63it/s]\u001b[A\n",
      "Action: gender:  50%|██████████████▌              | 2/4 [00:00<00:00,  4.64it/s]\u001b[A\n",
      "Action: race:  50%|███████████████▌               | 2/4 [00:00<00:00,  4.64it/s]\u001b[A\n",
      "Action: race:  75%|███████████████████████▎       | 3/4 [00:00<00:00,  4.58it/s]\u001b[A\n",
      "Action: emotion: 100%|████████████████████████████| 4/4 [00:00<00:00,  5.98it/s]\u001b[A\n",
      "393it [06:24,  1.52it/s]"
     ]
    },
    {
     "name": "stdout",
     "output_type": "stream",
     "text": [
      "/Users/jessecoulter/Downloads/FIN377/CEOPersonalities-/matched_pictures/Thomas E. Richards/2013\n"
     ]
    },
    {
     "name": "stderr",
     "output_type": "stream",
     "text": [
      "\n",
      "Finding actions:   0%|                                    | 0/4 [00:00<?, ?it/s]\u001b[A\n",
      "Action: age:   0%|                                        | 0/4 [00:00<?, ?it/s]\u001b[A\n",
      "Action: age:  25%|████████                        | 1/4 [00:00<00:00,  4.34it/s]\u001b[A\n",
      "Action: gender:  25%|███████▎                     | 1/4 [00:00<00:00,  4.34it/s]\u001b[A\n",
      "Action: gender:  50%|██████████████▌              | 2/4 [00:00<00:00,  4.52it/s]\u001b[A\n",
      "Action: race:  50%|███████████████▌               | 2/4 [00:00<00:00,  4.52it/s]\u001b[A\n",
      "Action: race:  75%|███████████████████████▎       | 3/4 [00:00<00:00,  4.58it/s]\u001b[A\n",
      "Action: emotion: 100%|████████████████████████████| 4/4 [00:00<00:00,  5.92it/s]\u001b[A\n",
      "394it [06:25,  1.49it/s]"
     ]
    },
    {
     "name": "stdout",
     "output_type": "stream",
     "text": [
      "/Users/jessecoulter/Downloads/FIN377/CEOPersonalities-/matched_pictures/Thomas E. Richards/2014\n"
     ]
    },
    {
     "name": "stderr",
     "output_type": "stream",
     "text": [
      "\n",
      "Finding actions:   0%|                                    | 0/4 [00:00<?, ?it/s]\u001b[A\n",
      "Action: age:   0%|                                        | 0/4 [00:00<?, ?it/s]\u001b[A\n",
      "Action: age:  25%|████████                        | 1/4 [00:00<00:00,  4.21it/s]\u001b[A\n",
      "Action: gender:  25%|███████▎                     | 1/4 [00:00<00:00,  4.21it/s]\u001b[A\n",
      "Action: gender:  50%|██████████████▌              | 2/4 [00:00<00:00,  4.45it/s]\u001b[A\n",
      "Action: race:  50%|███████████████▌               | 2/4 [00:00<00:00,  4.45it/s]\u001b[A\n",
      "Action: race:  75%|███████████████████████▎       | 3/4 [00:00<00:00,  4.52it/s]\u001b[A\n",
      "Action: emotion: 100%|████████████████████████████| 4/4 [00:00<00:00,  5.83it/s]\u001b[A\n",
      "395it [06:25,  1.46it/s]"
     ]
    },
    {
     "name": "stdout",
     "output_type": "stream",
     "text": [
      "/Users/jessecoulter/Downloads/FIN377/CEOPersonalities-/matched_pictures/Thomas E. Richards/2015\n"
     ]
    },
    {
     "name": "stderr",
     "output_type": "stream",
     "text": [
      "\n",
      "Finding actions:   0%|                                    | 0/4 [00:00<?, ?it/s]\u001b[A\n",
      "Action: age:   0%|                                        | 0/4 [00:00<?, ?it/s]\u001b[A\n",
      "Action: age:  25%|████████                        | 1/4 [00:00<00:00,  4.43it/s]\u001b[A\n",
      "Action: gender:  25%|███████▎                     | 1/4 [00:00<00:00,  4.43it/s]\u001b[A\n",
      "Action: gender:  50%|██████████████▌              | 2/4 [00:00<00:00,  4.58it/s]\u001b[A\n",
      "Action: race:  50%|███████████████▌               | 2/4 [00:00<00:00,  4.58it/s]\u001b[A\n",
      "Action: race:  75%|███████████████████████▎       | 3/4 [00:00<00:00,  4.59it/s]\u001b[A\n",
      "Action: emotion: 100%|████████████████████████████| 4/4 [00:00<00:00,  5.95it/s]\u001b[A\n",
      "396it [06:26,  1.45it/s]"
     ]
    },
    {
     "name": "stdout",
     "output_type": "stream",
     "text": [
      "/Users/jessecoulter/Downloads/FIN377/CEOPersonalities-/matched_pictures/Thomas E. Richards/2016\n"
     ]
    },
    {
     "name": "stderr",
     "output_type": "stream",
     "text": [
      "\n",
      "Finding actions:   0%|                                    | 0/4 [00:00<?, ?it/s]\u001b[A\n",
      "Action: age:   0%|                                        | 0/4 [00:00<?, ?it/s]\u001b[A\n",
      "Action: age:  25%|████████                        | 1/4 [00:00<00:00,  4.33it/s]\u001b[A\n",
      "Action: gender:  25%|███████▎                     | 1/4 [00:00<00:00,  4.33it/s]\u001b[A\n",
      "Action: gender:  50%|██████████████▌              | 2/4 [00:00<00:00,  4.36it/s]\u001b[A\n",
      "Action: race:  50%|███████████████▌               | 2/4 [00:00<00:00,  4.36it/s]\u001b[A\n",
      "Action: race:  75%|███████████████████████▎       | 3/4 [00:00<00:00,  4.40it/s]\u001b[A\n",
      "Action: emotion: 100%|████████████████████████████| 4/4 [00:00<00:00,  5.72it/s]\u001b[A\n",
      "397it [06:27,  1.43it/s]"
     ]
    },
    {
     "name": "stdout",
     "output_type": "stream",
     "text": [
      "/Users/jessecoulter/Downloads/FIN377/CEOPersonalities-/matched_pictures/Christine A. Leahy/2017\n"
     ]
    },
    {
     "name": "stderr",
     "output_type": "stream",
     "text": [
      "\n",
      "Finding actions:   0%|                                    | 0/4 [00:00<?, ?it/s]\u001b[A\n",
      "Action: age:   0%|                                        | 0/4 [00:00<?, ?it/s]\u001b[A\n",
      "Action: age:  25%|████████                        | 1/4 [00:00<00:00,  4.62it/s]\u001b[A\n",
      "Action: gender:  25%|███████▎                     | 1/4 [00:00<00:00,  4.62it/s]\u001b[A\n",
      "Action: gender:  50%|██████████████▌              | 2/4 [00:00<00:00,  4.56it/s]\u001b[A\n",
      "Action: race:  50%|███████████████▌               | 2/4 [00:00<00:00,  4.56it/s]\u001b[A\n",
      "Action: race:  75%|███████████████████████▎       | 3/4 [00:00<00:00,  4.36it/s]\u001b[A\n",
      "Action: emotion: 100%|████████████████████████████| 4/4 [00:00<00:00,  5.72it/s]\u001b[A\n",
      "\n",
      "Finding actions:   0%|                                    | 0/4 [00:00<?, ?it/s]\u001b[A\n",
      "Action: age:   0%|                                        | 0/4 [00:00<?, ?it/s]\u001b[A\n",
      "Action: age:  25%|████████                        | 1/4 [00:00<00:00,  4.18it/s]\u001b[A\n",
      "Action: gender:  25%|███████▎                     | 1/4 [00:00<00:00,  4.18it/s]\u001b[A\n",
      "Action: gender:  50%|██████████████▌              | 2/4 [00:00<00:00,  4.42it/s]\u001b[A\n",
      "Action: race:  50%|███████████████▌               | 2/4 [00:00<00:00,  4.42it/s]\u001b[A\n",
      "Action: race:  75%|███████████████████████▎       | 3/4 [00:00<00:00,  4.25it/s]\u001b[A\n",
      "Action: emotion: 100%|████████████████████████████| 4/4 [00:00<00:00,  5.56it/s]\u001b[A\n",
      "\n",
      "Finding actions:   0%|                                    | 0/4 [00:00<?, ?it/s]\u001b[A\n",
      "Action: age:   0%|                                        | 0/4 [00:00<?, ?it/s]\u001b[A\n",
      "Action: age:  25%|████████                        | 1/4 [00:00<00:00,  4.24it/s]\u001b[A\n",
      "Action: gender:  25%|███████▎                     | 1/4 [00:00<00:00,  4.24it/s]\u001b[A\n",
      "Action: gender:  50%|██████████████▌              | 2/4 [00:00<00:00,  4.27it/s]\u001b[A\n",
      "Action: race:  50%|███████████████▌               | 2/4 [00:00<00:00,  4.27it/s]\u001b[A\n",
      "Action: race:  75%|███████████████████████▎       | 3/4 [00:00<00:00,  4.22it/s]\u001b[A\n",
      "Action: emotion: 100%|████████████████████████████| 4/4 [00:00<00:00,  5.51it/s]\u001b[A\n",
      "\n",
      "Finding actions:   0%|                                    | 0/4 [00:00<?, ?it/s]\u001b[A\n",
      "Action: age:   0%|                                        | 0/4 [00:00<?, ?it/s]\u001b[A\n",
      "Action: age:  25%|████████                        | 1/4 [00:00<00:00,  4.27it/s]\u001b[A\n",
      "Action: gender:  25%|███████▎                     | 1/4 [00:00<00:00,  4.27it/s]\u001b[A\n",
      "Action: gender:  50%|██████████████▌              | 2/4 [00:00<00:00,  4.46it/s]\u001b[A\n",
      "Action: race:  50%|███████████████▌               | 2/4 [00:00<00:00,  4.46it/s]\u001b[A\n",
      "Action: race:  75%|███████████████████████▎       | 3/4 [00:00<00:00,  4.37it/s]\u001b[A\n",
      "Action: emotion: 100%|████████████████████████████| 4/4 [00:00<00:00,  5.69it/s]\u001b[A\n",
      "\n",
      "Finding actions:   0%|                                    | 0/4 [00:00<?, ?it/s]\u001b[A\n",
      "Action: age:   0%|                                        | 0/4 [00:00<?, ?it/s]\u001b[A\n",
      "Action: age:  25%|████████                        | 1/4 [00:00<00:00,  4.16it/s]\u001b[A\n",
      "Action: gender:  25%|███████▎                     | 1/4 [00:00<00:00,  4.16it/s]\u001b[A\n",
      "Action: gender:  50%|██████████████▌              | 2/4 [00:00<00:00,  4.16it/s]\u001b[A\n",
      "Action: race:  50%|███████████████▌               | 2/4 [00:00<00:00,  4.16it/s]\u001b[A\n",
      "Action: race:  75%|███████████████████████▎       | 3/4 [00:00<00:00,  4.11it/s]\u001b[A\n",
      "Action: emotion: 100%|████████████████████████████| 4/4 [00:00<00:00,  5.37it/s]\u001b[A\n",
      "\n",
      "Finding actions:   0%|                                    | 0/4 [00:00<?, ?it/s]\u001b[A\n",
      "Action: age:   0%|                                        | 0/4 [00:00<?, ?it/s]\u001b[A\n",
      "Action: age:  25%|████████                        | 1/4 [00:00<00:00,  4.46it/s]\u001b[A\n",
      "Action: gender:  25%|███████▎                     | 1/4 [00:00<00:00,  4.46it/s]\u001b[A\n",
      "Action: gender:  50%|██████████████▌              | 2/4 [00:00<00:00,  4.39it/s]\u001b[A\n",
      "Action: race:  50%|███████████████▌               | 2/4 [00:00<00:00,  4.39it/s]\u001b[A\n",
      "Action: race:  75%|███████████████████████▎       | 3/4 [00:00<00:00,  4.39it/s]\u001b[A\n",
      "Action: emotion: 100%|████████████████████████████| 4/4 [00:00<00:00,  5.72it/s]\u001b[A\n",
      "\n",
      "Finding actions:   0%|                                    | 0/4 [00:00<?, ?it/s]\u001b[A\n",
      "Action: age:   0%|                                        | 0/4 [00:00<?, ?it/s]\u001b[A\n",
      "Action: age:  25%|████████                        | 1/4 [00:00<00:00,  4.25it/s]\u001b[A\n",
      "Action: gender:  25%|███████▎                     | 1/4 [00:00<00:00,  4.25it/s]\u001b[A\n",
      "Action: gender:  50%|██████████████▌              | 2/4 [00:00<00:00,  4.22it/s]\u001b[A\n",
      "Action: race:  50%|███████████████▌               | 2/4 [00:00<00:00,  4.22it/s]\u001b[A\n",
      "Action: race:  75%|███████████████████████▎       | 3/4 [00:00<00:00,  4.25it/s]\u001b[A\n",
      "Action: emotion: 100%|████████████████████████████| 4/4 [00:00<00:00,  5.53it/s]\u001b[A\n",
      "\n",
      "Finding actions:   0%|                                    | 0/4 [00:00<?, ?it/s]\u001b[A\n",
      "Action: age:   0%|                                        | 0/4 [00:00<?, ?it/s]\u001b[A\n",
      "Action: age:  25%|████████                        | 1/4 [00:00<00:00,  4.61it/s]\u001b[A\n",
      "Action: gender:  25%|███████▎                     | 1/4 [00:00<00:00,  4.61it/s]\u001b[A\n",
      "Action: gender:  50%|██████████████▌              | 2/4 [00:00<00:00,  4.46it/s]\u001b[A\n",
      "Action: race:  50%|███████████████▌               | 2/4 [00:00<00:00,  4.46it/s]\u001b[A\n",
      "Action: race:  75%|███████████████████████▎       | 3/4 [00:00<00:00,  4.31it/s]\u001b[A\n",
      "Action: emotion: 100%|████████████████████████████| 4/4 [00:00<00:00,  5.68it/s]\u001b[A\n",
      "\n",
      "Finding actions:   0%|                                    | 0/4 [00:00<?, ?it/s]\u001b[A\n",
      "Action: age:   0%|                                        | 0/4 [00:00<?, ?it/s]\u001b[A\n",
      "Action: age:  25%|████████                        | 1/4 [00:00<00:00,  4.14it/s]\u001b[A\n",
      "Action: gender:  25%|███████▎                     | 1/4 [00:00<00:00,  4.14it/s]\u001b[A\n",
      "Action: gender:  50%|██████████████▌              | 2/4 [00:00<00:00,  4.15it/s]\u001b[A\n",
      "Action: race:  50%|███████████████▌               | 2/4 [00:00<00:00,  4.15it/s]\u001b[A\n",
      "Action: race:  75%|███████████████████████▎       | 3/4 [00:00<00:00,  4.15it/s]\u001b[A\n",
      "Action: emotion: 100%|████████████████████████████| 4/4 [00:00<00:00,  5.40it/s]\u001b[A\n",
      "\n",
      "Finding actions:   0%|                                    | 0/4 [00:00<?, ?it/s]\u001b[A\n",
      "Action: age:   0%|                                        | 0/4 [00:00<?, ?it/s]\u001b[A\n",
      "Action: age:  25%|████████                        | 1/4 [00:00<00:00,  4.32it/s]\u001b[A\n",
      "Action: gender:  25%|███████▎                     | 1/4 [00:00<00:00,  4.32it/s]\u001b[A\n",
      "Action: gender:  50%|██████████████▌              | 2/4 [00:00<00:00,  4.22it/s]\u001b[A\n",
      "Action: race:  50%|███████████████▌               | 2/4 [00:00<00:00,  4.22it/s]\u001b[A\n",
      "Action: race:  75%|███████████████████████▎       | 3/4 [00:00<00:00,  4.27it/s]\u001b[A\n",
      "Action: emotion: 100%|████████████████████████████| 4/4 [00:00<00:00,  5.56it/s]\u001b[A\n",
      "\n",
      "Finding actions:   0%|                                    | 0/4 [00:00<?, ?it/s]\u001b[A\n",
      "Action: age:   0%|                                        | 0/4 [00:00<?, ?it/s]\u001b[A\n",
      "Action: age:  25%|████████                        | 1/4 [00:00<00:00,  4.17it/s]\u001b[A\n",
      "Action: gender:  25%|███████▎                     | 1/4 [00:00<00:00,  4.17it/s]\u001b[A\n",
      "Action: gender:  50%|██████████████▌              | 2/4 [00:00<00:00,  4.20it/s]\u001b[A\n",
      "Action: race:  50%|███████████████▌               | 2/4 [00:00<00:00,  4.20it/s]\u001b[A\n",
      "Action: race:  75%|███████████████████████▎       | 3/4 [00:00<00:00,  4.31it/s]\u001b[A\n",
      "Action: emotion: 100%|████████████████████████████| 4/4 [00:00<00:00,  5.57it/s]\u001b[A\n",
      "398it [06:35,  2.76s/it]"
     ]
    },
    {
     "name": "stdout",
     "output_type": "stream",
     "text": [
      "/Users/jessecoulter/Downloads/FIN377/CEOPersonalities-/matched_pictures/Christine A. Leahy/2018\n"
     ]
    },
    {
     "name": "stderr",
     "output_type": "stream",
     "text": [
      "\n",
      "Finding actions:   0%|                                    | 0/4 [00:00<?, ?it/s]\u001b[A\n",
      "Action: age:   0%|                                        | 0/4 [00:00<?, ?it/s]\u001b[A\n",
      "Action: age:  25%|████████                        | 1/4 [00:00<00:00,  4.41it/s]\u001b[A\n",
      "Action: gender:  25%|███████▎                     | 1/4 [00:00<00:00,  4.41it/s]\u001b[A\n",
      "Action: gender:  50%|██████████████▌              | 2/4 [00:00<00:00,  4.35it/s]\u001b[A\n",
      "Action: race:  50%|███████████████▌               | 2/4 [00:00<00:00,  4.35it/s]\u001b[A\n",
      "Action: race:  75%|███████████████████████▎       | 3/4 [00:00<00:00,  4.35it/s]\u001b[A\n",
      "Action: emotion: 100%|████████████████████████████| 4/4 [00:00<00:00,  5.67it/s]\u001b[A\n",
      "399it [06:36,  2.19s/it]"
     ]
    },
    {
     "name": "stdout",
     "output_type": "stream",
     "text": [
      "/Users/jessecoulter/Downloads/FIN377/CEOPersonalities-/matched_pictures/Christine A. Leahy/2019\n"
     ]
    },
    {
     "name": "stderr",
     "output_type": "stream",
     "text": [
      "\n",
      "Finding actions:   0%|                                    | 0/4 [00:00<?, ?it/s]\u001b[A\n",
      "Action: age:   0%|                                        | 0/4 [00:00<?, ?it/s]\u001b[A\n",
      "Action: age:  25%|████████                        | 1/4 [00:00<00:00,  4.72it/s]\u001b[A\n",
      "Action: gender:  25%|███████▎                     | 1/4 [00:00<00:00,  4.72it/s]\u001b[A\n",
      "Action: gender:  50%|██████████████▌              | 2/4 [00:00<00:00,  4.49it/s]\u001b[A\n",
      "Action: race:  50%|███████████████▌               | 2/4 [00:00<00:00,  4.49it/s]\u001b[A\n",
      "Action: race:  75%|███████████████████████▎       | 3/4 [00:00<00:00,  4.62it/s]\u001b[A\n",
      "Action: emotion: 100%|████████████████████████████| 4/4 [00:00<00:00,  5.99it/s]\u001b[A\n",
      "400it [06:37,  1.76s/it]"
     ]
    },
    {
     "name": "stdout",
     "output_type": "stream",
     "text": [
      "/Users/jessecoulter/Downloads/FIN377/CEOPersonalities-/matched_pictures/James Cashman/2010\n",
      "Folder not found: /Users/jessecoulter/Downloads/FIN377/CEOPersonalities-/matched_pictures/James Cashman/2010\n",
      "/Users/jessecoulter/Downloads/FIN377/CEOPersonalities-/matched_pictures/James Cashman/2011\n"
     ]
    },
    {
     "name": "stderr",
     "output_type": "stream",
     "text": [
      "\n",
      "Finding actions:   0%|                                    | 0/4 [00:00<?, ?it/s]\u001b[A\n",
      "Action: age:   0%|                                        | 0/4 [00:00<?, ?it/s]\u001b[A\n",
      "Action: age:  25%|████████                        | 1/4 [00:00<00:00,  4.39it/s]\u001b[A\n",
      "Action: gender:  25%|███████▎                     | 1/4 [00:00<00:00,  4.39it/s]\u001b[A\n",
      "Action: gender:  50%|██████████████▌              | 2/4 [00:00<00:00,  4.58it/s]\u001b[A\n",
      "Action: race:  50%|███████████████▌               | 2/4 [00:00<00:00,  4.58it/s]\u001b[A\n",
      "Action: race:  75%|███████████████████████▎       | 3/4 [00:00<00:00,  4.64it/s]\u001b[A\n",
      "Action: emotion: 100%|████████████████████████████| 4/4 [00:00<00:00,  5.99it/s]\u001b[A\n",
      "402it [06:37,  1.13s/it]"
     ]
    },
    {
     "name": "stdout",
     "output_type": "stream",
     "text": [
      "/Users/jessecoulter/Downloads/FIN377/CEOPersonalities-/matched_pictures/James Cashman/2012\n"
     ]
    },
    {
     "name": "stderr",
     "output_type": "stream",
     "text": [
      "\n",
      "Finding actions:   0%|                                    | 0/4 [00:00<?, ?it/s]\u001b[A\n",
      "Action: age:   0%|                                        | 0/4 [00:00<?, ?it/s]\u001b[A\n",
      "Action: age:  25%|████████                        | 1/4 [00:00<00:00,  4.41it/s]\u001b[A\n",
      "Action: gender:  25%|███████▎                     | 1/4 [00:00<00:00,  4.41it/s]\u001b[A\n",
      "Action: gender:  50%|██████████████▌              | 2/4 [00:00<00:00,  4.55it/s]\u001b[A\n",
      "Action: race:  50%|███████████████▌               | 2/4 [00:00<00:00,  4.55it/s]\u001b[A\n",
      "Action: race:  75%|███████████████████████▎       | 3/4 [00:00<00:00,  4.58it/s]\u001b[A\n",
      "Action: emotion: 100%|████████████████████████████| 4/4 [00:00<00:00,  5.90it/s]\u001b[A\n",
      "403it [06:38,  1.04s/it]"
     ]
    },
    {
     "name": "stdout",
     "output_type": "stream",
     "text": [
      "/Users/jessecoulter/Downloads/FIN377/CEOPersonalities-/matched_pictures/James Cashman/2013\n",
      "Folder not found: /Users/jessecoulter/Downloads/FIN377/CEOPersonalities-/matched_pictures/James Cashman/2013\n",
      "/Users/jessecoulter/Downloads/FIN377/CEOPersonalities-/matched_pictures/James Cashman/2014\n"
     ]
    },
    {
     "name": "stderr",
     "output_type": "stream",
     "text": [
      "\n",
      "Finding actions:   0%|                                    | 0/4 [00:00<?, ?it/s]\u001b[A\n",
      "Action: age:   0%|                                        | 0/4 [00:00<?, ?it/s]\u001b[A\n",
      "Action: age:  25%|████████                        | 1/4 [00:00<00:00,  4.23it/s]\u001b[A\n",
      "Action: gender:  25%|███████▎                     | 1/4 [00:00<00:00,  4.23it/s]\u001b[A\n",
      "Action: gender:  50%|██████████████▌              | 2/4 [00:00<00:00,  4.19it/s]\u001b[A\n",
      "Action: race:  50%|███████████████▌               | 2/4 [00:00<00:00,  4.19it/s]\u001b[A\n",
      "Action: race:  75%|███████████████████████▎       | 3/4 [00:00<00:00,  4.19it/s]\u001b[A\n",
      "Action: emotion: 100%|████████████████████████████| 4/4 [00:00<00:00,  5.45it/s]\u001b[A\n",
      "405it [06:39,  1.27it/s]"
     ]
    },
    {
     "name": "stdout",
     "output_type": "stream",
     "text": [
      "/Users/jessecoulter/Downloads/FIN377/CEOPersonalities-/matched_pictures/James Cashman/2015\n"
     ]
    },
    {
     "name": "stderr",
     "output_type": "stream",
     "text": [
      "\n",
      "Finding actions:   0%|                                    | 0/4 [00:00<?, ?it/s]\u001b[A\n",
      "Action: age:   0%|                                        | 0/4 [00:00<?, ?it/s]\u001b[A\n",
      "Action: age:  25%|████████                        | 1/4 [00:00<00:00,  4.21it/s]\u001b[A\n",
      "Action: gender:  25%|███████▎                     | 1/4 [00:00<00:00,  4.21it/s]\u001b[A\n",
      "Action: gender:  50%|██████████████▌              | 2/4 [00:00<00:00,  4.39it/s]\u001b[A\n",
      "Action: race:  50%|███████████████▌               | 2/4 [00:00<00:00,  4.39it/s]\u001b[A\n",
      "Action: race:  75%|███████████████████████▎       | 3/4 [00:00<00:00,  4.31it/s]\u001b[A\n",
      "Action: emotion: 100%|████████████████████████████| 4/4 [00:00<00:00,  5.62it/s]\u001b[A\n",
      "406it [06:40,  1.28it/s]"
     ]
    },
    {
     "name": "stdout",
     "output_type": "stream",
     "text": [
      "/Users/jessecoulter/Downloads/FIN377/CEOPersonalities-/matched_pictures/Ajei Gopal/2016\n"
     ]
    },
    {
     "name": "stderr",
     "output_type": "stream",
     "text": [
      "\n",
      "Finding actions:   0%|                                    | 0/4 [00:00<?, ?it/s]\u001b[A\n",
      "Action: age:   0%|                                        | 0/4 [00:00<?, ?it/s]\u001b[A\n",
      "Action: age:  25%|████████                        | 1/4 [00:00<00:00,  4.18it/s]\u001b[A\n",
      "Action: gender:  25%|███████▎                     | 1/4 [00:00<00:00,  4.18it/s]\u001b[A\n",
      "Action: gender:  50%|██████████████▌              | 2/4 [00:00<00:00,  4.22it/s]\u001b[A\n",
      "Action: race:  50%|███████████████▌               | 2/4 [00:00<00:00,  4.22it/s]\u001b[A\n",
      "Action: race:  75%|███████████████████████▎       | 3/4 [00:00<00:00,  4.09it/s]\u001b[A\n",
      "Action: emotion: 100%|████████████████████████████| 4/4 [00:00<00:00,  5.36it/s]\u001b[A\n",
      "407it [06:40,  1.25it/s]"
     ]
    },
    {
     "name": "stdout",
     "output_type": "stream",
     "text": [
      "/Users/jessecoulter/Downloads/FIN377/CEOPersonalities-/matched_pictures/Ajei Gopal/2017\n",
      "No image found in /Users/jessecoulter/Downloads/FIN377/CEOPersonalities-/matched_pictures/Ajei Gopal/2017\n",
      "/Users/jessecoulter/Downloads/FIN377/CEOPersonalities-/matched_pictures/Ajei Gopal/2018\n"
     ]
    },
    {
     "name": "stderr",
     "output_type": "stream",
     "text": [
      "\n",
      "Finding actions:   0%|                                    | 0/4 [00:00<?, ?it/s]\u001b[A\n",
      "Action: age:   0%|                                        | 0/4 [00:00<?, ?it/s]\u001b[A\n",
      "Action: age:  25%|████████                        | 1/4 [00:00<00:00,  4.29it/s]\u001b[A\n",
      "Action: gender:  25%|███████▎                     | 1/4 [00:00<00:00,  4.29it/s]\u001b[A\n",
      "Action: gender:  50%|██████████████▌              | 2/4 [00:00<00:00,  4.30it/s]\u001b[A\n",
      "Action: race:  50%|███████████████▌               | 2/4 [00:00<00:00,  4.30it/s]\u001b[A\n",
      "Action: race:  75%|███████████████████████▎       | 3/4 [00:00<00:00,  4.30it/s]\u001b[A\n",
      "Action: emotion: 100%|████████████████████████████| 4/4 [00:00<00:00,  5.60it/s]\u001b[A\n",
      "409it [06:41,  1.59it/s]"
     ]
    },
    {
     "name": "stdout",
     "output_type": "stream",
     "text": [
      "/Users/jessecoulter/Downloads/FIN377/CEOPersonalities-/matched_pictures/Ajei Gopal/2019\n"
     ]
    },
    {
     "name": "stderr",
     "output_type": "stream",
     "text": [
      "\n",
      "Finding actions:   0%|                                    | 0/4 [00:00<?, ?it/s]\u001b[A\n",
      "Action: age:   0%|                                        | 0/4 [00:00<?, ?it/s]\u001b[A\n",
      "Action: age:  25%|████████                        | 1/4 [00:00<00:00,  4.37it/s]\u001b[A\n",
      "Action: gender:  25%|███████▎                     | 1/4 [00:00<00:00,  4.37it/s]\u001b[A\n",
      "Action: gender:  50%|██████████████▌              | 2/4 [00:00<00:00,  4.31it/s]\u001b[A\n",
      "Action: race:  50%|███████████████▌               | 2/4 [00:00<00:00,  4.31it/s]\u001b[A\n",
      "Action: race:  75%|███████████████████████▎       | 3/4 [00:00<00:00,  4.19it/s]\u001b[A\n",
      "Action: emotion: 100%|████████████████████████████| 4/4 [00:00<00:00,  5.50it/s]\u001b[A\n",
      "410it [06:43,  1.23it/s]"
     ]
    },
    {
     "name": "stdout",
     "output_type": "stream",
     "text": [
      "/Users/jessecoulter/Downloads/FIN377/CEOPersonalities-/matched_pictures/Martin H. Loeffler/2010\n",
      "No image found in /Users/jessecoulter/Downloads/FIN377/CEOPersonalities-/matched_pictures/Martin H. Loeffler/2010\n",
      "/Users/jessecoulter/Downloads/FIN377/CEOPersonalities-/matched_pictures/Martin H. Loeffler/2011\n"
     ]
    },
    {
     "name": "stderr",
     "output_type": "stream",
     "text": [
      "\n",
      "Finding actions:   0%|                                    | 0/4 [00:00<?, ?it/s]\u001b[A\n",
      "Action: age:   0%|                                        | 0/4 [00:00<?, ?it/s]\u001b[A\n",
      "Action: age:  25%|████████                        | 1/4 [00:00<00:00,  4.23it/s]\u001b[A\n",
      "Action: gender:  25%|███████▎                     | 1/4 [00:00<00:00,  4.23it/s]\u001b[A\n",
      "Action: gender:  50%|██████████████▌              | 2/4 [00:00<00:00,  4.30it/s]\u001b[A\n",
      "Action: race:  50%|███████████████▌               | 2/4 [00:00<00:00,  4.30it/s]\u001b[A\n",
      "Action: race:  75%|███████████████████████▎       | 3/4 [00:00<00:00,  4.30it/s]\u001b[A\n",
      "Action: emotion: 100%|████████████████████████████| 4/4 [00:00<00:00,  5.58it/s]\u001b[A\n",
      "412it [06:43,  1.56it/s]"
     ]
    },
    {
     "name": "stdout",
     "output_type": "stream",
     "text": [
      "/Users/jessecoulter/Downloads/FIN377/CEOPersonalities-/matched_pictures/R. Adam Norwitt/2012\n"
     ]
    },
    {
     "name": "stderr",
     "output_type": "stream",
     "text": [
      "\n",
      "Finding actions:   0%|                                    | 0/4 [00:00<?, ?it/s]\u001b[A\n",
      "Action: age:   0%|                                        | 0/4 [00:00<?, ?it/s]\u001b[A\n",
      "Action: age:  25%|████████                        | 1/4 [00:00<00:00,  4.22it/s]\u001b[A\n",
      "Action: gender:  25%|███████▎                     | 1/4 [00:00<00:00,  4.22it/s]\u001b[A\n",
      "Action: gender:  50%|██████████████▌              | 2/4 [00:00<00:00,  4.20it/s]\u001b[A\n",
      "Action: race:  50%|███████████████▌               | 2/4 [00:00<00:00,  4.20it/s]\u001b[A\n",
      "Action: race:  75%|███████████████████████▎       | 3/4 [00:00<00:00,  4.33it/s]\u001b[A\n",
      "Action: emotion: 100%|████████████████████████████| 4/4 [00:00<00:00,  5.60it/s]\u001b[A\n",
      "413it [06:44,  1.49it/s]"
     ]
    },
    {
     "name": "stdout",
     "output_type": "stream",
     "text": [
      "/Users/jessecoulter/Downloads/FIN377/CEOPersonalities-/matched_pictures/R. Adam Norwitt/2013\n"
     ]
    },
    {
     "name": "stderr",
     "output_type": "stream",
     "text": [
      "\n",
      "Finding actions:   0%|                                    | 0/4 [00:00<?, ?it/s]\u001b[A\n",
      "Action: age:   0%|                                        | 0/4 [00:00<?, ?it/s]\u001b[A\n",
      "Action: age:  25%|████████                        | 1/4 [00:00<00:00,  4.13it/s]\u001b[A\n",
      "Action: gender:  25%|███████▎                     | 1/4 [00:00<00:00,  4.13it/s]\u001b[A\n",
      "Action: gender:  50%|██████████████▌              | 2/4 [00:00<00:00,  4.28it/s]\u001b[A\n",
      "Action: race:  50%|███████████████▌               | 2/4 [00:00<00:00,  4.28it/s]\u001b[A\n",
      "Action: race:  75%|███████████████████████▎       | 3/4 [00:00<00:00,  4.24it/s]\u001b[A\n",
      "Action: emotion: 100%|████████████████████████████| 4/4 [00:00<00:00,  5.50it/s]\u001b[A\n",
      "414it [06:45,  1.43it/s]"
     ]
    },
    {
     "name": "stdout",
     "output_type": "stream",
     "text": [
      "/Users/jessecoulter/Downloads/FIN377/CEOPersonalities-/matched_pictures/R. Adam Norwitt/2014\n"
     ]
    },
    {
     "name": "stderr",
     "output_type": "stream",
     "text": [
      "\n",
      "Finding actions:   0%|                                    | 0/4 [00:00<?, ?it/s]\u001b[A\n",
      "Action: age:   0%|                                        | 0/4 [00:00<?, ?it/s]\u001b[A\n",
      "Action: age:  25%|████████                        | 1/4 [00:00<00:00,  4.59it/s]\u001b[A\n",
      "Action: gender:  25%|███████▎                     | 1/4 [00:00<00:00,  4.59it/s]\u001b[A\n",
      "Action: gender:  50%|██████████████▌              | 2/4 [00:00<00:00,  4.44it/s]\u001b[A\n",
      "Action: race:  50%|███████████████▌               | 2/4 [00:00<00:00,  4.44it/s]\u001b[A\n",
      "Action: race:  75%|███████████████████████▎       | 3/4 [00:00<00:00,  4.25it/s]\u001b[A\n",
      "Action: emotion: 100%|████████████████████████████| 4/4 [00:00<00:00,  5.61it/s]\u001b[A\n",
      "415it [06:46,  1.40it/s]"
     ]
    },
    {
     "name": "stdout",
     "output_type": "stream",
     "text": [
      "/Users/jessecoulter/Downloads/FIN377/CEOPersonalities-/matched_pictures/R. Adam Norwitt/2015\n"
     ]
    },
    {
     "name": "stderr",
     "output_type": "stream",
     "text": [
      "\n",
      "Finding actions:   0%|                                    | 0/4 [00:00<?, ?it/s]\u001b[A\n",
      "Action: age:   0%|                                        | 0/4 [00:00<?, ?it/s]\u001b[A\n",
      "Action: age:  25%|████████                        | 1/4 [00:00<00:00,  4.34it/s]\u001b[A\n",
      "Action: gender:  25%|███████▎                     | 1/4 [00:00<00:00,  4.34it/s]\u001b[A\n",
      "Action: gender:  50%|██████████████▌              | 2/4 [00:00<00:00,  4.43it/s]\u001b[A\n",
      "Action: race:  50%|███████████████▌               | 2/4 [00:00<00:00,  4.43it/s]\u001b[A\n",
      "Action: race:  75%|███████████████████████▎       | 3/4 [00:00<00:00,  4.26it/s]\u001b[A\n",
      "Action: emotion: 100%|████████████████████████████| 4/4 [00:00<00:00,  5.59it/s]\u001b[A\n",
      "416it [06:47,  1.37it/s]"
     ]
    },
    {
     "name": "stdout",
     "output_type": "stream",
     "text": [
      "/Users/jessecoulter/Downloads/FIN377/CEOPersonalities-/matched_pictures/R. Adam Norwitt/2016\n"
     ]
    },
    {
     "name": "stderr",
     "output_type": "stream",
     "text": [
      "\n",
      "Finding actions:   0%|                                    | 0/4 [00:00<?, ?it/s]\u001b[A\n",
      "Action: age:   0%|                                        | 0/4 [00:00<?, ?it/s]\u001b[A\n",
      "Action: age:  25%|████████                        | 1/4 [00:00<00:00,  4.21it/s]\u001b[A\n",
      "Action: gender:  25%|███████▎                     | 1/4 [00:00<00:00,  4.21it/s]\u001b[A\n",
      "Action: gender:  50%|██████████████▌              | 2/4 [00:00<00:00,  4.27it/s]\u001b[A\n",
      "Action: race:  50%|███████████████▌               | 2/4 [00:00<00:00,  4.27it/s]\u001b[A\n",
      "Action: race:  75%|███████████████████████▎       | 3/4 [00:00<00:00,  4.29it/s]\u001b[A\n",
      "Action: emotion: 100%|████████████████████████████| 4/4 [00:00<00:00,  5.57it/s]\u001b[A\n",
      "417it [06:47,  1.34it/s]"
     ]
    },
    {
     "name": "stdout",
     "output_type": "stream",
     "text": [
      "/Users/jessecoulter/Downloads/FIN377/CEOPersonalities-/matched_pictures/R. Adam Norwitt/2017\n"
     ]
    },
    {
     "name": "stderr",
     "output_type": "stream",
     "text": [
      "\n",
      "Finding actions:   0%|                                    | 0/4 [00:00<?, ?it/s]\u001b[A\n",
      "Action: age:   0%|                                        | 0/4 [00:00<?, ?it/s]\u001b[A\n",
      "Action: age:  25%|████████                        | 1/4 [00:00<00:00,  4.59it/s]\u001b[A\n",
      "Action: gender:  25%|███████▎                     | 1/4 [00:00<00:00,  4.59it/s]\u001b[A\n",
      "Action: gender:  50%|██████████████▌              | 2/4 [00:00<00:00,  4.44it/s]\u001b[A\n",
      "Action: race:  50%|███████████████▌               | 2/4 [00:00<00:00,  4.44it/s]\u001b[A\n",
      "Action: race:  75%|███████████████████████▎       | 3/4 [00:00<00:00,  4.41it/s]\u001b[A\n",
      "Action: emotion: 100%|████████████████████████████| 4/4 [00:00<00:00,  5.76it/s]\u001b[A\n",
      "418it [06:48,  1.34it/s]"
     ]
    },
    {
     "name": "stdout",
     "output_type": "stream",
     "text": [
      "/Users/jessecoulter/Downloads/FIN377/CEOPersonalities-/matched_pictures/R. Adam Norwitt/2018\n"
     ]
    },
    {
     "name": "stderr",
     "output_type": "stream",
     "text": [
      "\n",
      "Finding actions:   0%|                                    | 0/4 [00:00<?, ?it/s]\u001b[A\n",
      "Action: age:   0%|                                        | 0/4 [00:00<?, ?it/s]\u001b[A\n",
      "Action: age:  25%|████████                        | 1/4 [00:00<00:00,  4.26it/s]\u001b[A\n",
      "Action: gender:  25%|███████▎                     | 1/4 [00:00<00:00,  4.26it/s]\u001b[A\n",
      "Action: gender:  50%|██████████████▌              | 2/4 [00:00<00:00,  4.22it/s]\u001b[A\n",
      "Action: race:  50%|███████████████▌               | 2/4 [00:00<00:00,  4.22it/s]\u001b[A\n",
      "Action: race:  75%|███████████████████████▎       | 3/4 [00:00<00:00,  4.17it/s]\u001b[A\n",
      "Action: emotion: 100%|████████████████████████████| 4/4 [00:00<00:00,  5.45it/s]\u001b[A\n",
      "419it [06:49,  1.31it/s]"
     ]
    },
    {
     "name": "stdout",
     "output_type": "stream",
     "text": [
      "/Users/jessecoulter/Downloads/FIN377/CEOPersonalities-/matched_pictures/R. Adam Norwitt/2019\n"
     ]
    },
    {
     "name": "stderr",
     "output_type": "stream",
     "text": [
      "\n",
      "Finding actions:   0%|                                    | 0/4 [00:00<?, ?it/s]\u001b[A\n",
      "Action: age:   0%|                                        | 0/4 [00:00<?, ?it/s]\u001b[A\n",
      "Action: age:  25%|████████                        | 1/4 [00:00<00:00,  4.36it/s]\u001b[A\n",
      "Action: gender:  25%|███████▎                     | 1/4 [00:00<00:00,  4.36it/s]\u001b[A\n",
      "Action: gender:  50%|██████████████▌              | 2/4 [00:00<00:00,  4.34it/s]\u001b[A\n",
      "Action: race:  50%|███████████████▌               | 2/4 [00:00<00:00,  4.34it/s]\u001b[A\n",
      "Action: race:  75%|███████████████████████▎       | 3/4 [00:00<00:00,  4.23it/s]\u001b[A\n",
      "Action: emotion: 100%|████████████████████████████| 4/4 [00:00<00:00,  5.54it/s]\u001b[A\n",
      "420it [06:50,  1.31it/s]"
     ]
    },
    {
     "name": "stdout",
     "output_type": "stream",
     "text": [
      "/Users/jessecoulter/Downloads/FIN377/CEOPersonalities-/matched_pictures/Keith D. Jackson/2010\n",
      "Error analyzing /Users/jessecoulter/Downloads/FIN377/CEOPersonalities-/matched_pictures/Keith D. Jackson/2010/pic3.jpg: Face could not be detected in /Users/jessecoulter/Downloads/FIN377/CEOPersonalities-/matched_pictures/Keith D. Jackson/2010/pic3.jpg.Please confirm that the picture is a face photo or consider to set enforce_detection param to False.\n",
      "/Users/jessecoulter/Downloads/FIN377/CEOPersonalities-/matched_pictures/Keith D. Jackson/2011\n"
     ]
    },
    {
     "name": "stderr",
     "output_type": "stream",
     "text": [
      "\n",
      "Finding actions:   0%|                                    | 0/4 [00:00<?, ?it/s]\u001b[A\n",
      "Action: age:   0%|                                        | 0/4 [00:00<?, ?it/s]\u001b[A\n",
      "Action: age:  25%|████████                        | 1/4 [00:00<00:00,  4.29it/s]\u001b[A\n",
      "Action: gender:  25%|███████▎                     | 1/4 [00:00<00:00,  4.29it/s]\u001b[A\n",
      "Action: gender:  50%|██████████████▌              | 2/4 [00:00<00:00,  4.28it/s]\u001b[A\n",
      "Action: race:  50%|███████████████▌               | 2/4 [00:00<00:00,  4.28it/s]\u001b[A\n",
      "Action: race:  75%|███████████████████████▎       | 3/4 [00:00<00:00,  4.21it/s]\u001b[A\n",
      "Action: emotion: 100%|████████████████████████████| 4/4 [00:00<00:00,  5.50it/s]\u001b[A\n",
      "422it [06:50,  1.69it/s]"
     ]
    },
    {
     "name": "stdout",
     "output_type": "stream",
     "text": [
      "/Users/jessecoulter/Downloads/FIN377/CEOPersonalities-/matched_pictures/Keith D. Jackson/2012\n"
     ]
    },
    {
     "name": "stderr",
     "output_type": "stream",
     "text": [
      "\n",
      "Finding actions:   0%|                                    | 0/4 [00:00<?, ?it/s]\u001b[A\n",
      "Action: age:   0%|                                        | 0/4 [00:00<?, ?it/s]\u001b[A\n",
      "Action: age:  25%|████████                        | 1/4 [00:00<00:00,  4.21it/s]\u001b[A\n",
      "Action: gender:  25%|███████▎                     | 1/4 [00:00<00:00,  4.21it/s]\u001b[A\n",
      "Action: gender:  50%|██████████████▌              | 2/4 [00:00<00:00,  4.22it/s]\u001b[A\n",
      "Action: race:  50%|███████████████▌               | 2/4 [00:00<00:00,  4.22it/s]\u001b[A\n",
      "Action: race:  75%|███████████████████████▎       | 3/4 [00:00<00:00,  4.30it/s]\u001b[A\n",
      "Action: emotion: 100%|████████████████████████████| 4/4 [00:00<00:00,  5.57it/s]\u001b[A\n",
      "423it [06:51,  1.58it/s]"
     ]
    },
    {
     "name": "stdout",
     "output_type": "stream",
     "text": [
      "/Users/jessecoulter/Downloads/FIN377/CEOPersonalities-/matched_pictures/Keith D. Jackson/2013\n"
     ]
    },
    {
     "name": "stderr",
     "output_type": "stream",
     "text": [
      "\n",
      "Finding actions:   0%|                                    | 0/4 [00:00<?, ?it/s]\u001b[A\n",
      "Action: age:   0%|                                        | 0/4 [00:00<?, ?it/s]\u001b[A\n",
      "Action: age:  25%|████████                        | 1/4 [00:00<00:00,  4.52it/s]\u001b[A\n",
      "Action: gender:  25%|███████▎                     | 1/4 [00:00<00:00,  4.52it/s]\u001b[A\n",
      "Action: gender:  50%|██████████████▌              | 2/4 [00:00<00:00,  4.34it/s]\u001b[A\n",
      "Action: race:  50%|███████████████▌               | 2/4 [00:00<00:00,  4.34it/s]\u001b[A\n",
      "Action: race:  75%|███████████████████████▎       | 3/4 [00:00<00:00,  4.43it/s]\u001b[A\n",
      "Action: emotion: 100%|████████████████████████████| 4/4 [00:00<00:00,  5.74it/s]\u001b[A\n",
      "424it [06:52,  1.51it/s]"
     ]
    },
    {
     "name": "stdout",
     "output_type": "stream",
     "text": [
      "/Users/jessecoulter/Downloads/FIN377/CEOPersonalities-/matched_pictures/Keith D. Jackson/2014\n"
     ]
    },
    {
     "name": "stderr",
     "output_type": "stream",
     "text": [
      "\n",
      "Finding actions:   0%|                                    | 0/4 [00:00<?, ?it/s]\u001b[A\n",
      "Action: age:   0%|                                        | 0/4 [00:00<?, ?it/s]\u001b[A\n",
      "Action: age:  25%|████████                        | 1/4 [00:00<00:00,  4.19it/s]\u001b[A\n",
      "Action: gender:  25%|███████▎                     | 1/4 [00:00<00:00,  4.19it/s]\u001b[A\n",
      "Action: gender:  50%|██████████████▌              | 2/4 [00:00<00:00,  4.07it/s]\u001b[A\n",
      "Action: race:  50%|███████████████▌               | 2/4 [00:00<00:00,  4.07it/s]\u001b[A\n",
      "Action: race:  75%|███████████████████████▎       | 3/4 [00:00<00:00,  4.11it/s]\u001b[A\n",
      "Action: emotion: 100%|████████████████████████████| 4/4 [00:00<00:00,  5.35it/s]\u001b[A\n",
      "425it [06:53,  1.43it/s]"
     ]
    },
    {
     "name": "stdout",
     "output_type": "stream",
     "text": [
      "/Users/jessecoulter/Downloads/FIN377/CEOPersonalities-/matched_pictures/Keith D. Jackson/2015\n"
     ]
    },
    {
     "name": "stderr",
     "output_type": "stream",
     "text": [
      "\n",
      "Finding actions:   0%|                                    | 0/4 [00:00<?, ?it/s]\u001b[A\n",
      "Action: age:   0%|                                        | 0/4 [00:00<?, ?it/s]\u001b[A\n",
      "Action: age:  25%|████████                        | 1/4 [00:00<00:00,  4.32it/s]\u001b[A\n",
      "Action: gender:  25%|███████▎                     | 1/4 [00:00<00:00,  4.32it/s]\u001b[A\n",
      "Action: gender:  50%|██████████████▌              | 2/4 [00:00<00:00,  4.43it/s]\u001b[A\n",
      "Action: race:  50%|███████████████▌               | 2/4 [00:00<00:00,  4.43it/s]\u001b[A\n",
      "Action: race:  75%|███████████████████████▎       | 3/4 [00:00<00:00,  4.32it/s]\u001b[A\n",
      "Action: emotion: 100%|████████████████████████████| 4/4 [00:00<00:00,  5.65it/s]\u001b[A\n",
      "426it [06:53,  1.40it/s]"
     ]
    },
    {
     "name": "stdout",
     "output_type": "stream",
     "text": [
      "/Users/jessecoulter/Downloads/FIN377/CEOPersonalities-/matched_pictures/Keith D. Jackson/2016\n"
     ]
    },
    {
     "name": "stderr",
     "output_type": "stream",
     "text": [
      "\n",
      "Finding actions:   0%|                                    | 0/4 [00:00<?, ?it/s]\u001b[A\n",
      "Action: age:   0%|                                        | 0/4 [00:00<?, ?it/s]\u001b[A\n",
      "Action: age:  25%|████████                        | 1/4 [00:00<00:00,  4.20it/s]\u001b[A\n",
      "Action: gender:  25%|███████▎                     | 1/4 [00:00<00:00,  4.20it/s]\u001b[A\n",
      "Action: gender:  50%|██████████████▌              | 2/4 [00:00<00:00,  4.27it/s]\u001b[A\n",
      "Action: race:  50%|███████████████▌               | 2/4 [00:00<00:00,  4.27it/s]\u001b[A\n",
      "Action: race:  75%|███████████████████████▎       | 3/4 [00:00<00:00,  4.25it/s]\u001b[A\n",
      "Action: emotion: 100%|████████████████████████████| 4/4 [00:00<00:00,  5.54it/s]\u001b[A\n",
      "427it [06:54,  1.37it/s]"
     ]
    },
    {
     "name": "stdout",
     "output_type": "stream",
     "text": [
      "/Users/jessecoulter/Downloads/FIN377/CEOPersonalities-/matched_pictures/Keith D. Jackson/2017\n"
     ]
    },
    {
     "name": "stderr",
     "output_type": "stream",
     "text": [
      "\n",
      "Finding actions:   0%|                                    | 0/4 [00:00<?, ?it/s]\u001b[A\n",
      "Action: age:   0%|                                        | 0/4 [00:00<?, ?it/s]\u001b[A\n",
      "Action: age:  25%|████████                        | 1/4 [00:00<00:00,  4.28it/s]\u001b[A\n",
      "Action: gender:  25%|███████▎                     | 1/4 [00:00<00:00,  4.28it/s]\u001b[A\n",
      "Action: gender:  50%|██████████████▌              | 2/4 [00:00<00:00,  4.16it/s]\u001b[A\n",
      "Action: race:  50%|███████████████▌               | 2/4 [00:00<00:00,  4.16it/s]\u001b[A\n",
      "Action: race:  75%|███████████████████████▎       | 3/4 [00:00<00:00,  4.22it/s]\u001b[A\n",
      "Action: emotion: 100%|████████████████████████████| 4/4 [00:00<00:00,  5.49it/s]\u001b[A\n",
      "430it [06:55,  2.24it/s]"
     ]
    },
    {
     "name": "stdout",
     "output_type": "stream",
     "text": [
      "/Users/jessecoulter/Downloads/FIN377/CEOPersonalities-/matched_pictures/Keith D. Jackson/2018\n",
      "Error analyzing /Users/jessecoulter/Downloads/FIN377/CEOPersonalities-/matched_pictures/Keith D. Jackson/2018/pic1.jpg: Face could not be detected in /Users/jessecoulter/Downloads/FIN377/CEOPersonalities-/matched_pictures/Keith D. Jackson/2018/pic1.jpg.Please confirm that the picture is a face photo or consider to set enforce_detection param to False.\n",
      "/Users/jessecoulter/Downloads/FIN377/CEOPersonalities-/matched_pictures/Keith D. Jackson/2019\n",
      "Error analyzing /Users/jessecoulter/Downloads/FIN377/CEOPersonalities-/matched_pictures/Keith D. Jackson/2019/pic1.jpg: Face could not be detected in /Users/jessecoulter/Downloads/FIN377/CEOPersonalities-/matched_pictures/Keith D. Jackson/2019/pic1.jpg.Please confirm that the picture is a face photo or consider to set enforce_detection param to False.\n",
      "/Users/jessecoulter/Downloads/FIN377/CEOPersonalities-/matched_pictures/Steve Sanghi/2010\n"
     ]
    },
    {
     "name": "stderr",
     "output_type": "stream",
     "text": [
      "\n",
      "Finding actions:   0%|                                    | 0/4 [00:00<?, ?it/s]\u001b[A\n",
      "Action: age:   0%|                                        | 0/4 [00:00<?, ?it/s]\u001b[A\n",
      "Action: age:  25%|████████                        | 1/4 [00:00<00:00,  4.36it/s]\u001b[A\n",
      "Action: gender:  25%|███████▎                     | 1/4 [00:00<00:00,  4.36it/s]\u001b[A\n",
      "Action: gender:  50%|██████████████▌              | 2/4 [00:00<00:00,  4.41it/s]\u001b[A\n",
      "Action: race:  50%|███████████████▌               | 2/4 [00:00<00:00,  4.41it/s]\u001b[A\n",
      "Action: race:  75%|███████████████████████▎       | 3/4 [00:00<00:00,  4.52it/s]\u001b[A\n",
      "Action: emotion: 100%|████████████████████████████| 4/4 [00:00<00:00,  5.83it/s]\u001b[A\n",
      "431it [06:56,  1.82it/s]"
     ]
    },
    {
     "name": "stdout",
     "output_type": "stream",
     "text": [
      "/Users/jessecoulter/Downloads/FIN377/CEOPersonalities-/matched_pictures/Steve Sanghi/2011\n"
     ]
    },
    {
     "name": "stderr",
     "output_type": "stream",
     "text": [
      "\n",
      "Finding actions:   0%|                                    | 0/4 [00:00<?, ?it/s]\u001b[A\n",
      "Action: age:   0%|                                        | 0/4 [00:00<?, ?it/s]\u001b[A\n",
      "Action: age:  25%|████████                        | 1/4 [00:00<00:00,  4.31it/s]\u001b[A\n",
      "Action: gender:  25%|███████▎                     | 1/4 [00:00<00:00,  4.31it/s]\u001b[A\n",
      "Action: gender:  50%|██████████████▌              | 2/4 [00:00<00:00,  4.27it/s]\u001b[A\n",
      "Action: race:  50%|███████████████▌               | 2/4 [00:00<00:00,  4.27it/s]\u001b[A\n",
      "Action: race:  75%|███████████████████████▎       | 3/4 [00:00<00:00,  4.27it/s]\u001b[A\n",
      "Action: emotion: 100%|████████████████████████████| 4/4 [00:00<00:00,  5.55it/s]\u001b[A\n",
      "432it [06:57,  1.66it/s]"
     ]
    },
    {
     "name": "stdout",
     "output_type": "stream",
     "text": [
      "/Users/jessecoulter/Downloads/FIN377/CEOPersonalities-/matched_pictures/Steve Sanghi/2012\n"
     ]
    },
    {
     "name": "stderr",
     "output_type": "stream",
     "text": [
      "\n",
      "Finding actions:   0%|                                    | 0/4 [00:00<?, ?it/s]\u001b[A\n",
      "Action: age:   0%|                                        | 0/4 [00:00<?, ?it/s]\u001b[A\n",
      "Action: age:  25%|████████                        | 1/4 [00:00<00:00,  4.08it/s]\u001b[A\n",
      "Action: gender:  25%|███████▎                     | 1/4 [00:00<00:00,  4.08it/s]\u001b[A\n",
      "Action: gender:  50%|██████████████▌              | 2/4 [00:00<00:00,  4.34it/s]\u001b[A\n",
      "Action: race:  50%|███████████████▌               | 2/4 [00:00<00:00,  4.34it/s]\u001b[A\n",
      "Action: race:  75%|███████████████████████▎       | 3/4 [00:00<00:00,  4.47it/s]\u001b[A\n",
      "Action: emotion: 100%|████████████████████████████| 4/4 [00:00<00:00,  5.74it/s]\u001b[A\n",
      "433it [06:58,  1.56it/s]"
     ]
    },
    {
     "name": "stdout",
     "output_type": "stream",
     "text": [
      "/Users/jessecoulter/Downloads/FIN377/CEOPersonalities-/matched_pictures/Steve Sanghi/2013\n"
     ]
    },
    {
     "name": "stderr",
     "output_type": "stream",
     "text": [
      "\n",
      "Finding actions:   0%|                                    | 0/4 [00:00<?, ?it/s]\u001b[A\n",
      "Action: age:   0%|                                        | 0/4 [00:00<?, ?it/s]\u001b[A\n",
      "Action: age:  25%|████████                        | 1/4 [00:00<00:00,  4.62it/s]\u001b[A\n",
      "Action: gender:  25%|███████▎                     | 1/4 [00:00<00:00,  4.62it/s]\u001b[A\n",
      "Action: gender:  50%|██████████████▌              | 2/4 [00:00<00:00,  4.48it/s]\u001b[A\n",
      "Action: race:  50%|███████████████▌               | 2/4 [00:00<00:00,  4.48it/s]\u001b[A\n",
      "Action: race:  75%|███████████████████████▎       | 3/4 [00:00<00:00,  4.39it/s]\u001b[A\n",
      "Action: emotion: 100%|████████████████████████████| 4/4 [00:00<00:00,  5.76it/s]\u001b[A\n",
      "434it [06:59,  1.37it/s]"
     ]
    },
    {
     "name": "stdout",
     "output_type": "stream",
     "text": [
      "/Users/jessecoulter/Downloads/FIN377/CEOPersonalities-/matched_pictures/Steve Sanghi/2014\n"
     ]
    },
    {
     "name": "stderr",
     "output_type": "stream",
     "text": [
      "\n",
      "Finding actions:   0%|                                    | 0/4 [00:00<?, ?it/s]\u001b[A\n",
      "Action: age:   0%|                                        | 0/4 [00:00<?, ?it/s]\u001b[A\n",
      "Action: age:  25%|████████                        | 1/4 [00:00<00:00,  4.50it/s]\u001b[A\n",
      "Action: gender:  25%|███████▎                     | 1/4 [00:00<00:00,  4.50it/s]\u001b[A\n",
      "Action: gender:  50%|██████████████▌              | 2/4 [00:00<00:00,  4.57it/s]\u001b[A\n",
      "Action: race:  50%|███████████████▌               | 2/4 [00:00<00:00,  4.57it/s]\u001b[A\n",
      "Action: race:  75%|███████████████████████▎       | 3/4 [00:00<00:00,  4.48it/s]\u001b[A\n",
      "Action: emotion: 100%|████████████████████████████| 4/4 [00:00<00:00,  5.85it/s]\u001b[A\n",
      "435it [06:59,  1.28it/s]"
     ]
    },
    {
     "name": "stdout",
     "output_type": "stream",
     "text": [
      "/Users/jessecoulter/Downloads/FIN377/CEOPersonalities-/matched_pictures/Steve Sanghi/2015\n"
     ]
    },
    {
     "name": "stderr",
     "output_type": "stream",
     "text": [
      "\n",
      "Finding actions:   0%|                                    | 0/4 [00:00<?, ?it/s]\u001b[A\n",
      "Action: age:   0%|                                        | 0/4 [00:00<?, ?it/s]\u001b[A\n",
      "Action: age:  25%|████████                        | 1/4 [00:00<00:00,  4.31it/s]\u001b[A\n",
      "Action: gender:  25%|███████▎                     | 1/4 [00:00<00:00,  4.31it/s]\u001b[A\n",
      "Action: gender:  50%|██████████████▌              | 2/4 [00:00<00:00,  4.30it/s]\u001b[A\n",
      "Action: race:  50%|███████████████▌               | 2/4 [00:00<00:00,  4.30it/s]\u001b[A\n",
      "Action: race:  75%|███████████████████████▎       | 3/4 [00:00<00:00,  4.40it/s]\u001b[A\n",
      "Action: emotion: 100%|████████████████████████████| 4/4 [00:00<00:00,  5.70it/s]\u001b[A\n",
      "436it [07:00,  1.28it/s]"
     ]
    },
    {
     "name": "stdout",
     "output_type": "stream",
     "text": [
      "/Users/jessecoulter/Downloads/FIN377/CEOPersonalities-/matched_pictures/Steve Sanghi/2016\n"
     ]
    },
    {
     "name": "stderr",
     "output_type": "stream",
     "text": [
      "\n",
      "Finding actions:   0%|                                    | 0/4 [00:00<?, ?it/s]\u001b[A\n",
      "Action: age:   0%|                                        | 0/4 [00:00<?, ?it/s]\u001b[A\n",
      "Action: age:  25%|████████                        | 1/4 [00:00<00:00,  4.48it/s]\u001b[A\n",
      "Action: gender:  25%|███████▎                     | 1/4 [00:00<00:00,  4.48it/s]\u001b[A\n",
      "Action: gender:  50%|██████████████▌              | 2/4 [00:00<00:00,  4.04it/s]\u001b[A\n",
      "Action: race:  50%|███████████████▌               | 2/4 [00:00<00:00,  4.04it/s]\u001b[A\n",
      "Action: race:  75%|███████████████████████▎       | 3/4 [00:00<00:00,  4.21it/s]\u001b[A\n",
      "Action: emotion: 100%|████████████████████████████| 4/4 [00:00<00:00,  5.49it/s]\u001b[A\n",
      "437it [07:01,  1.27it/s]"
     ]
    },
    {
     "name": "stdout",
     "output_type": "stream",
     "text": [
      "/Users/jessecoulter/Downloads/FIN377/CEOPersonalities-/matched_pictures/Steve Sanghi/2017\n"
     ]
    },
    {
     "name": "stderr",
     "output_type": "stream",
     "text": [
      "\n",
      "Finding actions:   0%|                                    | 0/4 [00:00<?, ?it/s]\u001b[A\n",
      "Action: age:   0%|                                        | 0/4 [00:00<?, ?it/s]\u001b[A\n",
      "Action: age:  25%|████████                        | 1/4 [00:00<00:00,  4.23it/s]\u001b[A\n",
      "Action: gender:  25%|███████▎                     | 1/4 [00:00<00:00,  4.23it/s]\u001b[A\n",
      "Action: gender:  50%|██████████████▌              | 2/4 [00:00<00:00,  4.18it/s]\u001b[A\n",
      "Action: race:  50%|███████████████▌               | 2/4 [00:00<00:00,  4.18it/s]\u001b[A\n",
      "Action: race:  75%|███████████████████████▎       | 3/4 [00:00<00:00,  4.27it/s]\u001b[A\n",
      "Action: emotion: 100%|████████████████████████████| 4/4 [00:00<00:00,  5.54it/s]\u001b[A\n",
      "438it [07:03,  1.00it/s]"
     ]
    },
    {
     "name": "stdout",
     "output_type": "stream",
     "text": [
      "/Users/jessecoulter/Downloads/FIN377/CEOPersonalities-/matched_pictures/Steve Sanghi/2018\n"
     ]
    },
    {
     "name": "stderr",
     "output_type": "stream",
     "text": [
      "\n",
      "Finding actions:   0%|                                    | 0/4 [00:00<?, ?it/s]\u001b[A\n",
      "Action: age:   0%|                                        | 0/4 [00:00<?, ?it/s]\u001b[A\n",
      "Action: age:  25%|████████                        | 1/4 [00:00<00:00,  4.26it/s]\u001b[A\n",
      "Action: gender:  25%|███████▎                     | 1/4 [00:00<00:00,  4.26it/s]\u001b[A\n",
      "Action: gender:  50%|██████████████▌              | 2/4 [00:00<00:00,  4.18it/s]\u001b[A\n",
      "Action: race:  50%|███████████████▌               | 2/4 [00:00<00:00,  4.18it/s]\u001b[A\n",
      "Action: race:  75%|███████████████████████▎       | 3/4 [00:00<00:00,  4.25it/s]\u001b[A\n",
      "Action: emotion: 100%|████████████████████████████| 4/4 [00:00<00:00,  5.50it/s]\u001b[A\n",
      "\n",
      "Finding actions:   0%|                                    | 0/4 [00:00<?, ?it/s]\u001b[A\n",
      "Action: age:   0%|                                        | 0/4 [00:00<?, ?it/s]\u001b[A\n",
      "Action: age:  25%|████████                        | 1/4 [00:00<00:00,  4.19it/s]\u001b[A\n",
      "Action: gender:  25%|███████▎                     | 1/4 [00:00<00:00,  4.19it/s]\u001b[A\n",
      "Action: gender:  50%|██████████████▌              | 2/4 [00:00<00:00,  4.20it/s]\u001b[A\n",
      "Action: race:  50%|███████████████▌               | 2/4 [00:00<00:00,  4.20it/s]\u001b[A\n",
      "Action: race:  75%|███████████████████████▎       | 3/4 [00:00<00:00,  4.23it/s]\u001b[A\n",
      "Action: emotion: 100%|████████████████████████████| 4/4 [00:00<00:00,  5.50it/s]\u001b[A\n",
      "439it [07:05,  1.31s/it]"
     ]
    },
    {
     "name": "stdout",
     "output_type": "stream",
     "text": [
      "/Users/jessecoulter/Downloads/FIN377/CEOPersonalities-/matched_pictures/Steve Sanghi/2019\n"
     ]
    },
    {
     "name": "stderr",
     "output_type": "stream",
     "text": [
      "\n",
      "Finding actions:   0%|                                    | 0/4 [00:00<?, ?it/s]\u001b[A\n",
      "Action: age:   0%|                                        | 0/4 [00:00<?, ?it/s]\u001b[A\n",
      "Action: age:  25%|████████                        | 1/4 [00:00<00:00,  4.30it/s]\u001b[A\n",
      "Action: gender:  25%|███████▎                     | 1/4 [00:00<00:00,  4.30it/s]\u001b[A\n",
      "Action: gender:  50%|██████████████▌              | 2/4 [00:00<00:00,  4.36it/s]\u001b[A\n",
      "Action: race:  50%|███████████████▌               | 2/4 [00:00<00:00,  4.36it/s]\u001b[A\n",
      "Action: race:  75%|███████████████████████▎       | 3/4 [00:00<00:00,  4.44it/s]\u001b[A\n",
      "Action: emotion: 100%|████████████████████████████| 4/4 [00:00<00:00,  5.75it/s]\u001b[A\n",
      "440it [07:06,  1.27s/it]"
     ]
    },
    {
     "name": "stdout",
     "output_type": "stream",
     "text": [
      "/Users/jessecoulter/Downloads/FIN377/CEOPersonalities-/matched_pictures/David J. Aldrich/2010\n",
      "Folder not found: /Users/jessecoulter/Downloads/FIN377/CEOPersonalities-/matched_pictures/David J. Aldrich/2010\n",
      "/Users/jessecoulter/Downloads/FIN377/CEOPersonalities-/matched_pictures/David J. Aldrich/2011\n",
      "Folder not found: /Users/jessecoulter/Downloads/FIN377/CEOPersonalities-/matched_pictures/David J. Aldrich/2011\n",
      "/Users/jessecoulter/Downloads/FIN377/CEOPersonalities-/matched_pictures/David J. Aldrich/2012\n"
     ]
    },
    {
     "name": "stderr",
     "output_type": "stream",
     "text": [
      "\n",
      "Finding actions:   0%|                                    | 0/4 [00:00<?, ?it/s]\u001b[A\n",
      "Action: age:   0%|                                        | 0/4 [00:00<?, ?it/s]\u001b[A\n",
      "Action: age:  25%|████████                        | 1/4 [00:00<00:00,  4.26it/s]\u001b[A\n",
      "Action: gender:  25%|███████▎                     | 1/4 [00:00<00:00,  4.26it/s]\u001b[A\n",
      "Action: gender:  50%|██████████████▌              | 2/4 [00:00<00:00,  4.18it/s]\u001b[A\n",
      "Action: race:  50%|███████████████▌               | 2/4 [00:00<00:00,  4.18it/s]\u001b[A\n",
      "Action: race:  75%|███████████████████████▎       | 3/4 [00:00<00:00,  4.13it/s]\u001b[A\n",
      "Action: emotion: 100%|████████████████████████████| 4/4 [00:00<00:00,  5.40it/s]\u001b[A\n",
      "443it [07:07,  1.41it/s]"
     ]
    },
    {
     "name": "stdout",
     "output_type": "stream",
     "text": [
      "/Users/jessecoulter/Downloads/FIN377/CEOPersonalities-/matched_pictures/David J. Aldrich/2013\n",
      "Folder not found: /Users/jessecoulter/Downloads/FIN377/CEOPersonalities-/matched_pictures/David J. Aldrich/2013\n",
      "/Users/jessecoulter/Downloads/FIN377/CEOPersonalities-/matched_pictures/David J. Aldrich/2014\n",
      "Error analyzing /Users/jessecoulter/Downloads/FIN377/CEOPersonalities-/matched_pictures/David J. Aldrich/2014/pic3.jpg: Face could not be detected in /Users/jessecoulter/Downloads/FIN377/CEOPersonalities-/matched_pictures/David J. Aldrich/2014/pic3.jpg.Please confirm that the picture is a face photo or consider to set enforce_detection param to False.\n",
      "/Users/jessecoulter/Downloads/FIN377/CEOPersonalities-/matched_pictures/David J. Aldrich/2015\n"
     ]
    },
    {
     "name": "stderr",
     "output_type": "stream",
     "text": [
      "\n",
      "Finding actions:   0%|                                    | 0/4 [00:00<?, ?it/s]\u001b[A\n",
      "Action: age:   0%|                                        | 0/4 [00:00<?, ?it/s]\u001b[A\n",
      "Action: age:  25%|████████                        | 1/4 [00:00<00:00,  4.48it/s]\u001b[A\n",
      "Action: gender:  25%|███████▎                     | 1/4 [00:00<00:00,  4.48it/s]\u001b[A\n",
      "Action: gender:  50%|██████████████▌              | 2/4 [00:00<00:00,  4.57it/s]\u001b[A\n",
      "Action: race:  50%|███████████████▌               | 2/4 [00:00<00:00,  4.57it/s]\u001b[A\n",
      "Action: race:  75%|███████████████████████▎       | 3/4 [00:00<00:00,  4.44it/s]\u001b[A\n",
      "Action: emotion: 100%|████████████████████████████| 4/4 [00:00<00:00,  5.79it/s]\u001b[A\n",
      "446it [07:07,  1.97it/s]"
     ]
    },
    {
     "name": "stdout",
     "output_type": "stream",
     "text": [
      "/Users/jessecoulter/Downloads/FIN377/CEOPersonalities-/matched_pictures/David J. Aldrich/2016\n"
     ]
    },
    {
     "name": "stderr",
     "output_type": "stream",
     "text": [
      "\n",
      "Finding actions:   0%|                                    | 0/4 [00:00<?, ?it/s]\u001b[A\n",
      "Action: age:   0%|                                        | 0/4 [00:00<?, ?it/s]\u001b[A\n",
      "Action: age:  25%|████████                        | 1/4 [00:00<00:00,  3.99it/s]\u001b[A\n",
      "Action: gender:  25%|███████▎                     | 1/4 [00:00<00:00,  3.99it/s]\u001b[A\n",
      "Action: gender:  50%|██████████████▌              | 2/4 [00:00<00:00,  4.05it/s]\u001b[A\n",
      "Action: race:  50%|███████████████▌               | 2/4 [00:00<00:00,  4.05it/s]\u001b[A\n",
      "Action: race:  75%|███████████████████████▎       | 3/4 [00:00<00:00,  4.07it/s]\u001b[A\n",
      "Action: emotion: 100%|████████████████████████████| 4/4 [00:00<00:00,  5.29it/s]\u001b[A\n",
      "447it [07:08,  1.80it/s]"
     ]
    },
    {
     "name": "stdout",
     "output_type": "stream",
     "text": [
      "/Users/jessecoulter/Downloads/FIN377/CEOPersonalities-/matched_pictures/David J. Aldrich/2017\n"
     ]
    },
    {
     "name": "stderr",
     "output_type": "stream",
     "text": [
      "\n",
      "Finding actions:   0%|                                    | 0/4 [00:00<?, ?it/s]\u001b[A\n",
      "Action: age:   0%|                                        | 0/4 [00:00<?, ?it/s]\u001b[A\n",
      "Action: age:  25%|████████                        | 1/4 [00:00<00:00,  4.08it/s]\u001b[A\n",
      "Action: gender:  25%|███████▎                     | 1/4 [00:00<00:00,  4.08it/s]\u001b[A\n",
      "Action: gender:  50%|██████████████▌              | 2/4 [00:00<00:00,  4.41it/s]\u001b[A\n",
      "Action: race:  50%|███████████████▌               | 2/4 [00:00<00:00,  4.41it/s]\u001b[A\n",
      "Action: race:  75%|███████████████████████▎       | 3/4 [00:00<00:00,  4.30it/s]\u001b[A\n",
      "Action: emotion: 100%|████████████████████████████| 4/4 [00:00<00:00,  5.59it/s]\u001b[A\n",
      "448it [07:09,  1.66it/s]"
     ]
    },
    {
     "name": "stdout",
     "output_type": "stream",
     "text": [
      "/Users/jessecoulter/Downloads/FIN377/CEOPersonalities-/matched_pictures/Liam Griffin/2018\n"
     ]
    },
    {
     "name": "stderr",
     "output_type": "stream",
     "text": [
      "\n",
      "Finding actions:   0%|                                    | 0/4 [00:00<?, ?it/s]\u001b[A\n",
      "Action: age:   0%|                                        | 0/4 [00:00<?, ?it/s]\u001b[A\n",
      "Action: age:  25%|████████                        | 1/4 [00:00<00:00,  4.32it/s]\u001b[A\n",
      "Action: gender:  25%|███████▎                     | 1/4 [00:00<00:00,  4.32it/s]\u001b[A\n",
      "Action: gender:  50%|██████████████▌              | 2/4 [00:00<00:00,  4.39it/s]\u001b[A\n",
      "Action: race:  50%|███████████████▌               | 2/4 [00:00<00:00,  4.39it/s]\u001b[A\n",
      "Action: race:  75%|███████████████████████▎       | 3/4 [00:00<00:00,  4.36it/s]\u001b[A\n",
      "Action: emotion: 100%|████████████████████████████| 4/4 [00:00<00:00,  5.68it/s]\u001b[A\n",
      "449it [07:10,  1.57it/s]libpng warning: iCCP: known incorrect sRGB profile\n"
     ]
    },
    {
     "name": "stdout",
     "output_type": "stream",
     "text": [
      "/Users/jessecoulter/Downloads/FIN377/CEOPersonalities-/matched_pictures/Liam Griffin/2019\n",
      "Error analyzing /Users/jessecoulter/Downloads/FIN377/CEOPersonalities-/matched_pictures/Liam Griffin/2019/pic4.png: Face could not be detected in /Users/jessecoulter/Downloads/FIN377/CEOPersonalities-/matched_pictures/Liam Griffin/2019/pic4.png.Please confirm that the picture is a face photo or consider to set enforce_detection param to False.\n",
      "/Users/jessecoulter/Downloads/FIN377/CEOPersonalities-/matched_pictures/Michael Hsing/2010\n"
     ]
    },
    {
     "name": "stderr",
     "output_type": "stream",
     "text": [
      "\n",
      "Finding actions:   0%|                                    | 0/4 [00:00<?, ?it/s]\u001b[A\n",
      "Action: age:   0%|                                        | 0/4 [00:00<?, ?it/s]\u001b[A\n",
      "Action: age:  25%|████████                        | 1/4 [00:00<00:00,  4.33it/s]\u001b[A\n",
      "Action: gender:  25%|███████▎                     | 1/4 [00:00<00:00,  4.33it/s]\u001b[A\n",
      "Action: gender:  50%|██████████████▌              | 2/4 [00:00<00:00,  4.33it/s]\u001b[A\n",
      "Action: race:  50%|███████████████▌               | 2/4 [00:00<00:00,  4.33it/s]\u001b[A\n",
      "Action: race:  75%|███████████████████████▎       | 3/4 [00:00<00:00,  4.42it/s]\u001b[A\n",
      "Action: emotion: 100%|████████████████████████████| 4/4 [00:00<00:00,  5.72it/s]\u001b[A\n",
      "451it [07:11,  1.73it/s]"
     ]
    },
    {
     "name": "stdout",
     "output_type": "stream",
     "text": [
      "/Users/jessecoulter/Downloads/FIN377/CEOPersonalities-/matched_pictures/Michael Hsing/2011\n",
      "Folder not found: /Users/jessecoulter/Downloads/FIN377/CEOPersonalities-/matched_pictures/Michael Hsing/2011\n",
      "/Users/jessecoulter/Downloads/FIN377/CEOPersonalities-/matched_pictures/Michael Hsing/2012\n"
     ]
    },
    {
     "name": "stderr",
     "output_type": "stream",
     "text": [
      "\n",
      "Finding actions:   0%|                                    | 0/4 [00:00<?, ?it/s]\u001b[A\n",
      "Action: age:   0%|                                        | 0/4 [00:00<?, ?it/s]\u001b[A\n",
      "Action: age:  25%|████████                        | 1/4 [00:00<00:00,  4.59it/s]\u001b[A\n",
      "Action: gender:  25%|███████▎                     | 1/4 [00:00<00:00,  4.59it/s]\u001b[A\n",
      "Action: gender:  50%|██████████████▌              | 2/4 [00:00<00:00,  4.54it/s]\u001b[A\n",
      "Action: race:  50%|███████████████▌               | 2/4 [00:00<00:00,  4.54it/s]\u001b[A\n",
      "Action: race:  75%|███████████████████████▎       | 3/4 [00:00<00:00,  4.50it/s]\u001b[A\n",
      "Action: emotion: 100%|████████████████████████████| 4/4 [00:00<00:00,  5.88it/s]\u001b[A\n",
      "453it [07:11,  1.90it/s]"
     ]
    },
    {
     "name": "stdout",
     "output_type": "stream",
     "text": [
      "/Users/jessecoulter/Downloads/FIN377/CEOPersonalities-/matched_pictures/Michael Hsing/2013\n",
      "Folder not found: /Users/jessecoulter/Downloads/FIN377/CEOPersonalities-/matched_pictures/Michael Hsing/2013\n",
      "/Users/jessecoulter/Downloads/FIN377/CEOPersonalities-/matched_pictures/Michael Hsing/2014\n",
      "Error analyzing /Users/jessecoulter/Downloads/FIN377/CEOPersonalities-/matched_pictures/Michael Hsing/2014/pic1.jpg: Face could not be detected in /Users/jessecoulter/Downloads/FIN377/CEOPersonalities-/matched_pictures/Michael Hsing/2014/pic1.jpg.Please confirm that the picture is a face photo or consider to set enforce_detection param to False.\n",
      "/Users/jessecoulter/Downloads/FIN377/CEOPersonalities-/matched_pictures/Michael Hsing/2015\n"
     ]
    },
    {
     "name": "stderr",
     "output_type": "stream",
     "text": [
      "\n",
      "Finding actions:   0%|                                    | 0/4 [00:00<?, ?it/s]\u001b[A\n",
      "Action: age:   0%|                                        | 0/4 [00:00<?, ?it/s]\u001b[A\n",
      "Action: age:  25%|████████                        | 1/4 [00:00<00:00,  4.61it/s]\u001b[A\n",
      "Action: gender:  25%|███████▎                     | 1/4 [00:00<00:00,  4.61it/s]\u001b[A\n",
      "Action: gender:  50%|██████████████▌              | 2/4 [00:00<00:00,  4.50it/s]\u001b[A\n",
      "Action: race:  50%|███████████████▌               | 2/4 [00:00<00:00,  4.50it/s]\u001b[A\n",
      "Action: race:  75%|███████████████████████▎       | 3/4 [00:00<00:00,  4.58it/s]\u001b[A\n",
      "Action: emotion: 100%|████████████████████████████| 4/4 [00:00<00:00,  5.95it/s]\u001b[A\n",
      "456it [07:12,  2.35it/s]"
     ]
    },
    {
     "name": "stdout",
     "output_type": "stream",
     "text": [
      "/Users/jessecoulter/Downloads/FIN377/CEOPersonalities-/matched_pictures/Michael Hsing/2016\n"
     ]
    },
    {
     "name": "stderr",
     "output_type": "stream",
     "text": [
      "\n",
      "Finding actions:   0%|                                    | 0/4 [00:00<?, ?it/s]\u001b[A\n",
      "Action: age:   0%|                                        | 0/4 [00:00<?, ?it/s]\u001b[A\n",
      "Action: age:  25%|████████                        | 1/4 [00:00<00:00,  4.70it/s]\u001b[A\n",
      "Action: gender:  25%|███████▎                     | 1/4 [00:00<00:00,  4.70it/s]\u001b[A\n",
      "Action: gender:  50%|██████████████▌              | 2/4 [00:00<00:00,  4.72it/s]\u001b[A\n",
      "Action: race:  50%|███████████████▌               | 2/4 [00:00<00:00,  4.72it/s]\u001b[A\n",
      "Action: race:  75%|███████████████████████▎       | 3/4 [00:00<00:00,  4.70it/s]\u001b[A\n",
      "Action: emotion: 100%|████████████████████████████| 4/4 [00:00<00:00,  6.12it/s]\u001b[A\n",
      "457it [07:13,  2.02it/s]"
     ]
    },
    {
     "name": "stdout",
     "output_type": "stream",
     "text": [
      "/Users/jessecoulter/Downloads/FIN377/CEOPersonalities-/matched_pictures/Michael Hsing/2017\n"
     ]
    },
    {
     "name": "stderr",
     "output_type": "stream",
     "text": [
      "\n",
      "Finding actions:   0%|                                    | 0/4 [00:00<?, ?it/s]\u001b[A\n",
      "Action: age:   0%|                                        | 0/4 [00:00<?, ?it/s]\u001b[A\n",
      "Action: age:  25%|████████                        | 1/4 [00:00<00:00,  4.69it/s]\u001b[A\n",
      "Action: gender:  25%|███████▎                     | 1/4 [00:00<00:00,  4.69it/s]\u001b[A\n",
      "Action: gender:  50%|██████████████▌              | 2/4 [00:00<00:00,  4.59it/s]\u001b[A\n",
      "Action: race:  50%|███████████████▌               | 2/4 [00:00<00:00,  4.59it/s]\u001b[A\n",
      "Action: race:  75%|███████████████████████▎       | 3/4 [00:00<00:00,  4.62it/s]\u001b[A\n",
      "Action: emotion: 100%|████████████████████████████| 4/4 [00:00<00:00,  6.01it/s]\u001b[A\n",
      "458it [07:14,  1.78it/s]"
     ]
    },
    {
     "name": "stdout",
     "output_type": "stream",
     "text": [
      "/Users/jessecoulter/Downloads/FIN377/CEOPersonalities-/matched_pictures/Michael Hsing/2018\n"
     ]
    },
    {
     "name": "stderr",
     "output_type": "stream",
     "text": [
      "\n",
      "Finding actions:   0%|                                    | 0/4 [00:00<?, ?it/s]\u001b[A\n",
      "Action: age:   0%|                                        | 0/4 [00:00<?, ?it/s]\u001b[A\n",
      "Action: age:  25%|████████                        | 1/4 [00:00<00:00,  4.61it/s]\u001b[A\n",
      "Action: gender:  25%|███████▎                     | 1/4 [00:00<00:00,  4.61it/s]\u001b[A\n",
      "Action: gender:  50%|██████████████▌              | 2/4 [00:00<00:00,  4.63it/s]\u001b[A\n",
      "Action: race:  50%|███████████████▌               | 2/4 [00:00<00:00,  4.63it/s]\u001b[A\n",
      "Action: race:  75%|███████████████████████▎       | 3/4 [00:00<00:00,  4.47it/s]\u001b[A\n",
      "Action: emotion: 100%|████████████████████████████| 4/4 [00:00<00:00,  5.87it/s]\u001b[A\n",
      "459it [07:15,  1.59it/s]"
     ]
    },
    {
     "name": "stdout",
     "output_type": "stream",
     "text": [
      "/Users/jessecoulter/Downloads/FIN377/CEOPersonalities-/matched_pictures/Michael Hsing/2019\n"
     ]
    },
    {
     "name": "stderr",
     "output_type": "stream",
     "text": [
      "\n",
      "Finding actions:   0%|                                    | 0/4 [00:00<?, ?it/s]\u001b[A\n",
      "Action: age:   0%|                                        | 0/4 [00:00<?, ?it/s]\u001b[A\n",
      "Action: age:  25%|████████                        | 1/4 [00:00<00:00,  4.20it/s]\u001b[A\n",
      "Action: gender:  25%|███████▎                     | 1/4 [00:00<00:00,  4.20it/s]\u001b[A\n",
      "Action: gender:  50%|██████████████▌              | 2/4 [00:00<00:00,  4.46it/s]\u001b[A\n",
      "Action: race:  50%|███████████████▌               | 2/4 [00:00<00:00,  4.46it/s]\u001b[A\n",
      "Action: race:  75%|███████████████████████▎       | 3/4 [00:00<00:00,  4.50it/s]\u001b[A\n",
      "Action: emotion: 100%|████████████████████████████| 4/4 [00:00<00:00,  5.81it/s]\u001b[A\n",
      "460it [07:16,  1.46it/s]"
     ]
    },
    {
     "name": "stdout",
     "output_type": "stream",
     "text": [
      "/Users/jessecoulter/Downloads/FIN377/CEOPersonalities-/matched_pictures/Paul Nahi/2010\n"
     ]
    },
    {
     "name": "stderr",
     "output_type": "stream",
     "text": [
      "\n",
      "Finding actions:   0%|                                    | 0/4 [00:00<?, ?it/s]\u001b[A\n",
      "Action: age:   0%|                                        | 0/4 [00:00<?, ?it/s]\u001b[A\n",
      "Action: age:  25%|████████                        | 1/4 [00:00<00:00,  4.42it/s]\u001b[A\n",
      "Action: gender:  25%|███████▎                     | 1/4 [00:00<00:00,  4.42it/s]\u001b[A\n",
      "Action: gender:  50%|██████████████▌              | 2/4 [00:00<00:00,  4.54it/s]\u001b[A\n",
      "Action: race:  50%|███████████████▌               | 2/4 [00:00<00:00,  4.54it/s]\u001b[A\n",
      "Action: race:  75%|███████████████████████▎       | 3/4 [00:00<00:00,  4.55it/s]\u001b[A\n",
      "Action: emotion: 100%|████████████████████████████| 4/4 [00:00<00:00,  5.90it/s]\u001b[A\n",
      "461it [07:16,  1.44it/s]"
     ]
    },
    {
     "name": "stdout",
     "output_type": "stream",
     "text": [
      "/Users/jessecoulter/Downloads/FIN377/CEOPersonalities-/matched_pictures/Paul Nahi/2011\n",
      "Folder not found: /Users/jessecoulter/Downloads/FIN377/CEOPersonalities-/matched_pictures/Paul Nahi/2011\n",
      "/Users/jessecoulter/Downloads/FIN377/CEOPersonalities-/matched_pictures/Paul Nahi/2012\n"
     ]
    },
    {
     "name": "stderr",
     "output_type": "stream",
     "text": [
      "\n",
      "Finding actions:   0%|                                    | 0/4 [00:00<?, ?it/s]\u001b[A\n",
      "Action: age:   0%|                                        | 0/4 [00:00<?, ?it/s]\u001b[A\n",
      "Action: age:  25%|████████                        | 1/4 [00:00<00:00,  4.41it/s]\u001b[A\n",
      "Action: gender:  25%|███████▎                     | 1/4 [00:00<00:00,  4.41it/s]\u001b[A\n",
      "Action: gender:  50%|██████████████▌              | 2/4 [00:00<00:00,  4.53it/s]\u001b[A\n",
      "Action: race:  50%|███████████████▌               | 2/4 [00:00<00:00,  4.53it/s]\u001b[A\n",
      "Action: race:  75%|███████████████████████▎       | 3/4 [00:00<00:00,  4.60it/s]\u001b[A\n",
      "Action: emotion: 100%|████████████████████████████| 4/4 [00:00<00:00,  5.95it/s]\u001b[A\n",
      "463it [07:17,  1.80it/s]"
     ]
    },
    {
     "name": "stdout",
     "output_type": "stream",
     "text": [
      "/Users/jessecoulter/Downloads/FIN377/CEOPersonalities-/matched_pictures/Paul Nahi/2013\n",
      "Folder not found: /Users/jessecoulter/Downloads/FIN377/CEOPersonalities-/matched_pictures/Paul Nahi/2013\n",
      "/Users/jessecoulter/Downloads/FIN377/CEOPersonalities-/matched_pictures/Paul Nahi/2014\n",
      "Error analyzing /Users/jessecoulter/Downloads/FIN377/CEOPersonalities-/matched_pictures/Paul Nahi/2014/pic3.jpg: Face could not be detected in /Users/jessecoulter/Downloads/FIN377/CEOPersonalities-/matched_pictures/Paul Nahi/2014/pic3.jpg.Please confirm that the picture is a face photo or consider to set enforce_detection param to False.\n",
      "/Users/jessecoulter/Downloads/FIN377/CEOPersonalities-/matched_pictures/Paul Nahi/2015\n",
      "Folder not found: /Users/jessecoulter/Downloads/FIN377/CEOPersonalities-/matched_pictures/Paul Nahi/2015\n",
      "/Users/jessecoulter/Downloads/FIN377/CEOPersonalities-/matched_pictures/Paul Nahi/2016\n"
     ]
    },
    {
     "name": "stderr",
     "output_type": "stream",
     "text": [
      "\n",
      "Finding actions:   0%|                                    | 0/4 [00:00<?, ?it/s]\u001b[A\n",
      "Action: age:   0%|                                        | 0/4 [00:00<?, ?it/s]\u001b[A\n",
      "Action: age:  25%|████████                        | 1/4 [00:00<00:00,  4.36it/s]\u001b[A\n",
      "Action: gender:  25%|███████▎                     | 1/4 [00:00<00:00,  4.36it/s]\u001b[A\n",
      "Action: gender:  50%|██████████████▌              | 2/4 [00:00<00:00,  4.55it/s]\u001b[A\n",
      "Action: race:  50%|███████████████▌               | 2/4 [00:00<00:00,  4.55it/s]\u001b[A\n",
      "Action: race:  75%|███████████████████████▎       | 3/4 [00:00<00:00,  4.57it/s]\u001b[A\n",
      "Action: emotion: 100%|████████████████████████████| 4/4 [00:00<00:00,  5.92it/s]\u001b[A\n",
      "467it [07:18,  2.82it/s]"
     ]
    },
    {
     "name": "stdout",
     "output_type": "stream",
     "text": [
      "/Users/jessecoulter/Downloads/FIN377/CEOPersonalities-/matched_pictures/Paul Nahi/2017\n"
     ]
    },
    {
     "name": "stderr",
     "output_type": "stream",
     "text": [
      "\n",
      "Finding actions:   0%|                                    | 0/4 [00:00<?, ?it/s]\u001b[A\n",
      "Action: age:   0%|                                        | 0/4 [00:00<?, ?it/s]\u001b[A\n",
      "Action: age:  25%|████████                        | 1/4 [00:00<00:00,  4.44it/s]\u001b[A\n",
      "Action: gender:  25%|███████▎                     | 1/4 [00:00<00:00,  4.44it/s]\u001b[A\n",
      "Action: gender:  50%|██████████████▌              | 2/4 [00:00<00:00,  4.58it/s]\u001b[A\n",
      "Action: race:  50%|███████████████▌               | 2/4 [00:00<00:00,  4.58it/s]\u001b[A\n",
      "Action: race:  75%|███████████████████████▎       | 3/4 [00:00<00:00,  4.61it/s]\u001b[A\n",
      "Action: emotion: 100%|████████████████████████████| 4/4 [00:00<00:00,  5.97it/s]\u001b[A\n",
      "468it [07:19,  2.41it/s]"
     ]
    },
    {
     "name": "stdout",
     "output_type": "stream",
     "text": [
      "/Users/jessecoulter/Downloads/FIN377/CEOPersonalities-/matched_pictures/Badri Kothandaraman/2018\n"
     ]
    },
    {
     "name": "stderr",
     "output_type": "stream",
     "text": [
      "\n",
      "Finding actions:   0%|                                    | 0/4 [00:00<?, ?it/s]\u001b[A\n",
      "Action: age:   0%|                                        | 0/4 [00:00<?, ?it/s]\u001b[A\n",
      "Action: age:  25%|████████                        | 1/4 [00:00<00:00,  4.52it/s]\u001b[A\n",
      "Action: gender:  25%|███████▎                     | 1/4 [00:00<00:00,  4.52it/s]\u001b[A\n",
      "Action: gender:  50%|██████████████▌              | 2/4 [00:00<00:00,  4.60it/s]\u001b[A\n",
      "Action: race:  50%|███████████████▌               | 2/4 [00:00<00:00,  4.60it/s]\u001b[A\n",
      "Action: race:  75%|███████████████████████▎       | 3/4 [00:00<00:00,  4.64it/s]\u001b[A\n",
      "Action: emotion: 100%|████████████████████████████| 4/4 [00:00<00:00,  6.02it/s]\u001b[A\n",
      "469it [07:19,  2.09it/s]"
     ]
    },
    {
     "name": "stdout",
     "output_type": "stream",
     "text": [
      "/Users/jessecoulter/Downloads/FIN377/CEOPersonalities-/matched_pictures/Badri Kothandaraman/2019\n"
     ]
    },
    {
     "name": "stderr",
     "output_type": "stream",
     "text": [
      "\n",
      "Finding actions:   0%|                                    | 0/4 [00:00<?, ?it/s]\u001b[A\n",
      "Action: age:   0%|                                        | 0/4 [00:00<?, ?it/s]\u001b[A\n",
      "Action: age:  25%|████████                        | 1/4 [00:00<00:00,  4.66it/s]\u001b[A\n",
      "Action: gender:  25%|███████▎                     | 1/4 [00:00<00:00,  4.66it/s]\u001b[A\n",
      "Action: gender:  50%|██████████████▌              | 2/4 [00:00<00:00,  4.69it/s]\u001b[A\n",
      "Action: race:  50%|███████████████▌               | 2/4 [00:00<00:00,  4.69it/s]\u001b[A\n",
      "Action: race:  75%|███████████████████████▎       | 3/4 [00:00<00:00,  4.67it/s]\u001b[A\n",
      "Action: emotion: 100%|████████████████████████████| 4/4 [00:00<00:00,  6.08it/s]\u001b[A\n",
      "470it [07:20,  1.78it/s]"
     ]
    },
    {
     "name": "stdout",
     "output_type": "stream",
     "text": [
      "/Users/jessecoulter/Downloads/FIN377/CEOPersonalities-/matched_pictures/Guy Sella/2010\n"
     ]
    },
    {
     "name": "stderr",
     "output_type": "stream",
     "text": [
      "\n",
      "Finding actions:   0%|                                    | 0/4 [00:00<?, ?it/s]\u001b[A\n",
      "Action: age:   0%|                                        | 0/4 [00:00<?, ?it/s]\u001b[A\n",
      "Action: age:  25%|████████                        | 1/4 [00:00<00:00,  4.30it/s]\u001b[A\n",
      "Action: gender:  25%|███████▎                     | 1/4 [00:00<00:00,  4.30it/s]\u001b[A\n",
      "Action: gender:  50%|██████████████▌              | 2/4 [00:00<00:00,  4.50it/s]\u001b[A\n",
      "Action: race:  50%|███████████████▌               | 2/4 [00:00<00:00,  4.50it/s]\u001b[A\n",
      "Action: race:  75%|███████████████████████▎       | 3/4 [00:00<00:00,  4.41it/s]\u001b[A\n",
      "Action: emotion: 100%|████████████████████████████| 4/4 [00:00<00:00,  5.75it/s]\u001b[A\n",
      "471it [07:21,  1.66it/s]"
     ]
    },
    {
     "name": "stdout",
     "output_type": "stream",
     "text": [
      "/Users/jessecoulter/Downloads/FIN377/CEOPersonalities-/matched_pictures/Guy Sella/2011\n"
     ]
    },
    {
     "name": "stderr",
     "output_type": "stream",
     "text": [
      "\n",
      "Finding actions:   0%|                                    | 0/4 [00:00<?, ?it/s]\u001b[A\n",
      "Action: age:   0%|                                        | 0/4 [00:00<?, ?it/s]\u001b[A\n",
      "Action: age:  25%|████████                        | 1/4 [00:00<00:00,  4.40it/s]\u001b[A\n",
      "Action: gender:  25%|███████▎                     | 1/4 [00:00<00:00,  4.40it/s]\u001b[A\n",
      "Action: gender:  50%|██████████████▌              | 2/4 [00:00<00:00,  4.45it/s]\u001b[A\n",
      "Action: race:  50%|███████████████▌               | 2/4 [00:00<00:00,  4.45it/s]\u001b[A\n",
      "Action: race:  75%|███████████████████████▎       | 3/4 [00:00<00:00,  4.54it/s]\u001b[A\n",
      "Action: emotion: 100%|████████████████████████████| 4/4 [00:00<00:00,  5.87it/s]\u001b[A\n",
      "472it [07:22,  1.58it/s]"
     ]
    },
    {
     "name": "stdout",
     "output_type": "stream",
     "text": [
      "/Users/jessecoulter/Downloads/FIN377/CEOPersonalities-/matched_pictures/Guy Sella/2012\n"
     ]
    },
    {
     "name": "stderr",
     "output_type": "stream",
     "text": [
      "\n",
      "Finding actions:   0%|                                    | 0/4 [00:00<?, ?it/s]\u001b[A\n",
      "Action: age:   0%|                                        | 0/4 [00:00<?, ?it/s]\u001b[A\n",
      "Action: age:  25%|████████                        | 1/4 [00:00<00:00,  4.31it/s]\u001b[A\n",
      "Action: gender:  25%|███████▎                     | 1/4 [00:00<00:00,  4.31it/s]\u001b[A\n",
      "Action: gender:  50%|██████████████▌              | 2/4 [00:00<00:00,  4.48it/s]\u001b[A\n",
      "Action: race:  50%|███████████████▌               | 2/4 [00:00<00:00,  4.48it/s]\u001b[A\n",
      "Action: race:  75%|███████████████████████▎       | 3/4 [00:00<00:00,  4.57it/s]\u001b[A\n",
      "Action: emotion: 100%|████████████████████████████| 4/4 [00:00<00:00,  5.89it/s]\u001b[A\n",
      "473it [07:22,  1.53it/s]"
     ]
    },
    {
     "name": "stdout",
     "output_type": "stream",
     "text": [
      "/Users/jessecoulter/Downloads/FIN377/CEOPersonalities-/matched_pictures/Guy Sella/2013\n"
     ]
    },
    {
     "name": "stderr",
     "output_type": "stream",
     "text": [
      "\n",
      "Finding actions:   0%|                                    | 0/4 [00:00<?, ?it/s]\u001b[A\n",
      "Action: age:   0%|                                        | 0/4 [00:00<?, ?it/s]\u001b[A\n",
      "Action: age:  25%|████████                        | 1/4 [00:00<00:00,  4.41it/s]\u001b[A\n",
      "Action: gender:  25%|███████▎                     | 1/4 [00:00<00:00,  4.41it/s]\u001b[A\n",
      "Action: gender:  50%|██████████████▌              | 2/4 [00:00<00:00,  4.25it/s]\u001b[A\n",
      "Action: race:  50%|███████████████▌               | 2/4 [00:00<00:00,  4.25it/s]\u001b[A\n",
      "Action: race:  75%|███████████████████████▎       | 3/4 [00:00<00:00,  4.21it/s]\u001b[A\n",
      "Action: emotion: 100%|████████████████████████████| 4/4 [00:00<00:00,  5.51it/s]\u001b[A\n",
      "\n",
      "Finding actions:   0%|                                    | 0/4 [00:00<?, ?it/s]\u001b[A\n",
      "Action: age:   0%|                                        | 0/4 [00:00<?, ?it/s]\u001b[A\n",
      "Action: age:  25%|████████                        | 1/4 [00:00<00:00,  4.18it/s]\u001b[A\n",
      "Action: gender:  25%|███████▎                     | 1/4 [00:00<00:00,  4.18it/s]\u001b[A\n",
      "Action: gender:  50%|██████████████▌              | 2/4 [00:00<00:00,  4.11it/s]\u001b[A\n",
      "Action: race:  50%|███████████████▌               | 2/4 [00:00<00:00,  4.11it/s]\u001b[A\n",
      "Action: race:  75%|███████████████████████▎       | 3/4 [00:00<00:00,  4.11it/s]\u001b[A\n",
      "Action: emotion: 100%|████████████████████████████| 4/4 [00:00<00:00,  5.36it/s]\u001b[A\n",
      "\n",
      "Finding actions:   0%|                                    | 0/4 [00:00<?, ?it/s]\u001b[A\n",
      "Action: age:   0%|                                        | 0/4 [00:00<?, ?it/s]\u001b[A\n",
      "Action: age:  25%|████████                        | 1/4 [00:00<00:00,  4.24it/s]\u001b[A\n",
      "Action: gender:  25%|███████▎                     | 1/4 [00:00<00:00,  4.24it/s]\u001b[A\n",
      "Action: gender:  50%|██████████████▌              | 2/4 [00:00<00:00,  4.24it/s]\u001b[A\n",
      "Action: race:  50%|███████████████▌               | 2/4 [00:00<00:00,  4.24it/s]\u001b[A\n",
      "Action: race:  75%|███████████████████████▎       | 3/4 [00:00<00:00,  4.23it/s]\u001b[A\n",
      "Action: emotion: 100%|████████████████████████████| 4/4 [00:00<00:00,  5.51it/s]\u001b[A\n",
      "474it [07:25,  1.09s/it]"
     ]
    },
    {
     "name": "stdout",
     "output_type": "stream",
     "text": [
      "/Users/jessecoulter/Downloads/FIN377/CEOPersonalities-/matched_pictures/Guy Sella/2014\n"
     ]
    },
    {
     "name": "stderr",
     "output_type": "stream",
     "text": [
      "\n",
      "Finding actions:   0%|                                    | 0/4 [00:00<?, ?it/s]\u001b[A\n",
      "Action: age:   0%|                                        | 0/4 [00:00<?, ?it/s]\u001b[A\n",
      "Action: age:  25%|████████                        | 1/4 [00:00<00:00,  4.12it/s]\u001b[A\n",
      "Action: gender:  25%|███████▎                     | 1/4 [00:00<00:00,  4.12it/s]\u001b[A\n",
      "Action: gender:  50%|██████████████▌              | 2/4 [00:00<00:00,  4.17it/s]\u001b[A\n",
      "Action: race:  50%|███████████████▌               | 2/4 [00:00<00:00,  4.17it/s]\u001b[A\n",
      "Action: race:  75%|███████████████████████▎       | 3/4 [00:00<00:00,  4.14it/s]\u001b[A\n",
      "Action: emotion: 100%|████████████████████████████| 4/4 [00:00<00:00,  5.40it/s]\u001b[A\n",
      "475it [07:26,  1.00s/it]"
     ]
    },
    {
     "name": "stdout",
     "output_type": "stream",
     "text": [
      "/Users/jessecoulter/Downloads/FIN377/CEOPersonalities-/matched_pictures/Guy Sella/2015\n",
      "Error analyzing /Users/jessecoulter/Downloads/FIN377/CEOPersonalities-/matched_pictures/Guy Sella/2015/pic1.jpg: Face could not be detected in /Users/jessecoulter/Downloads/FIN377/CEOPersonalities-/matched_pictures/Guy Sella/2015/pic1.jpg.Please confirm that the picture is a face photo or consider to set enforce_detection param to False.\n",
      "/Users/jessecoulter/Downloads/FIN377/CEOPersonalities-/matched_pictures/Guy Sella/2016\n"
     ]
    },
    {
     "name": "stderr",
     "output_type": "stream",
     "text": [
      "\n",
      "Finding actions:   0%|                                    | 0/4 [00:00<?, ?it/s]\u001b[A\n",
      "Action: age:   0%|                                        | 0/4 [00:00<?, ?it/s]\u001b[A\n",
      "Action: age:  25%|████████                        | 1/4 [00:00<00:00,  4.30it/s]\u001b[A\n",
      "Action: gender:  25%|███████▎                     | 1/4 [00:00<00:00,  4.30it/s]\u001b[A\n",
      "Action: gender:  50%|██████████████▌              | 2/4 [00:00<00:00,  4.25it/s]\u001b[A\n",
      "Action: race:  50%|███████████████▌               | 2/4 [00:00<00:00,  4.25it/s]\u001b[A\n",
      "Action: race:  75%|███████████████████████▎       | 3/4 [00:00<00:00,  4.28it/s]\u001b[A\n",
      "Action: emotion: 100%|████████████████████████████| 4/4 [00:00<00:00,  5.57it/s]\u001b[A\n",
      "477it [07:26,  1.38it/s]"
     ]
    },
    {
     "name": "stdout",
     "output_type": "stream",
     "text": [
      "/Users/jessecoulter/Downloads/FIN377/CEOPersonalities-/matched_pictures/Guy Sella/2017\n"
     ]
    },
    {
     "name": "stderr",
     "output_type": "stream",
     "text": [
      "\n",
      "Finding actions:   0%|                                    | 0/4 [00:00<?, ?it/s]\u001b[A\n",
      "Action: age:   0%|                                        | 0/4 [00:00<?, ?it/s]\u001b[A\n",
      "Action: age:  25%|████████                        | 1/4 [00:00<00:00,  4.06it/s]\u001b[A\n",
      "Action: gender:  25%|███████▎                     | 1/4 [00:00<00:00,  4.06it/s]\u001b[A\n",
      "Action: gender:  50%|██████████████▌              | 2/4 [00:00<00:00,  4.30it/s]\u001b[A\n",
      "Action: race:  50%|███████████████▌               | 2/4 [00:00<00:00,  4.30it/s]\u001b[A\n",
      "Action: race:  75%|███████████████████████▎       | 3/4 [00:00<00:00,  4.22it/s]\u001b[A\n",
      "Action: emotion: 100%|████████████████████████████| 4/4 [00:00<00:00,  5.48it/s]\u001b[A\n",
      "478it [07:27,  1.31it/s]"
     ]
    },
    {
     "name": "stdout",
     "output_type": "stream",
     "text": [
      "/Users/jessecoulter/Downloads/FIN377/CEOPersonalities-/matched_pictures/Guy Sella/2018\n"
     ]
    },
    {
     "name": "stderr",
     "output_type": "stream",
     "text": [
      "\n",
      "Finding actions:   0%|                                    | 0/4 [00:00<?, ?it/s]\u001b[A\n",
      "Action: age:   0%|                                        | 0/4 [00:00<?, ?it/s]\u001b[A\n",
      "Action: age:  25%|████████                        | 1/4 [00:00<00:00,  4.16it/s]\u001b[A\n",
      "Action: gender:  25%|███████▎                     | 1/4 [00:00<00:00,  4.16it/s]\u001b[A\n",
      "Action: gender:  50%|██████████████▌              | 2/4 [00:00<00:00,  4.26it/s]\u001b[A\n",
      "Action: race:  50%|███████████████▌               | 2/4 [00:00<00:00,  4.26it/s]\u001b[A\n",
      "Action: race:  75%|███████████████████████▎       | 3/4 [00:00<00:00,  4.29it/s]\u001b[A\n",
      "Action: emotion: 100%|████████████████████████████| 4/4 [00:00<00:00,  5.55it/s]\u001b[A\n",
      "479it [07:28,  1.22it/s]"
     ]
    },
    {
     "name": "stdout",
     "output_type": "stream",
     "text": [
      "/Users/jessecoulter/Downloads/FIN377/CEOPersonalities-/matched_pictures/Zvi Lando/2019\n"
     ]
    },
    {
     "name": "stderr",
     "output_type": "stream",
     "text": [
      "\n",
      "Finding actions:   0%|                                    | 0/4 [00:00<?, ?it/s]\u001b[A\n",
      "Action: age:   0%|                                        | 0/4 [00:00<?, ?it/s]\u001b[A\n",
      "Action: age:  25%|████████                        | 1/4 [00:00<00:00,  4.51it/s]\u001b[A\n",
      "Action: gender:  25%|███████▎                     | 1/4 [00:00<00:00,  4.51it/s]\u001b[A\n",
      "Action: gender:  50%|██████████████▌              | 2/4 [00:00<00:00,  4.41it/s]\u001b[A\n",
      "Action: race:  50%|███████████████▌               | 2/4 [00:00<00:00,  4.41it/s]\u001b[A\n",
      "Action: race:  75%|███████████████████████▎       | 3/4 [00:00<00:00,  4.43it/s]\u001b[A\n",
      "Action: emotion: 100%|████████████████████████████| 4/4 [00:00<00:00,  5.77it/s]\u001b[A\n",
      "480it [07:29,  1.25it/s]"
     ]
    },
    {
     "name": "stdout",
     "output_type": "stream",
     "text": [
      "/Users/jessecoulter/Downloads/FIN377/CEOPersonalities-/matched_pictures/John Ambroseo/2010\n"
     ]
    },
    {
     "name": "stderr",
     "output_type": "stream",
     "text": [
      "\n",
      "Finding actions:   0%|                                    | 0/4 [00:00<?, ?it/s]\u001b[A\n",
      "Action: age:   0%|                                        | 0/4 [00:00<?, ?it/s]\u001b[A\n",
      "Action: age:  25%|████████                        | 1/4 [00:00<00:00,  4.54it/s]\u001b[A\n",
      "Action: gender:  25%|███████▎                     | 1/4 [00:00<00:00,  4.54it/s]\u001b[A\n",
      "Action: gender:  50%|██████████████▌              | 2/4 [00:00<00:00,  4.52it/s]\u001b[A\n",
      "Action: race:  50%|███████████████▌               | 2/4 [00:00<00:00,  4.52it/s]\u001b[A\n",
      "Action: race:  75%|███████████████████████▎       | 3/4 [00:00<00:00,  4.55it/s]\u001b[A\n",
      "Action: emotion: 100%|████████████████████████████| 4/4 [00:00<00:00,  5.92it/s]\u001b[A\n",
      "481it [07:30,  1.29it/s]"
     ]
    },
    {
     "name": "stdout",
     "output_type": "stream",
     "text": [
      "/Users/jessecoulter/Downloads/FIN377/CEOPersonalities-/matched_pictures/John Ambroseo/2011\n"
     ]
    },
    {
     "name": "stderr",
     "output_type": "stream",
     "text": [
      "\n",
      "Finding actions:   0%|                                    | 0/4 [00:00<?, ?it/s]\u001b[A\n",
      "Action: age:   0%|                                        | 0/4 [00:00<?, ?it/s]\u001b[A\n",
      "Action: age:  25%|████████                        | 1/4 [00:00<00:00,  4.37it/s]\u001b[A\n",
      "Action: gender:  25%|███████▎                     | 1/4 [00:00<00:00,  4.37it/s]\u001b[A\n",
      "Action: gender:  50%|██████████████▌              | 2/4 [00:00<00:00,  4.51it/s]\u001b[A\n",
      "Action: race:  50%|███████████████▌               | 2/4 [00:00<00:00,  4.51it/s]\u001b[A\n",
      "Action: race:  75%|███████████████████████▎       | 3/4 [00:00<00:00,  4.46it/s]\u001b[A\n",
      "Action: emotion: 100%|████████████████████████████| 4/4 [00:00<00:00,  5.81it/s]\u001b[A\n",
      "482it [07:30,  1.32it/s]"
     ]
    },
    {
     "name": "stdout",
     "output_type": "stream",
     "text": [
      "/Users/jessecoulter/Downloads/FIN377/CEOPersonalities-/matched_pictures/John Ambroseo/2012\n"
     ]
    },
    {
     "name": "stderr",
     "output_type": "stream",
     "text": [
      "\n",
      "Finding actions:   0%|                                    | 0/4 [00:00<?, ?it/s]\u001b[A\n",
      "Action: age:   0%|                                        | 0/4 [00:00<?, ?it/s]\u001b[A\n",
      "Action: age:  25%|████████                        | 1/4 [00:00<00:00,  4.35it/s]\u001b[A\n",
      "Action: gender:  25%|███████▎                     | 1/4 [00:00<00:00,  4.35it/s]\u001b[A\n",
      "Action: gender:  50%|██████████████▌              | 2/4 [00:00<00:00,  4.32it/s]\u001b[A\n",
      "Action: race:  50%|███████████████▌               | 2/4 [00:00<00:00,  4.32it/s]\u001b[A\n",
      "Action: race:  75%|███████████████████████▎       | 3/4 [00:00<00:00,  4.41it/s]\u001b[A\n",
      "Action: emotion: 100%|████████████████████████████| 4/4 [00:00<00:00,  5.68it/s]\u001b[A\n",
      "484it [07:31,  1.74it/s]"
     ]
    },
    {
     "name": "stdout",
     "output_type": "stream",
     "text": [
      "/Users/jessecoulter/Downloads/FIN377/CEOPersonalities-/matched_pictures/John Ambroseo/2013\n",
      "Error analyzing /Users/jessecoulter/Downloads/FIN377/CEOPersonalities-/matched_pictures/John Ambroseo/2013/pic2.jpg: Face could not be detected in /Users/jessecoulter/Downloads/FIN377/CEOPersonalities-/matched_pictures/John Ambroseo/2013/pic2.jpg.Please confirm that the picture is a face photo or consider to set enforce_detection param to False.\n",
      "/Users/jessecoulter/Downloads/FIN377/CEOPersonalities-/matched_pictures/John Ambroseo/2014\n"
     ]
    },
    {
     "name": "stderr",
     "output_type": "stream",
     "text": [
      "\n",
      "Finding actions:   0%|                                    | 0/4 [00:00<?, ?it/s]\u001b[A\n",
      "Action: age:   0%|                                        | 0/4 [00:00<?, ?it/s]\u001b[A\n",
      "Action: age:  25%|████████                        | 1/4 [00:00<00:00,  4.80it/s]\u001b[A\n",
      "Action: gender:  25%|███████▎                     | 1/4 [00:00<00:00,  4.80it/s]\u001b[A\n",
      "Action: gender:  50%|██████████████▌              | 2/4 [00:00<00:00,  4.57it/s]\u001b[A\n",
      "Action: race:  50%|███████████████▌               | 2/4 [00:00<00:00,  4.57it/s]\u001b[A\n",
      "Action: race:  75%|███████████████████████▎       | 3/4 [00:00<00:00,  4.39it/s]\u001b[A\n",
      "Action: emotion: 100%|████████████████████████████| 4/4 [00:00<00:00,  5.80it/s]\u001b[A\n",
      "485it [07:32,  1.62it/s]"
     ]
    },
    {
     "name": "stdout",
     "output_type": "stream",
     "text": [
      "/Users/jessecoulter/Downloads/FIN377/CEOPersonalities-/matched_pictures/John Ambroseo/2015\n"
     ]
    },
    {
     "name": "stderr",
     "output_type": "stream",
     "text": [
      "\n",
      "Finding actions:   0%|                                    | 0/4 [00:00<?, ?it/s]\u001b[A\n",
      "Action: age:   0%|                                        | 0/4 [00:00<?, ?it/s]\u001b[A\n",
      "Action: age:  25%|████████                        | 1/4 [00:00<00:00,  4.37it/s]\u001b[A\n",
      "Action: gender:  25%|███████▎                     | 1/4 [00:00<00:00,  4.37it/s]\u001b[A\n",
      "Action: gender:  50%|██████████████▌              | 2/4 [00:00<00:00,  4.39it/s]\u001b[A\n",
      "Action: race:  50%|███████████████▌               | 2/4 [00:00<00:00,  4.39it/s]\u001b[A\n",
      "Action: race:  75%|███████████████████████▎       | 3/4 [00:00<00:00,  4.34it/s]\u001b[A\n",
      "Action: emotion: 100%|████████████████████████████| 4/4 [00:00<00:00,  5.66it/s]\u001b[A\n",
      "486it [07:33,  1.53it/s]"
     ]
    },
    {
     "name": "stdout",
     "output_type": "stream",
     "text": [
      "/Users/jessecoulter/Downloads/FIN377/CEOPersonalities-/matched_pictures/John Ambroseo/2016\n"
     ]
    },
    {
     "name": "stderr",
     "output_type": "stream",
     "text": [
      "\n",
      "Finding actions:   0%|                                    | 0/4 [00:00<?, ?it/s]\u001b[A\n",
      "Action: age:   0%|                                        | 0/4 [00:00<?, ?it/s]\u001b[A\n",
      "Action: age:  25%|████████                        | 1/4 [00:00<00:00,  4.43it/s]\u001b[A\n",
      "Action: gender:  25%|███████▎                     | 1/4 [00:00<00:00,  4.43it/s]\u001b[A\n",
      "Action: gender:  50%|██████████████▌              | 2/4 [00:00<00:00,  4.40it/s]\u001b[A\n",
      "Action: race:  50%|███████████████▌               | 2/4 [00:00<00:00,  4.40it/s]\u001b[A\n",
      "Action: race:  75%|███████████████████████▎       | 3/4 [00:00<00:00,  4.35it/s]\u001b[A\n",
      "Action: emotion: 100%|████████████████████████████| 4/4 [00:00<00:00,  5.68it/s]\u001b[A\n",
      "487it [07:33,  1.45it/s]"
     ]
    },
    {
     "name": "stdout",
     "output_type": "stream",
     "text": [
      "/Users/jessecoulter/Downloads/FIN377/CEOPersonalities-/matched_pictures/John Ambroseo/2017\n"
     ]
    },
    {
     "name": "stderr",
     "output_type": "stream",
     "text": [
      "\n",
      "Finding actions:   0%|                                    | 0/4 [00:00<?, ?it/s]\u001b[A\n",
      "Action: age:   0%|                                        | 0/4 [00:00<?, ?it/s]\u001b[A\n",
      "Action: age:  25%|████████                        | 1/4 [00:00<00:00,  4.34it/s]\u001b[A\n",
      "Action: gender:  25%|███████▎                     | 1/4 [00:00<00:00,  4.34it/s]\u001b[A\n",
      "Action: gender:  50%|██████████████▌              | 2/4 [00:00<00:00,  4.51it/s]\u001b[A\n",
      "Action: race:  50%|███████████████▌               | 2/4 [00:00<00:00,  4.51it/s]\u001b[A\n",
      "Action: race:  75%|███████████████████████▎       | 3/4 [00:00<00:00,  4.59it/s]\u001b[A\n",
      "Action: emotion: 100%|████████████████████████████| 4/4 [00:00<00:00,  5.92it/s]\u001b[A\n",
      "488it [07:34,  1.44it/s]"
     ]
    },
    {
     "name": "stdout",
     "output_type": "stream",
     "text": [
      "/Users/jessecoulter/Downloads/FIN377/CEOPersonalities-/matched_pictures/John Ambroseo/2018\n"
     ]
    },
    {
     "name": "stderr",
     "output_type": "stream",
     "text": [
      "\n",
      "Finding actions:   0%|                                    | 0/4 [00:00<?, ?it/s]\u001b[A\n",
      "Action: age:   0%|                                        | 0/4 [00:00<?, ?it/s]\u001b[A\n",
      "Action: age:  25%|████████                        | 1/4 [00:00<00:00,  4.16it/s]\u001b[A\n",
      "Action: gender:  25%|███████▎                     | 1/4 [00:00<00:00,  4.16it/s]\u001b[A\n",
      "Action: gender:  50%|██████████████▌              | 2/4 [00:00<00:00,  4.40it/s]\u001b[A\n",
      "Action: race:  50%|███████████████▌               | 2/4 [00:00<00:00,  4.40it/s]\u001b[A\n",
      "Action: race:  75%|███████████████████████▎       | 3/4 [00:00<00:00,  4.46it/s]\u001b[A\n",
      "Action: emotion: 100%|████████████████████████████| 4/4 [00:00<00:00,  5.75it/s]\u001b[A\n",
      "489it [07:35,  1.42it/s]"
     ]
    },
    {
     "name": "stdout",
     "output_type": "stream",
     "text": [
      "/Users/jessecoulter/Downloads/FIN377/CEOPersonalities-/matched_pictures/John Ambroseo/2019\n"
     ]
    },
    {
     "name": "stderr",
     "output_type": "stream",
     "text": [
      "\n",
      "Finding actions:   0%|                                    | 0/4 [00:00<?, ?it/s]\u001b[A\n",
      "Action: age:   0%|                                        | 0/4 [00:00<?, ?it/s]\u001b[A\n",
      "Action: age:  25%|████████                        | 1/4 [00:00<00:00,  4.64it/s]\u001b[A\n",
      "Action: gender:  25%|███████▎                     | 1/4 [00:00<00:00,  4.64it/s]\u001b[A\n",
      "Action: gender:  50%|██████████████▌              | 2/4 [00:00<00:00,  4.62it/s]\u001b[A\n",
      "Action: race:  50%|███████████████▌               | 2/4 [00:00<00:00,  4.62it/s]\u001b[A\n",
      "Action: race:  75%|███████████████████████▎       | 3/4 [00:00<00:00,  4.62it/s]\u001b[A\n",
      "Action: emotion: 100%|████████████████████████████| 4/4 [00:00<00:00,  6.01it/s]\u001b[A\n",
      "\n",
      "Finding actions:   0%|                                    | 0/4 [00:00<?, ?it/s]\u001b[A\n",
      "Action: age:   0%|                                        | 0/4 [00:00<?, ?it/s]\u001b[A\n",
      "Action: age:  25%|████████                        | 1/4 [00:00<00:00,  4.35it/s]\u001b[A\n",
      "Action: gender:  25%|███████▎                     | 1/4 [00:00<00:00,  4.35it/s]\u001b[A\n",
      "Action: gender:  50%|██████████████▌              | 2/4 [00:00<00:00,  4.45it/s]\u001b[A\n",
      "Action: race:  50%|███████████████▌               | 2/4 [00:00<00:00,  4.45it/s]\u001b[A\n",
      "Action: race:  75%|███████████████████████▎       | 3/4 [00:00<00:00,  4.53it/s]\u001b[A\n",
      "Action: emotion: 100%|████████████████████████████| 4/4 [00:00<00:00,  5.86it/s]\u001b[A\n",
      "490it [07:38,  1.29s/it]"
     ]
    },
    {
     "name": "stdout",
     "output_type": "stream",
     "text": [
      "/Users/jessecoulter/Downloads/FIN377/CEOPersonalities-/matched_pictures/Michael A. Bradley/2010\n",
      "Folder not found: /Users/jessecoulter/Downloads/FIN377/CEOPersonalities-/matched_pictures/Michael A. Bradley/2010\n",
      "/Users/jessecoulter/Downloads/FIN377/CEOPersonalities-/matched_pictures/Michael A. Bradley/2011\n"
     ]
    },
    {
     "name": "stderr",
     "output_type": "stream",
     "text": [
      "\n",
      "Finding actions:   0%|                                    | 0/4 [00:00<?, ?it/s]\u001b[A\n",
      "Action: age:   0%|                                        | 0/4 [00:00<?, ?it/s]\u001b[A\n",
      "Action: age:  25%|████████                        | 1/4 [00:00<00:00,  4.36it/s]\u001b[A\n",
      "Action: gender:  25%|███████▎                     | 1/4 [00:00<00:00,  4.36it/s]\u001b[A\n",
      "Action: gender:  50%|██████████████▌              | 2/4 [00:00<00:00,  4.35it/s]\u001b[A\n",
      "Action: race:  50%|███████████████▌               | 2/4 [00:00<00:00,  4.35it/s]\u001b[A\n",
      "Action: race:  75%|███████████████████████▎       | 3/4 [00:00<00:00,  4.42it/s]\u001b[A\n",
      "Action: emotion: 100%|████████████████████████████| 4/4 [00:00<00:00,  5.73it/s]\u001b[A\n",
      "492it [07:38,  1.15it/s]"
     ]
    },
    {
     "name": "stdout",
     "output_type": "stream",
     "text": [
      "/Users/jessecoulter/Downloads/FIN377/CEOPersonalities-/matched_pictures/Michael A. Bradley/2012\n",
      "Error analyzing /Users/jessecoulter/Downloads/FIN377/CEOPersonalities-/matched_pictures/Michael A. Bradley/2012/pic1.jpg: Face could not be detected in /Users/jessecoulter/Downloads/FIN377/CEOPersonalities-/matched_pictures/Michael A. Bradley/2012/pic1.jpg.Please confirm that the picture is a face photo or consider to set enforce_detection param to False.\n",
      "/Users/jessecoulter/Downloads/FIN377/CEOPersonalities-/matched_pictures/Mark E. Jagiela/2013\n",
      "Error analyzing /Users/jessecoulter/Downloads/FIN377/CEOPersonalities-/matched_pictures/Mark E. Jagiela/2013/pic4.jpg: Face could not be detected in /Users/jessecoulter/Downloads/FIN377/CEOPersonalities-/matched_pictures/Mark E. Jagiela/2013/pic4.jpg.Please confirm that the picture is a face photo or consider to set enforce_detection param to False.\n",
      "/Users/jessecoulter/Downloads/FIN377/CEOPersonalities-/matched_pictures/Mark E. Jagiela/2014\n"
     ]
    },
    {
     "name": "stderr",
     "output_type": "stream",
     "text": [
      "\n",
      "Finding actions:   0%|                                    | 0/4 [00:00<?, ?it/s]\u001b[A\n",
      "Action: age:   0%|                                        | 0/4 [00:00<?, ?it/s]\u001b[A\n",
      "Action: age:  25%|████████                        | 1/4 [00:00<00:00,  4.18it/s]\u001b[A\n",
      "Action: gender:  25%|███████▎                     | 1/4 [00:00<00:00,  4.18it/s]\u001b[A\n",
      "Action: gender:  50%|██████████████▌              | 2/4 [00:00<00:00,  4.30it/s]\u001b[A\n",
      "Action: race:  50%|███████████████▌               | 2/4 [00:00<00:00,  4.30it/s]\u001b[A\n",
      "Action: race:  75%|███████████████████████▎       | 3/4 [00:00<00:00,  4.37it/s]\u001b[A\n",
      "Action: emotion: 100%|████████████████████████████| 4/4 [00:00<00:00,  5.65it/s]\u001b[A\n",
      "495it [07:39,  1.73it/s]"
     ]
    },
    {
     "name": "stdout",
     "output_type": "stream",
     "text": [
      "/Users/jessecoulter/Downloads/FIN377/CEOPersonalities-/matched_pictures/Mark E. Jagiela/2015\n"
     ]
    },
    {
     "name": "stderr",
     "output_type": "stream",
     "text": [
      "\n",
      "Finding actions:   0%|                                    | 0/4 [00:00<?, ?it/s]\u001b[A\n",
      "Action: age:   0%|                                        | 0/4 [00:00<?, ?it/s]\u001b[A\n",
      "Action: age:  25%|████████                        | 1/4 [00:00<00:00,  4.44it/s]\u001b[A\n",
      "Action: gender:  25%|███████▎                     | 1/4 [00:00<00:00,  4.44it/s]\u001b[A\n",
      "Action: gender:  50%|██████████████▌              | 2/4 [00:00<00:00,  4.46it/s]\u001b[A\n",
      "Action: race:  50%|███████████████▌               | 2/4 [00:00<00:00,  4.46it/s]\u001b[A\n",
      "Action: race:  75%|███████████████████████▎       | 3/4 [00:00<00:00,  4.50it/s]\u001b[A\n",
      "Action: emotion: 100%|████████████████████████████| 4/4 [00:00<00:00,  5.84it/s]\u001b[A\n",
      "496it [07:40,  1.64it/s]"
     ]
    },
    {
     "name": "stdout",
     "output_type": "stream",
     "text": [
      "/Users/jessecoulter/Downloads/FIN377/CEOPersonalities-/matched_pictures/Mark E. Jagiela/2016\n"
     ]
    },
    {
     "name": "stderr",
     "output_type": "stream",
     "text": [
      "\n",
      "Finding actions:   0%|                                    | 0/4 [00:00<?, ?it/s]\u001b[A\n",
      "Action: age:   0%|                                        | 0/4 [00:00<?, ?it/s]\u001b[A\n",
      "Action: age:  25%|████████                        | 1/4 [00:00<00:00,  4.45it/s]\u001b[A\n",
      "Action: gender:  25%|███████▎                     | 1/4 [00:00<00:00,  4.45it/s]\u001b[A\n",
      "Action: gender:  50%|██████████████▌              | 2/4 [00:00<00:00,  4.49it/s]\u001b[A\n",
      "Action: race:  50%|███████████████▌               | 2/4 [00:00<00:00,  4.49it/s]\u001b[A\n",
      "Action: race:  75%|███████████████████████▎       | 3/4 [00:00<00:00,  4.53it/s]\u001b[A\n",
      "Action: emotion: 100%|████████████████████████████| 4/4 [00:00<00:00,  5.88it/s]\u001b[A\n",
      "497it [07:41,  1.56it/s]"
     ]
    },
    {
     "name": "stdout",
     "output_type": "stream",
     "text": [
      "/Users/jessecoulter/Downloads/FIN377/CEOPersonalities-/matched_pictures/Mark E. Jagiela/2017\n"
     ]
    },
    {
     "name": "stderr",
     "output_type": "stream",
     "text": [
      "\n",
      "Finding actions:   0%|                                    | 0/4 [00:00<?, ?it/s]\u001b[A\n",
      "Action: age:   0%|                                        | 0/4 [00:00<?, ?it/s]\u001b[A\n",
      "Action: age:  25%|████████                        | 1/4 [00:00<00:00,  4.39it/s]\u001b[A\n",
      "Action: gender:  25%|███████▎                     | 1/4 [00:00<00:00,  4.39it/s]\u001b[A\n",
      "Action: gender:  50%|██████████████▌              | 2/4 [00:00<00:00,  4.45it/s]\u001b[A\n",
      "Action: race:  50%|███████████████▌               | 2/4 [00:00<00:00,  4.45it/s]\u001b[A\n",
      "Action: race:  75%|███████████████████████▎       | 3/4 [00:00<00:00,  4.35it/s]\u001b[A\n",
      "Action: emotion: 100%|████████████████████████████| 4/4 [00:00<00:00,  5.69it/s]\u001b[A\n",
      "498it [07:41,  1.49it/s]"
     ]
    },
    {
     "name": "stdout",
     "output_type": "stream",
     "text": [
      "/Users/jessecoulter/Downloads/FIN377/CEOPersonalities-/matched_pictures/Mark E. Jagiela/2018\n"
     ]
    },
    {
     "name": "stderr",
     "output_type": "stream",
     "text": [
      "\n",
      "Finding actions:   0%|                                    | 0/4 [00:00<?, ?it/s]\u001b[A\n",
      "Action: age:   0%|                                        | 0/4 [00:00<?, ?it/s]\u001b[A\n",
      "Action: age:  25%|████████                        | 1/4 [00:00<00:00,  4.59it/s]\u001b[A\n",
      "Action: gender:  25%|███████▎                     | 1/4 [00:00<00:00,  4.59it/s]\u001b[A\n",
      "Action: gender:  50%|██████████████▌              | 2/4 [00:00<00:00,  4.60it/s]\u001b[A\n",
      "Action: race:  50%|███████████████▌               | 2/4 [00:00<00:00,  4.60it/s]\u001b[A\n",
      "Action: race:  75%|███████████████████████▎       | 3/4 [00:00<00:00,  4.60it/s]\u001b[A\n",
      "Action: emotion: 100%|████████████████████████████| 4/4 [00:00<00:00,  5.98it/s]\u001b[A\n",
      "499it [07:43,  1.23it/s]"
     ]
    },
    {
     "name": "stdout",
     "output_type": "stream",
     "text": [
      "/Users/jessecoulter/Downloads/FIN377/CEOPersonalities-/matched_pictures/Mark E. Jagiela/2019\n"
     ]
    },
    {
     "name": "stderr",
     "output_type": "stream",
     "text": [
      "\n",
      "Finding actions:   0%|                                    | 0/4 [00:00<?, ?it/s]\u001b[A\n",
      "Action: age:   0%|                                        | 0/4 [00:00<?, ?it/s]\u001b[A\n",
      "Action: age:  25%|████████                        | 1/4 [00:00<00:00,  3.92it/s]\u001b[A\n",
      "Action: gender:  25%|███████▎                     | 1/4 [00:00<00:00,  3.92it/s]\u001b[A\n",
      "Action: gender:  50%|██████████████▌              | 2/4 [00:00<00:00,  4.05it/s]\u001b[A\n",
      "Action: race:  50%|███████████████▌               | 2/4 [00:00<00:00,  4.05it/s]\u001b[A\n",
      "Action: race:  75%|███████████████████████▎       | 3/4 [00:00<00:00,  4.07it/s]\u001b[A\n",
      "Action: emotion: 100%|████████████████████████████| 4/4 [00:00<00:00,  5.27it/s]\u001b[A\n",
      "500it [07:44,  1.06it/s]"
     ]
    },
    {
     "name": "stdout",
     "output_type": "stream",
     "text": [
      "/Users/jessecoulter/Downloads/FIN377/CEOPersonalities-/matched_pictures/Anders Gustafsson/2010\n"
     ]
    },
    {
     "name": "stderr",
     "output_type": "stream",
     "text": [
      "\n",
      "Finding actions:   0%|                                    | 0/4 [00:00<?, ?it/s]\u001b[A\n",
      "Action: age:   0%|                                        | 0/4 [00:00<?, ?it/s]\u001b[A\n",
      "Action: age:  25%|████████                        | 1/4 [00:00<00:00,  4.20it/s]\u001b[A\n",
      "Action: gender:  25%|███████▎                     | 1/4 [00:00<00:00,  4.20it/s]\u001b[A\n",
      "Action: gender:  50%|██████████████▌              | 2/4 [00:00<00:00,  4.23it/s]\u001b[A\n",
      "Action: race:  50%|███████████████▌               | 2/4 [00:00<00:00,  4.23it/s]\u001b[A\n",
      "Action: race:  75%|███████████████████████▎       | 3/4 [00:00<00:00,  4.16it/s]\u001b[A\n",
      "Action: emotion: 100%|████████████████████████████| 4/4 [00:00<00:00,  5.43it/s]\u001b[A\n",
      "501it [07:46,  1.21s/it]"
     ]
    },
    {
     "name": "stdout",
     "output_type": "stream",
     "text": [
      "/Users/jessecoulter/Downloads/FIN377/CEOPersonalities-/matched_pictures/Anders Gustafsson/2011\n"
     ]
    },
    {
     "name": "stderr",
     "output_type": "stream",
     "text": [
      "\n",
      "Finding actions:   0%|                                    | 0/4 [00:00<?, ?it/s]\u001b[A\n",
      "Action: age:   0%|                                        | 0/4 [00:00<?, ?it/s]\u001b[A\n",
      "Action: age:  25%|████████                        | 1/4 [00:00<00:00,  4.25it/s]\u001b[A\n",
      "Action: gender:  25%|███████▎                     | 1/4 [00:00<00:00,  4.25it/s]\u001b[A\n",
      "Action: gender:  50%|██████████████▌              | 2/4 [00:00<00:00,  4.22it/s]\u001b[A\n",
      "Action: race:  50%|███████████████▌               | 2/4 [00:00<00:00,  4.22it/s]\u001b[A\n",
      "Action: race:  75%|███████████████████████▎       | 3/4 [00:00<00:00,  4.11it/s]\u001b[A\n",
      "Action: emotion: 100%|████████████████████████████| 4/4 [00:00<00:00,  5.39it/s]\u001b[A\n",
      "502it [07:48,  1.40s/it]"
     ]
    },
    {
     "name": "stdout",
     "output_type": "stream",
     "text": [
      "/Users/jessecoulter/Downloads/FIN377/CEOPersonalities-/matched_pictures/Anders Gustafsson/2012\n"
     ]
    },
    {
     "name": "stderr",
     "output_type": "stream",
     "text": [
      "\n",
      "Finding actions:   0%|                                    | 0/4 [00:00<?, ?it/s]\u001b[A\n",
      "Action: age:   0%|                                        | 0/4 [00:00<?, ?it/s]\u001b[A\n",
      "Action: age:  25%|████████                        | 1/4 [00:00<00:00,  4.45it/s]\u001b[A\n",
      "Action: gender:  25%|███████▎                     | 1/4 [00:00<00:00,  4.45it/s]\u001b[A\n",
      "Action: gender:  50%|██████████████▌              | 2/4 [00:00<00:00,  4.36it/s]\u001b[A\n",
      "Action: race:  50%|███████████████▌               | 2/4 [00:00<00:00,  4.36it/s]\u001b[A\n",
      "Action: race:  75%|███████████████████████▎       | 3/4 [00:00<00:00,  4.17it/s]\u001b[A\n",
      "Action: emotion: 100%|████████████████████████████| 4/4 [00:00<00:00,  5.50it/s]\u001b[A\n",
      "503it [07:50,  1.54s/it]"
     ]
    },
    {
     "name": "stdout",
     "output_type": "stream",
     "text": [
      "/Users/jessecoulter/Downloads/FIN377/CEOPersonalities-/matched_pictures/Anders Gustafsson/2013\n",
      "Error analyzing /Users/jessecoulter/Downloads/FIN377/CEOPersonalities-/matched_pictures/Anders Gustafsson/2013/pic1.jpg: Face could not be detected in /Users/jessecoulter/Downloads/FIN377/CEOPersonalities-/matched_pictures/Anders Gustafsson/2013/pic1.jpg.Please confirm that the picture is a face photo or consider to set enforce_detection param to False.\n",
      "/Users/jessecoulter/Downloads/FIN377/CEOPersonalities-/matched_pictures/Anders Gustafsson/2014\n"
     ]
    },
    {
     "name": "stderr",
     "output_type": "stream",
     "text": [
      "\n",
      "Finding actions:   0%|                                    | 0/4 [00:00<?, ?it/s]\u001b[A\n",
      "Action: age:   0%|                                        | 0/4 [00:00<?, ?it/s]\u001b[A\n",
      "Action: age:  25%|████████                        | 1/4 [00:00<00:00,  4.03it/s]\u001b[A\n",
      "Action: gender:  25%|███████▎                     | 1/4 [00:00<00:00,  4.03it/s]\u001b[A\n",
      "Action: gender:  50%|██████████████▌              | 2/4 [00:00<00:00,  4.05it/s]\u001b[A\n",
      "Action: race:  50%|███████████████▌               | 2/4 [00:00<00:00,  4.05it/s]\u001b[A\n",
      "Action: race:  75%|███████████████████████▎       | 3/4 [00:00<00:00,  3.96it/s]\u001b[A\n",
      "Action: emotion: 100%|████████████████████████████| 4/4 [00:00<00:00,  5.17it/s]\u001b[A\n",
      "505it [07:52,  1.29s/it]"
     ]
    },
    {
     "name": "stdout",
     "output_type": "stream",
     "text": [
      "/Users/jessecoulter/Downloads/FIN377/CEOPersonalities-/matched_pictures/Anders Gustafsson/2015\n"
     ]
    },
    {
     "name": "stderr",
     "output_type": "stream",
     "text": [
      "\n",
      "Finding actions:   0%|                                    | 0/4 [00:00<?, ?it/s]\u001b[A\n",
      "Action: age:   0%|                                        | 0/4 [00:00<?, ?it/s]\u001b[A\n",
      "Action: age:  25%|████████                        | 1/4 [00:00<00:00,  4.14it/s]\u001b[A\n",
      "Action: gender:  25%|███████▎                     | 1/4 [00:00<00:00,  4.14it/s]\u001b[A\n",
      "Action: gender:  50%|██████████████▌              | 2/4 [00:00<00:00,  4.15it/s]\u001b[A\n",
      "Action: race:  50%|███████████████▌               | 2/4 [00:00<00:00,  4.15it/s]\u001b[A\n",
      "Action: race:  75%|███████████████████████▎       | 3/4 [00:00<00:00,  4.27it/s]\u001b[A\n",
      "Action: emotion: 100%|████████████████████████████| 4/4 [00:00<00:00,  5.52it/s]\u001b[A\n",
      "506it [07:53,  1.44s/it]"
     ]
    },
    {
     "name": "stdout",
     "output_type": "stream",
     "text": [
      "/Users/jessecoulter/Downloads/FIN377/CEOPersonalities-/matched_pictures/Anders Gustafsson/2016\n"
     ]
    },
    {
     "name": "stderr",
     "output_type": "stream",
     "text": [
      "\n",
      "Finding actions:   0%|                                    | 0/4 [00:00<?, ?it/s]\u001b[A\n",
      "Action: age:   0%|                                        | 0/4 [00:00<?, ?it/s]\u001b[A\n",
      "Action: age:  25%|████████                        | 1/4 [00:00<00:00,  3.64it/s]\u001b[A\n",
      "Action: gender:  25%|███████▎                     | 1/4 [00:00<00:00,  3.64it/s]\u001b[A\n",
      "Action: gender:  50%|██████████████▌              | 2/4 [00:00<00:00,  3.78it/s]\u001b[A\n",
      "Action: race:  50%|███████████████▌               | 2/4 [00:00<00:00,  3.78it/s]\u001b[A\n",
      "Action: race:  75%|███████████████████████▎       | 3/4 [00:00<00:00,  3.83it/s]\u001b[A\n",
      "Action: emotion: 100%|████████████████████████████| 4/4 [00:00<00:00,  4.95it/s]\u001b[A\n",
      "507it [07:55,  1.56s/it]"
     ]
    },
    {
     "name": "stdout",
     "output_type": "stream",
     "text": [
      "/Users/jessecoulter/Downloads/FIN377/CEOPersonalities-/matched_pictures/Anders Gustafsson/2017\n"
     ]
    },
    {
     "name": "stderr",
     "output_type": "stream",
     "text": [
      "\n",
      "Finding actions:   0%|                                    | 0/4 [00:00<?, ?it/s]\u001b[A\n",
      "Action: age:   0%|                                        | 0/4 [00:00<?, ?it/s]\u001b[A\n",
      "Action: age:  25%|████████                        | 1/4 [00:00<00:00,  4.27it/s]\u001b[A\n",
      "Action: gender:  25%|███████▎                     | 1/4 [00:00<00:00,  4.27it/s]\u001b[A\n",
      "Action: gender:  50%|██████████████▌              | 2/4 [00:00<00:00,  4.36it/s]\u001b[A\n",
      "Action: race:  50%|███████████████▌               | 2/4 [00:00<00:00,  4.36it/s]\u001b[A\n",
      "Action: race:  75%|███████████████████████▎       | 3/4 [00:00<00:00,  4.41it/s]\u001b[A\n",
      "Action: emotion: 100%|████████████████████████████| 4/4 [00:00<00:00,  5.70it/s]\u001b[A\n",
      "508it [07:57,  1.64s/it]"
     ]
    },
    {
     "name": "stdout",
     "output_type": "stream",
     "text": [
      "/Users/jessecoulter/Downloads/FIN377/CEOPersonalities-/matched_pictures/Anders Gustafsson/2018\n"
     ]
    },
    {
     "name": "stderr",
     "output_type": "stream",
     "text": [
      "\n",
      "Finding actions:   0%|                                    | 0/4 [00:00<?, ?it/s]\u001b[A\n",
      "Action: age:   0%|                                        | 0/4 [00:00<?, ?it/s]\u001b[A\n",
      "Action: age:  25%|████████                        | 1/4 [00:00<00:00,  4.13it/s]\u001b[A\n",
      "Action: gender:  25%|███████▎                     | 1/4 [00:00<00:00,  4.13it/s]\u001b[A\n",
      "Action: gender:  50%|██████████████▌              | 2/4 [00:00<00:00,  4.12it/s]\u001b[A\n",
      "Action: race:  50%|███████████████▌               | 2/4 [00:00<00:00,  4.12it/s]\u001b[A\n",
      "Action: race:  75%|███████████████████████▎       | 3/4 [00:00<00:00,  4.09it/s]\u001b[A\n",
      "Action: emotion: 100%|████████████████████████████| 4/4 [00:00<00:00,  5.34it/s]\u001b[A\n",
      "509it [07:59,  1.71s/it]"
     ]
    },
    {
     "name": "stdout",
     "output_type": "stream",
     "text": [
      "/Users/jessecoulter/Downloads/FIN377/CEOPersonalities-/matched_pictures/Anders Gustafsson/2019\n"
     ]
    },
    {
     "name": "stderr",
     "output_type": "stream",
     "text": [
      "\n",
      "Finding actions:   0%|                                    | 0/4 [00:00<?, ?it/s]\u001b[A\n",
      "Action: age:   0%|                                        | 0/4 [00:00<?, ?it/s]\u001b[A\n",
      "Action: age:  25%|████████                        | 1/4 [00:00<00:00,  4.56it/s]\u001b[A\n",
      "Action: gender:  25%|███████▎                     | 1/4 [00:00<00:00,  4.56it/s]\u001b[A\n",
      "Action: gender:  50%|██████████████▌              | 2/4 [00:00<00:00,  4.51it/s]\u001b[A\n",
      "Action: race:  50%|███████████████▌               | 2/4 [00:00<00:00,  4.51it/s]\u001b[A\n",
      "Action: race:  75%|███████████████████████▎       | 3/4 [00:00<00:00,  4.49it/s]\u001b[A\n",
      "Action: emotion: 100%|████████████████████████████| 4/4 [00:00<00:00,  5.86it/s]\u001b[A\n",
      "510it [08:01,  1.75s/it]"
     ]
    },
    {
     "name": "stdout",
     "output_type": "stream",
     "text": [
      "/Users/jessecoulter/Downloads/FIN377/CEOPersonalities-/matched_pictures/Steven W. Berglund/2010\n"
     ]
    },
    {
     "name": "stderr",
     "output_type": "stream",
     "text": [
      "\n",
      "Finding actions:   0%|                                    | 0/4 [00:00<?, ?it/s]\u001b[A\n",
      "Action: age:   0%|                                        | 0/4 [00:00<?, ?it/s]\u001b[A\n",
      "Action: age:  25%|████████                        | 1/4 [00:00<00:00,  4.23it/s]\u001b[A\n",
      "Action: gender:  25%|███████▎                     | 1/4 [00:00<00:00,  4.23it/s]\u001b[A\n",
      "Action: gender:  50%|██████████████▌              | 2/4 [00:00<00:00,  4.08it/s]\u001b[A\n",
      "Action: race:  50%|███████████████▌               | 2/4 [00:00<00:00,  4.08it/s]\u001b[A\n",
      "Action: race:  75%|███████████████████████▎       | 3/4 [00:00<00:00,  4.06it/s]\u001b[A\n",
      "Action: emotion: 100%|████████████████████████████| 4/4 [00:00<00:00,  5.32it/s]\u001b[A\n",
      "511it [08:02,  1.48s/it]"
     ]
    },
    {
     "name": "stdout",
     "output_type": "stream",
     "text": [
      "/Users/jessecoulter/Downloads/FIN377/CEOPersonalities-/matched_pictures/Steven W. Berglund/2011\n"
     ]
    },
    {
     "name": "stderr",
     "output_type": "stream",
     "text": [
      "\n",
      "Finding actions:   0%|                                    | 0/4 [00:00<?, ?it/s]\u001b[A\n",
      "Action: age:   0%|                                        | 0/4 [00:00<?, ?it/s]\u001b[A\n",
      "Action: age:  25%|████████                        | 1/4 [00:00<00:00,  4.13it/s]\u001b[A\n",
      "Action: gender:  25%|███████▎                     | 1/4 [00:00<00:00,  4.13it/s]\u001b[A\n",
      "Action: gender:  50%|██████████████▌              | 2/4 [00:00<00:00,  4.18it/s]\u001b[A\n",
      "Action: race:  50%|███████████████▌               | 2/4 [00:00<00:00,  4.18it/s]\u001b[A\n",
      "Action: race:  75%|███████████████████████▎       | 3/4 [00:00<00:00,  4.22it/s]\u001b[A\n",
      "Action: emotion: 100%|████████████████████████████| 4/4 [00:00<00:00,  5.47it/s]\u001b[A\n",
      "512it [08:03,  1.29s/it]"
     ]
    },
    {
     "name": "stdout",
     "output_type": "stream",
     "text": [
      "/Users/jessecoulter/Downloads/FIN377/CEOPersonalities-/matched_pictures/Steven W. Berglund/2012\n"
     ]
    },
    {
     "name": "stderr",
     "output_type": "stream",
     "text": [
      "\n",
      "Finding actions:   0%|                                    | 0/4 [00:00<?, ?it/s]\u001b[A\n",
      "Action: age:   0%|                                        | 0/4 [00:00<?, ?it/s]\u001b[A\n",
      "Action: age:  25%|████████                        | 1/4 [00:00<00:00,  4.07it/s]\u001b[A\n",
      "Action: gender:  25%|███████▎                     | 1/4 [00:00<00:00,  4.07it/s]\u001b[A\n",
      "Action: gender:  50%|██████████████▌              | 2/4 [00:00<00:00,  4.00it/s]\u001b[A\n",
      "Action: race:  50%|███████████████▌               | 2/4 [00:00<00:00,  4.00it/s]\u001b[A\n",
      "Action: race:  75%|███████████████████████▎       | 3/4 [00:00<00:00,  3.97it/s]\u001b[A\n",
      "Action: emotion: 100%|████████████████████████████| 4/4 [00:00<00:00,  5.18it/s]\u001b[A\n",
      "514it [08:04,  1.15it/s]"
     ]
    },
    {
     "name": "stdout",
     "output_type": "stream",
     "text": [
      "/Users/jessecoulter/Downloads/FIN377/CEOPersonalities-/matched_pictures/Steven W. Berglund/2013\n",
      "Error analyzing /Users/jessecoulter/Downloads/FIN377/CEOPersonalities-/matched_pictures/Steven W. Berglund/2013/pic1.jpg: Face could not be detected in /Users/jessecoulter/Downloads/FIN377/CEOPersonalities-/matched_pictures/Steven W. Berglund/2013/pic1.jpg.Please confirm that the picture is a face photo or consider to set enforce_detection param to False.\n",
      "/Users/jessecoulter/Downloads/FIN377/CEOPersonalities-/matched_pictures/Steven W. Berglund/2014\n"
     ]
    },
    {
     "name": "stderr",
     "output_type": "stream",
     "text": [
      "\n",
      "Finding actions:   0%|                                    | 0/4 [00:00<?, ?it/s]\u001b[A\n",
      "Action: age:   0%|                                        | 0/4 [00:00<?, ?it/s]\u001b[A\n",
      "Action: age:  25%|████████                        | 1/4 [00:00<00:00,  4.29it/s]\u001b[A\n",
      "Action: gender:  25%|███████▎                     | 1/4 [00:00<00:00,  4.29it/s]\u001b[A\n",
      "Action: gender:  50%|██████████████▌              | 2/4 [00:00<00:00,  4.56it/s]\u001b[A\n",
      "Action: race:  50%|███████████████▌               | 2/4 [00:00<00:00,  4.56it/s]\u001b[A\n",
      "Action: race:  75%|███████████████████████▎       | 3/4 [00:00<00:00,  4.48it/s]\u001b[A\n",
      "Action: emotion: 100%|████████████████████████████| 4/4 [00:00<00:00,  5.81it/s]\u001b[A\n",
      "515it [08:05,  1.14it/s]"
     ]
    },
    {
     "name": "stdout",
     "output_type": "stream",
     "text": [
      "/Users/jessecoulter/Downloads/FIN377/CEOPersonalities-/matched_pictures/Steven W. Berglund/2015\n",
      "No image found in /Users/jessecoulter/Downloads/FIN377/CEOPersonalities-/matched_pictures/Steven W. Berglund/2015\n",
      "/Users/jessecoulter/Downloads/FIN377/CEOPersonalities-/matched_pictures/Steven W. Berglund/2016\n"
     ]
    },
    {
     "name": "stderr",
     "output_type": "stream",
     "text": [
      "\n",
      "Finding actions:   0%|                                    | 0/4 [00:00<?, ?it/s]\u001b[A\n",
      "Action: age:   0%|                                        | 0/4 [00:00<?, ?it/s]\u001b[A\n",
      "Action: age:  25%|████████                        | 1/4 [00:00<00:00,  4.27it/s]\u001b[A\n",
      "Action: gender:  25%|███████▎                     | 1/4 [00:00<00:00,  4.27it/s]\u001b[A\n",
      "Action: gender:  50%|██████████████▌              | 2/4 [00:00<00:00,  4.40it/s]\u001b[A\n",
      "Action: race:  50%|███████████████▌               | 2/4 [00:00<00:00,  4.40it/s]\u001b[A\n",
      "Action: race:  75%|███████████████████████▎       | 3/4 [00:00<00:00,  4.42it/s]\u001b[A\n",
      "Action: emotion: 100%|████████████████████████████| 4/4 [00:00<00:00,  5.72it/s]\u001b[A\n",
      "517it [08:05,  1.53it/s]"
     ]
    },
    {
     "name": "stdout",
     "output_type": "stream",
     "text": [
      "/Users/jessecoulter/Downloads/FIN377/CEOPersonalities-/matched_pictures/Steven W. Berglund/2017\n",
      "No image found in /Users/jessecoulter/Downloads/FIN377/CEOPersonalities-/matched_pictures/Steven W. Berglund/2017\n",
      "/Users/jessecoulter/Downloads/FIN377/CEOPersonalities-/matched_pictures/Steven W. Berglund/2018\n"
     ]
    },
    {
     "name": "stderr",
     "output_type": "stream",
     "text": [
      "\n",
      "Finding actions:   0%|                                    | 0/4 [00:00<?, ?it/s]\u001b[A\n",
      "Action: age:   0%|                                        | 0/4 [00:00<?, ?it/s]\u001b[A\n",
      "Action: age:  25%|████████                        | 1/4 [00:00<00:00,  4.04it/s]\u001b[A\n",
      "Action: gender:  25%|███████▎                     | 1/4 [00:00<00:00,  4.04it/s]\u001b[A\n",
      "Action: gender:  50%|██████████████▌              | 2/4 [00:00<00:00,  4.31it/s]\u001b[A\n",
      "Action: race:  50%|███████████████▌               | 2/4 [00:00<00:00,  4.31it/s]\u001b[A\n",
      "Action: race:  75%|███████████████████████▎       | 3/4 [00:00<00:00,  4.24it/s]\u001b[A\n",
      "Action: emotion: 100%|████████████████████████████| 4/4 [00:00<00:00,  5.51it/s]\u001b[A\n",
      "519it [08:06,  1.83it/s]"
     ]
    },
    {
     "name": "stdout",
     "output_type": "stream",
     "text": [
      "/Users/jessecoulter/Downloads/FIN377/CEOPersonalities-/matched_pictures/Steven W. Berglund/2019\n"
     ]
    },
    {
     "name": "stderr",
     "output_type": "stream",
     "text": [
      "\n",
      "Finding actions:   0%|                                    | 0/4 [00:00<?, ?it/s]\u001b[A\n",
      "Action: age:   0%|                                        | 0/4 [00:00<?, ?it/s]\u001b[A\n",
      "Action: age:  25%|████████                        | 1/4 [00:00<00:00,  3.76it/s]\u001b[A\n",
      "Action: gender:  25%|███████▎                     | 1/4 [00:00<00:00,  3.76it/s]\u001b[A\n",
      "Action: gender:  50%|██████████████▌              | 2/4 [00:00<00:00,  3.87it/s]\u001b[A\n",
      "Action: race:  50%|███████████████▌               | 2/4 [00:00<00:00,  3.87it/s]\u001b[A\n",
      "Action: race:  75%|███████████████████████▎       | 3/4 [00:00<00:00,  4.04it/s]\u001b[A\n",
      "Action: emotion: 100%|████████████████████████████| 4/4 [00:00<00:00,  5.19it/s]\u001b[A\n",
      "520it [08:07,  1.65it/s]"
     ]
    },
    {
     "name": "stdout",
     "output_type": "stream",
     "text": [
      "/Users/jessecoulter/Downloads/FIN377/CEOPersonalities-/matched_pictures/John S. Marr Jr./2010\n"
     ]
    },
    {
     "name": "stderr",
     "output_type": "stream",
     "text": [
      "\n",
      "Finding actions:   0%|                                    | 0/4 [00:00<?, ?it/s]\u001b[A\n",
      "Action: age:   0%|                                        | 0/4 [00:00<?, ?it/s]\u001b[A\n",
      "Action: age:  25%|████████                        | 1/4 [00:00<00:00,  3.89it/s]\u001b[A\n",
      "Action: gender:  25%|███████▎                     | 1/4 [00:00<00:00,  3.89it/s]\u001b[A\n",
      "Action: gender:  50%|██████████████▌              | 2/4 [00:00<00:00,  3.92it/s]\u001b[A\n",
      "Action: race:  50%|███████████████▌               | 2/4 [00:00<00:00,  3.92it/s]\u001b[A\n",
      "Action: race:  75%|███████████████████████▎       | 3/4 [00:00<00:00,  4.00it/s]\u001b[A\n",
      "Action: emotion: 100%|████████████████████████████| 4/4 [00:00<00:00,  5.18it/s]\u001b[A\n",
      "521it [08:08,  1.52it/s]"
     ]
    },
    {
     "name": "stdout",
     "output_type": "stream",
     "text": [
      "/Users/jessecoulter/Downloads/FIN377/CEOPersonalities-/matched_pictures/John S. Marr Jr./2011\n"
     ]
    },
    {
     "name": "stderr",
     "output_type": "stream",
     "text": [
      "\n",
      "Finding actions:   0%|                                    | 0/4 [00:00<?, ?it/s]\u001b[A\n",
      "Action: age:   0%|                                        | 0/4 [00:00<?, ?it/s]\u001b[A\n",
      "Action: age:  25%|████████                        | 1/4 [00:00<00:00,  4.05it/s]\u001b[A\n",
      "Action: gender:  25%|███████▎                     | 1/4 [00:00<00:00,  4.05it/s]\u001b[A\n",
      "Action: gender:  50%|██████████████▌              | 2/4 [00:00<00:00,  4.05it/s]\u001b[A\n",
      "Action: race:  50%|███████████████▌               | 2/4 [00:00<00:00,  4.05it/s]\u001b[A\n",
      "Action: race:  75%|███████████████████████▎       | 3/4 [00:00<00:00,  4.07it/s]\u001b[A\n",
      "Action: emotion: 100%|████████████████████████████| 4/4 [00:00<00:00,  5.29it/s]\u001b[A\n",
      "522it [08:09,  1.44it/s]"
     ]
    },
    {
     "name": "stdout",
     "output_type": "stream",
     "text": [
      "/Users/jessecoulter/Downloads/FIN377/CEOPersonalities-/matched_pictures/John S. Marr Jr./2012\n"
     ]
    },
    {
     "name": "stderr",
     "output_type": "stream",
     "text": [
      "\n",
      "Finding actions:   0%|                                    | 0/4 [00:00<?, ?it/s]\u001b[A\n",
      "Action: age:   0%|                                        | 0/4 [00:00<?, ?it/s]\u001b[A\n",
      "Action: age:  25%|████████                        | 1/4 [00:00<00:00,  4.12it/s]\u001b[A\n",
      "Action: gender:  25%|███████▎                     | 1/4 [00:00<00:00,  4.12it/s]\u001b[A\n",
      "Action: gender:  50%|██████████████▌              | 2/4 [00:00<00:00,  4.15it/s]\u001b[A\n",
      "Action: race:  50%|███████████████▌               | 2/4 [00:00<00:00,  4.15it/s]\u001b[A\n",
      "Action: race:  75%|███████████████████████▎       | 3/4 [00:00<00:00,  4.12it/s]\u001b[A\n",
      "Action: emotion: 100%|████████████████████████████| 4/4 [00:00<00:00,  5.37it/s]\u001b[A\n",
      "\n",
      "Finding actions:   0%|                                    | 0/4 [00:00<?, ?it/s]\u001b[A\n",
      "Action: age:   0%|                                        | 0/4 [00:00<?, ?it/s]\u001b[A\n",
      "Action: age:  25%|████████                        | 1/4 [00:00<00:00,  4.44it/s]\u001b[A\n",
      "Action: gender:  25%|███████▎                     | 1/4 [00:00<00:00,  4.44it/s]\u001b[A\n",
      "Action: gender:  50%|██████████████▌              | 2/4 [00:00<00:00,  4.46it/s]\u001b[A\n",
      "Action: race:  50%|███████████████▌               | 2/4 [00:00<00:00,  4.46it/s]\u001b[A\n",
      "Action: race:  75%|███████████████████████▎       | 3/4 [00:00<00:00,  4.33it/s]\u001b[A\n",
      "Action: emotion: 100%|████████████████████████████| 4/4 [00:00<00:00,  5.66it/s]\u001b[A\n",
      "\n",
      "Finding actions:   0%|                                    | 0/4 [00:00<?, ?it/s]\u001b[A\n",
      "Action: age:   0%|                                        | 0/4 [00:00<?, ?it/s]\u001b[A\n",
      "Action: age:  25%|████████                        | 1/4 [00:00<00:00,  3.85it/s]\u001b[A\n",
      "Action: gender:  25%|███████▎                     | 1/4 [00:00<00:00,  3.85it/s]\u001b[A\n",
      "Action: gender:  50%|██████████████▌              | 2/4 [00:00<00:00,  3.97it/s]\u001b[A\n",
      "Action: race:  50%|███████████████▌               | 2/4 [00:00<00:00,  3.97it/s]\u001b[A\n",
      "Action: race:  75%|███████████████████████▎       | 3/4 [00:00<00:00,  3.87it/s]\u001b[A\n",
      "Action: emotion: 100%|████████████████████████████| 4/4 [00:00<00:00,  5.06it/s]\u001b[A\n",
      "523it [08:11,  1.12s/it]"
     ]
    },
    {
     "name": "stdout",
     "output_type": "stream",
     "text": [
      "/Users/jessecoulter/Downloads/FIN377/CEOPersonalities-/matched_pictures/John S. Marr Jr./2013\n",
      "Error analyzing /Users/jessecoulter/Downloads/FIN377/CEOPersonalities-/matched_pictures/John S. Marr Jr./2013/pic1.jpg: Face could not be detected in /Users/jessecoulter/Downloads/FIN377/CEOPersonalities-/matched_pictures/John S. Marr Jr./2013/pic1.jpg.Please confirm that the picture is a face photo or consider to set enforce_detection param to False.\n",
      "/Users/jessecoulter/Downloads/FIN377/CEOPersonalities-/matched_pictures/John S. Marr Jr./2014\n"
     ]
    },
    {
     "name": "stderr",
     "output_type": "stream",
     "text": [
      "\n",
      "Finding actions:   0%|                                    | 0/4 [00:00<?, ?it/s]\u001b[A\n",
      "Action: age:   0%|                                        | 0/4 [00:00<?, ?it/s]\u001b[A\n",
      "Action: age:  25%|████████                        | 1/4 [00:00<00:00,  4.47it/s]\u001b[A\n",
      "Action: gender:  25%|███████▎                     | 1/4 [00:00<00:00,  4.47it/s]\u001b[A\n",
      "Action: gender:  50%|██████████████▌              | 2/4 [00:00<00:00,  4.32it/s]\u001b[A\n",
      "Action: race:  50%|███████████████▌               | 2/4 [00:00<00:00,  4.32it/s]\u001b[A\n",
      "Action: race:  75%|███████████████████████▎       | 3/4 [00:00<00:00,  4.14it/s]\u001b[A\n",
      "Action: emotion: 100%|████████████████████████████| 4/4 [00:00<00:00,  5.45it/s]\u001b[A\n",
      "525it [08:12,  1.23it/s]"
     ]
    },
    {
     "name": "stdout",
     "output_type": "stream",
     "text": [
      "/Users/jessecoulter/Downloads/FIN377/CEOPersonalities-/matched_pictures/John S. Marr Jr./2015\n"
     ]
    },
    {
     "name": "stderr",
     "output_type": "stream",
     "text": [
      "\n",
      "Finding actions:   0%|                                    | 0/4 [00:00<?, ?it/s]\u001b[A\n",
      "Action: age:   0%|                                        | 0/4 [00:00<?, ?it/s]\u001b[A\n",
      "Action: age:  25%|████████                        | 1/4 [00:00<00:00,  4.08it/s]\u001b[A\n",
      "Action: gender:  25%|███████▎                     | 1/4 [00:00<00:00,  4.08it/s]\u001b[A\n",
      "Action: gender:  50%|██████████████▌              | 2/4 [00:00<00:00,  4.07it/s]\u001b[A\n",
      "Action: race:  50%|███████████████▌               | 2/4 [00:00<00:00,  4.07it/s]\u001b[A\n",
      "Action: race:  75%|███████████████████████▎       | 3/4 [00:00<00:00,  4.02it/s]\u001b[A\n",
      "Action: emotion: 100%|████████████████████████████| 4/4 [00:00<00:00,  5.24it/s]\u001b[A\n",
      "526it [08:12,  1.23it/s]"
     ]
    },
    {
     "name": "stdout",
     "output_type": "stream",
     "text": [
      "/Users/jessecoulter/Downloads/FIN377/CEOPersonalities-/matched_pictures/John S. Marr Jr./2016\n"
     ]
    },
    {
     "name": "stderr",
     "output_type": "stream",
     "text": [
      "\n",
      "Finding actions:   0%|                                    | 0/4 [00:00<?, ?it/s]\u001b[A\n",
      "Action: age:   0%|                                        | 0/4 [00:00<?, ?it/s]\u001b[A\n",
      "Action: age:  25%|████████                        | 1/4 [00:00<00:00,  4.21it/s]\u001b[A\n",
      "Action: gender:  25%|███████▎                     | 1/4 [00:00<00:00,  4.21it/s]\u001b[A\n",
      "Action: gender:  50%|██████████████▌              | 2/4 [00:00<00:00,  4.35it/s]\u001b[A\n",
      "Action: race:  50%|███████████████▌               | 2/4 [00:00<00:00,  4.35it/s]\u001b[A\n",
      "Action: race:  75%|███████████████████████▎       | 3/4 [00:00<00:00,  4.23it/s]\u001b[A\n",
      "Action: emotion: 100%|████████████████████████████| 4/4 [00:00<00:00,  5.54it/s]\u001b[A\n",
      "527it [08:13,  1.17it/s]"
     ]
    },
    {
     "name": "stdout",
     "output_type": "stream",
     "text": [
      "/Users/jessecoulter/Downloads/FIN377/CEOPersonalities-/matched_pictures/John S. Marr Jr./2017\n"
     ]
    },
    {
     "name": "stderr",
     "output_type": "stream",
     "text": [
      "\n",
      "Finding actions:   0%|                                    | 0/4 [00:00<?, ?it/s]\u001b[A\n",
      "Action: age:   0%|                                        | 0/4 [00:00<?, ?it/s]\u001b[A\n",
      "Action: age:  25%|████████                        | 1/4 [00:00<00:00,  4.00it/s]\u001b[A\n",
      "Action: gender:  25%|███████▎                     | 1/4 [00:00<00:00,  4.00it/s]\u001b[A\n",
      "Action: gender:  50%|██████████████▌              | 2/4 [00:00<00:00,  4.11it/s]\u001b[A\n",
      "Action: race:  50%|███████████████▌               | 2/4 [00:00<00:00,  4.11it/s]\u001b[A\n",
      "Action: race:  75%|███████████████████████▎       | 3/4 [00:00<00:00,  4.20it/s]\u001b[A\n",
      "Action: emotion: 100%|████████████████████████████| 4/4 [00:00<00:00,  5.42it/s]\u001b[A\n",
      "528it [08:14,  1.19it/s]"
     ]
    },
    {
     "name": "stdout",
     "output_type": "stream",
     "text": [
      "/Users/jessecoulter/Downloads/FIN377/CEOPersonalities-/matched_pictures/John S. Marr Jr./2018\n"
     ]
    },
    {
     "name": "stderr",
     "output_type": "stream",
     "text": [
      "\n",
      "Finding actions:   0%|                                    | 0/4 [00:00<?, ?it/s]\u001b[A\n",
      "Action: age:   0%|                                        | 0/4 [00:00<?, ?it/s]\u001b[A\n",
      "Action: age:  25%|████████                        | 1/4 [00:00<00:00,  4.22it/s]\u001b[A\n",
      "Action: gender:  25%|███████▎                     | 1/4 [00:00<00:00,  4.22it/s]\u001b[A\n",
      "Action: gender:  50%|██████████████▌              | 2/4 [00:00<00:00,  4.40it/s]\u001b[A\n",
      "Action: race:  50%|███████████████▌               | 2/4 [00:00<00:00,  4.40it/s]\u001b[A\n",
      "Action: race:  75%|███████████████████████▎       | 3/4 [00:00<00:00,  4.30it/s]\u001b[A\n",
      "Action: emotion: 100%|████████████████████████████| 4/4 [00:00<00:00,  5.61it/s]\u001b[A\n",
      "529it [08:15,  1.23it/s]"
     ]
    },
    {
     "name": "stdout",
     "output_type": "stream",
     "text": [
      "/Users/jessecoulter/Downloads/FIN377/CEOPersonalities-/matched_pictures/Lynn Moore Jr./2019\n"
     ]
    },
    {
     "name": "stderr",
     "output_type": "stream",
     "text": [
      "\n",
      "Finding actions:   0%|                                    | 0/4 [00:00<?, ?it/s]\u001b[A\n",
      "Action: age:   0%|                                        | 0/4 [00:00<?, ?it/s]\u001b[A\n",
      "Action: age:  25%|████████                        | 1/4 [00:00<00:00,  4.16it/s]\u001b[A\n",
      "Action: gender:  25%|███████▎                     | 1/4 [00:00<00:00,  4.16it/s]\u001b[A\n",
      "Action: gender:  50%|██████████████▌              | 2/4 [00:00<00:00,  4.19it/s]\u001b[A\n",
      "Action: race:  50%|███████████████▌               | 2/4 [00:00<00:00,  4.19it/s]\u001b[A\n",
      "Action: race:  75%|███████████████████████▎       | 3/4 [00:00<00:00,  4.34it/s]\u001b[A\n",
      "Action: emotion: 100%|████████████████████████████| 4/4 [00:00<00:00,  5.59it/s]\u001b[A\n",
      "530it [08:17,  1.21s/it]"
     ]
    },
    {
     "name": "stdout",
     "output_type": "stream",
     "text": [
      "/Users/jessecoulter/Downloads/FIN377/CEOPersonalities-/matched_pictures/Francisco D’Souza/2010\n",
      "Error analyzing /Users/jessecoulter/Downloads/FIN377/CEOPersonalities-/matched_pictures/Francisco D’Souza/2010/pic1.jpg: Input image must not have non-english characters - /Users/jessecoulter/Downloads/FIN377/CEOPersonalities-/matched_pictures/Francisco D’Souza/2010/pic1.jpg\n",
      "/Users/jessecoulter/Downloads/FIN377/CEOPersonalities-/matched_pictures/Francisco D’Souza/2011\n",
      "Error analyzing /Users/jessecoulter/Downloads/FIN377/CEOPersonalities-/matched_pictures/Francisco D’Souza/2011/pic1.jpg: Input image must not have non-english characters - /Users/jessecoulter/Downloads/FIN377/CEOPersonalities-/matched_pictures/Francisco D’Souza/2011/pic1.jpg\n",
      "/Users/jessecoulter/Downloads/FIN377/CEOPersonalities-/matched_pictures/Francisco D’Souza/2012\n",
      "Error analyzing /Users/jessecoulter/Downloads/FIN377/CEOPersonalities-/matched_pictures/Francisco D’Souza/2012/pic1.jpg: Input image must not have non-english characters - /Users/jessecoulter/Downloads/FIN377/CEOPersonalities-/matched_pictures/Francisco D’Souza/2012/pic1.jpg\n",
      "/Users/jessecoulter/Downloads/FIN377/CEOPersonalities-/matched_pictures/Francisco D’Souza/2013\n",
      "Error analyzing /Users/jessecoulter/Downloads/FIN377/CEOPersonalities-/matched_pictures/Francisco D’Souza/2013/pic1.jpg: Input image must not have non-english characters - /Users/jessecoulter/Downloads/FIN377/CEOPersonalities-/matched_pictures/Francisco D’Souza/2013/pic1.jpg\n",
      "/Users/jessecoulter/Downloads/FIN377/CEOPersonalities-/matched_pictures/Francisco D’Souza/2014\n",
      "Error analyzing /Users/jessecoulter/Downloads/FIN377/CEOPersonalities-/matched_pictures/Francisco D’Souza/2014/pic1.jpg: Input image must not have non-english characters - /Users/jessecoulter/Downloads/FIN377/CEOPersonalities-/matched_pictures/Francisco D’Souza/2014/pic1.jpg\n",
      "/Users/jessecoulter/Downloads/FIN377/CEOPersonalities-/matched_pictures/Francisco D’Souza/2015\n",
      "Error analyzing /Users/jessecoulter/Downloads/FIN377/CEOPersonalities-/matched_pictures/Francisco D’Souza/2015/pic1.jpg: Input image must not have non-english characters - /Users/jessecoulter/Downloads/FIN377/CEOPersonalities-/matched_pictures/Francisco D’Souza/2015/pic1.jpg\n",
      "/Users/jessecoulter/Downloads/FIN377/CEOPersonalities-/matched_pictures/Francisco D’Souza/2016\n",
      "Error analyzing /Users/jessecoulter/Downloads/FIN377/CEOPersonalities-/matched_pictures/Francisco D’Souza/2016/pic1.jpg: Input image must not have non-english characters - /Users/jessecoulter/Downloads/FIN377/CEOPersonalities-/matched_pictures/Francisco D’Souza/2016/pic1.jpg\n",
      "/Users/jessecoulter/Downloads/FIN377/CEOPersonalities-/matched_pictures/Francisco D’Souza/2017\n",
      "Error analyzing /Users/jessecoulter/Downloads/FIN377/CEOPersonalities-/matched_pictures/Francisco D’Souza/2017/pic1.jpg: Input image must not have non-english characters - /Users/jessecoulter/Downloads/FIN377/CEOPersonalities-/matched_pictures/Francisco D’Souza/2017/pic1.jpg\n",
      "/Users/jessecoulter/Downloads/FIN377/CEOPersonalities-/matched_pictures/Francisco D’Souza/2018\n",
      "Error analyzing /Users/jessecoulter/Downloads/FIN377/CEOPersonalities-/matched_pictures/Francisco D’Souza/2018/pic1.jpg: Input image must not have non-english characters - /Users/jessecoulter/Downloads/FIN377/CEOPersonalities-/matched_pictures/Francisco D’Souza/2018/pic1.jpg\n",
      "/Users/jessecoulter/Downloads/FIN377/CEOPersonalities-/matched_pictures/Brian Humphries/2019\n"
     ]
    },
    {
     "name": "stderr",
     "output_type": "stream",
     "text": [
      "\n",
      "Finding actions:   0%|                                    | 0/4 [00:00<?, ?it/s]\u001b[A\n",
      "Action: age:   0%|                                        | 0/4 [00:00<?, ?it/s]\u001b[A\n",
      "Action: age:  25%|████████                        | 1/4 [00:00<00:00,  4.43it/s]\u001b[A\n",
      "Action: gender:  25%|███████▎                     | 1/4 [00:00<00:00,  4.43it/s]\u001b[A\n",
      "Action: gender:  50%|██████████████▌              | 2/4 [00:00<00:00,  4.59it/s]\u001b[A\n",
      "Action: race:  50%|███████████████▌               | 2/4 [00:00<00:00,  4.59it/s]\u001b[A\n",
      "Action: race:  75%|███████████████████████▎       | 3/4 [00:00<00:00,  4.65it/s]\u001b[A\n",
      "Action: emotion: 100%|████████████████████████████| 4/4 [00:00<00:00,  6.00it/s]\u001b[A\n",
      "540it [08:23,  1.44it/s]"
     ]
    },
    {
     "name": "stdout",
     "output_type": "stream",
     "text": [
      "/Users/jessecoulter/Downloads/FIN377/CEOPersonalities-/matched_pictures/John Jumper/2010\n"
     ]
    },
    {
     "name": "stderr",
     "output_type": "stream",
     "text": [
      "\n",
      "Finding actions:   0%|                                    | 0/4 [00:00<?, ?it/s]\u001b[A\n",
      "Action: age:   0%|                                        | 0/4 [00:00<?, ?it/s]\u001b[A\n",
      "Action: age:  25%|████████                        | 1/4 [00:00<00:00,  4.54it/s]\u001b[A\n",
      "Action: gender:  25%|███████▎                     | 1/4 [00:00<00:00,  4.54it/s]\u001b[A\n",
      "Action: gender:  50%|██████████████▌              | 2/4 [00:00<00:00,  4.67it/s]\u001b[A\n",
      "Action: race:  50%|███████████████▌               | 2/4 [00:00<00:00,  4.67it/s]\u001b[A\n",
      "Action: race:  75%|███████████████████████▎       | 3/4 [00:00<00:00,  4.70it/s]\u001b[A\n",
      "Action: emotion: 100%|████████████████████████████| 4/4 [00:00<00:00,  6.08it/s]\u001b[A\n",
      "541it [08:24,  1.44it/s]"
     ]
    },
    {
     "name": "stdout",
     "output_type": "stream",
     "text": [
      "/Users/jessecoulter/Downloads/FIN377/CEOPersonalities-/matched_pictures/John Jumper/2011\n"
     ]
    },
    {
     "name": "stderr",
     "output_type": "stream",
     "text": [
      "\n",
      "Finding actions:   0%|                                    | 0/4 [00:00<?, ?it/s]\u001b[A\n",
      "Action: age:   0%|                                        | 0/4 [00:00<?, ?it/s]\u001b[A\n",
      "Action: age:  25%|████████                        | 1/4 [00:00<00:00,  4.69it/s]\u001b[A\n",
      "Action: gender:  25%|███████▎                     | 1/4 [00:00<00:00,  4.69it/s]\u001b[A\n",
      "Action: gender:  50%|██████████████▌              | 2/4 [00:00<00:00,  4.57it/s]\u001b[A\n",
      "Action: race:  50%|███████████████▌               | 2/4 [00:00<00:00,  4.57it/s]\u001b[A\n",
      "Action: race:  75%|███████████████████████▎       | 3/4 [00:00<00:00,  4.58it/s]\u001b[A\n",
      "Action: emotion: 100%|████████████████████████████| 4/4 [00:00<00:00,  5.97it/s]\u001b[A\n",
      "542it [08:24,  1.43it/s]"
     ]
    },
    {
     "name": "stdout",
     "output_type": "stream",
     "text": [
      "/Users/jessecoulter/Downloads/FIN377/CEOPersonalities-/matched_pictures/John Jumper/2012\n"
     ]
    },
    {
     "name": "stderr",
     "output_type": "stream",
     "text": [
      "\n",
      "Finding actions:   0%|                                    | 0/4 [00:00<?, ?it/s]\u001b[A\n",
      "Action: age:   0%|                                        | 0/4 [00:00<?, ?it/s]\u001b[A\n",
      "Action: age:  25%|████████                        | 1/4 [00:00<00:00,  4.55it/s]\u001b[A\n",
      "Action: gender:  25%|███████▎                     | 1/4 [00:00<00:00,  4.55it/s]\u001b[A\n",
      "Action: gender:  50%|██████████████▌              | 2/4 [00:00<00:00,  4.66it/s]\u001b[A\n",
      "Action: race:  50%|███████████████▌               | 2/4 [00:00<00:00,  4.66it/s]\u001b[A\n",
      "Action: race:  75%|███████████████████████▎       | 3/4 [00:00<00:00,  4.61it/s]\u001b[A\n",
      "Action: emotion: 100%|████████████████████████████| 4/4 [00:00<00:00,  6.01it/s]\u001b[A\n",
      "543it [08:25,  1.42it/s]"
     ]
    },
    {
     "name": "stdout",
     "output_type": "stream",
     "text": [
      "/Users/jessecoulter/Downloads/FIN377/CEOPersonalities-/matched_pictures/John Jumper/2013\n"
     ]
    },
    {
     "name": "stderr",
     "output_type": "stream",
     "text": [
      "\n",
      "Finding actions:   0%|                                    | 0/4 [00:00<?, ?it/s]\u001b[A\n",
      "Action: age:   0%|                                        | 0/4 [00:00<?, ?it/s]\u001b[A\n",
      "Action: age:  25%|████████                        | 1/4 [00:00<00:00,  4.56it/s]\u001b[A\n",
      "Action: gender:  25%|███████▎                     | 1/4 [00:00<00:00,  4.56it/s]\u001b[A\n",
      "Action: gender:  50%|██████████████▌              | 2/4 [00:00<00:00,  4.53it/s]\u001b[A\n",
      "Action: race:  50%|███████████████▌               | 2/4 [00:00<00:00,  4.53it/s]\u001b[A\n",
      "Action: race:  75%|███████████████████████▎       | 3/4 [00:00<00:00,  4.60it/s]\u001b[A\n",
      "Action: emotion: 100%|████████████████████████████| 4/4 [00:00<00:00,  5.97it/s]\u001b[A\n",
      "544it [08:26,  1.42it/s]"
     ]
    },
    {
     "name": "stdout",
     "output_type": "stream",
     "text": [
      "/Users/jessecoulter/Downloads/FIN377/CEOPersonalities-/matched_pictures/Roger Krone/2014\n"
     ]
    },
    {
     "name": "stderr",
     "output_type": "stream",
     "text": [
      "545it [08:26,  1.60it/s]"
     ]
    },
    {
     "name": "stdout",
     "output_type": "stream",
     "text": [
      "Error analyzing /Users/jessecoulter/Downloads/FIN377/CEOPersonalities-/matched_pictures/Roger Krone/2014/pic1.jpg: Face could not be detected in /Users/jessecoulter/Downloads/FIN377/CEOPersonalities-/matched_pictures/Roger Krone/2014/pic1.jpg.Please confirm that the picture is a face photo or consider to set enforce_detection param to False.\n",
      "/Users/jessecoulter/Downloads/FIN377/CEOPersonalities-/matched_pictures/Roger Krone/2015\n"
     ]
    },
    {
     "name": "stderr",
     "output_type": "stream",
     "text": [
      "\n",
      "Finding actions:   0%|                                    | 0/4 [00:00<?, ?it/s]\u001b[A\n",
      "Action: age:   0%|                                        | 0/4 [00:00<?, ?it/s]\u001b[A\n",
      "Action: age:  25%|████████                        | 1/4 [00:00<00:00,  4.75it/s]\u001b[A\n",
      "Action: gender:  25%|███████▎                     | 1/4 [00:00<00:00,  4.75it/s]\u001b[A\n",
      "Action: gender:  50%|██████████████▌              | 2/4 [00:00<00:00,  4.73it/s]\u001b[A\n",
      "Action: race:  50%|███████████████▌               | 2/4 [00:00<00:00,  4.73it/s]\u001b[A\n",
      "Action: race:  75%|███████████████████████▎       | 3/4 [00:00<00:00,  4.73it/s]\u001b[A\n",
      "Action: emotion: 100%|████████████████████████████| 4/4 [00:00<00:00,  6.15it/s]\u001b[A\n",
      "546it [08:27,  1.55it/s]"
     ]
    },
    {
     "name": "stdout",
     "output_type": "stream",
     "text": [
      "/Users/jessecoulter/Downloads/FIN377/CEOPersonalities-/matched_pictures/Roger Krone/2016\n"
     ]
    },
    {
     "name": "stderr",
     "output_type": "stream",
     "text": [
      "\n",
      "Finding actions:   0%|                                    | 0/4 [00:00<?, ?it/s]\u001b[A\n",
      "Action: age:   0%|                                        | 0/4 [00:00<?, ?it/s]\u001b[A\n",
      "Action: age:  25%|████████                        | 1/4 [00:00<00:00,  4.36it/s]\u001b[A\n",
      "Action: gender:  25%|███████▎                     | 1/4 [00:00<00:00,  4.36it/s]\u001b[A\n",
      "Action: gender:  50%|██████████████▌              | 2/4 [00:00<00:00,  4.35it/s]\u001b[A\n",
      "Action: race:  50%|███████████████▌               | 2/4 [00:00<00:00,  4.35it/s]\u001b[A\n",
      "Action: race:  75%|███████████████████████▎       | 3/4 [00:00<00:00,  4.32it/s]\u001b[A\n",
      "Action: emotion: 100%|████████████████████████████| 4/4 [00:00<00:00,  5.63it/s]\u001b[A\n",
      "547it [08:28,  1.25it/s]"
     ]
    },
    {
     "name": "stdout",
     "output_type": "stream",
     "text": [
      "/Users/jessecoulter/Downloads/FIN377/CEOPersonalities-/matched_pictures/Roger Krone/2017\n"
     ]
    },
    {
     "name": "stderr",
     "output_type": "stream",
     "text": [
      "\n",
      "Finding actions:   0%|                                    | 0/4 [00:00<?, ?it/s]\u001b[A\n",
      "Action: age:   0%|                                        | 0/4 [00:00<?, ?it/s]\u001b[A\n",
      "Action: age:  25%|████████                        | 1/4 [00:00<00:00,  4.20it/s]\u001b[A\n",
      "Action: gender:  25%|███████▎                     | 1/4 [00:00<00:00,  4.20it/s]\u001b[A\n",
      "Action: gender:  50%|██████████████▌              | 2/4 [00:00<00:00,  4.31it/s]\u001b[A\n",
      "Action: race:  50%|███████████████▌               | 2/4 [00:00<00:00,  4.31it/s]\u001b[A\n",
      "Action: race:  75%|███████████████████████▎       | 3/4 [00:00<00:00,  4.43it/s]\u001b[A\n",
      "Action: emotion: 100%|████████████████████████████| 4/4 [00:00<00:00,  5.70it/s]\u001b[A\n",
      "548it [08:31,  1.37s/it]"
     ]
    },
    {
     "name": "stdout",
     "output_type": "stream",
     "text": [
      "/Users/jessecoulter/Downloads/FIN377/CEOPersonalities-/matched_pictures/Roger Krone/2018\n"
     ]
    },
    {
     "name": "stderr",
     "output_type": "stream",
     "text": [
      "\n",
      "Finding actions:   0%|                                    | 0/4 [00:00<?, ?it/s]\u001b[A\n",
      "Action: age:   0%|                                        | 0/4 [00:00<?, ?it/s]\u001b[A\n",
      "Action: age:  25%|████████                        | 1/4 [00:00<00:00,  4.34it/s]\u001b[A\n",
      "Action: gender:  25%|███████▎                     | 1/4 [00:00<00:00,  4.34it/s]\u001b[A\n",
      "Action: gender:  50%|██████████████▌              | 2/4 [00:00<00:00,  4.47it/s]\u001b[A\n",
      "Action: race:  50%|███████████████▌               | 2/4 [00:00<00:00,  4.47it/s]\u001b[A\n",
      "Action: race:  75%|███████████████████████▎       | 3/4 [00:00<00:00,  4.40it/s]\u001b[A\n",
      "Action: emotion: 100%|████████████████████████████| 4/4 [00:00<00:00,  5.73it/s]\u001b[A\n",
      "549it [08:32,  1.19s/it]"
     ]
    },
    {
     "name": "stdout",
     "output_type": "stream",
     "text": [
      "/Users/jessecoulter/Downloads/FIN377/CEOPersonalities-/matched_pictures/Roger Krone/2019\n"
     ]
    },
    {
     "name": "stderr",
     "output_type": "stream",
     "text": [
      "\n",
      "Finding actions:   0%|                                    | 0/4 [00:00<?, ?it/s]\u001b[A\n",
      "Action: age:   0%|                                        | 0/4 [00:00<?, ?it/s]\u001b[A\n",
      "Action: age:  25%|████████                        | 1/4 [00:00<00:00,  4.14it/s]\u001b[A\n",
      "Action: gender:  25%|███████▎                     | 1/4 [00:00<00:00,  4.14it/s]\u001b[A\n",
      "Action: gender:  50%|██████████████▌              | 2/4 [00:00<00:00,  4.40it/s]\u001b[A\n",
      "Action: race:  50%|███████████████▌               | 2/4 [00:00<00:00,  4.40it/s]\u001b[A\n",
      "Action: race:  75%|███████████████████████▎       | 3/4 [00:00<00:00,  4.32it/s]\u001b[A\n",
      "Action: emotion: 100%|████████████████████████████| 4/4 [00:00<00:00,  5.62it/s]\u001b[A\n",
      "550it [08:33,  1.11s/it]"
     ]
    },
    {
     "name": "stdout",
     "output_type": "stream",
     "text": [
      "/Users/jessecoulter/Downloads/FIN377/CEOPersonalities-/matched_pictures/Walt Havenstein/2010\n"
     ]
    },
    {
     "name": "stderr",
     "output_type": "stream",
     "text": [
      "\n",
      "Finding actions:   0%|                                    | 0/4 [00:00<?, ?it/s]\u001b[A\n",
      "Action: age:   0%|                                        | 0/4 [00:00<?, ?it/s]\u001b[A\n",
      "Action: age:  25%|████████                        | 1/4 [00:00<00:00,  4.50it/s]\u001b[A\n",
      "Action: gender:  25%|███████▎                     | 1/4 [00:00<00:00,  4.50it/s]\u001b[A\n",
      "Action: gender:  50%|██████████████▌              | 2/4 [00:00<00:00,  4.43it/s]\u001b[A\n",
      "Action: race:  50%|███████████████▌               | 2/4 [00:00<00:00,  4.43it/s]\u001b[A\n",
      "Action: race:  75%|███████████████████████▎       | 3/4 [00:00<00:00,  4.39it/s]\u001b[A\n",
      "Action: emotion: 100%|████████████████████████████| 4/4 [00:00<00:00,  5.74it/s]\u001b[A\n",
      "553it [08:33,  1.73it/s]"
     ]
    },
    {
     "name": "stdout",
     "output_type": "stream",
     "text": [
      "/Users/jessecoulter/Downloads/FIN377/CEOPersonalities-/matched_pictures/Walt Havenstein/2011\n",
      "No image found in /Users/jessecoulter/Downloads/FIN377/CEOPersonalities-/matched_pictures/Walt Havenstein/2011\n",
      "/Users/jessecoulter/Downloads/FIN377/CEOPersonalities-/matched_pictures/Walt Havenstein/2012\n",
      "Error analyzing /Users/jessecoulter/Downloads/FIN377/CEOPersonalities-/matched_pictures/Walt Havenstein/2012/pic3.png: Face could not be detected in /Users/jessecoulter/Downloads/FIN377/CEOPersonalities-/matched_pictures/Walt Havenstein/2012/pic3.png.Please confirm that the picture is a face photo or consider to set enforce_detection param to False.\n",
      "/Users/jessecoulter/Downloads/FIN377/CEOPersonalities-/matched_pictures/Anthony Moraco/2013\n"
     ]
    },
    {
     "name": "stderr",
     "output_type": "stream",
     "text": [
      "\n",
      "Finding actions:   0%|                                    | 0/4 [00:00<?, ?it/s]\u001b[A\n",
      "Action: age:   0%|                                        | 0/4 [00:00<?, ?it/s]\u001b[A\n",
      "Action: age:  25%|████████                        | 1/4 [00:00<00:00,  4.84it/s]\u001b[A\n",
      "Action: gender:  25%|███████▎                     | 1/4 [00:00<00:00,  4.84it/s]\u001b[A\n",
      "Action: gender:  50%|██████████████▌              | 2/4 [00:00<00:00,  4.58it/s]\u001b[A\n",
      "Action: race:  50%|███████████████▌               | 2/4 [00:00<00:00,  4.58it/s]\u001b[A\n",
      "Action: race:  75%|███████████████████████▎       | 3/4 [00:00<00:00,  4.48it/s]\u001b[A\n",
      "Action: emotion: 100%|████████████████████████████| 4/4 [00:00<00:00,  5.89it/s]\u001b[A\n",
      "\n",
      "Finding actions:   0%|                                    | 0/4 [00:00<?, ?it/s]\u001b[A\n",
      "Action: age:   0%|                                        | 0/4 [00:00<?, ?it/s]\u001b[A\n",
      "Action: age:  25%|████████                        | 1/4 [00:00<00:00,  4.82it/s]\u001b[A\n",
      "Action: gender:  25%|███████▎                     | 1/4 [00:00<00:00,  4.82it/s]\u001b[A\n",
      "Action: gender:  50%|██████████████▌              | 2/4 [00:00<00:00,  4.87it/s]\u001b[A\n",
      "Action: race:  50%|███████████████▌               | 2/4 [00:00<00:00,  4.87it/s]\u001b[A\n",
      "Action: race:  75%|███████████████████████▎       | 3/4 [00:00<00:00,  4.72it/s]\u001b[A\n",
      "Action: emotion: 100%|████████████████████████████| 4/4 [00:00<00:00,  6.18it/s]\u001b[A\n",
      "\n",
      "Finding actions:   0%|                                    | 0/4 [00:00<?, ?it/s]\u001b[A\n",
      "Action: age:   0%|                                        | 0/4 [00:00<?, ?it/s]\u001b[A\n",
      "Action: age:  25%|████████                        | 1/4 [00:00<00:00,  4.53it/s]\u001b[A\n",
      "Action: gender:  25%|███████▎                     | 1/4 [00:00<00:00,  4.53it/s]\u001b[A\n",
      "Action: gender:  50%|██████████████▌              | 2/4 [00:00<00:00,  4.71it/s]\u001b[A\n",
      "Action: race:  50%|███████████████▌               | 2/4 [00:00<00:00,  4.71it/s]\u001b[A\n",
      "Action: race:  75%|███████████████████████▎       | 3/4 [00:00<00:00,  4.60it/s]\u001b[A\n",
      "Action: emotion: 100%|████████████████████████████| 4/4 [00:00<00:00,  6.00it/s]\u001b[A\n",
      "\n",
      "Finding actions:   0%|                                    | 0/4 [00:00<?, ?it/s]\u001b[A\n",
      "Action: age:   0%|                                        | 0/4 [00:00<?, ?it/s]\u001b[A\n",
      "Action: age:  25%|████████                        | 1/4 [00:00<00:00,  4.53it/s]\u001b[A\n",
      "Action: gender:  25%|███████▎                     | 1/4 [00:00<00:00,  4.53it/s]\u001b[A\n",
      "Action: gender:  50%|██████████████▌              | 2/4 [00:00<00:00,  4.44it/s]\u001b[A\n",
      "Action: race:  50%|███████████████▌               | 2/4 [00:00<00:00,  4.44it/s]\u001b[A\n",
      "Action: race:  75%|███████████████████████▎       | 3/4 [00:00<00:00,  4.62it/s]\u001b[A\n",
      "Action: emotion: 100%|████████████████████████████| 4/4 [00:00<00:00,  5.95it/s]\u001b[A\n",
      "\n",
      "Finding actions:   0%|                                    | 0/4 [00:00<?, ?it/s]\u001b[A\n",
      "Action: age:   0%|                                        | 0/4 [00:00<?, ?it/s]\u001b[A\n",
      "Action: age:  25%|████████                        | 1/4 [00:00<00:00,  4.85it/s]\u001b[A\n",
      "Action: gender:  25%|███████▎                     | 1/4 [00:00<00:00,  4.85it/s]\u001b[A\n",
      "Action: gender:  50%|██████████████▌              | 2/4 [00:00<00:00,  4.80it/s]\u001b[A\n",
      "Action: race:  50%|███████████████▌               | 2/4 [00:00<00:00,  4.80it/s]\u001b[A\n",
      "Action: race:  75%|███████████████████████▎       | 3/4 [00:00<00:00,  4.69it/s]\u001b[A\n",
      "Action: emotion: 100%|████████████████████████████| 4/4 [00:00<00:00,  6.14it/s]\u001b[A\n",
      "\n",
      "Finding actions:   0%|                                    | 0/4 [00:00<?, ?it/s]\u001b[A\n",
      "Action: age:   0%|                                        | 0/4 [00:00<?, ?it/s]\u001b[A\n",
      "Action: age:  25%|████████                        | 1/4 [00:00<00:00,  4.71it/s]\u001b[A\n",
      "Action: gender:  25%|███████▎                     | 1/4 [00:00<00:00,  4.71it/s]\u001b[A\n",
      "Action: gender:  50%|██████████████▌              | 2/4 [00:00<00:00,  4.66it/s]\u001b[A\n",
      "Action: race:  50%|███████████████▌               | 2/4 [00:00<00:00,  4.66it/s]\u001b[A\n",
      "Action: race:  75%|███████████████████████▎       | 3/4 [00:00<00:00,  4.48it/s]\u001b[A\n",
      "Action: emotion: 100%|████████████████████████████| 4/4 [00:00<00:00,  5.88it/s]\u001b[A\n",
      "\n",
      "Finding actions:   0%|                                    | 0/4 [00:00<?, ?it/s]\u001b[A\n",
      "Action: age:   0%|                                        | 0/4 [00:00<?, ?it/s]\u001b[A\n",
      "Action: age:  25%|████████                        | 1/4 [00:00<00:00,  4.47it/s]\u001b[A\n",
      "Action: gender:  25%|███████▎                     | 1/4 [00:00<00:00,  4.47it/s]\u001b[A\n",
      "Action: gender:  50%|██████████████▌              | 2/4 [00:00<00:00,  4.51it/s]\u001b[A\n",
      "Action: race:  50%|███████████████▌               | 2/4 [00:00<00:00,  4.51it/s]\u001b[A\n",
      "Action: race:  75%|███████████████████████▎       | 3/4 [00:00<00:00,  4.49it/s]\u001b[A\n",
      "Action: emotion: 100%|████████████████████████████| 4/4 [00:00<00:00,  5.85it/s]\u001b[A\n",
      "\n",
      "Finding actions:   0%|                                    | 0/4 [00:00<?, ?it/s]\u001b[A\n",
      "Action: age:   0%|                                        | 0/4 [00:00<?, ?it/s]\u001b[A\n",
      "Action: age:  25%|████████                        | 1/4 [00:00<00:00,  4.54it/s]\u001b[A\n",
      "Action: gender:  25%|███████▎                     | 1/4 [00:00<00:00,  4.54it/s]\u001b[A\n",
      "Action: gender:  50%|██████████████▌              | 2/4 [00:00<00:00,  4.69it/s]\u001b[A\n",
      "Action: race:  50%|███████████████▌               | 2/4 [00:00<00:00,  4.69it/s]\u001b[A\n",
      "Action: race:  75%|███████████████████████▎       | 3/4 [00:00<00:00,  4.68it/s]\u001b[A\n",
      "Action: emotion: 100%|████████████████████████████| 4/4 [00:00<00:00,  6.07it/s]\u001b[A\n",
      "\n",
      "Finding actions:   0%|                                    | 0/4 [00:00<?, ?it/s]\u001b[A\n",
      "Action: age:   0%|                                        | 0/4 [00:00<?, ?it/s]\u001b[A\n",
      "Action: age:  25%|████████                        | 1/4 [00:00<00:00,  4.55it/s]\u001b[A\n",
      "Action: gender:  25%|███████▎                     | 1/4 [00:00<00:00,  4.55it/s]\u001b[A\n",
      "Action: gender:  50%|██████████████▌              | 2/4 [00:00<00:00,  4.40it/s]\u001b[A\n",
      "Action: race:  50%|███████████████▌               | 2/4 [00:00<00:00,  4.40it/s]\u001b[A\n",
      "Action: race:  75%|███████████████████████▎       | 3/4 [00:00<00:00,  4.58it/s]\u001b[A\n",
      "Action: emotion: 100%|████████████████████████████| 4/4 [00:00<00:00,  5.91it/s]\u001b[A\n",
      "\n",
      "Finding actions:   0%|                                    | 0/4 [00:00<?, ?it/s]\u001b[A\n",
      "Action: age:   0%|                                        | 0/4 [00:00<?, ?it/s]\u001b[A\n",
      "Action: age:  25%|████████                        | 1/4 [00:00<00:00,  4.91it/s]\u001b[A\n",
      "Action: gender:  25%|███████▎                     | 1/4 [00:00<00:00,  4.91it/s]\u001b[A\n",
      "Action: gender:  50%|██████████████▌              | 2/4 [00:00<00:00,  4.70it/s]\u001b[A\n",
      "Action: race:  50%|███████████████▌               | 2/4 [00:00<00:00,  4.70it/s]\u001b[A\n",
      "Action: race:  75%|███████████████████████▎       | 3/4 [00:00<00:00,  4.57it/s]\u001b[A\n",
      "Action: emotion: 100%|████████████████████████████| 4/4 [00:00<00:00,  6.01it/s]\u001b[A\n",
      "\n",
      "Finding actions:   0%|                                    | 0/4 [00:00<?, ?it/s]\u001b[A\n",
      "Action: age:   0%|                                        | 0/4 [00:00<?, ?it/s]\u001b[A\n",
      "Action: age:  25%|████████                        | 1/4 [00:00<00:00,  4.52it/s]\u001b[A\n",
      "Action: gender:  25%|███████▎                     | 1/4 [00:00<00:00,  4.52it/s]\u001b[A\n",
      "Action: gender:  50%|██████████████▌              | 2/4 [00:00<00:00,  4.71it/s]\u001b[A\n",
      "Action: race:  50%|███████████████▌               | 2/4 [00:00<00:00,  4.71it/s]\u001b[A\n",
      "Action: race:  75%|███████████████████████▎       | 3/4 [00:00<00:00,  4.77it/s]\u001b[A\n",
      "Action: emotion: 100%|████████████████████████████| 4/4 [00:00<00:00,  6.16it/s]\u001b[A\n",
      "\n",
      "Finding actions:   0%|                                    | 0/4 [00:00<?, ?it/s]\u001b[A\n",
      "Action: age:   0%|                                        | 0/4 [00:00<?, ?it/s]\u001b[A\n",
      "Action: age:  25%|████████                        | 1/4 [00:00<00:00,  4.43it/s]\u001b[A\n",
      "Action: gender:  25%|███████▎                     | 1/4 [00:00<00:00,  4.43it/s]\u001b[A\n",
      "Action: gender:  50%|██████████████▌              | 2/4 [00:00<00:00,  4.42it/s]\u001b[A\n",
      "Action: race:  50%|███████████████▌               | 2/4 [00:00<00:00,  4.42it/s]\u001b[A\n",
      "Action: race:  75%|███████████████████████▎       | 3/4 [00:00<00:00,  4.58it/s]\u001b[A\n",
      "Action: emotion: 100%|████████████████████████████| 4/4 [00:00<00:00,  5.91it/s]\u001b[A\n",
      "\n",
      "Finding actions:   0%|                                    | 0/4 [00:00<?, ?it/s]\u001b[A\n",
      "Action: age:   0%|                                        | 0/4 [00:00<?, ?it/s]\u001b[A\n",
      "Action: age:  25%|████████                        | 1/4 [00:00<00:00,  4.62it/s]\u001b[A\n",
      "Action: gender:  25%|███████▎                     | 1/4 [00:00<00:00,  4.62it/s]\u001b[A\n",
      "Action: gender:  50%|██████████████▌              | 2/4 [00:00<00:00,  4.65it/s]\u001b[A\n",
      "Action: race:  50%|███████████████▌               | 2/4 [00:00<00:00,  4.65it/s]\u001b[A\n",
      "Action: race:  75%|███████████████████████▎       | 3/4 [00:00<00:00,  4.62it/s]\u001b[A\n",
      "Action: emotion: 100%|████████████████████████████| 4/4 [00:00<00:00,  6.01it/s]\u001b[A\n",
      "\n",
      "Finding actions:   0%|                                    | 0/4 [00:00<?, ?it/s]\u001b[A\n",
      "Action: age:   0%|                                        | 0/4 [00:00<?, ?it/s]\u001b[A\n",
      "Action: age:  25%|████████                        | 1/4 [00:00<00:00,  4.52it/s]\u001b[A\n",
      "Action: gender:  25%|███████▎                     | 1/4 [00:00<00:00,  4.52it/s]\u001b[A\n",
      "Action: gender:  50%|██████████████▌              | 2/4 [00:00<00:00,  4.67it/s]\u001b[A\n",
      "Action: race:  50%|███████████████▌               | 2/4 [00:00<00:00,  4.67it/s]\u001b[A\n",
      "Action: race:  75%|███████████████████████▎       | 3/4 [00:00<00:00,  4.65it/s]\u001b[A\n",
      "Action: emotion: 100%|████████████████████████████| 4/4 [00:00<00:00,  6.03it/s]\u001b[A\n",
      "\n",
      "Finding actions:   0%|                                    | 0/4 [00:00<?, ?it/s]\u001b[A\n",
      "Action: age:   0%|                                        | 0/4 [00:00<?, ?it/s]\u001b[A\n",
      "Action: age:  25%|████████                        | 1/4 [00:00<00:00,  4.45it/s]\u001b[A\n",
      "Action: gender:  25%|███████▎                     | 1/4 [00:00<00:00,  4.45it/s]\u001b[A\n",
      "Action: gender:  50%|██████████████▌              | 2/4 [00:00<00:00,  4.40it/s]\u001b[A\n",
      "Action: race:  50%|███████████████▌               | 2/4 [00:00<00:00,  4.40it/s]\u001b[A\n",
      "Action: race:  75%|███████████████████████▎       | 3/4 [00:00<00:00,  4.40it/s]\u001b[A\n",
      "Action: emotion: 100%|████████████████████████████| 4/4 [00:00<00:00,  5.72it/s]\u001b[A\n",
      "\n",
      "Finding actions:   0%|                                    | 0/4 [00:00<?, ?it/s]\u001b[A\n",
      "Action: age:   0%|                                        | 0/4 [00:00<?, ?it/s]\u001b[A\n",
      "Action: age:  25%|████████                        | 1/4 [00:00<00:00,  4.43it/s]\u001b[A\n",
      "Action: gender:  25%|███████▎                     | 1/4 [00:00<00:00,  4.43it/s]\u001b[A\n",
      "Action: gender:  50%|██████████████▌              | 2/4 [00:00<00:00,  4.65it/s]\u001b[A\n",
      "Action: race:  50%|███████████████▌               | 2/4 [00:00<00:00,  4.65it/s]\u001b[A\n",
      "Action: race:  75%|███████████████████████▎       | 3/4 [00:00<00:00,  4.71it/s]\u001b[A\n",
      "Action: emotion: 100%|████████████████████████████| 4/4 [00:00<00:00,  6.08it/s]\u001b[A\n",
      "\n",
      "Finding actions:   0%|                                    | 0/4 [00:00<?, ?it/s]\u001b[A\n",
      "Action: age:   0%|                                        | 0/4 [00:00<?, ?it/s]\u001b[A\n",
      "Action: age:  25%|████████                        | 1/4 [00:00<00:00,  4.46it/s]\u001b[A\n",
      "Action: gender:  25%|███████▎                     | 1/4 [00:00<00:00,  4.46it/s]\u001b[A\n",
      "Action: gender:  50%|██████████████▌              | 2/4 [00:00<00:00,  4.23it/s]\u001b[A\n",
      "Action: race:  50%|███████████████▌               | 2/4 [00:00<00:00,  4.23it/s]\u001b[A\n",
      "Action: race:  75%|███████████████████████▎       | 3/4 [00:00<00:00,  4.04it/s]\u001b[A\n",
      "Action: emotion: 100%|████████████████████████████| 4/4 [00:00<00:00,  5.35it/s]\u001b[A\n",
      "554it [08:45,  3.31s/it]"
     ]
    },
    {
     "name": "stdout",
     "output_type": "stream",
     "text": [
      "/Users/jessecoulter/Downloads/FIN377/CEOPersonalities-/matched_pictures/Anthony Moraco/2014\n"
     ]
    },
    {
     "name": "stderr",
     "output_type": "stream",
     "text": [
      "\n",
      "Finding actions:   0%|                                    | 0/4 [00:00<?, ?it/s]\u001b[A\n",
      "Action: age:   0%|                                        | 0/4 [00:00<?, ?it/s]\u001b[A\n",
      "Action: age:  25%|████████                        | 1/4 [00:00<00:00,  4.39it/s]\u001b[A\n",
      "Action: gender:  25%|███████▎                     | 1/4 [00:00<00:00,  4.39it/s]\u001b[A\n",
      "Action: gender:  50%|██████████████▌              | 2/4 [00:00<00:00,  4.57it/s]\u001b[A\n",
      "Action: race:  50%|███████████████▌               | 2/4 [00:00<00:00,  4.57it/s]\u001b[A\n",
      "Action: race:  75%|███████████████████████▎       | 3/4 [00:00<00:00,  4.68it/s]\u001b[A\n",
      "Action: emotion: 100%|████████████████████████████| 4/4 [00:00<00:00,  6.02it/s]\u001b[A\n",
      "555it [08:46,  2.65s/it]"
     ]
    },
    {
     "name": "stdout",
     "output_type": "stream",
     "text": [
      "/Users/jessecoulter/Downloads/FIN377/CEOPersonalities-/matched_pictures/Anthony Moraco/2015\n"
     ]
    },
    {
     "name": "stderr",
     "output_type": "stream",
     "text": [
      "\n",
      "Finding actions:   0%|                                    | 0/4 [00:00<?, ?it/s]\u001b[A\n",
      "Action: age:   0%|                                        | 0/4 [00:00<?, ?it/s]\u001b[A\n",
      "Action: age:  25%|████████                        | 1/4 [00:00<00:00,  4.67it/s]\u001b[A\n",
      "Action: gender:  25%|███████▎                     | 1/4 [00:00<00:00,  4.67it/s]\u001b[A\n",
      "Action: gender:  50%|██████████████▌              | 2/4 [00:00<00:00,  4.74it/s]\u001b[A\n",
      "Action: race:  50%|███████████████▌               | 2/4 [00:00<00:00,  4.74it/s]\u001b[A\n",
      "Action: race:  75%|███████████████████████▎       | 3/4 [00:00<00:00,  4.53it/s]\u001b[A\n",
      "Action: emotion: 100%|████████████████████████████| 4/4 [00:00<00:00,  5.95it/s]\u001b[A\n",
      "556it [08:47,  2.13s/it]"
     ]
    },
    {
     "name": "stdout",
     "output_type": "stream",
     "text": [
      "/Users/jessecoulter/Downloads/FIN377/CEOPersonalities-/matched_pictures/Anthony Moraco/2016\n"
     ]
    },
    {
     "name": "stderr",
     "output_type": "stream",
     "text": [
      "\n",
      "Finding actions:   0%|                                    | 0/4 [00:00<?, ?it/s]\u001b[A\n",
      "Action: age:   0%|                                        | 0/4 [00:00<?, ?it/s]\u001b[A\n",
      "Action: age:  25%|████████                        | 1/4 [00:00<00:00,  4.70it/s]\u001b[A\n",
      "Action: gender:  25%|███████▎                     | 1/4 [00:00<00:00,  4.70it/s]\u001b[A\n",
      "Action: gender:  50%|██████████████▌              | 2/4 [00:00<00:00,  4.49it/s]\u001b[A\n",
      "Action: race:  50%|███████████████▌               | 2/4 [00:00<00:00,  4.49it/s]\u001b[A\n",
      "Action: race:  75%|███████████████████████▎       | 3/4 [00:00<00:00,  4.55it/s]\u001b[A\n",
      "Action: emotion: 100%|████████████████████████████| 4/4 [00:00<00:00,  5.93it/s]\u001b[A\n",
      "557it [08:48,  1.80s/it]"
     ]
    },
    {
     "name": "stdout",
     "output_type": "stream",
     "text": [
      "/Users/jessecoulter/Downloads/FIN377/CEOPersonalities-/matched_pictures/Anthony Moraco/2017\n"
     ]
    },
    {
     "name": "stderr",
     "output_type": "stream",
     "text": [
      "\n",
      "Finding actions:   0%|                                    | 0/4 [00:00<?, ?it/s]\u001b[A\n",
      "Action: age:   0%|                                        | 0/4 [00:00<?, ?it/s]\u001b[A\n",
      "Action: age:  25%|████████                        | 1/4 [00:00<00:00,  4.49it/s]\u001b[A\n",
      "Action: gender:  25%|███████▎                     | 1/4 [00:00<00:00,  4.49it/s]\u001b[A\n",
      "Action: gender:  50%|██████████████▌              | 2/4 [00:00<00:00,  4.44it/s]\u001b[A\n",
      "Action: race:  50%|███████████████▌               | 2/4 [00:00<00:00,  4.44it/s]\u001b[A\n",
      "Action: race:  75%|███████████████████████▎       | 3/4 [00:00<00:00,  4.58it/s]\u001b[A\n",
      "Action: emotion: 100%|████████████████████████████| 4/4 [00:00<00:00,  5.92it/s]\u001b[A\n",
      "558it [08:49,  1.69s/it]"
     ]
    },
    {
     "name": "stdout",
     "output_type": "stream",
     "text": [
      "/Users/jessecoulter/Downloads/FIN377/CEOPersonalities-/matched_pictures/Anthony Moraco/2018\n"
     ]
    },
    {
     "name": "stderr",
     "output_type": "stream",
     "text": [
      "\n",
      "Finding actions:   0%|                                    | 0/4 [00:00<?, ?it/s]\u001b[A\n",
      "Action: age:   0%|                                        | 0/4 [00:00<?, ?it/s]\u001b[A\n",
      "Action: age:  25%|████████                        | 1/4 [00:00<00:00,  4.41it/s]\u001b[A\n",
      "Action: gender:  25%|███████▎                     | 1/4 [00:00<00:00,  4.41it/s]\u001b[A\n",
      "Action: gender:  50%|██████████████▌              | 2/4 [00:00<00:00,  4.52it/s]\u001b[A\n",
      "Action: race:  50%|███████████████▌               | 2/4 [00:00<00:00,  4.52it/s]\u001b[A\n",
      "Action: race:  75%|███████████████████████▎       | 3/4 [00:00<00:00,  4.47it/s]\u001b[A\n",
      "Action: emotion: 100%|████████████████████████████| 4/4 [00:00<00:00,  5.82it/s]\u001b[A\n",
      "559it [08:50,  1.42s/it]"
     ]
    },
    {
     "name": "stdout",
     "output_type": "stream",
     "text": [
      "/Users/jessecoulter/Downloads/FIN377/CEOPersonalities-/matched_pictures/Nazzic Keene/2019\n"
     ]
    },
    {
     "name": "stderr",
     "output_type": "stream",
     "text": [
      "\n",
      "Finding actions:   0%|                                    | 0/4 [00:00<?, ?it/s]\u001b[A\n",
      "Action: age:   0%|                                        | 0/4 [00:00<?, ?it/s]\u001b[A\n",
      "Action: age:  25%|████████                        | 1/4 [00:00<00:00,  4.62it/s]\u001b[A\n",
      "Action: gender:  25%|███████▎                     | 1/4 [00:00<00:00,  4.62it/s]\u001b[A\n",
      "Action: gender:  50%|██████████████▌              | 2/4 [00:00<00:00,  4.59it/s]\u001b[A\n",
      "Action: race:  50%|███████████████▌               | 2/4 [00:00<00:00,  4.59it/s]\u001b[A\n",
      "Action: race:  75%|███████████████████████▎       | 3/4 [00:00<00:00,  4.60it/s]\u001b[A\n",
      "Action: emotion: 100%|████████████████████████████| 4/4 [00:00<00:00,  5.99it/s]\u001b[A\n",
      "560it [08:53,  1.90s/it]"
     ]
    },
    {
     "name": "stdout",
     "output_type": "stream",
     "text": [
      "/Users/jessecoulter/Downloads/FIN377/CEOPersonalities-/matched_pictures/Glen F. Post III/2010\n",
      "Folder not found: /Users/jessecoulter/Downloads/FIN377/CEOPersonalities-/matched_pictures/Glen F. Post III/2010\n",
      "/Users/jessecoulter/Downloads/FIN377/CEOPersonalities-/matched_pictures/Glen F. Post III/2011\n"
     ]
    },
    {
     "name": "stderr",
     "output_type": "stream",
     "text": [
      "\n",
      "Finding actions:   0%|                                    | 0/4 [00:00<?, ?it/s]\u001b[A\n",
      "Action: age:   0%|                                        | 0/4 [00:00<?, ?it/s]\u001b[A\n",
      "Action: age:  25%|████████                        | 1/4 [00:00<00:00,  4.32it/s]\u001b[A\n",
      "Action: gender:  25%|███████▎                     | 1/4 [00:00<00:00,  4.32it/s]\u001b[A\n",
      "Action: gender:  50%|██████████████▌              | 2/4 [00:00<00:00,  4.46it/s]\u001b[A\n",
      "Action: race:  50%|███████████████▌               | 2/4 [00:00<00:00,  4.46it/s]\u001b[A\n",
      "Action: race:  75%|███████████████████████▎       | 3/4 [00:00<00:00,  4.54it/s]\u001b[A\n",
      "Action: emotion: 100%|████████████████████████████| 4/4 [00:00<00:00,  5.87it/s]\u001b[A\n",
      "\n",
      "Finding actions:   0%|                                    | 0/4 [00:00<?, ?it/s]\u001b[A\n",
      "Action: age:   0%|                                        | 0/4 [00:00<?, ?it/s]\u001b[A\n",
      "Action: age:  25%|████████                        | 1/4 [00:00<00:00,  4.33it/s]\u001b[A\n",
      "Action: gender:  25%|███████▎                     | 1/4 [00:00<00:00,  4.33it/s]\u001b[A\n",
      "Action: gender:  50%|██████████████▌              | 2/4 [00:00<00:00,  4.40it/s]\u001b[A\n",
      "Action: race:  50%|███████████████▌               | 2/4 [00:00<00:00,  4.40it/s]\u001b[A\n",
      "Action: race:  75%|███████████████████████▎       | 3/4 [00:00<00:00,  4.49it/s]\u001b[A\n",
      "Action: emotion: 100%|████████████████████████████| 4/4 [00:00<00:00,  5.80it/s]\u001b[A\n",
      "562it [08:54,  1.36s/it]"
     ]
    },
    {
     "name": "stdout",
     "output_type": "stream",
     "text": [
      "/Users/jessecoulter/Downloads/FIN377/CEOPersonalities-/matched_pictures/Glen F. Post III/2012\n"
     ]
    },
    {
     "name": "stderr",
     "output_type": "stream",
     "text": [
      "\n",
      "Finding actions:   0%|                                    | 0/4 [00:00<?, ?it/s]\u001b[A\n",
      "Action: age:   0%|                                        | 0/4 [00:00<?, ?it/s]\u001b[A\n",
      "Action: age:  25%|████████                        | 1/4 [00:00<00:00,  4.14it/s]\u001b[A\n",
      "Action: gender:  25%|███████▎                     | 1/4 [00:00<00:00,  4.14it/s]\u001b[A\n",
      "Action: gender:  50%|██████████████▌              | 2/4 [00:00<00:00,  4.41it/s]\u001b[A\n",
      "Action: race:  50%|███████████████▌               | 2/4 [00:00<00:00,  4.41it/s]\u001b[A\n",
      "Action: race:  75%|███████████████████████▎       | 3/4 [00:00<00:00,  4.43it/s]\u001b[A\n",
      "Action: emotion: 100%|████████████████████████████| 4/4 [00:00<00:00,  5.72it/s]\u001b[A\n",
      "\n",
      "Finding actions:   0%|                                    | 0/4 [00:00<?, ?it/s]\u001b[A\n",
      "Action: age:   0%|                                        | 0/4 [00:00<?, ?it/s]\u001b[A\n",
      "Action: age:  25%|████████                        | 1/4 [00:00<00:00,  4.43it/s]\u001b[A\n",
      "Action: gender:  25%|███████▎                     | 1/4 [00:00<00:00,  4.43it/s]\u001b[A\n",
      "Action: gender:  50%|██████████████▌              | 2/4 [00:00<00:00,  4.45it/s]\u001b[A\n",
      "Action: race:  50%|███████████████▌               | 2/4 [00:00<00:00,  4.45it/s]\u001b[A\n",
      "Action: race:  75%|███████████████████████▎       | 3/4 [00:00<00:00,  4.50it/s]\u001b[A\n",
      "Action: emotion: 100%|████████████████████████████| 4/4 [00:00<00:00,  5.82it/s]\u001b[A\n",
      "563it [08:56,  1.38s/it]"
     ]
    },
    {
     "name": "stdout",
     "output_type": "stream",
     "text": [
      "/Users/jessecoulter/Downloads/FIN377/CEOPersonalities-/matched_pictures/Glen F. Post III/2013\n"
     ]
    },
    {
     "name": "stderr",
     "output_type": "stream",
     "text": [
      "\n",
      "Finding actions:   0%|                                    | 0/4 [00:00<?, ?it/s]\u001b[A\n",
      "Action: age:   0%|                                        | 0/4 [00:00<?, ?it/s]\u001b[A\n",
      "Action: age:  25%|████████                        | 1/4 [00:00<00:00,  4.30it/s]\u001b[A\n",
      "Action: gender:  25%|███████▎                     | 1/4 [00:00<00:00,  4.30it/s]\u001b[A\n",
      "Action: gender:  50%|██████████████▌              | 2/4 [00:00<00:00,  4.35it/s]\u001b[A\n",
      "Action: race:  50%|███████████████▌               | 2/4 [00:00<00:00,  4.35it/s]\u001b[A\n",
      "Action: race:  75%|███████████████████████▎       | 3/4 [00:00<00:00,  4.33it/s]\u001b[A\n",
      "Action: emotion: 100%|████████████████████████████| 4/4 [00:00<00:00,  5.63it/s]\u001b[A\n",
      "564it [08:57,  1.22s/it]"
     ]
    },
    {
     "name": "stdout",
     "output_type": "stream",
     "text": [
      "/Users/jessecoulter/Downloads/FIN377/CEOPersonalities-/matched_pictures/Glen F. Post III/2014\n"
     ]
    },
    {
     "name": "stderr",
     "output_type": "stream",
     "text": [
      "\n",
      "Finding actions:   0%|                                    | 0/4 [00:00<?, ?it/s]\u001b[A\n",
      "Action: age:   0%|                                        | 0/4 [00:00<?, ?it/s]\u001b[A\n",
      "Action: age:  25%|████████                        | 1/4 [00:00<00:00,  4.32it/s]\u001b[A\n",
      "Action: gender:  25%|███████▎                     | 1/4 [00:00<00:00,  4.32it/s]\u001b[A\n",
      "Action: gender:  50%|██████████████▌              | 2/4 [00:00<00:00,  4.17it/s]\u001b[A\n",
      "Action: race:  50%|███████████████▌               | 2/4 [00:00<00:00,  4.17it/s]\u001b[A\n",
      "Action: race:  75%|███████████████████████▎       | 3/4 [00:00<00:00,  4.18it/s]\u001b[A\n",
      "Action: emotion: 100%|████████████████████████████| 4/4 [00:00<00:00,  5.45it/s]\u001b[A\n",
      "\n",
      "Finding actions:   0%|                                    | 0/4 [00:00<?, ?it/s]\u001b[A\n",
      "Action: age:   0%|                                        | 0/4 [00:00<?, ?it/s]\u001b[A\n",
      "Action: age:  25%|████████                        | 1/4 [00:00<00:00,  4.29it/s]\u001b[A\n",
      "Action: gender:  25%|███████▎                     | 1/4 [00:00<00:00,  4.29it/s]\u001b[A\n",
      "Action: gender:  50%|██████████████▌              | 2/4 [00:00<00:00,  4.27it/s]\u001b[A\n",
      "Action: race:  50%|███████████████▌               | 2/4 [00:00<00:00,  4.27it/s]\u001b[A\n",
      "Action: race:  75%|███████████████████████▎       | 3/4 [00:00<00:00,  4.16it/s]\u001b[A\n",
      "Action: emotion: 100%|████████████████████████████| 4/4 [00:00<00:00,  5.46it/s]\u001b[A\n",
      "565it [08:58,  1.30s/it]"
     ]
    },
    {
     "name": "stdout",
     "output_type": "stream",
     "text": [
      "/Users/jessecoulter/Downloads/FIN377/CEOPersonalities-/matched_pictures/Glen F. Post III/2015\n"
     ]
    },
    {
     "name": "stderr",
     "output_type": "stream",
     "text": [
      "\n",
      "Finding actions:   0%|                                    | 0/4 [00:00<?, ?it/s]\u001b[A\n",
      "Action: age:   0%|                                        | 0/4 [00:00<?, ?it/s]\u001b[A\n",
      "Action: age:  25%|████████                        | 1/4 [00:00<00:00,  4.34it/s]\u001b[A\n",
      "Action: gender:  25%|███████▎                     | 1/4 [00:00<00:00,  4.34it/s]\u001b[A\n",
      "Action: gender:  50%|██████████████▌              | 2/4 [00:00<00:00,  4.26it/s]\u001b[A\n",
      "Action: race:  50%|███████████████▌               | 2/4 [00:00<00:00,  4.26it/s]\u001b[A\n",
      "Action: race:  75%|███████████████████████▎       | 3/4 [00:00<00:00,  4.28it/s]\u001b[A\n",
      "Action: emotion: 100%|████████████████████████████| 4/4 [00:00<00:00,  5.58it/s]\u001b[A\n",
      "\n",
      "Finding actions:   0%|                                    | 0/4 [00:00<?, ?it/s]\u001b[A\n",
      "Action: age:   0%|                                        | 0/4 [00:00<?, ?it/s]\u001b[A\n",
      "Action: age:  25%|████████                        | 1/4 [00:00<00:00,  4.34it/s]\u001b[A\n",
      "Action: gender:  25%|███████▎                     | 1/4 [00:00<00:00,  4.34it/s]\u001b[A\n",
      "Action: gender:  50%|██████████████▌              | 2/4 [00:00<00:00,  4.43it/s]\u001b[A\n",
      "Action: race:  50%|███████████████▌               | 2/4 [00:00<00:00,  4.43it/s]\u001b[A\n",
      "Action: race:  75%|███████████████████████▎       | 3/4 [00:00<00:00,  4.51it/s]\u001b[A\n",
      "Action: emotion: 100%|████████████████████████████| 4/4 [00:00<00:00,  5.83it/s]\u001b[A\n",
      "566it [09:00,  1.34s/it]"
     ]
    },
    {
     "name": "stdout",
     "output_type": "stream",
     "text": [
      "/Users/jessecoulter/Downloads/FIN377/CEOPersonalities-/matched_pictures/Glen F. Post III/2016\n"
     ]
    },
    {
     "name": "stderr",
     "output_type": "stream",
     "text": [
      "\n",
      "Finding actions:   0%|                                    | 0/4 [00:00<?, ?it/s]\u001b[A\n",
      "Action: age:   0%|                                        | 0/4 [00:00<?, ?it/s]\u001b[A\n",
      "Action: age:  25%|████████                        | 1/4 [00:00<00:00,  4.33it/s]\u001b[A\n",
      "Action: gender:  25%|███████▎                     | 1/4 [00:00<00:00,  4.33it/s]\u001b[A\n",
      "Action: gender:  50%|██████████████▌              | 2/4 [00:00<00:00,  4.47it/s]\u001b[A\n",
      "Action: race:  50%|███████████████▌               | 2/4 [00:00<00:00,  4.47it/s]\u001b[A\n",
      "Action: race:  75%|███████████████████████▎       | 3/4 [00:00<00:00,  4.56it/s]\u001b[A\n",
      "Action: emotion: 100%|████████████████████████████| 4/4 [00:00<00:00,  5.88it/s]\u001b[A\n",
      "\n",
      "Finding actions:   0%|                                    | 0/4 [00:00<?, ?it/s]\u001b[A\n",
      "Action: age:   0%|                                        | 0/4 [00:00<?, ?it/s]\u001b[A\n",
      "Action: age:  25%|████████                        | 1/4 [00:00<00:00,  4.71it/s]\u001b[A\n",
      "Action: gender:  25%|███████▎                     | 1/4 [00:00<00:00,  4.71it/s]\u001b[A\n",
      "Action: gender:  50%|██████████████▌              | 2/4 [00:00<00:00,  4.46it/s]\u001b[A\n",
      "Action: race:  50%|███████████████▌               | 2/4 [00:00<00:00,  4.46it/s]\u001b[A\n",
      "Action: race:  75%|███████████████████████▎       | 3/4 [00:00<00:00,  4.47it/s]\u001b[A\n",
      "Action: emotion: 100%|████████████████████████████| 4/4 [00:00<00:00,  5.85it/s]\u001b[A\n",
      "567it [09:01,  1.36s/it]"
     ]
    },
    {
     "name": "stdout",
     "output_type": "stream",
     "text": [
      "/Users/jessecoulter/Downloads/FIN377/CEOPersonalities-/matched_pictures/Glen F. Post III/2017\n"
     ]
    },
    {
     "name": "stderr",
     "output_type": "stream",
     "text": [
      "\n",
      "Finding actions:   0%|                                    | 0/4 [00:00<?, ?it/s]\u001b[A\n",
      "Action: age:   0%|                                        | 0/4 [00:00<?, ?it/s]\u001b[A\n",
      "Action: age:  25%|████████                        | 1/4 [00:00<00:00,  4.37it/s]\u001b[A\n",
      "Action: gender:  25%|███████▎                     | 1/4 [00:00<00:00,  4.37it/s]\u001b[A\n",
      "Action: gender:  50%|██████████████▌              | 2/4 [00:00<00:00,  4.51it/s]\u001b[A\n",
      "Action: race:  50%|███████████████▌               | 2/4 [00:00<00:00,  4.51it/s]\u001b[A\n",
      "Action: race:  75%|███████████████████████▎       | 3/4 [00:00<00:00,  4.54it/s]\u001b[A\n",
      "Action: emotion: 100%|████████████████████████████| 4/4 [00:00<00:00,  5.88it/s]\u001b[A\n",
      "568it [09:02,  1.18s/it]"
     ]
    },
    {
     "name": "stdout",
     "output_type": "stream",
     "text": [
      "/Users/jessecoulter/Downloads/FIN377/CEOPersonalities-/matched_pictures/Jeff Storey/2018\n"
     ]
    },
    {
     "name": "stderr",
     "output_type": "stream",
     "text": [
      "\n",
      "Finding actions:   0%|                                    | 0/4 [00:00<?, ?it/s]\u001b[A\n",
      "Action: age:   0%|                                        | 0/4 [00:00<?, ?it/s]\u001b[A\n",
      "Action: age:  25%|████████                        | 1/4 [00:00<00:00,  4.34it/s]\u001b[A\n",
      "Action: gender:  25%|███████▎                     | 1/4 [00:00<00:00,  4.34it/s]\u001b[A\n",
      "Action: gender:  50%|██████████████▌              | 2/4 [00:00<00:00,  4.31it/s]\u001b[A\n",
      "Action: race:  50%|███████████████▌               | 2/4 [00:00<00:00,  4.31it/s]\u001b[A\n",
      "Action: race:  75%|███████████████████████▎       | 3/4 [00:00<00:00,  4.32it/s]\u001b[A\n",
      "Action: emotion: 100%|████████████████████████████| 4/4 [00:00<00:00,  5.62it/s]\u001b[A\n",
      "569it [09:02,  1.05s/it]"
     ]
    },
    {
     "name": "stdout",
     "output_type": "stream",
     "text": [
      "/Users/jessecoulter/Downloads/FIN377/CEOPersonalities-/matched_pictures/Jeff Storey/2019\n"
     ]
    },
    {
     "name": "stderr",
     "output_type": "stream",
     "text": [
      "\n",
      "Finding actions:   0%|                                    | 0/4 [00:00<?, ?it/s]\u001b[A\n",
      "Action: age:   0%|                                        | 0/4 [00:00<?, ?it/s]\u001b[A\n",
      "Action: age:  25%|████████                        | 1/4 [00:00<00:00,  4.58it/s]\u001b[A\n",
      "Action: gender:  25%|███████▎                     | 1/4 [00:00<00:00,  4.58it/s]\u001b[A\n",
      "Action: gender:  50%|██████████████▌              | 2/4 [00:00<00:00,  4.42it/s]\u001b[A\n",
      "Action: race:  50%|███████████████▌               | 2/4 [00:00<00:00,  4.42it/s]\u001b[A\n",
      "Action: race:  75%|███████████████████████▎       | 3/4 [00:00<00:00,  4.48it/s]\u001b[A\n",
      "Action: emotion: 100%|████████████████████████████| 4/4 [00:00<00:00,  5.83it/s]\u001b[A\n",
      "\n",
      "Finding actions:   0%|                                    | 0/4 [00:00<?, ?it/s]\u001b[A\n",
      "Action: age:   0%|                                        | 0/4 [00:00<?, ?it/s]\u001b[A\n",
      "Action: age:  25%|████████                        | 1/4 [00:00<00:00,  4.34it/s]\u001b[A\n",
      "Action: gender:  25%|███████▎                     | 1/4 [00:00<00:00,  4.34it/s]\u001b[A\n",
      "Action: gender:  50%|██████████████▌              | 2/4 [00:00<00:00,  4.44it/s]\u001b[A\n",
      "Action: race:  50%|███████████████▌               | 2/4 [00:00<00:00,  4.44it/s]\u001b[A\n",
      "Action: race:  75%|███████████████████████▎       | 3/4 [00:00<00:00,  4.44it/s]\u001b[A\n",
      "Action: emotion: 100%|████████████████████████████| 4/4 [00:00<00:00,  5.77it/s]\u001b[A\n",
      "570it [09:04,  1.16s/it]"
     ]
    },
    {
     "name": "stdout",
     "output_type": "stream",
     "text": [
      "/Users/jessecoulter/Downloads/FIN377/CEOPersonalities-/matched_pictures/Wendell P. Weeks/2010\n",
      "Folder not found: /Users/jessecoulter/Downloads/FIN377/CEOPersonalities-/matched_pictures/Wendell P. Weeks/2010\n",
      "/Users/jessecoulter/Downloads/FIN377/CEOPersonalities-/matched_pictures/Wendell P. Weeks/2011\n"
     ]
    },
    {
     "name": "stderr",
     "output_type": "stream",
     "text": [
      "\n",
      "Finding actions:   0%|                                    | 0/4 [00:00<?, ?it/s]\u001b[A\n",
      "Action: age:   0%|                                        | 0/4 [00:00<?, ?it/s]\u001b[A\n",
      "Action: age:  25%|████████                        | 1/4 [00:00<00:00,  4.39it/s]\u001b[A\n",
      "Action: gender:  25%|███████▎                     | 1/4 [00:00<00:00,  4.39it/s]\u001b[A\n",
      "Action: gender:  50%|██████████████▌              | 2/4 [00:00<00:00,  4.44it/s]\u001b[A\n",
      "Action: race:  50%|███████████████▌               | 2/4 [00:00<00:00,  4.44it/s]\u001b[A\n",
      "Action: race:  75%|███████████████████████▎       | 3/4 [00:00<00:00,  4.53it/s]\u001b[A\n",
      "Action: emotion: 100%|████████████████████████████| 4/4 [00:00<00:00,  5.86it/s]\u001b[A\n",
      "572it [09:05,  1.26it/s]"
     ]
    },
    {
     "name": "stdout",
     "output_type": "stream",
     "text": [
      "/Users/jessecoulter/Downloads/FIN377/CEOPersonalities-/matched_pictures/Wendell P. Weeks/2012\n"
     ]
    },
    {
     "name": "stderr",
     "output_type": "stream",
     "text": [
      "\n",
      "Finding actions:   0%|                                    | 0/4 [00:00<?, ?it/s]\u001b[A\n",
      "Action: age:   0%|                                        | 0/4 [00:00<?, ?it/s]\u001b[A\n",
      "Action: age:  25%|████████                        | 1/4 [00:00<00:00,  4.39it/s]\u001b[A\n",
      "Action: gender:  25%|███████▎                     | 1/4 [00:00<00:00,  4.39it/s]\u001b[A\n",
      "Action: gender:  50%|██████████████▌              | 2/4 [00:00<00:00,  4.46it/s]\u001b[A\n",
      "Action: race:  50%|███████████████▌               | 2/4 [00:00<00:00,  4.46it/s]\u001b[A\n",
      "Action: race:  75%|███████████████████████▎       | 3/4 [00:00<00:00,  4.53it/s]\u001b[A\n",
      "Action: emotion: 100%|████████████████████████████| 4/4 [00:00<00:00,  5.86it/s]\u001b[A\n",
      "573it [09:05,  1.29it/s]"
     ]
    },
    {
     "name": "stdout",
     "output_type": "stream",
     "text": [
      "/Users/jessecoulter/Downloads/FIN377/CEOPersonalities-/matched_pictures/Wendell P. Weeks/2013\n"
     ]
    },
    {
     "name": "stderr",
     "output_type": "stream",
     "text": [
      "\n",
      "Finding actions:   0%|                                    | 0/4 [00:00<?, ?it/s]\u001b[A\n",
      "Action: age:   0%|                                        | 0/4 [00:00<?, ?it/s]\u001b[A\n",
      "Action: age:  25%|████████                        | 1/4 [00:00<00:00,  4.31it/s]\u001b[A\n",
      "Action: gender:  25%|███████▎                     | 1/4 [00:00<00:00,  4.31it/s]\u001b[A\n",
      "Action: gender:  50%|██████████████▌              | 2/4 [00:00<00:00,  4.49it/s]\u001b[A\n",
      "Action: race:  50%|███████████████▌               | 2/4 [00:00<00:00,  4.49it/s]\u001b[A\n",
      "Action: race:  75%|███████████████████████▎       | 3/4 [00:00<00:00,  4.60it/s]\u001b[A\n",
      "Action: emotion: 100%|████████████████████████████| 4/4 [00:00<00:00,  5.92it/s]\u001b[A\n",
      "574it [09:06,  1.31it/s]"
     ]
    },
    {
     "name": "stdout",
     "output_type": "stream",
     "text": [
      "/Users/jessecoulter/Downloads/FIN377/CEOPersonalities-/matched_pictures/Wendell P. Weeks/2014\n"
     ]
    },
    {
     "name": "stderr",
     "output_type": "stream",
     "text": [
      "\n",
      "Finding actions:   0%|                                    | 0/4 [00:00<?, ?it/s]\u001b[A\n",
      "Action: age:   0%|                                        | 0/4 [00:00<?, ?it/s]\u001b[A\n",
      "Action: age:  25%|████████                        | 1/4 [00:00<00:00,  4.58it/s]\u001b[A\n",
      "Action: gender:  25%|███████▎                     | 1/4 [00:00<00:00,  4.58it/s]\u001b[A\n",
      "Action: gender:  50%|██████████████▌              | 2/4 [00:00<00:00,  4.66it/s]\u001b[A\n",
      "Action: race:  50%|███████████████▌               | 2/4 [00:00<00:00,  4.66it/s]\u001b[A\n",
      "Action: race:  75%|███████████████████████▎       | 3/4 [00:00<00:00,  4.57it/s]\u001b[A\n",
      "Action: emotion: 100%|████████████████████████████| 4/4 [00:00<00:00,  5.95it/s]\u001b[A\n",
      "\n",
      "Finding actions:   0%|                                    | 0/4 [00:00<?, ?it/s]\u001b[A\n",
      "Action: age:   0%|                                        | 0/4 [00:00<?, ?it/s]\u001b[A\n",
      "Action: age:  25%|████████                        | 1/4 [00:00<00:00,  4.45it/s]\u001b[A\n",
      "Action: gender:  25%|███████▎                     | 1/4 [00:00<00:00,  4.45it/s]\u001b[A\n",
      "Action: gender:  50%|██████████████▌              | 2/4 [00:00<00:00,  4.41it/s]\u001b[A\n",
      "Action: race:  50%|███████████████▌               | 2/4 [00:00<00:00,  4.41it/s]\u001b[A\n",
      "Action: race:  75%|███████████████████████▎       | 3/4 [00:00<00:00,  4.47it/s]\u001b[A\n",
      "Action: emotion: 100%|████████████████████████████| 4/4 [00:00<00:00,  5.80it/s]\u001b[A\n",
      "576it [09:08,  1.38it/s]"
     ]
    },
    {
     "name": "stdout",
     "output_type": "stream",
     "text": [
      "/Users/jessecoulter/Downloads/FIN377/CEOPersonalities-/matched_pictures/Wendell P. Weeks/2015\n",
      "Error analyzing /Users/jessecoulter/Downloads/FIN377/CEOPersonalities-/matched_pictures/Wendell P. Weeks/2015/pic1.jpg: Face could not be detected in /Users/jessecoulter/Downloads/FIN377/CEOPersonalities-/matched_pictures/Wendell P. Weeks/2015/pic1.jpg.Please confirm that the picture is a face photo or consider to set enforce_detection param to False.\n",
      "/Users/jessecoulter/Downloads/FIN377/CEOPersonalities-/matched_pictures/Wendell P. Weeks/2016\n",
      "Error analyzing /Users/jessecoulter/Downloads/FIN377/CEOPersonalities-/matched_pictures/Wendell P. Weeks/2016/pic1.jpg: Face could not be detected in /Users/jessecoulter/Downloads/FIN377/CEOPersonalities-/matched_pictures/Wendell P. Weeks/2016/pic1.jpg.Please confirm that the picture is a face photo or consider to set enforce_detection param to False.\n",
      "/Users/jessecoulter/Downloads/FIN377/CEOPersonalities-/matched_pictures/Wendell P. Weeks/2017\n"
     ]
    },
    {
     "name": "stderr",
     "output_type": "stream",
     "text": [
      "\n",
      "Finding actions:   0%|                                    | 0/4 [00:00<?, ?it/s]\u001b[A\n",
      "Action: age:   0%|                                        | 0/4 [00:00<?, ?it/s]\u001b[A\n",
      "Action: age:  25%|████████                        | 1/4 [00:00<00:00,  4.52it/s]\u001b[A\n",
      "Action: gender:  25%|███████▎                     | 1/4 [00:00<00:00,  4.52it/s]\u001b[A\n",
      "Action: gender:  50%|██████████████▌              | 2/4 [00:00<00:00,  4.35it/s]\u001b[A\n",
      "Action: race:  50%|███████████████▌               | 2/4 [00:00<00:00,  4.35it/s]\u001b[A\n",
      "Action: race:  75%|███████████████████████▎       | 3/4 [00:00<00:00,  4.46it/s]\u001b[A\n",
      "Action: emotion: 100%|████████████████████████████| 4/4 [00:00<00:00,  5.79it/s]\u001b[A\n",
      "578it [09:08,  1.71it/s]"
     ]
    },
    {
     "name": "stdout",
     "output_type": "stream",
     "text": [
      "/Users/jessecoulter/Downloads/FIN377/CEOPersonalities-/matched_pictures/Wendell P. Weeks/2018\n"
     ]
    },
    {
     "name": "stderr",
     "output_type": "stream",
     "text": [
      "\n",
      "Finding actions:   0%|                                    | 0/4 [00:00<?, ?it/s]\u001b[A\n",
      "Action: age:   0%|                                        | 0/4 [00:00<?, ?it/s]\u001b[A\n",
      "Action: age:  25%|████████                        | 1/4 [00:00<00:00,  4.53it/s]\u001b[A\n",
      "Action: gender:  25%|███████▎                     | 1/4 [00:00<00:00,  4.53it/s]\u001b[A\n",
      "Action: gender:  50%|██████████████▌              | 2/4 [00:00<00:00,  4.62it/s]\u001b[A\n",
      "Action: race:  50%|███████████████▌               | 2/4 [00:00<00:00,  4.62it/s]\u001b[A\n",
      "Action: race:  75%|███████████████████████▎       | 3/4 [00:00<00:00,  4.60it/s]\u001b[A\n",
      "Action: emotion: 100%|████████████████████████████| 4/4 [00:00<00:00,  5.99it/s]\u001b[A\n",
      "579it [09:10,  1.36it/s]"
     ]
    },
    {
     "name": "stdout",
     "output_type": "stream",
     "text": [
      "/Users/jessecoulter/Downloads/FIN377/CEOPersonalities-/matched_pictures/Wendell P. Weeks/2019\n"
     ]
    },
    {
     "name": "stderr",
     "output_type": "stream",
     "text": [
      "\n",
      "Finding actions:   0%|                                    | 0/4 [00:00<?, ?it/s]\u001b[A\n",
      "Action: age:   0%|                                        | 0/4 [00:00<?, ?it/s]\u001b[A\n",
      "Action: age:  25%|████████                        | 1/4 [00:00<00:00,  4.38it/s]\u001b[A\n",
      "Action: gender:  25%|███████▎                     | 1/4 [00:00<00:00,  4.38it/s]\u001b[A\n",
      "Action: gender:  50%|██████████████▌              | 2/4 [00:00<00:00,  4.50it/s]\u001b[A\n",
      "Action: race:  50%|███████████████▌               | 2/4 [00:00<00:00,  4.50it/s]\u001b[A\n",
      "Action: race:  75%|███████████████████████▎       | 3/4 [00:00<00:00,  4.54it/s]\u001b[A\n",
      "Action: emotion: 100%|████████████████████████████| 4/4 [00:00<00:00,  5.88it/s]\u001b[A\n",
      "580it [09:10,  1.36it/s]"
     ]
    },
    {
     "name": "stdout",
     "output_type": "stream",
     "text": [
      "/Users/jessecoulter/Downloads/FIN377/CEOPersonalities-/matched_pictures/Tom Georgens/2010\n"
     ]
    },
    {
     "name": "stderr",
     "output_type": "stream",
     "text": [
      "\n",
      "Finding actions:   0%|                                    | 0/4 [00:00<?, ?it/s]\u001b[A\n",
      "Action: age:   0%|                                        | 0/4 [00:00<?, ?it/s]\u001b[A\n",
      "Action: age:  25%|████████                        | 1/4 [00:00<00:00,  4.35it/s]\u001b[A\n",
      "Action: gender:  25%|███████▎                     | 1/4 [00:00<00:00,  4.35it/s]\u001b[A\n",
      "Action: gender:  50%|██████████████▌              | 2/4 [00:00<00:00,  4.47it/s]\u001b[A\n",
      "Action: race:  50%|███████████████▌               | 2/4 [00:00<00:00,  4.47it/s]\u001b[A\n",
      "Action: race:  75%|███████████████████████▎       | 3/4 [00:00<00:00,  4.53it/s]\u001b[A\n",
      "Action: emotion: 100%|████████████████████████████| 4/4 [00:00<00:00,  5.86it/s]\u001b[A\n",
      "581it [09:11,  1.37it/s]"
     ]
    },
    {
     "name": "stdout",
     "output_type": "stream",
     "text": [
      "/Users/jessecoulter/Downloads/FIN377/CEOPersonalities-/matched_pictures/Tom Georgens/2011\n"
     ]
    },
    {
     "name": "stderr",
     "output_type": "stream",
     "text": [
      "\n",
      "Finding actions:   0%|                                    | 0/4 [00:00<?, ?it/s]\u001b[A\n",
      "Action: age:   0%|                                        | 0/4 [00:00<?, ?it/s]\u001b[A\n",
      "Action: age:  25%|████████                        | 1/4 [00:00<00:00,  4.33it/s]\u001b[A\n",
      "Action: gender:  25%|███████▎                     | 1/4 [00:00<00:00,  4.33it/s]\u001b[A\n",
      "Action: gender:  50%|██████████████▌              | 2/4 [00:00<00:00,  4.50it/s]\u001b[A\n",
      "Action: race:  50%|███████████████▌               | 2/4 [00:00<00:00,  4.50it/s]\u001b[A\n",
      "Action: race:  75%|███████████████████████▎       | 3/4 [00:00<00:00,  4.61it/s]\u001b[A\n",
      "Action: emotion: 100%|████████████████████████████| 4/4 [00:00<00:00,  5.94it/s]\u001b[A\n",
      "582it [09:12,  1.38it/s]"
     ]
    },
    {
     "name": "stdout",
     "output_type": "stream",
     "text": [
      "/Users/jessecoulter/Downloads/FIN377/CEOPersonalities-/matched_pictures/Tom Georgens/2012\n",
      "Error analyzing /Users/jessecoulter/Downloads/FIN377/CEOPersonalities-/matched_pictures/Tom Georgens/2012/pic1.jpg: Face could not be detected in /Users/jessecoulter/Downloads/FIN377/CEOPersonalities-/matched_pictures/Tom Georgens/2012/pic1.jpg.Please confirm that the picture is a face photo or consider to set enforce_detection param to False.\n",
      "/Users/jessecoulter/Downloads/FIN377/CEOPersonalities-/matched_pictures/Tom Georgens/2013\n"
     ]
    },
    {
     "name": "stderr",
     "output_type": "stream",
     "text": [
      "\n",
      "Finding actions:   0%|                                    | 0/4 [00:00<?, ?it/s]\u001b[A\n",
      "Action: age:   0%|                                        | 0/4 [00:00<?, ?it/s]\u001b[A\n",
      "Action: age:  25%|████████                        | 1/4 [00:00<00:00,  4.40it/s]\u001b[A\n",
      "Action: gender:  25%|███████▎                     | 1/4 [00:00<00:00,  4.40it/s]\u001b[A\n",
      "Action: gender:  50%|██████████████▌              | 2/4 [00:00<00:00,  4.35it/s]\u001b[A\n",
      "Action: race:  50%|███████████████▌               | 2/4 [00:00<00:00,  4.35it/s]\u001b[A\n",
      "Action: race:  75%|███████████████████████▎       | 3/4 [00:00<00:00,  4.30it/s]\u001b[A\n",
      "Action: emotion: 100%|████████████████████████████| 4/4 [00:00<00:00,  5.63it/s]\u001b[A\n",
      "584it [09:13,  1.70it/s]"
     ]
    },
    {
     "name": "stdout",
     "output_type": "stream",
     "text": [
      "/Users/jessecoulter/Downloads/FIN377/CEOPersonalities-/matched_pictures/Tom Georgens/2014\n"
     ]
    },
    {
     "name": "stderr",
     "output_type": "stream",
     "text": [
      "\n",
      "Finding actions:   0%|                                    | 0/4 [00:00<?, ?it/s]\u001b[A\n",
      "Action: age:   0%|                                        | 0/4 [00:00<?, ?it/s]\u001b[A\n",
      "Action: age:  25%|████████                        | 1/4 [00:00<00:00,  4.43it/s]\u001b[A\n",
      "Action: gender:  25%|███████▎                     | 1/4 [00:00<00:00,  4.43it/s]\u001b[A\n",
      "Action: gender:  50%|██████████████▌              | 2/4 [00:00<00:00,  4.48it/s]\u001b[A\n",
      "Action: race:  50%|███████████████▌               | 2/4 [00:00<00:00,  4.48it/s]\u001b[A\n",
      "Action: race:  75%|███████████████████████▎       | 3/4 [00:00<00:00,  4.54it/s]\u001b[A\n",
      "Action: emotion: 100%|████████████████████████████| 4/4 [00:00<00:00,  5.88it/s]\u001b[A\n",
      "585it [09:13,  1.62it/s]"
     ]
    },
    {
     "name": "stdout",
     "output_type": "stream",
     "text": [
      "/Users/jessecoulter/Downloads/FIN377/CEOPersonalities-/matched_pictures/Tom Georgens/2015\n"
     ]
    },
    {
     "name": "stderr",
     "output_type": "stream",
     "text": [
      "\n",
      "Finding actions:   0%|                                    | 0/4 [00:00<?, ?it/s]\u001b[A\n",
      "Action: age:   0%|                                        | 0/4 [00:00<?, ?it/s]\u001b[A\n",
      "Action: age:  25%|████████                        | 1/4 [00:00<00:00,  4.32it/s]\u001b[A\n",
      "Action: gender:  25%|███████▎                     | 1/4 [00:00<00:00,  4.32it/s]\u001b[A\n",
      "Action: gender:  50%|██████████████▌              | 2/4 [00:00<00:00,  4.49it/s]\u001b[A\n",
      "Action: race:  50%|███████████████▌               | 2/4 [00:00<00:00,  4.49it/s]\u001b[A\n",
      "Action: race:  75%|███████████████████████▎       | 3/4 [00:00<00:00,  4.56it/s]\u001b[A\n",
      "Action: emotion: 100%|████████████████████████████| 4/4 [00:00<00:00,  5.89it/s]\u001b[A\n",
      "586it [09:14,  1.51it/s]"
     ]
    },
    {
     "name": "stdout",
     "output_type": "stream",
     "text": [
      "/Users/jessecoulter/Downloads/FIN377/CEOPersonalities-/matched_pictures/George Kurian/2016\n"
     ]
    },
    {
     "name": "stderr",
     "output_type": "stream",
     "text": [
      "\n",
      "Finding actions:   0%|                                    | 0/4 [00:00<?, ?it/s]\u001b[A\n",
      "Action: age:   0%|                                        | 0/4 [00:00<?, ?it/s]\u001b[A\n",
      "Action: age:  25%|████████                        | 1/4 [00:00<00:00,  4.50it/s]\u001b[A\n",
      "Action: gender:  25%|███████▎                     | 1/4 [00:00<00:00,  4.50it/s]\u001b[A\n",
      "Action: gender:  50%|██████████████▌              | 2/4 [00:00<00:00,  4.51it/s]\u001b[A\n",
      "Action: race:  50%|███████████████▌               | 2/4 [00:00<00:00,  4.51it/s]\u001b[A\n",
      "Action: race:  75%|███████████████████████▎       | 3/4 [00:00<00:00,  4.44it/s]\u001b[A\n",
      "Action: emotion: 100%|████████████████████████████| 4/4 [00:00<00:00,  5.81it/s]\u001b[A\n",
      "587it [09:15,  1.24it/s]"
     ]
    },
    {
     "name": "stdout",
     "output_type": "stream",
     "text": [
      "/Users/jessecoulter/Downloads/FIN377/CEOPersonalities-/matched_pictures/George Kurian/2017\n"
     ]
    },
    {
     "name": "stderr",
     "output_type": "stream",
     "text": [
      "\n",
      "Finding actions:   0%|                                    | 0/4 [00:00<?, ?it/s]\u001b[A\n",
      "Action: age:   0%|                                        | 0/4 [00:00<?, ?it/s]\u001b[A\n",
      "Action: age:  25%|████████                        | 1/4 [00:00<00:00,  4.19it/s]\u001b[A\n",
      "Action: gender:  25%|███████▎                     | 1/4 [00:00<00:00,  4.19it/s]\u001b[A\n",
      "Action: gender:  50%|██████████████▌              | 2/4 [00:00<00:00,  4.34it/s]\u001b[A\n",
      "Action: race:  50%|███████████████▌               | 2/4 [00:00<00:00,  4.34it/s]\u001b[A\n",
      "Action: race:  75%|███████████████████████▎       | 3/4 [00:00<00:00,  4.47it/s]\u001b[A\n",
      "Action: emotion: 100%|████████████████████████████| 4/4 [00:00<00:00,  5.75it/s]\u001b[A\n",
      "589it [09:16,  1.60it/s]"
     ]
    },
    {
     "name": "stdout",
     "output_type": "stream",
     "text": [
      "/Users/jessecoulter/Downloads/FIN377/CEOPersonalities-/matched_pictures/George Kurian/2018\n",
      "Error analyzing /Users/jessecoulter/Downloads/FIN377/CEOPersonalities-/matched_pictures/George Kurian/2018/pic1.jpg: Face could not be detected in /Users/jessecoulter/Downloads/FIN377/CEOPersonalities-/matched_pictures/George Kurian/2018/pic1.jpg.Please confirm that the picture is a face photo or consider to set enforce_detection param to False.\n",
      "/Users/jessecoulter/Downloads/FIN377/CEOPersonalities-/matched_pictures/George Kurian/2019\n"
     ]
    },
    {
     "name": "stderr",
     "output_type": "stream",
     "text": [
      "590it [09:16,  2.07it/s]"
     ]
    },
    {
     "name": "stdout",
     "output_type": "stream",
     "text": [
      "Error analyzing /Users/jessecoulter/Downloads/FIN377/CEOPersonalities-/matched_pictures/George Kurian/2019/pic1.jpg: Face could not be detected in /Users/jessecoulter/Downloads/FIN377/CEOPersonalities-/matched_pictures/George Kurian/2019/pic1.jpg.Please confirm that the picture is a face photo or consider to set enforce_detection param to False.\n",
      "/Users/jessecoulter/Downloads/FIN377/CEOPersonalities-/matched_pictures/Mark Templeton/2010\n"
     ]
    },
    {
     "name": "stderr",
     "output_type": "stream",
     "text": [
      "\n",
      "Finding actions:   0%|                                    | 0/4 [00:00<?, ?it/s]\u001b[A\n",
      "Action: age:   0%|                                        | 0/4 [00:00<?, ?it/s]\u001b[A\n",
      "Action: age:  25%|████████                        | 1/4 [00:00<00:00,  4.66it/s]\u001b[A\n",
      "Action: gender:  25%|███████▎                     | 1/4 [00:00<00:00,  4.66it/s]\u001b[A\n",
      "Action: gender:  50%|██████████████▌              | 2/4 [00:00<00:00,  4.54it/s]\u001b[A\n",
      "Action: race:  50%|███████████████▌               | 2/4 [00:00<00:00,  4.54it/s]\u001b[A\n",
      "Action: race:  75%|███████████████████████▎       | 3/4 [00:00<00:00,  4.57it/s]\u001b[A\n",
      "Action: emotion: 100%|████████████████████████████| 4/4 [00:00<00:00,  5.95it/s]\u001b[A\n",
      "591it [09:17,  1.83it/s]"
     ]
    },
    {
     "name": "stdout",
     "output_type": "stream",
     "text": [
      "/Users/jessecoulter/Downloads/FIN377/CEOPersonalities-/matched_pictures/Mark Templeton/2011\n"
     ]
    },
    {
     "name": "stderr",
     "output_type": "stream",
     "text": [
      "\n",
      "Finding actions:   0%|                                    | 0/4 [00:00<?, ?it/s]\u001b[A\n",
      "Action: age:   0%|                                        | 0/4 [00:00<?, ?it/s]\u001b[A\n",
      "Action: age:  25%|████████                        | 1/4 [00:00<00:00,  4.34it/s]\u001b[A\n",
      "Action: gender:  25%|███████▎                     | 1/4 [00:00<00:00,  4.34it/s]\u001b[A\n",
      "Action: gender:  50%|██████████████▌              | 2/4 [00:00<00:00,  4.41it/s]\u001b[A\n",
      "Action: race:  50%|███████████████▌               | 2/4 [00:00<00:00,  4.41it/s]\u001b[A\n",
      "Action: race:  75%|███████████████████████▎       | 3/4 [00:00<00:00,  4.50it/s]\u001b[A\n",
      "Action: emotion: 100%|████████████████████████████| 4/4 [00:00<00:00,  5.82it/s]\u001b[A\n",
      "592it [09:18,  1.63it/s]"
     ]
    },
    {
     "name": "stdout",
     "output_type": "stream",
     "text": [
      "/Users/jessecoulter/Downloads/FIN377/CEOPersonalities-/matched_pictures/Mark Templeton/2012\n"
     ]
    },
    {
     "name": "stderr",
     "output_type": "stream",
     "text": [
      "\n",
      "Finding actions:   0%|                                    | 0/4 [00:00<?, ?it/s]\u001b[A\n",
      "Action: age:   0%|                                        | 0/4 [00:00<?, ?it/s]\u001b[A\n",
      "Action: age:  25%|████████                        | 1/4 [00:00<00:00,  4.42it/s]\u001b[A\n",
      "Action: gender:  25%|███████▎                     | 1/4 [00:00<00:00,  4.42it/s]\u001b[A\n",
      "Action: gender:  50%|██████████████▌              | 2/4 [00:00<00:00,  4.56it/s]\u001b[A\n",
      "Action: race:  50%|███████████████▌               | 2/4 [00:00<00:00,  4.56it/s]\u001b[A\n",
      "Action: race:  75%|███████████████████████▎       | 3/4 [00:00<00:00,  4.57it/s]\u001b[A\n",
      "Action: emotion: 100%|████████████████████████████| 4/4 [00:00<00:00,  5.93it/s]\u001b[A\n",
      "593it [09:19,  1.54it/s]"
     ]
    },
    {
     "name": "stdout",
     "output_type": "stream",
     "text": [
      "/Users/jessecoulter/Downloads/FIN377/CEOPersonalities-/matched_pictures/Mark Templeton/2013\n"
     ]
    },
    {
     "name": "stderr",
     "output_type": "stream",
     "text": [
      "\n",
      "Finding actions:   0%|                                    | 0/4 [00:00<?, ?it/s]\u001b[A\n",
      "Action: age:   0%|                                        | 0/4 [00:00<?, ?it/s]\u001b[A\n",
      "Action: age:  25%|████████                        | 1/4 [00:00<00:00,  4.65it/s]\u001b[A\n",
      "Action: gender:  25%|███████▎                     | 1/4 [00:00<00:00,  4.65it/s]\u001b[A\n",
      "Action: gender:  50%|██████████████▌              | 2/4 [00:00<00:00,  4.60it/s]\u001b[A\n",
      "Action: race:  50%|███████████████▌               | 2/4 [00:00<00:00,  4.60it/s]\u001b[A\n",
      "Action: race:  75%|███████████████████████▎       | 3/4 [00:00<00:00,  4.59it/s]\u001b[A\n",
      "Action: emotion: 100%|████████████████████████████| 4/4 [00:00<00:00,  5.99it/s]\u001b[A\n",
      "594it [09:20,  1.38it/s]"
     ]
    },
    {
     "name": "stdout",
     "output_type": "stream",
     "text": [
      "/Users/jessecoulter/Downloads/FIN377/CEOPersonalities-/matched_pictures/Mark Templeton/2014\n"
     ]
    },
    {
     "name": "stderr",
     "output_type": "stream",
     "text": [
      "\n",
      "Finding actions:   0%|                                    | 0/4 [00:00<?, ?it/s]\u001b[A\n",
      "Action: age:   0%|                                        | 0/4 [00:00<?, ?it/s]\u001b[A\n",
      "Action: age:  25%|████████                        | 1/4 [00:00<00:00,  4.44it/s]\u001b[A\n",
      "Action: gender:  25%|███████▎                     | 1/4 [00:00<00:00,  4.44it/s]\u001b[A\n",
      "Action: gender:  50%|██████████████▌              | 2/4 [00:00<00:00,  4.51it/s]\u001b[A\n",
      "Action: race:  50%|███████████████▌               | 2/4 [00:00<00:00,  4.51it/s]\u001b[A\n",
      "Action: race:  75%|███████████████████████▎       | 3/4 [00:00<00:00,  4.54it/s]\u001b[A\n",
      "Action: emotion: 100%|████████████████████████████| 4/4 [00:00<00:00,  5.89it/s]\u001b[A\n",
      "595it [09:20,  1.37it/s]"
     ]
    },
    {
     "name": "stdout",
     "output_type": "stream",
     "text": [
      "/Users/jessecoulter/Downloads/FIN377/CEOPersonalities-/matched_pictures/Mark Templeton/2015\n"
     ]
    },
    {
     "name": "stderr",
     "output_type": "stream",
     "text": [
      "\n",
      "Finding actions:   0%|                                    | 0/4 [00:00<?, ?it/s]\u001b[A\n",
      "Action: age:   0%|                                        | 0/4 [00:00<?, ?it/s]\u001b[A\n",
      "Action: age:  25%|████████                        | 1/4 [00:00<00:00,  4.88it/s]\u001b[A\n",
      "Action: gender:  25%|███████▎                     | 1/4 [00:00<00:00,  4.88it/s]\u001b[A\n",
      "Action: gender:  50%|██████████████▌              | 2/4 [00:00<00:00,  4.72it/s]\u001b[A\n",
      "Action: race:  50%|███████████████▌               | 2/4 [00:00<00:00,  4.72it/s]\u001b[A\n",
      "Action: race:  75%|███████████████████████▎       | 3/4 [00:00<00:00,  4.65it/s]\u001b[A\n",
      "Action: emotion: 100%|████████████████████████████| 4/4 [00:00<00:00,  6.09it/s]\u001b[A\n",
      "596it [09:22,  1.07it/s]"
     ]
    },
    {
     "name": "stdout",
     "output_type": "stream",
     "text": [
      "/Users/jessecoulter/Downloads/FIN377/CEOPersonalities-/matched_pictures/Kirill Tatarinov/2016\n"
     ]
    },
    {
     "name": "stderr",
     "output_type": "stream",
     "text": [
      "\n",
      "Finding actions:   0%|                                    | 0/4 [00:00<?, ?it/s]\u001b[A\n",
      "Action: age:   0%|                                        | 0/4 [00:00<?, ?it/s]\u001b[A\n",
      "Action: age:  25%|████████                        | 1/4 [00:00<00:00,  4.15it/s]\u001b[A\n",
      "Action: gender:  25%|███████▎                     | 1/4 [00:00<00:00,  4.15it/s]\u001b[A\n",
      "Action: gender:  50%|██████████████▌              | 2/4 [00:00<00:00,  4.20it/s]\u001b[A\n",
      "Action: race:  50%|███████████████▌               | 2/4 [00:00<00:00,  4.20it/s]\u001b[A\n",
      "Action: race:  75%|███████████████████████▎       | 3/4 [00:00<00:00,  4.33it/s]\u001b[A\n",
      "Action: emotion: 100%|████████████████████████████| 4/4 [00:00<00:00,  5.58it/s]\u001b[A\n",
      "597it [09:23,  1.12it/s]"
     ]
    },
    {
     "name": "stdout",
     "output_type": "stream",
     "text": [
      "/Users/jessecoulter/Downloads/FIN377/CEOPersonalities-/matched_pictures/David J. Henshall/2017\n"
     ]
    },
    {
     "name": "stderr",
     "output_type": "stream",
     "text": [
      "\n",
      "Finding actions:   0%|                                    | 0/4 [00:00<?, ?it/s]\u001b[A\n",
      "Action: age:   0%|                                        | 0/4 [00:00<?, ?it/s]\u001b[A\n",
      "Action: age:  25%|████████                        | 1/4 [00:00<00:00,  4.27it/s]\u001b[A\n",
      "Action: gender:  25%|███████▎                     | 1/4 [00:00<00:00,  4.27it/s]\u001b[A\n",
      "Action: gender:  50%|██████████████▌              | 2/4 [00:00<00:00,  4.34it/s]\u001b[A\n",
      "Action: race:  50%|███████████████▌               | 2/4 [00:00<00:00,  4.34it/s]\u001b[A\n",
      "Action: race:  75%|███████████████████████▎       | 3/4 [00:00<00:00,  4.13it/s]\u001b[A\n",
      "Action: emotion: 100%|████████████████████████████| 4/4 [00:00<00:00,  5.43it/s]\u001b[A\n",
      "598it [09:23,  1.13it/s]"
     ]
    },
    {
     "name": "stdout",
     "output_type": "stream",
     "text": [
      "/Users/jessecoulter/Downloads/FIN377/CEOPersonalities-/matched_pictures/David J. Henshall/2018\n"
     ]
    },
    {
     "name": "stderr",
     "output_type": "stream",
     "text": [
      "\n",
      "Finding actions:   0%|                                    | 0/4 [00:00<?, ?it/s]\u001b[A\n",
      "Action: age:   0%|                                        | 0/4 [00:00<?, ?it/s]\u001b[A\n",
      "Action: age:  25%|████████                        | 1/4 [00:00<00:00,  4.02it/s]\u001b[A\n",
      "Action: gender:  25%|███████▎                     | 1/4 [00:00<00:00,  4.02it/s]\u001b[A\n",
      "Action: gender:  50%|██████████████▌              | 2/4 [00:00<00:00,  4.23it/s]\u001b[A\n",
      "Action: race:  50%|███████████████▌               | 2/4 [00:00<00:00,  4.23it/s]\u001b[A\n",
      "Action: race:  75%|███████████████████████▎       | 3/4 [00:00<00:00,  4.26it/s]\u001b[A\n",
      "Action: emotion: 100%|████████████████████████████| 4/4 [00:00<00:00,  5.51it/s]\u001b[A\n",
      "599it [09:25,  1.01s/it]"
     ]
    },
    {
     "name": "stdout",
     "output_type": "stream",
     "text": [
      "/Users/jessecoulter/Downloads/FIN377/CEOPersonalities-/matched_pictures/David J. Henshall/2019\n"
     ]
    },
    {
     "name": "stderr",
     "output_type": "stream",
     "text": [
      "\n",
      "Finding actions:   0%|                                    | 0/4 [00:00<?, ?it/s]\u001b[A\n",
      "Action: age:   0%|                                        | 0/4 [00:00<?, ?it/s]\u001b[A\n",
      "Action: age:  25%|████████                        | 1/4 [00:00<00:00,  4.01it/s]\u001b[A\n",
      "Action: gender:  25%|███████▎                     | 1/4 [00:00<00:00,  4.01it/s]\u001b[A\n",
      "Action: gender:  50%|██████████████▌              | 2/4 [00:00<00:00,  3.98it/s]\u001b[A\n",
      "Action: race:  50%|███████████████▌               | 2/4 [00:00<00:00,  3.98it/s]\u001b[A\n",
      "Action: race:  75%|███████████████████████▎       | 3/4 [00:00<00:00,  4.01it/s]\u001b[A\n",
      "Action: emotion: 100%|████████████████████████████| 4/4 [00:00<00:00,  5.22it/s]\u001b[A\n",
      "600it [09:26,  1.05it/s]"
     ]
    },
    {
     "name": "stdout",
     "output_type": "stream",
     "text": [
      "/Users/jessecoulter/Downloads/FIN377/CEOPersonalities-/matched_pictures/Kevin Johnson/2010\n"
     ]
    },
    {
     "name": "stderr",
     "output_type": "stream",
     "text": [
      "\n",
      "Finding actions:   0%|                                    | 0/4 [00:00<?, ?it/s]\u001b[A\n",
      "Action: age:   0%|                                        | 0/4 [00:00<?, ?it/s]\u001b[A\n",
      "Action: age:  25%|████████                        | 1/4 [00:00<00:00,  4.09it/s]\u001b[A\n",
      "Action: gender:  25%|███████▎                     | 1/4 [00:00<00:00,  4.09it/s]\u001b[A\n",
      "Action: gender:  50%|██████████████▌              | 2/4 [00:00<00:00,  4.14it/s]\u001b[A\n",
      "Action: race:  50%|███████████████▌               | 2/4 [00:00<00:00,  4.14it/s]\u001b[A\n",
      "Action: race:  75%|███████████████████████▎       | 3/4 [00:00<00:00,  4.29it/s]\u001b[A\n",
      "Action: emotion: 100%|████████████████████████████| 4/4 [00:00<00:00,  5.52it/s]\u001b[A\n",
      "601it [09:26,  1.12it/s]"
     ]
    },
    {
     "name": "stdout",
     "output_type": "stream",
     "text": [
      "/Users/jessecoulter/Downloads/FIN377/CEOPersonalities-/matched_pictures/Kevin Johnson/2011\n"
     ]
    },
    {
     "name": "stderr",
     "output_type": "stream",
     "text": [
      "\n",
      "Finding actions:   0%|                                    | 0/4 [00:00<?, ?it/s]\u001b[A\n",
      "Action: age:   0%|                                        | 0/4 [00:00<?, ?it/s]\u001b[A\n",
      "Action: age:  25%|████████                        | 1/4 [00:00<00:00,  4.01it/s]\u001b[A\n",
      "Action: gender:  25%|███████▎                     | 1/4 [00:00<00:00,  4.01it/s]\u001b[A\n",
      "Action: gender:  50%|██████████████▌              | 2/4 [00:00<00:00,  4.22it/s]\u001b[A\n",
      "Action: race:  50%|███████████████▌               | 2/4 [00:00<00:00,  4.22it/s]\u001b[A\n",
      "Action: race:  75%|███████████████████████▎       | 3/4 [00:00<00:00,  4.09it/s]\u001b[A\n",
      "Action: emotion: 100%|████████████████████████████| 4/4 [00:00<00:00,  5.35it/s]\u001b[A\n",
      "602it [09:27,  1.12it/s]"
     ]
    },
    {
     "name": "stdout",
     "output_type": "stream",
     "text": [
      "/Users/jessecoulter/Downloads/FIN377/CEOPersonalities-/matched_pictures/Kevin Johnson/2012\n",
      "Error analyzing /Users/jessecoulter/Downloads/FIN377/CEOPersonalities-/matched_pictures/Kevin Johnson/2012/pic1.jpg: Face could not be detected in /Users/jessecoulter/Downloads/FIN377/CEOPersonalities-/matched_pictures/Kevin Johnson/2012/pic1.jpg.Please confirm that the picture is a face photo or consider to set enforce_detection param to False.\n",
      "/Users/jessecoulter/Downloads/FIN377/CEOPersonalities-/matched_pictures/Shaygan Kheradpir/2013\n"
     ]
    },
    {
     "name": "stderr",
     "output_type": "stream",
     "text": [
      "\n",
      "Finding actions:   0%|                                    | 0/4 [00:00<?, ?it/s]\u001b[A\n",
      "Action: age:   0%|                                        | 0/4 [00:00<?, ?it/s]\u001b[A\n",
      "Action: age:  25%|████████                        | 1/4 [00:00<00:00,  4.20it/s]\u001b[A\n",
      "Action: gender:  25%|███████▎                     | 1/4 [00:00<00:00,  4.20it/s]\u001b[A\n",
      "Action: gender:  50%|██████████████▌              | 2/4 [00:00<00:00,  4.24it/s]\u001b[A\n",
      "Action: race:  50%|███████████████▌               | 2/4 [00:00<00:00,  4.24it/s]\u001b[A\n",
      "Action: race:  75%|███████████████████████▎       | 3/4 [00:00<00:00,  4.15it/s]\u001b[A\n",
      "Action: emotion: 100%|████████████████████████████| 4/4 [00:00<00:00,  5.44it/s]\u001b[A\n",
      "604it [09:28,  1.46it/s]"
     ]
    },
    {
     "name": "stdout",
     "output_type": "stream",
     "text": [
      "/Users/jessecoulter/Downloads/FIN377/CEOPersonalities-/matched_pictures/Rami Rahim/2014\n"
     ]
    },
    {
     "name": "stderr",
     "output_type": "stream",
     "text": [
      "\n",
      "Finding actions:   0%|                                    | 0/4 [00:00<?, ?it/s]\u001b[A\n",
      "Action: age:   0%|                                        | 0/4 [00:00<?, ?it/s]\u001b[A\n",
      "Action: age:  25%|████████                        | 1/4 [00:00<00:00,  4.06it/s]\u001b[A\n",
      "Action: gender:  25%|███████▎                     | 1/4 [00:00<00:00,  4.06it/s]\u001b[A\n",
      "Action: gender:  50%|██████████████▌              | 2/4 [00:00<00:00,  4.11it/s]\u001b[A\n",
      "Action: race:  50%|███████████████▌               | 2/4 [00:00<00:00,  4.11it/s]\u001b[A\n",
      "Action: race:  75%|███████████████████████▎       | 3/4 [00:00<00:00,  4.24it/s]\u001b[A\n",
      "Action: emotion: 100%|████████████████████████████| 4/4 [00:00<00:00,  5.47it/s]\u001b[A\n",
      "605it [09:29,  1.35it/s]"
     ]
    },
    {
     "name": "stdout",
     "output_type": "stream",
     "text": [
      "/Users/jessecoulter/Downloads/FIN377/CEOPersonalities-/matched_pictures/Rami Rahim/2015\n"
     ]
    },
    {
     "name": "stderr",
     "output_type": "stream",
     "text": [
      "\n",
      "Finding actions:   0%|                                    | 0/4 [00:00<?, ?it/s]\u001b[A\n",
      "Action: age:   0%|                                        | 0/4 [00:00<?, ?it/s]\u001b[A\n",
      "Action: age:  25%|████████                        | 1/4 [00:00<00:00,  4.37it/s]\u001b[A\n",
      "Action: gender:  25%|███████▎                     | 1/4 [00:00<00:00,  4.37it/s]\u001b[A\n",
      "Action: gender:  50%|██████████████▌              | 2/4 [00:00<00:00,  4.17it/s]\u001b[A\n",
      "Action: race:  50%|███████████████▌               | 2/4 [00:00<00:00,  4.17it/s]\u001b[A\n",
      "Action: race:  75%|███████████████████████▎       | 3/4 [00:00<00:00,  4.23it/s]\u001b[A\n",
      "Action: emotion: 100%|████████████████████████████| 4/4 [00:00<00:00,  5.51it/s]\u001b[A\n",
      "606it [09:30,  1.32it/s]"
     ]
    },
    {
     "name": "stdout",
     "output_type": "stream",
     "text": [
      "/Users/jessecoulter/Downloads/FIN377/CEOPersonalities-/matched_pictures/Rami Rahim/2016\n"
     ]
    },
    {
     "name": "stderr",
     "output_type": "stream",
     "text": [
      "\n",
      "Finding actions:   0%|                                    | 0/4 [00:00<?, ?it/s]\u001b[A\n",
      "Action: age:   0%|                                        | 0/4 [00:00<?, ?it/s]\u001b[A\n",
      "Action: age:  25%|████████                        | 1/4 [00:00<00:00,  4.49it/s]\u001b[A\n",
      "Action: gender:  25%|███████▎                     | 1/4 [00:00<00:00,  4.49it/s]\u001b[A\n",
      "Action: gender:  50%|██████████████▌              | 2/4 [00:00<00:00,  4.56it/s]\u001b[A\n",
      "Action: race:  50%|███████████████▌               | 2/4 [00:00<00:00,  4.56it/s]\u001b[A\n",
      "Action: race:  75%|███████████████████████▎       | 3/4 [00:00<00:00,  4.56it/s]\u001b[A\n",
      "Action: emotion: 100%|████████████████████████████| 4/4 [00:00<00:00,  5.93it/s]\u001b[A\n",
      "\n",
      "Finding actions:   0%|                                    | 0/4 [00:00<?, ?it/s]\u001b[A\n",
      "Action: age:   0%|                                        | 0/4 [00:00<?, ?it/s]\u001b[A\n",
      "Action: age:  25%|████████                        | 1/4 [00:00<00:00,  4.51it/s]\u001b[A\n",
      "Action: gender:  25%|███████▎                     | 1/4 [00:00<00:00,  4.51it/s]\u001b[A\n",
      "Action: gender:  50%|██████████████▌              | 2/4 [00:00<00:00,  4.47it/s]\u001b[A\n",
      "Action: race:  50%|███████████████▌               | 2/4 [00:00<00:00,  4.47it/s]\u001b[A\n",
      "Action: race:  75%|███████████████████████▎       | 3/4 [00:00<00:00,  4.52it/s]\u001b[A\n",
      "Action: emotion: 100%|████████████████████████████| 4/4 [00:00<00:00,  5.86it/s]\u001b[A\n",
      "607it [09:34,  1.84s/it]"
     ]
    },
    {
     "name": "stdout",
     "output_type": "stream",
     "text": [
      "/Users/jessecoulter/Downloads/FIN377/CEOPersonalities-/matched_pictures/Rami Rahim/2017\n"
     ]
    },
    {
     "name": "stderr",
     "output_type": "stream",
     "text": [
      "\n",
      "Finding actions:   0%|                                    | 0/4 [00:00<?, ?it/s]\u001b[A\n",
      "Action: age:   0%|                                        | 0/4 [00:00<?, ?it/s]\u001b[A\n",
      "Action: age:  25%|████████                        | 1/4 [00:00<00:00,  4.40it/s]\u001b[A\n",
      "Action: gender:  25%|███████▎                     | 1/4 [00:00<00:00,  4.40it/s]\u001b[A\n",
      "Action: gender:  50%|██████████████▌              | 2/4 [00:00<00:00,  4.50it/s]\u001b[A\n",
      "Action: race:  50%|███████████████▌               | 2/4 [00:00<00:00,  4.50it/s]\u001b[A\n",
      "Action: race:  75%|███████████████████████▎       | 3/4 [00:00<00:00,  4.53it/s]\u001b[A\n",
      "Action: emotion: 100%|████████████████████████████| 4/4 [00:00<00:00,  5.88it/s]\u001b[A\n",
      "608it [09:36,  1.66s/it]"
     ]
    },
    {
     "name": "stdout",
     "output_type": "stream",
     "text": [
      "/Users/jessecoulter/Downloads/FIN377/CEOPersonalities-/matched_pictures/Rami Rahim/2018\n"
     ]
    },
    {
     "name": "stderr",
     "output_type": "stream",
     "text": [
      "\n",
      "Finding actions:   0%|                                    | 0/4 [00:00<?, ?it/s]\u001b[A\n",
      "Action: age:   0%|                                        | 0/4 [00:00<?, ?it/s]\u001b[A\n",
      "Action: age:  25%|████████                        | 1/4 [00:00<00:00,  4.52it/s]\u001b[A\n",
      "Action: gender:  25%|███████▎                     | 1/4 [00:00<00:00,  4.52it/s]\u001b[A\n",
      "Action: gender:  50%|██████████████▌              | 2/4 [00:00<00:00,  4.56it/s]\u001b[A\n",
      "Action: race:  50%|███████████████▌               | 2/4 [00:00<00:00,  4.56it/s]\u001b[A\n",
      "Action: race:  75%|███████████████████████▎       | 3/4 [00:00<00:00,  4.28it/s]\u001b[A\n",
      "Action: emotion: 100%|████████████████████████████| 4/4 [00:00<00:00,  5.66it/s]\u001b[A\n",
      "609it [09:37,  1.44s/it]"
     ]
    },
    {
     "name": "stdout",
     "output_type": "stream",
     "text": [
      "/Users/jessecoulter/Downloads/FIN377/CEOPersonalities-/matched_pictures/Rami Rahim/2019\n"
     ]
    },
    {
     "name": "stderr",
     "output_type": "stream",
     "text": [
      "\n",
      "Finding actions:   0%|                                    | 0/4 [00:00<?, ?it/s]\u001b[A\n",
      "Action: age:   0%|                                        | 0/4 [00:00<?, ?it/s]\u001b[A\n",
      "Action: age:  25%|████████                        | 1/4 [00:00<00:00,  4.24it/s]\u001b[A\n",
      "Action: gender:  25%|███████▎                     | 1/4 [00:00<00:00,  4.24it/s]\u001b[A\n",
      "Action: gender:  50%|██████████████▌              | 2/4 [00:00<00:00,  4.27it/s]\u001b[A\n",
      "Action: race:  50%|███████████████▌               | 2/4 [00:00<00:00,  4.27it/s]\u001b[A\n",
      "Action: race:  75%|███████████████████████▎       | 3/4 [00:00<00:00,  4.40it/s]\u001b[A\n",
      "Action: emotion: 100%|████████████████████████████| 4/4 [00:00<00:00,  5.68it/s]\u001b[A\n",
      "\n",
      "Finding actions:   0%|                                    | 0/4 [00:00<?, ?it/s]\u001b[A\n",
      "Action: age:   0%|                                        | 0/4 [00:00<?, ?it/s]\u001b[A\n",
      "Action: age:  25%|████████                        | 1/4 [00:00<00:00,  4.34it/s]\u001b[A\n",
      "Action: gender:  25%|███████▎                     | 1/4 [00:00<00:00,  4.34it/s]\u001b[A\n",
      "Action: gender:  50%|██████████████▌              | 2/4 [00:00<00:00,  4.27it/s]\u001b[A\n",
      "Action: race:  50%|███████████████▌               | 2/4 [00:00<00:00,  4.27it/s]\u001b[A\n",
      "Action: race:  75%|███████████████████████▎       | 3/4 [00:00<00:00,  4.22it/s]\u001b[A\n",
      "Action: emotion: 100%|████████████████████████████| 4/4 [00:00<00:00,  5.53it/s]\u001b[A\n",
      "\n",
      "Finding actions:   0%|                                    | 0/4 [00:00<?, ?it/s]\u001b[A\n",
      "Action: age:   0%|                                        | 0/4 [00:00<?, ?it/s]\u001b[A\n",
      "Action: age:  25%|████████                        | 1/4 [00:00<00:00,  4.24it/s]\u001b[A\n",
      "Action: gender:  25%|███████▎                     | 1/4 [00:00<00:00,  4.24it/s]\u001b[A\n",
      "Action: gender:  50%|██████████████▌              | 2/4 [00:00<00:00,  4.22it/s]\u001b[A\n",
      "Action: race:  50%|███████████████▌               | 2/4 [00:00<00:00,  4.22it/s]\u001b[A\n",
      "Action: race:  75%|███████████████████████▎       | 3/4 [00:00<00:00,  4.18it/s]\u001b[A\n",
      "Action: emotion: 100%|████████████████████████████| 4/4 [00:00<00:00,  5.47it/s]\u001b[A\n",
      "610it [09:41,  2.32s/it]"
     ]
    },
    {
     "name": "stdout",
     "output_type": "stream",
     "text": [
      "/Users/jessecoulter/Downloads/FIN377/CEOPersonalities-/matched_pictures/Eddie Edwards/2010\n"
     ]
    },
    {
     "name": "stderr",
     "output_type": "stream",
     "text": [
      "\n",
      "Finding actions:   0%|                                    | 0/4 [00:00<?, ?it/s]\u001b[A\n",
      "Action: age:   0%|                                        | 0/4 [00:00<?, ?it/s]\u001b[A\n",
      "Action: age:  25%|████████                        | 1/4 [00:00<00:00,  4.14it/s]\u001b[A\n",
      "Action: gender:  25%|███████▎                     | 1/4 [00:00<00:00,  4.14it/s]\u001b[A\n",
      "Action: gender:  50%|██████████████▌              | 2/4 [00:00<00:00,  4.19it/s]\u001b[A\n",
      "Action: race:  50%|███████████████▌               | 2/4 [00:00<00:00,  4.19it/s]\u001b[A\n",
      "Action: race:  75%|███████████████████████▎       | 3/4 [00:00<00:00,  4.19it/s]\u001b[A\n",
      "Action: emotion: 100%|████████████████████████████| 4/4 [00:00<00:00,  5.46it/s]\u001b[A\n",
      "611it [09:42,  1.86s/it]"
     ]
    },
    {
     "name": "stdout",
     "output_type": "stream",
     "text": [
      "/Users/jessecoulter/Downloads/FIN377/CEOPersonalities-/matched_pictures/Eddie Edwards/2011\n"
     ]
    },
    {
     "name": "stderr",
     "output_type": "stream",
     "text": [
      "\n",
      "Finding actions:   0%|                                    | 0/4 [00:00<?, ?it/s]\u001b[A\n",
      "Action: age:   0%|                                        | 0/4 [00:00<?, ?it/s]\u001b[A\n",
      "Action: age:  25%|████████                        | 1/4 [00:00<00:00,  4.21it/s]\u001b[A\n",
      "Action: gender:  25%|███████▎                     | 1/4 [00:00<00:00,  4.21it/s]\u001b[A\n",
      "Action: gender:  50%|██████████████▌              | 2/4 [00:00<00:00,  4.24it/s]\u001b[A\n",
      "Action: race:  50%|███████████████▌               | 2/4 [00:00<00:00,  4.24it/s]\u001b[A\n",
      "Action: race:  75%|███████████████████████▎       | 3/4 [00:00<00:00,  4.22it/s]\u001b[A\n",
      "Action: emotion: 100%|████████████████████████████| 4/4 [00:00<00:00,  5.49it/s]\u001b[A\n",
      "612it [09:43,  1.54s/it]"
     ]
    },
    {
     "name": "stdout",
     "output_type": "stream",
     "text": [
      "/Users/jessecoulter/Downloads/FIN377/CEOPersonalities-/matched_pictures/Eddie Edwards/2012\n"
     ]
    },
    {
     "name": "stderr",
     "output_type": "stream",
     "text": [
      "\n",
      "Finding actions:   0%|                                    | 0/4 [00:00<?, ?it/s]\u001b[A\n",
      "Action: age:   0%|                                        | 0/4 [00:00<?, ?it/s]\u001b[A\n",
      "Action: age:  25%|████████                        | 1/4 [00:00<00:00,  4.04it/s]\u001b[A\n",
      "Action: gender:  25%|███████▎                     | 1/4 [00:00<00:00,  4.04it/s]\u001b[A\n",
      "Action: gender:  50%|██████████████▌              | 2/4 [00:00<00:00,  4.04it/s]\u001b[A\n",
      "Action: race:  50%|███████████████▌               | 2/4 [00:00<00:00,  4.04it/s]\u001b[A\n",
      "Action: race:  75%|███████████████████████▎       | 3/4 [00:00<00:00,  4.19it/s]\u001b[A\n",
      "Action: emotion: 100%|████████████████████████████| 4/4 [00:00<00:00,  5.41it/s]\u001b[A\n",
      "613it [09:43,  1.31s/it]"
     ]
    },
    {
     "name": "stdout",
     "output_type": "stream",
     "text": [
      "/Users/jessecoulter/Downloads/FIN377/CEOPersonalities-/matched_pictures/Eddie Edwards/2013\n",
      "Folder not found: /Users/jessecoulter/Downloads/FIN377/CEOPersonalities-/matched_pictures/Eddie Edwards/2013\n",
      "/Users/jessecoulter/Downloads/FIN377/CEOPersonalities-/matched_pictures/Eddie Edwards/2014\n"
     ]
    },
    {
     "name": "stderr",
     "output_type": "stream",
     "text": [
      "\n",
      "Finding actions:   0%|                                    | 0/4 [00:00<?, ?it/s]\u001b[A\n",
      "Action: age:   0%|                                        | 0/4 [00:00<?, ?it/s]\u001b[A\n",
      "Action: age:  25%|████████                        | 1/4 [00:00<00:00,  4.26it/s]\u001b[A\n",
      "Action: gender:  25%|███████▎                     | 1/4 [00:00<00:00,  4.26it/s]\u001b[A\n",
      "Action: gender:  50%|██████████████▌              | 2/4 [00:00<00:00,  4.19it/s]\u001b[A\n",
      "Action: race:  50%|███████████████▌               | 2/4 [00:00<00:00,  4.19it/s]\u001b[A\n",
      "Action: race:  75%|███████████████████████▎       | 3/4 [00:00<00:00,  4.26it/s]\u001b[A\n",
      "Action: emotion: 100%|████████████████████████████| 4/4 [00:00<00:00,  5.52it/s]\u001b[A\n",
      "615it [09:44,  1.11it/s]"
     ]
    },
    {
     "name": "stdout",
     "output_type": "stream",
     "text": [
      "/Users/jessecoulter/Downloads/FIN377/CEOPersonalities-/matched_pictures/Eddie Edwards/2015\n"
     ]
    },
    {
     "name": "stderr",
     "output_type": "stream",
     "text": [
      "\n",
      "Finding actions:   0%|                                    | 0/4 [00:00<?, ?it/s]\u001b[A\n",
      "Action: age:   0%|                                        | 0/4 [00:00<?, ?it/s]\u001b[A\n",
      "Action: age:  25%|████████                        | 1/4 [00:00<00:00,  4.44it/s]\u001b[A\n",
      "Action: gender:  25%|███████▎                     | 1/4 [00:00<00:00,  4.44it/s]\u001b[A\n",
      "Action: gender:  50%|██████████████▌              | 2/4 [00:00<00:00,  4.37it/s]\u001b[A\n",
      "Action: race:  50%|███████████████▌               | 2/4 [00:00<00:00,  4.37it/s]\u001b[A\n",
      "Action: race:  75%|███████████████████████▎       | 3/4 [00:00<00:00,  4.39it/s]\u001b[A\n",
      "Action: emotion: 100%|████████████████████████████| 4/4 [00:00<00:00,  5.71it/s]\u001b[A\n",
      "616it [09:45,  1.15it/s]"
     ]
    },
    {
     "name": "stdout",
     "output_type": "stream",
     "text": [
      "/Users/jessecoulter/Downloads/FIN377/CEOPersonalities-/matched_pictures/Eddie Edwards/2016\n"
     ]
    },
    {
     "name": "stderr",
     "output_type": "stream",
     "text": [
      "\n",
      "Finding actions:   0%|                                    | 0/4 [00:00<?, ?it/s]\u001b[A\n",
      "Action: age:   0%|                                        | 0/4 [00:00<?, ?it/s]\u001b[A\n",
      "Action: age:  25%|████████                        | 1/4 [00:00<00:00,  4.33it/s]\u001b[A\n",
      "Action: gender:  25%|███████▎                     | 1/4 [00:00<00:00,  4.33it/s]\u001b[A\n",
      "Action: gender:  50%|██████████████▌              | 2/4 [00:00<00:00,  4.31it/s]\u001b[A\n",
      "Action: race:  50%|███████████████▌               | 2/4 [00:00<00:00,  4.31it/s]\u001b[A\n",
      "Action: race:  75%|███████████████████████▎       | 3/4 [00:00<00:00,  4.37it/s]\u001b[A\n",
      "Action: emotion: 100%|████████████████████████████| 4/4 [00:00<00:00,  5.66it/s]\u001b[A\n",
      "617it [09:46,  1.17it/s]"
     ]
    },
    {
     "name": "stdout",
     "output_type": "stream",
     "text": [
      "/Users/jessecoulter/Downloads/FIN377/CEOPersonalities-/matched_pictures/Eddie Edwards/2017\n"
     ]
    },
    {
     "name": "stderr",
     "output_type": "stream",
     "text": [
      "\n",
      "Finding actions:   0%|                                    | 0/4 [00:00<?, ?it/s]\u001b[A\n",
      "Action: age:   0%|                                        | 0/4 [00:00<?, ?it/s]\u001b[A\n",
      "Action: age:  25%|████████                        | 1/4 [00:00<00:00,  4.65it/s]\u001b[A\n",
      "Action: gender:  25%|███████▎                     | 1/4 [00:00<00:00,  4.65it/s]\u001b[A\n",
      "Action: gender:  50%|██████████████▌              | 2/4 [00:00<00:00,  4.67it/s]\u001b[A\n",
      "Action: race:  50%|███████████████▌               | 2/4 [00:00<00:00,  4.67it/s]\u001b[A\n",
      "Action: race:  75%|███████████████████████▎       | 3/4 [00:00<00:00,  4.60it/s]\u001b[A\n",
      "Action: emotion: 100%|████████████████████████████| 4/4 [00:00<00:00,  6.01it/s]\u001b[A\n",
      "618it [09:46,  1.23it/s]"
     ]
    },
    {
     "name": "stdout",
     "output_type": "stream",
     "text": [
      "/Users/jessecoulter/Downloads/FIN377/CEOPersonalities-/matched_pictures/Eddie Edwards/2018\n",
      "Folder not found: /Users/jessecoulter/Downloads/FIN377/CEOPersonalities-/matched_pictures/Eddie Edwards/2018\n",
      "/Users/jessecoulter/Downloads/FIN377/CEOPersonalities-/matched_pictures/Eddie Edwards/2019\n"
     ]
    },
    {
     "name": "stderr",
     "output_type": "stream",
     "text": [
      "\n",
      "Finding actions:   0%|                                    | 0/4 [00:00<?, ?it/s]\u001b[A\n",
      "Action: age:   0%|                                        | 0/4 [00:00<?, ?it/s]\u001b[A\n",
      "Action: age:  25%|████████                        | 1/4 [00:00<00:00,  4.57it/s]\u001b[A\n",
      "Action: gender:  25%|███████▎                     | 1/4 [00:00<00:00,  4.57it/s]\u001b[A\n",
      "Action: gender:  50%|██████████████▌              | 2/4 [00:00<00:00,  4.45it/s]\u001b[A\n",
      "Action: race:  50%|███████████████▌               | 2/4 [00:00<00:00,  4.45it/s]\u001b[A\n",
      "Action: race:  75%|███████████████████████▎       | 3/4 [00:00<00:00,  4.33it/s]\u001b[A\n",
      "Action: emotion: 100%|████████████████████████████| 4/4 [00:00<00:00,  5.68it/s]\u001b[A\n",
      "620it [09:47,  1.62it/s]"
     ]
    },
    {
     "name": "stdout",
     "output_type": "stream",
     "text": [
      "/Users/jessecoulter/Downloads/FIN377/CEOPersonalities-/matched_pictures/Gary Smith/2010\n",
      "Folder not found: /Users/jessecoulter/Downloads/FIN377/CEOPersonalities-/matched_pictures/Gary Smith/2010\n",
      "/Users/jessecoulter/Downloads/FIN377/CEOPersonalities-/matched_pictures/Gary Smith/2011\n"
     ]
    },
    {
     "name": "stderr",
     "output_type": "stream",
     "text": [
      "\n",
      "Finding actions:   0%|                                    | 0/4 [00:00<?, ?it/s]\u001b[A\n",
      "Action: age:   0%|                                        | 0/4 [00:00<?, ?it/s]\u001b[A\n",
      "Action: age:  25%|████████                        | 1/4 [00:00<00:00,  4.20it/s]\u001b[A\n",
      "Action: gender:  25%|███████▎                     | 1/4 [00:00<00:00,  4.20it/s]\u001b[A\n",
      "Action: gender:  50%|██████████████▌              | 2/4 [00:00<00:00,  4.25it/s]\u001b[A\n",
      "Action: race:  50%|███████████████▌               | 2/4 [00:00<00:00,  4.25it/s]\u001b[A\n",
      "Action: race:  75%|███████████████████████▎       | 3/4 [00:00<00:00,  4.31it/s]\u001b[A\n",
      "Action: emotion: 100%|████████████████████████████| 4/4 [00:00<00:00,  5.59it/s]\u001b[A\n",
      "622it [09:48,  1.88it/s]"
     ]
    },
    {
     "name": "stdout",
     "output_type": "stream",
     "text": [
      "/Users/jessecoulter/Downloads/FIN377/CEOPersonalities-/matched_pictures/Gary Smith/2012\n"
     ]
    },
    {
     "name": "stderr",
     "output_type": "stream",
     "text": [
      "\n",
      "Finding actions:   0%|                                    | 0/4 [00:00<?, ?it/s]\u001b[A\n",
      "Action: age:   0%|                                        | 0/4 [00:00<?, ?it/s]\u001b[A\n",
      "Action: age:  25%|████████                        | 1/4 [00:00<00:00,  4.29it/s]\u001b[A\n",
      "Action: gender:  25%|███████▎                     | 1/4 [00:00<00:00,  4.29it/s]\u001b[A\n",
      "Action: gender:  50%|██████████████▌              | 2/4 [00:00<00:00,  4.39it/s]\u001b[A\n",
      "Action: race:  50%|███████████████▌               | 2/4 [00:00<00:00,  4.39it/s]\u001b[A\n",
      "Action: race:  75%|███████████████████████▎       | 3/4 [00:00<00:00,  4.44it/s]\u001b[A\n",
      "Action: emotion: 100%|████████████████████████████| 4/4 [00:00<00:00,  5.74it/s]\u001b[A\n",
      "623it [09:49,  1.72it/s]"
     ]
    },
    {
     "name": "stdout",
     "output_type": "stream",
     "text": [
      "/Users/jessecoulter/Downloads/FIN377/CEOPersonalities-/matched_pictures/Gary Smith/2013\n"
     ]
    },
    {
     "name": "stderr",
     "output_type": "stream",
     "text": [
      "\n",
      "Finding actions:   0%|                                    | 0/4 [00:00<?, ?it/s]\u001b[A\n",
      "Action: age:   0%|                                        | 0/4 [00:00<?, ?it/s]\u001b[A\n",
      "Action: age:  25%|████████                        | 1/4 [00:00<00:00,  4.56it/s]\u001b[A\n",
      "Action: gender:  25%|███████▎                     | 1/4 [00:00<00:00,  4.56it/s]\u001b[A\n",
      "Action: gender:  50%|██████████████▌              | 2/4 [00:00<00:00,  4.65it/s]\u001b[A\n",
      "Action: race:  50%|███████████████▌               | 2/4 [00:00<00:00,  4.65it/s]\u001b[A\n",
      "Action: race:  75%|███████████████████████▎       | 3/4 [00:00<00:00,  4.55it/s]\u001b[A\n",
      "Action: emotion: 100%|████████████████████████████| 4/4 [00:00<00:00,  5.94it/s]\u001b[A\n",
      "624it [09:50,  1.41it/s]"
     ]
    },
    {
     "name": "stdout",
     "output_type": "stream",
     "text": [
      "/Users/jessecoulter/Downloads/FIN377/CEOPersonalities-/matched_pictures/Gary Smith/2014\n"
     ]
    },
    {
     "name": "stderr",
     "output_type": "stream",
     "text": [
      "\n",
      "Finding actions:   0%|                                    | 0/4 [00:00<?, ?it/s]\u001b[A\n",
      "Action: age:   0%|                                        | 0/4 [00:00<?, ?it/s]\u001b[A\n",
      "Action: age:  25%|████████                        | 1/4 [00:00<00:00,  4.53it/s]\u001b[A\n",
      "Action: gender:  25%|███████▎                     | 1/4 [00:00<00:00,  4.53it/s]\u001b[A\n",
      "Action: gender:  50%|██████████████▌              | 2/4 [00:00<00:00,  4.26it/s]\u001b[A\n",
      "Action: race:  50%|███████████████▌               | 2/4 [00:00<00:00,  4.26it/s]\u001b[A\n",
      "Action: race:  75%|███████████████████████▎       | 3/4 [00:00<00:00,  4.24it/s]\u001b[A\n",
      "Action: emotion: 100%|████████████████████████████| 4/4 [00:00<00:00,  5.56it/s]\u001b[A\n",
      "625it [09:51,  1.38it/s]"
     ]
    },
    {
     "name": "stdout",
     "output_type": "stream",
     "text": [
      "/Users/jessecoulter/Downloads/FIN377/CEOPersonalities-/matched_pictures/Gary Smith/2015\n"
     ]
    },
    {
     "name": "stderr",
     "output_type": "stream",
     "text": [
      "\n",
      "Finding actions:   0%|                                    | 0/4 [00:00<?, ?it/s]\u001b[A\n",
      "Action: age:   0%|                                        | 0/4 [00:00<?, ?it/s]\u001b[A\n",
      "Action: age:  25%|████████                        | 1/4 [00:00<00:00,  4.37it/s]\u001b[A\n",
      "Action: gender:  25%|███████▎                     | 1/4 [00:00<00:00,  4.37it/s]\u001b[A\n",
      "Action: gender:  50%|██████████████▌              | 2/4 [00:00<00:00,  4.08it/s]\u001b[A\n",
      "Action: race:  50%|███████████████▌               | 2/4 [00:00<00:00,  4.08it/s]\u001b[A\n",
      "Action: race:  75%|███████████████████████▎       | 3/4 [00:00<00:00,  4.14it/s]\u001b[A\n",
      "Action: emotion: 100%|████████████████████████████| 4/4 [00:00<00:00,  5.40it/s]\u001b[A\n",
      "626it [09:53,  1.23s/it]"
     ]
    },
    {
     "name": "stdout",
     "output_type": "stream",
     "text": [
      "/Users/jessecoulter/Downloads/FIN377/CEOPersonalities-/matched_pictures/Gary Smith/2016\n"
     ]
    },
    {
     "name": "stderr",
     "output_type": "stream",
     "text": [
      "\n",
      "Finding actions:   0%|                                    | 0/4 [00:00<?, ?it/s]\u001b[A\n",
      "Action: age:   0%|                                        | 0/4 [00:00<?, ?it/s]\u001b[A\n",
      "Action: age:  25%|████████                        | 1/4 [00:00<00:00,  4.07it/s]\u001b[A\n",
      "Action: gender:  25%|███████▎                     | 1/4 [00:00<00:00,  4.07it/s]\u001b[A\n",
      "Action: gender:  50%|██████████████▌              | 2/4 [00:00<00:00,  3.91it/s]\u001b[A\n",
      "Action: race:  50%|███████████████▌               | 2/4 [00:00<00:00,  3.91it/s]\u001b[A\n",
      "Action: race:  75%|███████████████████████▎       | 3/4 [00:00<00:00,  4.07it/s]\u001b[A\n",
      "Action: emotion: 100%|████████████████████████████| 4/4 [00:00<00:00,  5.28it/s]\u001b[A\n",
      "627it [09:54,  1.15s/it]"
     ]
    },
    {
     "name": "stdout",
     "output_type": "stream",
     "text": [
      "/Users/jessecoulter/Downloads/FIN377/CEOPersonalities-/matched_pictures/Gary Smith/2017\n"
     ]
    },
    {
     "name": "stderr",
     "output_type": "stream",
     "text": [
      "\n",
      "Finding actions:   0%|                                    | 0/4 [00:00<?, ?it/s]\u001b[A\n",
      "Action: age:   0%|                                        | 0/4 [00:00<?, ?it/s]\u001b[A\n",
      "Action: age:  25%|████████                        | 1/4 [00:00<00:00,  4.37it/s]\u001b[A\n",
      "Action: gender:  25%|███████▎                     | 1/4 [00:00<00:00,  4.37it/s]\u001b[A\n",
      "Action: gender:  50%|██████████████▌              | 2/4 [00:00<00:00,  4.34it/s]\u001b[A\n",
      "Action: race:  50%|███████████████▌               | 2/4 [00:00<00:00,  4.34it/s]\u001b[A\n",
      "Action: race:  75%|███████████████████████▎       | 3/4 [00:00<00:00,  4.46it/s]\u001b[A\n",
      "Action: emotion: 100%|████████████████████████████| 4/4 [00:00<00:00,  5.76it/s]\u001b[A\n",
      "628it [09:55,  1.03s/it]"
     ]
    },
    {
     "name": "stdout",
     "output_type": "stream",
     "text": [
      "/Users/jessecoulter/Downloads/FIN377/CEOPersonalities-/matched_pictures/Gary Smith/2018\n"
     ]
    },
    {
     "name": "stderr",
     "output_type": "stream",
     "text": [
      "\n",
      "Finding actions:   0%|                                    | 0/4 [00:00<?, ?it/s]\u001b[A\n",
      "Action: age:   0%|                                        | 0/4 [00:00<?, ?it/s]\u001b[A\n",
      "Action: age:  25%|████████                        | 1/4 [00:00<00:00,  4.49it/s]\u001b[A\n",
      "Action: gender:  25%|███████▎                     | 1/4 [00:00<00:00,  4.49it/s]\u001b[A\n",
      "Action: gender:  50%|██████████████▌              | 2/4 [00:00<00:00,  4.38it/s]\u001b[A\n",
      "Action: race:  50%|███████████████▌               | 2/4 [00:00<00:00,  4.38it/s]\u001b[A\n",
      "Action: race:  75%|███████████████████████▎       | 3/4 [00:00<00:00,  4.29it/s]\u001b[A\n",
      "Action: emotion: 100%|████████████████████████████| 4/4 [00:00<00:00,  5.64it/s]\u001b[A\n",
      "629it [09:56,  1.05it/s]"
     ]
    },
    {
     "name": "stdout",
     "output_type": "stream",
     "text": [
      "/Users/jessecoulter/Downloads/FIN377/CEOPersonalities-/matched_pictures/Gary Smith/2019\n"
     ]
    },
    {
     "name": "stderr",
     "output_type": "stream",
     "text": [
      "\n",
      "Finding actions:   0%|                                    | 0/4 [00:00<?, ?it/s]\u001b[A\n",
      "Action: age:   0%|                                        | 0/4 [00:00<?, ?it/s]\u001b[A\n",
      "Action: age:  25%|████████                        | 1/4 [00:00<00:00,  4.40it/s]\u001b[A\n",
      "Action: gender:  25%|███████▎                     | 1/4 [00:00<00:00,  4.40it/s]\u001b[A\n",
      "Action: gender:  50%|██████████████▌              | 2/4 [00:00<00:00,  4.32it/s]\u001b[A\n",
      "Action: race:  50%|███████████████▌               | 2/4 [00:00<00:00,  4.32it/s]\u001b[A\n",
      "Action: race:  75%|███████████████████████▎       | 3/4 [00:00<00:00,  4.31it/s]\u001b[A\n",
      "Action: emotion: 100%|████████████████████████████| 4/4 [00:00<00:00,  5.61it/s]\u001b[A\n",
      "630it [09:57,  1.16s/it]"
     ]
    },
    {
     "name": "stdout",
     "output_type": "stream",
     "text": [
      "/Users/jessecoulter/Downloads/FIN377/CEOPersonalities-/matched_pictures/Dominic Orr/2010\n"
     ]
    },
    {
     "name": "stderr",
     "output_type": "stream",
     "text": [
      "\n",
      "Finding actions:   0%|                                    | 0/4 [00:00<?, ?it/s]\u001b[A\n",
      "Action: age:   0%|                                        | 0/4 [00:00<?, ?it/s]\u001b[A\n",
      "Action: age:  25%|████████                        | 1/4 [00:00<00:00,  4.29it/s]\u001b[A\n",
      "Action: gender:  25%|███████▎                     | 1/4 [00:00<00:00,  4.29it/s]\u001b[A\n",
      "Action: gender:  50%|██████████████▌              | 2/4 [00:00<00:00,  4.28it/s]\u001b[A\n",
      "Action: race:  50%|███████████████▌               | 2/4 [00:00<00:00,  4.28it/s]\u001b[A\n",
      "Action: race:  75%|███████████████████████▎       | 3/4 [00:00<00:00,  4.27it/s]\u001b[A\n",
      "Action: emotion: 100%|████████████████████████████| 4/4 [00:00<00:00,  5.57it/s]\u001b[A\n",
      "631it [09:58,  1.04s/it]"
     ]
    },
    {
     "name": "stdout",
     "output_type": "stream",
     "text": [
      "/Users/jessecoulter/Downloads/FIN377/CEOPersonalities-/matched_pictures/Dominic Orr/2011\n"
     ]
    },
    {
     "name": "stderr",
     "output_type": "stream",
     "text": [
      "\n",
      "Finding actions:   0%|                                    | 0/4 [00:00<?, ?it/s]\u001b[A\n",
      "Action: age:   0%|                                        | 0/4 [00:00<?, ?it/s]\u001b[A\n",
      "Action: age:  25%|████████                        | 1/4 [00:00<00:00,  4.27it/s]\u001b[A\n",
      "Action: gender:  25%|███████▎                     | 1/4 [00:00<00:00,  4.27it/s]\u001b[A\n",
      "Action: gender:  50%|██████████████▌              | 2/4 [00:00<00:00,  4.26it/s]\u001b[A\n",
      "Action: race:  50%|███████████████▌               | 2/4 [00:00<00:00,  4.26it/s]\u001b[A\n",
      "Action: race:  75%|███████████████████████▎       | 3/4 [00:00<00:00,  4.40it/s]\u001b[A\n",
      "Action: emotion: 100%|████████████████████████████| 4/4 [00:00<00:00,  5.68it/s]\u001b[A\n",
      "632it [09:59,  1.03it/s]"
     ]
    },
    {
     "name": "stdout",
     "output_type": "stream",
     "text": [
      "/Users/jessecoulter/Downloads/FIN377/CEOPersonalities-/matched_pictures/Dominic Orr/2012\n"
     ]
    },
    {
     "name": "stderr",
     "output_type": "stream",
     "text": [
      "\n",
      "Finding actions:   0%|                                    | 0/4 [00:00<?, ?it/s]\u001b[A\n",
      "Action: age:   0%|                                        | 0/4 [00:00<?, ?it/s]\u001b[A\n",
      "Action: age:  25%|████████                        | 1/4 [00:00<00:00,  4.59it/s]\u001b[A\n",
      "Action: gender:  25%|███████▎                     | 1/4 [00:00<00:00,  4.59it/s]\u001b[A\n",
      "Action: gender:  50%|██████████████▌              | 2/4 [00:00<00:00,  4.65it/s]\u001b[A\n",
      "Action: race:  50%|███████████████▌               | 2/4 [00:00<00:00,  4.65it/s]\u001b[A\n",
      "Action: race:  75%|███████████████████████▎       | 3/4 [00:00<00:00,  4.53it/s]\u001b[A\n",
      "Action: emotion: 100%|████████████████████████████| 4/4 [00:00<00:00,  5.92it/s]\u001b[A\n",
      "633it [10:00,  1.12it/s]"
     ]
    },
    {
     "name": "stdout",
     "output_type": "stream",
     "text": [
      "/Users/jessecoulter/Downloads/FIN377/CEOPersonalities-/matched_pictures/Dominic Orr/2013\n"
     ]
    },
    {
     "name": "stderr",
     "output_type": "stream",
     "text": [
      "\n",
      "Finding actions:   0%|                                    | 0/4 [00:00<?, ?it/s]\u001b[A\n",
      "Action: age:   0%|                                        | 0/4 [00:00<?, ?it/s]\u001b[A\n",
      "Action: age:  25%|████████                        | 1/4 [00:00<00:00,  4.56it/s]\u001b[A\n",
      "Action: gender:  25%|███████▎                     | 1/4 [00:00<00:00,  4.56it/s]\u001b[A\n",
      "Action: gender:  50%|██████████████▌              | 2/4 [00:00<00:00,  4.42it/s]\u001b[A\n",
      "Action: race:  50%|███████████████▌               | 2/4 [00:00<00:00,  4.42it/s]\u001b[A\n",
      "Action: race:  75%|███████████████████████▎       | 3/4 [00:00<00:00,  4.36it/s]\u001b[A\n",
      "Action: emotion: 100%|████████████████████████████| 4/4 [00:00<00:00,  5.71it/s]\u001b[A\n",
      "634it [10:00,  1.18it/s]"
     ]
    },
    {
     "name": "stdout",
     "output_type": "stream",
     "text": [
      "/Users/jessecoulter/Downloads/FIN377/CEOPersonalities-/matched_pictures/Dominic Orr/2014\n"
     ]
    },
    {
     "name": "stderr",
     "output_type": "stream",
     "text": [
      "\n",
      "Finding actions:   0%|                                    | 0/4 [00:00<?, ?it/s]\u001b[A\n",
      "Action: age:   0%|                                        | 0/4 [00:00<?, ?it/s]\u001b[A\n",
      "Action: age:  25%|████████                        | 1/4 [00:00<00:00,  4.52it/s]\u001b[A\n",
      "Action: gender:  25%|███████▎                     | 1/4 [00:00<00:00,  4.52it/s]\u001b[A\n",
      "Action: gender:  50%|██████████████▌              | 2/4 [00:00<00:00,  4.41it/s]\u001b[A\n",
      "Action: race:  50%|███████████████▌               | 2/4 [00:00<00:00,  4.41it/s]\u001b[A\n",
      "Action: race:  75%|███████████████████████▎       | 3/4 [00:00<00:00,  4.42it/s]\u001b[A\n",
      "Action: emotion: 100%|████████████████████████████| 4/4 [00:00<00:00,  5.76it/s]\u001b[A\n",
      "635it [10:01,  1.23it/s]"
     ]
    },
    {
     "name": "stdout",
     "output_type": "stream",
     "text": [
      "/Users/jessecoulter/Downloads/FIN377/CEOPersonalities-/matched_pictures/Dominic Orr/2015\n"
     ]
    },
    {
     "name": "stderr",
     "output_type": "stream",
     "text": [
      "\n",
      "Finding actions:   0%|                                    | 0/4 [00:00<?, ?it/s]\u001b[A\n",
      "Action: age:   0%|                                        | 0/4 [00:00<?, ?it/s]\u001b[A\n",
      "Action: age:  25%|████████                        | 1/4 [00:00<00:00,  4.38it/s]\u001b[A\n",
      "Action: gender:  25%|███████▎                     | 1/4 [00:00<00:00,  4.38it/s]\u001b[A\n",
      "Action: gender:  50%|██████████████▌              | 2/4 [00:00<00:00,  4.43it/s]\u001b[A\n",
      "Action: race:  50%|███████████████▌               | 2/4 [00:00<00:00,  4.43it/s]\u001b[A\n",
      "Action: race:  75%|███████████████████████▎       | 3/4 [00:00<00:00,  4.40it/s]\u001b[A\n",
      "Action: emotion: 100%|████████████████████████████| 4/4 [00:00<00:00,  5.73it/s]\u001b[A\n",
      "636it [10:03,  1.05s/it]"
     ]
    },
    {
     "name": "stdout",
     "output_type": "stream",
     "text": [
      "/Users/jessecoulter/Downloads/FIN377/CEOPersonalities-/matched_pictures/Part of HPE/2016\n",
      "Folder not found: /Users/jessecoulter/Downloads/FIN377/CEOPersonalities-/matched_pictures/Part of HPE/2016\n",
      "/Users/jessecoulter/Downloads/FIN377/CEOPersonalities-/matched_pictures/Part of HPE/2017\n",
      "Folder not found: /Users/jessecoulter/Downloads/FIN377/CEOPersonalities-/matched_pictures/Part of HPE/2017\n",
      "/Users/jessecoulter/Downloads/FIN377/CEOPersonalities-/matched_pictures/Part of HPE/2018\n",
      "Folder not found: /Users/jessecoulter/Downloads/FIN377/CEOPersonalities-/matched_pictures/Part of HPE/2018\n",
      "/Users/jessecoulter/Downloads/FIN377/CEOPersonalities-/matched_pictures/Part of HPE/2019\n",
      "Folder not found: /Users/jessecoulter/Downloads/FIN377/CEOPersonalities-/matched_pictures/Part of HPE/2019\n",
      "/Users/jessecoulter/Downloads/FIN377/CEOPersonalities-/matched_pictures/Lane Bess/2010\n"
     ]
    },
    {
     "name": "stderr",
     "output_type": "stream",
     "text": [
      "641it [10:03,  2.48it/s]"
     ]
    },
    {
     "name": "stdout",
     "output_type": "stream",
     "text": [
      "Error analyzing /Users/jessecoulter/Downloads/FIN377/CEOPersonalities-/matched_pictures/Lane Bess/2010/pic1.jpg: Face could not be detected in /Users/jessecoulter/Downloads/FIN377/CEOPersonalities-/matched_pictures/Lane Bess/2010/pic1.jpg.Please confirm that the picture is a face photo or consider to set enforce_detection param to False.\n",
      "/Users/jessecoulter/Downloads/FIN377/CEOPersonalities-/matched_pictures/Mark McLaughlin/2011\n"
     ]
    },
    {
     "name": "stderr",
     "output_type": "stream",
     "text": [
      "\n",
      "Finding actions:   0%|                                    | 0/4 [00:00<?, ?it/s]\u001b[A\n",
      "Action: age:   0%|                                        | 0/4 [00:00<?, ?it/s]\u001b[A\n",
      "Action: age:  25%|████████                        | 1/4 [00:00<00:00,  4.53it/s]\u001b[A\n",
      "Action: gender:  25%|███████▎                     | 1/4 [00:00<00:00,  4.53it/s]\u001b[A\n",
      "Action: gender:  50%|██████████████▌              | 2/4 [00:00<00:00,  4.59it/s]\u001b[A\n",
      "Action: race:  50%|███████████████▌               | 2/4 [00:00<00:00,  4.59it/s]\u001b[A\n",
      "Action: race:  75%|███████████████████████▎       | 3/4 [00:00<00:00,  4.49it/s]\u001b[A\n",
      "Action: emotion: 100%|████████████████████████████| 4/4 [00:00<00:00,  5.87it/s]\u001b[A\n",
      "642it [10:04,  2.13it/s]"
     ]
    },
    {
     "name": "stdout",
     "output_type": "stream",
     "text": [
      "/Users/jessecoulter/Downloads/FIN377/CEOPersonalities-/matched_pictures/Mark McLaughlin/2012\n"
     ]
    },
    {
     "name": "stderr",
     "output_type": "stream",
     "text": [
      "\n",
      "Finding actions:   0%|                                    | 0/4 [00:00<?, ?it/s]\u001b[A\n",
      "Action: age:   0%|                                        | 0/4 [00:00<?, ?it/s]\u001b[A\n",
      "Action: age:  25%|████████                        | 1/4 [00:00<00:00,  4.50it/s]\u001b[A\n",
      "Action: gender:  25%|███████▎                     | 1/4 [00:00<00:00,  4.50it/s]\u001b[A\n",
      "Action: gender:  50%|██████████████▌              | 2/4 [00:00<00:00,  4.43it/s]\u001b[A\n",
      "Action: race:  50%|███████████████▌               | 2/4 [00:00<00:00,  4.43it/s]\u001b[A\n",
      "Action: race:  75%|███████████████████████▎       | 3/4 [00:00<00:00,  4.55it/s]\u001b[A\n",
      "Action: emotion: 100%|████████████████████████████| 4/4 [00:00<00:00,  5.89it/s]\u001b[A\n",
      "643it [10:05,  1.89it/s]"
     ]
    },
    {
     "name": "stdout",
     "output_type": "stream",
     "text": [
      "/Users/jessecoulter/Downloads/FIN377/CEOPersonalities-/matched_pictures/Mark McLaughlin/2013\n"
     ]
    },
    {
     "name": "stderr",
     "output_type": "stream",
     "text": [
      "\n",
      "Finding actions:   0%|                                    | 0/4 [00:00<?, ?it/s]\u001b[A\n",
      "Action: age:   0%|                                        | 0/4 [00:00<?, ?it/s]\u001b[A\n",
      "Action: age:  25%|████████                        | 1/4 [00:00<00:00,  4.69it/s]\u001b[A\n",
      "Action: gender:  25%|███████▎                     | 1/4 [00:00<00:00,  4.69it/s]\u001b[A\n",
      "Action: gender:  50%|██████████████▌              | 2/4 [00:00<00:00,  4.61it/s]\u001b[A\n",
      "Action: race:  50%|███████████████▌               | 2/4 [00:00<00:00,  4.61it/s]\u001b[A\n",
      "Action: race:  75%|███████████████████████▎       | 3/4 [00:00<00:00,  4.59it/s]\u001b[A\n",
      "Action: emotion: 100%|████████████████████████████| 4/4 [00:00<00:00,  5.99it/s]\u001b[A\n",
      "644it [10:06,  1.44it/s]"
     ]
    },
    {
     "name": "stdout",
     "output_type": "stream",
     "text": [
      "/Users/jessecoulter/Downloads/FIN377/CEOPersonalities-/matched_pictures/Mark McLaughlin/2014\n"
     ]
    },
    {
     "name": "stderr",
     "output_type": "stream",
     "text": [
      "\n",
      "Finding actions:   0%|                                    | 0/4 [00:00<?, ?it/s]\u001b[A\n",
      "Action: age:   0%|                                        | 0/4 [00:00<?, ?it/s]\u001b[A\n",
      "Action: age:  25%|████████                        | 1/4 [00:00<00:00,  4.39it/s]\u001b[A\n",
      "Action: gender:  25%|███████▎                     | 1/4 [00:00<00:00,  4.39it/s]\u001b[A\n",
      "Action: gender:  50%|██████████████▌              | 2/4 [00:00<00:00,  4.40it/s]\u001b[A\n",
      "Action: race:  50%|███████████████▌               | 2/4 [00:00<00:00,  4.40it/s]\u001b[A\n",
      "Action: race:  75%|███████████████████████▎       | 3/4 [00:00<00:00,  4.43it/s]\u001b[A\n",
      "Action: emotion: 100%|████████████████████████████| 4/4 [00:00<00:00,  5.75it/s]\u001b[A\n",
      "645it [10:07,  1.39it/s]"
     ]
    },
    {
     "name": "stdout",
     "output_type": "stream",
     "text": [
      "/Users/jessecoulter/Downloads/FIN377/CEOPersonalities-/matched_pictures/Mark McLaughlin/2015\n"
     ]
    },
    {
     "name": "stderr",
     "output_type": "stream",
     "text": [
      "\n",
      "Finding actions:   0%|                                    | 0/4 [00:00<?, ?it/s]\u001b[A\n",
      "Action: age:   0%|                                        | 0/4 [00:00<?, ?it/s]\u001b[A\n",
      "Action: age:  25%|████████                        | 1/4 [00:00<00:00,  4.37it/s]\u001b[A\n",
      "Action: gender:  25%|███████▎                     | 1/4 [00:00<00:00,  4.37it/s]\u001b[A\n",
      "Action: gender:  50%|██████████████▌              | 2/4 [00:00<00:00,  4.46it/s]\u001b[A\n",
      "Action: race:  50%|███████████████▌               | 2/4 [00:00<00:00,  4.46it/s]\u001b[A\n",
      "Action: race:  75%|███████████████████████▎       | 3/4 [00:00<00:00,  4.56it/s]\u001b[A\n",
      "Action: emotion: 100%|████████████████████████████| 4/4 [00:00<00:00,  5.89it/s]\u001b[A\n",
      "646it [10:08,  1.35it/s]"
     ]
    },
    {
     "name": "stdout",
     "output_type": "stream",
     "text": [
      "/Users/jessecoulter/Downloads/FIN377/CEOPersonalities-/matched_pictures/Mark McLaughlin/2016\n"
     ]
    },
    {
     "name": "stderr",
     "output_type": "stream",
     "text": [
      "\n",
      "Finding actions:   0%|                                    | 0/4 [00:00<?, ?it/s]\u001b[A\n",
      "Action: age:   0%|                                        | 0/4 [00:00<?, ?it/s]\u001b[A\n",
      "Action: age:  25%|████████                        | 1/4 [00:00<00:00,  4.46it/s]\u001b[A\n",
      "Action: gender:  25%|███████▎                     | 1/4 [00:00<00:00,  4.46it/s]\u001b[A\n",
      "Action: gender:  50%|██████████████▌              | 2/4 [00:00<00:00,  4.36it/s]\u001b[A\n",
      "Action: race:  50%|███████████████▌               | 2/4 [00:00<00:00,  4.36it/s]\u001b[A\n",
      "Action: race:  75%|███████████████████████▎       | 3/4 [00:00<00:00,  4.45it/s]\u001b[A\n",
      "Action: emotion: 100%|████████████████████████████| 4/4 [00:00<00:00,  5.78it/s]\u001b[A\n",
      "647it [10:09,  1.30it/s]"
     ]
    },
    {
     "name": "stdout",
     "output_type": "stream",
     "text": [
      "/Users/jessecoulter/Downloads/FIN377/CEOPersonalities-/matched_pictures/Mark McLaughlin/2017\n"
     ]
    },
    {
     "name": "stderr",
     "output_type": "stream",
     "text": [
      "\n",
      "Finding actions:   0%|                                    | 0/4 [00:00<?, ?it/s]\u001b[A\n",
      "Action: age:   0%|                                        | 0/4 [00:00<?, ?it/s]\u001b[A\n",
      "Action: age:  25%|████████                        | 1/4 [00:00<00:00,  4.11it/s]\u001b[A\n",
      "Action: gender:  25%|███████▎                     | 1/4 [00:00<00:00,  4.11it/s]\u001b[A\n",
      "Action: gender:  50%|██████████████▌              | 2/4 [00:00<00:00,  4.25it/s]\u001b[A\n",
      "Action: race:  50%|███████████████▌               | 2/4 [00:00<00:00,  4.25it/s]\u001b[A\n",
      "Action: race:  75%|███████████████████████▎       | 3/4 [00:00<00:00,  4.29it/s]\u001b[A\n",
      "Action: emotion: 100%|████████████████████████████| 4/4 [00:00<00:00,  5.55it/s]\u001b[A\n",
      "648it [10:11,  1.11s/it]"
     ]
    },
    {
     "name": "stdout",
     "output_type": "stream",
     "text": [
      "/Users/jessecoulter/Downloads/FIN377/CEOPersonalities-/matched_pictures/Nikesh Arora/2018\n"
     ]
    },
    {
     "name": "stderr",
     "output_type": "stream",
     "text": [
      "\n",
      "Finding actions:   0%|                                    | 0/4 [00:00<?, ?it/s]\u001b[A\n",
      "Action: age:   0%|                                        | 0/4 [00:00<?, ?it/s]\u001b[A\n",
      "Action: age:  25%|████████                        | 1/4 [00:00<00:00,  4.65it/s]\u001b[A\n",
      "Action: gender:  25%|███████▎                     | 1/4 [00:00<00:00,  4.65it/s]\u001b[A\n",
      "Action: gender:  50%|██████████████▌              | 2/4 [00:00<00:00,  4.67it/s]\u001b[A\n",
      "Action: race:  50%|███████████████▌               | 2/4 [00:00<00:00,  4.67it/s]\u001b[A\n",
      "Action: race:  75%|███████████████████████▎       | 3/4 [00:00<00:00,  4.59it/s]\u001b[A\n",
      "Action: emotion: 100%|████████████████████████████| 4/4 [00:00<00:00,  5.98it/s]\u001b[A\n",
      "649it [10:11,  1.02s/it]"
     ]
    },
    {
     "name": "stdout",
     "output_type": "stream",
     "text": [
      "/Users/jessecoulter/Downloads/FIN377/CEOPersonalities-/matched_pictures/Nikesh Arora/2019\n"
     ]
    },
    {
     "name": "stderr",
     "output_type": "stream",
     "text": [
      "\n",
      "Finding actions:   0%|                                    | 0/4 [00:00<?, ?it/s]\u001b[A\n",
      "Action: age:   0%|                                        | 0/4 [00:00<?, ?it/s]\u001b[A\n",
      "Action: age:  25%|████████                        | 1/4 [00:00<00:00,  4.21it/s]\u001b[A\n",
      "Action: gender:  25%|███████▎                     | 1/4 [00:00<00:00,  4.21it/s]\u001b[A\n",
      "Action: gender:  50%|██████████████▌              | 2/4 [00:00<00:00,  4.21it/s]\u001b[A\n",
      "Action: race:  50%|███████████████▌               | 2/4 [00:00<00:00,  4.21it/s]\u001b[A\n",
      "Action: race:  75%|███████████████████████▎       | 3/4 [00:00<00:00,  4.32it/s]\u001b[A\n",
      "Action: emotion: 100%|████████████████████████████| 4/4 [00:00<00:00,  5.58it/s]\u001b[A\n",
      "650it [10:12,  1.06it/s]"
     ]
    },
    {
     "name": "stdout",
     "output_type": "stream",
     "text": [
      "/Users/jessecoulter/Downloads/FIN377/CEOPersonalities-/matched_pictures/Gil Shwed/2010\n"
     ]
    },
    {
     "name": "stderr",
     "output_type": "stream",
     "text": [
      "\n",
      "Finding actions:   0%|                                    | 0/4 [00:00<?, ?it/s]\u001b[A\n",
      "Action: age:   0%|                                        | 0/4 [00:00<?, ?it/s]\u001b[A\n",
      "Action: age:  25%|████████                        | 1/4 [00:00<00:00,  4.61it/s]\u001b[A\n",
      "Action: gender:  25%|███████▎                     | 1/4 [00:00<00:00,  4.61it/s]\u001b[A\n",
      "Action: gender:  50%|██████████████▌              | 2/4 [00:00<00:00,  4.31it/s]\u001b[A\n",
      "Action: race:  50%|███████████████▌               | 2/4 [00:00<00:00,  4.31it/s]\u001b[A\n",
      "Action: race:  75%|███████████████████████▎       | 3/4 [00:00<00:00,  4.37it/s]\u001b[A\n",
      "Action: emotion: 100%|████████████████████████████| 4/4 [00:00<00:00,  5.71it/s]\u001b[A\n",
      "651it [10:13,  1.13it/s]"
     ]
    },
    {
     "name": "stdout",
     "output_type": "stream",
     "text": [
      "/Users/jessecoulter/Downloads/FIN377/CEOPersonalities-/matched_pictures/Gil Shwed/2011\n"
     ]
    },
    {
     "name": "stderr",
     "output_type": "stream",
     "text": [
      "\n",
      "Finding actions:   0%|                                    | 0/4 [00:00<?, ?it/s]\u001b[A\n",
      "Action: age:   0%|                                        | 0/4 [00:00<?, ?it/s]\u001b[A\n",
      "Action: age:  25%|████████                        | 1/4 [00:00<00:00,  4.41it/s]\u001b[A\n",
      "Action: gender:  25%|███████▎                     | 1/4 [00:00<00:00,  4.41it/s]\u001b[A\n",
      "Action: gender:  50%|██████████████▌              | 2/4 [00:00<00:00,  4.12it/s]\u001b[A\n",
      "Action: race:  50%|███████████████▌               | 2/4 [00:00<00:00,  4.12it/s]\u001b[A\n",
      "Action: race:  75%|███████████████████████▎       | 3/4 [00:00<00:00,  4.07it/s]\u001b[A\n",
      "Action: emotion: 100%|████████████████████████████| 4/4 [00:00<00:00,  5.35it/s]\u001b[A\n",
      "652it [10:14,  1.16it/s]"
     ]
    },
    {
     "name": "stdout",
     "output_type": "stream",
     "text": [
      "/Users/jessecoulter/Downloads/FIN377/CEOPersonalities-/matched_pictures/Gil Shwed/2012\n"
     ]
    },
    {
     "name": "stderr",
     "output_type": "stream",
     "text": [
      "\n",
      "Finding actions:   0%|                                    | 0/4 [00:00<?, ?it/s]\u001b[A\n",
      "Action: age:   0%|                                        | 0/4 [00:00<?, ?it/s]\u001b[A\n",
      "Action: age:  25%|████████                        | 1/4 [00:00<00:00,  4.28it/s]\u001b[A\n",
      "Action: gender:  25%|███████▎                     | 1/4 [00:00<00:00,  4.28it/s]\u001b[A\n",
      "Action: gender:  50%|██████████████▌              | 2/4 [00:00<00:00,  4.32it/s]\u001b[A\n",
      "Action: race:  50%|███████████████▌               | 2/4 [00:00<00:00,  4.32it/s]\u001b[A\n",
      "Action: race:  75%|███████████████████████▎       | 3/4 [00:00<00:00,  4.47it/s]\u001b[A\n",
      "Action: emotion: 100%|████████████████████████████| 4/4 [00:00<00:00,  5.74it/s]\u001b[A\n",
      "653it [10:14,  1.18it/s]"
     ]
    },
    {
     "name": "stdout",
     "output_type": "stream",
     "text": [
      "/Users/jessecoulter/Downloads/FIN377/CEOPersonalities-/matched_pictures/Gil Shwed/2013\n"
     ]
    },
    {
     "name": "stderr",
     "output_type": "stream",
     "text": [
      "\n",
      "Finding actions:   0%|                                    | 0/4 [00:00<?, ?it/s]\u001b[A\n",
      "Action: age:   0%|                                        | 0/4 [00:00<?, ?it/s]\u001b[A\n",
      "Action: age:  25%|████████                        | 1/4 [00:00<00:00,  4.38it/s]\u001b[A\n",
      "Action: gender:  25%|███████▎                     | 1/4 [00:00<00:00,  4.38it/s]\u001b[A\n",
      "Action: gender:  50%|██████████████▌              | 2/4 [00:00<00:00,  4.33it/s]\u001b[A\n",
      "Action: race:  50%|███████████████▌               | 2/4 [00:00<00:00,  4.33it/s]\u001b[A\n",
      "Action: race:  75%|███████████████████████▎       | 3/4 [00:00<00:00,  4.33it/s]\u001b[A\n",
      "Action: emotion: 100%|████████████████████████████| 4/4 [00:00<00:00,  5.64it/s]\u001b[A\n",
      "654it [10:15,  1.21it/s]"
     ]
    },
    {
     "name": "stdout",
     "output_type": "stream",
     "text": [
      "/Users/jessecoulter/Downloads/FIN377/CEOPersonalities-/matched_pictures/Gil Shwed/2014\n"
     ]
    },
    {
     "name": "stderr",
     "output_type": "stream",
     "text": [
      "\n",
      "Finding actions:   0%|                                    | 0/4 [00:00<?, ?it/s]\u001b[A\n",
      "Action: age:   0%|                                        | 0/4 [00:00<?, ?it/s]\u001b[A\n",
      "Action: age:  25%|████████                        | 1/4 [00:00<00:00,  4.27it/s]\u001b[A\n",
      "Action: gender:  25%|███████▎                     | 1/4 [00:00<00:00,  4.27it/s]\u001b[A\n",
      "Action: gender:  50%|██████████████▌              | 2/4 [00:00<00:00,  4.40it/s]\u001b[A\n",
      "Action: race:  50%|███████████████▌               | 2/4 [00:00<00:00,  4.40it/s]\u001b[A\n",
      "Action: race:  75%|███████████████████████▎       | 3/4 [00:00<00:00,  4.34it/s]\u001b[A\n",
      "Action: emotion: 100%|████████████████████████████| 4/4 [00:00<00:00,  5.66it/s]\u001b[A\n",
      "655it [10:16,  1.24it/s]"
     ]
    },
    {
     "name": "stdout",
     "output_type": "stream",
     "text": [
      "/Users/jessecoulter/Downloads/FIN377/CEOPersonalities-/matched_pictures/Gil Shwed/2015\n"
     ]
    },
    {
     "name": "stderr",
     "output_type": "stream",
     "text": [
      "\n",
      "Finding actions:   0%|                                    | 0/4 [00:00<?, ?it/s]\u001b[A\n",
      "Action: age:   0%|                                        | 0/4 [00:00<?, ?it/s]\u001b[A\n",
      "Action: age:  25%|████████                        | 1/4 [00:00<00:00,  4.59it/s]\u001b[A\n",
      "Action: gender:  25%|███████▎                     | 1/4 [00:00<00:00,  4.59it/s]\u001b[A\n",
      "Action: gender:  50%|██████████████▌              | 2/4 [00:00<00:00,  4.41it/s]\u001b[A\n",
      "Action: race:  50%|███████████████▌               | 2/4 [00:00<00:00,  4.41it/s]\u001b[A\n",
      "Action: race:  75%|███████████████████████▎       | 3/4 [00:00<00:00,  4.40it/s]\u001b[A\n",
      "Action: emotion: 100%|████████████████████████████| 4/4 [00:00<00:00,  5.75it/s]\u001b[A\n",
      "656it [10:17,  1.27it/s]"
     ]
    },
    {
     "name": "stdout",
     "output_type": "stream",
     "text": [
      "/Users/jessecoulter/Downloads/FIN377/CEOPersonalities-/matched_pictures/Gil Shwed/2016\n"
     ]
    },
    {
     "name": "stderr",
     "output_type": "stream",
     "text": [
      "\n",
      "Finding actions:   0%|                                    | 0/4 [00:00<?, ?it/s]\u001b[A\n",
      "Action: age:   0%|                                        | 0/4 [00:00<?, ?it/s]\u001b[A\n",
      "Action: age:  25%|████████                        | 1/4 [00:00<00:00,  4.41it/s]\u001b[A\n",
      "Action: gender:  25%|███████▎                     | 1/4 [00:00<00:00,  4.41it/s]\u001b[A\n",
      "Action: gender:  50%|██████████████▌              | 2/4 [00:00<00:00,  4.33it/s]\u001b[A\n",
      "Action: race:  50%|███████████████▌               | 2/4 [00:00<00:00,  4.33it/s]\u001b[A\n",
      "Action: race:  75%|███████████████████████▎       | 3/4 [00:00<00:00,  4.30it/s]\u001b[A\n",
      "Action: emotion: 100%|████████████████████████████| 4/4 [00:00<00:00,  5.62it/s]\u001b[A\n",
      "657it [10:18,  1.22it/s]"
     ]
    },
    {
     "name": "stdout",
     "output_type": "stream",
     "text": [
      "/Users/jessecoulter/Downloads/FIN377/CEOPersonalities-/matched_pictures/Gil Shwed/2017\n"
     ]
    },
    {
     "name": "stderr",
     "output_type": "stream",
     "text": [
      "\n",
      "Finding actions:   0%|                                    | 0/4 [00:00<?, ?it/s]\u001b[A\n",
      "Action: age:   0%|                                        | 0/4 [00:00<?, ?it/s]\u001b[A\n",
      "Action: age:  25%|████████                        | 1/4 [00:00<00:00,  4.14it/s]\u001b[A\n",
      "Action: gender:  25%|███████▎                     | 1/4 [00:00<00:00,  4.14it/s]\u001b[A\n",
      "Action: gender:  50%|██████████████▌              | 2/4 [00:00<00:00,  4.31it/s]\u001b[A\n",
      "Action: race:  50%|███████████████▌               | 2/4 [00:00<00:00,  4.31it/s]\u001b[A\n",
      "Action: race:  75%|███████████████████████▎       | 3/4 [00:00<00:00,  4.22it/s]\u001b[A\n",
      "Action: emotion: 100%|████████████████████████████| 4/4 [00:00<00:00,  5.51it/s]\u001b[A\n",
      "658it [10:19,  1.18it/s]"
     ]
    },
    {
     "name": "stdout",
     "output_type": "stream",
     "text": [
      "/Users/jessecoulter/Downloads/FIN377/CEOPersonalities-/matched_pictures/Gil Shwed/2018\n"
     ]
    },
    {
     "name": "stderr",
     "output_type": "stream",
     "text": [
      "\n",
      "Finding actions:   0%|                                    | 0/4 [00:00<?, ?it/s]\u001b[A\n",
      "Action: age:   0%|                                        | 0/4 [00:00<?, ?it/s]\u001b[A\n",
      "Action: age:  25%|████████                        | 1/4 [00:00<00:00,  4.23it/s]\u001b[A\n",
      "Action: gender:  25%|███████▎                     | 1/4 [00:00<00:00,  4.23it/s]\u001b[A\n",
      "Action: gender:  50%|██████████████▌              | 2/4 [00:00<00:00,  4.44it/s]\u001b[A\n",
      "Action: race:  50%|███████████████▌               | 2/4 [00:00<00:00,  4.44it/s]\u001b[A\n",
      "Action: race:  75%|███████████████████████▎       | 3/4 [00:00<00:00,  4.41it/s]\u001b[A\n",
      "Action: emotion: 100%|████████████████████████████| 4/4 [00:00<00:00,  5.72it/s]\u001b[A\n",
      "659it [10:19,  1.15it/s]"
     ]
    },
    {
     "name": "stdout",
     "output_type": "stream",
     "text": [
      "/Users/jessecoulter/Downloads/FIN377/CEOPersonalities-/matched_pictures/Gil Shwed/2019\n"
     ]
    },
    {
     "name": "stderr",
     "output_type": "stream",
     "text": [
      "\n",
      "Finding actions:   0%|                                    | 0/4 [00:00<?, ?it/s]\u001b[A\n",
      "Action: age:   0%|                                        | 0/4 [00:00<?, ?it/s]\u001b[A\n",
      "Action: age:  25%|████████                        | 1/4 [00:00<00:00,  4.64it/s]\u001b[A\n",
      "Action: gender:  25%|███████▎                     | 1/4 [00:00<00:00,  4.64it/s]\u001b[A\n",
      "Action: gender:  50%|██████████████▌              | 2/4 [00:00<00:00,  4.54it/s]\u001b[A\n",
      "Action: race:  50%|███████████████▌               | 2/4 [00:00<00:00,  4.54it/s]\u001b[A\n",
      "Action: race:  75%|███████████████████████▎       | 3/4 [00:00<00:00,  4.48it/s]\u001b[A\n",
      "Action: emotion: 100%|████████████████████████████| 4/4 [00:00<00:00,  5.86it/s]\u001b[A\n",
      "660it [10:21,  1.02it/s]"
     ]
    },
    {
     "name": "stdout",
     "output_type": "stream",
     "text": [
      "/Users/jessecoulter/Downloads/FIN377/CEOPersonalities-/matched_pictures/Paul Maritz/2010\n"
     ]
    },
    {
     "name": "stderr",
     "output_type": "stream",
     "text": [
      "\n",
      "Finding actions:   0%|                                    | 0/4 [00:00<?, ?it/s]\u001b[A\n",
      "Action: age:   0%|                                        | 0/4 [00:00<?, ?it/s]\u001b[A\n",
      "Action: age:  25%|████████                        | 1/4 [00:00<00:00,  4.27it/s]\u001b[A\n",
      "Action: gender:  25%|███████▎                     | 1/4 [00:00<00:00,  4.27it/s]\u001b[A\n",
      "Action: gender:  50%|██████████████▌              | 2/4 [00:00<00:00,  4.29it/s]\u001b[A\n",
      "Action: race:  50%|███████████████▌               | 2/4 [00:00<00:00,  4.29it/s]\u001b[A\n",
      "Action: race:  75%|███████████████████████▎       | 3/4 [00:00<00:00,  4.24it/s]\u001b[A\n",
      "Action: emotion: 100%|████████████████████████████| 4/4 [00:00<00:00,  5.52it/s]\u001b[A\n",
      "661it [10:21,  1.10it/s]"
     ]
    },
    {
     "name": "stdout",
     "output_type": "stream",
     "text": [
      "/Users/jessecoulter/Downloads/FIN377/CEOPersonalities-/matched_pictures/Paul Maritz/2011\n"
     ]
    },
    {
     "name": "stderr",
     "output_type": "stream",
     "text": [
      "\n",
      "Finding actions:   0%|                                    | 0/4 [00:00<?, ?it/s]\u001b[A\n",
      "Action: age:   0%|                                        | 0/4 [00:00<?, ?it/s]\u001b[A\n",
      "Action: age:  25%|████████                        | 1/4 [00:00<00:00,  4.16it/s]\u001b[A\n",
      "Action: gender:  25%|███████▎                     | 1/4 [00:00<00:00,  4.16it/s]\u001b[A\n",
      "Action: gender:  50%|██████████████▌              | 2/4 [00:00<00:00,  4.17it/s]\u001b[A\n",
      "Action: race:  50%|███████████████▌               | 2/4 [00:00<00:00,  4.17it/s]\u001b[A\n",
      "Action: race:  75%|███████████████████████▎       | 3/4 [00:00<00:00,  4.18it/s]\u001b[A\n",
      "Action: emotion: 100%|████████████████████████████| 4/4 [00:00<00:00,  5.44it/s]\u001b[A\n",
      "662it [10:22,  1.15it/s]"
     ]
    },
    {
     "name": "stdout",
     "output_type": "stream",
     "text": [
      "/Users/jessecoulter/Downloads/FIN377/CEOPersonalities-/matched_pictures/Pat Gelsinger/2012\n"
     ]
    },
    {
     "name": "stderr",
     "output_type": "stream",
     "text": [
      "\n",
      "Finding actions:   0%|                                    | 0/4 [00:00<?, ?it/s]\u001b[A\n",
      "Action: age:   0%|                                        | 0/4 [00:00<?, ?it/s]\u001b[A\n",
      "Action: age:  25%|████████                        | 1/4 [00:00<00:00,  4.18it/s]\u001b[A\n",
      "Action: gender:  25%|███████▎                     | 1/4 [00:00<00:00,  4.18it/s]\u001b[A\n",
      "Action: gender:  50%|██████████████▌              | 2/4 [00:00<00:00,  4.39it/s]\u001b[A\n",
      "Action: race:  50%|███████████████▌               | 2/4 [00:00<00:00,  4.39it/s]\u001b[A\n",
      "Action: race:  75%|███████████████████████▎       | 3/4 [00:00<00:00,  4.26it/s]\u001b[A\n",
      "Action: emotion: 100%|████████████████████████████| 4/4 [00:00<00:00,  5.56it/s]\u001b[A\n",
      "663it [10:23,  1.17it/s]"
     ]
    },
    {
     "name": "stdout",
     "output_type": "stream",
     "text": [
      "/Users/jessecoulter/Downloads/FIN377/CEOPersonalities-/matched_pictures/Pat Gelsinger/2013\n"
     ]
    },
    {
     "name": "stderr",
     "output_type": "stream",
     "text": [
      "\n",
      "Finding actions:   0%|                                    | 0/4 [00:00<?, ?it/s]\u001b[A\n",
      "Action: age:   0%|                                        | 0/4 [00:00<?, ?it/s]\u001b[A\n",
      "Action: age:  25%|████████                        | 1/4 [00:00<00:00,  4.16it/s]\u001b[A\n",
      "Action: gender:  25%|███████▎                     | 1/4 [00:00<00:00,  4.16it/s]\u001b[A\n",
      "Action: gender:  50%|██████████████▌              | 2/4 [00:00<00:00,  4.01it/s]\u001b[A\n",
      "Action: race:  50%|███████████████▌               | 2/4 [00:00<00:00,  4.01it/s]\u001b[A\n",
      "Action: race:  75%|███████████████████████▎       | 3/4 [00:00<00:00,  3.78it/s]\u001b[A\n",
      "Action: emotion: 100%|████████████████████████████| 4/4 [00:00<00:00,  5.01it/s]\u001b[A\n",
      "664it [10:24,  1.18it/s]"
     ]
    },
    {
     "name": "stdout",
     "output_type": "stream",
     "text": [
      "/Users/jessecoulter/Downloads/FIN377/CEOPersonalities-/matched_pictures/Pat Gelsinger/2014\n",
      "Error analyzing /Users/jessecoulter/Downloads/FIN377/CEOPersonalities-/matched_pictures/Pat Gelsinger/2014/pic3.jpg: Face could not be detected in /Users/jessecoulter/Downloads/FIN377/CEOPersonalities-/matched_pictures/Pat Gelsinger/2014/pic3.jpg.Please confirm that the picture is a face photo or consider to set enforce_detection param to False.\n",
      "/Users/jessecoulter/Downloads/FIN377/CEOPersonalities-/matched_pictures/Pat Gelsinger/2015\n"
     ]
    },
    {
     "name": "stderr",
     "output_type": "stream",
     "text": [
      "\n",
      "Finding actions:   0%|                                    | 0/4 [00:00<?, ?it/s]\u001b[A\n",
      "Action: age:   0%|                                        | 0/4 [00:00<?, ?it/s]\u001b[A\n",
      "Action: age:  25%|████████                        | 1/4 [00:00<00:00,  4.33it/s]\u001b[A\n",
      "Action: gender:  25%|███████▎                     | 1/4 [00:00<00:00,  4.33it/s]\u001b[A\n",
      "Action: gender:  50%|██████████████▌              | 2/4 [00:00<00:00,  4.18it/s]\u001b[A\n",
      "Action: race:  50%|███████████████▌               | 2/4 [00:00<00:00,  4.18it/s]\u001b[A\n",
      "Action: race:  75%|███████████████████████▎       | 3/4 [00:00<00:00,  4.15it/s]\u001b[A\n",
      "Action: emotion: 100%|████████████████████████████| 4/4 [00:00<00:00,  5.42it/s]\u001b[A\n",
      "666it [10:25,  1.24it/s]"
     ]
    },
    {
     "name": "stdout",
     "output_type": "stream",
     "text": [
      "/Users/jessecoulter/Downloads/FIN377/CEOPersonalities-/matched_pictures/Pat Gelsinger/2016\n"
     ]
    },
    {
     "name": "stderr",
     "output_type": "stream",
     "text": [
      "\n",
      "Finding actions:   0%|                                    | 0/4 [00:00<?, ?it/s]\u001b[A\n",
      "Action: age:   0%|                                        | 0/4 [00:00<?, ?it/s]\u001b[A\n",
      "Action: age:  25%|████████                        | 1/4 [00:00<00:00,  4.21it/s]\u001b[A\n",
      "Action: gender:  25%|███████▎                     | 1/4 [00:00<00:00,  4.21it/s]\u001b[A\n",
      "Action: gender:  50%|██████████████▌              | 2/4 [00:00<00:00,  4.54it/s]\u001b[A\n",
      "Action: race:  50%|███████████████▌               | 2/4 [00:00<00:00,  4.54it/s]\u001b[A\n",
      "Action: race:  75%|███████████████████████▎       | 3/4 [00:00<00:00,  4.38it/s]\u001b[A\n",
      "Action: emotion: 100%|████████████████████████████| 4/4 [00:00<00:00,  5.71it/s]\u001b[A\n",
      "667it [10:26,  1.14it/s]"
     ]
    },
    {
     "name": "stdout",
     "output_type": "stream",
     "text": [
      "/Users/jessecoulter/Downloads/FIN377/CEOPersonalities-/matched_pictures/Pat Gelsinger/2017\n"
     ]
    },
    {
     "name": "stderr",
     "output_type": "stream",
     "text": [
      "\n",
      "Finding actions:   0%|                                    | 0/4 [00:00<?, ?it/s]\u001b[A\n",
      "Action: age:   0%|                                        | 0/4 [00:00<?, ?it/s]\u001b[A\n",
      "Action: age:  25%|████████                        | 1/4 [00:00<00:00,  4.17it/s]\u001b[A\n",
      "Action: gender:  25%|███████▎                     | 1/4 [00:00<00:00,  4.17it/s]\u001b[A\n",
      "Action: gender:  50%|██████████████▌              | 2/4 [00:00<00:00,  4.44it/s]\u001b[A\n",
      "Action: race:  50%|███████████████▌               | 2/4 [00:00<00:00,  4.44it/s]\u001b[A\n",
      "Action: race:  75%|███████████████████████▎       | 3/4 [00:00<00:00,  4.35it/s]\u001b[A\n",
      "Action: emotion: 100%|████████████████████████████| 4/4 [00:00<00:00,  5.64it/s]\u001b[A\n",
      "668it [10:27,  1.19it/s]"
     ]
    },
    {
     "name": "stdout",
     "output_type": "stream",
     "text": [
      "/Users/jessecoulter/Downloads/FIN377/CEOPersonalities-/matched_pictures/Pat Gelsinger/2018\n"
     ]
    },
    {
     "name": "stderr",
     "output_type": "stream",
     "text": [
      "\n",
      "Finding actions:   0%|                                    | 0/4 [00:00<?, ?it/s]\u001b[A\n",
      "Action: age:   0%|                                        | 0/4 [00:00<?, ?it/s]\u001b[A\n",
      "Action: age:  25%|████████                        | 1/4 [00:00<00:00,  4.22it/s]\u001b[A\n",
      "Action: gender:  25%|███████▎                     | 1/4 [00:00<00:00,  4.22it/s]\u001b[A\n",
      "Action: gender:  50%|██████████████▌              | 2/4 [00:00<00:00,  4.40it/s]\u001b[A\n",
      "Action: race:  50%|███████████████▌               | 2/4 [00:00<00:00,  4.40it/s]\u001b[A\n",
      "Action: race:  75%|███████████████████████▎       | 3/4 [00:00<00:00,  4.27it/s]\u001b[A\n",
      "Action: emotion: 100%|████████████████████████████| 4/4 [00:00<00:00,  5.58it/s]\u001b[A\n",
      "669it [10:28,  1.20it/s]"
     ]
    },
    {
     "name": "stdout",
     "output_type": "stream",
     "text": [
      "/Users/jessecoulter/Downloads/FIN377/CEOPersonalities-/matched_pictures/Pat Gelsinger/2019\n"
     ]
    },
    {
     "name": "stderr",
     "output_type": "stream",
     "text": [
      "\n",
      "Finding actions:   0%|                                    | 0/4 [00:00<?, ?it/s]\u001b[A\n",
      "Action: age:   0%|                                        | 0/4 [00:00<?, ?it/s]\u001b[A\n",
      "Action: age:  25%|████████                        | 1/4 [00:00<00:00,  4.37it/s]\u001b[A\n",
      "Action: gender:  25%|███████▎                     | 1/4 [00:00<00:00,  4.37it/s]\u001b[A\n",
      "Action: gender:  50%|██████████████▌              | 2/4 [00:00<00:00,  4.47it/s]\u001b[A\n",
      "Action: race:  50%|███████████████▌               | 2/4 [00:00<00:00,  4.47it/s]\u001b[A\n",
      "Action: race:  75%|███████████████████████▎       | 3/4 [00:00<00:00,  4.55it/s]\u001b[A\n",
      "Action: emotion: 100%|████████████████████████████| 4/4 [00:00<00:00,  5.86it/s]\u001b[A\n",
      "670it [10:29,  1.06it/s]"
     ]
    },
    {
     "name": "stdout",
     "output_type": "stream",
     "text": [
      "    Ticker            CEO  Year  Age dominant_gender   dominant_race  \\\n",
      "0     AAPL     Steve Jobs  2010   45             Man           white   \n",
      "1     AAPL       Tim Cook  2011   28             Man           white   \n",
      "2     AAPL       Tim Cook  2012   42             Man           asian   \n",
      "3     AAPL       Tim Cook  2013   46             Man           white   \n",
      "4     AAPL       Tim Cook  2014   37             Man           white   \n",
      "..     ...            ...   ...  ...             ...             ...   \n",
      "555    VMW  Pat Gelsinger  2015   34           Woman           white   \n",
      "556    VMW  Pat Gelsinger  2016   39             Man           white   \n",
      "557    VMW  Pat Gelsinger  2017   49             Man           white   \n",
      "558    VMW  Pat Gelsinger  2018   33             Man  middle eastern   \n",
      "559    VMW  Pat Gelsinger  2019   37             Man           white   \n",
      "\n",
      "    dominant_emotion      Woman        Man      asian  ...      white  \\\n",
      "0              happy   0.003490  99.996507   0.007384  ...  92.979295   \n",
      "1              happy   0.003152  99.996853   0.264899  ...  77.172065   \n",
      "2              happy   0.401796  99.598205  63.442008  ...  11.898334   \n",
      "3            neutral   0.005593  99.994409   0.000091  ...  99.403167   \n",
      "4              happy   0.002442  99.997556   2.589929  ...  51.385069   \n",
      "..               ...        ...        ...        ...  ...        ...   \n",
      "555            happy  56.897515  43.102485   5.004329  ...  65.839016   \n",
      "556            happy   0.001297  99.998701   0.400887  ...  50.390244   \n",
      "557            happy   0.001366  99.998629   0.110735  ...  78.653225   \n",
      "558            happy   0.002476  99.997520   0.569150  ...  27.476333   \n",
      "559            happy   0.001223  99.998772   0.959629  ...  41.690998   \n",
      "\n",
      "     middle eastern  latino hispanic         angry       disgust  \\\n",
      "0          4.913878         2.067258  5.586269e-04  1.267130e-07   \n",
      "1          8.134229        14.040621  6.092452e-09  1.726148e-14   \n",
      "2          2.683964        17.755046  2.093298e-06  1.717981e-27   \n",
      "3          0.369376         0.226981  2.577358e+01  1.612438e-07   \n",
      "4         18.976113        22.692682  1.736095e-03  3.283826e-05   \n",
      "..              ...              ...           ...           ...   \n",
      "555       15.680778        10.920511  3.885955e-06  1.488381e-12   \n",
      "556       31.009564        16.505256  1.377282e-03  1.100193e-12   \n",
      "557       13.683171         7.304021  1.303563e-13  4.318072e-29   \n",
      "558       51.386079        15.184888  2.316426e-08  2.906027e-11   \n",
      "559       35.549985        18.240384  1.011254e-07  1.241579e-14   \n",
      "\n",
      "             fear       happy           sad      surprise       neutral  \n",
      "0    6.190826e-05   99.825412  6.799682e-05  9.389209e-05  1.738062e-01  \n",
      "1    5.900745e-11   99.608034  1.010131e-06  5.152697e-06  3.919607e-01  \n",
      "2    7.188061e-17  100.000000  7.703917e-13  6.431556e-15  7.650771e-07  \n",
      "3    3.931636e-02    0.055164  1.677469e+01  2.738544e-03  5.735451e+01  \n",
      "4    8.764887e+00   90.303122  4.478120e-03  6.032543e-02  8.654156e-01  \n",
      "..            ...         ...           ...           ...           ...  \n",
      "555  3.622762e+01   63.654770  5.252725e-06  1.079405e-01  9.669965e-03  \n",
      "556  3.692174e-08   77.948695  1.253244e-03  4.939094e-07  2.204868e+01  \n",
      "557  1.936018e-18   99.999905  7.724325e-15  2.822939e-08  1.010437e-04  \n",
      "558  1.268291e-06   99.926019  2.231068e-06  3.101003e-05  7.394980e-02  \n",
      "559  1.336073e-10   99.888998  6.100145e-06  2.571033e-07  1.109940e-01  \n",
      "\n",
      "[560 rows x 22 columns]\n"
     ]
    },
    {
     "name": "stderr",
     "output_type": "stream",
     "text": [
      "\n"
     ]
    }
   ],
   "source": [
    "import os\n",
    "import pandas as pd\n",
    "from deepface import DeepFace\n",
    "import tqdm\n",
    "\n",
    "# Load your CSV with CEO and year data\n",
    "ceo_df = pd.read_csv(\"ceo_data.csv\") # update path if needed\n",
    "\n",
    "# Base directory where images are stored\n",
    "base_dir = os.path.expanduser(\"~/Downloads/FIN377/CEOPersonalities-/matched_pictures/\")\n",
    "\n",
    "# List to store all analysis results\n",
    "all_data = []\n",
    "\n",
    "# Loop through each row in the DataFrame\n",
    "for index, row in tqdm.tqdm(ceo_df.iterrows()):\n",
    "    ceo = row['CEO']\n",
    "    year = str(row['Year'])\n",
    "    ticker = row['Ticker']\n",
    "\n",
    "    folder_path = os.path.join(base_dir, ceo, year)\n",
    "    print(folder_path)\n",
    "    if not os.path.exists(folder_path):\n",
    "        print(f\"Folder not found: {folder_path}\")\n",
    "        continue\n",
    "\n",
    "    # Try to find the first valid image file\n",
    "    image_file = None\n",
    "    for file in os.listdir(folder_path):\n",
    "        if file.lower().endswith(('.jpg', '.jpeg', '.png')):\n",
    "            image_file = os.path.join(folder_path, file)\n",
    "            break\n",
    "\n",
    "    if not image_file:\n",
    "        print(f\"No image found in {folder_path}\")\n",
    "        continue\n",
    "\n",
    "    try:\n",
    "        result = DeepFace.analyze(img_path=image_file,\n",
    "                                  actions=['age', 'gender', 'race', 'emotion'],\n",
    "                                  detector_backend='opencv')\n",
    "        data = result[0] if isinstance(result, list) else result\n",
    "\n",
    "        flat_data = {\n",
    "            'Ticker': ticker,\n",
    "            'CEO': ceo,\n",
    "            'Year': year,\n",
    "            'Age': data['age'],\n",
    "            'dominant_gender': data['dominant_gender'],\n",
    "            'dominant_race': data['dominant_race'],\n",
    "            'dominant_emotion': data['dominant_emotion'],\n",
    "            **data['gender'],\n",
    "            **data['race'],\n",
    "            **data['emotion']\n",
    "        }\n",
    "\n",
    "        all_data.append(flat_data)\n",
    "    except Exception as e:\n",
    "        print(f\"Error analyzing {image_file}: {e}\")\n",
    "\n",
    "# Create final results DataFrame\n",
    "df = pd.DataFrame(all_data)\n",
    "df.to_csv(\"ceo_face_analysis.csv\", index=False)\n",
    "print(df)\n"
   ]
  },
  {
   "cell_type": "code",
   "execution_count": 4,
   "id": "fc356664-f656-4eb5-b482-6698afac9894",
   "metadata": {},
   "outputs": [
    {
     "data": {
      "text/html": [
       "<div>\n",
       "<style scoped>\n",
       "    .dataframe tbody tr th:only-of-type {\n",
       "        vertical-align: middle;\n",
       "    }\n",
       "\n",
       "    .dataframe tbody tr th {\n",
       "        vertical-align: top;\n",
       "    }\n",
       "\n",
       "    .dataframe thead th {\n",
       "        text-align: right;\n",
       "    }\n",
       "</style>\n",
       "<table border=\"1\" class=\"dataframe\">\n",
       "  <thead>\n",
       "    <tr style=\"text-align: right;\">\n",
       "      <th></th>\n",
       "      <th>Ticker</th>\n",
       "      <th>CEO</th>\n",
       "      <th>Year</th>\n",
       "      <th>Age</th>\n",
       "      <th>dominant_gender</th>\n",
       "      <th>dominant_race</th>\n",
       "      <th>dominant_emotion</th>\n",
       "      <th>Woman</th>\n",
       "      <th>Man</th>\n",
       "      <th>asian</th>\n",
       "      <th>...</th>\n",
       "      <th>white</th>\n",
       "      <th>middle eastern</th>\n",
       "      <th>latino hispanic</th>\n",
       "      <th>angry</th>\n",
       "      <th>disgust</th>\n",
       "      <th>fear</th>\n",
       "      <th>happy</th>\n",
       "      <th>sad</th>\n",
       "      <th>surprise</th>\n",
       "      <th>neutral</th>\n",
       "    </tr>\n",
       "  </thead>\n",
       "  <tbody>\n",
       "    <tr>\n",
       "      <th>0</th>\n",
       "      <td>AAPL</td>\n",
       "      <td>Steve Jobs</td>\n",
       "      <td>2010</td>\n",
       "      <td>45</td>\n",
       "      <td>Man</td>\n",
       "      <td>white</td>\n",
       "      <td>happy</td>\n",
       "      <td>0.003490</td>\n",
       "      <td>99.996507</td>\n",
       "      <td>0.007384</td>\n",
       "      <td>...</td>\n",
       "      <td>92.979295</td>\n",
       "      <td>4.913878</td>\n",
       "      <td>2.067258</td>\n",
       "      <td>5.586269e-04</td>\n",
       "      <td>1.267130e-07</td>\n",
       "      <td>6.190826e-05</td>\n",
       "      <td>99.825412</td>\n",
       "      <td>6.799682e-05</td>\n",
       "      <td>9.389209e-05</td>\n",
       "      <td>1.738062e-01</td>\n",
       "    </tr>\n",
       "    <tr>\n",
       "      <th>1</th>\n",
       "      <td>AAPL</td>\n",
       "      <td>Tim Cook</td>\n",
       "      <td>2011</td>\n",
       "      <td>28</td>\n",
       "      <td>Man</td>\n",
       "      <td>white</td>\n",
       "      <td>happy</td>\n",
       "      <td>0.003152</td>\n",
       "      <td>99.996853</td>\n",
       "      <td>0.264899</td>\n",
       "      <td>...</td>\n",
       "      <td>77.172065</td>\n",
       "      <td>8.134229</td>\n",
       "      <td>14.040621</td>\n",
       "      <td>6.092452e-09</td>\n",
       "      <td>1.726148e-14</td>\n",
       "      <td>5.900745e-11</td>\n",
       "      <td>99.608034</td>\n",
       "      <td>1.010131e-06</td>\n",
       "      <td>5.152697e-06</td>\n",
       "      <td>3.919607e-01</td>\n",
       "    </tr>\n",
       "    <tr>\n",
       "      <th>2</th>\n",
       "      <td>AAPL</td>\n",
       "      <td>Tim Cook</td>\n",
       "      <td>2012</td>\n",
       "      <td>42</td>\n",
       "      <td>Man</td>\n",
       "      <td>asian</td>\n",
       "      <td>happy</td>\n",
       "      <td>0.401796</td>\n",
       "      <td>99.598205</td>\n",
       "      <td>63.442008</td>\n",
       "      <td>...</td>\n",
       "      <td>11.898334</td>\n",
       "      <td>2.683964</td>\n",
       "      <td>17.755046</td>\n",
       "      <td>2.093298e-06</td>\n",
       "      <td>1.717981e-27</td>\n",
       "      <td>7.188061e-17</td>\n",
       "      <td>100.000000</td>\n",
       "      <td>7.703917e-13</td>\n",
       "      <td>6.431556e-15</td>\n",
       "      <td>7.650771e-07</td>\n",
       "    </tr>\n",
       "    <tr>\n",
       "      <th>3</th>\n",
       "      <td>AAPL</td>\n",
       "      <td>Tim Cook</td>\n",
       "      <td>2013</td>\n",
       "      <td>46</td>\n",
       "      <td>Man</td>\n",
       "      <td>white</td>\n",
       "      <td>neutral</td>\n",
       "      <td>0.005593</td>\n",
       "      <td>99.994409</td>\n",
       "      <td>0.000091</td>\n",
       "      <td>...</td>\n",
       "      <td>99.403167</td>\n",
       "      <td>0.369376</td>\n",
       "      <td>0.226981</td>\n",
       "      <td>2.577358e+01</td>\n",
       "      <td>1.612438e-07</td>\n",
       "      <td>3.931636e-02</td>\n",
       "      <td>0.055164</td>\n",
       "      <td>1.677469e+01</td>\n",
       "      <td>2.738544e-03</td>\n",
       "      <td>5.735451e+01</td>\n",
       "    </tr>\n",
       "    <tr>\n",
       "      <th>4</th>\n",
       "      <td>AAPL</td>\n",
       "      <td>Tim Cook</td>\n",
       "      <td>2014</td>\n",
       "      <td>37</td>\n",
       "      <td>Man</td>\n",
       "      <td>white</td>\n",
       "      <td>happy</td>\n",
       "      <td>0.002442</td>\n",
       "      <td>99.997556</td>\n",
       "      <td>2.589929</td>\n",
       "      <td>...</td>\n",
       "      <td>51.385069</td>\n",
       "      <td>18.976113</td>\n",
       "      <td>22.692682</td>\n",
       "      <td>1.736095e-03</td>\n",
       "      <td>3.283826e-05</td>\n",
       "      <td>8.764887e+00</td>\n",
       "      <td>90.303122</td>\n",
       "      <td>4.478120e-03</td>\n",
       "      <td>6.032543e-02</td>\n",
       "      <td>8.654156e-01</td>\n",
       "    </tr>\n",
       "    <tr>\n",
       "      <th>...</th>\n",
       "      <td>...</td>\n",
       "      <td>...</td>\n",
       "      <td>...</td>\n",
       "      <td>...</td>\n",
       "      <td>...</td>\n",
       "      <td>...</td>\n",
       "      <td>...</td>\n",
       "      <td>...</td>\n",
       "      <td>...</td>\n",
       "      <td>...</td>\n",
       "      <td>...</td>\n",
       "      <td>...</td>\n",
       "      <td>...</td>\n",
       "      <td>...</td>\n",
       "      <td>...</td>\n",
       "      <td>...</td>\n",
       "      <td>...</td>\n",
       "      <td>...</td>\n",
       "      <td>...</td>\n",
       "      <td>...</td>\n",
       "      <td>...</td>\n",
       "    </tr>\n",
       "    <tr>\n",
       "      <th>555</th>\n",
       "      <td>VMW</td>\n",
       "      <td>Pat Gelsinger</td>\n",
       "      <td>2015</td>\n",
       "      <td>34</td>\n",
       "      <td>Woman</td>\n",
       "      <td>white</td>\n",
       "      <td>happy</td>\n",
       "      <td>56.897515</td>\n",
       "      <td>43.102485</td>\n",
       "      <td>5.004329</td>\n",
       "      <td>...</td>\n",
       "      <td>65.839016</td>\n",
       "      <td>15.680778</td>\n",
       "      <td>10.920511</td>\n",
       "      <td>3.885955e-06</td>\n",
       "      <td>1.488381e-12</td>\n",
       "      <td>3.622762e+01</td>\n",
       "      <td>63.654770</td>\n",
       "      <td>5.252725e-06</td>\n",
       "      <td>1.079405e-01</td>\n",
       "      <td>9.669965e-03</td>\n",
       "    </tr>\n",
       "    <tr>\n",
       "      <th>556</th>\n",
       "      <td>VMW</td>\n",
       "      <td>Pat Gelsinger</td>\n",
       "      <td>2016</td>\n",
       "      <td>39</td>\n",
       "      <td>Man</td>\n",
       "      <td>white</td>\n",
       "      <td>happy</td>\n",
       "      <td>0.001297</td>\n",
       "      <td>99.998701</td>\n",
       "      <td>0.400887</td>\n",
       "      <td>...</td>\n",
       "      <td>50.390244</td>\n",
       "      <td>31.009564</td>\n",
       "      <td>16.505256</td>\n",
       "      <td>1.377282e-03</td>\n",
       "      <td>1.100193e-12</td>\n",
       "      <td>3.692174e-08</td>\n",
       "      <td>77.948695</td>\n",
       "      <td>1.253244e-03</td>\n",
       "      <td>4.939094e-07</td>\n",
       "      <td>2.204868e+01</td>\n",
       "    </tr>\n",
       "    <tr>\n",
       "      <th>557</th>\n",
       "      <td>VMW</td>\n",
       "      <td>Pat Gelsinger</td>\n",
       "      <td>2017</td>\n",
       "      <td>49</td>\n",
       "      <td>Man</td>\n",
       "      <td>white</td>\n",
       "      <td>happy</td>\n",
       "      <td>0.001366</td>\n",
       "      <td>99.998629</td>\n",
       "      <td>0.110735</td>\n",
       "      <td>...</td>\n",
       "      <td>78.653225</td>\n",
       "      <td>13.683171</td>\n",
       "      <td>7.304021</td>\n",
       "      <td>1.303563e-13</td>\n",
       "      <td>4.318072e-29</td>\n",
       "      <td>1.936018e-18</td>\n",
       "      <td>99.999905</td>\n",
       "      <td>7.724325e-15</td>\n",
       "      <td>2.822939e-08</td>\n",
       "      <td>1.010437e-04</td>\n",
       "    </tr>\n",
       "    <tr>\n",
       "      <th>558</th>\n",
       "      <td>VMW</td>\n",
       "      <td>Pat Gelsinger</td>\n",
       "      <td>2018</td>\n",
       "      <td>33</td>\n",
       "      <td>Man</td>\n",
       "      <td>middle eastern</td>\n",
       "      <td>happy</td>\n",
       "      <td>0.002476</td>\n",
       "      <td>99.997520</td>\n",
       "      <td>0.569150</td>\n",
       "      <td>...</td>\n",
       "      <td>27.476333</td>\n",
       "      <td>51.386079</td>\n",
       "      <td>15.184888</td>\n",
       "      <td>2.316426e-08</td>\n",
       "      <td>2.906027e-11</td>\n",
       "      <td>1.268291e-06</td>\n",
       "      <td>99.926019</td>\n",
       "      <td>2.231068e-06</td>\n",
       "      <td>3.101003e-05</td>\n",
       "      <td>7.394980e-02</td>\n",
       "    </tr>\n",
       "    <tr>\n",
       "      <th>559</th>\n",
       "      <td>VMW</td>\n",
       "      <td>Pat Gelsinger</td>\n",
       "      <td>2019</td>\n",
       "      <td>37</td>\n",
       "      <td>Man</td>\n",
       "      <td>white</td>\n",
       "      <td>happy</td>\n",
       "      <td>0.001223</td>\n",
       "      <td>99.998772</td>\n",
       "      <td>0.959629</td>\n",
       "      <td>...</td>\n",
       "      <td>41.690998</td>\n",
       "      <td>35.549985</td>\n",
       "      <td>18.240384</td>\n",
       "      <td>1.011254e-07</td>\n",
       "      <td>1.241579e-14</td>\n",
       "      <td>1.336073e-10</td>\n",
       "      <td>99.888998</td>\n",
       "      <td>6.100145e-06</td>\n",
       "      <td>2.571033e-07</td>\n",
       "      <td>1.109940e-01</td>\n",
       "    </tr>\n",
       "  </tbody>\n",
       "</table>\n",
       "<p>560 rows × 22 columns</p>\n",
       "</div>"
      ],
      "text/plain": [
       "    Ticker            CEO  Year  Age dominant_gender   dominant_race  \\\n",
       "0     AAPL     Steve Jobs  2010   45             Man           white   \n",
       "1     AAPL       Tim Cook  2011   28             Man           white   \n",
       "2     AAPL       Tim Cook  2012   42             Man           asian   \n",
       "3     AAPL       Tim Cook  2013   46             Man           white   \n",
       "4     AAPL       Tim Cook  2014   37             Man           white   \n",
       "..     ...            ...   ...  ...             ...             ...   \n",
       "555    VMW  Pat Gelsinger  2015   34           Woman           white   \n",
       "556    VMW  Pat Gelsinger  2016   39             Man           white   \n",
       "557    VMW  Pat Gelsinger  2017   49             Man           white   \n",
       "558    VMW  Pat Gelsinger  2018   33             Man  middle eastern   \n",
       "559    VMW  Pat Gelsinger  2019   37             Man           white   \n",
       "\n",
       "    dominant_emotion      Woman        Man      asian  ...      white  \\\n",
       "0              happy   0.003490  99.996507   0.007384  ...  92.979295   \n",
       "1              happy   0.003152  99.996853   0.264899  ...  77.172065   \n",
       "2              happy   0.401796  99.598205  63.442008  ...  11.898334   \n",
       "3            neutral   0.005593  99.994409   0.000091  ...  99.403167   \n",
       "4              happy   0.002442  99.997556   2.589929  ...  51.385069   \n",
       "..               ...        ...        ...        ...  ...        ...   \n",
       "555            happy  56.897515  43.102485   5.004329  ...  65.839016   \n",
       "556            happy   0.001297  99.998701   0.400887  ...  50.390244   \n",
       "557            happy   0.001366  99.998629   0.110735  ...  78.653225   \n",
       "558            happy   0.002476  99.997520   0.569150  ...  27.476333   \n",
       "559            happy   0.001223  99.998772   0.959629  ...  41.690998   \n",
       "\n",
       "     middle eastern  latino hispanic         angry       disgust  \\\n",
       "0          4.913878         2.067258  5.586269e-04  1.267130e-07   \n",
       "1          8.134229        14.040621  6.092452e-09  1.726148e-14   \n",
       "2          2.683964        17.755046  2.093298e-06  1.717981e-27   \n",
       "3          0.369376         0.226981  2.577358e+01  1.612438e-07   \n",
       "4         18.976113        22.692682  1.736095e-03  3.283826e-05   \n",
       "..              ...              ...           ...           ...   \n",
       "555       15.680778        10.920511  3.885955e-06  1.488381e-12   \n",
       "556       31.009564        16.505256  1.377282e-03  1.100193e-12   \n",
       "557       13.683171         7.304021  1.303563e-13  4.318072e-29   \n",
       "558       51.386079        15.184888  2.316426e-08  2.906027e-11   \n",
       "559       35.549985        18.240384  1.011254e-07  1.241579e-14   \n",
       "\n",
       "             fear       happy           sad      surprise       neutral  \n",
       "0    6.190826e-05   99.825412  6.799682e-05  9.389209e-05  1.738062e-01  \n",
       "1    5.900745e-11   99.608034  1.010131e-06  5.152697e-06  3.919607e-01  \n",
       "2    7.188061e-17  100.000000  7.703917e-13  6.431556e-15  7.650771e-07  \n",
       "3    3.931636e-02    0.055164  1.677469e+01  2.738544e-03  5.735451e+01  \n",
       "4    8.764887e+00   90.303122  4.478120e-03  6.032543e-02  8.654156e-01  \n",
       "..            ...         ...           ...           ...           ...  \n",
       "555  3.622762e+01   63.654770  5.252725e-06  1.079405e-01  9.669965e-03  \n",
       "556  3.692174e-08   77.948695  1.253244e-03  4.939094e-07  2.204868e+01  \n",
       "557  1.936018e-18   99.999905  7.724325e-15  2.822939e-08  1.010437e-04  \n",
       "558  1.268291e-06   99.926019  2.231068e-06  3.101003e-05  7.394980e-02  \n",
       "559  1.336073e-10   99.888998  6.100145e-06  2.571033e-07  1.109940e-01  \n",
       "\n",
       "[560 rows x 22 columns]"
      ]
     },
     "execution_count": 4,
     "metadata": {},
     "output_type": "execute_result"
    }
   ],
   "source": [
    "df"
   ]
  },
  {
   "cell_type": "code",
   "execution_count": 5,
   "id": "55625f3b-02f0-4e93-8b2e-47afba462a01",
   "metadata": {},
   "outputs": [],
   "source": [
    "firm_ret = pd.read_csv('inputs/firm_returns.csv')"
   ]
  },
  {
   "cell_type": "code",
   "execution_count": 6,
   "id": "4abf1564-6e01-43fa-9d89-3146764c3db6",
   "metadata": {},
   "outputs": [
    {
     "data": {
      "text/html": [
       "<div>\n",
       "<style scoped>\n",
       "    .dataframe tbody tr th:only-of-type {\n",
       "        vertical-align: middle;\n",
       "    }\n",
       "\n",
       "    .dataframe tbody tr th {\n",
       "        vertical-align: top;\n",
       "    }\n",
       "\n",
       "    .dataframe thead th {\n",
       "        text-align: right;\n",
       "    }\n",
       "</style>\n",
       "<table border=\"1\" class=\"dataframe\">\n",
       "  <thead>\n",
       "    <tr style=\"text-align: right;\">\n",
       "      <th></th>\n",
       "      <th>Date</th>\n",
       "      <th>Year</th>\n",
       "      <th>Ticker</th>\n",
       "      <th>Company</th>\n",
       "      <th>CEO</th>\n",
       "      <th>Return</th>\n",
       "      <th>Year_Cum_Ret_Daily</th>\n",
       "      <th>Tenure_Cum_Ret_Daily</th>\n",
       "      <th>Year_Cum_Ret_Overall</th>\n",
       "      <th>Tenure_Cum_Ret_Overall</th>\n",
       "    </tr>\n",
       "  </thead>\n",
       "  <tbody>\n",
       "    <tr>\n",
       "      <th>0</th>\n",
       "      <td>2010-01-04</td>\n",
       "      <td>2010</td>\n",
       "      <td>AAPL</td>\n",
       "      <td>Apple Inc.</td>\n",
       "      <td>Steve Jobs</td>\n",
       "      <td>NaN</td>\n",
       "      <td>NaN</td>\n",
       "      <td>NaN</td>\n",
       "      <td>1.507219</td>\n",
       "      <td>1.507219</td>\n",
       "    </tr>\n",
       "    <tr>\n",
       "      <th>1</th>\n",
       "      <td>2010-01-05</td>\n",
       "      <td>2010</td>\n",
       "      <td>AAPL</td>\n",
       "      <td>Apple Inc.</td>\n",
       "      <td>Steve Jobs</td>\n",
       "      <td>0.001729</td>\n",
       "      <td>1.001729</td>\n",
       "      <td>1.001729</td>\n",
       "      <td>1.507219</td>\n",
       "      <td>1.507219</td>\n",
       "    </tr>\n",
       "    <tr>\n",
       "      <th>2</th>\n",
       "      <td>2010-01-06</td>\n",
       "      <td>2010</td>\n",
       "      <td>AAPL</td>\n",
       "      <td>Apple Inc.</td>\n",
       "      <td>Steve Jobs</td>\n",
       "      <td>-0.015906</td>\n",
       "      <td>0.985795</td>\n",
       "      <td>0.985795</td>\n",
       "      <td>1.507219</td>\n",
       "      <td>1.507219</td>\n",
       "    </tr>\n",
       "    <tr>\n",
       "      <th>3</th>\n",
       "      <td>2010-01-07</td>\n",
       "      <td>2010</td>\n",
       "      <td>AAPL</td>\n",
       "      <td>Apple Inc.</td>\n",
       "      <td>Steve Jobs</td>\n",
       "      <td>-0.001848</td>\n",
       "      <td>0.983973</td>\n",
       "      <td>0.983973</td>\n",
       "      <td>1.507219</td>\n",
       "      <td>1.507219</td>\n",
       "    </tr>\n",
       "    <tr>\n",
       "      <th>4</th>\n",
       "      <td>2010-01-08</td>\n",
       "      <td>2010</td>\n",
       "      <td>AAPL</td>\n",
       "      <td>Apple Inc.</td>\n",
       "      <td>Steve Jobs</td>\n",
       "      <td>0.006648</td>\n",
       "      <td>0.990514</td>\n",
       "      <td>0.990514</td>\n",
       "      <td>1.507219</td>\n",
       "      <td>1.507219</td>\n",
       "    </tr>\n",
       "    <tr>\n",
       "      <th>...</th>\n",
       "      <td>...</td>\n",
       "      <td>...</td>\n",
       "      <td>...</td>\n",
       "      <td>...</td>\n",
       "      <td>...</td>\n",
       "      <td>...</td>\n",
       "      <td>...</td>\n",
       "      <td>...</td>\n",
       "      <td>...</td>\n",
       "      <td>...</td>\n",
       "    </tr>\n",
       "    <tr>\n",
       "      <th>158440</th>\n",
       "      <td>2019-12-23</td>\n",
       "      <td>2019</td>\n",
       "      <td>CHKP</td>\n",
       "      <td>Check Point Software Technologies Ltd.</td>\n",
       "      <td>Gil Shwed</td>\n",
       "      <td>0.000627</td>\n",
       "      <td>1.088651</td>\n",
       "      <td>3.276165</td>\n",
       "      <td>1.087969</td>\n",
       "      <td>3.274113</td>\n",
       "    </tr>\n",
       "    <tr>\n",
       "      <th>158441</th>\n",
       "      <td>2019-12-24</td>\n",
       "      <td>2019</td>\n",
       "      <td>CHKP</td>\n",
       "      <td>Check Point Software Technologies Ltd.</td>\n",
       "      <td>Gil Shwed</td>\n",
       "      <td>-0.001521</td>\n",
       "      <td>1.086995</td>\n",
       "      <td>3.271181</td>\n",
       "      <td>1.087969</td>\n",
       "      <td>3.274113</td>\n",
       "    </tr>\n",
       "    <tr>\n",
       "      <th>158442</th>\n",
       "      <td>2019-12-26</td>\n",
       "      <td>2019</td>\n",
       "      <td>CHKP</td>\n",
       "      <td>Check Point Software Technologies Ltd.</td>\n",
       "      <td>Gil Shwed</td>\n",
       "      <td>0.004391</td>\n",
       "      <td>1.091768</td>\n",
       "      <td>3.285547</td>\n",
       "      <td>1.087969</td>\n",
       "      <td>3.274113</td>\n",
       "    </tr>\n",
       "    <tr>\n",
       "      <th>158443</th>\n",
       "      <td>2019-12-27</td>\n",
       "      <td>2019</td>\n",
       "      <td>CHKP</td>\n",
       "      <td>Check Point Software Technologies Ltd.</td>\n",
       "      <td>Gil Shwed</td>\n",
       "      <td>-0.002409</td>\n",
       "      <td>1.089138</td>\n",
       "      <td>3.277631</td>\n",
       "      <td>1.087969</td>\n",
       "      <td>3.274113</td>\n",
       "    </tr>\n",
       "    <tr>\n",
       "      <th>158444</th>\n",
       "      <td>2019-12-30</td>\n",
       "      <td>2019</td>\n",
       "      <td>CHKP</td>\n",
       "      <td>Check Point Software Technologies Ltd.</td>\n",
       "      <td>Gil Shwed</td>\n",
       "      <td>-0.001073</td>\n",
       "      <td>1.087969</td>\n",
       "      <td>3.274113</td>\n",
       "      <td>1.087969</td>\n",
       "      <td>3.274113</td>\n",
       "    </tr>\n",
       "  </tbody>\n",
       "</table>\n",
       "<p>158445 rows × 10 columns</p>\n",
       "</div>"
      ],
      "text/plain": [
       "              Date  Year Ticker                                 Company  \\\n",
       "0       2010-01-04  2010   AAPL                              Apple Inc.   \n",
       "1       2010-01-05  2010   AAPL                              Apple Inc.   \n",
       "2       2010-01-06  2010   AAPL                              Apple Inc.   \n",
       "3       2010-01-07  2010   AAPL                              Apple Inc.   \n",
       "4       2010-01-08  2010   AAPL                              Apple Inc.   \n",
       "...            ...   ...    ...                                     ...   \n",
       "158440  2019-12-23  2019   CHKP  Check Point Software Technologies Ltd.   \n",
       "158441  2019-12-24  2019   CHKP  Check Point Software Technologies Ltd.   \n",
       "158442  2019-12-26  2019   CHKP  Check Point Software Technologies Ltd.   \n",
       "158443  2019-12-27  2019   CHKP  Check Point Software Technologies Ltd.   \n",
       "158444  2019-12-30  2019   CHKP  Check Point Software Technologies Ltd.   \n",
       "\n",
       "               CEO    Return  Year_Cum_Ret_Daily  Tenure_Cum_Ret_Daily  \\\n",
       "0       Steve Jobs       NaN                 NaN                   NaN   \n",
       "1       Steve Jobs  0.001729            1.001729              1.001729   \n",
       "2       Steve Jobs -0.015906            0.985795              0.985795   \n",
       "3       Steve Jobs -0.001848            0.983973              0.983973   \n",
       "4       Steve Jobs  0.006648            0.990514              0.990514   \n",
       "...            ...       ...                 ...                   ...   \n",
       "158440   Gil Shwed  0.000627            1.088651              3.276165   \n",
       "158441   Gil Shwed -0.001521            1.086995              3.271181   \n",
       "158442   Gil Shwed  0.004391            1.091768              3.285547   \n",
       "158443   Gil Shwed -0.002409            1.089138              3.277631   \n",
       "158444   Gil Shwed -0.001073            1.087969              3.274113   \n",
       "\n",
       "        Year_Cum_Ret_Overall  Tenure_Cum_Ret_Overall  \n",
       "0                   1.507219                1.507219  \n",
       "1                   1.507219                1.507219  \n",
       "2                   1.507219                1.507219  \n",
       "3                   1.507219                1.507219  \n",
       "4                   1.507219                1.507219  \n",
       "...                      ...                     ...  \n",
       "158440              1.087969                3.274113  \n",
       "158441              1.087969                3.274113  \n",
       "158442              1.087969                3.274113  \n",
       "158443              1.087969                3.274113  \n",
       "158444              1.087969                3.274113  \n",
       "\n",
       "[158445 rows x 10 columns]"
      ]
     },
     "execution_count": 6,
     "metadata": {},
     "output_type": "execute_result"
    }
   ],
   "source": [
    "firm_ret"
   ]
  },
  {
   "cell_type": "code",
   "execution_count": 7,
   "id": "38c53f95-e429-43a1-8b21-ec3c289d194e",
   "metadata": {},
   "outputs": [
    {
     "data": {
      "text/html": [
       "<div>\n",
       "<style scoped>\n",
       "    .dataframe tbody tr th:only-of-type {\n",
       "        vertical-align: middle;\n",
       "    }\n",
       "\n",
       "    .dataframe tbody tr th {\n",
       "        vertical-align: top;\n",
       "    }\n",
       "\n",
       "    .dataframe thead th {\n",
       "        text-align: right;\n",
       "    }\n",
       "</style>\n",
       "<table border=\"1\" class=\"dataframe\">\n",
       "  <thead>\n",
       "    <tr style=\"text-align: right;\">\n",
       "      <th></th>\n",
       "      <th>Ticker</th>\n",
       "      <th>CEO</th>\n",
       "      <th>Year</th>\n",
       "      <th>Age</th>\n",
       "      <th>dominant_gender</th>\n",
       "      <th>dominant_race</th>\n",
       "      <th>dominant_emotion</th>\n",
       "      <th>Woman</th>\n",
       "      <th>Man</th>\n",
       "      <th>asian</th>\n",
       "      <th>...</th>\n",
       "      <th>sad</th>\n",
       "      <th>surprise</th>\n",
       "      <th>neutral</th>\n",
       "      <th>Date</th>\n",
       "      <th>Company</th>\n",
       "      <th>Return</th>\n",
       "      <th>Year_Cum_Ret_Daily</th>\n",
       "      <th>Tenure_Cum_Ret_Daily</th>\n",
       "      <th>Year_Cum_Ret_Overall</th>\n",
       "      <th>Tenure_Cum_Ret_Overall</th>\n",
       "    </tr>\n",
       "  </thead>\n",
       "  <tbody>\n",
       "    <tr>\n",
       "      <th>0</th>\n",
       "      <td>AAPL</td>\n",
       "      <td>Steve Jobs</td>\n",
       "      <td>2010</td>\n",
       "      <td>45</td>\n",
       "      <td>Man</td>\n",
       "      <td>white</td>\n",
       "      <td>happy</td>\n",
       "      <td>0.003490</td>\n",
       "      <td>99.996507</td>\n",
       "      <td>0.007384</td>\n",
       "      <td>...</td>\n",
       "      <td>0.000068</td>\n",
       "      <td>0.000094</td>\n",
       "      <td>0.173806</td>\n",
       "      <td>2010-01-04</td>\n",
       "      <td>Apple Inc.</td>\n",
       "      <td>NaN</td>\n",
       "      <td>NaN</td>\n",
       "      <td>NaN</td>\n",
       "      <td>1.507219</td>\n",
       "      <td>1.507219</td>\n",
       "    </tr>\n",
       "    <tr>\n",
       "      <th>1</th>\n",
       "      <td>AAPL</td>\n",
       "      <td>Steve Jobs</td>\n",
       "      <td>2010</td>\n",
       "      <td>45</td>\n",
       "      <td>Man</td>\n",
       "      <td>white</td>\n",
       "      <td>happy</td>\n",
       "      <td>0.003490</td>\n",
       "      <td>99.996507</td>\n",
       "      <td>0.007384</td>\n",
       "      <td>...</td>\n",
       "      <td>0.000068</td>\n",
       "      <td>0.000094</td>\n",
       "      <td>0.173806</td>\n",
       "      <td>2010-01-05</td>\n",
       "      <td>Apple Inc.</td>\n",
       "      <td>0.001729</td>\n",
       "      <td>1.001729</td>\n",
       "      <td>1.001729</td>\n",
       "      <td>1.507219</td>\n",
       "      <td>1.507219</td>\n",
       "    </tr>\n",
       "    <tr>\n",
       "      <th>2</th>\n",
       "      <td>AAPL</td>\n",
       "      <td>Steve Jobs</td>\n",
       "      <td>2010</td>\n",
       "      <td>45</td>\n",
       "      <td>Man</td>\n",
       "      <td>white</td>\n",
       "      <td>happy</td>\n",
       "      <td>0.003490</td>\n",
       "      <td>99.996507</td>\n",
       "      <td>0.007384</td>\n",
       "      <td>...</td>\n",
       "      <td>0.000068</td>\n",
       "      <td>0.000094</td>\n",
       "      <td>0.173806</td>\n",
       "      <td>2010-01-06</td>\n",
       "      <td>Apple Inc.</td>\n",
       "      <td>-0.015906</td>\n",
       "      <td>0.985795</td>\n",
       "      <td>0.985795</td>\n",
       "      <td>1.507219</td>\n",
       "      <td>1.507219</td>\n",
       "    </tr>\n",
       "    <tr>\n",
       "      <th>3</th>\n",
       "      <td>AAPL</td>\n",
       "      <td>Steve Jobs</td>\n",
       "      <td>2010</td>\n",
       "      <td>45</td>\n",
       "      <td>Man</td>\n",
       "      <td>white</td>\n",
       "      <td>happy</td>\n",
       "      <td>0.003490</td>\n",
       "      <td>99.996507</td>\n",
       "      <td>0.007384</td>\n",
       "      <td>...</td>\n",
       "      <td>0.000068</td>\n",
       "      <td>0.000094</td>\n",
       "      <td>0.173806</td>\n",
       "      <td>2010-01-07</td>\n",
       "      <td>Apple Inc.</td>\n",
       "      <td>-0.001848</td>\n",
       "      <td>0.983973</td>\n",
       "      <td>0.983973</td>\n",
       "      <td>1.507219</td>\n",
       "      <td>1.507219</td>\n",
       "    </tr>\n",
       "    <tr>\n",
       "      <th>4</th>\n",
       "      <td>AAPL</td>\n",
       "      <td>Steve Jobs</td>\n",
       "      <td>2010</td>\n",
       "      <td>45</td>\n",
       "      <td>Man</td>\n",
       "      <td>white</td>\n",
       "      <td>happy</td>\n",
       "      <td>0.003490</td>\n",
       "      <td>99.996507</td>\n",
       "      <td>0.007384</td>\n",
       "      <td>...</td>\n",
       "      <td>0.000068</td>\n",
       "      <td>0.000094</td>\n",
       "      <td>0.173806</td>\n",
       "      <td>2010-01-08</td>\n",
       "      <td>Apple Inc.</td>\n",
       "      <td>0.006648</td>\n",
       "      <td>0.990514</td>\n",
       "      <td>0.990514</td>\n",
       "      <td>1.507219</td>\n",
       "      <td>1.507219</td>\n",
       "    </tr>\n",
       "    <tr>\n",
       "      <th>...</th>\n",
       "      <td>...</td>\n",
       "      <td>...</td>\n",
       "      <td>...</td>\n",
       "      <td>...</td>\n",
       "      <td>...</td>\n",
       "      <td>...</td>\n",
       "      <td>...</td>\n",
       "      <td>...</td>\n",
       "      <td>...</td>\n",
       "      <td>...</td>\n",
       "      <td>...</td>\n",
       "      <td>...</td>\n",
       "      <td>...</td>\n",
       "      <td>...</td>\n",
       "      <td>...</td>\n",
       "      <td>...</td>\n",
       "      <td>...</td>\n",
       "      <td>...</td>\n",
       "      <td>...</td>\n",
       "      <td>...</td>\n",
       "      <td>...</td>\n",
       "    </tr>\n",
       "    <tr>\n",
       "      <th>131521</th>\n",
       "      <td>CHKP</td>\n",
       "      <td>Gil Shwed</td>\n",
       "      <td>2019</td>\n",
       "      <td>29</td>\n",
       "      <td>Man</td>\n",
       "      <td>white</td>\n",
       "      <td>neutral</td>\n",
       "      <td>41.420931</td>\n",
       "      <td>58.579069</td>\n",
       "      <td>1.510623</td>\n",
       "      <td>...</td>\n",
       "      <td>0.000370</td>\n",
       "      <td>1.136891</td>\n",
       "      <td>96.300095</td>\n",
       "      <td>2019-12-23</td>\n",
       "      <td>Check Point Software Technologies Ltd.</td>\n",
       "      <td>0.000627</td>\n",
       "      <td>1.088651</td>\n",
       "      <td>3.276165</td>\n",
       "      <td>1.087969</td>\n",
       "      <td>3.274113</td>\n",
       "    </tr>\n",
       "    <tr>\n",
       "      <th>131522</th>\n",
       "      <td>CHKP</td>\n",
       "      <td>Gil Shwed</td>\n",
       "      <td>2019</td>\n",
       "      <td>29</td>\n",
       "      <td>Man</td>\n",
       "      <td>white</td>\n",
       "      <td>neutral</td>\n",
       "      <td>41.420931</td>\n",
       "      <td>58.579069</td>\n",
       "      <td>1.510623</td>\n",
       "      <td>...</td>\n",
       "      <td>0.000370</td>\n",
       "      <td>1.136891</td>\n",
       "      <td>96.300095</td>\n",
       "      <td>2019-12-24</td>\n",
       "      <td>Check Point Software Technologies Ltd.</td>\n",
       "      <td>-0.001521</td>\n",
       "      <td>1.086995</td>\n",
       "      <td>3.271181</td>\n",
       "      <td>1.087969</td>\n",
       "      <td>3.274113</td>\n",
       "    </tr>\n",
       "    <tr>\n",
       "      <th>131523</th>\n",
       "      <td>CHKP</td>\n",
       "      <td>Gil Shwed</td>\n",
       "      <td>2019</td>\n",
       "      <td>29</td>\n",
       "      <td>Man</td>\n",
       "      <td>white</td>\n",
       "      <td>neutral</td>\n",
       "      <td>41.420931</td>\n",
       "      <td>58.579069</td>\n",
       "      <td>1.510623</td>\n",
       "      <td>...</td>\n",
       "      <td>0.000370</td>\n",
       "      <td>1.136891</td>\n",
       "      <td>96.300095</td>\n",
       "      <td>2019-12-26</td>\n",
       "      <td>Check Point Software Technologies Ltd.</td>\n",
       "      <td>0.004391</td>\n",
       "      <td>1.091768</td>\n",
       "      <td>3.285547</td>\n",
       "      <td>1.087969</td>\n",
       "      <td>3.274113</td>\n",
       "    </tr>\n",
       "    <tr>\n",
       "      <th>131524</th>\n",
       "      <td>CHKP</td>\n",
       "      <td>Gil Shwed</td>\n",
       "      <td>2019</td>\n",
       "      <td>29</td>\n",
       "      <td>Man</td>\n",
       "      <td>white</td>\n",
       "      <td>neutral</td>\n",
       "      <td>41.420931</td>\n",
       "      <td>58.579069</td>\n",
       "      <td>1.510623</td>\n",
       "      <td>...</td>\n",
       "      <td>0.000370</td>\n",
       "      <td>1.136891</td>\n",
       "      <td>96.300095</td>\n",
       "      <td>2019-12-27</td>\n",
       "      <td>Check Point Software Technologies Ltd.</td>\n",
       "      <td>-0.002409</td>\n",
       "      <td>1.089138</td>\n",
       "      <td>3.277631</td>\n",
       "      <td>1.087969</td>\n",
       "      <td>3.274113</td>\n",
       "    </tr>\n",
       "    <tr>\n",
       "      <th>131525</th>\n",
       "      <td>CHKP</td>\n",
       "      <td>Gil Shwed</td>\n",
       "      <td>2019</td>\n",
       "      <td>29</td>\n",
       "      <td>Man</td>\n",
       "      <td>white</td>\n",
       "      <td>neutral</td>\n",
       "      <td>41.420931</td>\n",
       "      <td>58.579069</td>\n",
       "      <td>1.510623</td>\n",
       "      <td>...</td>\n",
       "      <td>0.000370</td>\n",
       "      <td>1.136891</td>\n",
       "      <td>96.300095</td>\n",
       "      <td>2019-12-30</td>\n",
       "      <td>Check Point Software Technologies Ltd.</td>\n",
       "      <td>-0.001073</td>\n",
       "      <td>1.087969</td>\n",
       "      <td>3.274113</td>\n",
       "      <td>1.087969</td>\n",
       "      <td>3.274113</td>\n",
       "    </tr>\n",
       "  </tbody>\n",
       "</table>\n",
       "<p>131526 rows × 29 columns</p>\n",
       "</div>"
      ],
      "text/plain": [
       "       Ticker         CEO  Year  Age dominant_gender dominant_race  \\\n",
       "0        AAPL  Steve Jobs  2010   45             Man         white   \n",
       "1        AAPL  Steve Jobs  2010   45             Man         white   \n",
       "2        AAPL  Steve Jobs  2010   45             Man         white   \n",
       "3        AAPL  Steve Jobs  2010   45             Man         white   \n",
       "4        AAPL  Steve Jobs  2010   45             Man         white   \n",
       "...       ...         ...   ...  ...             ...           ...   \n",
       "131521   CHKP   Gil Shwed  2019   29             Man         white   \n",
       "131522   CHKP   Gil Shwed  2019   29             Man         white   \n",
       "131523   CHKP   Gil Shwed  2019   29             Man         white   \n",
       "131524   CHKP   Gil Shwed  2019   29             Man         white   \n",
       "131525   CHKP   Gil Shwed  2019   29             Man         white   \n",
       "\n",
       "       dominant_emotion      Woman        Man     asian  ...       sad  \\\n",
       "0                 happy   0.003490  99.996507  0.007384  ...  0.000068   \n",
       "1                 happy   0.003490  99.996507  0.007384  ...  0.000068   \n",
       "2                 happy   0.003490  99.996507  0.007384  ...  0.000068   \n",
       "3                 happy   0.003490  99.996507  0.007384  ...  0.000068   \n",
       "4                 happy   0.003490  99.996507  0.007384  ...  0.000068   \n",
       "...                 ...        ...        ...       ...  ...       ...   \n",
       "131521          neutral  41.420931  58.579069  1.510623  ...  0.000370   \n",
       "131522          neutral  41.420931  58.579069  1.510623  ...  0.000370   \n",
       "131523          neutral  41.420931  58.579069  1.510623  ...  0.000370   \n",
       "131524          neutral  41.420931  58.579069  1.510623  ...  0.000370   \n",
       "131525          neutral  41.420931  58.579069  1.510623  ...  0.000370   \n",
       "\n",
       "        surprise    neutral        Date  \\\n",
       "0       0.000094   0.173806  2010-01-04   \n",
       "1       0.000094   0.173806  2010-01-05   \n",
       "2       0.000094   0.173806  2010-01-06   \n",
       "3       0.000094   0.173806  2010-01-07   \n",
       "4       0.000094   0.173806  2010-01-08   \n",
       "...          ...        ...         ...   \n",
       "131521  1.136891  96.300095  2019-12-23   \n",
       "131522  1.136891  96.300095  2019-12-24   \n",
       "131523  1.136891  96.300095  2019-12-26   \n",
       "131524  1.136891  96.300095  2019-12-27   \n",
       "131525  1.136891  96.300095  2019-12-30   \n",
       "\n",
       "                                       Company    Return  Year_Cum_Ret_Daily  \\\n",
       "0                                   Apple Inc.       NaN                 NaN   \n",
       "1                                   Apple Inc.  0.001729            1.001729   \n",
       "2                                   Apple Inc. -0.015906            0.985795   \n",
       "3                                   Apple Inc. -0.001848            0.983973   \n",
       "4                                   Apple Inc.  0.006648            0.990514   \n",
       "...                                        ...       ...                 ...   \n",
       "131521  Check Point Software Technologies Ltd.  0.000627            1.088651   \n",
       "131522  Check Point Software Technologies Ltd. -0.001521            1.086995   \n",
       "131523  Check Point Software Technologies Ltd.  0.004391            1.091768   \n",
       "131524  Check Point Software Technologies Ltd. -0.002409            1.089138   \n",
       "131525  Check Point Software Technologies Ltd. -0.001073            1.087969   \n",
       "\n",
       "        Tenure_Cum_Ret_Daily  Year_Cum_Ret_Overall  Tenure_Cum_Ret_Overall  \n",
       "0                        NaN              1.507219                1.507219  \n",
       "1                   1.001729              1.507219                1.507219  \n",
       "2                   0.985795              1.507219                1.507219  \n",
       "3                   0.983973              1.507219                1.507219  \n",
       "4                   0.990514              1.507219                1.507219  \n",
       "...                      ...                   ...                     ...  \n",
       "131521              3.276165              1.087969                3.274113  \n",
       "131522              3.271181              1.087969                3.274113  \n",
       "131523              3.285547              1.087969                3.274113  \n",
       "131524              3.277631              1.087969                3.274113  \n",
       "131525              3.274113              1.087969                3.274113  \n",
       "\n",
       "[131526 rows x 29 columns]"
      ]
     },
     "execution_count": 7,
     "metadata": {},
     "output_type": "execute_result"
    }
   ],
   "source": [
    "df['Year'] = df['Year'].astype(int)\n",
    "firm_ret['Year'] = firm_ret['Year'].astype(int)\n",
    "\n",
    "\n",
    "output_daily = pd.merge(df, firm_ret, how = 'inner', on = ['Year', 'Ticker', 'CEO'])\n",
    "\n",
    "output_daily"
   ]
  },
  {
   "cell_type": "code",
   "execution_count": 8,
   "id": "31d70b46-9f9f-4918-9961-fdcde806a673",
   "metadata": {},
   "outputs": [
    {
     "data": {
      "text/html": [
       "<div>\n",
       "<style scoped>\n",
       "    .dataframe tbody tr th:only-of-type {\n",
       "        vertical-align: middle;\n",
       "    }\n",
       "\n",
       "    .dataframe tbody tr th {\n",
       "        vertical-align: top;\n",
       "    }\n",
       "\n",
       "    .dataframe thead th {\n",
       "        text-align: right;\n",
       "    }\n",
       "</style>\n",
       "<table border=\"1\" class=\"dataframe\">\n",
       "  <thead>\n",
       "    <tr style=\"text-align: right;\">\n",
       "      <th></th>\n",
       "      <th>Year</th>\n",
       "      <th>Date</th>\n",
       "      <th>Ticker</th>\n",
       "      <th>Company</th>\n",
       "      <th>CEO</th>\n",
       "      <th>Age</th>\n",
       "      <th>dominant_gender</th>\n",
       "      <th>dominant_race</th>\n",
       "      <th>dominant_emotion</th>\n",
       "      <th>Woman</th>\n",
       "      <th>...</th>\n",
       "      <th>fear</th>\n",
       "      <th>happy</th>\n",
       "      <th>sad</th>\n",
       "      <th>surprise</th>\n",
       "      <th>neutral</th>\n",
       "      <th>Return</th>\n",
       "      <th>Year_Cum_Ret_Daily</th>\n",
       "      <th>Tenure_Cum_Ret_Daily</th>\n",
       "      <th>Year_Cum_Ret_Overall</th>\n",
       "      <th>Tenure_Cum_Ret_Overall</th>\n",
       "    </tr>\n",
       "  </thead>\n",
       "  <tbody>\n",
       "    <tr>\n",
       "      <th>0</th>\n",
       "      <td>2010</td>\n",
       "      <td>2010-01-04</td>\n",
       "      <td>AAPL</td>\n",
       "      <td>Apple Inc.</td>\n",
       "      <td>Steve Jobs</td>\n",
       "      <td>45</td>\n",
       "      <td>Man</td>\n",
       "      <td>white</td>\n",
       "      <td>happy</td>\n",
       "      <td>0.003490</td>\n",
       "      <td>...</td>\n",
       "      <td>0.000062</td>\n",
       "      <td>99.825412</td>\n",
       "      <td>0.000068</td>\n",
       "      <td>0.000094</td>\n",
       "      <td>0.173806</td>\n",
       "      <td>NaN</td>\n",
       "      <td>NaN</td>\n",
       "      <td>NaN</td>\n",
       "      <td>1.507219</td>\n",
       "      <td>1.507219</td>\n",
       "    </tr>\n",
       "    <tr>\n",
       "      <th>1</th>\n",
       "      <td>2010</td>\n",
       "      <td>2010-01-05</td>\n",
       "      <td>AAPL</td>\n",
       "      <td>Apple Inc.</td>\n",
       "      <td>Steve Jobs</td>\n",
       "      <td>45</td>\n",
       "      <td>Man</td>\n",
       "      <td>white</td>\n",
       "      <td>happy</td>\n",
       "      <td>0.003490</td>\n",
       "      <td>...</td>\n",
       "      <td>0.000062</td>\n",
       "      <td>99.825412</td>\n",
       "      <td>0.000068</td>\n",
       "      <td>0.000094</td>\n",
       "      <td>0.173806</td>\n",
       "      <td>0.001729</td>\n",
       "      <td>1.001729</td>\n",
       "      <td>1.001729</td>\n",
       "      <td>1.507219</td>\n",
       "      <td>1.507219</td>\n",
       "    </tr>\n",
       "    <tr>\n",
       "      <th>2</th>\n",
       "      <td>2010</td>\n",
       "      <td>2010-01-06</td>\n",
       "      <td>AAPL</td>\n",
       "      <td>Apple Inc.</td>\n",
       "      <td>Steve Jobs</td>\n",
       "      <td>45</td>\n",
       "      <td>Man</td>\n",
       "      <td>white</td>\n",
       "      <td>happy</td>\n",
       "      <td>0.003490</td>\n",
       "      <td>...</td>\n",
       "      <td>0.000062</td>\n",
       "      <td>99.825412</td>\n",
       "      <td>0.000068</td>\n",
       "      <td>0.000094</td>\n",
       "      <td>0.173806</td>\n",
       "      <td>-0.015906</td>\n",
       "      <td>0.985795</td>\n",
       "      <td>0.985795</td>\n",
       "      <td>1.507219</td>\n",
       "      <td>1.507219</td>\n",
       "    </tr>\n",
       "    <tr>\n",
       "      <th>3</th>\n",
       "      <td>2010</td>\n",
       "      <td>2010-01-07</td>\n",
       "      <td>AAPL</td>\n",
       "      <td>Apple Inc.</td>\n",
       "      <td>Steve Jobs</td>\n",
       "      <td>45</td>\n",
       "      <td>Man</td>\n",
       "      <td>white</td>\n",
       "      <td>happy</td>\n",
       "      <td>0.003490</td>\n",
       "      <td>...</td>\n",
       "      <td>0.000062</td>\n",
       "      <td>99.825412</td>\n",
       "      <td>0.000068</td>\n",
       "      <td>0.000094</td>\n",
       "      <td>0.173806</td>\n",
       "      <td>-0.001848</td>\n",
       "      <td>0.983973</td>\n",
       "      <td>0.983973</td>\n",
       "      <td>1.507219</td>\n",
       "      <td>1.507219</td>\n",
       "    </tr>\n",
       "    <tr>\n",
       "      <th>4</th>\n",
       "      <td>2010</td>\n",
       "      <td>2010-01-08</td>\n",
       "      <td>AAPL</td>\n",
       "      <td>Apple Inc.</td>\n",
       "      <td>Steve Jobs</td>\n",
       "      <td>45</td>\n",
       "      <td>Man</td>\n",
       "      <td>white</td>\n",
       "      <td>happy</td>\n",
       "      <td>0.003490</td>\n",
       "      <td>...</td>\n",
       "      <td>0.000062</td>\n",
       "      <td>99.825412</td>\n",
       "      <td>0.000068</td>\n",
       "      <td>0.000094</td>\n",
       "      <td>0.173806</td>\n",
       "      <td>0.006648</td>\n",
       "      <td>0.990514</td>\n",
       "      <td>0.990514</td>\n",
       "      <td>1.507219</td>\n",
       "      <td>1.507219</td>\n",
       "    </tr>\n",
       "    <tr>\n",
       "      <th>...</th>\n",
       "      <td>...</td>\n",
       "      <td>...</td>\n",
       "      <td>...</td>\n",
       "      <td>...</td>\n",
       "      <td>...</td>\n",
       "      <td>...</td>\n",
       "      <td>...</td>\n",
       "      <td>...</td>\n",
       "      <td>...</td>\n",
       "      <td>...</td>\n",
       "      <td>...</td>\n",
       "      <td>...</td>\n",
       "      <td>...</td>\n",
       "      <td>...</td>\n",
       "      <td>...</td>\n",
       "      <td>...</td>\n",
       "      <td>...</td>\n",
       "      <td>...</td>\n",
       "      <td>...</td>\n",
       "      <td>...</td>\n",
       "      <td>...</td>\n",
       "    </tr>\n",
       "    <tr>\n",
       "      <th>131521</th>\n",
       "      <td>2019</td>\n",
       "      <td>2019-12-23</td>\n",
       "      <td>CHKP</td>\n",
       "      <td>Check Point Software Technologies Ltd.</td>\n",
       "      <td>Gil Shwed</td>\n",
       "      <td>29</td>\n",
       "      <td>Man</td>\n",
       "      <td>white</td>\n",
       "      <td>neutral</td>\n",
       "      <td>41.420931</td>\n",
       "      <td>...</td>\n",
       "      <td>2.195110</td>\n",
       "      <td>0.367533</td>\n",
       "      <td>0.000370</td>\n",
       "      <td>1.136891</td>\n",
       "      <td>96.300095</td>\n",
       "      <td>0.000627</td>\n",
       "      <td>1.088651</td>\n",
       "      <td>3.276165</td>\n",
       "      <td>1.087969</td>\n",
       "      <td>3.274113</td>\n",
       "    </tr>\n",
       "    <tr>\n",
       "      <th>131522</th>\n",
       "      <td>2019</td>\n",
       "      <td>2019-12-24</td>\n",
       "      <td>CHKP</td>\n",
       "      <td>Check Point Software Technologies Ltd.</td>\n",
       "      <td>Gil Shwed</td>\n",
       "      <td>29</td>\n",
       "      <td>Man</td>\n",
       "      <td>white</td>\n",
       "      <td>neutral</td>\n",
       "      <td>41.420931</td>\n",
       "      <td>...</td>\n",
       "      <td>2.195110</td>\n",
       "      <td>0.367533</td>\n",
       "      <td>0.000370</td>\n",
       "      <td>1.136891</td>\n",
       "      <td>96.300095</td>\n",
       "      <td>-0.001521</td>\n",
       "      <td>1.086995</td>\n",
       "      <td>3.271181</td>\n",
       "      <td>1.087969</td>\n",
       "      <td>3.274113</td>\n",
       "    </tr>\n",
       "    <tr>\n",
       "      <th>131523</th>\n",
       "      <td>2019</td>\n",
       "      <td>2019-12-26</td>\n",
       "      <td>CHKP</td>\n",
       "      <td>Check Point Software Technologies Ltd.</td>\n",
       "      <td>Gil Shwed</td>\n",
       "      <td>29</td>\n",
       "      <td>Man</td>\n",
       "      <td>white</td>\n",
       "      <td>neutral</td>\n",
       "      <td>41.420931</td>\n",
       "      <td>...</td>\n",
       "      <td>2.195110</td>\n",
       "      <td>0.367533</td>\n",
       "      <td>0.000370</td>\n",
       "      <td>1.136891</td>\n",
       "      <td>96.300095</td>\n",
       "      <td>0.004391</td>\n",
       "      <td>1.091768</td>\n",
       "      <td>3.285547</td>\n",
       "      <td>1.087969</td>\n",
       "      <td>3.274113</td>\n",
       "    </tr>\n",
       "    <tr>\n",
       "      <th>131524</th>\n",
       "      <td>2019</td>\n",
       "      <td>2019-12-27</td>\n",
       "      <td>CHKP</td>\n",
       "      <td>Check Point Software Technologies Ltd.</td>\n",
       "      <td>Gil Shwed</td>\n",
       "      <td>29</td>\n",
       "      <td>Man</td>\n",
       "      <td>white</td>\n",
       "      <td>neutral</td>\n",
       "      <td>41.420931</td>\n",
       "      <td>...</td>\n",
       "      <td>2.195110</td>\n",
       "      <td>0.367533</td>\n",
       "      <td>0.000370</td>\n",
       "      <td>1.136891</td>\n",
       "      <td>96.300095</td>\n",
       "      <td>-0.002409</td>\n",
       "      <td>1.089138</td>\n",
       "      <td>3.277631</td>\n",
       "      <td>1.087969</td>\n",
       "      <td>3.274113</td>\n",
       "    </tr>\n",
       "    <tr>\n",
       "      <th>131525</th>\n",
       "      <td>2019</td>\n",
       "      <td>2019-12-30</td>\n",
       "      <td>CHKP</td>\n",
       "      <td>Check Point Software Technologies Ltd.</td>\n",
       "      <td>Gil Shwed</td>\n",
       "      <td>29</td>\n",
       "      <td>Man</td>\n",
       "      <td>white</td>\n",
       "      <td>neutral</td>\n",
       "      <td>41.420931</td>\n",
       "      <td>...</td>\n",
       "      <td>2.195110</td>\n",
       "      <td>0.367533</td>\n",
       "      <td>0.000370</td>\n",
       "      <td>1.136891</td>\n",
       "      <td>96.300095</td>\n",
       "      <td>-0.001073</td>\n",
       "      <td>1.087969</td>\n",
       "      <td>3.274113</td>\n",
       "      <td>1.087969</td>\n",
       "      <td>3.274113</td>\n",
       "    </tr>\n",
       "  </tbody>\n",
       "</table>\n",
       "<p>131526 rows × 29 columns</p>\n",
       "</div>"
      ],
      "text/plain": [
       "        Year        Date Ticker                                 Company  \\\n",
       "0       2010  2010-01-04   AAPL                              Apple Inc.   \n",
       "1       2010  2010-01-05   AAPL                              Apple Inc.   \n",
       "2       2010  2010-01-06   AAPL                              Apple Inc.   \n",
       "3       2010  2010-01-07   AAPL                              Apple Inc.   \n",
       "4       2010  2010-01-08   AAPL                              Apple Inc.   \n",
       "...      ...         ...    ...                                     ...   \n",
       "131521  2019  2019-12-23   CHKP  Check Point Software Technologies Ltd.   \n",
       "131522  2019  2019-12-24   CHKP  Check Point Software Technologies Ltd.   \n",
       "131523  2019  2019-12-26   CHKP  Check Point Software Technologies Ltd.   \n",
       "131524  2019  2019-12-27   CHKP  Check Point Software Technologies Ltd.   \n",
       "131525  2019  2019-12-30   CHKP  Check Point Software Technologies Ltd.   \n",
       "\n",
       "               CEO  Age dominant_gender dominant_race dominant_emotion  \\\n",
       "0       Steve Jobs   45             Man         white            happy   \n",
       "1       Steve Jobs   45             Man         white            happy   \n",
       "2       Steve Jobs   45             Man         white            happy   \n",
       "3       Steve Jobs   45             Man         white            happy   \n",
       "4       Steve Jobs   45             Man         white            happy   \n",
       "...            ...  ...             ...           ...              ...   \n",
       "131521   Gil Shwed   29             Man         white          neutral   \n",
       "131522   Gil Shwed   29             Man         white          neutral   \n",
       "131523   Gil Shwed   29             Man         white          neutral   \n",
       "131524   Gil Shwed   29             Man         white          neutral   \n",
       "131525   Gil Shwed   29             Man         white          neutral   \n",
       "\n",
       "            Woman  ...      fear      happy       sad  surprise    neutral  \\\n",
       "0        0.003490  ...  0.000062  99.825412  0.000068  0.000094   0.173806   \n",
       "1        0.003490  ...  0.000062  99.825412  0.000068  0.000094   0.173806   \n",
       "2        0.003490  ...  0.000062  99.825412  0.000068  0.000094   0.173806   \n",
       "3        0.003490  ...  0.000062  99.825412  0.000068  0.000094   0.173806   \n",
       "4        0.003490  ...  0.000062  99.825412  0.000068  0.000094   0.173806   \n",
       "...           ...  ...       ...        ...       ...       ...        ...   \n",
       "131521  41.420931  ...  2.195110   0.367533  0.000370  1.136891  96.300095   \n",
       "131522  41.420931  ...  2.195110   0.367533  0.000370  1.136891  96.300095   \n",
       "131523  41.420931  ...  2.195110   0.367533  0.000370  1.136891  96.300095   \n",
       "131524  41.420931  ...  2.195110   0.367533  0.000370  1.136891  96.300095   \n",
       "131525  41.420931  ...  2.195110   0.367533  0.000370  1.136891  96.300095   \n",
       "\n",
       "          Return  Year_Cum_Ret_Daily  Tenure_Cum_Ret_Daily  \\\n",
       "0            NaN                 NaN                   NaN   \n",
       "1       0.001729            1.001729              1.001729   \n",
       "2      -0.015906            0.985795              0.985795   \n",
       "3      -0.001848            0.983973              0.983973   \n",
       "4       0.006648            0.990514              0.990514   \n",
       "...          ...                 ...                   ...   \n",
       "131521  0.000627            1.088651              3.276165   \n",
       "131522 -0.001521            1.086995              3.271181   \n",
       "131523  0.004391            1.091768              3.285547   \n",
       "131524 -0.002409            1.089138              3.277631   \n",
       "131525 -0.001073            1.087969              3.274113   \n",
       "\n",
       "        Year_Cum_Ret_Overall  Tenure_Cum_Ret_Overall  \n",
       "0                   1.507219                1.507219  \n",
       "1                   1.507219                1.507219  \n",
       "2                   1.507219                1.507219  \n",
       "3                   1.507219                1.507219  \n",
       "4                   1.507219                1.507219  \n",
       "...                      ...                     ...  \n",
       "131521              1.087969                3.274113  \n",
       "131522              1.087969                3.274113  \n",
       "131523              1.087969                3.274113  \n",
       "131524              1.087969                3.274113  \n",
       "131525              1.087969                3.274113  \n",
       "\n",
       "[131526 rows x 29 columns]"
      ]
     },
     "execution_count": 8,
     "metadata": {},
     "output_type": "execute_result"
    }
   ],
   "source": [
    "output_daily = output_daily[['Year', 'Date', 'Ticker', 'Company', 'CEO', 'Age', 'dominant_gender', 'dominant_race', 'dominant_emotion', \n",
    "                  'Woman', 'Man', 'asian', 'indian', 'black', 'white',\n",
    "       'middle eastern', 'latino hispanic', 'angry', 'disgust', 'fear',\n",
    "       'happy', 'sad', 'surprise', 'neutral', 'Return',\n",
    "       'Year_Cum_Ret_Daily', 'Tenure_Cum_Ret_Daily', 'Year_Cum_Ret_Overall',\n",
    "       'Tenure_Cum_Ret_Overall']]\n",
    "\n",
    "output_daily.to_csv('outputs/output_daily.csv', index=False)\n",
    "\n",
    "output_daily"
   ]
  },
  {
   "cell_type": "code",
   "execution_count": 9,
   "id": "664122e6-81ab-45dd-88aa-45aa2618091a",
   "metadata": {},
   "outputs": [
    {
     "data": {
      "text/html": [
       "<div>\n",
       "<style scoped>\n",
       "    .dataframe tbody tr th:only-of-type {\n",
       "        vertical-align: middle;\n",
       "    }\n",
       "\n",
       "    .dataframe tbody tr th {\n",
       "        vertical-align: top;\n",
       "    }\n",
       "\n",
       "    .dataframe thead th {\n",
       "        text-align: right;\n",
       "    }\n",
       "</style>\n",
       "<table border=\"1\" class=\"dataframe\">\n",
       "  <thead>\n",
       "    <tr style=\"text-align: right;\">\n",
       "      <th></th>\n",
       "      <th>Year</th>\n",
       "      <th>Ticker</th>\n",
       "      <th>CEO</th>\n",
       "      <th>Age</th>\n",
       "      <th>dominant_gender</th>\n",
       "      <th>dominant_race</th>\n",
       "      <th>dominant_emotion</th>\n",
       "      <th>Woman</th>\n",
       "      <th>Man</th>\n",
       "      <th>asian</th>\n",
       "      <th>...</th>\n",
       "      <th>latino hispanic</th>\n",
       "      <th>angry</th>\n",
       "      <th>disgust</th>\n",
       "      <th>fear</th>\n",
       "      <th>happy</th>\n",
       "      <th>sad</th>\n",
       "      <th>surprise</th>\n",
       "      <th>neutral</th>\n",
       "      <th>Year_Cum_Ret_Overall</th>\n",
       "      <th>Tenure_Cum_Ret_Overall</th>\n",
       "    </tr>\n",
       "  </thead>\n",
       "  <tbody>\n",
       "    <tr>\n",
       "      <th>0</th>\n",
       "      <td>2010</td>\n",
       "      <td>SNPS</td>\n",
       "      <td>Aart de Geus</td>\n",
       "      <td>23</td>\n",
       "      <td>Man</td>\n",
       "      <td>white</td>\n",
       "      <td>neutral</td>\n",
       "      <td>0.819981</td>\n",
       "      <td>99.180013</td>\n",
       "      <td>15.249158</td>\n",
       "      <td>...</td>\n",
       "      <td>2.830955</td>\n",
       "      <td>1.330484e+01</td>\n",
       "      <td>5.173616e-03</td>\n",
       "      <td>5.204453e-02</td>\n",
       "      <td>25.734165</td>\n",
       "      <td>2.205486e+00</td>\n",
       "      <td>1.407587e-02</td>\n",
       "      <td>58.684218</td>\n",
       "      <td>1.199198</td>\n",
       "      <td>6.198752</td>\n",
       "    </tr>\n",
       "    <tr>\n",
       "      <th>1</th>\n",
       "      <td>2011</td>\n",
       "      <td>SNPS</td>\n",
       "      <td>Aart de Geus</td>\n",
       "      <td>39</td>\n",
       "      <td>Man</td>\n",
       "      <td>white</td>\n",
       "      <td>happy</td>\n",
       "      <td>0.023243</td>\n",
       "      <td>99.976760</td>\n",
       "      <td>15.494668</td>\n",
       "      <td>...</td>\n",
       "      <td>14.484688</td>\n",
       "      <td>2.315515e+00</td>\n",
       "      <td>4.106932e-02</td>\n",
       "      <td>1.125872e-01</td>\n",
       "      <td>89.429759</td>\n",
       "      <td>7.633738e+00</td>\n",
       "      <td>2.701521e-04</td>\n",
       "      <td>0.467070</td>\n",
       "      <td>1.010777</td>\n",
       "      <td>6.198752</td>\n",
       "    </tr>\n",
       "    <tr>\n",
       "      <th>2</th>\n",
       "      <td>2012</td>\n",
       "      <td>SNPS</td>\n",
       "      <td>Aart de Geus</td>\n",
       "      <td>39</td>\n",
       "      <td>Man</td>\n",
       "      <td>white</td>\n",
       "      <td>happy</td>\n",
       "      <td>0.020929</td>\n",
       "      <td>99.979073</td>\n",
       "      <td>20.841102</td>\n",
       "      <td>...</td>\n",
       "      <td>21.581204</td>\n",
       "      <td>6.361030e+00</td>\n",
       "      <td>4.951148e-04</td>\n",
       "      <td>2.651237e-01</td>\n",
       "      <td>93.242502</td>\n",
       "      <td>1.277062e-01</td>\n",
       "      <td>7.527172e-05</td>\n",
       "      <td>0.003063</td>\n",
       "      <td>1.170588</td>\n",
       "      <td>6.198752</td>\n",
       "    </tr>\n",
       "    <tr>\n",
       "      <th>3</th>\n",
       "      <td>2013</td>\n",
       "      <td>SNPS</td>\n",
       "      <td>Aart de Geus</td>\n",
       "      <td>40</td>\n",
       "      <td>Man</td>\n",
       "      <td>white</td>\n",
       "      <td>happy</td>\n",
       "      <td>0.005018</td>\n",
       "      <td>99.994981</td>\n",
       "      <td>19.948056</td>\n",
       "      <td>...</td>\n",
       "      <td>20.680545</td>\n",
       "      <td>2.902971e-01</td>\n",
       "      <td>1.524007e-02</td>\n",
       "      <td>3.214409e+01</td>\n",
       "      <td>45.136628</td>\n",
       "      <td>2.329188e+00</td>\n",
       "      <td>1.904275e-02</td>\n",
       "      <td>20.065513</td>\n",
       "      <td>1.274183</td>\n",
       "      <td>6.198752</td>\n",
       "    </tr>\n",
       "    <tr>\n",
       "      <th>4</th>\n",
       "      <td>2014</td>\n",
       "      <td>SNPS</td>\n",
       "      <td>Aart de Geus</td>\n",
       "      <td>34</td>\n",
       "      <td>Man</td>\n",
       "      <td>asian</td>\n",
       "      <td>angry</td>\n",
       "      <td>0.250033</td>\n",
       "      <td>99.749964</td>\n",
       "      <td>68.513159</td>\n",
       "      <td>...</td>\n",
       "      <td>11.787851</td>\n",
       "      <td>5.459341e+01</td>\n",
       "      <td>1.438507e+00</td>\n",
       "      <td>1.369185e+01</td>\n",
       "      <td>0.007033</td>\n",
       "      <td>3.023464e+01</td>\n",
       "      <td>1.645372e-02</td>\n",
       "      <td>0.018104</td>\n",
       "      <td>1.071481</td>\n",
       "      <td>6.198752</td>\n",
       "    </tr>\n",
       "    <tr>\n",
       "      <th>...</th>\n",
       "      <td>...</td>\n",
       "      <td>...</td>\n",
       "      <td>...</td>\n",
       "      <td>...</td>\n",
       "      <td>...</td>\n",
       "      <td>...</td>\n",
       "      <td>...</td>\n",
       "      <td>...</td>\n",
       "      <td>...</td>\n",
       "      <td>...</td>\n",
       "      <td>...</td>\n",
       "      <td>...</td>\n",
       "      <td>...</td>\n",
       "      <td>...</td>\n",
       "      <td>...</td>\n",
       "      <td>...</td>\n",
       "      <td>...</td>\n",
       "      <td>...</td>\n",
       "      <td>...</td>\n",
       "      <td>...</td>\n",
       "      <td>...</td>\n",
       "    </tr>\n",
       "    <tr>\n",
       "      <th>518</th>\n",
       "      <td>2014</td>\n",
       "      <td>GLW</td>\n",
       "      <td>Wendell P. Weeks</td>\n",
       "      <td>31</td>\n",
       "      <td>Man</td>\n",
       "      <td>white</td>\n",
       "      <td>sad</td>\n",
       "      <td>16.430852</td>\n",
       "      <td>83.569151</td>\n",
       "      <td>2.311016</td>\n",
       "      <td>...</td>\n",
       "      <td>12.097026</td>\n",
       "      <td>7.360550e-03</td>\n",
       "      <td>3.722115e-10</td>\n",
       "      <td>3.423377e+01</td>\n",
       "      <td>0.000083</td>\n",
       "      <td>6.361927e+01</td>\n",
       "      <td>3.446239e-05</td>\n",
       "      <td>2.139485</td>\n",
       "      <td>1.312128</td>\n",
       "      <td>1.845980</td>\n",
       "    </tr>\n",
       "    <tr>\n",
       "      <th>519</th>\n",
       "      <td>2017</td>\n",
       "      <td>GLW</td>\n",
       "      <td>Wendell P. Weeks</td>\n",
       "      <td>40</td>\n",
       "      <td>Man</td>\n",
       "      <td>white</td>\n",
       "      <td>happy</td>\n",
       "      <td>0.004526</td>\n",
       "      <td>99.995470</td>\n",
       "      <td>0.165688</td>\n",
       "      <td>...</td>\n",
       "      <td>4.443923</td>\n",
       "      <td>1.039246e-02</td>\n",
       "      <td>3.517482e-03</td>\n",
       "      <td>1.252302e+00</td>\n",
       "      <td>95.476043</td>\n",
       "      <td>2.484671e+00</td>\n",
       "      <td>4.947915e-03</td>\n",
       "      <td>0.768131</td>\n",
       "      <td>1.346332</td>\n",
       "      <td>1.845980</td>\n",
       "    </tr>\n",
       "    <tr>\n",
       "      <th>520</th>\n",
       "      <td>2018</td>\n",
       "      <td>GLW</td>\n",
       "      <td>Wendell P. Weeks</td>\n",
       "      <td>34</td>\n",
       "      <td>Man</td>\n",
       "      <td>white</td>\n",
       "      <td>happy</td>\n",
       "      <td>0.018744</td>\n",
       "      <td>99.981254</td>\n",
       "      <td>4.673994</td>\n",
       "      <td>...</td>\n",
       "      <td>18.736474</td>\n",
       "      <td>3.549583e-08</td>\n",
       "      <td>4.891530e-19</td>\n",
       "      <td>2.096241e-13</td>\n",
       "      <td>94.780624</td>\n",
       "      <td>6.923909e-07</td>\n",
       "      <td>1.088270e-06</td>\n",
       "      <td>5.219376</td>\n",
       "      <td>0.967160</td>\n",
       "      <td>1.845980</td>\n",
       "    </tr>\n",
       "    <tr>\n",
       "      <th>521</th>\n",
       "      <td>2019</td>\n",
       "      <td>GLW</td>\n",
       "      <td>Wendell P. Weeks</td>\n",
       "      <td>34</td>\n",
       "      <td>Man</td>\n",
       "      <td>white</td>\n",
       "      <td>happy</td>\n",
       "      <td>0.000765</td>\n",
       "      <td>99.999237</td>\n",
       "      <td>13.421290</td>\n",
       "      <td>...</td>\n",
       "      <td>26.710030</td>\n",
       "      <td>2.470559e-03</td>\n",
       "      <td>9.114701e-08</td>\n",
       "      <td>1.918607e-02</td>\n",
       "      <td>99.916446</td>\n",
       "      <td>3.928755e-04</td>\n",
       "      <td>4.649055e-02</td>\n",
       "      <td>0.015015</td>\n",
       "      <td>0.986361</td>\n",
       "      <td>1.845980</td>\n",
       "    </tr>\n",
       "    <tr>\n",
       "      <th>522</th>\n",
       "      <td>2019</td>\n",
       "      <td>SEDG</td>\n",
       "      <td>Zvi Lando</td>\n",
       "      <td>36</td>\n",
       "      <td>Man</td>\n",
       "      <td>white</td>\n",
       "      <td>happy</td>\n",
       "      <td>0.045908</td>\n",
       "      <td>99.954093</td>\n",
       "      <td>0.000035</td>\n",
       "      <td>...</td>\n",
       "      <td>0.592980</td>\n",
       "      <td>1.293038e-08</td>\n",
       "      <td>5.222246e-20</td>\n",
       "      <td>3.812175e-12</td>\n",
       "      <td>99.999988</td>\n",
       "      <td>1.762783e-10</td>\n",
       "      <td>1.722674e-07</td>\n",
       "      <td>0.000014</td>\n",
       "      <td>2.678063</td>\n",
       "      <td>2.678063</td>\n",
       "    </tr>\n",
       "  </tbody>\n",
       "</table>\n",
       "<p>523 rows × 24 columns</p>\n",
       "</div>"
      ],
      "text/plain": [
       "     Year Ticker               CEO  Age dominant_gender dominant_race  \\\n",
       "0    2010   SNPS      Aart de Geus   23             Man         white   \n",
       "1    2011   SNPS      Aart de Geus   39             Man         white   \n",
       "2    2012   SNPS      Aart de Geus   39             Man         white   \n",
       "3    2013   SNPS      Aart de Geus   40             Man         white   \n",
       "4    2014   SNPS      Aart de Geus   34             Man         asian   \n",
       "..    ...    ...               ...  ...             ...           ...   \n",
       "518  2014    GLW  Wendell P. Weeks   31             Man         white   \n",
       "519  2017    GLW  Wendell P. Weeks   40             Man         white   \n",
       "520  2018    GLW  Wendell P. Weeks   34             Man         white   \n",
       "521  2019    GLW  Wendell P. Weeks   34             Man         white   \n",
       "522  2019   SEDG         Zvi Lando   36             Man         white   \n",
       "\n",
       "    dominant_emotion      Woman        Man      asian  ...  latino hispanic  \\\n",
       "0            neutral   0.819981  99.180013  15.249158  ...         2.830955   \n",
       "1              happy   0.023243  99.976760  15.494668  ...        14.484688   \n",
       "2              happy   0.020929  99.979073  20.841102  ...        21.581204   \n",
       "3              happy   0.005018  99.994981  19.948056  ...        20.680545   \n",
       "4              angry   0.250033  99.749964  68.513159  ...        11.787851   \n",
       "..               ...        ...        ...        ...  ...              ...   \n",
       "518              sad  16.430852  83.569151   2.311016  ...        12.097026   \n",
       "519            happy   0.004526  99.995470   0.165688  ...         4.443923   \n",
       "520            happy   0.018744  99.981254   4.673994  ...        18.736474   \n",
       "521            happy   0.000765  99.999237  13.421290  ...        26.710030   \n",
       "522            happy   0.045908  99.954093   0.000035  ...         0.592980   \n",
       "\n",
       "            angry       disgust          fear      happy           sad  \\\n",
       "0    1.330484e+01  5.173616e-03  5.204453e-02  25.734165  2.205486e+00   \n",
       "1    2.315515e+00  4.106932e-02  1.125872e-01  89.429759  7.633738e+00   \n",
       "2    6.361030e+00  4.951148e-04  2.651237e-01  93.242502  1.277062e-01   \n",
       "3    2.902971e-01  1.524007e-02  3.214409e+01  45.136628  2.329188e+00   \n",
       "4    5.459341e+01  1.438507e+00  1.369185e+01   0.007033  3.023464e+01   \n",
       "..            ...           ...           ...        ...           ...   \n",
       "518  7.360550e-03  3.722115e-10  3.423377e+01   0.000083  6.361927e+01   \n",
       "519  1.039246e-02  3.517482e-03  1.252302e+00  95.476043  2.484671e+00   \n",
       "520  3.549583e-08  4.891530e-19  2.096241e-13  94.780624  6.923909e-07   \n",
       "521  2.470559e-03  9.114701e-08  1.918607e-02  99.916446  3.928755e-04   \n",
       "522  1.293038e-08  5.222246e-20  3.812175e-12  99.999988  1.762783e-10   \n",
       "\n",
       "         surprise    neutral  Year_Cum_Ret_Overall  Tenure_Cum_Ret_Overall  \n",
       "0    1.407587e-02  58.684218              1.199198                6.198752  \n",
       "1    2.701521e-04   0.467070              1.010777                6.198752  \n",
       "2    7.527172e-05   0.003063              1.170588                6.198752  \n",
       "3    1.904275e-02  20.065513              1.274183                6.198752  \n",
       "4    1.645372e-02   0.018104              1.071481                6.198752  \n",
       "..            ...        ...                   ...                     ...  \n",
       "518  3.446239e-05   2.139485              1.312128                1.845980  \n",
       "519  4.947915e-03   0.768131              1.346332                1.845980  \n",
       "520  1.088270e-06   5.219376              0.967160                1.845980  \n",
       "521  4.649055e-02   0.015015              0.986361                1.845980  \n",
       "522  1.722674e-07   0.000014              2.678063                2.678063  \n",
       "\n",
       "[523 rows x 24 columns]"
      ]
     },
     "execution_count": 9,
     "metadata": {},
     "output_type": "execute_result"
    }
   ],
   "source": [
    "output_yearly = output_daily.groupby(['CEO', 'Year', 'Ticker'], as_index=False).first()\n",
    "\n",
    "output_yearly = output_yearly.drop(columns = ['Year_Cum_Ret_Daily', 'Tenure_Cum_Ret_Daily', 'Return'])\n",
    "\n",
    "output_yearly = output_yearly[['Year', 'Ticker', 'CEO', 'Age', 'dominant_gender', 'dominant_race', 'dominant_emotion', \n",
    "                  'Woman', 'Man', 'asian', 'indian', 'black', 'white',\n",
    "       'middle eastern', 'latino hispanic', 'angry', 'disgust', 'fear',\n",
    "       'happy', 'sad', 'surprise', 'neutral', 'Year_Cum_Ret_Overall',\n",
    "       'Tenure_Cum_Ret_Overall']]\n",
    "\n",
    "output_yearly.to_csv('outputs/output_yearly.csv', index=False)\n",
    "\n",
    "output_yearly"
   ]
  }
 ],
 "metadata": {
  "kernelspec": {
   "display_name": "Python [conda env:base] *",
   "language": "python",
   "name": "conda-base-py"
  },
  "language_info": {
   "codemirror_mode": {
    "name": "ipython",
    "version": 3
   },
   "file_extension": ".py",
   "mimetype": "text/x-python",
   "name": "python",
   "nbconvert_exporter": "python",
   "pygments_lexer": "ipython3",
   "version": "3.12.7"
  }
 },
 "nbformat": 4,
 "nbformat_minor": 5
}
